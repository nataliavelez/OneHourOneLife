{
 "cells": [
  {
   "cell_type": "code",
   "execution_count": 1,
   "metadata": {
    "ExecuteTime": {
     "end_time": "2021-07-14T08:57:59.942796Z",
     "start_time": "2021-07-14T08:57:50.771657Z"
    }
   },
   "outputs": [],
   "source": [
    "import pymongo, os, bson, json, glob, pickle, gridfs, sys, argparse, pickle\n",
    "from collections import Counter\n",
    "from sklearn.preprocessing import normalize\n",
    "from random import sample\n",
    "import matplotlib.pyplot as plt\n",
    "import pandas as pd\n",
    "import numpy as np\n",
    "import scipy.stats as stats\n",
    "from scipy.sparse import csr_matrix, random\n",
    "from bson.binary import Binary\n",
    "from os.path import join as opj\n",
    "from sklearn.decomposition import NMF\n",
    "from sklearn.decomposition import PCA\n",
    "from sklearn import metrics\n",
    "from collections import OrderedDict\n",
    "\n",
    "#Import utilities\n",
    "sys.path.append(\"..\")\n",
    "import dbfind #db search tool\n",
    "import utils\n",
    "db = dbfind.db \n"
   ]
  },
  {
   "cell_type": "code",
   "execution_count": 3,
   "metadata": {
    "ExecuteTime": {
     "end_time": "2021-07-14T09:00:17.375339Z",
     "start_time": "2021-07-14T09:00:17.337793Z"
    }
   },
   "outputs": [
    {
     "name": "stdout",
     "output_type": "stream",
     "text": [
      "['tfidf_matrix.files', 'maplogs', 'item_embeddings', 'tech_tree', 'lifelogs', 'item_links_demo', 'objects', 'randomized_job_matrix.chunks', 'random_avatar_embeddings', 'expanded_transitions', 'avatar_embeddings', 'tfidf_matrix.chunks', 'transitions', 'activity_matrix.files', 'activity_matrix.chunks', 'cleaned_job_matrix.chunks', 'cleaned_job_matrix.files', 'item_interactions', 'nmf_validation', 'random_item_embeddings', 'activity_labels', 'categories', 'randomized_job_matrix.files']\n"
     ]
    }
   ],
   "source": [
    "print(db.list_collection_names())"
   ]
  },
  {
   "cell_type": "markdown",
   "metadata": {},
   "source": [
    "# Construct family demographics"
   ]
  },
  {
   "cell_type": "code",
   "execution_count": 8,
   "metadata": {
    "ExecuteTime": {
     "end_time": "2021-07-14T09:05:02.320927Z",
     "start_time": "2021-07-14T09:04:33.357521Z"
    }
   },
   "outputs": [],
   "source": [
    "#create a list of all families\n",
    "familyList = [x for x in db.lifelogs.find().distinct('family')] #slow\n",
    "len(familyList)"
   ]
  },
  {
   "cell_type": "code",
   "execution_count": null,
   "metadata": {
    "ExecuteTime": {
     "start_time": "2021-07-14T09:09:05.070Z"
    }
   },
   "outputs": [],
   "source": [
    "#now count all families (incredibly slow)\n",
    "famDict = {}\n",
    "for fam in familyList:\n",
    "    famDict[fam]=db.lifelogs.count_documents({'family':fam})"
   ]
  },
  {
   "cell_type": "code",
   "execution_count": 14,
   "metadata": {
    "ExecuteTime": {
     "end_time": "2021-07-14T09:08:15.261329Z",
     "start_time": "2021-07-14T09:07:49.402362Z"
    }
   },
   "outputs": [
    {
     "name": "stdout",
     "output_type": "stream",
     "text": [
      "579\n"
     ]
    }
   ],
   "source": [
    "#Sort and filter the top 100 families\n",
    "sortedFamDict = sorted(data.items(), key=lambda x: x[1]['score'], reverse=True)[:100]"
   ]
  },
  {
   "cell_type": "code",
   "execution_count": 13,
   "metadata": {
    "ExecuteTime": {
     "end_time": "2021-07-14T09:06:49.041603Z",
     "start_time": "2021-07-14T09:06:49.038265Z"
    }
   },
   "outputs": [
    {
     "data": {
      "text/plain": [
       "'time-1617608595_eve-4106600_name-POLLY'"
      ]
     },
     "execution_count": 13,
     "metadata": {},
     "output_type": "execute_result"
    }
   ],
   "source": [
    "fam"
   ]
  },
  {
   "cell_type": "code",
   "execution_count": null,
   "metadata": {},
   "outputs": [],
   "source": []
  }
 ],
 "metadata": {
  "kernelspec": {
   "display_name": "Python 3",
   "language": "python",
   "name": "python3"
  },
  "language_info": {
   "codemirror_mode": {
    "name": "ipython",
    "version": 3
   },
   "file_extension": ".py",
   "mimetype": "text/x-python",
   "name": "python",
   "nbconvert_exporter": "python",
   "pygments_lexer": "ipython3",
   "version": "3.7.4"
  },
  "toc": {
   "base_numbering": 1,
   "nav_menu": {},
   "number_sections": true,
   "sideBar": true,
   "skip_h1_title": false,
   "title_cell": "Table of Contents",
   "title_sidebar": "Contents",
   "toc_cell": false,
   "toc_position": {},
   "toc_section_display": true,
   "toc_window_display": false
  }
 },
 "nbformat": 4,
 "nbformat_minor": 2
}
