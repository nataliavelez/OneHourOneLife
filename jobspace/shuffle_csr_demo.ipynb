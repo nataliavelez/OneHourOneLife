{
 "cells": [
  {
   "cell_type": "markdown",
   "metadata": {},
   "source": [
    "# Demo: Shuffling sparse matrices\n",
    "Natalia Vélez, June 2021\n",
    "\n",
    "(Feel free to move this to a `scratch/` folder or delete once done.) \n",
    "\n",
    "In this notebook, we'll load a sparse matrix and shuffle each row independently."
   ]
  },
  {
   "cell_type": "code",
   "execution_count": 1,
   "metadata": {},
   "outputs": [],
   "source": [
    "import pymongo, gridfs, pickle\n",
    "import numpy as np\n",
    "from scipy import sparse\n",
    "\n",
    "import sys\n",
    "sys.path.append('..')\n",
    "from utils import shuffle_csr"
   ]
  },
  {
   "cell_type": "markdown",
   "metadata": {},
   "source": [
    "## Load real data"
   ]
  },
  {
   "cell_type": "markdown",
   "metadata": {},
   "source": [
    "Connect to database"
   ]
  },
  {
   "cell_type": "code",
   "execution_count": 2,
   "metadata": {},
   "outputs": [
    {
     "name": "stdout",
     "output_type": "stream",
     "text": [
      "Database(MongoClient(host=['134.76.24.75:27017'], document_class=dict, tz_aware=False, connect=True, authsource='ohol'), 'ohol')\n",
      "['tfidf_matrix.files', 'maplogs', 'item_embeddings', 'tech_tree', 'lifelogs', 'item_links_demo', 'objects', 'expanded_transitions', 'avatar_embeddings', 'tfidf_matrix.chunks', 'transitions', 'activity_matrix.files', 'activity_matrix.chunks', 'cleaned_job_matrix.chunks', 'cleaned_job_matrix.files', 'item_interactions', 'nmf_validation', 'activity_labels', 'categories']\n"
     ]
    }
   ],
   "source": [
    "keyfile = '../6_database/credentials.key'\n",
    "creds = open(keyfile, \"r\").read().splitlines()\n",
    "myclient = pymongo.MongoClient('134.76.24.75', username=creds[0], password=creds[1], authSource='ohol') \n",
    "db = myclient.ohol\n",
    "\n",
    "print(db)\n",
    "print(db.list_collection_names())"
   ]
  },
  {
   "cell_type": "markdown",
   "metadata": {},
   "source": [
    "Activity matrix pointer"
   ]
  },
  {
   "cell_type": "code",
   "execution_count": 3,
   "metadata": {},
   "outputs": [
    {
     "name": "stdout",
     "output_type": "stream",
     "text": [
      "File metadata:\n",
      "[{'_id': ObjectId('6085c6c1affb2a7f0bf57a44'), 'uploadDate': datetime.datetime(2021, 4, 25, 19, 48, 18, 502000), 'length': 412799872, 'chunkSize': 261120, 'md5': 'bdcad93c8ef343607e2019d4f188b200'}]\n"
     ]
    }
   ],
   "source": [
    "# Get pointer from activity_matrix.files\n",
    "activity_file = list(db.activity_matrix.files.find())\n",
    "activity_id = activity_file[0]['_id']\n",
    "print('File metadata:')\n",
    "print(activity_file)"
   ]
  },
  {
   "cell_type": "markdown",
   "metadata": {},
   "source": [
    "Load activity matrix and check format"
   ]
  },
  {
   "cell_type": "code",
   "execution_count": 4,
   "metadata": {},
   "outputs": [
    {
     "name": "stdout",
     "output_type": "stream",
     "text": [
      "Loaded activity matrix:\n",
      "(763682, 3044)\n"
     ]
    }
   ],
   "source": [
    "#Load sparse matrix. This takes about 30 seconds\n",
    "fs = gridfs.GridFS(db, collection='activity_matrix')\n",
    "activity_bin = fs.get(activity_id)\n",
    "activity_mtx = pickle.load(activity_bin, encoding='latin1')\n",
    "print('Loaded activity matrix:')\n",
    "print(activity_mtx.shape)"
   ]
  },
  {
   "cell_type": "code",
   "execution_count": 5,
   "metadata": {},
   "outputs": [
    {
     "data": {
      "text/plain": [
       "<763682x3044 sparse matrix of type '<class 'numpy.float64'>'\n",
       "\twith 34145387 stored elements in Compressed Sparse Row format>"
      ]
     },
     "execution_count": 5,
     "metadata": {},
     "output_type": "execute_result"
    }
   ],
   "source": [
    "activity_mtx"
   ]
  },
  {
   "cell_type": "markdown",
   "metadata": {},
   "source": [
    "The activity matrix is in CSR format. From the [scipy documentation](https://docs.scipy.org/doc/scipy/reference/generated/scipy.sparse.csr_matrix.html):\n",
    "\n",
    "> column indices for row i are stored in `indices[indptr[i]:indptr[i+1]]` and their corresponding values are stored in `data[indptr[i]:indptr[i+1]]`. If the shape parameter is not supplied, the matrix dimensions are inferred from the index arrays.\n",
    "\n",
    "Example: Below, we've loaded the (a) column indices and (b) data for a single row."
   ]
  },
  {
   "cell_type": "code",
   "execution_count": 6,
   "metadata": {},
   "outputs": [
    {
     "name": "stdout",
     "output_type": "stream",
     "text": [
      "[   0    1    3    4    8    9   15   16   20   22   23   28   40   50\n",
      "   51   68   70   71  103  106  113  118  120  149  150  152  160  161\n",
      "  162  167  175  192  199  202  203  240  248  250  252  253  254  256\n",
      "  262  264  293  302  304  305  307  308  310  318  347  349  352  353\n",
      "  404  412  417  427  490  516  550  562  668  673  735  737  746  747\n",
      "  750  751  755  759  763  814  832  843  846  885  887  940  948  953\n",
      "  955  956 1003 1004 1005 1006 1007 1016 1341 1344 1345 1346 1347 1348\n",
      " 1353 1354 1355 1356 1357 1358 1359 1361 1363 1364 1365 1366 1368 1375\n",
      " 1382 1400 1408 1456 1481 1560 1562 1570 1639 1658 1694 1822 1832 1856\n",
      " 1886 1906 1918 1919 1927 1955 1967 2046 2048 2049 2110 2112 2156]\n",
      "[ 3.  1.  4.  3.  4.  1.  1.  3.  2.  7.  8.  8.  1.  4.  1.  2.  3.  3.\n",
      "  2.  2.  1.  7.  1. 12.  7.  1.  1.  1.  8.  5.  1.  2.  2.  2. 16.  4.\n",
      "  3.  4.  3.  1.  3. 10.  1.  2.  1.  1.  2.  1.  2. 37.  1.  1.  2.  1.\n",
      "  2.  2.  2.  1.  1.  1.  1.  6.  1.  4. 12.  1.  7.  8.  3.  1.  3.  2.\n",
      "  2.  2.  3.  1.  1.  1.  1.  1.  1.  2.  1.  1.  1.  2.  1.  9. 12.  7.\n",
      "  1.  1.  1.  2.  2.  1.  2.  1.  7.  3.  3.  6.  3.  1.  1.  2.  2.  4.\n",
      "  2.  4.  2.  1.  1.  3.  1.  1.  2.  1.  3.  4.  2.  1.  1.  3.  1.  1.\n",
      "  2.  4.  4.  1.  1.  1.  2.  1.  1.  2.  1. 24.  1.]\n"
     ]
    }
   ],
   "source": [
    "# Indices\n",
    "print(activity_mtx.indices[activity_mtx.indptr[2]:activity_mtx.indptr[3]])\n",
    "\n",
    "# Data\n",
    "print(activity_mtx.data[activity_mtx.indptr[2]:activity_mtx.indptr[3]])"
   ]
  },
  {
   "cell_type": "markdown",
   "metadata": {},
   "source": [
    "We'll test this out in two ways. First, we'll run it on a small, toy problem to check the outputs. Then, we'll run it on the full activity matrix to get a sense of how long this takes to shuffle."
   ]
  },
  {
   "cell_type": "markdown",
   "metadata": {},
   "source": [
    "## Demo on toy matrix"
   ]
  },
  {
   "cell_type": "code",
   "execution_count": 7,
   "metadata": {},
   "outputs": [
    {
     "name": "stdout",
     "output_type": "stream",
     "text": [
      "Original matrix:\n",
      "[[0 1 0 2]\n",
      " [0 3 0 4]\n",
      " [5 0 6 7]\n",
      " [8 0 9 0]]\n",
      "\n",
      "Shuffling...\n",
      "CPU times: user 592 µs, sys: 0 ns, total: 592 µs\n",
      "Wall time: 602 µs\n",
      "\n",
      "After shuffling:\n",
      "[[2 0 0 1]\n",
      " [0 3 0 4]\n",
      " [5 6 0 7]\n",
      " [9 8 0 0]]\n"
     ]
    }
   ],
   "source": [
    "toy_matrix = np.array([[0,1,0,2],\n",
    "                       [0,3,0,4],\n",
    "                       [5,0,6,7],\n",
    "                       [8,0,9,0]])\n",
    "toy_sparse = sparse.csr_matrix(toy_matrix)\n",
    "print('Original matrix:')\n",
    "print(toy_matrix)\n",
    "\n",
    "print('\\nShuffling...')\n",
    "%time toy_shuffled = shuffle_csr(toy_sparse)\n",
    "print('\\nAfter shuffling:')\n",
    "print(toy_shuffled.toarray())"
   ]
  },
  {
   "cell_type": "markdown",
   "metadata": {},
   "source": [
    "## Shuffle full activity matrix"
   ]
  },
  {
   "cell_type": "code",
   "execution_count": 8,
   "metadata": {},
   "outputs": [
    {
     "name": "stdout",
     "output_type": "stream",
     "text": [
      "CPU times: user 41.8 s, sys: 128 ms, total: 41.9 s\n",
      "Wall time: 42 s\n"
     ]
    }
   ],
   "source": [
    "%time activity_shuffled = shuffle_csr(activity_mtx)"
   ]
  },
  {
   "cell_type": "markdown",
   "metadata": {},
   "source": [
    "Check outputs:"
   ]
  },
  {
   "cell_type": "code",
   "execution_count": 11,
   "metadata": {},
   "outputs": [
    {
     "name": "stdout",
     "output_type": "stream",
     "text": [
      "Are these identical arrays?\n",
      "False\n",
      "\n",
      "Row sums:\n",
      "True\n",
      "\n",
      "Col sums:\n",
      "False\n"
     ]
    }
   ],
   "source": [
    "print('Are these identical arrays?')\n",
    "print((activity_mtx != activity_shuffled).nnz == 0)\n",
    "\n",
    "print('\\nRow sums:')\n",
    "print(np.array_equal(activity_mtx.sum(axis=1), activity_shuffled.sum(axis=1)))\n",
    "\n",
    "print('\\nCol sums:')\n",
    "print(np.array_equal(activity_mtx.sum(axis=0), activity_shuffled.sum(axis=0)))"
   ]
  }
 ],
 "metadata": {
  "kernelspec": {
   "display_name": "Python 3",
   "language": "python",
   "name": "python3"
  },
  "language_info": {
   "codemirror_mode": {
    "name": "ipython",
    "version": 3
   },
   "file_extension": ".py",
   "mimetype": "text/x-python",
   "name": "python",
   "nbconvert_exporter": "python",
   "pygments_lexer": "ipython3",
   "version": "3.7.4"
  },
  "toc": {
   "base_numbering": 1,
   "nav_menu": {},
   "number_sections": true,
   "sideBar": true,
   "skip_h1_title": false,
   "title_cell": "Table of Contents",
   "title_sidebar": "Contents",
   "toc_cell": false,
   "toc_position": {},
   "toc_section_display": true,
   "toc_window_display": false
  }
 },
 "nbformat": 4,
 "nbformat_minor": 5
}
