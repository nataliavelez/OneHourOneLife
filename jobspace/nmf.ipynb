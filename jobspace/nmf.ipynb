{
 "cells": [
  {
   "cell_type": "code",
   "execution_count": 62,
   "metadata": {
    "ExecuteTime": {
     "end_time": "2021-04-26T19:37:45.677103Z",
     "start_time": "2021-04-26T19:37:45.663013Z"
    }
   },
   "outputs": [],
   "source": [
    "import pymongo\n",
    "import os\n",
    "import bson\n",
    "import json\n",
    "import glob\n",
    "import pickle\n",
    "import gridfs\n",
    "from collections import Counter\n",
    "import seaborn as sns\n",
    "from sklearn.preprocessing import normalize\n",
    "import matplotlib.pyplot as plt\n",
    "import pandas as pd\n",
    "import numpy as np\n",
    "import scipy.stats as stats\n",
    "from scipy.sparse import csr_matrix\n",
    "from os.path import join as opj\n",
    "from tqdm import notebook\n",
    "from sklearn.decomposition import NMF\n",
    "from sklearn.decomposition import PCA\n",
    "import sys"
   ]
  },
  {
   "cell_type": "code",
   "execution_count": 2,
   "metadata": {
    "ExecuteTime": {
     "end_time": "2021-04-26T18:47:16.442123Z",
     "start_time": "2021-04-26T18:47:16.422057Z"
    }
   },
   "outputs": [],
   "source": [
    "sys.path.append(\"..\")\n",
    "import dbfind"
   ]
  },
  {
   "cell_type": "code",
   "execution_count": 3,
   "metadata": {
    "ExecuteTime": {
     "end_time": "2021-04-26T18:47:16.651085Z",
     "start_time": "2021-04-26T18:47:16.444176Z"
    }
   },
   "outputs": [
    {
     "name": "stdout",
     "output_type": "stream",
     "text": [
      "Database(MongoClient(host=['134.76.24.75:27017'], document_class=dict, tz_aware=False, connect=True, authsource='ohol'), 'ohol')\n",
      "['maplogs', 'tech_tree', 'lifelogs', 'maplogs_fixed', 'objects', 'expanded_transitions', 'transitions', 'activity_matrix.files', 'activity_matrix.chunks', 'activity_labels', 'categories']\n"
     ]
    }
   ],
   "source": [
    "keyfile = '../6_database/credentials.key'\n",
    "creds = open(keyfile, \"r\").read().splitlines()\n",
    "myclient = pymongo.MongoClient('134.76.24.75', username=creds[0], password=creds[1], authSource='ohol') \n",
    "db = myclient.ohol\n",
    "\n",
    "print(db)\n",
    "print(db.list_collection_names())"
   ]
  },
  {
   "cell_type": "markdown",
   "metadata": {},
   "source": [
    "## Import activity matrix chunks"
   ]
  },
  {
   "cell_type": "code",
   "execution_count": 4,
   "metadata": {
    "ExecuteTime": {
     "end_time": "2021-04-26T18:47:16.683322Z",
     "start_time": "2021-04-26T18:47:16.653091Z"
    }
   },
   "outputs": [
    {
     "name": "stdout",
     "output_type": "stream",
     "text": [
      "File metadata:\n",
      "[{'_id': ObjectId('6085c6c1affb2a7f0bf57a44'), 'uploadDate': datetime.datetime(2021, 4, 25, 19, 48, 18, 502000), 'length': 412799872, 'chunkSize': 261120, 'md5': 'bdcad93c8ef343607e2019d4f188b200'}]\n"
     ]
    }
   ],
   "source": [
    "# Get pointer from activity_matrix.files\n",
    "activity_file = list(db.activity_matrix.files.find())\n",
    "activity_id = activity_file[0]['_id']\n",
    "print('File metadata:')\n",
    "print(activity_file)\n"
   ]
  },
  {
   "cell_type": "code",
   "execution_count": 5,
   "metadata": {
    "ExecuteTime": {
     "end_time": "2021-04-26T18:48:06.675480Z",
     "start_time": "2021-04-26T18:47:16.685278Z"
    }
   },
   "outputs": [
    {
     "name": "stdout",
     "output_type": "stream",
     "text": [
      "Loaded activity matrix:\n"
     ]
    },
    {
     "data": {
      "text/plain": [
       "(763682, 3044)"
      ]
     },
     "execution_count": 5,
     "metadata": {},
     "output_type": "execute_result"
    }
   ],
   "source": [
    "#Load sparse matrix. This takes about 30 seconds\n",
    "fs = gridfs.GridFS(db, collection='activity_matrix')\n",
    "activity_bin = fs.get(activity_id)\n",
    "activity_mtx = pickle.load(activity_bin, encoding='latin1')\n",
    "print('Loaded activity matrix:')\n",
    "activity_mtx.shape"
   ]
  },
  {
   "cell_type": "code",
   "execution_count": 6,
   "metadata": {
    "ExecuteTime": {
     "end_time": "2021-04-26T18:48:09.630607Z",
     "start_time": "2021-04-26T18:48:06.677874Z"
    }
   },
   "outputs": [],
   "source": [
    "#Get item and avatar ids\n",
    "itemIds = db.activity_labels.find_one()['items'] #item ids for each column of the sparse acrivity matrix\n",
    "avatarIds = db.activity_labels.find_one()['avatars'] #avatar ids for each row of the sparse activity matrix"
   ]
  },
  {
   "cell_type": "markdown",
   "metadata": {
    "ExecuteTime": {
     "end_time": "2021-04-26T15:14:51.448938Z",
     "start_time": "2021-04-26T15:14:51.445595Z"
    }
   },
   "source": [
    "### Pre-processing"
   ]
  },
  {
   "cell_type": "code",
   "execution_count": 7,
   "metadata": {
    "ExecuteTime": {
     "end_time": "2021-04-26T18:48:09.647414Z",
     "start_time": "2021-04-26T18:48:09.632547Z"
    },
    "code_folding": [
     1
    ]
   },
   "outputs": [],
   "source": [
    "#Function to delete rows/columns\n",
    "def delete_from_csr(mat, row_indices=[], col_indices=[]):\n",
    "    \"\"\"\n",
    "    Remove the rows (denoted by ``row_indices``) and columns (denoted by ``col_indices``) from the CSR sparse matrix ``mat``.\n",
    "    WARNING: Indices of altered axes are reset in the returned matrix\n",
    "    \"\"\"\n",
    "    if not isinstance(mat, csr_matrix):\n",
    "        raise ValueError(\"works only for CSR format -- use .tocsr() first\")\n",
    "\n",
    "    rows = []\n",
    "    cols = []\n",
    "    if row_indices:\n",
    "        rows = list(row_indices)\n",
    "    if col_indices:\n",
    "        cols = list(col_indices)\n",
    "\n",
    "    if len(rows) > 0 and len(cols) > 0:\n",
    "        row_mask = np.ones(mat.shape[0], dtype=bool)\n",
    "        row_mask[rows] = False\n",
    "        col_mask = np.ones(mat.shape[1], dtype=bool)\n",
    "        col_mask[cols] = False\n",
    "        return mat[row_mask][:,col_mask]\n",
    "    elif len(rows) > 0:\n",
    "        mask = np.ones(mat.shape[0], dtype=bool)\n",
    "        mask[rows] = False\n",
    "        return mat[mask]\n",
    "    elif len(cols) > 0:\n",
    "        mask = np.ones(mat.shape[1], dtype=bool)\n",
    "        mask[cols] = False\n",
    "        return mat[:,mask]\n",
    "    else:\n",
    "        return mat"
   ]
  },
  {
   "cell_type": "markdown",
   "metadata": {
    "ExecuteTime": {
     "end_time": "2021-04-26T17:50:37.921205Z",
     "start_time": "2021-04-26T17:50:37.918902Z"
    }
   },
   "source": [
    "#### Remove rows (avatars)"
   ]
  },
  {
   "cell_type": "code",
   "execution_count": 8,
   "metadata": {
    "ExecuteTime": {
     "end_time": "2021-04-26T18:48:38.874646Z",
     "start_time": "2021-04-26T18:48:09.649122Z"
    }
   },
   "outputs": [
    {
     "data": {
      "text/plain": [
       "627018"
      ]
     },
     "execution_count": 8,
     "metadata": {},
     "output_type": "execute_result"
    }
   ],
   "source": [
    "#exclusion list for players who didn't make it to adulthood or disconnected\n",
    "exclusionIds = [q['avatar'] for q in db.lifelogs.find({\"$or\":[ {\"age\":{\"$lt\":14}}, {\"cause_of_death\":'disconnected'}]}, {'avatar'})]\n",
    "len(exclusionIds) #note, not all overlapping with the ids in the activity matrix, since many of these never generated any map change data"
   ]
  },
  {
   "cell_type": "code",
   "execution_count": 9,
   "metadata": {
    "ExecuteTime": {
     "end_time": "2021-04-26T18:48:39.044663Z",
     "start_time": "2021-04-26T18:48:38.876026Z"
    }
   },
   "outputs": [
    {
     "data": {
      "text/plain": [
       "101256"
      ]
     },
     "execution_count": 9,
     "metadata": {},
     "output_type": "execute_result"
    }
   ],
   "source": [
    "#Find the ids (rows in sparse activity_mtx) to delete\n",
    "deleteIds = np.nonzero(np.in1d(avatarIds,exclusionIds))[0]\n",
    "len(deleteIds)"
   ]
  },
  {
   "cell_type": "code",
   "execution_count": 10,
   "metadata": {
    "ExecuteTime": {
     "end_time": "2021-04-26T18:48:46.327182Z",
     "start_time": "2021-04-26T18:48:39.046546Z"
    }
   },
   "outputs": [],
   "source": [
    "#Delete excluded avatars\n",
    "activity_mtx = delete_from_csr(activity_mtx, row_indices = deleteIds.tolist())\n",
    "for index in sorted(deleteIds.tolist(), reverse=True):\n",
    "    del avatarIds[index]"
   ]
  },
  {
   "cell_type": "code",
   "execution_count": 11,
   "metadata": {
    "ExecuteTime": {
     "end_time": "2021-04-26T18:48:46.331432Z",
     "start_time": "2021-04-26T18:48:46.328749Z"
    }
   },
   "outputs": [
    {
     "name": "stdout",
     "output_type": "stream",
     "text": [
      "(662426, 3044)\n",
      "662426\n"
     ]
    }
   ],
   "source": [
    "#Check that all data is the right shape\n",
    "print(activity_mtx.shape)\n",
    "print(len(avatarIds))"
   ]
  },
  {
   "cell_type": "markdown",
   "metadata": {},
   "source": [
    "#### Remove columns (items)"
   ]
  },
  {
   "cell_type": "code",
   "execution_count": 12,
   "metadata": {
    "ExecuteTime": {
     "end_time": "2021-04-26T18:48:46.761612Z",
     "start_time": "2021-04-26T18:48:46.335380Z"
    }
   },
   "outputs": [
    {
     "data": {
      "text/plain": [
       "<matplotlib.axes._subplots.AxesSubplot at 0x7faba016a950>"
      ]
     },
     "execution_count": 12,
     "metadata": {},
     "output_type": "execute_result"
    },
    {
     "data": {
      "image/png": "[encoded data removed]",
      "text/plain": [
       "<Figure size 432x288 with 1 Axes>"
      ]
     },
     "metadata": {
      "needs_background": "light"
     },
     "output_type": "display_data"
    }
   ],
   "source": [
    "#look at distribution\n",
    "sns.distplot(activity_mtx.sum(axis = 1), bins = 100) #histrogram of item iteractions"
   ]
  },
  {
   "cell_type": "code",
   "execution_count": 13,
   "metadata": {
    "ExecuteTime": {
     "end_time": "2021-04-26T18:48:46.807675Z",
     "start_time": "2021-04-26T18:48:46.762990Z"
    }
   },
   "outputs": [
    {
     "data": {
      "text/plain": [
       "array([], dtype=int64)"
      ]
     },
     "execution_count": 13,
     "metadata": {},
     "output_type": "execute_result"
    }
   ],
   "source": [
    "deleteIds = np.where(activity_mtx.sum(axis = 1)==0)[0]\n",
    "deleteIds #Oh, there are no items with no interactions"
   ]
  },
  {
   "cell_type": "markdown",
   "metadata": {},
   "source": [
    "#### Finished preprocessing"
   ]
  },
  {
   "cell_type": "code",
   "execution_count": 14,
   "metadata": {
    "ExecuteTime": {
     "end_time": "2021-04-26T18:48:46.812112Z",
     "start_time": "2021-04-26T18:48:46.809636Z"
    }
   },
   "outputs": [],
   "source": [
    "jobMatrixCleaned = activity_mtx"
   ]
  },
  {
   "cell_type": "markdown",
   "metadata": {},
   "source": [
    "### TF-IDF normalization"
   ]
  },
  {
   "cell_type": "code",
   "execution_count": 15,
   "metadata": {
    "ExecuteTime": {
     "end_time": "2021-04-26T18:49:21.342220Z",
     "start_time": "2021-04-26T18:48:46.813770Z"
    }
   },
   "outputs": [],
   "source": [
    "#Term frequency: let's use augmented frequency, which prevents a bias towards longer documents (i.e., players who have many item interactions)\n",
    "#Each row vector v undergoes the following transformation:  tf(v) = 0.5 + (0.5*v)/(max(v))\n",
    "TF = jobMatrixCleaned.toarray() #convert to array\n",
    "TF = TF/jobMatrixCleaned.max(axis=1).toarray() #divide by max\n",
    "TF *= 0.5 \n",
    "TF += 0.5"
   ]
  },
  {
   "cell_type": "code",
   "execution_count": 21,
   "metadata": {
    "ExecuteTime": {
     "end_time": "2021-04-26T19:00:55.840952Z",
     "start_time": "2021-04-26T19:00:49.564257Z"
    }
   },
   "outputs": [],
   "source": [
    "#TODO: Some funny negative elements\n",
    "#Inverse document frequency\n",
    "#np.log(sum(itemVec)/len(itemVec[itemVec>0]))\n",
    "IDFcolsums = jobMatrixCleaned.sum(axis = 1)\n",
    "nonNegCounts = Counter(jobMatrixCleaned.nonzero()[1]) #Count non-negative elements in each column\n",
    "nonNeg = np.zeros(jobMatrixCleaned.shape[1])\n",
    "nonNeg[list(nonNegCounts.keys())] = list(nonNegCounts.values())\n",
    "IDF = np.log(IDFcolsums / nonNeg)"
   ]
  },
  {
   "cell_type": "code",
   "execution_count": 56,
   "metadata": {
    "ExecuteTime": {
     "end_time": "2021-04-26T19:29:22.555119Z",
     "start_time": "2021-04-26T19:28:24.386988Z"
    }
   },
   "outputs": [],
   "source": [
    "#Multiply together\n",
    "tfIdfMat = np.multiply(TF,IDF)"
   ]
  },
  {
   "cell_type": "code",
   "execution_count": 58,
   "metadata": {
    "ExecuteTime": {
     "end_time": "2021-04-26T19:35:35.170060Z",
     "start_time": "2021-04-26T19:30:05.859735Z"
    }
   },
   "outputs": [],
   "source": [
    "tfidfJobMatrix = jobMatrixCleaned.multiply(tfIdfMat)  #now compute tfidf"
   ]
  },
  {
   "cell_type": "code",
   "execution_count": 63,
   "metadata": {
    "ExecuteTime": {
     "end_time": "2021-04-26T19:37:55.605613Z",
     "start_time": "2021-04-26T19:37:55.047947Z"
    }
   },
   "outputs": [],
   "source": [
    "#Normalized rows\n",
    "tfidfJobMatrixNormalized = normalize(tfidfJobMatrix, norm='l1', axis=0)"
   ]
  },
  {
   "cell_type": "code",
   "execution_count": 65,
   "metadata": {
    "ExecuteTime": {
     "end_time": "2021-04-26T19:39:09.178138Z",
     "start_time": "2021-04-26T19:39:08.198886Z"
    }
   },
   "outputs": [],
   "source": [
    "#Save as pickle, because that took a really long time to compute\n",
    "with open('data/tfidfJobMatrixNormalized.pkl','wb') as f:\n",
    "    pickle.dump(tfidfJobMatrixNormalized, f)"
   ]
  },
  {
   "cell_type": "code",
   "execution_count": 70,
   "metadata": {
    "ExecuteTime": {
     "end_time": "2021-04-26T19:41:10.550760Z",
     "start_time": "2021-04-26T19:41:07.013600Z"
    }
   },
   "outputs": [
    {
     "data": {
      "text/plain": [
       "array([[ 0.00000000e+00,  0.00000000e+00,  0.00000000e+00, ...,\n",
       "         0.00000000e+00,  0.00000000e+00,  0.00000000e+00],\n",
       "       [ 0.00000000e+00,  0.00000000e+00,  0.00000000e+00, ...,\n",
       "         0.00000000e+00,  0.00000000e+00,  0.00000000e+00],\n",
       "       [-8.77317740e-07, -9.57204644e-07,  0.00000000e+00, ...,\n",
       "         0.00000000e+00,  0.00000000e+00,  0.00000000e+00],\n",
       "       ...,\n",
       "       [ 0.00000000e+00,  0.00000000e+00,  0.00000000e+00, ...,\n",
       "         0.00000000e+00,  0.00000000e+00,  0.00000000e+00],\n",
       "       [ 0.00000000e+00,  0.00000000e+00,  0.00000000e+00, ...,\n",
       "         0.00000000e+00,  0.00000000e+00,  0.00000000e+00],\n",
       "       [ 0.00000000e+00,  0.00000000e+00,  0.00000000e+00, ...,\n",
       "         0.00000000e+00,  0.00000000e+00,  0.00000000e+00]])"
      ]
     },
     "execution_count": 70,
     "metadata": {},
     "output_type": "execute_result"
    }
   ],
   "source": [
    "tfidfJobMatrixNormalized.toarray()"
   ]
  },
  {
   "cell_type": "markdown",
   "metadata": {},
   "source": [
    "## Non-negative matrix factorization"
   ]
  },
  {
   "cell_type": "code",
   "execution_count": 66,
   "metadata": {
    "ExecuteTime": {
     "end_time": "2021-04-26T19:39:50.426532Z",
     "start_time": "2021-04-26T19:39:49.746667Z"
    }
   },
   "outputs": [
    {
     "name": "stdout",
     "output_type": "stream",
     "text": [
      "(662426, 3044)\n"
     ]
    }
   ],
   "source": [
    "#Load from above\n",
    "with open('data/tfidfJobMatrixNormalized.pkl','rb') as f:\n",
    "    tfidfJobMatrixNormalized = pickle.load(f)\n",
    "    print(tfidfJobMatrixNormalized.shape)"
   ]
  },
  {
   "cell_type": "code",
   "execution_count": 67,
   "metadata": {
    "ExecuteTime": {
     "end_time": "2021-04-26T19:40:25.105265Z",
     "start_time": "2021-04-26T19:40:24.972104Z"
    }
   },
   "outputs": [
    {
     "ename": "ValueError",
     "evalue": "Negative values in data passed to NMF (input X)",
     "output_type": "error",
     "traceback": [
      "\u001b[0;31m---------------------------------------------------------------------------\u001b[0m",
      "\u001b[0;31mValueError\u001b[0m                                Traceback (most recent call last)",
      "\u001b[0;32m<ipython-input-67-68c9df6a4441>\u001b[0m in \u001b[0;36m<module>\u001b[0;34m\u001b[0m\n\u001b[1;32m      1\u001b[0m \u001b[0mmodel\u001b[0m \u001b[0;34m=\u001b[0m \u001b[0mNMF\u001b[0m\u001b[0;34m(\u001b[0m\u001b[0mn_components\u001b[0m\u001b[0;34m=\u001b[0m\u001b[0;36m20\u001b[0m\u001b[0;34m,\u001b[0m \u001b[0minit\u001b[0m\u001b[0;34m=\u001b[0m\u001b[0;34m'random'\u001b[0m\u001b[0;34m,\u001b[0m \u001b[0mrandom_state\u001b[0m\u001b[0;34m=\u001b[0m\u001b[0;36m0\u001b[0m\u001b[0;34m)\u001b[0m\u001b[0;34m\u001b[0m\u001b[0;34m\u001b[0m\u001b[0m\n\u001b[0;32m----> 2\u001b[0;31m \u001b[0mW\u001b[0m \u001b[0;34m=\u001b[0m \u001b[0mmodel\u001b[0m\u001b[0;34m.\u001b[0m\u001b[0mfit_transform\u001b[0m\u001b[0;34m(\u001b[0m\u001b[0mtfidfJobMatrixNormalized\u001b[0m\u001b[0;34m)\u001b[0m\u001b[0;34m\u001b[0m\u001b[0;34m\u001b[0m\u001b[0m\n\u001b[0m\u001b[1;32m      3\u001b[0m \u001b[0mH\u001b[0m \u001b[0;34m=\u001b[0m \u001b[0mmodel\u001b[0m\u001b[0;34m.\u001b[0m\u001b[0mcomponents_\u001b[0m\u001b[0;34m\u001b[0m\u001b[0;34m\u001b[0m\u001b[0m\n\u001b[1;32m      4\u001b[0m \u001b[0;31m#TODO: Save W and H matrices somewhere\u001b[0m\u001b[0;34m\u001b[0m\u001b[0;34m\u001b[0m\u001b[0;34m\u001b[0m\u001b[0m\n",
      "\u001b[0;32m/opt/anaconda3/lib/python3.7/site-packages/sklearn/decomposition/nmf.py\u001b[0m in \u001b[0;36mfit_transform\u001b[0;34m(self, X, y, W, H)\u001b[0m\n\u001b[1;32m   1270\u001b[0m             \u001b[0ml1_ratio\u001b[0m\u001b[0;34m=\u001b[0m\u001b[0mself\u001b[0m\u001b[0;34m.\u001b[0m\u001b[0ml1_ratio\u001b[0m\u001b[0;34m,\u001b[0m \u001b[0mregularization\u001b[0m\u001b[0;34m=\u001b[0m\u001b[0;34m'both'\u001b[0m\u001b[0;34m,\u001b[0m\u001b[0;34m\u001b[0m\u001b[0;34m\u001b[0m\u001b[0m\n\u001b[1;32m   1271\u001b[0m             \u001b[0mrandom_state\u001b[0m\u001b[0;34m=\u001b[0m\u001b[0mself\u001b[0m\u001b[0;34m.\u001b[0m\u001b[0mrandom_state\u001b[0m\u001b[0;34m,\u001b[0m \u001b[0mverbose\u001b[0m\u001b[0;34m=\u001b[0m\u001b[0mself\u001b[0m\u001b[0;34m.\u001b[0m\u001b[0mverbose\u001b[0m\u001b[0;34m,\u001b[0m\u001b[0;34m\u001b[0m\u001b[0;34m\u001b[0m\u001b[0m\n\u001b[0;32m-> 1272\u001b[0;31m             shuffle=self.shuffle)\n\u001b[0m\u001b[1;32m   1273\u001b[0m \u001b[0;34m\u001b[0m\u001b[0m\n\u001b[1;32m   1274\u001b[0m         self.reconstruction_err_ = _beta_divergence(X, W, H, self.beta_loss,\n",
      "\u001b[0;32m/opt/anaconda3/lib/python3.7/site-packages/sklearn/decomposition/nmf.py\u001b[0m in \u001b[0;36mnon_negative_factorization\u001b[0;34m(X, W, H, n_components, init, update_H, solver, beta_loss, tol, max_iter, alpha, l1_ratio, regularization, random_state, verbose, shuffle)\u001b[0m\n\u001b[1;32m   1000\u001b[0m \u001b[0;34m\u001b[0m\u001b[0m\n\u001b[1;32m   1001\u001b[0m     \u001b[0mX\u001b[0m \u001b[0;34m=\u001b[0m \u001b[0mcheck_array\u001b[0m\u001b[0;34m(\u001b[0m\u001b[0mX\u001b[0m\u001b[0;34m,\u001b[0m \u001b[0maccept_sparse\u001b[0m\u001b[0;34m=\u001b[0m\u001b[0;34m(\u001b[0m\u001b[0;34m'csr'\u001b[0m\u001b[0;34m,\u001b[0m \u001b[0;34m'csc'\u001b[0m\u001b[0;34m)\u001b[0m\u001b[0;34m,\u001b[0m \u001b[0mdtype\u001b[0m\u001b[0;34m=\u001b[0m\u001b[0mfloat\u001b[0m\u001b[0;34m)\u001b[0m\u001b[0;34m\u001b[0m\u001b[0;34m\u001b[0m\u001b[0m\n\u001b[0;32m-> 1002\u001b[0;31m     \u001b[0mcheck_non_negative\u001b[0m\u001b[0;34m(\u001b[0m\u001b[0mX\u001b[0m\u001b[0;34m,\u001b[0m \u001b[0;34m\"NMF (input X)\"\u001b[0m\u001b[0;34m)\u001b[0m\u001b[0;34m\u001b[0m\u001b[0;34m\u001b[0m\u001b[0m\n\u001b[0m\u001b[1;32m   1003\u001b[0m     \u001b[0mbeta_loss\u001b[0m \u001b[0;34m=\u001b[0m \u001b[0m_check_string_param\u001b[0m\u001b[0;34m(\u001b[0m\u001b[0msolver\u001b[0m\u001b[0;34m,\u001b[0m \u001b[0mregularization\u001b[0m\u001b[0;34m,\u001b[0m \u001b[0mbeta_loss\u001b[0m\u001b[0;34m,\u001b[0m \u001b[0minit\u001b[0m\u001b[0;34m)\u001b[0m\u001b[0;34m\u001b[0m\u001b[0;34m\u001b[0m\u001b[0m\n\u001b[1;32m   1004\u001b[0m \u001b[0;34m\u001b[0m\u001b[0m\n",
      "\u001b[0;32m/opt/anaconda3/lib/python3.7/site-packages/sklearn/utils/validation.py\u001b[0m in \u001b[0;36mcheck_non_negative\u001b[0;34m(X, whom)\u001b[0m\n\u001b[1;32m    939\u001b[0m \u001b[0;34m\u001b[0m\u001b[0m\n\u001b[1;32m    940\u001b[0m     \u001b[0;32mif\u001b[0m \u001b[0mX_min\u001b[0m \u001b[0;34m<\u001b[0m \u001b[0;36m0\u001b[0m\u001b[0;34m:\u001b[0m\u001b[0;34m\u001b[0m\u001b[0;34m\u001b[0m\u001b[0m\n\u001b[0;32m--> 941\u001b[0;31m         \u001b[0;32mraise\u001b[0m \u001b[0mValueError\u001b[0m\u001b[0;34m(\u001b[0m\u001b[0;34m\"Negative values in data passed to %s\"\u001b[0m \u001b[0;34m%\u001b[0m \u001b[0mwhom\u001b[0m\u001b[0;34m)\u001b[0m\u001b[0;34m\u001b[0m\u001b[0;34m\u001b[0m\u001b[0m\n\u001b[0m\u001b[1;32m    942\u001b[0m \u001b[0;34m\u001b[0m\u001b[0m\n\u001b[1;32m    943\u001b[0m \u001b[0;34m\u001b[0m\u001b[0m\n",
      "\u001b[0;31mValueError\u001b[0m: Negative values in data passed to NMF (input X)"
     ]
    }
   ],
   "source": [
    "model = NMF(n_components=20, init='random', random_state=0)\n",
    "W = model.fit_transform(tfidfJobMatrixNormalized)\n",
    "H = model.components_\n",
    "#TODO: Save W and H matrices somewhere"
   ]
  },
  {
   "cell_type": "code",
   "execution_count": 79,
   "metadata": {
    "ExecuteTime": {
     "end_time": "2021-04-26T16:15:40.096412Z",
     "start_time": "2021-04-26T16:15:38.682355Z"
    }
   },
   "outputs": [
    {
     "data": {
      "text/plain": [
       "Text(0.5, 69.0, 'Avatar')"
      ]
     },
     "execution_count": 79,
     "metadata": {},
     "output_type": "execute_result"
    },
    {
     "data": {
      "image/png": "[encoded data removed]",
      "text/plain": [
       "<Figure size 1728x720 with 2 Axes>"
      ]
     },
     "metadata": {
      "needs_background": "light"
     },
     "output_type": "display_data"
    }
   ],
   "source": [
    "#How well can we allocate players to different latent dimensions?\n",
    "plt.figure(figsize=(24, 10))\n",
    "ax = sns.heatmap(H,  cmap=\"viridis\") #x-axis are unique items and y-axis are the loadings\n",
    "ax.set_ylabel('Latent Dimensions')\n",
    "ax.set_xlabel('Item')"
   ]
  },
  {
   "cell_type": "code",
   "execution_count": 80,
   "metadata": {
    "ExecuteTime": {
     "end_time": "2021-04-26T16:15:56.576241Z",
     "start_time": "2021-04-26T16:15:56.432365Z"
    }
   },
   "outputs": [
    {
     "data": {
      "text/plain": [
       "(array([2., 6., 3., 3., 2., 1., 1., 1., 0., 1.]),\n",
       " array([ 18.88107916,  66.62608896, 114.37109876, 162.11610856,\n",
       "        209.86111837, 257.60612817, 305.35113797, 353.09614778,\n",
       "        400.84115758, 448.58616738, 496.33117719]),\n",
       " <a list of 10 Patch objects>)"
      ]
     },
     "execution_count": 80,
     "metadata": {},
     "output_type": "execute_result"
    },
    {
     "data": {
      "image/png": "[encoded data removed]",
      "text/plain": [
       "<Figure size 432x288 with 1 Axes>"
      ]
     },
     "metadata": {
      "needs_background": "light"
     },
     "output_type": "display_data"
    }
   ],
   "source": [
    "#What is the distribution of total loadings across items?\n",
    "plt.hist(H.sum(axis = 1))"
   ]
  },
  {
   "cell_type": "code",
   "execution_count": 103,
   "metadata": {
    "ExecuteTime": {
     "end_time": "2021-04-26T16:25:59.767107Z",
     "start_time": "2021-04-26T16:25:57.010447Z"
    }
   },
   "outputs": [
    {
     "name": "stdout",
     "output_type": "stream",
     "text": [
      "0\n",
      "Clay Bowl - empty : 6.8120444132321145\n",
      "Clay Plate : 5.281318431345624\n",
      "Stack of Clay Plates : 4.559362164510375\n",
      "Stack of Clay Bowls : 3.5584275175042097\n",
      "Raw Pie Crust : 2.9334422173128876\n",
      "\n",
      "1\n",
      "Escaped Horse-Drawn Tire Cart - just released : 8.488725047150051\n",
      "Flat Rock - empty : 0.8530341793411949\n",
      "Backpack : 0.44152544379150704\n",
      "Fence - +wall +horizontalFence : 0.3584895484303478\n",
      "3043 : 0.3404900610126829\n",
      "\n",
      "2\n",
      "Basket : 23.830429099410104\n",
      "Clay : 1.1288218423954985\n",
      "Bone Pile - origGrave : 0.9907219404843086\n",
      "Clay Pit -partial : 0.9450639297972276\n",
      "Canada Goose Pond : 0.6422782671203562\n",
      "\n",
      "3\n",
      "Bowl of Gooseberries - +yum31 : 69.33362279717113\n",
      "Clay Bowl - empty : 11.089074911608215\n",
      "Bowl of Gooseberries and Carrot : 8.191741410994128\n",
      "Domestic Gooseberry Bush : 3.957838544459421\n",
      "Empty Domestic Gooseberry Bush : 2.929986156466289\n",
      "\n",
      "4\n",
      "Fertile Soil Pile : 14.014829032191225\n",
      "Deep Tilled Row - groundOnly : 8.571782502418305\n",
      "Fertile Soil : 5.852950346590032\n",
      "Clay Bowl - empty : 4.833579233972857\n",
      "Shallow Tilled Row - groundOnly +biomeBlock4 : 3.7594954050141265\n",
      "\n",
      "5\n",
      "Dead Rabbit : 39.86490942035279\n",
      "Skinned Rabbit : 31.188485370337734\n",
      "Baited Snared Rabbit Family Hole -hiding : 28.769986930551603\n",
      "Snared Rabbit Family Hole -hiding : 28.735674761285733\n",
      "Rabbit Hole with Used Snare -family : 27.967568069740754\n",
      "\n",
      "6\n",
      "Wild Gooseberry Bush : 31.885664480066698\n",
      "Sharp Stone : 23.293079849635905\n",
      "Long Straight Shaft : 9.472448798311243\n",
      "Straight Branch : 8.086512451873924\n",
      "Milkweed Stalk : 7.04269199289297\n",
      "\n",
      "7\n",
      "Hand Cart with Tires : 33.52725569137595\n",
      "Springy Open Wooden Door - installed +autoDefaultTrans +horizontalOpenSpringyDoor +cornerOpenSpringyDoor : 3.6428900155583763\n",
      "Backpack : 2.0734645782077985\n",
      "Stack of Clay Bowls : 1.737891671428175\n",
      "3043 : 1.6251656267164254\n",
      "\n",
      "8\n",
      "Stack of Firewood : 13.203336282214496\n",
      "Firewood : 6.351185173851601\n",
      "Kindling : 5.433751028034886\n",
      "Steel Axe - +toolChopping : 5.022895830179916\n",
      "Butt Log : 4.034305095842448\n",
      "\n",
      "9\n",
      "Proposed Property Fence - groundOnly +horizontalA : 49.40682382792664\n",
      "Shaky Property Fence - +horizontalC : 10.88430311795393\n",
      "Shaky Property Fence - +verticalC : 8.519039510254826\n",
      "Property Fence Twigs - just set down : 8.235118105131582\n",
      "Property Fence Twigs : 5.1167238554996946\n",
      "\n",
      "10\n",
      "Firing Forge : 11.04466823293896\n",
      "Flat Rock - empty : 8.481939176911657\n",
      "Iron Ore Pile : 7.352849827127524\n",
      "Wooden Tongs - empty : 6.915405916104072\n",
      "Firebrand : 6.777413877630383\n",
      "\n",
      "11\n",
      "Partial Bucket of Water : 21.210901749887707\n",
      "Vigorous Domestic Gooseberry Bush : 15.640483697611343\n",
      "Dry Domestic Gooseberry Bush : 15.178625737631164\n",
      "Clay Bowl - empty : 12.655846783291109\n",
      "Fertile Soil Pile : 9.612079993494437\n",
      "\n",
      "12\n",
      "Snow Bank : 115.4647158720105\n",
      "Huge Snowball : 53.64214285423953\n",
      "Stakes - +tool : 23.44770194666843\n",
      "Floor Stakes : 20.134290403890862\n",
      "Snow Floor - Artic Only - groundOnly +biomeReq4 : 13.006661887451672\n",
      "\n",
      "13\n",
      "Domestic Gooseberry Bush : 35.697770003382175\n",
      "Empty Domestic Gooseberry Bush : 4.391735486134639\n",
      "Gooseberry : 2.8556031097220393\n",
      "Clay Bowl - empty : 1.455998268223788\n",
      "Springy Open Wooden Door - installed +autoDefaultTrans +horizontalOpenSpringyDoor +cornerOpenSpringyDoor : 0.8437884805908242\n",
      "\n",
      "14\n",
      "Stakes - +tool : 60.69665493644609\n",
      "Floor Stakes : 45.70142506921728\n",
      "Stone : 44.76163240984509\n",
      "Stone Road - groundOnly : 18.50278557811935\n",
      "Auto-Orienting Wall Stakes : 11.657183481347984\n",
      "\n",
      "15\n",
      "Partial Bucket of Water : 74.64694806569653\n",
      "Canada Goose Pond with Egg : 44.098541256748526\n",
      "Full Bucket of Water : 10.923012482906316\n",
      "Empty Bucket : 10.678010073187627\n",
      "Canada Goose Pond : 9.043687137433906\n",
      "\n",
      "16\n",
      "Milkweed Debris -Fruit : 42.03511613459427\n",
      "Bowl of Milkweed Seeds : 23.73438988859176\n",
      "Dry Planted Milkweed Seed : 23.12774946232639\n",
      "Wet Planted Milkweed Seed : 20.557871070549492\n",
      "Deep Tilled Row - groundOnly : 16.3760311360459\n",
      "\n",
      "17\n",
      "Escaped Horse-Drawn Cart - just released : 31.12242013217933\n",
      "3043 : 2.8361461258507936\n",
      "Backpack : 2.16338452771861\n",
      "Fence - +wall +horizontalFence : 2.1559124451098106\n",
      "Long Straight Shaft : 2.1052888550213127\n",
      "\n",
      "18\n",
      "Carrot Pile : 40.90167964134175\n",
      "Carrot Row : 38.58624353475601\n",
      "Carrot : 11.77710088906808\n",
      "Hardened Row : 10.014391966377387\n",
      "Clay Bowl - empty : 9.642963070241198\n",
      "\n",
      "19\n",
      "Hand Cart : 116.33756367307632\n",
      "Straight Branch : 5.388447100177857\n",
      "Long Straight Shaft : 5.217072083264102\n",
      "Maple Tree : 4.9396974587252\n",
      "Two Shafts : 4.557319319314304\n",
      "\n"
     ]
    }
   ],
   "source": [
    "#Which items most strongly defined each component?\n",
    "for C in range(H.shape[0]):\n",
    "    comp = H[C,] #component\n",
    "    items = comp.argsort()[-5:][::-1]#sort by weight; select the top 5 items\n",
    "    print(C)\n",
    "    for item in items:\n",
    "        try:\n",
    "            objname = dbfind.item(itemIds[item])[0][0] #relate to item id using the trimmed_idx, and then look up\n",
    "            weight = str(comp[item])\n",
    "            print(' : '.join([objname, weight]))\n",
    "        except:\n",
    "            print(' : '.join([str(int(item)), str(comp[item])]))\n",
    "    print('')\n"
   ]
  },
  {
   "cell_type": "code",
   "execution_count": 99,
   "metadata": {
    "ExecuteTime": {
     "end_time": "2021-04-26T16:24:04.845386Z",
     "start_time": "2021-04-26T16:24:04.795862Z"
    }
   },
   "outputs": [
    {
     "data": {
      "text/plain": [
       "'Clay Bowl - empty'"
      ]
     },
     "execution_count": 99,
     "metadata": {},
     "output_type": "execute_result"
    }
   ],
   "source": [
    "comp = H[C,] #component\n",
    "items = [itemIds[x] for x in comp.argsort()[-5:][::-1]]\n",
    "dbfind.item(235)[0][0]"
   ]
  },
  {
   "cell_type": "code",
   "execution_count": 101,
   "metadata": {
    "ExecuteTime": {
     "end_time": "2021-04-26T16:25:08.798844Z",
     "start_time": "2021-04-26T16:25:08.795276Z"
    }
   },
   "outputs": [
    {
     "data": {
      "text/plain": [
       "array([0.25288519, 0.        , 0.        , ..., 0.        , 0.        ,\n",
       "       0.34049006])"
      ]
     },
     "execution_count": 101,
     "metadata": {},
     "output_type": "execute_result"
    }
   ],
   "source": [
    "comp"
   ]
  },
  {
   "cell_type": "markdown",
   "metadata": {},
   "source": [
    "items = itemIds"
   ]
  },
  {
   "cell_type": "code",
   "execution_count": null,
   "metadata": {},
   "outputs": [],
   "source": []
  }
 ],
 "metadata": {
  "kernelspec": {
   "display_name": "Python 3",
   "language": "python",
   "name": "python3"
  },
  "language_info": {
   "codemirror_mode": {
    "name": "ipython",
    "version": 3
   },
   "file_extension": ".py",
   "mimetype": "text/x-python",
   "name": "python",
   "nbconvert_exporter": "python",
   "pygments_lexer": "ipython3",
   "version": "3.7.4"
  },
  "toc": {
   "base_numbering": 1,
   "nav_menu": {},
   "number_sections": true,
   "sideBar": true,
   "skip_h1_title": false,
   "title_cell": "Table of Contents",
   "title_sidebar": "Contents",
   "toc_cell": false,
   "toc_position": {},
   "toc_section_display": true,
   "toc_window_display": false
  }
 },
 "nbformat": 4,
 "nbformat_minor": 2
}
