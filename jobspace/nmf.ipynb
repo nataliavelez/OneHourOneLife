{
 "cells": [
  {
   "cell_type": "code",
   "execution_count": 3,
   "metadata": {
    "ExecuteTime": {
     "end_time": "2021-04-27T18:09:46.226735Z",
     "start_time": "2021-04-27T18:09:44.189964Z"
    }
   },
   "outputs": [],
   "source": [
    "import pymongo\n",
    "import os\n",
    "import bson\n",
    "import json\n",
    "import glob\n",
    "import pickle\n",
    "import gridfs\n",
    "from collections import Counter\n",
    "import seaborn as sns\n",
    "from sklearn.preprocessing import normalize\n",
    "import matplotlib.pyplot as plt\n",
    "import pandas as pd\n",
    "import numpy as np\n",
    "import scipy.stats as stats\n",
    "from scipy.sparse import csr_matrix\n",
    "from bson.binary import Binary\n",
    "from os.path import join as opj\n",
    "from tqdm import notebook\n",
    "from sklearn.decomposition import NMF\n",
    "from sklearn.decomposition import PCA\n",
    "import sys"
   ]
  },
  {
   "cell_type": "code",
   "execution_count": 30,
   "metadata": {
    "ExecuteTime": {
     "end_time": "2021-04-27T18:51:43.926783Z",
     "start_time": "2021-04-27T18:51:43.924026Z"
    }
   },
   "outputs": [],
   "source": [
    "sys.path.append(\"..\")\n",
    "import dbfind"
   ]
  },
  {
   "cell_type": "code",
   "execution_count": 5,
   "metadata": {
    "ExecuteTime": {
     "end_time": "2021-04-27T18:09:46.540802Z",
     "start_time": "2021-04-27T18:09:46.326096Z"
    }
   },
   "outputs": [
    {
     "name": "stdout",
     "output_type": "stream",
     "text": [
      "Database(MongoClient(host=['134.76.24.75:27017'], document_class=dict, tz_aware=False, connect=True, authsource='ohol'), 'ohol')\n",
      "['tfidf_matrix.files', 'maplogs', 'tech_tree', 'lifelogs', 'maplogs_fixed', 'objects', 'expanded_transitions', 'transitions', 'tfidf_matrix.chunks', 'activity_matrix.files', 'activity_matrix.chunks', 'cleaned_job_matrix.chunks', 'cleaned_job_matrix.files', 'activity_labels', 'categories']\n"
     ]
    }
   ],
   "source": [
    "keyfile = '../6_database/credentials.key'\n",
    "creds = open(keyfile, \"r\").read().splitlines()\n",
    "myclient = pymongo.MongoClient('134.76.24.75', username=creds[0], password=creds[1], authSource='ohol') \n",
    "db = myclient.ohol\n",
    "\n",
    "print(db)\n",
    "print(db.list_collection_names())"
   ]
  },
  {
   "cell_type": "markdown",
   "metadata": {},
   "source": [
    "## Import activity matrix chunks"
   ]
  },
  {
   "cell_type": "code",
   "execution_count": 71,
   "metadata": {
    "ExecuteTime": {
     "end_time": "2021-04-27T17:25:41.447013Z",
     "start_time": "2021-04-27T17:25:41.414706Z"
    }
   },
   "outputs": [
    {
     "name": "stdout",
     "output_type": "stream",
     "text": [
      "File metadata:\n",
      "[{'_id': ObjectId('6085c6c1affb2a7f0bf57a44'), 'uploadDate': datetime.datetime(2021, 4, 25, 19, 48, 18, 502000), 'length': 412799872, 'chunkSize': 261120, 'md5': 'bdcad93c8ef343607e2019d4f188b200'}]\n"
     ]
    }
   ],
   "source": [
    "# Get pointer from activity_matrix.files\n",
    "activity_file = list(db.activity_matrix.files.find())\n",
    "activity_id = activity_file[0]['_id']\n",
    "print('File metadata:')\n",
    "print(activity_file)\n"
   ]
  },
  {
   "cell_type": "code",
   "execution_count": 72,
   "metadata": {
    "ExecuteTime": {
     "end_time": "2021-04-27T17:26:28.066402Z",
     "start_time": "2021-04-27T17:25:41.779747Z"
    }
   },
   "outputs": [
    {
     "name": "stdout",
     "output_type": "stream",
     "text": [
      "Loaded activity matrix:\n"
     ]
    },
    {
     "data": {
      "text/plain": [
       "(763682, 3044)"
      ]
     },
     "execution_count": 72,
     "metadata": {},
     "output_type": "execute_result"
    }
   ],
   "source": [
    "#Load sparse matrix. This takes about 30 seconds\n",
    "fs = gridfs.GridFS(db, collection='activity_matrix')\n",
    "activity_bin = fs.get(activity_id)\n",
    "activity_mtx = pickle.load(activity_bin, encoding='latin1')\n",
    "print('Loaded activity matrix:')\n",
    "activity_mtx.shape"
   ]
  },
  {
   "cell_type": "code",
   "execution_count": 73,
   "metadata": {
    "ExecuteTime": {
     "end_time": "2021-04-27T17:26:30.154863Z",
     "start_time": "2021-04-27T17:26:28.068392Z"
    }
   },
   "outputs": [],
   "source": [
    "#Get item and avatar ids\n",
    "itemIds = db.activity_labels.find_one()['items'] #item ids for each column of the sparse activity matrix\n",
    "avatarIds = db.activity_labels.find_one()['avatars'] #avatar ids for each row of the sparse activity matrix"
   ]
  },
  {
   "cell_type": "markdown",
   "metadata": {},
   "source": [
    "### Testing"
   ]
  },
  {
   "cell_type": "code",
   "execution_count": 74,
   "metadata": {
    "ExecuteTime": {
     "end_time": "2021-04-27T17:26:30.159061Z",
     "start_time": "2021-04-27T17:26:30.157177Z"
    }
   },
   "outputs": [],
   "source": [
    "# #shorten data for testing\n",
    "# dataLength = 10000\n",
    "# activity_mtx = activity_mtx[1:dataLength,]\n",
    "# avatarIds = avatarIds[1:dataLength]\n",
    "# #Check data sizes\n",
    "# print(activity_mtx.shape)\n",
    "# print(len(avatarIds))"
   ]
  },
  {
   "cell_type": "markdown",
   "metadata": {
    "ExecuteTime": {
     "end_time": "2021-04-26T15:14:51.448938Z",
     "start_time": "2021-04-26T15:14:51.445595Z"
    }
   },
   "source": [
    "### Pre-processing"
   ]
  },
  {
   "cell_type": "code",
   "execution_count": 75,
   "metadata": {
    "ExecuteTime": {
     "end_time": "2021-04-27T17:26:30.179302Z",
     "start_time": "2021-04-27T17:26:30.161891Z"
    },
    "code_folding": [
     1
    ]
   },
   "outputs": [],
   "source": [
    "#Function to delete rows/columns\n",
    "def delete_from_csr(mat, row_indices=[], col_indices=[]):\n",
    "    \"\"\"\n",
    "    Remove the rows (denoted by ``row_indices``) and columns (denoted by ``col_indices``) from the CSR sparse matrix ``mat``.\n",
    "    WARNING: Indices of altered axes are reset in the returned matrix\n",
    "    \"\"\"\n",
    "    if not isinstance(mat, csr_matrix):\n",
    "        raise ValueError(\"works only for CSR format -- use .tocsr() first\")\n",
    "\n",
    "    rows = []\n",
    "    cols = []\n",
    "    if row_indices:\n",
    "        rows = list(row_indices)\n",
    "    if col_indices:\n",
    "        cols = list(col_indices)\n",
    "\n",
    "    if len(rows) > 0 and len(cols) > 0:\n",
    "        row_mask = np.ones(mat.shape[0], dtype=bool)\n",
    "        row_mask[rows] = False\n",
    "        col_mask = np.ones(mat.shape[1], dtype=bool)\n",
    "        col_mask[cols] = False\n",
    "        return mat[row_mask][:,col_mask]\n",
    "    elif len(rows) > 0:\n",
    "        mask = np.ones(mat.shape[0], dtype=bool)\n",
    "        mask[rows] = False\n",
    "        return mat[mask]\n",
    "    elif len(cols) > 0:\n",
    "        mask = np.ones(mat.shape[1], dtype=bool)\n",
    "        mask[cols] = False\n",
    "        return mat[:,mask]\n",
    "    else:\n",
    "        return mat"
   ]
  },
  {
   "cell_type": "markdown",
   "metadata": {
    "ExecuteTime": {
     "end_time": "2021-04-26T17:50:37.921205Z",
     "start_time": "2021-04-26T17:50:37.918902Z"
    }
   },
   "source": [
    "#### Remove rows (avatars)"
   ]
  },
  {
   "cell_type": "code",
   "execution_count": 76,
   "metadata": {
    "ExecuteTime": {
     "end_time": "2021-04-27T17:26:52.100948Z",
     "start_time": "2021-04-27T17:26:30.180805Z"
    }
   },
   "outputs": [
    {
     "data": {
      "text/plain": [
       "627018"
      ]
     },
     "execution_count": 76,
     "metadata": {},
     "output_type": "execute_result"
    }
   ],
   "source": [
    "#exclusion list for players who didn't make it to adulthood or disconnected\n",
    "exclusionIds = [q['avatar'] for q in db.lifelogs.find({\"$or\":[ {\"age\":{\"$lt\":14}}, {\"cause_of_death\":'disconnected'}]}, {'avatar'})]\n",
    "len(exclusionIds) #note, not all overlapping with the ids in the activity matrix, since many of these never generated any map change data"
   ]
  },
  {
   "cell_type": "code",
   "execution_count": 77,
   "metadata": {
    "ExecuteTime": {
     "end_time": "2021-04-27T17:26:52.269032Z",
     "start_time": "2021-04-27T17:26:52.103094Z"
    }
   },
   "outputs": [
    {
     "data": {
      "text/plain": [
       "101256"
      ]
     },
     "execution_count": 77,
     "metadata": {},
     "output_type": "execute_result"
    }
   ],
   "source": [
    "#Find the ids (rows in sparse activity_mtx) to delete\n",
    "deleteIds = np.nonzero(np.in1d(avatarIds,exclusionIds))[0]\n",
    "len(deleteIds)"
   ]
  },
  {
   "cell_type": "code",
   "execution_count": 78,
   "metadata": {
    "ExecuteTime": {
     "end_time": "2021-04-27T17:26:59.521723Z",
     "start_time": "2021-04-27T17:26:52.270794Z"
    }
   },
   "outputs": [],
   "source": [
    "#Delete excluded avatars\n",
    "activity_mtx = delete_from_csr(activity_mtx, row_indices = deleteIds.tolist())\n",
    "for index in sorted(deleteIds.tolist(), reverse=True):\n",
    "    del avatarIds[index]"
   ]
  },
  {
   "cell_type": "code",
   "execution_count": 79,
   "metadata": {
    "ExecuteTime": {
     "end_time": "2021-04-27T17:26:59.528276Z",
     "start_time": "2021-04-27T17:26:59.524976Z"
    }
   },
   "outputs": [
    {
     "name": "stdout",
     "output_type": "stream",
     "text": [
      "(662426, 3044)\n",
      "662426\n"
     ]
    }
   ],
   "source": [
    "#Check that all data is the right shape\n",
    "print(activity_mtx.shape)\n",
    "print(len(avatarIds))"
   ]
  },
  {
   "cell_type": "markdown",
   "metadata": {},
   "source": [
    "#### Remove columns (items)"
   ]
  },
  {
   "cell_type": "code",
   "execution_count": 80,
   "metadata": {
    "ExecuteTime": {
     "end_time": "2021-04-27T17:26:59.870806Z",
     "start_time": "2021-04-27T17:26:59.530947Z"
    }
   },
   "outputs": [
    {
     "data": {
      "text/plain": [
       "<matplotlib.axes._subplots.AxesSubplot at 0x7f941b3c08d0>"
      ]
     },
     "execution_count": 80,
     "metadata": {},
     "output_type": "execute_result"
    },
    {
     "data": {
      "image/png": "[encoded data removed]",
      "text/plain": [
       "<Figure size 432x288 with 1 Axes>"
      ]
     },
     "metadata": {
      "needs_background": "light"
     },
     "output_type": "display_data"
    }
   ],
   "source": [
    "#look at distribution\n",
    "sns.distplot(activity_mtx.sum(axis = 0), bins = 100) #histrogram of item iteractions"
   ]
  },
  {
   "cell_type": "code",
   "execution_count": 81,
   "metadata": {
    "ExecuteTime": {
     "end_time": "2021-04-27T17:26:59.918186Z",
     "start_time": "2021-04-27T17:26:59.872284Z"
    }
   },
   "outputs": [
    {
     "data": {
      "text/plain": [
       "0"
      ]
     },
     "execution_count": 81,
     "metadata": {},
     "output_type": "execute_result"
    }
   ],
   "source": [
    "#Which items to dete\n",
    "deleteIds = np.where(activity_mtx.sum(axis = 0)==0)[1]\n",
    "len(deleteIds)"
   ]
  },
  {
   "cell_type": "code",
   "execution_count": 82,
   "metadata": {
    "ExecuteTime": {
     "end_time": "2021-04-27T17:26:59.922396Z",
     "start_time": "2021-04-27T17:26:59.919684Z"
    }
   },
   "outputs": [],
   "source": [
    "#Delete excluded items\n",
    "activity_mtx = delete_from_csr(activity_mtx, col_indices = deleteIds.tolist())\n",
    "for index in sorted(deleteIds.tolist(), reverse=True):\n",
    "    del itemIds[index]"
   ]
  },
  {
   "cell_type": "code",
   "execution_count": 83,
   "metadata": {
    "ExecuteTime": {
     "end_time": "2021-04-27T17:26:59.926653Z",
     "start_time": "2021-04-27T17:26:59.923927Z"
    }
   },
   "outputs": [
    {
     "name": "stdout",
     "output_type": "stream",
     "text": [
      "(662426, 3044)\n",
      "3044\n"
     ]
    }
   ],
   "source": [
    "print(activity_mtx.shape)\n",
    "print(len(itemIds))"
   ]
  },
  {
   "cell_type": "markdown",
   "metadata": {},
   "source": [
    "#### Finished preprocessing"
   ]
  },
  {
   "cell_type": "code",
   "execution_count": 84,
   "metadata": {
    "ExecuteTime": {
     "end_time": "2021-04-27T17:26:59.943375Z",
     "start_time": "2021-04-27T17:26:59.928084Z"
    }
   },
   "outputs": [],
   "source": [
    "jobMatrixCleaned = activity_mtx"
   ]
  },
  {
   "cell_type": "code",
   "execution_count": 85,
   "metadata": {
    "ExecuteTime": {
     "end_time": "2021-04-27T17:26:59.947533Z",
     "start_time": "2021-04-27T17:26:59.944841Z"
    }
   },
   "outputs": [],
   "source": [
    "cleanedDict = {'mat' : jobMatrixCleaned, \n",
    "            'items' : itemIds,\n",
    "            'avatars': avatarIds}"
   ]
  },
  {
   "cell_type": "code",
   "execution_count": 86,
   "metadata": {
    "ExecuteTime": {
     "end_time": "2021-04-27T17:30:09.119555Z",
     "start_time": "2021-04-27T17:26:59.949007Z"
    }
   },
   "outputs": [
    {
     "data": {
      "text/plain": [
       "ObjectId('60884966960517b5ced2e75d')"
      ]
     },
     "execution_count": 86,
     "metadata": {},
     "output_type": "execute_result"
    }
   ],
   "source": [
    "#Save on database\n",
    "fs = gridfs.GridFS(db, collection='cleaned_job_matrix')\n",
    "fs.put(Binary(pickle.dumps(cleanedDict, protocol=2), subtype=128))"
   ]
  },
  {
   "cell_type": "markdown",
   "metadata": {},
   "source": [
    "### TF-IDF normalization"
   ]
  },
  {
   "cell_type": "code",
   "execution_count": 87,
   "metadata": {
    "ExecuteTime": {
     "end_time": "2021-04-27T17:30:09.211462Z",
     "start_time": "2021-04-27T17:30:09.122113Z"
    }
   },
   "outputs": [
    {
     "ename": "EOFError",
     "evalue": "Ran out of input",
     "output_type": "error",
     "traceback": [
      "\u001b[0;31m---------------------------------------------------------------------------\u001b[0m",
      "\u001b[0;31mEOFError\u001b[0m                                  Traceback (most recent call last)",
      "\u001b[0;32m<ipython-input-87-4d9c8ad4cd33>\u001b[0m in \u001b[0;36m<module>\u001b[0;34m\u001b[0m\n\u001b[1;32m      3\u001b[0m \u001b[0mfs\u001b[0m \u001b[0;34m=\u001b[0m \u001b[0mgridfs\u001b[0m\u001b[0;34m.\u001b[0m\u001b[0mGridFS\u001b[0m\u001b[0;34m(\u001b[0m\u001b[0mdb\u001b[0m\u001b[0;34m,\u001b[0m \u001b[0mcollection\u001b[0m\u001b[0;34m=\u001b[0m\u001b[0;34m'cleaned_job_matrix'\u001b[0m\u001b[0;34m)\u001b[0m\u001b[0;34m\u001b[0m\u001b[0;34m\u001b[0m\u001b[0m\n\u001b[1;32m      4\u001b[0m \u001b[0mmat_bin\u001b[0m \u001b[0;34m=\u001b[0m \u001b[0mfs\u001b[0m\u001b[0;34m.\u001b[0m\u001b[0mget\u001b[0m\u001b[0;34m(\u001b[0m\u001b[0mmat_id\u001b[0m\u001b[0;34m)\u001b[0m \u001b[0;31m#extract binary\u001b[0m\u001b[0;34m\u001b[0m\u001b[0;34m\u001b[0m\u001b[0m\n\u001b[0;32m----> 5\u001b[0;31m \u001b[0mmat_dict\u001b[0m \u001b[0;34m=\u001b[0m \u001b[0mpickle\u001b[0m\u001b[0;34m.\u001b[0m\u001b[0mload\u001b[0m\u001b[0;34m(\u001b[0m\u001b[0mactivity_bin\u001b[0m\u001b[0;34m,\u001b[0m \u001b[0mencoding\u001b[0m\u001b[0;34m=\u001b[0m\u001b[0;34m'latin1'\u001b[0m\u001b[0;34m)\u001b[0m\u001b[0;34m\u001b[0m\u001b[0;34m\u001b[0m\u001b[0m\n\u001b[0m\u001b[1;32m      6\u001b[0m \u001b[0mjobMatrixCleaned\u001b[0m \u001b[0;34m=\u001b[0m \u001b[0mmat_dict\u001b[0m\u001b[0;34m[\u001b[0m\u001b[0;34m'mat'\u001b[0m\u001b[0;34m]\u001b[0m\u001b[0;34m\u001b[0m\u001b[0;34m\u001b[0m\u001b[0m\n\u001b[1;32m      7\u001b[0m \u001b[0mitemIds\u001b[0m \u001b[0;34m=\u001b[0m \u001b[0mmat_dict\u001b[0m\u001b[0;34m[\u001b[0m\u001b[0;34m'items'\u001b[0m\u001b[0;34m]\u001b[0m\u001b[0;34m\u001b[0m\u001b[0;34m\u001b[0m\u001b[0m\n",
      "\u001b[0;31mEOFError\u001b[0m: Ran out of input"
     ]
    }
   ],
   "source": [
    "#Load cleaned matrix. This takes about 30 seconds\n",
    "mat_id = list(db.cleaned_job_matrix.files.find())[0]['_id'] #get id\n",
    "fs = gridfs.GridFS(db, collection='cleaned_job_matrix') \n",
    "mat_bin = fs.get(mat_id) #extract binary\n",
    "mat_dict = pickle.load(mat_bin, encoding='latin1')\n",
    "jobMatrixCleaned = mat_dict['mat']\n",
    "itemIds = mat_dict['items']\n",
    "avatarIds = mat_dict['avatars']\n",
    "print('Loaded Job matrix:')\n",
    "jobMatrixCleaned.shape"
   ]
  },
  {
   "cell_type": "code",
   "execution_count": 19,
   "metadata": {
    "ExecuteTime": {
     "end_time": "2021-04-27T16:44:02.874717Z",
     "start_time": "2021-04-27T16:44:02.872685Z"
    },
    "code_folding": [
     0
    ]
   },
   "outputs": [],
   "source": [
    "# # test using old, ineffecient method\n",
    "# jobMatrixCleaned = jobMatrixCleaned.toarray()\n",
    "# #Term frequency: let's use augmented frequency, which prevents a bias towards longer documents (i.e., players who have many item interactions)\n",
    "# def tf(avatarVec):\n",
    "#     return(0.5 + ((0.5* avatarVec) / max(avatarVec)))\n",
    "\n",
    "# #inverse document frequency:\n",
    "# def idf(itemVec):\n",
    "#     return(np.log(sum(itemVec)/len(itemVec[itemVec>0])))\n",
    "\n",
    "# #compute tf and idf mats\n",
    "# tfMat = np.ones(jobMatrixCleaned.shape)\n",
    "# for row in range(jobMatrixCleaned.shape[0]):\n",
    "#     tfMat[row,:] = tf(jobMatrixCleaned[row,:]) \n",
    "# idfMat = np.ones(jobMatrixCleaned.shape)\n",
    "# for col in range(jobMatrixCleaned.shape[1]):\n",
    "#     idfMat[:,col] = idf(jobMatrixCleaned[:,col]) \n",
    "# tfIdfMat = tfMat * idfMat\n",
    "\n",
    "# tfidfJobMatrix = tfIdfMat * jobMatrixCleaned #now compute tfidf\n",
    "\n",
    "# row_sums = tfidfJobMatrix.sum(axis=1)\n",
    "# tfidfJobMatrixNormalized = tfidfJobMatrix / row_sums[:, np.newaxis]\n",
    "# tfidfJobMatrixNormalized = np.nan_to_num(tfidfJobMatrixNormalized)"
   ]
  },
  {
   "cell_type": "code",
   "execution_count": 20,
   "metadata": {
    "ExecuteTime": {
     "end_time": "2021-04-27T16:44:38.126225Z",
     "start_time": "2021-04-27T16:44:02.876049Z"
    }
   },
   "outputs": [],
   "source": [
    "#Term frequency: let's use augmented frequency, which prevents a bias towards longer documents (i.e., players who have many item interactions)\n",
    "#Each row vector v undergoes the following transformation:  tf(v) = 0.5 + (0.5*v)/(max(v))\n",
    "TF = jobMatrixCleaned.toarray() #convert to array\n",
    "TF = TF/jobMatrixCleaned.max(axis=1).toarray() #divide by max\n",
    "TF *= 0.5 \n",
    "TF += 0.5"
   ]
  },
  {
   "cell_type": "code",
   "execution_count": 21,
   "metadata": {
    "ExecuteTime": {
     "end_time": "2021-04-27T16:44:45.404776Z",
     "start_time": "2021-04-27T16:44:38.136426Z"
    }
   },
   "outputs": [],
   "source": [
    "#TODO: Some funny negative elements\n",
    "#Inverse document frequency\n",
    "#np.log(sum(itemVec)/len(itemVec[itemVec>0]))\n",
    "IDFcolsums = jobMatrixCleaned.sum(axis = 0)\n",
    "nonNegCounts = Counter(jobMatrixCleaned.nonzero()[1]) #Count non-negative elements in each column\n",
    "nonNeg = np.ones(jobMatrixCleaned.shape[1])\n",
    "nonNeg[list(nonNegCounts.keys())] = list(nonNegCounts.values())\n",
    "IDF = np.log(IDFcolsums / nonNeg)"
   ]
  },
  {
   "cell_type": "code",
   "execution_count": 22,
   "metadata": {
    "ExecuteTime": {
     "end_time": "2021-04-27T16:45:27.325661Z",
     "start_time": "2021-04-27T16:44:45.406498Z"
    }
   },
   "outputs": [],
   "source": [
    "#Multiply together\n",
    "tfIdfMat = np.multiply(TF, IDF)"
   ]
  },
  {
   "cell_type": "code",
   "execution_count": 23,
   "metadata": {
    "ExecuteTime": {
     "end_time": "2021-04-27T16:46:18.145158Z",
     "start_time": "2021-04-27T16:45:27.337092Z"
    }
   },
   "outputs": [],
   "source": [
    "tfidfJobMatrix = jobMatrixCleaned.multiply(tfIdfMat)  #now compute tfidf"
   ]
  },
  {
   "cell_type": "code",
   "execution_count": 24,
   "metadata": {
    "ExecuteTime": {
     "end_time": "2021-04-27T16:46:18.206714Z",
     "start_time": "2021-04-27T16:46:18.158710Z"
    }
   },
   "outputs": [
    {
     "data": {
      "text/plain": [
       "<662426x3044 sparse matrix of type '<class 'numpy.float64'>'\n",
       "\twith 33354803 stored elements in COOrdinate format>"
      ]
     },
     "execution_count": 24,
     "metadata": {},
     "output_type": "execute_result"
    }
   ],
   "source": [
    "tfidfJobMatrix"
   ]
  },
  {
   "cell_type": "code",
   "execution_count": 35,
   "metadata": {
    "ExecuteTime": {
     "end_time": "2021-04-27T16:57:10.134747Z",
     "start_time": "2021-04-27T16:57:08.758498Z"
    }
   },
   "outputs": [],
   "source": [
    "#Normalized rows\n",
    "tfidfJobMatrixNormalized = normalize(tfidfJobMatrix, norm='l1', axis=1)"
   ]
  },
  {
   "cell_type": "code",
   "execution_count": 51,
   "metadata": {
    "ExecuteTime": {
     "end_time": "2021-04-27T17:15:34.521981Z",
     "start_time": "2021-04-27T17:15:34.517533Z"
    }
   },
   "outputs": [],
   "source": [
    "tfidfDict = {'mat' : tfidfJobMatrixNormalized, \n",
    "            'items' : itemIds,\n",
    "            'avatars': avatarIds}"
   ]
  },
  {
   "cell_type": "code",
   "execution_count": 55,
   "metadata": {
    "ExecuteTime": {
     "end_time": "2021-04-27T17:20:12.862417Z",
     "start_time": "2021-04-27T17:16:07.143016Z"
    }
   },
   "outputs": [
    {
     "data": {
      "text/plain": [
       "ObjectId('608846da960517b5ced2defe')"
      ]
     },
     "execution_count": 55,
     "metadata": {},
     "output_type": "execute_result"
    }
   ],
   "source": [
    "#Save on database\n",
    "# fs = gridfs.GridFS(db, collection='tfidf_matrix')\n",
    "# fs.put(Binary(pickle.dumps(tfidfDict, protocol=2), subtype=128))"
   ]
  },
  {
   "cell_type": "markdown",
   "metadata": {},
   "source": [
    "## Non-negative matrix factorization"
   ]
  },
  {
   "cell_type": "markdown",
   "metadata": {},
   "source": [
    "### Load data"
   ]
  },
  {
   "cell_type": "code",
   "execution_count": 45,
   "metadata": {
    "ExecuteTime": {
     "end_time": "2021-04-27T17:10:23.778345Z",
     "start_time": "2021-04-27T17:09:14.732768Z"
    }
   },
   "outputs": [
    {
     "name": "stdout",
     "output_type": "stream",
     "text": [
      "Loaded Job matrix:\n"
     ]
    },
    {
     "data": {
      "text/plain": [
       "(662426, 3044)"
      ]
     },
     "execution_count": 45,
     "metadata": {},
     "output_type": "execute_result"
    }
   ],
   "source": [
    "#Load tfidf matrix. This takes about 30 seconds\n",
    "# mat_id = list(db.tfidf_matrix.files.find())[0]['_id'] #get id\n",
    "# fs = gridfs.GridFS(db, collection='tfidf_matrix') \n",
    "# mat_bin = fs.get(mat_id) #extract binary\n",
    "# mat_dict = pickle.load(activity_bin, encoding='latin1')\n",
    "# tfidfJobMatrixNormalized = mat_dict['mat']\n",
    "# itemIds = mat_dict['items']\n",
    "# avatarIds = mat_dict['avatars']\n",
    "# print('Loaded Job matrix:')\n",
    "# tfidfJobMatrixNormalized.shape"
   ]
  },
  {
   "cell_type": "code",
   "execution_count": 7,
   "metadata": {
    "ExecuteTime": {
     "end_time": "2021-04-27T18:12:39.306928Z",
     "start_time": "2021-04-27T18:11:24.376074Z"
    }
   },
   "outputs": [
    {
     "name": "stdout",
     "output_type": "stream",
     "text": [
      "Loaded Job matrix:\n"
     ]
    },
    {
     "data": {
      "text/plain": [
       "(662426, 3044)"
      ]
     },
     "execution_count": 7,
     "metadata": {},
     "output_type": "execute_result"
    }
   ],
   "source": [
    "#Load cleaned matrix. This takes about 30 seconds\n",
    "mat_id = list(db.cleaned_job_matrix.files.find())[0]['_id'] #get id\n",
    "fs = gridfs.GridFS(db, collection='cleaned_job_matrix') \n",
    "mat_bin = fs.get(mat_id) #extract binary\n",
    "mat_dict = pickle.load(mat_bin, encoding='latin1')\n",
    "jobMatrixCleaned = mat_dict['mat']\n",
    "itemIds = mat_dict['items']\n",
    "avatarIds = mat_dict['avatars']\n",
    "print('Loaded Job matrix:')\n",
    "jobMatrixCleaned.shape"
   ]
  },
  {
   "cell_type": "markdown",
   "metadata": {},
   "source": [
    "### Fit Model"
   ]
  },
  {
   "cell_type": "code",
   "execution_count": 17,
   "metadata": {
    "ExecuteTime": {
     "end_time": "2021-04-27T18:28:05.239421Z",
     "start_time": "2021-04-27T18:25:33.010033Z"
    }
   },
   "outputs": [],
   "source": [
    "#Fit model\n",
    "model = NMF(n_components=20, init='random', random_state=0)\n",
    "W = model.fit_transform(jobMatrixCleaned) #cleaned matrix (row normalized)\n",
    "#W = model.fit_transform(tfidfJobMatrixNormalized) #TFIDF transformed matrix\n",
    "H = model.components_\n",
    "#TODO: Save W and H matrices somewhere"
   ]
  },
  {
   "cell_type": "markdown",
   "metadata": {},
   "source": [
    "### Save/load outputs"
   ]
  },
  {
   "cell_type": "code",
   "execution_count": 28,
   "metadata": {
    "ExecuteTime": {
     "end_time": "2021-04-27T18:49:07.861001Z",
     "start_time": "2021-04-27T18:49:05.033597Z"
    }
   },
   "outputs": [],
   "source": [
    "#Save outputs\n",
    "Hdict = [{'item':itemIds[i], 'vec':H[:,i].tolist()} for i in range(len(itemIds))] #Item embeddings\n",
    "Wdict = [{'avatar':avatarIds[i], 'vec':W[i,:].tolist()} for i in range(len(avatarIds))] #avatar embeddings"
   ]
  },
  {
   "cell_type": "code",
   "execution_count": 29,
   "metadata": {
    "ExecuteTime": {
     "end_time": "2021-04-27T18:50:24.997935Z",
     "start_time": "2021-04-27T18:49:07.862762Z"
    }
   },
   "outputs": [
    {
     "data": {
      "text/plain": [
       "<pymongo.results.InsertManyResult at 0x7f83b6f22640>"
      ]
     },
     "execution_count": 29,
     "metadata": {},
     "output_type": "execute_result"
    }
   ],
   "source": [
    "db.item_embeddings.insert_many(Hdict)\n",
    "db.avatar_embeddings.insert_many(Wdict)"
   ]
  },
  {
   "cell_type": "code",
   "execution_count": 37,
   "metadata": {
    "ExecuteTime": {
     "end_time": "2021-04-27T18:55:33.223307Z",
     "start_time": "2021-04-27T18:55:33.221437Z"
    }
   },
   "outputs": [],
   "source": [
    "#Load and reconstruct"
   ]
  },
  {
   "cell_type": "code",
   "execution_count": null,
   "metadata": {},
   "outputs": [],
   "source": [
    "db.item_embeddings.find()"
   ]
  },
  {
   "cell_type": "code",
   "execution_count": 9,
   "metadata": {
    "ExecuteTime": {
     "end_time": "2021-04-27T18:22:10.783524Z",
     "start_time": "2021-04-27T18:22:09.181410Z"
    }
   },
   "outputs": [
    {
     "data": {
      "text/plain": [
       "Text(0.5, 69.0, 'Item')"
      ]
     },
     "execution_count": 9,
     "metadata": {},
     "output_type": "execute_result"
    },
    {
     "data": {
      "image/png": "[encoded data removed]",
      "text/plain": [
       "<Figure size 1728x720 with 2 Axes>"
      ]
     },
     "metadata": {
      "needs_background": "light"
     },
     "output_type": "display_data"
    }
   ],
   "source": [
    "#How well can we allocate items to different latent dimensions?\n",
    "plt.figure(figsize=(24, 10))\n",
    "ax = sns.heatmap(H,  cmap=\"viridis\") #x-axis are unique items and y-axis are the loadings\n",
    "ax.set_ylabel('Latent Dimensions')\n",
    "ax.set_xlabel('Item')"
   ]
  },
  {
   "cell_type": "code",
   "execution_count": 10,
   "metadata": {
    "ExecuteTime": {
     "end_time": "2021-04-27T18:22:13.634189Z",
     "start_time": "2021-04-27T18:22:13.493028Z"
    }
   },
   "outputs": [
    {
     "data": {
      "text/plain": [
       "(array([3., 4., 5., 2., 3., 1., 1., 0., 0., 1.]),\n",
       " array([2.44381954e-02, 2.98185803e+00, 5.93927786e+00, 8.89669770e+00,\n",
       "        1.18541175e+01, 1.48115374e+01, 1.77689572e+01, 2.07263770e+01,\n",
       "        2.36837969e+01, 2.66412167e+01, 2.95986365e+01]),\n",
       " <a list of 10 Patch objects>)"
      ]
     },
     "execution_count": 10,
     "metadata": {},
     "output_type": "execute_result"
    },
    {
     "data": {
      "image/png": "[encoded data removed]",
      "text/plain": [
       "<Figure size 432x288 with 1 Axes>"
      ]
     },
     "metadata": {
      "needs_background": "light"
     },
     "output_type": "display_data"
    }
   ],
   "source": [
    "#What is the distribution of total loadings across items?\n",
    "plt.hist(H.sum(axis = 1))"
   ]
  },
  {
   "cell_type": "code",
   "execution_count": 11,
   "metadata": {
    "ExecuteTime": {
     "end_time": "2021-04-27T18:22:21.494029Z",
     "start_time": "2021-04-27T18:22:18.542179Z"
    }
   },
   "outputs": [
    {
     "name": "stdout",
     "output_type": "stream",
     "text": [
      "0\n",
      "Fresh Grave - origGrave fromDeath : 4.2928382589779055\n",
      "Gooseberry : 0.07998999310074442\n",
      "Large Slow Fire : 0.0721470602848995\n",
      "Pine Needles : 0.06195150315283329\n",
      "Juniper Tree : 0.05981061124881037\n",
      "\n",
      "1\n",
      "Baby Bone Pile - origGrave justDied fromDeath : 13.92701897565167\n",
      "Reed Skirt : 0.011712676017880121\n",
      "Sheep Skin : 0.00876472948903939\n",
      "Undyed Button-down Shirt : 0.007261020330500999\n",
      "Ghost Costume : 0.006453126500676567\n",
      "\n",
      "2\n",
      "Straight Branch : 2.5172174089697004\n",
      "Long Straight Shaft : 1.8429405386548536\n",
      "Maple Tree : 1.0605633341628324\n",
      "Kindling : 0.7672167793305401\n",
      "Milkweed Stalk : 0.6951826583485332\n",
      "\n",
      "3\n",
      "Fresh Grave - origGrave fromDeath : 8.333751605154315\n",
      "Backpack : 0.016800400838356922\n",
      "Heat Stroke - sick emot_21_60 : 0.005622388612050763\n",
      "Reed Skirt : 0.0044139478943911\n",
      "Dehydration - sick emot_20_60 : 0.003171553874049815\n",
      "\n",
      "4\n",
      "Baby Bone Pile - origGrave justDied fromDeath : 11.987305538695601\n",
      "Rubber Ball - bouncing : 0.001425357005659807\n",
      "Undyed Bowler Hat with Feather : 0.0006090657784156708\n",
      "Undyed Pleated Skirt : 0.00014451026387581964\n",
      "Pneumonia - sick emot_18_60 : 0.0001384817250331711\n",
      "\n",
      "5\n",
      "Baby Bone Pile - origGrave justDied fromDeath : 7.969795185499217\n",
      "Backpack : 0.006864459237006877\n",
      "Mouflon Hide : 0.001819405023638442\n",
      "Straw Hat with Feather : 0.0015626771101205383\n",
      "Rabbit Fur Loincloth : 0.0009210466214515578\n",
      "\n",
      "6\n",
      "Wild Gooseberry Bush : 3.507161943344872\n",
      "Gooseberry : 0.5051162276690447\n",
      "Empty Wild Gooseberry Bush : 0.214700378218117\n",
      "Backpack : 0.05006387034405442\n",
      "Juniper Tinder : 0.0396735722346971\n",
      "\n",
      "7\n",
      "Bowl of Gooseberries - +yum31 : 2.25649000578848\n",
      "Clay Bowl - empty : 0.3228639901947788\n",
      "Bowl of Gooseberries and Carrot : 0.17092073541982342\n",
      "Empty Domestic Gooseberry Bush : 0.06405333048533449\n",
      "Fleece : 0.06050047177520222\n",
      "\n",
      "8\n",
      "Basket : 3.1468038319662632\n",
      "Bone Pile - origGrave : 0.13211525269523425\n",
      "Hand Cart : 0.07755551605444544\n",
      "Dug Wild Carrot : 0.07684132781447504\n",
      "Fertile Soil Pile : 0.07573657870664237\n",
      "\n",
      "9\n",
      "Sharp Stone : 0.028083924125395558\n",
      "Dug Wild Carrot : 0.005396600117594547\n",
      "Big Hard Rock : 0.005287332362819897\n",
      "Dug Burdock : 0.0036964391719055915\n",
      "Short Shaft : 0.0029519013512827115\n",
      "\n",
      "10\n",
      "Fire : 0.311669048825552\n",
      "Firebrand : 0.2308589000811492\n",
      "Kindling Pile : 0.22917548944359012\n",
      "Burning Tutorial Torch - tutorial 21 done : 0.1915026568992874\n",
      "Open Wooden Door - installed vert +verticalDoorOpenWood : 0.09742912561255375\n",
      "\n",
      "11\n",
      "Domestic Gooseberry Bush : 4.611588278688771\n",
      "Empty Domestic Gooseberry Bush : 0.6154447880657341\n",
      "Gooseberry : 0.34792512147165616\n",
      "Backpack : 0.12370859424154138\n",
      "Springy Open Wooden Door - installed +autoDefaultTrans +horizontalOpenSpringyDoor +cornerOpenSpringyDoor : 0.10807392966276003\n",
      "\n",
      "12\n",
      "Open Wooden Door - installed +horizontalDoorOpenWood +cornerDoorOpenWood : 5.783614253255514\n",
      "Open Wooden Door - installed vert +verticalDoorOpenWood : 2.343609805764157\n",
      "Wooden Door - Installed +horizontalDoorWood +cornerDoorWood : 0.352685174888541\n",
      "Wooden Door - installed vert +verticalDoorWood : 0.2236747416389324\n",
      "Large Slow Fire : 0.12536351148354397\n",
      "\n",
      "13\n",
      "Bear Cave -waking : 0.010156317433969244\n",
      "Bear Cave -awake : 0.00987061170069909\n",
      "Pine Needles : 0.0005363938519338253\n",
      "White Pine Tree : 0.0005055648664020377\n",
      "Juniper Tinder : 0.00034792530380351074\n",
      "\n",
      "14\n",
      "Murder Grave - origGrave fromDeath : 5.535010975991468\n",
      "Backpack : 0.032061996188707316\n",
      "Knife - +tool : 0.028575066303900776\n",
      "Yew Bow : 0.02332190970906143\n",
      "Springy Open Wooden Door - installed +autoDefaultTrans +horizontalOpenSpringyDoor +cornerOpenSpringyDoor : 0.018293666909686843\n",
      "\n",
      "15\n",
      "Partial Bucket of Water : 1.0808638946281426\n",
      "Clay Bowl - empty : 0.5515778730802624\n",
      "Fertile Soil Pile : 0.498418824644712\n",
      "Vigorous Domestic Gooseberry Bush : 0.434079474337288\n",
      "Dry Domestic Gooseberry Bush : 0.41073559270256105\n",
      "\n",
      "16\n",
      "Carrot Pile : 2.1893012585629816\n",
      "Carrot Row : 1.4790943631512514\n",
      "Carrot : 0.6765805799926111\n",
      "Deep Tilled Row - groundOnly : 0.5028981811441631\n",
      "Shallow Tilled Row - groundOnly +biomeBlock4 : 0.4226711212637751\n",
      "\n",
      "17\n",
      "Escaped Horse-Drawn Tire Cart - just released : 2.6457974905845445\n",
      "Backpack : 0.3174298074848342\n",
      "3043 : 0.1280811664458907\n",
      "Flat Rock - empty : 0.1253736683745055\n",
      "Hitched Horse-Drawn Tire Cart - +causeAutoOrientH : 0.12512177231172925\n",
      "\n",
      "18\n",
      "Clay Bowl - empty : 2.4122084137878628\n",
      "Clay Plate : 1.4687004019473338\n",
      "Stack of Clay Plates : 1.1302045399838692\n",
      "Stack of Clay Bowls : 0.9382967353151122\n",
      "Springy Open Wooden Door - installed +autoDefaultTrans +horizontalOpenSpringyDoor +cornerOpenSpringyDoor : 0.7089365987661083\n",
      "\n",
      "19\n",
      "Stone : 1.9188231645014082\n",
      "Stakes - +tool : 1.753815509013486\n",
      "Hand Cart : 1.2722840468952625\n",
      "Floor Stakes : 1.1786264630745114\n",
      "White Pine Tree : 0.6104710419606768\n",
      "\n"
     ]
    }
   ],
   "source": [
    "#Which items most strongly defined each component?\n",
    "for C in range(H.shape[0]):\n",
    "    comp = H[C,] #component\n",
    "    items = comp.argsort()[-5:][::-1]#sort by weight; select the top 5 items\n",
    "    print(C)\n",
    "    for item in items:\n",
    "        try:\n",
    "            objname = dbfind.item(itemIds[item])[0][0] #relate to item id using the trimmed_idx, and then look up\n",
    "            weight = str(comp[item])\n",
    "            print(' : '.join([objname, weight]))\n",
    "        except:\n",
    "            print(' : '.join([str(int(item)), str(comp[item])]))\n",
    "    print('')\n"
   ]
  },
  {
   "cell_type": "markdown",
   "metadata": {},
   "source": [
    "## Interpreting avatar embeddings"
   ]
  },
  {
   "cell_type": "code",
   "execution_count": 12,
   "metadata": {
    "ExecuteTime": {
     "end_time": "2021-04-27T18:23:23.573267Z",
     "start_time": "2021-04-27T18:23:09.053951Z"
    }
   },
   "outputs": [
    {
     "data": {
      "text/plain": [
       "Text(195.0, 0.5, 'Avatar')"
      ]
     },
     "execution_count": 12,
     "metadata": {},
     "output_type": "execute_result"
    },
    {
     "data": {
      "image/png": "[encoded data removed]",
      "text/plain": [
       "<Figure size 1728x720 with 2 Axes>"
      ]
     },
     "metadata": {
      "needs_background": "light"
     },
     "output_type": "display_data"
    }
   ],
   "source": [
    "plt.figure(figsize=(24, 10))\n",
    "ax = sns.heatmap(W,  cmap=\"viridis\") \n",
    "ax.set_xlabel('Latent Dimensions')\n",
    "ax.set_ylabel('Avatar')"
   ]
  },
  {
   "cell_type": "code",
   "execution_count": 14,
   "metadata": {
    "ExecuteTime": {
     "end_time": "2021-04-27T18:23:46.073078Z",
     "start_time": "2021-04-27T18:23:45.632630Z"
    }
   },
   "outputs": [
    {
     "data": {
      "text/plain": [
       "<matplotlib.axes._subplots.AxesSubplot at 0x7f8400221410>"
      ]
     },
     "execution_count": 14,
     "metadata": {},
     "output_type": "execute_result"
    },
    {
     "data": {
      "image/png": "[encoded data removed]",
      "text/plain": [
       "<Figure size 432x288 with 1 Axes>"
      ]
     },
     "metadata": {
      "needs_background": "light"
     },
     "output_type": "display_data"
    }
   ],
   "source": [
    "#Sum of loadings \n",
    "#The magnitude of the embedding vector for each player tells us how confidently we are able to assign that player to the latent space. \n",
    "sns.distplot(W.sum(axis = 1)) "
   ]
  },
  {
   "cell_type": "code",
   "execution_count": 94,
   "metadata": {
    "ExecuteTime": {
     "end_time": "2021-04-27T17:37:47.000164Z",
     "start_time": "2021-04-27T17:37:44.118265Z"
    }
   },
   "outputs": [
    {
     "data": {
      "text/plain": [
       "<matplotlib.axes._subplots.AxesSubplot at 0x7f94134ec650>"
      ]
     },
     "execution_count": 94,
     "metadata": {},
     "output_type": "execute_result"
    },
    {
     "data": {
      "image/png": "[encoded data removed]",
      "text/plain": [
       "<Figure size 432x288 with 2 Axes>"
      ]
     },
     "metadata": {
      "needs_background": "light"
     },
     "output_type": "display_data"
    }
   ],
   "source": [
    "#How correlated are the latent embedding dimensions?\n",
    "corr = pd.DataFrame(W).corr()\n",
    "\n",
    "# Generate a mask for the upper triangle\n",
    "mask = np.triu(np.ones_like(corr, dtype=bool))\n",
    "\n",
    "\n",
    "# Generate a custom diverging colormap\n",
    "cmap = sns.diverging_palette(230, 20, as_cmap=True)\n",
    "\n",
    "# Draw the heatmap with the mask and correct aspect ratio\n",
    "sns.heatmap(corr, mask=mask, cmap=cmap, vmax=.3, center=0,\n",
    "            square=True, linewidths=.5, cbar_kws={\"shrink\": .5})\n"
   ]
  },
  {
   "cell_type": "code",
   "execution_count": 95,
   "metadata": {
    "ExecuteTime": {
     "end_time": "2021-04-27T17:38:05.900218Z",
     "start_time": "2021-04-27T17:38:04.767082Z"
    }
   },
   "outputs": [],
   "source": [
    "#PCA\n",
    "pca = PCA(n_components=2)\n",
    "principalComponents = pca.fit_transform(W)\n",
    "\n",
    "principalDf = pd.DataFrame(data = principalComponents\n",
    "             , columns = ['principal component 1', 'principal component 2'])\n"
   ]
  },
  {
   "cell_type": "code",
   "execution_count": 96,
   "metadata": {
    "ExecuteTime": {
     "end_time": "2021-04-27T17:38:05.904704Z",
     "start_time": "2021-04-27T17:38:05.901905Z"
    }
   },
   "outputs": [
    {
     "name": "stdout",
     "output_type": "stream",
     "text": [
      "[2.03216802 0.54426478]\n"
     ]
    }
   ],
   "source": [
    "print(pca.explained_variance_) #not very much"
   ]
  },
  {
   "cell_type": "code",
   "execution_count": 97,
   "metadata": {
    "ExecuteTime": {
     "end_time": "2021-04-27T17:38:13.824118Z",
     "start_time": "2021-04-27T17:38:10.112205Z"
    }
   },
   "outputs": [
    {
     "data": {
      "image/png": "[encoded data removed]",
      "text/plain": [
       "<Figure size 576x576 with 1 Axes>"
      ]
     },
     "metadata": {
      "needs_background": "light"
     },
     "output_type": "display_data"
    }
   ],
   "source": [
    "#Job space embeddings\n",
    "fig = plt.figure(figsize = (8,8))\n",
    "ax = fig.add_subplot(1,1,1) \n",
    "ax.set_xlabel('Principal Component 1', fontsize = 15)\n",
    "ax.set_ylabel('Principal Component 2', fontsize = 15)\n",
    "ax.set_title('2 component PCA', fontsize = 20)\n",
    "targets = ['Iris-setosa', 'Iris-versicolor', 'Iris-virginica']\n",
    "colors = ['r', 'g', 'b']\n",
    "ax.scatter(principalDf['principal component 1'],principalDf['principal component 2'])\n",
    "ax.grid()"
   ]
  },
  {
   "cell_type": "markdown",
   "metadata": {},
   "source": [
    "## Compare with other player data"
   ]
  },
  {
   "cell_type": "code",
   "execution_count": 63,
   "metadata": {
    "ExecuteTime": {
     "end_time": "2021-04-27T17:24:35.954040Z",
     "start_time": "2021-04-27T17:24:35.925142Z"
    }
   },
   "outputs": [
    {
     "ename": "NameError",
     "evalue": "name 'playerDF' is not defined",
     "output_type": "error",
     "traceback": [
      "\u001b[0;31m---------------------------------------------------------------------------\u001b[0m",
      "\u001b[0;31mNameError\u001b[0m                                 Traceback (most recent call last)",
      "\u001b[0;32m<ipython-input-63-b2483f24de96>\u001b[0m in \u001b[0;36m<module>\u001b[0;34m\u001b[0m\n\u001b[1;32m      1\u001b[0m \u001b[0;31m#Can we relate the magnitude of the embedding to other characteristics?\u001b[0m\u001b[0;34m\u001b[0m\u001b[0;34m\u001b[0m\u001b[0;34m\u001b[0m\u001b[0m\n\u001b[0;32m----> 2\u001b[0;31m \u001b[0mplayerDF\u001b[0m\u001b[0;34m[\u001b[0m\u001b[0;34m'totalLoading'\u001b[0m\u001b[0;34m]\u001b[0m \u001b[0;34m=\u001b[0m \u001b[0mW\u001b[0m\u001b[0;34m.\u001b[0m\u001b[0msum\u001b[0m\u001b[0;34m(\u001b[0m\u001b[0maxis\u001b[0m \u001b[0;34m=\u001b[0m \u001b[0;36m1\u001b[0m\u001b[0;34m)\u001b[0m\u001b[0;34m\u001b[0m\u001b[0;34m\u001b[0m\u001b[0m\n\u001b[0m\u001b[1;32m      3\u001b[0m \u001b[0msns\u001b[0m\u001b[0;34m.\u001b[0m\u001b[0mjointplot\u001b[0m\u001b[0;34m(\u001b[0m\u001b[0mdata\u001b[0m\u001b[0;34m=\u001b[0m\u001b[0mplayerDF\u001b[0m\u001b[0;34m,\u001b[0m \u001b[0mx\u001b[0m\u001b[0;34m=\u001b[0m\u001b[0;34m'n_life'\u001b[0m\u001b[0;34m,\u001b[0m \u001b[0my\u001b[0m \u001b[0;34m=\u001b[0m \u001b[0;34m'totalLoading'\u001b[0m\u001b[0;34m,\u001b[0m \u001b[0mkind\u001b[0m \u001b[0;34m=\u001b[0m \u001b[0;34m'reg'\u001b[0m\u001b[0;34m)\u001b[0m \u001b[0;31m#alternative can look at 'age', 'gen', etc...\u001b[0m\u001b[0;34m\u001b[0m\u001b[0;34m\u001b[0m\u001b[0m\n\u001b[1;32m      4\u001b[0m \u001b[0mplt\u001b[0m\u001b[0;34m.\u001b[0m\u001b[0mshow\u001b[0m\u001b[0;34m(\u001b[0m\u001b[0;34m)\u001b[0m\u001b[0;34m\u001b[0m\u001b[0;34m\u001b[0m\u001b[0m\n",
      "\u001b[0;31mNameError\u001b[0m: name 'playerDF' is not defined"
     ]
    }
   ],
   "source": [
    "#Can we relate the magnitude of the embedding to other characteristics?\n",
    "playerDF['totalLoading'] = W.sum(axis = 1)\n",
    "sns.jointplot(data=playerDF, x='n_life', y = 'totalLoading', kind = 'reg') #alternative can look at 'age', 'gen', etc...\n",
    "plt.show()"
   ]
  },
  {
   "cell_type": "code",
   "execution_count": null,
   "metadata": {},
   "outputs": [],
   "source": [
    "#add latent dimensions\n",
    "jobDF = playerDF\n",
    "for i in range(20):\n",
    "    jobDF['Dim'+str(i)] = W[:,i]"
   ]
  }
 ],
 "metadata": {
  "kernelspec": {
   "display_name": "Python 3",
   "language": "python",
   "name": "python3"
  },
  "language_info": {
   "codemirror_mode": {
    "name": "ipython",
    "version": 3
   },
   "file_extension": ".py",
   "mimetype": "text/x-python",
   "name": "python",
   "nbconvert_exporter": "python",
   "pygments_lexer": "ipython3",
   "version": "3.7.4"
  },
  "toc": {
   "base_numbering": 1,
   "nav_menu": {},
   "number_sections": true,
   "sideBar": true,
   "skip_h1_title": false,
   "title_cell": "Table of Contents",
   "title_sidebar": "Contents",
   "toc_cell": false,
   "toc_position": {},
   "toc_section_display": true,
   "toc_window_display": false
  }
 },
 "nbformat": 4,
 "nbformat_minor": 2
}
