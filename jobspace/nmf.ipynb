{
 "cells": [
  {
   "cell_type": "code",
   "execution_count": 1,
   "metadata": {
    "ExecuteTime": {
     "end_time": "2021-06-18T07:57:32.864776Z",
     "start_time": "2021-06-18T07:57:30.651756Z"
    }
   },
   "outputs": [],
   "source": [
    "import pymongo\n",
    "import os\n",
    "import bson\n",
    "import json\n",
    "import glob\n",
    "import pickle\n",
    "import gridfs\n",
    "from collections import Counter\n",
    "import seaborn as sns\n",
    "from sklearn.preprocessing import normalize\n",
    "from random import sample\n",
    "import matplotlib.pyplot as plt\n",
    "import pandas as pd\n",
    "import numpy as np\n",
    "import scipy.stats as stats\n",
    "from scipy.sparse import csr_matrix\n",
    "from bson.binary import Binary\n",
    "from os.path import join as opj\n",
    "from tqdm import notebook\n",
    "from sklearn.decomposition import NMF\n",
    "from sklearn.decomposition import PCA\n",
    "import sys"
   ]
  },
  {
   "cell_type": "code",
   "execution_count": 2,
   "metadata": {
    "ExecuteTime": {
     "end_time": "2021-06-18T07:57:32.888405Z",
     "start_time": "2021-06-18T07:57:32.866915Z"
    }
   },
   "outputs": [],
   "source": [
    "sys.path.append(\"..\")\n",
    "import dbfind"
   ]
  },
  {
   "cell_type": "code",
   "execution_count": 3,
   "metadata": {
    "ExecuteTime": {
     "end_time": "2021-06-18T07:57:33.112347Z",
     "start_time": "2021-06-18T07:57:32.890385Z"
    }
   },
   "outputs": [
    {
     "name": "stdout",
     "output_type": "stream",
     "text": [
      "Database(MongoClient(host=['134.76.24.75:27017'], document_class=dict, tz_aware=False, connect=True, authsource='ohol'), 'ohol')\n",
      "['tfidf_matrix.files', 'maplogs', 'item_embeddings', 'tech_tree', 'lifelogs', 'item_links_demo', 'objects', 'expanded_transitions', 'avatar_embeddings', 'tfidf_matrix.chunks', 'transitions', 'activity_matrix.files', 'activity_matrix.chunks', 'cleaned_job_matrix.chunks', 'cleaned_job_matrix.files', 'item_interactions', 'nmf_validation', 'activity_labels', 'categories', 'randomized_job_matrix.files']\n"
     ]
    }
   ],
   "source": [
    "keyfile = '../6_database/credentials.key'\n",
    "creds = open(keyfile, \"r\").read().splitlines()\n",
    "myclient = pymongo.MongoClient('134.76.24.75', username=creds[0], password=creds[1], authSource='ohol') \n",
    "db = myclient.ohol\n",
    "\n",
    "print(db)\n",
    "print(db.list_collection_names())"
   ]
  },
  {
   "cell_type": "markdown",
   "metadata": {},
   "source": [
    "## Import activity matrix chunks"
   ]
  },
  {
   "cell_type": "code",
   "execution_count": 4,
   "metadata": {
    "ExecuteTime": {
     "end_time": "2021-05-12T13:35:14.505644Z",
     "start_time": "2021-05-12T13:35:14.477123Z"
    }
   },
   "outputs": [
    {
     "name": "stdout",
     "output_type": "stream",
     "text": [
      "File metadata:\n",
      "[{'_id': ObjectId('6085c6c1affb2a7f0bf57a44'), 'uploadDate': datetime.datetime(2021, 4, 25, 19, 48, 18, 502000), 'length': 412799872, 'chunkSize': 261120, 'md5': 'bdcad93c8ef343607e2019d4f188b200'}]\n"
     ]
    }
   ],
   "source": [
    "# Get pointer from activity_matrix.files\n",
    "activity_file = list(db.activity_matrix.files.find())\n",
    "activity_id = activity_file[0]['_id']\n",
    "print('File metadata:')\n",
    "print(activity_file)\n"
   ]
  },
  {
   "cell_type": "code",
   "execution_count": 5,
   "metadata": {
    "ExecuteTime": {
     "end_time": "2021-05-12T13:36:16.172810Z",
     "start_time": "2021-05-12T13:35:14.507512Z"
    }
   },
   "outputs": [
    {
     "name": "stdout",
     "output_type": "stream",
     "text": [
      "Loaded activity matrix:\n"
     ]
    },
    {
     "data": {
      "text/plain": [
       "(763682, 3044)"
      ]
     },
     "execution_count": 5,
     "metadata": {},
     "output_type": "execute_result"
    }
   ],
   "source": [
    "#Load sparse matrix. This takes about 30 seconds\n",
    "fs = gridfs.GridFS(db, collection='activity_matrix')\n",
    "activity_bin = fs.get(activity_id)\n",
    "activity_mtx = pickle.load(activity_bin, encoding='latin1')\n",
    "print('Loaded activity matrix:')\n",
    "activity_mtx.shape"
   ]
  },
  {
   "cell_type": "code",
   "execution_count": 6,
   "metadata": {
    "ExecuteTime": {
     "end_time": "2021-05-12T13:36:18.440904Z",
     "start_time": "2021-05-12T13:36:16.174620Z"
    }
   },
   "outputs": [],
   "source": [
    "#Get item and avatar ids\n",
    "itemIds = db.activity_labels.find_one()['items'] #item ids for each column of the sparse activity matrix\n",
    "avatarIds = db.activity_labels.find_one()['avatars'] #avatar ids for each row of the sparse activity matrix"
   ]
  },
  {
   "cell_type": "markdown",
   "metadata": {},
   "source": [
    "### Testing"
   ]
  },
  {
   "cell_type": "code",
   "execution_count": 74,
   "metadata": {
    "ExecuteTime": {
     "end_time": "2021-04-27T17:26:30.159061Z",
     "start_time": "2021-04-27T17:26:30.157177Z"
    }
   },
   "outputs": [],
   "source": [
    "# #shorten data for testing\n",
    "# dataLength = 10000\n",
    "# activity_mtx = activity_mtx[1:dataLength,]\n",
    "# avatarIds = avatarIds[1:dataLength]\n",
    "# #Check data sizes\n",
    "# print(activity_mtx.shape)\n",
    "# print(len(avatarIds))"
   ]
  },
  {
   "cell_type": "markdown",
   "metadata": {
    "ExecuteTime": {
     "end_time": "2021-04-26T15:14:51.448938Z",
     "start_time": "2021-04-26T15:14:51.445595Z"
    }
   },
   "source": [
    "### Pre-processing"
   ]
  },
  {
   "cell_type": "code",
   "execution_count": 7,
   "metadata": {
    "ExecuteTime": {
     "end_time": "2021-05-12T13:36:18.458622Z",
     "start_time": "2021-05-12T13:36:18.443006Z"
    },
    "code_folding": []
   },
   "outputs": [],
   "source": [
    "#Function to delete rows/columns\n",
    "def delete_from_csr(mat, row_indices=[], col_indices=[]):\n",
    "    \"\"\"\n",
    "    Remove the rows (denoted by ``row_indices``) and columns (denoted by ``col_indices``) from the CSR sparse matrix ``mat``.\n",
    "    WARNING: Indices of altered axes are reset in the returned matrix\n",
    "    \"\"\"\n",
    "    if not isinstance(mat, csr_matrix):\n",
    "        raise ValueError(\"works only for CSR format -- use .tocsr() first\")\n",
    "\n",
    "    rows = []\n",
    "    cols = []\n",
    "    if row_indices:\n",
    "        rows = list(row_indices)\n",
    "    if col_indices:\n",
    "        cols = list(col_indices)\n",
    "\n",
    "    if len(rows) > 0 and len(cols) > 0:\n",
    "        row_mask = np.ones(mat.shape[0], dtype=bool)\n",
    "        row_mask[rows] = False\n",
    "        col_mask = np.ones(mat.shape[1], dtype=bool)\n",
    "        col_mask[cols] = False\n",
    "        return mat[row_mask][:,col_mask]\n",
    "    elif len(rows) > 0:\n",
    "        mask = np.ones(mat.shape[0], dtype=bool)\n",
    "        mask[rows] = False\n",
    "        return mat[mask]\n",
    "    elif len(cols) > 0:\n",
    "        mask = np.ones(mat.shape[1], dtype=bool)\n",
    "        mask[cols] = False\n",
    "        return mat[:,mask]\n",
    "    else:\n",
    "        return mat"
   ]
  },
  {
   "cell_type": "markdown",
   "metadata": {
    "ExecuteTime": {
     "end_time": "2021-04-26T17:50:37.921205Z",
     "start_time": "2021-04-26T17:50:37.918902Z"
    }
   },
   "source": [
    "#### Remove rows (avatars)"
   ]
  },
  {
   "cell_type": "code",
   "execution_count": 9,
   "metadata": {
    "ExecuteTime": {
     "end_time": "2021-05-12T13:36:54.868714Z",
     "start_time": "2021-05-12T13:36:43.961978Z"
    }
   },
   "outputs": [
    {
     "data": {
      "text/plain": [
       "257109"
      ]
     },
     "execution_count": 9,
     "metadata": {},
     "output_type": "execute_result"
    }
   ],
   "source": [
    "#exclusion list for players who didn't make it to adulthood or disconnected\n",
    "exclusionIds = [q['avatar'] for q in db.lifelogs.find({\"$or\":[ {\"age\":{\"$lt\":4}}, {\"cause_of_death\":'disconnected'}]}, {'avatar'})]\n",
    "len(exclusionIds) #note, not all overlapping with the ids in the activity matrix, since many of these never generated any map change data"
   ]
  },
  {
   "cell_type": "code",
   "execution_count": 10,
   "metadata": {
    "ExecuteTime": {
     "end_time": "2021-05-12T13:44:49.109392Z",
     "start_time": "2021-05-12T13:44:48.921777Z"
    }
   },
   "outputs": [
    {
     "data": {
      "text/plain": [
       "34748"
      ]
     },
     "execution_count": 10,
     "metadata": {},
     "output_type": "execute_result"
    }
   ],
   "source": [
    "#Find the ids (rows in sparse activity_mtx) to delete\n",
    "deleteIds = np.nonzero(np.in1d(avatarIds,exclusionIds))[0]\n",
    "len(deleteIds)"
   ]
  },
  {
   "cell_type": "code",
   "execution_count": 11,
   "metadata": {
    "ExecuteTime": {
     "end_time": "2021-05-12T13:44:54.388056Z",
     "start_time": "2021-05-12T13:44:50.494099Z"
    }
   },
   "outputs": [],
   "source": [
    "#Delete excluded avatars\n",
    "activity_mtx = delete_from_csr(activity_mtx, row_indices = deleteIds.tolist())\n",
    "for index in sorted(deleteIds.tolist(), reverse=True):\n",
    "    del avatarIds[index]"
   ]
  },
  {
   "cell_type": "code",
   "execution_count": 12,
   "metadata": {
    "ExecuteTime": {
     "end_time": "2021-05-12T13:44:54.392199Z",
     "start_time": "2021-05-12T13:44:54.389687Z"
    }
   },
   "outputs": [
    {
     "name": "stdout",
     "output_type": "stream",
     "text": [
      "(728934, 3044)\n",
      "728934\n"
     ]
    }
   ],
   "source": [
    "#Check that all data is the right shape\n",
    "print(activity_mtx.shape)\n",
    "print(len(avatarIds))"
   ]
  },
  {
   "cell_type": "markdown",
   "metadata": {},
   "source": [
    "#### Remove columns (items)"
   ]
  },
  {
   "cell_type": "code",
   "execution_count": 14,
   "metadata": {
    "ExecuteTime": {
     "end_time": "2021-05-12T13:45:12.883592Z",
     "start_time": "2021-05-12T13:45:12.516116Z"
    }
   },
   "outputs": [
    {
     "data": {
      "text/plain": [
       "<matplotlib.axes._subplots.AxesSubplot at 0x7fa267c29a50>"
      ]
     },
     "execution_count": 14,
     "metadata": {},
     "output_type": "execute_result"
    },
    {
     "data": {
      "image/png": "[encoded data removed]",
      "text/plain": [
       "<Figure size 432x288 with 1 Axes>"
      ]
     },
     "metadata": {
      "needs_background": "light"
     },
     "output_type": "display_data"
    }
   ],
   "source": [
    "#look at distribution\n",
    "sns.distplot(activity_mtx.sum(axis = 0), bins = 100) #histrogram of item iteractions"
   ]
  },
  {
   "cell_type": "code",
   "execution_count": 15,
   "metadata": {
    "ExecuteTime": {
     "end_time": "2021-05-12T13:45:15.244559Z",
     "start_time": "2021-05-12T13:45:15.189920Z"
    }
   },
   "outputs": [
    {
     "data": {
      "text/plain": [
       "0"
      ]
     },
     "execution_count": 15,
     "metadata": {},
     "output_type": "execute_result"
    }
   ],
   "source": [
    "#Which items to dete\n",
    "deleteIds = np.where(activity_mtx.sum(axis = 0)==0)[1]\n",
    "len(deleteIds)"
   ]
  },
  {
   "cell_type": "code",
   "execution_count": 16,
   "metadata": {
    "ExecuteTime": {
     "end_time": "2021-05-12T13:45:17.170669Z",
     "start_time": "2021-05-12T13:45:17.167569Z"
    }
   },
   "outputs": [],
   "source": [
    "#Delete excluded items\n",
    "activity_mtx = delete_from_csr(activity_mtx, col_indices = deleteIds.tolist())\n",
    "for index in sorted(deleteIds.tolist(), reverse=True):\n",
    "    del itemIds[index]"
   ]
  },
  {
   "cell_type": "code",
   "execution_count": 17,
   "metadata": {
    "ExecuteTime": {
     "end_time": "2021-05-12T13:45:17.680820Z",
     "start_time": "2021-05-12T13:45:17.677985Z"
    }
   },
   "outputs": [
    {
     "name": "stdout",
     "output_type": "stream",
     "text": [
      "(728934, 3044)\n",
      "3044\n"
     ]
    }
   ],
   "source": [
    "print(activity_mtx.shape)\n",
    "print(len(itemIds))"
   ]
  },
  {
   "cell_type": "markdown",
   "metadata": {},
   "source": [
    "#### Finished preprocessing"
   ]
  },
  {
   "cell_type": "code",
   "execution_count": 18,
   "metadata": {
    "ExecuteTime": {
     "end_time": "2021-05-12T13:45:22.069724Z",
     "start_time": "2021-05-12T13:45:22.066894Z"
    }
   },
   "outputs": [],
   "source": [
    "jobMatrixCleaned = activity_mtx"
   ]
  },
  {
   "cell_type": "code",
   "execution_count": 19,
   "metadata": {
    "ExecuteTime": {
     "end_time": "2021-05-12T13:45:23.952754Z",
     "start_time": "2021-05-12T13:45:23.949921Z"
    }
   },
   "outputs": [],
   "source": [
    "cleanedDict = {'mat' : jobMatrixCleaned, \n",
    "            'items' : itemIds,\n",
    "            'avatars': avatarIds}"
   ]
  },
  {
   "cell_type": "code",
   "execution_count": 20,
   "metadata": {
    "ExecuteTime": {
     "end_time": "2021-05-12T13:49:11.067041Z",
     "start_time": "2021-05-12T13:45:24.433768Z"
    }
   },
   "outputs": [
    {
     "data": {
      "text/plain": [
       "ObjectId('609bdbf7ab07d690dbfeed2e')"
      ]
     },
     "execution_count": 20,
     "metadata": {},
     "output_type": "execute_result"
    }
   ],
   "source": [
    "#Save on database\n",
    "fs = gridfs.GridFS(db, collection='cleaned_job_matrix')\n",
    "fs.put(Binary(pickle.dumps(cleanedDict, protocol=2), subtype=128))"
   ]
  },
  {
   "cell_type": "markdown",
   "metadata": {},
   "source": [
    "### TF-IDF normalization"
   ]
  },
  {
   "cell_type": "code",
   "execution_count": 87,
   "metadata": {
    "ExecuteTime": {
     "end_time": "2021-04-27T17:30:09.211462Z",
     "start_time": "2021-04-27T17:30:09.122113Z"
    }
   },
   "outputs": [
    {
     "ename": "EOFError",
     "evalue": "Ran out of input",
     "output_type": "error",
     "traceback": [
      "\u001b[0;31m---------------------------------------------------------------------------\u001b[0m",
      "\u001b[0;31mEOFError\u001b[0m                                  Traceback (most recent call last)",
      "\u001b[0;32m<ipython-input-87-4d9c8ad4cd33>\u001b[0m in \u001b[0;36m<module>\u001b[0;34m\u001b[0m\n\u001b[1;32m      3\u001b[0m \u001b[0mfs\u001b[0m \u001b[0;34m=\u001b[0m \u001b[0mgridfs\u001b[0m\u001b[0;34m.\u001b[0m\u001b[0mGridFS\u001b[0m\u001b[0;34m(\u001b[0m\u001b[0mdb\u001b[0m\u001b[0;34m,\u001b[0m \u001b[0mcollection\u001b[0m\u001b[0;34m=\u001b[0m\u001b[0;34m'cleaned_job_matrix'\u001b[0m\u001b[0;34m)\u001b[0m\u001b[0;34m\u001b[0m\u001b[0;34m\u001b[0m\u001b[0m\n\u001b[1;32m      4\u001b[0m \u001b[0mmat_bin\u001b[0m \u001b[0;34m=\u001b[0m \u001b[0mfs\u001b[0m\u001b[0;34m.\u001b[0m\u001b[0mget\u001b[0m\u001b[0;34m(\u001b[0m\u001b[0mmat_id\u001b[0m\u001b[0;34m)\u001b[0m \u001b[0;31m#extract binary\u001b[0m\u001b[0;34m\u001b[0m\u001b[0;34m\u001b[0m\u001b[0m\n\u001b[0;32m----> 5\u001b[0;31m \u001b[0mmat_dict\u001b[0m \u001b[0;34m=\u001b[0m \u001b[0mpickle\u001b[0m\u001b[0;34m.\u001b[0m\u001b[0mload\u001b[0m\u001b[0;34m(\u001b[0m\u001b[0mactivity_bin\u001b[0m\u001b[0;34m,\u001b[0m \u001b[0mencoding\u001b[0m\u001b[0;34m=\u001b[0m\u001b[0;34m'latin1'\u001b[0m\u001b[0;34m)\u001b[0m\u001b[0;34m\u001b[0m\u001b[0;34m\u001b[0m\u001b[0m\n\u001b[0m\u001b[1;32m      6\u001b[0m \u001b[0mjobMatrixCleaned\u001b[0m \u001b[0;34m=\u001b[0m \u001b[0mmat_dict\u001b[0m\u001b[0;34m[\u001b[0m\u001b[0;34m'mat'\u001b[0m\u001b[0;34m]\u001b[0m\u001b[0;34m\u001b[0m\u001b[0;34m\u001b[0m\u001b[0m\n\u001b[1;32m      7\u001b[0m \u001b[0mitemIds\u001b[0m \u001b[0;34m=\u001b[0m \u001b[0mmat_dict\u001b[0m\u001b[0;34m[\u001b[0m\u001b[0;34m'items'\u001b[0m\u001b[0;34m]\u001b[0m\u001b[0;34m\u001b[0m\u001b[0;34m\u001b[0m\u001b[0m\n",
      "\u001b[0;31mEOFError\u001b[0m: Ran out of input"
     ]
    }
   ],
   "source": [
    "#Load cleaned matrix. This takes about 30 seconds\n",
    "mat_id = list(db.cleaned_job_matrix.files.find())[0]['_id'] #get id\n",
    "fs = gridfs.GridFS(db, collection='cleaned_job_matrix') \n",
    "mat_bin = fs.get(mat_id) #extract binary\n",
    "mat_dict = pickle.load(mat_bin, encoding='latin1')\n",
    "jobMatrixCleaned = mat_dict['mat']\n",
    "itemIds = mat_dict['items']\n",
    "avatarIds = mat_dict['avatars']\n",
    "print('Loaded Job matrix:')\n",
    "jobMatrixCleaned.shape"
   ]
  },
  {
   "cell_type": "code",
   "execution_count": 19,
   "metadata": {
    "ExecuteTime": {
     "end_time": "2021-04-27T16:44:02.874717Z",
     "start_time": "2021-04-27T16:44:02.872685Z"
    },
    "code_folding": []
   },
   "outputs": [],
   "source": [
    "# # test using old, ineffecient method\n",
    "# jobMatrixCleaned = jobMatrixCleaned.toarray()\n",
    "# #Term frequency: let's use augmented frequency, which prevents a bias towards longer documents (i.e., players who have many item interactions)\n",
    "# def tf(avatarVec):\n",
    "#     return(0.5 + ((0.5* avatarVec) / max(avatarVec)))\n",
    "\n",
    "# #inverse document frequency:\n",
    "# def idf(itemVec):\n",
    "#     return(np.log(sum(itemVec)/len(itemVec[itemVec>0])))\n",
    "\n",
    "# #compute tf and idf mats\n",
    "# tfMat = np.ones(jobMatrixCleaned.shape)\n",
    "# for row in range(jobMatrixCleaned.shape[0]):\n",
    "#     tfMat[row,:] = tf(jobMatrixCleaned[row,:]) \n",
    "# idfMat = np.ones(jobMatrixCleaned.shape)\n",
    "# for col in range(jobMatrixCleaned.shape[1]):\n",
    "#     idfMat[:,col] = idf(jobMatrixCleaned[:,col]) \n",
    "# tfIdfMat = tfMat * idfMat\n",
    "\n",
    "# tfidfJobMatrix = tfIdfMat * jobMatrixCleaned #now compute tfidf\n",
    "\n",
    "# row_sums = tfidfJobMatrix.sum(axis=1)\n",
    "# tfidfJobMatrixNormalized = tfidfJobMatrix / row_sums[:, np.newaxis]\n",
    "# tfidfJobMatrixNormalized = np.nan_to_num(tfidfJobMatrixNormalized)"
   ]
  },
  {
   "cell_type": "code",
   "execution_count": 20,
   "metadata": {
    "ExecuteTime": {
     "end_time": "2021-04-27T16:44:38.126225Z",
     "start_time": "2021-04-27T16:44:02.876049Z"
    }
   },
   "outputs": [],
   "source": [
    "#Term frequency: let's use augmented frequency, which prevents a bias towards longer documents (i.e., players who have many item interactions)\n",
    "#Each row vector v undergoes the following transformation:  tf(v) = 0.5 + (0.5*v)/(max(v))\n",
    "TF = jobMatrixCleaned.toarray() #convert to array\n",
    "TF = TF/jobMatrixCleaned.max(axis=1).toarray() #divide by max\n",
    "TF *= 0.5 \n",
    "TF += 0.5"
   ]
  },
  {
   "cell_type": "code",
   "execution_count": 21,
   "metadata": {
    "ExecuteTime": {
     "end_time": "2021-04-27T16:44:45.404776Z",
     "start_time": "2021-04-27T16:44:38.136426Z"
    }
   },
   "outputs": [],
   "source": [
    "#TODO: Some funny negative elements\n",
    "#Inverse document frequency\n",
    "#np.log(sum(itemVec)/len(itemVec[itemVec>0]))\n",
    "IDFcolsums = jobMatrixCleaned.sum(axis = 0)\n",
    "nonNegCounts = Counter(jobMatrixCleaned.nonzero()[1]) #Count non-negative elements in each column\n",
    "nonNeg = np.ones(jobMatrixCleaned.shape[1])\n",
    "nonNeg[list(nonNegCounts.keys())] = list(nonNegCounts.values())\n",
    "IDF = np.log(IDFcolsums / nonNeg)"
   ]
  },
  {
   "cell_type": "code",
   "execution_count": 22,
   "metadata": {
    "ExecuteTime": {
     "end_time": "2021-04-27T16:45:27.325661Z",
     "start_time": "2021-04-27T16:44:45.406498Z"
    }
   },
   "outputs": [],
   "source": [
    "#Multiply together\n",
    "tfIdfMat = np.multiply(TF, IDF)"
   ]
  },
  {
   "cell_type": "code",
   "execution_count": 23,
   "metadata": {
    "ExecuteTime": {
     "end_time": "2021-04-27T16:46:18.145158Z",
     "start_time": "2021-04-27T16:45:27.337092Z"
    }
   },
   "outputs": [],
   "source": [
    "tfidfJobMatrix = jobMatrixCleaned.multiply(tfIdfMat)  #now compute tfidf"
   ]
  },
  {
   "cell_type": "code",
   "execution_count": 24,
   "metadata": {
    "ExecuteTime": {
     "end_time": "2021-04-27T16:46:18.206714Z",
     "start_time": "2021-04-27T16:46:18.158710Z"
    }
   },
   "outputs": [
    {
     "data": {
      "text/plain": [
       "<662426x3044 sparse matrix of type '<class 'numpy.float64'>'\n",
       "\twith 33354803 stored elements in COOrdinate format>"
      ]
     },
     "execution_count": 24,
     "metadata": {},
     "output_type": "execute_result"
    }
   ],
   "source": [
    "tfidfJobMatrix"
   ]
  },
  {
   "cell_type": "code",
   "execution_count": 35,
   "metadata": {
    "ExecuteTime": {
     "end_time": "2021-04-27T16:57:10.134747Z",
     "start_time": "2021-04-27T16:57:08.758498Z"
    }
   },
   "outputs": [],
   "source": [
    "#Normalized rows\n",
    "tfidfJobMatrixNormalized = normalize(tfidfJobMatrix, norm='l1', axis=1)"
   ]
  },
  {
   "cell_type": "code",
   "execution_count": 51,
   "metadata": {
    "ExecuteTime": {
     "end_time": "2021-04-27T17:15:34.521981Z",
     "start_time": "2021-04-27T17:15:34.517533Z"
    }
   },
   "outputs": [],
   "source": [
    "tfidfDict = {'mat' : tfidfJobMatrixNormalized, \n",
    "            'items' : itemIds,\n",
    "            'avatars': avatarIds}"
   ]
  },
  {
   "cell_type": "code",
   "execution_count": 55,
   "metadata": {
    "ExecuteTime": {
     "end_time": "2021-04-27T17:20:12.862417Z",
     "start_time": "2021-04-27T17:16:07.143016Z"
    }
   },
   "outputs": [
    {
     "data": {
      "text/plain": [
       "ObjectId('608846da960517b5ced2defe')"
      ]
     },
     "execution_count": 55,
     "metadata": {},
     "output_type": "execute_result"
    }
   ],
   "source": [
    "#Save on database\n",
    "# fs = gridfs.GridFS(db, collection='tfidf_matrix')\n",
    "# fs.put(Binary(pickle.dumps(tfidfDict, protocol=2), subtype=128))"
   ]
  },
  {
   "cell_type": "markdown",
   "metadata": {},
   "source": [
    "## Non-negative matrix factorization"
   ]
  },
  {
   "cell_type": "markdown",
   "metadata": {},
   "source": [
    "### Load data"
   ]
  },
  {
   "cell_type": "code",
   "execution_count": 45,
   "metadata": {
    "ExecuteTime": {
     "end_time": "2021-04-27T17:10:23.778345Z",
     "start_time": "2021-04-27T17:09:14.732768Z"
    }
   },
   "outputs": [
    {
     "name": "stdout",
     "output_type": "stream",
     "text": [
      "Loaded Job matrix:\n"
     ]
    },
    {
     "data": {
      "text/plain": [
       "(662426, 3044)"
      ]
     },
     "execution_count": 45,
     "metadata": {},
     "output_type": "execute_result"
    }
   ],
   "source": [
    "#Load tfidf matrix. This takes about 30 seconds\n",
    "# mat_id = list(db.tfidf_matrix.files.find())[0]['_id'] #get id\n",
    "# fs = gridfs.GridFS(db, collection='tfidf_matrix') \n",
    "# mat_bin = fs.get(mat_id) #extract binary\n",
    "# mat_dict = pickle.load(activity_bin, encoding='latin1')\n",
    "# tfidfJobMatrixNormalized = mat_dict['mat']\n",
    "# itemIds = mat_dict['items']\n",
    "# avatarIds = mat_dict['avatars']\n",
    "# print('Loaded Job matrix:')\n",
    "# tfidfJobMatrixNormalized.shape"
   ]
  },
  {
   "cell_type": "code",
   "execution_count": 29,
   "metadata": {
    "ExecuteTime": {
     "end_time": "2021-05-12T14:09:48.981297Z",
     "start_time": "2021-05-12T14:08:32.552806Z"
    }
   },
   "outputs": [
    {
     "name": "stdout",
     "output_type": "stream",
     "text": [
      "Loaded Job matrix:\n"
     ]
    },
    {
     "data": {
      "text/plain": [
       "(728934, 3044)"
      ]
     },
     "execution_count": 29,
     "metadata": {},
     "output_type": "execute_result"
    }
   ],
   "source": [
    "#Load cleaned matrix. This takes about 30 seconds\n",
    "mat_id = list(db.cleaned_job_matrix.files.find())[0]['_id'] #get id\n",
    "fs = gridfs.GridFS(db, collection='cleaned_job_matrix') \n",
    "mat_bin = fs.get(mat_id) #extract binary\n",
    "mat_dict = pickle.load(mat_bin, encoding='latin1')\n",
    "jobMatrixCleaned = mat_dict['mat']\n",
    "itemIds = mat_dict['items']\n",
    "avatarIds = mat_dict['avatars']\n",
    "print('Loaded Job matrix:')\n",
    "jobMatrixCleaned.shape"
   ]
  },
  {
   "cell_type": "markdown",
   "metadata": {},
   "source": [
    "### Fit Model"
   ]
  },
  {
   "cell_type": "code",
   "execution_count": 30,
   "metadata": {
    "ExecuteTime": {
     "end_time": "2021-05-12T14:12:48.707326Z",
     "start_time": "2021-05-12T14:09:48.983145Z"
    }
   },
   "outputs": [],
   "source": [
    "#Fit model\n",
    "model = NMF(n_components=20, init='random', random_state=0)\n",
    "W = model.fit_transform(jobMatrixCleaned) #cleaned matrix (row normalized)\n",
    "#W = model.fit_transform(tfidfJobMatrixNormalized) #TFIDF transformed matrix\n",
    "H = model.components_\n",
    "#TODO: Save W and H matrices somewhere"
   ]
  },
  {
   "cell_type": "markdown",
   "metadata": {},
   "source": [
    "### Save/load outputs"
   ]
  },
  {
   "cell_type": "code",
   "execution_count": 31,
   "metadata": {
    "ExecuteTime": {
     "end_time": "2021-05-12T14:12:55.307408Z",
     "start_time": "2021-05-12T14:12:48.710731Z"
    }
   },
   "outputs": [],
   "source": [
    "#Save outputs\n",
    "Hdict = [{'item':itemIds[i], 'vec':H[:,i].tolist()} for i in range(len(itemIds))] #Item embeddings\n",
    "Wdict = [{'avatar':avatarIds[i], 'vec':W[i,:].tolist()} for i in range(len(avatarIds))] #avatar embeddings"
   ]
  },
  {
   "cell_type": "code",
   "execution_count": 32,
   "metadata": {
    "ExecuteTime": {
     "end_time": "2021-05-12T14:14:38.492969Z",
     "start_time": "2021-05-12T14:12:55.309735Z"
    }
   },
   "outputs": [
    {
     "data": {
      "text/plain": [
       "<pymongo.results.InsertManyResult at 0x7fa161570460>"
      ]
     },
     "execution_count": 32,
     "metadata": {},
     "output_type": "execute_result"
    }
   ],
   "source": [
    "db.item_embeddings.insert_many(Hdict)\n",
    "db.avatar_embeddings.insert_many(Wdict)"
   ]
  },
  {
   "cell_type": "code",
   "execution_count": 33,
   "metadata": {
    "ExecuteTime": {
     "end_time": "2021-05-12T14:16:42.335944Z",
     "start_time": "2021-05-12T14:14:38.495595Z"
    }
   },
   "outputs": [],
   "source": [
    "#Load and reconstruct\n",
    "#reconstruct H\n",
    "itemIds = []\n",
    "Hlist = []\n",
    "query = db.item_embeddings.find()\n",
    "for q in query:\n",
    "    itemIds.append(q['item'])\n",
    "    Hlist.append(q['vec'])\n",
    "H = np.asarray(Hlist).T \n",
    "\n",
    "#reconstruct W\n",
    "avatarIds = []\n",
    "Wlist = []\n",
    "query = db.avatar_embeddings.find()\n",
    "for q in query:\n",
    "    avatarIds.append(q['avatar'])\n",
    "    Wlist.append(q['vec'])\n",
    "W = np.asarray(Wlist) #reconstruct"
   ]
  },
  {
   "cell_type": "markdown",
   "metadata": {},
   "source": [
    "### Interpret results"
   ]
  },
  {
   "cell_type": "code",
   "execution_count": 34,
   "metadata": {
    "ExecuteTime": {
     "end_time": "2021-05-12T14:16:44.733730Z",
     "start_time": "2021-05-12T14:16:42.337987Z"
    }
   },
   "outputs": [
    {
     "data": {
      "text/plain": [
       "Text(0.5, 69.0, 'Item')"
      ]
     },
     "execution_count": 34,
     "metadata": {},
     "output_type": "execute_result"
    },
    {
     "data": {
      "image/png": "[encoded data removed]",
      "text/plain": [
       "<Figure size 1728x720 with 2 Axes>"
      ]
     },
     "metadata": {
      "needs_background": "light"
     },
     "output_type": "display_data"
    }
   ],
   "source": [
    "#How well can we allocate items to different latent dimensions?\n",
    "plt.figure(figsize=(24, 10))\n",
    "ax = sns.heatmap(H,  cmap=\"viridis\") #x-axis are unique items and y-axis are the loadings\n",
    "ax.set_ylabel('Latent Dimensions')\n",
    "ax.set_xlabel('Item')"
   ]
  },
  {
   "cell_type": "code",
   "execution_count": 35,
   "metadata": {
    "ExecuteTime": {
     "end_time": "2021-05-12T14:16:44.885148Z",
     "start_time": "2021-05-12T14:16:44.735298Z"
    }
   },
   "outputs": [
    {
     "data": {
      "text/plain": [
       "(array([3., 4., 2., 2., 2., 1., 1., 2., 1., 2.]),\n",
       " array([  68.92045497,  193.12218043,  317.32390589,  441.52563134,\n",
       "         565.7273568 ,  689.92908226,  814.13080771,  938.33253317,\n",
       "        1062.53425863, 1186.73598408, 1310.93770954]),\n",
       " <a list of 10 Patch objects>)"
      ]
     },
     "execution_count": 35,
     "metadata": {},
     "output_type": "execute_result"
    },
    {
     "data": {
      "image/png": "[encoded data removed]",
      "text/plain": [
       "<Figure size 432x288 with 1 Axes>"
      ]
     },
     "metadata": {
      "needs_background": "light"
     },
     "output_type": "display_data"
    }
   ],
   "source": [
    "#What is the distribution of total loadings across items?\n",
    "plt.hist(H.sum(axis = 1))"
   ]
  },
  {
   "cell_type": "code",
   "execution_count": 36,
   "metadata": {
    "ExecuteTime": {
     "end_time": "2021-05-12T14:16:47.669678Z",
     "start_time": "2021-05-12T14:16:44.888079Z"
    }
   },
   "outputs": [
    {
     "name": "stdout",
     "output_type": "stream",
     "text": [
      "0\n",
      "Clay Bowl - empty : 12.153807191958448\n",
      "Clay Bowl - empty : 12.153807191958448\n",
      "Clay Bowl - empty : 11.591208978280223\n",
      "Stack of Clay Bowls : 3.158175697329237\n",
      "Stack of Clay Bowls : 3.158175697329237\n",
      "\n",
      "1\n",
      "Escaped Horse-Drawn Tire Cart - just released : 11.24914795932038\n",
      "Escaped Horse-Drawn Tire Cart - just released : 11.24914795932038\n",
      "Escaped Horse-Drawn Tire Cart - just released : 10.55787867667677\n",
      "Flat Rock - empty : 0.6157997501327849\n",
      "Flat Rock - empty : 0.6157997501327849\n",
      "\n",
      "2\n",
      "Basket : 28.900089855833855\n",
      "Basket : 28.900089855833855\n",
      "Basket : 27.31578684904141\n",
      "Clay : 1.3738082520756751\n",
      "Clay : 1.3738082520756751\n",
      "\n",
      "3\n",
      "Bowl of Gooseberries - +yum31 : 72.17444462728344\n",
      "Bowl of Gooseberries - +yum31 : 72.17444462728344\n",
      "Bowl of Gooseberries - +yum31 : 69.08537841383634\n",
      "Clay Bowl - empty : 12.542721487455362\n",
      "Clay Bowl - empty : 12.542721487455362\n",
      "\n",
      "4\n",
      "Cistern - +famUse100 : 10.88168318545405\n",
      "Cistern - +famUse100 : 10.88168318545405\n",
      "Cistern - +famUse100 : 10.315923227015062\n",
      "Stone Pile : 7.609578191729516\n",
      "Stone Pile : 7.609578191729516\n",
      "\n",
      "5\n",
      "Dead Rabbit : 32.37914649754505\n",
      "Dead Rabbit : 32.37914649754505\n",
      "Dead Rabbit : 31.314999696485312\n",
      "Skinned Rabbit : 26.566385398175246\n",
      "Skinned Rabbit : 26.566385398175246\n",
      "\n",
      "6\n",
      "Wild Gooseberry Bush : 35.067733386503\n",
      "Wild Gooseberry Bush : 35.067733386503\n",
      "Wild Gooseberry Bush : 34.065238619340214\n",
      "Sharp Stone : 24.498129205187244\n",
      "Sharp Stone : 24.498129205187244\n",
      "\n",
      "7\n",
      "Clay Plate : 29.571809068649856\n",
      "Clay Plate : 29.571809068649856\n",
      "Clay Plate : 28.701189327613466\n",
      "Stack of Clay Plates : 27.68820300030169\n",
      "Stack of Clay Plates : 27.68820300030169\n",
      "\n",
      "8\n",
      "Hand Cart with Tires : 26.12210554494008\n",
      "Hand Cart with Tires : 26.12210554494008\n",
      "Hand Cart with Tires : 25.619408154404717\n",
      "Stack of Clay Bowls : 1.7307993903473629\n",
      "Stack of Clay Bowls : 1.7307993903473629\n",
      "\n",
      "9\n",
      "Proposed Property Fence - groundOnly +horizontalA : 61.24612294962417\n",
      "Proposed Property Fence - groundOnly +horizontalA : 61.24612294962417\n",
      "Proposed Property Fence - groundOnly +horizontalA : 59.99282489833961\n",
      "Shaky Property Fence - +horizontalC : 11.646361698664222\n",
      "Shaky Property Fence - +horizontalC : 11.646361698664222\n",
      "\n",
      "10\n",
      "Firing Forge : 13.326691577671005\n",
      "Firing Forge : 13.326691577671005\n",
      "Firing Forge : 13.228125802809224\n",
      "Iron Ore Pile : 11.888739910294369\n",
      "Iron Ore Pile : 11.888739910294369\n",
      "\n",
      "11\n",
      "Partial Bucket of Water : 18.723777227817052\n",
      "Partial Bucket of Water : 18.723777227817052\n",
      "Partial Bucket of Water : 18.197642472363572\n",
      "Vigorous Domestic Gooseberry Bush : 16.999559103841637\n",
      "Vigorous Domestic Gooseberry Bush : 16.999559103841637\n",
      "\n",
      "12\n",
      "Stack of Firewood : 54.312207660275114\n",
      "Stack of Firewood : 54.312207660275114\n",
      "Stack of Firewood : 52.956385954442865\n",
      "Firewood : 25.53737265334656\n",
      "Firewood : 25.53737265334656\n",
      "\n",
      "13\n",
      "Domestic Gooseberry Bush : 46.57685336597662\n",
      "Domestic Gooseberry Bush : 46.48516772724673\n",
      "Domestic Gooseberry Bush : 46.48516772724673\n",
      "Empty Domestic Gooseberry Bush : 5.928143792065537\n",
      "Empty Domestic Gooseberry Bush : 5.9089685929793045\n",
      "\n",
      "14\n",
      "Stakes - +tool : 57.692579103702734\n",
      "Stakes - +tool : 57.692579103702734\n",
      "Stakes - +tool : 56.2758445350945\n",
      "Floor Stakes : 44.78481028655162\n",
      "Floor Stakes : 44.78481028655162\n",
      "\n",
      "15\n",
      "Partial Bucket of Water : 78.07258315128166\n",
      "Partial Bucket of Water : 78.07258315128166\n",
      "Partial Bucket of Water : 76.95780292898039\n",
      "Canada Goose Pond with Egg : 33.45875543704144\n",
      "Canada Goose Pond with Egg : 33.45875543704144\n",
      "\n",
      "16\n",
      "Deep Tilled Row - groundOnly : 42.83299719497167\n",
      "Deep Tilled Row - groundOnly : 42.83299719497167\n",
      "Deep Tilled Row - groundOnly : 42.15097113316683\n",
      "Fertile Soil Pile : 37.529548527684604\n",
      "Fertile Soil Pile : 37.529548527684604\n",
      "\n",
      "17\n",
      "Escaped Horse-Drawn Cart - just released : 27.43481030322721\n",
      "Escaped Horse-Drawn Cart - just released : 27.188359367322857\n",
      "Escaped Horse-Drawn Cart - just released : 27.188359367322857\n",
      "Backpack : 1.5837129294596077\n",
      "Backpack : 1.5678679267566002\n",
      "\n",
      "18\n",
      "Carrot Pile : 35.12200356704496\n",
      "Carrot Pile : 35.12200356704496\n",
      "Carrot Pile : 34.3682415318479\n",
      "Carrot Row : 33.521067173337435\n",
      "Carrot Row : 33.521067173337435\n",
      "\n",
      "19\n",
      "Hand Cart : 99.25703435320074\n",
      "Hand Cart : 99.25703435320074\n",
      "Hand Cart : 96.36051973734041\n",
      "Straight Branch : 4.392072001393295\n",
      "Straight Branch : 4.392072001393295\n",
      "\n"
     ]
    }
   ],
   "source": [
    "#Which items most strongly defined each component?\n",
    "for C in range(H.shape[0]):\n",
    "    comp = H[C,] #component\n",
    "    items = comp.argsort()[-5:][::-1]#sort by weight; select the top 5 items\n",
    "    print(C)\n",
    "    for item in items:\n",
    "        try:\n",
    "            objname = dbfind.item(itemIds[item])[0][0] #relate to item id using the trimmed_idx, and then look up\n",
    "            weight = str(comp[item])\n",
    "            print(' : '.join([objname, weight]))\n",
    "        except:\n",
    "            print(' : '.join([str(int(item)), str(comp[item])]))\n",
    "    print('')\n"
   ]
  },
  {
   "cell_type": "markdown",
   "metadata": {},
   "source": [
    "## Interpreting avatar embeddings"
   ]
  },
  {
   "cell_type": "code",
   "execution_count": 63,
   "metadata": {
    "ExecuteTime": {
     "end_time": "2021-04-27T19:08:20.137225Z",
     "start_time": "2021-04-27T19:08:06.106095Z"
    }
   },
   "outputs": [
    {
     "data": {
      "text/plain": [
       "Text(195.0, 0.5, 'Avatar')"
      ]
     },
     "execution_count": 63,
     "metadata": {},
     "output_type": "execute_result"
    },
    {
     "data": {
      "image/png": "[encoded data removed]",
      "text/plain": [
       "<Figure size 1728x720 with 2 Axes>"
      ]
     },
     "metadata": {
      "needs_background": "light"
     },
     "output_type": "display_data"
    }
   ],
   "source": [
    "plt.figure(figsize=(24, 10))\n",
    "ax = sns.heatmap(W,  cmap=\"viridis\") \n",
    "ax.set_xlabel('Latent Dimensions')\n",
    "ax.set_ylabel('Avatar')"
   ]
  },
  {
   "cell_type": "code",
   "execution_count": 64,
   "metadata": {
    "ExecuteTime": {
     "end_time": "2021-04-27T19:08:20.569911Z",
     "start_time": "2021-04-27T19:08:20.139554Z"
    }
   },
   "outputs": [
    {
     "data": {
      "text/plain": [
       "<matplotlib.axes._subplots.AxesSubplot at 0x7f8419a9b110>"
      ]
     },
     "execution_count": 64,
     "metadata": {},
     "output_type": "execute_result"
    },
    {
     "data": {
      "image/png": "[encoded data removed]",
      "text/plain": [
       "<Figure size 432x288 with 1 Axes>"
      ]
     },
     "metadata": {
      "needs_background": "light"
     },
     "output_type": "display_data"
    }
   ],
   "source": [
    "#Sum of loadings \n",
    "#The magnitude of the embedding vector for each player tells us how confidently we are able to assign that player to the latent space. \n",
    "sns.distplot(W.sum(axis = 1)) "
   ]
  },
  {
   "cell_type": "code",
   "execution_count": 65,
   "metadata": {
    "ExecuteTime": {
     "end_time": "2021-04-27T19:08:24.084980Z",
     "start_time": "2021-04-27T19:08:20.572952Z"
    }
   },
   "outputs": [
    {
     "data": {
      "text/plain": [
       "<matplotlib.axes._subplots.AxesSubplot at 0x7f8418924a90>"
      ]
     },
     "execution_count": 65,
     "metadata": {},
     "output_type": "execute_result"
    },
    {
     "data": {
      "image/png": "[encoded data removed]",
      "text/plain": [
       "<Figure size 432x288 with 2 Axes>"
      ]
     },
     "metadata": {
      "needs_background": "light"
     },
     "output_type": "display_data"
    }
   ],
   "source": [
    "#How correlated are the latent embedding dimensions?\n",
    "corr = pd.DataFrame(W).corr()\n",
    "\n",
    "# Generate a mask for the upper triangle\n",
    "mask = np.triu(np.ones_like(corr, dtype=bool))\n",
    "\n",
    "\n",
    "# Generate a custom diverging colormap\n",
    "cmap = sns.diverging_palette(230, 20, as_cmap=True)\n",
    "\n",
    "# Draw the heatmap with the mask and correct aspect ratio\n",
    "sns.heatmap(corr, mask=mask, cmap=cmap, vmax=.3, center=0,\n",
    "            square=True, linewidths=.5, cbar_kws={\"shrink\": .5})\n"
   ]
  },
  {
   "cell_type": "code",
   "execution_count": 95,
   "metadata": {
    "ExecuteTime": {
     "end_time": "2021-04-27T17:38:05.900218Z",
     "start_time": "2021-04-27T17:38:04.767082Z"
    }
   },
   "outputs": [],
   "source": [
    "#PCA\n",
    "pca = PCA(n_components=2)\n",
    "principalComponents = pca.fit_transform(W)\n",
    "\n",
    "principalDf = pd.DataFrame(data = principalComponents\n",
    "             , columns = ['principal component 1', 'principal component 2'])\n"
   ]
  },
  {
   "cell_type": "code",
   "execution_count": 96,
   "metadata": {
    "ExecuteTime": {
     "end_time": "2021-04-27T17:38:05.904704Z",
     "start_time": "2021-04-27T17:38:05.901905Z"
    }
   },
   "outputs": [
    {
     "name": "stdout",
     "output_type": "stream",
     "text": [
      "[2.03216802 0.54426478]\n"
     ]
    }
   ],
   "source": [
    "print(pca.explained_variance_) #not very much"
   ]
  },
  {
   "cell_type": "code",
   "execution_count": 97,
   "metadata": {
    "ExecuteTime": {
     "end_time": "2021-04-27T17:38:13.824118Z",
     "start_time": "2021-04-27T17:38:10.112205Z"
    }
   },
   "outputs": [
    {
     "data": {
      "image/png": "[encoded data removed]",
      "text/plain": [
       "<Figure size 576x576 with 1 Axes>"
      ]
     },
     "metadata": {
      "needs_background": "light"
     },
     "output_type": "display_data"
    }
   ],
   "source": [
    "#Job space embeddings\n",
    "fig = plt.figure(figsize = (8,8))\n",
    "ax = fig.add_subplot(1,1,1) \n",
    "ax.set_xlabel('Principal Component 1', fontsize = 15)\n",
    "ax.set_ylabel('Principal Component 2', fontsize = 15)\n",
    "ax.set_title('2 component PCA', fontsize = 20)\n",
    "targets = ['Iris-setosa', 'Iris-versicolor', 'Iris-virginica']\n",
    "colors = ['r', 'g', 'b']\n",
    "ax.scatter(principalDf['principal component 1'],principalDf['principal component 2'])\n",
    "ax.grid()"
   ]
  },
  {
   "cell_type": "markdown",
   "metadata": {},
   "source": [
    "## Compare with other player data"
   ]
  },
  {
   "cell_type": "code",
   "execution_count": 179,
   "metadata": {
    "ExecuteTime": {
     "end_time": "2021-04-27T19:56:52.767433Z",
     "start_time": "2021-04-27T19:56:41.564947Z"
    }
   },
   "outputs": [],
   "source": [
    "num = 1000\n",
    "subsample = sample(range(len(avatarIds)),num)\n",
    "playerDF = pd.DataFrame(db.lifelogs.find({\"avatar\":{\"$in\": [avatarIds[i] for i in subsample]}}).limit(num)) #query for avatar ids"
   ]
  },
  {
   "cell_type": "code",
   "execution_count": 180,
   "metadata": {
    "ExecuteTime": {
     "end_time": "2021-04-27T19:56:52.773832Z",
     "start_time": "2021-04-27T19:56:52.769328Z"
    }
   },
   "outputs": [],
   "source": [
    "#workaround for found avatar ids\n",
    "subsample = np.array(subsample)[np.isin(np.array([avatarIds[i] for i in subsample]),playerDF['avatar'])]\n"
   ]
  },
  {
   "cell_type": "code",
   "execution_count": 182,
   "metadata": {
    "ExecuteTime": {
     "end_time": "2021-04-27T19:58:21.571704Z",
     "start_time": "2021-04-27T19:58:21.568569Z"
    }
   },
   "outputs": [
    {
     "data": {
      "text/plain": [
       "(662426, 20)"
      ]
     },
     "execution_count": 182,
     "metadata": {},
     "output_type": "execute_result"
    }
   ],
   "source": [
    "W.shape"
   ]
  },
  {
   "cell_type": "code",
   "execution_count": 198,
   "metadata": {
    "ExecuteTime": {
     "end_time": "2021-04-27T20:02:48.832570Z",
     "start_time": "2021-04-27T20:02:48.805857Z"
    }
   },
   "outputs": [],
   "source": [
    "#Can we relate the magnitude of the embedding to other characteristics?\n",
    "playerDF['totalLoading'] = W.sum(axis = 1)[subsample]\n",
    "playerDF['entropy'] = np.apply_along_axis(stats.entropy, 1, W[subsample,])\n",
    "playerDF['logLives'] = np.log10(playerDF['n_lives']+1)"
   ]
  },
  {
   "cell_type": "code",
   "execution_count": 201,
   "metadata": {
    "ExecuteTime": {
     "end_time": "2021-04-27T20:03:08.074435Z",
     "start_time": "2021-04-27T20:03:07.422790Z"
    }
   },
   "outputs": [
    {
     "data": {
      "image/png": "[encoded data removed]",
      "text/plain": [
       "<Figure size 432x432 with 3 Axes>"
      ]
     },
     "metadata": {
      "needs_background": "light"
     },
     "output_type": "display_data"
    }
   ],
   "source": [
    "sns.jointplot(data=playerDF, x='logLives', y = 'totalLoading', kind = 'reg') #alternative can look at 'age', 'gen', etc...\n",
    "plt.show()"
   ]
  },
  {
   "cell_type": "code",
   "execution_count": 184,
   "metadata": {
    "ExecuteTime": {
     "end_time": "2021-04-27T19:58:39.096508Z",
     "start_time": "2021-04-27T19:58:39.068990Z"
    }
   },
   "outputs": [
    {
     "data": {
      "text/html": [
       "<div>\n",
       "<style scoped>\n",
       "    .dataframe tbody tr th:only-of-type {\n",
       "        vertical-align: middle;\n",
       "    }\n",
       "\n",
       "    .dataframe tbody tr th {\n",
       "        vertical-align: top;\n",
       "    }\n",
       "\n",
       "    .dataframe thead th {\n",
       "        text-align: right;\n",
       "    }\n",
       "</style>\n",
       "<table border=\"1\" class=\"dataframe\">\n",
       "  <thead>\n",
       "    <tr style=\"text-align: right;\">\n",
       "      <th></th>\n",
       "      <th>_id</th>\n",
       "      <th>cause_of_death</th>\n",
       "      <th>last</th>\n",
       "      <th>birthY</th>\n",
       "      <th>parent</th>\n",
       "      <th>birthX</th>\n",
       "      <th>gametime</th>\n",
       "      <th>age</th>\n",
       "      <th>deathX</th>\n",
       "      <th>deathY</th>\n",
       "      <th>tBirth</th>\n",
       "      <th>avatar</th>\n",
       "      <th>family</th>\n",
       "      <th>first</th>\n",
       "      <th>n_lives</th>\n",
       "      <th>tDeath</th>\n",
       "      <th>player_x</th>\n",
       "      <th>player_y</th>\n",
       "      <th>totalLoading</th>\n",
       "    </tr>\n",
       "  </thead>\n",
       "  <tbody>\n",
       "    <tr>\n",
       "      <th>0</th>\n",
       "      <td>6085d535a1470ce8164cb4ee</td>\n",
       "      <td>oldAge</td>\n",
       "      <td>GFELL</td>\n",
       "      <td>-80</td>\n",
       "      <td>4107352</td>\n",
       "      <td>-13741</td>\n",
       "      <td>51175.34</td>\n",
       "      <td>60.00</td>\n",
       "      <td>-13768.0</td>\n",
       "      <td>-88.0</td>\n",
       "      <td>1617639661</td>\n",
       "      <td>4107418</td>\n",
       "      <td>time-1617611732_eve-4106678_name-GFELL</td>\n",
       "      <td>WILLIAMETTA</td>\n",
       "      <td>1981</td>\n",
       "      <td>1.617643e+09</td>\n",
       "      <td>cfd3ee0407633723d70b31c0b2b6d68e89453217</td>\n",
       "      <td>cfd3ee0407633723d70b31c0b2b6d68e89453217</td>\n",
       "      <td>1.344424</td>\n",
       "    </tr>\n",
       "    <tr>\n",
       "      <th>1</th>\n",
       "      <td>6085d535a1470ce8164cb658</td>\n",
       "      <td>hunger</td>\n",
       "      <td>MILLER</td>\n",
       "      <td>-172</td>\n",
       "      <td>4106552</td>\n",
       "      <td>-15556</td>\n",
       "      <td>64220.27</td>\n",
       "      <td>53.34</td>\n",
       "      <td>-15558.0</td>\n",
       "      <td>-160.0</td>\n",
       "      <td>1617607722</td>\n",
       "      <td>4106579</td>\n",
       "      <td>time-1617584557_eve-4105886_name-MILLER</td>\n",
       "      <td>KNIGHTON</td>\n",
       "      <td>1934</td>\n",
       "      <td>1.617611e+09</td>\n",
       "      <td>c4932291081aa8df4a508980d92516d6cac828f2</td>\n",
       "      <td>c4932291081aa8df4a508980d92516d6cac828f2</td>\n",
       "      <td>0.571667</td>\n",
       "    </tr>\n",
       "    <tr>\n",
       "      <th>2</th>\n",
       "      <td>6085d535a1470ce8164cb95f</td>\n",
       "      <td>oldAge</td>\n",
       "      <td>SPOON</td>\n",
       "      <td>-349</td>\n",
       "      <td>4104915</td>\n",
       "      <td>-15130</td>\n",
       "      <td>3228.96</td>\n",
       "      <td>60.00</td>\n",
       "      <td>-15132.0</td>\n",
       "      <td>-350.0</td>\n",
       "      <td>1617559296</td>\n",
       "      <td>4104985</td>\n",
       "      <td>time-1617534126_eve-4104216_name-SPOON</td>\n",
       "      <td>ROSE</td>\n",
       "      <td>113</td>\n",
       "      <td>1.617563e+09</td>\n",
       "      <td>70a5ef28e78dabd6e72b67600475cda7140798cc</td>\n",
       "      <td>70a5ef28e78dabd6e72b67600475cda7140798cc</td>\n",
       "      <td>0.885558</td>\n",
       "    </tr>\n",
       "    <tr>\n",
       "      <th>3</th>\n",
       "      <td>6085d535a1470ce8164cbc5f</td>\n",
       "      <td>oldAge</td>\n",
       "      <td>DRAGON</td>\n",
       "      <td>130</td>\n",
       "      <td>4103445</td>\n",
       "      <td>-13956</td>\n",
       "      <td>29540.19</td>\n",
       "      <td>60.00</td>\n",
       "      <td>-13943.0</td>\n",
       "      <td>130.0</td>\n",
       "      <td>1617505796</td>\n",
       "      <td>4103505</td>\n",
       "      <td>time-1617471084_eve-4102061_name-DRAGON</td>\n",
       "      <td>REBECCALYNN</td>\n",
       "      <td>532</td>\n",
       "      <td>1.617509e+09</td>\n",
       "      <td>72da7ec5693ed178063f55e116c1db507a9ab6fd</td>\n",
       "      <td>72da7ec5693ed178063f55e116c1db507a9ab6fd</td>\n",
       "      <td>0.544078</td>\n",
       "    </tr>\n",
       "    <tr>\n",
       "      <th>4</th>\n",
       "      <td>6085d535a1470ce8164cbcc9</td>\n",
       "      <td>oldAge</td>\n",
       "      <td>FUN</td>\n",
       "      <td>412</td>\n",
       "      <td>4103170</td>\n",
       "      <td>-10802</td>\n",
       "      <td>5739.85</td>\n",
       "      <td>60.00</td>\n",
       "      <td>-10801.0</td>\n",
       "      <td>412.0</td>\n",
       "      <td>1617500721</td>\n",
       "      <td>4103268</td>\n",
       "      <td>time-1617439769_eve-4101286_name-FUN</td>\n",
       "      <td>HANNA</td>\n",
       "      <td>137</td>\n",
       "      <td>1.617504e+09</td>\n",
       "      <td>d77c2722a17152744b2bd25aa00724571df77992</td>\n",
       "      <td>d77c2722a17152744b2bd25aa00724571df77992</td>\n",
       "      <td>5.116483</td>\n",
       "    </tr>\n",
       "    <tr>\n",
       "      <th>...</th>\n",
       "      <td>...</td>\n",
       "      <td>...</td>\n",
       "      <td>...</td>\n",
       "      <td>...</td>\n",
       "      <td>...</td>\n",
       "      <td>...</td>\n",
       "      <td>...</td>\n",
       "      <td>...</td>\n",
       "      <td>...</td>\n",
       "      <td>...</td>\n",
       "      <td>...</td>\n",
       "      <td>...</td>\n",
       "      <td>...</td>\n",
       "      <td>...</td>\n",
       "      <td>...</td>\n",
       "      <td>...</td>\n",
       "      <td>...</td>\n",
       "      <td>...</td>\n",
       "      <td>...</td>\n",
       "    </tr>\n",
       "    <tr>\n",
       "      <th>426</th>\n",
       "      <td>6085d53ea1470ce81658803b</td>\n",
       "      <td>hunger</td>\n",
       "      <td>ROSE</td>\n",
       "      <td>-722</td>\n",
       "      <td>2287975</td>\n",
       "      <td>122</td>\n",
       "      <td>19690.76</td>\n",
       "      <td>59.20</td>\n",
       "      <td>124.0</td>\n",
       "      <td>-720.0</td>\n",
       "      <td>1574133701</td>\n",
       "      <td>2288073</td>\n",
       "      <td>time-1574102535_eve-2286474_name-ROSE</td>\n",
       "      <td>FLOYE</td>\n",
       "      <td>495</td>\n",
       "      <td>1.574137e+09</td>\n",
       "      <td>b8167568fdc657f1c08c70e764a0a17042295de7</td>\n",
       "      <td>b8167568fdc657f1c08c70e764a0a17042295de7</td>\n",
       "      <td>2.024922</td>\n",
       "    </tr>\n",
       "    <tr>\n",
       "      <th>427</th>\n",
       "      <td>6085d53ea1470ce816588104</td>\n",
       "      <td>oldAge</td>\n",
       "      <td>MARY</td>\n",
       "      <td>-801</td>\n",
       "      <td>2287586</td>\n",
       "      <td>-718</td>\n",
       "      <td>2089.87</td>\n",
       "      <td>60.00</td>\n",
       "      <td>-706.0</td>\n",
       "      <td>-803.0</td>\n",
       "      <td>1574126765</td>\n",
       "      <td>2287719</td>\n",
       "      <td>time-1574103236_eve-2286590_name-MARY</td>\n",
       "      <td>ODOM</td>\n",
       "      <td>48</td>\n",
       "      <td>1.574130e+09</td>\n",
       "      <td>866a85fd142820f4f1d5aecdbe887f97de699050</td>\n",
       "      <td>866a85fd142820f4f1d5aecdbe887f97de699050</td>\n",
       "      <td>0.993524</td>\n",
       "    </tr>\n",
       "    <tr>\n",
       "      <th>428</th>\n",
       "      <td>6085d53ea1470ce816588184</td>\n",
       "      <td>hunger</td>\n",
       "      <td>NaN</td>\n",
       "      <td>-121</td>\n",
       "      <td>2287393</td>\n",
       "      <td>47</td>\n",
       "      <td>627.11</td>\n",
       "      <td>44.48</td>\n",
       "      <td>34.0</td>\n",
       "      <td>-124.0</td>\n",
       "      <td>1574122524</td>\n",
       "      <td>2287491</td>\n",
       "      <td>time-1574102515_eve-2286466_name-ALDRICH</td>\n",
       "      <td>ZOEY</td>\n",
       "      <td>20</td>\n",
       "      <td>1.574125e+09</td>\n",
       "      <td>1304a484722f0c4a635c28158d861c6fd5b51dd4</td>\n",
       "      <td>1304a484722f0c4a635c28158d861c6fd5b51dd4</td>\n",
       "      <td>2.654581</td>\n",
       "    </tr>\n",
       "    <tr>\n",
       "      <th>429</th>\n",
       "      <td>6085d53ea1470ce81658850b</td>\n",
       "      <td>oldAge</td>\n",
       "      <td>LIMEHOUSE</td>\n",
       "      <td>-524</td>\n",
       "      <td>2285742</td>\n",
       "      <td>-12201</td>\n",
       "      <td>47.74</td>\n",
       "      <td>60.00</td>\n",
       "      <td>-12199.0</td>\n",
       "      <td>-594.0</td>\n",
       "      <td>1574081186</td>\n",
       "      <td>2285775</td>\n",
       "      <td>time-1574076383_eve-2285659_name-LIMEHOUSE</td>\n",
       "      <td>MERLIN</td>\n",
       "      <td>1</td>\n",
       "      <td>1.574085e+09</td>\n",
       "      <td>6a973ab58c1d3acd8ef864605c960c4655b6eee7</td>\n",
       "      <td>6a973ab58c1d3acd8ef864605c960c4655b6eee7</td>\n",
       "      <td>3.297515</td>\n",
       "    </tr>\n",
       "    <tr>\n",
       "      <th>430</th>\n",
       "      <td>6085d53ea1470ce816588e97</td>\n",
       "      <td>hunger</td>\n",
       "      <td>ISPAS</td>\n",
       "      <td>-159</td>\n",
       "      <td>2277944</td>\n",
       "      <td>-8874</td>\n",
       "      <td>2828.98</td>\n",
       "      <td>56.22</td>\n",
       "      <td>-8857.0</td>\n",
       "      <td>-183.0</td>\n",
       "      <td>1573921757</td>\n",
       "      <td>2278080</td>\n",
       "      <td>time-1573909483_eve-2277421_name-ISPAS</td>\n",
       "      <td>NOA</td>\n",
       "      <td>67</td>\n",
       "      <td>1.573925e+09</td>\n",
       "      <td>088c4a872f9f0935c904cc106972b962d7baaa4f</td>\n",
       "      <td>088c4a872f9f0935c904cc106972b962d7baaa4f</td>\n",
       "      <td>3.456333</td>\n",
       "    </tr>\n",
       "  </tbody>\n",
       "</table>\n",
       "<p>431 rows × 19 columns</p>\n",
       "</div>"
      ],
      "text/plain": [
       "                          _id cause_of_death       last  birthY   parent  \\\n",
       "0    6085d535a1470ce8164cb4ee         oldAge      GFELL     -80  4107352   \n",
       "1    6085d535a1470ce8164cb658         hunger     MILLER    -172  4106552   \n",
       "2    6085d535a1470ce8164cb95f         oldAge      SPOON    -349  4104915   \n",
       "3    6085d535a1470ce8164cbc5f         oldAge     DRAGON     130  4103445   \n",
       "4    6085d535a1470ce8164cbcc9         oldAge        FUN     412  4103170   \n",
       "..                        ...            ...        ...     ...      ...   \n",
       "426  6085d53ea1470ce81658803b         hunger       ROSE    -722  2287975   \n",
       "427  6085d53ea1470ce816588104         oldAge       MARY    -801  2287586   \n",
       "428  6085d53ea1470ce816588184         hunger        NaN    -121  2287393   \n",
       "429  6085d53ea1470ce81658850b         oldAge  LIMEHOUSE    -524  2285742   \n",
       "430  6085d53ea1470ce816588e97         hunger      ISPAS    -159  2277944   \n",
       "\n",
       "     birthX  gametime    age   deathX  deathY      tBirth   avatar  \\\n",
       "0    -13741  51175.34  60.00 -13768.0   -88.0  1617639661  4107418   \n",
       "1    -15556  64220.27  53.34 -15558.0  -160.0  1617607722  4106579   \n",
       "2    -15130   3228.96  60.00 -15132.0  -350.0  1617559296  4104985   \n",
       "3    -13956  29540.19  60.00 -13943.0   130.0  1617505796  4103505   \n",
       "4    -10802   5739.85  60.00 -10801.0   412.0  1617500721  4103268   \n",
       "..      ...       ...    ...      ...     ...         ...      ...   \n",
       "426     122  19690.76  59.20    124.0  -720.0  1574133701  2288073   \n",
       "427    -718   2089.87  60.00   -706.0  -803.0  1574126765  2287719   \n",
       "428      47    627.11  44.48     34.0  -124.0  1574122524  2287491   \n",
       "429  -12201     47.74  60.00 -12199.0  -594.0  1574081186  2285775   \n",
       "430   -8874   2828.98  56.22  -8857.0  -183.0  1573921757  2278080   \n",
       "\n",
       "                                         family        first  n_lives  \\\n",
       "0        time-1617611732_eve-4106678_name-GFELL  WILLIAMETTA     1981   \n",
       "1       time-1617584557_eve-4105886_name-MILLER     KNIGHTON     1934   \n",
       "2        time-1617534126_eve-4104216_name-SPOON         ROSE      113   \n",
       "3       time-1617471084_eve-4102061_name-DRAGON  REBECCALYNN      532   \n",
       "4          time-1617439769_eve-4101286_name-FUN        HANNA      137   \n",
       "..                                          ...          ...      ...   \n",
       "426       time-1574102535_eve-2286474_name-ROSE        FLOYE      495   \n",
       "427       time-1574103236_eve-2286590_name-MARY         ODOM       48   \n",
       "428    time-1574102515_eve-2286466_name-ALDRICH         ZOEY       20   \n",
       "429  time-1574076383_eve-2285659_name-LIMEHOUSE       MERLIN        1   \n",
       "430      time-1573909483_eve-2277421_name-ISPAS          NOA       67   \n",
       "\n",
       "           tDeath                                  player_x  \\\n",
       "0    1.617643e+09  cfd3ee0407633723d70b31c0b2b6d68e89453217   \n",
       "1    1.617611e+09  c4932291081aa8df4a508980d92516d6cac828f2   \n",
       "2    1.617563e+09  70a5ef28e78dabd6e72b67600475cda7140798cc   \n",
       "3    1.617509e+09  72da7ec5693ed178063f55e116c1db507a9ab6fd   \n",
       "4    1.617504e+09  d77c2722a17152744b2bd25aa00724571df77992   \n",
       "..            ...                                       ...   \n",
       "426  1.574137e+09  b8167568fdc657f1c08c70e764a0a17042295de7   \n",
       "427  1.574130e+09  866a85fd142820f4f1d5aecdbe887f97de699050   \n",
       "428  1.574125e+09  1304a484722f0c4a635c28158d861c6fd5b51dd4   \n",
       "429  1.574085e+09  6a973ab58c1d3acd8ef864605c960c4655b6eee7   \n",
       "430  1.573925e+09  088c4a872f9f0935c904cc106972b962d7baaa4f   \n",
       "\n",
       "                                     player_y  totalLoading  \n",
       "0    cfd3ee0407633723d70b31c0b2b6d68e89453217      1.344424  \n",
       "1    c4932291081aa8df4a508980d92516d6cac828f2      0.571667  \n",
       "2    70a5ef28e78dabd6e72b67600475cda7140798cc      0.885558  \n",
       "3    72da7ec5693ed178063f55e116c1db507a9ab6fd      0.544078  \n",
       "4    d77c2722a17152744b2bd25aa00724571df77992      5.116483  \n",
       "..                                        ...           ...  \n",
       "426  b8167568fdc657f1c08c70e764a0a17042295de7      2.024922  \n",
       "427  866a85fd142820f4f1d5aecdbe887f97de699050      0.993524  \n",
       "428  1304a484722f0c4a635c28158d861c6fd5b51dd4      2.654581  \n",
       "429  6a973ab58c1d3acd8ef864605c960c4655b6eee7      3.297515  \n",
       "430  088c4a872f9f0935c904cc106972b962d7baaa4f      3.456333  \n",
       "\n",
       "[431 rows x 19 columns]"
      ]
     },
     "execution_count": 184,
     "metadata": {},
     "output_type": "execute_result"
    }
   ],
   "source": [
    "playerDF"
   ]
  },
  {
   "cell_type": "code",
   "execution_count": 202,
   "metadata": {
    "ExecuteTime": {
     "end_time": "2021-04-27T20:03:33.735641Z",
     "start_time": "2021-04-27T20:03:33.719601Z"
    }
   },
   "outputs": [
    {
     "ename": "ValueError",
     "evalue": "Length of values does not match length of index",
     "output_type": "error",
     "traceback": [
      "\u001b[0;31m---------------------------------------------------------------------------\u001b[0m",
      "\u001b[0;31mValueError\u001b[0m                                Traceback (most recent call last)",
      "\u001b[0;32m<ipython-input-202-a59557401204>\u001b[0m in \u001b[0;36m<module>\u001b[0;34m\u001b[0m\n\u001b[1;32m      2\u001b[0m \u001b[0mjobDF\u001b[0m \u001b[0;34m=\u001b[0m \u001b[0mplayerDF\u001b[0m\u001b[0;34m\u001b[0m\u001b[0;34m\u001b[0m\u001b[0m\n\u001b[1;32m      3\u001b[0m \u001b[0;32mfor\u001b[0m \u001b[0mi\u001b[0m \u001b[0;32min\u001b[0m \u001b[0mrange\u001b[0m\u001b[0;34m(\u001b[0m\u001b[0;36m20\u001b[0m\u001b[0;34m)\u001b[0m\u001b[0;34m:\u001b[0m\u001b[0;34m\u001b[0m\u001b[0;34m\u001b[0m\u001b[0m\n\u001b[0;32m----> 4\u001b[0;31m     \u001b[0mjobDF\u001b[0m\u001b[0;34m[\u001b[0m\u001b[0;34m'Dim'\u001b[0m\u001b[0;34m+\u001b[0m\u001b[0mstr\u001b[0m\u001b[0;34m(\u001b[0m\u001b[0mi\u001b[0m\u001b[0;34m)\u001b[0m\u001b[0;34m]\u001b[0m \u001b[0;34m=\u001b[0m \u001b[0mW\u001b[0m\u001b[0;34m[\u001b[0m\u001b[0;34m:\u001b[0m\u001b[0;34m,\u001b[0m\u001b[0mi\u001b[0m\u001b[0;34m]\u001b[0m\u001b[0;34m\u001b[0m\u001b[0;34m\u001b[0m\u001b[0m\n\u001b[0m",
      "\u001b[0;32m/opt/anaconda3/lib/python3.7/site-packages/pandas/core/frame.py\u001b[0m in \u001b[0;36m__setitem__\u001b[0;34m(self, key, value)\u001b[0m\n\u001b[1;32m   3485\u001b[0m         \u001b[0;32melse\u001b[0m\u001b[0;34m:\u001b[0m\u001b[0;34m\u001b[0m\u001b[0;34m\u001b[0m\u001b[0m\n\u001b[1;32m   3486\u001b[0m             \u001b[0;31m# set column\u001b[0m\u001b[0;34m\u001b[0m\u001b[0;34m\u001b[0m\u001b[0;34m\u001b[0m\u001b[0m\n\u001b[0;32m-> 3487\u001b[0;31m             \u001b[0mself\u001b[0m\u001b[0;34m.\u001b[0m\u001b[0m_set_item\u001b[0m\u001b[0;34m(\u001b[0m\u001b[0mkey\u001b[0m\u001b[0;34m,\u001b[0m \u001b[0mvalue\u001b[0m\u001b[0;34m)\u001b[0m\u001b[0;34m\u001b[0m\u001b[0;34m\u001b[0m\u001b[0m\n\u001b[0m\u001b[1;32m   3488\u001b[0m \u001b[0;34m\u001b[0m\u001b[0m\n\u001b[1;32m   3489\u001b[0m     \u001b[0;32mdef\u001b[0m \u001b[0m_setitem_slice\u001b[0m\u001b[0;34m(\u001b[0m\u001b[0mself\u001b[0m\u001b[0;34m,\u001b[0m \u001b[0mkey\u001b[0m\u001b[0;34m,\u001b[0m \u001b[0mvalue\u001b[0m\u001b[0;34m)\u001b[0m\u001b[0;34m:\u001b[0m\u001b[0;34m\u001b[0m\u001b[0;34m\u001b[0m\u001b[0m\n",
      "\u001b[0;32m/opt/anaconda3/lib/python3.7/site-packages/pandas/core/frame.py\u001b[0m in \u001b[0;36m_set_item\u001b[0;34m(self, key, value)\u001b[0m\n\u001b[1;32m   3562\u001b[0m \u001b[0;34m\u001b[0m\u001b[0m\n\u001b[1;32m   3563\u001b[0m         \u001b[0mself\u001b[0m\u001b[0;34m.\u001b[0m\u001b[0m_ensure_valid_index\u001b[0m\u001b[0;34m(\u001b[0m\u001b[0mvalue\u001b[0m\u001b[0;34m)\u001b[0m\u001b[0;34m\u001b[0m\u001b[0;34m\u001b[0m\u001b[0m\n\u001b[0;32m-> 3564\u001b[0;31m         \u001b[0mvalue\u001b[0m \u001b[0;34m=\u001b[0m \u001b[0mself\u001b[0m\u001b[0;34m.\u001b[0m\u001b[0m_sanitize_column\u001b[0m\u001b[0;34m(\u001b[0m\u001b[0mkey\u001b[0m\u001b[0;34m,\u001b[0m \u001b[0mvalue\u001b[0m\u001b[0;34m)\u001b[0m\u001b[0;34m\u001b[0m\u001b[0;34m\u001b[0m\u001b[0m\n\u001b[0m\u001b[1;32m   3565\u001b[0m         \u001b[0mNDFrame\u001b[0m\u001b[0;34m.\u001b[0m\u001b[0m_set_item\u001b[0m\u001b[0;34m(\u001b[0m\u001b[0mself\u001b[0m\u001b[0;34m,\u001b[0m \u001b[0mkey\u001b[0m\u001b[0;34m,\u001b[0m \u001b[0mvalue\u001b[0m\u001b[0;34m)\u001b[0m\u001b[0;34m\u001b[0m\u001b[0;34m\u001b[0m\u001b[0m\n\u001b[1;32m   3566\u001b[0m \u001b[0;34m\u001b[0m\u001b[0m\n",
      "\u001b[0;32m/opt/anaconda3/lib/python3.7/site-packages/pandas/core/frame.py\u001b[0m in \u001b[0;36m_sanitize_column\u001b[0;34m(self, key, value, broadcast)\u001b[0m\n\u001b[1;32m   3747\u001b[0m \u001b[0;34m\u001b[0m\u001b[0m\n\u001b[1;32m   3748\u001b[0m             \u001b[0;31m# turn me into an ndarray\u001b[0m\u001b[0;34m\u001b[0m\u001b[0;34m\u001b[0m\u001b[0;34m\u001b[0m\u001b[0m\n\u001b[0;32m-> 3749\u001b[0;31m             \u001b[0mvalue\u001b[0m \u001b[0;34m=\u001b[0m \u001b[0msanitize_index\u001b[0m\u001b[0;34m(\u001b[0m\u001b[0mvalue\u001b[0m\u001b[0;34m,\u001b[0m \u001b[0mself\u001b[0m\u001b[0;34m.\u001b[0m\u001b[0mindex\u001b[0m\u001b[0;34m,\u001b[0m \u001b[0mcopy\u001b[0m\u001b[0;34m=\u001b[0m\u001b[0;32mFalse\u001b[0m\u001b[0;34m)\u001b[0m\u001b[0;34m\u001b[0m\u001b[0;34m\u001b[0m\u001b[0m\n\u001b[0m\u001b[1;32m   3750\u001b[0m             \u001b[0;32mif\u001b[0m \u001b[0;32mnot\u001b[0m \u001b[0misinstance\u001b[0m\u001b[0;34m(\u001b[0m\u001b[0mvalue\u001b[0m\u001b[0;34m,\u001b[0m \u001b[0;34m(\u001b[0m\u001b[0mnp\u001b[0m\u001b[0;34m.\u001b[0m\u001b[0mndarray\u001b[0m\u001b[0;34m,\u001b[0m \u001b[0mIndex\u001b[0m\u001b[0;34m)\u001b[0m\u001b[0;34m)\u001b[0m\u001b[0;34m:\u001b[0m\u001b[0;34m\u001b[0m\u001b[0;34m\u001b[0m\u001b[0m\n\u001b[1;32m   3751\u001b[0m                 \u001b[0;32mif\u001b[0m \u001b[0misinstance\u001b[0m\u001b[0;34m(\u001b[0m\u001b[0mvalue\u001b[0m\u001b[0;34m,\u001b[0m \u001b[0mlist\u001b[0m\u001b[0;34m)\u001b[0m \u001b[0;32mand\u001b[0m \u001b[0mlen\u001b[0m\u001b[0;34m(\u001b[0m\u001b[0mvalue\u001b[0m\u001b[0;34m)\u001b[0m \u001b[0;34m>\u001b[0m \u001b[0;36m0\u001b[0m\u001b[0;34m:\u001b[0m\u001b[0;34m\u001b[0m\u001b[0;34m\u001b[0m\u001b[0m\n",
      "\u001b[0;32m/opt/anaconda3/lib/python3.7/site-packages/pandas/core/internals/construction.py\u001b[0m in \u001b[0;36msanitize_index\u001b[0;34m(data, index, copy)\u001b[0m\n\u001b[1;32m    610\u001b[0m \u001b[0;34m\u001b[0m\u001b[0m\n\u001b[1;32m    611\u001b[0m     \u001b[0;32mif\u001b[0m \u001b[0mlen\u001b[0m\u001b[0;34m(\u001b[0m\u001b[0mdata\u001b[0m\u001b[0;34m)\u001b[0m \u001b[0;34m!=\u001b[0m \u001b[0mlen\u001b[0m\u001b[0;34m(\u001b[0m\u001b[0mindex\u001b[0m\u001b[0;34m)\u001b[0m\u001b[0;34m:\u001b[0m\u001b[0;34m\u001b[0m\u001b[0;34m\u001b[0m\u001b[0m\n\u001b[0;32m--> 612\u001b[0;31m         \u001b[0;32mraise\u001b[0m \u001b[0mValueError\u001b[0m\u001b[0;34m(\u001b[0m\u001b[0;34m\"Length of values does not match length of index\"\u001b[0m\u001b[0;34m)\u001b[0m\u001b[0;34m\u001b[0m\u001b[0;34m\u001b[0m\u001b[0m\n\u001b[0m\u001b[1;32m    613\u001b[0m \u001b[0;34m\u001b[0m\u001b[0m\n\u001b[1;32m    614\u001b[0m     \u001b[0;32mif\u001b[0m \u001b[0misinstance\u001b[0m\u001b[0;34m(\u001b[0m\u001b[0mdata\u001b[0m\u001b[0;34m,\u001b[0m \u001b[0mABCIndexClass\u001b[0m\u001b[0;34m)\u001b[0m \u001b[0;32mand\u001b[0m \u001b[0;32mnot\u001b[0m \u001b[0mcopy\u001b[0m\u001b[0;34m:\u001b[0m\u001b[0;34m\u001b[0m\u001b[0;34m\u001b[0m\u001b[0m\n",
      "\u001b[0;31mValueError\u001b[0m: Length of values does not match length of index"
     ]
    }
   ],
   "source": [
    "#add latent dimensions\n",
    "jobDF = playerDF\n",
    "for i in range(20):\n",
    "    jobDF['Dim'+str(i)] = W[:,i]"
   ]
  },
  {
   "cell_type": "markdown",
   "metadata": {},
   "source": [
    "## NMF Validation"
   ]
  },
  {
   "cell_type": "code",
   "execution_count": 12,
   "metadata": {
    "ExecuteTime": {
     "end_time": "2021-06-18T08:32:20.598705Z",
     "start_time": "2021-06-18T08:32:20.541545Z"
    }
   },
   "outputs": [],
   "source": [
    "cursor = db.nmf_validation.find()\n",
    "nmfValidation =  pd.DataFrame(list(cursor)) "
   ]
  },
  {
   "cell_type": "code",
   "execution_count": 13,
   "metadata": {
    "ExecuteTime": {
     "end_time": "2021-06-18T08:32:20.899700Z",
     "start_time": "2021-06-18T08:32:20.891047Z"
    }
   },
   "outputs": [
    {
     "data": {
      "text/html": [
       "<div>\n",
       "<style scoped>\n",
       "    .dataframe tbody tr th:only-of-type {\n",
       "        vertical-align: middle;\n",
       "    }\n",
       "\n",
       "    .dataframe tbody tr th {\n",
       "        vertical-align: top;\n",
       "    }\n",
       "\n",
       "    .dataframe thead th {\n",
       "        text-align: right;\n",
       "    }\n",
       "</style>\n",
       "<table border=\"1\" class=\"dataframe\">\n",
       "  <thead>\n",
       "    <tr style=\"text-align: right;\">\n",
       "      <th></th>\n",
       "      <th>_id</th>\n",
       "      <th>varExplained</th>\n",
       "      <th>n_components</th>\n",
       "      <th>jobMatrix</th>\n",
       "    </tr>\n",
       "  </thead>\n",
       "  <tbody>\n",
       "    <tr>\n",
       "      <th>0</th>\n",
       "      <td>60cb029a87c8b25d7bedd35e</td>\n",
       "      <td>0.009406</td>\n",
       "      <td>2</td>\n",
       "      <td>cleaned</td>\n",
       "    </tr>\n",
       "    <tr>\n",
       "      <th>1</th>\n",
       "      <td>60cb03bb87c8b25d7bedd35f</td>\n",
       "      <td>0.012679</td>\n",
       "      <td>3</td>\n",
       "      <td>cleaned</td>\n",
       "    </tr>\n",
       "    <tr>\n",
       "      <th>2</th>\n",
       "      <td>60cb053587c8b25d7bedd360</td>\n",
       "      <td>0.019031</td>\n",
       "      <td>5</td>\n",
       "      <td>cleaned</td>\n",
       "    </tr>\n",
       "    <tr>\n",
       "      <th>3</th>\n",
       "      <td>60cb06b087c8b25d7bedd361</td>\n",
       "      <td>0.023163</td>\n",
       "      <td>8</td>\n",
       "      <td>cleaned</td>\n",
       "    </tr>\n",
       "    <tr>\n",
       "      <th>4</th>\n",
       "      <td>60cb085587c8b25d7bedd362</td>\n",
       "      <td>0.031929</td>\n",
       "      <td>12</td>\n",
       "      <td>cleaned</td>\n",
       "    </tr>\n",
       "    <tr>\n",
       "      <th>5</th>\n",
       "      <td>60cb0a3287c8b25d7bedd363</td>\n",
       "      <td>0.039270</td>\n",
       "      <td>18</td>\n",
       "      <td>cleaned</td>\n",
       "    </tr>\n",
       "    <tr>\n",
       "      <th>6</th>\n",
       "      <td>60cb0d7c87c8b25d7bedd364</td>\n",
       "      <td>0.046100</td>\n",
       "      <td>26</td>\n",
       "      <td>cleaned</td>\n",
       "    </tr>\n",
       "    <tr>\n",
       "      <th>7</th>\n",
       "      <td>60cb12a787c8b25d7bedd365</td>\n",
       "      <td>0.060608</td>\n",
       "      <td>37</td>\n",
       "      <td>cleaned</td>\n",
       "    </tr>\n",
       "    <tr>\n",
       "      <th>8</th>\n",
       "      <td>60cb193187c8b25d7bedd366</td>\n",
       "      <td>0.076709</td>\n",
       "      <td>54</td>\n",
       "      <td>cleaned</td>\n",
       "    </tr>\n",
       "    <tr>\n",
       "      <th>9</th>\n",
       "      <td>60cb243e87c8b25d7bedd367</td>\n",
       "      <td>0.092121</td>\n",
       "      <td>79</td>\n",
       "      <td>cleaned</td>\n",
       "    </tr>\n",
       "    <tr>\n",
       "      <th>10</th>\n",
       "      <td>60cb387887c8b25d7bedd368</td>\n",
       "      <td>0.119279</td>\n",
       "      <td>114</td>\n",
       "      <td>cleaned</td>\n",
       "    </tr>\n",
       "    <tr>\n",
       "      <th>11</th>\n",
       "      <td>60cb753987c8b25d7bedd369</td>\n",
       "      <td>0.146467</td>\n",
       "      <td>164</td>\n",
       "      <td>cleaned</td>\n",
       "    </tr>\n",
       "    <tr>\n",
       "      <th>12</th>\n",
       "      <td>60cbf40287c8b25d7bedd36a</td>\n",
       "      <td>0.177110</td>\n",
       "      <td>237</td>\n",
       "      <td>cleaned</td>\n",
       "    </tr>\n",
       "    <tr>\n",
       "      <th>13</th>\n",
       "      <td>60cc57902acf49e9a6f37f80</td>\n",
       "      <td>0.032148</td>\n",
       "      <td>2</td>\n",
       "      <td>tfidf</td>\n",
       "    </tr>\n",
       "    <tr>\n",
       "      <th>14</th>\n",
       "      <td>60cc587a2acf49e9a6f37f81</td>\n",
       "      <td>0.032605</td>\n",
       "      <td>3</td>\n",
       "      <td>tfidf</td>\n",
       "    </tr>\n",
       "    <tr>\n",
       "      <th>15</th>\n",
       "      <td>60cc598b2acf49e9a6f37f82</td>\n",
       "      <td>0.033407</td>\n",
       "      <td>5</td>\n",
       "      <td>tfidf</td>\n",
       "    </tr>\n",
       "  </tbody>\n",
       "</table>\n",
       "</div>"
      ],
      "text/plain": [
       "                         _id  varExplained  n_components jobMatrix\n",
       "0   60cb029a87c8b25d7bedd35e      0.009406             2   cleaned\n",
       "1   60cb03bb87c8b25d7bedd35f      0.012679             3   cleaned\n",
       "2   60cb053587c8b25d7bedd360      0.019031             5   cleaned\n",
       "3   60cb06b087c8b25d7bedd361      0.023163             8   cleaned\n",
       "4   60cb085587c8b25d7bedd362      0.031929            12   cleaned\n",
       "5   60cb0a3287c8b25d7bedd363      0.039270            18   cleaned\n",
       "6   60cb0d7c87c8b25d7bedd364      0.046100            26   cleaned\n",
       "7   60cb12a787c8b25d7bedd365      0.060608            37   cleaned\n",
       "8   60cb193187c8b25d7bedd366      0.076709            54   cleaned\n",
       "9   60cb243e87c8b25d7bedd367      0.092121            79   cleaned\n",
       "10  60cb387887c8b25d7bedd368      0.119279           114   cleaned\n",
       "11  60cb753987c8b25d7bedd369      0.146467           164   cleaned\n",
       "12  60cbf40287c8b25d7bedd36a      0.177110           237   cleaned\n",
       "13  60cc57902acf49e9a6f37f80      0.032148             2     tfidf\n",
       "14  60cc587a2acf49e9a6f37f81      0.032605             3     tfidf\n",
       "15  60cc598b2acf49e9a6f37f82      0.033407             5     tfidf"
      ]
     },
     "execution_count": 13,
     "metadata": {},
     "output_type": "execute_result"
    }
   ],
   "source": [
    "nmfValidation"
   ]
  },
  {
   "cell_type": "code",
   "execution_count": 14,
   "metadata": {
    "ExecuteTime": {
     "end_time": "2021-06-18T08:32:21.518052Z",
     "start_time": "2021-06-18T08:32:21.339568Z"
    }
   },
   "outputs": [
    {
     "data": {
      "text/plain": [
       "<matplotlib.axes._subplots.AxesSubplot at 0x7f91127d39d0>"
      ]
     },
     "execution_count": 14,
     "metadata": {},
     "output_type": "execute_result"
    },
    {
     "data": {
      "image/png": "[encoded data removed]",
      "text/plain": [
       "<Figure size 432x288 with 1 Axes>"
      ]
     },
     "metadata": {
      "needs_background": "light"
     },
     "output_type": "display_data"
    }
   ],
   "source": [
    "sns.lineplot(x = \"n_components\", y = \"varExplained\", hue = \"jobMatrix\", data =nmfValidation)"
   ]
  },
  {
   "cell_type": "code",
   "execution_count": 18,
   "metadata": {
    "ExecuteTime": {
     "end_time": "2021-06-11T12:40:59.138567Z",
     "start_time": "2021-06-11T12:40:59.064951Z"
    }
   },
   "outputs": [
    {
     "name": "stderr",
     "output_type": "stream",
     "text": [
      "/opt/anaconda3/lib/python3.7/site-packages/ipykernel_launcher.py:1: DeprecationWarning: count is deprecated. Use Collection.count_documents instead.\n",
      "  \"\"\"Entry point for launching an IPython kernel.\n"
     ]
    }
   ],
   "source": [
    " mat_id = list(db.tfidf_matrix.files.find())[db.tfidf_matrix.files.find().count()-1]['_id'] #get id"
   ]
  },
  {
   "cell_type": "code",
   "execution_count": 19,
   "metadata": {
    "ExecuteTime": {
     "end_time": "2021-06-11T12:42:11.353778Z",
     "start_time": "2021-06-11T12:41:02.979056Z"
    }
   },
   "outputs": [],
   "source": [
    "fs = gridfs.GridFS(db, collection='tfidf_matrix') \n",
    "mat_bin = fs.get(mat_id) #extract binary\n",
    "mat_dict = pickle.load(mat_bin, encoding='latin1')\n",
    "tfidfJobMatrixNormalized = mat_dict['mat']"
   ]
  },
  {
   "cell_type": "code",
   "execution_count": 21,
   "metadata": {
    "ExecuteTime": {
     "end_time": "2021-06-11T13:12:16.661630Z",
     "start_time": "2021-06-11T13:12:16.651386Z"
    }
   },
   "outputs": [
    {
     "data": {
      "text/plain": [
       "(728934, 3044)"
      ]
     },
     "execution_count": 21,
     "metadata": {},
     "output_type": "execute_result"
    }
   ],
   "source": [
    "tfidfJobMatrixNormalized.shape"
   ]
  },
  {
   "cell_type": "code",
   "execution_count": 34,
   "metadata": {
    "ExecuteTime": {
     "end_time": "2021-06-11T13:42:40.854648Z",
     "start_time": "2021-06-11T13:37:47.813104Z"
    }
   },
   "outputs": [],
   "source": [
    "model = NMF(n_components=30, init='random', random_state=0).fit(tfidfJobMatrixNormalized)\n",
    "W = model.transform(tfidfJobMatrixNormalized) #Avatar embeddings\n",
    "H = model.components_ #item embeddings"
   ]
  },
  {
   "cell_type": "code",
   "execution_count": null,
   "metadata": {},
   "outputs": [],
   "source": [
    "tfidf_matrix.files', 'maplogs', 'item_embeddings', 'tech_tree', 'lifelogs', 'item_links_demo', 'objects', 'expanded_transitions', 'avatar_embeddings', 'tfidf_matrix.chunks', 'transitions', 'activity_matrix.files', 'activity_matrix.chunks', 'cleaned_job_matrix.chunks', 'cleaned_job_matrix.files', 'item_interactions', 'nmf_validation', 'activity_labels', 'categories'\n"
   ]
  },
  {
   "cell_type": "code",
   "execution_count": 39,
   "metadata": {
    "ExecuteTime": {
     "end_time": "2021-06-11T13:51:40.838955Z",
     "start_time": "2021-06-11T13:51:40.808626Z"
    }
   },
   "outputs": [
    {
     "data": {
      "text/plain": [
       "{'_id': ObjectId('60ad06c0a5dbdee3382c43d5'),\n",
       " 'player': '79d28bc07c1f45c6602d5d84f506e36a795751dc',\n",
       " 'avatar': 4109237,\n",
       " 'tBirth': 1617695981,\n",
       " 'parent': 4109188,\n",
       " 'sex': 'F',\n",
       " 'tDeath': nan,\n",
       " 'age': nan,\n",
       " 'cause_of_death': nan,\n",
       " 'birthX': -16083,\n",
       " 'birthY': 279,\n",
       " 'deathX': nan,\n",
       " 'deathY': nan,\n",
       " 'first': nan,\n",
       " 'last': nan,\n",
       " 'family': 'time-1617679935_eve-4108925_name-(missing)',\n",
       " 'n_lives': 427,\n",
       " 'gametime': 21694.880000000005}"
      ]
     },
     "execution_count": 39,
     "metadata": {},
     "output_type": "execute_result"
    }
   ],
   "source": [
    "db.lifelogs.find_one()"
   ]
  },
  {
   "cell_type": "code",
   "execution_count": null,
   "metadata": {},
   "outputs": [],
   "source": []
  }
 ],
 "metadata": {
  "kernelspec": {
   "display_name": "Python 3",
   "language": "python",
   "name": "python3"
  },
  "language_info": {
   "codemirror_mode": {
    "name": "ipython",
    "version": 3
   },
   "file_extension": ".py",
   "mimetype": "text/x-python",
   "name": "python",
   "nbconvert_exporter": "python",
   "pygments_lexer": "ipython3",
   "version": "3.7.4"
  },
  "toc": {
   "base_numbering": 1,
   "nav_menu": {},
   "number_sections": true,
   "sideBar": true,
   "skip_h1_title": false,
   "title_cell": "Table of Contents",
   "title_sidebar": "Contents",
   "toc_cell": false,
   "toc_position": {},
   "toc_section_display": true,
   "toc_window_display": false
  }
 },
 "nbformat": 4,
 "nbformat_minor": 2
}
