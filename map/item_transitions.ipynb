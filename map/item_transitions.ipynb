{
 "cells": [
  {
   "cell_type": "markdown",
   "metadata": {},
   "source": [
    "# Item transitions\n",
    "Natalia Vélez, November 2020"
   ]
  },
  {
   "cell_type": "code",
   "execution_count": 2,
   "metadata": {},
   "outputs": [],
   "source": [
    "%matplotlib inline\n",
    "\n",
    "# General\n",
    "import os,re,glob,sys\n",
    "from os.path import join as opj\n",
    "import pandas as pd\n",
    "import numpy as np\n",
    "import matplotlib.pyplot as plt \n",
    "import seaborn as sns\n",
    "\n",
    "# OHOL-specific modules\n",
    "sys.path.insert(1, '../3_technology/')\n",
    "import ohol_objects as obj\n",
    "import ohol_categories as cat\n",
    "import ohol_transitions as trans\n",
    "\n",
    "# Plotting options\n",
    "sns.set_style('white')\n",
    "sns.set_context('talk')"
   ]
  },
  {
   "cell_type": "code",
   "execution_count": 4,
   "metadata": {},
   "outputs": [
    {
     "data": {
      "text/plain": [
       "'Stone'"
      ]
     },
     "execution_count": 4,
     "metadata": {},
     "output_type": "execute_result"
    }
   ],
   "source": [
    "import sys\n",
    "\n",
    "sys.path.insert(1, '../3_technology/')\n",
    "import ohol_objects as obj\n",
    "obj.obj_name(33)"
   ]
  },
  {
   "cell_type": "markdown",
   "metadata": {},
   "source": [
    "Search for transition files:"
   ]
  },
  {
   "cell_type": "code",
   "execution_count": 8,
   "metadata": {},
   "outputs": [
    {
     "name": "stdout",
     "output_type": "stream",
     "text": [
      "Found 4341 object transitions\n",
      "../../OneLifeData7/transitions/-1_1006.txt\n",
      "../../OneLifeData7/transitions/-1_1011.txt\n",
      "../../OneLifeData7/transitions/-1_1016.txt\n",
      "../../OneLifeData7/transitions/-1_1018.txt\n",
      "../../OneLifeData7/transitions/-1_1019.txt\n",
      "../../OneLifeData7/transitions/-1_1022.txt\n",
      "../../OneLifeData7/transitions/-1_1025.txt\n",
      "../../OneLifeData7/transitions/-1_1035.txt\n",
      "../../OneLifeData7/transitions/-1_1036.txt\n",
      "../../OneLifeData7/transitions/-1_1051.txt\n",
      "\n",
      "Found 230 category files\n",
      "../../OneLifeData7/categories/1001.txt\n",
      "../../OneLifeData7/categories/1016.txt\n",
      "../../OneLifeData7/categories/1017.txt\n",
      "../../OneLifeData7/categories/1018.txt\n",
      "../../OneLifeData7/categories/1019.txt\n",
      "../../OneLifeData7/categories/1022.txt\n",
      "../../OneLifeData7/categories/1023.txt\n",
      "../../OneLifeData7/categories/1024.txt\n",
      "../../OneLifeData7/categories/1033.txt\n",
      "../../OneLifeData7/categories/1034.txt\n"
     ]
    }
   ],
   "source": [
    "def gsearch(*args): return glob.glob(opj(*args))\n",
    "def str_extract(pattern, s): return re.search(pattern,s).group(0)\n",
    "def int_extract(pattern, s): return int(str_extract(pattern,s))\n",
    "\n",
    "data_dir = '../../OneLifeData7/'\n",
    "trans_files = gsearch(data_dir, 'transitions', '*.txt')\n",
    "trans_files.sort()\n",
    "\n",
    "cat_files = gsearch(data_dir, 'categories', '*.txt')\n",
    "cat_files.sort()\n",
    "cat_labels = [int_extract('[0-9]+(?=.txt)', f) for f in cat_files]\n",
    "\n",
    "print('Found %i object transitions' % len(trans_files))\n",
    "print(*trans_files[:10], sep='\\n')\n",
    "\n",
    "print('\\nFound %i category files' % len(cat_files))\n",
    "print(*cat_files[:10], sep='\\n')"
   ]
  },
  {
   "cell_type": "markdown",
   "metadata": {},
   "source": [
    "## Parse categories"
   ]
  },
  {
   "cell_type": "code",
   "execution_count": 24,
   "metadata": {},
   "outputs": [
    {
     "name": "stdout",
     "output_type": "stream",
     "text": [
      "[1598, 1599, 1316, 1602, 1603, 1605, 1835, 1836, 1837, 1848, 2123, 2449, 2725, 150, 2742, 2766, 3188, 3814, 3875, 3890, 3896, 3897, 3898, 3899, 3900, 3901, 3902, 3903, 3905, 3906, 3907, 3908, 3909, 3910, 3911, 3912, 3913, 3914, 3915, 3916, 3917, 3918, 3919, 3920, 3921, 3922, 3923, 3925, 3932, 3941, 3971, 3972, 3973, 3974, 3975, 3976, 3977, 3978, 3979, 3980, 3981, 3982, 3983, 3984, 4029, 4030, 4031, 4060, 4062, 4063, 4064, 4065, 4066, 4067, 4068, 4071, 4072, 4073, 4074, 4075, 4076, 4077, 4078, 4093, 4094, 4095, 4096, 4097, 4098, 4099, 4101, 4185, 4186, 4187, 4188, 4193, 4238, 4257, 4266]\n"
     ]
    }
   ],
   "source": [
    "cat_labels = [int_extract('[0-9]+(?=.txt)', f) for f in cat_files]\n",
    "\n",
    "def is_cat(item): return item in cat_labels\n",
    "cat_dict = {c:cat.get_children(c) for c in cat_labels}\n",
    "print(cat_dict[1600])"
   ]
  },
  {
   "cell_type": "code",
   "execution_count": 32,
   "metadata": {},
   "outputs": [
    {
     "data": {
      "text/plain": [
       "['parentID=1600',\n",
       " 'pattern',\n",
       " 'numObjects=99',\n",
       " '1598',\n",
       " '1599',\n",
       " '1316',\n",
       " '1602',\n",
       " '1603',\n",
       " '1605',\n",
       " '1835',\n",
       " '1836',\n",
       " '1837',\n",
       " '1848',\n",
       " '2123',\n",
       " '2449',\n",
       " '2725',\n",
       " '150',\n",
       " '2742',\n",
       " '2766',\n",
       " '3188',\n",
       " '3814',\n",
       " '3875',\n",
       " '3890',\n",
       " '3896',\n",
       " '3897',\n",
       " '3898',\n",
       " '3899',\n",
       " '3900',\n",
       " '3901',\n",
       " '3902',\n",
       " '3903',\n",
       " '3905',\n",
       " '3906',\n",
       " '3907',\n",
       " '3908',\n",
       " '3909',\n",
       " '3910',\n",
       " '3911',\n",
       " '3912',\n",
       " '3913',\n",
       " '3914',\n",
       " '3915',\n",
       " '3916',\n",
       " '3917',\n",
       " '3918',\n",
       " '3919',\n",
       " '3920',\n",
       " '3921',\n",
       " '3922',\n",
       " '3923',\n",
       " '3925',\n",
       " '3932',\n",
       " '3941',\n",
       " '3971',\n",
       " '3972',\n",
       " '3973',\n",
       " '3974',\n",
       " '3975',\n",
       " '3976',\n",
       " '3977',\n",
       " '3978',\n",
       " '3979',\n",
       " '3980',\n",
       " '3981',\n",
       " '3982',\n",
       " '3983',\n",
       " '3984',\n",
       " '4029',\n",
       " '4030',\n",
       " '4031',\n",
       " '4060',\n",
       " '4062',\n",
       " '4063',\n",
       " '4064',\n",
       " '4065',\n",
       " '4066',\n",
       " '4067',\n",
       " '4068',\n",
       " '4071',\n",
       " '4072',\n",
       " '4073',\n",
       " '4074',\n",
       " '4075',\n",
       " '4076',\n",
       " '4077',\n",
       " '4078',\n",
       " '4093',\n",
       " '4094',\n",
       " '4095',\n",
       " '4096',\n",
       " '4097',\n",
       " '4098',\n",
       " '4099',\n",
       " '4101',\n",
       " '4185',\n",
       " '4186',\n",
       " '4187',\n",
       " '4188',\n",
       " '4193',\n",
       " '4238',\n",
       " '4257',\n",
       " '4266']"
      ]
     },
     "execution_count": 32,
     "metadata": {},
     "output_type": "execute_result"
    }
   ],
   "source": [
    "piles"
   ]
  },
  {
   "cell_type": "code",
   "execution_count": 33,
   "metadata": {},
   "outputs": [
    {
     "name": "stdout",
     "output_type": "stream",
     "text": [
      "Iron Ore Pile\n",
      "Kindling Pile\n",
      "Stack of Firewood\n",
      "Stack of Clay Plates\n",
      "Stack of Clay Bowls\n",
      "Stack of Baskets\n",
      "Stack of Blank Paper\n",
      "Stack of Flat Rocks\n",
      "Stack of Steel Ingots\n",
      "Stack of Floppy Baskets\n",
      "Stack of Wrought Iron\n",
      "Candle Set\n",
      "Limestone Pile\n",
      "Flint Chips\n",
      "Carrot Pile\n",
      "Sugarcane Bundle\n",
      "Stack of Blank Maps\n",
      "Stack of Empty Buckets\n",
      "Pile of Letter Stock\n",
      "Stack of Copper Ingots\n",
      "Stack of Malachite\n",
      "Pile of Calamine\n",
      "Stack of Zinc Ingots\n",
      "Pile of Tomatoes\n",
      "Pile of Onions\n",
      "Pile of Shucked Corn\n",
      "Pile of Dried Corn\n",
      "Pile of Corn Ears\n",
      "Pile of Clay\n",
      "Pile of Adobe\n",
      "Pile of Raw Potatoes\n",
      "Pile of Baked Potatoes\n",
      "Pile of Hot Peppers\n",
      "Pile of Arrows\n",
      "Pile of Goose Feathers\n",
      "Pile of Turkey Feathers\n",
      "Pile of Snares\n",
      "Pile of Worms\n",
      "Pile of Sharp Stones\n",
      "Pile of Arrowheads\n",
      "Pile of Fleece\n",
      "Pile of Mouflon Hides\n",
      "Pile of Sheep Skins\n",
      "Pile of Wolf Skins\n",
      "Pile of Bear Skins\n",
      "Pile of Seal Skins\n",
      "Pile of Snake Skins\n",
      "Stack of Wooden Disks\n",
      "Stack of Electrum Ingots\n",
      "Stack of Scrap Iron\n",
      "Pile of Electrum Ore\n",
      "Pile of Niter\n",
      "Pile of Alum\n",
      "Pile of Cinnabar\n",
      "Pile of Lapis Lazuli\n",
      "Pile of Mangoes \n",
      "Pile of Bananas\n",
      "Pile of Wild Carrots\n",
      "Pile of Burdock Roots\n",
      "Pile of Wild Onions\n",
      "Stack of Pumpkin\n",
      "Stack of Hubbard Squash\n",
      "Pile of Red Cabbage\n",
      "Stack of Clay Crocks\n",
      "Pile of Cactus Fruit\n",
      "Pile of Psilocybe Mushrooms\n",
      "Stack of Steel Piston Blanks\n",
      "Weak Skewer Pile\n",
      "Pile of Straight Branchs\n",
      "Pile of Yew Branches\n",
      "Pile of Yew Shafts\n",
      "Pile of Short Shafts\n",
      "Pile of Stakes\n",
      "Pile of Dug Stumps\n",
      "Pile of Pine Needles\n",
      "Pile of Shrimp\n",
      "Pile of Arctic Char\n",
      "Stack of Stone Blocks\n",
      "Pile of Cut Stones\n",
      "Stack of Glass Bottles\n",
      "Stack of Sealed Glass Bottles\n",
      "Stack of Steel Pipes\n",
      "Stack of Steel Rods\n",
      "Empty Water Pouch Pile\n",
      "Full Water Pouch Pile\n",
      "Full Salt Water Pouch Pile\n",
      "Scrap Steel Pile\n",
      "Dirty Wool Pad Pile\n",
      "Cut Glasswort Pile\n",
      "Dry Glasswort Pile\n",
      "Empty Tank Stack\n",
      "Pile of Straw\n",
      "Pile of Rubber Stoppers\n",
      "Pile of Bone Needles\n",
      "Stack of Copper Rods\n",
      "Copper Foil Pile\n",
      "Pile of Pickling Cucumbers\n",
      "Garlic Bulb Pile\n",
      "Pile of Wild Garlic\n"
     ]
    }
   ],
   "source": [
    "piles = cat.get_children(1600)\n",
    "print(*[obj.obj_name(p) for p in piles], sep='\\n')"
   ]
  },
  {
   "cell_type": "markdown",
   "metadata": {},
   "source": [
    "## Parse transitions"
   ]
  },
  {
   "cell_type": "code",
   "execution_count": 35,
   "metadata": {},
   "outputs": [
    {
     "data": {
      "text/plain": [
       "{'origActor': 0,\n",
       " 'origTarget': 1600,\n",
       " 'newActor': 1601,\n",
       " 'newTarget': 1600,\n",
       " 'autoDecaySeconds': 0,\n",
       " 'actorMinUseFraction': 0.0,\n",
       " 'targetMinUseFraction': 0.0,\n",
       " 'reverseUseActor': 0,\n",
       " 'reverseUseTarget': 0,\n",
       " 'move': 0,\n",
       " 'desiredMoveDist': 1,\n",
       " 'noUseActor': 0,\n",
       " 'noUseTarget': 0,\n",
       " 'lastUseActor': False,\n",
       " 'lastUseTarget': False,\n",
       " 'origActorName': 'Empty',\n",
       " 'origTargetName': '@ Pile',\n",
       " 'newActorName': '@ Pile Element',\n",
       " 'newTargetName': '@ Pile',\n",
       " 'isTool': False}"
      ]
     },
     "execution_count": 35,
     "metadata": {},
     "output_type": "execute_result"
    }
   ],
   "source": [
    "trans.read_transition(opj(data_dir, 'transitions', '0_1600.txt'))"
   ]
  },
  {
   "cell_type": "markdown",
   "metadata": {},
   "source": [
    "## Save outputs to file"
   ]
  },
  {
   "cell_type": "code",
   "execution_count": null,
   "metadata": {},
   "outputs": [],
   "source": []
  }
 ],
 "metadata": {
  "kernelspec": {
   "display_name": "Python 3",
   "language": "python",
   "name": "python3"
  },
  "language_info": {
   "codemirror_mode": {
    "name": "ipython",
    "version": 3
   },
   "file_extension": ".py",
   "mimetype": "text/x-python",
   "name": "python",
   "nbconvert_exporter": "python",
   "pygments_lexer": "ipython3",
   "version": "3.7.6"
  }
 },
 "nbformat": 4,
 "nbformat_minor": 4
}
