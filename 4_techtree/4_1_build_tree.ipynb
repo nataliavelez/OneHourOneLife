{
 "cells": [
  {
   "cell_type": "markdown",
   "metadata": {},
   "source": [
    "# Build Tech tree representation\n",
    "Natalia Vélez, June 2020"
   ]
  },
  {
   "cell_type": "code",
   "execution_count": 1,
   "metadata": {},
   "outputs": [],
   "source": [
    "import os, re, glob, json\n",
    "from os.path import join as opj\n",
    "import numpy as np\n",
    "import pandas as pd\n",
    "\n",
    "import networkx as nx\n",
    "\n",
    "import ohol_transitions as transition\n",
    "import ohol_object as obj"
   ]
  },
  {
   "cell_type": "markdown",
   "metadata": {},
   "source": [
    "Find all transition files:"
   ]
  },
  {
   "cell_type": "code",
   "execution_count": 2,
   "metadata": {},
   "outputs": [
    {
     "name": "stdout",
     "output_type": "stream",
     "text": [
      "../../OneLifeData7/transitions/-1_2574.txt\n",
      "../../OneLifeData7/transitions/0_702.txt\n",
      "../../OneLifeData7/transitions/314_235.txt\n",
      "../../OneLifeData7/transitions/2165_2165.txt\n",
      "../../OneLifeData7/transitions/0_1692.txt\n"
     ]
    }
   ],
   "source": [
    "gsearch = lambda *args: glob.glob(opj(*args))\n",
    "\n",
    "data_dir = '../../OneLifeData7/'\n",
    "trans_dir  = opj(data_dir, 'transitions')\n",
    "trans_files = gsearch(trans_dir, '*.txt')\n",
    "\n",
    "print(*trans_files[:5], sep='\\n')"
   ]
  },
  {
   "cell_type": "code",
   "execution_count": 3,
   "metadata": {},
   "outputs": [
    {
     "data": {
      "text/plain": [
       "{'origActor': 3593,\n",
       " 'origTarget': 209,\n",
       " 'newActor': 3338,\n",
       " 'newTarget': 4081,\n",
       " 'autoDecaySeconds': 0,\n",
       " 'actorMinUseFraction': 0.0,\n",
       " 'targetMinUseFraction': 0.0,\n",
       " 'reverseUseActor': 0,\n",
       " 'reverseUseTarget': 0,\n",
       " 'move': 0,\n",
       " 'desiredMoveDist': 1,\n",
       " 'noUseActor': 0,\n",
       " 'noUseTarget': 0,\n",
       " 'lastUseActor': True,\n",
       " 'lastUseTarget': False,\n",
       " 'origActorName': 'Whole Milk Bottle - +contFoodDish +drink',\n",
       " 'origTargetName': 'Empty Water Pouch',\n",
       " 'newActorName': 'Glass Bottle',\n",
       " 'newTargetName': 'Whole Milk Pouch - +drink'}"
      ]
     },
     "execution_count": 3,
     "metadata": {},
     "output_type": "execute_result"
    }
   ],
   "source": [
    "transition.read_transition(opj(trans_dir, '3593_209_LA.txt'))"
   ]
  },
  {
   "cell_type": "code",
   "execution_count": 4,
   "metadata": {},
   "outputs": [
    {
     "data": {
      "text/plain": [
       "{'id': 692,\n",
       " 'name': 'Crown Blank',\n",
       " 'containable': 1,\n",
       " 'containSize': 1,\n",
       " 'vertSlotRot': 0.0,\n",
       " 'permanent': 0,\n",
       " 'minPickupAge': 3,\n",
       " 'heldInHand': 1,\n",
       " 'blocksWalking': 0,\n",
       " 'leftBlockingRadius': 0,\n",
       " 'rightBlockingRadius': 0,\n",
       " 'drawBehindPlayer': 0,\n",
       " 'mapChance': 0.0,\n",
       " 'heatValue': 0,\n",
       " 'rValue': 0.0,\n",
       " 'person': 0,\n",
       " 'noSpawn': 0,\n",
       " 'male': 0,\n",
       " 'deathMarker': 0,\n",
       " 'homeMarker': 0,\n",
       " 'floor': 0,\n",
       " 'floorHugging': 0,\n",
       " 'foodValue': 0,\n",
       " 'speedMult': 1.0,\n",
       " 'heldOffset': [2.0, -10.0],\n",
       " 'clothing': 'n',\n",
       " 'clothingOffset': [0.0, 0.0],\n",
       " 'deadlyDistance': 0,\n",
       " 'useDistance': 1,\n",
       " 'sounds': ['910:0.250000', '-1:0.0', '-1:0.0', '-1:0.0'],\n",
       " 'creationSoundInitialOnly': 1,\n",
       " 'numSlots': 0,\n",
       " 'timeStretch': 1.0,\n",
       " 'slotSize': 1,\n",
       " 'numSprites': 1,\n",
       " 'spriteID': 1036,\n",
       " 'pos': [2.0, -31.0],\n",
       " 'rot': 0.0,\n",
       " 'hFlip': 0,\n",
       " 'color': [1.0, 1.0, 1.0],\n",
       " 'ageRange': [-1.0, -1.0],\n",
       " 'parent': -1,\n",
       " 'invisHolding': 0,\n",
       " 'invisWorn': 0,\n",
       " 'behindSlots': 0,\n",
       " 'headIndex': -1,\n",
       " 'bodyIndex': -1,\n",
       " 'backFootIndex': -1,\n",
       " 'frontFootIndex': -1,\n",
       " 'numUses': 1,\n",
       " 'useVanishIndex': -1,\n",
       " 'useAppearIndex': -1,\n",
       " 'pixHeight': 0}"
      ]
     },
     "execution_count": 4,
     "metadata": {},
     "output_type": "execute_result"
    }
   ],
   "source": [
    "obj.read_obj(692)"
   ]
  },
  {
   "cell_type": "code",
   "execution_count": null,
   "metadata": {},
   "outputs": [],
   "source": []
  }
 ],
 "metadata": {
  "kernelspec": {
   "display_name": "Python 3",
   "language": "python",
   "name": "python3"
  },
  "language_info": {
   "codemirror_mode": {
    "name": "ipython",
    "version": 3
   },
   "file_extension": ".py",
   "mimetype": "text/x-python",
   "name": "python",
   "nbconvert_exporter": "python",
   "pygments_lexer": "ipython3",
   "version": "3.7.6"
  }
 },
 "nbformat": 4,
 "nbformat_minor": 4
}
