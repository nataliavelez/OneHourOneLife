{
 "cells": [
  {
   "cell_type": "markdown",
   "metadata": {},
   "source": [
    "# Build Tech tree representation\n",
    "Natalia Vélez, July 2020"
   ]
  },
  {
   "cell_type": "code",
   "execution_count": 7,
   "metadata": {},
   "outputs": [],
   "source": [
    "%matplotlib inline\n",
    "\n",
    "import os, re, glob\n",
    "\n",
    "import numpy as np\n",
    "import pandas as pd\n",
    "from os.path import join as opj\n",
    "\n",
    "import ohol_categories as cat\n",
    "import ohol_objects as obj\n",
    "import ohol_transitions as trans\n",
    "\n",
    "import matplotlib.pyplot as plt\n",
    "import seaborn as sns\n",
    "import networkx as nx\n",
    "\n",
    "from tqdm import notebook"
   ]
  },
  {
   "cell_type": "code",
   "execution_count": 3,
   "metadata": {},
   "outputs": [
    {
     "data": {
      "text/plain": [
       "{'id': 513,\n",
       " 'name': 'Flooded Pond',\n",
       " 'containable': 0,\n",
       " 'containSize': 1,\n",
       " 'vertSlotRot': 0.0,\n",
       " 'permanent': 1,\n",
       " 'minPickupAge': 3,\n",
       " 'heldInHand': 0,\n",
       " 'blocksWalking': 1,\n",
       " 'leftBlockingRadius': 0,\n",
       " 'rightBlockingRadius': 0,\n",
       " 'drawBehindPlayer': 0,\n",
       " 'mapChance': 0.0,\n",
       " 'heatValue': 0,\n",
       " 'rValue': 0.0,\n",
       " 'person': 0,\n",
       " 'noSpawn': 0,\n",
       " 'male': 0,\n",
       " 'deathMarker': 0,\n",
       " 'homeMarker': 0,\n",
       " 'floor': 0,\n",
       " 'floorHugging': 0,\n",
       " 'foodValue': 0,\n",
       " 'speedMult': 1.0,\n",
       " 'heldOffset': [0.0, 0.0],\n",
       " 'clothing': 'n',\n",
       " 'clothingOffset': [0.0, 0.0],\n",
       " 'deadlyDistance': 0,\n",
       " 'useDistance': 1,\n",
       " 'sounds': ['-1:0.0', '429:0.250000', '-1:0.0', '-1:0.0'],\n",
       " 'creationSoundInitialOnly': 0,\n",
       " 'numSlots': 0,\n",
       " 'timeStretch': 1.0,\n",
       " 'slotSize': 1,\n",
       " 'numSprites': 4,\n",
       " 'spriteID': 411,\n",
       " 'pos': [6.0, 16.0],\n",
       " 'rot': 1.0,\n",
       " 'hFlip': 0,\n",
       " 'color': [1.0, 1.0, 1.0],\n",
       " 'ageRange': [-1.0, -1.0],\n",
       " 'parent': -1,\n",
       " 'invisHolding': 0,\n",
       " 'invisWorn': 0,\n",
       " 'behindSlots': 0,\n",
       " 'headIndex': -1,\n",
       " 'bodyIndex': -1,\n",
       " 'backFootIndex': -1,\n",
       " 'frontFootIndex': -1,\n",
       " 'numUses': 1,\n",
       " 'useVanishIndex': -1,\n",
       " 'useAppearIndex': -1,\n",
       " 'pixHeight': 56}"
      ]
     },
     "execution_count": 3,
     "metadata": {},
     "output_type": "execute_result"
    }
   ],
   "source": []
  },
  {
   "cell_type": "markdown",
   "metadata": {},
   "source": [
    "## Find files"
   ]
  },
  {
   "cell_type": "markdown",
   "metadata": {},
   "source": [
    "Find transition files:"
   ]
  },
  {
   "cell_type": "code",
   "execution_count": 4,
   "metadata": {},
   "outputs": [
    {
     "name": "stdout",
     "output_type": "stream",
     "text": [
      "../../OneLifeData7/transitions/-1_2574.txt\n",
      "../../OneLifeData7/transitions/0_702.txt\n",
      "../../OneLifeData7/transitions/314_235.txt\n",
      "../../OneLifeData7/transitions/2165_2165.txt\n",
      "../../OneLifeData7/transitions/0_1692.txt\n"
     ]
    }
   ],
   "source": [
    "gsearch = lambda *args: glob.glob(opj(*args))\n",
    "\n",
    "data_dir = '../../OneLifeData7/'\n",
    "trans_dir  = opj(data_dir, 'transitions')\n",
    "trans_files = gsearch(trans_dir, '*.txt')\n",
    "\n",
    "print(*trans_files[:5], sep='\\n')"
   ]
  },
  {
   "cell_type": "code",
   "execution_count": 5,
   "metadata": {},
   "outputs": [
    {
     "data": {
      "text/plain": [
       "{'origActor': 59,\n",
       " 'origTarget': 2226,\n",
       " 'newActor': 0,\n",
       " 'newTarget': 2220,\n",
       " 'autoDecaySeconds': 0,\n",
       " 'actorMinUseFraction': 0.0,\n",
       " 'targetMinUseFraction': 0.0,\n",
       " 'reverseUseActor': 0,\n",
       " 'reverseUseTarget': 0,\n",
       " 'move': 0,\n",
       " 'desiredMoveDist': 1,\n",
       " 'noUseActor': 0,\n",
       " 'noUseTarget': 0,\n",
       " 'lastUseActor': False,\n",
       " 'lastUseTarget': False,\n",
       " 'origActorName': 'Rope',\n",
       " 'origTargetName': 'Newcomen Pump without Rope',\n",
       " 'newActorName': 'Empty',\n",
       " 'newTargetName': 'Dry Newcomen Pump',\n",
       " 'isTool': True}"
      ]
     },
     "execution_count": 5,
     "metadata": {},
     "output_type": "execute_result"
    }
   ],
   "source": [
    "trans.read_transition(opj(trans_dir, '59_2226.txt'))"
   ]
  },
  {
   "cell_type": "code",
   "execution_count": 40,
   "metadata": {},
   "outputs": [
    {
     "data": {
      "text/plain": [
       "[2240, 2270, 2280, 2314, 2305, 2312, 2359, 2500]"
      ]
     },
     "execution_count": 40,
     "metadata": {},
     "output_type": "execute_result"
    }
   ],
   "source": [
    "cat.cat_children(2220)"
   ]
  },
  {
   "cell_type": "code",
   "execution_count": 45,
   "metadata": {},
   "outputs": [
    {
     "data": {
      "text/plain": [
       "{'id': 1487,\n",
       " 'name': 'Dead Domestic Calf',\n",
       " 'containable': 0,\n",
       " 'containSize': 1.0,\n",
       " 'vertSlotRot': 0.0,\n",
       " 'permanent': 0,\n",
       " 'minPickupAge': 3,\n",
       " 'heldInHand': 0,\n",
       " 'blocksWalking': 0,\n",
       " 'leftBlockingRadius': 0,\n",
       " 'rightBlockingRadius': 0,\n",
       " 'drawBehindPlayer': 0,\n",
       " 'mapChance': 0.0,\n",
       " 'heatValue': 0,\n",
       " 'rValue': 0.0,\n",
       " 'person': 0,\n",
       " 'noSpawn': 0,\n",
       " 'male': 0,\n",
       " 'deathMarker': 0,\n",
       " 'homeMarker': 0,\n",
       " 'floor': 0,\n",
       " 'floorHugging': 0,\n",
       " 'foodValue': 0,\n",
       " 'speedMult': 1.0,\n",
       " 'heldOffset': [8.0, 19.0],\n",
       " 'clothing': 'n',\n",
       " 'clothingOffset': [0.0, 0.0],\n",
       " 'deadlyDistance': 0,\n",
       " 'useDistance': 1,\n",
       " 'sounds': ['1242:0.150000', '-1:0.0', '-1:0.0', '-1:0.0'],\n",
       " 'creationSoundInitialOnly': 0,\n",
       " 'numSlots': 0,\n",
       " 'timeStretch': 1.0,\n",
       " 'slotSize': 1.0,\n",
       " 'slotsLocked': 0,\n",
       " 'numSprites': 8,\n",
       " 'spriteID': 1630,\n",
       " 'pos': [25.0, -18.0],\n",
       " 'rot': 0.25,\n",
       " 'hFlip': 0,\n",
       " 'color': [1.0, 1.0, 1.0],\n",
       " 'ageRange': [-1.0, -1.0],\n",
       " 'parent': 6,\n",
       " 'invisHolding': 0,\n",
       " 'invisWorn': 0,\n",
       " 'behindSlots': 0,\n",
       " 'headIndex': -1,\n",
       " 'bodyIndex': -1,\n",
       " 'backFootIndex': -1,\n",
       " 'frontFootIndex': -1,\n",
       " 'numUses': [10, 1.0],\n",
       " 'useVanishIndex': -1,\n",
       " 'useAppearIndex': -1,\n",
       " 'pixHeight': 5}"
      ]
     },
     "execution_count": 45,
     "metadata": {},
     "output_type": "execute_result"
    }
   ],
   "source": [
    "obj.read_obj(1487)"
   ]
  },
  {
   "cell_type": "markdown",
   "metadata": {},
   "source": [
    "Object files:"
   ]
  },
  {
   "cell_type": "code",
   "execution_count": 10,
   "metadata": {},
   "outputs": [
    {
     "name": "stdout",
     "output_type": "stream",
     "text": [
      "../../OneLifeData7/objects/3644.txt\n",
      "../../OneLifeData7/objects/1053.txt\n",
      "../../OneLifeData7/objects/1735.txt\n",
      "../../OneLifeData7/objects/3122.txt\n",
      "../../OneLifeData7/objects/2228.txt\n"
     ]
    }
   ],
   "source": [
    "obj_dir = opj(data_dir, 'objects')\n",
    "obj_files = gsearch(obj_dir, '*txt')\n",
    "\n",
    "print(*obj_files[:5], sep='\\n')"
   ]
  },
  {
   "cell_type": "markdown",
   "metadata": {},
   "source": [
    "## Parse objects\n",
    "Build a dictionary of objectID-mapChance pairs (to identify natural objects)"
   ]
  },
  {
   "cell_type": "code",
   "execution_count": 11,
   "metadata": {},
   "outputs": [],
   "source": [
    "str_extract = lambda pattern, s: re.search(pattern, s).group(0)\n",
    "int_extract = lambda pattern, s: int(str_extract(pattern, s))\n",
    "\n",
    "obj_dict = {}\n",
    "for o in obj_files:\n",
    "    is_obj = re.search('nextObjectNumber|groundHeat', o) is None\n",
    "    \n",
    "    if is_obj:\n",
    "        o_num = int_extract('[0-9]+(?=.txt)', o)\n",
    "\n",
    "        o_data = obj.read_obj(o_num)\n",
    "        obj_dict[o_num] = o_data['mapChance']"
   ]
  },
  {
   "cell_type": "markdown",
   "metadata": {},
   "source": [
    "Natural objects:"
   ]
  },
  {
   "cell_type": "code",
   "execution_count": 15,
   "metadata": {},
   "outputs": [
    {
     "name": "stdout",
     "output_type": "stream",
     "text": [
      "30\t32\t33\t36\t49\t50\t63\t65\t99\t100\t121\t125\t133\t136\t153\t161\t211\t242\t291\t418\n"
     ]
    }
   ],
   "source": [
    "natural_objs = [o for (o,p) in obj_dict.items() if p > 0]\n",
    "natural_objs.sort()\n",
    "print(*natural_objs[:20], sep='\\t')"
   ]
  },
  {
   "cell_type": "markdown",
   "metadata": {},
   "source": [
    "Let's check these to make sure we're gettting reasonable objects:"
   ]
  },
  {
   "cell_type": "code",
   "execution_count": 1,
   "metadata": {},
   "outputs": [
    {
     "ename": "NameError",
     "evalue": "name 'obj' is not defined",
     "output_type": "error",
     "traceback": [
      "\u001b[0;31m---------------------------------------------------------------------------\u001b[0m",
      "\u001b[0;31mNameError\u001b[0m                                 Traceback (most recent call last)",
      "\u001b[0;32m<ipython-input-1-da8955fd4f53>\u001b[0m in \u001b[0;36m<module>\u001b[0;34m\u001b[0m\n\u001b[0;32m----> 1\u001b[0;31m \u001b[0mobj\u001b[0m\u001b[0;34m.\u001b[0m\u001b[0mread_obj\u001b[0m\u001b[0;34m(\u001b[0m\u001b[0;36m513\u001b[0m\u001b[0;34m)\u001b[0m\u001b[0;34m\u001b[0m\u001b[0;34m\u001b[0m\u001b[0m\n\u001b[0m",
      "\u001b[0;31mNameError\u001b[0m: name 'obj' is not defined"
     ]
    }
   ],
   "source": [
    "obj.read_obj(513)"
   ]
  },
  {
   "cell_type": "code",
   "execution_count": 21,
   "metadata": {},
   "outputs": [
    {
     "name": "stdout",
     "output_type": "stream",
     "text": [
      "30: Wild Gooseberry Bush\n",
      "32: Big Hard Rock\n",
      "33: Stone\n",
      "36: Seeding Wild Carrot\n",
      "49: Juniper Tree\n",
      "50: Milkweed\n",
      "63: Maple Tree -Branch\n",
      "65: Lombardy Poplar Tree -Branch\n",
      "99: White Pine Tree\n",
      "100: White Pine Tree with Needles\n",
      "121: Tule Reeds\n",
      "125: Clay Deposit\n",
      "133: Flint\n",
      "136: Sapling\n",
      "153: Yew Tree -Branch\n",
      "161: Rabbit Hole -hiding &single\n",
      "211: Fertile Soil Deposit\n",
      "242: Ripe Wheat\n",
      "291: Flat Rock - empty\n",
      "418: Wolf\n",
      "527: Willow Tree\n",
      "530: Bald Cypress Tree\n",
      "531: Mouflon\n",
      "630: Bear Cave\n",
      "674: Limestone\n",
      "680: Gold Vein\n",
      "703: Penguin\n",
      "706: Ice Hole\n",
      "707: Antarctic Fur Seal\n",
      "713: Indigo\n",
      "714: Rose Madder\n",
      "729: Alum\n",
      "760: Dead Tree\n",
      "761: Barrel Cactus\n",
      "764: Rattle Snake\n",
      "769: Wild Horse\n",
      "791: Monolith\n",
      "804: Burdock\n",
      "805: Wild Onion\n",
      "942: Muddy Iron Vein - gridPlacement40 &40\n",
      "1013: Wild Rose with Fruit\n",
      "1020: Snow Bank\n",
      "1107: Teosinte\n",
      "1140: Wild Potato\n",
      "1157: Wild Bean Plant\n",
      "1184: Wild Squash Plant\n",
      "1203: Wild Cabbage\n",
      "1261: Canada Goose Pond with Egg\n",
      "1323: Wild Boar\n",
      "1435: Bison\n",
      "1874: Wild Mango Tree\n",
      "1890: Lapis Lazuli\n",
      "1891: Cinnabar\n",
      "2135: Rubber Tree\n",
      "2140: Hot Spring\n",
      "2141: Oil Palm\n",
      "2142: Banana Plant\n",
      "2156: Mosquito Swarm\n",
      "2174: Turkey\n",
      "2285: Tarry Spot - gridPlacement40\n",
      "2466: Dark Nosaj - +normalOnly\n",
      "2504: Malachite\n",
      "2515: Calamine\n",
      "2540: Niter\n",
      "2557: Glasswort\n",
      "2567: Sand Deposit\n",
      "2765: Sugarcane\n",
      "2800: Wild Tomato Plant\n",
      "2804: Wild Pepper Plant\n",
      "3001: Electrum Ore\n",
      "3030: Natural Spring - gridPlacement40 evePrimaryLoc\n",
      "3313: Wild Grape Plant\n",
      "3886: Desert Expert Way Stone - +biomeSet3 gridPlacement20 &20 +expertFind\n",
      "3887: Jungle Expert Way Stone - +biomeSet3 gridPlacement20 &20 +expertFind\n",
      "3888: Arctic Expert Way Stone - +biomeSet3 gridPlacement20 &20 &p3 &p0 +expertFind\n",
      "4221: Wild Cucumber Plant\n",
      "4239: Seeding Wild Dill\n",
      "4251: Wild Garlic\n"
     ]
    }
   ],
   "source": [
    "for o in natural_objs:\n",
    "    print('%i: %s' % (o, obj.obj_name(o)))"
   ]
  },
  {
   "cell_type": "markdown",
   "metadata": {},
   "source": [
    "## Parse transitions"
   ]
  },
  {
   "cell_type": "markdown",
   "metadata": {},
   "source": [
    "Dataframe of transitions:"
   ]
  },
  {
   "cell_type": "code",
   "execution_count": 34,
   "metadata": {},
   "outputs": [
    {
     "data": {
      "text/plain": [
       "[False,\n",
       " False,\n",
       " False,\n",
       " False,\n",
       " False,\n",
       " False,\n",
       " False,\n",
       " False,\n",
       " False,\n",
       " False,\n",
       " False,\n",
       " False,\n",
       " False,\n",
       " False,\n",
       " False,\n",
       " False,\n",
       " False,\n",
       " False,\n",
       " False,\n",
       " False]"
      ]
     },
     "execution_count": 34,
     "metadata": {},
     "output_type": "execute_result"
    }
   ],
   "source": [
    "trans_cats"
   ]
  },
  {
   "cell_type": "code",
   "execution_count": 45,
   "metadata": {},
   "outputs": [
    {
     "data": {
      "text/plain": [
       "'FFFF'"
      ]
     },
     "execution_count": 45,
     "metadata": {},
     "output_type": "execute_result"
    }
   ],
   "source": []
  },
  {
   "cell_type": "code",
   "execution_count": 40,
   "metadata": {
    "scrolled": true
   },
   "outputs": [
    {
     "data": {
      "text/plain": [
       "(array(['[False, False, False, False]', '[False, False, False, True]',\n",
       "        '[False, False, True, False]', '[False, False, True, True]',\n",
       "        '[False, True, False, False]', '[False, True, False, True]',\n",
       "        '[False, True, True, False]', '[False, True, True, True]',\n",
       "        '[True, False, False, False]', '[True, False, False, True]',\n",
       "        '[True, False, True, False]', '[True, False, True, True]',\n",
       "        '[True, True, False, False]', '[True, True, False, True]',\n",
       "        '[True, True, True, False]', '[True, True, True, True]'],\n",
       "       dtype='<U28'),\n",
       " array([3746,   20,   76,  145,    7,    1,   25,    6,   55,   38,    7,\n",
       "           7,  183,    6,    6,   13]))"
      ]
     },
     "execution_count": 40,
     "metadata": {},
     "output_type": "execute_result"
    }
   ],
   "source": [
    "np.unique(trans_cat_list, return_counts = True)"
   ]
  },
  {
   "cell_type": "code",
   "execution_count": 48,
   "metadata": {},
   "outputs": [],
   "source": [
    "trans_keys = ['origActor', 'newActor', 'origTarget', 'newTarget']\n",
    "trans_list = []\n",
    "for f in trans_files:\n",
    "    trans_dict = trans.read_transition(f)\n",
    "    trans_objs = [trans_dict[k] for k in trans_keys]\n",
    "    \n",
    "    # Are any of these categories?\n",
    "    trans_cats = [cat.is_cat(o) for o in trans_objs]\n",
    "    trans_cat_str = ''.join(re.findall('[A-Z]', str(trans_cats)))\n",
    "    trans_dict['isCat'] = trans_cat_str\n",
    "    \n",
    "    trans_list.append(trans_dict)"
   ]
  },
  {
   "cell_type": "markdown",
   "metadata": {},
   "source": [
    "Assemble into dataframe:"
   ]
  },
  {
   "cell_type": "code",
   "execution_count": 49,
   "metadata": {},
   "outputs": [
    {
     "data": {
      "text/html": [
       "<div>\n",
       "<style scoped>\n",
       "    .dataframe tbody tr th:only-of-type {\n",
       "        vertical-align: middle;\n",
       "    }\n",
       "\n",
       "    .dataframe tbody tr th {\n",
       "        vertical-align: top;\n",
       "    }\n",
       "\n",
       "    .dataframe thead th {\n",
       "        text-align: right;\n",
       "    }\n",
       "</style>\n",
       "<table border=\"1\" class=\"dataframe\">\n",
       "  <thead>\n",
       "    <tr style=\"text-align: right;\">\n",
       "      <th></th>\n",
       "      <th>origActor</th>\n",
       "      <th>origTarget</th>\n",
       "      <th>newActor</th>\n",
       "      <th>newTarget</th>\n",
       "      <th>isDecay</th>\n",
       "      <th>isTool</th>\n",
       "      <th>isCat</th>\n",
       "    </tr>\n",
       "  </thead>\n",
       "  <tbody>\n",
       "    <tr>\n",
       "      <th>0</th>\n",
       "      <td>-1</td>\n",
       "      <td>2574</td>\n",
       "      <td>0</td>\n",
       "      <td>2578</td>\n",
       "      <td>True</td>\n",
       "      <td>False</td>\n",
       "      <td>FFFF</td>\n",
       "    </tr>\n",
       "    <tr>\n",
       "      <th>1</th>\n",
       "      <td>0</td>\n",
       "      <td>702</td>\n",
       "      <td>425</td>\n",
       "      <td>695</td>\n",
       "      <td>False</td>\n",
       "      <td>False</td>\n",
       "      <td>FFFF</td>\n",
       "    </tr>\n",
       "    <tr>\n",
       "      <th>2</th>\n",
       "      <td>314</td>\n",
       "      <td>235</td>\n",
       "      <td>0</td>\n",
       "      <td>317</td>\n",
       "      <td>False</td>\n",
       "      <td>True</td>\n",
       "      <td>FFFF</td>\n",
       "    </tr>\n",
       "    <tr>\n",
       "      <th>3</th>\n",
       "      <td>2165</td>\n",
       "      <td>2165</td>\n",
       "      <td>235</td>\n",
       "      <td>3699</td>\n",
       "      <td>False</td>\n",
       "      <td>True</td>\n",
       "      <td>FFFF</td>\n",
       "    </tr>\n",
       "    <tr>\n",
       "      <th>4</th>\n",
       "      <td>0</td>\n",
       "      <td>1692</td>\n",
       "      <td>1719</td>\n",
       "      <td>1706</td>\n",
       "      <td>False</td>\n",
       "      <td>False</td>\n",
       "      <td>FFFF</td>\n",
       "    </tr>\n",
       "  </tbody>\n",
       "</table>\n",
       "</div>"
      ],
      "text/plain": [
       "   origActor  origTarget  newActor  newTarget  isDecay  isTool isCat\n",
       "0         -1        2574         0       2578     True   False  FFFF\n",
       "1          0         702       425        695    False   False  FFFF\n",
       "2        314         235         0        317    False    True  FFFF\n",
       "3       2165        2165       235       3699    False    True  FFFF\n",
       "4          0        1692      1719       1706    False   False  FFFF"
      ]
     },
     "execution_count": 49,
     "metadata": {},
     "output_type": "execute_result"
    }
   ],
   "source": [
    "trans_df = pd.DataFrame(trans_list)\n",
    "trans_df['isDecay'] = trans_df['autoDecaySeconds'] > 0\n",
    "trans_df = trans_df[['origActor', 'origTarget', 'newActor', 'newTarget', 'isDecay', 'isTool', 'isCat']]\n",
    "\n",
    "trans_df.head()"
   ]
  },
  {
   "cell_type": "markdown",
   "metadata": {},
   "source": [
    "Count each type of category transition:"
   ]
  },
  {
   "cell_type": "code",
   "execution_count": 67,
   "metadata": {},
   "outputs": [
    {
     "data": {
      "text/html": [
       "<div>\n",
       "<style scoped>\n",
       "    .dataframe tbody tr th:only-of-type {\n",
       "        vertical-align: middle;\n",
       "    }\n",
       "\n",
       "    .dataframe tbody tr th {\n",
       "        vertical-align: top;\n",
       "    }\n",
       "\n",
       "    .dataframe thead th {\n",
       "        text-align: right;\n",
       "    }\n",
       "</style>\n",
       "<table border=\"1\" class=\"dataframe\">\n",
       "  <thead>\n",
       "    <tr style=\"text-align: right;\">\n",
       "      <th></th>\n",
       "      <th>isCat</th>\n",
       "      <th>n</th>\n",
       "    </tr>\n",
       "  </thead>\n",
       "  <tbody>\n",
       "    <tr>\n",
       "      <th>0</th>\n",
       "      <td>FFFF</td>\n",
       "      <td>3746</td>\n",
       "    </tr>\n",
       "    <tr>\n",
       "      <th>1</th>\n",
       "      <td>FFFT</td>\n",
       "      <td>20</td>\n",
       "    </tr>\n",
       "    <tr>\n",
       "      <th>2</th>\n",
       "      <td>FFTF</td>\n",
       "      <td>76</td>\n",
       "    </tr>\n",
       "    <tr>\n",
       "      <th>3</th>\n",
       "      <td>FFTT</td>\n",
       "      <td>145</td>\n",
       "    </tr>\n",
       "    <tr>\n",
       "      <th>4</th>\n",
       "      <td>FTFF</td>\n",
       "      <td>7</td>\n",
       "    </tr>\n",
       "    <tr>\n",
       "      <th>5</th>\n",
       "      <td>FTFT</td>\n",
       "      <td>1</td>\n",
       "    </tr>\n",
       "    <tr>\n",
       "      <th>6</th>\n",
       "      <td>FTTF</td>\n",
       "      <td>25</td>\n",
       "    </tr>\n",
       "    <tr>\n",
       "      <th>7</th>\n",
       "      <td>FTTT</td>\n",
       "      <td>6</td>\n",
       "    </tr>\n",
       "    <tr>\n",
       "      <th>8</th>\n",
       "      <td>TFFF</td>\n",
       "      <td>55</td>\n",
       "    </tr>\n",
       "    <tr>\n",
       "      <th>9</th>\n",
       "      <td>TFFT</td>\n",
       "      <td>38</td>\n",
       "    </tr>\n",
       "    <tr>\n",
       "      <th>10</th>\n",
       "      <td>TFTF</td>\n",
       "      <td>7</td>\n",
       "    </tr>\n",
       "    <tr>\n",
       "      <th>11</th>\n",
       "      <td>TFTT</td>\n",
       "      <td>7</td>\n",
       "    </tr>\n",
       "    <tr>\n",
       "      <th>12</th>\n",
       "      <td>TTFF</td>\n",
       "      <td>183</td>\n",
       "    </tr>\n",
       "    <tr>\n",
       "      <th>13</th>\n",
       "      <td>TTFT</td>\n",
       "      <td>6</td>\n",
       "    </tr>\n",
       "    <tr>\n",
       "      <th>14</th>\n",
       "      <td>TTTF</td>\n",
       "      <td>6</td>\n",
       "    </tr>\n",
       "    <tr>\n",
       "      <th>15</th>\n",
       "      <td>TTTT</td>\n",
       "      <td>13</td>\n",
       "    </tr>\n",
       "  </tbody>\n",
       "</table>\n",
       "</div>"
      ],
      "text/plain": [
       "   isCat     n\n",
       "0   FFFF  3746\n",
       "1   FFFT    20\n",
       "2   FFTF    76\n",
       "3   FFTT   145\n",
       "4   FTFF     7\n",
       "5   FTFT     1\n",
       "6   FTTF    25\n",
       "7   FTTT     6\n",
       "8   TFFF    55\n",
       "9   TFFT    38\n",
       "10  TFTF     7\n",
       "11  TFTT     7\n",
       "12  TTFF   183\n",
       "13  TTFT     6\n",
       "14  TTTF     6\n",
       "15  TTTT    13"
      ]
     },
     "execution_count": 67,
     "metadata": {},
     "output_type": "execute_result"
    }
   ],
   "source": [
    "cat_counts = trans_df.groupby('isCat')['isTool'].agg('count').reset_index()\n",
    "cat_counts = cat_counts.rename(columns = {'isTool': 'n'})"
   ]
  },
  {
   "cell_type": "markdown",
   "metadata": {},
   "source": [
    "Check examples of category transitions:"
   ]
  },
  {
   "cell_type": "code",
   "execution_count": 87,
   "metadata": {},
   "outputs": [
    {
     "data": {
      "text/html": [
       "<div>\n",
       "<style scoped>\n",
       "    .dataframe tbody tr th:only-of-type {\n",
       "        vertical-align: middle;\n",
       "    }\n",
       "\n",
       "    .dataframe tbody tr th {\n",
       "        vertical-align: top;\n",
       "    }\n",
       "\n",
       "    .dataframe thead th {\n",
       "        text-align: right;\n",
       "    }\n",
       "</style>\n",
       "<table border=\"1\" class=\"dataframe\">\n",
       "  <thead>\n",
       "    <tr style=\"text-align: right;\">\n",
       "      <th></th>\n",
       "      <th>isCat</th>\n",
       "      <th>n</th>\n",
       "      <th>origActor</th>\n",
       "      <th>origTarget</th>\n",
       "      <th>newActor</th>\n",
       "      <th>newTarget</th>\n",
       "      <th>isDecay</th>\n",
       "      <th>isTool</th>\n",
       "    </tr>\n",
       "  </thead>\n",
       "  <tbody>\n",
       "    <tr>\n",
       "      <th>0</th>\n",
       "      <td>FFFF</td>\n",
       "      <td>3746</td>\n",
       "      <td>-1</td>\n",
       "      <td>2574</td>\n",
       "      <td>0</td>\n",
       "      <td>2578</td>\n",
       "      <td>True</td>\n",
       "      <td>False</td>\n",
       "    </tr>\n",
       "    <tr>\n",
       "      <th>1</th>\n",
       "      <td>TTFF</td>\n",
       "      <td>183</td>\n",
       "      <td>1127</td>\n",
       "      <td>2883</td>\n",
       "      <td>1127</td>\n",
       "      <td>2879</td>\n",
       "      <td>False</td>\n",
       "      <td>True</td>\n",
       "    </tr>\n",
       "    <tr>\n",
       "      <th>2</th>\n",
       "      <td>FFTT</td>\n",
       "      <td>145</td>\n",
       "      <td>516</td>\n",
       "      <td>519</td>\n",
       "      <td>520</td>\n",
       "      <td>519</td>\n",
       "      <td>False</td>\n",
       "      <td>False</td>\n",
       "    </tr>\n",
       "    <tr>\n",
       "      <th>3</th>\n",
       "      <td>FFTF</td>\n",
       "      <td>76</td>\n",
       "      <td>209</td>\n",
       "      <td>412</td>\n",
       "      <td>210</td>\n",
       "      <td>512</td>\n",
       "      <td>False</td>\n",
       "      <td>False</td>\n",
       "    </tr>\n",
       "    <tr>\n",
       "      <th>4</th>\n",
       "      <td>TFFF</td>\n",
       "      <td>55</td>\n",
       "      <td>853</td>\n",
       "      <td>3374</td>\n",
       "      <td>852</td>\n",
       "      <td>1465</td>\n",
       "      <td>False</td>\n",
       "      <td>False</td>\n",
       "    </tr>\n",
       "    <tr>\n",
       "      <th>5</th>\n",
       "      <td>TFFT</td>\n",
       "      <td>38</td>\n",
       "      <td>324</td>\n",
       "      <td>-1</td>\n",
       "      <td>239</td>\n",
       "      <td>322</td>\n",
       "      <td>False</td>\n",
       "      <td>True</td>\n",
       "    </tr>\n",
       "    <tr>\n",
       "      <th>6</th>\n",
       "      <td>FTTF</td>\n",
       "      <td>25</td>\n",
       "      <td>0</td>\n",
       "      <td>1069</td>\n",
       "      <td>969</td>\n",
       "      <td>1012</td>\n",
       "      <td>False</td>\n",
       "      <td>False</td>\n",
       "    </tr>\n",
       "    <tr>\n",
       "      <th>7</th>\n",
       "      <td>FFFT</td>\n",
       "      <td>20</td>\n",
       "      <td>812</td>\n",
       "      <td>665</td>\n",
       "      <td>0</td>\n",
       "      <td>2233</td>\n",
       "      <td>False</td>\n",
       "      <td>True</td>\n",
       "    </tr>\n",
       "    <tr>\n",
       "      <th>8</th>\n",
       "      <td>TTTT</td>\n",
       "      <td>13</td>\n",
       "      <td>394</td>\n",
       "      <td>1802</td>\n",
       "      <td>394</td>\n",
       "      <td>1806</td>\n",
       "      <td>False</td>\n",
       "      <td>True</td>\n",
       "    </tr>\n",
       "    <tr>\n",
       "      <th>9</th>\n",
       "      <td>FTFF</td>\n",
       "      <td>7</td>\n",
       "      <td>568</td>\n",
       "      <td>63</td>\n",
       "      <td>1829</td>\n",
       "      <td>63</td>\n",
       "      <td>False</td>\n",
       "      <td>False</td>\n",
       "    </tr>\n",
       "    <tr>\n",
       "      <th>10</th>\n",
       "      <td>TFTF</td>\n",
       "      <td>7</td>\n",
       "      <td>1949</td>\n",
       "      <td>1950</td>\n",
       "      <td>0</td>\n",
       "      <td>1947</td>\n",
       "      <td>False</td>\n",
       "      <td>True</td>\n",
       "    </tr>\n",
       "    <tr>\n",
       "      <th>11</th>\n",
       "      <td>TFTT</td>\n",
       "      <td>7</td>\n",
       "      <td>3685</td>\n",
       "      <td>3681</td>\n",
       "      <td>235</td>\n",
       "      <td>3681</td>\n",
       "      <td>False</td>\n",
       "      <td>True</td>\n",
       "    </tr>\n",
       "    <tr>\n",
       "      <th>12</th>\n",
       "      <td>FTTT</td>\n",
       "      <td>6</td>\n",
       "      <td>0</td>\n",
       "      <td>1033</td>\n",
       "      <td>1037</td>\n",
       "      <td>1034</td>\n",
       "      <td>False</td>\n",
       "      <td>False</td>\n",
       "    </tr>\n",
       "    <tr>\n",
       "      <th>13</th>\n",
       "      <td>TTFT</td>\n",
       "      <td>6</td>\n",
       "      <td>964</td>\n",
       "      <td>1015</td>\n",
       "      <td>964</td>\n",
       "      <td>1016</td>\n",
       "      <td>False</td>\n",
       "      <td>True</td>\n",
       "    </tr>\n",
       "    <tr>\n",
       "      <th>14</th>\n",
       "      <td>TTTF</td>\n",
       "      <td>6</td>\n",
       "      <td>849</td>\n",
       "      <td>903</td>\n",
       "      <td>849</td>\n",
       "      <td>213</td>\n",
       "      <td>False</td>\n",
       "      <td>True</td>\n",
       "    </tr>\n",
       "    <tr>\n",
       "      <th>15</th>\n",
       "      <td>FTFT</td>\n",
       "      <td>1</td>\n",
       "      <td>0</td>\n",
       "      <td>1695</td>\n",
       "      <td>1724</td>\n",
       "      <td>1749</td>\n",
       "      <td>False</td>\n",
       "      <td>False</td>\n",
       "    </tr>\n",
       "  </tbody>\n",
       "</table>\n",
       "</div>"
      ],
      "text/plain": [
       "   isCat     n  origActor  origTarget  newActor  newTarget  isDecay  isTool\n",
       "0   FFFF  3746         -1        2574         0       2578     True   False\n",
       "1   TTFF   183       1127        2883      1127       2879    False    True\n",
       "2   FFTT   145        516         519       520        519    False   False\n",
       "3   FFTF    76        209         412       210        512    False   False\n",
       "4   TFFF    55        853        3374       852       1465    False   False\n",
       "5   TFFT    38        324          -1       239        322    False    True\n",
       "6   FTTF    25          0        1069       969       1012    False   False\n",
       "7   FFFT    20        812         665         0       2233    False    True\n",
       "8   TTTT    13        394        1802       394       1806    False    True\n",
       "9   FTFF     7        568          63      1829         63    False   False\n",
       "10  TFTF     7       1949        1950         0       1947    False    True\n",
       "11  TFTT     7       3685        3681       235       3681    False    True\n",
       "12  FTTT     6          0        1033      1037       1034    False   False\n",
       "13  TTFT     6        964        1015       964       1016    False    True\n",
       "14  TTTF     6        849         903       849        213    False    True\n",
       "15  FTFT     1          0        1695      1724       1749    False   False"
      ]
     },
     "execution_count": 87,
     "metadata": {},
     "output_type": "execute_result"
    }
   ],
   "source": [
    "cat_trans = trans_df.groupby('isCat').first().reset_index()\n",
    "cat_trans = pd.merge(cat_counts, cat_trans, on = 'isCat')\n",
    "cat_trans = cat_trans.sort_values('n', ascending = False).reset_index(drop=True)\n",
    "cat_trans"
   ]
  },
  {
   "cell_type": "code",
   "execution_count": 231,
   "metadata": {},
   "outputs": [
    {
     "data": {
      "text/plain": [
       "[1126, 192]"
      ]
     },
     "execution_count": 231,
     "metadata": {},
     "output_type": "execute_result"
    }
   ],
   "source": [
    "cat.read_cat(1127)"
   ]
  },
  {
   "cell_type": "code",
   "execution_count": 234,
   "metadata": {},
   "outputs": [
    {
     "data": {
      "text/plain": [
       "{'origActor': 209,\n",
       " 'origTarget': 412,\n",
       " 'newActor': 210,\n",
       " 'newTarget': 512,\n",
       " 'autoDecaySeconds': 0,\n",
       " 'actorMinUseFraction': 0.0,\n",
       " 'targetMinUseFraction': 0.0,\n",
       " 'reverseUseActor': 0,\n",
       " 'reverseUseTarget': 0,\n",
       " 'move': 0,\n",
       " 'desiredMoveDist': 1,\n",
       " 'lastUseActor': False,\n",
       " 'lastUseTarget': True,\n",
       " 'origActorName': 'Empty Water Pouch',\n",
       " 'origTargetName': '@ Wet Canada Goose Pond',\n",
       " 'newActorName': 'Full Water Pouch',\n",
       " 'newTargetName': 'Dry Pond',\n",
       " 'isTool': False}"
      ]
     },
     "execution_count": 234,
     "metadata": {},
     "output_type": "execute_result"
    }
   ],
   "source": [
    "trans.read_transition(opj(trans_dir, '209_412_LT.txt'))"
   ]
  },
  {
   "cell_type": "markdown",
   "metadata": {},
   "source": [
    "Look into these examples:"
   ]
  },
  {
   "cell_type": "code",
   "execution_count": 235,
   "metadata": {},
   "outputs": [
    {
     "data": {
      "text/plain": [
       "[956, 951, 955, 1073, 973, 957]"
      ]
     },
     "execution_count": 235,
     "metadata": {},
     "output_type": "execute_result"
    }
   ],
   "source": [
    "cat.read_cat(969)"
   ]
  },
  {
   "cell_type": "code",
   "execution_count": 236,
   "metadata": {},
   "outputs": [
    {
     "data": {
      "text/plain": [
       "{'id': 957,\n",
       " 'name': 'Letter D',\n",
       " 'containable': 1,\n",
       " 'containSize': 0.5,\n",
       " 'vertSlotRot': -0.25,\n",
       " 'permanent': 0,\n",
       " 'minPickupAge': 3,\n",
       " 'heldInHand': 1,\n",
       " 'blocksWalking': 0,\n",
       " 'leftBlockingRadius': 0,\n",
       " 'rightBlockingRadius': 0,\n",
       " 'drawBehindPlayer': 0,\n",
       " 'mapChance': 0.0,\n",
       " 'heatValue': 0,\n",
       " 'rValue': 0.0,\n",
       " 'person': 0,\n",
       " 'noSpawn': 0,\n",
       " 'male': 0,\n",
       " 'deathMarker': 0,\n",
       " 'homeMarker': 0,\n",
       " 'floor': 0,\n",
       " 'floorHugging': 0,\n",
       " 'foodValue': 0,\n",
       " 'speedMult': 1.0,\n",
       " 'heldOffset': [4.0, -9.0],\n",
       " 'clothing': 'n',\n",
       " 'clothingOffset': [0.0, 0.0],\n",
       " 'deadlyDistance': 0,\n",
       " 'useDistance': 1,\n",
       " 'sounds': ['159:0.250000', '-1:0.0', '-1:0.0', '-1:0.0'],\n",
       " 'creationSoundInitialOnly': 1,\n",
       " 'numSlots': 0,\n",
       " 'timeStretch': 1.0,\n",
       " 'slotSize': 1.0,\n",
       " 'slotsLocked': 0,\n",
       " 'numSprites': 1,\n",
       " 'spriteID': 1209,\n",
       " 'pos': [3.0, -34.0],\n",
       " 'rot': 0.0,\n",
       " 'hFlip': 0,\n",
       " 'color': [1.0, 1.0, 1.0],\n",
       " 'ageRange': [-1.0, -1.0],\n",
       " 'parent': -1,\n",
       " 'invisHolding': 0,\n",
       " 'invisWorn': 0,\n",
       " 'behindSlots': 0,\n",
       " 'headIndex': -1,\n",
       " 'bodyIndex': -1,\n",
       " 'backFootIndex': -1,\n",
       " 'frontFootIndex': -1,\n",
       " 'numUses': [1, 1.0],\n",
       " 'useVanishIndex': -1,\n",
       " 'useAppearIndex': -1,\n",
       " 'pixHeight': 0}"
      ]
     },
     "execution_count": 236,
     "metadata": {},
     "output_type": "execute_result"
    }
   ],
   "source": [
    "obj.read_obj(957)"
   ]
  },
  {
   "cell_type": "markdown",
   "metadata": {},
   "source": [
    "## Parse categories"
   ]
  },
  {
   "cell_type": "code",
   "execution_count": null,
   "metadata": {},
   "outputs": [],
   "source": []
  },
  {
   "cell_type": "markdown",
   "metadata": {},
   "source": [
    "## Build up Tech tree"
   ]
  },
  {
   "cell_type": "code",
   "execution_count": null,
   "metadata": {},
   "outputs": [],
   "source": []
  }
 ],
 "metadata": {
  "kernelspec": {
   "display_name": "Python 3",
   "language": "python",
   "name": "python3"
  },
  "language_info": {
   "codemirror_mode": {
    "name": "ipython",
    "version": 3
   },
   "file_extension": ".py",
   "mimetype": "text/x-python",
   "name": "python",
   "nbconvert_exporter": "python",
   "pygments_lexer": "ipython3",
   "version": "3.7.6"
  }
 },
 "nbformat": 4,
 "nbformat_minor": 4
}
