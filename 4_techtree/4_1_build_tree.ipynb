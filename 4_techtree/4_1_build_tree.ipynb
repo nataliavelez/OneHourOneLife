{
 "cells": [
  {
   "cell_type": "markdown",
   "metadata": {},
   "source": [
    "# Build Tech tree representation\n",
    "Natalia Vélez, June 2020"
   ]
  },
  {
   "cell_type": "code",
   "execution_count": 1,
   "metadata": {},
   "outputs": [],
   "source": [
    "import os, re, glob, json\n",
    "from os.path import join as opj\n",
    "import numpy as np\n",
    "import pandas as pd\n",
    "\n",
    "import networkx as nx\n",
    "\n",
    "import ohol_transitions as transition\n",
    "import ohol_object as obj"
   ]
  },
  {
   "cell_type": "markdown",
   "metadata": {},
   "source": [
    "Find all transition files:"
   ]
  },
  {
   "cell_type": "code",
   "execution_count": 2,
   "metadata": {},
   "outputs": [
    {
     "name": "stdout",
     "output_type": "stream",
     "text": [
      "../../OneLifeData7/transitions/-1_2574.txt\n",
      "../../OneLifeData7/transitions/0_702.txt\n",
      "../../OneLifeData7/transitions/314_235.txt\n",
      "../../OneLifeData7/transitions/2165_2165.txt\n",
      "../../OneLifeData7/transitions/0_1692.txt\n"
     ]
    }
   ],
   "source": [
    "gsearch = lambda *args: glob.glob(opj(*args))\n",
    "\n",
    "data_dir = '../../OneLifeData7/'\n",
    "trans_dir  = opj(data_dir, 'transitions')\n",
    "trans_files = gsearch(trans_dir, '*.txt')\n",
    "\n",
    "print(*trans_files[:5], sep='\\n')"
   ]
  },
  {
   "cell_type": "code",
   "execution_count": 7,
   "metadata": {},
   "outputs": [
    {
     "data": {
      "text/plain": [
       "{'origActor': 1454,\n",
       " 'origTarget': -1,\n",
       " 'newActor': 1459,\n",
       " 'newTarget': 1489,\n",
       " 'autoDecaySeconds': 0,\n",
       " 'actorMinUseFraction': 0.0,\n",
       " 'targetMinUseFraction': 0.0,\n",
       " 'reverseUseActor': 0,\n",
       " 'reverseUseTarget': 0,\n",
       " 'move': 0,\n",
       " 'desiredMoveDist': 1,\n",
       " 'noUseActor': 0,\n",
       " 'noUseTarget': 0,\n",
       " 'lastUseActor': True,\n",
       " 'lastUseTarget': False,\n",
       " 'origActorName': 'Domestic Cow with Calf',\n",
       " 'origTargetName': 'Empty',\n",
       " 'newActorName': 'Domestic Calf',\n",
       " 'newTargetName': 'Milk Cow',\n",
       " 'isTool': False}"
      ]
     },
     "execution_count": 7,
     "metadata": {},
     "output_type": "execute_result"
    }
   ],
   "source": [
    "transition.read_transition(opj(trans_dir, '1454_-1_LA.txt'))"
   ]
  },
  {
   "cell_type": "code",
   "execution_count": null,
   "metadata": {},
   "outputs": [],
   "source": []
  }
 ],
 "metadata": {
  "kernelspec": {
   "display_name": "Python 3",
   "language": "python",
   "name": "python3"
  },
  "language_info": {
   "codemirror_mode": {
    "name": "ipython",
    "version": 3
   },
   "file_extension": ".py",
   "mimetype": "text/x-python",
   "name": "python",
   "nbconvert_exporter": "python",
   "pygments_lexer": "ipython3",
   "version": "3.7.6"
  }
 },
 "nbformat": 4,
 "nbformat_minor": 4
}
