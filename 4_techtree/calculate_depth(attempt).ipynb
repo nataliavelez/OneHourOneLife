{
 "cells": [
  {
   "cell_type": "code",
   "execution_count": 1,
   "metadata": {},
   "outputs": [],
   "source": [
    "import os, re, glob, json\n",
    "from os.path import join as opj\n",
    "import numpy as np\n",
    "import pandas as pd\n",
    "\n",
    "import networkx as nx\n",
    "\n",
    "import ohol_transitions as transition\n",
    "import ohol_object as obj"
   ]
  },
  {
   "cell_type": "markdown",
   "metadata": {},
   "source": [
    "Find object and transition files:"
   ]
  },
  {
   "cell_type": "code",
   "execution_count": 2,
   "metadata": {},
   "outputs": [
    {
     "data": {
      "text/plain": [
       "'/Users/nvelez/Dropbox'"
      ]
     },
     "execution_count": 2,
     "metadata": {},
     "output_type": "execute_result"
    }
   ],
   "source": [
    "a = !pwd\n",
    "baseDir = '/'.join(a[0].split('/')[0:-2])\n",
    "baseDir"
   ]
  },
  {
   "cell_type": "markdown",
   "metadata": {},
   "source": [
    "Transitions:"
   ]
  },
  {
   "cell_type": "code",
   "execution_count": 3,
   "metadata": {},
   "outputs": [
    {
     "name": "stdout",
     "output_type": "stream",
     "text": [
      "../../OneLifeData7/transitions/-1_2574.txt\n",
      "../../OneLifeData7/transitions/0_702.txt\n",
      "../../OneLifeData7/transitions/314_235.txt\n",
      "../../OneLifeData7/transitions/2165_2165.txt\n",
      "../../OneLifeData7/transitions/0_1692.txt\n"
     ]
    }
   ],
   "source": [
    "gsearch = lambda *args: glob.glob(opj(*args))\n",
    "data_dir = '../../OneLifeData7/'\n",
    "trans_dir  = opj(data_dir, 'transitions')\n",
    "trans_files = gsearch(trans_dir, '*.txt')\n",
    "\n",
    "print(*trans_files[:5], sep='\\n')"
   ]
  },
  {
   "cell_type": "markdown",
   "metadata": {},
   "source": [
    "Objects:"
   ]
  },
  {
   "cell_type": "code",
   "execution_count": 4,
   "metadata": {},
   "outputs": [
    {
     "name": "stdout",
     "output_type": "stream",
     "text": [
      "../../OneLifeData7/objects/3644.txt\n",
      "../../OneLifeData7/objects/1053.txt\n",
      "../../OneLifeData7/objects/1735.txt\n",
      "../../OneLifeData7/objects/3122.txt\n",
      "../../OneLifeData7/objects/2228.txt\n"
     ]
    }
   ],
   "source": [
    "obj_dir = opj(data_dir, 'objects')\n",
    "obj_files = gsearch(obj_dir, '*txt')\n",
    "\n",
    "print(*obj_files[:5], sep='\\n')"
   ]
  },
  {
   "cell_type": "markdown",
   "metadata": {},
   "source": [
    "Build a dictionary of {object: mapChance} pairs"
   ]
  },
  {
   "cell_type": "code",
   "execution_count": 25,
   "metadata": {},
   "outputs": [],
   "source": [
    "str_extract = lambda pattern, s: re.search(pattern, s).group(0)\n",
    "int_extract = lambda pattern, s: int(str_extract(pattern, s))\n",
    "\n",
    "obj_dict = {}\n",
    "for o in obj_files:\n",
    "    is_obj = re.search('nextObjectNumber|groundHeat', o) is None\n",
    "    \n",
    "    if is_obj:\n",
    "        o_num = int_extract('[0-9]+(?=.txt)', o)\n",
    "\n",
    "        o_data = obj.read_obj(o_num)\n",
    "        obj_dict[o_num] = o_data['mapChance']"
   ]
  },
  {
   "cell_type": "markdown",
   "metadata": {},
   "source": [
    "Build a dataframe of transitions:"
   ]
  },
  {
   "cell_type": "code",
   "execution_count": 27,
   "metadata": {},
   "outputs": [],
   "source": [
    "tech_df = pd.DataFrame()\n",
    "for i in trans_files:\n",
    "    a = transition.read_transition(opj(trans_dir, i))\n",
    "    tech_df = pd.concat([tech_df, pd.DataFrame.from_records(a, index=[0])], sort=True)"
   ]
  },
  {
   "cell_type": "markdown",
   "metadata": {},
   "source": [
    "Helper function: Is this a transition away from a naturally occurring object?"
   ]
  },
  {
   "cell_type": "code",
   "execution_count": null,
   "metadata": {},
   "outputs": [],
   "source": [
    "def from_natural(row):\n",
    "    # pull out the original actor and original target\n",
    "    # ignore special cases: -1, 0, -2 = nan\n",
    "    # get the map chance for valid items\n",
    "    # if ANY object has mapchance 0: (or all?)\n",
    "    # return True"
   ]
  },
  {
   "cell_type": "code",
   "execution_count": 28,
   "metadata": {},
   "outputs": [
    {
     "data": {
      "text/html": [
       "<div>\n",
       "<style scoped>\n",
       "    .dataframe tbody tr th:only-of-type {\n",
       "        vertical-align: middle;\n",
       "    }\n",
       "\n",
       "    .dataframe tbody tr th {\n",
       "        vertical-align: top;\n",
       "    }\n",
       "\n",
       "    .dataframe thead th {\n",
       "        text-align: right;\n",
       "    }\n",
       "</style>\n",
       "<table border=\"1\" class=\"dataframe\">\n",
       "  <thead>\n",
       "    <tr style=\"text-align: right;\">\n",
       "      <th></th>\n",
       "      <th>actorMinUseFraction</th>\n",
       "      <th>autoDecaySeconds</th>\n",
       "      <th>desiredMoveDist</th>\n",
       "      <th>isTool</th>\n",
       "      <th>lastUseActor</th>\n",
       "      <th>lastUseTarget</th>\n",
       "      <th>move</th>\n",
       "      <th>newActor</th>\n",
       "      <th>newActorName</th>\n",
       "      <th>newTarget</th>\n",
       "      <th>newTargetName</th>\n",
       "      <th>noUseActor</th>\n",
       "      <th>noUseTarget</th>\n",
       "      <th>origActor</th>\n",
       "      <th>origActorName</th>\n",
       "      <th>origTarget</th>\n",
       "      <th>origTargetName</th>\n",
       "      <th>reverseUseActor</th>\n",
       "      <th>reverseUseTarget</th>\n",
       "      <th>targetMinUseFraction</th>\n",
       "    </tr>\n",
       "  </thead>\n",
       "  <tbody>\n",
       "    <tr>\n",
       "      <th>0</th>\n",
       "      <td>0.0</td>\n",
       "      <td>10</td>\n",
       "      <td>1.0</td>\n",
       "      <td>False</td>\n",
       "      <td>False</td>\n",
       "      <td>False</td>\n",
       "      <td>0.0</td>\n",
       "      <td>0</td>\n",
       "      <td>Empty</td>\n",
       "      <td>2578</td>\n",
       "      <td>Cool Glass</td>\n",
       "      <td>0.0</td>\n",
       "      <td>0.0</td>\n",
       "      <td>-1</td>\n",
       "      <td>Empty</td>\n",
       "      <td>2574</td>\n",
       "      <td>Molten Glass</td>\n",
       "      <td>0.0</td>\n",
       "      <td>0.0</td>\n",
       "      <td>0.0</td>\n",
       "    </tr>\n",
       "    <tr>\n",
       "      <th>0</th>\n",
       "      <td>0.0</td>\n",
       "      <td>0</td>\n",
       "      <td>1.0</td>\n",
       "      <td>False</td>\n",
       "      <td>False</td>\n",
       "      <td>False</td>\n",
       "      <td>0.0</td>\n",
       "      <td>425</td>\n",
       "      <td>Wolf Skin</td>\n",
       "      <td>695</td>\n",
       "      <td>Wolf Crown</td>\n",
       "      <td>NaN</td>\n",
       "      <td>NaN</td>\n",
       "      <td>0</td>\n",
       "      <td>Empty</td>\n",
       "      <td>702</td>\n",
       "      <td>Wolf Crown with Wolf Skin</td>\n",
       "      <td>0.0</td>\n",
       "      <td>0.0</td>\n",
       "      <td>0.0</td>\n",
       "    </tr>\n",
       "    <tr>\n",
       "      <th>0</th>\n",
       "      <td>NaN</td>\n",
       "      <td>0</td>\n",
       "      <td>NaN</td>\n",
       "      <td>True</td>\n",
       "      <td>False</td>\n",
       "      <td>False</td>\n",
       "      <td>NaN</td>\n",
       "      <td>0</td>\n",
       "      <td>Empty</td>\n",
       "      <td>317</td>\n",
       "      <td>Crucible with Iron</td>\n",
       "      <td>NaN</td>\n",
       "      <td>NaN</td>\n",
       "      <td>314</td>\n",
       "      <td>Wrought Iron</td>\n",
       "      <td>235</td>\n",
       "      <td>Clay Bowl - empty</td>\n",
       "      <td>NaN</td>\n",
       "      <td>NaN</td>\n",
       "      <td>NaN</td>\n",
       "    </tr>\n",
       "    <tr>\n",
       "      <th>0</th>\n",
       "      <td>0.0</td>\n",
       "      <td>0</td>\n",
       "      <td>1.0</td>\n",
       "      <td>True</td>\n",
       "      <td>False</td>\n",
       "      <td>False</td>\n",
       "      <td>0.0</td>\n",
       "      <td>235</td>\n",
       "      <td>Clay Bowl - empty</td>\n",
       "      <td>3699</td>\n",
       "      <td>Bowl with Raw Rubber Balls</td>\n",
       "      <td>0.0</td>\n",
       "      <td>0.0</td>\n",
       "      <td>2165</td>\n",
       "      <td>Bowl with Raw Rubber Ball</td>\n",
       "      <td>2165</td>\n",
       "      <td>Bowl with Raw Rubber Ball</td>\n",
       "      <td>0.0</td>\n",
       "      <td>1.0</td>\n",
       "      <td>0.0</td>\n",
       "    </tr>\n",
       "    <tr>\n",
       "      <th>0</th>\n",
       "      <td>0.0</td>\n",
       "      <td>0</td>\n",
       "      <td>1.0</td>\n",
       "      <td>False</td>\n",
       "      <td>False</td>\n",
       "      <td>False</td>\n",
       "      <td>0.0</td>\n",
       "      <td>1719</td>\n",
       "      <td>Hungry Schnauser Puppy - held</td>\n",
       "      <td>1706</td>\n",
       "      <td>Schnauser with Puppies -2</td>\n",
       "      <td>0.0</td>\n",
       "      <td>0.0</td>\n",
       "      <td>0</td>\n",
       "      <td>Empty</td>\n",
       "      <td>1692</td>\n",
       "      <td>Schnauser with Puppies -3</td>\n",
       "      <td>0.0</td>\n",
       "      <td>0.0</td>\n",
       "      <td>0.0</td>\n",
       "    </tr>\n",
       "  </tbody>\n",
       "</table>\n",
       "</div>"
      ],
      "text/plain": [
       "   actorMinUseFraction  autoDecaySeconds  desiredMoveDist  isTool  \\\n",
       "0                  0.0                10              1.0   False   \n",
       "0                  0.0                 0              1.0   False   \n",
       "0                  NaN                 0              NaN    True   \n",
       "0                  0.0                 0              1.0    True   \n",
       "0                  0.0                 0              1.0   False   \n",
       "\n",
       "   lastUseActor  lastUseTarget  move  newActor                   newActorName  \\\n",
       "0         False          False   0.0         0                          Empty   \n",
       "0         False          False   0.0       425                      Wolf Skin   \n",
       "0         False          False   NaN         0                          Empty   \n",
       "0         False          False   0.0       235              Clay Bowl - empty   \n",
       "0         False          False   0.0      1719  Hungry Schnauser Puppy - held   \n",
       "\n",
       "   newTarget               newTargetName  noUseActor  noUseTarget  origActor  \\\n",
       "0       2578                  Cool Glass         0.0          0.0         -1   \n",
       "0        695                  Wolf Crown         NaN          NaN          0   \n",
       "0        317          Crucible with Iron         NaN          NaN        314   \n",
       "0       3699  Bowl with Raw Rubber Balls         0.0          0.0       2165   \n",
       "0       1706   Schnauser with Puppies -2         0.0          0.0          0   \n",
       "\n",
       "               origActorName  origTarget             origTargetName  \\\n",
       "0                      Empty        2574               Molten Glass   \n",
       "0                      Empty         702  Wolf Crown with Wolf Skin   \n",
       "0               Wrought Iron         235          Clay Bowl - empty   \n",
       "0  Bowl with Raw Rubber Ball        2165  Bowl with Raw Rubber Ball   \n",
       "0                      Empty        1692  Schnauser with Puppies -3   \n",
       "\n",
       "   reverseUseActor  reverseUseTarget  targetMinUseFraction  \n",
       "0              0.0               0.0                   0.0  \n",
       "0              0.0               0.0                   0.0  \n",
       "0              NaN               NaN                   NaN  \n",
       "0              0.0               1.0                   0.0  \n",
       "0              0.0               0.0                   0.0  "
      ]
     },
     "execution_count": 28,
     "metadata": {},
     "output_type": "execute_result"
    }
   ],
   "source": [
    "tech_df.head()"
   ]
  },
  {
   "cell_type": "code",
   "execution_count": 29,
   "metadata": {},
   "outputs": [
    {
     "data": {
      "text/html": [
       "<div>\n",
       "<style scoped>\n",
       "    .dataframe tbody tr th:only-of-type {\n",
       "        vertical-align: middle;\n",
       "    }\n",
       "\n",
       "    .dataframe tbody tr th {\n",
       "        vertical-align: top;\n",
       "    }\n",
       "\n",
       "    .dataframe thead th {\n",
       "        text-align: right;\n",
       "    }\n",
       "</style>\n",
       "<table border=\"1\" class=\"dataframe\">\n",
       "  <thead>\n",
       "    <tr style=\"text-align: right;\">\n",
       "      <th></th>\n",
       "      <th>actorMinUseFraction</th>\n",
       "      <th>autoDecaySeconds</th>\n",
       "      <th>desiredMoveDist</th>\n",
       "      <th>isTool</th>\n",
       "      <th>lastUseActor</th>\n",
       "      <th>lastUseTarget</th>\n",
       "      <th>move</th>\n",
       "      <th>newActor</th>\n",
       "      <th>newActorName</th>\n",
       "      <th>newTarget</th>\n",
       "      <th>newTargetName</th>\n",
       "      <th>noUseActor</th>\n",
       "      <th>noUseTarget</th>\n",
       "      <th>origActor</th>\n",
       "      <th>origActorName</th>\n",
       "      <th>origTarget</th>\n",
       "      <th>origTargetName</th>\n",
       "      <th>reverseUseActor</th>\n",
       "      <th>reverseUseTarget</th>\n",
       "      <th>targetMinUseFraction</th>\n",
       "    </tr>\n",
       "  </thead>\n",
       "  <tbody>\n",
       "    <tr>\n",
       "      <th>0</th>\n",
       "      <td>NaN</td>\n",
       "      <td>0</td>\n",
       "      <td>NaN</td>\n",
       "      <td>True</td>\n",
       "      <td>False</td>\n",
       "      <td>False</td>\n",
       "      <td>NaN</td>\n",
       "      <td>0</td>\n",
       "      <td>Empty</td>\n",
       "      <td>317</td>\n",
       "      <td>Crucible with Iron</td>\n",
       "      <td>NaN</td>\n",
       "      <td>NaN</td>\n",
       "      <td>314</td>\n",
       "      <td>Wrought Iron</td>\n",
       "      <td>235</td>\n",
       "      <td>Clay Bowl - empty</td>\n",
       "      <td>NaN</td>\n",
       "      <td>NaN</td>\n",
       "      <td>NaN</td>\n",
       "    </tr>\n",
       "    <tr>\n",
       "      <th>0</th>\n",
       "      <td>NaN</td>\n",
       "      <td>0</td>\n",
       "      <td>NaN</td>\n",
       "      <td>True</td>\n",
       "      <td>False</td>\n",
       "      <td>False</td>\n",
       "      <td>NaN</td>\n",
       "      <td>0</td>\n",
       "      <td>Empty</td>\n",
       "      <td>316</td>\n",
       "      <td>Crucible with Iron and Charcoal</td>\n",
       "      <td>NaN</td>\n",
       "      <td>NaN</td>\n",
       "      <td>314</td>\n",
       "      <td>Wrought Iron</td>\n",
       "      <td>318</td>\n",
       "      <td>Crucible with Charcoal</td>\n",
       "      <td>NaN</td>\n",
       "      <td>NaN</td>\n",
       "      <td>NaN</td>\n",
       "    </tr>\n",
       "  </tbody>\n",
       "</table>\n",
       "</div>"
      ],
      "text/plain": [
       "   actorMinUseFraction  autoDecaySeconds  desiredMoveDist  isTool  \\\n",
       "0                  NaN                 0              NaN    True   \n",
       "0                  NaN                 0              NaN    True   \n",
       "\n",
       "   lastUseActor  lastUseTarget  move  newActor newActorName  newTarget  \\\n",
       "0         False          False   NaN         0        Empty        317   \n",
       "0         False          False   NaN         0        Empty        316   \n",
       "\n",
       "                     newTargetName  noUseActor  noUseTarget  origActor  \\\n",
       "0               Crucible with Iron         NaN          NaN        314   \n",
       "0  Crucible with Iron and Charcoal         NaN          NaN        314   \n",
       "\n",
       "  origActorName  origTarget          origTargetName  reverseUseActor  \\\n",
       "0  Wrought Iron         235       Clay Bowl - empty              NaN   \n",
       "0  Wrought Iron         318  Crucible with Charcoal              NaN   \n",
       "\n",
       "   reverseUseTarget  targetMinUseFraction  \n",
       "0               NaN                   NaN  \n",
       "0               NaN                   NaN  "
      ]
     },
     "execution_count": 29,
     "metadata": {},
     "output_type": "execute_result"
    }
   ],
   "source": [
    "tech_df.query('origActor == 314')"
   ]
  },
  {
   "cell_type": "code",
   "execution_count": null,
   "metadata": {},
   "outputs": [],
   "source": [
    "col = ['origActor','origTarget','newActor','newTarget']\n",
    "tech_tree_df = tech_df[col]\n",
    "tech_tree_df = tech_tree_df.query('(origActor >= 0) and (origTarget >= 0)').reset_index(drop = True)\n",
    "tech_tree_df.head()"
   ]
  },
  {
   "cell_type": "code",
   "execution_count": 33,
   "metadata": {},
   "outputs": [
    {
     "data": {
      "text/plain": [
       "{'origActor': -1,\n",
       " 'origTarget': 52,\n",
       " 'newActor': 0,\n",
       " 'newTarget': 50,\n",
       " 'autoDecaySeconds': 20,\n",
       " 'lastUseActor': False,\n",
       " 'lastUseTarget': False,\n",
       " 'origActorName': 'Empty',\n",
       " 'origTargetName': 'Fruiting Milkweed',\n",
       " 'newActorName': 'Empty',\n",
       " 'newTargetName': 'Milkweed',\n",
       " 'isTool': False}"
      ]
     },
     "execution_count": 33,
     "metadata": {},
     "output_type": "execute_result"
    }
   ],
   "source": [
    "transition.read_transition(opj(trans_dir, '-1_52.txt'))"
   ]
  },
  {
   "cell_type": "code",
   "execution_count": null,
   "metadata": {},
   "outputs": [],
   "source": [
    "def read_obj_file(obj_id):\n",
    "    obj_str = str(obj_id)\n",
    "    ## Read object file\\n\",\n",
    "    obj_file = baseDir + '/OneLifeData7/objects/%s.txt' % obj_str\n",
    "    with open(obj_file, 'r') as file:\n",
    "        raw_data = file.read().splitlines()\n",
    "\n",
    "    return raw_data"
   ]
  },
  {
   "cell_type": "code",
   "execution_count": null,
   "metadata": {},
   "outputs": [],
   "source": [
    "#determine if this is a natural object\n",
    "nat_obj = []\n",
    "for i in range(1,len(tech_tree_df)):\n",
    "    try:\n",
    "        b = read_obj_file(i)[7].split('#')[0]\n",
    "        if float(b.split('=')[1]) != 0:\n",
    "            nat_obj.append(i)\n",
    "    except:\n",
    "        FileNotFoundError"
   ]
  },
  {
   "cell_type": "code",
   "execution_count": null,
   "metadata": {},
   "outputs": [],
   "source": [
    "max_item_id = max(np.max(tech_tree_df).to_list())\n",
    "#replace negative values\n",
    "tech_tree_df = tech_tree_df.replace(-1, max_item_id+1)\n",
    "#make a list of all objects\n",
    "items = np.arange(max_item_id+2)\n",
    "print(max_item_id)"
   ]
  },
  {
   "cell_type": "code",
   "execution_count": null,
   "metadata": {},
   "outputs": [],
   "source": [
    "#BruteForce Recursion. Very slow\n",
    "\n",
    "# changed = True\n",
    "# while changed:\n",
    "#     changed = False\n",
    "#     #loop over all items  \n",
    "#     for item in items:\n",
    "        \n",
    "#         #loop over the dataframe\n",
    "#         for i in range(0,len(tech_tree_df)):\n",
    "#             item1 = tech_tree_df.iloc[i]['origActor']\n",
    "#             item2 = tech_tree_df.iloc[i]['origTarget']\n",
    "#             product1 = tech_tree_df.iloc[i]['newActor']\n",
    "#             product2 = tech_tree_df.iloc[i]['newTarget']\n",
    "            \n",
    "#             if (item == product1) or (item == product2):\n",
    "#                 #get out of while loop is the depth of the item does not change\n",
    "#                 changed = (depth[item1]+depth[item2]+1) < depth[item]\n",
    "#                 #update the depth of this item\n",
    "#                 depth[item] = min(depth[item], depth[item1]+depth[item2]+1)"
   ]
  },
  {
   "cell_type": "code",
   "execution_count": null,
   "metadata": {},
   "outputs": [],
   "source": [
    "#creating a nested dictionary that stores what item plus what other item lead to what products\n",
    "d = dict()\n",
    "for item in items:\n",
    "    d[item] = {}\n",
    "    recipy = tech_tree_df.query('(origActor == @item) or (origTarget == @item)')\n",
    "    if len(recipy):\n",
    "        for j in range(0,len(recipy)):\n",
    "            ingredients = recipy.iloc[j].tolist()[0:2]\n",
    "            ingredient = np.delete(ingredients, np.where(ingredients == item)[0][0])\n",
    "            products = recipy.iloc[j].tolist()[2:4]\n",
    "            d[item][ingredient[0]] = products"
   ]
  },
  {
   "cell_type": "code",
   "execution_count": null,
   "metadata": {},
   "outputs": [],
   "source": [
    "#initialize depth\n",
    "depth = {}\n",
    "for item in items:\n",
    "    if item in nat_obj:\n",
    "        depth[item] = 0\n",
    "    else:\n",
    "        depth[item] = 1000\n",
    "depth[0] = 0 #empty hand\n",
    "depth[len(depth)-1] = 0 #empty ground"
   ]
  },
  {
   "cell_type": "code",
   "execution_count": null,
   "metadata": {},
   "outputs": [],
   "source": [
    "#create a root to start from\n",
    "root = np.transpose(np.append(0,nat_obj))\n",
    "\n",
    "while len(root):\n",
    "    #take an item from root and remove it\n",
    "    item = root[0]\n",
    "    root = np.delete(root,0)\n",
    "    print(root)\n",
    "    #put all products associated with this item into root\n",
    "    for key in d[item]: #looping through other ingredients\n",
    "        for product in d[item][key]:\n",
    "            if depth[product] > (depth[item] + depth[key] + 1):\n",
    "                depth[product] = depth[item] + depth[key] + 1\n",
    "                root = np.append(root, product)\n",
    "                "
   ]
  },
  {
   "cell_type": "code",
   "execution_count": null,
   "metadata": {
    "scrolled": false
   },
   "outputs": [],
   "source": [
    "depth.values()"
   ]
  },
  {
   "cell_type": "code",
   "execution_count": null,
   "metadata": {},
   "outputs": [],
   "source": []
  }
 ],
 "metadata": {
  "kernelspec": {
   "display_name": "Python 3",
   "language": "python",
   "name": "python3"
  },
  "language_info": {
   "codemirror_mode": {
    "name": "ipython",
    "version": 3
   },
   "file_extension": ".py",
   "mimetype": "text/x-python",
   "name": "python",
   "nbconvert_exporter": "python",
   "pygments_lexer": "ipython3",
   "version": "3.7.6"
  }
 },
 "nbformat": 4,
 "nbformat_minor": 2
}
