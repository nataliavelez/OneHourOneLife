{
 "cells": [
  {
   "cell_type": "code",
   "execution_count": 2,
   "metadata": {},
   "outputs": [
    {
     "data": {
      "text/plain": [
       "'/Users/dengwenning/Documents/GitHub'"
      ]
     },
     "execution_count": 2,
     "metadata": {},
     "output_type": "execute_result"
    }
   ],
   "source": [
    "import os, sys, re\n",
    "a = !pwd\n",
    "baseDir = '/'.join(a[0].split('/')[0:-2])"
   ]
  },
  {
   "cell_type": "code",
   "execution_count": 28,
   "metadata": {
    "collapsed": true
   },
   "outputs": [],
   "source": [
    "# Helper: Read category files\n",
    "def read_cat_file(cat_id):\n",
    "    \n",
    "    cat_str = str(cat_id)\n",
    "\n",
    "    ## Read object file\n",
    "    cat_file = baseDir + '/OneLifeData7-master/categories/%s.txt' % cat_str\n",
    "    with open(cat_file, 'r') as file:\n",
    "        raw_data = file.read().splitlines()\n",
    "        \n",
    "    return raw_data"
   ]
  },
  {
   "cell_type": "code",
   "execution_count": 32,
   "metadata": {},
   "outputs": [],
   "source": [
    "def return_child(category):\n",
    "    child = []\n",
    "    try:\n",
    "        parent = read_cat_file(str(category))\n",
    "        for i in parent:\n",
    "            if ('pattern' != i) and ('=' not in i):\n",
    "                child.append(int(i))\n",
    "    except:\n",
    "        FileNotFoundError\n",
    "        \n",
    "    return child"
   ]
  },
  {
   "cell_type": "code",
   "execution_count": null,
   "metadata": {
    "collapsed": true
   },
   "outputs": [],
   "source": []
  }
 ],
 "metadata": {
  "kernelspec": {
   "display_name": "Python 3",
   "language": "python",
   "name": "python3"
  },
  "language_info": {
   "codemirror_mode": {
    "name": "ipython",
    "version": 3
   },
   "file_extension": ".py",
   "mimetype": "text/x-python",
   "name": "python",
   "nbconvert_exporter": "python",
   "pygments_lexer": "ipython3",
   "version": "3.6.3"
  }
 },
 "nbformat": 4,
 "nbformat_minor": 2
}
