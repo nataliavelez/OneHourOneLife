{
 "cells": [
  {
   "cell_type": "code",
   "execution_count": 13,
   "metadata": {},
   "outputs": [],
   "source": [
    "import os, sys, re\n",
    "import ohol_object\n",
    "\n",
    "def read_transition(tpath):\n",
    "    \n",
    "#     # debug only\n",
    "#     trans_dir = '../../OneLifeData7/transitions'\n",
    "#     trans_id = '659_556'\n",
    "#     trans_file = '%s/%s.txt' % (trans_dir, trans_id)\n",
    "\n",
    "    tkeys = [\n",
    "        'origActor',\n",
    "        'origTarget',\n",
    "        'newActor',\n",
    "        'newTarget',\n",
    "        'autoDecaySeconds',\n",
    "        'actorMinUseFraction',\n",
    "        'targetMinUseFraction',\n",
    "        'reverseUseActor',\n",
    "        'reverseUseTarget',\n",
    "        'move',\n",
    "        'desiredMoveDist',\n",
    "        'noUseActor',\n",
    "        'noUseTarget'\n",
    "    ]\n",
    "    \n",
    "    tfile = os.path.basename(tpath)\n",
    "    tid = tfile.replace('.txt', '')\n",
    "    originals = tid.split('_')\n",
    "    \n",
    "    with open(tpath, 'r') as file:\n",
    "        raw_values = file.read()\n",
    "    \n",
    "    raw_values = raw_values.split(' ')\n",
    "    raw_values = originals + raw_values\n",
    "    tvals = [ohol_object.parse_obj_values(v) for v in raw_values]\n",
    "    tdata = dict(zip(tkeys, tvals))\n",
    "    \n",
    "    return tdata"
   ]
  }
 ],
 "metadata": {
  "kernelspec": {
   "display_name": "Python 3",
   "language": "python",
   "name": "python3"
  },
  "language_info": {
   "codemirror_mode": {
    "name": "ipython",
    "version": 3
   },
   "file_extension": ".py",
   "mimetype": "text/x-python",
   "name": "python",
   "nbconvert_exporter": "python",
   "pygments_lexer": "ipython3",
   "version": "3.7.6"
  }
 },
 "nbformat": 4,
 "nbformat_minor": 4
}
