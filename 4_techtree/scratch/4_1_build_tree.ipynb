{
 "cells": [
  {
   "cell_type": "markdown",
   "metadata": {},
   "source": [
    "# Build Tech tree representation\n",
    "Natalia Vélez, June 2020"
   ]
  },
  {
   "cell_type": "code",
   "execution_count": 1,
   "metadata": {},
   "outputs": [],
   "source": [
    "%matplotlib inline\n",
    "import os, re, glob, json, operator\n",
    "import numpy as np\n",
    "import pandas as pd\n",
    "import networkx as nx\n",
    "import matplotlib.pyplot as plt\n",
    "\n",
    "from os.path import join as opj\n",
    "from tqdm import notebook\n",
    "\n",
    "import ohol_transitions as transition\n",
    "import ohol_object as obj"
   ]
  },
  {
   "cell_type": "markdown",
   "metadata": {},
   "source": [
    "## Setup\n",
    "\n",
    "### Find data"
   ]
  },
  {
   "cell_type": "markdown",
   "metadata": {},
   "source": [
    "Find all transition files:"
   ]
  },
  {
   "cell_type": "code",
   "execution_count": 2,
   "metadata": {},
   "outputs": [
    {
     "name": "stdout",
     "output_type": "stream",
     "text": [
      "../../OneLifeData7/transitions/-1_2574.txt\n",
      "../../OneLifeData7/transitions/0_702.txt\n",
      "../../OneLifeData7/transitions/314_235.txt\n",
      "../../OneLifeData7/transitions/2165_2165.txt\n",
      "../../OneLifeData7/transitions/0_1692.txt\n"
     ]
    }
   ],
   "source": [
    "gsearch = lambda *args: glob.glob(opj(*args))\n",
    "\n",
    "data_dir = '../../OneLifeData7/'\n",
    "trans_dir  = opj(data_dir, 'transitions')\n",
    "trans_files = gsearch(trans_dir, '*.txt')\n",
    "\n",
    "print(*trans_files[:5], sep='\\n')"
   ]
  },
  {
   "cell_type": "markdown",
   "metadata": {},
   "source": [
    "Find all object files:"
   ]
  },
  {
   "cell_type": "code",
   "execution_count": 3,
   "metadata": {},
   "outputs": [
    {
     "name": "stdout",
     "output_type": "stream",
     "text": [
      "../../OneLifeData7/objects/3644.txt\n",
      "../../OneLifeData7/objects/1053.txt\n",
      "../../OneLifeData7/objects/1735.txt\n",
      "../../OneLifeData7/objects/3122.txt\n",
      "../../OneLifeData7/objects/2228.txt\n"
     ]
    }
   ],
   "source": [
    "obj_dir = opj(data_dir, 'objects')\n",
    "obj_files = gsearch(obj_dir, '*.txt')\n",
    "\n",
    "print(*obj_files[:5], sep='\\n')"
   ]
  },
  {
   "cell_type": "markdown",
   "metadata": {},
   "source": [
    "### Data check\n",
    "Do all non-special transition files have associated object files?"
   ]
  },
  {
   "cell_type": "markdown",
   "metadata": {},
   "source": [
    "a. Object files:"
   ]
  },
  {
   "cell_type": "code",
   "execution_count": 4,
   "metadata": {},
   "outputs": [
    {
     "name": "stdout",
     "output_type": "stream",
     "text": [
      "groundHeat_4\n",
      "groundHeat_5\n",
      "groundHeat_6\n",
      "nextObjectNumber\n"
     ]
    }
   ],
   "source": [
    "all_obj_objs = []\n",
    "for f in obj_files:\n",
    "    f_base = os.path.basename(f)\n",
    "    fname, _ =  os.path.splitext(f_base)\n",
    "    all_obj_objs.append(fname)\n",
    "\n",
    "all_obj_objs.sort()\n",
    "\n",
    "is_special_obj = re.compile('[a-z]+')\n",
    "print(*[o for o in all_obj_objs if is_special_obj.match(o)], sep='\\n')"
   ]
  },
  {
   "cell_type": "markdown",
   "metadata": {},
   "source": [
    "Filter out specials:"
   ]
  },
  {
   "cell_type": "code",
   "execution_count": 5,
   "metadata": {},
   "outputs": [
    {
     "name": "stdout",
     "output_type": "stream",
     "text": [
      "100\n",
      "1000\n",
      "1001\n",
      "1002\n",
      "1003\n"
     ]
    }
   ],
   "source": [
    "obj_objs = np.array([int(o) for o in all_obj_objs if not is_special_obj.match(o)])\n",
    "print(*obj_objs[:5], sep='\\n')"
   ]
  },
  {
   "cell_type": "markdown",
   "metadata": {},
   "source": [
    "b. Transition files:"
   ]
  },
  {
   "cell_type": "code",
   "execution_count": 6,
   "metadata": {},
   "outputs": [],
   "source": [
    "trans_objs = []\n",
    "for f in trans_files:\n",
    "    f_objs = transition.read_objs(f)\n",
    "    trans_objs.append(f_objs)"
   ]
  },
  {
   "cell_type": "code",
   "execution_count": 7,
   "metadata": {},
   "outputs": [
    {
     "data": {
      "text/plain": [
       "array([  -2,   -1,    0, ..., 4263, 4264, 4265])"
      ]
     },
     "execution_count": 7,
     "metadata": {},
     "output_type": "execute_result"
    }
   ],
   "source": [
    "all_trans_objs = np.array(trans_objs)\n",
    "all_trans_objs = all_trans_objs.flatten()\n",
    "#all_trans_objs = all_trans_objs[all_trans_objs > 0]\n",
    "unique_trans_objs = np.unique(all_trans_objs)\n",
    "unique_trans_objs"
   ]
  },
  {
   "cell_type": "markdown",
   "metadata": {},
   "source": [
    "Any transition objs unaccounted for?:"
   ]
  },
  {
   "cell_type": "code",
   "execution_count": 8,
   "metadata": {},
   "outputs": [
    {
     "data": {
      "text/plain": [
       "array([-2, -1,  0])"
      ]
     },
     "execution_count": 8,
     "metadata": {},
     "output_type": "execute_result"
    }
   ],
   "source": [
    "np.setdiff1d(unique_trans_objs, obj_objs)"
   ]
  },
  {
   "cell_type": "markdown",
   "metadata": {},
   "source": [
    "^ -2, 1, 0 are all special designations for empty spaces and player characters. We are ready to go!"
   ]
  },
  {
   "cell_type": "markdown",
   "metadata": {},
   "source": [
    "## Build graph from transitions"
   ]
  },
  {
   "cell_type": "markdown",
   "metadata": {},
   "source": [
    "First, we'll make note of each object's ingredients and products, across all transitions:"
   ]
  },
  {
   "cell_type": "code",
   "execution_count": 9,
   "metadata": {},
   "outputs": [
    {
     "data": {
      "application/vnd.jupyter.widget-view+json": {
       "model_id": "ff4badf83a064c6781442a37a8f912b0",
       "version_major": 2,
       "version_minor": 0
      },
      "text/plain": [
       "HBox(children=(FloatProgress(value=0.0, max=4341.0), HTML(value='')))"
      ]
     },
     "metadata": {},
     "output_type": "display_data"
    },
    {
     "name": "stdout",
     "output_type": "stream",
     "text": [
      "\n"
     ]
    }
   ],
   "source": [
    "transition_dict = {}\n",
    "\n",
    "for f in notebook.tqdm(trans_files):\n",
    "    tdata = transition.read_transition(f)\n",
    "    t_from = (tdata['origActor'], tdata['origTarget'])\n",
    "    t_to = (tdata['newActor'], tdata['newTarget'])\n",
    "    \n",
    "    for o in t_to:\n",
    "        if (o > 0) & (o not in t_from):\n",
    "        \n",
    "            if o not in transition_dict:\n",
    "                transition_dict[o] = {'ingredients': [], 'products': [], 'recipes': []}\n",
    "            \n",
    "            transition_dict[o]['ingredients'].append(t_from)            \n",
    "            \n",
    "    \n",
    "    for o in t_from:\n",
    "        \n",
    "        if (o > 0) & (o not in t_to):\n",
    "            if o not in transition_dict:\n",
    "                    transition_dict[o] = {'ingredients': [], 'products': [], 'recipes': []}\n",
    "        \n",
    "            transition_dict[o]['products'].append(t_to) "
   ]
  },
  {
   "cell_type": "markdown",
   "metadata": {},
   "source": [
    "Clean up ingredients and products:"
   ]
  },
  {
   "cell_type": "code",
   "execution_count": 10,
   "metadata": {},
   "outputs": [],
   "source": [
    "for k,v in transition_dict.items():\n",
    "    for i_k, i_v in transition_dict[k].items():\n",
    "        \n",
    "        i_v_new = np.array(i_v).flatten()\n",
    "        i_v_new = i_v_new[i_v_new > 0].tolist()\n",
    "        transition_dict[k][i_k] = i_v_new"
   ]
  },
  {
   "cell_type": "markdown",
   "metadata": {},
   "source": [
    "Next, we'll use the ingredients + products list to identify \"legal\" transitions. \n",
    "\n",
    "**Illegal transitions**\n",
    "\n",
    "We want to avoid endless loops, where products are reverted back to their components. To do this effectively, we do have to retrace the tree back a few steps, otherwise we will miss a few transformations:\n",
    "\n",
    "Example 1:\n",
    "\n",
    "* carrot + bowl —> bowl of carrot (legal!)\n",
    "* empty hand + bowl of carrot —> carrot + bowl (illegal!)\n",
    "\n",
    "Example 2: \n",
    "\n",
    "* clay bowl + rabbit —> bowl of rabbit + empty floor\n",
    "* sharp stone + rabbit —> sharp stone + bowl of minced rabbit\n",
    "* empty hand + bowl of minced rabbit —> minced rabbit + **clay bowl** (illegal!)\n",
    "\n",
    "We also want to avoid tools being listed as their own components. For example, take a closer look at this transition:\n",
    "\n",
    "**sharp stone** + rabbit —> **sharp stone** + bowl of minced rabbit\n",
    "\n",
    "We want sharp stone + rabbit to be added to the recipes for \"bowl of minced rabbit\", but not for \"sharp stone.\"\n",
    "\n",
    "`get_precursors` is a helper function to check that condition A is met"
   ]
  },
  {
   "cell_type": "code",
   "execution_count": 17,
   "metadata": {},
   "outputs": [],
   "source": [
    "def get_precursors(product, depth):\n",
    "    \n",
    "    precursors = [i for i in transition_dict[product]['ingredients'] if i > 0]\n",
    "    \n",
    "    if depth > 0:\n",
    "        for p in precursors:\n",
    "            if p in transition_dict:\n",
    "                precursors += get_precursors(p, depth-1)\n",
    "        \n",
    "    return precursors\n",
    "\n",
    "def is_noncirc(i_from, i_to): return i_to not in transition_dict[i_from]['ingredients']"
   ]
  },
  {
   "cell_type": "markdown",
   "metadata": {},
   "source": [
    "Iterate over dictionary:"
   ]
  },
  {
   "cell_type": "code",
   "execution_count": 19,
   "metadata": {},
   "outputs": [
    {
     "data": {
      "application/vnd.jupyter.widget-view+json": {
       "model_id": "75fa46e755c54b97be0b78366745f4f7",
       "version_major": 2,
       "version_minor": 0
      },
      "text/plain": [
       "HBox(children=(FloatProgress(value=0.0, max=4341.0), HTML(value='')))"
      ]
     },
     "metadata": {},
     "output_type": "display_data"
    },
    {
     "ename": "KeyError",
     "evalue": "519",
     "output_type": "error",
     "traceback": [
      "\u001b[0;31m---------------------------------------------------------------------------\u001b[0m",
      "\u001b[0;31mKeyError\u001b[0m                                  Traceback (most recent call last)",
      "\u001b[0;32m<ipython-input-19-62c589ba72af>\u001b[0m in \u001b[0;36m<module>\u001b[0;34m\u001b[0m\n\u001b[1;32m     10\u001b[0m             \u001b[0mprec\u001b[0m \u001b[0;34m=\u001b[0m \u001b[0mget_precursors\u001b[0m\u001b[0;34m(\u001b[0m\u001b[0mproduct\u001b[0m\u001b[0;34m,\u001b[0m \u001b[0;36m0\u001b[0m\u001b[0;34m)\u001b[0m\u001b[0;34m\u001b[0m\u001b[0;34m\u001b[0m\u001b[0m\n\u001b[1;32m     11\u001b[0m \u001b[0;34m\u001b[0m\u001b[0m\n\u001b[0;32m---> 12\u001b[0;31m             \u001b[0mis_valid\u001b[0m \u001b[0;34m=\u001b[0m \u001b[0mnp\u001b[0m\u001b[0;34m.\u001b[0m\u001b[0mall\u001b[0m\u001b[0;34m(\u001b[0m\u001b[0;34m[\u001b[0m\u001b[0mis_noncirc\u001b[0m\u001b[0;34m(\u001b[0m\u001b[0mingredient\u001b[0m\u001b[0;34m,\u001b[0m \u001b[0mproduct\u001b[0m\u001b[0;34m)\u001b[0m \u001b[0;32mfor\u001b[0m \u001b[0mingredient\u001b[0m \u001b[0;32min\u001b[0m \u001b[0mprec\u001b[0m \u001b[0;32mif\u001b[0m \u001b[0mingredient\u001b[0m \u001b[0;34m>\u001b[0m \u001b[0;36m0\u001b[0m\u001b[0;34m]\u001b[0m\u001b[0;34m)\u001b[0m\u001b[0;34m\u001b[0m\u001b[0;34m\u001b[0m\u001b[0m\n\u001b[0m\u001b[1;32m     13\u001b[0m \u001b[0;34m\u001b[0m\u001b[0m\n\u001b[1;32m     14\u001b[0m             \u001b[0;32mif\u001b[0m \u001b[0mis_valid\u001b[0m\u001b[0;34m:\u001b[0m\u001b[0;34m\u001b[0m\u001b[0;34m\u001b[0m\u001b[0m\n",
      "\u001b[0;32m<ipython-input-19-62c589ba72af>\u001b[0m in \u001b[0;36m<listcomp>\u001b[0;34m(.0)\u001b[0m\n\u001b[1;32m     10\u001b[0m             \u001b[0mprec\u001b[0m \u001b[0;34m=\u001b[0m \u001b[0mget_precursors\u001b[0m\u001b[0;34m(\u001b[0m\u001b[0mproduct\u001b[0m\u001b[0;34m,\u001b[0m \u001b[0;36m0\u001b[0m\u001b[0;34m)\u001b[0m\u001b[0;34m\u001b[0m\u001b[0;34m\u001b[0m\u001b[0m\n\u001b[1;32m     11\u001b[0m \u001b[0;34m\u001b[0m\u001b[0m\n\u001b[0;32m---> 12\u001b[0;31m             \u001b[0mis_valid\u001b[0m \u001b[0;34m=\u001b[0m \u001b[0mnp\u001b[0m\u001b[0;34m.\u001b[0m\u001b[0mall\u001b[0m\u001b[0;34m(\u001b[0m\u001b[0;34m[\u001b[0m\u001b[0mis_noncirc\u001b[0m\u001b[0;34m(\u001b[0m\u001b[0mingredient\u001b[0m\u001b[0;34m,\u001b[0m \u001b[0mproduct\u001b[0m\u001b[0;34m)\u001b[0m \u001b[0;32mfor\u001b[0m \u001b[0mingredient\u001b[0m \u001b[0;32min\u001b[0m \u001b[0mprec\u001b[0m \u001b[0;32mif\u001b[0m \u001b[0mingredient\u001b[0m \u001b[0;34m>\u001b[0m \u001b[0;36m0\u001b[0m\u001b[0;34m]\u001b[0m\u001b[0;34m)\u001b[0m\u001b[0;34m\u001b[0m\u001b[0;34m\u001b[0m\u001b[0m\n\u001b[0m\u001b[1;32m     13\u001b[0m \u001b[0;34m\u001b[0m\u001b[0m\n\u001b[1;32m     14\u001b[0m             \u001b[0;32mif\u001b[0m \u001b[0mis_valid\u001b[0m\u001b[0;34m:\u001b[0m\u001b[0;34m\u001b[0m\u001b[0;34m\u001b[0m\u001b[0m\n",
      "\u001b[0;32m<ipython-input-17-04dac364f958>\u001b[0m in \u001b[0;36mis_noncirc\u001b[0;34m(i_from, i_to)\u001b[0m\n\u001b[1;32m     10\u001b[0m     \u001b[0;32mreturn\u001b[0m \u001b[0mprecursors\u001b[0m\u001b[0;34m\u001b[0m\u001b[0;34m\u001b[0m\u001b[0m\n\u001b[1;32m     11\u001b[0m \u001b[0;34m\u001b[0m\u001b[0m\n\u001b[0;32m---> 12\u001b[0;31m \u001b[0;32mdef\u001b[0m \u001b[0mis_noncirc\u001b[0m\u001b[0;34m(\u001b[0m\u001b[0mi_from\u001b[0m\u001b[0;34m,\u001b[0m \u001b[0mi_to\u001b[0m\u001b[0;34m)\u001b[0m\u001b[0;34m:\u001b[0m \u001b[0;32mreturn\u001b[0m \u001b[0mi_to\u001b[0m \u001b[0;32mnot\u001b[0m \u001b[0;32min\u001b[0m \u001b[0mtransition_dict\u001b[0m\u001b[0;34m[\u001b[0m\u001b[0mi_from\u001b[0m\u001b[0;34m]\u001b[0m\u001b[0;34m[\u001b[0m\u001b[0;34m'ingredients'\u001b[0m\u001b[0;34m]\u001b[0m\u001b[0;34m\u001b[0m\u001b[0;34m\u001b[0m\u001b[0m\n\u001b[0m",
      "\u001b[0;31mKeyError\u001b[0m: 519"
     ]
    }
   ],
   "source": [
    "for f in notebook.tqdm(trans_files):\n",
    "    tdata = transition.read_transition(f)\n",
    "    t_from = (tdata['origActor'], tdata['origTarget'])\n",
    "    t_to = (tdata['newActor'], tdata['newTarget'])\n",
    "    \n",
    "    \n",
    "    for product in t_to:\n",
    "        if (product > 0) & (product not in t_from):\n",
    "            \n",
    "            prec = get_precursors(product, 0)\n",
    "            \n",
    "            is_valid = np.all([is_noncirc(ingredient, product) for ingredient in prec if ingredient > 0])\n",
    "            \n",
    "            if is_valid:\n",
    "                transition_dict[product]['recipes'].append(t_from)"
   ]
  },
  {
   "cell_type": "code",
   "execution_count": 40,
   "metadata": {},
   "outputs": [
    {
     "name": "stdout",
     "output_type": "stream",
     "text": [
      "Schnauser with Puppies -3\n",
      "Collie with Puppies -3\n",
      "Fishing Pole with Char - just caught\n",
      "@ Non-tilling Skewer\n",
      "Green Bowler Hat with Feather - justDyed\n",
      "@ Carrot\n",
      "Holey Net\n",
      "Wild Cucumber Plant\n",
      "Yellow Top Hat with Feather - justDyed\n",
      "Soda Ash Bottle - +contLabDish\n",
      "Stack of Floppy Baskets\n",
      "@ Any Card\n",
      "Deep Well - was empty +famUse100\n",
      "Sugarcane Stalk\n",
      "Indigo\n",
      "@ Small Trash\n",
      "Red Bowler Hat with Feather - justDyed\n",
      "@ Wet Canada Goose Pond\n",
      "East West Track\n",
      "Proposed Property Fence - groundOnly +cornerA\n",
      "Pit Bull with Puppies -3\n",
      "Chihuahua with Puppies -3\n",
      "Dachshund with Puppies -3\n",
      "Rose Madder\n",
      "Wild Cabbage\n",
      "Dry Planted Onions\n",
      "Indigo Top Hat with Feather - justDyed\n",
      "@ Yew Bow\n",
      "@ Any fence that renews corner\n",
      "White Rose\n",
      "Skim Milk Bottle - +contFoodDish +drink\n",
      "Baby Bone Pile - origGrave justDied fromDeath\n",
      "Cut Glasswort Pile\n",
      "Shallow Well - was empty +famUse100\n",
      "@ Tillable Row\n",
      "@ Young Stone Wall\n",
      "@ Deadly Wolf\n",
      "Green Plaster Wall - +causeAutoOrient shelfRemoved\n",
      "@ Southward Entering Tracks\n",
      "Firing Newcomen Hammer - +toolThe_Newcomen_Hammer\n",
      "Poodle with Puppies -3\n",
      "Pit Bull\n",
      "@ Any Ice Hole\n",
      "@ Decaying Shirt\n",
      "Indigo Bowler Hat with Feather - justDyed\n",
      "Sand Bottle - +contLabDish\n",
      "Final Tutorial Torch\n",
      "@ Any approved fence\n",
      "Dark Nosaj - +normalOnly\n",
      "Long Play Phonorecord Album\n",
      "Wet Mango Sapling\n",
      "@ New Scrap Steel\n",
      "Proposed Property Fence - groundOnly +verticalA\n",
      "@ Any Water Tank\n",
      "@ Decaying Hat\n",
      "Yellow Bowler Hat with Feather - justDyed\n",
      "Dry Planted Squash Seeds\n",
      "@ Edible Pie\n",
      "Black Bowler Hat with Feather - justDyed\n",
      "@ Decaying Bottom\n",
      "Gold Vein\n",
      "@ Simmering Liquid\n",
      "@ Lamb Food Bowl\n",
      "Pile of Shucked Corn\n",
      "@ Decaying Shoe\n",
      "Big Hard Rock\n",
      "Wild Mango Tree\n",
      "Red Rose\n",
      "Firing Newcomen Bore - +toolMachined_Holes\n",
      "Gushing Oil Rig - +tapoutTrigger &40 &40 &160 &160\n",
      "Oil Drilling Rig with Charcoal\n",
      "Quicklime Bottle - +contLabDish\n",
      "Turkey Broth Bottle - +contFoodDish +drink\n",
      "Tarry Spot - gridPlacement40\n",
      "Raw Potato - just dug\n",
      "Net of Shrimp -just caught\n",
      "Wild Pepper Plant\n",
      "@ Free Lock\n",
      "Niter\n",
      "Dead Tree\n",
      "Wild Grape Plant\n",
      "Firing Oil Drilling Rig - extended\n",
      "Oil Drilling Rig with Full Boiler\n",
      "Monolith\n",
      "@ Stone Rubble Sources\n",
      "Partial Track Cart Kit -3 wheel remade\n",
      "Edge\n",
      "@ Rolled Dice\n",
      "@ Kindling Source\n",
      "Phonograph\n",
      "Full Deep Well - +famUse100\n",
      "Seeding Wild Dill\n",
      "@ Bendable Track\n",
      "Oil Drilling Rig with Charcoal - extended\n",
      "Firing Newcomen Roller - +toolThe_Newcomen_Roller\n",
      "@ Moving Cart\n",
      "@ Rolled Die\n",
      "Firing Oil Drilling Rig\n",
      "Teosinte\n",
      "Crucible with Copper\n",
      "@ Unpowered Pump Head\n",
      "Letter Stock\n",
      "Seeding Wild Carrot\n",
      "@ Undyed Item Pattern\n",
      "Full Shallow Well - +famUse100\n",
      "@ Carrot Pile Pattern\n",
      "Stack of Firewood\n",
      "Yellow Plaster Wall - +causeAutoOrient shelfRemoved\n",
      "Wild Tomato Plant\n",
      "@ Reversible Cart On Track\n",
      "Wet Yew Sapling\n",
      "Alum\n",
      "Firing Newcomen Drill - +toolMachined_Holes\n",
      "Canada Goose Pond with Egg\n",
      "Crucible with Electrum\n",
      "@ Broken Steel Source\n",
      "Dry Oil Drilling Rig\n",
      "Rickety Property Fence Box - +cornerL\n",
      "Milkweed Stump -Fertile\n",
      "@ Planted Stakes\n",
      "Dry Planted Pepper Seed\n",
      "Glass Bottle - just emptied\n",
      "Wild Bean Plant\n",
      "@ Partial Adobe Build\n",
      "Wet Poplar Sapling\n",
      "Wet Pine Sapling\n",
      "Wild Onion\n",
      "Red Wool Hat\n",
      "Hot Coals - Tut_only burns forever\n",
      "Burdock\n",
      "@ Any Crown\n",
      "Dry Planted Dill Seeds\n",
      "Banana Plant\n",
      "Yew Tree Cutting\n",
      "Oil Drilling Rig with Full Boiler - extended\n",
      "Track Door with Cart - moving North silent\n",
      "Red Plaster Wall - +causeAutoOrient shelfRemoved\n",
      "Wild Rose with Fruit\n",
      "@ Northward Entering Tracks\n",
      "Fishing Pole with Old Boot\n",
      "Blue Plaster Wall - +causeAutoOrient shelfRemoved\n",
      "Track Door with Cart - moving South silent\n",
      "@ Unshot Grizzly Bear\n",
      "Dry Planted Tomato Seed\n",
      "@ Dung Shovel Source\n",
      "Crucible with Zinc\n",
      "@ Westward Entering Tracks\n",
      "Wet Juniper Sapling\n",
      "Pile of Worms\n",
      "Dry Planted Cucumber Seeds\n",
      "Tule Reeds\n",
      "Flooded Pond\n",
      "Wet Rubber Sapling\n",
      "Wild Garlic\n",
      "Red Top Hat with Feather - justDyed\n",
      "@ Eastward Entering Tracks\n",
      "Flint Chip\n",
      "Net - just pulled\n",
      "@ Non Vigorous Gooseberry\n",
      "Wild Potato\n",
      "@ Pit Bull\n",
      "Ripe Squash Plant\n",
      "Baby Bones - fromDeath origGrave\n",
      "Fence Rail\n",
      "Airedale with Puppies -3\n",
      "Willow Tree\n",
      "Rickety Property Fence - +cornerK\n",
      "Wild Squash Plant\n",
      "@ New Scrap Copper\n",
      "Twenty Minute Wooden Door - Installed +wall\n",
      "Floppy Basket\n",
      "Beagle with Puppies -3\n",
      "Whole Milk Bottle - +contFoodDish +drink\n",
      "Bald Cypress Tree\n",
      "Green Top Hat with Feather - justDyed\n",
      "Flint\n",
      "Kindling Pile - just chopped\n",
      "Firing Newcomen Lathe - +toolThe_Newcomen_Lathe\n",
      "@ Any adult rabbit hole\n",
      "Ripe Pumpkin Plant\n",
      "@ Seed Bowl\n",
      "Dry Planted Pumpkin Seeds\n",
      "Black Top Hat with Feather - justDyed\n",
      "Black Plaster Wall - +causeAutoOrient shelfRemoved\n"
     ]
    }
   ],
   "source": [
    "for k,v in transition_dict.items():\n",
    "    \n",
    "    if not transition_dict[k]['ingredients']:\n",
    "        print(obj.read_obj(k)['name'])\n",
    "    "
   ]
  },
  {
   "cell_type": "code",
   "execution_count": null,
   "metadata": {},
   "outputs": [],
   "source": []
  },
  {
   "cell_type": "code",
   "execution_count": 44,
   "metadata": {},
   "outputs": [
    {
     "data": {
      "text/plain": [
       "{'id': 2902,\n",
       " 'name': '@ Dyed Indigo Item Pattern',\n",
       " 'containable': 0,\n",
       " 'containSize': 1.0,\n",
       " 'vertSlotRot': -0.25,\n",
       " 'permanent': 0,\n",
       " 'minPickupAge': 3,\n",
       " 'noFlip': 0,\n",
       " 'sideAccess': 0,\n",
       " 'heldInHand': 1,\n",
       " 'blocksWalking': 0,\n",
       " 'leftBlockingRadius': 0,\n",
       " 'rightBlockingRadius': 0,\n",
       " 'drawBehindPlayer': 0,\n",
       " 'mapChance': 0.0,\n",
       " 'heatValue': 0,\n",
       " 'rValue': 0.0,\n",
       " 'person': 0,\n",
       " 'noSpawn': 0,\n",
       " 'male': 0,\n",
       " 'deathMarker': 0,\n",
       " 'homeMarker': 0,\n",
       " 'floor': 0,\n",
       " 'floorHugging': 0,\n",
       " 'foodValue': 0,\n",
       " 'speedMult': 1.0,\n",
       " 'heldOffset': [0.0, 0.0],\n",
       " 'clothing': 'n',\n",
       " 'clothingOffset': [0.0, 0.0],\n",
       " 'deadlyDistance': 0,\n",
       " 'useDistance': 1,\n",
       " 'sounds': ['-1:0.0', '-1:0.0', '-1:0.0', '-1:0.0'],\n",
       " 'creationSoundInitialOnly': 0,\n",
       " 'creationSoundForce': 0,\n",
       " 'numSlots': 0,\n",
       " 'timeStretch': 1.0,\n",
       " 'slotSize': 1.0,\n",
       " 'slotsLocked': 0,\n",
       " 'numSprites': 1,\n",
       " 'spriteID': 711,\n",
       " 'pos': [0.0, 0.0],\n",
       " 'rot': 0.0,\n",
       " 'hFlip': 0,\n",
       " 'color': [0.082353, 0.403922, 0.811765],\n",
       " 'ageRange': [-1.0, -1.0],\n",
       " 'parent': -1,\n",
       " 'invisHolding': 0,\n",
       " 'invisWorn': 0,\n",
       " 'behindSlots': 0,\n",
       " 'headIndex': -1,\n",
       " 'bodyIndex': -1,\n",
       " 'backFootIndex': -1,\n",
       " 'frontFootIndex': -1,\n",
       " 'numUses': [1, 1.0],\n",
       " 'useVanishIndex': -1,\n",
       " 'useAppearIndex': -1,\n",
       " 'pixHeight': 25}"
      ]
     },
     "execution_count": 44,
     "metadata": {},
     "output_type": "execute_result"
    }
   ],
   "source": [
    "obj.read_obj(2902)"
   ]
  },
  {
   "cell_type": "code",
   "execution_count": 24,
   "metadata": {},
   "outputs": [
    {
     "data": {
      "text/plain": [
       "{'origActor': 185,\n",
       " 'origTarget': 519,\n",
       " 'newActor': 187,\n",
       " 'newTarget': 519,\n",
       " 'autoDecaySeconds': 0,\n",
       " 'actorMinUseFraction': 0.0,\n",
       " 'targetMinUseFraction': 0.0,\n",
       " 'reverseUseActor': 0,\n",
       " 'reverseUseTarget': 0,\n",
       " 'move': 0,\n",
       " 'desiredMoveDist': 1,\n",
       " 'lastUseActor': False,\n",
       " 'lastUseTarget': False,\n",
       " 'origActorName': 'Skewered Rabbit',\n",
       " 'origTargetName': '@ Food Burner',\n",
       " 'newActorName': 'Burnt Rabbit',\n",
       " 'newTargetName': '@ Food Burner',\n",
       " 'isTool': False}"
      ]
     },
     "execution_count": 24,
     "metadata": {},
     "output_type": "execute_result"
    }
   ],
   "source": [
    "transition.read_transition(opj(trans_dir, '185_519.txt'))"
   ]
  },
  {
   "cell_type": "markdown",
   "metadata": {},
   "source": [
    "Now we will recursively go through each transition and add depth:"
   ]
  }
 ],
 "metadata": {
  "kernelspec": {
   "display_name": "Python 3",
   "language": "python",
   "name": "python3"
  },
  "language_info": {
   "codemirror_mode": {
    "name": "ipython",
    "version": 3
   },
   "file_extension": ".py",
   "mimetype": "text/x-python",
   "name": "python",
   "nbconvert_exporter": "python",
   "pygments_lexer": "ipython3",
   "version": "3.7.6"
  }
 },
 "nbformat": 4,
 "nbformat_minor": 4
}
