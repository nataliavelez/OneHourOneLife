{
 "cells": [
  {
   "cell_type": "markdown",
   "metadata": {},
   "source": [
    "# Lifelogs from March 6-9 2018\n",
    "Natalia Vélez, December 2019–January 2020\n",
    "\n",
    "In this notebook:\n",
    "\n",
    "* Load, clean up lifelog data from March 6–9 2018 (corresponding to the first release after the start of the logs)\n",
    "* Prepare inputs for subsequent analyses (family trees, migration patterns)\n",
    "* Aggregate lifespan, causes of death\n",
    "\n",
    "This notebook uses data from March 6–9, 2018, which corresponds to the first release after the start of the logs."
   ]
  },
  {
   "cell_type": "code",
   "execution_count": 1,
   "metadata": {
    "ExecuteTime": {
     "end_time": "2020-01-09T18:48:17.696616Z",
     "start_time": "2020-01-09T18:48:15.254192Z"
    }
   },
   "outputs": [],
   "source": [
    "%matplotlib inline\n",
    "\n",
    "import os, re, glob, random\n",
    "import pandas as pd\n",
    "import numpy as np\n",
    "import networkx as nx\n",
    "import matplotlib.pyplot as plt\n",
    "import seaborn as sns\n",
    "from os.path import join as opj\n",
    "from tqdm import tqdm_notebook\n",
    "from ast import literal_eval as make_tuple\n",
    "\n",
    "sns.set_context('paper')"
   ]
  },
  {
   "cell_type": "markdown",
   "metadata": {},
   "source": [
    "Helper functions:"
   ]
  },
  {
   "cell_type": "code",
   "execution_count": 2,
   "metadata": {
    "ExecuteTime": {
     "end_time": "2020-01-09T18:48:20.210554Z",
     "start_time": "2020-01-09T18:48:20.205214Z"
    }
   },
   "outputs": [],
   "source": [
    "gsearch = lambda *args: glob.glob(opj(*args))\n",
    "str_extract = lambda pattern, s: re.search(pattern, s).group(0)"
   ]
  },
  {
   "cell_type": "markdown",
   "metadata": {},
   "source": [
    "## Clean up data"
   ]
  },
  {
   "cell_type": "markdown",
   "metadata": {},
   "source": [
    "Find data files:"
   ]
  },
  {
   "cell_type": "code",
   "execution_count": 3,
   "metadata": {
    "ExecuteTime": {
     "end_time": "2020-01-09T18:48:24.355345Z",
     "start_time": "2020-01-09T18:48:24.281982Z"
    }
   },
   "outputs": [
    {
     "name": "stdout",
     "output_type": "stream",
     "text": [
      "40 files found\n",
      "2018_03March_09_Friday.txt\n",
      "2018_03March_06_Tuesday.txt\n",
      "2018_03March_07_Wednesday.txt\n",
      "2018_03March_08_Thursday.txt\n",
      "2018_03March_09_Friday.txt\n",
      "2018_03March_09_Friday.txt\n",
      "2018_03March_09_Friday.txt\n",
      "2018_03March_09_Friday.txt\n",
      "2018_03March_09_Friday.txt\n",
      "2018_03March_09_Friday.txt\n",
      "2018_03March_06_Tuesday.txt\n",
      "2018_03March_07_Wednesday.txt\n",
      "2018_03March_08_Thursday.txt\n",
      "2018_03March_09_Friday.txt\n",
      "2018_03March_06_Tuesday.txt\n",
      "2018_03March_07_Wednesday.txt\n",
      "2018_03March_08_Thursday.txt\n",
      "2018_03March_09_Friday.txt\n",
      "2018_03March_06_Tuesday.txt\n",
      "2018_03March_07_Wednesday.txt\n",
      "2018_03March_08_Thursday.txt\n",
      "2018_03March_09_Friday.txt\n",
      "2018_03March_06_Tuesday.txt\n",
      "2018_03March_07_Wednesday.txt\n",
      "2018_03March_08_Thursday.txt\n",
      "2018_03March_09_Friday.txt\n",
      "2018_03March_06_Tuesday.txt\n",
      "2018_03March_07_Wednesday.txt\n",
      "2018_03March_08_Thursday.txt\n",
      "2018_03March_09_Friday.txt\n",
      "2018_03March_06_Tuesday.txt\n",
      "2018_03March_07_Wednesday.txt\n",
      "2018_03March_08_Thursday.txt\n",
      "2018_03March_09_Friday.txt\n",
      "2018_03March_07_Wednesday.txt\n",
      "2018_03March_08_Thursday.txt\n",
      "2018_03March_09_Friday.txt\n",
      "2018_03March_07_Wednesday.txt\n",
      "2018_03March_08_Thursday.txt\n",
      "2018_03March_09_Friday.txt\n"
     ]
    }
   ],
   "source": [
    "data_dir = '../data/'\n",
    "data_files = gsearch(data_dir, 'publicLifeLogData', '**', '2018_03March_0*.txt')\n",
    "data_files.sort()\n",
    "print('%i files found' % len(data_files))\n",
    "print(*[os.path.basename(f) for f in data_files], sep='\\n')"
   ]
  },
  {
   "cell_type": "markdown",
   "metadata": {},
   "source": [
    "Load all files:"
   ]
  },
  {
   "cell_type": "code",
   "execution_count": 4,
   "metadata": {
    "ExecuteTime": {
     "end_time": "2020-01-09T18:48:28.460998Z",
     "start_time": "2020-01-09T18:48:27.569166Z"
    }
   },
   "outputs": [
    {
     "data": {
      "application/vnd.jupyter.widget-view+json": {
       "model_id": "f2b4ca34bb6642939dea2d3222be6de8",
       "version_major": 2,
       "version_minor": 0
      },
      "text/plain": [
       "HBox(children=(IntProgress(value=0, max=40), HTML(value='')))"
      ]
     },
     "metadata": {},
     "output_type": "display_data"
    },
    {
     "name": "stdout",
     "output_type": "stream",
     "text": [
      "\n"
     ]
    }
   ],
   "source": [
    "data_list = []\n",
    "empty_files = []\n",
    "for f in tqdm_notebook(data_files):\n",
    "    try:\n",
    "        tmp_server = str_extract('(?<=lifeLog_)[a-zA-Z0-9]+', f)\n",
    "        tmp_d = pd.read_csv(f, sep =' ', header=None)\n",
    "        tmp_d.insert(0, 'server', tmp_server)\n",
    "        data_list.append(tmp_d)\n",
    "    except:\n",
    "        empty_files.append(f)"
   ]
  },
  {
   "cell_type": "code",
   "execution_count": 5,
   "metadata": {},
   "outputs": [
    {
     "data": {
      "text/html": [
       "<div>\n",
       "<style scoped>\n",
       "    .dataframe tbody tr th:only-of-type {\n",
       "        vertical-align: middle;\n",
       "    }\n",
       "\n",
       "    .dataframe tbody tr th {\n",
       "        vertical-align: top;\n",
       "    }\n",
       "\n",
       "    .dataframe thead th {\n",
       "        text-align: right;\n",
       "    }\n",
       "</style>\n",
       "<table border=\"1\" class=\"dataframe\">\n",
       "  <thead>\n",
       "    <tr style=\"text-align: right;\">\n",
       "      <th></th>\n",
       "      <th>server</th>\n",
       "      <th>0</th>\n",
       "      <th>1</th>\n",
       "      <th>2</th>\n",
       "      <th>3</th>\n",
       "      <th>4</th>\n",
       "      <th>5</th>\n",
       "      <th>6</th>\n",
       "      <th>7</th>\n",
       "      <th>8</th>\n",
       "    </tr>\n",
       "  </thead>\n",
       "  <tbody>\n",
       "    <tr>\n",
       "      <th>0</th>\n",
       "      <td>server1</td>\n",
       "      <td>B</td>\n",
       "      <td>1520559275</td>\n",
       "      <td>36490</td>\n",
       "      <td>49483e9224e4ccdb5af274bb71bb1e3de9aeedea</td>\n",
       "      <td>F</td>\n",
       "      <td>(-49,607)</td>\n",
       "      <td>noParent</td>\n",
       "      <td>pop=1</td>\n",
       "      <td>chain=1</td>\n",
       "    </tr>\n",
       "    <tr>\n",
       "      <th>1</th>\n",
       "      <td>server1</td>\n",
       "      <td>B</td>\n",
       "      <td>1520559278</td>\n",
       "      <td>36491</td>\n",
       "      <td>50edfe49ea709e8764321ae12643c19ebf172c5f</td>\n",
       "      <td>M</td>\n",
       "      <td>(-49,607)</td>\n",
       "      <td>parent=36490</td>\n",
       "      <td>pop=2</td>\n",
       "      <td>chain=2</td>\n",
       "    </tr>\n",
       "    <tr>\n",
       "      <th>2</th>\n",
       "      <td>server1</td>\n",
       "      <td>B</td>\n",
       "      <td>1520559278</td>\n",
       "      <td>36492</td>\n",
       "      <td>f402d6ab9f88bfe764c9cac07c75f1e39c8bb23c</td>\n",
       "      <td>F</td>\n",
       "      <td>(-70,74)</td>\n",
       "      <td>noParent</td>\n",
       "      <td>pop=3</td>\n",
       "      <td>chain=1</td>\n",
       "    </tr>\n",
       "    <tr>\n",
       "      <th>3</th>\n",
       "      <td>server1</td>\n",
       "      <td>B</td>\n",
       "      <td>1520559279</td>\n",
       "      <td>36493</td>\n",
       "      <td>26541162d8aeb20f1c633000ade50cabc23df1c5</td>\n",
       "      <td>M</td>\n",
       "      <td>(-70,74)</td>\n",
       "      <td>parent=36492</td>\n",
       "      <td>pop=4</td>\n",
       "      <td>chain=2</td>\n",
       "    </tr>\n",
       "    <tr>\n",
       "      <th>4</th>\n",
       "      <td>server1</td>\n",
       "      <td>B</td>\n",
       "      <td>1520559280</td>\n",
       "      <td>36494</td>\n",
       "      <td>f623c5fbea396330c89487a06c5613b6cf80f65e</td>\n",
       "      <td>F</td>\n",
       "      <td>(-37,95)</td>\n",
       "      <td>noParent</td>\n",
       "      <td>pop=5</td>\n",
       "      <td>chain=1</td>\n",
       "    </tr>\n",
       "  </tbody>\n",
       "</table>\n",
       "</div>"
      ],
      "text/plain": [
       "    server  0           1      2                                         3  4  \\\n",
       "0  server1  B  1520559275  36490  49483e9224e4ccdb5af274bb71bb1e3de9aeedea  F   \n",
       "1  server1  B  1520559278  36491  50edfe49ea709e8764321ae12643c19ebf172c5f  M   \n",
       "2  server1  B  1520559278  36492  f402d6ab9f88bfe764c9cac07c75f1e39c8bb23c  F   \n",
       "3  server1  B  1520559279  36493  26541162d8aeb20f1c633000ade50cabc23df1c5  M   \n",
       "4  server1  B  1520559280  36494  f623c5fbea396330c89487a06c5613b6cf80f65e  F   \n",
       "\n",
       "           5             6      7        8  \n",
       "0  (-49,607)      noParent  pop=1  chain=1  \n",
       "1  (-49,607)  parent=36490  pop=2  chain=2  \n",
       "2   (-70,74)      noParent  pop=3  chain=1  \n",
       "3   (-70,74)  parent=36492  pop=4  chain=2  \n",
       "4   (-37,95)      noParent  pop=5  chain=1  "
      ]
     },
     "execution_count": 5,
     "metadata": {},
     "output_type": "execute_result"
    }
   ],
   "source": [
    "raw_data = pd.concat(data_list)\n",
    "raw_data.head()"
   ]
  },
  {
   "cell_type": "markdown",
   "metadata": {},
   "source": [
    "Deaths:"
   ]
  },
  {
   "cell_type": "code",
   "execution_count": 6,
   "metadata": {},
   "outputs": [
    {
     "data": {
      "text/html": [
       "<div>\n",
       "<style scoped>\n",
       "    .dataframe tbody tr th:only-of-type {\n",
       "        vertical-align: middle;\n",
       "    }\n",
       "\n",
       "    .dataframe tbody tr th {\n",
       "        vertical-align: top;\n",
       "    }\n",
       "\n",
       "    .dataframe thead th {\n",
       "        text-align: right;\n",
       "    }\n",
       "</style>\n",
       "<table border=\"1\" class=\"dataframe\">\n",
       "  <thead>\n",
       "    <tr style=\"text-align: right;\">\n",
       "      <th></th>\n",
       "      <th>server</th>\n",
       "      <th>0</th>\n",
       "      <th>1</th>\n",
       "      <th>2</th>\n",
       "      <th>3</th>\n",
       "      <th>4</th>\n",
       "      <th>5</th>\n",
       "      <th>6</th>\n",
       "      <th>7</th>\n",
       "      <th>8</th>\n",
       "    </tr>\n",
       "  </thead>\n",
       "  <tbody>\n",
       "    <tr>\n",
       "      <th>0</th>\n",
       "      <td>server1</td>\n",
       "      <td>D</td>\n",
       "      <td>1520559304</td>\n",
       "      <td>36496</td>\n",
       "      <td>ff3129a2dce20bda9df31ffcfcbfd3230977ea4e</td>\n",
       "      <td>age=14.34</td>\n",
       "      <td>F</td>\n",
       "      <td>(67,36)</td>\n",
       "      <td>disconnect</td>\n",
       "      <td>pop=23</td>\n",
       "    </tr>\n",
       "    <tr>\n",
       "      <th>1</th>\n",
       "      <td>server1</td>\n",
       "      <td>D</td>\n",
       "      <td>1520559304</td>\n",
       "      <td>36497</td>\n",
       "      <td>14f418eedc7f854167ffb4ca5244ad95cee53f2a</td>\n",
       "      <td>age=0.31</td>\n",
       "      <td>F</td>\n",
       "      <td>(67,36)</td>\n",
       "      <td>disconnect</td>\n",
       "      <td>pop=23</td>\n",
       "    </tr>\n",
       "    <tr>\n",
       "      <th>2</th>\n",
       "      <td>server1</td>\n",
       "      <td>D</td>\n",
       "      <td>1520559313</td>\n",
       "      <td>36499</td>\n",
       "      <td>ab7258ebd0ce2b381650386df6821220ac4783ca</td>\n",
       "      <td>age=0.40</td>\n",
       "      <td>M</td>\n",
       "      <td>(-95,66)</td>\n",
       "      <td>hunger</td>\n",
       "      <td>pop=31</td>\n",
       "    </tr>\n",
       "    <tr>\n",
       "      <th>3</th>\n",
       "      <td>server1</td>\n",
       "      <td>D</td>\n",
       "      <td>1520559320</td>\n",
       "      <td>36503</td>\n",
       "      <td>74a504ee16b67a3c1f8649ac6f37543ffc072786</td>\n",
       "      <td>age=0.45</td>\n",
       "      <td>F</td>\n",
       "      <td>(111,-16)</td>\n",
       "      <td>hunger</td>\n",
       "      <td>pop=32</td>\n",
       "    </tr>\n",
       "    <tr>\n",
       "      <th>4</th>\n",
       "      <td>server1</td>\n",
       "      <td>D</td>\n",
       "      <td>1520559321</td>\n",
       "      <td>36522</td>\n",
       "      <td>643ccc3f451b5b7cc46137e8e3f3ccb209fe83ff</td>\n",
       "      <td>age=14.16</td>\n",
       "      <td>F</td>\n",
       "      <td>(19,-73)</td>\n",
       "      <td>disconnect</td>\n",
       "      <td>pop=32</td>\n",
       "    </tr>\n",
       "  </tbody>\n",
       "</table>\n",
       "</div>"
      ],
      "text/plain": [
       "    server  0           1      2                                         3  \\\n",
       "0  server1  D  1520559304  36496  ff3129a2dce20bda9df31ffcfcbfd3230977ea4e   \n",
       "1  server1  D  1520559304  36497  14f418eedc7f854167ffb4ca5244ad95cee53f2a   \n",
       "2  server1  D  1520559313  36499  ab7258ebd0ce2b381650386df6821220ac4783ca   \n",
       "3  server1  D  1520559320  36503  74a504ee16b67a3c1f8649ac6f37543ffc072786   \n",
       "4  server1  D  1520559321  36522  643ccc3f451b5b7cc46137e8e3f3ccb209fe83ff   \n",
       "\n",
       "           4  5          6           7       8  \n",
       "0  age=14.34  F    (67,36)  disconnect  pop=23  \n",
       "1   age=0.31  F    (67,36)  disconnect  pop=23  \n",
       "2   age=0.40  M   (-95,66)      hunger  pop=31  \n",
       "3   age=0.45  F  (111,-16)      hunger  pop=32  \n",
       "4  age=14.16  F   (19,-73)  disconnect  pop=32  "
      ]
     },
     "execution_count": 6,
     "metadata": {},
     "output_type": "execute_result"
    }
   ],
   "source": [
    "death_raw = raw_data[raw_data.iloc[:,1] == 'D'].copy().reset_index(drop=True)\n",
    "death_raw.head()"
   ]
  },
  {
   "cell_type": "markdown",
   "metadata": {},
   "source": [
    "Births:"
   ]
  },
  {
   "cell_type": "code",
   "execution_count": 7,
   "metadata": {},
   "outputs": [
    {
     "data": {
      "text/html": [
       "<div>\n",
       "<style scoped>\n",
       "    .dataframe tbody tr th:only-of-type {\n",
       "        vertical-align: middle;\n",
       "    }\n",
       "\n",
       "    .dataframe tbody tr th {\n",
       "        vertical-align: top;\n",
       "    }\n",
       "\n",
       "    .dataframe thead th {\n",
       "        text-align: right;\n",
       "    }\n",
       "</style>\n",
       "<table border=\"1\" class=\"dataframe\">\n",
       "  <thead>\n",
       "    <tr style=\"text-align: right;\">\n",
       "      <th></th>\n",
       "      <th>server</th>\n",
       "      <th>0</th>\n",
       "      <th>1</th>\n",
       "      <th>2</th>\n",
       "      <th>3</th>\n",
       "      <th>4</th>\n",
       "      <th>5</th>\n",
       "      <th>6</th>\n",
       "      <th>7</th>\n",
       "      <th>8</th>\n",
       "    </tr>\n",
       "  </thead>\n",
       "  <tbody>\n",
       "    <tr>\n",
       "      <th>0</th>\n",
       "      <td>server1</td>\n",
       "      <td>B</td>\n",
       "      <td>1520559275</td>\n",
       "      <td>36490</td>\n",
       "      <td>49483e9224e4ccdb5af274bb71bb1e3de9aeedea</td>\n",
       "      <td>F</td>\n",
       "      <td>(-49,607)</td>\n",
       "      <td>noParent</td>\n",
       "      <td>pop=1</td>\n",
       "      <td>chain=1</td>\n",
       "    </tr>\n",
       "    <tr>\n",
       "      <th>1</th>\n",
       "      <td>server1</td>\n",
       "      <td>B</td>\n",
       "      <td>1520559278</td>\n",
       "      <td>36491</td>\n",
       "      <td>50edfe49ea709e8764321ae12643c19ebf172c5f</td>\n",
       "      <td>M</td>\n",
       "      <td>(-49,607)</td>\n",
       "      <td>parent=36490</td>\n",
       "      <td>pop=2</td>\n",
       "      <td>chain=2</td>\n",
       "    </tr>\n",
       "    <tr>\n",
       "      <th>2</th>\n",
       "      <td>server1</td>\n",
       "      <td>B</td>\n",
       "      <td>1520559278</td>\n",
       "      <td>36492</td>\n",
       "      <td>f402d6ab9f88bfe764c9cac07c75f1e39c8bb23c</td>\n",
       "      <td>F</td>\n",
       "      <td>(-70,74)</td>\n",
       "      <td>noParent</td>\n",
       "      <td>pop=3</td>\n",
       "      <td>chain=1</td>\n",
       "    </tr>\n",
       "    <tr>\n",
       "      <th>3</th>\n",
       "      <td>server1</td>\n",
       "      <td>B</td>\n",
       "      <td>1520559279</td>\n",
       "      <td>36493</td>\n",
       "      <td>26541162d8aeb20f1c633000ade50cabc23df1c5</td>\n",
       "      <td>M</td>\n",
       "      <td>(-70,74)</td>\n",
       "      <td>parent=36492</td>\n",
       "      <td>pop=4</td>\n",
       "      <td>chain=2</td>\n",
       "    </tr>\n",
       "    <tr>\n",
       "      <th>4</th>\n",
       "      <td>server1</td>\n",
       "      <td>B</td>\n",
       "      <td>1520559280</td>\n",
       "      <td>36494</td>\n",
       "      <td>f623c5fbea396330c89487a06c5613b6cf80f65e</td>\n",
       "      <td>F</td>\n",
       "      <td>(-37,95)</td>\n",
       "      <td>noParent</td>\n",
       "      <td>pop=5</td>\n",
       "      <td>chain=1</td>\n",
       "    </tr>\n",
       "  </tbody>\n",
       "</table>\n",
       "</div>"
      ],
      "text/plain": [
       "    server  0           1      2                                         3  4  \\\n",
       "0  server1  B  1520559275  36490  49483e9224e4ccdb5af274bb71bb1e3de9aeedea  F   \n",
       "1  server1  B  1520559278  36491  50edfe49ea709e8764321ae12643c19ebf172c5f  M   \n",
       "2  server1  B  1520559278  36492  f402d6ab9f88bfe764c9cac07c75f1e39c8bb23c  F   \n",
       "3  server1  B  1520559279  36493  26541162d8aeb20f1c633000ade50cabc23df1c5  M   \n",
       "4  server1  B  1520559280  36494  f623c5fbea396330c89487a06c5613b6cf80f65e  F   \n",
       "\n",
       "           5             6      7        8  \n",
       "0  (-49,607)      noParent  pop=1  chain=1  \n",
       "1  (-49,607)  parent=36490  pop=2  chain=2  \n",
       "2   (-70,74)      noParent  pop=3  chain=1  \n",
       "3   (-70,74)  parent=36492  pop=4  chain=2  \n",
       "4   (-37,95)      noParent  pop=5  chain=1  "
      ]
     },
     "execution_count": 7,
     "metadata": {},
     "output_type": "execute_result"
    }
   ],
   "source": [
    "birth_raw = raw_data[raw_data.iloc[:,1] == 'B'].copy().reset_index(drop=True)\n",
    "birth_raw.head()"
   ]
  },
  {
   "cell_type": "markdown",
   "metadata": {},
   "source": [
    "### Clean up data"
   ]
  },
  {
   "cell_type": "code",
   "execution_count": 8,
   "metadata": {},
   "outputs": [],
   "source": [
    "shared_header = ['server', 'event', 'timestamp', 'playerID', 'hash', 'uniqueID', 'age', 'sex',\n",
    "                 'location', 'parent', 'cause_of_death', 'killer', 'pop', 'chain']"
   ]
  },
  {
   "cell_type": "markdown",
   "metadata": {},
   "source": [
    "#### Deaths"
   ]
  },
  {
   "cell_type": "code",
   "execution_count": 9,
   "metadata": {},
   "outputs": [
    {
     "data": {
      "application/vnd.jupyter.widget-view+json": {
       "model_id": "0e0819c281284d6292f4bbef33f315fd",
       "version_major": 2,
       "version_minor": 0
      },
      "text/plain": [
       "HBox(children=(IntProgress(value=0, max=79553), HTML(value='')))"
      ]
     },
     "metadata": {},
     "output_type": "display_data"
    },
    {
     "name": "stdout",
     "output_type": "stream",
     "text": [
      "\n"
     ]
    }
   ],
   "source": [
    "death_data = death_raw.copy()\n",
    "# Insert missing columns\n",
    "death_data.insert(5, 'uniqueID', np.nan)\n",
    "death_data.insert(9, 'parent', np.nan)\n",
    "death_data.insert(12, 'chain', np.nan)\n",
    "death_data.insert(11, 'killer', np.nan)\n",
    "death_data.columns = shared_header\n",
    "\n",
    "for i, row in tqdm_notebook(death_data.iterrows(), total=death_data.shape[0]):\n",
    "    age = str_extract('(?<=age=)\\d+\\.\\d+', row['age'])\n",
    "    age = float(age)\n",
    "    \n",
    "    pop = str_extract('(?<=pop=)[0-9]+', row['pop'])\n",
    "    pop = int(pop)\n",
    "    \n",
    "    death_data.at[i, 'age'] = age\n",
    "    death_data.at[i, 'pop'] = pop"
   ]
  },
  {
   "cell_type": "markdown",
   "metadata": {},
   "source": [
    "Clean up IDs,  locations, causes of death"
   ]
  },
  {
   "cell_type": "code",
   "execution_count": 10,
   "metadata": {},
   "outputs": [
    {
     "name": "stdout",
     "output_type": "stream",
     "text": [
      "['disconnect' 'hunger' 'murdered' 'oldAge']\n",
      "[nan '36567' '36710' '36753' '36947' '37230' '37908' '38079' '38237'\n",
      " '18112']\n"
     ]
    },
    {
     "data": {
      "text/html": [
       "<div>\n",
       "<style scoped>\n",
       "    .dataframe tbody tr th:only-of-type {\n",
       "        vertical-align: middle;\n",
       "    }\n",
       "\n",
       "    .dataframe tbody tr th {\n",
       "        vertical-align: top;\n",
       "    }\n",
       "\n",
       "    .dataframe thead th {\n",
       "        text-align: right;\n",
       "    }\n",
       "</style>\n",
       "<table border=\"1\" class=\"dataframe\">\n",
       "  <thead>\n",
       "    <tr style=\"text-align: right;\">\n",
       "      <th></th>\n",
       "      <th>server</th>\n",
       "      <th>event</th>\n",
       "      <th>timestamp</th>\n",
       "      <th>playerID</th>\n",
       "      <th>hash</th>\n",
       "      <th>uniqueID</th>\n",
       "      <th>age</th>\n",
       "      <th>sex</th>\n",
       "      <th>location</th>\n",
       "      <th>parent</th>\n",
       "      <th>cause_of_death</th>\n",
       "      <th>killer</th>\n",
       "      <th>pop</th>\n",
       "      <th>chain</th>\n",
       "    </tr>\n",
       "  </thead>\n",
       "  <tbody>\n",
       "    <tr>\n",
       "      <th>0</th>\n",
       "      <td>server1</td>\n",
       "      <td>D</td>\n",
       "      <td>1520559304</td>\n",
       "      <td>36496</td>\n",
       "      <td>ff3129a2dce20bda9df31ffcfcbfd3230977ea4e</td>\n",
       "      <td>36496_ff3129a2dce20bda9df31ffcfcbfd3230977ea4e</td>\n",
       "      <td>14.34</td>\n",
       "      <td>F</td>\n",
       "      <td>(67, 36)</td>\n",
       "      <td>NaN</td>\n",
       "      <td>disconnect</td>\n",
       "      <td>NaN</td>\n",
       "      <td>23</td>\n",
       "      <td>NaN</td>\n",
       "    </tr>\n",
       "    <tr>\n",
       "      <th>1</th>\n",
       "      <td>server1</td>\n",
       "      <td>D</td>\n",
       "      <td>1520559304</td>\n",
       "      <td>36497</td>\n",
       "      <td>14f418eedc7f854167ffb4ca5244ad95cee53f2a</td>\n",
       "      <td>36497_14f418eedc7f854167ffb4ca5244ad95cee53f2a</td>\n",
       "      <td>0.31</td>\n",
       "      <td>F</td>\n",
       "      <td>(67, 36)</td>\n",
       "      <td>NaN</td>\n",
       "      <td>disconnect</td>\n",
       "      <td>NaN</td>\n",
       "      <td>23</td>\n",
       "      <td>NaN</td>\n",
       "    </tr>\n",
       "    <tr>\n",
       "      <th>2</th>\n",
       "      <td>server1</td>\n",
       "      <td>D</td>\n",
       "      <td>1520559313</td>\n",
       "      <td>36499</td>\n",
       "      <td>ab7258ebd0ce2b381650386df6821220ac4783ca</td>\n",
       "      <td>36499_ab7258ebd0ce2b381650386df6821220ac4783ca</td>\n",
       "      <td>0.4</td>\n",
       "      <td>M</td>\n",
       "      <td>(-95, 66)</td>\n",
       "      <td>NaN</td>\n",
       "      <td>hunger</td>\n",
       "      <td>NaN</td>\n",
       "      <td>31</td>\n",
       "      <td>NaN</td>\n",
       "    </tr>\n",
       "    <tr>\n",
       "      <th>3</th>\n",
       "      <td>server1</td>\n",
       "      <td>D</td>\n",
       "      <td>1520559320</td>\n",
       "      <td>36503</td>\n",
       "      <td>74a504ee16b67a3c1f8649ac6f37543ffc072786</td>\n",
       "      <td>36503_74a504ee16b67a3c1f8649ac6f37543ffc072786</td>\n",
       "      <td>0.45</td>\n",
       "      <td>F</td>\n",
       "      <td>(111, -16)</td>\n",
       "      <td>NaN</td>\n",
       "      <td>hunger</td>\n",
       "      <td>NaN</td>\n",
       "      <td>32</td>\n",
       "      <td>NaN</td>\n",
       "    </tr>\n",
       "    <tr>\n",
       "      <th>4</th>\n",
       "      <td>server1</td>\n",
       "      <td>D</td>\n",
       "      <td>1520559321</td>\n",
       "      <td>36522</td>\n",
       "      <td>643ccc3f451b5b7cc46137e8e3f3ccb209fe83ff</td>\n",
       "      <td>36522_643ccc3f451b5b7cc46137e8e3f3ccb209fe83ff</td>\n",
       "      <td>14.16</td>\n",
       "      <td>F</td>\n",
       "      <td>(19, -73)</td>\n",
       "      <td>NaN</td>\n",
       "      <td>disconnect</td>\n",
       "      <td>NaN</td>\n",
       "      <td>32</td>\n",
       "      <td>NaN</td>\n",
       "    </tr>\n",
       "  </tbody>\n",
       "</table>\n",
       "</div>"
      ],
      "text/plain": [
       "    server event   timestamp  playerID  \\\n",
       "0  server1     D  1520559304     36496   \n",
       "1  server1     D  1520559304     36497   \n",
       "2  server1     D  1520559313     36499   \n",
       "3  server1     D  1520559320     36503   \n",
       "4  server1     D  1520559321     36522   \n",
       "\n",
       "                                       hash  \\\n",
       "0  ff3129a2dce20bda9df31ffcfcbfd3230977ea4e   \n",
       "1  14f418eedc7f854167ffb4ca5244ad95cee53f2a   \n",
       "2  ab7258ebd0ce2b381650386df6821220ac4783ca   \n",
       "3  74a504ee16b67a3c1f8649ac6f37543ffc072786   \n",
       "4  643ccc3f451b5b7cc46137e8e3f3ccb209fe83ff   \n",
       "\n",
       "                                         uniqueID    age sex    location  \\\n",
       "0  36496_ff3129a2dce20bda9df31ffcfcbfd3230977ea4e  14.34   F    (67, 36)   \n",
       "1  36497_14f418eedc7f854167ffb4ca5244ad95cee53f2a   0.31   F    (67, 36)   \n",
       "2  36499_ab7258ebd0ce2b381650386df6821220ac4783ca    0.4   M   (-95, 66)   \n",
       "3  36503_74a504ee16b67a3c1f8649ac6f37543ffc072786   0.45   F  (111, -16)   \n",
       "4  36522_643ccc3f451b5b7cc46137e8e3f3ccb209fe83ff  14.16   F   (19, -73)   \n",
       "\n",
       "   parent cause_of_death killer pop  chain  \n",
       "0     NaN     disconnect    NaN  23    NaN  \n",
       "1     NaN     disconnect    NaN  23    NaN  \n",
       "2     NaN         hunger    NaN  31    NaN  \n",
       "3     NaN         hunger    NaN  32    NaN  \n",
       "4     NaN     disconnect    NaN  32    NaN  "
      ]
     },
     "execution_count": 10,
     "metadata": {},
     "output_type": "execute_result"
    }
   ],
   "source": [
    "# Unique ID: Player ID + hash\n",
    "death_data['uniqueID'] = death_data.apply(lambda row: '%s_%s' % (row['playerID'], row['hash']),\n",
    "                                          axis=1)\n",
    "\n",
    "# Locations\n",
    "death_data['location'] = death_data['location'].apply(make_tuple)\n",
    "\n",
    "# Check for murdered players\n",
    "murderers = death_data['cause_of_death'].str.extract(r'(?<=killer_)([0-9]+)', expand=False)\n",
    "death_data['cause_of_death'] = death_data['cause_of_death'].str.replace(\"killer_[0-9]+\", \"murdered\")\n",
    "death_data['killer'] = murderers\n",
    "\n",
    "print(death_data['cause_of_death'].unique())\n",
    "print(death_data['killer'].unique()[:10])\n",
    "\n",
    "death_data.head()"
   ]
  },
  {
   "cell_type": "markdown",
   "metadata": {},
   "source": [
    "#### Births"
   ]
  },
  {
   "cell_type": "code",
   "execution_count": 29,
   "metadata": {},
   "outputs": [
    {
     "data": {
      "application/vnd.jupyter.widget-view+json": {
       "model_id": "1492ec782ccb4b6cb4682164add4b20e",
       "version_major": 2,
       "version_minor": 0
      },
      "text/plain": [
       "HBox(children=(IntProgress(value=0, max=79782), HTML(value='')))"
      ]
     },
     "metadata": {},
     "output_type": "display_data"
    },
    {
     "name": "stdout",
     "output_type": "stream",
     "text": [
      "\n"
     ]
    },
    {
     "data": {
      "text/html": [
       "<div>\n",
       "<style scoped>\n",
       "    .dataframe tbody tr th:only-of-type {\n",
       "        vertical-align: middle;\n",
       "    }\n",
       "\n",
       "    .dataframe tbody tr th {\n",
       "        vertical-align: top;\n",
       "    }\n",
       "\n",
       "    .dataframe thead th {\n",
       "        text-align: right;\n",
       "    }\n",
       "</style>\n",
       "<table border=\"1\" class=\"dataframe\">\n",
       "  <thead>\n",
       "    <tr style=\"text-align: right;\">\n",
       "      <th></th>\n",
       "      <th>server</th>\n",
       "      <th>event</th>\n",
       "      <th>timestamp</th>\n",
       "      <th>playerID</th>\n",
       "      <th>hash</th>\n",
       "      <th>uniqueID</th>\n",
       "      <th>age</th>\n",
       "      <th>sex</th>\n",
       "      <th>location</th>\n",
       "      <th>parent</th>\n",
       "      <th>cause_of_death</th>\n",
       "      <th>killer</th>\n",
       "      <th>pop</th>\n",
       "      <th>chain</th>\n",
       "    </tr>\n",
       "  </thead>\n",
       "  <tbody>\n",
       "    <tr>\n",
       "      <th>0</th>\n",
       "      <td>server1</td>\n",
       "      <td>B</td>\n",
       "      <td>1520559275</td>\n",
       "      <td>36490</td>\n",
       "      <td>49483e9224e4ccdb5af274bb71bb1e3de9aeedea</td>\n",
       "      <td>NaN</td>\n",
       "      <td>NaN</td>\n",
       "      <td>F</td>\n",
       "      <td>(-49,607)</td>\n",
       "      <td>noParent</td>\n",
       "      <td>NaN</td>\n",
       "      <td>NaN</td>\n",
       "      <td>1</td>\n",
       "      <td>1</td>\n",
       "    </tr>\n",
       "    <tr>\n",
       "      <th>1</th>\n",
       "      <td>server1</td>\n",
       "      <td>B</td>\n",
       "      <td>1520559278</td>\n",
       "      <td>36491</td>\n",
       "      <td>50edfe49ea709e8764321ae12643c19ebf172c5f</td>\n",
       "      <td>NaN</td>\n",
       "      <td>NaN</td>\n",
       "      <td>M</td>\n",
       "      <td>(-49,607)</td>\n",
       "      <td>parent=36490</td>\n",
       "      <td>NaN</td>\n",
       "      <td>NaN</td>\n",
       "      <td>2</td>\n",
       "      <td>2</td>\n",
       "    </tr>\n",
       "    <tr>\n",
       "      <th>2</th>\n",
       "      <td>server1</td>\n",
       "      <td>B</td>\n",
       "      <td>1520559278</td>\n",
       "      <td>36492</td>\n",
       "      <td>f402d6ab9f88bfe764c9cac07c75f1e39c8bb23c</td>\n",
       "      <td>NaN</td>\n",
       "      <td>NaN</td>\n",
       "      <td>F</td>\n",
       "      <td>(-70,74)</td>\n",
       "      <td>noParent</td>\n",
       "      <td>NaN</td>\n",
       "      <td>NaN</td>\n",
       "      <td>3</td>\n",
       "      <td>1</td>\n",
       "    </tr>\n",
       "    <tr>\n",
       "      <th>3</th>\n",
       "      <td>server1</td>\n",
       "      <td>B</td>\n",
       "      <td>1520559279</td>\n",
       "      <td>36493</td>\n",
       "      <td>26541162d8aeb20f1c633000ade50cabc23df1c5</td>\n",
       "      <td>NaN</td>\n",
       "      <td>NaN</td>\n",
       "      <td>M</td>\n",
       "      <td>(-70,74)</td>\n",
       "      <td>parent=36492</td>\n",
       "      <td>NaN</td>\n",
       "      <td>NaN</td>\n",
       "      <td>4</td>\n",
       "      <td>2</td>\n",
       "    </tr>\n",
       "    <tr>\n",
       "      <th>4</th>\n",
       "      <td>server1</td>\n",
       "      <td>B</td>\n",
       "      <td>1520559280</td>\n",
       "      <td>36494</td>\n",
       "      <td>f623c5fbea396330c89487a06c5613b6cf80f65e</td>\n",
       "      <td>NaN</td>\n",
       "      <td>NaN</td>\n",
       "      <td>F</td>\n",
       "      <td>(-37,95)</td>\n",
       "      <td>noParent</td>\n",
       "      <td>NaN</td>\n",
       "      <td>NaN</td>\n",
       "      <td>5</td>\n",
       "      <td>1</td>\n",
       "    </tr>\n",
       "  </tbody>\n",
       "</table>\n",
       "</div>"
      ],
      "text/plain": [
       "    server event   timestamp  playerID  \\\n",
       "0  server1     B  1520559275     36490   \n",
       "1  server1     B  1520559278     36491   \n",
       "2  server1     B  1520559278     36492   \n",
       "3  server1     B  1520559279     36493   \n",
       "4  server1     B  1520559280     36494   \n",
       "\n",
       "                                       hash  uniqueID  age sex   location  \\\n",
       "0  49483e9224e4ccdb5af274bb71bb1e3de9aeedea       NaN  NaN   F  (-49,607)   \n",
       "1  50edfe49ea709e8764321ae12643c19ebf172c5f       NaN  NaN   M  (-49,607)   \n",
       "2  f402d6ab9f88bfe764c9cac07c75f1e39c8bb23c       NaN  NaN   F   (-70,74)   \n",
       "3  26541162d8aeb20f1c633000ade50cabc23df1c5       NaN  NaN   M   (-70,74)   \n",
       "4  f623c5fbea396330c89487a06c5613b6cf80f65e       NaN  NaN   F   (-37,95)   \n",
       "\n",
       "         parent  cause_of_death  killer pop chain  \n",
       "0      noParent             NaN     NaN   1     1  \n",
       "1  parent=36490             NaN     NaN   2     2  \n",
       "2      noParent             NaN     NaN   3     1  \n",
       "3  parent=36492             NaN     NaN   4     2  \n",
       "4      noParent             NaN     NaN   5     1  "
      ]
     },
     "execution_count": 29,
     "metadata": {},
     "output_type": "execute_result"
    }
   ],
   "source": [
    "birth_data = birth_raw.copy()\n",
    "# Insert missing columns\n",
    "birth_data.insert(5, 'uniqueID', np.nan)\n",
    "birth_data.insert(6, 'age', np.nan)\n",
    "birth_data.insert(10, 'cause_of_death', np.nan)\n",
    "birth_data.insert(11, 'killer', np.nan)\n",
    "birth_data.columns = shared_header\n",
    "\n",
    "for i, row in tqdm_notebook(birth_data.iterrows(), total=birth_data.shape[0]):    \n",
    "    pop = str_extract('(?<=pop=)[0-9]+', row['pop'])\n",
    "    pop = int(pop)\n",
    "    \n",
    "    chain = str_extract('(?<=chain=)[0-9]+', row['chain'])\n",
    "    chain = int(chain)\n",
    "    \n",
    "    birth_data.at[i, 'pop'] = pop\n",
    "    birth_data.at[i, 'chain'] = chain\n",
    "\n",
    "birth_data.head()"
   ]
  },
  {
   "cell_type": "markdown",
   "metadata": {},
   "source": [
    "Clean up IDs, locations, parents:"
   ]
  },
  {
   "cell_type": "code",
   "execution_count": 32,
   "metadata": {},
   "outputs": [
    {
     "data": {
      "text/html": [
       "<div>\n",
       "<style scoped>\n",
       "    .dataframe tbody tr th:only-of-type {\n",
       "        vertical-align: middle;\n",
       "    }\n",
       "\n",
       "    .dataframe tbody tr th {\n",
       "        vertical-align: top;\n",
       "    }\n",
       "\n",
       "    .dataframe thead th {\n",
       "        text-align: right;\n",
       "    }\n",
       "</style>\n",
       "<table border=\"1\" class=\"dataframe\">\n",
       "  <thead>\n",
       "    <tr style=\"text-align: right;\">\n",
       "      <th></th>\n",
       "      <th>server</th>\n",
       "      <th>event</th>\n",
       "      <th>timestamp</th>\n",
       "      <th>playerID</th>\n",
       "      <th>hash</th>\n",
       "      <th>uniqueID</th>\n",
       "      <th>age</th>\n",
       "      <th>sex</th>\n",
       "      <th>location</th>\n",
       "      <th>parent</th>\n",
       "      <th>cause_of_death</th>\n",
       "      <th>killer</th>\n",
       "      <th>pop</th>\n",
       "      <th>chain</th>\n",
       "    </tr>\n",
       "  </thead>\n",
       "  <tbody>\n",
       "    <tr>\n",
       "      <th>0</th>\n",
       "      <td>server1</td>\n",
       "      <td>B</td>\n",
       "      <td>1520559275</td>\n",
       "      <td>36490</td>\n",
       "      <td>49483e9224e4ccdb5af274bb71bb1e3de9aeedea</td>\n",
       "      <td>36490_49483e9224e4ccdb5af274bb71bb1e3de9aeedea</td>\n",
       "      <td>NaN</td>\n",
       "      <td>F</td>\n",
       "      <td>(-49, 607)</td>\n",
       "      <td>NaN</td>\n",
       "      <td>NaN</td>\n",
       "      <td>NaN</td>\n",
       "      <td>1</td>\n",
       "      <td>1</td>\n",
       "    </tr>\n",
       "    <tr>\n",
       "      <th>1</th>\n",
       "      <td>server1</td>\n",
       "      <td>B</td>\n",
       "      <td>1520559278</td>\n",
       "      <td>36491</td>\n",
       "      <td>50edfe49ea709e8764321ae12643c19ebf172c5f</td>\n",
       "      <td>36491_50edfe49ea709e8764321ae12643c19ebf172c5f</td>\n",
       "      <td>NaN</td>\n",
       "      <td>M</td>\n",
       "      <td>(-49, 607)</td>\n",
       "      <td>36490</td>\n",
       "      <td>NaN</td>\n",
       "      <td>NaN</td>\n",
       "      <td>2</td>\n",
       "      <td>2</td>\n",
       "    </tr>\n",
       "    <tr>\n",
       "      <th>2</th>\n",
       "      <td>server1</td>\n",
       "      <td>B</td>\n",
       "      <td>1520559278</td>\n",
       "      <td>36492</td>\n",
       "      <td>f402d6ab9f88bfe764c9cac07c75f1e39c8bb23c</td>\n",
       "      <td>36492_f402d6ab9f88bfe764c9cac07c75f1e39c8bb23c</td>\n",
       "      <td>NaN</td>\n",
       "      <td>F</td>\n",
       "      <td>(-70, 74)</td>\n",
       "      <td>NaN</td>\n",
       "      <td>NaN</td>\n",
       "      <td>NaN</td>\n",
       "      <td>3</td>\n",
       "      <td>1</td>\n",
       "    </tr>\n",
       "    <tr>\n",
       "      <th>3</th>\n",
       "      <td>server1</td>\n",
       "      <td>B</td>\n",
       "      <td>1520559279</td>\n",
       "      <td>36493</td>\n",
       "      <td>26541162d8aeb20f1c633000ade50cabc23df1c5</td>\n",
       "      <td>36493_26541162d8aeb20f1c633000ade50cabc23df1c5</td>\n",
       "      <td>NaN</td>\n",
       "      <td>M</td>\n",
       "      <td>(-70, 74)</td>\n",
       "      <td>36492</td>\n",
       "      <td>NaN</td>\n",
       "      <td>NaN</td>\n",
       "      <td>4</td>\n",
       "      <td>2</td>\n",
       "    </tr>\n",
       "    <tr>\n",
       "      <th>4</th>\n",
       "      <td>server1</td>\n",
       "      <td>B</td>\n",
       "      <td>1520559280</td>\n",
       "      <td>36494</td>\n",
       "      <td>f623c5fbea396330c89487a06c5613b6cf80f65e</td>\n",
       "      <td>36494_f623c5fbea396330c89487a06c5613b6cf80f65e</td>\n",
       "      <td>NaN</td>\n",
       "      <td>F</td>\n",
       "      <td>(-37, 95)</td>\n",
       "      <td>NaN</td>\n",
       "      <td>NaN</td>\n",
       "      <td>NaN</td>\n",
       "      <td>5</td>\n",
       "      <td>1</td>\n",
       "    </tr>\n",
       "  </tbody>\n",
       "</table>\n",
       "</div>"
      ],
      "text/plain": [
       "    server event   timestamp  playerID  \\\n",
       "0  server1     B  1520559275     36490   \n",
       "1  server1     B  1520559278     36491   \n",
       "2  server1     B  1520559278     36492   \n",
       "3  server1     B  1520559279     36493   \n",
       "4  server1     B  1520559280     36494   \n",
       "\n",
       "                                       hash  \\\n",
       "0  49483e9224e4ccdb5af274bb71bb1e3de9aeedea   \n",
       "1  50edfe49ea709e8764321ae12643c19ebf172c5f   \n",
       "2  f402d6ab9f88bfe764c9cac07c75f1e39c8bb23c   \n",
       "3  26541162d8aeb20f1c633000ade50cabc23df1c5   \n",
       "4  f623c5fbea396330c89487a06c5613b6cf80f65e   \n",
       "\n",
       "                                         uniqueID  age sex    location parent  \\\n",
       "0  36490_49483e9224e4ccdb5af274bb71bb1e3de9aeedea  NaN   F  (-49, 607)    NaN   \n",
       "1  36491_50edfe49ea709e8764321ae12643c19ebf172c5f  NaN   M  (-49, 607)  36490   \n",
       "2  36492_f402d6ab9f88bfe764c9cac07c75f1e39c8bb23c  NaN   F   (-70, 74)    NaN   \n",
       "3  36493_26541162d8aeb20f1c633000ade50cabc23df1c5  NaN   M   (-70, 74)  36492   \n",
       "4  36494_f623c5fbea396330c89487a06c5613b6cf80f65e  NaN   F   (-37, 95)    NaN   \n",
       "\n",
       "   cause_of_death  killer pop chain  \n",
       "0             NaN     NaN   1     1  \n",
       "1             NaN     NaN   2     2  \n",
       "2             NaN     NaN   3     1  \n",
       "3             NaN     NaN   4     2  \n",
       "4             NaN     NaN   5     1  "
      ]
     },
     "execution_count": 32,
     "metadata": {},
     "output_type": "execute_result"
    }
   ],
   "source": [
    "birth_data['uniqueID'] = birth_data.apply(lambda row: '%s_%s' % (row['playerID'], row['hash']), axis=1)\n",
    "birth_data['location'] = birth_data['location'].apply(make_tuple)\n",
    "birth_data['parent'] = birth_data['parent'].str.extract(r'(?<=parent=)([0-9]+)')\n",
    "\n",
    "birth_data.head()"
   ]
  },
  {
   "cell_type": "markdown",
   "metadata": {},
   "source": [
    "#### Save outputs"
   ]
  },
  {
   "cell_type": "code",
   "execution_count": 34,
   "metadata": {},
   "outputs": [
    {
     "data": {
      "text/html": [
       "<div>\n",
       "<style scoped>\n",
       "    .dataframe tbody tr th:only-of-type {\n",
       "        vertical-align: middle;\n",
       "    }\n",
       "\n",
       "    .dataframe tbody tr th {\n",
       "        vertical-align: top;\n",
       "    }\n",
       "\n",
       "    .dataframe thead th {\n",
       "        text-align: right;\n",
       "    }\n",
       "</style>\n",
       "<table border=\"1\" class=\"dataframe\">\n",
       "  <thead>\n",
       "    <tr style=\"text-align: right;\">\n",
       "      <th></th>\n",
       "      <th>server</th>\n",
       "      <th>event</th>\n",
       "      <th>timestamp</th>\n",
       "      <th>playerID</th>\n",
       "      <th>hash</th>\n",
       "      <th>uniqueID</th>\n",
       "      <th>age</th>\n",
       "      <th>sex</th>\n",
       "      <th>location</th>\n",
       "      <th>parent</th>\n",
       "      <th>cause_of_death</th>\n",
       "      <th>killer</th>\n",
       "      <th>pop</th>\n",
       "      <th>chain</th>\n",
       "    </tr>\n",
       "  </thead>\n",
       "  <tbody>\n",
       "    <tr>\n",
       "      <th>0</th>\n",
       "      <td>server1</td>\n",
       "      <td>B</td>\n",
       "      <td>1520559275</td>\n",
       "      <td>36490</td>\n",
       "      <td>49483e9224e4ccdb5af274bb71bb1e3de9aeedea</td>\n",
       "      <td>36490_49483e9224e4ccdb5af274bb71bb1e3de9aeedea</td>\n",
       "      <td>NaN</td>\n",
       "      <td>F</td>\n",
       "      <td>(-49, 607)</td>\n",
       "      <td>NaN</td>\n",
       "      <td>NaN</td>\n",
       "      <td>NaN</td>\n",
       "      <td>1</td>\n",
       "      <td>1</td>\n",
       "    </tr>\n",
       "    <tr>\n",
       "      <th>1</th>\n",
       "      <td>server1</td>\n",
       "      <td>B</td>\n",
       "      <td>1520559278</td>\n",
       "      <td>36491</td>\n",
       "      <td>50edfe49ea709e8764321ae12643c19ebf172c5f</td>\n",
       "      <td>36491_50edfe49ea709e8764321ae12643c19ebf172c5f</td>\n",
       "      <td>NaN</td>\n",
       "      <td>M</td>\n",
       "      <td>(-49, 607)</td>\n",
       "      <td>36490</td>\n",
       "      <td>NaN</td>\n",
       "      <td>NaN</td>\n",
       "      <td>2</td>\n",
       "      <td>2</td>\n",
       "    </tr>\n",
       "    <tr>\n",
       "      <th>2</th>\n",
       "      <td>server1</td>\n",
       "      <td>B</td>\n",
       "      <td>1520559278</td>\n",
       "      <td>36492</td>\n",
       "      <td>f402d6ab9f88bfe764c9cac07c75f1e39c8bb23c</td>\n",
       "      <td>36492_f402d6ab9f88bfe764c9cac07c75f1e39c8bb23c</td>\n",
       "      <td>NaN</td>\n",
       "      <td>F</td>\n",
       "      <td>(-70, 74)</td>\n",
       "      <td>NaN</td>\n",
       "      <td>NaN</td>\n",
       "      <td>NaN</td>\n",
       "      <td>3</td>\n",
       "      <td>1</td>\n",
       "    </tr>\n",
       "    <tr>\n",
       "      <th>3</th>\n",
       "      <td>server1</td>\n",
       "      <td>B</td>\n",
       "      <td>1520559279</td>\n",
       "      <td>36493</td>\n",
       "      <td>26541162d8aeb20f1c633000ade50cabc23df1c5</td>\n",
       "      <td>36493_26541162d8aeb20f1c633000ade50cabc23df1c5</td>\n",
       "      <td>NaN</td>\n",
       "      <td>M</td>\n",
       "      <td>(-70, 74)</td>\n",
       "      <td>36492</td>\n",
       "      <td>NaN</td>\n",
       "      <td>NaN</td>\n",
       "      <td>4</td>\n",
       "      <td>2</td>\n",
       "    </tr>\n",
       "    <tr>\n",
       "      <th>4</th>\n",
       "      <td>server1</td>\n",
       "      <td>B</td>\n",
       "      <td>1520559280</td>\n",
       "      <td>36494</td>\n",
       "      <td>f623c5fbea396330c89487a06c5613b6cf80f65e</td>\n",
       "      <td>36494_f623c5fbea396330c89487a06c5613b6cf80f65e</td>\n",
       "      <td>NaN</td>\n",
       "      <td>F</td>\n",
       "      <td>(-37, 95)</td>\n",
       "      <td>NaN</td>\n",
       "      <td>NaN</td>\n",
       "      <td>NaN</td>\n",
       "      <td>5</td>\n",
       "      <td>1</td>\n",
       "    </tr>\n",
       "  </tbody>\n",
       "</table>\n",
       "</div>"
      ],
      "text/plain": [
       "    server event   timestamp  playerID  \\\n",
       "0  server1     B  1520559275     36490   \n",
       "1  server1     B  1520559278     36491   \n",
       "2  server1     B  1520559278     36492   \n",
       "3  server1     B  1520559279     36493   \n",
       "4  server1     B  1520559280     36494   \n",
       "\n",
       "                                       hash  \\\n",
       "0  49483e9224e4ccdb5af274bb71bb1e3de9aeedea   \n",
       "1  50edfe49ea709e8764321ae12643c19ebf172c5f   \n",
       "2  f402d6ab9f88bfe764c9cac07c75f1e39c8bb23c   \n",
       "3  26541162d8aeb20f1c633000ade50cabc23df1c5   \n",
       "4  f623c5fbea396330c89487a06c5613b6cf80f65e   \n",
       "\n",
       "                                         uniqueID  age sex    location parent  \\\n",
       "0  36490_49483e9224e4ccdb5af274bb71bb1e3de9aeedea  NaN   F  (-49, 607)    NaN   \n",
       "1  36491_50edfe49ea709e8764321ae12643c19ebf172c5f  NaN   M  (-49, 607)  36490   \n",
       "2  36492_f402d6ab9f88bfe764c9cac07c75f1e39c8bb23c  NaN   F   (-70, 74)    NaN   \n",
       "3  36493_26541162d8aeb20f1c633000ade50cabc23df1c5  NaN   M   (-70, 74)  36492   \n",
       "4  36494_f623c5fbea396330c89487a06c5613b6cf80f65e  NaN   F   (-37, 95)    NaN   \n",
       "\n",
       "  cause_of_death killer pop chain  \n",
       "0            NaN    NaN   1     1  \n",
       "1            NaN    NaN   2     2  \n",
       "2            NaN    NaN   3     1  \n",
       "3            NaN    NaN   4     2  \n",
       "4            NaN    NaN   5     1  "
      ]
     },
     "execution_count": 34,
     "metadata": {},
     "output_type": "execute_result"
    }
   ],
   "source": [
    "lifelog_data = pd.concat([death_data, birth_data])\n",
    "lifelog_data = lifelog_data.sort_values(by=['server', 'timestamp'])\n",
    "lifelog_data = lifelog_data.reset_index(drop=True)\n",
    "\n",
    "lifelog_data.head()"
   ]
  },
  {
   "cell_type": "code",
   "execution_count": 37,
   "metadata": {},
   "outputs": [],
   "source": [
    "out_file = 'outputs/lifelogs_201803_data.csv'\n",
    "lifelog_data.to_csv(out_file, sep='\\t', index=False)"
   ]
  },
  {
   "cell_type": "markdown",
   "metadata": {},
   "source": [
    "## Census: How many players?"
   ]
  },
  {
   "cell_type": "code",
   "execution_count": 42,
   "metadata": {},
   "outputs": [
    {
     "data": {
      "text/html": [
       "<div>\n",
       "<style scoped>\n",
       "    .dataframe tbody tr th:only-of-type {\n",
       "        vertical-align: middle;\n",
       "    }\n",
       "\n",
       "    .dataframe tbody tr th {\n",
       "        vertical-align: top;\n",
       "    }\n",
       "\n",
       "    .dataframe thead th {\n",
       "        text-align: right;\n",
       "    }\n",
       "</style>\n",
       "<table border=\"1\" class=\"dataframe\">\n",
       "  <thead>\n",
       "    <tr style=\"text-align: right;\">\n",
       "      <th></th>\n",
       "      <th>event</th>\n",
       "    </tr>\n",
       "    <tr>\n",
       "      <th>event</th>\n",
       "      <th></th>\n",
       "    </tr>\n",
       "  </thead>\n",
       "  <tbody>\n",
       "    <tr>\n",
       "      <th>B</th>\n",
       "      <td>79782</td>\n",
       "    </tr>\n",
       "    <tr>\n",
       "      <th>D</th>\n",
       "      <td>79553</td>\n",
       "    </tr>\n",
       "  </tbody>\n",
       "</table>\n",
       "</div>"
      ],
      "text/plain": [
       "       event\n",
       "event       \n",
       "B      79782\n",
       "D      79553"
      ]
     },
     "execution_count": 42,
     "metadata": {},
     "output_type": "execute_result"
    }
   ],
   "source": [
    "lifelog_data.groupby('event').agg({'event': 'count'})"
   ]
  },
  {
   "cell_type": "markdown",
   "metadata": {},
   "source": [
    "## Deaths: How and when do people die?"
   ]
  },
  {
   "cell_type": "markdown",
   "metadata": {},
   "source": [
    "Age of death:"
   ]
  },
  {
   "cell_type": "code",
   "execution_count": 38,
   "metadata": {},
   "outputs": [
    {
     "name": "stdout",
     "output_type": "stream",
     "text": [
      "Plotting 79553 deaths\n"
     ]
    },
    {
     "data": {
      "text/plain": [
       "<matplotlib.axes._subplots.AxesSubplot at 0x1a2b17b278>"
      ]
     },
     "execution_count": 38,
     "metadata": {},
     "output_type": "execute_result"
    },
    {
     "data": {
      "image/png": "[encoded data removed]",
      "text/plain": [
       "<Figure size 432x288 with 1 Axes>"
      ]
     },
     "metadata": {},
     "output_type": "display_data"
    }
   ],
   "source": [
    "print('Plotting %i deaths' % len(death_data))\n",
    "sns.distplot(death_data['age'])"
   ]
  },
  {
   "cell_type": "markdown",
   "metadata": {},
   "source": [
    "Frequency of causes of death:"
   ]
  },
  {
   "cell_type": "code",
   "execution_count": 39,
   "metadata": {},
   "outputs": [
    {
     "data": {
      "text/plain": [
       "<matplotlib.axes._subplots.AxesSubplot at 0x1a28598eb8>"
      ]
     },
     "execution_count": 39,
     "metadata": {},
     "output_type": "execute_result"
    },
    {
     "data": {
      "image/png": "[encoded data removed]",
      "text/plain": [
       "<Figure size 432x288 with 1 Axes>"
      ]
     },
     "metadata": {},
     "output_type": "display_data"
    }
   ],
   "source": [
    "sns.countplot(x='cause_of_death', data=death_data)"
   ]
  },
  {
   "cell_type": "markdown",
   "metadata": {},
   "source": [
    "Age by cause of death:"
   ]
  },
  {
   "cell_type": "code",
   "execution_count": 40,
   "metadata": {},
   "outputs": [
    {
     "data": {
      "text/plain": [
       "<seaborn.axisgrid.FacetGrid at 0x1a294c4550>"
      ]
     },
     "execution_count": 40,
     "metadata": {},
     "output_type": "execute_result"
    },
    {
     "data": {
      "image/png": "[encoded data removed]",
      "text/plain": [
       "<Figure size 864x216 with 4 Axes>"
      ]
     },
     "metadata": {},
     "output_type": "display_data"
    }
   ],
   "source": [
    "g = sns.FacetGrid(death_data, col='cause_of_death', sharey=False)\n",
    "g.map(sns.distplot, \"age\")"
   ]
  },
  {
   "cell_type": "markdown",
   "metadata": {},
   "source": [
    "Location of deaths:"
   ]
  },
  {
   "cell_type": "code",
   "execution_count": null,
   "metadata": {},
   "outputs": [],
   "source": [
    "death_loc = death_causes.copy()\n",
    "death_loc = death_loc[['timestamp', 'playerID', 'location', 'cause_of_death']]\n",
    "death_loc['location'] = death_loc['location'].apply(make_tuple)\n",
    "death_loc[['x', 'y']] = pd.DataFrame(death_loc['location'].tolist(), index=death_loc.index)  \n",
    "death_loc.head()"
   ]
  },
  {
   "cell_type": "code",
   "execution_count": null,
   "metadata": {},
   "outputs": [],
   "source": [
    "plt.figure(figsize=(30,30))\n",
    "g = sns.FacetGrid(death_loc, col='cause_of_death', col_wrap=2, hue='cause_of_death')\n",
    "g.map(sns.scatterplot, 'x', 'y', alpha=0.25)"
   ]
  },
  {
   "cell_type": "markdown",
   "metadata": {},
   "source": [
    "<div style=\"background-color:#ffaaaa\"><p>The code below will be moved to 2_3_lineages and 2_4_migration</p></div>\n",
    "\n",
    "## Migration: How far do people die from their place of birth?"
   ]
  },
  {
   "cell_type": "markdown",
   "metadata": {},
   "source": [
    "Match births and deaths:"
   ]
  },
  {
   "cell_type": "code",
   "execution_count": null,
   "metadata": {},
   "outputs": [],
   "source": [
    "birth_loc = birth_data[['server', 'playerID', 'hash', 'location']]\n",
    "birth_loc = birth_loc.rename(columns={'location': 'birth'})\n",
    "birth_loc.head()"
   ]
  },
  {
   "cell_type": "code",
   "execution_count": null,
   "metadata": {},
   "outputs": [],
   "source": [
    "death_loc = death_data[['server', 'playerID', 'hash', 'age', 'location']]\n",
    "death_loc = death_loc.rename(columns={'location': 'death'})\n",
    "death_loc.head()"
   ]
  },
  {
   "cell_type": "markdown",
   "metadata": {},
   "source": [
    "Distance:"
   ]
  },
  {
   "cell_type": "code",
   "execution_count": null,
   "metadata": {},
   "outputs": [],
   "source": [
    "dist_fun = lambda row: np.linalg.norm(row['death']-row['birth'])\n",
    "\n",
    "life_loc =  birth_loc.merge(death_loc)\n",
    "life_loc['age'] = life_loc['age'].astype(np.float)\n",
    "life_loc['birth'] = life_loc['birth'].apply(make_tuple)\n",
    "life_loc['birth'] = life_loc['birth'].apply(np.array)\n",
    "\n",
    "life_loc['death'] = life_loc['death'].apply(make_tuple)\n",
    "life_loc['death'] = life_loc['death'].apply(np.array)\n",
    "\n",
    "life_loc['distance'] = life_loc.apply(dist_fun, axis=1)\n",
    "\n",
    "life_loc.head()"
   ]
  },
  {
   "cell_type": "code",
   "execution_count": null,
   "metadata": {},
   "outputs": [],
   "source": [
    "sns.distplot(life_loc['distance'])\n",
    "np.median(life_loc['distance'])"
   ]
  },
  {
   "cell_type": "markdown",
   "metadata": {},
   "source": [
    "## Births: Charting family trees"
   ]
  },
  {
   "cell_type": "markdown",
   "metadata": {},
   "source": [
    "### Prepare data"
   ]
  },
  {
   "cell_type": "code",
   "execution_count": null,
   "metadata": {},
   "outputs": [],
   "source": [
    "graph_data = birth_data[['playerID', 'parent']].copy()\n",
    "graph_data = graph_data.rename(columns={\"playerID\": \"child\"})\n",
    "graph_data['child'] = graph_data['child'].astype(np.float)\n",
    "graph_data['parent'] = np.where(graph_data['parent'] == 'noParent', \n",
    "                                np.nan,\n",
    "                                graph_data['parent'].str.replace('parent=', ''))\n",
    "graph_data['parent'] = graph_data['parent'].astype(np.float)\n",
    "graph_data.head()"
   ]
  },
  {
   "cell_type": "markdown",
   "metadata": {},
   "source": [
    "#### Data quality checks"
   ]
  },
  {
   "cell_type": "markdown",
   "metadata": {},
   "source": [
    "How many nodes?"
   ]
  },
  {
   "cell_type": "code",
   "execution_count": null,
   "metadata": {},
   "outputs": [],
   "source": [
    "graph_data.nunique()"
   ]
  },
  {
   "cell_type": "markdown",
   "metadata": {},
   "source": [
    "Are the entries in \"children\" a subset of \"parent\"?"
   ]
  },
  {
   "cell_type": "code",
   "execution_count": null,
   "metadata": {},
   "outputs": [],
   "source": [
    "children = graph_data['child'].unique()\n",
    "parents = graph_data['parent'].unique()\n",
    "parents = parents[~np.isnan(parents)]"
   ]
  },
  {
   "cell_type": "code",
   "execution_count": null,
   "metadata": {},
   "outputs": [],
   "source": [
    "np.all([p in children for p in parents])"
   ]
  },
  {
   "cell_type": "markdown",
   "metadata": {},
   "source": [
    "Draw graph:"
   ]
  },
  {
   "cell_type": "code",
   "execution_count": null,
   "metadata": {},
   "outputs": [],
   "source": [
    "family_graph = nx.from_pandas_edgelist(graph_data, source='parent', target='child')"
   ]
  },
  {
   "cell_type": "code",
   "execution_count": null,
   "metadata": {},
   "outputs": [],
   "source": [
    "nx.draw_random(family_graph, with_labels=False)"
   ]
  },
  {
   "cell_type": "code",
   "execution_count": null,
   "metadata": {},
   "outputs": [],
   "source": []
  }
 ],
 "metadata": {
  "kernelspec": {
   "display_name": "Python 3",
   "language": "python",
   "name": "python3"
  },
  "language_info": {
   "codemirror_mode": {
    "name": "ipython",
    "version": 3
   },
   "file_extension": ".py",
   "mimetype": "text/x-python",
   "name": "python",
   "nbconvert_exporter": "python",
   "pygments_lexer": "ipython3",
   "version": "3.6.8"
  },
  "toc": {
   "base_numbering": 1,
   "nav_menu": {},
   "number_sections": true,
   "sideBar": true,
   "skip_h1_title": false,
   "title_cell": "Table of Contents",
   "title_sidebar": "Contents",
   "toc_cell": false,
   "toc_position": {},
   "toc_section_display": true,
   "toc_window_display": false
  }
 },
 "nbformat": 4,
 "nbformat_minor": 2
}
