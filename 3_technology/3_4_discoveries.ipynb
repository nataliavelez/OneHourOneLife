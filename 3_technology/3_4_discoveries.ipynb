{
 "cells": [
  {
   "cell_type": "markdown",
   "metadata": {},
   "source": [
    "# Detecting discoveries\n",
    "Natalia Vélez, July 2020"
   ]
  },
  {
   "cell_type": "code",
   "execution_count": 1,
   "metadata": {},
   "outputs": [],
   "source": [
    "%matplotlib inline\n",
    "\n",
    "import os, re, glob\n",
    "import pandas as pd\n",
    "import numpy as np\n",
    "from os.path import join as opj\n",
    "\n",
    "import scipy.stats\n",
    "from gini import gini\n",
    "from statsmodels.distributions.empirical_distribution import ECDF\n",
    "\n",
    "import matplotlib.pyplot as plt\n",
    "import seaborn as sns\n",
    "from tqdm import notebook\n",
    "\n",
    "sns.set_style(\"white\")\n",
    "sns.set_context(\"talk\")"
   ]
  },
  {
   "cell_type": "markdown",
   "metadata": {},
   "source": [
    "## Prepare data"
   ]
  },
  {
   "cell_type": "markdown",
   "metadata": {},
   "source": [
    "Helper: Extract timestamp from filenames"
   ]
  },
  {
   "cell_type": "code",
   "execution_count": 2,
   "metadata": {},
   "outputs": [],
   "source": [
    "def file_start(f):\n",
    "    t0 = re.search('((?<=start-)|(?<=time-))[0-9]+', f).group(0)\n",
    "    return int(t0)"
   ]
  },
  {
   "cell_type": "markdown",
   "metadata": {},
   "source": [
    "Family labels:"
   ]
  },
  {
   "cell_type": "code",
   "execution_count": 3,
   "metadata": {},
   "outputs": [
    {
     "name": "stderr",
     "output_type": "stream",
     "text": [
      "/Users/nvelez/opt/anaconda3/lib/python3.7/site-packages/numpy/lib/arraysetops.py:569: FutureWarning: elementwise comparison failed; returning scalar instead, but in the future will perform elementwise comparison\n",
      "  mask |= (ar1 == a)\n"
     ]
    },
    {
     "data": {
      "text/html": [
       "<div>\n",
       "<style scoped>\n",
       "    .dataframe tbody tr th:only-of-type {\n",
       "        vertical-align: middle;\n",
       "    }\n",
       "\n",
       "    .dataframe tbody tr th {\n",
       "        vertical-align: top;\n",
       "    }\n",
       "\n",
       "    .dataframe thead th {\n",
       "        text-align: right;\n",
       "    }\n",
       "</style>\n",
       "<table border=\"1\" class=\"dataframe\">\n",
       "  <thead>\n",
       "    <tr style=\"text-align: right;\">\n",
       "      <th></th>\n",
       "      <th>player_id</th>\n",
       "      <th>family</th>\n",
       "      <th>fam_start</th>\n",
       "    </tr>\n",
       "  </thead>\n",
       "  <tbody>\n",
       "    <tr>\n",
       "      <th>0</th>\n",
       "      <td>3080084</td>\n",
       "      <td>time-1592284232_eve-3080067_name-PICKLE</td>\n",
       "      <td>1592284232</td>\n",
       "    </tr>\n",
       "    <tr>\n",
       "      <th>1</th>\n",
       "      <td>3080114</td>\n",
       "      <td>time-1592284232_eve-3080067_name-PICKLE</td>\n",
       "      <td>1592284232</td>\n",
       "    </tr>\n",
       "    <tr>\n",
       "      <th>2</th>\n",
       "      <td>3080111</td>\n",
       "      <td>time-1592284232_eve-3080067_name-PICKLE</td>\n",
       "      <td>1592284232</td>\n",
       "    </tr>\n",
       "    <tr>\n",
       "      <th>3</th>\n",
       "      <td>3080108</td>\n",
       "      <td>time-1592284232_eve-3080067_name-PICKLE</td>\n",
       "      <td>1592284232</td>\n",
       "    </tr>\n",
       "    <tr>\n",
       "      <th>4</th>\n",
       "      <td>3080104</td>\n",
       "      <td>time-1592284232_eve-3080067_name-PICKLE</td>\n",
       "      <td>1592284232</td>\n",
       "    </tr>\n",
       "  </tbody>\n",
       "</table>\n",
       "</div>"
      ],
      "text/plain": [
       "   player_id                                   family   fam_start\n",
       "0    3080084  time-1592284232_eve-3080067_name-PICKLE  1592284232\n",
       "1    3080114  time-1592284232_eve-3080067_name-PICKLE  1592284232\n",
       "2    3080111  time-1592284232_eve-3080067_name-PICKLE  1592284232\n",
       "3    3080108  time-1592284232_eve-3080067_name-PICKLE  1592284232\n",
       "4    3080104  time-1592284232_eve-3080067_name-PICKLE  1592284232"
      ]
     },
     "execution_count": 3,
     "metadata": {},
     "output_type": "execute_result"
    }
   ],
   "source": [
    "fam_file = '../2_demographics/outputs/family_playerID.tsv'\n",
    "fam_df = pd.read_csv(fam_file, sep='\\t', index_col=0)\n",
    "fam_df = fam_df.rename(columns={'playerID':'player_id'})\n",
    "fam_df['fam_start'] = fam_df['family'].apply(file_start)\n",
    "fam_df.head()"
   ]
  },
  {
   "cell_type": "markdown",
   "metadata": {},
   "source": [
    "Family fitness:"
   ]
  },
  {
   "cell_type": "code",
   "execution_count": 4,
   "metadata": {},
   "outputs": [
    {
     "name": "stdout",
     "output_type": "stream",
     "text": [
      "Analyzing 3084 families\n"
     ]
    },
    {
     "data": {
      "text/html": [
       "<div>\n",
       "<style scoped>\n",
       "    .dataframe tbody tr th:only-of-type {\n",
       "        vertical-align: middle;\n",
       "    }\n",
       "\n",
       "    .dataframe tbody tr th {\n",
       "        vertical-align: top;\n",
       "    }\n",
       "\n",
       "    .dataframe thead th {\n",
       "        text-align: right;\n",
       "    }\n",
       "</style>\n",
       "<table border=\"1\" class=\"dataframe\">\n",
       "  <thead>\n",
       "    <tr style=\"text-align: right;\">\n",
       "      <th></th>\n",
       "      <th>family</th>\n",
       "      <th>sum</th>\n",
       "      <th>count</th>\n",
       "      <th>a</th>\n",
       "      <th>b</th>\n",
       "      <th>beta_mean</th>\n",
       "      <th>beta_var</th>\n",
       "      <th>snr</th>\n",
       "      <th>weighted_size</th>\n",
       "    </tr>\n",
       "  </thead>\n",
       "  <tbody>\n",
       "    <tr>\n",
       "      <th>0</th>\n",
       "      <td>time-1573261529_eve-2252167_name-VIERNES</td>\n",
       "      <td>1</td>\n",
       "      <td>2</td>\n",
       "      <td>4</td>\n",
       "      <td>4</td>\n",
       "      <td>0.500000</td>\n",
       "      <td>0.027778</td>\n",
       "      <td>18.000000</td>\n",
       "      <td>1.000000</td>\n",
       "    </tr>\n",
       "    <tr>\n",
       "      <th>1</th>\n",
       "      <td>time-1573261796_eve-2252178_name-BELAND</td>\n",
       "      <td>2</td>\n",
       "      <td>8</td>\n",
       "      <td>5</td>\n",
       "      <td>9</td>\n",
       "      <td>0.357143</td>\n",
       "      <td>0.015306</td>\n",
       "      <td>23.333333</td>\n",
       "      <td>2.857143</td>\n",
       "    </tr>\n",
       "    <tr>\n",
       "      <th>2</th>\n",
       "      <td>time-1573261810_eve-2252180_name-BRAND</td>\n",
       "      <td>4</td>\n",
       "      <td>11</td>\n",
       "      <td>7</td>\n",
       "      <td>10</td>\n",
       "      <td>0.411765</td>\n",
       "      <td>0.013456</td>\n",
       "      <td>30.600000</td>\n",
       "      <td>4.529412</td>\n",
       "    </tr>\n",
       "    <tr>\n",
       "      <th>3</th>\n",
       "      <td>time-1573261816_eve-2252182_name-GERMAN</td>\n",
       "      <td>4</td>\n",
       "      <td>12</td>\n",
       "      <td>7</td>\n",
       "      <td>11</td>\n",
       "      <td>0.388889</td>\n",
       "      <td>0.012508</td>\n",
       "      <td>31.090909</td>\n",
       "      <td>4.666667</td>\n",
       "    </tr>\n",
       "    <tr>\n",
       "      <th>4</th>\n",
       "      <td>time-1573261826_eve-2252186_name-LOLI</td>\n",
       "      <td>4</td>\n",
       "      <td>16</td>\n",
       "      <td>7</td>\n",
       "      <td>15</td>\n",
       "      <td>0.318182</td>\n",
       "      <td>0.009432</td>\n",
       "      <td>33.733333</td>\n",
       "      <td>5.090909</td>\n",
       "    </tr>\n",
       "  </tbody>\n",
       "</table>\n",
       "</div>"
      ],
      "text/plain": [
       "                                     family  sum  count  a   b  beta_mean  \\\n",
       "0  time-1573261529_eve-2252167_name-VIERNES    1      2  4   4   0.500000   \n",
       "1   time-1573261796_eve-2252178_name-BELAND    2      8  5   9   0.357143   \n",
       "2    time-1573261810_eve-2252180_name-BRAND    4     11  7  10   0.411765   \n",
       "3   time-1573261816_eve-2252182_name-GERMAN    4     12  7  11   0.388889   \n",
       "4     time-1573261826_eve-2252186_name-LOLI    4     16  7  15   0.318182   \n",
       "\n",
       "   beta_var        snr  weighted_size  \n",
       "0  0.027778  18.000000       1.000000  \n",
       "1  0.015306  23.333333       2.857143  \n",
       "2  0.013456  30.600000       4.529412  \n",
       "3  0.012508  31.090909       4.666667  \n",
       "4  0.009432  33.733333       5.090909  "
      ]
     },
     "execution_count": 4,
     "metadata": {},
     "output_type": "execute_result"
    }
   ],
   "source": [
    "fit_file = '../2_demographics/outputs/family_fitness.tsv'\n",
    "fit_df = pd.read_csv(fit_file, sep='\\t', index_col=None)\n",
    "print('Analyzing %i families' % fit_df.shape[0])\n",
    "fit_df.head()"
   ]
  },
  {
   "cell_type": "markdown",
   "metadata": {},
   "source": [
    "Object depth:"
   ]
  },
  {
   "cell_type": "code",
   "execution_count": 5,
   "metadata": {},
   "outputs": [
    {
     "data": {
      "text/html": [
       "<div>\n",
       "<style scoped>\n",
       "    .dataframe tbody tr th:only-of-type {\n",
       "        vertical-align: middle;\n",
       "    }\n",
       "\n",
       "    .dataframe tbody tr th {\n",
       "        vertical-align: top;\n",
       "    }\n",
       "\n",
       "    .dataframe thead th {\n",
       "        text-align: right;\n",
       "    }\n",
       "</style>\n",
       "<table border=\"1\" class=\"dataframe\">\n",
       "  <thead>\n",
       "    <tr style=\"text-align: right;\">\n",
       "      <th></th>\n",
       "      <th>object_id</th>\n",
       "      <th>depth</th>\n",
       "    </tr>\n",
       "  </thead>\n",
       "  <tbody>\n",
       "    <tr>\n",
       "      <th>0</th>\n",
       "      <td>11</td>\n",
       "      <td>0</td>\n",
       "    </tr>\n",
       "    <tr>\n",
       "      <th>1</th>\n",
       "      <td>19</td>\n",
       "      <td>0</td>\n",
       "    </tr>\n",
       "    <tr>\n",
       "      <th>2</th>\n",
       "      <td>30</td>\n",
       "      <td>0</td>\n",
       "    </tr>\n",
       "    <tr>\n",
       "      <th>3</th>\n",
       "      <td>31</td>\n",
       "      <td>1</td>\n",
       "    </tr>\n",
       "    <tr>\n",
       "      <th>4</th>\n",
       "      <td>32</td>\n",
       "      <td>0</td>\n",
       "    </tr>\n",
       "  </tbody>\n",
       "</table>\n",
       "</div>"
      ],
      "text/plain": [
       "   object_id  depth\n",
       "0         11      0\n",
       "1         19      0\n",
       "2         30      0\n",
       "3         31      1\n",
       "4         32      0"
      ]
     },
     "execution_count": 5,
     "metadata": {},
     "output_type": "execute_result"
    }
   ],
   "source": [
    "depth_file = '../../tech_tree/transition.csv'\n",
    "depth_df = pd.read_csv(depth_file)\n",
    "depth_df = depth_df.rename(columns={'id': 'object_id', 'num_ingredients': 'depth'})\n",
    "depth_df = depth_df[['object_id', 'depth']]\n",
    "depth_df.head()"
   ]
  },
  {
   "cell_type": "markdown",
   "metadata": {},
   "source": [
    "Find map change files:"
   ]
  },
  {
   "cell_type": "code",
   "execution_count": 6,
   "metadata": {},
   "outputs": [
    {
     "name": "stdout",
     "output_type": "stream",
     "text": [
      "Found 236 files\n",
      "outputs/maplog/maplog_release-284_start-1573895672.tsv\n",
      "outputs/maplog/maplog_release-284_start-1573982073.tsv\n",
      "outputs/maplog/maplog_release-284_start-1574068473.tsv\n",
      "outputs/maplog/maplog_release-285_start-1574102503.tsv\n",
      "outputs/maplog/maplog_release-287_start-1574151678.tsv\n",
      "outputs/maplog/maplog_release-287_start-1574238079.tsv\n",
      "outputs/maplog/maplog_release-287_start-1574324479.tsv\n",
      "outputs/maplog/maplog_release-287_start-1574410879.tsv\n",
      "outputs/maplog/maplog_release-287_start-1574497279.tsv\n",
      "outputs/maplog/maplog_release-289_start-1574552311.tsv\n"
     ]
    }
   ],
   "source": [
    "gsearch = lambda *args: glob.glob(opj(*args))\n",
    "map_dir = 'outputs/maplog/'\n",
    "\n",
    "map_files = gsearch(map_dir, '*.tsv')\n",
    "map_files.sort()\n",
    "\n",
    "print('Found %i files' % len(map_files))\n",
    "print(*map_files[:10], sep='\\n')"
   ]
  },
  {
   "cell_type": "markdown",
   "metadata": {},
   "source": [
    "Find map seed changes:"
   ]
  },
  {
   "cell_type": "code",
   "execution_count": 7,
   "metadata": {},
   "outputs": [
    {
     "name": "stdout",
     "output_type": "stream",
     "text": [
      "[1573895673 1574102503 1576038671 1578345720 1578354747 1579713519\n",
      " 1580144896 1581985139 1583642903 1584061484 1585440511 1585512770\n",
      " 1585603481 1587166656]\n"
     ]
    }
   ],
   "source": [
    "seed_file = 'outputs/seed_changes.txt'\n",
    "with open(seed_file, 'r') as handle:\n",
    "    seed_data = handle.read().splitlines()\n",
    "\n",
    "seed_changes = np.array([int(s) for s in seed_data])\n",
    "seed_changes = np.sort(seed_changes)\n",
    "\n",
    "print(seed_changes)"
   ]
  },
  {
   "cell_type": "markdown",
   "metadata": {},
   "source": [
    "Find seed file corresponding to timestamp:"
   ]
  },
  {
   "cell_type": "code",
   "execution_count": 8,
   "metadata": {},
   "outputs": [],
   "source": [
    "def find_seed(tstamp):\n",
    "    \n",
    "    lag = tstamp - seed_changes\n",
    "    seeds = seed_changes[lag >= 0]\n",
    "    if len(seeds):\n",
    "        seed = seeds[-1]\n",
    "    else: # Special: First log file\n",
    "        seed = seed_changes[0]\n",
    "            \n",
    "    return seed"
   ]
  },
  {
   "cell_type": "markdown",
   "metadata": {},
   "source": [
    "Group mapchange files by world seed:"
   ]
  },
  {
   "cell_type": "code",
   "execution_count": 9,
   "metadata": {},
   "outputs": [
    {
     "data": {
      "text/html": [
       "<div>\n",
       "<style scoped>\n",
       "    .dataframe tbody tr th:only-of-type {\n",
       "        vertical-align: middle;\n",
       "    }\n",
       "\n",
       "    .dataframe tbody tr th {\n",
       "        vertical-align: top;\n",
       "    }\n",
       "\n",
       "    .dataframe thead th {\n",
       "        text-align: right;\n",
       "    }\n",
       "</style>\n",
       "<table border=\"1\" class=\"dataframe\">\n",
       "  <thead>\n",
       "    <tr style=\"text-align: right;\">\n",
       "      <th></th>\n",
       "      <th>file</th>\n",
       "      <th>tstamp</th>\n",
       "      <th>seed</th>\n",
       "      <th>seed_start</th>\n",
       "    </tr>\n",
       "  </thead>\n",
       "  <tbody>\n",
       "    <tr>\n",
       "      <th>0</th>\n",
       "      <td>outputs/maplog/maplog_release-284_start-157389...</td>\n",
       "      <td>1573895672</td>\n",
       "      <td>1573895673</td>\n",
       "      <td>1573895672</td>\n",
       "    </tr>\n",
       "    <tr>\n",
       "      <th>1</th>\n",
       "      <td>outputs/maplog/maplog_release-284_start-157398...</td>\n",
       "      <td>1573982073</td>\n",
       "      <td>1573895673</td>\n",
       "      <td>1573895672</td>\n",
       "    </tr>\n",
       "    <tr>\n",
       "      <th>2</th>\n",
       "      <td>outputs/maplog/maplog_release-284_start-157406...</td>\n",
       "      <td>1574068473</td>\n",
       "      <td>1573895673</td>\n",
       "      <td>1573895672</td>\n",
       "    </tr>\n",
       "    <tr>\n",
       "      <th>3</th>\n",
       "      <td>outputs/maplog/maplog_release-285_start-157410...</td>\n",
       "      <td>1574102503</td>\n",
       "      <td>1574102503</td>\n",
       "      <td>1574102503</td>\n",
       "    </tr>\n",
       "    <tr>\n",
       "      <th>4</th>\n",
       "      <td>outputs/maplog/maplog_release-287_start-157415...</td>\n",
       "      <td>1574151678</td>\n",
       "      <td>1574102503</td>\n",
       "      <td>1574102503</td>\n",
       "    </tr>\n",
       "  </tbody>\n",
       "</table>\n",
       "</div>"
      ],
      "text/plain": [
       "                                                file      tstamp        seed  \\\n",
       "0  outputs/maplog/maplog_release-284_start-157389...  1573895672  1573895673   \n",
       "1  outputs/maplog/maplog_release-284_start-157398...  1573982073  1573895673   \n",
       "2  outputs/maplog/maplog_release-284_start-157406...  1574068473  1573895673   \n",
       "3  outputs/maplog/maplog_release-285_start-157410...  1574102503  1574102503   \n",
       "4  outputs/maplog/maplog_release-287_start-157415...  1574151678  1574102503   \n",
       "\n",
       "   seed_start  \n",
       "0  1573895672  \n",
       "1  1573895672  \n",
       "2  1573895672  \n",
       "3  1574102503  \n",
       "4  1574102503  "
      ]
     },
     "execution_count": 9,
     "metadata": {},
     "output_type": "execute_result"
    }
   ],
   "source": [
    "file_df = pd.DataFrame(map_files, columns=['file'])\n",
    "file_df['tstamp'] = file_df.file.str.extract('(?<=start-)([0-9]+)')\n",
    "file_df['tstamp'] = file_df['tstamp'].astype(np.int)\n",
    "file_df['seed'] = file_df.tstamp.apply(find_seed)\n",
    "file_df = file_df.sort_values('tstamp')\n",
    "file_df['seed_start'] = file_df.groupby('seed')['tstamp'].transform('min')\n",
    "\n",
    "file_df.head()"
   ]
  },
  {
   "cell_type": "markdown",
   "metadata": {},
   "source": [
    "## Identify discoveries"
   ]
  },
  {
   "cell_type": "markdown",
   "metadata": {},
   "source": [
    "Helper function: Clean up individual map change files"
   ]
  },
  {
   "cell_type": "code",
   "execution_count": 10,
   "metadata": {},
   "outputs": [],
   "source": [
    "def process_maplog(f):\n",
    "    s_df = pd.read_csv(f, sep='\\t', index_col=None)\n",
    "    \n",
    "    # Fix timestamps to start of world seed\n",
    "    t_log = file_start(f)\n",
    "    s_df['t_epoch'] = s_df['t_elapsed'] + t_log\n",
    "\n",
    "    # Player events only\n",
    "    s_df = s_df[s_df['player_id'] > 0]\n",
    "\n",
    "    # Parse object IDs, removing special identifiers\n",
    "    s_df['object_id'] = s_df.object_id.str.replace('(^f|v[0-9]+|u[0-9]+)', '')\n",
    "    s_df['object_id'] = s_df['object_id'].astype(np.int)\n",
    "\n",
    "    # Only interactions with valid objects\n",
    "    s_df = s_df[(s_df['object_id'] > 0) & (s_df['object_id'] < 5000)]\n",
    "\n",
    "    # Tag players by family\n",
    "    s_df = pd.merge(s_df, fam_df, on='player_id')\n",
    "    s_df['t_fam'] = s_df['t_epoch'] - s_df['fam_start'] # t=0 at Eve birth\n",
    "\n",
    "    return s_df"
   ]
  },
  {
   "cell_type": "markdown",
   "metadata": {},
   "source": [
    "Identify discoveries"
   ]
  },
  {
   "cell_type": "code",
   "execution_count": 11,
   "metadata": {},
   "outputs": [],
   "source": [
    "def id_discoveries(maplog):\n",
    "\n",
    "    # Prepare dataframe\n",
    "    discoveries = maplog.copy()\n",
    "    discoveries = discoveries[['seed','t_fam','family', 'object_id', 'x', 'y', 'player_id']]\n",
    "    discoveries = discoveries.sort_values('t_fam')\n",
    "\n",
    "    # Find the first time an object appears in family's repertoire\n",
    "    discoveries = discoveries.groupby(['seed', 'family', 'object_id']).first()\n",
    "    discoveries = discoveries.reset_index()\n",
    "    discoveries = pd.merge(discoveries, depth_df)\n",
    "    discoveries = discoveries.sort_values(['family', 't_fam'])\n",
    "\n",
    "    return discoveries"
   ]
  },
  {
   "cell_type": "markdown",
   "metadata": {},
   "source": [
    "Count # of discoveries per player:"
   ]
  },
  {
   "cell_type": "code",
   "execution_count": 12,
   "metadata": {},
   "outputs": [],
   "source": [
    "def count_discoveries(discoveries):\n",
    "    # Return a count of # discoveries for each family member\n",
    "    n_discoveries = discoveries.groupby(['family','player_id'])['object_id']\n",
    "    n_discoveries = n_discoveries.agg('count').reset_index()\n",
    "    n_discoveries = n_discoveries.rename(columns={'object_id': 'n'})\n",
    "\n",
    "    # Fill in missing family members (no discoveries)\n",
    "    log_fams = np.unique(discoveries['family'])\n",
    "    all_fam = fam_df.copy()\n",
    "    all_fam = all_fam[['family', 'player_id']]\n",
    "    all_fam = all_fam[all_fam['family'].isin(log_fams)].reset_index(drop=True)\n",
    "\n",
    "    # Total number of discoveries\n",
    "    n_discoveries_full = pd.merge(all_fam, n_discoveries, how='outer')\n",
    "    n_discoveries_full['n'] = n_discoveries_full['n'].fillna(0).astype(int)\n",
    "    \n",
    "    # Family totals\n",
    "    fam_totals = n_discoveries_full.groupby('family')['n'].agg(['sum', 'count']).reset_index()\n",
    "    n_discoveries_full = pd.merge(n_discoveries_full, fam_totals, on='family', how='outer')\n",
    "    n_discoveries_full = n_discoveries_full.sort_values(['family', 'n'], ascending=True)\n",
    "    \n",
    "    # Cumulative players and discoveries\n",
    "    n_discoveries_full['cum_players'] = n_discoveries_full.groupby('family')['n'].cumcount()+1\n",
    "    n_discoveries_full['cum_players'] = n_discoveries_full['cum_players']/n_discoveries_full['count']\n",
    "    \n",
    "    n_discoveries_full['cum_discoveries'] = n_discoveries_full.groupby('family')['n'].cumsum()\n",
    "    n_discoveries_full['cum_discoveries'] = n_discoveries_full['cum_discoveries']/n_discoveries_full['sum']\n",
    "    \n",
    "    return n_discoveries_full"
   ]
  },
  {
   "cell_type": "markdown",
   "metadata": {},
   "source": [
    "Plot Lorenz curves (used to visualize innovation inequality):"
   ]
  },
  {
   "cell_type": "code",
   "execution_count": 13,
   "metadata": {},
   "outputs": [],
   "source": [
    "# Plot Lorenz curve\n",
    "def plot_lorenz(in_df, name, seed):\n",
    "    highlight_col = '#ffad3b'\n",
    "    fig, ax = plt.subplots(figsize=(6,6))\n",
    "    \n",
    "    # Insert point at origin \n",
    "    origin = pd.DataFrame({'family': [name],\n",
    "                           'playerID': [0],\n",
    "                           'n': [0],\n",
    "                           'sum': [0],\n",
    "                           'count': [0],\n",
    "                           'cum_players': [0],\n",
    "                           'cum_discoveries': [0]})\n",
    "    \n",
    "    df = pd.concat([origin, in_df])\n",
    "    # Cumulative distribution\n",
    "    sns.lineplot(data = df, x = 'cum_players', y = 'cum_discoveries', color = highlight_col, ax=ax)\n",
    "\n",
    "    # Fill in area over Lorenz curve\n",
    "    ax.fill_between(df['cum_players'], df['cum_discoveries'], df['cum_players'],\n",
    "                   color = highlight_col)\n",
    "\n",
    "    # Write Gini coefficient on plot\n",
    "    g = gini(df['cum_discoveries'].values)\n",
    "    ax.text(0.75, 0.05, 'G = %.2f' % g, \n",
    "            bbox = {'facecolor': '#ffffff', 'edgecolor': highlight_col})\n",
    "\n",
    "    # Line of equality\n",
    "    ax.plot([0, 1], [0, 1], transform=ax.transAxes, linestyle='-', color='black', linewidth = 1) \n",
    "\n",
    "    ## Customize\n",
    "    ax.yaxis.tick_right() # Move axes to the right\n",
    "    ax.tick_params(axis = \"y\", which = \"both\", right = False)\n",
    "\n",
    "    ax.yaxis.set_label_position(\"right\")\n",
    "    ax.spines[\"top\"].set_visible(False)\n",
    "    ax.spines[\"left\"].set_visible(False)\n",
    "\n",
    "    ax.set(xlim = [0,1], ylim= [0,1], aspect = 1.0,\n",
    "           xlabel='Cumulative share of characters\\n(Fewest to most discoveries)',\n",
    "           ylabel='Cumulative share of discoveries')\n",
    "\n",
    "    #  Save to file\n",
    "    plot_file = 'plots/discoveries/seed-%i_%s_lorenz.png' % (seed, name)\n",
    "    plt.savefig(plot_file, bbox_inches = 'tight')\n",
    "    plt.close()\n",
    "        \n",
    "    return g"
   ]
  },
  {
   "cell_type": "markdown",
   "metadata": {},
   "source": [
    "Plot distribution of #n discoveries (useful to interpret Lorenz curve):"
   ]
  },
  {
   "cell_type": "code",
   "execution_count": 14,
   "metadata": {},
   "outputs": [],
   "source": [
    "def plot_dist(df, name, seed):\n",
    "    ax = sns.distplot(df['n'], kde=False)\n",
    "    ax.set(xlabel='# discoveries')\n",
    "    sns.despine()\n",
    "    \n",
    "    plot_file = 'plots/discoveries/seed-%i_%s_dist.png' % (seed, name)\n",
    "    plt.savefig(plot_file, bbox_inches = 'tight')\n",
    "    plt.close()"
   ]
  },
  {
   "cell_type": "markdown",
   "metadata": {},
   "source": [
    "Main loop:"
   ]
  },
  {
   "cell_type": "code",
   "execution_count": 16,
   "metadata": {},
   "outputs": [
    {
     "data": {
      "application/vnd.jupyter.widget-view+json": {
       "model_id": "d95c7156f4794d67b9d9b84ad56cc18f",
       "version_major": 2,
       "version_minor": 0
      },
      "text/plain": [
       "HBox(children=(FloatProgress(value=0.0, max=14.0), HTML(value='')))"
      ]
     },
     "metadata": {},
     "output_type": "display_data"
    },
    {
     "data": {
      "application/vnd.jupyter.widget-view+json": {
       "model_id": "d8e895944c9343989e04befd9b4a7cf0",
       "version_major": 2,
       "version_minor": 0
      },
      "text/plain": [
       "HBox(children=(FloatProgress(value=0.0, max=48.0), HTML(value='')))"
      ]
     },
     "metadata": {},
     "output_type": "display_data"
    },
    {
     "name": "stdout",
     "output_type": "stream",
     "text": [
      "\n"
     ]
    },
    {
     "data": {
      "application/vnd.jupyter.widget-view+json": {
       "model_id": "e37c238687064824a151ffe6e050d27e",
       "version_major": 2,
       "version_minor": 0
      },
      "text/plain": [
       "HBox(children=(FloatProgress(value=0.0, max=638.0), HTML(value='')))"
      ]
     },
     "metadata": {},
     "output_type": "display_data"
    },
    {
     "name": "stdout",
     "output_type": "stream",
     "text": [
      "\n"
     ]
    },
    {
     "data": {
      "application/vnd.jupyter.widget-view+json": {
       "model_id": "f6b702b7e53e4e84823f526063f574b2",
       "version_major": 2,
       "version_minor": 0
      },
      "text/plain": [
       "HBox(children=(FloatProgress(value=0.0, max=865.0), HTML(value='')))"
      ]
     },
     "metadata": {},
     "output_type": "display_data"
    },
    {
     "name": "stdout",
     "output_type": "stream",
     "text": [
      "\n"
     ]
    },
    {
     "data": {
      "application/vnd.jupyter.widget-view+json": {
       "model_id": "4bfa4e1151634f23b4d84f9c03531385",
       "version_major": 2,
       "version_minor": 0
      },
      "text/plain": [
       "HBox(children=(FloatProgress(value=0.0, max=67.0), HTML(value='')))"
      ]
     },
     "metadata": {},
     "output_type": "display_data"
    },
    {
     "name": "stdout",
     "output_type": "stream",
     "text": [
      "\n"
     ]
    },
    {
     "data": {
      "application/vnd.jupyter.widget-view+json": {
       "model_id": "e6768327084b40aa9f62dad3fc032efc",
       "version_major": 2,
       "version_minor": 0
      },
      "text/plain": [
       "HBox(children=(FloatProgress(value=0.0, max=332.0), HTML(value='')))"
      ]
     },
     "metadata": {},
     "output_type": "display_data"
    },
    {
     "name": "stdout",
     "output_type": "stream",
     "text": [
      "\n"
     ]
    },
    {
     "data": {
      "application/vnd.jupyter.widget-view+json": {
       "model_id": "6cf756db31c541c58bc424beb8fac8d4",
       "version_major": 2,
       "version_minor": 0
      },
      "text/plain": [
       "HBox(children=(FloatProgress(value=0.0, max=87.0), HTML(value='')))"
      ]
     },
     "metadata": {},
     "output_type": "display_data"
    },
    {
     "name": "stdout",
     "output_type": "stream",
     "text": [
      "\n"
     ]
    },
    {
     "data": {
      "application/vnd.jupyter.widget-view+json": {
       "model_id": "26d3044deade4f9f9a5f9198731bd13e",
       "version_major": 2,
       "version_minor": 0
      },
      "text/plain": [
       "HBox(children=(FloatProgress(value=0.0, max=510.0), HTML(value='')))"
      ]
     },
     "metadata": {},
     "output_type": "display_data"
    },
    {
     "name": "stdout",
     "output_type": "stream",
     "text": [
      "\n"
     ]
    },
    {
     "data": {
      "application/vnd.jupyter.widget-view+json": {
       "model_id": "1c230aed53a54b45883d94fdc7ae16a4",
       "version_major": 2,
       "version_minor": 0
      },
      "text/plain": [
       "HBox(children=(FloatProgress(value=0.0, max=562.0), HTML(value='')))"
      ]
     },
     "metadata": {},
     "output_type": "display_data"
    },
    {
     "name": "stdout",
     "output_type": "stream",
     "text": [
      "\n"
     ]
    },
    {
     "data": {
      "application/vnd.jupyter.widget-view+json": {
       "model_id": "37bb74ca05194ce4a3c7f91a3f5d00a3",
       "version_major": 2,
       "version_minor": 0
      },
      "text/plain": [
       "HBox(children=(FloatProgress(value=0.0, max=124.0), HTML(value='')))"
      ]
     },
     "metadata": {},
     "output_type": "display_data"
    },
    {
     "name": "stdout",
     "output_type": "stream",
     "text": [
      "\n"
     ]
    },
    {
     "data": {
      "application/vnd.jupyter.widget-view+json": {
       "model_id": "cfe59a9ff7df44ff9c596c9f5e3720da",
       "version_major": 2,
       "version_minor": 0
      },
      "text/plain": [
       "HBox(children=(FloatProgress(value=0.0, max=473.0), HTML(value='')))"
      ]
     },
     "metadata": {},
     "output_type": "display_data"
    },
    {
     "name": "stdout",
     "output_type": "stream",
     "text": [
      "\n"
     ]
    },
    {
     "data": {
      "application/vnd.jupyter.widget-view+json": {
       "model_id": "6a93acfad444429198958f557506a494",
       "version_major": 2,
       "version_minor": 0
      },
      "text/plain": [
       "HBox(children=(FloatProgress(value=0.0, max=79.0), HTML(value='')))"
      ]
     },
     "metadata": {},
     "output_type": "display_data"
    },
    {
     "name": "stdout",
     "output_type": "stream",
     "text": [
      "\n"
     ]
    },
    {
     "data": {
      "application/vnd.jupyter.widget-view+json": {
       "model_id": "e5b4375d63034a2f8e2a198e97e539a4",
       "version_major": 2,
       "version_minor": 0
      },
      "text/plain": [
       "HBox(children=(FloatProgress(value=0.0, max=1286.0), HTML(value='')))"
      ]
     },
     "metadata": {},
     "output_type": "display_data"
    },
    {
     "name": "stdout",
     "output_type": "stream",
     "text": [
      "\n"
     ]
    },
    {
     "data": {
      "application/vnd.jupyter.widget-view+json": {
       "model_id": "fe0de63352524db1906f1bb064a5b290",
       "version_major": 2,
       "version_minor": 0
      },
      "text/plain": [
       "HBox(children=(FloatProgress(value=0.0, max=2849.0), HTML(value='')))"
      ]
     },
     "metadata": {},
     "output_type": "display_data"
    },
    {
     "name": "stdout",
     "output_type": "stream",
     "text": [
      "\n",
      "\n"
     ]
    }
   ],
   "source": [
    "rep_list = []\n",
    "gini_list = []\n",
    "\n",
    "for s in notebook.tqdm(seed_changes):\n",
    "\n",
    "    # Identify all logs with the same world seed\n",
    "    seed_logs = file_df[file_df['seed'] == s].copy()\n",
    "    seed_fs = seed_logs['file'].values\n",
    "    \n",
    "    if len(seed_fs):\n",
    "\n",
    "        # Add all logs associated with the same world seed to dataframe\n",
    "        seed_list = [process_maplog(f) for f in seed_fs]\n",
    "        seed_df = pd.concat(seed_list).reset_index(drop=True)\n",
    "        seed_df['seed'] = s\n",
    "\n",
    "        # Identify discoveries by family\n",
    "        # = first time a family member interacts with an object, by world seed\n",
    "        seed_disc = id_discoveries(seed_df)\n",
    "        seed_n_disc = count_discoveries(seed_disc)\n",
    "        seed_n_disc['seed'] = s\n",
    "\n",
    "        # Depth and breadth of repertoire\n",
    "        seed_repertoire = seed_disc.groupby('family').agg({'object_id': 'count', 'depth': 'max'}).reset_index()\n",
    "        seed_repertoire = seed_repertoire.rename(columns={'object_id': 'breadth'})\n",
    "\n",
    "        # Innovation inequality\n",
    "        for name,group in notebook.tqdm(seed_n_disc.groupby('family')):    \n",
    "\n",
    "            g = plot_lorenz(group, name, s)\n",
    "            plot_dist(group, name, s)\n",
    "            gini_list.append((s, name, g))\n",
    "\n",
    "        # Add to lists\n",
    "        rep_list.append(seed_repertoire)"
   ]
  },
  {
   "cell_type": "markdown",
   "metadata": {},
   "source": [
    "Concat dataframes:"
   ]
  },
  {
   "cell_type": "code",
   "execution_count": 35,
   "metadata": {},
   "outputs": [
    {
     "data": {
      "text/html": [
       "<div>\n",
       "<style scoped>\n",
       "    .dataframe tbody tr th:only-of-type {\n",
       "        vertical-align: middle;\n",
       "    }\n",
       "\n",
       "    .dataframe tbody tr th {\n",
       "        vertical-align: top;\n",
       "    }\n",
       "\n",
       "    .dataframe thead th {\n",
       "        text-align: right;\n",
       "    }\n",
       "</style>\n",
       "<table border=\"1\" class=\"dataframe\">\n",
       "  <thead>\n",
       "    <tr style=\"text-align: right;\">\n",
       "      <th></th>\n",
       "      <th>family</th>\n",
       "      <th>breadth</th>\n",
       "      <th>depth</th>\n",
       "      <th>log_breadth</th>\n",
       "      <th>log_depth</th>\n",
       "    </tr>\n",
       "  </thead>\n",
       "  <tbody>\n",
       "    <tr>\n",
       "      <th>0</th>\n",
       "      <td>time-1573895755_eve-2276905_name-ZABICKI</td>\n",
       "      <td>312</td>\n",
       "      <td>1164</td>\n",
       "      <td>2.494155</td>\n",
       "      <td>3.065953</td>\n",
       "    </tr>\n",
       "    <tr>\n",
       "      <th>1</th>\n",
       "      <td>time-1573895904_eve-2276911_name-ROHRER</td>\n",
       "      <td>45</td>\n",
       "      <td>28</td>\n",
       "      <td>1.653213</td>\n",
       "      <td>1.447158</td>\n",
       "    </tr>\n",
       "    <tr>\n",
       "      <th>2</th>\n",
       "      <td>time-1573896101_eve-2276917_name-BADA</td>\n",
       "      <td>350</td>\n",
       "      <td>659</td>\n",
       "      <td>2.544068</td>\n",
       "      <td>2.818885</td>\n",
       "    </tr>\n",
       "    <tr>\n",
       "      <th>3</th>\n",
       "      <td>time-1573896134_eve-2276919_name-SARINA</td>\n",
       "      <td>477</td>\n",
       "      <td>1164</td>\n",
       "      <td>2.678518</td>\n",
       "      <td>3.065953</td>\n",
       "    </tr>\n",
       "    <tr>\n",
       "      <th>4</th>\n",
       "      <td>time-1573896495_eve-2276927_name-LISSADE</td>\n",
       "      <td>1033</td>\n",
       "      <td>1164</td>\n",
       "      <td>3.014100</td>\n",
       "      <td>3.065953</td>\n",
       "    </tr>\n",
       "  </tbody>\n",
       "</table>\n",
       "</div>"
      ],
      "text/plain": [
       "                                     family  breadth  depth  log_breadth  \\\n",
       "0  time-1573895755_eve-2276905_name-ZABICKI      312   1164     2.494155   \n",
       "1   time-1573895904_eve-2276911_name-ROHRER       45     28     1.653213   \n",
       "2     time-1573896101_eve-2276917_name-BADA      350    659     2.544068   \n",
       "3   time-1573896134_eve-2276919_name-SARINA      477   1164     2.678518   \n",
       "4  time-1573896495_eve-2276927_name-LISSADE     1033   1164     3.014100   \n",
       "\n",
       "   log_depth  \n",
       "0   3.065953  \n",
       "1   1.447158  \n",
       "2   2.818885  \n",
       "3   3.065953  \n",
       "4   3.065953  "
      ]
     },
     "execution_count": 35,
     "metadata": {},
     "output_type": "execute_result"
    }
   ],
   "source": [
    "rep_df = pd.concat(rep_list)\n",
    "rep_df['log_breadth'] = np.log10(rep_df['breadth'])\n",
    "rep_df['log_depth'] = np.log10(rep_df['depth'])\n",
    "rep_df.to_csv('outputs/family_repertoire.tsv', sep='\\t', index=False)\n",
    "rep_df.head()"
   ]
  },
  {
   "cell_type": "code",
   "execution_count": 47,
   "metadata": {},
   "outputs": [
    {
     "data": {
      "text/html": [
       "<div>\n",
       "<style scoped>\n",
       "    .dataframe tbody tr th:only-of-type {\n",
       "        vertical-align: middle;\n",
       "    }\n",
       "\n",
       "    .dataframe tbody tr th {\n",
       "        vertical-align: top;\n",
       "    }\n",
       "\n",
       "    .dataframe thead th {\n",
       "        text-align: right;\n",
       "    }\n",
       "</style>\n",
       "<table border=\"1\" class=\"dataframe\">\n",
       "  <thead>\n",
       "    <tr style=\"text-align: right;\">\n",
       "      <th></th>\n",
       "      <th>seed</th>\n",
       "      <th>family</th>\n",
       "      <th>gini</th>\n",
       "    </tr>\n",
       "  </thead>\n",
       "  <tbody>\n",
       "    <tr>\n",
       "      <th>0</th>\n",
       "      <td>1573895673</td>\n",
       "      <td>time-1573895755_eve-2276905_name-ZABICKI</td>\n",
       "      <td>0.732728</td>\n",
       "    </tr>\n",
       "    <tr>\n",
       "      <th>1</th>\n",
       "      <td>1573895673</td>\n",
       "      <td>time-1573895904_eve-2276911_name-ROHRER</td>\n",
       "      <td>0.506757</td>\n",
       "    </tr>\n",
       "    <tr>\n",
       "      <th>2</th>\n",
       "      <td>1573895673</td>\n",
       "      <td>time-1573896101_eve-2276917_name-BADA</td>\n",
       "      <td>0.775139</td>\n",
       "    </tr>\n",
       "    <tr>\n",
       "      <th>3</th>\n",
       "      <td>1573895673</td>\n",
       "      <td>time-1573896134_eve-2276919_name-SARINA</td>\n",
       "      <td>0.714194</td>\n",
       "    </tr>\n",
       "    <tr>\n",
       "      <th>4</th>\n",
       "      <td>1573895673</td>\n",
       "      <td>time-1573896495_eve-2276927_name-LISSADE</td>\n",
       "      <td>0.796686</td>\n",
       "    </tr>\n",
       "  </tbody>\n",
       "</table>\n",
       "</div>"
      ],
      "text/plain": [
       "         seed                                    family      gini\n",
       "0  1573895673  time-1573895755_eve-2276905_name-ZABICKI  0.732728\n",
       "1  1573895673   time-1573895904_eve-2276911_name-ROHRER  0.506757\n",
       "2  1573895673     time-1573896101_eve-2276917_name-BADA  0.775139\n",
       "3  1573895673   time-1573896134_eve-2276919_name-SARINA  0.714194\n",
       "4  1573895673  time-1573896495_eve-2276927_name-LISSADE  0.796686"
      ]
     },
     "execution_count": 47,
     "metadata": {},
     "output_type": "execute_result"
    }
   ],
   "source": [
    "gini_df = pd.DataFrame(gini_list, columns = ['seed', 'family', 'gini'])\n",
    "gini_df.to_csv('outputs/family_gini.tsv', sep='\\t', index=False)\n",
    "gini_df.head()"
   ]
  },
  {
   "cell_type": "markdown",
   "metadata": {},
   "source": [
    "Plot innovation inequality:"
   ]
  },
  {
   "cell_type": "code",
   "execution_count": 53,
   "metadata": {},
   "outputs": [
    {
     "data": {
      "image/png": "[encoded data removed]",
      "text/plain": [
       "<Figure size 432x288 with 1 Axes>"
      ]
     },
     "metadata": {},
     "output_type": "display_data"
    }
   ],
   "source": [
    "ax = sns.distplot(gini_df['gini'])\n",
    "ax.set(xlabel='Innovation inequality (G)', xlim=(0,1))\n",
    "sns.despine()"
   ]
  },
  {
   "cell_type": "markdown",
   "metadata": {},
   "source": [
    "Relationship between G and community size:"
   ]
  },
  {
   "cell_type": "code",
   "execution_count": 57,
   "metadata": {},
   "outputs": [
    {
     "data": {
      "text/html": [
       "<div>\n",
       "<style scoped>\n",
       "    .dataframe tbody tr th:only-of-type {\n",
       "        vertical-align: middle;\n",
       "    }\n",
       "\n",
       "    .dataframe tbody tr th {\n",
       "        vertical-align: top;\n",
       "    }\n",
       "\n",
       "    .dataframe thead th {\n",
       "        text-align: right;\n",
       "    }\n",
       "</style>\n",
       "<table border=\"1\" class=\"dataframe\">\n",
       "  <thead>\n",
       "    <tr style=\"text-align: right;\">\n",
       "      <th></th>\n",
       "      <th>family</th>\n",
       "      <th>sum</th>\n",
       "    </tr>\n",
       "  </thead>\n",
       "  <tbody>\n",
       "    <tr>\n",
       "      <th>0</th>\n",
       "      <td>time-1573261529_eve-2252167_name-VIERNES</td>\n",
       "      <td>1</td>\n",
       "    </tr>\n",
       "    <tr>\n",
       "      <th>1</th>\n",
       "      <td>time-1573261796_eve-2252178_name-BELAND</td>\n",
       "      <td>2</td>\n",
       "    </tr>\n",
       "    <tr>\n",
       "      <th>2</th>\n",
       "      <td>time-1573261810_eve-2252180_name-BRAND</td>\n",
       "      <td>4</td>\n",
       "    </tr>\n",
       "    <tr>\n",
       "      <th>3</th>\n",
       "      <td>time-1573261816_eve-2252182_name-GERMAN</td>\n",
       "      <td>4</td>\n",
       "    </tr>\n",
       "    <tr>\n",
       "      <th>4</th>\n",
       "      <td>time-1573261826_eve-2252186_name-LOLI</td>\n",
       "      <td>4</td>\n",
       "    </tr>\n",
       "  </tbody>\n",
       "</table>\n",
       "</div>"
      ],
      "text/plain": [
       "                                     family  sum\n",
       "0  time-1573261529_eve-2252167_name-VIERNES    1\n",
       "1   time-1573261796_eve-2252178_name-BELAND    2\n",
       "2    time-1573261810_eve-2252180_name-BRAND    4\n",
       "3   time-1573261816_eve-2252182_name-GERMAN    4\n",
       "4     time-1573261826_eve-2252186_name-LOLI    4"
      ]
     },
     "execution_count": 57,
     "metadata": {},
     "output_type": "execute_result"
    }
   ],
   "source": [
    "size_df = pd.read_csv('../2_demographics/outputs/family_fitness.tsv', sep='\\t', index_col=None)\n",
    "size_df = size_df[['family', 'sum']]\n",
    "size_df.head()"
   ]
  },
  {
   "cell_type": "code",
   "execution_count": 63,
   "metadata": {},
   "outputs": [
    {
     "data": {
      "text/html": [
       "<div>\n",
       "<style scoped>\n",
       "    .dataframe tbody tr th:only-of-type {\n",
       "        vertical-align: middle;\n",
       "    }\n",
       "\n",
       "    .dataframe tbody tr th {\n",
       "        vertical-align: top;\n",
       "    }\n",
       "\n",
       "    .dataframe thead th {\n",
       "        text-align: right;\n",
       "    }\n",
       "</style>\n",
       "<table border=\"1\" class=\"dataframe\">\n",
       "  <thead>\n",
       "    <tr style=\"text-align: right;\">\n",
       "      <th></th>\n",
       "      <th>seed</th>\n",
       "      <th>family</th>\n",
       "      <th>gini</th>\n",
       "      <th>sum</th>\n",
       "      <th>log_sum</th>\n",
       "    </tr>\n",
       "  </thead>\n",
       "  <tbody>\n",
       "    <tr>\n",
       "      <th>0</th>\n",
       "      <td>1.573896e+09</td>\n",
       "      <td>time-1573895755_eve-2276905_name-ZABICKI</td>\n",
       "      <td>0.732728</td>\n",
       "      <td>9.0</td>\n",
       "      <td>0.954243</td>\n",
       "    </tr>\n",
       "    <tr>\n",
       "      <th>1</th>\n",
       "      <td>1.573896e+09</td>\n",
       "      <td>time-1573895904_eve-2276911_name-ROHRER</td>\n",
       "      <td>0.506757</td>\n",
       "      <td>1.0</td>\n",
       "      <td>0.000000</td>\n",
       "    </tr>\n",
       "    <tr>\n",
       "      <th>2</th>\n",
       "      <td>1.573896e+09</td>\n",
       "      <td>time-1573896101_eve-2276917_name-BADA</td>\n",
       "      <td>0.775139</td>\n",
       "      <td>14.0</td>\n",
       "      <td>1.146128</td>\n",
       "    </tr>\n",
       "    <tr>\n",
       "      <th>3</th>\n",
       "      <td>1.573896e+09</td>\n",
       "      <td>time-1573896134_eve-2276919_name-SARINA</td>\n",
       "      <td>0.714194</td>\n",
       "      <td>33.0</td>\n",
       "      <td>1.518514</td>\n",
       "    </tr>\n",
       "    <tr>\n",
       "      <th>4</th>\n",
       "      <td>1.573896e+09</td>\n",
       "      <td>time-1573896495_eve-2276927_name-LISSADE</td>\n",
       "      <td>0.796686</td>\n",
       "      <td>250.0</td>\n",
       "      <td>2.397940</td>\n",
       "    </tr>\n",
       "  </tbody>\n",
       "</table>\n",
       "</div>"
      ],
      "text/plain": [
       "           seed                                    family      gini    sum  \\\n",
       "0  1.573896e+09  time-1573895755_eve-2276905_name-ZABICKI  0.732728    9.0   \n",
       "1  1.573896e+09   time-1573895904_eve-2276911_name-ROHRER  0.506757    1.0   \n",
       "2  1.573896e+09     time-1573896101_eve-2276917_name-BADA  0.775139   14.0   \n",
       "3  1.573896e+09   time-1573896134_eve-2276919_name-SARINA  0.714194   33.0   \n",
       "4  1.573896e+09  time-1573896495_eve-2276927_name-LISSADE  0.796686  250.0   \n",
       "\n",
       "    log_sum  \n",
       "0  0.954243  \n",
       "1  0.000000  \n",
       "2  1.146128  \n",
       "3  1.518514  \n",
       "4  2.397940  "
      ]
     },
     "execution_count": 63,
     "metadata": {},
     "output_type": "execute_result"
    }
   ],
   "source": [
    "g_size = pd.merge(gini_df, size_df, on='family', how='outer')\n",
    "g_size['log_sum'] = np.log10(g_size['sum'])\n",
    "g_size.head()"
   ]
  },
  {
   "cell_type": "code",
   "execution_count": 88,
   "metadata": {},
   "outputs": [
    {
     "data": {
      "image/png": "[encoded data removed]",
      "text/plain": [
       "<Figure size 432x432 with 1 Axes>"
      ]
     },
     "metadata": {},
     "output_type": "display_data"
    }
   ],
   "source": [
    "fig = plt.figure(figsize=(6,6))\n",
    "ax = sns.regplot(x='log_sum', y='gini', data=g_size, \n",
    "                 scatter_kws={'alpha': 0.05, 'color': '#A5C8E1'}, \n",
    "                 line_kws = {'color': '#2276B4'},\n",
    "                 lowess=True)\n",
    "xticks = ax.get_xticks()\n",
    "xticklabels = ['$10^{%i}$' % x for x in xticks]\n",
    "ax.set(xlabel = '# raised to adulthood', ylabel = 'Innovation inequality (G)', xticklabels=xticklabels)\n",
    "sns.despine()"
   ]
  },
  {
   "cell_type": "code",
   "execution_count": 102,
   "metadata": {},
   "outputs": [
    {
     "data": {
      "text/plain": [
       "[(-0.1810722464679781, 3.598325967563699),\n",
       " Text(14.625, 0.5, 'log$_{10}$(depth)'),\n",
       " (-0.1810722464679781, 3.598325967563699),\n",
       " Text(0.5, 22.49999999999995, 'log$_{10}$(breadth)')]"
      ]
     },
     "execution_count": 102,
     "metadata": {},
     "output_type": "execute_result"
    },
    {
     "data": {
      "image/png": "[encoded data removed]",
      "text/plain": [
       "<Figure size 432x432 with 3 Axes>"
      ]
     },
     "metadata": {},
     "output_type": "display_data"
    }
   ],
   "source": [
    "g = sns.jointplot(x='log_breadth',y='log_depth',data=rep_df, alpha=0.01)\n",
    "x0, x1 = g.ax_joint.get_xlim()\n",
    "y0, y1 = g.ax_joint.get_ylim()\n",
    "lims = [min(x0, y0), max(x1, y1)]\n",
    "g.ax_joint.plot(lims, lims, ':k')\n",
    "g.ax_joint.set(xlabel = 'log$_{10}$(breadth)', ylabel = 'log$_{10}$(depth)',\n",
    "               xlim = lims, ylim = lims)"
   ]
  },
  {
   "cell_type": "code",
   "execution_count": null,
   "metadata": {},
   "outputs": [],
   "source": []
  }
 ],
 "metadata": {
  "kernelspec": {
   "display_name": "Python 3",
   "language": "python",
   "name": "python3"
  },
  "language_info": {
   "codemirror_mode": {
    "name": "ipython",
    "version": 3
   },
   "file_extension": ".py",
   "mimetype": "text/x-python",
   "name": "python",
   "nbconvert_exporter": "python",
   "pygments_lexer": "ipython3",
   "version": "3.7.6"
  }
 },
 "nbformat": 4,
 "nbformat_minor": 4
}
