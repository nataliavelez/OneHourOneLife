{
 "cells": [
  {
   "cell_type": "markdown",
   "metadata": {},
   "source": [
    "# Detecting discoveries\n",
    "Natalia Vélez, July 2020"
   ]
  },
  {
   "cell_type": "code",
   "execution_count": 1,
   "metadata": {},
   "outputs": [],
   "source": [
    "%matplotlib inline\n",
    "\n",
    "import os, re, glob\n",
    "import pandas as pd\n",
    "import numpy as np\n",
    "from os.path import join as opj\n",
    "\n",
    "import scipy.stats\n",
    "from gini import gini\n",
    "from statsmodels.distributions.empirical_distribution import ECDF\n",
    "\n",
    "import matplotlib.pyplot as plt\n",
    "import seaborn as sns\n",
    "from tqdm import notebook\n",
    "\n",
    "sns.set_style(\"white\")\n",
    "sns.set_context(\"talk\")"
   ]
  },
  {
   "cell_type": "markdown",
   "metadata": {},
   "source": [
    "## Prepare data"
   ]
  },
  {
   "cell_type": "markdown",
   "metadata": {},
   "source": [
    "Helper: Extract timestamp from filenames"
   ]
  },
  {
   "cell_type": "code",
   "execution_count": 2,
   "metadata": {},
   "outputs": [],
   "source": [
    "def file_start(f):\n",
    "    t0 = re.search('((?<=start-)|(?<=time-))[0-9]+', f).group(0)\n",
    "    return int(t0)"
   ]
  },
  {
   "cell_type": "markdown",
   "metadata": {},
   "source": [
    "Family labels:"
   ]
  },
  {
   "cell_type": "code",
   "execution_count": 3,
   "metadata": {},
   "outputs": [
    {
     "name": "stderr",
     "output_type": "stream",
     "text": [
      "/Users/nvelez/opt/anaconda3/lib/python3.7/site-packages/numpy/lib/arraysetops.py:569: FutureWarning: elementwise comparison failed; returning scalar instead, but in the future will perform elementwise comparison\n",
      "  mask |= (ar1 == a)\n"
     ]
    },
    {
     "data": {
      "text/html": [
       "<div>\n",
       "<style scoped>\n",
       "    .dataframe tbody tr th:only-of-type {\n",
       "        vertical-align: middle;\n",
       "    }\n",
       "\n",
       "    .dataframe tbody tr th {\n",
       "        vertical-align: top;\n",
       "    }\n",
       "\n",
       "    .dataframe thead th {\n",
       "        text-align: right;\n",
       "    }\n",
       "</style>\n",
       "<table border=\"1\" class=\"dataframe\">\n",
       "  <thead>\n",
       "    <tr style=\"text-align: right;\">\n",
       "      <th></th>\n",
       "      <th>player_id</th>\n",
       "      <th>family</th>\n",
       "      <th>fam_start</th>\n",
       "    </tr>\n",
       "  </thead>\n",
       "  <tbody>\n",
       "    <tr>\n",
       "      <th>0</th>\n",
       "      <td>3080084</td>\n",
       "      <td>time-1592284232_eve-3080067_name-PICKLE</td>\n",
       "      <td>1592284232</td>\n",
       "    </tr>\n",
       "    <tr>\n",
       "      <th>1</th>\n",
       "      <td>3080114</td>\n",
       "      <td>time-1592284232_eve-3080067_name-PICKLE</td>\n",
       "      <td>1592284232</td>\n",
       "    </tr>\n",
       "    <tr>\n",
       "      <th>2</th>\n",
       "      <td>3080111</td>\n",
       "      <td>time-1592284232_eve-3080067_name-PICKLE</td>\n",
       "      <td>1592284232</td>\n",
       "    </tr>\n",
       "    <tr>\n",
       "      <th>3</th>\n",
       "      <td>3080108</td>\n",
       "      <td>time-1592284232_eve-3080067_name-PICKLE</td>\n",
       "      <td>1592284232</td>\n",
       "    </tr>\n",
       "    <tr>\n",
       "      <th>4</th>\n",
       "      <td>3080104</td>\n",
       "      <td>time-1592284232_eve-3080067_name-PICKLE</td>\n",
       "      <td>1592284232</td>\n",
       "    </tr>\n",
       "  </tbody>\n",
       "</table>\n",
       "</div>"
      ],
      "text/plain": [
       "   player_id                                   family   fam_start\n",
       "0    3080084  time-1592284232_eve-3080067_name-PICKLE  1592284232\n",
       "1    3080114  time-1592284232_eve-3080067_name-PICKLE  1592284232\n",
       "2    3080111  time-1592284232_eve-3080067_name-PICKLE  1592284232\n",
       "3    3080108  time-1592284232_eve-3080067_name-PICKLE  1592284232\n",
       "4    3080104  time-1592284232_eve-3080067_name-PICKLE  1592284232"
      ]
     },
     "execution_count": 3,
     "metadata": {},
     "output_type": "execute_result"
    }
   ],
   "source": [
    "fam_file = '../2_demographics/outputs/family_playerID.tsv'\n",
    "fam_df = pd.read_csv(fam_file, sep='\\t', index_col=0)\n",
    "fam_df = fam_df.rename(columns={'playerID':'player_id'})\n",
    "fam_df['fam_start'] = fam_df['family'].apply(file_start)\n",
    "fam_df.head()"
   ]
  },
  {
   "cell_type": "markdown",
   "metadata": {},
   "source": [
    "Family fitness:"
   ]
  },
  {
   "cell_type": "code",
   "execution_count": 4,
   "metadata": {},
   "outputs": [
    {
     "name": "stdout",
     "output_type": "stream",
     "text": [
      "Analyzing 3084 families\n"
     ]
    },
    {
     "data": {
      "text/html": [
       "<div>\n",
       "<style scoped>\n",
       "    .dataframe tbody tr th:only-of-type {\n",
       "        vertical-align: middle;\n",
       "    }\n",
       "\n",
       "    .dataframe tbody tr th {\n",
       "        vertical-align: top;\n",
       "    }\n",
       "\n",
       "    .dataframe thead th {\n",
       "        text-align: right;\n",
       "    }\n",
       "</style>\n",
       "<table border=\"1\" class=\"dataframe\">\n",
       "  <thead>\n",
       "    <tr style=\"text-align: right;\">\n",
       "      <th></th>\n",
       "      <th>family</th>\n",
       "      <th>sum</th>\n",
       "      <th>count</th>\n",
       "      <th>a</th>\n",
       "      <th>b</th>\n",
       "      <th>beta_mean</th>\n",
       "      <th>beta_var</th>\n",
       "      <th>snr</th>\n",
       "      <th>weighted_size</th>\n",
       "    </tr>\n",
       "  </thead>\n",
       "  <tbody>\n",
       "    <tr>\n",
       "      <th>0</th>\n",
       "      <td>time-1573261529_eve-2252167_name-VIERNES</td>\n",
       "      <td>1</td>\n",
       "      <td>2</td>\n",
       "      <td>4</td>\n",
       "      <td>4</td>\n",
       "      <td>0.500000</td>\n",
       "      <td>0.027778</td>\n",
       "      <td>18.000000</td>\n",
       "      <td>1.000000</td>\n",
       "    </tr>\n",
       "    <tr>\n",
       "      <th>1</th>\n",
       "      <td>time-1573261796_eve-2252178_name-BELAND</td>\n",
       "      <td>2</td>\n",
       "      <td>8</td>\n",
       "      <td>5</td>\n",
       "      <td>9</td>\n",
       "      <td>0.357143</td>\n",
       "      <td>0.015306</td>\n",
       "      <td>23.333333</td>\n",
       "      <td>2.857143</td>\n",
       "    </tr>\n",
       "    <tr>\n",
       "      <th>2</th>\n",
       "      <td>time-1573261810_eve-2252180_name-BRAND</td>\n",
       "      <td>4</td>\n",
       "      <td>11</td>\n",
       "      <td>7</td>\n",
       "      <td>10</td>\n",
       "      <td>0.411765</td>\n",
       "      <td>0.013456</td>\n",
       "      <td>30.600000</td>\n",
       "      <td>4.529412</td>\n",
       "    </tr>\n",
       "    <tr>\n",
       "      <th>3</th>\n",
       "      <td>time-1573261816_eve-2252182_name-GERMAN</td>\n",
       "      <td>4</td>\n",
       "      <td>13</td>\n",
       "      <td>7</td>\n",
       "      <td>12</td>\n",
       "      <td>0.368421</td>\n",
       "      <td>0.011634</td>\n",
       "      <td>31.666667</td>\n",
       "      <td>4.789474</td>\n",
       "    </tr>\n",
       "    <tr>\n",
       "      <th>4</th>\n",
       "      <td>time-1573261826_eve-2252186_name-LOLI</td>\n",
       "      <td>4</td>\n",
       "      <td>18</td>\n",
       "      <td>7</td>\n",
       "      <td>17</td>\n",
       "      <td>0.291667</td>\n",
       "      <td>0.008264</td>\n",
       "      <td>35.294118</td>\n",
       "      <td>5.250000</td>\n",
       "    </tr>\n",
       "  </tbody>\n",
       "</table>\n",
       "</div>"
      ],
      "text/plain": [
       "                                     family  sum  count  a   b  beta_mean  \\\n",
       "0  time-1573261529_eve-2252167_name-VIERNES    1      2  4   4   0.500000   \n",
       "1   time-1573261796_eve-2252178_name-BELAND    2      8  5   9   0.357143   \n",
       "2    time-1573261810_eve-2252180_name-BRAND    4     11  7  10   0.411765   \n",
       "3   time-1573261816_eve-2252182_name-GERMAN    4     13  7  12   0.368421   \n",
       "4     time-1573261826_eve-2252186_name-LOLI    4     18  7  17   0.291667   \n",
       "\n",
       "   beta_var        snr  weighted_size  \n",
       "0  0.027778  18.000000       1.000000  \n",
       "1  0.015306  23.333333       2.857143  \n",
       "2  0.013456  30.600000       4.529412  \n",
       "3  0.011634  31.666667       4.789474  \n",
       "4  0.008264  35.294118       5.250000  "
      ]
     },
     "execution_count": 4,
     "metadata": {},
     "output_type": "execute_result"
    }
   ],
   "source": [
    "fit_file = '../2_demographics/outputs/family_fitness.tsv'\n",
    "fit_df = pd.read_csv(fit_file, sep='\\t', index_col=None)\n",
    "print('Analyzing %i families' % fit_df.shape[0])\n",
    "fit_df.head()"
   ]
  },
  {
   "cell_type": "markdown",
   "metadata": {},
   "source": [
    "Object depth:"
   ]
  },
  {
   "cell_type": "code",
   "execution_count": 5,
   "metadata": {},
   "outputs": [
    {
     "data": {
      "text/html": [
       "<div>\n",
       "<style scoped>\n",
       "    .dataframe tbody tr th:only-of-type {\n",
       "        vertical-align: middle;\n",
       "    }\n",
       "\n",
       "    .dataframe tbody tr th {\n",
       "        vertical-align: top;\n",
       "    }\n",
       "\n",
       "    .dataframe thead th {\n",
       "        text-align: right;\n",
       "    }\n",
       "</style>\n",
       "<table border=\"1\" class=\"dataframe\">\n",
       "  <thead>\n",
       "    <tr style=\"text-align: right;\">\n",
       "      <th></th>\n",
       "      <th>object_id</th>\n",
       "      <th>depth</th>\n",
       "    </tr>\n",
       "  </thead>\n",
       "  <tbody>\n",
       "    <tr>\n",
       "      <th>0</th>\n",
       "      <td>11</td>\n",
       "      <td>0</td>\n",
       "    </tr>\n",
       "    <tr>\n",
       "      <th>1</th>\n",
       "      <td>19</td>\n",
       "      <td>0</td>\n",
       "    </tr>\n",
       "    <tr>\n",
       "      <th>2</th>\n",
       "      <td>30</td>\n",
       "      <td>0</td>\n",
       "    </tr>\n",
       "    <tr>\n",
       "      <th>3</th>\n",
       "      <td>31</td>\n",
       "      <td>1</td>\n",
       "    </tr>\n",
       "    <tr>\n",
       "      <th>4</th>\n",
       "      <td>32</td>\n",
       "      <td>0</td>\n",
       "    </tr>\n",
       "  </tbody>\n",
       "</table>\n",
       "</div>"
      ],
      "text/plain": [
       "   object_id  depth\n",
       "0         11      0\n",
       "1         19      0\n",
       "2         30      0\n",
       "3         31      1\n",
       "4         32      0"
      ]
     },
     "execution_count": 5,
     "metadata": {},
     "output_type": "execute_result"
    }
   ],
   "source": [
    "depth_file = '../../tech_tree/transition.csv'\n",
    "depth_df = pd.read_csv(depth_file)\n",
    "depth_df = depth_df.rename(columns={'id': 'object_id', 'num_ingredients': 'depth'})\n",
    "depth_df = depth_df[['object_id', 'depth']]\n",
    "depth_df.head()"
   ]
  },
  {
   "cell_type": "markdown",
   "metadata": {},
   "source": [
    "Find map change files:"
   ]
  },
  {
   "cell_type": "code",
   "execution_count": 6,
   "metadata": {},
   "outputs": [
    {
     "name": "stdout",
     "output_type": "stream",
     "text": [
      "Found 236 files\n",
      "outputs/maplog/maplog_release-284_start-1573895672.tsv\n",
      "outputs/maplog/maplog_release-284_start-1573982073.tsv\n",
      "outputs/maplog/maplog_release-284_start-1574068473.tsv\n",
      "outputs/maplog/maplog_release-285_start-1574102503.tsv\n",
      "outputs/maplog/maplog_release-287_start-1574151678.tsv\n",
      "outputs/maplog/maplog_release-287_start-1574238079.tsv\n",
      "outputs/maplog/maplog_release-287_start-1574324479.tsv\n",
      "outputs/maplog/maplog_release-287_start-1574410879.tsv\n",
      "outputs/maplog/maplog_release-287_start-1574497279.tsv\n",
      "outputs/maplog/maplog_release-289_start-1574552311.tsv\n"
     ]
    }
   ],
   "source": [
    "gsearch = lambda *args: glob.glob(opj(*args))\n",
    "map_dir = 'outputs/maplog/'\n",
    "\n",
    "map_files = gsearch(map_dir, '*.tsv')\n",
    "map_files.sort()\n",
    "\n",
    "print('Found %i files' % len(map_files))\n",
    "print(*map_files[:10], sep='\\n')"
   ]
  },
  {
   "cell_type": "markdown",
   "metadata": {},
   "source": [
    "Find map seed changes:"
   ]
  },
  {
   "cell_type": "code",
   "execution_count": 7,
   "metadata": {},
   "outputs": [
    {
     "name": "stdout",
     "output_type": "stream",
     "text": [
      "[1573895673 1574102503 1576038671 1578345720 1578354747 1579713519\n",
      " 1580144896 1581985139 1583642903 1584061484 1585440511 1585512770\n",
      " 1585603481 1587166656]\n"
     ]
    }
   ],
   "source": [
    "seed_file = 'outputs/seed_changes.txt'\n",
    "with open(seed_file, 'r') as handle:\n",
    "    seed_data = handle.read().splitlines()\n",
    "\n",
    "seed_changes = np.array([int(s) for s in seed_data])\n",
    "seed_changes = np.sort(seed_changes)\n",
    "\n",
    "print(seed_changes)"
   ]
  },
  {
   "cell_type": "markdown",
   "metadata": {},
   "source": [
    "Find seed file corresponding to timestamp:"
   ]
  },
  {
   "cell_type": "code",
   "execution_count": 8,
   "metadata": {},
   "outputs": [],
   "source": [
    "def find_seed(tstamp):\n",
    "    \n",
    "    lag = tstamp - seed_changes\n",
    "    seeds = seed_changes[lag >= 0]\n",
    "    if len(seeds):\n",
    "        seed = seeds[-1]\n",
    "    else: # Special: First log file\n",
    "        seed = seed_changes[0]\n",
    "            \n",
    "    return seed"
   ]
  },
  {
   "cell_type": "markdown",
   "metadata": {},
   "source": [
    "Group mapchange files by world seed:"
   ]
  },
  {
   "cell_type": "code",
   "execution_count": 9,
   "metadata": {},
   "outputs": [
    {
     "data": {
      "text/html": [
       "<div>\n",
       "<style scoped>\n",
       "    .dataframe tbody tr th:only-of-type {\n",
       "        vertical-align: middle;\n",
       "    }\n",
       "\n",
       "    .dataframe tbody tr th {\n",
       "        vertical-align: top;\n",
       "    }\n",
       "\n",
       "    .dataframe thead th {\n",
       "        text-align: right;\n",
       "    }\n",
       "</style>\n",
       "<table border=\"1\" class=\"dataframe\">\n",
       "  <thead>\n",
       "    <tr style=\"text-align: right;\">\n",
       "      <th></th>\n",
       "      <th>file</th>\n",
       "      <th>tstamp</th>\n",
       "      <th>seed</th>\n",
       "      <th>seed_start</th>\n",
       "    </tr>\n",
       "  </thead>\n",
       "  <tbody>\n",
       "    <tr>\n",
       "      <th>0</th>\n",
       "      <td>outputs/maplog/maplog_release-284_start-157389...</td>\n",
       "      <td>1573895672</td>\n",
       "      <td>1573895673</td>\n",
       "      <td>1573895672</td>\n",
       "    </tr>\n",
       "    <tr>\n",
       "      <th>1</th>\n",
       "      <td>outputs/maplog/maplog_release-284_start-157398...</td>\n",
       "      <td>1573982073</td>\n",
       "      <td>1573895673</td>\n",
       "      <td>1573895672</td>\n",
       "    </tr>\n",
       "    <tr>\n",
       "      <th>2</th>\n",
       "      <td>outputs/maplog/maplog_release-284_start-157406...</td>\n",
       "      <td>1574068473</td>\n",
       "      <td>1573895673</td>\n",
       "      <td>1573895672</td>\n",
       "    </tr>\n",
       "    <tr>\n",
       "      <th>3</th>\n",
       "      <td>outputs/maplog/maplog_release-285_start-157410...</td>\n",
       "      <td>1574102503</td>\n",
       "      <td>1574102503</td>\n",
       "      <td>1574102503</td>\n",
       "    </tr>\n",
       "    <tr>\n",
       "      <th>4</th>\n",
       "      <td>outputs/maplog/maplog_release-287_start-157415...</td>\n",
       "      <td>1574151678</td>\n",
       "      <td>1574102503</td>\n",
       "      <td>1574102503</td>\n",
       "    </tr>\n",
       "  </tbody>\n",
       "</table>\n",
       "</div>"
      ],
      "text/plain": [
       "                                                file      tstamp        seed  \\\n",
       "0  outputs/maplog/maplog_release-284_start-157389...  1573895672  1573895673   \n",
       "1  outputs/maplog/maplog_release-284_start-157398...  1573982073  1573895673   \n",
       "2  outputs/maplog/maplog_release-284_start-157406...  1574068473  1573895673   \n",
       "3  outputs/maplog/maplog_release-285_start-157410...  1574102503  1574102503   \n",
       "4  outputs/maplog/maplog_release-287_start-157415...  1574151678  1574102503   \n",
       "\n",
       "   seed_start  \n",
       "0  1573895672  \n",
       "1  1573895672  \n",
       "2  1573895672  \n",
       "3  1574102503  \n",
       "4  1574102503  "
      ]
     },
     "execution_count": 9,
     "metadata": {},
     "output_type": "execute_result"
    }
   ],
   "source": [
    "file_df = pd.DataFrame(map_files, columns=['file'])\n",
    "file_df['tstamp'] = file_df.file.str.extract('(?<=start-)([0-9]+)')\n",
    "file_df['tstamp'] = file_df['tstamp'].astype(np.int)\n",
    "file_df['seed'] = file_df.tstamp.apply(find_seed)\n",
    "file_df = file_df.sort_values('tstamp')\n",
    "file_df['seed_start'] = file_df.groupby('seed')['tstamp'].transform('min')\n",
    "\n",
    "file_df.head()"
   ]
  },
  {
   "cell_type": "markdown",
   "metadata": {},
   "source": [
    "## Identify discoveries"
   ]
  },
  {
   "cell_type": "markdown",
   "metadata": {},
   "source": [
    "Helper function: Clean up individual map change files"
   ]
  },
  {
   "cell_type": "code",
   "execution_count": null,
   "metadata": {},
   "outputs": [],
   "source": [
    "def process_maplog(f):\n",
    "    s_df = pd.read_csv(f, sep='\\t', index_col=None)\n",
    "    \n",
    "    # Fix timestamps to start of world seed\n",
    "    t_log = file_start(f)\n",
    "    s_df['t_epoch'] = s_df['t_elapsed'] + t_log\n",
    "\n",
    "    # Player events only\n",
    "    s_df = s_df[s_df['player_id'] > 0]\n",
    "\n",
    "    # Parse object IDs, removing special identifiers\n",
    "    s_df['object_id'] = s_df.object_id.str.replace('(^f|v[0-9]+|u[0-9]+)', '')\n",
    "    s_df['object_id'] = s_df['object_id'].astype(np.int)\n",
    "\n",
    "    # Only interactions with valid objects\n",
    "    s_df = s_df[(s_df['object_id'] > 0) & (s_df['object_id'] < 5000)]\n",
    "\n",
    "    # Tag players by family\n",
    "    s_df = pd.merge(s_df, fam_df, on='player_id')\n",
    "    s_df['t_fam'] = s_df['t_epoch'] - s_df['fam_start'] # t=0 at Eve birth\n",
    "\n",
    "    return s_df"
   ]
  },
  {
   "cell_type": "markdown",
   "metadata": {},
   "source": [
    "Identify discoveries"
   ]
  },
  {
   "cell_type": "code",
   "execution_count": null,
   "metadata": {},
   "outputs": [],
   "source": [
    "def id_discoveries(maplog):\n",
    "\n",
    "    # Prepare dataframe\n",
    "    discoveries = maplog.copy()\n",
    "    discoveries = discoveries[['seed','t_fam','family', 'object_id', 'x', 'y', 'player_id']]\n",
    "    discoveries = discoveries.sort_values('t_fam')\n",
    "\n",
    "    # Find the first time an object appears in family's repertoire\n",
    "    discoveries = discoveries.groupby(['seed', 'family', 'object_id']).first()\n",
    "    discoveries = discoveries.reset_index()\n",
    "    discoveries = pd.merge(discoveries, depth_df)\n",
    "    discoveries = discoveries.sort_values(['family', 't_fam'])\n",
    "\n",
    "    return discoveries"
   ]
  },
  {
   "cell_type": "markdown",
   "metadata": {},
   "source": [
    "Count # of discoveries per player:"
   ]
  },
  {
   "cell_type": "code",
   "execution_count": null,
   "metadata": {},
   "outputs": [],
   "source": [
    "def count_discoveries(discoveries):\n",
    "    # Return a count of # discoveries for each family member\n",
    "    n_discoveries = discoveries.groupby(['family','player_id'])['object_id']\n",
    "    n_discoveries = n_discoveries.agg('count').reset_index()\n",
    "    n_discoveries = n_discoveries.rename(columns={'object_id': 'n'})\n",
    "\n",
    "    # Fill in missing family members (no discoveries)\n",
    "    log_fams = np.unique(discoveries['family'])\n",
    "    all_fam = fam_df.copy()\n",
    "    all_fam = all_fam[['family', 'player_id']]\n",
    "    all_fam = all_fam[all_fam['family'].isin(log_fams)].reset_index(drop=True)\n",
    "\n",
    "    # Total number of discoveries\n",
    "    n_discoveries_full = pd.merge(all_fam, n_discoveries, how='outer')\n",
    "    n_discoveries_full['n'] = n_discoveries_full['n'].fillna(0).astype(int)\n",
    "    n_discoveries_full = n_discoveries_full.sort_values(['family', 'n'], ascending=True)\n",
    "    \n",
    "    # Family totals\n",
    "    fam_totals = n_discoveries_full.groupby('family')['n'].agg(['sum', 'count']).reset_index()\n",
    "    n_discoveries_full = pd.merge(n_discoveries_full, fam_totals, on='family', how='outer')\n",
    "    \n",
    "    # Cumulative players and discoveries\n",
    "    n_discoveries_full['cum_players'] = n_discoveries_full.groupby('family')['n'].cumcount()\n",
    "    n_discoveries_full['cum_players'] = n_discoveries_full['cum_players']/n_discoveries_full['count']\n",
    "    \n",
    "    n_discoveries_full['cum_discoveries'] = n_discoveries_full.groupby('family')['n'].cumsum()\n",
    "    n_discoveries_full['cum_discoveries'] = n_discoveries_full['cum_discoveries']/n_discoveries_full['sum']\n",
    "    \n",
    "    return n_discoveries_full"
   ]
  },
  {
   "cell_type": "markdown",
   "metadata": {},
   "source": [
    "Plot Lorenz curves (used to visualize innovation inequality):"
   ]
  },
  {
   "cell_type": "code",
   "execution_count": null,
   "metadata": {},
   "outputs": [],
   "source": [
    "# Plot Lorenz curve\n",
    "def plot_lorenz(df, name):\n",
    "    highlight_col = '#ffad3b'\n",
    "    fig, ax = plt.subplots(figsize=(6,6))\n",
    "\n",
    "    # Cumulative distribution\n",
    "    sns.lineplot(data = df, x = 'cum_players', y = 'cum_discoveries', color = highlight_col, ax=ax)\n",
    "\n",
    "    # Fill in area over Lorenz curve\n",
    "    ax.fill_between(df['cum_players'], df['cum_discoveries'], df['cum_players'],\n",
    "                   color = highlight_col)\n",
    "\n",
    "    # Write Gini coefficient on plot\n",
    "    g = gini(df['cum_discoveries'].values)\n",
    "    ax.text(0.75, 0.05, 'G = %.2f' % g, \n",
    "            bbox = {'facecolor': '#ffffff', 'edgecolor': highlight_col})\n",
    "\n",
    "    # Line of equality\n",
    "    ax.plot([0, 1], [0, 1], transform=ax.transAxes, linestyle='-', color='black', linewidth = 1) \n",
    "\n",
    "    ## Customize\n",
    "    ax.yaxis.tick_right() # Move axes to the right\n",
    "    ax.tick_params(axis = \"y\", which = \"both\", right = False)\n",
    "\n",
    "    ax.yaxis.set_label_position(\"right\")\n",
    "    ax.spines[\"top\"].set_visible(False)\n",
    "    ax.spines[\"left\"].set_visible(False)\n",
    "\n",
    "    ax.set(xlim = [0,1], ylim= [0,1], aspect = 1.0,\n",
    "           xlabel='Cumulative share of characters\\n(Fewest to most discoveries)',\n",
    "           ylabel='Cumulative share of discoveries')\n",
    "\n",
    "    #  Save to file\n",
    "    plt.savefig(plot_file % ('lorenz', name), bbox_inches = 'tight')\n",
    "    plt.close()\n",
    "    \n",
    "    return g"
   ]
  },
  {
   "cell_type": "markdown",
   "metadata": {},
   "source": [
    "Main loop:"
   ]
  },
  {
   "cell_type": "code",
   "execution_count": null,
   "metadata": {},
   "outputs": [],
   "source": [
    "discovery_list = []\n",
    "n_discovery_list = []\n",
    "\n",
    "#for s in notebook.tqdm(seed_changes):\n",
    "s = seed_changes[0]\n",
    "\n",
    "# Identify all logs with the same world seed\n",
    "seed_logs = file_df[file_df['seed'] == s].copy()\n",
    "seed_fs = seed_logs['file'].values\n",
    "\n",
    "# Add all logs associated with the same world seed to dataframe\n",
    "seed_list = [process_maplog(f) for f in seed_fs]\n",
    "seed_df = pd.concat(seed_list).reset_index(drop=True)\n",
    "seed_df['seed'] = s\n",
    "\n",
    "# Identify discoveries by family\n",
    "# = first time a family member interacts with an object, by world seed\n",
    "seed_disc = id_discoveries(seed_df)\n",
    "seed_n_disc = count_discoveries(seed_disc)\n",
    "seed_n_disc['seed'] = s\n",
    "\n",
    "# Depth and breadth of repertoire\n",
    "seed_repertoire = seed_disc.groupby('family').agg({'object_id': 'count', 'depth': 'max'}).reset_index()\n",
    "seed_repertoire = seed_repertoire.rename(columns={'object_id': 'breadth'})\n",
    "\n",
    "# Innovation inequality\n",
    "#g = plot.lorenz(seed_disc)"
   ]
  },
  {
   "cell_type": "code",
   "execution_count": null,
   "metadata": {},
   "outputs": [],
   "source": [
    "seed_n_disc = count_discoveries(seed_disc)\n"
   ]
  },
  {
   "cell_type": "code",
   "execution_count": null,
   "metadata": {},
   "outputs": [],
   "source": [
    "ax = sns.jointplot(x='breadth', y='depth', data=seed_repertoire)\n",
    "#ax.set_xlim(left=0)\n",
    "#gax.set(xlabel='Repertoire size')\n",
    "sns.despine()"
   ]
  },
  {
   "cell_type": "code",
   "execution_count": null,
   "metadata": {},
   "outputs": [],
   "source": []
  }
 ],
 "metadata": {
  "kernelspec": {
   "display_name": "Python 3",
   "language": "python",
   "name": "python3"
  },
  "language_info": {
   "codemirror_mode": {
    "name": "ipython",
    "version": 3
   },
   "file_extension": ".py",
   "mimetype": "text/x-python",
   "name": "python",
   "nbconvert_exporter": "python",
   "pygments_lexer": "ipython3",
   "version": "3.7.6"
  }
 },
 "nbformat": 4,
 "nbformat_minor": 4
}
