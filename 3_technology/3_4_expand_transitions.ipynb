{
 "cells": [
  {
   "cell_type": "markdown",
   "id": "c3be4715",
   "metadata": {},
   "source": [
    "# Expand transitions\n",
    "Natalia Velez, April 2021\n",
    "\n",
    "In this file, we:\n",
    "   1. Parse the transition files\n",
    "   2. Expand category transitions into transitions between individual objects, with a separate workflow for pattern transitions\n",
    "   3. Upload expanded transitions to database"
   ]
  },
  {
   "cell_type": "code",
   "execution_count": 1,
   "id": "44eb7403",
   "metadata": {},
   "outputs": [],
   "source": [
    "import os, re, glob, json\n",
    "from os.path import join as opj\n",
    "import numpy as np\n",
    "import pandas as pd\n",
    "import json\n",
    "import networkx as nx \n",
    "import pymongo\n",
    "import pprint\n",
    "from tqdm import notebook\n",
    "from itertools import cycle\n",
    "\n",
    "# Embed html-formatted text\n",
    "# (Used to do QA on transitions)\n",
    "from IPython.core.display import display, HTML\n",
    "def embed(s): return display(HTML(s))"
   ]
  },
  {
   "cell_type": "markdown",
   "id": "71425206",
   "metadata": {},
   "source": [
    "## Load data from database"
   ]
  },
  {
   "cell_type": "markdown",
   "id": "f61c7a07",
   "metadata": {},
   "source": [
    "Connect:"
   ]
  },
  {
   "cell_type": "code",
   "execution_count": 2,
   "id": "d834c7f5",
   "metadata": {},
   "outputs": [
    {
     "name": "stdout",
     "output_type": "stream",
     "text": [
      "MongoClient(host=['134.76.24.75:27017'], document_class=dict, tz_aware=False, connect=True, authsource='ohol')\n",
      "Database(MongoClient(host=['134.76.24.75:27017'], document_class=dict, tz_aware=False, connect=True, authsource='ohol'), 'ohol')\n"
     ]
    }
   ],
   "source": [
    "keyfile = '../6_database/credentials.key'\n",
    "\n",
    "#Connection string\n",
    "creds = open(keyfile, \"r\").read().splitlines()\n",
    "myclient = pymongo.MongoClient('134.76.24.75', username=creds[0], password=creds[1], authSource='ohol') \n",
    "print(myclient)\n",
    "\n",
    "ohol = myclient.ohol\n",
    "print(ohol)"
   ]
  },
  {
   "cell_type": "markdown",
   "id": "02cd4f73",
   "metadata": {},
   "source": [
    "Load objects:"
   ]
  },
  {
   "cell_type": "code",
   "execution_count": 3,
   "id": "2af6c589",
   "metadata": {},
   "outputs": [
    {
     "name": "stdout",
     "output_type": "stream",
     "text": [
      "Loading 4161 objects\n"
     ]
    },
    {
     "data": {
      "text/html": [
       "<div>\n",
       "<style scoped>\n",
       "    .dataframe tbody tr th:only-of-type {\n",
       "        vertical-align: middle;\n",
       "    }\n",
       "\n",
       "    .dataframe tbody tr th {\n",
       "        vertical-align: top;\n",
       "    }\n",
       "\n",
       "    .dataframe thead th {\n",
       "        text-align: right;\n",
       "    }\n",
       "</style>\n",
       "<table border=\"1\" class=\"dataframe\">\n",
       "  <thead>\n",
       "    <tr style=\"text-align: right;\">\n",
       "      <th></th>\n",
       "      <th>_id</th>\n",
       "      <th>id</th>\n",
       "      <th>name</th>\n",
       "      <th>containable</th>\n",
       "      <th>containSize</th>\n",
       "      <th>vertSlotRot</th>\n",
       "      <th>permanent</th>\n",
       "      <th>minPickupAge</th>\n",
       "      <th>heldInHand</th>\n",
       "      <th>blocksWalking</th>\n",
       "      <th>...</th>\n",
       "      <th>floorHugging</th>\n",
       "      <th>slotsLocked</th>\n",
       "      <th>noFlip</th>\n",
       "      <th>sideAccess</th>\n",
       "      <th>creationSoundForce</th>\n",
       "      <th>invisCont</th>\n",
       "      <th>slotPos</th>\n",
       "      <th>vert</th>\n",
       "      <th>spritesDrawnBehind</th>\n",
       "      <th>spritesAdditiveBlend</th>\n",
       "    </tr>\n",
       "  </thead>\n",
       "  <tbody>\n",
       "    <tr>\n",
       "      <th>0</th>\n",
       "      <td>60750c9e68dcd62afd70767e</td>\n",
       "      <td>11</td>\n",
       "      <td>Skin Tone A &amp;B &amp;C &amp;D &amp;E &amp;F</td>\n",
       "      <td>0</td>\n",
       "      <td>1.0</td>\n",
       "      <td>0.0</td>\n",
       "      <td>0</td>\n",
       "      <td>3</td>\n",
       "      <td>0</td>\n",
       "      <td>0</td>\n",
       "      <td>...</td>\n",
       "      <td>NaN</td>\n",
       "      <td>NaN</td>\n",
       "      <td>NaN</td>\n",
       "      <td>NaN</td>\n",
       "      <td>NaN</td>\n",
       "      <td>NaN</td>\n",
       "      <td>NaN</td>\n",
       "      <td>NaN</td>\n",
       "      <td>NaN</td>\n",
       "      <td>NaN</td>\n",
       "    </tr>\n",
       "    <tr>\n",
       "      <th>1</th>\n",
       "      <td>60750c9e68dcd62afd70767f</td>\n",
       "      <td>19</td>\n",
       "      <td>Female001 D</td>\n",
       "      <td>0</td>\n",
       "      <td>1.0</td>\n",
       "      <td>0.0</td>\n",
       "      <td>0</td>\n",
       "      <td>3</td>\n",
       "      <td>0</td>\n",
       "      <td>0</td>\n",
       "      <td>...</td>\n",
       "      <td>0.0</td>\n",
       "      <td>NaN</td>\n",
       "      <td>NaN</td>\n",
       "      <td>NaN</td>\n",
       "      <td>NaN</td>\n",
       "      <td>NaN</td>\n",
       "      <td>NaN</td>\n",
       "      <td>NaN</td>\n",
       "      <td>NaN</td>\n",
       "      <td>NaN</td>\n",
       "    </tr>\n",
       "    <tr>\n",
       "      <th>2</th>\n",
       "      <td>60750c9e68dcd62afd707680</td>\n",
       "      <td>30</td>\n",
       "      <td>Wild Gooseberry Bush</td>\n",
       "      <td>0</td>\n",
       "      <td>1.0</td>\n",
       "      <td>0.0</td>\n",
       "      <td>1</td>\n",
       "      <td>3</td>\n",
       "      <td>0</td>\n",
       "      <td>0</td>\n",
       "      <td>...</td>\n",
       "      <td>0.0</td>\n",
       "      <td>NaN</td>\n",
       "      <td>NaN</td>\n",
       "      <td>NaN</td>\n",
       "      <td>NaN</td>\n",
       "      <td>NaN</td>\n",
       "      <td>NaN</td>\n",
       "      <td>NaN</td>\n",
       "      <td>NaN</td>\n",
       "      <td>NaN</td>\n",
       "    </tr>\n",
       "    <tr>\n",
       "      <th>3</th>\n",
       "      <td>60750c9e68dcd62afd707681</td>\n",
       "      <td>31</td>\n",
       "      <td>Gooseberry</td>\n",
       "      <td>1</td>\n",
       "      <td>1.0</td>\n",
       "      <td>0.0</td>\n",
       "      <td>0</td>\n",
       "      <td>3</td>\n",
       "      <td>1</td>\n",
       "      <td>0</td>\n",
       "      <td>...</td>\n",
       "      <td>0.0</td>\n",
       "      <td>0.0</td>\n",
       "      <td>NaN</td>\n",
       "      <td>NaN</td>\n",
       "      <td>NaN</td>\n",
       "      <td>NaN</td>\n",
       "      <td>NaN</td>\n",
       "      <td>NaN</td>\n",
       "      <td>NaN</td>\n",
       "      <td>NaN</td>\n",
       "    </tr>\n",
       "    <tr>\n",
       "      <th>4</th>\n",
       "      <td>60750c9e68dcd62afd707682</td>\n",
       "      <td>32</td>\n",
       "      <td>Big Hard Rock</td>\n",
       "      <td>0</td>\n",
       "      <td>1.0</td>\n",
       "      <td>0.0</td>\n",
       "      <td>1</td>\n",
       "      <td>3</td>\n",
       "      <td>0</td>\n",
       "      <td>0</td>\n",
       "      <td>...</td>\n",
       "      <td>0.0</td>\n",
       "      <td>NaN</td>\n",
       "      <td>NaN</td>\n",
       "      <td>NaN</td>\n",
       "      <td>NaN</td>\n",
       "      <td>NaN</td>\n",
       "      <td>NaN</td>\n",
       "      <td>NaN</td>\n",
       "      <td>NaN</td>\n",
       "      <td>NaN</td>\n",
       "    </tr>\n",
       "  </tbody>\n",
       "</table>\n",
       "<p>5 rows × 63 columns</p>\n",
       "</div>"
      ],
      "text/plain": [
       "                        _id  id                        name  containable  \\\n",
       "0  60750c9e68dcd62afd70767e  11  Skin Tone A &B &C &D &E &F            0   \n",
       "1  60750c9e68dcd62afd70767f  19                 Female001 D            0   \n",
       "2  60750c9e68dcd62afd707680  30        Wild Gooseberry Bush            0   \n",
       "3  60750c9e68dcd62afd707681  31                  Gooseberry            1   \n",
       "4  60750c9e68dcd62afd707682  32               Big Hard Rock            0   \n",
       "\n",
       "   containSize  vertSlotRot  permanent  minPickupAge  heldInHand  \\\n",
       "0          1.0          0.0          0             3           0   \n",
       "1          1.0          0.0          0             3           0   \n",
       "2          1.0          0.0          1             3           0   \n",
       "3          1.0          0.0          0             3           1   \n",
       "4          1.0          0.0          1             3           0   \n",
       "\n",
       "   blocksWalking  ...  floorHugging  slotsLocked  noFlip  sideAccess  \\\n",
       "0              0  ...           NaN          NaN     NaN         NaN   \n",
       "1              0  ...           0.0          NaN     NaN         NaN   \n",
       "2              0  ...           0.0          NaN     NaN         NaN   \n",
       "3              0  ...           0.0          0.0     NaN         NaN   \n",
       "4              0  ...           0.0          NaN     NaN         NaN   \n",
       "\n",
       "   creationSoundForce  invisCont  slotPos  vert  spritesDrawnBehind  \\\n",
       "0                 NaN        NaN      NaN   NaN                 NaN   \n",
       "1                 NaN        NaN      NaN   NaN                 NaN   \n",
       "2                 NaN        NaN      NaN   NaN                 NaN   \n",
       "3                 NaN        NaN      NaN   NaN                 NaN   \n",
       "4                 NaN        NaN      NaN   NaN                 NaN   \n",
       "\n",
       "   spritesAdditiveBlend  \n",
       "0                   NaN  \n",
       "1                   NaN  \n",
       "2                   NaN  \n",
       "3                   NaN  \n",
       "4                   NaN  \n",
       "\n",
       "[5 rows x 63 columns]"
      ]
     },
     "execution_count": 3,
     "metadata": {},
     "output_type": "execute_result"
    }
   ],
   "source": [
    "objects = list(ohol.objects.find())\n",
    "objects = pd.DataFrame(objects)\n",
    "\n",
    "print('Loading %i objects' % objects.shape[0])\n",
    "objects.head()"
   ]
  },
  {
   "cell_type": "markdown",
   "id": "6dc859ae",
   "metadata": {},
   "source": [
    "Load categories:"
   ]
  },
  {
   "cell_type": "code",
   "execution_count": 4,
   "id": "804ea079",
   "metadata": {},
   "outputs": [
    {
     "name": "stdout",
     "output_type": "stream",
     "text": [
      "Loading 269 categories\n"
     ]
    },
    {
     "data": {
      "text/html": [
       "<div>\n",
       "<style scoped>\n",
       "    .dataframe tbody tr th:only-of-type {\n",
       "        vertical-align: middle;\n",
       "    }\n",
       "\n",
       "    .dataframe tbody tr th {\n",
       "        vertical-align: top;\n",
       "    }\n",
       "\n",
       "    .dataframe thead th {\n",
       "        text-align: right;\n",
       "    }\n",
       "</style>\n",
       "<table border=\"1\" class=\"dataframe\">\n",
       "  <thead>\n",
       "    <tr style=\"text-align: right;\">\n",
       "      <th></th>\n",
       "      <th>_id</th>\n",
       "      <th>parentID</th>\n",
       "      <th>numObjects</th>\n",
       "      <th>probabilistic</th>\n",
       "      <th>pattern</th>\n",
       "      <th>children</th>\n",
       "      <th>probs</th>\n",
       "    </tr>\n",
       "  </thead>\n",
       "  <tbody>\n",
       "    <tr>\n",
       "      <th>0</th>\n",
       "      <td>60750cbd68dcd62afd7086bf</td>\n",
       "      <td>316</td>\n",
       "      <td>3</td>\n",
       "      <td>False</td>\n",
       "      <td>True</td>\n",
       "      <td>[2505, 2517, 3002]</td>\n",
       "      <td>None</td>\n",
       "    </tr>\n",
       "    <tr>\n",
       "      <th>1</th>\n",
       "      <td>60750cbd68dcd62afd7086c0</td>\n",
       "      <td>319</td>\n",
       "      <td>3</td>\n",
       "      <td>False</td>\n",
       "      <td>True</td>\n",
       "      <td>[2506, 2522, 3003]</td>\n",
       "      <td>None</td>\n",
       "    </tr>\n",
       "    <tr>\n",
       "      <th>2</th>\n",
       "      <td>60750cbd68dcd62afd7086c1</td>\n",
       "      <td>320</td>\n",
       "      <td>3</td>\n",
       "      <td>False</td>\n",
       "      <td>True</td>\n",
       "      <td>[2510, 2520, 3004]</td>\n",
       "      <td>None</td>\n",
       "    </tr>\n",
       "    <tr>\n",
       "      <th>3</th>\n",
       "      <td>60750cbd68dcd62afd7086c2</td>\n",
       "      <td>321</td>\n",
       "      <td>3</td>\n",
       "      <td>False</td>\n",
       "      <td>True</td>\n",
       "      <td>[2507, 2524, 3007]</td>\n",
       "      <td>None</td>\n",
       "    </tr>\n",
       "    <tr>\n",
       "      <th>4</th>\n",
       "      <td>60750cbd68dcd62afd7086c3</td>\n",
       "      <td>322</td>\n",
       "      <td>3</td>\n",
       "      <td>False</td>\n",
       "      <td>True</td>\n",
       "      <td>[2508, 2523, 3008]</td>\n",
       "      <td>None</td>\n",
       "    </tr>\n",
       "  </tbody>\n",
       "</table>\n",
       "</div>"
      ],
      "text/plain": [
       "                        _id  parentID  numObjects  probabilistic  pattern  \\\n",
       "0  60750cbd68dcd62afd7086bf       316           3          False     True   \n",
       "1  60750cbd68dcd62afd7086c0       319           3          False     True   \n",
       "2  60750cbd68dcd62afd7086c1       320           3          False     True   \n",
       "3  60750cbd68dcd62afd7086c2       321           3          False     True   \n",
       "4  60750cbd68dcd62afd7086c3       322           3          False     True   \n",
       "\n",
       "             children probs  \n",
       "0  [2505, 2517, 3002]  None  \n",
       "1  [2506, 2522, 3003]  None  \n",
       "2  [2510, 2520, 3004]  None  \n",
       "3  [2507, 2524, 3007]  None  \n",
       "4  [2508, 2523, 3008]  None  "
      ]
     },
     "execution_count": 4,
     "metadata": {},
     "output_type": "execute_result"
    }
   ],
   "source": [
    "categories = list(ohol.categories.find())\n",
    "categories = pd.DataFrame(categories)\n",
    "\n",
    "print('Loading %i categories' % categories.shape[0])\n",
    "categories.head()"
   ]
  },
  {
   "cell_type": "markdown",
   "id": "7160ab26",
   "metadata": {},
   "source": [
    "Load transitions:"
   ]
  },
  {
   "cell_type": "code",
   "execution_count": 5,
   "id": "5c54db74",
   "metadata": {},
   "outputs": [
    {
     "name": "stdout",
     "output_type": "stream",
     "text": [
      "Loading 4847 transitions\n"
     ]
    },
    {
     "data": {
      "text/html": [
       "<div>\n",
       "<style scoped>\n",
       "    .dataframe tbody tr th:only-of-type {\n",
       "        vertical-align: middle;\n",
       "    }\n",
       "\n",
       "    .dataframe tbody tr th {\n",
       "        vertical-align: top;\n",
       "    }\n",
       "\n",
       "    .dataframe thead th {\n",
       "        text-align: right;\n",
       "    }\n",
       "</style>\n",
       "<table border=\"1\" class=\"dataframe\">\n",
       "  <thead>\n",
       "    <tr style=\"text-align: right;\">\n",
       "      <th></th>\n",
       "      <th>origActor</th>\n",
       "      <th>origTarget</th>\n",
       "      <th>newActor</th>\n",
       "      <th>newTarget</th>\n",
       "      <th>lastUseActor</th>\n",
       "      <th>lastUseTarget</th>\n",
       "    </tr>\n",
       "  </thead>\n",
       "  <tbody>\n",
       "    <tr>\n",
       "      <th>0</th>\n",
       "      <td>67</td>\n",
       "      <td>2970</td>\n",
       "      <td>0</td>\n",
       "      <td>2966</td>\n",
       "      <td>False</td>\n",
       "      <td>False</td>\n",
       "    </tr>\n",
       "    <tr>\n",
       "      <th>1</th>\n",
       "      <td>235</td>\n",
       "      <td>1890</td>\n",
       "      <td>1892</td>\n",
       "      <td>0</td>\n",
       "      <td>False</td>\n",
       "      <td>False</td>\n",
       "    </tr>\n",
       "    <tr>\n",
       "      <th>2</th>\n",
       "      <td>441</td>\n",
       "      <td>445</td>\n",
       "      <td>441</td>\n",
       "      <td>444</td>\n",
       "      <td>False</td>\n",
       "      <td>False</td>\n",
       "    </tr>\n",
       "    <tr>\n",
       "      <th>3</th>\n",
       "      <td>0</td>\n",
       "      <td>2671</td>\n",
       "      <td>2539</td>\n",
       "      <td>2665</td>\n",
       "      <td>False</td>\n",
       "      <td>False</td>\n",
       "    </tr>\n",
       "    <tr>\n",
       "      <th>4</th>\n",
       "      <td>239</td>\n",
       "      <td>335</td>\n",
       "      <td>327</td>\n",
       "      <td>291</td>\n",
       "      <td>False</td>\n",
       "      <td>False</td>\n",
       "    </tr>\n",
       "  </tbody>\n",
       "</table>\n",
       "</div>"
      ],
      "text/plain": [
       "   origActor  origTarget  newActor  newTarget  lastUseActor  lastUseTarget\n",
       "0         67        2970         0       2966         False          False\n",
       "1        235        1890      1892          0         False          False\n",
       "2        441         445       441        444         False          False\n",
       "3          0        2671      2539       2665         False          False\n",
       "4        239         335       327        291         False          False"
      ]
     },
     "execution_count": 5,
     "metadata": {},
     "output_type": "execute_result"
    }
   ],
   "source": [
    "trans_cols = ['origActor', 'origTarget', 'newActor', 'newTarget', 'lastUseActor', 'lastUseTarget']\n",
    "cat_cols = [c+'_cat' for c in trans_cols]\n",
    "pattern_cols = [c+'_pattern' for c in trans_cols]\n",
    "\n",
    "transitions = list(ohol.transitions.find())\n",
    "transitions = pd.DataFrame(transitions)\n",
    "transitions = transitions[trans_cols]\n",
    "\n",
    "print('Loading %i transitions' % transitions.shape[0])\n",
    "transitions.head()"
   ]
  },
  {
   "cell_type": "markdown",
   "id": "bb8a5934",
   "metadata": {},
   "source": [
    "## Expand transitions between categories"
   ]
  },
  {
   "cell_type": "markdown",
   "id": "6dfcf55d",
   "metadata": {},
   "source": [
    "### Helper functions"
   ]
  },
  {
   "cell_type": "markdown",
   "id": "ece5b80b",
   "metadata": {},
   "source": [
    "Useful functions for debugging:"
   ]
  },
  {
   "cell_type": "code",
   "execution_count": 6,
   "id": "12972cfb",
   "metadata": {},
   "outputs": [],
   "source": [
    "def obj_name_elem(o):\n",
    "    if o in [0,-1]:\n",
    "        return 'empty'\n",
    "    else:\n",
    "        return objects[objects.id==o].name.values[0]\n",
    "obj_name = np.vectorize(obj_name_elem)\n",
    "\n",
    "def display_transition(row):\n",
    "    # Get item names\n",
    "    names = row.apply(obj_name)\n",
    "    \n",
    "    # Generate HTML tags\n",
    "    tag = '<mark style=\"background-color: %s;\">%s</mark>'\n",
    "    actor_color = '#91d8f2'\n",
    "    target_color = '#ffbf6b'\n",
    "    out = '(%s,%s) &#x2192; (%s,%s)' % (tag % (actor_color, names['origActor']),\n",
    "                                        tag % (target_color, names['origTarget']),\n",
    "                                        tag % (actor_color, names['newActor']),\n",
    "                                        tag % (target_color, names['newTarget']))\n",
    "    \n",
    "    embed(out)"
   ]
  },
  {
   "cell_type": "code",
   "execution_count": 7,
   "id": "c0a03010",
   "metadata": {},
   "outputs": [
    {
     "data": {
      "text/html": [
       "(<mark style=\"background-color: #91d8f2;\">Clay Bowl - empty</mark>,<mark style=\"background-color: #ffbf6b;\">Lapis Lazuli</mark>) &#x2192; (<mark style=\"background-color: #91d8f2;\">Bowl of Lapis Lazuli</mark>,<mark style=\"background-color: #ffbf6b;\">empty</mark>)"
      ],
      "text/plain": [
       "<IPython.core.display.HTML object>"
      ]
     },
     "metadata": {},
     "output_type": "display_data"
    }
   ],
   "source": [
    "display_transition(transitions.loc[1])"
   ]
  },
  {
   "cell_type": "markdown",
   "id": "36d1da26",
   "metadata": {},
   "source": [
    "Helper functions: Identify categories"
   ]
  },
  {
   "cell_type": "code",
   "execution_count": 8,
   "id": "18f0db5f",
   "metadata": {},
   "outputs": [],
   "source": [
    "# Helper function: Does this item name correspond to a category?\n",
    "cat_names = categories.parentID.values\n",
    "def is_cat_elem(objID): return objID in cat_names\n",
    "is_cat = np.vectorize(is_cat_elem)\n",
    "\n",
    "# Helper function: Is this category a \"pattern\" category?\n",
    "# (Pattern categories are parsed differently from regular categories - see below)\n",
    "pattern_cats = categories[categories.pattern].parentID.values\n",
    "def is_pattern_elem(cat): return cat in pattern_cats\n",
    "is_pattern = np.vectorize(is_pattern_elem)"
   ]
  },
  {
   "cell_type": "code",
   "execution_count": 9,
   "id": "c4174904",
   "metadata": {},
   "outputs": [
    {
     "name": "stdout",
     "output_type": "stream",
     "text": [
      "Stone\n",
      "Category?: False\n",
      "Pattern?: False\n",
      "\n",
      "@ Tillable Row\n",
      "Category?: True\n",
      "Pattern?: False\n",
      "\n",
      "@ Non-Dug track\n",
      "Category?: True\n",
      "Pattern?: True\n",
      "\n"
     ]
    }
   ],
   "source": [
    "# Some examples\n",
    "print(obj_name(33))\n",
    "print('Category?: %s' % is_cat_elem(33))\n",
    "print('Pattern?: %s\\n' % is_pattern_elem(33))\n",
    "\n",
    "print(obj_name(903))\n",
    "print('Category?: %s' % is_cat_elem(903))\n",
    "print('Pattern?: %s\\n' % is_pattern_elem(903))\n",
    "\n",
    "print(obj_name(3831))\n",
    "print('Category?: %s' % is_cat_elem(3831))\n",
    "print('Pattern?: %s\\n' % is_pattern_elem(3831))"
   ]
  },
  {
   "cell_type": "markdown",
   "id": "6ef1cb31",
   "metadata": {},
   "source": [
    "Helper functions to read out information about categories:"
   ]
  },
  {
   "cell_type": "code",
   "execution_count": 10,
   "id": "1cea4aed",
   "metadata": {},
   "outputs": [],
   "source": [
    "def is_real_obj(cat):\n",
    "    '''\n",
    "    Is this a real object, or just a generic category label?\n",
    "    e.g., @ Tillable row --> False\n",
    "    \n",
    "    Input: int (needs to match an entry in categories.parentID)\n",
    "    Output: bool\n",
    "    '''\n",
    "    name = objects[objects.id==cat]['name'].values[0]\n",
    "    return not name[0] == '@'\n",
    "\n",
    "def cat_children(cat, pattern=False):\n",
    "    '''\n",
    "    Return object ID (if not category) or list of children (if regular category)\n",
    "    \n",
    "    Inputs:\n",
    "    cat: int\n",
    "    \n",
    "    Output: numpy array of categories\n",
    "    '''\n",
    "    if is_cat(cat):\n",
    "        children = categories[categories.parentID == cat]['children'].values[0]\n",
    "        if pattern & is_real_obj(cat): \n",
    "            return [cat] + children\n",
    "        else:\n",
    "            return children\n",
    "    else:\n",
    "        return np.array([cat])\n",
    "    \n",
    "def n_children_elem(cat):\n",
    "    '''\n",
    "    Get number of children\n",
    "    '''\n",
    "    if cat in [0, -1]:\n",
    "        return 0\n",
    "    else:\n",
    "        return len(cat_children(cat))\n",
    "n_children = np.vectorize(n_children_elem)"
   ]
  },
  {
   "cell_type": "code",
   "execution_count": 11,
   "id": "0884c5df",
   "metadata": {},
   "outputs": [
    {
     "name": "stdout",
     "output_type": "stream",
     "text": [
      "@ Tillable Row\n",
      "Real object? False\n",
      "2 children:\n",
      "Shallow Tilled Row - groundOnly +biomeBlock4\n",
      "Fertile Soil Pile\n"
     ]
    }
   ],
   "source": [
    "# Some examples\n",
    "print(obj_name(903))\n",
    "print('Real object? %s' % is_real_obj(903))\n",
    "print('%i children:' % n_children_elem(903))\n",
    "print(*[obj_name(o) for o in cat_children(903)], sep='\\n')"
   ]
  },
  {
   "cell_type": "markdown",
   "id": "d2b8713a",
   "metadata": {},
   "source": [
    "Put together combinations of different categories:"
   ]
  },
  {
   "cell_type": "code",
   "execution_count": 12,
   "id": "499c8bca",
   "metadata": {},
   "outputs": [],
   "source": [
    "def expand_pairs(arr1, arr2):\n",
    "    '''\n",
    "    Expand one array in a set (e.g., old and new targets) if they are not the same length\n",
    "    \n",
    "    Inputs:\n",
    "    arr1, arr2: lists\n",
    "    \n",
    "    Outputs:\n",
    "    pairs: list of tuples\n",
    "    '''\n",
    "    if len(arr2) == 1:\n",
    "        pairs = zip(arr1, cycle(arr2))\n",
    "    elif len(arr1) == 1:\n",
    "        pairs = zip(cycle(arr1), arr2)\n",
    "    else:\n",
    "        pairs = zip(arr1, arr2)\n",
    "    \n",
    "    return list(pairs)"
   ]
  },
  {
   "cell_type": "code",
   "execution_count": 13,
   "id": "4cd5b6cc",
   "metadata": {},
   "outputs": [
    {
     "data": {
      "text/plain": [
       "[('scrambled_egg', 'bacon'),\n",
       " ('scrambled_egg', 'sausage'),\n",
       " ('scrambled_egg', 'ham')]"
      ]
     },
     "execution_count": 13,
     "metadata": {},
     "output_type": "execute_result"
    }
   ],
   "source": [
    "# Some examples\n",
    "expand_pairs(['scrambled_egg'], ['bacon', 'sausage', 'ham'])"
   ]
  },
  {
   "cell_type": "markdown",
   "id": "1fd50862",
   "metadata": {},
   "source": [
    "### Expand non-pattern categories"
   ]
  },
  {
   "cell_type": "code",
   "execution_count": 14,
   "id": "ac934dd2",
   "metadata": {},
   "outputs": [],
   "source": [
    "def expand_transitions(row):\n",
    "    '''\n",
    "    Takes a row from the original transitions dataset, expands any transitions containing category labels,\n",
    "    and returns the set of child transitions\n",
    "\n",
    "    Inputs:\n",
    "    row: pd.Series object (must contain fields: origActor, newActor, origTarget, newTarget)\n",
    "    \n",
    "    Outputs:\n",
    "    ex_transitions: list of tuples (which will later be turned into a dataframe)\n",
    "    '''\n",
    "    # Expand category labels into lists of children\n",
    "    #inputs = row[trans_cols]\n",
    "    ex_inputs = row.apply(cat_children)\n",
    "    is_category = row.apply(is_pattern)\n",
    "\n",
    "    # Match up children to make expanded transitions\n",
    "    actors = expand_pairs(ex_inputs['origActor'], ex_inputs['newActor'])\n",
    "    targets = expand_pairs(ex_inputs['origTarget'], ex_inputs['newTarget'])\n",
    "\n",
    "    ex_transitions = pd.DataFrame([(oa, ot, na, nt, row['lastUseActor'], row['lastUseTarget'])\n",
    "                                   for oa,na in actors\n",
    "                                   for ot,nt in targets],\n",
    "                                 columns = trans_cols)\n",
    "    \n",
    "    return ex_transitions"
   ]
  },
  {
   "cell_type": "code",
   "execution_count": 15,
   "id": "9d4d96c8",
   "metadata": {},
   "outputs": [
    {
     "data": {
      "text/html": [
       "(<mark style=\"background-color: #91d8f2;\">@ Carrot</mark>,<mark style=\"background-color: #ffbf6b;\">Bowl of Rabbit</mark>) &#x2192; (<mark style=\"background-color: #91d8f2;\">empty</mark>,<mark style=\"background-color: #ffbf6b;\">Bowl of Rabbit and Carrot</mark>)"
      ],
      "text/plain": [
       "<IPython.core.display.HTML object>"
      ]
     },
     "metadata": {},
     "output_type": "display_data"
    },
    {
     "name": "stdout",
     "output_type": "stream",
     "text": [
      "After expansion:\n"
     ]
    },
    {
     "data": {
      "text/html": [
       "(<mark style=\"background-color: #91d8f2;\">Carrot</mark>,<mark style=\"background-color: #ffbf6b;\">Bowl of Rabbit</mark>) &#x2192; (<mark style=\"background-color: #91d8f2;\">empty</mark>,<mark style=\"background-color: #ffbf6b;\">Bowl of Rabbit and Carrot</mark>)"
      ],
      "text/plain": [
       "<IPython.core.display.HTML object>"
      ]
     },
     "metadata": {},
     "output_type": "display_data"
    },
    {
     "data": {
      "text/html": [
       "(<mark style=\"background-color: #91d8f2;\">Wild Carrot</mark>,<mark style=\"background-color: #ffbf6b;\">Bowl of Rabbit</mark>) &#x2192; (<mark style=\"background-color: #91d8f2;\">empty</mark>,<mark style=\"background-color: #ffbf6b;\">Bowl of Rabbit and Carrot</mark>)"
      ],
      "text/plain": [
       "<IPython.core.display.HTML object>"
      ]
     },
     "metadata": {},
     "output_type": "display_data"
    }
   ],
   "source": [
    "nonpattern_transition = transitions.loc[5]\n",
    "display_transition(transitions.loc[5])\n",
    "\n",
    "nonpattern_expanded = expand_transitions(nonpattern_transition)\n",
    "\n",
    "print('After expansion:')\n",
    "for _,row in nonpattern_expanded.iterrows():\n",
    "    display_transition(row)"
   ]
  },
  {
   "cell_type": "markdown",
   "id": "4ac3e2d3",
   "metadata": {},
   "source": [
    "### Expand **pattern** categories\n",
    "\n",
    "According to [this comment](https://github.com/JustinLove/onetech/blob/mapping/process/src/TransitionImporter.js) in the onetech repository, pattern categories need to be parsed differently:\n",
    "```\n",
    "  // Pattern categories work differently than regular categories:\n",
    "  // 1. The parentID is an actual object and should stick around\n",
    "  // 2. A transition is only considered if all matching pattern\n",
    "  //    categories have the same number of objectIDs\n",
    "  // 3. For each objectID, a new transition is created which maps\n",
    "  //    each other pattern category objectID to the new object \n",
    "```\n",
    "\n",
    "After digging through examples of particular transitions, I found three exceptions to this comment:\n",
    "\n",
    "1. Some parent items are generic category labels. Category objects start with the \"@\" character (e.g., \"@ High Heat Source\", \"@ Tillable Row\") and do not correspond to any one item. In these cases, we don't add the parent IDs to the expanded transitions.\n",
    "2. Some transitions violate (2), but the parent IDs alone specify a valid transition. These invalid transitions are often superseded by a transition between specific items (e.g., yellow paint + sheet metal --> empty bucket). In the main loop, we'll check for pattern transitions that introduce contradictions and will filter those out.\n",
    "\n",
    "e.g., (<strong>1904</strong>, 4652) --> (659, 4675)<br />\n",
    "(<strong>bucket of {blue, yellow, black, green} paint</strong>, stack of sheet metal) --> (empty bucket, stack of blue sheet metal)\n",
    "\n",
    "3. Some transitions violate (2) because the new target/object are empty. These transitions should still be added.\n",
    "\n",
    "e.g., (-1, <strong>1769</strong>) --> (0, 0)<br />\n",
    "(decay, <strong>dead {German Shepherd, Collie, Beagle, Pit Bull, ...}</strong>) --> (empty, empty) :(((\n"
   ]
  },
  {
   "cell_type": "code",
   "execution_count": 16,
   "id": "4626e652",
   "metadata": {},
   "outputs": [],
   "source": [
    "def expand_pattern_transitions(row):\n",
    "    trans_in = row[trans_cols]\n",
    "    \n",
    "    # Check for valid categories\n",
    "    row_cats = trans_in.apply(is_pattern)\n",
    "    cat_lengths = trans_in.apply(n_children)\n",
    "    valid_pattern = cat_lengths[row_cats].nunique() == 1\n",
    "    real_parents = trans_in[row_cats].apply(is_real_obj).all()\n",
    "\n",
    "    # If it's a real pattern: Expand out\n",
    "    if valid_pattern: \n",
    "        ex_inputs = np.where(row_cats,\n",
    "                             trans_in.apply(lambda c: cat_children(c, pattern=True)),\n",
    "                             trans_in.apply(lambda c: np.array([c])))\n",
    "        ex_inputs = pd.Series(ex_inputs, index=trans_cols)\n",
    "\n",
    "    # If it's not and the parent items are a real item: Treat as a single transition    \n",
    "    elif real_parents: \n",
    "        ex_inputs = trans_in.copy()\n",
    "\n",
    "    # Otherwise: Just toss it\n",
    "    else:\n",
    "        ex_inputs = pd.Series(([],[],[],[]),index=trans_cols)\n",
    "\n",
    "    # Convert into dataframe and expand out\n",
    "    trans_df = pd.DataFrame(ex_inputs).T\n",
    "    trans_df = trans_df.apply(lambda col: col.explode(), axis=0).reset_index(drop=True)\n",
    "    \n",
    "    return trans_df"
   ]
  },
  {
   "cell_type": "code",
   "execution_count": 17,
   "id": "79b40701",
   "metadata": {},
   "outputs": [
    {
     "data": {
      "text/html": [
       "(<mark style=\"background-color: #91d8f2;\">Bucket of Blue Paint</mark>,<mark style=\"background-color: #ffbf6b;\">Plaster Wall - +causeAutoOrient</mark>) &#x2192; (<mark style=\"background-color: #91d8f2;\">Empty Bucket</mark>,<mark style=\"background-color: #ffbf6b;\">Blue Plaster Wall - +causeAutoOrient</mark>)"
      ],
      "text/plain": [
       "<IPython.core.display.HTML object>"
      ]
     },
     "metadata": {},
     "output_type": "display_data"
    },
    {
     "name": "stdout",
     "output_type": "stream",
     "text": [
      "After expansion:\n"
     ]
    },
    {
     "data": {
      "text/html": [
       "(<mark style=\"background-color: #91d8f2;\">Bucket of Blue Paint</mark>,<mark style=\"background-color: #ffbf6b;\">Plaster Wall - +causeAutoOrient</mark>) &#x2192; (<mark style=\"background-color: #91d8f2;\">Empty Bucket</mark>,<mark style=\"background-color: #ffbf6b;\">Blue Plaster Wall - +causeAutoOrient</mark>)"
      ],
      "text/plain": [
       "<IPython.core.display.HTML object>"
      ]
     },
     "metadata": {},
     "output_type": "display_data"
    },
    {
     "data": {
      "text/html": [
       "(<mark style=\"background-color: #91d8f2;\">Bucket of Red Paint</mark>,<mark style=\"background-color: #ffbf6b;\">Plaster Wall - +causeAutoOrient</mark>) &#x2192; (<mark style=\"background-color: #91d8f2;\">Empty Bucket</mark>,<mark style=\"background-color: #ffbf6b;\">Red Plaster Wall - +causeAutoOrient</mark>)"
      ],
      "text/plain": [
       "<IPython.core.display.HTML object>"
      ]
     },
     "metadata": {},
     "output_type": "display_data"
    },
    {
     "data": {
      "text/html": [
       "(<mark style=\"background-color: #91d8f2;\">Bucket of Yellow Paint</mark>,<mark style=\"background-color: #ffbf6b;\">Plaster Wall - +causeAutoOrient</mark>) &#x2192; (<mark style=\"background-color: #91d8f2;\">Empty Bucket</mark>,<mark style=\"background-color: #ffbf6b;\">Yellow Plaster Wall - +causeAutoOrient</mark>)"
      ],
      "text/plain": [
       "<IPython.core.display.HTML object>"
      ]
     },
     "metadata": {},
     "output_type": "display_data"
    },
    {
     "data": {
      "text/html": [
       "(<mark style=\"background-color: #91d8f2;\">Bucket of Black Paint</mark>,<mark style=\"background-color: #ffbf6b;\">Plaster Wall - +causeAutoOrient</mark>) &#x2192; (<mark style=\"background-color: #91d8f2;\">Empty Bucket</mark>,<mark style=\"background-color: #ffbf6b;\">Black Plaster Wall - +causeAutoOrient</mark>)"
      ],
      "text/plain": [
       "<IPython.core.display.HTML object>"
      ]
     },
     "metadata": {},
     "output_type": "display_data"
    },
    {
     "data": {
      "text/html": [
       "(<mark style=\"background-color: #91d8f2;\">Bucket of Green Paint</mark>,<mark style=\"background-color: #ffbf6b;\">Plaster Wall - +causeAutoOrient</mark>) &#x2192; (<mark style=\"background-color: #91d8f2;\">Empty Bucket</mark>,<mark style=\"background-color: #ffbf6b;\">Green Plaster Wall - +causeAutoOrient</mark>)"
      ],
      "text/plain": [
       "<IPython.core.display.HTML object>"
      ]
     },
     "metadata": {},
     "output_type": "display_data"
    }
   ],
   "source": [
    "pattern_transition = transitions.loc[258]\n",
    "display_transition(transitions.loc[258])\n",
    "\n",
    "pattern_expanded = expand_pattern_transitions(pattern_transition)\n",
    "\n",
    "print('After expansion:')\n",
    "for _,row in pattern_expanded.iterrows():\n",
    "    display_transition(row)"
   ]
  },
  {
   "cell_type": "markdown",
   "id": "d01a4e07",
   "metadata": {},
   "source": [
    "### Main loop: Assemble dataframe of expanded transitions"
   ]
  },
  {
   "cell_type": "markdown",
   "id": "a55794be",
   "metadata": {},
   "source": [
    "Helper function: Is this category probabilistic? (only probabilistic categories can have multiple outcomes)"
   ]
  },
  {
   "cell_type": "code",
   "execution_count": 18,
   "id": "5a0aedbf",
   "metadata": {},
   "outputs": [
    {
     "name": "stdout",
     "output_type": "stream",
     "text": [
      "Random Die Roll\n",
      "True\n"
     ]
    }
   ],
   "source": [
    "def is_probabilistic_elem(cat):\n",
    "    if is_cat(cat):\n",
    "        return categories[categories.parentID == cat].probabilistic.values[0]\n",
    "    else:\n",
    "        return False\n",
    "    \n",
    "is_probabilistic = np.vectorize(is_probabilistic_elem)\n",
    "\n",
    "print(obj_name(1966))\n",
    "print(is_probabilistic_elem(1966))"
   ]
  },
  {
   "cell_type": "markdown",
   "id": "0f90d01e",
   "metadata": {},
   "source": [
    "Rearrange transitions in priority order:\n",
    "\n",
    "Single objects --> Non-pattern categories --> Pattern categories"
   ]
  },
  {
   "cell_type": "code",
   "execution_count": 19,
   "id": "60b024b2",
   "metadata": {},
   "outputs": [
    {
     "data": {
      "text/html": [
       "<div>\n",
       "<style scoped>\n",
       "    .dataframe tbody tr th:only-of-type {\n",
       "        vertical-align: middle;\n",
       "    }\n",
       "\n",
       "    .dataframe tbody tr th {\n",
       "        vertical-align: top;\n",
       "    }\n",
       "\n",
       "    .dataframe thead th {\n",
       "        text-align: right;\n",
       "    }\n",
       "</style>\n",
       "<table border=\"1\" class=\"dataframe\">\n",
       "  <thead>\n",
       "    <tr style=\"text-align: right;\">\n",
       "      <th></th>\n",
       "      <th>index</th>\n",
       "      <th>origActor</th>\n",
       "      <th>origTarget</th>\n",
       "      <th>newActor</th>\n",
       "      <th>newTarget</th>\n",
       "      <th>lastUseActor</th>\n",
       "      <th>lastUseTarget</th>\n",
       "      <th>prob</th>\n",
       "      <th>category</th>\n",
       "      <th>pattern</th>\n",
       "      <th>priority</th>\n",
       "    </tr>\n",
       "  </thead>\n",
       "  <tbody>\n",
       "    <tr>\n",
       "      <th>0</th>\n",
       "      <td>0</td>\n",
       "      <td>67</td>\n",
       "      <td>2970</td>\n",
       "      <td>0</td>\n",
       "      <td>2966</td>\n",
       "      <td>False</td>\n",
       "      <td>False</td>\n",
       "      <td>False</td>\n",
       "      <td>0</td>\n",
       "      <td>0</td>\n",
       "      <td>0</td>\n",
       "    </tr>\n",
       "    <tr>\n",
       "      <th>1</th>\n",
       "      <td>3106</td>\n",
       "      <td>4435</td>\n",
       "      <td>-1</td>\n",
       "      <td>4431</td>\n",
       "      <td>4434</td>\n",
       "      <td>False</td>\n",
       "      <td>False</td>\n",
       "      <td>False</td>\n",
       "      <td>0</td>\n",
       "      <td>0</td>\n",
       "      <td>0</td>\n",
       "    </tr>\n",
       "    <tr>\n",
       "      <th>2</th>\n",
       "      <td>3107</td>\n",
       "      <td>467</td>\n",
       "      <td>468</td>\n",
       "      <td>467</td>\n",
       "      <td>469</td>\n",
       "      <td>False</td>\n",
       "      <td>False</td>\n",
       "      <td>False</td>\n",
       "      <td>0</td>\n",
       "      <td>0</td>\n",
       "      <td>0</td>\n",
       "    </tr>\n",
       "    <tr>\n",
       "      <th>3</th>\n",
       "      <td>3108</td>\n",
       "      <td>2531</td>\n",
       "      <td>557</td>\n",
       "      <td>0</td>\n",
       "      <td>2688</td>\n",
       "      <td>False</td>\n",
       "      <td>False</td>\n",
       "      <td>False</td>\n",
       "      <td>0</td>\n",
       "      <td>0</td>\n",
       "      <td>0</td>\n",
       "    </tr>\n",
       "    <tr>\n",
       "      <th>4</th>\n",
       "      <td>3110</td>\n",
       "      <td>2256</td>\n",
       "      <td>67</td>\n",
       "      <td>0</td>\n",
       "      <td>2264</td>\n",
       "      <td>False</td>\n",
       "      <td>False</td>\n",
       "      <td>False</td>\n",
       "      <td>0</td>\n",
       "      <td>0</td>\n",
       "      <td>0</td>\n",
       "    </tr>\n",
       "    <tr>\n",
       "      <th>...</th>\n",
       "      <td>...</td>\n",
       "      <td>...</td>\n",
       "      <td>...</td>\n",
       "      <td>...</td>\n",
       "      <td>...</td>\n",
       "      <td>...</td>\n",
       "      <td>...</td>\n",
       "      <td>...</td>\n",
       "      <td>...</td>\n",
       "      <td>...</td>\n",
       "      <td>...</td>\n",
       "    </tr>\n",
       "    <tr>\n",
       "      <th>4842</th>\n",
       "      <td>880</td>\n",
       "      <td>-1</td>\n",
       "      <td>1018</td>\n",
       "      <td>0</td>\n",
       "      <td>1019</td>\n",
       "      <td>False</td>\n",
       "      <td>False</td>\n",
       "      <td>False</td>\n",
       "      <td>1</td>\n",
       "      <td>1</td>\n",
       "      <td>2</td>\n",
       "    </tr>\n",
       "    <tr>\n",
       "      <th>4843</th>\n",
       "      <td>3810</td>\n",
       "      <td>323</td>\n",
       "      <td>-1</td>\n",
       "      <td>239</td>\n",
       "      <td>321</td>\n",
       "      <td>False</td>\n",
       "      <td>False</td>\n",
       "      <td>False</td>\n",
       "      <td>1</td>\n",
       "      <td>1</td>\n",
       "      <td>2</td>\n",
       "    </tr>\n",
       "    <tr>\n",
       "      <th>4844</th>\n",
       "      <td>1471</td>\n",
       "      <td>394</td>\n",
       "      <td>1207</td>\n",
       "      <td>394</td>\n",
       "      <td>1208</td>\n",
       "      <td>False</td>\n",
       "      <td>False</td>\n",
       "      <td>False</td>\n",
       "      <td>1</td>\n",
       "      <td>1</td>\n",
       "      <td>2</td>\n",
       "    </tr>\n",
       "    <tr>\n",
       "      <th>4845</th>\n",
       "      <td>3102</td>\n",
       "      <td>964</td>\n",
       "      <td>1015</td>\n",
       "      <td>964</td>\n",
       "      <td>1016</td>\n",
       "      <td>False</td>\n",
       "      <td>False</td>\n",
       "      <td>False</td>\n",
       "      <td>1</td>\n",
       "      <td>1</td>\n",
       "      <td>2</td>\n",
       "    </tr>\n",
       "    <tr>\n",
       "      <th>4846</th>\n",
       "      <td>510</td>\n",
       "      <td>-1</td>\n",
       "      <td>2976</td>\n",
       "      <td>0</td>\n",
       "      <td>2992</td>\n",
       "      <td>False</td>\n",
       "      <td>False</td>\n",
       "      <td>False</td>\n",
       "      <td>1</td>\n",
       "      <td>1</td>\n",
       "      <td>2</td>\n",
       "    </tr>\n",
       "  </tbody>\n",
       "</table>\n",
       "<p>4847 rows × 11 columns</p>\n",
       "</div>"
      ],
      "text/plain": [
       "      index  origActor  origTarget  newActor  newTarget  lastUseActor  \\\n",
       "0         0         67        2970         0       2966         False   \n",
       "1      3106       4435          -1      4431       4434         False   \n",
       "2      3107        467         468       467        469         False   \n",
       "3      3108       2531         557         0       2688         False   \n",
       "4      3110       2256          67         0       2264         False   \n",
       "...     ...        ...         ...       ...        ...           ...   \n",
       "4842    880         -1        1018         0       1019         False   \n",
       "4843   3810        323          -1       239        321         False   \n",
       "4844   1471        394        1207       394       1208         False   \n",
       "4845   3102        964        1015       964       1016         False   \n",
       "4846    510         -1        2976         0       2992         False   \n",
       "\n",
       "      lastUseTarget   prob  category  pattern  priority  \n",
       "0             False  False         0        0         0  \n",
       "1             False  False         0        0         0  \n",
       "2             False  False         0        0         0  \n",
       "3             False  False         0        0         0  \n",
       "4             False  False         0        0         0  \n",
       "...             ...    ...       ...      ...       ...  \n",
       "4842          False  False         1        1         2  \n",
       "4843          False  False         1        1         2  \n",
       "4844          False  False         1        1         2  \n",
       "4845          False  False         1        1         2  \n",
       "4846          False  False         1        1         2  \n",
       "\n",
       "[4847 rows x 11 columns]"
      ]
     },
     "execution_count": 19,
     "metadata": {},
     "output_type": "execute_result"
    }
   ],
   "source": [
    "ordered_transitions = transitions.copy()\n",
    "ordered_transitions['prob'] = ordered_transitions.apply(is_probabilistic).apply(any, axis=1)\n",
    "ordered_transitions['category'] = ordered_transitions.apply(is_cat).apply(any, axis=1)*1\n",
    "ordered_transitions['pattern'] = ordered_transitions.apply(is_pattern).apply(any, axis=1)*1\n",
    "ordered_transitions['priority'] = ordered_transitions['category'] + ordered_transitions['pattern']\n",
    "ordered_transitions = ordered_transitions.sort_values(by='priority').reset_index()\n",
    "\n",
    "ordered_transitions"
   ]
  },
  {
   "cell_type": "markdown",
   "id": "97407a09",
   "metadata": {},
   "source": [
    "Main loop:"
   ]
  },
  {
   "cell_type": "code",
   "execution_count": 20,
   "id": "c95d591d",
   "metadata": {},
   "outputs": [
    {
     "name": "stdout",
     "output_type": "stream",
     "text": [
      "Original transitions: 4847\n"
     ]
    },
    {
     "data": {
      "application/vnd.jupyter.widget-view+json": {
       "model_id": "d06a56c2e15546659819631f6266ee3b",
       "version_major": 2,
       "version_minor": 0
      },
      "text/plain": [
       "  0%|          | 0/4847 [00:00<?, ?it/s]"
      ]
     },
     "metadata": {},
     "output_type": "display_data"
    },
    {
     "name": "stdout",
     "output_type": "stream",
     "text": [
      "After expansion: 20419\n",
      "Removed 779 duplicate transitions\n",
      "Removed 195 contradictory transitions\n",
      "Final expanded # of transitions: 19445\n"
     ]
    }
   ],
   "source": [
    "expanded_list = []\n",
    "print('Original transitions: %i' % ordered_transitions.shape[0])\n",
    "\n",
    "for idx, row in notebook.tqdm(ordered_transitions.iterrows(), total=ordered_transitions.shape[0]):\n",
    "    if row['pattern'] == 1:\n",
    "        row_df = expand_pattern_transitions(row)\n",
    "    elif row['category'] == 1:\n",
    "        row_df = expand_transitions(row)\n",
    "    else:\n",
    "        row_df = pd.DataFrame(row[trans_cols]).T\n",
    "        \n",
    "    row_df['prob'] = row['prob']\n",
    "    expanded_list.append(row_df)\n",
    "\n",
    "# Turn to dataframe        \n",
    "expanded_df = pd.concat(expanded_list)\n",
    "n_orig = expanded_df.shape[0]\n",
    "\n",
    "# Remove duplicate rows\n",
    "expanded_df = expanded_df.drop_duplicates().reset_index(drop=True)\n",
    "n_unique = expanded_df.shape[0]\n",
    "\n",
    "# Remove contradictory transitions\n",
    "prob_trans = expanded_df[expanded_df.prob]\n",
    "det_trans = expanded_df[~expanded_df.prob]\n",
    "det_trans = det_trans.groupby(['origActor','origTarget', 'lastUseActor', 'lastUseTarget']).first().reset_index()\n",
    "expanded_df = pd.concat([prob_trans, det_trans]).reset_index(drop=True)\n",
    "n_final = expanded_df.shape[0]\n",
    "\n",
    "print('After expansion: %i' % n_orig)\n",
    "print('Removed %i duplicate transitions' % (n_orig-n_unique))\n",
    "print('Removed %i contradictory transitions' % (n_unique-n_final))\n",
    "print('Final expanded # of transitions: %i' % n_final)"
   ]
  },
  {
   "cell_type": "markdown",
   "id": "52f181ec",
   "metadata": {},
   "source": [
    "## Upload to database"
   ]
  },
  {
   "cell_type": "code",
   "execution_count": 21,
   "id": "784e9086",
   "metadata": {},
   "outputs": [
    {
     "name": "stdout",
     "output_type": "stream",
     "text": [
      "Uploading 19445 records to database\n"
     ]
    },
    {
     "data": {
      "text/plain": [
       "<pymongo.results.InsertManyResult at 0x2b06ed656f40>"
      ]
     },
     "execution_count": 21,
     "metadata": {},
     "output_type": "execute_result"
    }
   ],
   "source": [
    "expanded_records = expanded_df.to_dict('records')\n",
    "print('Uploading %i records to database' % len(expanded_records))\n",
    "trans_col = ohol.expanded_transitions\n",
    "trans_col.insert_many(expanded_records)"
   ]
  }
 ],
 "metadata": {
  "kernelspec": {
   "display_name": "Python 3",
   "language": "python",
   "name": "python3"
  },
  "language_info": {
   "codemirror_mode": {
    "name": "ipython",
    "version": 3
   },
   "file_extension": ".py",
   "mimetype": "text/x-python",
   "name": "python",
   "nbconvert_exporter": "python",
   "pygments_lexer": "ipython3",
   "version": "3.9.2"
  }
 },
 "nbformat": 4,
 "nbformat_minor": 5
}
