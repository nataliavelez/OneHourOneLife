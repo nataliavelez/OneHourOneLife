{
 "cells": [
  {
   "cell_type": "markdown",
   "metadata": {},
   "source": [
    "# Build Tech Tree and Calculate Depths"
   ]
  },
  {
   "cell_type": "markdown",
   "metadata": {},
   "source": [
    "Grace Deng, August 2020\n",
    "\n",
    "Last modified by Natalia Velez, September 2020\n",
    "\n",
    "This file does the following:\n",
    "   1. Parse the transition files (expand on categories and keep only the forward transitions)\n",
    "   2. Calculates the depth (defined as the number of unique ingredients) of each object in the tech tree\n",
    "   3. Calculates the empowerment of each object (defined as the number of immediate products that can be made from this object)\n"
   ]
  },
  {
   "cell_type": "code",
   "execution_count": 311,
   "metadata": {
    "collapsed": true
   },
   "outputs": [],
   "source": [
    "import os, re, glob, json\n",
    "from os.path import join as opj\n",
    "import numpy as np\n",
    "import pandas as pd\n",
    "import json\n",
    "import networkx as nx\n",
    "from tqdm import notebook\n",
    "\n",
    "import ohol_transitions as trans\n",
    "import ohol_categories as cat\n",
    "import ohol_objects as obj"
   ]
  },
  {
   "cell_type": "markdown",
   "metadata": {},
   "source": [
    "## Find object and transition files:"
   ]
  },
  {
   "cell_type": "markdown",
   "metadata": {},
   "source": [
    "Transitions:"
   ]
  },
  {
   "cell_type": "code",
   "execution_count": 312,
   "metadata": {},
   "outputs": [
    {
     "name": "stdout",
     "output_type": "stream",
     "text": [
      "../../OneLifeData7/transitions/-1_2574.txt\n",
      "../../OneLifeData7/transitions/0_702.txt\n",
      "../../OneLifeData7/transitions/314_235.txt\n",
      "../../OneLifeData7/transitions/2165_2165.txt\n",
      "../../OneLifeData7/transitions/0_1692.txt\n"
     ]
    }
   ],
   "source": [
    "gsearch = lambda *args: glob.glob(opj(*args))\n",
    "data_dir = '../../OneLifeData7/'\n",
    "trans_dir  = opj(data_dir, 'transitions')\n",
    "trans_files = gsearch(trans_dir, '*.txt')\n",
    "\n",
    "print(*trans_files[:5], sep='\\n')"
   ]
  },
  {
   "cell_type": "markdown",
   "metadata": {},
   "source": [
    "Objects:"
   ]
  },
  {
   "cell_type": "code",
   "execution_count": 313,
   "metadata": {},
   "outputs": [
    {
     "name": "stdout",
     "output_type": "stream",
     "text": [
      "../../OneLifeData7/objects/3644.txt\n",
      "../../OneLifeData7/objects/1053.txt\n",
      "../../OneLifeData7/objects/1735.txt\n",
      "../../OneLifeData7/objects/3122.txt\n",
      "../../OneLifeData7/objects/2228.txt\n"
     ]
    }
   ],
   "source": [
    "obj_dir = opj(data_dir, 'objects')\n",
    "obj_files = gsearch(obj_dir, '*txt')\n",
    "\n",
    "print(*obj_files[:5], sep='\\n')"
   ]
  },
  {
   "cell_type": "markdown",
   "metadata": {},
   "source": [
    "## Helper Functions:"
   ]
  },
  {
   "cell_type": "markdown",
   "metadata": {},
   "source": [
    "Find object ingredients, based on transition dictionary"
   ]
  },
  {
   "cell_type": "code",
   "execution_count": 314,
   "metadata": {
    "collapsed": true
   },
   "outputs": [],
   "source": [
    "def find_ingredients(value):\n",
    "    ingredient_list = []\n",
    "    for idx in d.items():\n",
    "        for item in d[idx[0]].items():\n",
    "            if item[0] != 'category':\n",
    "                if value in item[1]:\n",
    "                    ingredient_list.append(item[0])\n",
    "    return list(set(ingredient_list))       \n"
   ]
  },
  {
   "cell_type": "markdown",
   "metadata": {},
   "source": [
    "Returns the category for a given object"
   ]
  },
  {
   "cell_type": "code",
   "execution_count": 315,
   "metadata": {
    "collapsed": true
   },
   "outputs": [],
   "source": [
    "##helper function that returns the category for a given object\n",
    "def find_parent(mydict, child):\n",
    "    for i in mydict.keys():\n",
    "        if child in mydict[i]:\n",
    "            return i"
   ]
  },
  {
   "cell_type": "markdown",
   "metadata": {},
   "source": [
    "Split dataframe:"
   ]
  },
  {
   "cell_type": "code",
   "execution_count": 316,
   "metadata": {
    "collapsed": true
   },
   "outputs": [],
   "source": [
    "def split_dataframe_rows(df,column_selectors):\n",
    "    # we need to keep track of the ordering of the columns\n",
    "    def _split_list_to_rows(row,row_accumulator,column_selector):\n",
    "        split_rows = {}\n",
    "        max_split = 0\n",
    "        for column_selector in column_selectors:\n",
    "            split_row = row[column_selector]\n",
    "            split_rows[column_selector] = split_row\n",
    "            if len(split_row) > max_split:\n",
    "                max_split = len(split_row)\n",
    "        for i in range(max_split):\n",
    "            new_row = row.to_dict()\n",
    "            for column_selector in column_selectors:\n",
    "                try:\n",
    "                    new_row[column_selector] = split_rows[column_selector].pop(0)\n",
    "                except IndexError:\n",
    "                    new_row[column_selector] = ''\n",
    "            row_accumulator.append(new_row)\n",
    "\n",
    "    new_rows = []\n",
    "    df.apply(_split_list_to_rows,axis=1,args = (new_rows,column_selectors))\n",
    "    new_df = pd.DataFrame(new_rows, columns=df.columns)\n",
    "    return new_df"
   ]
  },
  {
   "cell_type": "markdown",
   "metadata": {},
   "source": [
    "Finds the key associated with a certain value in the dictionary"
   ]
  },
  {
   "cell_type": "code",
   "execution_count": 317,
   "metadata": {
    "collapsed": true
   },
   "outputs": [],
   "source": [
    "def find_value(dictionary, value):\n",
    "    mylist = []\n",
    "    for item in dictionary.items():\n",
    "        if value == item[1]:\n",
    "            mylist.append(item[0])\n",
    "    return mylist"
   ]
  },
  {
   "cell_type": "markdown",
   "metadata": {},
   "source": [
    "## Parse Categories and Objects"
   ]
  },
  {
   "cell_type": "markdown",
   "metadata": {},
   "source": [
    "Build a dictionary of {object: mapChance} pairs, and identify category names"
   ]
  },
  {
   "cell_type": "code",
   "execution_count": 318,
   "metadata": {},
   "outputs": [],
   "source": [
    "str_extract = lambda pattern, s: re.search(pattern, s).group(0)\n",
    "int_extract = lambda pattern, s: int(str_extract(pattern, s))\n",
    "cat_names = {}\n",
    "obj_dict = {}\n",
    "all_obj = {}\n",
    "grave_obj = {}\n",
    "for o in obj_files:\n",
    "    is_obj = re.search('nextObjectNumber|groundHeat', o) is None\n",
    "    \n",
    "    if is_obj:\n",
    "        o_num = int_extract('[0-9]+(?=.txt)', o)\n",
    "        o_data = obj.read_obj(o_num)\n",
    "        obj_dict[o_num] = o_data['mapChance']\n",
    "        if '@' in o_data['name'] :\n",
    "            cat_names[o_num] = o_data['name']\n",
    "        else:\n",
    "            all_obj[o_num] = o_data['name']\n",
    "            if 'Grave' in o_data['name']:\n",
    "                grave_obj[o_num] = o_data['name']\n"
   ]
  },
  {
   "cell_type": "markdown",
   "metadata": {},
   "source": [
    "Build a dictionary of {category: children} pairs"
   ]
  },
  {
   "cell_type": "code",
   "execution_count": 319,
   "metadata": {},
   "outputs": [
    {
     "data": {
      "text/plain": [
       "230"
      ]
     },
     "execution_count": 319,
     "metadata": {},
     "output_type": "execute_result"
    }
   ],
   "source": [
    "l = os.listdir('../../OneLifeData7/categories')\n",
    "cat_arr = [int_extract('[0-9]+(?=.txt)', o) for o in l]\n",
    "len(cat_arr)"
   ]
  },
  {
   "cell_type": "code",
   "execution_count": 320,
   "metadata": {},
   "outputs": [
    {
     "data": {
      "text/plain": [
       "[2328, 3221, 3233, 2095, 2811]"
      ]
     },
     "execution_count": 320,
     "metadata": {},
     "output_type": "execute_result"
    }
   ],
   "source": [
    "perhaps_list = list()\n",
    "for i in all_obj.values():\n",
    "    if 'Perhaps' in i:\n",
    "        perhaps_list.append(find_parent(all_obj, i))\n",
    "perhaps_list"
   ]
  },
  {
   "cell_type": "code",
   "execution_count": 321,
   "metadata": {
    "scrolled": true
   },
   "outputs": [
    {
     "data": {
      "text/plain": [
       "230"
      ]
     },
     "execution_count": 321,
     "metadata": {},
     "output_type": "execute_result"
    }
   ],
   "source": [
    "#update: if parent is not a @category name, add parent name to child list\n",
    "cat_dict = {}\n",
    "for i in cat_arr:\n",
    "    children = cat.get_children(i)\n",
    "    if (i in cat_names):\n",
    "        cat_dict[i] = children  \n",
    "    else:\n",
    "        cat_dict[i] = list(np.append(i, children))\n",
    "          \n",
    "len(cat_dict)"
   ]
  },
  {
   "cell_type": "markdown",
   "metadata": {},
   "source": [
    "Helper function: Does this object ID actually correspond to a category?"
   ]
  },
  {
   "cell_type": "code",
   "execution_count": 322,
   "metadata": {
    "collapsed": true
   },
   "outputs": [],
   "source": [
    "def is_cat(name):\n",
    "    if name in cat_dict:\n",
    "        return True\n",
    "    else:\n",
    "        return False"
   ]
  },
  {
   "cell_type": "markdown",
   "metadata": {},
   "source": [
    "Find natural primittives"
   ]
  },
  {
   "cell_type": "code",
   "execution_count": 323,
   "metadata": {
    "collapsed": true
   },
   "outputs": [],
   "source": [
    "nat_obj = []\n",
    "for item in obj_dict.items():\n",
    "    if item[1] != 0 :\n",
    "        nat_obj.append(item[0])"
   ]
  },
  {
   "cell_type": "code",
   "execution_count": 324,
   "metadata": {
    "collapsed": true
   },
   "outputs": [],
   "source": [
    "nat_obj = np.append(nat_obj, 87) #append Fresh Grave"
   ]
  },
  {
   "cell_type": "code",
   "execution_count": 325,
   "metadata": {
    "scrolled": true
   },
   "outputs": [
    {
     "name": "stdout",
     "output_type": "stream",
     "text": [
      "3888: Arctic Expert Way Stone - +biomeSet3 gridPlacement20 &20 &p3 &p0 +expertFind\n",
      "706: Ice Hole\n",
      "100: White Pine Tree with Needles\n",
      "713: Indigo\n",
      "707: Antarctic Fur Seal\n",
      "2765: Sugarcane\n",
      "2567: Sand Deposit\n",
      "2174: Turkey\n",
      "714: Rose Madder\n",
      "1323: Wild Boar\n",
      "674: Limestone\n",
      "1874: Wild Mango Tree\n",
      "4272: Rubber Tree with Pepper Vine\n",
      "729: Alum\n",
      "703: Penguin\n",
      "942: Muddy Iron Vein - gridPlacement40 &40\n",
      "63: Maple Tree -Branch\n",
      "1435: Bison\n",
      "764: Rattle Snake\n",
      "2504: Malachite\n",
      "49: Juniper Tree\n",
      "2466: Dark Nosaj - +normalOnly\n",
      "1184: Wild Squash Plant\n",
      "161: Rabbit Hole -hiding &single\n",
      "1157: Wild Bean Plant\n",
      "4239: Seeding Wild Dill\n",
      "65: Lombardy Poplar Tree -Branch\n",
      "760: Dead Tree\n",
      "3030: Natural Spring - gridPlacement40 evePrimaryLoc\n",
      "1140: Wild Potato\n",
      "99: White Pine Tree\n",
      "761: Barrel Cactus\n",
      "211: Fertile Soil Deposit\n",
      "1020: Snow Bank\n",
      "2515: Calamine\n",
      "630: Bear Cave\n",
      "3001: Electrum Ore\n",
      "2135: Rubber Tree\n",
      "418: Wolf\n",
      "4221: Wild Cucumber Plant\n",
      "791: Monolith\n",
      "1013: Wild Rose with Fruit\n",
      "805: Wild Onion\n",
      "50: Milkweed\n",
      "804: Burdock\n",
      "769: Wild Horse\n",
      "153: Yew Tree -Branch\n",
      "1203: Wild Cabbage\n",
      "2285: Tarry Spot - gridPlacement40\n",
      "531: Mouflon\n",
      "121: Tule Reeds\n",
      "1890: Lapis Lazuli\n",
      "1891: Cinnabar\n",
      "1107: Teosinte\n",
      "2142: Banana Plant\n",
      "2156: Mosquito Swarm\n",
      "4269: Bay Tree\n",
      "530: Bald Cypress Tree\n",
      "242: Ripe Wheat\n",
      "2140: Hot Spring\n",
      "136: Sapling\n",
      "2800: Wild Tomato Plant\n",
      "36: Seeding Wild Carrot\n",
      "2141: Oil Palm\n",
      "527: Willow Tree\n",
      "3887: Jungle Expert Way Stone - +biomeSet3 gridPlacement20 &20 +expertFind\n",
      "3313: Wild Grape Plant\n",
      "32: Big Hard Rock\n",
      "2804: Wild Pepper Plant\n",
      "133: Flint\n",
      "33: Stone\n",
      "2540: Niter\n",
      "3886: Desert Expert Way Stone - +biomeSet3 gridPlacement20 &20 +expertFind\n",
      "291: Flat Rock - empty\n",
      "1261: Canada Goose Pond with Egg\n",
      "4251: Wild Garlic\n",
      "125: Clay Deposit\n",
      "680: Gold Vein\n",
      "30: Wild Gooseberry Bush\n",
      "2557: Glasswort\n",
      "87: Fresh Grave - origGrave fromDeath\n"
     ]
    }
   ],
   "source": [
    "for o in nat_obj:\n",
    "    print('%i: %s' % (o, obj.obj_name(o)))"
   ]
  },
  {
   "cell_type": "markdown",
   "metadata": {},
   "source": [
    "grave objects"
   ]
  },
  {
   "cell_type": "code",
   "execution_count": null,
   "metadata": {
    "collapsed": true
   },
   "outputs": [],
   "source": [
    "grave_obj"
   ]
  },
  {
   "cell_type": "markdown",
   "metadata": {},
   "source": [
    "## Parse transitions"
   ]
  },
  {
   "cell_type": "code",
   "execution_count": 326,
   "metadata": {},
   "outputs": [
    {
     "data": {
      "application/vnd.jupyter.widget-view+json": {
       "model_id": "1ce588951550410d85ed6be62ea409a5",
       "version_major": 2,
       "version_minor": 0
      },
      "text/plain": [
       "A Jupyter Widget"
      ]
     },
     "metadata": {},
     "output_type": "display_data"
    },
    {
     "name": "stdout",
     "output_type": "stream",
     "text": [
      "\n"
     ]
    }
   ],
   "source": [
    "trans_keys = ['origActor', 'newActor', 'origTarget', 'newTarget']\n",
    "trans_list = []\n",
    "for f in notebook.tqdm(trans_files):\n",
    "    trans_dict = trans.read_transition(f)\n",
    "    trans_objs = [trans_dict[k] for k in trans_keys]\n",
    "    \n",
    "    # Are any of these categories?\n",
    "    trans_cats = [is_cat(o) for o in trans_objs]\n",
    "    #trans_cat_str = ''.join(re.findall('[A-Z]', str(trans_cats)))\n",
    "    #trans_dict['isCat'] = trans_cat_str\n",
    "    trans_dict['isCat'] = trans_cats\n",
    "    \n",
    "    trans_list.append(trans_dict)"
   ]
  },
  {
   "cell_type": "markdown",
   "metadata": {},
   "source": [
    "Assemble into dataframe:"
   ]
  },
  {
   "cell_type": "code",
   "execution_count": 327,
   "metadata": {},
   "outputs": [
    {
     "data": {
      "text/html": [
       "<div>\n",
       "<style scoped>\n",
       "    .dataframe tbody tr th:only-of-type {\n",
       "        vertical-align: middle;\n",
       "    }\n",
       "\n",
       "    .dataframe tbody tr th {\n",
       "        vertical-align: top;\n",
       "    }\n",
       "\n",
       "    .dataframe thead th {\n",
       "        text-align: right;\n",
       "    }\n",
       "</style>\n",
       "<table border=\"1\" class=\"dataframe\">\n",
       "  <thead>\n",
       "    <tr style=\"text-align: right;\">\n",
       "      <th></th>\n",
       "      <th>origActor</th>\n",
       "      <th>origTarget</th>\n",
       "      <th>newActor</th>\n",
       "      <th>newTarget</th>\n",
       "      <th>isDecay</th>\n",
       "      <th>isTool</th>\n",
       "      <th>isCat</th>\n",
       "      <th>catStr</th>\n",
       "    </tr>\n",
       "  </thead>\n",
       "  <tbody>\n",
       "    <tr>\n",
       "      <th>0</th>\n",
       "      <td>-1</td>\n",
       "      <td>2574</td>\n",
       "      <td>0</td>\n",
       "      <td>2578</td>\n",
       "      <td>True</td>\n",
       "      <td>False</td>\n",
       "      <td>[False, False, False, False]</td>\n",
       "      <td>FFFF</td>\n",
       "    </tr>\n",
       "    <tr>\n",
       "      <th>1</th>\n",
       "      <td>0</td>\n",
       "      <td>702</td>\n",
       "      <td>425</td>\n",
       "      <td>695</td>\n",
       "      <td>False</td>\n",
       "      <td>False</td>\n",
       "      <td>[False, False, False, False]</td>\n",
       "      <td>FFFF</td>\n",
       "    </tr>\n",
       "    <tr>\n",
       "      <th>2</th>\n",
       "      <td>314</td>\n",
       "      <td>235</td>\n",
       "      <td>0</td>\n",
       "      <td>317</td>\n",
       "      <td>False</td>\n",
       "      <td>True</td>\n",
       "      <td>[False, False, False, False]</td>\n",
       "      <td>FFFF</td>\n",
       "    </tr>\n",
       "    <tr>\n",
       "      <th>3</th>\n",
       "      <td>2165</td>\n",
       "      <td>2165</td>\n",
       "      <td>235</td>\n",
       "      <td>3699</td>\n",
       "      <td>False</td>\n",
       "      <td>True</td>\n",
       "      <td>[False, False, False, False]</td>\n",
       "      <td>FFFF</td>\n",
       "    </tr>\n",
       "    <tr>\n",
       "      <th>4</th>\n",
       "      <td>0</td>\n",
       "      <td>1692</td>\n",
       "      <td>1719</td>\n",
       "      <td>1706</td>\n",
       "      <td>False</td>\n",
       "      <td>False</td>\n",
       "      <td>[False, False, False, False]</td>\n",
       "      <td>FFFF</td>\n",
       "    </tr>\n",
       "  </tbody>\n",
       "</table>\n",
       "</div>"
      ],
      "text/plain": [
       "   origActor  origTarget  newActor  newTarget  isDecay  isTool  \\\n",
       "0         -1        2574         0       2578     True   False   \n",
       "1          0         702       425        695    False   False   \n",
       "2        314         235         0        317    False    True   \n",
       "3       2165        2165       235       3699    False    True   \n",
       "4          0        1692      1719       1706    False   False   \n",
       "\n",
       "                          isCat catStr  \n",
       "0  [False, False, False, False]   FFFF  \n",
       "1  [False, False, False, False]   FFFF  \n",
       "2  [False, False, False, False]   FFFF  \n",
       "3  [False, False, False, False]   FFFF  \n",
       "4  [False, False, False, False]   FFFF  "
      ]
     },
     "execution_count": 327,
     "metadata": {},
     "output_type": "execute_result"
    }
   ],
   "source": [
    "trans_df = pd.DataFrame(trans_list)\n",
    "trans_df['isDecay'] = trans_df['autoDecaySeconds'] > 0\n",
    "trans_df = trans_df[['origActor', 'origTarget', 'newActor', 'newTarget', 'isDecay', 'isTool', 'isCat']]\n",
    "trans_df['catStr'] = trans_df['isCat'].apply(lambda b: ''.join(re.findall('[A-Z]', str(b))))\n",
    "\n",
    "trans_df.head()"
   ]
  },
  {
   "cell_type": "markdown",
   "metadata": {},
   "source": [
    "Count each type of category transition:"
   ]
  },
  {
   "cell_type": "code",
   "execution_count": 328,
   "metadata": {},
   "outputs": [
    {
     "data": {
      "text/html": [
       "<div>\n",
       "<style scoped>\n",
       "    .dataframe tbody tr th:only-of-type {\n",
       "        vertical-align: middle;\n",
       "    }\n",
       "\n",
       "    .dataframe tbody tr th {\n",
       "        vertical-align: top;\n",
       "    }\n",
       "\n",
       "    .dataframe thead th {\n",
       "        text-align: right;\n",
       "    }\n",
       "</style>\n",
       "<table border=\"1\" class=\"dataframe\">\n",
       "  <thead>\n",
       "    <tr style=\"text-align: right;\">\n",
       "      <th></th>\n",
       "      <th>catStr</th>\n",
       "      <th>n</th>\n",
       "    </tr>\n",
       "  </thead>\n",
       "  <tbody>\n",
       "    <tr>\n",
       "      <th>0</th>\n",
       "      <td>FFFF</td>\n",
       "      <td>3818</td>\n",
       "    </tr>\n",
       "    <tr>\n",
       "      <th>1</th>\n",
       "      <td>FFFT</td>\n",
       "      <td>20</td>\n",
       "    </tr>\n",
       "    <tr>\n",
       "      <th>2</th>\n",
       "      <td>FFTF</td>\n",
       "      <td>76</td>\n",
       "    </tr>\n",
       "    <tr>\n",
       "      <th>3</th>\n",
       "      <td>FFTT</td>\n",
       "      <td>147</td>\n",
       "    </tr>\n",
       "    <tr>\n",
       "      <th>4</th>\n",
       "      <td>FTFF</td>\n",
       "      <td>7</td>\n",
       "    </tr>\n",
       "    <tr>\n",
       "      <th>5</th>\n",
       "      <td>FTFT</td>\n",
       "      <td>1</td>\n",
       "    </tr>\n",
       "    <tr>\n",
       "      <th>6</th>\n",
       "      <td>FTTF</td>\n",
       "      <td>25</td>\n",
       "    </tr>\n",
       "    <tr>\n",
       "      <th>7</th>\n",
       "      <td>FTTT</td>\n",
       "      <td>6</td>\n",
       "    </tr>\n",
       "    <tr>\n",
       "      <th>8</th>\n",
       "      <td>TFFF</td>\n",
       "      <td>55</td>\n",
       "    </tr>\n",
       "    <tr>\n",
       "      <th>9</th>\n",
       "      <td>TFFT</td>\n",
       "      <td>38</td>\n",
       "    </tr>\n",
       "    <tr>\n",
       "      <th>10</th>\n",
       "      <td>TFTF</td>\n",
       "      <td>7</td>\n",
       "    </tr>\n",
       "    <tr>\n",
       "      <th>11</th>\n",
       "      <td>TFTT</td>\n",
       "      <td>7</td>\n",
       "    </tr>\n",
       "    <tr>\n",
       "      <th>12</th>\n",
       "      <td>TTFF</td>\n",
       "      <td>185</td>\n",
       "    </tr>\n",
       "    <tr>\n",
       "      <th>13</th>\n",
       "      <td>TTFT</td>\n",
       "      <td>6</td>\n",
       "    </tr>\n",
       "    <tr>\n",
       "      <th>14</th>\n",
       "      <td>TTTF</td>\n",
       "      <td>6</td>\n",
       "    </tr>\n",
       "    <tr>\n",
       "      <th>15</th>\n",
       "      <td>TTTT</td>\n",
       "      <td>13</td>\n",
       "    </tr>\n",
       "  </tbody>\n",
       "</table>\n",
       "</div>"
      ],
      "text/plain": [
       "   catStr     n\n",
       "0    FFFF  3818\n",
       "1    FFFT    20\n",
       "2    FFTF    76\n",
       "3    FFTT   147\n",
       "4    FTFF     7\n",
       "5    FTFT     1\n",
       "6    FTTF    25\n",
       "7    FTTT     6\n",
       "8    TFFF    55\n",
       "9    TFFT    38\n",
       "10   TFTF     7\n",
       "11   TFTT     7\n",
       "12   TTFF   185\n",
       "13   TTFT     6\n",
       "14   TTTF     6\n",
       "15   TTTT    13"
      ]
     },
     "execution_count": 328,
     "metadata": {},
     "output_type": "execute_result"
    }
   ],
   "source": [
    "cat_counts = trans_df.groupby('catStr')['isTool'].agg('count').reset_index()\n",
    "cat_counts = cat_counts.rename(columns = {'isTool': 'n'})\n",
    "cat_counts"
   ]
  },
  {
   "cell_type": "markdown",
   "metadata": {},
   "source": [
    "Check examples of category transitions:"
   ]
  },
  {
   "cell_type": "code",
   "execution_count": 329,
   "metadata": {},
   "outputs": [
    {
     "data": {
      "text/html": [
       "<div>\n",
       "<style scoped>\n",
       "    .dataframe tbody tr th:only-of-type {\n",
       "        vertical-align: middle;\n",
       "    }\n",
       "\n",
       "    .dataframe tbody tr th {\n",
       "        vertical-align: top;\n",
       "    }\n",
       "\n",
       "    .dataframe thead th {\n",
       "        text-align: right;\n",
       "    }\n",
       "</style>\n",
       "<table border=\"1\" class=\"dataframe\">\n",
       "  <thead>\n",
       "    <tr style=\"text-align: right;\">\n",
       "      <th></th>\n",
       "      <th>catStr</th>\n",
       "      <th>n</th>\n",
       "      <th>origActor</th>\n",
       "      <th>origTarget</th>\n",
       "      <th>newActor</th>\n",
       "      <th>newTarget</th>\n",
       "      <th>isDecay</th>\n",
       "      <th>isTool</th>\n",
       "      <th>isCat</th>\n",
       "    </tr>\n",
       "  </thead>\n",
       "  <tbody>\n",
       "    <tr>\n",
       "      <th>0</th>\n",
       "      <td>FFFF</td>\n",
       "      <td>3818</td>\n",
       "      <td>-1</td>\n",
       "      <td>2574</td>\n",
       "      <td>0</td>\n",
       "      <td>2578</td>\n",
       "      <td>True</td>\n",
       "      <td>False</td>\n",
       "      <td>[False, False, False, False]</td>\n",
       "    </tr>\n",
       "    <tr>\n",
       "      <th>1</th>\n",
       "      <td>TTFF</td>\n",
       "      <td>185</td>\n",
       "      <td>1127</td>\n",
       "      <td>2883</td>\n",
       "      <td>1127</td>\n",
       "      <td>2879</td>\n",
       "      <td>False</td>\n",
       "      <td>True</td>\n",
       "      <td>[True, True, False, False]</td>\n",
       "    </tr>\n",
       "    <tr>\n",
       "      <th>2</th>\n",
       "      <td>FFTT</td>\n",
       "      <td>147</td>\n",
       "      <td>516</td>\n",
       "      <td>519</td>\n",
       "      <td>520</td>\n",
       "      <td>519</td>\n",
       "      <td>False</td>\n",
       "      <td>False</td>\n",
       "      <td>[False, False, True, True]</td>\n",
       "    </tr>\n",
       "    <tr>\n",
       "      <th>3</th>\n",
       "      <td>FFTF</td>\n",
       "      <td>76</td>\n",
       "      <td>209</td>\n",
       "      <td>412</td>\n",
       "      <td>210</td>\n",
       "      <td>512</td>\n",
       "      <td>False</td>\n",
       "      <td>False</td>\n",
       "      <td>[False, False, True, False]</td>\n",
       "    </tr>\n",
       "    <tr>\n",
       "      <th>4</th>\n",
       "      <td>TFFF</td>\n",
       "      <td>55</td>\n",
       "      <td>853</td>\n",
       "      <td>3374</td>\n",
       "      <td>852</td>\n",
       "      <td>1465</td>\n",
       "      <td>False</td>\n",
       "      <td>False</td>\n",
       "      <td>[True, False, False, False]</td>\n",
       "    </tr>\n",
       "    <tr>\n",
       "      <th>5</th>\n",
       "      <td>TFFT</td>\n",
       "      <td>38</td>\n",
       "      <td>324</td>\n",
       "      <td>-1</td>\n",
       "      <td>239</td>\n",
       "      <td>322</td>\n",
       "      <td>False</td>\n",
       "      <td>True</td>\n",
       "      <td>[True, False, False, True]</td>\n",
       "    </tr>\n",
       "    <tr>\n",
       "      <th>6</th>\n",
       "      <td>FTTF</td>\n",
       "      <td>25</td>\n",
       "      <td>0</td>\n",
       "      <td>1069</td>\n",
       "      <td>969</td>\n",
       "      <td>1012</td>\n",
       "      <td>False</td>\n",
       "      <td>False</td>\n",
       "      <td>[False, True, True, False]</td>\n",
       "    </tr>\n",
       "    <tr>\n",
       "      <th>7</th>\n",
       "      <td>FFFT</td>\n",
       "      <td>20</td>\n",
       "      <td>812</td>\n",
       "      <td>665</td>\n",
       "      <td>0</td>\n",
       "      <td>2233</td>\n",
       "      <td>False</td>\n",
       "      <td>True</td>\n",
       "      <td>[False, False, False, True]</td>\n",
       "    </tr>\n",
       "    <tr>\n",
       "      <th>8</th>\n",
       "      <td>TTTT</td>\n",
       "      <td>13</td>\n",
       "      <td>394</td>\n",
       "      <td>1802</td>\n",
       "      <td>394</td>\n",
       "      <td>1806</td>\n",
       "      <td>False</td>\n",
       "      <td>True</td>\n",
       "      <td>[True, True, True, True]</td>\n",
       "    </tr>\n",
       "    <tr>\n",
       "      <th>9</th>\n",
       "      <td>FTFF</td>\n",
       "      <td>7</td>\n",
       "      <td>568</td>\n",
       "      <td>63</td>\n",
       "      <td>1829</td>\n",
       "      <td>63</td>\n",
       "      <td>False</td>\n",
       "      <td>False</td>\n",
       "      <td>[False, True, False, False]</td>\n",
       "    </tr>\n",
       "    <tr>\n",
       "      <th>10</th>\n",
       "      <td>TFTF</td>\n",
       "      <td>7</td>\n",
       "      <td>1949</td>\n",
       "      <td>1950</td>\n",
       "      <td>0</td>\n",
       "      <td>1947</td>\n",
       "      <td>False</td>\n",
       "      <td>True</td>\n",
       "      <td>[True, False, True, False]</td>\n",
       "    </tr>\n",
       "    <tr>\n",
       "      <th>11</th>\n",
       "      <td>TFTT</td>\n",
       "      <td>7</td>\n",
       "      <td>3685</td>\n",
       "      <td>3681</td>\n",
       "      <td>235</td>\n",
       "      <td>3681</td>\n",
       "      <td>False</td>\n",
       "      <td>True</td>\n",
       "      <td>[True, False, True, True]</td>\n",
       "    </tr>\n",
       "    <tr>\n",
       "      <th>12</th>\n",
       "      <td>FTTT</td>\n",
       "      <td>6</td>\n",
       "      <td>0</td>\n",
       "      <td>1033</td>\n",
       "      <td>1037</td>\n",
       "      <td>1034</td>\n",
       "      <td>False</td>\n",
       "      <td>False</td>\n",
       "      <td>[False, True, True, True]</td>\n",
       "    </tr>\n",
       "    <tr>\n",
       "      <th>13</th>\n",
       "      <td>TTFT</td>\n",
       "      <td>6</td>\n",
       "      <td>964</td>\n",
       "      <td>1015</td>\n",
       "      <td>964</td>\n",
       "      <td>1016</td>\n",
       "      <td>False</td>\n",
       "      <td>True</td>\n",
       "      <td>[True, True, False, True]</td>\n",
       "    </tr>\n",
       "    <tr>\n",
       "      <th>14</th>\n",
       "      <td>TTTF</td>\n",
       "      <td>6</td>\n",
       "      <td>849</td>\n",
       "      <td>903</td>\n",
       "      <td>849</td>\n",
       "      <td>213</td>\n",
       "      <td>False</td>\n",
       "      <td>True</td>\n",
       "      <td>[True, True, True, False]</td>\n",
       "    </tr>\n",
       "    <tr>\n",
       "      <th>15</th>\n",
       "      <td>FTFT</td>\n",
       "      <td>1</td>\n",
       "      <td>0</td>\n",
       "      <td>1695</td>\n",
       "      <td>1724</td>\n",
       "      <td>1749</td>\n",
       "      <td>False</td>\n",
       "      <td>False</td>\n",
       "      <td>[False, True, False, True]</td>\n",
       "    </tr>\n",
       "  </tbody>\n",
       "</table>\n",
       "</div>"
      ],
      "text/plain": [
       "   catStr     n  origActor  origTarget  newActor  newTarget  isDecay  isTool  \\\n",
       "0    FFFF  3818         -1        2574         0       2578     True   False   \n",
       "1    TTFF   185       1127        2883      1127       2879    False    True   \n",
       "2    FFTT   147        516         519       520        519    False   False   \n",
       "3    FFTF    76        209         412       210        512    False   False   \n",
       "4    TFFF    55        853        3374       852       1465    False   False   \n",
       "5    TFFT    38        324          -1       239        322    False    True   \n",
       "6    FTTF    25          0        1069       969       1012    False   False   \n",
       "7    FFFT    20        812         665         0       2233    False    True   \n",
       "8    TTTT    13        394        1802       394       1806    False    True   \n",
       "9    FTFF     7        568          63      1829         63    False   False   \n",
       "10   TFTF     7       1949        1950         0       1947    False    True   \n",
       "11   TFTT     7       3685        3681       235       3681    False    True   \n",
       "12   FTTT     6          0        1033      1037       1034    False   False   \n",
       "13   TTFT     6        964        1015       964       1016    False    True   \n",
       "14   TTTF     6        849         903       849        213    False    True   \n",
       "15   FTFT     1          0        1695      1724       1749    False   False   \n",
       "\n",
       "                           isCat  \n",
       "0   [False, False, False, False]  \n",
       "1     [True, True, False, False]  \n",
       "2     [False, False, True, True]  \n",
       "3    [False, False, True, False]  \n",
       "4    [True, False, False, False]  \n",
       "5     [True, False, False, True]  \n",
       "6     [False, True, True, False]  \n",
       "7    [False, False, False, True]  \n",
       "8       [True, True, True, True]  \n",
       "9    [False, True, False, False]  \n",
       "10    [True, False, True, False]  \n",
       "11     [True, False, True, True]  \n",
       "12     [False, True, True, True]  \n",
       "13     [True, True, False, True]  \n",
       "14     [True, True, True, False]  \n",
       "15    [False, True, False, True]  "
      ]
     },
     "execution_count": 329,
     "metadata": {},
     "output_type": "execute_result"
    }
   ],
   "source": [
    "cat_trans = trans_df.groupby('catStr').first().reset_index()\n",
    "cat_trans = pd.merge(cat_counts, cat_trans, on = 'catStr')\n",
    "cat_trans = cat_trans.sort_values('n', ascending = False).reset_index(drop=True)\n",
    "cat_trans"
   ]
  },
  {
   "cell_type": "markdown",
   "metadata": {},
   "source": [
    "## Build Tech Tree and calculate Depth"
   ]
  },
  {
   "cell_type": "markdown",
   "metadata": {},
   "source": [
    "### Expand categories"
   ]
  },
  {
   "cell_type": "markdown",
   "metadata": {},
   "source": [
    "If an object in a transition refers to a category, replace it with a list of objects within the category"
   ]
  },
  {
   "cell_type": "code",
   "execution_count": 330,
   "metadata": {},
   "outputs": [],
   "source": [
    "tech_tree_df = trans_df.copy()\n",
    "tech_tree_df = tech_tree_df[trans_keys + ['isCat']]\n",
    "tech_tree_df = tech_tree_df.astype('object')\n",
    "\n",
    "# for i,row in notebook.tqdm(tech_tree_df.iterrows(), total=tech_tree_df.shape[0]):\n",
    "    \n",
    "#     for j in trans_keys:\n",
    "#         cat_id = row[j]\n",
    "#         if is_cat(cat_id):\n",
    "            \n",
    "#             tech_tree_df.at[i,j] = cat_dict[cat_id]\n",
    "\n",
    "# print(tech_tree_df.shape)\n",
    "# tech_tree_df.head()"
   ]
  },
  {
   "cell_type": "code",
   "execution_count": 331,
   "metadata": {},
   "outputs": [],
   "source": [
    "for i in range(0,len(tech_tree_df)):\n",
    "    for j in ['origActor','origTarget','newActor','newTarget']:\n",
    "        curr_cell = tech_tree_df.iloc[i][j]\n",
    "        if curr_cell in cat_dict:\n",
    "            tech_tree_df.at[i,j] = list(cat_dict[curr_cell])"
   ]
  },
  {
   "cell_type": "markdown",
   "metadata": {},
   "source": [
    "Remove natural decay transitions:"
   ]
  },
  {
   "cell_type": "code",
   "execution_count": 332,
   "metadata": {
    "collapsed": true
   },
   "outputs": [],
   "source": [
    "tech_tree_df = tech_tree_df.query('(newActor != 0) or (newTarget != 0)')"
   ]
  },
  {
   "cell_type": "markdown",
   "metadata": {
    "collapsed": true
   },
   "source": [
    "Remove tools from transitions:"
   ]
  },
  {
   "cell_type": "code",
   "execution_count": 333,
   "metadata": {},
   "outputs": [],
   "source": [
    "# tech_tree_df.loc[tech_tree_df.newTarget == tech_tree_df.origActor, 'newTarget'] = ''\n",
    "tech_tree_df.loc[tech_tree_df.newTarget == tech_tree_df.origTarget, 'newTarget'] = ''\n",
    "# tech_tree_df.loc[tech_tree_df.newActor == tech_tree_df.origTarget, 'newActor'] = ''\n",
    "tech_tree_df.loc[tech_tree_df.newActor == tech_tree_df.origActor, 'newActor'] = ''"
   ]
  },
  {
   "cell_type": "code",
   "execution_count": 334,
   "metadata": {},
   "outputs": [
    {
     "name": "stdout",
     "output_type": "stream",
     "text": [
      "(4302, 5)\n"
     ]
    },
    {
     "data": {
      "text/html": [
       "<div>\n",
       "<style scoped>\n",
       "    .dataframe tbody tr th:only-of-type {\n",
       "        vertical-align: middle;\n",
       "    }\n",
       "\n",
       "    .dataframe tbody tr th {\n",
       "        vertical-align: top;\n",
       "    }\n",
       "\n",
       "    .dataframe thead th {\n",
       "        text-align: right;\n",
       "    }\n",
       "</style>\n",
       "<table border=\"1\" class=\"dataframe\">\n",
       "  <thead>\n",
       "    <tr style=\"text-align: right;\">\n",
       "      <th></th>\n",
       "      <th>origActor</th>\n",
       "      <th>newActor</th>\n",
       "      <th>origTarget</th>\n",
       "      <th>newTarget</th>\n",
       "      <th>isCat</th>\n",
       "    </tr>\n",
       "  </thead>\n",
       "  <tbody>\n",
       "    <tr>\n",
       "      <th>0</th>\n",
       "      <td>-1</td>\n",
       "      <td>0</td>\n",
       "      <td>2574</td>\n",
       "      <td>2578</td>\n",
       "      <td>[False, False, False, False]</td>\n",
       "    </tr>\n",
       "    <tr>\n",
       "      <th>1</th>\n",
       "      <td>0</td>\n",
       "      <td>425</td>\n",
       "      <td>702</td>\n",
       "      <td>695</td>\n",
       "      <td>[False, False, False, False]</td>\n",
       "    </tr>\n",
       "    <tr>\n",
       "      <th>2</th>\n",
       "      <td>314</td>\n",
       "      <td>0</td>\n",
       "      <td>235</td>\n",
       "      <td>317</td>\n",
       "      <td>[False, False, False, False]</td>\n",
       "    </tr>\n",
       "    <tr>\n",
       "      <th>3</th>\n",
       "      <td>2165</td>\n",
       "      <td>235</td>\n",
       "      <td>2165</td>\n",
       "      <td>3699</td>\n",
       "      <td>[False, False, False, False]</td>\n",
       "    </tr>\n",
       "    <tr>\n",
       "      <th>4</th>\n",
       "      <td>0</td>\n",
       "      <td>1719</td>\n",
       "      <td>1692</td>\n",
       "      <td>1706</td>\n",
       "      <td>[False, False, False, False]</td>\n",
       "    </tr>\n",
       "    <tr>\n",
       "      <th>5</th>\n",
       "      <td>0</td>\n",
       "      <td>2228</td>\n",
       "      <td>3085</td>\n",
       "      <td>3086</td>\n",
       "      <td>[False, False, False, False]</td>\n",
       "    </tr>\n",
       "    <tr>\n",
       "      <th>6</th>\n",
       "      <td>-1</td>\n",
       "      <td>0</td>\n",
       "      <td>2206</td>\n",
       "      <td>2208</td>\n",
       "      <td>[False, False, False, False]</td>\n",
       "    </tr>\n",
       "    <tr>\n",
       "      <th>7</th>\n",
       "      <td>455</td>\n",
       "      <td>0</td>\n",
       "      <td>504</td>\n",
       "      <td>811</td>\n",
       "      <td>[False, False, False, False]</td>\n",
       "    </tr>\n",
       "    <tr>\n",
       "      <th>8</th>\n",
       "      <td>1619</td>\n",
       "      <td>0</td>\n",
       "      <td>2563</td>\n",
       "      <td>2564</td>\n",
       "      <td>[False, False, False, False]</td>\n",
       "    </tr>\n",
       "    <tr>\n",
       "      <th>9</th>\n",
       "      <td>0</td>\n",
       "      <td>1717</td>\n",
       "      <td>1686</td>\n",
       "      <td>1696</td>\n",
       "      <td>[False, False, False, False]</td>\n",
       "    </tr>\n",
       "    <tr>\n",
       "      <th>10</th>\n",
       "      <td>516</td>\n",
       "      <td>520</td>\n",
       "      <td>[82, 346, 83, 3029]</td>\n",
       "      <td></td>\n",
       "      <td>[False, False, True, True]</td>\n",
       "    </tr>\n",
       "    <tr>\n",
       "      <th>11</th>\n",
       "      <td>693</td>\n",
       "      <td>0</td>\n",
       "      <td>772</td>\n",
       "      <td>794</td>\n",
       "      <td>[False, False, False, False]</td>\n",
       "    </tr>\n",
       "    <tr>\n",
       "      <th>12</th>\n",
       "      <td>[324, 2509, 2519, 3005]</td>\n",
       "      <td>239</td>\n",
       "      <td>-1</td>\n",
       "      <td>[322, 2508, 2523, 3008]</td>\n",
       "      <td>[True, False, False, True]</td>\n",
       "    </tr>\n",
       "    <tr>\n",
       "      <th>13</th>\n",
       "      <td>-1</td>\n",
       "      <td>0</td>\n",
       "      <td>2560</td>\n",
       "      <td>2561</td>\n",
       "      <td>[False, False, False, False]</td>\n",
       "    </tr>\n",
       "    <tr>\n",
       "      <th>14</th>\n",
       "      <td>2097</td>\n",
       "      <td>2091</td>\n",
       "      <td>-1</td>\n",
       "      <td>2102</td>\n",
       "      <td>[False, False, False, False]</td>\n",
       "    </tr>\n",
       "    <tr>\n",
       "      <th>15</th>\n",
       "      <td>502</td>\n",
       "      <td></td>\n",
       "      <td>3191</td>\n",
       "      <td>2571</td>\n",
       "      <td>[False, False, False, False]</td>\n",
       "    </tr>\n",
       "    <tr>\n",
       "      <th>16</th>\n",
       "      <td>602</td>\n",
       "      <td>0</td>\n",
       "      <td>59</td>\n",
       "      <td>2713</td>\n",
       "      <td>[False, False, False, False]</td>\n",
       "    </tr>\n",
       "    <tr>\n",
       "      <th>17</th>\n",
       "      <td>333</td>\n",
       "      <td>0</td>\n",
       "      <td>67</td>\n",
       "      <td>334</td>\n",
       "      <td>[False, False, False, False]</td>\n",
       "    </tr>\n",
       "    <tr>\n",
       "      <th>18</th>\n",
       "      <td>2515</td>\n",
       "      <td>0</td>\n",
       "      <td>318</td>\n",
       "      <td>2517</td>\n",
       "      <td>[False, False, False, False]</td>\n",
       "    </tr>\n",
       "    <tr>\n",
       "      <th>19</th>\n",
       "      <td>-1</td>\n",
       "      <td>0</td>\n",
       "      <td>1727</td>\n",
       "      <td></td>\n",
       "      <td>[False, False, False, False]</td>\n",
       "    </tr>\n",
       "  </tbody>\n",
       "</table>\n",
       "</div>"
      ],
      "text/plain": [
       "                  origActor newActor           origTarget  \\\n",
       "0                        -1        0                 2574   \n",
       "1                         0      425                  702   \n",
       "2                       314        0                  235   \n",
       "3                      2165      235                 2165   \n",
       "4                         0     1719                 1692   \n",
       "5                         0     2228                 3085   \n",
       "6                        -1        0                 2206   \n",
       "7                       455        0                  504   \n",
       "8                      1619        0                 2563   \n",
       "9                         0     1717                 1686   \n",
       "10                      516      520  [82, 346, 83, 3029]   \n",
       "11                      693        0                  772   \n",
       "12  [324, 2509, 2519, 3005]      239                   -1   \n",
       "13                       -1        0                 2560   \n",
       "14                     2097     2091                   -1   \n",
       "15                      502                          3191   \n",
       "16                      602        0                   59   \n",
       "17                      333        0                   67   \n",
       "18                     2515        0                  318   \n",
       "19                       -1        0                 1727   \n",
       "\n",
       "                  newTarget                         isCat  \n",
       "0                      2578  [False, False, False, False]  \n",
       "1                       695  [False, False, False, False]  \n",
       "2                       317  [False, False, False, False]  \n",
       "3                      3699  [False, False, False, False]  \n",
       "4                      1706  [False, False, False, False]  \n",
       "5                      3086  [False, False, False, False]  \n",
       "6                      2208  [False, False, False, False]  \n",
       "7                       811  [False, False, False, False]  \n",
       "8                      2564  [False, False, False, False]  \n",
       "9                      1696  [False, False, False, False]  \n",
       "10                             [False, False, True, True]  \n",
       "11                      794  [False, False, False, False]  \n",
       "12  [322, 2508, 2523, 3008]    [True, False, False, True]  \n",
       "13                     2561  [False, False, False, False]  \n",
       "14                     2102  [False, False, False, False]  \n",
       "15                     2571  [False, False, False, False]  \n",
       "16                     2713  [False, False, False, False]  \n",
       "17                      334  [False, False, False, False]  \n",
       "18                     2517  [False, False, False, False]  \n",
       "19                           [False, False, False, False]  "
      ]
     },
     "execution_count": 334,
     "metadata": {},
     "output_type": "execute_result"
    }
   ],
   "source": [
    "print(tech_tree_df.shape)\n",
    "tech_tree_df.head(n = 20)"
   ]
  },
  {
   "cell_type": "markdown",
   "metadata": {},
   "source": [
    "expand on perhaps items (treated as category names)"
   ]
  },
  {
   "cell_type": "code",
   "execution_count": 335,
   "metadata": {
    "scrolled": true
   },
   "outputs": [
    {
     "data": {
      "text/html": [
       "<div>\n",
       "<style scoped>\n",
       "    .dataframe tbody tr th:only-of-type {\n",
       "        vertical-align: middle;\n",
       "    }\n",
       "\n",
       "    .dataframe tbody tr th {\n",
       "        vertical-align: top;\n",
       "    }\n",
       "\n",
       "    .dataframe thead th {\n",
       "        text-align: right;\n",
       "    }\n",
       "</style>\n",
       "<table border=\"1\" class=\"dataframe\">\n",
       "  <thead>\n",
       "    <tr style=\"text-align: right;\">\n",
       "      <th></th>\n",
       "      <th>origActor</th>\n",
       "      <th>origTarget</th>\n",
       "      <th>newActor</th>\n",
       "      <th>newTarget</th>\n",
       "      <th>isDecay</th>\n",
       "      <th>isTool</th>\n",
       "      <th>isCat</th>\n",
       "      <th>catStr</th>\n",
       "    </tr>\n",
       "  </thead>\n",
       "  <tbody>\n",
       "    <tr>\n",
       "      <th>1204</th>\n",
       "      <td>-1</td>\n",
       "      <td>1195</td>\n",
       "      <td>0</td>\n",
       "      <td>3221</td>\n",
       "      <td>True</td>\n",
       "      <td>False</td>\n",
       "      <td>[False, False, False, True]</td>\n",
       "      <td>FFFT</td>\n",
       "    </tr>\n",
       "    <tr>\n",
       "      <th>1437</th>\n",
       "      <td>-1</td>\n",
       "      <td>3232</td>\n",
       "      <td>0</td>\n",
       "      <td>3233</td>\n",
       "      <td>True</td>\n",
       "      <td>False</td>\n",
       "      <td>[False, False, False, True]</td>\n",
       "      <td>FFFT</td>\n",
       "    </tr>\n",
       "    <tr>\n",
       "      <th>1717</th>\n",
       "      <td>-1</td>\n",
       "      <td>2101</td>\n",
       "      <td>0</td>\n",
       "      <td>2095</td>\n",
       "      <td>True</td>\n",
       "      <td>False</td>\n",
       "      <td>[False, False, False, True]</td>\n",
       "      <td>FFFT</td>\n",
       "    </tr>\n",
       "    <tr>\n",
       "      <th>1750</th>\n",
       "      <td>-1</td>\n",
       "      <td>2303</td>\n",
       "      <td>0</td>\n",
       "      <td>2328</td>\n",
       "      <td>True</td>\n",
       "      <td>False</td>\n",
       "      <td>[False, False, False, True]</td>\n",
       "      <td>FFFT</td>\n",
       "    </tr>\n",
       "    <tr>\n",
       "      <th>2389</th>\n",
       "      <td>-1</td>\n",
       "      <td>2331</td>\n",
       "      <td>0</td>\n",
       "      <td>2328</td>\n",
       "      <td>True</td>\n",
       "      <td>False</td>\n",
       "      <td>[False, False, False, True]</td>\n",
       "      <td>FFFT</td>\n",
       "    </tr>\n",
       "    <tr>\n",
       "      <th>3419</th>\n",
       "      <td>-1</td>\n",
       "      <td>2810</td>\n",
       "      <td>0</td>\n",
       "      <td>2811</td>\n",
       "      <td>True</td>\n",
       "      <td>False</td>\n",
       "      <td>[False, False, False, True]</td>\n",
       "      <td>FFFT</td>\n",
       "    </tr>\n",
       "  </tbody>\n",
       "</table>\n",
       "</div>"
      ],
      "text/plain": [
       "      origActor  origTarget  newActor  newTarget  isDecay  isTool  \\\n",
       "1204         -1        1195         0       3221     True   False   \n",
       "1437         -1        3232         0       3233     True   False   \n",
       "1717         -1        2101         0       2095     True   False   \n",
       "1750         -1        2303         0       2328     True   False   \n",
       "2389         -1        2331         0       2328     True   False   \n",
       "3419         -1        2810         0       2811     True   False   \n",
       "\n",
       "                            isCat catStr  \n",
       "1204  [False, False, False, True]   FFFT  \n",
       "1437  [False, False, False, True]   FFFT  \n",
       "1717  [False, False, False, True]   FFFT  \n",
       "1750  [False, False, False, True]   FFFT  \n",
       "2389  [False, False, False, True]   FFFT  \n",
       "3419  [False, False, False, True]   FFFT  "
      ]
     },
     "execution_count": 335,
     "metadata": {},
     "output_type": "execute_result"
    }
   ],
   "source": [
    "trans_df.query('(newTarget in @perhaps_list) or (newActor in @perhaps_list)')"
   ]
  },
  {
   "cell_type": "markdown",
   "metadata": {},
   "source": [
    "parse transitions data frame (expand on categories)"
   ]
  },
  {
   "cell_type": "code",
   "execution_count": 336,
   "metadata": {
    "collapsed": true
   },
   "outputs": [],
   "source": [
    "## TODO: This is my attempt to clean up this code - NV\n",
    "# edge_cases = []\n",
    "# expanded_tech_list = []\n",
    "# new_cols = ['newTarget', 'newActor']\n",
    "\n",
    "# for idx,row in tech_tree_df.iterrows():\n",
    "    \n",
    "#     # Which of these columns contain lists? (i.e., need to be expanded)\n",
    "#     columns_to_expand = []\n",
    "#     for col in trans_keys:\n",
    "#         if type(row[col]) is list:\n",
    "#             columns_to_expand.append(col)\n",
    "            \n",
    "#     # CASE 1: All individual components - proceed!\n",
    "#     if not len(columns_to_expand):\n",
    "#         expanded_tech_list.append(row)\n",
    "#     # CASE 2: Exactly 1 components is a category\n",
    "#     elif (len(columns_to_expand) == 1) and (columns_to_expand[0] in new_cols):\n",
    "#         target = columns_to_expand[0]\n",
    "#         items = row[target].copy()\n",
    "#         print(row)\n",
    "        \n",
    "#         # Special case: If the product is \"perhaps __\", remove it\n",
    "#         if items[0] in perhaps_list:\n",
    "#             print(target)\n",
    "#             items.pop(0)\n",
    "        \n",
    "            \n",
    "        \n",
    "# #     #category id only in product: category id is actually item id\n",
    "# #     elif (len(target_columns) == 1) and ((target_columns=='newTarget') or (target_columns=='newActor')):\n",
    "# #         if (target_columns=='newTarget'): #if the product is in target\n",
    "# #             if curr_line['newTarget'][0] in perhaps_list: #special cases when the product is 'Perhaps xxx'\n",
    "# #                 curr_line['newTarget'] = curr_line['newTarget'][1:]\n",
    "# #                 for k in curr_line.values: #first turn every cell into a list obj\n",
    "# #                     if type(k) is int:\n",
    "# #                         k = [k]\n",
    "# #                 sub = split_dataframe_rows(curr_line.to_frame().T, target_columns) #split row\n",
    "# #                 newdf = newdf.append(sub)#append to dataframe\n",
    "# #             else: #normal cases\n",
    "# #                 curr_line['newTarget'] = curr_line['newTarget'][0] #only keep the first element of the list\n",
    "# #                 newdf = newdf.append(curr_line.to_frame().T) #append to dataframe\n",
    "# #         elif (target_columns=='newActor'): #if the product is in actor\n",
    "# #             curr_line['newActor'] = curr_line['newActor'][0]\n",
    "# #             newdf = newdf.append(curr_line.to_frame().T) #append to dataframe\n",
    "        \n",
    "# #     #more categories in equation and they match in lengths\n",
    "# #     else:\n",
    "# #         length = len(curr_line[target_columns[0]])\n",
    "# #         if all(len(lst) == length for lst in curr_line[target_columns]): #check that they are of the same lengths\n",
    "# #             for k in curr_line.values: #first turn every cell into a list obj\n",
    "# #                 if type(k) is int:\n",
    "# #                     k = [k]\n",
    "# #             sub = split_dataframe_rows(curr_line.to_frame().T, target_columns) #split row\n",
    "# #             newdf = newdf.append(sub)#append to dataframe\n",
    "# #         else:\n",
    "# #             edge_cases = np.append(edge_cases, i) #edge cases are not included in newdf\n",
    "        \n"
   ]
  },
  {
   "cell_type": "code",
   "execution_count": 337,
   "metadata": {
    "scrolled": false
   },
   "outputs": [
    {
     "name": "stderr",
     "output_type": "stream",
     "text": [
      "/Users/dengwenning/anaconda3/lib/python3.6/site-packages/pandas/core/frame.py:6692: FutureWarning: Sorting because non-concatenation axis is not aligned. A future version\n",
      "of pandas will change to not sort by default.\n",
      "\n",
      "To accept the future behavior, pass 'sort=False'.\n",
      "\n",
      "To retain the current behavior and silence the warning, pass 'sort=True'.\n",
      "\n",
      "  sort=sort)\n"
     ]
    }
   ],
   "source": [
    "mydf = tech_tree_df.copy()\n",
    "edge_cases = []\n",
    "newdf = pd.DataFrame(columns = ['origActor','origTarget','newActor','newTarget'])\n",
    "for i in range(0,len(mydf)):\n",
    "    curr_line = mydf.iloc[i]\n",
    "    target_columns = []\n",
    "    for j in ['origActor','origTarget','newActor','newTarget']:\n",
    "        if type(curr_line[j]) is list:\n",
    "            target_columns = np.append(target_columns,j)\n",
    "            \n",
    "    #nothing in the equation has a category id       \n",
    "    if (len(target_columns) == 0):\n",
    "        newdf = newdf.append(curr_line.to_frame().T) #append to dataframe\n",
    "        \n",
    "    #category id only in product: category id is actually item id\n",
    "    elif (len(target_columns) == 1) and ((target_columns=='newTarget') or (target_columns=='newActor')):\n",
    "        if (target_columns=='newTarget'): #if the product is in target\n",
    "            if curr_line['newTarget'][0] in perhaps_list: #special cases when the product is 'Perhaps xxx'\n",
    "                curr_line['newTarget'] = curr_line['newTarget'][1:]\n",
    "                for k in curr_line.values: #first turn every cell into a list obj\n",
    "                    if type(k) is int:\n",
    "                        k = [k]\n",
    "                sub = split_dataframe_rows(curr_line.to_frame().T, target_columns) #split row\n",
    "                newdf = newdf.append(sub)#append to dataframe\n",
    "            else: #normal cases\n",
    "                curr_line['newTarget'] = curr_line['newTarget'][0] #only keep the first element of the list\n",
    "                newdf = newdf.append(curr_line.to_frame().T) #append to dataframe\n",
    "        elif (target_columns=='newActor'): #if the product is in actor\n",
    "            curr_line['newActor'] = curr_line['newActor'][0]\n",
    "            newdf = newdf.append(curr_line.to_frame().T) #append to dataframe\n",
    "        \n",
    "    #more categories in equation and they match in lengths\n",
    "    else:\n",
    "        length = len(curr_line[target_columns[0]])\n",
    "        if all(len(lst) == length for lst in curr_line[target_columns]): #check that they are of the same lengths\n",
    "            for k in curr_line.values: #first turn every cell into a list obj\n",
    "                if type(k) is int:\n",
    "                    k = [k]\n",
    "            sub = split_dataframe_rows(curr_line.to_frame().T, target_columns) #split row\n",
    "            newdf = newdf.append(sub)#append to dataframe\n",
    "        else:\n",
    "            edge_cases = np.append(edge_cases, i) #edge cases are not included in newdf\n",
    "        \n"
   ]
  },
  {
   "cell_type": "markdown",
   "metadata": {},
   "source": [
    "remove situations where nothing is produced"
   ]
  },
  {
   "cell_type": "code",
   "execution_count": 338,
   "metadata": {
    "collapsed": true
   },
   "outputs": [],
   "source": [
    "for _,row in newdf.iterrows():\n",
    "    for key in trans_keys:\n",
    "        if type(key) is list:\n",
    "            print(row)"
   ]
  },
  {
   "cell_type": "code",
   "execution_count": 339,
   "metadata": {},
   "outputs": [],
   "source": [
    "newdf = newdf[trans_keys]\n",
    "# newdf = newdf.astype('int32')\n",
    "newdf = newdf.query('(newActor != \"\") or (newTarget != \"\")')"
   ]
  },
  {
   "cell_type": "markdown",
   "metadata": {},
   "source": [
    "parse cases where the lengths of both sides do not match"
   ]
  },
  {
   "cell_type": "code",
   "execution_count": 340,
   "metadata": {},
   "outputs": [
    {
     "data": {
      "text/plain": [
       "array([ 138.,  264.,  379.,  393.,  423.,  705.,  931., 1781., 1917.,\n",
       "       2371., 2494., 2519., 3358., 3841., 4230., 4252.])"
      ]
     },
     "execution_count": 340,
     "metadata": {},
     "output_type": "execute_result"
    }
   ],
   "source": [
    "edge_cases"
   ]
  },
  {
   "cell_type": "code",
   "execution_count": 341,
   "metadata": {},
   "outputs": [
    {
     "data": {
      "text/html": [
       "<div>\n",
       "<style scoped>\n",
       "    .dataframe tbody tr th:only-of-type {\n",
       "        vertical-align: middle;\n",
       "    }\n",
       "\n",
       "    .dataframe tbody tr th {\n",
       "        vertical-align: top;\n",
       "    }\n",
       "\n",
       "    .dataframe thead th {\n",
       "        text-align: right;\n",
       "    }\n",
       "</style>\n",
       "<table border=\"1\" class=\"dataframe\">\n",
       "  <thead>\n",
       "    <tr style=\"text-align: right;\">\n",
       "      <th></th>\n",
       "      <th>origActor</th>\n",
       "      <th>newActor</th>\n",
       "      <th>origTarget</th>\n",
       "      <th>newTarget</th>\n",
       "      <th>isCat</th>\n",
       "    </tr>\n",
       "  </thead>\n",
       "  <tbody>\n",
       "    <tr>\n",
       "      <th>275</th>\n",
       "      <td>[210, 382]</td>\n",
       "      <td></td>\n",
       "      <td>[1802, 1803, 1804, 1805, 1872, 2723, 3069, 4311]</td>\n",
       "      <td>[1806, 1809, 1808, 1807, 1873, 2724, 3070, 4312]</td>\n",
       "      <td>[True, True, True, True]</td>\n",
       "    </tr>\n",
       "    <tr>\n",
       "      <th>407</th>\n",
       "      <td>[210, 382]</td>\n",
       "      <td></td>\n",
       "      <td>[1790, 1791, 1799, 1798, 1868, 2721, 3071, 4308]</td>\n",
       "      <td>[1792, 1793, 1801, 1800, 1869, 2722, 3072, 4309]</td>\n",
       "      <td>[True, True, True, True]</td>\n",
       "    </tr>\n",
       "    <tr>\n",
       "      <th>438</th>\n",
       "      <td>[210, 382]</td>\n",
       "      <td></td>\n",
       "      <td>[1034, 1056, 1055]</td>\n",
       "      <td>[1035, 1057, 1058]</td>\n",
       "      <td>[True, True, True, True]</td>\n",
       "    </tr>\n",
       "    <tr>\n",
       "      <th>727</th>\n",
       "      <td>[135, 560]</td>\n",
       "      <td></td>\n",
       "      <td>1015</td>\n",
       "      <td>[1016, 1025, 1026]</td>\n",
       "      <td>[True, True, False, True]</td>\n",
       "    </tr>\n",
       "    <tr>\n",
       "      <th>1834</th>\n",
       "      <td>[139, 850, 857]</td>\n",
       "      <td></td>\n",
       "      <td>[1136, 1101]</td>\n",
       "      <td>213</td>\n",
       "      <td>[True, True, True, False]</td>\n",
       "    </tr>\n",
       "    <tr>\n",
       "      <th>1973</th>\n",
       "      <td>59</td>\n",
       "      <td>0</td>\n",
       "      <td>[2226, 2245]</td>\n",
       "      <td>[2220, 2240, 2270, 2280, 2314, 2305, 2312, 235...</td>\n",
       "      <td>[False, False, True, True]</td>\n",
       "    </tr>\n",
       "    <tr>\n",
       "      <th>2443</th>\n",
       "      <td>[71, 334, 34, 560]</td>\n",
       "      <td></td>\n",
       "      <td>[2982, 2986, 2985]</td>\n",
       "      <td>2957</td>\n",
       "      <td>[True, True, True, False]</td>\n",
       "    </tr>\n",
       "    <tr>\n",
       "      <th>2569</th>\n",
       "      <td>[912, 1000]</td>\n",
       "      <td>917</td>\n",
       "      <td>[977, 978, 979, 980, 981, 982, 983, 984]</td>\n",
       "      <td></td>\n",
       "      <td>[True, False, True, True]</td>\n",
       "    </tr>\n",
       "    <tr>\n",
       "      <th>2595</th>\n",
       "      <td>[210, 382]</td>\n",
       "      <td></td>\n",
       "      <td>[157, 158, 159, 231]</td>\n",
       "      <td>127</td>\n",
       "      <td>[True, True, True, False]</td>\n",
       "    </tr>\n",
       "    <tr>\n",
       "      <th>3448</th>\n",
       "      <td>[210, 382]</td>\n",
       "      <td></td>\n",
       "      <td>[1017, 1042, 1045]</td>\n",
       "      <td>[1018, 1043, 1046]</td>\n",
       "      <td>[True, True, True, True]</td>\n",
       "    </tr>\n",
       "    <tr>\n",
       "      <th>3946</th>\n",
       "      <td>[210, 382]</td>\n",
       "      <td></td>\n",
       "      <td>[1207, 1192, 1109, 216, 214, 396, 2829, 2839, ...</td>\n",
       "      <td>1208</td>\n",
       "      <td>[True, True, True, False]</td>\n",
       "    </tr>\n",
       "    <tr>\n",
       "      <th>4343</th>\n",
       "      <td>[135, 560]</td>\n",
       "      <td></td>\n",
       "      <td>[1037, 1053, 1054]</td>\n",
       "      <td>[1039, 1040, 1041]</td>\n",
       "      <td>[True, True, True, True]</td>\n",
       "    </tr>\n",
       "    <tr>\n",
       "      <th>4365</th>\n",
       "      <td>[210, 382]</td>\n",
       "      <td></td>\n",
       "      <td>[1312, 1313, 2121]</td>\n",
       "      <td>382</td>\n",
       "      <td>[True, True, True, False]</td>\n",
       "    </tr>\n",
       "  </tbody>\n",
       "</table>\n",
       "</div>"
      ],
      "text/plain": [
       "               origActor newActor  \\\n",
       "275           [210, 382]            \n",
       "407           [210, 382]            \n",
       "438           [210, 382]            \n",
       "727           [135, 560]            \n",
       "1834     [139, 850, 857]            \n",
       "1973                  59        0   \n",
       "2443  [71, 334, 34, 560]            \n",
       "2569         [912, 1000]      917   \n",
       "2595          [210, 382]            \n",
       "3448          [210, 382]            \n",
       "3946          [210, 382]            \n",
       "4343          [135, 560]            \n",
       "4365          [210, 382]            \n",
       "\n",
       "                                             origTarget  \\\n",
       "275    [1802, 1803, 1804, 1805, 1872, 2723, 3069, 4311]   \n",
       "407    [1790, 1791, 1799, 1798, 1868, 2721, 3071, 4308]   \n",
       "438                                  [1034, 1056, 1055]   \n",
       "727                                                1015   \n",
       "1834                                       [1136, 1101]   \n",
       "1973                                       [2226, 2245]   \n",
       "2443                                 [2982, 2986, 2985]   \n",
       "2569           [977, 978, 979, 980, 981, 982, 983, 984]   \n",
       "2595                               [157, 158, 159, 231]   \n",
       "3448                                 [1017, 1042, 1045]   \n",
       "3946  [1207, 1192, 1109, 216, 214, 396, 2829, 2839, ...   \n",
       "4343                                 [1037, 1053, 1054]   \n",
       "4365                                 [1312, 1313, 2121]   \n",
       "\n",
       "                                              newTarget  \\\n",
       "275    [1806, 1809, 1808, 1807, 1873, 2724, 3070, 4312]   \n",
       "407    [1792, 1793, 1801, 1800, 1869, 2722, 3072, 4309]   \n",
       "438                                  [1035, 1057, 1058]   \n",
       "727                                  [1016, 1025, 1026]   \n",
       "1834                                                213   \n",
       "1973  [2220, 2240, 2270, 2280, 2314, 2305, 2312, 235...   \n",
       "2443                                               2957   \n",
       "2569                                                      \n",
       "2595                                                127   \n",
       "3448                                 [1018, 1043, 1046]   \n",
       "3946                                               1208   \n",
       "4343                                 [1039, 1040, 1041]   \n",
       "4365                                                382   \n",
       "\n",
       "                           isCat  \n",
       "275     [True, True, True, True]  \n",
       "407     [True, True, True, True]  \n",
       "438     [True, True, True, True]  \n",
       "727    [True, True, False, True]  \n",
       "1834   [True, True, True, False]  \n",
       "1973  [False, False, True, True]  \n",
       "2443   [True, True, True, False]  \n",
       "2569   [True, False, True, True]  \n",
       "2595   [True, True, True, False]  \n",
       "3448    [True, True, True, True]  \n",
       "3946   [True, True, True, False]  \n",
       "4343    [True, True, True, True]  \n",
       "4365   [True, True, True, False]  "
      ]
     },
     "execution_count": 341,
     "metadata": {},
     "output_type": "execute_result"
    }
   ],
   "source": [
    "edge = tech_tree_df.iloc[edge_cases].copy()\n",
    "edge = edge.query('newTarget != 1947') #ignore the cards for now\n",
    "edge"
   ]
  },
  {
   "cell_type": "code",
   "execution_count": 342,
   "metadata": {},
   "outputs": [],
   "source": [
    "cols = ['origActor','origTarget','newActor','newTarget']\n",
    "edge_df = pd.DataFrame(columns = cols)\n",
    "\n",
    "for j in range(0, len(edge)):\n",
    "    lengths = [1,1,1,1]\n",
    "    curr_line = edge.iloc[j][cols]\n",
    "    for i in range(0,len(curr_line.values)):\n",
    "        if type(curr_line[i]) is list:\n",
    "            lengths[i] = len(curr_line[i])\n",
    "\n",
    "    num_repeat = np.product(np.unique(lengths))\n",
    "    mat = -np.ones([num_repeat, 4]).astype('object')\n",
    "    for i in range(0,4):\n",
    "        if lengths[i] != max(lengths):\n",
    "            mat[:,i] = np.repeat(curr_line[i], num_repeat/lengths[i])\n",
    "        else:\n",
    "            mat[:,i] = curr_line[i]*int(num_repeat/lengths[i])\n",
    "    sub = pd.DataFrame(mat, columns = cols)\n",
    "    edge_df = edge_df.append(sub)"
   ]
  },
  {
   "cell_type": "code",
   "execution_count": 343,
   "metadata": {
    "scrolled": true
   },
   "outputs": [
    {
     "data": {
      "text/html": [
       "<div>\n",
       "<style scoped>\n",
       "    .dataframe tbody tr th:only-of-type {\n",
       "        vertical-align: middle;\n",
       "    }\n",
       "\n",
       "    .dataframe tbody tr th {\n",
       "        vertical-align: top;\n",
       "    }\n",
       "\n",
       "    .dataframe thead th {\n",
       "        text-align: right;\n",
       "    }\n",
       "</style>\n",
       "<table border=\"1\" class=\"dataframe\">\n",
       "  <thead>\n",
       "    <tr style=\"text-align: right;\">\n",
       "      <th></th>\n",
       "      <th>origActor</th>\n",
       "      <th>origTarget</th>\n",
       "      <th>newActor</th>\n",
       "      <th>newTarget</th>\n",
       "    </tr>\n",
       "  </thead>\n",
       "  <tbody>\n",
       "    <tr>\n",
       "      <th>0</th>\n",
       "      <td>210</td>\n",
       "      <td>1802</td>\n",
       "      <td></td>\n",
       "      <td>1806</td>\n",
       "    </tr>\n",
       "    <tr>\n",
       "      <th>1</th>\n",
       "      <td>210</td>\n",
       "      <td>1803</td>\n",
       "      <td></td>\n",
       "      <td>1809</td>\n",
       "    </tr>\n",
       "    <tr>\n",
       "      <th>2</th>\n",
       "      <td>210</td>\n",
       "      <td>1804</td>\n",
       "      <td></td>\n",
       "      <td>1808</td>\n",
       "    </tr>\n",
       "    <tr>\n",
       "      <th>3</th>\n",
       "      <td>210</td>\n",
       "      <td>1805</td>\n",
       "      <td></td>\n",
       "      <td>1807</td>\n",
       "    </tr>\n",
       "    <tr>\n",
       "      <th>4</th>\n",
       "      <td>210</td>\n",
       "      <td>1872</td>\n",
       "      <td></td>\n",
       "      <td>1873</td>\n",
       "    </tr>\n",
       "    <tr>\n",
       "      <th>5</th>\n",
       "      <td>210</td>\n",
       "      <td>2723</td>\n",
       "      <td></td>\n",
       "      <td>2724</td>\n",
       "    </tr>\n",
       "    <tr>\n",
       "      <th>6</th>\n",
       "      <td>210</td>\n",
       "      <td>3069</td>\n",
       "      <td></td>\n",
       "      <td>3070</td>\n",
       "    </tr>\n",
       "    <tr>\n",
       "      <th>7</th>\n",
       "      <td>210</td>\n",
       "      <td>4311</td>\n",
       "      <td></td>\n",
       "      <td>4312</td>\n",
       "    </tr>\n",
       "    <tr>\n",
       "      <th>8</th>\n",
       "      <td>382</td>\n",
       "      <td>1802</td>\n",
       "      <td></td>\n",
       "      <td>1806</td>\n",
       "    </tr>\n",
       "    <tr>\n",
       "      <th>9</th>\n",
       "      <td>382</td>\n",
       "      <td>1803</td>\n",
       "      <td></td>\n",
       "      <td>1809</td>\n",
       "    </tr>\n",
       "  </tbody>\n",
       "</table>\n",
       "</div>"
      ],
      "text/plain": [
       "  origActor origTarget newActor newTarget\n",
       "0       210       1802               1806\n",
       "1       210       1803               1809\n",
       "2       210       1804               1808\n",
       "3       210       1805               1807\n",
       "4       210       1872               1873\n",
       "5       210       2723               2724\n",
       "6       210       3069               3070\n",
       "7       210       4311               4312\n",
       "8       382       1802               1806\n",
       "9       382       1803               1809"
      ]
     },
     "execution_count": 343,
     "metadata": {},
     "output_type": "execute_result"
    }
   ],
   "source": [
    "edge_df.head(n= 10)"
   ]
  },
  {
   "cell_type": "code",
   "execution_count": 344,
   "metadata": {},
   "outputs": [
    {
     "name": "stderr",
     "output_type": "stream",
     "text": [
      "/Users/dengwenning/anaconda3/lib/python3.6/site-packages/pandas/core/frame.py:6692: FutureWarning: Sorting because non-concatenation axis is not aligned. A future version\n",
      "of pandas will change to not sort by default.\n",
      "\n",
      "To accept the future behavior, pass 'sort=False'.\n",
      "\n",
      "To retain the current behavior and silence the warning, pass 'sort=True'.\n",
      "\n",
      "  sort=sort)\n"
     ]
    },
    {
     "data": {
      "text/plain": [
       "8307"
      ]
     },
     "execution_count": 344,
     "metadata": {},
     "output_type": "execute_result"
    }
   ],
   "source": [
    "newdf = newdf.append(edge_df)\n",
    "len(newdf)"
   ]
  },
  {
   "cell_type": "markdown",
   "metadata": {},
   "source": [
    "save to csv"
   ]
  },
  {
   "cell_type": "code",
   "execution_count": 345,
   "metadata": {
    "collapsed": true
   },
   "outputs": [],
   "source": [
    "newdf.to_csv('tech_outputs/transition.csv')"
   ]
  },
  {
   "cell_type": "markdown",
   "metadata": {},
   "source": [
    "## Calculate Depth"
   ]
  },
  {
   "cell_type": "markdown",
   "metadata": {},
   "source": [
    "make a list of items"
   ]
  },
  {
   "cell_type": "code",
   "execution_count": 346,
   "metadata": {},
   "outputs": [
    {
     "name": "stdout",
     "output_type": "stream",
     "text": [
      "4347\n"
     ]
    }
   ],
   "source": [
    "max_item_id = max(list(all_obj.keys()))\n",
    "print(max_item_id)\n"
   ]
  },
  {
   "cell_type": "code",
   "execution_count": 347,
   "metadata": {
    "collapsed": true
   },
   "outputs": [],
   "source": [
    "#replace negative values\n",
    "newdf = newdf.replace(-1, max_item_id+1)\n",
    "newdf = newdf.replace(-2, max_item_id+2)"
   ]
  },
  {
   "cell_type": "code",
   "execution_count": 348,
   "metadata": {},
   "outputs": [
    {
     "name": "stdout",
     "output_type": "stream",
     "text": [
      "4349\n"
     ]
    }
   ],
   "source": [
    "#make a list of all objects\n",
    "items = np.arange(max_item_id+3)\n",
    "print(max(items))"
   ]
  },
  {
   "cell_type": "markdown",
   "metadata": {},
   "source": [
    "### create a nested dictionary of ingredients - products pair"
   ]
  },
  {
   "cell_type": "code",
   "execution_count": 350,
   "metadata": {},
   "outputs": [],
   "source": [
    "#dictionary problem has been fixed. Ingredients will not override\n",
    "#Update: also expands on situations where a category is in one side of the transition\n",
    "d = {}\n",
    "for item in all_obj:\n",
    "    d[item] = {}\n",
    "    recipy = newdf.query('(origActor == @item) or (origTarget == @item)')\n",
    "\n",
    "    if len(recipy):\n",
    "        for j in range(0,len(recipy)):\n",
    "            ingredients = recipy.iloc[j][['origActor','origTarget']].to_list()\n",
    "            ingredients.remove(item)\n",
    "            ingredient = ingredients[0]\n",
    "            products = recipy.iloc[j][['newActor','newTarget']].to_list()\n",
    "            if \"\" in products:\n",
    "                products.remove(\"\")\n",
    "            if ingredient in d[item].keys(): #prevent override\n",
    "                d[item][ingredient] = list(map(int, set(np.append(d[item][ingredient], products))))\n",
    "            else:\n",
    "                d[item][ingredient] = products         \n",
    "                "
   ]
  },
  {
   "cell_type": "markdown",
   "metadata": {},
   "source": [
    "### loop over all pairs"
   ]
  },
  {
   "cell_type": "code",
   "execution_count": 351,
   "metadata": {
    "collapsed": true
   },
   "outputs": [],
   "source": [
    "#initialize depth\n",
    "orig_depth = np.inf\n",
    "depth = {}\n",
    "transition_from = {} #this calculates the shortest path\n",
    "all_products = {} #this calculates all paths\n",
    "for item in items:\n",
    "    if item in nat_obj:\n",
    "        depth[item] = 0\n",
    "        transition_from[item] = [item]\n",
    "    else:\n",
    "        depth[item] = orig_depth\n",
    "        transition_from[item] = []\n",
    "    all_products[item] = []\n",
    "depth[0] = 0 #empty hand\n",
    "depth[len(depth)-1] = 0 #empty ground\n",
    "depth[len(depth)-2] = 0 #empty (for animals)"
   ]
  },
  {
   "cell_type": "code",
   "execution_count": 352,
   "metadata": {
    "collapsed": true
   },
   "outputs": [],
   "source": [
    "root_items = nat_obj\n",
    "order_list = []\n",
    "adj_dict = {}\n",
    "while len(root_items):\n",
    "    #take an item from root and remove it\n",
    "    item = root_items[0]\n",
    "    root_items = np.delete(root_items,0)\n",
    "\n",
    "    #put all products associated with this item into root\n",
    "    for key in d[item]: #looping through other ingredients\n",
    "        #calculate the depths of the products\n",
    "        for product in d[item][key]:\n",
    "\n",
    "            #if this product is made of known-depth ingredients, add this product to root_items list\n",
    "            if depth[product] > depth[item] + depth[key] + 1:\n",
    "                depth[product] = depth[item] + depth[key] + 1  \n",
    "                \n",
    "                all_products[key] = np.append(all_products[key],product)\n",
    "                all_products[item] = np.append(all_products[item],product)\n",
    "                transition_from[product] = product\n",
    "                transition_from[product] = np.append(transition_from[product], list(set(transition_from[key])))\n",
    "                transition_from[product] = np.append(transition_from[product], list(set(transition_from[item])))\n",
    "#                 print(transition_from[product])\n",
    "                adj_dict[product] = [item, key]\n",
    "\n",
    "                root_items = np.append(root_items, product)\n",
    "                order_list = np.append(order_list,product)\n",
    "                "
   ]
  },
  {
   "cell_type": "markdown",
   "metadata": {},
   "source": [
    "check all the uncraftable items"
   ]
  },
  {
   "cell_type": "code",
   "execution_count": 353,
   "metadata": {},
   "outputs": [
    {
     "data": {
      "text/plain": [
       "1009"
      ]
     },
     "execution_count": 353,
     "metadata": {},
     "output_type": "execute_result"
    }
   ],
   "source": [
    "not_updated = find_value(depth, np.inf)\n",
    "len(not_updated)"
   ]
  },
  {
   "cell_type": "markdown",
   "metadata": {},
   "source": [
    "turn values to list, turn keys to string, and remove the product itself from its ingredients"
   ]
  },
  {
   "cell_type": "code",
   "execution_count": 354,
   "metadata": {
    "collapsed": true
   },
   "outputs": [],
   "source": [
    "for key in transition_from.keys():\n",
    "    transition_from[key] = [int(i) for i in transition_from[key] if (i != key)]\n",
    "transition_from = {str(k):list(set(v)) for k,v in transition_from.items()}"
   ]
  },
  {
   "cell_type": "markdown",
   "metadata": {},
   "source": [
    "check a grave's number of immediate objects"
   ]
  },
  {
   "cell_type": "code",
   "execution_count": 356,
   "metadata": {},
   "outputs": [
    {
     "data": {
      "text/plain": [
       "1"
      ]
     },
     "execution_count": 356,
     "metadata": {},
     "output_type": "execute_result"
    }
   ],
   "source": [
    "len(transition_from['88'])"
   ]
  },
  {
   "cell_type": "markdown",
   "metadata": {},
   "source": [
    "calculate the number of immediate products that can be made from this object"
   ]
  },
  {
   "cell_type": "code",
   "execution_count": null,
   "metadata": {
    "collapsed": true
   },
   "outputs": [],
   "source": [
    "emp = pd.DataFrame(columns = ['id','name','num_imme_products'])\n",
    "for i in all_obj:\n",
    "    emp = emp.append({'id':i, 'name':all_obj[i], 'num_imme_products':len(all_products[i])}, ignore_index = True)"
   ]
  },
  {
   "cell_type": "code",
   "execution_count": null,
   "metadata": {
    "collapsed": true
   },
   "outputs": [],
   "source": [
    "emp = emp.sort_values(by = 'num_imme_products', ascending = False).reset_index(drop = True)\n",
    "emp.head()"
   ]
  },
  {
   "cell_type": "code",
   "execution_count": null,
   "metadata": {
    "collapsed": true
   },
   "outputs": [],
   "source": [
    "all_products = {str(k):list(v) for k,v in all_products.items()}"
   ]
  },
  {
   "cell_type": "markdown",
   "metadata": {},
   "source": [
    "## Save to csv"
   ]
  },
  {
   "cell_type": "code",
   "execution_count": null,
   "metadata": {
    "collapsed": true
   },
   "outputs": [],
   "source": [
    "#for later plotting tech tree use\n",
    "with open('tech_outputs/adj.csv', 'w') as f:\n",
    "    f.write(\"ingredient1,ingredient2,product\\n\")\n",
    "    for key in adj_dict.keys():\n",
    "        f.write(\"%s,%s,%s\\n\"%(adj_dict[key][0], adj_dict[key][1], key))"
   ]
  },
  {
   "cell_type": "code",
   "execution_count": null,
   "metadata": {
    "collapsed": true
   },
   "outputs": [],
   "source": [
    "#save this in case it's useful. Here depth(obj) = depth(origActor) +depth(origTarget) +1\n",
    "with open('tech_outputs/depth.csv', 'w') as f:\n",
    "    f.write(\"Id,Depth,Name\\n\")\n",
    "    for key in depth.keys():\n",
    "        if key in all_obj:\n",
    "            f.write(\"%s,%s,%s\\n\"%(key, depth[key], all_obj[key]))"
   ]
  },
  {
   "cell_type": "code",
   "execution_count": null,
   "metadata": {
    "collapsed": true
   },
   "outputs": [],
   "source": [
    "with open('tech_outputs/num_unique_ingredients.csv', 'w') as f:\n",
    "    f.write(\"id,name,num_ingredients\\n\")\n",
    "    for key in transition_from.keys():\n",
    "        if key in all_obj:\n",
    "            f.write(\"%s,%s,%s\\n\"%(key, all_obj[key], len(transition_from[key])))"
   ]
  },
  {
   "cell_type": "code",
   "execution_count": null,
   "metadata": {
    "collapsed": true
   },
   "outputs": [],
   "source": [
    "with open('tech_outputs/ingredients.txt', 'w') as outfile:\n",
    "    json.dump(transition_from, outfile)"
   ]
  },
  {
   "cell_type": "code",
   "execution_count": null,
   "metadata": {
    "collapsed": true
   },
   "outputs": [],
   "source": [
    "with open('tech_outputs/products.txt', 'w') as outfile:\n",
    "    json.dump(all_products, outfile)"
   ]
  },
  {
   "cell_type": "code",
   "execution_count": null,
   "metadata": {
    "collapsed": true
   },
   "outputs": [],
   "source": [
    "emp.to_csv('tech_outputs/empowerment.csv')"
   ]
  },
  {
   "cell_type": "markdown",
   "metadata": {},
   "source": [
    "## Check:"
   ]
  },
  {
   "cell_type": "code",
   "execution_count": null,
   "metadata": {
    "collapsed": true
   },
   "outputs": [],
   "source": [
    "# with open('tech_outputs/ingredients.p', 'rb') as fp:\n",
    "#     data = pickle.load(fp)"
   ]
  },
  {
   "cell_type": "code",
   "execution_count": null,
   "metadata": {
    "collapsed": true,
    "scrolled": true
   },
   "outputs": [],
   "source": [
    "emp_df = pd.read_csv('tech_outputs/empowerment.csv', index_col = 0)\n",
    "emp_df = emp_df.sort_values(by = 'num_imme_products', ascending = False).reset_index(drop = True)\n",
    "emp_df.head(n = 10)"
   ]
  },
  {
   "cell_type": "code",
   "execution_count": null,
   "metadata": {
    "collapsed": true
   },
   "outputs": [],
   "source": [
    "trans_df = pd.read_csv('tech_outputs/num_unique_ingredients.csv')\n",
    "sorted_df = trans_df.sort_values(by = 'num_ingredients', ascending = False).reset_index(drop = True)\n",
    "sorted_df.head()"
   ]
  },
  {
   "cell_type": "code",
   "execution_count": null,
   "metadata": {
    "collapsed": true,
    "scrolled": true
   },
   "outputs": [],
   "source": [
    "for i in not_updated:\n",
    "    try:\n",
    "        print(obj.read_obj(str(i))['name'])\n",
    "    except:\n",
    "        SyntaxError"
   ]
  },
  {
   "cell_type": "code",
   "execution_count": null,
   "metadata": {
    "collapsed": true,
    "scrolled": true
   },
   "outputs": [],
   "source": [
    "hardest_item = max([i for i in list(depth.values()) if i < np.inf])\n",
    "myitem = find_value(depth, hardest_item, 0)[0]\n",
    "tech_df.query('(newTarget == @myitem) or (newActor == @myitem)')"
   ]
  },
  {
   "cell_type": "code",
   "execution_count": null,
   "metadata": {
    "collapsed": true
   },
   "outputs": [],
   "source": []
  }
 ],
 "metadata": {
  "kernelspec": {
   "display_name": "Python 3",
   "language": "python",
   "name": "python3"
  },
  "language_info": {
   "codemirror_mode": {
    "name": "ipython",
    "version": 3
   },
   "file_extension": ".py",
   "mimetype": "text/x-python",
   "name": "python",
   "nbconvert_exporter": "python",
   "pygments_lexer": "ipython3",
   "version": "3.9.2"
  }
 },
 "nbformat": 4,
 "nbformat_minor": 2
}
