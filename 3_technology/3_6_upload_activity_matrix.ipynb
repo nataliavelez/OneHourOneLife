{
 "cells": [
  {
   "cell_type": "markdown",
   "metadata": {},
   "source": [
    "# Upload activity matrix to database\n",
    "Natalia Vélez, April 2021"
   ]
  },
  {
   "cell_type": "code",
   "execution_count": 1,
   "metadata": {},
   "outputs": [],
   "source": [
    "import pymongo, pickle\n",
    "import numpy as np\n",
    "from scipy import sparse\n",
    "from bson.binary import Binary\n",
    "import gridfs"
   ]
  },
  {
   "cell_type": "markdown",
   "metadata": {},
   "source": [
    "Connect to database:"
   ]
  },
  {
   "cell_type": "code",
   "execution_count": 2,
   "metadata": {},
   "outputs": [
    {
     "name": "stdout",
     "output_type": "stream",
     "text": [
      "Database(MongoClient(host=['134.76.24.75:27017'], document_class=dict, tz_aware=False, connect=True, authsource='ohol'), u'ohol')\n",
      "[u'maplogs', u'tech_tree', u'objects', u'expanded_transitions', u'transitions', u'categories']\n"
     ]
    }
   ],
   "source": [
    "# Connect:\n",
    "keyfile = '../6_database/credentials.key'\n",
    "creds = open(keyfile, \"r\").read().splitlines()\n",
    "myclient = pymongo.MongoClient('134.76.24.75', username=creds[0], password=creds[1], authSource='ohol') \n",
    "db = myclient.ohol\n",
    "\n",
    "print(db)\n",
    "print(db.list_collection_names())"
   ]
  },
  {
   "cell_type": "markdown",
   "metadata": {},
   "source": [
    "Load activity matrix and axis labels:"
   ]
  },
  {
   "cell_type": "code",
   "execution_count": 3,
   "metadata": {},
   "outputs": [
    {
     "name": "stdout",
     "output_type": "stream",
     "text": [
      "Item labels: 3044\n",
      "Avatar labels: 763682\n",
      "Activity matrix: (763682, 3044)\n"
     ]
    }
   ],
   "source": [
    "# Load data:\n",
    "item_labels = np.loadtxt('outputs/activity_features.txt', dtype=np.int).tolist()\n",
    "avatar_labels = np.loadtxt('outputs/activity_agg/avatarIDs.txt', dtype=np.int).tolist()\n",
    "activity_matrix =  sparse.load_npz('outputs/activity_agg/activity_matrix.npz')\n",
    "\n",
    "print('Item labels: %s' % len(item_labels))\n",
    "print('Avatar labels: %s' % len(avatar_labels))\n",
    "print('Activity matrix: %s' % str(activity_matrix.shape))"
   ]
  },
  {
   "cell_type": "markdown",
   "metadata": {},
   "source": [
    "Save labels to `activity_labels` collection:"
   ]
  },
  {
   "cell_type": "code",
   "execution_count": 4,
   "metadata": {},
   "outputs": [
    {
     "data": {
      "text/plain": [
       "<pymongo.results.InsertOneResult at 0x2aba24a524b0>"
      ]
     },
     "execution_count": 4,
     "metadata": {},
     "output_type": "execute_result"
    }
   ],
   "source": [
    "activity_labels = {\n",
    "    'items': item_labels,\n",
    "    'avatars': avatar_labels\n",
    "}\n",
    "\n",
    "label_col = db.activity_labels\n",
    "label_col.insert_one(activity_labels)"
   ]
  },
  {
   "cell_type": "markdown",
   "metadata": {},
   "source": [
    "Save activity matrix to `activity_matrix.{chunks, files}` using GridFS:"
   ]
  },
  {
   "cell_type": "code",
   "execution_count": 5,
   "metadata": {},
   "outputs": [
    {
     "data": {
      "text/plain": [
       "ObjectId('6085c6c1affb2a7f0bf57a44')"
      ]
     },
     "execution_count": 5,
     "metadata": {},
     "output_type": "execute_result"
    }
   ],
   "source": [
    "fs = gridfs.GridFS(db, collection='activity_matrix')\n",
    "fs.put(Binary(pickle.dumps(activity_matrix, protocol=2), subtype=128))"
   ]
  },
  {
   "cell_type": "markdown",
   "metadata": {},
   "source": [
    "Test loading activity matrix:"
   ]
  },
  {
   "cell_type": "code",
   "execution_count": 14,
   "metadata": {},
   "outputs": [
    {
     "name": "stdout",
     "output_type": "stream",
     "text": [
      "[{u'length': 412799872L, u'_id': ObjectId('6085c6c1affb2a7f0bf57a44'), u'uploadDate': datetime.datetime(2021, 4, 25, 19, 48, 18, 502000), u'md5': u'bdcad93c8ef343607e2019d4f188b200', u'chunkSize': 261120}]\n",
      "  (0, 268)\t1.0\n",
      "  (1, 1350)\t1.0\n",
      "  (2, 0)\t3.0\n",
      "  (2, 1)\t1.0\n",
      "  (2, 3)\t4.0\n",
      "  (2, 4)\t3.0\n",
      "  (2, 8)\t4.0\n",
      "  (2, 9)\t1.0\n",
      "  (2, 15)\t1.0\n",
      "  (2, 16)\t3.0\n",
      "  (2, 20)\t2.0\n",
      "  (2, 22)\t7.0\n",
      "  (2, 23)\t8.0\n",
      "  (2, 28)\t8.0\n",
      "  (2, 40)\t1.0\n",
      "  (2, 50)\t4.0\n",
      "  (2, 51)\t1.0\n",
      "  (2, 68)\t2.0\n",
      "  (2, 70)\t3.0\n",
      "  (2, 71)\t3.0\n",
      "  (2, 103)\t2.0\n",
      "  (2, 106)\t2.0\n",
      "  (2, 113)\t1.0\n",
      "  (2, 118)\t7.0\n",
      "  (2, 120)\t1.0\n",
      "  :\t:\n",
      "  (763669, 254)\t5.0\n",
      "  (763669, 885)\t2.0\n",
      "  (763669, 1822)\t4.0\n",
      "  (763670, 2051)\t1.0\n",
      "  (763671, 2051)\t1.0\n",
      "  (763672, 2051)\t1.0\n",
      "  (763673, 40)\t1.0\n",
      "  (763674, 40)\t1.0\n",
      "  (763675, 23)\t1.0\n",
      "  (763675, 40)\t1.0\n",
      "  (763675, 567)\t1.0\n",
      "  (763675, 568)\t1.0\n",
      "  (763676, 2051)\t1.0\n",
      "  (763677, 40)\t1.0\n",
      "  (763678, 0)\t1.0\n",
      "  (763678, 2)\t1.0\n",
      "  (763678, 3)\t2.0\n",
      "  (763678, 4)\t4.0\n",
      "  (763678, 6)\t3.0\n",
      "  (763678, 7)\t1.0\n",
      "  (763678, 257)\t1.0\n",
      "  (763678, 263)\t1.0\n",
      "  (763679, 1929)\t1.0\n",
      "  (763680, 567)\t1.0\n",
      "  (763681, 2051)\t1.0\n"
     ]
    }
   ],
   "source": [
    "# Get pointer from activity_matrix.files\n",
    "activity_file = list(db.activity_matrix.files.find())\n",
    "activity_id = activity_file[0]['_id']\n",
    "print('File metadata:')\n",
    "print(activity_file)\n",
    "\n",
    "# Use pointer to retrieve data from activity_matrix.chunks\n",
    "fs = gridfs.GridFS(db, collection='activity_matrix')\n",
    "activity_bin = fs.get(activity_id)\n",
    "activity_mtx = pickle.load(activity_bin)\n",
    "print('Loaded activity matrix:')\n",
    "print(activity_mtx)"
   ]
  }
 ],
 "metadata": {
  "kernelspec": {
   "display_name": "ohol",
   "language": "python",
   "name": "ohol"
  },
  "language_info": {
   "codemirror_mode": {
    "name": "ipython",
    "version": 3
   },
   "file_extension": ".py",
   "mimetype": "text/x-python",
   "name": "python",
   "nbconvert_exporter": "python",
   "pygments_lexer": "ipython3",
   "version": "3.6.10"
  },
  "toc": {
   "base_numbering": 1,
   "nav_menu": {},
   "number_sections": true,
   "sideBar": true,
   "skip_h1_title": false,
   "title_cell": "Table of Contents",
   "title_sidebar": "Contents",
   "toc_cell": false,
   "toc_position": {},
   "toc_section_display": true,
   "toc_window_display": false
>>>>>>> 5e2487762690302cd02e99949bc76081d73231ef
  }
 },
 "nbformat": 4,
 "nbformat_minor": 5
}
