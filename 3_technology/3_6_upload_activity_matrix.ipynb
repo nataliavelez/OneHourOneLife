{
 "cells": [
  {
   "cell_type": "markdown",
   "id": "b140f978",
   "metadata": {},
   "source": [
    "# Upload activity matrix\n",
    "Natalia Vélez, April 2021\n",
    "\n",
    "In this notebook, we'll create four new collections in the OHOL database:\n",
    "* `activity_matrix.{files, chunks}`: Full activity matrix stored in GridFS \n",
    "* `activity_vectors`: Activity matrix split into vectors by avatar\n",
    "* `activity_labels`: Contains list of item,avatar labels"
   ]
  },
  {
   "cell_type": "code",
   "execution_count": 24,
   "id": "f36e1f39",
   "metadata": {},
   "outputs": [],
   "source": [
    "import pymongo, sys, bson, pickle\n",
    "import numpy as np\n",
    "import gridfs\n",
    "from tqdm import notebook"
   ]
  },
  {
   "cell_type": "markdown",
   "id": "11f5ff69",
   "metadata": {},
   "source": [
    "Load data:"
   ]
  },
  {
   "cell_type": "code",
   "execution_count": 17,
   "id": "ccbde8bd",
   "metadata": {},
   "outputs": [
    {
     "name": "stdout",
     "output_type": "stream",
     "text": [
      "Item labels: 3044\n",
      "Avatar labels: 1000\n",
      "Activity matrix: (1000, 3044)\n"
     ]
    }
   ],
   "source": [
    "item_labels = np.loadtxt('outputs/activity_features.txt', dtype=np.int).tolist()\n",
    "avatar_labels = np.loadtxt('outputs/activity_agg/avatarIDs.txt', dtype=np.int).tolist()\n",
    "activity_matrix = np.loadtxt('outputs/activity_agg/activity_matrix.txt', dtype=np.int)\n",
    "\n",
    "print('Item labels: %s' % len(item_labels))\n",
    "print('Avatar labels: %s' % len(avatar_labels))\n",
    "print('Activity matrix: %s' % str(activity_matrix.shape))"
   ]
  },
  {
   "cell_type": "code",
   "execution_count": 12,
   "id": "9aa7975b",
   "metadata": {},
   "outputs": [
    {
     "data": {
      "text/plain": [
       "dtype('int64')"
      ]
     },
     "execution_count": 12,
     "metadata": {},
     "output_type": "execute_result"
    }
   ],
   "source": [
    "item_labels.astype(int).dtype"
   ]
  },
  {
   "cell_type": "markdown",
   "id": "56982e96",
   "metadata": {},
   "source": [
    "## Upload to database"
   ]
  },
  {
   "cell_type": "markdown",
   "id": "2bad4c41",
   "metadata": {},
   "source": [
    "Connect:"
   ]
  },
  {
   "cell_type": "code",
   "execution_count": 4,
   "id": "08dd336e",
   "metadata": {},
   "outputs": [
    {
     "name": "stdout",
     "output_type": "stream",
     "text": [
      "Database(MongoClient(host=['134.76.24.75:27017'], document_class=dict, tz_aware=False, connect=True, authsource='ohol'), 'ohol')\n",
      "['old_svd', 'old_jobmatrix', 'tech_tree', 'tech_tree_demo', 'objects', 'expanded_transitions', 'transitions', 'activity_labels', 'categories']\n"
     ]
    }
   ],
   "source": [
    "keyfile = '../6_database/credentials.key'\n",
    "creds = open(keyfile, \"r\").read().splitlines()\n",
    "myclient = pymongo.MongoClient('134.76.24.75', username=creds[0], password=creds[1], authSource='ohol') \n",
    "db = myclient.ohol\n",
    "\n",
    "print(db)\n",
    "print(db.list_collection_names())"
   ]
  },
  {
   "cell_type": "markdown",
   "id": "27296e00",
   "metadata": {},
   "source": [
    "Upload labels:"
   ]
  },
  {
   "cell_type": "code",
   "execution_count": 15,
   "id": "c758c125",
   "metadata": {},
   "outputs": [
    {
     "name": "stderr",
     "output_type": "stream",
     "text": [
      "<ipython-input-15-c974d0cf3438>:3: DeprecationWarning: insert is deprecated. Use insert_one or insert_many instead.\n",
      "  labels_collection.insert(labels)\n"
     ]
    },
    {
     "data": {
      "text/plain": [
       "ObjectId('607dc8db7a2558a6fc4bd044')"
      ]
     },
     "execution_count": 15,
     "metadata": {},
     "output_type": "execute_result"
    }
   ],
   "source": [
    "labels = {'avatars': avatar_labels, 'items': item_labels}\n",
    "labels_collection = db.activity_labels\n",
    "labels_collection.insert(labels)"
   ]
  },
  {
   "cell_type": "markdown",
   "id": "8e7daaf2",
   "metadata": {},
   "source": [
    "Upload each row separately:"
   ]
  },
  {
   "cell_type": "code",
   "execution_count": 22,
   "id": "1e55044e",
   "metadata": {},
   "outputs": [
    {
     "data": {
      "application/vnd.jupyter.widget-view+json": {
       "model_id": "17a7367ce34f43b281133ec594dba0ea",
       "version_major": 2,
       "version_minor": 0
      },
      "text/plain": [
       "  0%|          | 0/1000 [00:00<?, ?it/s]"
      ]
     },
     "metadata": {},
     "output_type": "display_data"
    }
   ],
   "source": [
    "vectors_collection = db.activity_vectors\n",
    "for avatar,vec in notebook.tqdm(zip(avatar_labels, activity_matrix), total=len(avatar_labels)):\n",
    "    vectors_collection.insert_one({'avatar': avatar, 'activity': vec.tolist()})"
   ]
  },
  {
   "cell_type": "markdown",
   "id": "e6d51551",
   "metadata": {},
   "source": [
    "Upload whole matrix through GridFS:"
   ]
  },
  {
   "cell_type": "code",
   "execution_count": 25,
   "id": "a4f91ceb",
   "metadata": {},
   "outputs": [],
   "source": [
    "fs = gridfs.GridFS(db, collection='activity_matrix')\n",
    "mtx_bin = bson.binary.Binary(pickle.dumps(activity_matrix, protocol=2), subtype=128)\n",
    "mtx_fs = fs.put(mtx_bin, filename='activity_matrix')"
   ]
  }
 ],
 "metadata": {
  "kernelspec": {
   "display_name": "Python 3",
   "language": "python",
   "name": "python3"
  },
  "language_info": {
   "codemirror_mode": {
    "name": "ipython",
    "version": 3
   },
   "file_extension": ".py",
   "mimetype": "text/x-python",
   "name": "python",
   "nbconvert_exporter": "python",
   "pygments_lexer": "ipython3",
   "version": "3.9.2"
  }
 },
 "nbformat": 4,
 "nbformat_minor": 5
}
