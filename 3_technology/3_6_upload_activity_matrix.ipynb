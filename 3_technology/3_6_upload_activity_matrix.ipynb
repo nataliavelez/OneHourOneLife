{
 "cells": [
  {
   "cell_type": "markdown",
   "id": "b140f978",
   "metadata": {},
   "source": [
    "# Upload activity matrix\n",
    "Natalia Vélez, April 2021\n",
    "\n",
    "In this notebook, we'll create four new collections in the OHOL database:\n",
    "* `activity_matrix.{files, chunks}`: Full activity matrix stored in GridFS \n",
    "* `activity_vectors`: Activity matrix split into vectors by avatar\n",
    "* `activity_features`: Contains list of item,avatar labels"
   ]
  },
  {
   "cell_type": "code",
   "execution_count": 3,
   "id": "f36e1f39",
   "metadata": {},
   "outputs": [],
   "source": [
    "import pymongo, sys\n",
    "import numpy as np"
   ]
  },
  {
   "cell_type": "markdown",
   "id": "11f5ff69",
   "metadata": {},
   "source": [
    "Load data:"
   ]
  },
  {
   "cell_type": "code",
   "execution_count": null,
   "id": "ccbde8bd",
   "metadata": {},
   "outputs": [],
   "source": [
    "item_labels = np.loadtxt('outputs/activity_features.txt')\n",
    "avatar_labels = np.loadtxt('outputs/activity_agg/avatarIDs.txt')\n",
    "activity_matrix = np.loadtxt('outputs/activity_agg/activity_matrix.txt')\n",
    "\n",
    "print('Item labels: %s' % str(item_labels.shape))\n",
    "print('Avatar labels: %s' % str(avatar_labels.shape))\n",
    "print('Activity matrix: %s' % str(activity_matrix.shape))"
   ]
  },
  {
   "cell_type": "code",
   "execution_count": null,
   "id": "d75d1a7a",
   "metadata": {},
   "outputs": [],
   "source": []
  }
 ],
 "metadata": {
  "kernelspec": {
   "display_name": "Python 3",
   "language": "python",
   "name": "python3"
  },
  "language_info": {
   "codemirror_mode": {
    "name": "ipython",
    "version": 3
   },
   "file_extension": ".py",
   "mimetype": "text/x-python",
   "name": "python",
   "nbconvert_exporter": "python",
   "pygments_lexer": "ipython3",
   "version": "3.9.2"
  }
 },
 "nbformat": 4,
 "nbformat_minor": 5
}
