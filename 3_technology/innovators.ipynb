{
 "cells": [
  {
   "cell_type": "markdown",
   "metadata": {},
   "source": [
    "# Who are the innovators?\n",
    "Natalia Vélez, November 2020"
   ]
  },
  {
   "cell_type": "code",
   "execution_count": 1,
   "metadata": {},
   "outputs": [],
   "source": [
    "%matplotlib inline\n",
    "\n",
    "import os,re,glob\n",
    "import numpy as np\n",
    "import pandas as pd\n",
    "import matplotlib.pyplot as plt\n",
    "import seaborn as sns"
   ]
  },
  {
   "cell_type": "markdown",
   "metadata": {},
   "source": [
    "## Load data"
   ]
  },
  {
   "cell_type": "markdown",
   "metadata": {},
   "source": [
    "Families included in analysis:"
   ]
  },
  {
   "cell_type": "code",
   "execution_count": 35,
   "metadata": {},
   "outputs": [
    {
     "name": "stdout",
     "output_type": "stream",
     "text": [
      "(471336, 3)\n"
     ]
    },
    {
     "data": {
      "text/html": [
       "<div>\n",
       "<style scoped>\n",
       "    .dataframe tbody tr th:only-of-type {\n",
       "        vertical-align: middle;\n",
       "    }\n",
       "\n",
       "    .dataframe tbody tr th {\n",
       "        vertical-align: top;\n",
       "    }\n",
       "\n",
       "    .dataframe thead th {\n",
       "        text-align: right;\n",
       "    }\n",
       "</style>\n",
       "<table border=\"1\" class=\"dataframe\">\n",
       "  <thead>\n",
       "    <tr style=\"text-align: right;\">\n",
       "      <th></th>\n",
       "      <th>family</th>\n",
       "      <th>avatar</th>\n",
       "      <th>gen</th>\n",
       "    </tr>\n",
       "  </thead>\n",
       "  <tbody>\n",
       "    <tr>\n",
       "      <th>0</th>\n",
       "      <td>time-1584155688_eve-2783193_name-JESUS</td>\n",
       "      <td>2783193</td>\n",
       "      <td>0</td>\n",
       "    </tr>\n",
       "    <tr>\n",
       "      <th>1</th>\n",
       "      <td>time-1584155688_eve-2783193_name-JESUS</td>\n",
       "      <td>2783246</td>\n",
       "      <td>1</td>\n",
       "    </tr>\n",
       "    <tr>\n",
       "      <th>2</th>\n",
       "      <td>time-1584155688_eve-2783193_name-JESUS</td>\n",
       "      <td>2783231</td>\n",
       "      <td>1</td>\n",
       "    </tr>\n",
       "    <tr>\n",
       "      <th>3</th>\n",
       "      <td>time-1584155688_eve-2783193_name-JESUS</td>\n",
       "      <td>2783221</td>\n",
       "      <td>1</td>\n",
       "    </tr>\n",
       "    <tr>\n",
       "      <th>4</th>\n",
       "      <td>time-1584155688_eve-2783193_name-JESUS</td>\n",
       "      <td>2783313</td>\n",
       "      <td>2</td>\n",
       "    </tr>\n",
       "  </tbody>\n",
       "</table>\n",
       "</div>"
      ],
      "text/plain": [
       "                                   family   avatar  gen\n",
       "0  time-1584155688_eve-2783193_name-JESUS  2783193    0\n",
       "1  time-1584155688_eve-2783193_name-JESUS  2783246    1\n",
       "2  time-1584155688_eve-2783193_name-JESUS  2783231    1\n",
       "3  time-1584155688_eve-2783193_name-JESUS  2783221    1\n",
       "4  time-1584155688_eve-2783193_name-JESUS  2783313    2"
      ]
     },
     "execution_count": 35,
     "metadata": {},
     "output_type": "execute_result"
    }
   ],
   "source": [
    "fam_df = pd.read_csv('../2_demographics/outputs/family_generations.tsv', sep='\\t')\n",
    "included_families = fam_df[['family']]\n",
    "print(fam_df.shape)\n",
    "fam_df.head()"
   ]
  },
  {
   "cell_type": "markdown",
   "metadata": {},
   "source": [
    "Family discoveries:"
   ]
  },
  {
   "cell_type": "code",
   "execution_count": 17,
   "metadata": {},
   "outputs": [
    {
     "name": "stdout",
     "output_type": "stream",
     "text": [
      "(2029427, 7)\n"
     ]
    },
    {
     "data": {
      "text/html": [
       "<div>\n",
       "<style scoped>\n",
       "    .dataframe tbody tr th:only-of-type {\n",
       "        vertical-align: middle;\n",
       "    }\n",
       "\n",
       "    .dataframe tbody tr th {\n",
       "        vertical-align: top;\n",
       "    }\n",
       "\n",
       "    .dataframe thead th {\n",
       "        text-align: right;\n",
       "    }\n",
       "</style>\n",
       "<table border=\"1\" class=\"dataframe\">\n",
       "  <thead>\n",
       "    <tr style=\"text-align: right;\">\n",
       "      <th></th>\n",
       "      <th>seed</th>\n",
       "      <th>family</th>\n",
       "      <th>avatar</th>\n",
       "      <th>object_id</th>\n",
       "      <th>t_epoch</th>\n",
       "      <th>count</th>\n",
       "      <th>gen</th>\n",
       "    </tr>\n",
       "  </thead>\n",
       "  <tbody>\n",
       "    <tr>\n",
       "      <th>0</th>\n",
       "      <td>1573895673</td>\n",
       "      <td>time-1573895755_eve-2276905_name-ZABICKI</td>\n",
       "      <td>2276905</td>\n",
       "      <td>236</td>\n",
       "      <td>1.573896e+09</td>\n",
       "      <td>1</td>\n",
       "      <td>0</td>\n",
       "    </tr>\n",
       "    <tr>\n",
       "      <th>1</th>\n",
       "      <td>1573895673</td>\n",
       "      <td>time-1573895755_eve-2276905_name-ZABICKI</td>\n",
       "      <td>2276905</td>\n",
       "      <td>134</td>\n",
       "      <td>1.573896e+09</td>\n",
       "      <td>2</td>\n",
       "      <td>0</td>\n",
       "    </tr>\n",
       "    <tr>\n",
       "      <th>2</th>\n",
       "      <td>1573895673</td>\n",
       "      <td>time-1573895755_eve-2276905_name-ZABICKI</td>\n",
       "      <td>2276905</td>\n",
       "      <td>2873</td>\n",
       "      <td>1.573896e+09</td>\n",
       "      <td>3</td>\n",
       "      <td>0</td>\n",
       "    </tr>\n",
       "    <tr>\n",
       "      <th>3</th>\n",
       "      <td>1573895673</td>\n",
       "      <td>time-1573895755_eve-2276905_name-ZABICKI</td>\n",
       "      <td>2276905</td>\n",
       "      <td>2742</td>\n",
       "      <td>1.573896e+09</td>\n",
       "      <td>4</td>\n",
       "      <td>0</td>\n",
       "    </tr>\n",
       "    <tr>\n",
       "      <th>4</th>\n",
       "      <td>1573895673</td>\n",
       "      <td>time-1573895755_eve-2276905_name-ZABICKI</td>\n",
       "      <td>2276905</td>\n",
       "      <td>2861</td>\n",
       "      <td>1.573896e+09</td>\n",
       "      <td>5</td>\n",
       "      <td>0</td>\n",
       "    </tr>\n",
       "  </tbody>\n",
       "</table>\n",
       "</div>"
      ],
      "text/plain": [
       "         seed                                    family   avatar  object_id  \\\n",
       "0  1573895673  time-1573895755_eve-2276905_name-ZABICKI  2276905        236   \n",
       "1  1573895673  time-1573895755_eve-2276905_name-ZABICKI  2276905        134   \n",
       "2  1573895673  time-1573895755_eve-2276905_name-ZABICKI  2276905       2873   \n",
       "3  1573895673  time-1573895755_eve-2276905_name-ZABICKI  2276905       2742   \n",
       "4  1573895673  time-1573895755_eve-2276905_name-ZABICKI  2276905       2861   \n",
       "\n",
       "        t_epoch  count  gen  \n",
       "0  1.573896e+09      1    0  \n",
       "1  1.573896e+09      2    0  \n",
       "2  1.573896e+09      3    0  \n",
       "3  1.573896e+09      4    0  \n",
       "4  1.573896e+09      5    0  "
      ]
     },
     "execution_count": 17,
     "metadata": {},
     "output_type": "execute_result"
    }
   ],
   "source": [
    "discovery_df = pd.read_csv('outputs/family_discoveries.tsv', sep='\\t')\n",
    "discovery_df['avatar'] = discovery_df['avatar'].astype(np.int)\n",
    "discovery_df = pd.merge(discovery_df, fam_df)\n",
    "print(discovery_df.shape)\n",
    "discovery_df.head()"
   ]
  },
  {
   "cell_type": "markdown",
   "metadata": {},
   "source": [
    "Player expertise:"
   ]
  },
  {
   "cell_type": "code",
   "execution_count": 31,
   "metadata": {},
   "outputs": [
    {
     "name": "stdout",
     "output_type": "stream",
     "text": [
      "(470361, 5)\n"
     ]
    },
    {
     "data": {
      "text/html": [
       "<div>\n",
       "<style scoped>\n",
       "    .dataframe tbody tr th:only-of-type {\n",
       "        vertical-align: middle;\n",
       "    }\n",
       "\n",
       "    .dataframe tbody tr th {\n",
       "        vertical-align: top;\n",
       "    }\n",
       "\n",
       "    .dataframe thead th {\n",
       "        text-align: right;\n",
       "    }\n",
       "</style>\n",
       "<table border=\"1\" class=\"dataframe\">\n",
       "  <thead>\n",
       "    <tr style=\"text-align: right;\">\n",
       "      <th></th>\n",
       "      <th>avatar</th>\n",
       "      <th>player</th>\n",
       "      <th>gametime</th>\n",
       "      <th>family</th>\n",
       "      <th>gen</th>\n",
       "    </tr>\n",
       "  </thead>\n",
       "  <tbody>\n",
       "    <tr>\n",
       "      <th>0</th>\n",
       "      <td>2783339</td>\n",
       "      <td>0002e5ea5ce7cfd761135d255a245a3344af4377</td>\n",
       "      <td>0.00</td>\n",
       "      <td>time-1584061498_eve-2779667_name-SLINKEY</td>\n",
       "      <td>60</td>\n",
       "    </tr>\n",
       "    <tr>\n",
       "      <th>1</th>\n",
       "      <td>2783430</td>\n",
       "      <td>0002e5ea5ce7cfd761135d255a245a3344af4377</td>\n",
       "      <td>60.00</td>\n",
       "      <td>time-1584095324_eve-2781053_name-ARGENTINA</td>\n",
       "      <td>43</td>\n",
       "    </tr>\n",
       "    <tr>\n",
       "      <th>2</th>\n",
       "      <td>2784552</td>\n",
       "      <td>0002e5ea5ce7cfd761135d255a245a3344af4377</td>\n",
       "      <td>83.77</td>\n",
       "      <td>time-1584176952_eve-2783860_name-EZEKIEL</td>\n",
       "      <td>13</td>\n",
       "    </tr>\n",
       "    <tr>\n",
       "      <th>3</th>\n",
       "      <td>2784998</td>\n",
       "      <td>0002e5ea5ce7cfd761135d255a245a3344af4377</td>\n",
       "      <td>115.76</td>\n",
       "      <td>time-1584064999_eve-2780063_name-GOLD</td>\n",
       "      <td>91</td>\n",
       "    </tr>\n",
       "    <tr>\n",
       "      <th>4</th>\n",
       "      <td>2785147</td>\n",
       "      <td>0002e5ea5ce7cfd761135d255a245a3344af4377</td>\n",
       "      <td>175.84</td>\n",
       "      <td>time-1584176952_eve-2783860_name-EZEKIEL</td>\n",
       "      <td>23</td>\n",
       "    </tr>\n",
       "  </tbody>\n",
       "</table>\n",
       "</div>"
      ],
      "text/plain": [
       "    avatar                                    player  gametime  \\\n",
       "0  2783339  0002e5ea5ce7cfd761135d255a245a3344af4377      0.00   \n",
       "1  2783430  0002e5ea5ce7cfd761135d255a245a3344af4377     60.00   \n",
       "2  2784552  0002e5ea5ce7cfd761135d255a245a3344af4377     83.77   \n",
       "3  2784998  0002e5ea5ce7cfd761135d255a245a3344af4377    115.76   \n",
       "4  2785147  0002e5ea5ce7cfd761135d255a245a3344af4377    175.84   \n",
       "\n",
       "                                       family  gen  \n",
       "0    time-1584061498_eve-2779667_name-SLINKEY   60  \n",
       "1  time-1584095324_eve-2781053_name-ARGENTINA   43  \n",
       "2    time-1584176952_eve-2783860_name-EZEKIEL   13  \n",
       "3       time-1584064999_eve-2780063_name-GOLD   91  \n",
       "4    time-1584176952_eve-2783860_name-EZEKIEL   23  "
      ]
     },
     "execution_count": 31,
     "metadata": {},
     "output_type": "execute_result"
    }
   ],
   "source": [
    "expert_df = pd.read_csv('../2_demographics/outputs/player_expertise.tsv', sep='\\t')\n",
    "expert_df = expert_df[['avatar', 'player', 'gametime']]\n",
    "expert_df = pd.merge(expert_df, fam_df)\n",
    "\n",
    "print(expert_df.shape)\n",
    "expert_df.head()"
   ]
  },
  {
   "cell_type": "markdown",
   "metadata": {},
   "source": [
    "Individual player discoveries:"
   ]
  },
  {
   "cell_type": "code",
   "execution_count": 36,
   "metadata": {},
   "outputs": [
    {
     "data": {
      "text/html": [
       "<div>\n",
       "<style scoped>\n",
       "    .dataframe tbody tr th:only-of-type {\n",
       "        vertical-align: middle;\n",
       "    }\n",
       "\n",
       "    .dataframe tbody tr th {\n",
       "        vertical-align: top;\n",
       "    }\n",
       "\n",
       "    .dataframe thead th {\n",
       "        text-align: right;\n",
       "    }\n",
       "</style>\n",
       "<table border=\"1\" class=\"dataframe\">\n",
       "  <thead>\n",
       "    <tr style=\"text-align: right;\">\n",
       "      <th></th>\n",
       "      <th>family</th>\n",
       "      <th>avatar</th>\n",
       "      <th>gen</th>\n",
       "      <th>count</th>\n",
       "      <th>player</th>\n",
       "      <th>gametime</th>\n",
       "      <th>is_eve</th>\n",
       "    </tr>\n",
       "  </thead>\n",
       "  <tbody>\n",
       "    <tr>\n",
       "      <th>10147</th>\n",
       "      <td>time-1574701840_eve-2331249_name-DAVIDSON</td>\n",
       "      <td>2334051</td>\n",
       "      <td>29</td>\n",
       "      <td>1.0</td>\n",
       "      <td>NaN</td>\n",
       "      <td>NaN</td>\n",
       "      <td>False</td>\n",
       "    </tr>\n",
       "    <tr>\n",
       "      <th>10313</th>\n",
       "      <td>time-1574741327_eve-2333788_name-MUSICANT</td>\n",
       "      <td>2334022</td>\n",
       "      <td>3</td>\n",
       "      <td>23.0</td>\n",
       "      <td>NaN</td>\n",
       "      <td>NaN</td>\n",
       "      <td>False</td>\n",
       "    </tr>\n",
       "    <tr>\n",
       "      <th>10314</th>\n",
       "      <td>time-1574741327_eve-2333788_name-MUSICANT</td>\n",
       "      <td>2334043</td>\n",
       "      <td>3</td>\n",
       "      <td>12.0</td>\n",
       "      <td>NaN</td>\n",
       "      <td>NaN</td>\n",
       "      <td>False</td>\n",
       "    </tr>\n",
       "    <tr>\n",
       "      <th>30801</th>\n",
       "      <td>time-1576295920_eve-2409281_name-SALEM</td>\n",
       "      <td>2409579</td>\n",
       "      <td>5</td>\n",
       "      <td>17.0</td>\n",
       "      <td>NaN</td>\n",
       "      <td>NaN</td>\n",
       "      <td>False</td>\n",
       "    </tr>\n",
       "    <tr>\n",
       "      <th>30802</th>\n",
       "      <td>time-1576295920_eve-2409281_name-SALEM</td>\n",
       "      <td>2409580</td>\n",
       "      <td>4</td>\n",
       "      <td>5.0</td>\n",
       "      <td>NaN</td>\n",
       "      <td>NaN</td>\n",
       "      <td>False</td>\n",
       "    </tr>\n",
       "    <tr>\n",
       "      <th>...</th>\n",
       "      <td>...</td>\n",
       "      <td>...</td>\n",
       "      <td>...</td>\n",
       "      <td>...</td>\n",
       "      <td>...</td>\n",
       "      <td>...</td>\n",
       "      <td>...</td>\n",
       "    </tr>\n",
       "    <tr>\n",
       "      <th>211137</th>\n",
       "      <td>time-1599447278_eve-3308179_name-MATSU</td>\n",
       "      <td>3308601</td>\n",
       "      <td>9</td>\n",
       "      <td>9.0</td>\n",
       "      <td>NaN</td>\n",
       "      <td>NaN</td>\n",
       "      <td>False</td>\n",
       "    </tr>\n",
       "    <tr>\n",
       "      <th>211138</th>\n",
       "      <td>time-1599447278_eve-3308179_name-MATSU</td>\n",
       "      <td>3308602</td>\n",
       "      <td>9</td>\n",
       "      <td>1.0</td>\n",
       "      <td>NaN</td>\n",
       "      <td>NaN</td>\n",
       "      <td>False</td>\n",
       "    </tr>\n",
       "    <tr>\n",
       "      <th>211139</th>\n",
       "      <td>time-1599447278_eve-3308179_name-MATSU</td>\n",
       "      <td>3308603</td>\n",
       "      <td>10</td>\n",
       "      <td>3.0</td>\n",
       "      <td>NaN</td>\n",
       "      <td>NaN</td>\n",
       "      <td>False</td>\n",
       "    </tr>\n",
       "    <tr>\n",
       "      <th>211176</th>\n",
       "      <td>time-1599454213_eve-3308371_name-LUNA</td>\n",
       "      <td>3308589</td>\n",
       "      <td>6</td>\n",
       "      <td>6.0</td>\n",
       "      <td>NaN</td>\n",
       "      <td>NaN</td>\n",
       "      <td>False</td>\n",
       "    </tr>\n",
       "    <tr>\n",
       "      <th>211181</th>\n",
       "      <td>time-1599460982_eve-3308568_name-SOL</td>\n",
       "      <td>3308592</td>\n",
       "      <td>1</td>\n",
       "      <td>74.0</td>\n",
       "      <td>NaN</td>\n",
       "      <td>NaN</td>\n",
       "      <td>False</td>\n",
       "    </tr>\n",
       "  </tbody>\n",
       "</table>\n",
       "<p>471 rows × 7 columns</p>\n",
       "</div>"
      ],
      "text/plain": [
       "                                           family   avatar  gen  count player  \\\n",
       "10147   time-1574701840_eve-2331249_name-DAVIDSON  2334051   29    1.0    NaN   \n",
       "10313   time-1574741327_eve-2333788_name-MUSICANT  2334022    3   23.0    NaN   \n",
       "10314   time-1574741327_eve-2333788_name-MUSICANT  2334043    3   12.0    NaN   \n",
       "30801      time-1576295920_eve-2409281_name-SALEM  2409579    5   17.0    NaN   \n",
       "30802      time-1576295920_eve-2409281_name-SALEM  2409580    4    5.0    NaN   \n",
       "...                                           ...      ...  ...    ...    ...   \n",
       "211137     time-1599447278_eve-3308179_name-MATSU  3308601    9    9.0    NaN   \n",
       "211138     time-1599447278_eve-3308179_name-MATSU  3308602    9    1.0    NaN   \n",
       "211139     time-1599447278_eve-3308179_name-MATSU  3308603   10    3.0    NaN   \n",
       "211176      time-1599454213_eve-3308371_name-LUNA  3308589    6    6.0    NaN   \n",
       "211181       time-1599460982_eve-3308568_name-SOL  3308592    1   74.0    NaN   \n",
       "\n",
       "        gametime  is_eve  \n",
       "10147        NaN   False  \n",
       "10313        NaN   False  \n",
       "10314        NaN   False  \n",
       "30801        NaN   False  \n",
       "30802        NaN   False  \n",
       "...          ...     ...  \n",
       "211137       NaN   False  \n",
       "211138       NaN   False  \n",
       "211139       NaN   False  \n",
       "211176       NaN   False  \n",
       "211181       NaN   False  \n",
       "\n",
       "[471 rows x 7 columns]"
      ]
     },
     "execution_count": 36,
     "metadata": {},
     "output_type": "execute_result"
    }
   ],
   "source": [
    "player_discoveries[~np.isfinite(player_discoveries['gametime'])]"
   ]
  },
  {
   "cell_type": "code",
   "execution_count": 34,
   "metadata": {},
   "outputs": [
    {
     "name": "stdout",
     "output_type": "stream",
     "text": [
      "(470832, 6)\n"
     ]
    },
    {
     "data": {
      "text/html": [
       "<div>\n",
       "<style scoped>\n",
       "    .dataframe tbody tr th:only-of-type {\n",
       "        vertical-align: middle;\n",
       "    }\n",
       "\n",
       "    .dataframe tbody tr th {\n",
       "        vertical-align: top;\n",
       "    }\n",
       "\n",
       "    .dataframe thead th {\n",
       "        text-align: right;\n",
       "    }\n",
       "</style>\n",
       "<table border=\"1\" class=\"dataframe\">\n",
       "  <thead>\n",
       "    <tr style=\"text-align: right;\">\n",
       "      <th></th>\n",
       "      <th>family</th>\n",
       "      <th>avatar</th>\n",
       "      <th>gen</th>\n",
       "      <th>count</th>\n",
       "      <th>player</th>\n",
       "      <th>gametime</th>\n",
       "      <th>is_eve</th>\n",
       "    </tr>\n",
       "  </thead>\n",
       "  <tbody>\n",
       "    <tr>\n",
       "      <th>0</th>\n",
       "      <td>time-1573895755_eve-2276905_name-ZABICKI</td>\n",
       "      <td>2276905</td>\n",
       "      <td>0</td>\n",
       "      <td>100.0</td>\n",
       "      <td>6290670c4fe41726873b54d070b869fdcc9e06e7</td>\n",
       "      <td>9868.12</td>\n",
       "      <td>True</td>\n",
       "    </tr>\n",
       "    <tr>\n",
       "      <th>1</th>\n",
       "      <td>time-1573895755_eve-2276905_name-ZABICKI</td>\n",
       "      <td>2276906</td>\n",
       "      <td>1</td>\n",
       "      <td>18.0</td>\n",
       "      <td>d74e306b2dc466835e85acf5b53a4391e2346857</td>\n",
       "      <td>7418.19</td>\n",
       "      <td>False</td>\n",
       "    </tr>\n",
       "    <tr>\n",
       "      <th>2</th>\n",
       "      <td>time-1573895755_eve-2276905_name-ZABICKI</td>\n",
       "      <td>2276909</td>\n",
       "      <td>1</td>\n",
       "      <td>49.0</td>\n",
       "      <td>b0527ef2371111cb11369f4a5fe021c1bdb06ed9</td>\n",
       "      <td>16161.38</td>\n",
       "      <td>False</td>\n",
       "    </tr>\n",
       "    <tr>\n",
       "      <th>3</th>\n",
       "      <td>time-1573895755_eve-2276905_name-ZABICKI</td>\n",
       "      <td>2276914</td>\n",
       "      <td>1</td>\n",
       "      <td>54.0</td>\n",
       "      <td>e417361f8e2770a2a5647353af05f6e621be69c0</td>\n",
       "      <td>705.81</td>\n",
       "      <td>False</td>\n",
       "    </tr>\n",
       "    <tr>\n",
       "      <th>4</th>\n",
       "      <td>time-1573895755_eve-2276905_name-ZABICKI</td>\n",
       "      <td>2276922</td>\n",
       "      <td>1</td>\n",
       "      <td>9.0</td>\n",
       "      <td>0c7bc0236deae0bb888f63c4f4d94f4ab7cefad1</td>\n",
       "      <td>1960.35</td>\n",
       "      <td>False</td>\n",
       "    </tr>\n",
       "  </tbody>\n",
       "</table>\n",
       "</div>"
      ],
      "text/plain": [
       "                                     family   avatar  gen  count  \\\n",
       "0  time-1573895755_eve-2276905_name-ZABICKI  2276905    0  100.0   \n",
       "1  time-1573895755_eve-2276905_name-ZABICKI  2276906    1   18.0   \n",
       "2  time-1573895755_eve-2276905_name-ZABICKI  2276909    1   49.0   \n",
       "3  time-1573895755_eve-2276905_name-ZABICKI  2276914    1   54.0   \n",
       "4  time-1573895755_eve-2276905_name-ZABICKI  2276922    1    9.0   \n",
       "\n",
       "                                     player  gametime  is_eve  \n",
       "0  6290670c4fe41726873b54d070b869fdcc9e06e7   9868.12    True  \n",
       "1  d74e306b2dc466835e85acf5b53a4391e2346857   7418.19   False  \n",
       "2  b0527ef2371111cb11369f4a5fe021c1bdb06ed9  16161.38   False  \n",
       "3  e417361f8e2770a2a5647353af05f6e621be69c0    705.81   False  \n",
       "4  0c7bc0236deae0bb888f63c4f4d94f4ab7cefad1   1960.35   False  "
      ]
     },
     "execution_count": 34,
     "metadata": {},
     "output_type": "execute_result"
    }
   ],
   "source": [
    "# Discoveries contributed & expertise\n",
    "player_discoveries = discovery_df.groupby(['family', 'avatar', 'gen'])['count'].agg('count').reset_index()\n",
    "player_discoveries = pd.merge(player_discoveries, expert_df, how='outer')\n",
    "print(player_discoveries.shape)\n",
    "\n",
    "# # Separate eves from non-eves\n",
    "player_discoveries['is_eve'] = player_discoveries['gen'] == 0\n",
    "player_discoveries.head()"
   ]
  },
  {
   "cell_type": "markdown",
   "metadata": {},
   "source": [
    "## Measure of number of innovations"
   ]
  },
  {
   "cell_type": "markdown",
   "metadata": {},
   "source": [
    "Raw counts:"
   ]
  },
  {
   "cell_type": "code",
   "execution_count": 30,
   "metadata": {},
   "outputs": [
    {
     "data": {
      "text/html": [
       "<div>\n",
       "<style scoped>\n",
       "    .dataframe tbody tr th:only-of-type {\n",
       "        vertical-align: middle;\n",
       "    }\n",
       "\n",
       "    .dataframe tbody tr th {\n",
       "        vertical-align: top;\n",
       "    }\n",
       "\n",
       "    .dataframe thead th {\n",
       "        text-align: right;\n",
       "    }\n",
       "</style>\n",
       "<table border=\"1\" class=\"dataframe\">\n",
       "  <thead>\n",
       "    <tr style=\"text-align: right;\">\n",
       "      <th></th>\n",
       "      <th>avatar</th>\n",
       "      <th>player</th>\n",
       "      <th>gametime</th>\n",
       "    </tr>\n",
       "  </thead>\n",
       "  <tbody>\n",
       "    <tr>\n",
       "      <th>0</th>\n",
       "      <td>630641</td>\n",
       "      <td>00006debdd4d630a4a5aa395135a70a69e0db01e</td>\n",
       "      <td>0.00</td>\n",
       "    </tr>\n",
       "    <tr>\n",
       "      <th>1</th>\n",
       "      <td>630737</td>\n",
       "      <td>00006debdd4d630a4a5aa395135a70a69e0db01e</td>\n",
       "      <td>13.88</td>\n",
       "    </tr>\n",
       "    <tr>\n",
       "      <th>2</th>\n",
       "      <td>630799</td>\n",
       "      <td>00006debdd4d630a4a5aa395135a70a69e0db01e</td>\n",
       "      <td>18.86</td>\n",
       "    </tr>\n",
       "    <tr>\n",
       "      <th>3</th>\n",
       "      <td>214206</td>\n",
       "      <td>0001394319e5e63bb74219fef647e9ff24507a21</td>\n",
       "      <td>0.00</td>\n",
       "    </tr>\n",
       "    <tr>\n",
       "      <th>4</th>\n",
       "      <td>214530</td>\n",
       "      <td>0001394319e5e63bb74219fef647e9ff24507a21</td>\n",
       "      <td>33.78</td>\n",
       "    </tr>\n",
       "    <tr>\n",
       "      <th>...</th>\n",
       "      <td>...</td>\n",
       "      <td>...</td>\n",
       "      <td>...</td>\n",
       "    </tr>\n",
       "    <tr>\n",
       "      <th>3151901</th>\n",
       "      <td>1668930</td>\n",
       "      <td>fffb5739f98845775065502fd92ea45cca82c183</td>\n",
       "      <td>47.19</td>\n",
       "    </tr>\n",
       "    <tr>\n",
       "      <th>3151902</th>\n",
       "      <td>1833922</td>\n",
       "      <td>fffb5739f98845775065502fd92ea45cca82c183</td>\n",
       "      <td>96.52</td>\n",
       "    </tr>\n",
       "    <tr>\n",
       "      <th>3151903</th>\n",
       "      <td>1834103</td>\n",
       "      <td>fffb5739f98845775065502fd92ea45cca82c183</td>\n",
       "      <td>109.65</td>\n",
       "    </tr>\n",
       "    <tr>\n",
       "      <th>3151904</th>\n",
       "      <td>3105803</td>\n",
       "      <td>fffc86d22634b309cdaa8420fa6530b1fda64766</td>\n",
       "      <td>0.00</td>\n",
       "    </tr>\n",
       "    <tr>\n",
       "      <th>3151905</th>\n",
       "      <td>3105807</td>\n",
       "      <td>fffc86d22634b309cdaa8420fa6530b1fda64766</td>\n",
       "      <td>16.47</td>\n",
       "    </tr>\n",
       "  </tbody>\n",
       "</table>\n",
       "<p>3151906 rows × 3 columns</p>\n",
       "</div>"
      ],
      "text/plain": [
       "          avatar                                    player  gametime\n",
       "0         630641  00006debdd4d630a4a5aa395135a70a69e0db01e      0.00\n",
       "1         630737  00006debdd4d630a4a5aa395135a70a69e0db01e     13.88\n",
       "2         630799  00006debdd4d630a4a5aa395135a70a69e0db01e     18.86\n",
       "3         214206  0001394319e5e63bb74219fef647e9ff24507a21      0.00\n",
       "4         214530  0001394319e5e63bb74219fef647e9ff24507a21     33.78\n",
       "...          ...                                       ...       ...\n",
       "3151901  1668930  fffb5739f98845775065502fd92ea45cca82c183     47.19\n",
       "3151902  1833922  fffb5739f98845775065502fd92ea45cca82c183     96.52\n",
       "3151903  1834103  fffb5739f98845775065502fd92ea45cca82c183    109.65\n",
       "3151904  3105803  fffc86d22634b309cdaa8420fa6530b1fda64766      0.00\n",
       "3151905  3105807  fffc86d22634b309cdaa8420fa6530b1fda64766     16.47\n",
       "\n",
       "[3151906 rows x 3 columns]"
      ]
     },
     "execution_count": 30,
     "metadata": {},
     "output_type": "execute_result"
    }
   ],
   "source": [
    "expert_df"
   ]
  },
  {
   "cell_type": "code",
   "execution_count": 26,
   "metadata": {},
   "outputs": [
    {
     "data": {
      "text/plain": [
       "<AxesSubplot:xlabel='count'>"
      ]
     },
     "execution_count": 26,
     "metadata": {},
     "output_type": "execute_result"
    },
    {
     "data": {
      "image/png": "[encoded data removed]",
      "text/plain": [
       "<Figure size 432x288 with 1 Axes>"
      ]
     },
     "metadata": {
      "needs_background": "light"
     },
     "output_type": "display_data"
    }
   ],
   "source": [
    "sns.distplot(player_discoveries['count'])"
   ]
  },
  {
   "cell_type": "markdown",
   "metadata": {},
   "source": [
    "Log-transformed:"
   ]
  },
  {
   "cell_type": "code",
   "execution_count": 28,
   "metadata": {},
   "outputs": [
    {
     "data": {
      "text/plain": [
       "<AxesSubplot:xlabel='count'>"
      ]
     },
     "execution_count": 28,
     "metadata": {},
     "output_type": "execute_result"
    },
    {
     "data": {
      "image/png": "[encoded data removed]",
      "text/plain": [
       "<Figure size 432x288 with 1 Axes>"
      ]
     },
     "metadata": {
      "needs_background": "light"
     },
     "output_type": "display_data"
    }
   ],
   "source": [
    "sns.distplot(np.log(player_discoveries['count']))"
   ]
  },
  {
   "cell_type": "code",
   "execution_count": 25,
   "metadata": {},
   "outputs": [
    {
     "data": {
      "text/plain": [
       "<AxesSubplot:xlabel='is_eve', ylabel='count'>"
      ]
     },
     "execution_count": 25,
     "metadata": {},
     "output_type": "execute_result"
    },
    {
     "data": {
      "image/png": "[encoded data removed]",
      "text/plain": [
       "<Figure size 432x288 with 1 Axes>"
      ]
     },
     "metadata": {
      "needs_background": "light"
     },
     "output_type": "display_data"
    }
   ],
   "source": [
    "sns.boxplot(data=player_discoveries, x='is_eve', y='count')"
   ]
  },
  {
   "cell_type": "markdown",
   "metadata": {},
   "source": [
    "## Are innovators more experienced in the game?"
   ]
  },
  {
   "cell_type": "code",
   "execution_count": null,
   "metadata": {},
   "outputs": [],
   "source": []
  },
  {
   "cell_type": "markdown",
   "metadata": {},
   "source": []
  }
 ],
 "metadata": {
  "kernelspec": {
   "display_name": "Python [conda env:.conda-py3]",
   "language": "python",
   "name": "conda-env-.conda-py3-py"
  },
  "language_info": {
   "codemirror_mode": {
    "name": "ipython",
    "version": 3
   },
   "file_extension": ".py",
   "mimetype": "text/x-python",
   "name": "python",
   "nbconvert_exporter": "python",
   "pygments_lexer": "ipython3",
   "version": "3.6.10"
  }
 },
 "nbformat": 4,
 "nbformat_minor": 2
}
