{
 "cells": [
  {
   "cell_type": "markdown",
   "metadata": {},
   "source": [
    "# Normalize inputs to SVD using TF-IDF\n",
    "Natalia Vélez, July 2020"
   ]
  },
  {
   "cell_type": "code",
   "execution_count": 1,
   "metadata": {},
   "outputs": [],
   "source": [
    "import numpy as np"
   ]
  },
  {
   "cell_type": "code",
   "execution_count": 11,
   "metadata": {},
   "outputs": [],
   "source": [
    "def tf(row): return row/np.sum(row)\n",
    "\n",
    "def idf(col):\n",
    "    N = len(col)\n",
    "    df = np.sum(col > 0)+1\n",
    "    idf_val = np.log(N/df)+1\n",
    "\n",
    "    return np.ones(col.shape)*idf_val\n",
    "\n",
    "def tf_idf(m):\n",
    "    m_tf = np.apply_along_axis(tf, 1, m)\n",
    "    m_idf = np.apply_along_axis(idf, 0, m)\n",
    "    m_norm = np.multiply(m_tf, m_idf)\n",
    "    \n",
    "    return m_norm"
   ]
  },
  {
   "cell_type": "markdown",
   "metadata": {},
   "source": [
    "# Example 1: TF-IDF example on Wikipedia"
   ]
  },
  {
   "cell_type": "code",
   "execution_count": 3,
   "metadata": {},
   "outputs": [
    {
     "data": {
      "text/plain": [
       "(2, 6)"
      ]
     },
     "execution_count": 3,
     "metadata": {},
     "output_type": "execute_result"
    }
   ],
   "source": [
    "bag_o_words = np.array([[1,1,2,1,0,0],[1,1,0,0,2,3]])\n",
    "bag_o_words.shape"
   ]
  },
  {
   "cell_type": "code",
   "execution_count": 4,
   "metadata": {},
   "outputs": [
    {
     "data": {
      "text/plain": [
       "array([[0.2       , 0.2       , 0.4       , 0.2       , 0.        ,\n",
       "        0.        ],\n",
       "       [0.14285714, 0.14285714, 0.        , 0.        , 0.28571429,\n",
       "        0.42857143]])"
      ]
     },
     "execution_count": 4,
     "metadata": {},
     "output_type": "execute_result"
    }
   ],
   "source": [
    "word_tf = np.apply_along_axis(tf, 1, bag_o_words)\n",
    "word_tf"
   ]
  },
  {
   "cell_type": "code",
   "execution_count": 5,
   "metadata": {},
   "outputs": [
    {
     "data": {
      "text/plain": [
       "array([[0.59453489, 0.59453489, 1.        , 1.        , 1.        ,\n",
       "        1.        ],\n",
       "       [0.59453489, 0.59453489, 1.        , 1.        , 1.        ,\n",
       "        1.        ]])"
      ]
     },
     "execution_count": 5,
     "metadata": {},
     "output_type": "execute_result"
    }
   ],
   "source": [
    "word_idf = np.apply_along_axis(idf, 0, bag_o_words)\n",
    "word_idf"
   ]
  },
  {
   "cell_type": "code",
   "execution_count": 6,
   "metadata": {},
   "outputs": [
    {
     "data": {
      "text/plain": [
       "array([[0.11890698, 0.11890698, 0.4       , 0.2       , 0.        ,\n",
       "        0.        ],\n",
       "       [0.08493356, 0.08493356, 0.        , 0.        , 0.28571429,\n",
       "        0.42857143]])"
      ]
     },
     "execution_count": 6,
     "metadata": {},
     "output_type": "execute_result"
    }
   ],
   "source": [
    "np.multiply(word_tf, word_idf)"
   ]
  },
  {
   "cell_type": "code",
   "execution_count": 12,
   "metadata": {},
   "outputs": [
    {
     "data": {
      "text/plain": [
       "array([[0.11890698, 0.11890698, 0.4       , 0.2       , 0.        ,\n",
       "        0.        ],\n",
       "       [0.08493356, 0.08493356, 0.        , 0.        , 0.28571429,\n",
       "        0.42857143]])"
      ]
     },
     "execution_count": 12,
     "metadata": {},
     "output_type": "execute_result"
    }
   ],
   "source": [
    "tf_idf(bag_o_words)"
   ]
  },
  {
   "cell_type": "code",
   "execution_count": null,
   "metadata": {},
   "outputs": [],
   "source": []
  }
 ],
 "metadata": {
  "kernelspec": {
   "display_name": "Python [conda env:neuro] *",
   "language": "python",
   "name": "conda-env-neuro-py"
  },
  "language_info": {
   "codemirror_mode": {
    "name": "ipython",
    "version": 3
   },
   "file_extension": ".py",
   "mimetype": "text/x-python",
   "name": "python",
   "nbconvert_exporter": "python",
   "pygments_lexer": "ipython3",
   "version": "3.6.7"
  }
 },
 "nbformat": 4,
 "nbformat_minor": 2
}
