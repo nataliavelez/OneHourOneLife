{
 "cells": [
  {
   "cell_type": "code",
   "execution_count": 1,
   "metadata": {},
   "outputs": [],
   "source": [
    "%matplotlib inline\n",
    "\n",
    "import os, re, glob\n",
    "import numpy as np\n",
    "import pandas as pd\n",
    "from tqdm import tqdm\n",
    "from scipy.linalg import svd\n",
    "from os.path import join as opj\n",
    "from kneed import KneeLocator\n",
    "\n",
    "import matplotlib.pyplot as plt\n",
    "import seaborn as sns\n",
    "\n",
    "sns.set_style('white')\n",
    "sns.set_context('talk')"
   ]
  },
  {
   "cell_type": "markdown",
   "metadata": {},
   "source": [
    "Load SVD outputs:"
   ]
  },
  {
   "cell_type": "code",
   "execution_count": 2,
   "metadata": {},
   "outputs": [
    {
     "name": "stdout",
     "output_type": "stream",
     "text": [
      "(8492, 2991)\n",
      "(2991,)\n",
      "(2991, 2991)\n"
     ]
    }
   ],
   "source": [
    "U = np.loadtxt('outputs/svd/U.txt')\n",
    "s = np.loadtxt('outputs/svd/s.txt')\n",
    "Vh = np.loadtxt('outputs/svd/Vh.txt')\n",
    "\n",
    "print(U.shape)\n",
    "print(s.shape)\n",
    "print(Vh.shape)"
   ]
  },
  {
   "cell_type": "markdown",
   "metadata": {},
   "source": [
    "Plot threshold:"
   ]
  },
  {
   "cell_type": "code",
   "execution_count": null,
   "metadata": {},
   "outputs": [],
   "source": [
    "knee = KneeLocator(range(len(s)), s, curve='convex', direction='decreasing')\n",
    "r = knee.knee\n",
    "fig,(ax1,ax2) = plt.subplots(1,2, figsize=(12,6))\n",
    "\n",
    "# Plotting the knee\n",
    "ax1.plot(s)\n",
    "ax1.axvline(knee.knee, linestyle='--', color='#aaaaaa')\n",
    "ax1.text(r+200, np.max(s)/2, 'i = %i' % r, size=18)\n",
    "ax1.set(xlabel = 'i', ylabel = 'Singular values')\n",
    "\n",
    "# Variance explained\n",
    "var_exp = np.cumsum(s)/np.sum(s)\n",
    "ax2.plot(var_exp)\n",
    "ax2.axhline(var_exp[r], linestyle='--', color='gray')\n",
    "ax2.axvline(r, linestyle='--', color='gray')\n",
    "ax2.text(r+200, var_exp[r]-0.1, '%0.2f' % var_exp[r], size=18)\n",
    "ax2.set(xlabel = 'i', ylabel = 'Variance explained')\n",
    "\n",
    "sns.despine()\n",
    "\n",
    "plt.savefig('outputs/svd/truncate_threshold.png')"
   ]
  },
  {
   "cell_type": "markdown",
   "metadata": {},
   "source": [
    "Truncate:"
   ]
  },
  {
   "cell_type": "code",
   "execution_count": 4,
   "metadata": {},
   "outputs": [
    {
     "name": "stdout",
     "output_type": "stream",
     "text": [
      "(8492, 95)\n",
      "(95,)\n",
      "(95, 2991)\n"
     ]
    }
   ],
   "source": [
    "U_hat = U[:,:r]\n",
    "print(U_hat.shape)\n",
    "\n",
    "s_hat = s[:r]\n",
    "print(s_hat.shape)\n",
    "\n",
    "      \n",
    "Vh_hat = Vh[:r,:]\n",
    "print(Vh_hat.shape)"
   ]
  }
 ],
 "metadata": {
  "kernelspec": {
   "display_name": "Python [conda env:.conda-py3]",
   "language": "python",
   "name": "conda-env-.conda-py3-py"
  },
  "language_info": {
   "codemirror_mode": {
    "name": "ipython",
    "version": 3
   },
   "file_extension": ".py",
   "mimetype": "text/x-python",
   "name": "python",
   "nbconvert_exporter": "python",
   "pygments_lexer": "ipython3",
   "version": "3.6.10"
  }
 },
 "nbformat": 4,
 "nbformat_minor": 2
}
