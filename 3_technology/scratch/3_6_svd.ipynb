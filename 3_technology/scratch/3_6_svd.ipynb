{
 "cells": [
  {
   "cell_type": "markdown",
   "metadata": {},
   "source": [
    "# Singular value decomposition\n",
    "Natalia Vélez, July 2020"
   ]
  },
  {
   "cell_type": "code",
   "execution_count": 11,
   "metadata": {},
   "outputs": [],
   "source": [
    "%matplotlib inline\n",
    "\n",
    "import os, re, glob\n",
    "import numpy as np\n",
    "import pandas as pd\n",
    "from tqdm import tqdm_notebook\n",
    "from scipy.linalg import svd\n",
    "import matplotlib.pyplot as plt"
   ]
  },
  {
   "cell_type": "markdown",
   "metadata": {},
   "source": [
    "Find matrix files:"
   ]
  },
  {
   "cell_type": "code",
   "execution_count": 12,
   "metadata": {},
   "outputs": [
    {
     "name": "stdout",
     "output_type": "stream",
     "text": [
      "outputs/jobmatrix/jobmatrix_release-284_start-1573895672.txt\n",
      "outputs/jobmatrix/jobmatrix_release-284_start-1573982073.txt\n",
      "outputs/jobmatrix/jobmatrix_release-284_start-1574068473.txt\n",
      "outputs/jobmatrix/jobmatrix_release-285_start-1574102503.txt\n",
      "outputs/jobmatrix/jobmatrix_release-287_start-1574151678.txt\n",
      "outputs/jobmatrix/jobmatrix_release-287_start-1574238079.txt\n",
      "outputs/jobmatrix/jobmatrix_release-287_start-1574324479.txt\n",
      "outputs/jobmatrix/jobmatrix_release-287_start-1574410879.txt\n",
      "outputs/jobmatrix/jobmatrix_release-287_start-1574497279.txt\n",
      "outputs/jobmatrix/jobmatrix_release-289_start-1574552311.txt\n"
     ]
    }
   ],
   "source": [
    "mtx_files = glob.glob('outputs/jobmatrix/*[0-9].txt')\n",
    "mtx_files.sort()\n",
    "# mtx_files = mtx_files[:3] # Debug only!\n",
    "print(*mtx_files[:10], sep='\\n')"
   ]
  },
  {
   "cell_type": "markdown",
   "metadata": {},
   "source": [
    "Find corresponding labels:"
   ]
  },
  {
   "cell_type": "code",
   "execution_count": 13,
   "metadata": {},
   "outputs": [
    {
     "name": "stdout",
     "output_type": "stream",
     "text": [
      "outputs/jobmatrix/jobmatrix_release-284_start-1573895672_labels.txt\n",
      "outputs/jobmatrix/jobmatrix_release-284_start-1573982073_labels.txt\n",
      "outputs/jobmatrix/jobmatrix_release-284_start-1574068473_labels.txt\n",
      "outputs/jobmatrix/jobmatrix_release-285_start-1574102503_labels.txt\n",
      "outputs/jobmatrix/jobmatrix_release-287_start-1574151678_labels.txt\n",
      "outputs/jobmatrix/jobmatrix_release-287_start-1574238079_labels.txt\n",
      "outputs/jobmatrix/jobmatrix_release-287_start-1574324479_labels.txt\n",
      "outputs/jobmatrix/jobmatrix_release-287_start-1574410879_labels.txt\n",
      "outputs/jobmatrix/jobmatrix_release-287_start-1574497279_labels.txt\n",
      "outputs/jobmatrix/jobmatrix_release-289_start-1574552311_labels.txt\n"
     ]
    }
   ],
   "source": [
    "label_files = [f.replace('.txt', '_labels.txt') for f in mtx_files]\n",
    "print(*label_files[:10], sep='\\n')"
   ]
  },
  {
   "cell_type": "markdown",
   "metadata": {},
   "source": [
    "Concatenate labels:"
   ]
  },
  {
   "cell_type": "code",
   "execution_count": 14,
   "metadata": {},
   "outputs": [
    {
     "name": "stdout",
     "output_type": "stream",
     "text": [
      "[2276905 2276906 2276907 ... 3079302 3079308 3079310]\n"
     ]
    }
   ],
   "source": [
    "all_labels = [np.loadtxt(f) for f in label_files]\n",
    "all_labels = np.concatenate(all_labels).astype(np.int)\n",
    "print(all_labels)"
   ]
  },
  {
   "cell_type": "markdown",
   "metadata": {},
   "source": [
    "Sanity check: Are any labels repeated across log files?"
   ]
  },
  {
   "cell_type": "code",
   "execution_count": 5,
   "metadata": {},
   "outputs": [
    {
     "name": "stdout",
     "output_type": "stream",
     "text": [
      "7193 total entries\n",
      "7170 unique player IDs\n",
      "23 repeated labels (range 2-2)\n"
     ]
    }
   ],
   "source": [
    "unique_labels, label_counts = np.unique(all_labels, return_counts=True)\n",
    "repeated_labels = unique_labels[label_counts > 1]\n",
    "min_repeats = np.min(label_counts[label_counts > 1])\n",
    "\n",
    "print('%i total entries' % len(all_labels))\n",
    "print('%i unique player IDs' % len(unique_labels))\n",
    "print('%i repeated labels (range %i-%i)' % (len(repeated_labels),\n",
    "                                            min_repeats,\n",
    "                                            np.max(label_counts)))"
   ]
  },
  {
   "cell_type": "markdown",
   "metadata": {},
   "source": [
    "Concatenate matrices:"
   ]
  },
  {
   "cell_type": "code",
   "execution_count": 6,
   "metadata": {},
   "outputs": [
    {
     "name": "stdout",
     "output_type": "stream",
     "text": [
      "Loading matrix files...\n"
     ]
    },
    {
     "data": {
      "application/vnd.jupyter.widget-view+json": {
       "model_id": "fb996ead47f94db3a67fabc18a093850",
       "version_major": 2,
       "version_minor": 0
      },
      "text/plain": [
       "HBox(children=(IntProgress(value=0, max=3), HTML(value='')))"
      ]
     },
     "metadata": {},
     "output_type": "display_data"
    },
    {
     "name": "stdout",
     "output_type": "stream",
     "text": [
      "\n",
      "Concatenating matrices...\n",
      "(7193, 2805)\n"
     ]
    }
   ],
   "source": [
    "all_mtx = []\n",
    "print('Loading matrix files...')\n",
    "for f in tqdm_notebook(mtx_files):\n",
    "    all_mtx.append(np.loadtxt(f))\n",
    "print('Concatenating matrices...')\n",
    "all_mtx = np.concatenate(all_mtx, axis=0).astype(int)\n",
    "print(all_mtx.shape)"
   ]
  },
  {
   "cell_type": "markdown",
   "metadata": {},
   "source": [
    "Sum over repeated labels:"
   ]
  },
  {
   "cell_type": "code",
   "execution_count": 7,
   "metadata": {},
   "outputs": [
    {
     "data": {
      "application/vnd.jupyter.widget-view+json": {
       "model_id": "fdefb4974a77465bb732bc19024a764d",
       "version_major": 2,
       "version_minor": 0
      },
      "text/plain": [
       "HBox(children=(IntProgress(value=0, max=7170), HTML(value='')))"
      ]
     },
     "metadata": {},
     "output_type": "display_data"
    },
    {
     "name": "stdout",
     "output_type": "stream",
     "text": [
      "\n",
      "Reducing repeated labels:\n",
      "(7170, 2805)\n"
     ]
    }
   ],
   "source": [
    "unique_mtx = []\n",
    "for group in tqdm_notebook(unique_labels):\n",
    "    group_v = np.sum(all_mtx[all_labels == group],axis=0)\n",
    "    unique_mtx.append(group_v)\n",
    "unique_mtx = np.array(unique_mtx)\n",
    "print('Reducing repeated labels:')\n",
    "print(unique_mtx.shape)"
   ]
  },
  {
   "cell_type": "markdown",
   "metadata": {},
   "source": [
    "The main event: SVD!"
   ]
  },
  {
   "cell_type": "code",
   "execution_count": 8,
   "metadata": {},
   "outputs": [],
   "source": [
    "U,s,Vh = svd(unique_mtx, full_matrices=False)"
   ]
  },
  {
   "cell_type": "markdown",
   "metadata": {},
   "source": [
    "Check output"
   ]
  },
  {
   "cell_type": "code",
   "execution_count": 9,
   "metadata": {},
   "outputs": [
    {
     "name": "stdout",
     "output_type": "stream",
     "text": [
      "Check: Can we reconstruct the original values from the SVD?\n",
      "True\n"
     ]
    }
   ],
   "source": [
    "print('Check: Can we reconstruct the original values from the SVD?')\n",
    "reconstruction = U.dot(np.diag(s)).dot(Vh)\n",
    "print(np.all(np.isclose(unique_mtx, reconstruction)))"
   ]
  },
  {
   "cell_type": "markdown",
   "metadata": {},
   "source": [
    "Save outputs to file:"
   ]
  },
  {
   "cell_type": "code",
   "execution_count": 10,
   "metadata": {},
   "outputs": [],
   "source": [
    "np.savetxt('outputs/svd/U.txt', U)\n",
    "np.savetxt('outputs/svd/s.txt', s)\n",
    "np.savetxt('outputs/svd/Vh.txt', Vh)\n",
    "np.savetxt('outputs/svd/input_mtx.txt',unique_mtx)\n",
    "np.savetxt('outputs/svd/input_playerIDs.txt', unique_labels)"
   ]
  }
 ],
 "metadata": {
  "kernelspec": {
   "display_name": "Python [conda env:neuro] *",
   "language": "python",
   "name": "conda-env-neuro-py"
  },
  "language_info": {
   "codemirror_mode": {
    "name": "ipython",
    "version": 3
   },
   "file_extension": ".py",
   "mimetype": "text/x-python",
   "name": "python",
   "nbconvert_exporter": "python",
   "pygments_lexer": "ipython3",
   "version": "3.6.7"
  }
 },
 "nbformat": 4,
 "nbformat_minor": 2
}
