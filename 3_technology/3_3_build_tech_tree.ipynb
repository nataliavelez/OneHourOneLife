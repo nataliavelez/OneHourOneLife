{
 "cells": [
  {
   "cell_type": "markdown",
   "metadata": {},
   "source": [
    "# Build Tech Tree and Calculate Depths"
   ]
  },
  {
   "cell_type": "markdown",
   "metadata": {},
   "source": [
    "Grace Deng, August 2020\n",
    "\n",
    "Last modified by Natalia Velez, September 2020\n",
    "\n",
    "This file does the following:\n",
    "   1. Parse the transition files (expand on categories and keep only the forward transitions)\n",
    "   2. Calculates the depth (defined as the number of unique ingredients) of each object in the tech tree\n",
    "   3. Calculates the empowerment of each object (defined as the number of immediate products that can be made from this object)\n"
   ]
  },
  {
   "cell_type": "code",
   "execution_count": 1,
   "metadata": {},
   "outputs": [],
   "source": [
    "import os, re, glob, json\n",
    "from os.path import join as opj\n",
    "import numpy as np\n",
    "import pandas as pd\n",
    "import json\n",
    "import networkx as nx\n",
    "from tqdm import notebook\n",
    "\n",
    "import ohol_transitions as trans\n",
    "import ohol_categories as cat\n",
    "import ohol_objects as obj"
   ]
  },
  {
   "cell_type": "markdown",
   "metadata": {},
   "source": [
    "## Find object and transition files:"
   ]
  },
  {
   "cell_type": "markdown",
   "metadata": {},
   "source": [
    "Transitions:"
   ]
  },
  {
   "cell_type": "code",
   "execution_count": 2,
   "metadata": {},
   "outputs": [
    {
     "name": "stdout",
     "output_type": "stream",
     "text": [
      "../../OneLifeData7/transitions/67_2970.txt\n",
      "../../OneLifeData7/transitions/235_1890.txt\n",
      "../../OneLifeData7/transitions/441_445.txt\n",
      "../../OneLifeData7/transitions/0_2671.txt\n",
      "../../OneLifeData7/transitions/239_335.txt\n"
     ]
    }
   ],
   "source": [
    "gsearch = lambda *args: glob.glob(opj(*args))\n",
    "data_dir = '../../OneLifeData7/'\n",
    "trans_dir  = opj(data_dir, 'transitions')\n",
    "trans_files = gsearch(trans_dir, '*.txt')\n",
    "\n",
    "print(*trans_files[:5], sep='\\n')"
   ]
  },
  {
   "cell_type": "markdown",
   "metadata": {},
   "source": [
    "Objects:"
   ]
  },
  {
   "cell_type": "code",
   "execution_count": 3,
   "metadata": {},
   "outputs": [
    {
     "name": "stdout",
     "output_type": "stream",
     "text": [
      "../../OneLifeData7/objects/2268.txt\n",
      "../../OneLifeData7/objects/4179.txt\n",
      "../../OneLifeData7/objects/2662.txt\n",
      "../../OneLifeData7/objects/3556.txt\n",
      "../../OneLifeData7/objects/2475.txt\n"
     ]
    }
   ],
   "source": [
    "obj_dir = opj(data_dir, 'objects')\n",
    "obj_files = gsearch(obj_dir, '*txt')\n",
    "\n",
    "print(*obj_files[:5], sep='\\n')"
   ]
  },
  {
   "cell_type": "markdown",
   "metadata": {},
   "source": [
    "## Helper Functions:"
   ]
  },
  {
   "cell_type": "markdown",
   "metadata": {},
   "source": [
    "Find object ingredients, based on transition dictionary"
   ]
  },
  {
   "cell_type": "code",
   "execution_count": 4,
   "metadata": {},
   "outputs": [],
   "source": [
    "def find_ingredients(value):\n",
    "    ingredient_list = []\n",
    "    for idx in d.items():\n",
    "        for item in d[idx[0]].items():\n",
    "            if item[0] != 'category':\n",
    "                if value in item[1]:\n",
    "                    ingredient_list.append(item[0])\n",
    "    return list(set(ingredient_list))       \n"
   ]
  },
  {
   "cell_type": "markdown",
   "metadata": {},
   "source": [
    "Returns the category for a given object"
   ]
  },
  {
   "cell_type": "code",
   "execution_count": 5,
   "metadata": {},
   "outputs": [],
   "source": [
    "##helper function that returns the category for a given object\n",
    "def find_parent(mydict, child):\n",
    "    for i in mydict.keys():\n",
    "        if child in mydict[i]:\n",
    "            return i"
   ]
  },
  {
   "cell_type": "markdown",
   "metadata": {},
   "source": [
    "Split dataframe:"
   ]
  },
  {
   "cell_type": "code",
   "execution_count": 6,
   "metadata": {},
   "outputs": [],
   "source": [
    "def split_dataframe_rows(df,column_selectors):\n",
    "    # we need to keep track of the ordering of the columns\n",
    "    def _split_list_to_rows(row,row_accumulator,column_selector):\n",
    "        split_rows = {}\n",
    "        max_split = 0\n",
    "        for column_selector in column_selectors:\n",
    "            split_row = row[column_selector]\n",
    "            split_rows[column_selector] = split_row\n",
    "            if len(split_row) > max_split:\n",
    "                max_split = len(split_row)\n",
    "        for i in range(max_split):\n",
    "            new_row = row.to_dict()\n",
    "            for column_selector in column_selectors:\n",
    "                try:\n",
    "                    new_row[column_selector] = split_rows[column_selector].pop(0)\n",
    "                except IndexError:\n",
    "                    new_row[column_selector] = ''\n",
    "            row_accumulator.append(new_row)\n",
    "\n",
    "    new_rows = []\n",
    "    df.apply(_split_list_to_rows,axis=1,args = (new_rows,column_selectors))\n",
    "    new_df = pd.DataFrame(new_rows, columns=df.columns)\n",
    "    return new_df"
   ]
  },
  {
   "cell_type": "markdown",
   "metadata": {},
   "source": [
    "Finds the key associated with a certain value in the dictionary"
   ]
  },
  {
   "cell_type": "code",
   "execution_count": 7,
   "metadata": {},
   "outputs": [],
   "source": [
    "def find_value(dictionary, value):\n",
    "    mylist = []\n",
    "    for item in dictionary.items():\n",
    "        if value == item[1]:\n",
    "            mylist.append(item[0])\n",
    "    return mylist"
   ]
  },
  {
   "cell_type": "markdown",
   "metadata": {},
   "source": [
    "## Parse Categories and Objects"
   ]
  },
  {
   "cell_type": "markdown",
   "metadata": {},
   "source": [
    "Build a dictionary of {object: mapChance} pairs, and identify category names"
   ]
  },
  {
   "cell_type": "code",
   "execution_count": 8,
   "metadata": {},
   "outputs": [
    {
     "data": {
      "application/vnd.jupyter.widget-view+json": {
       "model_id": "0409dbe387bd4c9d90210ed648af3ba3",
       "version_major": 2,
       "version_minor": 0
      },
      "text/plain": [
       "HBox(children=(FloatProgress(value=0.0, max=4070.0), HTML(value='')))"
      ]
     },
     "metadata": {},
     "output_type": "display_data"
    },
    {
     "name": "stdout",
     "output_type": "stream",
     "text": [
      "\n"
     ]
    }
   ],
   "source": [
    "str_extract = lambda pattern, s: re.search(pattern, s).group(0)\n",
    "int_extract = lambda pattern, s: int(str_extract(pattern, s))\n",
    "cat_names = {}\n",
    "obj_dict = {}\n",
    "all_obj = {}\n",
    "for o in notebook.tqdm(obj_files):\n",
    "    is_obj = re.search('nextObjectNumber|groundHeat', o) is None\n",
    "    \n",
    "    if is_obj:\n",
    "        o_num = int_extract('[0-9]+(?=.txt)', o)\n",
    "        o_data = obj.read_obj(o_num)\n",
    "        obj_dict[o_num] = o_data['mapChance']\n",
    "        if '@' in o_data['name'] :\n",
    "            cat_names[o_num] = o_data['name']\n",
    "        else:\n",
    "            all_obj[o_num] = o_data['name']\n"
   ]
  },
  {
   "cell_type": "markdown",
   "metadata": {},
   "source": [
    "Build a dictionary of {category: children} pairs"
   ]
  },
  {
   "cell_type": "code",
   "execution_count": 9,
   "metadata": {},
   "outputs": [
    {
     "data": {
      "text/plain": [
       "258"
      ]
     },
     "execution_count": 9,
     "metadata": {},
     "output_type": "execute_result"
    }
   ],
   "source": [
    "l = os.listdir('../../OneLifeData7/categories')\n",
    "cat_arr = [int_extract('[0-9]+(?=.txt)', o) for o in l]\n",
    "len(cat_arr)"
   ]
  },
  {
   "cell_type": "code",
   "execution_count": 10,
   "metadata": {},
   "outputs": [
    {
     "data": {
      "text/plain": [
       "[3233, 2328, 3221, 2811, 2095]"
      ]
     },
     "execution_count": 10,
     "metadata": {},
     "output_type": "execute_result"
    }
   ],
   "source": [
    "perhaps_list = list()\n",
    "for i in all_obj.values():\n",
    "    if 'Perhaps' in i:\n",
    "        perhaps_list.append(find_parent(all_obj, i))\n",
    "perhaps_list"
   ]
  },
  {
   "cell_type": "code",
   "execution_count": 11,
   "metadata": {
    "scrolled": true
   },
   "outputs": [
    {
     "data": {
      "text/plain": [
       "258"
      ]
     },
     "execution_count": 11,
     "metadata": {},
     "output_type": "execute_result"
    }
   ],
   "source": [
    "#update: if parent is not a @category name, add parent name to child list\n",
    "cat_dict = {}\n",
    "for i in cat_arr:\n",
    "    children = cat.get_children(i)\n",
    "    if (i in cat_names):\n",
    "        cat_dict[i] = children  \n",
    "    else:\n",
    "        cat_dict[i] = list(np.append(i, children))\n",
    "          \n",
    "len(cat_dict)"
   ]
  },
  {
   "cell_type": "markdown",
   "metadata": {},
   "source": [
    "Helper function: Does this object ID actually correspond to a category?"
   ]
  },
  {
   "cell_type": "code",
   "execution_count": 12,
   "metadata": {},
   "outputs": [],
   "source": [
    "def is_cat(name):\n",
    "    if name in cat_dict:\n",
    "        return True\n",
    "    else:\n",
    "        return False"
   ]
  },
  {
   "cell_type": "markdown",
   "metadata": {},
   "source": [
    "Find natural primittives"
   ]
  },
  {
   "cell_type": "code",
   "execution_count": 13,
   "metadata": {},
   "outputs": [],
   "source": [
    "nat_obj = []\n",
    "for item in obj_dict.items():\n",
    "    if item[1] != 0 :\n",
    "        nat_obj.append(item[0])"
   ]
  },
  {
   "cell_type": "code",
   "execution_count": 14,
   "metadata": {
    "scrolled": true
   },
   "outputs": [
    {
     "name": "stdout",
     "output_type": "stream",
     "text": [
      "805: Wild Onion\n",
      "2515: Calamine\n",
      "2800: Wild Tomato Plant\n",
      "1890: Lapis Lazuli\n",
      "804: Burdock\n",
      "121: Tule Reeds\n",
      "3887: Jungle Expert Way Stone - +biomeSet3 gridPlacement20 &20 +expertFind\n",
      "32: Big Hard Rock\n",
      "1020: Snow Bank\n",
      "713: Indigo\n",
      "2466: Dark Nosaj - +normalOnly\n",
      "3888: Arctic Expert Way Stone - +biomeSet3 gridPlacement20 &20 &p3 &p0 +expertFind\n",
      "418: Wolf\n",
      "136: Sapling\n",
      "33: Stone\n",
      "65: Lombardy Poplar Tree -Branch\n",
      "2156: Mosquito Swarm\n",
      "2141: Oil Palm\n",
      "707: Antarctic Fur Seal\n",
      "1157: Wild Bean Plant\n",
      "2140: Hot Spring\n",
      "50: Milkweed\n",
      "1107: Teosinte\n",
      "527: Willow Tree\n",
      "2504: Malachite\n",
      "133: Flint\n",
      "942: Muddy Iron Vein - gridPlacement40 &40\n",
      "1140: Wild Potato\n",
      "1261: Canada Goose Pond with Egg\n",
      "63: Maple Tree -Branch\n",
      "2135: Rubber Tree\n",
      "680: Gold Vein\n",
      "2804: Wild Pepper Plant\n",
      "714: Rose Madder\n",
      "4272: Rubber Tree with Pepper Vine\n",
      "4251: Wild Garlic\n",
      "2540: Niter\n",
      "2174: Turkey\n",
      "530: Bald Cypress Tree\n",
      "674: Limestone\n",
      "4239: Seeding Wild Dill\n",
      "729: Alum\n",
      "791: Monolith\n",
      "3886: Desert Expert Way Stone - +biomeSet3 gridPlacement20 &20 +expertFind\n",
      "125: Clay Deposit\n",
      "161: Rabbit Hole -hiding &single\n",
      "1874: Wild Mango Tree\n",
      "3313: Wild Grape Plant\n",
      "4221: Wild Cucumber Plant\n",
      "2285: Tarry Spot - gridPlacement40\n",
      "703: Penguin\n",
      "769: Wild Horse\n",
      "242: Ripe Wheat\n",
      "764: Rattle Snake\n",
      "1891: Cinnabar\n",
      "761: Barrel Cactus\n",
      "2567: Sand Deposit\n",
      "1184: Wild Squash Plant\n",
      "3001: Electrum Ore\n",
      "1323: Wild Boar\n",
      "99: White Pine Tree\n",
      "100: White Pine Tree with Needles\n",
      "2765: Sugarcane\n",
      "760: Dead Tree\n",
      "706: Ice Hole\n",
      "1013: Wild Rose with Fruit\n",
      "4269: Bay Tree\n",
      "153: Yew Tree -Branch\n",
      "2557: Glasswort\n",
      "49: Juniper Tree\n",
      "291: Flat Rock - empty\n",
      "1203: Wild Cabbage\n",
      "531: Mouflon\n",
      "2142: Banana Plant\n",
      "36: Seeding Wild Carrot\n",
      "630: Bear Cave\n",
      "211: Fertile Soil Deposit\n",
      "3030: Natural Spring - gridPlacement40 evePrimaryLoc\n",
      "1435: Bison\n",
      "30: Wild Gooseberry Bush\n"
     ]
    }
   ],
   "source": [
    "for o in nat_obj:\n",
    "    print('%i: %s' % (o, obj.obj_name(o)))"
   ]
  },
  {
   "cell_type": "markdown",
   "metadata": {},
   "source": [
    "## Parse transitions"
   ]
  },
  {
   "cell_type": "code",
   "execution_count": 15,
   "metadata": {},
   "outputs": [
    {
     "data": {
      "application/vnd.jupyter.widget-view+json": {
       "model_id": "ed0bb095edcf4c1cb0bcad8faff60c97",
       "version_major": 2,
       "version_minor": 0
      },
      "text/plain": [
       "HBox(children=(FloatProgress(value=0.0, max=4769.0), HTML(value='')))"
      ]
     },
     "metadata": {},
     "output_type": "display_data"
    },
    {
     "name": "stdout",
     "output_type": "stream",
     "text": [
      "\n"
     ]
    }
   ],
   "source": [
    "trans_keys = ['origActor', 'newActor', 'origTarget', 'newTarget']\n",
    "trans_list = []\n",
    "for f in notebook.tqdm(trans_files):\n",
    "    trans_dict = trans.read_transition(f)\n",
    "    trans_objs = [trans_dict[k] for k in trans_keys]\n",
    "    \n",
    "    # Are any of these categories?\n",
    "    trans_cats = [is_cat(o) for o in trans_objs]\n",
    "    #trans_cat_str = ''.join(re.findall('[A-Z]', str(trans_cats)))\n",
    "    #trans_dict['isCat'] = trans_cat_str\n",
    "    trans_dict['isCat'] = trans_cats\n",
    "    \n",
    "    trans_list.append(trans_dict)"
   ]
  },
  {
   "cell_type": "markdown",
   "metadata": {},
   "source": [
    "Assemble into dataframe:"
   ]
  },
  {
   "cell_type": "code",
   "execution_count": 16,
   "metadata": {},
   "outputs": [
    {
     "data": {
      "text/html": [
       "<div>\n",
       "<style scoped>\n",
       "    .dataframe tbody tr th:only-of-type {\n",
       "        vertical-align: middle;\n",
       "    }\n",
       "\n",
       "    .dataframe tbody tr th {\n",
       "        vertical-align: top;\n",
       "    }\n",
       "\n",
       "    .dataframe thead th {\n",
       "        text-align: right;\n",
       "    }\n",
       "</style>\n",
       "<table border=\"1\" class=\"dataframe\">\n",
       "  <thead>\n",
       "    <tr style=\"text-align: right;\">\n",
       "      <th></th>\n",
       "      <th>origActor</th>\n",
       "      <th>origTarget</th>\n",
       "      <th>newActor</th>\n",
       "      <th>newTarget</th>\n",
       "      <th>isDecay</th>\n",
       "      <th>isTool</th>\n",
       "      <th>isCat</th>\n",
       "      <th>catStr</th>\n",
       "    </tr>\n",
       "  </thead>\n",
       "  <tbody>\n",
       "    <tr>\n",
       "      <th>0</th>\n",
       "      <td>67</td>\n",
       "      <td>2970</td>\n",
       "      <td>0</td>\n",
       "      <td>2966</td>\n",
       "      <td>False</td>\n",
       "      <td>True</td>\n",
       "      <td>[False, False, False, False]</td>\n",
       "      <td>FFFF</td>\n",
       "    </tr>\n",
       "    <tr>\n",
       "      <th>1</th>\n",
       "      <td>235</td>\n",
       "      <td>1890</td>\n",
       "      <td>1892</td>\n",
       "      <td>0</td>\n",
       "      <td>False</td>\n",
       "      <td>True</td>\n",
       "      <td>[False, False, False, False]</td>\n",
       "      <td>FFFF</td>\n",
       "    </tr>\n",
       "    <tr>\n",
       "      <th>2</th>\n",
       "      <td>441</td>\n",
       "      <td>445</td>\n",
       "      <td>441</td>\n",
       "      <td>444</td>\n",
       "      <td>False</td>\n",
       "      <td>True</td>\n",
       "      <td>[False, False, False, False]</td>\n",
       "      <td>FFFF</td>\n",
       "    </tr>\n",
       "    <tr>\n",
       "      <th>3</th>\n",
       "      <td>0</td>\n",
       "      <td>2671</td>\n",
       "      <td>2539</td>\n",
       "      <td>2665</td>\n",
       "      <td>False</td>\n",
       "      <td>False</td>\n",
       "      <td>[False, False, False, False]</td>\n",
       "      <td>FFFF</td>\n",
       "    </tr>\n",
       "    <tr>\n",
       "      <th>4</th>\n",
       "      <td>239</td>\n",
       "      <td>335</td>\n",
       "      <td>327</td>\n",
       "      <td>291</td>\n",
       "      <td>False</td>\n",
       "      <td>False</td>\n",
       "      <td>[False, False, False, False]</td>\n",
       "      <td>FFFF</td>\n",
       "    </tr>\n",
       "  </tbody>\n",
       "</table>\n",
       "</div>"
      ],
      "text/plain": [
       "   origActor  origTarget  newActor  newTarget  isDecay  isTool  \\\n",
       "0         67        2970         0       2966    False    True   \n",
       "1        235        1890      1892          0    False    True   \n",
       "2        441         445       441        444    False    True   \n",
       "3          0        2671      2539       2665    False   False   \n",
       "4        239         335       327        291    False   False   \n",
       "\n",
       "                          isCat catStr  \n",
       "0  [False, False, False, False]   FFFF  \n",
       "1  [False, False, False, False]   FFFF  \n",
       "2  [False, False, False, False]   FFFF  \n",
       "3  [False, False, False, False]   FFFF  \n",
       "4  [False, False, False, False]   FFFF  "
      ]
     },
     "execution_count": 16,
     "metadata": {},
     "output_type": "execute_result"
    }
   ],
   "source": [
    "trans_df = pd.DataFrame(trans_list)\n",
    "trans_df['isDecay'] = trans_df['autoDecaySeconds'] > 0\n",
    "trans_df = trans_df[['origActor', 'origTarget', 'newActor', 'newTarget', 'isDecay', 'isTool', 'isCat']]\n",
    "trans_df['catStr'] = trans_df['isCat'].apply(lambda b: ''.join(re.findall('[A-Z]', str(b))))\n",
    "\n",
    "trans_df.head()"
   ]
  },
  {
   "cell_type": "markdown",
   "metadata": {},
   "source": [
    "Count each type of category transition:"
   ]
  },
  {
   "cell_type": "code",
   "execution_count": 17,
   "metadata": {},
   "outputs": [
    {
     "data": {
      "text/html": [
       "<div>\n",
       "<style scoped>\n",
       "    .dataframe tbody tr th:only-of-type {\n",
       "        vertical-align: middle;\n",
       "    }\n",
       "\n",
       "    .dataframe tbody tr th {\n",
       "        vertical-align: top;\n",
       "    }\n",
       "\n",
       "    .dataframe thead th {\n",
       "        text-align: right;\n",
       "    }\n",
       "</style>\n",
       "<table border=\"1\" class=\"dataframe\">\n",
       "  <thead>\n",
       "    <tr style=\"text-align: right;\">\n",
       "      <th></th>\n",
       "      <th>catStr</th>\n",
       "      <th>n</th>\n",
       "    </tr>\n",
       "  </thead>\n",
       "  <tbody>\n",
       "    <tr>\n",
       "      <th>0</th>\n",
       "      <td>FFFF</td>\n",
       "      <td>4128</td>\n",
       "    </tr>\n",
       "    <tr>\n",
       "      <th>1</th>\n",
       "      <td>FFFT</td>\n",
       "      <td>22</td>\n",
       "    </tr>\n",
       "    <tr>\n",
       "      <th>2</th>\n",
       "      <td>FFTF</td>\n",
       "      <td>92</td>\n",
       "    </tr>\n",
       "    <tr>\n",
       "      <th>3</th>\n",
       "      <td>FFTT</td>\n",
       "      <td>158</td>\n",
       "    </tr>\n",
       "    <tr>\n",
       "      <th>4</th>\n",
       "      <td>FTFF</td>\n",
       "      <td>7</td>\n",
       "    </tr>\n",
       "    <tr>\n",
       "      <th>5</th>\n",
       "      <td>FTFT</td>\n",
       "      <td>1</td>\n",
       "    </tr>\n",
       "    <tr>\n",
       "      <th>6</th>\n",
       "      <td>FTTF</td>\n",
       "      <td>25</td>\n",
       "    </tr>\n",
       "    <tr>\n",
       "      <th>7</th>\n",
       "      <td>FTTT</td>\n",
       "      <td>6</td>\n",
       "    </tr>\n",
       "    <tr>\n",
       "      <th>8</th>\n",
       "      <td>TFFF</td>\n",
       "      <td>55</td>\n",
       "    </tr>\n",
       "    <tr>\n",
       "      <th>9</th>\n",
       "      <td>TFFT</td>\n",
       "      <td>38</td>\n",
       "    </tr>\n",
       "    <tr>\n",
       "      <th>10</th>\n",
       "      <td>TFTF</td>\n",
       "      <td>7</td>\n",
       "    </tr>\n",
       "    <tr>\n",
       "      <th>11</th>\n",
       "      <td>TFTT</td>\n",
       "      <td>12</td>\n",
       "    </tr>\n",
       "    <tr>\n",
       "      <th>12</th>\n",
       "      <td>TTFF</td>\n",
       "      <td>190</td>\n",
       "    </tr>\n",
       "    <tr>\n",
       "      <th>13</th>\n",
       "      <td>TTFT</td>\n",
       "      <td>9</td>\n",
       "    </tr>\n",
       "    <tr>\n",
       "      <th>14</th>\n",
       "      <td>TTTF</td>\n",
       "      <td>6</td>\n",
       "    </tr>\n",
       "    <tr>\n",
       "      <th>15</th>\n",
       "      <td>TTTT</td>\n",
       "      <td>13</td>\n",
       "    </tr>\n",
       "  </tbody>\n",
       "</table>\n",
       "</div>"
      ],
      "text/plain": [
       "   catStr     n\n",
       "0    FFFF  4128\n",
       "1    FFFT    22\n",
       "2    FFTF    92\n",
       "3    FFTT   158\n",
       "4    FTFF     7\n",
       "5    FTFT     1\n",
       "6    FTTF    25\n",
       "7    FTTT     6\n",
       "8    TFFF    55\n",
       "9    TFFT    38\n",
       "10   TFTF     7\n",
       "11   TFTT    12\n",
       "12   TTFF   190\n",
       "13   TTFT     9\n",
       "14   TTTF     6\n",
       "15   TTTT    13"
      ]
     },
     "execution_count": 17,
     "metadata": {},
     "output_type": "execute_result"
    }
   ],
   "source": [
    "cat_counts = trans_df.groupby('catStr')['isTool'].agg('count').reset_index()\n",
    "cat_counts = cat_counts.rename(columns = {'isTool': 'n'})\n",
    "cat_counts"
   ]
  },
  {
   "cell_type": "markdown",
   "metadata": {},
   "source": [
    "Check examples of category transitions:"
   ]
  },
  {
   "cell_type": "code",
   "execution_count": 18,
   "metadata": {},
   "outputs": [
    {
     "data": {
      "text/html": [
       "<div>\n",
       "<style scoped>\n",
       "    .dataframe tbody tr th:only-of-type {\n",
       "        vertical-align: middle;\n",
       "    }\n",
       "\n",
       "    .dataframe tbody tr th {\n",
       "        vertical-align: top;\n",
       "    }\n",
       "\n",
       "    .dataframe thead th {\n",
       "        text-align: right;\n",
       "    }\n",
       "</style>\n",
       "<table border=\"1\" class=\"dataframe\">\n",
       "  <thead>\n",
       "    <tr style=\"text-align: right;\">\n",
       "      <th></th>\n",
       "      <th>catStr</th>\n",
       "      <th>n</th>\n",
       "      <th>origActor</th>\n",
       "      <th>origTarget</th>\n",
       "      <th>newActor</th>\n",
       "      <th>newTarget</th>\n",
       "      <th>isDecay</th>\n",
       "      <th>isTool</th>\n",
       "      <th>isCat</th>\n",
       "    </tr>\n",
       "  </thead>\n",
       "  <tbody>\n",
       "    <tr>\n",
       "      <th>0</th>\n",
       "      <td>FFFF</td>\n",
       "      <td>4128</td>\n",
       "      <td>67</td>\n",
       "      <td>2970</td>\n",
       "      <td>0</td>\n",
       "      <td>2966</td>\n",
       "      <td>False</td>\n",
       "      <td>True</td>\n",
       "      <td>[False, False, False, False]</td>\n",
       "    </tr>\n",
       "    <tr>\n",
       "      <th>1</th>\n",
       "      <td>TTFF</td>\n",
       "      <td>190</td>\n",
       "      <td>394</td>\n",
       "      <td>3321</td>\n",
       "      <td>394</td>\n",
       "      <td>3333</td>\n",
       "      <td>False</td>\n",
       "      <td>True</td>\n",
       "      <td>[True, True, False, False]</td>\n",
       "    </tr>\n",
       "    <tr>\n",
       "      <th>2</th>\n",
       "      <td>FFTT</td>\n",
       "      <td>158</td>\n",
       "      <td>2820</td>\n",
       "      <td>519</td>\n",
       "      <td>2821</td>\n",
       "      <td>519</td>\n",
       "      <td>False</td>\n",
       "      <td>False</td>\n",
       "      <td>[False, False, True, True]</td>\n",
       "    </tr>\n",
       "    <tr>\n",
       "      <th>3</th>\n",
       "      <td>FFTF</td>\n",
       "      <td>92</td>\n",
       "      <td>-1</td>\n",
       "      <td>1769</td>\n",
       "      <td>0</td>\n",
       "      <td>0</td>\n",
       "      <td>True</td>\n",
       "      <td>False</td>\n",
       "      <td>[False, False, True, False]</td>\n",
       "    </tr>\n",
       "    <tr>\n",
       "      <th>4</th>\n",
       "      <td>TFFF</td>\n",
       "      <td>55</td>\n",
       "      <td>405</td>\n",
       "      <td>254</td>\n",
       "      <td>0</td>\n",
       "      <td>262</td>\n",
       "      <td>False</td>\n",
       "      <td>True</td>\n",
       "      <td>[True, False, False, False]</td>\n",
       "    </tr>\n",
       "    <tr>\n",
       "      <th>5</th>\n",
       "      <td>TFFT</td>\n",
       "      <td>38</td>\n",
       "      <td>1904</td>\n",
       "      <td>1884</td>\n",
       "      <td>659</td>\n",
       "      <td>1908</td>\n",
       "      <td>False</td>\n",
       "      <td>True</td>\n",
       "      <td>[True, False, False, True]</td>\n",
       "    </tr>\n",
       "    <tr>\n",
       "      <th>6</th>\n",
       "      <td>FTTF</td>\n",
       "      <td>25</td>\n",
       "      <td>0</td>\n",
       "      <td>780</td>\n",
       "      <td>778</td>\n",
       "      <td>0</td>\n",
       "      <td>False</td>\n",
       "      <td>False</td>\n",
       "      <td>[False, True, True, False]</td>\n",
       "    </tr>\n",
       "    <tr>\n",
       "      <th>7</th>\n",
       "      <td>FFFT</td>\n",
       "      <td>22</td>\n",
       "      <td>0</td>\n",
       "      <td>1939</td>\n",
       "      <td>0</td>\n",
       "      <td>1948</td>\n",
       "      <td>False</td>\n",
       "      <td>False</td>\n",
       "      <td>[False, False, False, True]</td>\n",
       "    </tr>\n",
       "    <tr>\n",
       "      <th>8</th>\n",
       "      <td>TTTT</td>\n",
       "      <td>13</td>\n",
       "      <td>3775</td>\n",
       "      <td>3774</td>\n",
       "      <td>3773</td>\n",
       "      <td>3777</td>\n",
       "      <td>False</td>\n",
       "      <td>False</td>\n",
       "      <td>[True, True, True, True]</td>\n",
       "    </tr>\n",
       "    <tr>\n",
       "      <th>9</th>\n",
       "      <td>TFTT</td>\n",
       "      <td>12</td>\n",
       "      <td>4558</td>\n",
       "      <td>4548</td>\n",
       "      <td>0</td>\n",
       "      <td>4546</td>\n",
       "      <td>False</td>\n",
       "      <td>True</td>\n",
       "      <td>[True, False, True, True]</td>\n",
       "    </tr>\n",
       "    <tr>\n",
       "      <th>10</th>\n",
       "      <td>TTFT</td>\n",
       "      <td>9</td>\n",
       "      <td>4555</td>\n",
       "      <td>-1</td>\n",
       "      <td>4548</td>\n",
       "      <td>4558</td>\n",
       "      <td>False</td>\n",
       "      <td>False</td>\n",
       "      <td>[True, True, False, True]</td>\n",
       "    </tr>\n",
       "    <tr>\n",
       "      <th>11</th>\n",
       "      <td>FTFF</td>\n",
       "      <td>7</td>\n",
       "      <td>0</td>\n",
       "      <td>779</td>\n",
       "      <td>778</td>\n",
       "      <td>4154</td>\n",
       "      <td>False</td>\n",
       "      <td>False</td>\n",
       "      <td>[False, True, False, False]</td>\n",
       "    </tr>\n",
       "    <tr>\n",
       "      <th>12</th>\n",
       "      <td>TFTF</td>\n",
       "      <td>7</td>\n",
       "      <td>1949</td>\n",
       "      <td>1950</td>\n",
       "      <td>0</td>\n",
       "      <td>1947</td>\n",
       "      <td>False</td>\n",
       "      <td>True</td>\n",
       "      <td>[True, False, True, False]</td>\n",
       "    </tr>\n",
       "    <tr>\n",
       "      <th>13</th>\n",
       "      <td>FTTT</td>\n",
       "      <td>6</td>\n",
       "      <td>235</td>\n",
       "      <td>4116</td>\n",
       "      <td>4118</td>\n",
       "      <td>4117</td>\n",
       "      <td>False</td>\n",
       "      <td>True</td>\n",
       "      <td>[False, True, True, True]</td>\n",
       "    </tr>\n",
       "    <tr>\n",
       "      <th>14</th>\n",
       "      <td>TTTF</td>\n",
       "      <td>6</td>\n",
       "      <td>394</td>\n",
       "      <td>2122</td>\n",
       "      <td>394</td>\n",
       "      <td>382</td>\n",
       "      <td>False</td>\n",
       "      <td>True</td>\n",
       "      <td>[True, True, True, False]</td>\n",
       "    </tr>\n",
       "    <tr>\n",
       "      <th>15</th>\n",
       "      <td>FTFT</td>\n",
       "      <td>1</td>\n",
       "      <td>0</td>\n",
       "      <td>1695</td>\n",
       "      <td>1724</td>\n",
       "      <td>1749</td>\n",
       "      <td>False</td>\n",
       "      <td>False</td>\n",
       "      <td>[False, True, False, True]</td>\n",
       "    </tr>\n",
       "  </tbody>\n",
       "</table>\n",
       "</div>"
      ],
      "text/plain": [
       "   catStr     n  origActor  origTarget  newActor  newTarget  isDecay  isTool  \\\n",
       "0    FFFF  4128         67        2970         0       2966    False    True   \n",
       "1    TTFF   190        394        3321       394       3333    False    True   \n",
       "2    FFTT   158       2820         519      2821        519    False   False   \n",
       "3    FFTF    92         -1        1769         0          0     True   False   \n",
       "4    TFFF    55        405         254         0        262    False    True   \n",
       "5    TFFT    38       1904        1884       659       1908    False    True   \n",
       "6    FTTF    25          0         780       778          0    False   False   \n",
       "7    FFFT    22          0        1939         0       1948    False   False   \n",
       "8    TTTT    13       3775        3774      3773       3777    False   False   \n",
       "9    TFTT    12       4558        4548         0       4546    False    True   \n",
       "10   TTFT     9       4555          -1      4548       4558    False   False   \n",
       "11   FTFF     7          0         779       778       4154    False   False   \n",
       "12   TFTF     7       1949        1950         0       1947    False    True   \n",
       "13   FTTT     6        235        4116      4118       4117    False    True   \n",
       "14   TTTF     6        394        2122       394        382    False    True   \n",
       "15   FTFT     1          0        1695      1724       1749    False   False   \n",
       "\n",
       "                           isCat  \n",
       "0   [False, False, False, False]  \n",
       "1     [True, True, False, False]  \n",
       "2     [False, False, True, True]  \n",
       "3    [False, False, True, False]  \n",
       "4    [True, False, False, False]  \n",
       "5     [True, False, False, True]  \n",
       "6     [False, True, True, False]  \n",
       "7    [False, False, False, True]  \n",
       "8       [True, True, True, True]  \n",
       "9      [True, False, True, True]  \n",
       "10     [True, True, False, True]  \n",
       "11   [False, True, False, False]  \n",
       "12    [True, False, True, False]  \n",
       "13     [False, True, True, True]  \n",
       "14     [True, True, True, False]  \n",
       "15    [False, True, False, True]  "
      ]
     },
     "execution_count": 18,
     "metadata": {},
     "output_type": "execute_result"
    }
   ],
   "source": [
    "cat_trans = trans_df.groupby('catStr').first().reset_index()\n",
    "cat_trans = pd.merge(cat_counts, cat_trans, on = 'catStr')\n",
    "cat_trans = cat_trans.sort_values('n', ascending = False).reset_index(drop=True)\n",
    "cat_trans"
   ]
  },
  {
   "cell_type": "markdown",
   "metadata": {},
   "source": [
    "## Build Tech Tree and calculate Depth"
   ]
  },
  {
   "cell_type": "markdown",
   "metadata": {},
   "source": [
    "### Expand categories"
   ]
  },
  {
   "cell_type": "markdown",
   "metadata": {},
   "source": [
    "If an object in a transition refers to a category, replace it with a list of objects within the category"
   ]
  },
  {
   "cell_type": "code",
   "execution_count": 19,
   "metadata": {},
   "outputs": [
    {
     "data": {
      "application/vnd.jupyter.widget-view+json": {
       "model_id": "7e3ac254733c48f78447c0f91322d69a",
       "version_major": 2,
       "version_minor": 0
      },
      "text/plain": [
       "HBox(children=(FloatProgress(value=0.0, max=4769.0), HTML(value='')))"
      ]
     },
     "metadata": {},
     "output_type": "display_data"
    },
    {
     "name": "stdout",
     "output_type": "stream",
     "text": [
      "\n",
      "(4769, 5)\n"
     ]
    },
    {
     "data": {
      "text/html": [
       "<div>\n",
       "<style scoped>\n",
       "    .dataframe tbody tr th:only-of-type {\n",
       "        vertical-align: middle;\n",
       "    }\n",
       "\n",
       "    .dataframe tbody tr th {\n",
       "        vertical-align: top;\n",
       "    }\n",
       "\n",
       "    .dataframe thead th {\n",
       "        text-align: right;\n",
       "    }\n",
       "</style>\n",
       "<table border=\"1\" class=\"dataframe\">\n",
       "  <thead>\n",
       "    <tr style=\"text-align: right;\">\n",
       "      <th></th>\n",
       "      <th>origActor</th>\n",
       "      <th>newActor</th>\n",
       "      <th>origTarget</th>\n",
       "      <th>newTarget</th>\n",
       "      <th>isCat</th>\n",
       "    </tr>\n",
       "  </thead>\n",
       "  <tbody>\n",
       "    <tr>\n",
       "      <th>0</th>\n",
       "      <td>67</td>\n",
       "      <td>0</td>\n",
       "      <td>2970</td>\n",
       "      <td>2966</td>\n",
       "      <td>[False, False, False, False]</td>\n",
       "    </tr>\n",
       "    <tr>\n",
       "      <th>1</th>\n",
       "      <td>235</td>\n",
       "      <td>1892</td>\n",
       "      <td>1890</td>\n",
       "      <td>0</td>\n",
       "      <td>[False, False, False, False]</td>\n",
       "    </tr>\n",
       "    <tr>\n",
       "      <th>2</th>\n",
       "      <td>441</td>\n",
       "      <td>441</td>\n",
       "      <td>445</td>\n",
       "      <td>444</td>\n",
       "      <td>[False, False, False, False]</td>\n",
       "    </tr>\n",
       "    <tr>\n",
       "      <th>3</th>\n",
       "      <td>0</td>\n",
       "      <td>2539</td>\n",
       "      <td>2671</td>\n",
       "      <td>2665</td>\n",
       "      <td>[False, False, False, False]</td>\n",
       "    </tr>\n",
       "    <tr>\n",
       "      <th>4</th>\n",
       "      <td>239</td>\n",
       "      <td>327</td>\n",
       "      <td>335</td>\n",
       "      <td>291</td>\n",
       "      <td>[False, False, False, False]</td>\n",
       "    </tr>\n",
       "  </tbody>\n",
       "</table>\n",
       "</div>"
      ],
      "text/plain": [
       "  origActor newActor origTarget newTarget                         isCat\n",
       "0        67        0       2970      2966  [False, False, False, False]\n",
       "1       235     1892       1890         0  [False, False, False, False]\n",
       "2       441      441        445       444  [False, False, False, False]\n",
       "3         0     2539       2671      2665  [False, False, False, False]\n",
       "4       239      327        335       291  [False, False, False, False]"
      ]
     },
     "execution_count": 19,
     "metadata": {},
     "output_type": "execute_result"
    }
   ],
   "source": [
    "tech_tree_df = trans_df.copy()\n",
    "tech_tree_df = tech_tree_df[trans_keys + ['isCat']]\n",
    "tech_tree_df = tech_tree_df.astype('object')\n",
    "\n",
    "for i,row in notebook.tqdm(tech_tree_df.iterrows(), total=tech_tree_df.shape[0]):\n",
    "    \n",
    "    for j,is_cat in zip(trans_keys, row['isCat']):\n",
    "        if is_cat:\n",
    "            cat_id = row[j]\n",
    "            tech_tree_df.at[i,j] = cat_dict[cat_id]\n",
    "\n",
    "print(tech_tree_df.shape)\n",
    "tech_tree_df.head()"
   ]
  },
  {
   "cell_type": "markdown",
   "metadata": {},
   "source": [
    "Remove natural decay transitions:"
   ]
  },
  {
   "cell_type": "code",
   "execution_count": 20,
   "metadata": {},
   "outputs": [],
   "source": [
    "tech_tree_df = tech_tree_df.query('(newActor != 0) or (newTarget != 0)')"
   ]
  },
  {
   "cell_type": "markdown",
   "metadata": {
    "collapsed": true
   },
   "source": [
    "Remove tools from transitions:"
   ]
  },
  {
   "cell_type": "code",
   "execution_count": 21,
   "metadata": {},
   "outputs": [],
   "source": [
    "tech_tree_df.loc[tech_tree_df.newTarget == tech_tree_df.origActor, 'newTarget'] = ''\n",
    "tech_tree_df.loc[tech_tree_df.newTarget == tech_tree_df.origTarget, 'newTarget'] = ''\n",
    "tech_tree_df.loc[tech_tree_df.newActor == tech_tree_df.origTarget, 'newActor'] = ''\n",
    "tech_tree_df.loc[tech_tree_df.newActor == tech_tree_df.origActor, 'newActor'] = ''"
   ]
  },
  {
   "cell_type": "code",
   "execution_count": 22,
   "metadata": {},
   "outputs": [
    {
     "name": "stdout",
     "output_type": "stream",
     "text": [
      "(4646, 5)\n"
     ]
    },
    {
     "data": {
      "text/html": [
       "<div>\n",
       "<style scoped>\n",
       "    .dataframe tbody tr th:only-of-type {\n",
       "        vertical-align: middle;\n",
       "    }\n",
       "\n",
       "    .dataframe tbody tr th {\n",
       "        vertical-align: top;\n",
       "    }\n",
       "\n",
       "    .dataframe thead th {\n",
       "        text-align: right;\n",
       "    }\n",
       "</style>\n",
       "<table border=\"1\" class=\"dataframe\">\n",
       "  <thead>\n",
       "    <tr style=\"text-align: right;\">\n",
       "      <th></th>\n",
       "      <th>origActor</th>\n",
       "      <th>newActor</th>\n",
       "      <th>origTarget</th>\n",
       "      <th>newTarget</th>\n",
       "      <th>isCat</th>\n",
       "    </tr>\n",
       "  </thead>\n",
       "  <tbody>\n",
       "    <tr>\n",
       "      <th>0</th>\n",
       "      <td>67</td>\n",
       "      <td>0</td>\n",
       "      <td>2970</td>\n",
       "      <td>2966</td>\n",
       "      <td>[False, False, False, False]</td>\n",
       "    </tr>\n",
       "    <tr>\n",
       "      <th>1</th>\n",
       "      <td>235</td>\n",
       "      <td>1892</td>\n",
       "      <td>1890</td>\n",
       "      <td>0</td>\n",
       "      <td>[False, False, False, False]</td>\n",
       "    </tr>\n",
       "    <tr>\n",
       "      <th>2</th>\n",
       "      <td>441</td>\n",
       "      <td></td>\n",
       "      <td>445</td>\n",
       "      <td>444</td>\n",
       "      <td>[False, False, False, False]</td>\n",
       "    </tr>\n",
       "    <tr>\n",
       "      <th>3</th>\n",
       "      <td>0</td>\n",
       "      <td>2539</td>\n",
       "      <td>2671</td>\n",
       "      <td>2665</td>\n",
       "      <td>[False, False, False, False]</td>\n",
       "    </tr>\n",
       "    <tr>\n",
       "      <th>4</th>\n",
       "      <td>239</td>\n",
       "      <td>327</td>\n",
       "      <td>335</td>\n",
       "      <td>291</td>\n",
       "      <td>[False, False, False, False]</td>\n",
       "    </tr>\n",
       "    <tr>\n",
       "      <th>5</th>\n",
       "      <td>[402, 40]</td>\n",
       "      <td>0</td>\n",
       "      <td>254</td>\n",
       "      <td>262</td>\n",
       "      <td>[True, False, False, False]</td>\n",
       "    </tr>\n",
       "    <tr>\n",
       "      <th>6</th>\n",
       "      <td>0</td>\n",
       "      <td>236</td>\n",
       "      <td>4302</td>\n",
       "      <td>4303</td>\n",
       "      <td>[False, False, False, False]</td>\n",
       "    </tr>\n",
       "    <tr>\n",
       "      <th>7</th>\n",
       "      <td>0</td>\n",
       "      <td>2356</td>\n",
       "      <td>2359</td>\n",
       "      <td>2243</td>\n",
       "      <td>[False, False, False, False]</td>\n",
       "    </tr>\n",
       "    <tr>\n",
       "      <th>8</th>\n",
       "      <td>-1</td>\n",
       "      <td>0</td>\n",
       "      <td>420</td>\n",
       "      <td>429</td>\n",
       "      <td>[False, False, False, False]</td>\n",
       "    </tr>\n",
       "    <tr>\n",
       "      <th>9</th>\n",
       "      <td>4542</td>\n",
       "      <td>4543</td>\n",
       "      <td>-1</td>\n",
       "      <td>4535</td>\n",
       "      <td>[False, False, False, False]</td>\n",
       "    </tr>\n",
       "    <tr>\n",
       "      <th>10</th>\n",
       "      <td>1617</td>\n",
       "      <td></td>\n",
       "      <td>235</td>\n",
       "      <td>3076</td>\n",
       "      <td>[False, False, False, False]</td>\n",
       "    </tr>\n",
       "    <tr>\n",
       "      <th>11</th>\n",
       "      <td>[210, 382]</td>\n",
       "      <td></td>\n",
       "      <td>3321</td>\n",
       "      <td>3333</td>\n",
       "      <td>[True, True, False, False]</td>\n",
       "    </tr>\n",
       "    <tr>\n",
       "      <th>12</th>\n",
       "      <td>2490</td>\n",
       "      <td>0</td>\n",
       "      <td>2607</td>\n",
       "      <td>2610</td>\n",
       "      <td>[False, False, False, False]</td>\n",
       "    </tr>\n",
       "    <tr>\n",
       "      <th>13</th>\n",
       "      <td>2773</td>\n",
       "      <td>235</td>\n",
       "      <td>213</td>\n",
       "      <td>2770</td>\n",
       "      <td>[False, False, False, False]</td>\n",
       "    </tr>\n",
       "    <tr>\n",
       "      <th>14</th>\n",
       "      <td>3182</td>\n",
       "      <td>1617</td>\n",
       "      <td>-1</td>\n",
       "      <td>3183</td>\n",
       "      <td>[False, False, False, False]</td>\n",
       "    </tr>\n",
       "    <tr>\n",
       "      <th>16</th>\n",
       "      <td>684</td>\n",
       "      <td></td>\n",
       "      <td>881</td>\n",
       "      <td>4436</td>\n",
       "      <td>[False, False, False, False]</td>\n",
       "    </tr>\n",
       "    <tr>\n",
       "      <th>17</th>\n",
       "      <td>[502, 34]</td>\n",
       "      <td></td>\n",
       "      <td>1185</td>\n",
       "      <td>1188</td>\n",
       "      <td>[True, True, False, False]</td>\n",
       "    </tr>\n",
       "    <tr>\n",
       "      <th>18</th>\n",
       "      <td>2252</td>\n",
       "      <td>2253</td>\n",
       "      <td>2238</td>\n",
       "      <td></td>\n",
       "      <td>[False, False, False, False]</td>\n",
       "    </tr>\n",
       "    <tr>\n",
       "      <th>19</th>\n",
       "      <td>3239</td>\n",
       "      <td>0</td>\n",
       "      <td>3239</td>\n",
       "      <td>4210</td>\n",
       "      <td>[False, False, False, False]</td>\n",
       "    </tr>\n",
       "    <tr>\n",
       "      <th>20</th>\n",
       "      <td>0</td>\n",
       "      <td>236</td>\n",
       "      <td>1240</td>\n",
       "      <td>1241</td>\n",
       "      <td>[False, False, False, False]</td>\n",
       "    </tr>\n",
       "  </tbody>\n",
       "</table>\n",
       "</div>"
      ],
      "text/plain": [
       "     origActor newActor origTarget newTarget                         isCat\n",
       "0           67        0       2970      2966  [False, False, False, False]\n",
       "1          235     1892       1890         0  [False, False, False, False]\n",
       "2          441                 445       444  [False, False, False, False]\n",
       "3            0     2539       2671      2665  [False, False, False, False]\n",
       "4          239      327        335       291  [False, False, False, False]\n",
       "5    [402, 40]        0        254       262   [True, False, False, False]\n",
       "6            0      236       4302      4303  [False, False, False, False]\n",
       "7            0     2356       2359      2243  [False, False, False, False]\n",
       "8           -1        0        420       429  [False, False, False, False]\n",
       "9         4542     4543         -1      4535  [False, False, False, False]\n",
       "10        1617                 235      3076  [False, False, False, False]\n",
       "11  [210, 382]                3321      3333    [True, True, False, False]\n",
       "12        2490        0       2607      2610  [False, False, False, False]\n",
       "13        2773      235        213      2770  [False, False, False, False]\n",
       "14        3182     1617         -1      3183  [False, False, False, False]\n",
       "16         684                 881      4436  [False, False, False, False]\n",
       "17   [502, 34]                1185      1188    [True, True, False, False]\n",
       "18        2252     2253       2238            [False, False, False, False]\n",
       "19        3239        0       3239      4210  [False, False, False, False]\n",
       "20           0      236       1240      1241  [False, False, False, False]"
      ]
     },
     "execution_count": 22,
     "metadata": {},
     "output_type": "execute_result"
    }
   ],
   "source": [
    "print(tech_tree_df.shape)\n",
    "tech_tree_df.head(n = 20)"
   ]
  },
  {
   "cell_type": "markdown",
   "metadata": {},
   "source": [
    "expand on perhaps items (treated as category names)"
   ]
  },
  {
   "cell_type": "code",
   "execution_count": 24,
   "metadata": {},
   "outputs": [
    {
     "data": {
      "text/html": [
       "<div>\n",
       "<style scoped>\n",
       "    .dataframe tbody tr th:only-of-type {\n",
       "        vertical-align: middle;\n",
       "    }\n",
       "\n",
       "    .dataframe tbody tr th {\n",
       "        vertical-align: top;\n",
       "    }\n",
       "\n",
       "    .dataframe thead th {\n",
       "        text-align: right;\n",
       "    }\n",
       "</style>\n",
       "<table border=\"1\" class=\"dataframe\">\n",
       "  <thead>\n",
       "    <tr style=\"text-align: right;\">\n",
       "      <th></th>\n",
       "      <th>origActor</th>\n",
       "      <th>origTarget</th>\n",
       "      <th>newActor</th>\n",
       "      <th>newTarget</th>\n",
       "      <th>isDecay</th>\n",
       "      <th>isTool</th>\n",
       "      <th>isCat</th>\n",
       "      <th>catStr</th>\n",
       "    </tr>\n",
       "  </thead>\n",
       "  <tbody>\n",
       "    <tr>\n",
       "      <th>1529</th>\n",
       "      <td>-1</td>\n",
       "      <td>1195</td>\n",
       "      <td>0</td>\n",
       "      <td>3221</td>\n",
       "      <td>True</td>\n",
       "      <td>False</td>\n",
       "      <td>[False, False, False, True]</td>\n",
       "      <td>FFFT</td>\n",
       "    </tr>\n",
       "    <tr>\n",
       "      <th>2375</th>\n",
       "      <td>-1</td>\n",
       "      <td>2810</td>\n",
       "      <td>0</td>\n",
       "      <td>2811</td>\n",
       "      <td>True</td>\n",
       "      <td>False</td>\n",
       "      <td>[False, False, False, True]</td>\n",
       "      <td>FFFT</td>\n",
       "    </tr>\n",
       "    <tr>\n",
       "      <th>2546</th>\n",
       "      <td>-1</td>\n",
       "      <td>3232</td>\n",
       "      <td>0</td>\n",
       "      <td>3233</td>\n",
       "      <td>True</td>\n",
       "      <td>False</td>\n",
       "      <td>[False, False, False, True]</td>\n",
       "      <td>FFFT</td>\n",
       "    </tr>\n",
       "    <tr>\n",
       "      <th>2719</th>\n",
       "      <td>-1</td>\n",
       "      <td>2331</td>\n",
       "      <td>0</td>\n",
       "      <td>2328</td>\n",
       "      <td>True</td>\n",
       "      <td>False</td>\n",
       "      <td>[False, False, False, True]</td>\n",
       "      <td>FFFT</td>\n",
       "    </tr>\n",
       "    <tr>\n",
       "      <th>3606</th>\n",
       "      <td>-1</td>\n",
       "      <td>2101</td>\n",
       "      <td>0</td>\n",
       "      <td>2095</td>\n",
       "      <td>True</td>\n",
       "      <td>False</td>\n",
       "      <td>[False, False, False, True]</td>\n",
       "      <td>FFFT</td>\n",
       "    </tr>\n",
       "    <tr>\n",
       "      <th>4142</th>\n",
       "      <td>-1</td>\n",
       "      <td>2303</td>\n",
       "      <td>0</td>\n",
       "      <td>2328</td>\n",
       "      <td>True</td>\n",
       "      <td>False</td>\n",
       "      <td>[False, False, False, True]</td>\n",
       "      <td>FFFT</td>\n",
       "    </tr>\n",
       "  </tbody>\n",
       "</table>\n",
       "</div>"
      ],
      "text/plain": [
       "      origActor  origTarget  newActor  newTarget  isDecay  isTool  \\\n",
       "1529         -1        1195         0       3221     True   False   \n",
       "2375         -1        2810         0       2811     True   False   \n",
       "2546         -1        3232         0       3233     True   False   \n",
       "2719         -1        2331         0       2328     True   False   \n",
       "3606         -1        2101         0       2095     True   False   \n",
       "4142         -1        2303         0       2328     True   False   \n",
       "\n",
       "                            isCat catStr  \n",
       "1529  [False, False, False, True]   FFFT  \n",
       "2375  [False, False, False, True]   FFFT  \n",
       "2546  [False, False, False, True]   FFFT  \n",
       "2719  [False, False, False, True]   FFFT  \n",
       "3606  [False, False, False, True]   FFFT  \n",
       "4142  [False, False, False, True]   FFFT  "
      ]
     },
     "execution_count": 24,
     "metadata": {},
     "output_type": "execute_result"
    }
   ],
   "source": [
    "trans_df.query('(newTarget in @perhaps_list) or (newActor in @perhaps_list)')"
   ]
  },
  {
   "cell_type": "markdown",
   "metadata": {},
   "source": [
    "parse transitions data frame (expand on categories)"
   ]
  },
  {
   "cell_type": "code",
   "execution_count": null,
   "metadata": {},
   "outputs": [],
   "source": [
    "## TODO: This is my attempt to clean up this code - NV\n",
    "# edge_cases = []\n",
    "# expanded_tech_list = []\n",
    "# new_cols = ['newTarget', 'newActor']\n",
    "\n",
    "# for idx,row in tech_tree_df.iterrows():\n",
    "    \n",
    "#     # Which of these columns contain lists? (i.e., need to be expanded)\n",
    "#     columns_to_expand = []\n",
    "#     for col in trans_keys:\n",
    "#         if type(row[col]) is list:\n",
    "#             columns_to_expand.append(col)\n",
    "            \n",
    "#     # CASE 1: All individual components - proceed!\n",
    "#     if not len(columns_to_expand):\n",
    "#         expanded_tech_list.append(row)\n",
    "#     # CASE 2: Exactly 1 components is a category\n",
    "#     elif (len(columns_to_expand) == 1) and (columns_to_expand[0] in new_cols):\n",
    "#         target = columns_to_expand[0]\n",
    "#         items = row[target].copy()\n",
    "#         print(row)\n",
    "        \n",
    "#         # Special case: If the product is \"perhaps __\", remove it\n",
    "#         if items[0] in perhaps_list:\n",
    "#             print(target)\n",
    "#             items.pop(0)\n",
    "        \n",
    "            \n",
    "        \n",
    "# #     #category id only in product: category id is actually item id\n",
    "# #     elif (len(target_columns) == 1) and ((target_columns=='newTarget') or (target_columns=='newActor')):\n",
    "# #         if (target_columns=='newTarget'): #if the product is in target\n",
    "# #             if curr_line['newTarget'][0] in perhaps_list: #special cases when the product is 'Perhaps xxx'\n",
    "# #                 curr_line['newTarget'] = curr_line['newTarget'][1:]\n",
    "# #                 for k in curr_line.values: #first turn every cell into a list obj\n",
    "# #                     if type(k) is int:\n",
    "# #                         k = [k]\n",
    "# #                 sub = split_dataframe_rows(curr_line.to_frame().T, target_columns) #split row\n",
    "# #                 newdf = newdf.append(sub)#append to dataframe\n",
    "# #             else: #normal cases\n",
    "# #                 curr_line['newTarget'] = curr_line['newTarget'][0] #only keep the first element of the list\n",
    "# #                 newdf = newdf.append(curr_line.to_frame().T) #append to dataframe\n",
    "# #         elif (target_columns=='newActor'): #if the product is in actor\n",
    "# #             curr_line['newActor'] = curr_line['newActor'][0]\n",
    "# #             newdf = newdf.append(curr_line.to_frame().T) #append to dataframe\n",
    "        \n",
    "# #     #more categories in equation and they match in lengths\n",
    "# #     else:\n",
    "# #         length = len(curr_line[target_columns[0]])\n",
    "# #         if all(len(lst) == length for lst in curr_line[target_columns]): #check that they are of the same lengths\n",
    "# #             for k in curr_line.values: #first turn every cell into a list obj\n",
    "# #                 if type(k) is int:\n",
    "# #                     k = [k]\n",
    "# #             sub = split_dataframe_rows(curr_line.to_frame().T, target_columns) #split row\n",
    "# #             newdf = newdf.append(sub)#append to dataframe\n",
    "# #         else:\n",
    "# #             edge_cases = np.append(edge_cases, i) #edge cases are not included in newdf\n",
    "        \n"
   ]
  },
  {
   "cell_type": "code",
   "execution_count": 34,
   "metadata": {},
   "outputs": [],
   "source": [
    "mydf = tech_tree_df.copy()\n",
    "edge_cases = []\n",
    "newdf = pd.DataFrame(columns = ['origActor','origTarget','newActor','newTarget'])\n",
    "for i in range(0,len(mydf)):\n",
    "    curr_line = mydf.iloc[i]\n",
    "    target_columns = []\n",
    "    for j in ['origActor','origTarget','newActor','newTarget']:\n",
    "        if (type(curr_line[j]) is list):\n",
    "            if len(curr_line[j]):\n",
    "                target_columns = np.append(target_columns,j)\n",
    "            \n",
    "    #nothing in the equation has a category id       \n",
    "    if (len(target_columns) == 0):\n",
    "        newdf = newdf.append(curr_line.to_frame().T) #append to dataframe\n",
    "        \n",
    "    #category id only in product: category id is actually item id\n",
    "    elif (len(target_columns) == 1) and ((target_columns=='newTarget') or (target_columns=='newActor')):\n",
    "        if (target_columns=='newTarget'): #if the product is in target\n",
    "            if curr_line['newTarget'][0] in perhaps_list: #special cases when the product is 'Perhaps xxx'\n",
    "                curr_line['newTarget'] = curr_line['newTarget'][1:]\n",
    "                for k in curr_line.values: #first turn every cell into a list obj\n",
    "                    if type(k) is int:\n",
    "                        k = [k]\n",
    "                sub = split_dataframe_rows(curr_line.to_frame().T, target_columns) #split row\n",
    "                newdf = newdf.append(sub)#append to dataframe\n",
    "            else: #normal cases\n",
    "                curr_line['newTarget'] = curr_line['newTarget'][0] #only keep the first element of the list\n",
    "                newdf = newdf.append(curr_line.to_frame().T) #append to dataframe\n",
    "        elif (target_columns=='newActor'): #if the product is in actor\n",
    "            curr_line['newActor'] = curr_line['newActor'][0]\n",
    "            newdf = newdf.append(curr_line.to_frame().T) #append to dataframe\n",
    "        \n",
    "    #more categories in equation and they match in lengths\n",
    "    else:\n",
    "        length = len(curr_line[target_columns[0]])\n",
    "        if all(len(lst) == length for lst in curr_line[target_columns]): #check that they are of the same lengths\n",
    "            for k in curr_line.values: #first turn every cell into a list obj\n",
    "                if type(k) is int:\n",
    "                    k = [k]\n",
    "            sub = split_dataframe_rows(curr_line.to_frame().T, target_columns) #split row\n",
    "            newdf = newdf.append(sub)#append to dataframe\n",
    "        else:\n",
    "            edge_cases = np.append(edge_cases, i) #edge cases are not included in newdf"
   ]
  },
  {
   "cell_type": "markdown",
   "metadata": {},
   "source": [
    "remove situations where nothing is produced"
   ]
  },
  {
   "cell_type": "code",
   "execution_count": 42,
   "metadata": {},
   "outputs": [],
   "source": [
    "for _,row in newdf.iterrows():\n",
    "    for key in trans_keys:\n",
    "        if type(key) is list:\n",
    "            print(row)"
   ]
  },
  {
   "cell_type": "code",
   "execution_count": 43,
   "metadata": {},
   "outputs": [
    {
     "ename": "ValueError",
     "evalue": "setting an array element with a sequence.",
     "output_type": "error",
     "traceback": [
      "\u001b[0;31m---------------------------------------------------------------------------\u001b[0m",
      "\u001b[0;31mTypeError\u001b[0m                                 Traceback (most recent call last)",
      "\u001b[0;31mTypeError\u001b[0m: int() argument must be a string, a bytes-like object or a number, not 'list'",
      "\nThe above exception was the direct cause of the following exception:\n",
      "\u001b[0;31mValueError\u001b[0m                                Traceback (most recent call last)",
      "\u001b[0;32m<ipython-input-43-3e7b1ea782ed>\u001b[0m in \u001b[0;36m<module>\u001b[0;34m\u001b[0m\n\u001b[1;32m      1\u001b[0m \u001b[0mnewdf\u001b[0m \u001b[0;34m=\u001b[0m \u001b[0mnewdf\u001b[0m\u001b[0;34m[\u001b[0m\u001b[0mtrans_keys\u001b[0m\u001b[0;34m]\u001b[0m\u001b[0;34m\u001b[0m\u001b[0;34m\u001b[0m\u001b[0m\n\u001b[0;32m----> 2\u001b[0;31m \u001b[0mnewdf\u001b[0m \u001b[0;34m=\u001b[0m \u001b[0mnewdf\u001b[0m\u001b[0;34m.\u001b[0m\u001b[0mastype\u001b[0m\u001b[0;34m(\u001b[0m\u001b[0;34m'int32'\u001b[0m\u001b[0;34m)\u001b[0m\u001b[0;34m\u001b[0m\u001b[0;34m\u001b[0m\u001b[0m\n\u001b[0m\u001b[1;32m      3\u001b[0m \u001b[0mnewdf\u001b[0m\u001b[0;34m.\u001b[0m\u001b[0mquery\u001b[0m\u001b[0;34m(\u001b[0m\u001b[0;34m'(newActor != \"\") or (newTarget != \"\")'\u001b[0m\u001b[0;34m)\u001b[0m\u001b[0;34m\u001b[0m\u001b[0;34m\u001b[0m\u001b[0m\n",
      "\u001b[0;32m~/.conda/envs/py3/lib/python3.6/site-packages/pandas/core/generic.py\u001b[0m in \u001b[0;36mastype\u001b[0;34m(self, dtype, copy, errors)\u001b[0m\n\u001b[1;32m   5535\u001b[0m         \u001b[0;32melse\u001b[0m\u001b[0;34m:\u001b[0m\u001b[0;34m\u001b[0m\u001b[0;34m\u001b[0m\u001b[0m\n\u001b[1;32m   5536\u001b[0m             \u001b[0;31m# else, only a single dtype is given\u001b[0m\u001b[0;34m\u001b[0m\u001b[0;34m\u001b[0m\u001b[0;34m\u001b[0m\u001b[0m\n\u001b[0;32m-> 5537\u001b[0;31m             \u001b[0mnew_data\u001b[0m \u001b[0;34m=\u001b[0m \u001b[0mself\u001b[0m\u001b[0;34m.\u001b[0m\u001b[0m_mgr\u001b[0m\u001b[0;34m.\u001b[0m\u001b[0mastype\u001b[0m\u001b[0;34m(\u001b[0m\u001b[0mdtype\u001b[0m\u001b[0;34m=\u001b[0m\u001b[0mdtype\u001b[0m\u001b[0;34m,\u001b[0m \u001b[0mcopy\u001b[0m\u001b[0;34m=\u001b[0m\u001b[0mcopy\u001b[0m\u001b[0;34m,\u001b[0m \u001b[0merrors\u001b[0m\u001b[0;34m=\u001b[0m\u001b[0merrors\u001b[0m\u001b[0;34m,\u001b[0m\u001b[0;34m)\u001b[0m\u001b[0;34m\u001b[0m\u001b[0;34m\u001b[0m\u001b[0m\n\u001b[0m\u001b[1;32m   5538\u001b[0m             \u001b[0;32mreturn\u001b[0m \u001b[0mself\u001b[0m\u001b[0;34m.\u001b[0m\u001b[0m_constructor\u001b[0m\u001b[0;34m(\u001b[0m\u001b[0mnew_data\u001b[0m\u001b[0;34m)\u001b[0m\u001b[0;34m.\u001b[0m\u001b[0m__finalize__\u001b[0m\u001b[0;34m(\u001b[0m\u001b[0mself\u001b[0m\u001b[0;34m,\u001b[0m \u001b[0mmethod\u001b[0m\u001b[0;34m=\u001b[0m\u001b[0;34m\"astype\"\u001b[0m\u001b[0;34m)\u001b[0m\u001b[0;34m\u001b[0m\u001b[0;34m\u001b[0m\u001b[0m\n\u001b[1;32m   5539\u001b[0m \u001b[0;34m\u001b[0m\u001b[0m\n",
      "\u001b[0;32m~/.conda/envs/py3/lib/python3.6/site-packages/pandas/core/internals/managers.py\u001b[0m in \u001b[0;36mastype\u001b[0;34m(self, dtype, copy, errors)\u001b[0m\n\u001b[1;32m    593\u001b[0m         \u001b[0mself\u001b[0m\u001b[0;34m,\u001b[0m \u001b[0mdtype\u001b[0m\u001b[0;34m,\u001b[0m \u001b[0mcopy\u001b[0m\u001b[0;34m:\u001b[0m \u001b[0mbool\u001b[0m \u001b[0;34m=\u001b[0m \u001b[0;32mFalse\u001b[0m\u001b[0;34m,\u001b[0m \u001b[0merrors\u001b[0m\u001b[0;34m:\u001b[0m \u001b[0mstr\u001b[0m \u001b[0;34m=\u001b[0m \u001b[0;34m\"raise\"\u001b[0m\u001b[0;34m\u001b[0m\u001b[0;34m\u001b[0m\u001b[0m\n\u001b[1;32m    594\u001b[0m     ) -> \"BlockManager\":\n\u001b[0;32m--> 595\u001b[0;31m         \u001b[0;32mreturn\u001b[0m \u001b[0mself\u001b[0m\u001b[0;34m.\u001b[0m\u001b[0mapply\u001b[0m\u001b[0;34m(\u001b[0m\u001b[0;34m\"astype\"\u001b[0m\u001b[0;34m,\u001b[0m \u001b[0mdtype\u001b[0m\u001b[0;34m=\u001b[0m\u001b[0mdtype\u001b[0m\u001b[0;34m,\u001b[0m \u001b[0mcopy\u001b[0m\u001b[0;34m=\u001b[0m\u001b[0mcopy\u001b[0m\u001b[0;34m,\u001b[0m \u001b[0merrors\u001b[0m\u001b[0;34m=\u001b[0m\u001b[0merrors\u001b[0m\u001b[0;34m)\u001b[0m\u001b[0;34m\u001b[0m\u001b[0;34m\u001b[0m\u001b[0m\n\u001b[0m\u001b[1;32m    596\u001b[0m \u001b[0;34m\u001b[0m\u001b[0m\n\u001b[1;32m    597\u001b[0m     def convert(\n",
      "\u001b[0;32m~/.conda/envs/py3/lib/python3.6/site-packages/pandas/core/internals/managers.py\u001b[0m in \u001b[0;36mapply\u001b[0;34m(self, f, align_keys, **kwargs)\u001b[0m\n\u001b[1;32m    404\u001b[0m                 \u001b[0mapplied\u001b[0m \u001b[0;34m=\u001b[0m \u001b[0mb\u001b[0m\u001b[0;34m.\u001b[0m\u001b[0mapply\u001b[0m\u001b[0;34m(\u001b[0m\u001b[0mf\u001b[0m\u001b[0;34m,\u001b[0m \u001b[0;34m**\u001b[0m\u001b[0mkwargs\u001b[0m\u001b[0;34m)\u001b[0m\u001b[0;34m\u001b[0m\u001b[0;34m\u001b[0m\u001b[0m\n\u001b[1;32m    405\u001b[0m             \u001b[0;32melse\u001b[0m\u001b[0;34m:\u001b[0m\u001b[0;34m\u001b[0m\u001b[0;34m\u001b[0m\u001b[0m\n\u001b[0;32m--> 406\u001b[0;31m                 \u001b[0mapplied\u001b[0m \u001b[0;34m=\u001b[0m \u001b[0mgetattr\u001b[0m\u001b[0;34m(\u001b[0m\u001b[0mb\u001b[0m\u001b[0;34m,\u001b[0m \u001b[0mf\u001b[0m\u001b[0;34m)\u001b[0m\u001b[0;34m(\u001b[0m\u001b[0;34m**\u001b[0m\u001b[0mkwargs\u001b[0m\u001b[0;34m)\u001b[0m\u001b[0;34m\u001b[0m\u001b[0;34m\u001b[0m\u001b[0m\n\u001b[0m\u001b[1;32m    407\u001b[0m             \u001b[0mresult_blocks\u001b[0m \u001b[0;34m=\u001b[0m \u001b[0m_extend_blocks\u001b[0m\u001b[0;34m(\u001b[0m\u001b[0mapplied\u001b[0m\u001b[0;34m,\u001b[0m \u001b[0mresult_blocks\u001b[0m\u001b[0;34m)\u001b[0m\u001b[0;34m\u001b[0m\u001b[0;34m\u001b[0m\u001b[0m\n\u001b[1;32m    408\u001b[0m \u001b[0;34m\u001b[0m\u001b[0m\n",
      "\u001b[0;32m~/.conda/envs/py3/lib/python3.6/site-packages/pandas/core/internals/blocks.py\u001b[0m in \u001b[0;36mastype\u001b[0;34m(self, dtype, copy, errors)\u001b[0m\n\u001b[1;32m    587\u001b[0m             \u001b[0mvals1d\u001b[0m \u001b[0;34m=\u001b[0m \u001b[0mvalues\u001b[0m\u001b[0;34m.\u001b[0m\u001b[0mravel\u001b[0m\u001b[0;34m(\u001b[0m\u001b[0;34m)\u001b[0m\u001b[0;34m\u001b[0m\u001b[0;34m\u001b[0m\u001b[0m\n\u001b[1;32m    588\u001b[0m             \u001b[0;32mtry\u001b[0m\u001b[0;34m:\u001b[0m\u001b[0;34m\u001b[0m\u001b[0;34m\u001b[0m\u001b[0m\n\u001b[0;32m--> 589\u001b[0;31m                 \u001b[0mvalues\u001b[0m \u001b[0;34m=\u001b[0m \u001b[0mastype_nansafe\u001b[0m\u001b[0;34m(\u001b[0m\u001b[0mvals1d\u001b[0m\u001b[0;34m,\u001b[0m \u001b[0mdtype\u001b[0m\u001b[0;34m,\u001b[0m \u001b[0mcopy\u001b[0m\u001b[0;34m=\u001b[0m\u001b[0;32mTrue\u001b[0m\u001b[0;34m)\u001b[0m\u001b[0;34m\u001b[0m\u001b[0;34m\u001b[0m\u001b[0m\n\u001b[0m\u001b[1;32m    590\u001b[0m             \u001b[0;32mexcept\u001b[0m \u001b[0;34m(\u001b[0m\u001b[0mValueError\u001b[0m\u001b[0;34m,\u001b[0m \u001b[0mTypeError\u001b[0m\u001b[0;34m)\u001b[0m\u001b[0;34m:\u001b[0m\u001b[0;34m\u001b[0m\u001b[0;34m\u001b[0m\u001b[0m\n\u001b[1;32m    591\u001b[0m                 \u001b[0;31m# e.g. astype_nansafe can fail on object-dtype of strings\u001b[0m\u001b[0;34m\u001b[0m\u001b[0;34m\u001b[0m\u001b[0;34m\u001b[0m\u001b[0m\n",
      "\u001b[0;32m~/.conda/envs/py3/lib/python3.6/site-packages/pandas/core/dtypes/cast.py\u001b[0m in \u001b[0;36mastype_nansafe\u001b[0;34m(arr, dtype, copy, skipna)\u001b[0m\n\u001b[1;32m    964\u001b[0m         \u001b[0;31m# work around NumPy brokenness, #1987\u001b[0m\u001b[0;34m\u001b[0m\u001b[0;34m\u001b[0m\u001b[0;34m\u001b[0m\u001b[0m\n\u001b[1;32m    965\u001b[0m         \u001b[0;32mif\u001b[0m \u001b[0mnp\u001b[0m\u001b[0;34m.\u001b[0m\u001b[0missubdtype\u001b[0m\u001b[0;34m(\u001b[0m\u001b[0mdtype\u001b[0m\u001b[0;34m.\u001b[0m\u001b[0mtype\u001b[0m\u001b[0;34m,\u001b[0m \u001b[0mnp\u001b[0m\u001b[0;34m.\u001b[0m\u001b[0minteger\u001b[0m\u001b[0;34m)\u001b[0m\u001b[0;34m:\u001b[0m\u001b[0;34m\u001b[0m\u001b[0;34m\u001b[0m\u001b[0m\n\u001b[0;32m--> 966\u001b[0;31m             \u001b[0;32mreturn\u001b[0m \u001b[0mlib\u001b[0m\u001b[0;34m.\u001b[0m\u001b[0mastype_intsafe\u001b[0m\u001b[0;34m(\u001b[0m\u001b[0marr\u001b[0m\u001b[0;34m.\u001b[0m\u001b[0mravel\u001b[0m\u001b[0;34m(\u001b[0m\u001b[0;34m)\u001b[0m\u001b[0;34m,\u001b[0m \u001b[0mdtype\u001b[0m\u001b[0;34m)\u001b[0m\u001b[0;34m.\u001b[0m\u001b[0mreshape\u001b[0m\u001b[0;34m(\u001b[0m\u001b[0marr\u001b[0m\u001b[0;34m.\u001b[0m\u001b[0mshape\u001b[0m\u001b[0;34m)\u001b[0m\u001b[0;34m\u001b[0m\u001b[0;34m\u001b[0m\u001b[0m\n\u001b[0m\u001b[1;32m    967\u001b[0m \u001b[0;34m\u001b[0m\u001b[0m\n\u001b[1;32m    968\u001b[0m         \u001b[0;31m# if we have a datetime/timedelta array of objects\u001b[0m\u001b[0;34m\u001b[0m\u001b[0;34m\u001b[0m\u001b[0;34m\u001b[0m\u001b[0m\n",
      "\u001b[0;32mpandas/_libs/lib.pyx\u001b[0m in \u001b[0;36mpandas._libs.lib.astype_intsafe\u001b[0;34m()\u001b[0m\n",
      "\u001b[0;31mValueError\u001b[0m: setting an array element with a sequence."
     ]
    }
   ],
   "source": [
    "newdf = newdf[trans_keys]\n",
    "newdf = newdf.astype('int32')\n",
    "newdf.query('(newActor != \"\") or (newTarget != \"\")')"
   ]
  },
  {
   "cell_type": "markdown",
   "metadata": {},
   "source": [
    "parse cases where the lengths of both sides do not match"
   ]
  },
  {
   "cell_type": "code",
   "execution_count": null,
   "metadata": {},
   "outputs": [],
   "source": [
    "edge = tech_tree_newdf.iloc[edge_cases].copy()\n",
    "edge = edge.query('newTarget != 1947') #ignore the cards for now\n",
    "edge"
   ]
  },
  {
   "cell_type": "code",
   "execution_count": null,
   "metadata": {},
   "outputs": [],
   "source": [
    "cols = ['origActor','origTarget','newActor','newTarget']\n",
    "edge_df = pd.DataFrame(columns = cols)\n",
    "\n",
    "for j in range(0, len(edge)):\n",
    "    lengths = [1,1,1,1]\n",
    "    curr_line = edge.iloc[j]\n",
    "    for i in range(0,len(curr_line.values)):\n",
    "        if type(curr_line[i]) is list:\n",
    "            lengths[i] = len(curr_line[i])\n",
    "\n",
    "    num_repeat = np.product(np.unique(lengths))\n",
    "    mat = -np.ones([num_repeat, 4]).astype('object')\n",
    "    for i in range(0,4):\n",
    "        if lengths[i] != max(lengths):\n",
    "            mat[:,i] = np.repeat(curr_line[i], num_repeat/lengths[i])\n",
    "        else:\n",
    "            mat[:,i] = curr_line[i]*int(num_repeat/lengths[i])\n",
    "    sub = pd.DataFrame(mat, columns = cols)\n",
    "    edge_df = edge_df.append(sub)"
   ]
  },
  {
   "cell_type": "code",
   "execution_count": null,
   "metadata": {
    "scrolled": true
   },
   "outputs": [],
   "source": [
    "edge_df.head(n= 10)"
   ]
  },
  {
   "cell_type": "code",
   "execution_count": null,
   "metadata": {},
   "outputs": [],
   "source": [
    "newdf = newdf.append(edge_df)\n",
    "len(newdf)"
   ]
  },
  {
   "cell_type": "markdown",
   "metadata": {},
   "source": [
    "save to csv"
   ]
  },
  {
   "cell_type": "code",
   "execution_count": null,
   "metadata": {},
   "outputs": [],
   "source": [
    "newdf.to_csv('tech_outputs/transition.csv')"
   ]
  },
  {
   "cell_type": "markdown",
   "metadata": {},
   "source": [
    "## Calculate Depth"
   ]
  },
  {
   "cell_type": "markdown",
   "metadata": {},
   "source": [
    "make a list of items"
   ]
  },
  {
   "cell_type": "code",
   "execution_count": null,
   "metadata": {},
   "outputs": [],
   "source": [
    "max_item_id = max(list(all_obj.keys()))\n",
    "print(max_item_id)"
   ]
  },
  {
   "cell_type": "code",
   "execution_count": null,
   "metadata": {},
   "outputs": [],
   "source": [
    "#replace negative values\n",
    "newdf = newdf.replace(-1, max_item_id+1)\n",
    "newdf = newdf.replace(-2, max_item_id+2)"
   ]
  },
  {
   "cell_type": "code",
   "execution_count": null,
   "metadata": {},
   "outputs": [],
   "source": [
    "#make a list of all objects\n",
    "items = np.arange(max_item_id+3)\n",
    "print(max(items))"
   ]
  },
  {
   "cell_type": "markdown",
   "metadata": {},
   "source": [
    "### create a nested dictionary of ingredients - products pair"
   ]
  },
  {
   "cell_type": "code",
   "execution_count": null,
   "metadata": {},
   "outputs": [],
   "source": [
    "#dictionary problem has been fixed. Ingredients will not override\n",
    "#Update: also expands on situations where a category is in one side of the transition\n",
    "d = {}\n",
    "for item in all_obj:\n",
    "    d[item] = {}\n",
    "    recipy = newdf.query('(origActor == @item) or (origTarget == @item)')\n",
    "\n",
    "    if len(recipy):\n",
    "        for j in range(0,len(recipy)):\n",
    "            ingredients = recipy.iloc[j].tolist()[0:2]\n",
    "            ingredients.remove(item)\n",
    "            ingredient = ingredients[0]\n",
    "            products = recipy.iloc[j].tolist()[2:4]\n",
    "            if \"\" in products:\n",
    "                products.remove(\"\")\n",
    "            if ingredient in d[item].keys(): #prevent override\n",
    "                d[item][ingredient] = list(map(int, set(np.append(d[item][ingredient], products))))\n",
    "            else:\n",
    "                d[item][ingredient] = products         \n",
    "                "
   ]
  },
  {
   "cell_type": "markdown",
   "metadata": {},
   "source": [
    "### loop over all pairs"
   ]
  },
  {
   "cell_type": "code",
   "execution_count": null,
   "metadata": {},
   "outputs": [],
   "source": [
    "#initialize depth\n",
    "orig_depth = np.inf\n",
    "depth = {}\n",
    "transition_from = {} #this calculates the shortest path\n",
    "all_products = {} #this calculates all paths\n",
    "for item in items:\n",
    "    if item in nat_obj:\n",
    "        depth[item] = 0\n",
    "        transition_from[item] = [item]\n",
    "    else:\n",
    "        depth[item] = orig_depth\n",
    "        transition_from[item] = []\n",
    "    all_products[item] = []\n",
    "depth[0] = 0 #empty hand\n",
    "depth[len(depth)-1] = 0 #empty ground\n",
    "depth[len(depth)-2] = 0 #empty (for animals)"
   ]
  },
  {
   "cell_type": "code",
   "execution_count": null,
   "metadata": {},
   "outputs": [],
   "source": [
    "root_items = nat_obj\n",
    "order_list = []\n",
    "adj_dict = {}\n",
    "while len(root_items):\n",
    "    #take an item from root and remove it\n",
    "    item = root_items[0]\n",
    "    root_items = np.delete(root_items,0)\n",
    "\n",
    "    #put all products associated with this item into root\n",
    "    for key in d[item]: #looping through other ingredients\n",
    "        #calculate the depths of the products\n",
    "        for product in d[item][key]:\n",
    "\n",
    "            #if this product is made of known-depth ingredients, add this product to root_items list\n",
    "            if depth[product] > depth[item] + depth[key] + 1:\n",
    "                depth[product] = depth[item] + depth[key] + 1  \n",
    "                \n",
    "                all_products[key] = np.append(all_products[key],product)\n",
    "                all_products[item] = np.append(all_products[item],product)\n",
    "                transition_from[product] = product\n",
    "                transition_from[product] = np.append(transition_from[product], list(set(transition_from[key])))\n",
    "                transition_from[product] = np.append(transition_from[product], list(set(transition_from[item])))\n",
    "#                 print(transition_from[product])\n",
    "                adj_dict[product] = [item, key]\n",
    "\n",
    "                root_items = np.append(root_items, product)\n",
    "                order_list = np.append(order_list,product)\n",
    "                "
   ]
  },
  {
   "cell_type": "markdown",
   "metadata": {},
   "source": [
    "check all the uncraftable items"
   ]
  },
  {
   "cell_type": "code",
   "execution_count": null,
   "metadata": {},
   "outputs": [],
   "source": [
    "not_updated = find_value(depth, np.inf)\n",
    "len(not_updated)"
   ]
  },
  {
   "cell_type": "markdown",
   "metadata": {},
   "source": [
    "turn values to list, turn keys to string, and remove the product itself from its ingredients"
   ]
  },
  {
   "cell_type": "code",
   "execution_count": null,
   "metadata": {},
   "outputs": [],
   "source": [
    "for key in transition_from.keys():\n",
    "    transition_from[key] = [int(i) for i in transition_from[key] if (i != key)]\n",
    "transition_from = {str(k):list(set(v)) for k,v in transition_from.items()}"
   ]
  },
  {
   "cell_type": "markdown",
   "metadata": {},
   "source": [
    "calculate the number of immediate products that can be made from this object"
   ]
  },
  {
   "cell_type": "code",
   "execution_count": null,
   "metadata": {},
   "outputs": [],
   "source": [
    "emp = pd.DataFrame(columns = ['id','name','num_imme_products'])\n",
    "for i in all_obj:\n",
    "    emp = emp.append({'id':i, 'name':all_obj[i], 'num_imme_products':len(all_products[i])}, ignore_index = True)"
   ]
  },
  {
   "cell_type": "code",
   "execution_count": null,
   "metadata": {},
   "outputs": [],
   "source": [
    "emp = emp.sort_values(by = 'num_imme_products', ascending = False).reset_index(drop = True)\n",
    "emp.head()"
   ]
  },
  {
   "cell_type": "code",
   "execution_count": null,
   "metadata": {},
   "outputs": [],
   "source": [
    "all_products = {str(k):list(v) for k,v in all_products.items()}"
   ]
  },
  {
   "cell_type": "markdown",
   "metadata": {},
   "source": [
    "## Save to csv"
   ]
  },
  {
   "cell_type": "code",
   "execution_count": null,
   "metadata": {},
   "outputs": [],
   "source": [
    "#for later plotting tech tree use\n",
    "with open('tech_outputs/adj.csv', 'w') as f:\n",
    "    f.write(\"ingredient1,ingredient2,product\\n\")\n",
    "    for key in adj_dict.keys():\n",
    "        f.write(\"%s,%s,%s\\n\"%(adj_dict[key][0], adj_dict[key][1], key))"
   ]
  },
  {
   "cell_type": "code",
   "execution_count": null,
   "metadata": {},
   "outputs": [],
   "source": [
    "#save this in case it's useful. Here depth(obj) = depth(origActor) +depth(origTarget) +1\n",
    "with open('tech_outputs/depth.csv', 'w') as f:\n",
    "    f.write(\"Id,Depth,Name\\n\")\n",
    "    for key in depth.keys():\n",
    "        if key in all_obj:\n",
    "            f.write(\"%s,%s,%s\\n\"%(key, depth[key], all_obj[key]))"
   ]
  },
  {
   "cell_type": "code",
   "execution_count": null,
   "metadata": {},
   "outputs": [],
   "source": [
    "with open('tech_outputs/num_unique_ingredients.csv', 'w') as f:\n",
    "    f.write(\"id,name,num_ingredients\\n\")\n",
    "    for key in transition_from.keys():\n",
    "        if key in all_obj:\n",
    "            f.write(\"%s,%s,%s\\n\"%(key, all_obj[key], len(transition_from[key])))"
   ]
  },
  {
   "cell_type": "code",
   "execution_count": null,
   "metadata": {},
   "outputs": [],
   "source": [
    "with open('tech_outputs/ingredients.txt', 'w') as outfile:\n",
    "    json.dump(transition_from, outfile)"
   ]
  },
  {
   "cell_type": "code",
   "execution_count": null,
   "metadata": {},
   "outputs": [],
   "source": [
    "with open('tech_outputs/products.txt', 'w') as outfile:\n",
    "    json.dump(all_products, outfile)"
   ]
  },
  {
   "cell_type": "code",
   "execution_count": null,
   "metadata": {},
   "outputs": [],
   "source": [
    "emp.to_csv('tech_outputs/empowerment.csv')"
   ]
  },
  {
   "cell_type": "markdown",
   "metadata": {},
   "source": [
    "## Check:"
   ]
  },
  {
   "cell_type": "code",
   "execution_count": null,
   "metadata": {},
   "outputs": [],
   "source": [
    "# with open('tech_outputs/ingredients.p', 'rb') as fp:\n",
    "#     data = pickle.load(fp)"
   ]
  },
  {
   "cell_type": "code",
   "execution_count": null,
   "metadata": {
    "scrolled": true
   },
   "outputs": [],
   "source": [
    "emp_df = pd.read_csv('tech_outputs/empowerment.csv', index_col = 0)\n",
    "emp_df = emp_df.sort_values(by = 'num_imme_products', ascending = False).reset_index(drop = True)\n",
    "emp_df.head(n = 10)"
   ]
  },
  {
   "cell_type": "code",
   "execution_count": null,
   "metadata": {},
   "outputs": [],
   "source": [
    "trans_df = pd.read_csv('tech_outputs/num_unique_ingredients.csv')\n",
    "sorted_df = trans_df.sort_values(by = 'num_ingredients', ascending = False).reset_index(drop = True)\n",
    "sorted_df.head()"
   ]
  },
  {
   "cell_type": "code",
   "execution_count": null,
   "metadata": {
    "scrolled": true
   },
   "outputs": [],
   "source": [
    "for i in not_updated:\n",
    "    try:\n",
    "        print(obj.read_obj(str(i))['name'])\n",
    "    except:\n",
    "        SyntaxError"
   ]
  },
  {
   "cell_type": "code",
   "execution_count": null,
   "metadata": {
    "scrolled": true
   },
   "outputs": [],
   "source": [
    "hardest_item = max([i for i in list(depth.values()) if i < np.inf])\n",
    "myitem = find_value(depth, hardest_item, 0)[0]\n",
    "tech_df.query('(newTarget == @myitem) or (newActor == @myitem)')"
   ]
  },
  {
   "cell_type": "code",
   "execution_count": null,
   "metadata": {},
   "outputs": [],
   "source": []
  }
 ],
 "metadata": {
  "kernelspec": {
   "display_name": "Python [conda env:.conda-py3]",
   "language": "python",
   "name": "conda-env-.conda-py3-py"
  },
  "language_info": {
   "codemirror_mode": {
    "name": "ipython",
    "version": 3
   },
   "file_extension": ".py",
   "mimetype": "text/x-python",
   "name": "python",
   "nbconvert_exporter": "python",
   "pygments_lexer": "ipython3",
   "version": "3.6.10"
  }
 },
 "nbformat": 4,
 "nbformat_minor": 2
}
