{
 "cells": [
  {
   "cell_type": "markdown",
   "id": "083b9db4",
   "metadata": {},
   "source": [
    "# Build tech tree\n",
    "Grace Deng, August 2020 <br />\n",
    "Updated by Natalia Velez, April 2021"
   ]
  },
  {
   "cell_type": "code",
   "execution_count": 10,
   "id": "a60bc7ee",
   "metadata": {},
   "outputs": [],
   "source": [
    "import os, re, glob, json\n",
    "from os.path import join as opj\n",
    "import numpy as np\n",
    "import pandas as pd\n",
    "import json\n",
    "import pymongo\n",
    "from tqdm import notebook\n",
    "\n",
    "# Embed html-formatted text\n",
    "# (Used to do QA on transitions)\n",
    "from IPython.core.display import display, HTML\n",
    "def embed(s): return display(HTML(s))"
   ]
  },
  {
   "cell_type": "markdown",
   "id": "366c4d0d",
   "metadata": {},
   "source": [
    "## Load game data from database"
   ]
  },
  {
   "cell_type": "markdown",
   "id": "1f0a67a1",
   "metadata": {},
   "source": [
    "Connect:"
   ]
  },
  {
   "cell_type": "code",
   "execution_count": 2,
   "id": "d83fd802",
   "metadata": {},
   "outputs": [
    {
     "name": "stdout",
     "output_type": "stream",
     "text": [
      "MongoClient(host=['134.76.24.75:27017'], document_class=dict, tz_aware=False, connect=True, authsource='ohol')\n",
      "Database(MongoClient(host=['134.76.24.75:27017'], document_class=dict, tz_aware=False, connect=True, authsource='ohol'), 'ohol')\n"
     ]
    }
   ],
   "source": [
    "keyfile = '../6_database/credentials.key'\n",
    "\n",
    "#Connection string\n",
    "creds = open(keyfile, \"r\").read().splitlines()\n",
    "myclient = pymongo.MongoClient('134.76.24.75', username=creds[0], password=creds[1], authSource='ohol') \n",
    "print(myclient)\n",
    "\n",
    "ohol = myclient.ohol\n",
    "print(ohol)"
   ]
  },
  {
   "cell_type": "markdown",
   "id": "eb1ed5ed",
   "metadata": {},
   "source": [
    "Objects:"
   ]
  },
  {
   "cell_type": "code",
   "execution_count": 3,
   "id": "5cd657a3",
   "metadata": {},
   "outputs": [
    {
     "name": "stdout",
     "output_type": "stream",
     "text": [
      "Loading 4161 objects\n"
     ]
    },
    {
     "data": {
      "text/html": [
       "<div>\n",
       "<style scoped>\n",
       "    .dataframe tbody tr th:only-of-type {\n",
       "        vertical-align: middle;\n",
       "    }\n",
       "\n",
       "    .dataframe tbody tr th {\n",
       "        vertical-align: top;\n",
       "    }\n",
       "\n",
       "    .dataframe thead th {\n",
       "        text-align: right;\n",
       "    }\n",
       "</style>\n",
       "<table border=\"1\" class=\"dataframe\">\n",
       "  <thead>\n",
       "    <tr style=\"text-align: right;\">\n",
       "      <th></th>\n",
       "      <th>_id</th>\n",
       "      <th>id</th>\n",
       "      <th>name</th>\n",
       "      <th>containable</th>\n",
       "      <th>containSize</th>\n",
       "      <th>vertSlotRot</th>\n",
       "      <th>permanent</th>\n",
       "      <th>minPickupAge</th>\n",
       "      <th>heldInHand</th>\n",
       "      <th>blocksWalking</th>\n",
       "      <th>...</th>\n",
       "      <th>floorHugging</th>\n",
       "      <th>slotsLocked</th>\n",
       "      <th>noFlip</th>\n",
       "      <th>sideAccess</th>\n",
       "      <th>creationSoundForce</th>\n",
       "      <th>invisCont</th>\n",
       "      <th>slotPos</th>\n",
       "      <th>vert</th>\n",
       "      <th>spritesDrawnBehind</th>\n",
       "      <th>spritesAdditiveBlend</th>\n",
       "    </tr>\n",
       "  </thead>\n",
       "  <tbody>\n",
       "    <tr>\n",
       "      <th>0</th>\n",
       "      <td>60750c9e68dcd62afd70767e</td>\n",
       "      <td>11</td>\n",
       "      <td>Skin Tone A &amp;B &amp;C &amp;D &amp;E &amp;F</td>\n",
       "      <td>0</td>\n",
       "      <td>1.0</td>\n",
       "      <td>0.0</td>\n",
       "      <td>0</td>\n",
       "      <td>3</td>\n",
       "      <td>0</td>\n",
       "      <td>0</td>\n",
       "      <td>...</td>\n",
       "      <td>NaN</td>\n",
       "      <td>NaN</td>\n",
       "      <td>NaN</td>\n",
       "      <td>NaN</td>\n",
       "      <td>NaN</td>\n",
       "      <td>NaN</td>\n",
       "      <td>NaN</td>\n",
       "      <td>NaN</td>\n",
       "      <td>NaN</td>\n",
       "      <td>NaN</td>\n",
       "    </tr>\n",
       "    <tr>\n",
       "      <th>1</th>\n",
       "      <td>60750c9e68dcd62afd70767f</td>\n",
       "      <td>19</td>\n",
       "      <td>Female001 D</td>\n",
       "      <td>0</td>\n",
       "      <td>1.0</td>\n",
       "      <td>0.0</td>\n",
       "      <td>0</td>\n",
       "      <td>3</td>\n",
       "      <td>0</td>\n",
       "      <td>0</td>\n",
       "      <td>...</td>\n",
       "      <td>0.0</td>\n",
       "      <td>NaN</td>\n",
       "      <td>NaN</td>\n",
       "      <td>NaN</td>\n",
       "      <td>NaN</td>\n",
       "      <td>NaN</td>\n",
       "      <td>NaN</td>\n",
       "      <td>NaN</td>\n",
       "      <td>NaN</td>\n",
       "      <td>NaN</td>\n",
       "    </tr>\n",
       "    <tr>\n",
       "      <th>2</th>\n",
       "      <td>60750c9e68dcd62afd707680</td>\n",
       "      <td>30</td>\n",
       "      <td>Wild Gooseberry Bush</td>\n",
       "      <td>0</td>\n",
       "      <td>1.0</td>\n",
       "      <td>0.0</td>\n",
       "      <td>1</td>\n",
       "      <td>3</td>\n",
       "      <td>0</td>\n",
       "      <td>0</td>\n",
       "      <td>...</td>\n",
       "      <td>0.0</td>\n",
       "      <td>NaN</td>\n",
       "      <td>NaN</td>\n",
       "      <td>NaN</td>\n",
       "      <td>NaN</td>\n",
       "      <td>NaN</td>\n",
       "      <td>NaN</td>\n",
       "      <td>NaN</td>\n",
       "      <td>NaN</td>\n",
       "      <td>NaN</td>\n",
       "    </tr>\n",
       "    <tr>\n",
       "      <th>3</th>\n",
       "      <td>60750c9e68dcd62afd707681</td>\n",
       "      <td>31</td>\n",
       "      <td>Gooseberry</td>\n",
       "      <td>1</td>\n",
       "      <td>1.0</td>\n",
       "      <td>0.0</td>\n",
       "      <td>0</td>\n",
       "      <td>3</td>\n",
       "      <td>1</td>\n",
       "      <td>0</td>\n",
       "      <td>...</td>\n",
       "      <td>0.0</td>\n",
       "      <td>0.0</td>\n",
       "      <td>NaN</td>\n",
       "      <td>NaN</td>\n",
       "      <td>NaN</td>\n",
       "      <td>NaN</td>\n",
       "      <td>NaN</td>\n",
       "      <td>NaN</td>\n",
       "      <td>NaN</td>\n",
       "      <td>NaN</td>\n",
       "    </tr>\n",
       "    <tr>\n",
       "      <th>4</th>\n",
       "      <td>60750c9e68dcd62afd707682</td>\n",
       "      <td>32</td>\n",
       "      <td>Big Hard Rock</td>\n",
       "      <td>0</td>\n",
       "      <td>1.0</td>\n",
       "      <td>0.0</td>\n",
       "      <td>1</td>\n",
       "      <td>3</td>\n",
       "      <td>0</td>\n",
       "      <td>0</td>\n",
       "      <td>...</td>\n",
       "      <td>0.0</td>\n",
       "      <td>NaN</td>\n",
       "      <td>NaN</td>\n",
       "      <td>NaN</td>\n",
       "      <td>NaN</td>\n",
       "      <td>NaN</td>\n",
       "      <td>NaN</td>\n",
       "      <td>NaN</td>\n",
       "      <td>NaN</td>\n",
       "      <td>NaN</td>\n",
       "    </tr>\n",
       "  </tbody>\n",
       "</table>\n",
       "<p>5 rows × 63 columns</p>\n",
       "</div>"
      ],
      "text/plain": [
       "                        _id  id                        name  containable  \\\n",
       "0  60750c9e68dcd62afd70767e  11  Skin Tone A &B &C &D &E &F            0   \n",
       "1  60750c9e68dcd62afd70767f  19                 Female001 D            0   \n",
       "2  60750c9e68dcd62afd707680  30        Wild Gooseberry Bush            0   \n",
       "3  60750c9e68dcd62afd707681  31                  Gooseberry            1   \n",
       "4  60750c9e68dcd62afd707682  32               Big Hard Rock            0   \n",
       "\n",
       "   containSize  vertSlotRot  permanent  minPickupAge  heldInHand  \\\n",
       "0          1.0          0.0          0             3           0   \n",
       "1          1.0          0.0          0             3           0   \n",
       "2          1.0          0.0          1             3           0   \n",
       "3          1.0          0.0          0             3           1   \n",
       "4          1.0          0.0          1             3           0   \n",
       "\n",
       "   blocksWalking  ...  floorHugging  slotsLocked  noFlip  sideAccess  \\\n",
       "0              0  ...           NaN          NaN     NaN         NaN   \n",
       "1              0  ...           0.0          NaN     NaN         NaN   \n",
       "2              0  ...           0.0          NaN     NaN         NaN   \n",
       "3              0  ...           0.0          0.0     NaN         NaN   \n",
       "4              0  ...           0.0          NaN     NaN         NaN   \n",
       "\n",
       "   creationSoundForce  invisCont  slotPos  vert  spritesDrawnBehind  \\\n",
       "0                 NaN        NaN      NaN   NaN                 NaN   \n",
       "1                 NaN        NaN      NaN   NaN                 NaN   \n",
       "2                 NaN        NaN      NaN   NaN                 NaN   \n",
       "3                 NaN        NaN      NaN   NaN                 NaN   \n",
       "4                 NaN        NaN      NaN   NaN                 NaN   \n",
       "\n",
       "   spritesAdditiveBlend  \n",
       "0                   NaN  \n",
       "1                   NaN  \n",
       "2                   NaN  \n",
       "3                   NaN  \n",
       "4                   NaN  \n",
       "\n",
       "[5 rows x 63 columns]"
      ]
     },
     "execution_count": 3,
     "metadata": {},
     "output_type": "execute_result"
    }
   ],
   "source": [
    "objects = list(ohol.objects.find())\n",
    "objects = pd.DataFrame(objects)\n",
    "\n",
    "print('Loading %i objects' % objects.shape[0])\n",
    "objects.head()"
   ]
  },
  {
   "cell_type": "markdown",
   "id": "77cfdb6e",
   "metadata": {},
   "source": [
    "Transitions:"
   ]
  },
  {
   "cell_type": "code",
   "execution_count": 4,
   "id": "5eeeca6d",
   "metadata": {},
   "outputs": [
    {
     "name": "stdout",
     "output_type": "stream",
     "text": [
      "Loading 19445 transitions\n"
     ]
    },
    {
     "data": {
      "text/html": [
       "<div>\n",
       "<style scoped>\n",
       "    .dataframe tbody tr th:only-of-type {\n",
       "        vertical-align: middle;\n",
       "    }\n",
       "\n",
       "    .dataframe tbody tr th {\n",
       "        vertical-align: top;\n",
       "    }\n",
       "\n",
       "    .dataframe thead th {\n",
       "        text-align: right;\n",
       "    }\n",
       "</style>\n",
       "<table border=\"1\" class=\"dataframe\">\n",
       "  <thead>\n",
       "    <tr style=\"text-align: right;\">\n",
       "      <th></th>\n",
       "      <th>_id</th>\n",
       "      <th>origActor</th>\n",
       "      <th>origTarget</th>\n",
       "      <th>newActor</th>\n",
       "      <th>newTarget</th>\n",
       "      <th>lastUseActor</th>\n",
       "      <th>lastUseTarget</th>\n",
       "      <th>prob</th>\n",
       "    </tr>\n",
       "  </thead>\n",
       "  <tbody>\n",
       "    <tr>\n",
       "      <th>0</th>\n",
       "      <td>607aef65cffb881ebaafdd44</td>\n",
       "      <td>-1</td>\n",
       "      <td>1968</td>\n",
       "      <td>0</td>\n",
       "      <td>1969</td>\n",
       "      <td>False</td>\n",
       "      <td>False</td>\n",
       "      <td>True</td>\n",
       "    </tr>\n",
       "    <tr>\n",
       "      <th>1</th>\n",
       "      <td>607aef65cffb881ebaafdd45</td>\n",
       "      <td>-1</td>\n",
       "      <td>1968</td>\n",
       "      <td>0</td>\n",
       "      <td>1972</td>\n",
       "      <td>False</td>\n",
       "      <td>False</td>\n",
       "      <td>True</td>\n",
       "    </tr>\n",
       "    <tr>\n",
       "      <th>2</th>\n",
       "      <td>607aef65cffb881ebaafdd46</td>\n",
       "      <td>-1</td>\n",
       "      <td>1968</td>\n",
       "      <td>0</td>\n",
       "      <td>1970</td>\n",
       "      <td>False</td>\n",
       "      <td>False</td>\n",
       "      <td>True</td>\n",
       "    </tr>\n",
       "    <tr>\n",
       "      <th>3</th>\n",
       "      <td>607aef65cffb881ebaafdd47</td>\n",
       "      <td>-1</td>\n",
       "      <td>1968</td>\n",
       "      <td>0</td>\n",
       "      <td>1971</td>\n",
       "      <td>False</td>\n",
       "      <td>False</td>\n",
       "      <td>True</td>\n",
       "    </tr>\n",
       "    <tr>\n",
       "      <th>4</th>\n",
       "      <td>607aef65cffb881ebaafdd48</td>\n",
       "      <td>-1</td>\n",
       "      <td>1968</td>\n",
       "      <td>0</td>\n",
       "      <td>1973</td>\n",
       "      <td>False</td>\n",
       "      <td>False</td>\n",
       "      <td>True</td>\n",
       "    </tr>\n",
       "  </tbody>\n",
       "</table>\n",
       "</div>"
      ],
      "text/plain": [
       "                        _id  origActor  origTarget  newActor  newTarget  \\\n",
       "0  607aef65cffb881ebaafdd44         -1        1968         0       1969   \n",
       "1  607aef65cffb881ebaafdd45         -1        1968         0       1972   \n",
       "2  607aef65cffb881ebaafdd46         -1        1968         0       1970   \n",
       "3  607aef65cffb881ebaafdd47         -1        1968         0       1971   \n",
       "4  607aef65cffb881ebaafdd48         -1        1968         0       1973   \n",
       "\n",
       "   lastUseActor  lastUseTarget  prob  \n",
       "0         False          False  True  \n",
       "1         False          False  True  \n",
       "2         False          False  True  \n",
       "3         False          False  True  \n",
       "4         False          False  True  "
      ]
     },
     "execution_count": 4,
     "metadata": {},
     "output_type": "execute_result"
    }
   ],
   "source": [
    "transitions = list(ohol.expanded_transitions.find())\n",
    "transitions = pd.DataFrame(transitions)\n",
    "\n",
    "print('Loading %i transitions' % transitions.shape[0])\n",
    "transitions.head()"
   ]
  },
  {
   "cell_type": "markdown",
   "id": "4a1a00a7",
   "metadata": {},
   "source": [
    "Helper functions: Querying object, transition data"
   ]
  },
  {
   "cell_type": "code",
   "execution_count": 35,
   "id": "a65e133a",
   "metadata": {},
   "outputs": [],
   "source": [
    "### Read from object data\n",
    "def obj_name(i):\n",
    "    if i in [0, -1]:\n",
    "        return 'empty'\n",
    "    else:\n",
    "        return objects[objects.id == i].name.values[0]\n",
    "\n",
    "### Read from transition data\n",
    "def paths_from(i):\n",
    "    '''\n",
    "    Get all uses for object i\n",
    "    '''\n",
    "    return (transitions['origActor'] == i) | (transitions['origActor'] == i)\n",
    "\n",
    "def paths_to(i):\n",
    "    '''\n",
    "    Get all paths that produce object i\n",
    "    (When we build the tech tree, we're going to make the shortest of these paths\n",
    "    the official 'recipe' for i and use it to calculate the depth of i) \n",
    "    '''\n",
    "    is_product = (transitions['newActor'] == i) | (transitions['newTarget'] == i)\n",
    "    is_ingredient = paths_from(i)    \n",
    "    \n",
    "    return is_product & (~is_ingredient)\n",
    "\n",
    "def combinations(obj1, obj2):\n",
    "    '''\n",
    "    Gets all transitions involving obj1 and obj2, regardless of their relative positions\n",
    "    '''\n",
    "    obj1_actor = (transitions['origActor'] == obj1) & (transitions['origTarget'] == obj2)\n",
    "    obj2_actor = (transitions['origActor'] == obj2) & (transitions['origTarget'] == obj1)   \n",
    "    \n",
    "    return obj1_actor | obj2_actor\n",
    "\n",
    "### Display outputs nicely\n",
    "trans_cols = ['origActor', 'origTarget', 'newActor', 'newTarget']\n",
    "def record_transition(row):\n",
    "    '''\n",
    "    Converts row in transition df into a mongo-friendly dictionary\n",
    "    '''\n",
    "    return row[trans_cols].to_dict()\n",
    "    \n",
    "\n",
    "def display_transition(row):\n",
    "    '''\n",
    "    Displays transitions in pretty, HTML-formatted text\n",
    "    '''\n",
    "    # Get item names\n",
    "    names = row[trans_cols].apply(obj_name)\n",
    "    \n",
    "    # Generate HTML tags\n",
    "    tag = '<mark style=\"background-color: %s;\">%s</mark>'\n",
    "    actor_color = '#91d8f2'\n",
    "    target_color = '#ffbf6b'\n",
    "    out = '(%s,%s) &#x2192; (%s,%s)' % (tag % (actor_color, names['origActor']),\n",
    "                                        tag % (target_color, names['origTarget']),\n",
    "                                        tag % (actor_color, names['newActor']),\n",
    "                                        tag % (target_color, names['newTarget']))\n",
    "    \n",
    "    embed(out)"
   ]
  },
  {
   "cell_type": "markdown",
   "id": "3c200a77",
   "metadata": {},
   "source": [
    "Helper functions in action:"
   ]
  },
  {
   "cell_type": "code",
   "execution_count": 32,
   "id": "2f870c51",
   "metadata": {},
   "outputs": [
    {
     "name": "stdout",
     "output_type": "stream",
     "text": [
      "Kindling\n",
      "=== USES ===\n"
     ]
    },
    {
     "data": {
      "text/html": [
       "(<mark style=\"background-color: #91d8f2;\">Kindling</mark>,<mark style=\"background-color: #ffbf6b;\">Kindling</mark>) &#x2192; (<mark style=\"background-color: #91d8f2;\">empty</mark>,<mark style=\"background-color: #ffbf6b;\">Kindling Pile</mark>)"
      ],
      "text/plain": [
       "<IPython.core.display.HTML object>"
      ]
     },
     "metadata": {},
     "output_type": "display_data"
    },
    {
     "data": {
      "text/html": [
       "(<mark style=\"background-color: #91d8f2;\">Kindling</mark>,<mark style=\"background-color: #ffbf6b;\">Burning Tinder</mark>) &#x2192; (<mark style=\"background-color: #91d8f2;\">empty</mark>,<mark style=\"background-color: #ffbf6b;\">Fire</mark>)"
      ],
      "text/plain": [
       "<IPython.core.display.HTML object>"
      ]
     },
     "metadata": {},
     "output_type": "display_data"
    },
    {
     "data": {
      "text/html": [
       "(<mark style=\"background-color: #91d8f2;\">Kindling</mark>,<mark style=\"background-color: #ffbf6b;\">Fire</mark>) &#x2192; (<mark style=\"background-color: #91d8f2;\">empty</mark>,<mark style=\"background-color: #ffbf6b;\">Large Fast Fire</mark>)"
      ],
      "text/plain": [
       "<IPython.core.display.HTML object>"
      ]
     },
     "metadata": {},
     "output_type": "display_data"
    },
    {
     "data": {
      "text/html": [
       "(<mark style=\"background-color: #91d8f2;\">Kindling</mark>,<mark style=\"background-color: #ffbf6b;\">Hot Coals - +tool</mark>) &#x2192; (<mark style=\"background-color: #91d8f2;\">empty</mark>,<mark style=\"background-color: #ffbf6b;\">Fire</mark>)"
      ],
      "text/plain": [
       "<IPython.core.display.HTML object>"
      ]
     },
     "metadata": {},
     "output_type": "display_data"
    },
    {
     "data": {
      "text/html": [
       "(<mark style=\"background-color: #91d8f2;\">Kindling</mark>,<mark style=\"background-color: #ffbf6b;\">Adobe Oven</mark>) &#x2192; (<mark style=\"background-color: #91d8f2;\">empty</mark>,<mark style=\"background-color: #ffbf6b;\">Wood-filled Adobe Oven</mark>)"
      ],
      "text/plain": [
       "<IPython.core.display.HTML object>"
      ]
     },
     "metadata": {},
     "output_type": "display_data"
    },
    {
     "data": {
      "text/html": [
       "(<mark style=\"background-color: #91d8f2;\">Kindling</mark>,<mark style=\"background-color: #ffbf6b;\">Adobe Kiln</mark>) &#x2192; (<mark style=\"background-color: #91d8f2;\">empty</mark>,<mark style=\"background-color: #ffbf6b;\">Wood-filled Adobe Kiln</mark>)"
      ],
      "text/plain": [
       "<IPython.core.display.HTML object>"
      ]
     },
     "metadata": {},
     "output_type": "display_data"
    },
    {
     "data": {
      "text/html": [
       "(<mark style=\"background-color: #91d8f2;\">Kindling</mark>,<mark style=\"background-color: #ffbf6b;\">Hot Coals - Tut_only burns forever</mark>) &#x2192; (<mark style=\"background-color: #91d8f2;\">empty</mark>,<mark style=\"background-color: #ffbf6b;\">Fire</mark>)"
      ],
      "text/plain": [
       "<IPython.core.display.HTML object>"
      ]
     },
     "metadata": {},
     "output_type": "display_data"
    },
    {
     "data": {
      "text/html": [
       "(<mark style=\"background-color: #91d8f2;\">Kindling</mark>,<mark style=\"background-color: #ffbf6b;\">Kindling Pile</mark>) &#x2192; (<mark style=\"background-color: #91d8f2;\">empty</mark>,<mark style=\"background-color: #ffbf6b;\">Kindling Pile</mark>)"
      ],
      "text/plain": [
       "<IPython.core.display.HTML object>"
      ]
     },
     "metadata": {},
     "output_type": "display_data"
    },
    {
     "name": "stdout",
     "output_type": "stream",
     "text": [
      "=== HOW TO GET ===\n"
     ]
    },
    {
     "data": {
      "text/html": [
       "(<mark style=\"background-color: #91d8f2;\">empty</mark>,<mark style=\"background-color: #ffbf6b;\">Wood-filled Adobe Oven</mark>) &#x2192; (<mark style=\"background-color: #91d8f2;\">Kindling</mark>,<mark style=\"background-color: #ffbf6b;\">Adobe Oven</mark>)"
      ],
      "text/plain": [
       "<IPython.core.display.HTML object>"
      ]
     },
     "metadata": {},
     "output_type": "display_data"
    },
    {
     "data": {
      "text/html": [
       "(<mark style=\"background-color: #91d8f2;\">empty</mark>,<mark style=\"background-color: #ffbf6b;\">Wood-filled Adobe Kiln</mark>) &#x2192; (<mark style=\"background-color: #91d8f2;\">Kindling</mark>,<mark style=\"background-color: #ffbf6b;\">Adobe Kiln</mark>)"
      ],
      "text/plain": [
       "<IPython.core.display.HTML object>"
      ]
     },
     "metadata": {},
     "output_type": "display_data"
    },
    {
     "data": {
      "text/html": [
       "(<mark style=\"background-color: #91d8f2;\">empty</mark>,<mark style=\"background-color: #ffbf6b;\">Kindling Pile</mark>) &#x2192; (<mark style=\"background-color: #91d8f2;\">Kindling</mark>,<mark style=\"background-color: #ffbf6b;\">Kindling Pile</mark>)"
      ],
      "text/plain": [
       "<IPython.core.display.HTML object>"
      ]
     },
     "metadata": {},
     "output_type": "display_data"
    },
    {
     "data": {
      "text/html": [
       "(<mark style=\"background-color: #91d8f2;\">empty</mark>,<mark style=\"background-color: #ffbf6b;\">Kindling Pile</mark>) &#x2192; (<mark style=\"background-color: #91d8f2;\">Kindling</mark>,<mark style=\"background-color: #ffbf6b;\">Kindling</mark>)"
      ],
      "text/plain": [
       "<IPython.core.display.HTML object>"
      ]
     },
     "metadata": {},
     "output_type": "display_data"
    },
    {
     "data": {
      "text/html": [
       "(<mark style=\"background-color: #91d8f2;\">empty</mark>,<mark style=\"background-color: #ffbf6b;\">Kindling with Stakes</mark>) &#x2192; (<mark style=\"background-color: #91d8f2;\">Stakes - +tool</mark>,<mark style=\"background-color: #ffbf6b;\">Kindling</mark>)"
      ],
      "text/plain": [
       "<IPython.core.display.HTML object>"
      ]
     },
     "metadata": {},
     "output_type": "display_data"
    },
    {
     "data": {
      "text/html": [
       "(<mark style=\"background-color: #91d8f2;\">empty</mark>,<mark style=\"background-color: #ffbf6b;\">Two Wire Trellis with Kindling</mark>) &#x2192; (<mark style=\"background-color: #91d8f2;\">Kindling</mark>,<mark style=\"background-color: #ffbf6b;\">Two Wire Trellis</mark>)"
      ],
      "text/plain": [
       "<IPython.core.display.HTML object>"
      ]
     },
     "metadata": {},
     "output_type": "display_data"
    },
    {
     "data": {
      "text/html": [
       "(<mark style=\"background-color: #91d8f2;\">Stone Hatchet - +toolChopping</mark>,<mark style=\"background-color: #ffbf6b;\">Straight Branch</mark>) &#x2192; (<mark style=\"background-color: #91d8f2;\">Stone Hatchet - +toolChopping</mark>,<mark style=\"background-color: #ffbf6b;\">Kindling</mark>)"
      ],
      "text/plain": [
       "<IPython.core.display.HTML object>"
      ]
     },
     "metadata": {},
     "output_type": "display_data"
    },
    {
     "data": {
      "text/html": [
       "(<mark style=\"background-color: #91d8f2;\">Stone Hatchet - +toolChopping</mark>,<mark style=\"background-color: #ffbf6b;\">Small Curved Branch</mark>) &#x2192; (<mark style=\"background-color: #91d8f2;\">Stone Hatchet - +toolChopping</mark>,<mark style=\"background-color: #ffbf6b;\">Kindling</mark>)"
      ],
      "text/plain": [
       "<IPython.core.display.HTML object>"
      ]
     },
     "metadata": {},
     "output_type": "display_data"
    },
    {
     "data": {
      "text/html": [
       "(<mark style=\"background-color: #91d8f2;\">Stone Hatchet - +toolChopping</mark>,<mark style=\"background-color: #ffbf6b;\">Long Straight Shaft</mark>) &#x2192; (<mark style=\"background-color: #91d8f2;\">Stone Hatchet - +toolChopping</mark>,<mark style=\"background-color: #ffbf6b;\">Kindling</mark>)"
      ],
      "text/plain": [
       "<IPython.core.display.HTML object>"
      ]
     },
     "metadata": {},
     "output_type": "display_data"
    },
    {
     "data": {
      "text/html": [
       "(<mark style=\"background-color: #91d8f2;\">Stone Hatchet - +toolChopping</mark>,<mark style=\"background-color: #ffbf6b;\">Small Curved Shaft</mark>) &#x2192; (<mark style=\"background-color: #91d8f2;\">Stone Hatchet - +toolChopping</mark>,<mark style=\"background-color: #ffbf6b;\">Kindling</mark>)"
      ],
      "text/plain": [
       "<IPython.core.display.HTML object>"
      ]
     },
     "metadata": {},
     "output_type": "display_data"
    },
    {
     "data": {
      "text/html": [
       "(<mark style=\"background-color: #91d8f2;\">Stone Hatchet - +toolChopping</mark>,<mark style=\"background-color: #ffbf6b;\">Short Shaft</mark>) &#x2192; (<mark style=\"background-color: #91d8f2;\">Stone Hatchet - +toolChopping</mark>,<mark style=\"background-color: #ffbf6b;\">Kindling</mark>)"
      ],
      "text/plain": [
       "<IPython.core.display.HTML object>"
      ]
     },
     "metadata": {},
     "output_type": "display_data"
    },
    {
     "data": {
      "text/html": [
       "(<mark style=\"background-color: #91d8f2;\">Stone Hatchet - +toolChopping</mark>,<mark style=\"background-color: #ffbf6b;\">Stakes - +tool</mark>) &#x2192; (<mark style=\"background-color: #91d8f2;\">Stone Hatchet - +toolChopping</mark>,<mark style=\"background-color: #ffbf6b;\">Kindling</mark>)"
      ],
      "text/plain": [
       "<IPython.core.display.HTML object>"
      ]
     },
     "metadata": {},
     "output_type": "display_data"
    },
    {
     "data": {
      "text/html": [
       "(<mark style=\"background-color: #91d8f2;\">Stone Hatchet - +toolChopping</mark>,<mark style=\"background-color: #ffbf6b;\">Yew Shaft</mark>) &#x2192; (<mark style=\"background-color: #91d8f2;\">Stone Hatchet - +toolChopping</mark>,<mark style=\"background-color: #ffbf6b;\">Kindling</mark>)"
      ],
      "text/plain": [
       "<IPython.core.display.HTML object>"
      ]
     },
     "metadata": {},
     "output_type": "display_data"
    },
    {
     "data": {
      "text/html": [
       "(<mark style=\"background-color: #91d8f2;\">Stone Hatchet - +toolChopping</mark>,<mark style=\"background-color: #ffbf6b;\">Yew Branch</mark>) &#x2192; (<mark style=\"background-color: #91d8f2;\">Stone Hatchet - +toolChopping</mark>,<mark style=\"background-color: #ffbf6b;\">Kindling</mark>)"
      ],
      "text/plain": [
       "<IPython.core.display.HTML object>"
      ]
     },
     "metadata": {},
     "output_type": "display_data"
    },
    {
     "data": {
      "text/html": [
       "(<mark style=\"background-color: #91d8f2;\">Stone Hatchet - +toolChopping</mark>,<mark style=\"background-color: #ffbf6b;\">Wooden Tongs - empty</mark>) &#x2192; (<mark style=\"background-color: #91d8f2;\">Stone Hatchet - +toolChopping</mark>,<mark style=\"background-color: #ffbf6b;\">Kindling</mark>)"
      ],
      "text/plain": [
       "<IPython.core.display.HTML object>"
      ]
     },
     "metadata": {},
     "output_type": "display_data"
    },
    {
     "data": {
      "text/html": [
       "(<mark style=\"background-color: #91d8f2;\">Stone Hatchet - +toolChopping</mark>,<mark style=\"background-color: #ffbf6b;\">Firewood</mark>) &#x2192; (<mark style=\"background-color: #91d8f2;\">Stone Hatchet - +toolChopping</mark>,<mark style=\"background-color: #ffbf6b;\">Kindling</mark>)"
      ],
      "text/plain": [
       "<IPython.core.display.HTML object>"
      ]
     },
     "metadata": {},
     "output_type": "display_data"
    },
    {
     "data": {
      "text/html": [
       "(<mark style=\"background-color: #91d8f2;\">Stone Hatchet - +toolChopping</mark>,<mark style=\"background-color: #ffbf6b;\">Dead Gooseberry Bush</mark>) &#x2192; (<mark style=\"background-color: #91d8f2;\">Stone Hatchet - +toolChopping</mark>,<mark style=\"background-color: #ffbf6b;\">Kindling</mark>)"
      ],
      "text/plain": [
       "<IPython.core.display.HTML object>"
      ]
     },
     "metadata": {},
     "output_type": "display_data"
    },
    {
     "data": {
      "text/html": [
       "(<mark style=\"background-color: #91d8f2;\">Stone Hatchet - +toolChopping</mark>,<mark style=\"background-color: #ffbf6b;\">Dug Stump</mark>) &#x2192; (<mark style=\"background-color: #91d8f2;\">Stone Hatchet - +toolChopping</mark>,<mark style=\"background-color: #ffbf6b;\">Kindling</mark>)"
      ],
      "text/plain": [
       "<IPython.core.display.HTML object>"
      ]
     },
     "metadata": {},
     "output_type": "display_data"
    },
    {
     "data": {
      "text/html": [
       "(<mark style=\"background-color: #91d8f2;\">Stone Hatchet - +toolChopping</mark>,<mark style=\"background-color: #ffbf6b;\">Dug Gooseberry Bush</mark>) &#x2192; (<mark style=\"background-color: #91d8f2;\">Stone Hatchet - +toolChopping</mark>,<mark style=\"background-color: #ffbf6b;\">Kindling</mark>)"
      ],
      "text/plain": [
       "<IPython.core.display.HTML object>"
      ]
     },
     "metadata": {},
     "output_type": "display_data"
    },
    {
     "data": {
      "text/html": [
       "(<mark style=\"background-color: #91d8f2;\">Stone Hatchet - +toolChopping</mark>,<mark style=\"background-color: #ffbf6b;\">Knitting Needles - +tool</mark>) &#x2192; (<mark style=\"background-color: #91d8f2;\">Stone Hatchet - +toolChopping</mark>,<mark style=\"background-color: #ffbf6b;\">Kindling</mark>)"
      ],
      "text/plain": [
       "<IPython.core.display.HTML object>"
      ]
     },
     "metadata": {},
     "output_type": "display_data"
    },
    {
     "data": {
      "text/html": [
       "(<mark style=\"background-color: #91d8f2;\">Stone Hatchet - +toolChopping</mark>,<mark style=\"background-color: #ffbf6b;\">Dead Bonsai</mark>) &#x2192; (<mark style=\"background-color: #91d8f2;\">Stone Hatchet - +toolChopping</mark>,<mark style=\"background-color: #ffbf6b;\">Kindling</mark>)"
      ],
      "text/plain": [
       "<IPython.core.display.HTML object>"
      ]
     },
     "metadata": {},
     "output_type": "display_data"
    },
    {
     "data": {
      "text/html": [
       "(<mark style=\"background-color: #91d8f2;\">Stone Hatchet - +toolChopping</mark>,<mark style=\"background-color: #ffbf6b;\">Wing Strut</mark>) &#x2192; (<mark style=\"background-color: #91d8f2;\">Stone Hatchet - +toolChopping</mark>,<mark style=\"background-color: #ffbf6b;\">Kindling</mark>)"
      ],
      "text/plain": [
       "<IPython.core.display.HTML object>"
      ]
     },
     "metadata": {},
     "output_type": "display_data"
    },
    {
     "data": {
      "text/html": [
       "(<mark style=\"background-color: #91d8f2;\">Stone Hatchet - +toolChopping</mark>,<mark style=\"background-color: #ffbf6b;\">Tripod</mark>) &#x2192; (<mark style=\"background-color: #91d8f2;\">Stone Hatchet - +toolChopping</mark>,<mark style=\"background-color: #ffbf6b;\">Kindling</mark>)"
      ],
      "text/plain": [
       "<IPython.core.display.HTML object>"
      ]
     },
     "metadata": {},
     "output_type": "display_data"
    },
    {
     "data": {
      "text/html": [
       "(<mark style=\"background-color: #91d8f2;\">Stone Hatchet - +toolChopping</mark>,<mark style=\"background-color: #ffbf6b;\">Dug Barrel Cactus - Hungry Work - +hungryWork10</mark>) &#x2192; (<mark style=\"background-color: #91d8f2;\">Stone Hatchet - +toolChopping</mark>,<mark style=\"background-color: #ffbf6b;\">Kindling</mark>)"
      ],
      "text/plain": [
       "<IPython.core.display.HTML object>"
      ]
     },
     "metadata": {},
     "output_type": "display_data"
    },
    {
     "data": {
      "text/html": [
       "(<mark style=\"background-color: #91d8f2;\">Steel Axe - +toolChopping</mark>,<mark style=\"background-color: #ffbf6b;\">Straight Branch</mark>) &#x2192; (<mark style=\"background-color: #91d8f2;\">Steel Axe - +toolChopping</mark>,<mark style=\"background-color: #ffbf6b;\">Kindling</mark>)"
      ],
      "text/plain": [
       "<IPython.core.display.HTML object>"
      ]
     },
     "metadata": {},
     "output_type": "display_data"
    },
    {
     "data": {
      "text/html": [
       "(<mark style=\"background-color: #91d8f2;\">Steel Axe - +toolChopping</mark>,<mark style=\"background-color: #ffbf6b;\">Small Curved Branch</mark>) &#x2192; (<mark style=\"background-color: #91d8f2;\">Steel Axe - +toolChopping</mark>,<mark style=\"background-color: #ffbf6b;\">Kindling</mark>)"
      ],
      "text/plain": [
       "<IPython.core.display.HTML object>"
      ]
     },
     "metadata": {},
     "output_type": "display_data"
    },
    {
     "data": {
      "text/html": [
       "(<mark style=\"background-color: #91d8f2;\">Steel Axe - +toolChopping</mark>,<mark style=\"background-color: #ffbf6b;\">Long Straight Shaft</mark>) &#x2192; (<mark style=\"background-color: #91d8f2;\">Steel Axe - +toolChopping</mark>,<mark style=\"background-color: #ffbf6b;\">Kindling</mark>)"
      ],
      "text/plain": [
       "<IPython.core.display.HTML object>"
      ]
     },
     "metadata": {},
     "output_type": "display_data"
    },
    {
     "data": {
      "text/html": [
       "(<mark style=\"background-color: #91d8f2;\">Steel Axe - +toolChopping</mark>,<mark style=\"background-color: #ffbf6b;\">Small Curved Shaft</mark>) &#x2192; (<mark style=\"background-color: #91d8f2;\">Steel Axe - +toolChopping</mark>,<mark style=\"background-color: #ffbf6b;\">Kindling</mark>)"
      ],
      "text/plain": [
       "<IPython.core.display.HTML object>"
      ]
     },
     "metadata": {},
     "output_type": "display_data"
    },
    {
     "data": {
      "text/html": [
       "(<mark style=\"background-color: #91d8f2;\">Steel Axe - +toolChopping</mark>,<mark style=\"background-color: #ffbf6b;\">Short Shaft</mark>) &#x2192; (<mark style=\"background-color: #91d8f2;\">Steel Axe - +toolChopping</mark>,<mark style=\"background-color: #ffbf6b;\">Kindling</mark>)"
      ],
      "text/plain": [
       "<IPython.core.display.HTML object>"
      ]
     },
     "metadata": {},
     "output_type": "display_data"
    },
    {
     "data": {
      "text/html": [
       "(<mark style=\"background-color: #91d8f2;\">Steel Axe - +toolChopping</mark>,<mark style=\"background-color: #ffbf6b;\">Stakes - +tool</mark>) &#x2192; (<mark style=\"background-color: #91d8f2;\">Steel Axe - +toolChopping</mark>,<mark style=\"background-color: #ffbf6b;\">Kindling</mark>)"
      ],
      "text/plain": [
       "<IPython.core.display.HTML object>"
      ]
     },
     "metadata": {},
     "output_type": "display_data"
    },
    {
     "data": {
      "text/html": [
       "(<mark style=\"background-color: #91d8f2;\">Steel Axe - +toolChopping</mark>,<mark style=\"background-color: #ffbf6b;\">Yew Shaft</mark>) &#x2192; (<mark style=\"background-color: #91d8f2;\">Steel Axe - +toolChopping</mark>,<mark style=\"background-color: #ffbf6b;\">Kindling</mark>)"
      ],
      "text/plain": [
       "<IPython.core.display.HTML object>"
      ]
     },
     "metadata": {},
     "output_type": "display_data"
    },
    {
     "data": {
      "text/html": [
       "(<mark style=\"background-color: #91d8f2;\">Steel Axe - +toolChopping</mark>,<mark style=\"background-color: #ffbf6b;\">Yew Branch</mark>) &#x2192; (<mark style=\"background-color: #91d8f2;\">Steel Axe - +toolChopping</mark>,<mark style=\"background-color: #ffbf6b;\">Kindling</mark>)"
      ],
      "text/plain": [
       "<IPython.core.display.HTML object>"
      ]
     },
     "metadata": {},
     "output_type": "display_data"
    },
    {
     "data": {
      "text/html": [
       "(<mark style=\"background-color: #91d8f2;\">Steel Axe - +toolChopping</mark>,<mark style=\"background-color: #ffbf6b;\">Wooden Tongs - empty</mark>) &#x2192; (<mark style=\"background-color: #91d8f2;\">Steel Axe - +toolChopping</mark>,<mark style=\"background-color: #ffbf6b;\">Kindling</mark>)"
      ],
      "text/plain": [
       "<IPython.core.display.HTML object>"
      ]
     },
     "metadata": {},
     "output_type": "display_data"
    },
    {
     "data": {
      "text/html": [
       "(<mark style=\"background-color: #91d8f2;\">Steel Axe - +toolChopping</mark>,<mark style=\"background-color: #ffbf6b;\">Firewood</mark>) &#x2192; (<mark style=\"background-color: #91d8f2;\">Steel Axe - +toolChopping</mark>,<mark style=\"background-color: #ffbf6b;\">Kindling</mark>)"
      ],
      "text/plain": [
       "<IPython.core.display.HTML object>"
      ]
     },
     "metadata": {},
     "output_type": "display_data"
    },
    {
     "data": {
      "text/html": [
       "(<mark style=\"background-color: #91d8f2;\">Steel Axe - +toolChopping</mark>,<mark style=\"background-color: #ffbf6b;\">Dead Gooseberry Bush</mark>) &#x2192; (<mark style=\"background-color: #91d8f2;\">Steel Axe - +toolChopping</mark>,<mark style=\"background-color: #ffbf6b;\">Kindling</mark>)"
      ],
      "text/plain": [
       "<IPython.core.display.HTML object>"
      ]
     },
     "metadata": {},
     "output_type": "display_data"
    },
    {
     "data": {
      "text/html": [
       "(<mark style=\"background-color: #91d8f2;\">Steel Axe - +toolChopping</mark>,<mark style=\"background-color: #ffbf6b;\">Dug Stump</mark>) &#x2192; (<mark style=\"background-color: #91d8f2;\">Steel Axe - +toolChopping</mark>,<mark style=\"background-color: #ffbf6b;\">Kindling</mark>)"
      ],
      "text/plain": [
       "<IPython.core.display.HTML object>"
      ]
     },
     "metadata": {},
     "output_type": "display_data"
    },
    {
     "data": {
      "text/html": [
       "(<mark style=\"background-color: #91d8f2;\">Steel Axe - +toolChopping</mark>,<mark style=\"background-color: #ffbf6b;\">Dug Gooseberry Bush</mark>) &#x2192; (<mark style=\"background-color: #91d8f2;\">Steel Axe - +toolChopping</mark>,<mark style=\"background-color: #ffbf6b;\">Kindling</mark>)"
      ],
      "text/plain": [
       "<IPython.core.display.HTML object>"
      ]
     },
     "metadata": {},
     "output_type": "display_data"
    },
    {
     "data": {
      "text/html": [
       "(<mark style=\"background-color: #91d8f2;\">Steel Axe - +toolChopping</mark>,<mark style=\"background-color: #ffbf6b;\">Knitting Needles - +tool</mark>) &#x2192; (<mark style=\"background-color: #91d8f2;\">Steel Axe - +toolChopping</mark>,<mark style=\"background-color: #ffbf6b;\">Kindling</mark>)"
      ],
      "text/plain": [
       "<IPython.core.display.HTML object>"
      ]
     },
     "metadata": {},
     "output_type": "display_data"
    },
    {
     "data": {
      "text/html": [
       "(<mark style=\"background-color: #91d8f2;\">Steel Axe - +toolChopping</mark>,<mark style=\"background-color: #ffbf6b;\">Wild Rose - picked</mark>) &#x2192; (<mark style=\"background-color: #91d8f2;\">Steel Axe - +toolChopping</mark>,<mark style=\"background-color: #ffbf6b;\">Kindling</mark>)"
      ],
      "text/plain": [
       "<IPython.core.display.HTML object>"
      ]
     },
     "metadata": {},
     "output_type": "display_data"
    },
    {
     "data": {
      "text/html": [
       "(<mark style=\"background-color: #91d8f2;\">Steel Axe - +toolChopping</mark>,<mark style=\"background-color: #ffbf6b;\">Pink Rose Bush</mark>) &#x2192; (<mark style=\"background-color: #91d8f2;\">Steel Axe - +toolChopping</mark>,<mark style=\"background-color: #ffbf6b;\">Kindling</mark>)"
      ],
      "text/plain": [
       "<IPython.core.display.HTML object>"
      ]
     },
     "metadata": {},
     "output_type": "display_data"
    },
    {
     "data": {
      "text/html": [
       "(<mark style=\"background-color: #91d8f2;\">Steel Axe - +toolChopping</mark>,<mark style=\"background-color: #ffbf6b;\">Dry Pink Rose Bush</mark>) &#x2192; (<mark style=\"background-color: #91d8f2;\">Steel Axe - +toolChopping</mark>,<mark style=\"background-color: #ffbf6b;\">Kindling</mark>)"
      ],
      "text/plain": [
       "<IPython.core.display.HTML object>"
      ]
     },
     "metadata": {},
     "output_type": "display_data"
    },
    {
     "data": {
      "text/html": [
       "(<mark style=\"background-color: #91d8f2;\">Steel Axe - +toolChopping</mark>,<mark style=\"background-color: #ffbf6b;\">Vigorous Pink Rose Bush</mark>) &#x2192; (<mark style=\"background-color: #91d8f2;\">Steel Axe - +toolChopping</mark>,<mark style=\"background-color: #ffbf6b;\">Kindling</mark>)"
      ],
      "text/plain": [
       "<IPython.core.display.HTML object>"
      ]
     },
     "metadata": {},
     "output_type": "display_data"
    },
    {
     "data": {
      "text/html": [
       "(<mark style=\"background-color: #91d8f2;\">Steel Axe - +toolChopping</mark>,<mark style=\"background-color: #ffbf6b;\">Dry White Rose Bush</mark>) &#x2192; (<mark style=\"background-color: #91d8f2;\">Steel Axe - +toolChopping</mark>,<mark style=\"background-color: #ffbf6b;\">Kindling</mark>)"
      ],
      "text/plain": [
       "<IPython.core.display.HTML object>"
      ]
     },
     "metadata": {},
     "output_type": "display_data"
    },
    {
     "data": {
      "text/html": [
       "(<mark style=\"background-color: #91d8f2;\">Steel Axe - +toolChopping</mark>,<mark style=\"background-color: #ffbf6b;\">Dry Red Rose Bush</mark>) &#x2192; (<mark style=\"background-color: #91d8f2;\">Steel Axe - +toolChopping</mark>,<mark style=\"background-color: #ffbf6b;\">Kindling</mark>)"
      ],
      "text/plain": [
       "<IPython.core.display.HTML object>"
      ]
     },
     "metadata": {},
     "output_type": "display_data"
    },
    {
     "data": {
      "text/html": [
       "(<mark style=\"background-color: #91d8f2;\">Steel Axe - +toolChopping</mark>,<mark style=\"background-color: #ffbf6b;\">Vigorous Red Rose Bush</mark>) &#x2192; (<mark style=\"background-color: #91d8f2;\">Steel Axe - +toolChopping</mark>,<mark style=\"background-color: #ffbf6b;\">Kindling</mark>)"
      ],
      "text/plain": [
       "<IPython.core.display.HTML object>"
      ]
     },
     "metadata": {},
     "output_type": "display_data"
    },
    {
     "data": {
      "text/html": [
       "(<mark style=\"background-color: #91d8f2;\">Steel Axe - +toolChopping</mark>,<mark style=\"background-color: #ffbf6b;\">Vigorous White Rose Bush</mark>) &#x2192; (<mark style=\"background-color: #91d8f2;\">Steel Axe - +toolChopping</mark>,<mark style=\"background-color: #ffbf6b;\">Kindling</mark>)"
      ],
      "text/plain": [
       "<IPython.core.display.HTML object>"
      ]
     },
     "metadata": {},
     "output_type": "display_data"
    },
    {
     "data": {
      "text/html": [
       "(<mark style=\"background-color: #91d8f2;\">Steel Axe - +toolChopping</mark>,<mark style=\"background-color: #ffbf6b;\">Red Rose Bush</mark>) &#x2192; (<mark style=\"background-color: #91d8f2;\">Steel Axe - +toolChopping</mark>,<mark style=\"background-color: #ffbf6b;\">Kindling</mark>)"
      ],
      "text/plain": [
       "<IPython.core.display.HTML object>"
      ]
     },
     "metadata": {},
     "output_type": "display_data"
    },
    {
     "data": {
      "text/html": [
       "(<mark style=\"background-color: #91d8f2;\">Steel Axe - +toolChopping</mark>,<mark style=\"background-color: #ffbf6b;\">White Rose Bush</mark>) &#x2192; (<mark style=\"background-color: #91d8f2;\">Steel Axe - +toolChopping</mark>,<mark style=\"background-color: #ffbf6b;\">Kindling</mark>)"
      ],
      "text/plain": [
       "<IPython.core.display.HTML object>"
      ]
     },
     "metadata": {},
     "output_type": "display_data"
    },
    {
     "data": {
      "text/html": [
       "(<mark style=\"background-color: #91d8f2;\">Steel Axe - +toolChopping</mark>,<mark style=\"background-color: #ffbf6b;\">Dead Bonsai</mark>) &#x2192; (<mark style=\"background-color: #91d8f2;\">Steel Axe - +toolChopping</mark>,<mark style=\"background-color: #ffbf6b;\">Kindling</mark>)"
      ],
      "text/plain": [
       "<IPython.core.display.HTML object>"
      ]
     },
     "metadata": {},
     "output_type": "display_data"
    },
    {
     "data": {
      "text/html": [
       "(<mark style=\"background-color: #91d8f2;\">Steel Axe - +toolChopping</mark>,<mark style=\"background-color: #ffbf6b;\">Banana Plant</mark>) &#x2192; (<mark style=\"background-color: #91d8f2;\">Steel Axe - +toolChopping</mark>,<mark style=\"background-color: #ffbf6b;\">Kindling</mark>)"
      ],
      "text/plain": [
       "<IPython.core.display.HTML object>"
      ]
     },
     "metadata": {},
     "output_type": "display_data"
    },
    {
     "data": {
      "text/html": [
       "(<mark style=\"background-color: #91d8f2;\">Steel Axe - +toolChopping</mark>,<mark style=\"background-color: #ffbf6b;\">Empty Banana Plant</mark>) &#x2192; (<mark style=\"background-color: #91d8f2;\">Steel Axe - +toolChopping</mark>,<mark style=\"background-color: #ffbf6b;\">Kindling</mark>)"
      ],
      "text/plain": [
       "<IPython.core.display.HTML object>"
      ]
     },
     "metadata": {},
     "output_type": "display_data"
    },
    {
     "data": {
      "text/html": [
       "(<mark style=\"background-color: #91d8f2;\">Steel Axe - +toolChopping</mark>,<mark style=\"background-color: #ffbf6b;\">Wing Strut</mark>) &#x2192; (<mark style=\"background-color: #91d8f2;\">Steel Axe - +toolChopping</mark>,<mark style=\"background-color: #ffbf6b;\">Kindling</mark>)"
      ],
      "text/plain": [
       "<IPython.core.display.HTML object>"
      ]
     },
     "metadata": {},
     "output_type": "display_data"
    },
    {
     "data": {
      "text/html": [
       "(<mark style=\"background-color: #91d8f2;\">Steel Axe - +toolChopping</mark>,<mark style=\"background-color: #ffbf6b;\">Tripod</mark>) &#x2192; (<mark style=\"background-color: #91d8f2;\">Steel Axe - +toolChopping</mark>,<mark style=\"background-color: #ffbf6b;\">Kindling</mark>)"
      ],
      "text/plain": [
       "<IPython.core.display.HTML object>"
      ]
     },
     "metadata": {},
     "output_type": "display_data"
    },
    {
     "data": {
      "text/html": [
       "(<mark style=\"background-color: #91d8f2;\">Steel Axe - +toolChopping</mark>,<mark style=\"background-color: #ffbf6b;\">Dug Barrel Cactus - Hungry Work - +hungryWork10</mark>) &#x2192; (<mark style=\"background-color: #91d8f2;\">Steel Axe - +toolChopping</mark>,<mark style=\"background-color: #ffbf6b;\">Kindling</mark>)"
      ],
      "text/plain": [
       "<IPython.core.display.HTML object>"
      ]
     },
     "metadata": {},
     "output_type": "display_data"
    },
    {
     "data": {
      "text/html": [
       "(<mark style=\"background-color: #91d8f2;\">Shovel - +tool</mark>,<mark style=\"background-color: #ffbf6b;\">Dying Gooseberry Bush</mark>) &#x2192; (<mark style=\"background-color: #91d8f2;\">Shovel - +tool</mark>,<mark style=\"background-color: #ffbf6b;\">Kindling</mark>)"
      ],
      "text/plain": [
       "<IPython.core.display.HTML object>"
      ]
     },
     "metadata": {},
     "output_type": "display_data"
    },
    {
     "data": {
      "text/html": [
       "(<mark style=\"background-color: #91d8f2;\">Shovel - +tool</mark>,<mark style=\"background-color: #ffbf6b;\">Dead Gooseberry Bush</mark>) &#x2192; (<mark style=\"background-color: #91d8f2;\">Shovel - +tool</mark>,<mark style=\"background-color: #ffbf6b;\">Kindling</mark>)"
      ],
      "text/plain": [
       "<IPython.core.display.HTML object>"
      ]
     },
     "metadata": {},
     "output_type": "display_data"
    }
   ],
   "source": [
    "print(obj_name(72))\n",
    "\n",
    "print('=== USES ===')\n",
    "for _, row in transitions[paths_from(72)].iterrows():\n",
    "    display_transition(row)\n",
    "\n",
    "print('=== HOW TO GET ===')\n",
    "for _, row in transitions[paths_to(72)].iterrows():\n",
    "    display_transition(row)"
   ]
  },
  {
   "cell_type": "markdown",
   "id": "4f94aeb5",
   "metadata": {},
   "source": [
    "## Search through Tech tree"
   ]
  },
  {
   "cell_type": "markdown",
   "id": "784b9b0e",
   "metadata": {},
   "source": [
    "Initialize Tech tree dictionary:"
   ]
  },
  {
   "cell_type": "code",
   "execution_count": 29,
   "id": "2603753c",
   "metadata": {},
   "outputs": [],
   "source": [
    "tech_dict = {o:None for o in objects.id.values}"
   ]
  },
  {
   "cell_type": "markdown",
   "id": "0a8c5c03",
   "metadata": {},
   "source": [
    "Start with natural objects:"
   ]
  },
  {
   "cell_type": "code",
   "execution_count": 181,
   "id": "b5a17558",
   "metadata": {},
   "outputs": [
    {
     "name": "stdout",
     "output_type": "stream",
     "text": [
      "== Starting from 80 natural items ==\n",
      "Wild Gooseberry Bush (30)\n",
      "Big Hard Rock (32)\n",
      "Stone (33)\n",
      "Seeding Wild Carrot (36)\n",
      "Juniper Tree (49)\n",
      "Milkweed (50)\n",
      "Maple Tree -Branch (63)\n",
      "Lombardy Poplar Tree -Branch (65)\n",
      "White Pine Tree (99)\n",
      "White Pine Tree with Needles (100)\n",
      "Tule Reeds (121)\n",
      "Clay Deposit (125)\n",
      "Flint (133)\n",
      "Sapling (136)\n",
      "Yew Tree -Branch (153)\n",
      "Rabbit Hole -hiding &single (161)\n",
      "Fertile Soil Deposit (211)\n",
      "Ripe Wheat (242)\n",
      "Flat Rock - empty (291)\n",
      "Wolf (418)\n",
      "Willow Tree (527)\n",
      "Bald Cypress Tree (530)\n",
      "Mouflon (531)\n",
      "Bear Cave (630)\n",
      "Limestone (674)\n",
      "Gold Vein (680)\n",
      "Penguin (703)\n",
      "Ice Hole (706)\n",
      "Antarctic Fur Seal (707)\n",
      "Indigo (713)\n",
      "Rose Madder (714)\n",
      "Alum (729)\n",
      "Dead Tree (760)\n",
      "Barrel Cactus (761)\n",
      "Rattle Snake (764)\n",
      "Wild Horse (769)\n",
      "Monolith (791)\n",
      "Burdock (804)\n",
      "Wild Onion (805)\n",
      "Muddy Iron Vein - gridPlacement40 &40 (942)\n",
      "Wild Rose with Fruit (1013)\n",
      "Snow Bank (1020)\n",
      "Teosinte (1107)\n",
      "Wild Potato (1140)\n",
      "Wild Bean Plant (1157)\n",
      "Wild Squash Plant (1184)\n",
      "Wild Cabbage (1203)\n",
      "Canada Goose Pond with Egg (1261)\n",
      "Wild Boar (1323)\n",
      "Bison (1435)\n",
      "Wild Mango Tree (1874)\n",
      "Lapis Lazuli (1890)\n",
      "Cinnabar (1891)\n",
      "Rubber Tree (2135)\n",
      "Hot Spring (2140)\n",
      "Oil Palm (2141)\n",
      "Banana Plant (2142)\n",
      "Mosquito Swarm (2156)\n",
      "Turkey (2174)\n",
      "Tarry Spot - gridPlacement40 (2285)\n",
      "Dark Nosaj - +normalOnly (2466)\n",
      "Malachite (2504)\n",
      "Calamine (2515)\n",
      "Niter (2540)\n",
      "Glasswort (2557)\n",
      "Sand Deposit (2567)\n",
      "Sugarcane (2765)\n",
      "Wild Tomato Plant (2800)\n",
      "Wild Pepper Plant (2804)\n",
      "Electrum Ore (3001)\n",
      "Natural Spring - gridPlacement40 evePrimaryLoc (3030)\n",
      "Wild Grape Plant (3313)\n",
      "Desert Expert Way Stone - +biomeSet3 gridPlacement20 &20 +expertFind (3886)\n",
      "Jungle Expert Way Stone - +biomeSet3 gridPlacement20 &20 +expertFind (3887)\n",
      "Arctic Expert Way Stone - +biomeSet3 gridPlacement20 &20 &p3 &p0 +expertFind (3888)\n",
      "Wild Cucumber Plant (4221)\n",
      "Seeding Wild Dill (4239)\n",
      "Wild Garlic (4251)\n",
      "Bay Tree (4269)\n",
      "Rubber Tree with Pepper Vine (4272)\n"
     ]
    }
   ],
   "source": [
    "nat_objs = objects[objects.mapChance > 0].id.values.tolist()\n",
    "# nat_objs = [32, 33, 63, 153, 50] # DEBUG: Constrained set of natural objects\n",
    "print('== Starting from %i natural items ==' % len(nat_objs))\n",
    "print(*['%s (%i)' %(obj_name(o), o) for o in nat_objs], sep='\\n')"
   ]
  },
  {
   "cell_type": "markdown",
   "id": "53497d34",
   "metadata": {},
   "source": [
    "Search iteratively through Tech tree\n",
    "\n",
    "(Note: This is pretty inefficient, as we repeatedly test the same combinations - fix before scaling up?)"
   ]
  },
  {
   "cell_type": "code",
   "execution_count": 178,
   "id": "8728dcfa",
   "metadata": {},
   "outputs": [
    {
     "name": "stdout",
     "output_type": "stream",
     "text": [
      "=== ITERATION 1 ===\n",
      "Gooseberry (31)\n",
      "Empty Wild Gooseberry Bush (279)\n",
      "Carrot Seed Head (395)\n",
      "Wild Carrot (404)\n",
      "Juniper Tinder (61)\n",
      "Milkweed Stalk (57)\n",
      "Milkweed Debris (53)\n",
      "Straight Branch (64)\n",
      "Maple Tree (48)\n",
      "Small Curved Branch (66)\n",
      "Lombardy Poplar Tree (45)\n",
      "Pine Needles (96)\n",
      "Clay (126)\n",
      "Clay Pit -partial (409)\n",
      "Yew Branch (132)\n",
      "Yew Tree (406)\n",
      "Wheat Seed Head (223)\n",
      "Attacking Wolf (427)\n",
      "Bite Wound (1363)\n",
      "Attacking Rattle Snake (1385)\n",
      "Snake Bite (1377)\n",
      "Wild Onion (808)\n",
      "Wild Rose Hip (1015)\n",
      "Wild Rose - picked (1014)\n",
      "Snowball - +noWait (2407)\n",
      "Teosinte Seed Head (1108)\n",
      "Bare Teosinte (1123)\n",
      "Dry Bean Pod (1160)\n",
      "Empty Wild Bean Plant (1158)\n",
      "Wild Squash (1183)\n",
      "Empty Wild Squash Plant (1185)\n",
      "Cold Goose Egg (1262)\n",
      "Canada Goose Pond (141)\n",
      "Attacking Wild Boar (1333)\n",
      "Hog Cut (1364)\n",
      "Mango Leaf (1878)\n",
      "Banana (2143)\n",
      "Empty Banana Plant (2145)\n",
      "Mosquito Swarm -just bit (2157)\n",
      "Yellow Fever - sick emot_7_35  food_0.3 fever_15 (2155)\n",
      "Wild Tomato Cluster (2801)\n",
      "Empty Wild Tomato Plant (2803)\n",
      "Wild Pepper (2807)\n",
      "Empty Wild Pepper Plant (2806)\n",
      "Wild Cucumber (4223)\n",
      "Empty Wild Cucumber Plant (4222)\n",
      "Dill Seed Head (4242)\n",
      "Wild Dill (4240)\n",
      "Wild Garlic (4252)\n",
      "Bay Leaf (4270)\n",
      "Fresh Peppercorn Cluster (4273)\n",
      "Rubber Tree with Empty Pepper Vine (4274)\n",
      "Flowering Milkweed (51)\n",
      "Rabbit Hole -peeking1 &single (166)\n",
      "Mouflon with Lamb (532)\n",
      "Flowering Barrel Cactus (762)\n",
      "Wild Boar with Piglet (1328)\n",
      "Bison with Calf (1436)\n",
      "Sharp Stone (34)\n",
      "Stone Pile (661)\n",
      "Well Site - eveSecondaryLoc (1096)\n",
      "Stack of Flat Rocks (1836)\n",
      "Limestone Pile (2725)\n",
      "Ice Hole -penguin just in (718)\n",
      "Ice Hole -seal just in (717)\n",
      "Pile of Alum (3973)\n",
      "Pile of Lapis Lazuli (3975)\n",
      "Pile of Cinnabar (3974)\n",
      "Stack of Malachite (3896)\n",
      "Pile of Calamine (3897)\n",
      "Pile of Niter (3972)\n",
      "Pile of Electrum Ore (3971)\n",
      "=== ITERATION 2 ===\n",
      "Leaf (62)\n",
      "Empty Clay Pit (408)\n",
      "Snowball - just thrown (2465)\n",
      "Melting Snowball (2413)\n",
      "Snowball Splat - no_replace emot_8_10 (2405)\n",
      "Milkweed Debris -Flowering (54)\n",
      "Attacking Wild Boar with Piglet (1334)\n",
      "Milkweed Stump (56)\n",
      "Banana Peel (2144)\n",
      "Fruiting Milkweed (52)\n",
      "Rabbit Hole -peeking2 &single (165)\n",
      "Fruiting Barrel Cactus (763)\n",
      "Ice Hole -penguin in (3423)\n",
      "Ice Hole -seal in (3424)\n",
      "Wet Clay Bowl (233)\n",
      "Squash Seeds - just harvested (4236)\n",
      "Ready Well Site - +famUse100 +tapoutTrigger &40 &40 &160 &0 (3963)\n",
      "Dug Wild Carrot (39)\n",
      "Harvested Tule (123)\n",
      "Flint Chips (150)\n",
      "Cut Sapling Skewer (138)\n",
      "Harvested Wheat (224)\n",
      "Indigo Bundle (716)\n",
      "Rose Madder Root (715)\n",
      "Dug Burdock (806)\n",
      "Medium Snowball (2412)\n",
      "Dug Teosinte (1128)\n",
      "Wild Potato Tubers (1141)\n",
      "Dug Wild Bean Plant (1159)\n",
      "Dug Wild Squash Plant (1188)\n",
      "Dug Wild Cabbage (1204)\n",
      "Cut Glasswort (2558)\n",
      "Sugarcane Bundle -just harvested (2797)\n",
      "Dug Wild Tomato Plant (2802)\n",
      "Dug Wild Pepper Plant (2805)\n",
      "Dug Wild Grape Plant (3315)\n",
      "Dug Wild Cucumber Plant (4235)\n",
      "Dug Wild Dill (4241)\n",
      "Thread (58)\n",
      "Pile of Straight Branchs (4062)\n",
      "Long Straight Shaft (67)\n",
      "Two Curved Branches (2419)\n",
      "Small Curved Shaft (68)\n",
      "Pile of Pine Needles (4068)\n",
      "Pile of Clay (3905)\n",
      "Pile of Yew Branches (4063)\n",
      "Yew Shaft (131)\n",
      "Pile of Wild Onions (3980)\n",
      "Pile of Bananas (3977)\n",
      "Pile of Wild Garlic (4266)\n",
      "Pile of Sharp Stones (3915)\n",
      "=== ITERATION 3 ===\n",
      "Milkweed Debris -Fruit (55)\n",
      "Cactus Fruit (768)\n",
      "Wild Carrot (40)\n",
      "Reed Bundle (124)\n",
      "Tule Stumps (122)\n",
      "Flint Chip (135)\n",
      "Skewer (139)\n",
      "Sapling Stump (137)\n",
      "Wheat Sheaf (225)\n",
      "Wheat Stumps (244)\n",
      "Burdock Root (807)\n",
      "Cabbage Seed (1206)\n",
      "Rabbit Hole -out &single (164)\n",
      "Ice Hole -penguin out (720)\n",
      "Ice Hole -seal out (719)\n",
      "Squash Seeds (1186)\n",
      "Snowball - melted (2739)\n",
      "Dry Glasswort (2559)\n",
      "Sugarcane Bundle (2766)\n",
      "Wet Clay Plate (234)\n",
      "Clubbed Seal (708)\n",
      "Loose Muddy Iron Vein - +primaryHomeland (3962)\n",
      "Big Snowball (2408)\n",
      "Shaft with Pine Needles (3288)\n",
      "Short Shaft (69)\n",
      "Dry Well Site (3175)\n",
      "Wet Clay Crock (1216)\n",
      "Well Site - justRegressed +tapoutTrigger &40 &40 &160 &160 (4085)\n",
      "Tule Stumps with Basket (1927)\n",
      "Cut Glasswort Pile (4098)\n",
      "Rope (59)\n",
      "Fishing Pole without Hook (2092)\n",
      "Two Shafts (557)\n",
      "Two Curved Shafts (2214)\n",
      "Pile of Yew Shafts (4064)\n"
     ]
    }
   ],
   "source": [
    "# Initialize values\n",
    "known_objs = [0, -1] + nat_objs\n",
    "tech_tree = {o: {'depth': 0, 'recipe': None} for o in known_objs}\n",
    "counter = 1\n",
    "n_new = len(known_objs)\n",
    "combos = [(o_i, o_j) \n",
    "          for i,o_i in enumerate(known_objs)\n",
    "          for j,o_j in enumerate(known_objs[i:])]\n",
    "\n",
    "while counter < 4:\n",
    "    print('=== ITERATION %i ===' % counter)\n",
    "    \n",
    "    # Search for viable combinations\n",
    "    product_list = [transitions[combinations(o_i, o_j)] for o_i, o_j in combos]\n",
    "    product_df = pd.concat(product_list)\n",
    "    \n",
    "    # Which combinations yield new products?\n",
    "    new_objs = []\n",
    "    for _, row in product_df.iterrows():\n",
    "        for e in ['newActor', 'newTarget']:\n",
    "            product = row[e]\n",
    "            \n",
    "            # New products are added to the tech tree\n",
    "            if product not in tech_tree.keys():\n",
    "                print('%s (%i)' % (obj_name(product), product))\n",
    "                new_objs.append(product)\n",
    "                tech_tree[product] = {}\n",
    "                tech_tree[product]['depth'] = counter\n",
    "                tech_tree[product]['recipe'] = record_transition(row)\n",
    "                \n",
    "    # Prepare for next iteration\n",
    "    counter += 1\n",
    "    n_new = len(new_objs)\n",
    "    \n",
    "    # Update combinations in search space    \n",
    "    if n_new > 0:\n",
    "        combo_old = [(o_i, o_j) for o_i in known_objs for o_j in new_objs]\n",
    "        combo_new = [(o_i, o_j) for i,o_i in enumerate(new_objs) for j,o_j in enumerate(new_objs[i:])]\n",
    "        combos = combo_old + combo_new\n",
    "        known_objs += new_objs\n",
    "    else:\n",
    "        print('(None found)')    "
   ]
  },
  {
   "cell_type": "code",
   "execution_count": 180,
   "id": "2154e05f",
   "metadata": {},
   "outputs": [
    {
     "data": {
      "text/plain": [
       "{'depth': 1,\n",
       " 'recipe': {'origActor': 0,\n",
       "  'origTarget': 2142,\n",
       "  'newActor': 2143,\n",
       "  'newTarget': 2142}}"
      ]
     },
     "execution_count": 180,
     "metadata": {},
     "output_type": "execute_result"
    }
   ],
   "source": [
    "tech_tree[2143]"
   ]
  },
  {
   "cell_type": "code",
   "execution_count": 177,
   "id": "0df4b95b",
   "metadata": {},
   "outputs": [
    {
     "data": {
      "text/plain": [
       "{'depth': 6,\n",
       " 'recipe': {'origActor': 71,\n",
       "  'origTarget': 64,\n",
       "  'newActor': 71,\n",
       "  'newTarget': 72}}"
      ]
     },
     "execution_count": 177,
     "metadata": {},
     "output_type": "execute_result"
    }
   ],
   "source": [
    "tech_tree[72]"
   ]
  }
 ],
 "metadata": {
  "kernelspec": {
   "display_name": "Python 3",
   "language": "python",
   "name": "python3"
  },
  "language_info": {
   "codemirror_mode": {
    "name": "ipython",
    "version": 3
   },
   "file_extension": ".py",
   "mimetype": "text/x-python",
   "name": "python",
   "nbconvert_exporter": "python",
   "pygments_lexer": "ipython3",
   "version": "3.9.2"
  }
 },
 "nbformat": 4,
 "nbformat_minor": 5
}
