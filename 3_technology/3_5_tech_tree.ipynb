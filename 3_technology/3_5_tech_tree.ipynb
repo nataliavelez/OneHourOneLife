{
 "cells": [
  {
   "cell_type": "markdown",
   "id": "083b9db4",
   "metadata": {},
   "source": [
    "# Build tech tree\n",
    "Grace Deng, August 2020 <br />\n",
    "Updated by Natalia Velez, April 2021"
   ]
  },
  {
   "cell_type": "code",
   "execution_count": 1,
   "id": "a60bc7ee",
   "metadata": {},
   "outputs": [],
   "source": [
    "%matplotlib inline\n",
    "\n",
    "import os, re, glob, json\n",
    "from os.path import join as opj\n",
    "import numpy as np\n",
    "import pandas as pd\n",
    "import json\n",
    "import pymongo\n",
    "from tqdm import notebook\n",
    "\n",
    "# Debug: Estimate time needed to run job\n",
    "import time\n",
    "import matplotlib.pyplot as plt\n",
    "import seaborn as sns\n",
    "\n",
    "sns.set_style('white')\n",
    "sns.set_context('talk')\n",
    "\n",
    "# Debug: Embed html-formatted text\n",
    "# (Used to do QA on transitions)\n",
    "from IPython.core.display import display, HTML\n",
    "def embed(s): return display(HTML(s))"
   ]
  },
  {
   "cell_type": "markdown",
   "id": "366c4d0d",
   "metadata": {},
   "source": [
    "## Load game data from database"
   ]
  },
  {
   "cell_type": "markdown",
   "id": "1f0a67a1",
   "metadata": {},
   "source": [
    "Connect:"
   ]
  },
  {
   "cell_type": "code",
   "execution_count": 2,
   "id": "d83fd802",
   "metadata": {},
   "outputs": [
    {
     "name": "stdout",
     "output_type": "stream",
     "text": [
      "MongoClient(host=['134.76.24.75:27017'], document_class=dict, tz_aware=False, connect=True, authsource='ohol')\n",
      "Database(MongoClient(host=['134.76.24.75:27017'], document_class=dict, tz_aware=False, connect=True, authsource='ohol'), 'ohol')\n"
     ]
    }
   ],
   "source": [
    "keyfile = '../6_database/credentials.key'\n",
    "\n",
    "#Connection string\n",
    "creds = open(keyfile, \"r\").read().splitlines()\n",
    "myclient = pymongo.MongoClient('134.76.24.75', username=creds[0], password=creds[1], authSource='ohol') \n",
    "print(myclient)\n",
    "\n",
    "ohol = myclient.ohol\n",
    "print(ohol)"
   ]
  },
  {
   "cell_type": "markdown",
   "id": "eb1ed5ed",
   "metadata": {},
   "source": [
    "Objects:"
   ]
  },
  {
   "cell_type": "code",
   "execution_count": 3,
   "id": "5cd657a3",
   "metadata": {},
   "outputs": [
    {
     "name": "stdout",
     "output_type": "stream",
     "text": [
      "Loading 4161 objects\n"
     ]
    },
    {
     "data": {
      "text/html": [
       "<div>\n",
       "<style scoped>\n",
       "    .dataframe tbody tr th:only-of-type {\n",
       "        vertical-align: middle;\n",
       "    }\n",
       "\n",
       "    .dataframe tbody tr th {\n",
       "        vertical-align: top;\n",
       "    }\n",
       "\n",
       "    .dataframe thead th {\n",
       "        text-align: right;\n",
       "    }\n",
       "</style>\n",
       "<table border=\"1\" class=\"dataframe\">\n",
       "  <thead>\n",
       "    <tr style=\"text-align: right;\">\n",
       "      <th></th>\n",
       "      <th>_id</th>\n",
       "      <th>id</th>\n",
       "      <th>name</th>\n",
       "      <th>containable</th>\n",
       "      <th>containSize</th>\n",
       "      <th>vertSlotRot</th>\n",
       "      <th>permanent</th>\n",
       "      <th>minPickupAge</th>\n",
       "      <th>heldInHand</th>\n",
       "      <th>blocksWalking</th>\n",
       "      <th>...</th>\n",
       "      <th>floorHugging</th>\n",
       "      <th>slotsLocked</th>\n",
       "      <th>noFlip</th>\n",
       "      <th>sideAccess</th>\n",
       "      <th>creationSoundForce</th>\n",
       "      <th>invisCont</th>\n",
       "      <th>slotPos</th>\n",
       "      <th>vert</th>\n",
       "      <th>spritesDrawnBehind</th>\n",
       "      <th>spritesAdditiveBlend</th>\n",
       "    </tr>\n",
       "  </thead>\n",
       "  <tbody>\n",
       "    <tr>\n",
       "      <th>0</th>\n",
       "      <td>60750c9e68dcd62afd70767e</td>\n",
       "      <td>11</td>\n",
       "      <td>Skin Tone A &amp;B &amp;C &amp;D &amp;E &amp;F</td>\n",
       "      <td>0</td>\n",
       "      <td>1.0</td>\n",
       "      <td>0.0</td>\n",
       "      <td>0</td>\n",
       "      <td>3</td>\n",
       "      <td>0</td>\n",
       "      <td>0</td>\n",
       "      <td>...</td>\n",
       "      <td>NaN</td>\n",
       "      <td>NaN</td>\n",
       "      <td>NaN</td>\n",
       "      <td>NaN</td>\n",
       "      <td>NaN</td>\n",
       "      <td>NaN</td>\n",
       "      <td>NaN</td>\n",
       "      <td>NaN</td>\n",
       "      <td>NaN</td>\n",
       "      <td>NaN</td>\n",
       "    </tr>\n",
       "    <tr>\n",
       "      <th>1</th>\n",
       "      <td>60750c9e68dcd62afd70767f</td>\n",
       "      <td>19</td>\n",
       "      <td>Female001 D</td>\n",
       "      <td>0</td>\n",
       "      <td>1.0</td>\n",
       "      <td>0.0</td>\n",
       "      <td>0</td>\n",
       "      <td>3</td>\n",
       "      <td>0</td>\n",
       "      <td>0</td>\n",
       "      <td>...</td>\n",
       "      <td>0.0</td>\n",
       "      <td>NaN</td>\n",
       "      <td>NaN</td>\n",
       "      <td>NaN</td>\n",
       "      <td>NaN</td>\n",
       "      <td>NaN</td>\n",
       "      <td>NaN</td>\n",
       "      <td>NaN</td>\n",
       "      <td>NaN</td>\n",
       "      <td>NaN</td>\n",
       "    </tr>\n",
       "    <tr>\n",
       "      <th>2</th>\n",
       "      <td>60750c9e68dcd62afd707680</td>\n",
       "      <td>30</td>\n",
       "      <td>Wild Gooseberry Bush</td>\n",
       "      <td>0</td>\n",
       "      <td>1.0</td>\n",
       "      <td>0.0</td>\n",
       "      <td>1</td>\n",
       "      <td>3</td>\n",
       "      <td>0</td>\n",
       "      <td>0</td>\n",
       "      <td>...</td>\n",
       "      <td>0.0</td>\n",
       "      <td>NaN</td>\n",
       "      <td>NaN</td>\n",
       "      <td>NaN</td>\n",
       "      <td>NaN</td>\n",
       "      <td>NaN</td>\n",
       "      <td>NaN</td>\n",
       "      <td>NaN</td>\n",
       "      <td>NaN</td>\n",
       "      <td>NaN</td>\n",
       "    </tr>\n",
       "    <tr>\n",
       "      <th>3</th>\n",
       "      <td>60750c9e68dcd62afd707681</td>\n",
       "      <td>31</td>\n",
       "      <td>Gooseberry</td>\n",
       "      <td>1</td>\n",
       "      <td>1.0</td>\n",
       "      <td>0.0</td>\n",
       "      <td>0</td>\n",
       "      <td>3</td>\n",
       "      <td>1</td>\n",
       "      <td>0</td>\n",
       "      <td>...</td>\n",
       "      <td>0.0</td>\n",
       "      <td>0.0</td>\n",
       "      <td>NaN</td>\n",
       "      <td>NaN</td>\n",
       "      <td>NaN</td>\n",
       "      <td>NaN</td>\n",
       "      <td>NaN</td>\n",
       "      <td>NaN</td>\n",
       "      <td>NaN</td>\n",
       "      <td>NaN</td>\n",
       "    </tr>\n",
       "    <tr>\n",
       "      <th>4</th>\n",
       "      <td>60750c9e68dcd62afd707682</td>\n",
       "      <td>32</td>\n",
       "      <td>Big Hard Rock</td>\n",
       "      <td>0</td>\n",
       "      <td>1.0</td>\n",
       "      <td>0.0</td>\n",
       "      <td>1</td>\n",
       "      <td>3</td>\n",
       "      <td>0</td>\n",
       "      <td>0</td>\n",
       "      <td>...</td>\n",
       "      <td>0.0</td>\n",
       "      <td>NaN</td>\n",
       "      <td>NaN</td>\n",
       "      <td>NaN</td>\n",
       "      <td>NaN</td>\n",
       "      <td>NaN</td>\n",
       "      <td>NaN</td>\n",
       "      <td>NaN</td>\n",
       "      <td>NaN</td>\n",
       "      <td>NaN</td>\n",
       "    </tr>\n",
       "  </tbody>\n",
       "</table>\n",
       "<p>5 rows × 63 columns</p>\n",
       "</div>"
      ],
      "text/plain": [
       "                        _id  id                        name  containable  \\\n",
       "0  60750c9e68dcd62afd70767e  11  Skin Tone A &B &C &D &E &F            0   \n",
       "1  60750c9e68dcd62afd70767f  19                 Female001 D            0   \n",
       "2  60750c9e68dcd62afd707680  30        Wild Gooseberry Bush            0   \n",
       "3  60750c9e68dcd62afd707681  31                  Gooseberry            1   \n",
       "4  60750c9e68dcd62afd707682  32               Big Hard Rock            0   \n",
       "\n",
       "   containSize  vertSlotRot  permanent  minPickupAge  heldInHand  \\\n",
       "0          1.0          0.0          0             3           0   \n",
       "1          1.0          0.0          0             3           0   \n",
       "2          1.0          0.0          1             3           0   \n",
       "3          1.0          0.0          0             3           1   \n",
       "4          1.0          0.0          1             3           0   \n",
       "\n",
       "   blocksWalking  ...  floorHugging  slotsLocked  noFlip  sideAccess  \\\n",
       "0              0  ...           NaN          NaN     NaN         NaN   \n",
       "1              0  ...           0.0          NaN     NaN         NaN   \n",
       "2              0  ...           0.0          NaN     NaN         NaN   \n",
       "3              0  ...           0.0          0.0     NaN         NaN   \n",
       "4              0  ...           0.0          NaN     NaN         NaN   \n",
       "\n",
       "   creationSoundForce  invisCont  slotPos  vert  spritesDrawnBehind  \\\n",
       "0                 NaN        NaN      NaN   NaN                 NaN   \n",
       "1                 NaN        NaN      NaN   NaN                 NaN   \n",
       "2                 NaN        NaN      NaN   NaN                 NaN   \n",
       "3                 NaN        NaN      NaN   NaN                 NaN   \n",
       "4                 NaN        NaN      NaN   NaN                 NaN   \n",
       "\n",
       "   spritesAdditiveBlend  \n",
       "0                   NaN  \n",
       "1                   NaN  \n",
       "2                   NaN  \n",
       "3                   NaN  \n",
       "4                   NaN  \n",
       "\n",
       "[5 rows x 63 columns]"
      ]
     },
     "execution_count": 3,
     "metadata": {},
     "output_type": "execute_result"
    }
   ],
   "source": [
    "objects = list(ohol.objects.find())\n",
    "objects = pd.DataFrame(objects)\n",
    "\n",
    "print('Loading %i objects' % objects.shape[0])\n",
    "objects.head()"
   ]
  },
  {
   "cell_type": "markdown",
   "id": "77cfdb6e",
   "metadata": {},
   "source": [
    "Transitions:"
   ]
  },
  {
   "cell_type": "code",
   "execution_count": 4,
   "id": "5eeeca6d",
   "metadata": {},
   "outputs": [
    {
     "name": "stdout",
     "output_type": "stream",
     "text": [
      "Loading 19445 transitions\n"
     ]
    },
    {
     "data": {
      "text/html": [
       "<div>\n",
       "<style scoped>\n",
       "    .dataframe tbody tr th:only-of-type {\n",
       "        vertical-align: middle;\n",
       "    }\n",
       "\n",
       "    .dataframe tbody tr th {\n",
       "        vertical-align: top;\n",
       "    }\n",
       "\n",
       "    .dataframe thead th {\n",
       "        text-align: right;\n",
       "    }\n",
       "</style>\n",
       "<table border=\"1\" class=\"dataframe\">\n",
       "  <thead>\n",
       "    <tr style=\"text-align: right;\">\n",
       "      <th></th>\n",
       "      <th>_id</th>\n",
       "      <th>origActor</th>\n",
       "      <th>origTarget</th>\n",
       "      <th>newActor</th>\n",
       "      <th>newTarget</th>\n",
       "      <th>lastUseActor</th>\n",
       "      <th>lastUseTarget</th>\n",
       "      <th>prob</th>\n",
       "    </tr>\n",
       "  </thead>\n",
       "  <tbody>\n",
       "    <tr>\n",
       "      <th>0</th>\n",
       "      <td>607aef65cffb881ebaafdd44</td>\n",
       "      <td>-1</td>\n",
       "      <td>1968</td>\n",
       "      <td>0</td>\n",
       "      <td>1969</td>\n",
       "      <td>False</td>\n",
       "      <td>False</td>\n",
       "      <td>True</td>\n",
       "    </tr>\n",
       "    <tr>\n",
       "      <th>1</th>\n",
       "      <td>607aef65cffb881ebaafdd45</td>\n",
       "      <td>-1</td>\n",
       "      <td>1968</td>\n",
       "      <td>0</td>\n",
       "      <td>1972</td>\n",
       "      <td>False</td>\n",
       "      <td>False</td>\n",
       "      <td>True</td>\n",
       "    </tr>\n",
       "    <tr>\n",
       "      <th>2</th>\n",
       "      <td>607aef65cffb881ebaafdd46</td>\n",
       "      <td>-1</td>\n",
       "      <td>1968</td>\n",
       "      <td>0</td>\n",
       "      <td>1970</td>\n",
       "      <td>False</td>\n",
       "      <td>False</td>\n",
       "      <td>True</td>\n",
       "    </tr>\n",
       "    <tr>\n",
       "      <th>3</th>\n",
       "      <td>607aef65cffb881ebaafdd47</td>\n",
       "      <td>-1</td>\n",
       "      <td>1968</td>\n",
       "      <td>0</td>\n",
       "      <td>1971</td>\n",
       "      <td>False</td>\n",
       "      <td>False</td>\n",
       "      <td>True</td>\n",
       "    </tr>\n",
       "    <tr>\n",
       "      <th>4</th>\n",
       "      <td>607aef65cffb881ebaafdd48</td>\n",
       "      <td>-1</td>\n",
       "      <td>1968</td>\n",
       "      <td>0</td>\n",
       "      <td>1973</td>\n",
       "      <td>False</td>\n",
       "      <td>False</td>\n",
       "      <td>True</td>\n",
       "    </tr>\n",
       "  </tbody>\n",
       "</table>\n",
       "</div>"
      ],
      "text/plain": [
       "                        _id  origActor  origTarget  newActor  newTarget  \\\n",
       "0  607aef65cffb881ebaafdd44         -1        1968         0       1969   \n",
       "1  607aef65cffb881ebaafdd45         -1        1968         0       1972   \n",
       "2  607aef65cffb881ebaafdd46         -1        1968         0       1970   \n",
       "3  607aef65cffb881ebaafdd47         -1        1968         0       1971   \n",
       "4  607aef65cffb881ebaafdd48         -1        1968         0       1973   \n",
       "\n",
       "   lastUseActor  lastUseTarget  prob  \n",
       "0         False          False  True  \n",
       "1         False          False  True  \n",
       "2         False          False  True  \n",
       "3         False          False  True  \n",
       "4         False          False  True  "
      ]
     },
     "execution_count": 4,
     "metadata": {},
     "output_type": "execute_result"
    }
   ],
   "source": [
    "transitions = list(ohol.expanded_transitions.find())\n",
    "transitions = pd.DataFrame(transitions)\n",
    "\n",
    "print('Loading %i transitions' % transitions.shape[0])\n",
    "transitions.head()"
   ]
  },
  {
   "cell_type": "code",
   "execution_count": 23,
   "id": "15e52eb3",
   "metadata": {},
   "outputs": [
    {
     "data": {
      "text/html": [
       "<div>\n",
       "<style scoped>\n",
       "    .dataframe tbody tr th:only-of-type {\n",
       "        vertical-align: middle;\n",
       "    }\n",
       "\n",
       "    .dataframe tbody tr th {\n",
       "        vertical-align: top;\n",
       "    }\n",
       "\n",
       "    .dataframe thead th {\n",
       "        text-align: right;\n",
       "    }\n",
       "</style>\n",
       "<table border=\"1\" class=\"dataframe\">\n",
       "  <thead>\n",
       "    <tr style=\"text-align: right;\">\n",
       "      <th></th>\n",
       "      <th>_id</th>\n",
       "      <th>origActor</th>\n",
       "      <th>origTarget</th>\n",
       "      <th>newActor</th>\n",
       "      <th>newTarget</th>\n",
       "      <th>lastUseActor</th>\n",
       "      <th>lastUseTarget</th>\n",
       "      <th>prob</th>\n",
       "    </tr>\n",
       "  </thead>\n",
       "  <tbody>\n",
       "    <tr>\n",
       "      <th>95</th>\n",
       "      <td>607aef65cffb881ebaafdda3</td>\n",
       "      <td>-2</td>\n",
       "      <td>141</td>\n",
       "      <td>0</td>\n",
       "      <td>143</td>\n",
       "      <td>False</td>\n",
       "      <td>False</td>\n",
       "      <td>False</td>\n",
       "    </tr>\n",
       "    <tr>\n",
       "      <th>3521</th>\n",
       "      <td>607aef65cffb881ebaafeb05</td>\n",
       "      <td>209</td>\n",
       "      <td>143</td>\n",
       "      <td>210</td>\n",
       "      <td>143</td>\n",
       "      <td>False</td>\n",
       "      <td>False</td>\n",
       "      <td>False</td>\n",
       "    </tr>\n",
       "    <tr>\n",
       "      <th>3631</th>\n",
       "      <td>607aef65cffb881ebaafeb73</td>\n",
       "      <td>235</td>\n",
       "      <td>143</td>\n",
       "      <td>382</td>\n",
       "      <td>143</td>\n",
       "      <td>False</td>\n",
       "      <td>False</td>\n",
       "      <td>False</td>\n",
       "    </tr>\n",
       "  </tbody>\n",
       "</table>\n",
       "</div>"
      ],
      "text/plain": [
       "                           _id  origActor  origTarget  newActor  newTarget  \\\n",
       "95    607aef65cffb881ebaafdda3         -2         141         0        143   \n",
       "3521  607aef65cffb881ebaafeb05        209         143       210        143   \n",
       "3631  607aef65cffb881ebaafeb73        235         143       382        143   \n",
       "\n",
       "      lastUseActor  lastUseTarget   prob  \n",
       "95           False          False  False  \n",
       "3521         False          False  False  \n",
       "3631         False          False  False  "
      ]
     },
     "execution_count": 23,
     "metadata": {},
     "output_type": "execute_result"
    }
   ],
   "source": [
    "transitions[paths_to(143)]"
   ]
  },
  {
   "cell_type": "code",
   "execution_count": 22,
   "id": "939a5301",
   "metadata": {},
   "outputs": [
    {
     "data": {
      "text/html": [
       "<div>\n",
       "<style scoped>\n",
       "    .dataframe tbody tr th:only-of-type {\n",
       "        vertical-align: middle;\n",
       "    }\n",
       "\n",
       "    .dataframe tbody tr th {\n",
       "        vertical-align: top;\n",
       "    }\n",
       "\n",
       "    .dataframe thead th {\n",
       "        text-align: right;\n",
       "    }\n",
       "</style>\n",
       "<table border=\"1\" class=\"dataframe\">\n",
       "  <thead>\n",
       "    <tr style=\"text-align: right;\">\n",
       "      <th></th>\n",
       "      <th>_id</th>\n",
       "      <th>origActor</th>\n",
       "      <th>origTarget</th>\n",
       "      <th>newActor</th>\n",
       "      <th>newTarget</th>\n",
       "      <th>lastUseActor</th>\n",
       "      <th>lastUseTarget</th>\n",
       "      <th>prob</th>\n",
       "    </tr>\n",
       "  </thead>\n",
       "  <tbody>\n",
       "    <tr>\n",
       "      <th>95</th>\n",
       "      <td>607aef65cffb881ebaafdda3</td>\n",
       "      <td>-2</td>\n",
       "      <td>141</td>\n",
       "      <td>0</td>\n",
       "      <td>143</td>\n",
       "      <td>False</td>\n",
       "      <td>False</td>\n",
       "      <td>False</td>\n",
       "    </tr>\n",
       "    <tr>\n",
       "      <th>137</th>\n",
       "      <td>607aef65cffb881ebaafddcd</td>\n",
       "      <td>-1</td>\n",
       "      <td>141</td>\n",
       "      <td>0</td>\n",
       "      <td>141</td>\n",
       "      <td>False</td>\n",
       "      <td>False</td>\n",
       "      <td>False</td>\n",
       "    </tr>\n",
       "    <tr>\n",
       "      <th>3400</th>\n",
       "      <td>607aef65cffb881ebaafea8c</td>\n",
       "      <td>152</td>\n",
       "      <td>141</td>\n",
       "      <td>151</td>\n",
       "      <td>510</td>\n",
       "      <td>False</td>\n",
       "      <td>False</td>\n",
       "      <td>False</td>\n",
       "    </tr>\n",
       "    <tr>\n",
       "      <th>3517</th>\n",
       "      <td>607aef65cffb881ebaafeb01</td>\n",
       "      <td>209</td>\n",
       "      <td>141</td>\n",
       "      <td>210</td>\n",
       "      <td>141</td>\n",
       "      <td>False</td>\n",
       "      <td>False</td>\n",
       "      <td>False</td>\n",
       "    </tr>\n",
       "    <tr>\n",
       "      <th>3518</th>\n",
       "      <td>607aef65cffb881ebaafeb02</td>\n",
       "      <td>209</td>\n",
       "      <td>141</td>\n",
       "      <td>210</td>\n",
       "      <td>512</td>\n",
       "      <td>False</td>\n",
       "      <td>True</td>\n",
       "      <td>False</td>\n",
       "    </tr>\n",
       "    <tr>\n",
       "      <th>3627</th>\n",
       "      <td>607aef65cffb881ebaafeb6f</td>\n",
       "      <td>235</td>\n",
       "      <td>141</td>\n",
       "      <td>382</td>\n",
       "      <td>141</td>\n",
       "      <td>False</td>\n",
       "      <td>False</td>\n",
       "      <td>False</td>\n",
       "    </tr>\n",
       "    <tr>\n",
       "      <th>3628</th>\n",
       "      <td>607aef65cffb881ebaafeb70</td>\n",
       "      <td>235</td>\n",
       "      <td>141</td>\n",
       "      <td>382</td>\n",
       "      <td>512</td>\n",
       "      <td>False</td>\n",
       "      <td>True</td>\n",
       "      <td>False</td>\n",
       "    </tr>\n",
       "  </tbody>\n",
       "</table>\n",
       "</div>"
      ],
      "text/plain": [
       "                           _id  origActor  origTarget  newActor  newTarget  \\\n",
       "95    607aef65cffb881ebaafdda3         -2         141         0        143   \n",
       "137   607aef65cffb881ebaafddcd         -1         141         0        141   \n",
       "3400  607aef65cffb881ebaafea8c        152         141       151        510   \n",
       "3517  607aef65cffb881ebaafeb01        209         141       210        141   \n",
       "3518  607aef65cffb881ebaafeb02        209         141       210        512   \n",
       "3627  607aef65cffb881ebaafeb6f        235         141       382        141   \n",
       "3628  607aef65cffb881ebaafeb70        235         141       382        512   \n",
       "\n",
       "      lastUseActor  lastUseTarget   prob  \n",
       "95           False          False  False  \n",
       "137          False          False  False  \n",
       "3400         False          False  False  \n",
       "3517         False          False  False  \n",
       "3518         False           True  False  \n",
       "3627         False          False  False  \n",
       "3628         False           True  False  "
      ]
     },
     "execution_count": 22,
     "metadata": {},
     "output_type": "execute_result"
    }
   ],
   "source": [
    "transitions[transitions.origTarget == 141]"
   ]
  },
  {
   "cell_type": "markdown",
   "id": "4a1a00a7",
   "metadata": {},
   "source": [
    "Helper functions: Querying object, transition data"
   ]
  },
  {
   "cell_type": "code",
   "execution_count": 5,
   "id": "a65e133a",
   "metadata": {},
   "outputs": [],
   "source": [
    "### Read from object data\n",
    "def obj_name(i):\n",
    "    if i in [0, -1]:\n",
    "        return 'empty'\n",
    "    else:\n",
    "        return objects[objects.id == i].name.values[0]\n",
    "\n",
    "### Read from transition data\n",
    "def paths_from(i):\n",
    "    '''\n",
    "    Get all uses for object i\n",
    "    '''\n",
    "    return (transitions['origActor'] == i) | (transitions['origActor'] == i)\n",
    "\n",
    "def paths_to(i):\n",
    "    '''\n",
    "    Get all paths that produce object i\n",
    "    (When we build the tech tree, we're going to make the shortest of these paths\n",
    "    the official 'recipe' for i and use it to calculate the depth of i) \n",
    "    '''\n",
    "    is_product = (transitions['newActor'] == i) | (transitions['newTarget'] == i)\n",
    "    is_ingredient = paths_from(i)    \n",
    "    \n",
    "    return is_product & (~is_ingredient)\n",
    "\n",
    "def combinations(obj1, obj2):\n",
    "    '''\n",
    "    Gets all transitions involving obj1 and obj2, regardless of their relative positions\n",
    "    '''\n",
    "    obj1_actor = (transitions['origActor'] == obj1) & (transitions['origTarget'] == obj2)\n",
    "    obj2_actor = (transitions['origActor'] == obj2) & (transitions['origTarget'] == obj1)   \n",
    "    \n",
    "    return obj1_actor | obj2_actor\n",
    "\n",
    "### Display outputs nicely\n",
    "trans_cols = ['origActor', 'origTarget', 'newActor', 'newTarget']\n",
    "def record_transition(row):\n",
    "    '''\n",
    "    Converts row in transition df into a mongo-friendly dictionary\n",
    "    '''\n",
    "    return row[trans_cols].to_dict()\n",
    "    \n",
    "\n",
    "def display_transition(row):\n",
    "    '''\n",
    "    Displays transitions in pretty, HTML-formatted text\n",
    "    '''\n",
    "    # Get item names\n",
    "    names = row[trans_cols].apply(obj_name)\n",
    "    \n",
    "    # Generate HTML tags\n",
    "    tag = '<mark style=\"background-color: %s;\">%s</mark>'\n",
    "    actor_color = '#91d8f2'\n",
    "    target_color = '#ffbf6b'\n",
    "    out = '(%s,%s) &#x2192; (%s,%s)' % (tag % (actor_color, names['origActor']),\n",
    "                                        tag % (target_color, names['origTarget']),\n",
    "                                        tag % (actor_color, names['newActor']),\n",
    "                                        tag % (target_color, names['newTarget']))\n",
    "    \n",
    "    embed(out)"
   ]
  },
  {
   "cell_type": "markdown",
   "id": "3c200a77",
   "metadata": {},
   "source": [
    "Helper functions in action:"
   ]
  },
  {
   "cell_type": "code",
   "execution_count": 6,
   "id": "2f870c51",
   "metadata": {},
   "outputs": [
    {
     "name": "stdout",
     "output_type": "stream",
     "text": [
      "Kindling\n",
      "=== USES ===\n"
     ]
    },
    {
     "data": {
      "text/html": [
       "(<mark style=\"background-color: #91d8f2;\">Kindling</mark>,<mark style=\"background-color: #ffbf6b;\">Kindling</mark>) &#x2192; (<mark style=\"background-color: #91d8f2;\">empty</mark>,<mark style=\"background-color: #ffbf6b;\">Kindling Pile</mark>)"
      ],
      "text/plain": [
       "<IPython.core.display.HTML object>"
      ]
     },
     "metadata": {},
     "output_type": "display_data"
    },
    {
     "data": {
      "text/html": [
       "(<mark style=\"background-color: #91d8f2;\">Kindling</mark>,<mark style=\"background-color: #ffbf6b;\">Burning Tinder</mark>) &#x2192; (<mark style=\"background-color: #91d8f2;\">empty</mark>,<mark style=\"background-color: #ffbf6b;\">Fire</mark>)"
      ],
      "text/plain": [
       "<IPython.core.display.HTML object>"
      ]
     },
     "metadata": {},
     "output_type": "display_data"
    },
    {
     "data": {
      "text/html": [
       "(<mark style=\"background-color: #91d8f2;\">Kindling</mark>,<mark style=\"background-color: #ffbf6b;\">Fire</mark>) &#x2192; (<mark style=\"background-color: #91d8f2;\">empty</mark>,<mark style=\"background-color: #ffbf6b;\">Large Fast Fire</mark>)"
      ],
      "text/plain": [
       "<IPython.core.display.HTML object>"
      ]
     },
     "metadata": {},
     "output_type": "display_data"
    },
    {
     "data": {
      "text/html": [
       "(<mark style=\"background-color: #91d8f2;\">Kindling</mark>,<mark style=\"background-color: #ffbf6b;\">Hot Coals - +tool</mark>) &#x2192; (<mark style=\"background-color: #91d8f2;\">empty</mark>,<mark style=\"background-color: #ffbf6b;\">Fire</mark>)"
      ],
      "text/plain": [
       "<IPython.core.display.HTML object>"
      ]
     },
     "metadata": {},
     "output_type": "display_data"
    },
    {
     "data": {
      "text/html": [
       "(<mark style=\"background-color: #91d8f2;\">Kindling</mark>,<mark style=\"background-color: #ffbf6b;\">Adobe Oven</mark>) &#x2192; (<mark style=\"background-color: #91d8f2;\">empty</mark>,<mark style=\"background-color: #ffbf6b;\">Wood-filled Adobe Oven</mark>)"
      ],
      "text/plain": [
       "<IPython.core.display.HTML object>"
      ]
     },
     "metadata": {},
     "output_type": "display_data"
    },
    {
     "data": {
      "text/html": [
       "(<mark style=\"background-color: #91d8f2;\">Kindling</mark>,<mark style=\"background-color: #ffbf6b;\">Adobe Kiln</mark>) &#x2192; (<mark style=\"background-color: #91d8f2;\">empty</mark>,<mark style=\"background-color: #ffbf6b;\">Wood-filled Adobe Kiln</mark>)"
      ],
      "text/plain": [
       "<IPython.core.display.HTML object>"
      ]
     },
     "metadata": {},
     "output_type": "display_data"
    },
    {
     "data": {
      "text/html": [
       "(<mark style=\"background-color: #91d8f2;\">Kindling</mark>,<mark style=\"background-color: #ffbf6b;\">Hot Coals - Tut_only burns forever</mark>) &#x2192; (<mark style=\"background-color: #91d8f2;\">empty</mark>,<mark style=\"background-color: #ffbf6b;\">Fire</mark>)"
      ],
      "text/plain": [
       "<IPython.core.display.HTML object>"
      ]
     },
     "metadata": {},
     "output_type": "display_data"
    },
    {
     "data": {
      "text/html": [
       "(<mark style=\"background-color: #91d8f2;\">Kindling</mark>,<mark style=\"background-color: #ffbf6b;\">Kindling Pile</mark>) &#x2192; (<mark style=\"background-color: #91d8f2;\">empty</mark>,<mark style=\"background-color: #ffbf6b;\">Kindling Pile</mark>)"
      ],
      "text/plain": [
       "<IPython.core.display.HTML object>"
      ]
     },
     "metadata": {},
     "output_type": "display_data"
    },
    {
     "name": "stdout",
     "output_type": "stream",
     "text": [
      "=== HOW TO GET ===\n"
     ]
    },
    {
     "data": {
      "text/html": [
       "(<mark style=\"background-color: #91d8f2;\">empty</mark>,<mark style=\"background-color: #ffbf6b;\">Wood-filled Adobe Oven</mark>) &#x2192; (<mark style=\"background-color: #91d8f2;\">Kindling</mark>,<mark style=\"background-color: #ffbf6b;\">Adobe Oven</mark>)"
      ],
      "text/plain": [
       "<IPython.core.display.HTML object>"
      ]
     },
     "metadata": {},
     "output_type": "display_data"
    },
    {
     "data": {
      "text/html": [
       "(<mark style=\"background-color: #91d8f2;\">empty</mark>,<mark style=\"background-color: #ffbf6b;\">Wood-filled Adobe Kiln</mark>) &#x2192; (<mark style=\"background-color: #91d8f2;\">Kindling</mark>,<mark style=\"background-color: #ffbf6b;\">Adobe Kiln</mark>)"
      ],
      "text/plain": [
       "<IPython.core.display.HTML object>"
      ]
     },
     "metadata": {},
     "output_type": "display_data"
    },
    {
     "data": {
      "text/html": [
       "(<mark style=\"background-color: #91d8f2;\">empty</mark>,<mark style=\"background-color: #ffbf6b;\">Kindling Pile</mark>) &#x2192; (<mark style=\"background-color: #91d8f2;\">Kindling</mark>,<mark style=\"background-color: #ffbf6b;\">Kindling Pile</mark>)"
      ],
      "text/plain": [
       "<IPython.core.display.HTML object>"
      ]
     },
     "metadata": {},
     "output_type": "display_data"
    },
    {
     "data": {
      "text/html": [
       "(<mark style=\"background-color: #91d8f2;\">empty</mark>,<mark style=\"background-color: #ffbf6b;\">Kindling Pile</mark>) &#x2192; (<mark style=\"background-color: #91d8f2;\">Kindling</mark>,<mark style=\"background-color: #ffbf6b;\">Kindling</mark>)"
      ],
      "text/plain": [
       "<IPython.core.display.HTML object>"
      ]
     },
     "metadata": {},
     "output_type": "display_data"
    },
    {
     "data": {
      "text/html": [
       "(<mark style=\"background-color: #91d8f2;\">empty</mark>,<mark style=\"background-color: #ffbf6b;\">Kindling with Stakes</mark>) &#x2192; (<mark style=\"background-color: #91d8f2;\">Stakes - +tool</mark>,<mark style=\"background-color: #ffbf6b;\">Kindling</mark>)"
      ],
      "text/plain": [
       "<IPython.core.display.HTML object>"
      ]
     },
     "metadata": {},
     "output_type": "display_data"
    },
    {
     "data": {
      "text/html": [
       "(<mark style=\"background-color: #91d8f2;\">empty</mark>,<mark style=\"background-color: #ffbf6b;\">Two Wire Trellis with Kindling</mark>) &#x2192; (<mark style=\"background-color: #91d8f2;\">Kindling</mark>,<mark style=\"background-color: #ffbf6b;\">Two Wire Trellis</mark>)"
      ],
      "text/plain": [
       "<IPython.core.display.HTML object>"
      ]
     },
     "metadata": {},
     "output_type": "display_data"
    },
    {
     "data": {
      "text/html": [
       "(<mark style=\"background-color: #91d8f2;\">Stone Hatchet - +toolChopping</mark>,<mark style=\"background-color: #ffbf6b;\">Straight Branch</mark>) &#x2192; (<mark style=\"background-color: #91d8f2;\">Stone Hatchet - +toolChopping</mark>,<mark style=\"background-color: #ffbf6b;\">Kindling</mark>)"
      ],
      "text/plain": [
       "<IPython.core.display.HTML object>"
      ]
     },
     "metadata": {},
     "output_type": "display_data"
    },
    {
     "data": {
      "text/html": [
       "(<mark style=\"background-color: #91d8f2;\">Stone Hatchet - +toolChopping</mark>,<mark style=\"background-color: #ffbf6b;\">Small Curved Branch</mark>) &#x2192; (<mark style=\"background-color: #91d8f2;\">Stone Hatchet - +toolChopping</mark>,<mark style=\"background-color: #ffbf6b;\">Kindling</mark>)"
      ],
      "text/plain": [
       "<IPython.core.display.HTML object>"
      ]
     },
     "metadata": {},
     "output_type": "display_data"
    },
    {
     "data": {
      "text/html": [
       "(<mark style=\"background-color: #91d8f2;\">Stone Hatchet - +toolChopping</mark>,<mark style=\"background-color: #ffbf6b;\">Long Straight Shaft</mark>) &#x2192; (<mark style=\"background-color: #91d8f2;\">Stone Hatchet - +toolChopping</mark>,<mark style=\"background-color: #ffbf6b;\">Kindling</mark>)"
      ],
      "text/plain": [
       "<IPython.core.display.HTML object>"
      ]
     },
     "metadata": {},
     "output_type": "display_data"
    },
    {
     "data": {
      "text/html": [
       "(<mark style=\"background-color: #91d8f2;\">Stone Hatchet - +toolChopping</mark>,<mark style=\"background-color: #ffbf6b;\">Small Curved Shaft</mark>) &#x2192; (<mark style=\"background-color: #91d8f2;\">Stone Hatchet - +toolChopping</mark>,<mark style=\"background-color: #ffbf6b;\">Kindling</mark>)"
      ],
      "text/plain": [
       "<IPython.core.display.HTML object>"
      ]
     },
     "metadata": {},
     "output_type": "display_data"
    },
    {
     "data": {
      "text/html": [
       "(<mark style=\"background-color: #91d8f2;\">Stone Hatchet - +toolChopping</mark>,<mark style=\"background-color: #ffbf6b;\">Short Shaft</mark>) &#x2192; (<mark style=\"background-color: #91d8f2;\">Stone Hatchet - +toolChopping</mark>,<mark style=\"background-color: #ffbf6b;\">Kindling</mark>)"
      ],
      "text/plain": [
       "<IPython.core.display.HTML object>"
      ]
     },
     "metadata": {},
     "output_type": "display_data"
    },
    {
     "data": {
      "text/html": [
       "(<mark style=\"background-color: #91d8f2;\">Stone Hatchet - +toolChopping</mark>,<mark style=\"background-color: #ffbf6b;\">Stakes - +tool</mark>) &#x2192; (<mark style=\"background-color: #91d8f2;\">Stone Hatchet - +toolChopping</mark>,<mark style=\"background-color: #ffbf6b;\">Kindling</mark>)"
      ],
      "text/plain": [
       "<IPython.core.display.HTML object>"
      ]
     },
     "metadata": {},
     "output_type": "display_data"
    },
    {
     "data": {
      "text/html": [
       "(<mark style=\"background-color: #91d8f2;\">Stone Hatchet - +toolChopping</mark>,<mark style=\"background-color: #ffbf6b;\">Yew Shaft</mark>) &#x2192; (<mark style=\"background-color: #91d8f2;\">Stone Hatchet - +toolChopping</mark>,<mark style=\"background-color: #ffbf6b;\">Kindling</mark>)"
      ],
      "text/plain": [
       "<IPython.core.display.HTML object>"
      ]
     },
     "metadata": {},
     "output_type": "display_data"
    },
    {
     "data": {
      "text/html": [
       "(<mark style=\"background-color: #91d8f2;\">Stone Hatchet - +toolChopping</mark>,<mark style=\"background-color: #ffbf6b;\">Yew Branch</mark>) &#x2192; (<mark style=\"background-color: #91d8f2;\">Stone Hatchet - +toolChopping</mark>,<mark style=\"background-color: #ffbf6b;\">Kindling</mark>)"
      ],
      "text/plain": [
       "<IPython.core.display.HTML object>"
      ]
     },
     "metadata": {},
     "output_type": "display_data"
    },
    {
     "data": {
      "text/html": [
       "(<mark style=\"background-color: #91d8f2;\">Stone Hatchet - +toolChopping</mark>,<mark style=\"background-color: #ffbf6b;\">Wooden Tongs - empty</mark>) &#x2192; (<mark style=\"background-color: #91d8f2;\">Stone Hatchet - +toolChopping</mark>,<mark style=\"background-color: #ffbf6b;\">Kindling</mark>)"
      ],
      "text/plain": [
       "<IPython.core.display.HTML object>"
      ]
     },
     "metadata": {},
     "output_type": "display_data"
    },
    {
     "data": {
      "text/html": [
       "(<mark style=\"background-color: #91d8f2;\">Stone Hatchet - +toolChopping</mark>,<mark style=\"background-color: #ffbf6b;\">Firewood</mark>) &#x2192; (<mark style=\"background-color: #91d8f2;\">Stone Hatchet - +toolChopping</mark>,<mark style=\"background-color: #ffbf6b;\">Kindling</mark>)"
      ],
      "text/plain": [
       "<IPython.core.display.HTML object>"
      ]
     },
     "metadata": {},
     "output_type": "display_data"
    },
    {
     "data": {
      "text/html": [
       "(<mark style=\"background-color: #91d8f2;\">Stone Hatchet - +toolChopping</mark>,<mark style=\"background-color: #ffbf6b;\">Dead Gooseberry Bush</mark>) &#x2192; (<mark style=\"background-color: #91d8f2;\">Stone Hatchet - +toolChopping</mark>,<mark style=\"background-color: #ffbf6b;\">Kindling</mark>)"
      ],
      "text/plain": [
       "<IPython.core.display.HTML object>"
      ]
     },
     "metadata": {},
     "output_type": "display_data"
    },
    {
     "data": {
      "text/html": [
       "(<mark style=\"background-color: #91d8f2;\">Stone Hatchet - +toolChopping</mark>,<mark style=\"background-color: #ffbf6b;\">Dug Stump</mark>) &#x2192; (<mark style=\"background-color: #91d8f2;\">Stone Hatchet - +toolChopping</mark>,<mark style=\"background-color: #ffbf6b;\">Kindling</mark>)"
      ],
      "text/plain": [
       "<IPython.core.display.HTML object>"
      ]
     },
     "metadata": {},
     "output_type": "display_data"
    },
    {
     "data": {
      "text/html": [
       "(<mark style=\"background-color: #91d8f2;\">Stone Hatchet - +toolChopping</mark>,<mark style=\"background-color: #ffbf6b;\">Dug Gooseberry Bush</mark>) &#x2192; (<mark style=\"background-color: #91d8f2;\">Stone Hatchet - +toolChopping</mark>,<mark style=\"background-color: #ffbf6b;\">Kindling</mark>)"
      ],
      "text/plain": [
       "<IPython.core.display.HTML object>"
      ]
     },
     "metadata": {},
     "output_type": "display_data"
    },
    {
     "data": {
      "text/html": [
       "(<mark style=\"background-color: #91d8f2;\">Stone Hatchet - +toolChopping</mark>,<mark style=\"background-color: #ffbf6b;\">Knitting Needles - +tool</mark>) &#x2192; (<mark style=\"background-color: #91d8f2;\">Stone Hatchet - +toolChopping</mark>,<mark style=\"background-color: #ffbf6b;\">Kindling</mark>)"
      ],
      "text/plain": [
       "<IPython.core.display.HTML object>"
      ]
     },
     "metadata": {},
     "output_type": "display_data"
    },
    {
     "data": {
      "text/html": [
       "(<mark style=\"background-color: #91d8f2;\">Stone Hatchet - +toolChopping</mark>,<mark style=\"background-color: #ffbf6b;\">Dead Bonsai</mark>) &#x2192; (<mark style=\"background-color: #91d8f2;\">Stone Hatchet - +toolChopping</mark>,<mark style=\"background-color: #ffbf6b;\">Kindling</mark>)"
      ],
      "text/plain": [
       "<IPython.core.display.HTML object>"
      ]
     },
     "metadata": {},
     "output_type": "display_data"
    },
    {
     "data": {
      "text/html": [
       "(<mark style=\"background-color: #91d8f2;\">Stone Hatchet - +toolChopping</mark>,<mark style=\"background-color: #ffbf6b;\">Wing Strut</mark>) &#x2192; (<mark style=\"background-color: #91d8f2;\">Stone Hatchet - +toolChopping</mark>,<mark style=\"background-color: #ffbf6b;\">Kindling</mark>)"
      ],
      "text/plain": [
       "<IPython.core.display.HTML object>"
      ]
     },
     "metadata": {},
     "output_type": "display_data"
    },
    {
     "data": {
      "text/html": [
       "(<mark style=\"background-color: #91d8f2;\">Stone Hatchet - +toolChopping</mark>,<mark style=\"background-color: #ffbf6b;\">Tripod</mark>) &#x2192; (<mark style=\"background-color: #91d8f2;\">Stone Hatchet - +toolChopping</mark>,<mark style=\"background-color: #ffbf6b;\">Kindling</mark>)"
      ],
      "text/plain": [
       "<IPython.core.display.HTML object>"
      ]
     },
     "metadata": {},
     "output_type": "display_data"
    },
    {
     "data": {
      "text/html": [
       "(<mark style=\"background-color: #91d8f2;\">Stone Hatchet - +toolChopping</mark>,<mark style=\"background-color: #ffbf6b;\">Dug Barrel Cactus - Hungry Work - +hungryWork10</mark>) &#x2192; (<mark style=\"background-color: #91d8f2;\">Stone Hatchet - +toolChopping</mark>,<mark style=\"background-color: #ffbf6b;\">Kindling</mark>)"
      ],
      "text/plain": [
       "<IPython.core.display.HTML object>"
      ]
     },
     "metadata": {},
     "output_type": "display_data"
    },
    {
     "data": {
      "text/html": [
       "(<mark style=\"background-color: #91d8f2;\">Steel Axe - +toolChopping</mark>,<mark style=\"background-color: #ffbf6b;\">Straight Branch</mark>) &#x2192; (<mark style=\"background-color: #91d8f2;\">Steel Axe - +toolChopping</mark>,<mark style=\"background-color: #ffbf6b;\">Kindling</mark>)"
      ],
      "text/plain": [
       "<IPython.core.display.HTML object>"
      ]
     },
     "metadata": {},
     "output_type": "display_data"
    },
    {
     "data": {
      "text/html": [
       "(<mark style=\"background-color: #91d8f2;\">Steel Axe - +toolChopping</mark>,<mark style=\"background-color: #ffbf6b;\">Small Curved Branch</mark>) &#x2192; (<mark style=\"background-color: #91d8f2;\">Steel Axe - +toolChopping</mark>,<mark style=\"background-color: #ffbf6b;\">Kindling</mark>)"
      ],
      "text/plain": [
       "<IPython.core.display.HTML object>"
      ]
     },
     "metadata": {},
     "output_type": "display_data"
    },
    {
     "data": {
      "text/html": [
       "(<mark style=\"background-color: #91d8f2;\">Steel Axe - +toolChopping</mark>,<mark style=\"background-color: #ffbf6b;\">Long Straight Shaft</mark>) &#x2192; (<mark style=\"background-color: #91d8f2;\">Steel Axe - +toolChopping</mark>,<mark style=\"background-color: #ffbf6b;\">Kindling</mark>)"
      ],
      "text/plain": [
       "<IPython.core.display.HTML object>"
      ]
     },
     "metadata": {},
     "output_type": "display_data"
    },
    {
     "data": {
      "text/html": [
       "(<mark style=\"background-color: #91d8f2;\">Steel Axe - +toolChopping</mark>,<mark style=\"background-color: #ffbf6b;\">Small Curved Shaft</mark>) &#x2192; (<mark style=\"background-color: #91d8f2;\">Steel Axe - +toolChopping</mark>,<mark style=\"background-color: #ffbf6b;\">Kindling</mark>)"
      ],
      "text/plain": [
       "<IPython.core.display.HTML object>"
      ]
     },
     "metadata": {},
     "output_type": "display_data"
    },
    {
     "data": {
      "text/html": [
       "(<mark style=\"background-color: #91d8f2;\">Steel Axe - +toolChopping</mark>,<mark style=\"background-color: #ffbf6b;\">Short Shaft</mark>) &#x2192; (<mark style=\"background-color: #91d8f2;\">Steel Axe - +toolChopping</mark>,<mark style=\"background-color: #ffbf6b;\">Kindling</mark>)"
      ],
      "text/plain": [
       "<IPython.core.display.HTML object>"
      ]
     },
     "metadata": {},
     "output_type": "display_data"
    },
    {
     "data": {
      "text/html": [
       "(<mark style=\"background-color: #91d8f2;\">Steel Axe - +toolChopping</mark>,<mark style=\"background-color: #ffbf6b;\">Stakes - +tool</mark>) &#x2192; (<mark style=\"background-color: #91d8f2;\">Steel Axe - +toolChopping</mark>,<mark style=\"background-color: #ffbf6b;\">Kindling</mark>)"
      ],
      "text/plain": [
       "<IPython.core.display.HTML object>"
      ]
     },
     "metadata": {},
     "output_type": "display_data"
    },
    {
     "data": {
      "text/html": [
       "(<mark style=\"background-color: #91d8f2;\">Steel Axe - +toolChopping</mark>,<mark style=\"background-color: #ffbf6b;\">Yew Shaft</mark>) &#x2192; (<mark style=\"background-color: #91d8f2;\">Steel Axe - +toolChopping</mark>,<mark style=\"background-color: #ffbf6b;\">Kindling</mark>)"
      ],
      "text/plain": [
       "<IPython.core.display.HTML object>"
      ]
     },
     "metadata": {},
     "output_type": "display_data"
    },
    {
     "data": {
      "text/html": [
       "(<mark style=\"background-color: #91d8f2;\">Steel Axe - +toolChopping</mark>,<mark style=\"background-color: #ffbf6b;\">Yew Branch</mark>) &#x2192; (<mark style=\"background-color: #91d8f2;\">Steel Axe - +toolChopping</mark>,<mark style=\"background-color: #ffbf6b;\">Kindling</mark>)"
      ],
      "text/plain": [
       "<IPython.core.display.HTML object>"
      ]
     },
     "metadata": {},
     "output_type": "display_data"
    },
    {
     "data": {
      "text/html": [
       "(<mark style=\"background-color: #91d8f2;\">Steel Axe - +toolChopping</mark>,<mark style=\"background-color: #ffbf6b;\">Wooden Tongs - empty</mark>) &#x2192; (<mark style=\"background-color: #91d8f2;\">Steel Axe - +toolChopping</mark>,<mark style=\"background-color: #ffbf6b;\">Kindling</mark>)"
      ],
      "text/plain": [
       "<IPython.core.display.HTML object>"
      ]
     },
     "metadata": {},
     "output_type": "display_data"
    },
    {
     "data": {
      "text/html": [
       "(<mark style=\"background-color: #91d8f2;\">Steel Axe - +toolChopping</mark>,<mark style=\"background-color: #ffbf6b;\">Firewood</mark>) &#x2192; (<mark style=\"background-color: #91d8f2;\">Steel Axe - +toolChopping</mark>,<mark style=\"background-color: #ffbf6b;\">Kindling</mark>)"
      ],
      "text/plain": [
       "<IPython.core.display.HTML object>"
      ]
     },
     "metadata": {},
     "output_type": "display_data"
    },
    {
     "data": {
      "text/html": [
       "(<mark style=\"background-color: #91d8f2;\">Steel Axe - +toolChopping</mark>,<mark style=\"background-color: #ffbf6b;\">Dead Gooseberry Bush</mark>) &#x2192; (<mark style=\"background-color: #91d8f2;\">Steel Axe - +toolChopping</mark>,<mark style=\"background-color: #ffbf6b;\">Kindling</mark>)"
      ],
      "text/plain": [
       "<IPython.core.display.HTML object>"
      ]
     },
     "metadata": {},
     "output_type": "display_data"
    },
    {
     "data": {
      "text/html": [
       "(<mark style=\"background-color: #91d8f2;\">Steel Axe - +toolChopping</mark>,<mark style=\"background-color: #ffbf6b;\">Dug Stump</mark>) &#x2192; (<mark style=\"background-color: #91d8f2;\">Steel Axe - +toolChopping</mark>,<mark style=\"background-color: #ffbf6b;\">Kindling</mark>)"
      ],
      "text/plain": [
       "<IPython.core.display.HTML object>"
      ]
     },
     "metadata": {},
     "output_type": "display_data"
    },
    {
     "data": {
      "text/html": [
       "(<mark style=\"background-color: #91d8f2;\">Steel Axe - +toolChopping</mark>,<mark style=\"background-color: #ffbf6b;\">Dug Gooseberry Bush</mark>) &#x2192; (<mark style=\"background-color: #91d8f2;\">Steel Axe - +toolChopping</mark>,<mark style=\"background-color: #ffbf6b;\">Kindling</mark>)"
      ],
      "text/plain": [
       "<IPython.core.display.HTML object>"
      ]
     },
     "metadata": {},
     "output_type": "display_data"
    },
    {
     "data": {
      "text/html": [
       "(<mark style=\"background-color: #91d8f2;\">Steel Axe - +toolChopping</mark>,<mark style=\"background-color: #ffbf6b;\">Knitting Needles - +tool</mark>) &#x2192; (<mark style=\"background-color: #91d8f2;\">Steel Axe - +toolChopping</mark>,<mark style=\"background-color: #ffbf6b;\">Kindling</mark>)"
      ],
      "text/plain": [
       "<IPython.core.display.HTML object>"
      ]
     },
     "metadata": {},
     "output_type": "display_data"
    },
    {
     "data": {
      "text/html": [
       "(<mark style=\"background-color: #91d8f2;\">Steel Axe - +toolChopping</mark>,<mark style=\"background-color: #ffbf6b;\">Wild Rose - picked</mark>) &#x2192; (<mark style=\"background-color: #91d8f2;\">Steel Axe - +toolChopping</mark>,<mark style=\"background-color: #ffbf6b;\">Kindling</mark>)"
      ],
      "text/plain": [
       "<IPython.core.display.HTML object>"
      ]
     },
     "metadata": {},
     "output_type": "display_data"
    },
    {
     "data": {
      "text/html": [
       "(<mark style=\"background-color: #91d8f2;\">Steel Axe - +toolChopping</mark>,<mark style=\"background-color: #ffbf6b;\">Pink Rose Bush</mark>) &#x2192; (<mark style=\"background-color: #91d8f2;\">Steel Axe - +toolChopping</mark>,<mark style=\"background-color: #ffbf6b;\">Kindling</mark>)"
      ],
      "text/plain": [
       "<IPython.core.display.HTML object>"
      ]
     },
     "metadata": {},
     "output_type": "display_data"
    },
    {
     "data": {
      "text/html": [
       "(<mark style=\"background-color: #91d8f2;\">Steel Axe - +toolChopping</mark>,<mark style=\"background-color: #ffbf6b;\">Dry Pink Rose Bush</mark>) &#x2192; (<mark style=\"background-color: #91d8f2;\">Steel Axe - +toolChopping</mark>,<mark style=\"background-color: #ffbf6b;\">Kindling</mark>)"
      ],
      "text/plain": [
       "<IPython.core.display.HTML object>"
      ]
     },
     "metadata": {},
     "output_type": "display_data"
    },
    {
     "data": {
      "text/html": [
       "(<mark style=\"background-color: #91d8f2;\">Steel Axe - +toolChopping</mark>,<mark style=\"background-color: #ffbf6b;\">Vigorous Pink Rose Bush</mark>) &#x2192; (<mark style=\"background-color: #91d8f2;\">Steel Axe - +toolChopping</mark>,<mark style=\"background-color: #ffbf6b;\">Kindling</mark>)"
      ],
      "text/plain": [
       "<IPython.core.display.HTML object>"
      ]
     },
     "metadata": {},
     "output_type": "display_data"
    },
    {
     "data": {
      "text/html": [
       "(<mark style=\"background-color: #91d8f2;\">Steel Axe - +toolChopping</mark>,<mark style=\"background-color: #ffbf6b;\">Dry White Rose Bush</mark>) &#x2192; (<mark style=\"background-color: #91d8f2;\">Steel Axe - +toolChopping</mark>,<mark style=\"background-color: #ffbf6b;\">Kindling</mark>)"
      ],
      "text/plain": [
       "<IPython.core.display.HTML object>"
      ]
     },
     "metadata": {},
     "output_type": "display_data"
    },
    {
     "data": {
      "text/html": [
       "(<mark style=\"background-color: #91d8f2;\">Steel Axe - +toolChopping</mark>,<mark style=\"background-color: #ffbf6b;\">Dry Red Rose Bush</mark>) &#x2192; (<mark style=\"background-color: #91d8f2;\">Steel Axe - +toolChopping</mark>,<mark style=\"background-color: #ffbf6b;\">Kindling</mark>)"
      ],
      "text/plain": [
       "<IPython.core.display.HTML object>"
      ]
     },
     "metadata": {},
     "output_type": "display_data"
    },
    {
     "data": {
      "text/html": [
       "(<mark style=\"background-color: #91d8f2;\">Steel Axe - +toolChopping</mark>,<mark style=\"background-color: #ffbf6b;\">Vigorous Red Rose Bush</mark>) &#x2192; (<mark style=\"background-color: #91d8f2;\">Steel Axe - +toolChopping</mark>,<mark style=\"background-color: #ffbf6b;\">Kindling</mark>)"
      ],
      "text/plain": [
       "<IPython.core.display.HTML object>"
      ]
     },
     "metadata": {},
     "output_type": "display_data"
    },
    {
     "data": {
      "text/html": [
       "(<mark style=\"background-color: #91d8f2;\">Steel Axe - +toolChopping</mark>,<mark style=\"background-color: #ffbf6b;\">Vigorous White Rose Bush</mark>) &#x2192; (<mark style=\"background-color: #91d8f2;\">Steel Axe - +toolChopping</mark>,<mark style=\"background-color: #ffbf6b;\">Kindling</mark>)"
      ],
      "text/plain": [
       "<IPython.core.display.HTML object>"
      ]
     },
     "metadata": {},
     "output_type": "display_data"
    },
    {
     "data": {
      "text/html": [
       "(<mark style=\"background-color: #91d8f2;\">Steel Axe - +toolChopping</mark>,<mark style=\"background-color: #ffbf6b;\">Red Rose Bush</mark>) &#x2192; (<mark style=\"background-color: #91d8f2;\">Steel Axe - +toolChopping</mark>,<mark style=\"background-color: #ffbf6b;\">Kindling</mark>)"
      ],
      "text/plain": [
       "<IPython.core.display.HTML object>"
      ]
     },
     "metadata": {},
     "output_type": "display_data"
    },
    {
     "data": {
      "text/html": [
       "(<mark style=\"background-color: #91d8f2;\">Steel Axe - +toolChopping</mark>,<mark style=\"background-color: #ffbf6b;\">White Rose Bush</mark>) &#x2192; (<mark style=\"background-color: #91d8f2;\">Steel Axe - +toolChopping</mark>,<mark style=\"background-color: #ffbf6b;\">Kindling</mark>)"
      ],
      "text/plain": [
       "<IPython.core.display.HTML object>"
      ]
     },
     "metadata": {},
     "output_type": "display_data"
    },
    {
     "data": {
      "text/html": [
       "(<mark style=\"background-color: #91d8f2;\">Steel Axe - +toolChopping</mark>,<mark style=\"background-color: #ffbf6b;\">Dead Bonsai</mark>) &#x2192; (<mark style=\"background-color: #91d8f2;\">Steel Axe - +toolChopping</mark>,<mark style=\"background-color: #ffbf6b;\">Kindling</mark>)"
      ],
      "text/plain": [
       "<IPython.core.display.HTML object>"
      ]
     },
     "metadata": {},
     "output_type": "display_data"
    },
    {
     "data": {
      "text/html": [
       "(<mark style=\"background-color: #91d8f2;\">Steel Axe - +toolChopping</mark>,<mark style=\"background-color: #ffbf6b;\">Banana Plant</mark>) &#x2192; (<mark style=\"background-color: #91d8f2;\">Steel Axe - +toolChopping</mark>,<mark style=\"background-color: #ffbf6b;\">Kindling</mark>)"
      ],
      "text/plain": [
       "<IPython.core.display.HTML object>"
      ]
     },
     "metadata": {},
     "output_type": "display_data"
    },
    {
     "data": {
      "text/html": [
       "(<mark style=\"background-color: #91d8f2;\">Steel Axe - +toolChopping</mark>,<mark style=\"background-color: #ffbf6b;\">Empty Banana Plant</mark>) &#x2192; (<mark style=\"background-color: #91d8f2;\">Steel Axe - +toolChopping</mark>,<mark style=\"background-color: #ffbf6b;\">Kindling</mark>)"
      ],
      "text/plain": [
       "<IPython.core.display.HTML object>"
      ]
     },
     "metadata": {},
     "output_type": "display_data"
    },
    {
     "data": {
      "text/html": [
       "(<mark style=\"background-color: #91d8f2;\">Steel Axe - +toolChopping</mark>,<mark style=\"background-color: #ffbf6b;\">Wing Strut</mark>) &#x2192; (<mark style=\"background-color: #91d8f2;\">Steel Axe - +toolChopping</mark>,<mark style=\"background-color: #ffbf6b;\">Kindling</mark>)"
      ],
      "text/plain": [
       "<IPython.core.display.HTML object>"
      ]
     },
     "metadata": {},
     "output_type": "display_data"
    },
    {
     "data": {
      "text/html": [
       "(<mark style=\"background-color: #91d8f2;\">Steel Axe - +toolChopping</mark>,<mark style=\"background-color: #ffbf6b;\">Tripod</mark>) &#x2192; (<mark style=\"background-color: #91d8f2;\">Steel Axe - +toolChopping</mark>,<mark style=\"background-color: #ffbf6b;\">Kindling</mark>)"
      ],
      "text/plain": [
       "<IPython.core.display.HTML object>"
      ]
     },
     "metadata": {},
     "output_type": "display_data"
    },
    {
     "data": {
      "text/html": [
       "(<mark style=\"background-color: #91d8f2;\">Steel Axe - +toolChopping</mark>,<mark style=\"background-color: #ffbf6b;\">Dug Barrel Cactus - Hungry Work - +hungryWork10</mark>) &#x2192; (<mark style=\"background-color: #91d8f2;\">Steel Axe - +toolChopping</mark>,<mark style=\"background-color: #ffbf6b;\">Kindling</mark>)"
      ],
      "text/plain": [
       "<IPython.core.display.HTML object>"
      ]
     },
     "metadata": {},
     "output_type": "display_data"
    },
    {
     "data": {
      "text/html": [
       "(<mark style=\"background-color: #91d8f2;\">Shovel - +tool</mark>,<mark style=\"background-color: #ffbf6b;\">Dying Gooseberry Bush</mark>) &#x2192; (<mark style=\"background-color: #91d8f2;\">Shovel - +tool</mark>,<mark style=\"background-color: #ffbf6b;\">Kindling</mark>)"
      ],
      "text/plain": [
       "<IPython.core.display.HTML object>"
      ]
     },
     "metadata": {},
     "output_type": "display_data"
    },
    {
     "data": {
      "text/html": [
       "(<mark style=\"background-color: #91d8f2;\">Shovel - +tool</mark>,<mark style=\"background-color: #ffbf6b;\">Dead Gooseberry Bush</mark>) &#x2192; (<mark style=\"background-color: #91d8f2;\">Shovel - +tool</mark>,<mark style=\"background-color: #ffbf6b;\">Kindling</mark>)"
      ],
      "text/plain": [
       "<IPython.core.display.HTML object>"
      ]
     },
     "metadata": {},
     "output_type": "display_data"
    }
   ],
   "source": [
    "print(obj_name(72))\n",
    "\n",
    "print('=== USES ===')\n",
    "for _, row in transitions[paths_from(72)].iterrows():\n",
    "    display_transition(row)\n",
    "\n",
    "print('=== HOW TO GET ===')\n",
    "for _, row in transitions[paths_to(72)].iterrows():\n",
    "    display_transition(row)"
   ]
  },
  {
   "cell_type": "markdown",
   "id": "4f94aeb5",
   "metadata": {},
   "source": [
    "## Search through Tech tree"
   ]
  },
  {
   "cell_type": "markdown",
   "id": "784b9b0e",
   "metadata": {},
   "source": [
    "Initialize Tech tree dictionary:"
   ]
  },
  {
   "cell_type": "code",
   "execution_count": 7,
   "id": "2603753c",
   "metadata": {},
   "outputs": [],
   "source": [
    "tech_dict = {o:None for o in objects.id.values}"
   ]
  },
  {
   "cell_type": "markdown",
   "id": "0a8c5c03",
   "metadata": {},
   "source": [
    "Start with natural objects:"
   ]
  },
  {
   "cell_type": "code",
   "execution_count": 8,
   "id": "b5a17558",
   "metadata": {},
   "outputs": [
    {
     "name": "stdout",
     "output_type": "stream",
     "text": [
      "== Starting from 80 natural items ==\n",
      "Wild Gooseberry Bush (30)\n",
      "Big Hard Rock (32)\n",
      "Stone (33)\n",
      "Seeding Wild Carrot (36)\n",
      "Juniper Tree (49)\n",
      "Milkweed (50)\n",
      "Maple Tree -Branch (63)\n",
      "Lombardy Poplar Tree -Branch (65)\n",
      "White Pine Tree (99)\n",
      "White Pine Tree with Needles (100)\n",
      "Tule Reeds (121)\n",
      "Clay Deposit (125)\n",
      "Flint (133)\n",
      "Sapling (136)\n",
      "Yew Tree -Branch (153)\n",
      "Rabbit Hole -hiding &single (161)\n",
      "Fertile Soil Deposit (211)\n",
      "Ripe Wheat (242)\n",
      "Flat Rock - empty (291)\n",
      "Wolf (418)\n",
      "Willow Tree (527)\n",
      "Bald Cypress Tree (530)\n",
      "Mouflon (531)\n",
      "Bear Cave (630)\n",
      "Limestone (674)\n",
      "Gold Vein (680)\n",
      "Penguin (703)\n",
      "Ice Hole (706)\n",
      "Antarctic Fur Seal (707)\n",
      "Indigo (713)\n",
      "Rose Madder (714)\n",
      "Alum (729)\n",
      "Dead Tree (760)\n",
      "Barrel Cactus (761)\n",
      "Rattle Snake (764)\n",
      "Wild Horse (769)\n",
      "Monolith (791)\n",
      "Burdock (804)\n",
      "Wild Onion (805)\n",
      "Muddy Iron Vein - gridPlacement40 &40 (942)\n",
      "Wild Rose with Fruit (1013)\n",
      "Snow Bank (1020)\n",
      "Teosinte (1107)\n",
      "Wild Potato (1140)\n",
      "Wild Bean Plant (1157)\n",
      "Wild Squash Plant (1184)\n",
      "Wild Cabbage (1203)\n",
      "Canada Goose Pond with Egg (1261)\n",
      "Wild Boar (1323)\n",
      "Bison (1435)\n",
      "Wild Mango Tree (1874)\n",
      "Lapis Lazuli (1890)\n",
      "Cinnabar (1891)\n",
      "Rubber Tree (2135)\n",
      "Hot Spring (2140)\n",
      "Oil Palm (2141)\n",
      "Banana Plant (2142)\n",
      "Mosquito Swarm (2156)\n",
      "Turkey (2174)\n",
      "Tarry Spot - gridPlacement40 (2285)\n",
      "Dark Nosaj - +normalOnly (2466)\n",
      "Malachite (2504)\n",
      "Calamine (2515)\n",
      "Niter (2540)\n",
      "Glasswort (2557)\n",
      "Sand Deposit (2567)\n",
      "Sugarcane (2765)\n",
      "Wild Tomato Plant (2800)\n",
      "Wild Pepper Plant (2804)\n",
      "Electrum Ore (3001)\n",
      "Natural Spring - gridPlacement40 evePrimaryLoc (3030)\n",
      "Wild Grape Plant (3313)\n",
      "Desert Expert Way Stone - +biomeSet3 gridPlacement20 &20 +expertFind (3886)\n",
      "Jungle Expert Way Stone - +biomeSet3 gridPlacement20 &20 +expertFind (3887)\n",
      "Arctic Expert Way Stone - +biomeSet3 gridPlacement20 &20 &p3 &p0 +expertFind (3888)\n",
      "Wild Cucumber Plant (4221)\n",
      "Seeding Wild Dill (4239)\n",
      "Wild Garlic (4251)\n",
      "Bay Tree (4269)\n",
      "Rubber Tree with Pepper Vine (4272)\n"
     ]
    }
   ],
   "source": [
    "nat_objs = objects[objects.mapChance > 0].id.values.tolist()\n",
    "#nat_objs = [32, 33, 63, 153, 50] # DEBUG: Constrained set of natural objects\n",
    "print('== Starting from %i natural items ==' % len(nat_objs))\n",
    "print(*['%s (%i)' %(obj_name(o), o) for o in nat_objs], sep='\\n')"
   ]
  },
  {
   "cell_type": "markdown",
   "id": "53497d34",
   "metadata": {},
   "source": [
    "Search iteratively through Tech tree\n",
    "\n",
    "(Note: This is pretty inefficient, as we repeatedly test the same combinations - fix before scaling up?)"
   ]
  },
  {
   "cell_type": "code",
   "execution_count": 9,
   "id": "8728dcfa",
   "metadata": {},
   "outputs": [
    {
     "name": "stdout",
     "output_type": "stream",
     "text": [
      "=== ITERATION 1 ===\n",
      "Gooseberry (31)\n",
      "Empty Wild Gooseberry Bush (279)\n",
      "Carrot Seed Head (395)\n",
      "Wild Carrot (404)\n",
      "Juniper Tinder (61)\n",
      "Milkweed Stalk (57)\n",
      "Milkweed Debris (53)\n",
      "Straight Branch (64)\n",
      "Maple Tree (48)\n",
      "Small Curved Branch (66)\n",
      "Lombardy Poplar Tree (45)\n",
      "Pine Needles (96)\n",
      "Clay (126)\n",
      "Clay Pit -partial (409)\n",
      "Yew Branch (132)\n",
      "Yew Tree (406)\n",
      "Wheat Seed Head (223)\n",
      "Attacking Wolf (427)\n",
      "Bite Wound (1363)\n",
      "Attacking Rattle Snake (1385)\n",
      "Snake Bite (1377)\n",
      "Wild Onion (808)\n",
      "Wild Rose Hip (1015)\n",
      "Wild Rose - picked (1014)\n",
      "Snowball - +noWait (2407)\n",
      "Teosinte Seed Head (1108)\n",
      "Bare Teosinte (1123)\n",
      "Dry Bean Pod (1160)\n",
      "Empty Wild Bean Plant (1158)\n",
      "Wild Squash (1183)\n",
      "Empty Wild Squash Plant (1185)\n",
      "Cold Goose Egg (1262)\n",
      "Canada Goose Pond (141)\n",
      "Attacking Wild Boar (1333)\n",
      "Hog Cut (1364)\n",
      "Mango Leaf (1878)\n",
      "Banana (2143)\n",
      "Empty Banana Plant (2145)\n",
      "Mosquito Swarm -just bit (2157)\n",
      "Yellow Fever - sick emot_7_35  food_0.3 fever_15 (2155)\n",
      "Wild Tomato Cluster (2801)\n",
      "Empty Wild Tomato Plant (2803)\n",
      "Wild Pepper (2807)\n",
      "Empty Wild Pepper Plant (2806)\n",
      "Wild Cucumber (4223)\n",
      "Empty Wild Cucumber Plant (4222)\n",
      "Dill Seed Head (4242)\n",
      "Wild Dill (4240)\n",
      "Wild Garlic (4252)\n",
      "Bay Leaf (4270)\n",
      "Fresh Peppercorn Cluster (4273)\n",
      "Rubber Tree with Empty Pepper Vine (4274)\n",
      "Flowering Milkweed (51)\n",
      "Rabbit Hole -peeking1 &single (166)\n",
      "Mouflon with Lamb (532)\n",
      "Flowering Barrel Cactus (762)\n",
      "Wild Boar with Piglet (1328)\n",
      "Bison with Calf (1436)\n",
      "Sharp Stone (34)\n",
      "Stone Pile (661)\n",
      "Well Site - eveSecondaryLoc (1096)\n",
      "Stack of Flat Rocks (1836)\n",
      "Limestone Pile (2725)\n",
      "Ice Hole -penguin just in (718)\n",
      "Ice Hole -seal just in (717)\n",
      "Pile of Alum (3973)\n",
      "Pile of Lapis Lazuli (3975)\n",
      "Pile of Cinnabar (3974)\n",
      "Stack of Malachite (3896)\n",
      "Pile of Calamine (3897)\n",
      "Pile of Niter (3972)\n",
      "Pile of Electrum Ore (3971)\n",
      "=== ITERATION 2 ===\n",
      "Leaf (62)\n",
      "Empty Clay Pit (408)\n",
      "Snowball - just thrown (2465)\n",
      "Melting Snowball (2413)\n",
      "Snowball Splat - no_replace emot_8_10 (2405)\n",
      "Milkweed Debris -Flowering (54)\n",
      "Attacking Wild Boar with Piglet (1334)\n",
      "Milkweed Stump (56)\n",
      "Banana Peel (2144)\n",
      "Fruiting Milkweed (52)\n",
      "Rabbit Hole -peeking2 &single (165)\n",
      "Fruiting Barrel Cactus (763)\n",
      "Ice Hole -penguin in (3423)\n",
      "Ice Hole -seal in (3424)\n",
      "Wet Clay Bowl (233)\n",
      "Squash Seeds - just harvested (4236)\n",
      "Ready Well Site - +famUse100 +tapoutTrigger &40 &40 &160 &0 (3963)\n",
      "Dug Wild Carrot (39)\n",
      "Harvested Tule (123)\n",
      "Flint Chips (150)\n",
      "Cut Sapling Skewer (138)\n",
      "Harvested Wheat (224)\n",
      "Indigo Bundle (716)\n",
      "Rose Madder Root (715)\n",
      "Dug Burdock (806)\n",
      "Medium Snowball (2412)\n",
      "Dug Teosinte (1128)\n",
      "Wild Potato Tubers (1141)\n",
      "Dug Wild Bean Plant (1159)\n",
      "Dug Wild Squash Plant (1188)\n",
      "Dug Wild Cabbage (1204)\n",
      "Cut Glasswort (2558)\n",
      "Sugarcane Bundle -just harvested (2797)\n",
      "Dug Wild Tomato Plant (2802)\n",
      "Dug Wild Pepper Plant (2805)\n",
      "Dug Wild Grape Plant (3315)\n",
      "Dug Wild Cucumber Plant (4235)\n",
      "Dug Wild Dill (4241)\n",
      "Thread (58)\n",
      "Pile of Straight Branchs (4062)\n",
      "Long Straight Shaft (67)\n",
      "Two Curved Branches (2419)\n",
      "Small Curved Shaft (68)\n",
      "Pile of Pine Needles (4068)\n",
      "Pile of Clay (3905)\n",
      "Pile of Yew Branches (4063)\n",
      "Yew Shaft (131)\n",
      "Pile of Wild Onions (3980)\n",
      "Pile of Bananas (3977)\n",
      "Pile of Wild Garlic (4266)\n",
      "Pile of Sharp Stones (3915)\n",
      "=== ITERATION 3 ===\n",
      "Milkweed Debris -Fruit (55)\n",
      "Cactus Fruit (768)\n",
      "Wild Carrot (40)\n",
      "Reed Bundle (124)\n",
      "Tule Stumps (122)\n",
      "Flint Chip (135)\n",
      "Skewer (139)\n",
      "Sapling Stump (137)\n",
      "Wheat Sheaf (225)\n",
      "Wheat Stumps (244)\n",
      "Burdock Root (807)\n",
      "Cabbage Seed (1206)\n",
      "Rabbit Hole -out &single (164)\n",
      "Ice Hole -penguin out (720)\n",
      "Ice Hole -seal out (719)\n",
      "Squash Seeds (1186)\n",
      "Snowball - melted (2739)\n",
      "Dry Glasswort (2559)\n",
      "Sugarcane Bundle (2766)\n",
      "Wet Clay Plate (234)\n",
      "Clubbed Seal (708)\n",
      "Loose Muddy Iron Vein - +primaryHomeland (3962)\n",
      "Big Snowball (2408)\n",
      "Shaft with Pine Needles (3288)\n",
      "Short Shaft (69)\n",
      "Dry Well Site (3175)\n",
      "Wet Clay Crock (1216)\n",
      "Well Site - justRegressed +tapoutTrigger &40 &40 &160 &160 (4085)\n",
      "Tule Stumps with Basket (1927)\n",
      "Cut Glasswort Pile (4098)\n",
      "Rope (59)\n",
      "Fishing Pole without Hook (2092)\n",
      "Two Shafts (557)\n",
      "Two Curved Shafts (2214)\n",
      "Pile of Yew Shafts (4064)\n",
      "=== ITERATION 4 ===\n",
      "Milkweed Seed (220)\n",
      "Sugarcane Stalk (2767)\n",
      "Iron Ore (290)\n",
      "Stripped Muddy Iron Vein (3953)\n",
      "Dry Natural Spring (3174)\n",
      "Basket (292)\n",
      "Broken Skewer (847)\n",
      "Hardened Row (848)\n",
      "Rabbit Family Hole -out (173)\n",
      "Ice Hole -animal just left (721)\n",
      "Medium Snowball - melted (2738)\n",
      "Dry Glasswort Pile - just dried (4100)\n",
      "Home Marker - eveHomeMarker (487)\n",
      "Sapling with Cutting (935)\n",
      "Flat Rock with Burdock Root (3179)\n",
      "Huge Snowball (2411)\n",
      "Gooseberry Seed (35)\n",
      "Property Fence Twigs (2957)\n",
      "Threshed Wheat (226)\n",
      "Adobe (127)\n",
      "Weak Skewer (852)\n",
      "Clay with Nozzle (2110)\n",
      "Pepper Seed (2808)\n",
      "Cucumber Seeds - just sliced (4237)\n",
      "Flint Arrowhead (134)\n",
      "Stakes - +tool (107)\n",
      "Tied Skewer (140)\n",
      "Wooden Tongs - empty (239)\n",
      "Tied Long Shaft (92)\n",
      "Bow Drill Bow (73)\n",
      "Yew Bow (151)\n",
      "Pile of Cactus Fruit (4029)\n",
      "Pile of Wild Carrots (3978)\n",
      "Reed Skirt (128)\n",
      "Loom Reed (2687)\n",
      "Pile of Letter Stock - justMade (3876)\n",
      "Skinned Seal -with fur (709)\n",
      "Tripod (3028)\n",
      "Pile of Wheat Sheaves (4389)\n",
      "Pile of Burdock Roots (3979)\n",
      "Dry Glasswort Pile (4099)\n",
      "Pine Panel (106)\n",
      "Pile of Short Shafts (4065)\n",
      "Tied Short Shaft (70)\n",
      "Lasso - +tool (767)\n",
      "Pump Beam Kit (2215)\n",
      "=== ITERATION 5 ===\n",
      "Sapling Cutting (936)\n",
      "Straw (227)\n",
      "Threshed Wheat -straw removed (297)\n",
      "Wet Clay Nozzle (285)\n",
      "Small Lump of Clay (3891)\n",
      "Seal Skin (711)\n",
      "Skinned Seal -no fur (710)\n",
      "Big Snowball - melted (2737)\n",
      "Proposed Property Fence - groundOnly +horizontalA (2965)\n",
      "Cucumber Seeds (4224)\n",
      "Rag Loincloth (866)\n",
      "Pile of Letter Stock (3875)\n",
      "Adobe Oven Base (231)\n",
      "Floor Stakes (486)\n",
      "Basket of Soil (336)\n",
      "Fertile Soil Pit -partial (411)\n",
      "Snow Floor - Artic Only - groundOnly +biomeReq4 (3270)\n",
      "Captured Horse (771)\n",
      "Wild Horse with Lasso (2710)\n",
      "Staked Wild Gooseberry Bush (3109)\n",
      "Weak Skewer - just dug (1254)\n",
      "Flat Rock with Rabbit Bait (3180)\n",
      "Stone Hoe - +toolHoe (850)\n",
      "Stone Hatchet - +toolChopping (71)\n",
      "Wet Bowl in Wooden Tongs (284)\n",
      "Proposed Property Gate - +causeAutoOrientH +wall (2966)\n",
      "Small Curved Shaft with Rope (3878)\n",
      "Yew Shaft with Rope (3879)\n",
      "Short Shaft with Rope (3880)\n",
      "Two Ropes (2284)\n",
      "Paving Direction South (4432)\n",
      "Wet Plate in Wooden Tongs (240)\n",
      "Snowman Foundation (2414)\n",
      "Fire Bow Drill - +toolBow_Drill (74)\n",
      "Pine Door (114)\n",
      "Wet Crock in Wooden Tongs (1218)\n",
      "Snare (160)\n",
      "Iron Ore Pile (1598)\n",
      "Iron Ore in Wooden Tongs (289)\n",
      "Stack of Baskets (1605)\n",
      "Gathering Property Fence Twigs (2993)\n",
      "Pile of Adobe (3906)\n",
      "Weak Skewer Pile (4060)\n",
      "Pile of Arrowheads (3916)\n",
      "Featherless Arrow (147)\n",
      "Pile of Stakes (4066)\n",
      "=== ITERATION 6 ===\n",
      "Letter Stock (946)\n",
      "Paving Direction West (4457)\n",
      "Approved Property Fence - +horizontalB +wall (2970)\n",
      "Fertile Soil Pile (1101)\n",
      "Broken Stone Tool (851)\n",
      "Broken Small Stone Tool (859)\n",
      "Approved Property Gate - +causeAutoOrientH +wall (2974)\n",
      "Huge Snowball - melted (2736)\n",
      "Property Fence Twigs - just set down (2992)\n",
      "Wet Blank Die (2109)\n",
      "Auto-Orienting Wall Stakes (108)\n",
      "Stone Road - groundOnly (1596)\n",
      "Flat Rock -just removed (1854)\n",
      "Kindling (72)\n",
      "Pine Floor - groundOnly (3290)\n",
      "Snared Rabbit Hole -hiding (162)\n",
      "Stakes - with Skewer (4458)\n",
      "Blank Snowman (2415)\n",
      "Ember Shaft (75)\n",
      "Bow Drill Bow with Removed Shaft (3877)\n",
      "Stakes with Rope (3883)\n",
      "Wet Clay Nozzle - just made (3892)\n",
      "Wormy Empty Fertile Soil Pit (410)\n",
      "Snared Rabbit Family Hole -hiding (163)\n",
      "Gathering Property Fence Twigs - B (2994)\n",
      "Adobe Oven (237)\n",
      "Flint-tipped Bow Drill - +toolBow_Drill (474)\n",
      "Wet Nozzle in Wooden Tongs (295)\n",
      "Pile of Straw (4185)\n",
      "Pile of Seal Skins (3922)\n",
      "Pile of Snares (3913)\n",
      "=== ITERATION 7 ===\n",
      "Paving Direction North (4456)\n",
      "Worm (789)\n",
      "Worm Pit (787)\n",
      "Rabbit Family Hole -hiding (167)\n",
      "Melting Snowman - 4 (2735)\n",
      "Shaky Property Fence - +horizontalC (2982)\n",
      "Shaky Property Gate - +tempOwned +causeAutoOrientH (2984)\n",
      "Free-standing North-South Wall Stakes (109)\n",
      "Letter V (949)\n",
      "Ember Leaf (77)\n",
      "Blank Snowman with Arms (2416)\n",
      "Letter I (947)\n",
      "Bow Drill with Removed Tip (1423)\n",
      "Deep Tilled Row - groundOnly (213)\n",
      "Snow Wall - Arctic Only - +biomeReq4 +horizontalSnow (3268)\n",
      "Partial Adobe Wall - +horizontalPartAdobe (158)\n",
      "Adobe Kiln (238)\n",
      "Wet Die in Wooden Tongs (2111)\n",
      "Pine Wall - +horizontalPine (112)\n",
      "Baited Snared Rabbit Hole -hiding (3177)\n",
      "Baited Snared Rabbit Family Hole -hiding (3176)\n",
      "Pine Door - Installed +horizontalDoorPine +cornerDoorPine (115)\n",
      "Kindling Pile (1599)\n",
      "Wood-filled Adobe Oven (247)\n",
      "=== ITERATION 8 ===\n"
     ]
    },
    {
     "name": "stdout",
     "output_type": "stream",
     "text": [
      "Paving Direction East (4455)\n",
      "Wormless Soil Pit (788)\n",
      "Shaky Property Gate - +tempOwned +causeAutoOrientH (2983)\n",
      "Open Pine Door - installed +horizontalOpenDoorPine +cornerOpenDoorPine (119)\n",
      "Rabbit Family Hole -peeking1 (193)\n",
      "Snowman Remnants - 4 (2423)\n",
      "Property Fence - +horizontalD (2959)\n",
      "Property Gate - +owned +causeAutoOrientH (2962)\n",
      "Melting Snowman - 3 (2734)\n",
      "Baited Snared Rabbit Hole -peeking1 &single (169)\n",
      "Baited Snared Rabbit Family Hole -peeking1 (172)\n",
      "Free-standing Corner Wall Stakes (110)\n",
      "Dry Planted Carrots (396)\n",
      "Smoldering Tinder (78)\n",
      "Dry Planted Wheat (228)\n",
      "Dry Planted Wild Onion (2845)\n",
      "Dry Planted Corn Seed (1109)\n",
      "Dry Planted Beans (1161)\n",
      "Dry Planted Dill Seeds (4244)\n",
      "Dry Planted Wild Garlic (4253)\n",
      "Dry Planted Potatoes (1145)\n",
      "Hyphen (948)\n",
      "Dry Planted Cabbage Seed (1207)\n",
      "Dry Planted Squash Seeds (1192)\n",
      "Dry Planted Milkweed Seed (214)\n",
      "Snow Wall - Arctic Only - +biomeReq4 +verticalSnow (3267)\n",
      "Dry Planted Gooseberry Seed -fertile (216)\n",
      "Partial Adobe Wall - +verticalPartAdobe (159)\n",
      "Adobe Wall - +horizontalAdobe (155)\n",
      "Dry Planted Pepper Seed (2839)\n",
      "Marked Pine Wall - +causeAutoOrient (3310)\n",
      "Pine Wall - +verticalPine (113)\n",
      "Dry Sapling Cutting (937)\n",
      "Dry Planted Cucumber Seeds (4225)\n",
      "Pine Door - installed vert +verticalDoorPine (116)\n",
      "Wood-filled Adobe Kiln (281)\n",
      "Pile of Worms (3914)\n",
      "Letter W (967)\n",
      "Letter K (965)\n",
      "Letter T (958)\n",
      "=== ITERATION 9 ===\n",
      "Property Gate - +owned +causeAutoOrientH (2963)\n",
      "Open Pine Door - installed vert +verticalOpenDoorPine (117)\n",
      "Wormless Soil Pit with Mushroom (838)\n",
      "Rabbit Family Hole -peeking2 (194)\n",
      "Rickety Property Fence - +horizontalK (2976)\n",
      "Snowman Remnants - 3 (2422)\n",
      "Snared Rabbit Hole -peeking2 &single (168)\n",
      "Baited Snared Rabbit Family Hole -peeking2 (171)\n",
      "Burning Tinder (80)\n",
      "Cracking Adobe Wall (891)\n",
      "Renewed Property Fence - +tapoutTrigger &1 &1 &1 &1 +horizontalH (3093)\n",
      "Pit Stakes (622)\n",
      "Letter X (974)\n",
      "Letter N (968)\n",
      "Follower Gate - +followerOwned +causeAutoOrientH +blocksNonFollower +blocksMoving +badgePos50 &39 +autoDefaultTrans +leaderInherit (4729)\n",
      "Snow Wall - Arctic Only - +biomeReq4 +cornerSnow (3266)\n",
      "Partial Adobe Wall - +cornerPartAdobe (157)\n",
      "Adobe Wall - +verticalAdobe (156)\n",
      "Marked Pine Wall - +causeAutoOrient (3309)\n",
      "Pine Wall - +cornerPine (111)\n",
      "Letter A (956)\n",
      "Letter L (966)\n",
      "Letter F (959)\n",
      "=== ITERATION 10 ===\n",
      "Psilocybe Mushroom - remapStart (837)\n",
      "Follower Gate - manuallyOpened +followerOwned +causeAutoOrientH +badgePos-101 &-20 +leaderInherit (4733)\n",
      "Snared Rabbit -alive (174)\n",
      "Snared Family Rabbit -alive (175)\n",
      "Spent Tinder (79)\n",
      "Adobe Rubble - Hungry Work - +hungryWork10 (753)\n",
      "Cracking Adobe Wall (890)\n",
      "Fixed Adobe Wall (892)\n",
      "Letter Y (975)\n",
      "Letter H (962)\n",
      "Adobe Wall - +cornerAdobe (154)\n",
      "Marked Pine Wall - +causeAutoOrient (3308)\n",
      "Fire (82)\n",
      "Letter M (969)\n",
      "Letter Z (976)\n",
      "Letter E (960)\n",
      "=== ITERATION 11 ===\n",
      "Snared Rabbit -dead (176)\n",
      "Snared Rabbit -dead &family (177)\n",
      "Cracking Adobe Wall (889)\n",
      "Hot Coals - +tool (85)\n",
      "Fixed Adobe Wall (893)\n",
      "Firebrand (248)\n",
      "Large Fast Fire (83)\n",
      "Pile of Psilocybe Mushrooms (4030)\n",
      "=== ITERATION 12 ===\n",
      "Dead Rabbit (180)\n",
      "Rabbit Hole with Used Snare -single (178)\n",
      "Rabbit Hole with Used Snare -family (179)\n",
      "Ashes (86)\n",
      "Hot Flat Rock (1280)\n",
      "Fixed Adobe Wall (894)\n",
      "Burning Glasswort (2560)\n",
      "Burning Adobe Oven (249)\n",
      "Firing Adobe Kiln - +tool (282)\n",
      "=== ITERATION 13 ===\n",
      "Abandoned Rabbit Hole (195)\n",
      "Rabbit Hole -growing (196)\n",
      "Cool Flat Rock (1284)\n",
      "Glasswort Ashes (2561)\n",
      "Hot Adobe Oven - +tool (250)\n",
      "Cooked Omelette (1281)\n",
      "Skinned Rabbit (182)\n",
      "Firing Adobe Kiln Sealed (293)\n",
      "Wooden Tongs with Fired Bowl (283)\n",
      "Fired Plate in Wooden Tongs (241)\n",
      "Wooden Tongs with Fired Crock (1219)\n",
      "Fired Nozzle in Wooden Tongs (296)\n",
      "Fired Die in Wooden Tongs (2112)\n",
      "=== ITERATION 14 ===\n",
      "Rabbit Fur (183)\n",
      "Skinned Rabbit (181)\n",
      "Burned Omelette (1283)\n",
      "Sealed Adobe Kiln (294)\n",
      "Clay Bowl - empty (235)\n",
      "Clay Plate (236)\n",
      "Clay Crock (1217)\n",
      "Clay Nozzle (286)\n",
      "Blank Die (2113)\n",
      "=== ITERATION 15 ===\n",
      "Adobe Kiln with Charcoal (299)\n",
      "Bowl of Water - +contFoodDish (382)\n",
      "Bowl of Limestone (675)\n",
      "Bowl of Salt Water - +contLabDish (1226)\n",
      "Cold Bowl - just inserted (1061)\n",
      "Crock of Snow (2789)\n",
      "Dry Pond with Egg (4127)\n",
      "Bowl of Lapis Lazuli (1892)\n",
      "Bowl of Cinnabar (1893)\n",
      "Bowl of Sulfur (2138)\n",
      "Sulfur-Free Hot Spring (2173)\n",
      "Bowl of Palm Kernels (2146)\n",
      "Empty Oil Palm (2152)\n",
      "Crucible with Malachite (2513)\n",
      "Crucible with Calamine (2516)\n",
      "Bowl of Sand (2570)\n",
      "Sand Pit (2568)\n",
      "Crucible with Electrum Ore (3002)\n",
      "Bowl of Gooseberries - +yum31 (253)\n",
      "Bowl of Carrot Seeds (2745)\n",
      "Bowl of Dry Beans (1176)\n",
      "Bowl of Goose Eggs (3904)\n",
      "Dry Pond (512)\n",
      "Bowl of Tomato Seed Pulp - +contFoodDish (2825)\n",
      "Bowl of Dill Seeds (4243)\n",
      "Bowl with Bay Leaf (4330)\n",
      "Thread in Clay Bowl (2583)\n",
      "Bowl of Carrot (547)\n",
      "Four Pieces of Cut Rabbit Fur (184)\n",
      "Skewered Rabbit (185)\n",
      "Bowl of Cabbage Seeds (1312)\n",
      "Bowl of Squash Seeds (1313)\n",
      "Bowl of Milkweed Seeds (2744)\n",
      "Bowl of Gooseberry Seeds (2743)\n",
      "Bowl of Wheat (245)\n",
      "Bowl of Pepper Seeds (2838)\n",
      "Bowl of Cucumber Seeds (4234)\n",
      "Bowl of Soil (1137)\n",
      "Fertile Soil (1138)\n",
      "Bowl of Worms (3924)\n",
      "Bowl of Glasswort Ashes (2562)\n",
      "Omelette - +contFoodDish (1285)\n",
      "Stack of Clay Bowls (1603)\n",
      "Stack of Clay Plates (1602)\n",
      "Two Rabbit Furs (204)\n",
      "Bowl of Rabbit (254)\n",
      "Stack of Clay Crocks (3984)\n",
      "=== ITERATION 16 ===\n",
      "Dumped Palm Kernels - just dumped (4125)\n",
      "Carrot (402)\n",
      "Two Pieces of Cut Rabbit Fur (207)\n",
      "Threshed Wheat (4069)\n",
      "Cold Bowl (1021)\n",
      "Small Sand Pile (2571)\n",
      "Pond (511)\n",
      "Bowl of Fermented Tomato Seed Pulp - +contFoodDish (2826)\n",
      "Glasswort Ashes - dumped (4054)\n",
      "Bowl of Ultramarine Pigment - justMade (3691)\n",
      "Bowl of Vermilion Pigment - justMade (3689)\n",
      "Dry Beans with Chaff (1177)\n",
      "Bowl of Flour (251)\n",
      "Ice Hole - water dumped (1230)\n",
      "Rubber Tree with Fertile Soil (4285)\n",
      "Bowl of Niter Solution - just made +contLabDish (3726)\n",
      "Watered Wild Gooseberry Bush (3946)\n",
      "Bowl of Mashed Carrot (548)\n",
      "Bowl of Minced Rabbit (255)\n",
      "Bowl of Gooseberries and Carrot (258)\n",
      "Bowl of Rabbit and Carrot (262)\n",
      "Shallow Tilled Row - groundOnly +biomeBlock4 (1136)\n",
      "Basket of Charcoal (298)\n",
      "Limestone Bowl in Wooden Tongs (678)\n",
      "Wet Planted Carrots (399)\n",
      "Wet Planted Wheat (229)\n",
      "Wet Planted Wild Onion (2846)\n",
      "Wet Planted Corn Seed (1110)\n",
      "Wet Planted Beans (1162)\n",
      "Wet Planted Dill Seeds (4245)\n",
      "Wet Planted Wild Garlic (4254)\n",
      "Wet Planted Potatoes (1142)\n",
      "Wet Planted Squash Seeds (1190)\n",
      "Wet Planted Milkweed Seed (215)\n",
      "Wet Planted Gooseberry Seed -fertile (217)\n",
      "Wet Planted Pepper Seed (2840)\n",
      "Wet Sapling Cutting (938)\n",
      "Wet Planted Cucumber Seeds (4226)\n",
      "Two Hunks of Adobe (3884)\n",
      "Burnt Rabbit (187)\n",
      "Simmering Water (730)\n",
      "Simmering Salt Water (1231)\n",
      "Cooked Rabbit (186)\n",
      "Bowl of Roasted Palm Kernels (2147)\n",
      "Three Rabbit Furs (205)\n",
      "Bowl of Gooseberries And Rabbit (256)\n",
      "Empty Sand Pit (2569)\n",
      "Unforged Sealed Electrum Crucible (3003)\n",
      "Thread in Sealed Crucible (2584)\n",
      "Bowl of Soaking Glasswort Ashes - +contLabDish (2563)\n",
      "=== ITERATION 17 ===\n",
      "Burnt Rabbit (416)\n",
      "Dumped Palm Kernels (2717)\n",
      "Bowl of Ultramarine Pigment (1894)\n",
      "Bowl of Vermilion Pigment (1895)\n",
      "Bowl of Niter Solution - +contLabDish (2541)\n",
      "Big Charcoal Pile -3 (300)\n",
      "Carrot Sprouts (398)\n",
      "Wheat Sprouts (230)\n",
      "Sprouted Second-Year Onion (2847)\n",
      "Corn Sprout (1111)\n",
      "Bean Sprouts (1163)\n",
      "Dill Sprouts (4246)\n",
      "Mature Garlic (4255)\n",
      "Potato Plants (1143)\n",
      "Squash Sprout (1191)\n",
      "Milkweed Sprout (218)\n",
      "Gooseberry Sprout (219)\n",
      "Pepper Sprout (2841)\n",
      "Domestic Sapling (939)\n",
      "Cucumber Sprout (4228)\n",
      "Ashes with Bowl (732)\n",
      "Dried Salt (1232)\n",
      "Cooked Rabbit (197)\n",
      "Bowl of Crushed Palm Kernels - just made (3747)\n",
      "Simmering Dye Mordant (731)\n",
      "Dry Planted Peppercorn (4286)\n",
      "Blanched Peppercorn Cluster (4276)\n",
      "Bowl of Mashed Berries and Carrot (260)\n",
      "Bowl of Mashed Rabbit and Carrot (263)\n",
      "Bowl of Mashed Berries and Rabbit (261)\n",
      "Simmering Indigo Dye (733)\n",
      "Simmering Rose Madder Dye (734)\n",
      "Bowl of Gooseberries & Rabbit & and Carrot (257)\n",
      "Unforged Electrum Crucible in Wooden Tongs (3004)\n",
      "Thread Crucible in Wooden Tongs (2585)\n",
      "Bendy Letter Stock (950)\n",
      "Blank Snowman with Charcoal (2417)\n",
      "Four Rabbit Furs (206)\n",
      "Winnowed Dry Beans (1178)\n",
      "Bowl of Soaking Tomato Seed Pulp - +contFoodDish (2827)\n",
      "Bowl of Dough (252)\n",
      "Ice Hole - water dumped 2 (1252)\n",
      "Sand Pile (3895)\n",
      "Pile of Threshed Wheat (4070)\n",
      "Carrot Pile (2742)\n",
      "=== ITERATION 18 ===\n",
      "Charcoal -1 (302)\n",
      "Small Charcoal Pile -2 (301)\n",
      "Garlic Bulb (4256)\n",
      "Bowl of Salt (1234)\n",
      "Carrot Row (400)\n",
      "Unripe Wheat (243)\n",
      "Blooming Onion (2848)\n",
      "Corn Plant (1112)\n",
      "Green Bean Plants (1173)\n",
      "Fresh Dill Plant (4247)\n",
      "Growing Squash Plant (1197)\n",
      "Vigorous Domestic Gooseberry Bush (1134)\n",
      "Pepper Plant (2842)\n",
      "Ashes with Bowl of Salt (1233)\n",
      "Rabbit Bones (190)\n",
      "Bowl of Crushed Palm Kernels (2148)\n",
      "Dried Peppercorn Cluster (4277)\n",
      "Melting Snowman - 2 (2733)\n",
      "Bowl of Leavened Dough  (1466)\n",
      "Flat Rock with Wheat Dough (1286)\n",
      "Cut Domestic Sapling Skewer (940)\n",
      "Bowl of Mashed Berries & Rabbit & and Carrot (259)\n",
      "Domestic Sapling with Cutting (941)\n",
      "Staked Cucumber Sprout (4229)\n",
      "Dry Compost Pile (623)\n",
      "Bowl of Dissolved Niter with Ashes - +contLabDish (2542)\n",
      "Filament Crucible in Wooden Tongs (2586)\n",
      "Letter U (951)\n",
      "Clay Bowl -bender (1006)\n",
      "Bowl of Cleaned Dried Beans (1179)\n",
      "Bowl of Tomato Seeds (2828)\n",
      "Raw Pie Crust (264)\n",
      "Wet Planted Peppercorn (4288)\n",
      "Palm Kernel Pile (4103)\n",
      "Mounded Potato Plants (1144)\n",
      "Snowman (2418)\n",
      "Four Full and Two Cut Rabbit Furs (208)\n",
      "Huge Charcoal Pile (4102)\n",
      "=== ITERATION 19 ===\n"
     ]
    },
    {
     "name": "stdout",
     "output_type": "stream",
     "text": [
      "Onion Seeds (2849)\n",
      "Ear of Corn (1113)\n",
      "Rabbit Bone (189)\n",
      "Dumped Crushed Palm Kernels - just Dumped (4124)\n",
      "Seeding Carrots (401)\n",
      "Dry Bean Plants (1172)\n",
      "Seeding Dill Plant (4248)\n",
      "Blooming Squash Plant (1195)\n",
      "Domestic Gooseberry Bush (391)\n",
      "Fruiting Pepper Plant (2843)\n",
      "Snowman Remnants - 2 (2421)\n",
      "Growing Cucumber Plant (4230)\n",
      "Filament in Sealed Crucible (2587)\n",
      "Pepper Vine Sprout (4289)\n",
      "Mature Potato Plants (1146)\n",
      "Melting Snowman (2410)\n",
      "Cut Fresh Dill (4250)\n",
      "Flat Rock with Wheat Tortilla - just made (1310)\n",
      "Charcoal Pencil - +tool (1617)\n",
      "Letter J (963)\n",
      "Dry Planted Tomato Seed (2829)\n",
      "Crucible with Charcoal (318)\n",
      "Bowl with Garlic Bulb (4260)\n",
      "Bowl of Green Beans (1175)\n",
      "Bowl of Loose Peppercorns - just harvested (4278)\n",
      "Flat Rock - dough removed (4148)\n",
      "Letter C (952)\n",
      "Leavened Dough on Clay Plate - +contFoodDish (1468)\n",
      "Bowl of Soaking Palm Kernels - +contFoodDish (2150)\n",
      "Wet Compost Pile (625)\n",
      "Bowl of Soaking Beans - +contFoodDish (1180)\n",
      "Crock of Salted Snow (2790)\n",
      "Crucible with Malachite and Charcoal (2505)\n",
      "Crucible with Calamine and Charcoal (2517)\n",
      "Raw Berry Pie (265)\n",
      "Raw Carrot Pie (268)\n",
      "Raw Rabbit Pie (270)\n",
      "Raw Berry Carrot Pie (266)\n",
      "Raw Carrot Rabbit Pie (269)\n",
      "Raw Berry Rabbit Pie (271)\n",
      "Garlic Bulb Pile (4257)\n",
      "Raw Berry Carrot Rabbit Pie (267)\n",
      "=== ITERATION 20 ===\n",
      "Empty Domestic Gooseberry Bush (1135)\n",
      "Hot Pepper - +emotEat_29_10 (2844)\n",
      "Carbon Filament in Clay Bowl (2588)\n",
      "Fresh Dill (4249)\n",
      "Raw Wheat Tortilla (1289)\n",
      "Dumped Crushed Palm Kernels (2718)\n",
      "Ripe Squash Plant (1196)\n",
      "Ripe Pumpkin Plant (3220)\n",
      "Blooming Cucumber Plant (4231)\n",
      "Rubber Tree with Growing Pepper Vine (4290)\n",
      "Snowman Remnants (2420)\n",
      "Bowl of Loose Peppercorns (4284)\n",
      "Bowl of Charcoal Powder (3021)\n",
      "Bowl of Garlic Cloves - just peeled (4261)\n",
      "Shucked Ear of Corn (1114)\n",
      "Letter O (953)\n",
      "Bone Needle (191)\n",
      "Letter D (957)\n",
      "Dry Planted Onions (2851)\n",
      "Letter G (961)\n",
      "Bowl of Cooked Beans (1292)\n",
      "Bowl of Separating Palm Oil - +contFoodDish (2149)\n",
      "Cooked Berry Pie (272)\n",
      "Cooked Carrot Pie (273)\n",
      "Cooked Rabbit Pie (274)\n",
      "Cooked Berry Carrot Pie (275)\n",
      "Cooked Rabbit Carrot Pie (277)\n",
      "Cooked Berry Rabbit Pie (276)\n",
      "Cooked Berry Carrot Rabbit Pie (278)\n",
      "Bowl of Onion Seeds (2850)\n",
      "Scrap Bowl (3076)\n",
      "Bowl of Soaked Beans - +contFoodDish (1181)\n",
      "Unforged Sealed Copper Crucible (2506)\n",
      "Unforged Sealed Zinc Crucible (2522)\n",
      "Die (1956)\n",
      "Wet Planted Tomato Seed (2831)\n",
      "Pile of Corn Ears (3903)\n",
      "Letter S (973)\n",
      "=== ITERATION 21 ===\n",
      "Carbon Filament (2589)\n",
      "Languishing Domestic Gooseberry Bush (392)\n",
      "Dirty Raw Wheat Tortilla (1362)\n",
      "Ripe Cucumber Plant (4232)\n",
      "Bowl of Garlic Cloves (4259)\n",
      "Dried Ear of Corn (1115)\n",
      "Tomato Sprout (2832)\n",
      "Full Bowl of Ground Pepper - just ground (4317)\n",
      "Flat Rock with Wheat Tortilla (1288)\n",
      "Cut Hubbard Squash (1198)\n",
      "Cut Pumpkin (3222)\n",
      "Clay Bowl - scrap mark erased (3077)\n",
      "Needle and Thread - +toolSewing (192)\n",
      "Unforged Copper Crucible in Wooden Tongs (2510)\n",
      "Unforged Zinc Crucible in Wooden Tongs (2520)\n",
      "Letter P (970)\n",
      "Letter Q (972)\n",
      "Flash Fire (3029)\n",
      "Cooked Wheat Tortilla - just cooked (1295)\n",
      "Bowl of Palm Oil - +contFoodDish (2151)\n",
      "Die in Bowl (1994)\n",
      "Wet Planted Onions (2852)\n",
      "Dry Rub Bowl with Hot Pepper (4331)\n",
      "Crushed Palm Kernel Pile (4104)\n",
      "Pile of Hot Peppers (3909)\n",
      "Pile of Shucked Corn (3901)\n",
      "Letter B (955)\n",
      "Pile of Bone Needles (4187)\n",
      "Double S (1073)\n",
      "=== ITERATION 22 ===\n",
      "Pickling Cucumber (4233)\n",
      "Hardened Row with Stake (2837)\n",
      "Garlic Clove (4258)\n",
      "Hubbard Squash (1199)\n",
      "Pumpkin (3219)\n",
      "Dying Gooseberry Bush (389)\n",
      "Full Bowl of Ground Pepper (4316)\n",
      "Cooked Wheat Tortilla (1290)\n",
      "Rolling Die (1965)\n",
      "Onion Sprouts (2853)\n",
      "Pile of Dried Corn (3902)\n",
      "Fractionated Palm Oil (2439)\n",
      "Dried Ear of Corn with Kernel (1118)\n",
      "Staked Tomato Sprout (2833)\n",
      "Staked Gooseberry Bush (799)\n",
      "Straw Hat (1117)\n",
      "Sealskin Coat (712)\n",
      "Dry Planted Garlic (4262)\n",
      "Letter R (971)\n",
      "Simmering Palm Oil (2867)\n",
      "Rabbit Fur Loincloth (200)\n",
      "Bowl with Corn Cob (1120)\n",
      "Stack of Wheat Tortillas - +contFoodDish (1291)\n",
      "Empty Water Pouch (209)\n",
      "Dry Domestic Gooseberry Bush (393)\n",
      "Rabbit Fur Hat (199)\n",
      "Rabbit Fur Shoe (203)\n",
      "Rabbit Fur Shawl (201)\n",
      "Rabbit Fur Coat (202)\n",
      "Dry Rub Bowl with Salt (4332)\n",
      "Backpack (198)\n",
      "Dice in Bowl (1993)\n",
      "=== ITERATION 23 ===\n",
      "Corn Kernel (1119)\n",
      "Dead Gooseberry Bush (390)\n",
      "Die Roll of One (1958)\n",
      "Die Roll of Two (1959)\n",
      "Die Roll of Three (1960)\n",
      "Die Roll of Four (1961)\n",
      "Die Roll of Five (1962)\n",
      "Die Roll of Six (1963)\n",
      "Ripe Onions (2854)\n",
      "Tomato Plant (2834)\n",
      "Rag Hat (864)\n",
      "Rag Shirt (865)\n",
      "Full Water Pouch (210)\n",
      "Rag Shoe (869)\n",
      "Rolling Dice (1968)\n",
      "Soil-filled Backpack (212)\n",
      "Full Salt Water Pouch (1228)\n",
      "Bowl with Corn Kernels (1247)\n",
      "Empty Arrow Quiver (874)\n",
      "Bellows Without Nozzle (287)\n",
      "Backpack with Bow (4147)\n",
      "Rabbit Bait Bag (3197)\n",
      "Popping Corn (1122)\n",
      "Bowl of Palm Wax (2440)\n",
      "Bowl of Palm Olein - +contLabDish (2441)\n",
      "Garlic Clove on Plate - +contFoodDish (4347)\n",
      "Hubbard Squash On Plate (1200)\n",
      "Pumpkin On Plate (3364)\n",
      "Wet Planted Garlic (4263)\n",
      "Stack of Bean Burritos - just Made +contFoodDish (1296)\n",
      "Pile of Pickling Cucumbers (4238)\n",
      "Stack of Hubbard Squash (3982)\n",
      "Stack of Pumpkin (3981)\n",
      "Empty Water Pouch Pile (4093)\n",
      "=== ITERATION 24 ===\n",
      "Onion (2855)\n",
      "Dumped Corn Kernels - just Dumped (4123)\n",
      "Fruiting Tomato Plant (2835)\n",
      "Dice Roll of Two - 1 1 (1969)\n",
      "Dice Roll of Three - 1 2 (1972)\n",
      "Dice Roll of Four - 1 3 (1970)\n",
      "Dice Roll of Five - 1 4 (1971)\n",
      "Dice Roll of Six - 1 5 (1973)\n",
      "Dice Roll of Seven - 1 6 (1974)\n",
      "Dice Roll of Four - 2 2 (1977)\n",
      "Dice Roll of Five - 2 3 (1978)\n",
      "Dice Roll of Six - 2 4 (1979)\n",
      "Dice Roll of Seven - 2 5 (1980)\n",
      "Dice Roll of Eight - 2 6 (1981)\n",
      "Dice Roll of Six - 3 3 (1982)\n",
      "Dice Roll of Seven - 3 4 (1983)\n",
      "Dice Roll of Eight - 3 5 (1984)\n",
      "Dice Roll of Nine - 3 6 (1985)\n",
      "Dice Roll of Eight - 4 4 (1988)\n",
      "Dice Roll of Nine - 4 5 (1986)\n",
      "Dice Roll of Ten - 4 6 (1987)\n",
      "Dice Roll of Ten - 5 5 (1989)\n",
      "Dice Roll of Eleven - 5 6 (1990)\n",
      "Dice Roll of Twelve - 6 6 (1991)\n",
      "Popcorn (1121)\n",
      "Garlic Sprouts (4264)\n",
      "Stack of Bean Burritos - +contFoodDish (1293)\n",
      "Empty Arrow Quiver with Bow (4149)\n",
      "Plate of Squash Chunks with Seeds - +contFoodDish (1201)\n",
      "Plate of Pumpkin Chunks with Seeds - +contFoodDish (3362)\n",
      "Molten Palm Wax (2442)\n",
      "Bowl of Corn Seeds (2121)\n",
      "Bellows (288)\n",
      "Full Water Pouch Pile (4094)\n",
      "Full Salt Water Pouch Pile (4095)\n",
      "=== ITERATION 25 ===\n",
      "Tomato (2836)\n",
      "Bean Burrito (1294)\n",
      "Plate of Squash Chunks - +contFoodDish (1202)\n",
      "Pumpkin Seeds (3226)\n",
      "Plate of Pumpkin Chunks - +contFoodDish (3363)\n",
      "Dumped Corn Kernels (4106)\n",
      "Mature Garlic (4265)\n",
      "Hot Partial Dipped Candle (2444)\n",
      "Dry Planted Onion (2856)\n",
      "Forge (303)\n",
      "Onion on Plate - +contFoodDish (2858)\n",
      "Crock with Squash (1243)\n",
      "Crock of Raw Pumpkin (3365)\n",
      "Forge with Charcoal (305)\n",
      "Partial Garland - 1 (2434)\n",
      "Pile of Onions (3900)\n",
      "=== ITERATION 26 ===\n",
      "Thin Partial Dipped Candle (2443)\n",
      "Partial Garland - 2 (2433)\n",
      "Dry Planted Pumpkin Seeds (3228)\n",
      "Firing Forge (304)\n",
      "Bowl of Pumpkin Seeds (3227)\n",
      "Tomato on Plate - +contFoodDish (2859)\n",
      "Wet Planted Onion (2857)\n",
      "Crock with Squash and Beans (1244)\n",
      "Corn Kernel Pile (4107)\n",
      "Pile of Tomatoes (3899)\n",
      "=== ITERATION 27 ===\n",
      "Hot Iron Bloom in Wooden Tongs (308)\n",
      "Wet Planted Pumpkin Seeds (3229)\n",
      "Quicklime Bowl in Wooden Tongs (679)\n",
      "Hot Electrum Crucible in Wooden Tongs (3006)\n",
      "Hot Copper Crucible in Wooden Tongs (2511)\n",
      "Hot Zinc Crucible in Wooden Tongs (2521)\n",
      "Dry Stew Pot (1245)\n",
      "Partial Garland - 3 (2432)\n",
      "Hot Partial Dipped Candle - 2 (2445)\n",
      "=== ITERATION 28 ===\n",
      "Cold Iron Bloom in Wooden Tongs (311)\n",
      "Hot Iron Bloom (307)\n",
      "Pumpkin Sprout (3230)\n",
      "Bowl of Quicklime (676)\n",
      "Cool Electrum Crucible in Wooden Tongs (3005)\n",
      "Hot Forged Electrum Crucible (3007)\n",
      "Cool Copper Crucible in Wooden Tongs (2509)\n",
      "Hot Forged Copper Crucible (2507)\n",
      "Cool Zinc Crucible in Wooden Tongs (2519)\n",
      "Hot Forged Zinc Crucible (2524)\n",
      "Thick Partial Dipped Candle (2446)\n",
      "Hot Iron Bloom on Flat Rock (309)\n",
      "Partial Garland - 4 (2431)\n",
      "Raw Stew Pot (1246)\n",
      "=== ITERATION 29 ===\n",
      "Cold Iron Bloom (310)\n",
      "Growing Pumpkin Plant (3231)\n",
      "Forged Electrum Crucible (3008)\n",
      "Forged Copper Crucible (2508)\n",
      "Forged Zinc Crucible (2523)\n",
      "Cold Iron Bloom on Flat Rock (312)\n",
      "Wrought Iron on Flat Rock (313)\n",
      "Cooking Three Sisters Stew (1248)\n",
      "Bowl of Plaster (677)\n",
      "Partial Garland - 5 (2430)\n",
      "Hot Candle (2447)\n",
      "=== ITERATION 30 ===\n",
      "Crucible with Electrum (3009)\n",
      "Crucible with Copper (2512)\n",
      "Crucible with Zinc (2525)\n",
      "Wrought Iron (314)\n",
      "Blooming Pumpkin Plant (3232)\n",
      "Three Sisters Stew (1249)\n",
      "Candle (2448)\n",
      "Partial Garland - 6 (2429)\n",
      "Empty Cistern -just built (670)\n",
      "Wooden Tongs -cool wrought iron (2218)\n",
      "Landing Strip - +land (2677)\n",
      "Plaster Wall - +causeAutoOrient (1885)\n",
      "Plaster Wall - +causeAutoOrient (1884)\n",
      "Plaster Wall - +causeAutoOrient (1883)\n",
      "Bowl of Slaked Lime - +contLabDish (1297)\n",
      "=== ITERATION 31 ===\n"
     ]
    },
    {
     "name": "stdout",
     "output_type": "stream",
     "text": [
      "Electrum Ingot (3010)\n",
      "Copper Ingot (2514)\n",
      "Zinc Ingot (2518)\n",
      "Crucible with Iron (317)\n",
      "Bowl of Stew (1251)\n",
      "Empty Stew Pot (1250)\n",
      "Crucible with Iron and Charcoal (316)\n",
      "Bowl of Corn in Lime Water - +contFoodDish (1298)\n",
      "Garland (2428)\n",
      "Hot Wrought Iron in Wooden Tongs (2217)\n",
      "Stack of Wrought Iron (2123)\n",
      "Candle Set (2449)\n",
      "=== ITERATION 32 ===\n",
      "Hot Wrought Iron (2216)\n",
      "Pine Tree with One Garland (2435)\n",
      "Hot Wrought Iron -flat rock (2202)\n",
      "Cool Zinc Ingot in Wooden Tongs (2526)\n",
      "Bowl of Limed Corn (1299)\n",
      "Unforged Sealed Steel Crucible (319)\n",
      "Crucible with Scrap Copper (3937)\n",
      "Stack of Electrum Ingots (3932)\n",
      "Stack of Copper Ingots (3890)\n",
      "Stack of Zinc Ingots (3898)\n",
      "=== ITERATION 33 ===\n",
      "Bowl of Masa Dough (1300)\n",
      "Unforged Steel Crucible in Wooden Tongs (320)\n",
      "Warm Zinc Ingot in Wooden Tongs (2527)\n",
      "Pine Tree with Two Garlands (2436)\n",
      "=== ITERATION 34 ===\n",
      "Flat Rock with Masa Dough (1287)\n",
      "Hot Steel Crucible in Wooden Tongs (323)\n",
      "Pine Tree with Three Garlands (2437)\n",
      "=== ITERATION 35 ===\n",
      "Cool Steel Crucible in Wooden Tongs (324)\n",
      "Hot Forged Steel Crucible (321)\n",
      "Flat Rock with Corn Tortilla - just made (1311)\n",
      "Pine Tree with Four Garlands (2438)\n",
      "=== ITERATION 36 ===\n",
      "Raw Corn Tortilla (1302)\n",
      "Forged Steel Crucible (322)\n",
      "Pine Tree with Candles (2450)\n",
      "=== ITERATION 37 ===\n",
      "Crucible with Steel (325)\n",
      "Dirty Raw Corn Tortilla (1361)\n",
      "Flat Rock with Corn Tortilla (1301)\n",
      "Yule Tree (2452)\n",
      "Cooked Corn Tortilla - just cooked (1303)\n",
      "=== ITERATION 38 ===\n",
      "Steel Ingot (326)\n",
      "Yule Tree with Half Candles (2455)\n",
      "Cooked Corn Tortilla (1304)\n",
      "Stack of Corn Tortillas - +contFoodDish (1305)\n",
      "=== ITERATION 39 ===\n",
      "Spent Yule Tree (2454)\n",
      "Wooden Tongs -cool steel ingot (327)\n",
      "Corn Tortilla in Bowl (2865)\n",
      "Stack of Bean Tacos - just made +contFoodDish (1308)\n",
      "Stack of Steel Ingots (1837)\n",
      "=== ITERATION 40 ===\n",
      "Pine Tree with Male Cardinal (2460)\n",
      "Stack of Bean Tacos - +contFoodDish (1307)\n",
      "Hot steel Ingot in Wooden Tongs (329)\n",
      "=== ITERATION 41 ===\n",
      "Bean Taco (1309)\n",
      "Pine Tree with Cardinals (2461)\n",
      "Hot Steel Ingot (328)\n",
      "Hot Steel Ingot on Flat Rock (330)\n",
      "=== ITERATION 42 ===\n",
      "Steel Ingot on Flat Rock (335)\n",
      "Hot Steel Hammer Head -flat rock (440)\n",
      "=== ITERATION 43 ===\n",
      "Steel Hammer Head on Flat Rock (442)\n",
      "=== ITERATION 44 ===\n",
      "Smithing Hammer Head (443)\n",
      "=== ITERATION 45 ===\n",
      "Smithing Hammer - +tool (441)\n",
      "Crucible with Scrap Steel (495)\n",
      "=== ITERATION 46 ===\n",
      "Broken Steel Tool (858)\n",
      "Copper Pot (2548)\n",
      "Hot Piston -flat rock (2204)\n",
      "Hot Steel Axe Head -flat rock (331)\n",
      "=== ITERATION 47 ===\n",
      "Crude Piston on Flat Rock (2209)\n",
      "Steel Axe Head on Flat Rock (332)\n",
      "Hot Cylinder -flat rock (2205)\n",
      "Hot Steel Hoe Blade -flat rock (854)\n",
      "Clump of Scrap Steel (930)\n",
      "=== ITERATION 48 ===\n",
      "Crude Piston (2212)\n",
      "Steel Axe Head (333)\n",
      "Crude Cylinder on Flat Rock (2210)\n",
      "Steel Hoe Blade on Flat Rock (856)\n",
      "Hot Fuel Tank -flat rock (2300)\n",
      "Hot Steel Chisel -flat rock (445)\n",
      "Scrap Steel Pile (4096)\n",
      "=== ITERATION 49 ===\n",
      "Crude Cylinder (2211)\n",
      "Steel Hoe Blade (855)\n",
      "Fuel Tank on Flat Rock (2301)\n",
      "Steel Chisel -flat rock (451)\n",
      "Crude Piston on Flat Rock - just placed (2251)\n",
      "Steel Axe - +toolChopping (334)\n",
      "Hot Boiler -flat rock (2206)\n",
      "Hot Steel Adze Head -flat rock (444)\n",
      "=== ITERATION 50 ===\n",
      "Empty Tank (2302)\n",
      "Steel Chisel (455)\n",
      "Boiler on Flat Rock (2208)\n",
      "Steel Adze Head -flat rock (453)\n",
      "Chopped Tree - Hungry Work -Small &wood2 +hungryWork10 (342)\n",
      "Chopped Tree - Hungry Work -big &log &wood2 +hungryWork10 (340)\n",
      "Chopped Softwood Tree -big &log &wood2 (3146)\n",
      "Steel Hoe - +toolHoe (857)\n",
      "Sugarcane Chunks (2768)\n",
      "Kindling with Stakes (3311)\n",
      "Hot Steel Froe Blade -flat rock (446)\n",
      "Double Cylinder (2335)\n",
      "=== ITERATION 51 ===\n",
      "Boiler (2213)\n",
      "Steel Adze Head (454)\n",
      "Firewood (344)\n",
      "Chopped Tree with Firewood -Small &wood1 (343)\n",
      "Chopped Tree with Firewood -big &log &wood1 (341)\n",
      "Broken Steel Tool - no wood (862)\n",
      "Steel Froe Blade -flat rock (449)\n",
      "Dry Planted Sugarcane - Jungle Only - +biomeReq6 (2770)\n",
      "Bowl of Sugarcane Chunks (2773)\n",
      "Adobe Wall - just deplastered (1888)\n",
      "Adobe Wall - just deplastered (1887)\n",
      "Adobe Wall - just deplastered (1886)\n",
      "Steel Ingot with Chisel (906)\n",
      "Hot Steel File Blank -flat rock (447)\n",
      "Empty Tank Stack (4101)\n",
      "=== ITERATION 52 ===\n",
      "Stump (338)\n",
      "Chopped Tree -big &log (339)\n",
      "Steel Froe Blade (456)\n",
      "Sugarcane Chunks -dumped (2798)\n",
      "Steel File Blank -flat rock (450)\n",
      "Bowl of Sugarcane Pulp (2774)\n",
      "Steel Adze - +tool (462)\n",
      "Large Slow Fire (346)\n",
      "Wet Planted Sugarcane (2771)\n",
      "Lock Blank with Chisel (905)\n",
      "Hot Steel Blade Blank -flat rock (448)\n",
      "Boiler with Cylinder (2227)\n",
      "Stack of Firewood (1316)\n",
      "=== ITERATION 53 ===\n",
      "Butt Log (345)\n",
      "Steel File Blank (457)\n",
      "Lock Blank (904)\n",
      "Sprouting Sugarcane (2772)\n",
      "Steel Blade Blank -flat rock (452)\n",
      "Steel Froe (463)\n",
      "Fence Kit (556)\n",
      "Hot Steel Blade in Wooden Tongs - pickedUp (4191)\n",
      "Snow Rubble - Hungry Work - +hungryWork10 (3271)\n",
      "Bowl of Soaking Sugarcane Pulp - +contFoodDish (2775)\n",
      "Hot Steel Shovel Head -flat rock (499)\n",
      "=== ITERATION 54 ===\n",
      "Steel Blade Blank (459)\n",
      "Hot Steel Blade in Wooden Tongs (1525)\n",
      "Hot Steel Blade Blank (4190)\n",
      "Steel Shovel Head -flat rock (500)\n",
      "Cool Steel Blade in Wooden Tongs (1526)\n",
      "Sugarcane Pulp in Simmering Water (2776)\n",
      "Hot Steel Mining Pick -flat rock (682)\n",
      "Mallet - +toolMallet (467)\n",
      "Stack of Logs (1317)\n",
      "Froe Wedged In Log (468)\n",
      "=== ITERATION 55 ===\n",
      "Steel Shovel Head (501)\n",
      "Cooked Sugarcane Pulp on Hot Coals (2778)\n",
      "Steel Mining Pick -flat rock (683)\n",
      "Broken Wood Tool (863)\n",
      "Hot Steel Blade Blank -flat rock setDown (4192)\n",
      "Stomper (1221)\n",
      "East Track End Stakes (1531)\n",
      "North Track End Stakes (1533)\n",
      "Newcomen Tower Stakes (2239)\n",
      "Hot Steel Spring in Wooden Tongs -justBent (1593)\n",
      "Spoon (2795)\n",
      "Steel Blade Blank with Chisel (907)\n",
      "Wooden Shoe (2886)\n",
      "Boards with Froe (469)\n",
      "=== ITERATION 56 ===\n",
      "Bowl of Cooked Sugarcane Pulp (2777)\n",
      "Steel Mining Pick Head (685)\n",
      "Boards (470)\n",
      "Ashes with Bowl of Cooked Sugarcane Pulp (2779)\n",
      "Hot Steel Spring in Wooden Tongs (1524)\n",
      "Shovel - +tool (502)\n",
      "Quenching Spring Steel (1528)\n",
      "Spoon of Ground Pepper (4315)\n",
      "Bowl of Ground Pepper (4314)\n",
      "Lock and Key Parts with Chisel (910)\n",
      "West Track End Stakes (1532)\n",
      "South Track End Stakes (1534)\n",
      "=== ITERATION 57 ===\n",
      "Lock and Key Parts (908)\n",
      "Soft Steel Spring in Wooden Tongs (1527)\n",
      "Quenched Spring Steel (1529)\n",
      "Dug Big Rock (503)\n",
      "Fleeing Rabbit (3566)\n",
      "Dug Barrel Cactus - Hungry Work - +hungryWork10 (3145)\n",
      "Dug Snow Bank - Hungry Work - +hungryWork10 (3144)\n",
      "Shallow Well - +famUse100 +tapoutTrigger &40 &40 &160 &160 (662)\n",
      "Steel Mining Pick - +tool (684)\n",
      "Dug Sapling Stump (497)\n",
      "Wooden Box (434)\n",
      "Table - +contFoodDish +useOnContained (3371)\n",
      "Smooth Ground (1938)\n",
      "Small Sign (977)\n",
      "Wooden Floor - groundOnly (485)\n",
      "Dug Gooseberry Bush - with Stakes (801)\n",
      "Auto-Orienting Fence Holes - groundOnly (553)\n",
      "Dug Fertile Soil Pit -partial (1106)\n",
      "Free-Standing North-South Fence Holes - groundOnly (554)\n",
      "Snow Door - +tapoutTrigger &1 &1 &2 &1 +horizontalDoorSnow +cornerDoorSnow (3269)\n",
      "Free-Standing Corner Fence Holes - groundOnly (555)\n",
      "Snow Door - +tapoutTrigger &1 &1 &1 &2 +verticalDoorSnow (3874)\n",
      "Small Trash Pit with Stakes - groundOnly (620)\n",
      "Bowl of Bagasse (2782)\n",
      "Bowl of Cane Juice - +contFoodDish (2780)\n",
      "Filled Pond - Hungry Work - +hungryWork10 (3143)\n",
      "Dug Potatoes (4144)\n",
      "Dug Stump (496)\n",
      "Track Kit (1530)\n",
      "Big Stack of Boards (880)\n",
      "=== ITERATION 58 ===\n",
      "Quenched Steel Spring (1542)\n",
      "Dug Gooseberry Bush (498)\n",
      "Small Trash Pit (617)\n",
      "Raw Potato (1147)\n",
      "Soft Steel Spring (1543)\n",
      "Fleeing Rabbit -dest - groundOnly (3568)\n",
      "Locked Small Sign - $10 (990)\n",
      "Filled Small Trash Pit with Stakes (621)\n",
      "Bagasse (3930)\n",
      "Bowl of Vinegar - +contFoodDish (2799)\n",
      "Gold Flakes -just mined (681)\n",
      "Sunken Iron Vein (3965)\n",
      "Eastward Gradient Dry Spring (3191)\n",
      "Wooden Sledge (471)\n",
      "Iron Vein - justDried (3954)\n",
      "Wooden Door (875)\n",
      "Quenched Steel Spring in Wooden Tongs (1539)\n",
      "Big Sign (978)\n",
      "Track Kit with Stakes (3059)\n",
      "Bendable East West Track (3833)\n",
      "North South Track (1513)\n",
      "Adobe Rubble - Hungry Work - 3 +hungryWork10 (4201)\n",
      "Simmering Cane Juice (2781)\n",
      "Dry Shallow Well (664)\n",
      "Table with Wheat Dough (4086)\n",
      "Empty Scrap Box (3966)\n",
      "Wheat Tortilla Table (4089)\n",
      "Stone Pile -rubble (784)\n",
      "Table with Masa Dough (4090)\n",
      "Corn Tortilla Table (4092)\n",
      "Loose Small Sign (979)\n",
      "Dug Big Rock with Chisel (508)\n",
      "Track Kit with Separated Blade (2126)\n",
      "Lock and Key Blank (911)\n",
      "Fence - +wall +horizontalFence (550)\n",
      "Fence - +verticalFence (549)\n",
      "Fence - +wall +cornerFence (551)\n",
      "East Track End (1515)\n",
      "North Track End (1511)\n",
      "Open Wooden Chest (986)\n",
      "West Track End (1514)\n",
      "South Track End (1510)\n",
      "Pile of Dug Stumps (4067)\n",
      "=== ITERATION 59 ===\n"
     ]
    },
    {
     "name": "stdout",
     "output_type": "stream",
     "text": [
      "Filled Small Trash Pit (618)\n",
      "Closed Wooden Chest (987)\n",
      "Iron Vein (3961)\n",
      "Locked Big Sign - $10 (991)\n",
      "Single Track Kit (1595)\n",
      "East West Track (1512)\n",
      "Dried Raw Sugar (2785)\n",
      "Loose Locked Small Sign - $10 (992)\n",
      "Wooden Box - erased (3969)\n",
      "Wheat Tortilla Table - justMade (4087)\n",
      "Corn Tortilla Table - justMade (4091)\n",
      "Fence Gate - justMade +wall +causeAutoOrientH +blocksMoving +autoDefaultTrans +tapoutTrigger &1 &1 &2 &1 (4143)\n",
      "Hitching Post - +wall justMade +causeAutoOrientH (4156)\n",
      "Hitched Wild Horse - +causeAutoOrientH (772)\n",
      "Wooden Door - Installed +horizontalDoorWood +cornerDoorWood (876)\n",
      "Shaky Property Fence Box - +horizontalG (4026)\n",
      "Wooden Door - installed vert +verticalDoorWood (877)\n",
      "Property Fence Box - +horizontalE (3148)\n",
      "Baked Potato (1148)\n",
      "Tempered Steel Spring in Wooden Tongs (1540)\n",
      "Bowl of Bagasse - just scooped (3931)\n",
      "Bowl of Gold Flakes (686)\n",
      "Potato on Plate - +contFoodDish (2871)\n",
      "Potato in Water (1152)\n",
      "Three Hunks of Adobe (4202)\n",
      "Wall Shelf - +causeAutoOrient +noBackAccess (3240)\n",
      "Bendable South East Track (3834)\n",
      "Box of Scrap Steel (3968)\n",
      "Loose Big Sign (980)\n",
      "Boards with Rope (4141)\n",
      "Wooden Box with Shaft (2741)\n",
      "Vibrating Steel Adze (3832)\n",
      "Partially Dug North South Track (3824)\n",
      "Partially Dug East Track End (3829)\n",
      "Partially Dug North Track End (3828)\n",
      "Wooden Box with Boards (2740)\n",
      "Partially Dug West Track End (3826)\n",
      "Partially Dug South Track End (3827)\n",
      "Split Big Rock -chisel (546)\n",
      "Loose Fence - +wall (1845)\n",
      "Loose Fence (1846)\n",
      "Loose Fence - +wall (1847)\n",
      "Filled Empty Trash Pit (782)\n",
      "Cross Track (1583)\n",
      "Pile of Raw Potatoes (3907)\n",
      "Westward Gradient Dry Spring (3205)\n",
      "=== ITERATION 60 ===\n",
      "Stripped Iron Vein (3944)\n",
      "Bowl of Raw Sugar (2783)\n",
      "Hitching Post - +wall +causeAutoOrientH (4154)\n",
      "Open Wooden Door - installed +horizontalDoorOpenWood +cornerDoorOpenWood (878)\n",
      "Open Wooden Door - installed vert +verticalDoorOpenWood (879)\n",
      "Gold Flakes -dumped (688)\n",
      "Split Big Rock (506)\n",
      "Ashes with Bowl of Raw Sugar (2784)\n",
      "Fence Gate - +wall +causeAutoOrientH +blocksMoving +autoDefaultTrans (1851)\n",
      "Rickety Property Fence Box - +horizontalL (3149)\n",
      "Steel Spring (1541)\n",
      "Sprouting Potato (1153)\n",
      "South East Track (3762)\n",
      "Loose Locked Big Sign - $10 (993)\n",
      "Renewed Property Fence Box - hor +tapoutTrigger &1 &1 &1 &1 +horizontalJ (3150)\n",
      "Hitched Tame Horse - +causeAutoOrientH (773)\n",
      "Bowl of Gold in Wooden Tongs (690)\n",
      "Stakes - track laid (3060)\n",
      "Bendable South West Track (3835)\n",
      "Big Stack of Boards with Rope (4142)\n",
      "Partially Dug East West Track (3823)\n",
      "Plaster Wall with Box - +causeAutoOrient (3244)\n",
      "Single Track Kit - just dug (3062)\n",
      "Partially Dug Cross Track (3825)\n",
      "Pile of Baked Potatoes (3908)\n",
      "Southward Gradient Dry Spring (3236)\n",
      "=== ITERATION 61 ===\n",
      "Split Big Rock -right (504)\n",
      "Split Big Rock -left (505)\n",
      "Open Fence Gate - +wall +blocksMoving +causeAutoOrientH (558)\n",
      "Sprouting Potato (1154)\n",
      "South West Track (3761)\n",
      "Plaster Wall - +causeAutoOrient shelfRemoved (3569)\n",
      "Dry Rub Bowl with Sugar (4333)\n",
      "Crock of Raw Pumpkin and Sugar (3366)\n",
      "Bowl with Gold Ingot in Wooden Tongs (691)\n",
      "Bendable North East Track (3836)\n",
      "Split Big Rock with Chisel (882)\n",
      "Partially Dug South East Track (3819)\n",
      "Fence with Dislodged Shaft - +wall (1852)\n",
      "Shallow Pit with Ore - Hungry Work - +hungryWork10 (3956)\n",
      "Bowl of Sweetened Vinegar - +contFoodDish (2876)\n",
      "Springy Wooden Door (2762)\n",
      "Fence - +wall droppedShaft +causeAutoOrientH (4153)\n",
      "Northward Gradient Dry Spring (3237)\n",
      "=== ITERATION 62 ===\n",
      "Shallow Iron Pit (3957)\n",
      "Bowl with Gold Ingot (687)\n",
      "North East Track (3760)\n",
      "Split Potato Sprouts (1155)\n",
      "Springy Wooden Door - Installed +horizontalSpringyDoor +cornerSpringyDoor +autoDefaultTrans +blocksMoving (2757)\n",
      "Springy Wooden Door - installed vert +verticalSpringyDoor +autoDefaultTrans +blocksMoving (2759)\n",
      "Cooking Sugared Pumpkin (3367)\n",
      "Bendable North West Track (3837)\n",
      "Split Big Rock with Chisel (811)\n",
      "Partially Dug South West Track (3820)\n",
      "Cut Stones with Chisel (883)\n",
      "Dry Rub Bowl with Ground Pepper (4334)\n",
      "North South Track with Springy Door - +autoDefaultTrans +blocksMoving (3801)\n",
      "Northeastward Gradient Dry Spring (4206)\n",
      "=== ITERATION 63 ===\n",
      "Gold Ingot (689)\n",
      "Springy Open Wooden Door - installed +autoDefaultTrans +horizontalOpenSpringyDoor +cornerOpenSpringyDoor (2758)\n",
      "Springy Open Wooden Door - installed vert +autoDefaultTrans +verticalOpenSpringyDoor (2760)\n",
      "Cut Stones (881)\n",
      "North South Track with Open Springy Door - +autoDefaultTrans (3802)\n",
      "Cooked Sugared Pumpkin (3368)\n",
      "North West Track (3759)\n",
      "Full Bowl of Dry Rub - just ground (4335)\n",
      "East West Track - just unbent (3800)\n",
      "Partially Dug North East Track (3821)\n",
      "Removed Springy Wooden Track Door (3803)\n",
      "Stone Block with Chisel (813)\n",
      "Deep Pit with Ore - Hungry Work - +hungryWork10 (3958)\n",
      "Southeastward Gradient Dry Spring (4205)\n",
      "=== ITERATION 64 ===\n",
      "Stone Block (812)\n",
      "Deep Iron Pit (943)\n",
      "Full Bowl of Dry Rub (4336)\n",
      "Full Monolith (792)\n",
      "Pumpkin Custard (3390)\n",
      "Stone Floor - groundOnly (884)\n",
      "Stone Wall - +horizontalStone (887)\n",
      "Stone Wall - +verticalStone (886)\n",
      "Stone Wall - +cornerStone (885)\n",
      "Stone with Endblock Marking (4053)\n",
      "Crown Blank (692)\n",
      "Partially Dug North West Track (3822)\n",
      "Gravel - just chopped (4436)\n",
      "Two Gold Ingots (810)\n",
      "Pile of Cut Stones (4074)\n",
      "Southwestward Gradient Dry Spring (4203)\n",
      "=== ITERATION 65 ===\n",
      "Ancient Stone Floor (898)\n",
      "Ancient Stone Wall - +causeAutoOrient (896)\n",
      "Ancient Stone Wall - +causeAutoOrient (897)\n",
      "Ancient Stone Wall - +causeAutoOrient (895)\n",
      "Gravel (4437)\n",
      "Crown Blank with Leaf (697)\n",
      "Half Bell Tower Base (814)\n",
      "Crown Blank with Carrot (698)\n",
      "Raw Pumpkin Pie - +contFoodDish (3361)\n",
      "Gold Ingot - just hammered (2130)\n",
      "Tower Bell (809)\n",
      "Endblock with Chisel (2488)\n",
      "Freestanding Newcomen Foundation - 1 (2250)\n",
      "Spoon of Dry Rub (4338)\n",
      "Bowl of Dry Rub (4337)\n",
      "Small Sign on Stone Wall - +causeAutoOrient +frontWall (981)\n",
      "Cut Stones - Hungry Work -just removed +hungryWork10 (1853)\n",
      "Big Sign on Stone Wall - +causeAutoOrient +frontWall (982)\n",
      "Stack of Stone Blocks (4073)\n",
      "Northwestward Gradient Dry Spring (4204)\n",
      "=== ITERATION 66 ===\n",
      "Empty Endblock (2469)\n",
      "Small Sign on Ancient Stone Wall - +causeAutoOrient +frontWall (983)\n",
      "Locked Small Sign on Stone Wall - $10 +causeAutoOrient +frontWall (994)\n",
      "Big Sign on Ancient Stone Wall - +causeAutoOrient +frontWall (984)\n",
      "Locked Big Sign on Stone Wall - $10 +causeAutoOrient +frontWall (995)\n",
      "Tower Bell with Rope (836)\n",
      "Cooked Pumpkin Pie - +contFoodDish (3369)\n",
      "Leaf Crown with Leaf (700)\n",
      "Carrot Crown with Carrot (701)\n",
      "Stone Wall with Boards - +causeAutoOrient (1860)\n",
      "Stone Wall with Board Stack - +causeAutoOrient (1859)\n",
      "Stone Block -justDug (843)\n",
      "Unstable Bell Tower Base -1.2 (815)\n",
      "Freestanding Newcomen Foundation - 2 (2249)\n",
      "=== ITERATION 67 ===\n",
      "Leaf Crown (694)\n",
      "Carrot Crown (693)\n",
      "Locked Small Sign on Ancient Stone Wall - $10 +causeAutoOrient +frontWall (996)\n",
      "Locked Big Sign on Ancient Stone Wall - $10 +causeAutoOrient +frontWall (997)\n",
      "Stable Bell Tower Base -1 (816)\n",
      "Freestanding Newcomen Foundation - 3 (2248)\n",
      "=== ITERATION 68 ===\n",
      "Crowned Wild Horse (794)\n",
      "Unstable Bell Tower Base -2.1 monumentStep (819)\n",
      "Freestanding Newcomen Tower (2247)\n",
      "=== ITERATION 69 ===\n",
      "Crowned Captured Horse (795)\n",
      "Newcomen Engine Tower (2246)\n",
      "Unstable Bell Tower Base -2.2 monumentStep (818)\n",
      "=== ITERATION 70 ===\n",
      "Crowned Wild Horse (796)\n",
      "Stable Bell Tower Base -2 (820)\n",
      "Oddity (793)\n",
      "=== ITERATION 71 ===\n",
      "Unstable Bell Tower Base -3.1 monumentStep (822)\n",
      "=== ITERATION 72 ===\n",
      "Unstable Bell Tower Base -3.2 monumentStep (823)\n",
      "=== ITERATION 73 ===\n",
      "Stable Bell Tower Base -3 (824)\n",
      "=== ITERATION 74 ===\n",
      "Unstable Bell Tower Base -4.1 monumentStep (825)\n",
      "=== ITERATION 75 ===\n",
      "Unstable Bell Tower Base -4.2 monumentStep (826)\n",
      "=== ITERATION 76 ===\n",
      "Stable Bell Tower Base -4 (827)\n",
      "=== ITERATION 77 ===\n",
      "Unstable Bell Tower Base -5.1 monumentStep (828)\n",
      "=== ITERATION 78 ===\n",
      "Unstable Bell Tower Base -5.2 monumentStep (829)\n",
      "=== ITERATION 79 ===\n",
      "Stable Bell Tower Base -5 (830)\n",
      "=== ITERATION 80 ===\n",
      "Unstable Bell Tower Base -6.1 monumentStep (831)\n",
      "=== ITERATION 81 ===\n",
      "Unstable Bell Tower Base -6.2 monumentStep (832)\n",
      "=== ITERATION 82 ===\n",
      "Stable Bell Tower Base -6 (833)\n",
      "=== ITERATION 83 ===\n",
      "Bell Tower Structure - monumentStep (834)\n",
      "=== ITERATION 84 ===\n",
      "Bell Tower - monumentDone (835)\n",
      "=== ITERATION 85 ===\n",
      "Bell Tower - ready to ring +normalOnly (842)\n",
      "=== ITERATION 86 ===\n",
      "Bell Tower - monumentCall (839)\n",
      "=== ITERATION 87 ===\n"
     ]
    },
    {
     "name": "stdout",
     "output_type": "stream",
     "text": [
      "Bell Tower - just rang (841)\n",
      "=== ITERATION 88 ===\n",
      "Stuck Bell Tower (840)\n",
      "=== ITERATION 89 ===\n",
      "(None found)\n"
     ]
    }
   ],
   "source": [
    "# Initialize values\n",
    "known_objs = [0, -1] + nat_objs\n",
    "tech_tree = {o: {'depth': 0, 'recipe': None} for o in known_objs}\n",
    "counter = 1\n",
    "n_new = len(known_objs)\n",
    "combos = [(o_i, o_j) \n",
    "          for i,o_i in enumerate(known_objs)\n",
    "          for j,o_j in enumerate(known_objs[i:])]\n",
    "\n",
    "# DEBUG: Time each iteration through tech tree\n",
    "iter_timer = []\n",
    "\n",
    "while n_new > 0:\n",
    "# while counter < 7: # DEBUG: Limit search\n",
    "    print('=== ITERATION %i ===' % counter)\n",
    "    start = time.time()\n",
    "    \n",
    "    # Search for viable combinations\n",
    "    product_list = [transitions[combinations(o_i, o_j)] for o_i, o_j in combos]\n",
    "    product_df = pd.concat(product_list)\n",
    "    \n",
    "    # Which combinations yield new products?\n",
    "    new_objs = []\n",
    "    for _, row in product_df.iterrows():\n",
    "        for e in ['newActor', 'newTarget']:\n",
    "            product = row[e]\n",
    "            \n",
    "            # New products are added to the tech tree\n",
    "            if product not in tech_tree.keys():\n",
    "                print('%s (%i)' % (obj_name(product), product))\n",
    "                new_objs.append(product)\n",
    "                tech_tree[product] = {}\n",
    "                tech_tree[product]['recipe'] = record_transition(row)\n",
    "                \n",
    "                # Calculate parents' depth\n",
    "                parents = row[['origActor', 'origTarget']].tolist()\n",
    "                parents_depth = max([tech_tree[p]['depth'] for p in parents])\n",
    "                \n",
    "                # Don't add difficulty for decay transitions\n",
    "                if -1 in parents:\n",
    "                    tech_tree[product]['depth'] = parents_depth\n",
    "                else:\n",
    "                    tech_tree[product]['depth'] = parents_depth + 1 \n",
    "                \n",
    "    # Prepare for next iteration\n",
    "    counter += 1\n",
    "    n_new = len(new_objs)\n",
    "    \n",
    "    # Update combinations in search space    \n",
    "    if n_new > 0:\n",
    "        combo_old = [(o_i, o_j) for o_i in known_objs for o_j in new_objs]\n",
    "        combo_new = [(o_i, o_j) for i,o_i in enumerate(new_objs) for j,o_j in enumerate(new_objs[i:])]\n",
    "        combos = combo_old + combo_new\n",
    "        known_objs += new_objs\n",
    "    else:\n",
    "        print('(None found)')\n",
    "    \n",
    "    iter_timer.append(time.time()-start)"
   ]
  },
  {
   "cell_type": "markdown",
   "id": "c2dcc493",
   "metadata": {},
   "source": [
    "Debug: Plot the time it takes to do each iteration through the Tech tree"
   ]
  },
  {
   "cell_type": "code",
   "execution_count": 10,
   "id": "dc31d218",
   "metadata": {},
   "outputs": [
    {
     "data": {
      "text/plain": [
       "Text(0, 0.5, 'Time per iteration (secs)')"
      ]
     },
     "execution_count": 10,
     "metadata": {},
     "output_type": "execute_result"
    },
    {
     "data": {
      "image/png": "[encoded data removed]",
      "text/plain": [
       "<Figure size 432x288 with 1 Axes>"
      ]
     },
     "metadata": {},
     "output_type": "display_data"
    }
   ],
   "source": [
    "plt.plot(iter_timer)\n",
    "plt.xlabel('Iteration #')\n",
    "plt.ylabel('Time per iteration (secs)')"
   ]
  },
  {
   "cell_type": "markdown",
   "id": "9bd299b0",
   "metadata": {},
   "source": [
    "## Save to database"
   ]
  },
  {
   "cell_type": "markdown",
   "id": "1c5ba154",
   "metadata": {},
   "source": [
    "Finally, we're going to format the Tech tree to upload it to the database!"
   ]
  },
  {
   "cell_type": "code",
   "execution_count": 11,
   "id": "25b3377e",
   "metadata": {},
   "outputs": [
    {
     "data": {
      "text/html": [
       "<div>\n",
       "<style scoped>\n",
       "    .dataframe tbody tr th:only-of-type {\n",
       "        vertical-align: middle;\n",
       "    }\n",
       "\n",
       "    .dataframe tbody tr th {\n",
       "        vertical-align: top;\n",
       "    }\n",
       "\n",
       "    .dataframe thead th {\n",
       "        text-align: right;\n",
       "    }\n",
       "</style>\n",
       "<table border=\"1\" class=\"dataframe\">\n",
       "  <thead>\n",
       "    <tr style=\"text-align: right;\">\n",
       "      <th></th>\n",
       "      <th>id</th>\n",
       "      <th>depth</th>\n",
       "      <th>recipe</th>\n",
       "    </tr>\n",
       "  </thead>\n",
       "  <tbody>\n",
       "    <tr>\n",
       "      <th>1413</th>\n",
       "      <td>835</td>\n",
       "      <td>68</td>\n",
       "      <td>{'origActor': 836, 'origTarget': 834, 'newActo...</td>\n",
       "    </tr>\n",
       "    <tr>\n",
       "      <th>1414</th>\n",
       "      <td>842</td>\n",
       "      <td>68</td>\n",
       "      <td>{'origActor': -1, 'origTarget': 835, 'newActor...</td>\n",
       "    </tr>\n",
       "    <tr>\n",
       "      <th>1415</th>\n",
       "      <td>839</td>\n",
       "      <td>69</td>\n",
       "      <td>{'origActor': 0, 'origTarget': 842, 'newActor'...</td>\n",
       "    </tr>\n",
       "    <tr>\n",
       "      <th>1416</th>\n",
       "      <td>841</td>\n",
       "      <td>69</td>\n",
       "      <td>{'origActor': -1, 'origTarget': 839, 'newActor...</td>\n",
       "    </tr>\n",
       "    <tr>\n",
       "      <th>1417</th>\n",
       "      <td>840</td>\n",
       "      <td>70</td>\n",
       "      <td>{'origActor': 0, 'origTarget': 841, 'newActor'...</td>\n",
       "    </tr>\n",
       "  </tbody>\n",
       "</table>\n",
       "</div>"
      ],
      "text/plain": [
       "       id  depth                                             recipe\n",
       "1413  835     68  {'origActor': 836, 'origTarget': 834, 'newActo...\n",
       "1414  842     68  {'origActor': -1, 'origTarget': 835, 'newActor...\n",
       "1415  839     69  {'origActor': 0, 'origTarget': 842, 'newActor'...\n",
       "1416  841     69  {'origActor': -1, 'origTarget': 839, 'newActor...\n",
       "1417  840     70  {'origActor': 0, 'origTarget': 841, 'newActor'..."
      ]
     },
     "execution_count": 11,
     "metadata": {},
     "output_type": "execute_result"
    }
   ],
   "source": [
    "tech_df = pd.DataFrame.from_dict(tech_tree, orient='index')\n",
    "tech_df = tech_df.rename_axis('id').reset_index()\n",
    "\n",
    "tech_df.tail()"
   ]
  },
  {
   "cell_type": "code",
   "execution_count": 12,
   "id": "e76a2171",
   "metadata": {},
   "outputs": [
    {
     "name": "stdout",
     "output_type": "stream",
     "text": [
      "1418 items in tech tree\n",
      "{'id': 830, 'depth': 64, 'recipe': {'origActor': -1, 'origTarget': 829, 'newActor': 0, 'newTarget': 830}}\n",
      "{'id': 831, 'depth': 65, 'recipe': {'origActor': 812, 'origTarget': 830, 'newActor': 0, 'newTarget': 831}}\n",
      "{'id': 832, 'depth': 66, 'recipe': {'origActor': 812, 'origTarget': 831, 'newActor': 0, 'newTarget': 832}}\n",
      "{'id': 833, 'depth': 66, 'recipe': {'origActor': -1, 'origTarget': 832, 'newActor': 0, 'newTarget': 833}}\n",
      "{'id': 834, 'depth': 67, 'recipe': {'origActor': 556, 'origTarget': 833, 'newActor': 0, 'newTarget': 834}}\n",
      "{'id': 835, 'depth': 68, 'recipe': {'origActor': 836, 'origTarget': 834, 'newActor': 0, 'newTarget': 835}}\n",
      "{'id': 842, 'depth': 68, 'recipe': {'origActor': -1, 'origTarget': 835, 'newActor': 0, 'newTarget': 842}}\n",
      "{'id': 839, 'depth': 69, 'recipe': {'origActor': 0, 'origTarget': 842, 'newActor': 0, 'newTarget': 839}}\n",
      "{'id': 841, 'depth': 69, 'recipe': {'origActor': -1, 'origTarget': 839, 'newActor': 0, 'newTarget': 841}}\n",
      "{'id': 840, 'depth': 70, 'recipe': {'origActor': 0, 'origTarget': 841, 'newActor': 0, 'newTarget': 840}}\n"
     ]
    }
   ],
   "source": [
    "tech_list = tech_df.to_dict('records')\n",
    "print('%i items in tech tree' % len(tech_list))\n",
    "print(*tech_list[-10:], sep='\\n')"
   ]
  },
  {
   "cell_type": "markdown",
   "id": "316d654f",
   "metadata": {},
   "source": [
    "Connect to database:"
   ]
  },
  {
   "cell_type": "markdown",
   "id": "c2593f25",
   "metadata": {},
   "source": [
    "Upload tech tree:"
   ]
  },
  {
   "cell_type": "code",
   "execution_count": 13,
   "id": "ae34327d",
   "metadata": {},
   "outputs": [
    {
     "data": {
      "text/plain": [
       "<pymongo.results.InsertManyResult at 0x2ace4cb4ab40>"
      ]
     },
     "execution_count": 13,
     "metadata": {},
     "output_type": "execute_result"
    }
   ],
   "source": [
    "tech_col = ohol.tech_tree\n",
    "tech_col.insert_many(tech_list)"
   ]
  },
  {
   "cell_type": "markdown",
   "id": "9b14c96a",
   "metadata": {},
   "source": [
    "Check that new collection has been added:"
   ]
  },
  {
   "cell_type": "code",
   "execution_count": 14,
   "id": "6622a3be",
   "metadata": {},
   "outputs": [
    {
     "data": {
      "text/plain": [
       "['old_svd',\n",
       " 'old_jobmatrix',\n",
       " 'tech_tree',\n",
       " 'tech_tree_demo',\n",
       " 'objects',\n",
       " 'expanded_transitions',\n",
       " 'transitions',\n",
       " 'categories']"
      ]
     },
     "execution_count": 14,
     "metadata": {},
     "output_type": "execute_result"
    }
   ],
   "source": [
    "ohol.list_collection_names()"
   ]
  },
  {
   "cell_type": "markdown",
   "id": "e4aae771",
   "metadata": {},
   "source": [
    "Debug: What items are missing from Tech tree?"
   ]
  },
  {
   "cell_type": "code",
   "execution_count": 20,
   "id": "a1aa8a7c",
   "metadata": {},
   "outputs": [
    {
     "name": "stdout",
     "output_type": "stream",
     "text": [
      "2745 objects still missing\n",
      "Male012 C\n",
      "Buried Grave - origGrave groundOnly\n",
      "Marked Grave - origGrave\n",
      "Wild Rose Seed - pink\n",
      "Dry Planted Rose Seed - pink\n",
      "Wet Planted Rose Seed - pink\n",
      "Rose Sprout - pink\n",
      "Cold Bowl with Rose Seed - pink\n",
      "Cold Bowl with Stratified Rose Seed - pink\n",
      "Stratified Rose Seed - pink\n",
      "Wild Rose Seed - red\n",
      "Wild Rose Seed - white\n",
      "Cold Bowl with Rose Seed - red\n",
      "Cold Bowl with Stratified Rose Seed - red\n",
      "Cold Bowl with Rose Seed - white\n",
      "Cold Bowl with Stratified Rose Seed - white\n",
      "Stratified Rose Seed - red\n",
      "Stratified Rose Seed - white\n",
      "Pink Rose Bush\n",
      "Dry Pink Rose Bush\n",
      "Vigorous Pink Rose Bush\n",
      "Pink Rose\n",
      "Rose Hip - pink\n",
      "Rose Seed - pink\n",
      "Rose Seed - red\n",
      "Rose Seed - white\n",
      "Dry Planted Rose Seed - red\n",
      "Wet Planted Rose Seed - red\n",
      "Rose Sprout - red\n",
      "Dry Planted Rose Seed - white\n",
      "Wet Planted Rose Seed - white\n",
      "Rose Sprout - white\n",
      "Red Rose\n",
      "White Rose\n",
      "Rose Hip - red\n",
      "Rose Hip - white\n",
      "Dry White Rose Bush\n",
      "Dry Red Rose Bush\n",
      "Vigorous Red Rose Bush\n",
      "Vigorous White Rose Bush\n",
      "Red Rose Bush\n",
      "White Rose Bush\n",
      "Marked Grave - origGrave mother\n",
      "Marked Grave - origGrave brother\n",
      "Marked Grave - origGrave sister\n",
      "Marked Grave - origGrave uncle\n",
      "Marked Grave - origGrave son\n",
      "Marked Grave - origGrave daughter\n",
      "Marked Grave - origGrave aunt\n",
      "Mother Template Grave - origGrave\n",
      "Mother Template Grave with Chisel - origGrave\n",
      "Marked Grave with Chisel - origGrave mother\n",
      "Marked Grave - origGrave just placed\n",
      "Aunt Template Grave - origGrave\n",
      "Aunt Template Grave with Chisel - origGrave\n",
      "Marked Grave with Chisel - origGrave aunt\n",
      "Uncle Template Grave - origGrave\n",
      "Uncle Template Grave with Chisel - origGrave\n",
      "Marked Grave with Chisel - origGrave uncle\n",
      "Brother Template Grave - origGrave\n",
      "Brother Template Grave with Chisel - origGrave\n",
      "Marked Grave with Chisel - origGrave brother\n",
      "Sister Template Grave - origGrave\n",
      "Sister Template Grave with Chisel - origGrave\n",
      "Marked Grave with Chisel - origGrave sister\n",
      "Son Template Grave - origGrave\n",
      "Son Template Grave with Chisel - origGrave\n",
      "Marked Grave with Chisel - origGrave son\n",
      "Daughter Template Grave - origGrave\n",
      "Daughter Template Grave with Chisel - origGrave\n",
      "Marked Grave with Chisel - origGrave daughter\n",
      "Blue Rose\n",
      "Full Deep Well - +famUse100\n",
      "Full Shallow Well - +famUse100\n",
      "Partial Bucket of Water\n",
      "Empty Bucket - just emptied\n",
      "@ Non Vigorous Gooseberry\n",
      "Ball of Thread\n",
      "Needle and Ball of Thread - +toolSewing\n",
      "@ Hand Sew\n",
      "Snake-Bit Riding Horse - just died\n",
      "Snake-Bit Riding Horse - ground\n",
      "Tipped Horse-Drawn Cart - just tipped\n",
      "Tipped Horse-Drawn Cart - ground\n",
      "Raw Potato - just dug\n",
      "@ Pounder\n",
      "Wet Planted Cabbage Seed\n",
      "Cabbage Sprout\n",
      "Ripe Cabbage Plant\n",
      "Cut Red Cabbage\n",
      "Red Cabbage\n",
      "Three Steel Blades\n",
      "Kraut Board\n",
      "Seeding Cabbage Plant\n",
      "Crock with Kraut Board\n",
      "Shredded Cabbage\n",
      "Shredded Cabbage with Board\n",
      "@ Any Ice Hole\n",
      "Shredded Cabbage with Salt\n",
      "Stomped Fresh Sauerkraut\n",
      "...\n"
     ]
    }
   ],
   "source": [
    "all_objects = objects.id.values\n",
    "found_objects = tech_df.id.values\n",
    "\n",
    "missing_objects = np.setdiff1d(all_objects, found_objects)\n",
    "\n",
    "print('%i objects still missing' % len(missing_objects))\n",
    "print(*[obj_name(o) for o in missing_objects[250:350]], sep='\\n')\n",
    "print('...')"
   ]
  },
  {
   "cell_type": "code",
   "execution_count": 28,
   "id": "de0bab5a",
   "metadata": {},
   "outputs": [
    {
     "data": {
      "text/html": [
       "<div>\n",
       "<style scoped>\n",
       "    .dataframe tbody tr th:only-of-type {\n",
       "        vertical-align: middle;\n",
       "    }\n",
       "\n",
       "    .dataframe tbody tr th {\n",
       "        vertical-align: top;\n",
       "    }\n",
       "\n",
       "    .dataframe thead th {\n",
       "        text-align: right;\n",
       "    }\n",
       "</style>\n",
       "<table border=\"1\" class=\"dataframe\">\n",
       "  <thead>\n",
       "    <tr style=\"text-align: right;\">\n",
       "      <th></th>\n",
       "      <th>_id</th>\n",
       "      <th>origActor</th>\n",
       "      <th>origTarget</th>\n",
       "      <th>newActor</th>\n",
       "      <th>newTarget</th>\n",
       "      <th>lastUseActor</th>\n",
       "      <th>lastUseTarget</th>\n",
       "      <th>prob</th>\n",
       "    </tr>\n",
       "  </thead>\n",
       "  <tbody>\n",
       "    <tr>\n",
       "      <th>5445</th>\n",
       "      <td>607aef65cffb881ebaaff289</td>\n",
       "      <td>964</td>\n",
       "      <td>1015</td>\n",
       "      <td>964</td>\n",
       "      <td>1016</td>\n",
       "      <td>False</td>\n",
       "      <td>False</td>\n",
       "      <td>False</td>\n",
       "    </tr>\n",
       "  </tbody>\n",
       "</table>\n",
       "</div>"
      ],
      "text/plain": [
       "                           _id  origActor  origTarget  newActor  newTarget  \\\n",
       "5445  607aef65cffb881ebaaff289        964        1015       964       1016   \n",
       "\n",
       "      lastUseActor  lastUseTarget   prob  \n",
       "5445         False          False  False  "
      ]
     },
     "execution_count": 28,
     "metadata": {},
     "output_type": "execute_result"
    }
   ],
   "source": [
    "transitions[transitions.origTarget == 1015]"
   ]
  },
  {
   "cell_type": "code",
   "execution_count": 30,
   "id": "0c1e16b6",
   "metadata": {},
   "outputs": [
    {
     "data": {
      "text/plain": [
       "0        False\n",
       "1        False\n",
       "2        False\n",
       "3        False\n",
       "4        False\n",
       "         ...  \n",
       "19440    False\n",
       "19441    False\n",
       "19442    False\n",
       "19443    False\n",
       "19444    False\n",
       "Length: 19445, dtype: bool"
      ]
     },
     "execution_count": 30,
     "metadata": {},
     "output_type": "execute_result"
    }
   ],
   "source": [
    "combinations(135, 1015)"
   ]
  },
  {
   "cell_type": "code",
   "execution_count": 31,
   "id": "b30c2b95",
   "metadata": {},
   "outputs": [
    {
     "data": {
      "text/plain": [
       "'@ Fine Cutter'"
      ]
     },
     "execution_count": 31,
     "metadata": {},
     "output_type": "execute_result"
    }
   ],
   "source": [
    "obj_name(964)"
   ]
  },
  {
   "cell_type": "code",
   "execution_count": null,
   "id": "5ed0c31b",
   "metadata": {},
   "outputs": [],
   "source": []
  }
 ],
 "metadata": {
  "kernelspec": {
   "display_name": "Python 3",
   "language": "python",
   "name": "python3"
  },
  "language_info": {
   "codemirror_mode": {
    "name": "ipython",
    "version": 3
   },
   "file_extension": ".py",
   "mimetype": "text/x-python",
   "name": "python",
   "nbconvert_exporter": "python",
   "pygments_lexer": "ipython3",
   "version": "3.9.2"
  }
 },
 "nbformat": 4,
 "nbformat_minor": 5
}
