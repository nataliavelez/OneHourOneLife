{
 "cells": [
  {
   "cell_type": "code",
   "execution_count": 2,
   "id": "4af4b8f3",
   "metadata": {},
   "outputs": [],
   "source": [
    "#!/usr/bin/env python\n",
    "# coding: utf-8\n",
    "\n",
    "'''\n",
    "Aggregate activity by character and by community\n",
    "Natalia Velez, April 2021\n",
    "'''\n",
    "\n",
    "import os, re, glob\n",
    "import numpy as np\n",
    "import pandas as pd\n",
    "from tqdm import tqdm\n",
    "from os.path import join as opj"
   ]
  },
  {
   "cell_type": "code",
   "execution_count": 4,
   "id": "228a195e",
   "metadata": {},
   "outputs": [
    {
     "name": "stdout",
     "output_type": "stream",
     "text": [
      "Creating output directory: outputs/activity_agg\n"
     ]
    }
   ],
   "source": [
    "# Make output directory\n",
    "out_dir = opj('outputs/activity_agg')\n",
    "print('Creating output directory: %s' % out_dir)\n",
    "os.makedirs(out_dir, exist_ok = True)"
   ]
  },
  {
   "cell_type": "code",
   "execution_count": null,
   "id": "2d458ff4",
   "metadata": {},
   "outputs": [],
   "source": [
    "# Find family labels\n"
   ]
  },
  {
   "cell_type": "code",
   "execution_count": 5,
   "id": "b0aa305b",
   "metadata": {},
   "outputs": [
    {
     "name": "stdout",
     "output_type": "stream",
     "text": [
      "Matrix files:\n",
      "outputs/activity_in/jobmatrix_release-284_start-1573895672.txt\n",
      "outputs/activity_in/jobmatrix_release-284_start-1573982073.txt\n",
      "outputs/activity_in/jobmatrix_release-284_start-1574068473.txt\n",
      "outputs/activity_in/jobmatrix_release-285_start-1574102503.txt\n",
      "outputs/activity_in/jobmatrix_release-287_start-1574151678.txt\n",
      "outputs/activity_in/jobmatrix_release-287_start-1574238079.txt\n",
      "outputs/activity_in/jobmatrix_release-287_start-1574324479.txt\n",
      "outputs/activity_in/jobmatrix_release-287_start-1574410879.txt\n",
      "outputs/activity_in/jobmatrix_release-287_start-1574497279.txt\n",
      "outputs/activity_in/jobmatrix_release-289_start-1574552311.txt\n",
      "...\n",
      "Label files:\n",
      "outputs/activity_in/jobmatrix_release-284_start-1573895672_labels.txt\n",
      "outputs/activity_in/jobmatrix_release-284_start-1573982073_labels.txt\n",
      "outputs/activity_in/jobmatrix_release-284_start-1574068473_labels.txt\n",
      "outputs/activity_in/jobmatrix_release-285_start-1574102503_labels.txt\n",
      "outputs/activity_in/jobmatrix_release-287_start-1574151678_labels.txt\n",
      "outputs/activity_in/jobmatrix_release-287_start-1574238079_labels.txt\n",
      "outputs/activity_in/jobmatrix_release-287_start-1574324479_labels.txt\n",
      "outputs/activity_in/jobmatrix_release-287_start-1574410879_labels.txt\n",
      "outputs/activity_in/jobmatrix_release-287_start-1574497279_labels.txt\n",
      "outputs/activity_in/jobmatrix_release-289_start-1574552311_labels.txt\n",
      "...\n",
      "Loading labels...\n",
      "[2276905 2276906 2276907 ... 4107650 4107654 4107655]\n",
      "775607 total entries\n",
      "763682 unique avatar IDs\n",
      "11914 repeated labels (range 2-3)\n"
     ]
    }
   ],
   "source": [
    "# Find matrix files:\n",
    "mtx_files = glob.glob('outputs/activity_in/*[0-9].txt')\n",
    "mtx_files.sort()\n",
    "#mtx_files = mtx_files[:3] # Debug only!\n",
    "print('Matrix files:')\n",
    "print(*mtx_files[:10], sep='\\n')\n",
    "print('...\\n')\n",
    "\n",
    "# Find corresponding labels:\n",
    "label_files = [f.replace('.txt', '_labels.txt') for f in mtx_files]\n",
    "print('Label files:')\n",
    "print(*label_files[:10], sep='\\n')\n",
    "print('...\\n')\n",
    "\n",
    "# Concatenate labels:\n",
    "print('Loading labels...')\n",
    "all_labels = [np.loadtxt(f) for f in label_files]\n",
    "all_labels = np.concatenate(all_labels).astype(np.int)\n",
    "print(all_labels)\n",
    "\n",
    "\n",
    "# Sanity check: Are any labels repeated across log files?\n",
    "unique_labels, label_counts = np.unique(all_labels, return_counts=True)\n",
    "repeated_labels = unique_labels[label_counts > 1]\n",
    "min_repeats = np.min(label_counts[label_counts > 1])\n",
    "np.savetxt(opj(out_dir, 'avatarIDs.txt'), unique_labels)\n",
    "\n",
    "print('%i total entries' % len(all_labels))\n",
    "print('%i unique avatar IDs' % len(unique_labels))\n",
    "print('%i repeated labels (range %i-%i)' % (len(repeated_labels),\n",
    "                                            min_repeats,\n",
    "                                            np.max(label_counts)))"
   ]
  },
  {
   "cell_type": "code",
   "execution_count": null,
   "id": "e7fc8fe3",
   "metadata": {},
   "outputs": [],
   "source": []
  }
 ],
 "metadata": {
  "kernelspec": {
   "display_name": "Python 3",
   "language": "python",
   "name": "python3"
  },
  "language_info": {
   "codemirror_mode": {
    "name": "ipython",
    "version": 3
   },
   "file_extension": ".py",
   "mimetype": "text/x-python",
   "name": "python",
   "nbconvert_exporter": "python",
   "pygments_lexer": "ipython3",
   "version": "3.9.2"
  }
 },
 "nbformat": 4,
 "nbformat_minor": 5
}
