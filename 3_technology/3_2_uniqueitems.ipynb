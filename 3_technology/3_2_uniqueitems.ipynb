{
 "cells": [
  {
   "cell_type": "markdown",
   "metadata": {},
   "source": [
    "# Tallying unique items\n",
    "Natalia Vélez, June 2020\n",
    "\n",
    "Some items have special modifiers attached to the object ID:\n",
    "\n",
    "```\n",
    "483.81 -5123 -1390 2742u3 2276909\n",
    "…\n",
    "511.16 -5123 -1392 2742u2 2276909\n",
    "…\n",
    "516.87 -5123 -1392 2742u1 2276905\n",
    "…\n",
    "522.20 -5123 -1392 2742u0 2276914\n",
    "```\n",
    "\n",
    "That exact ID “2742u3” doesn’t match any objects, but it’s possible that “u[0-9]” is a counter on how many uses are remaining in an object with multiple uses. Object 2742 is a carrot pile, which has up to 5 uses. This log could show that multiple players went up to this carrot pile and ate from it.\n",
    "\n",
    "How many modifiers are there, and what do they mean?"
   ]
  },
  {
   "cell_type": "code",
   "execution_count": 1,
   "metadata": {},
   "outputs": [],
   "source": [
    "import os, re, glob, datetime\n",
    "from os.path import join as opj\n",
    "import pandas as pd\n",
    "import numpy as np\n",
    "from tqdm import notebook"
   ]
  },
  {
   "cell_type": "markdown",
   "metadata": {},
   "source": [
    "Maplog files:"
   ]
  },
  {
   "cell_type": "code",
   "execution_count": 2,
   "metadata": {},
   "outputs": [
    {
     "name": "stdout",
     "output_type": "stream",
     "text": [
      "outputs/maplog/maplog_release-284_start-1573895672.tsv\n",
      "outputs/maplog/maplog_release-284_start-1573982073.tsv\n",
      "outputs/maplog/maplog_release-284_start-1574068473.tsv\n",
      "outputs/maplog/maplog_release-285_start-1574102503.tsv\n",
      "outputs/maplog/maplog_release-287_start-1574151678.tsv\n"
     ]
    }
   ],
   "source": [
    "map_files = glob.glob('outputs/maplog/maplog*.tsv')\n",
    "map_files.sort()\n",
    "\n",
    "print(*map_files[:5], sep='\\n')"
   ]
  },
  {
   "cell_type": "markdown",
   "metadata": {},
   "source": [
    "Helper: Process individual file"
   ]
  },
  {
   "cell_type": "code",
   "execution_count": 3,
   "metadata": {},
   "outputs": [],
   "source": [
    "def find_unique(file):\n",
    "\n",
    "    # Trim invalid objects\n",
    "    map_df = pd.read_csv(file, sep='\\t')\n",
    "    map_df = map_df[map_df.player_id > 0] # No player attached to event\n",
    "    map_df = map_df[map_df.object_id != '0'] # Interact w/ empty square \n",
    "    \n",
    "    # Clean up modifiers\n",
    "    map_df['object_id'] = map_df.object_id.str.replace(r'^(f)|([u-v][0-9]+$)', '')\n",
    "    \n",
    "    # Convert to number\n",
    "    map_df['object_id'] = map_df['object_id'].astype(np.int64)\n",
    "    map_df['object_id'] = np.where(map_df['object_id'] > 5000, 9999, map_df['object_id'])\n",
    "\n",
    "    # Unique items\n",
    "    obj_list = map_df.object_id.tolist()\n",
    "    unique_obj = np.unique(obj_list).tolist()\n",
    "    unique_obj.sort()\n",
    "    \n",
    "    return unique_obj"
   ]
  },
  {
   "cell_type": "markdown",
   "metadata": {},
   "source": [
    "Iterate over all files:"
   ]
  },
  {
   "cell_type": "code",
   "execution_count": 4,
   "metadata": {},
   "outputs": [
    {
     "data": {
      "application/vnd.jupyter.widget-view+json": {
       "model_id": "1a104634dda94dc5b33e5734d5c5f6c7",
       "version_major": 2,
       "version_minor": 0
      },
      "text/plain": [
       "HBox(children=(FloatProgress(value=0.0, max=236.0), HTML(value='')))"
      ]
     },
     "metadata": {},
     "output_type": "display_data"
    },
    {
     "name": "stdout",
     "output_type": "stream",
     "text": [
      "\n"
     ]
    }
   ],
   "source": [
    "unique_object_list = []\n",
    "for f in notebook.tqdm(map_files):\n",
    "    unique_object_list.append(find_unique(f))"
   ]
  },
  {
   "cell_type": "markdown",
   "metadata": {},
   "source": [
    "Combine everything into one big list of unique items across all files;"
   ]
  },
  {
   "cell_type": "code",
   "execution_count": 5,
   "metadata": {},
   "outputs": [
    {
     "name": "stdout",
     "output_type": "stream",
     "text": [
      "Found 2805 unique objects\n",
      "30\t31\t32\t33\t34\t35\t39\t40\t45\t48\t49\t53\t54\t55\t57\t58\t59\t61\t62\t63\t64\t65\t66\t67\t68\t69\t70\t71\t72\t73\t74\t75\t77\t78\t79\t80\t82\t83\t85\t86\t87\t92\t96\t99\t100\t101\t103\t104\t105\t106\n"
     ]
    }
   ],
   "source": [
    "unique_objects_flat = sum(unique_object_list,[])\n",
    "unique_objects_flat = np.array(unique_objects_flat)\n",
    "\n",
    "unique_objects = np.unique(unique_objects_flat)\n",
    "print('Found %i unique objects' % len(unique_objects))\n",
    "print(*unique_objects[:50], sep='\\t')"
   ]
  },
  {
   "cell_type": "markdown",
   "metadata": {},
   "source": [
    "Save this to file (we'll need it when we generate activity matrices!):"
   ]
  },
  {
   "cell_type": "code",
   "execution_count": 6,
   "metadata": {},
   "outputs": [],
   "source": [
    "out_file = 'outputs/activity_features.txt'\n",
    "with open(out_file, 'w') as handle:\n",
    "    for obj in unique_objects:\n",
    "        handle.write('%s\\n' % obj)"
   ]
  }
 ],
 "metadata": {
  "kernelspec": {
   "display_name": "Python 3",
   "language": "python",
   "name": "python3"
  },
  "language_info": {
   "codemirror_mode": {
    "name": "ipython",
    "version": 3
   },
   "file_extension": ".py",
   "mimetype": "text/x-python",
   "name": "python",
   "nbconvert_exporter": "python",
   "pygments_lexer": "ipython3",
   "version": "3.7.6"
  }
 },
 "nbformat": 4,
 "nbformat_minor": 4
}
