{
 "cells": [
  {
   "cell_type": "markdown",
   "metadata": {},
   "source": [
    "# Build Tech Tree Representation"
   ]
  },
  {
   "cell_type": "code",
   "execution_count": 1,
   "metadata": {
    "collapsed": true
   },
   "outputs": [],
   "source": [
    "%matplotlib inline\n",
    "\n",
    "import os, re, glob, datetime, json\n",
    "from os.path import join as opj\n",
    "import pandas as pd\n",
    "import numpy as np\n",
    "import scipy.stats\n",
    "import pickle\n",
    "\n",
    "import networkx as nx\n",
    "import matplotlib.pyplot as plt\n",
    "import seaborn as sns\n",
    "from networkx.drawing.nx_agraph import graphviz_layout\n",
    "\n",
    "import ohol_transitions as trans\n",
    "import ohol_categories as cat\n",
    "import ohol_objects as obj"
   ]
  },
  {
   "cell_type": "markdown",
   "metadata": {},
   "source": [
    "obj: id-name dictionary"
   ]
  },
  {
   "cell_type": "code",
   "execution_count": 2,
   "metadata": {
    "collapsed": true
   },
   "outputs": [],
   "source": [
    "gsearch = lambda *args: glob.glob(opj(*args))\n",
    "obj_dir = opj('../../OneLifeData7/', 'objects')\n",
    "obj_files = gsearch(obj_dir, '*txt')"
   ]
  },
  {
   "cell_type": "code",
   "execution_count": 3,
   "metadata": {
    "collapsed": true
   },
   "outputs": [],
   "source": [
    "str_extract = lambda pattern, s: re.search(pattern, s).group(0)\n",
    "int_extract = lambda pattern, s: int(str_extract(pattern, s))\n",
    "all_obj = {}\n",
    "for o in obj_files:\n",
    "    is_obj = re.search('nextObjectNumber|groundHeat', o) is None\n",
    "    \n",
    "    if is_obj:\n",
    "        o_num = int_extract('[0-9]+(?=.txt)', o)\n",
    "        o_data = obj.read_obj(o_num)\n",
    "        all_obj[o_num] = o_data['name']\n",
    "all_obj[0] = 'empty hand'\n",
    "all_obj[4348] = 'empty ground'"
   ]
  },
  {
   "cell_type": "markdown",
   "metadata": {},
   "source": [
    "## open previously saved data from 3_3_build_tree"
   ]
  },
  {
   "cell_type": "code",
   "execution_count": 4,
   "metadata": {
    "collapsed": true
   },
   "outputs": [],
   "source": [
    "with open('tech_outputs/adj.p', 'rb') as fp:\n",
    "    data = pickle.load(fp)"
   ]
  },
  {
   "cell_type": "code",
   "execution_count": 5,
   "metadata": {
    "collapsed": true
   },
   "outputs": [],
   "source": [
    "with open('tech_outputs/ingredients.p', 'rb') as fp:\n",
    "    unique_items = pickle.load(fp)"
   ]
  },
  {
   "cell_type": "code",
   "execution_count": 6,
   "metadata": {
    "collapsed": true
   },
   "outputs": [],
   "source": [
    "df = pd.DataFrame.from_dict(data, orient = 'index', columns = {'ingredient1', 'ingredient2'})\n",
    "df['product'] = df.index"
   ]
  },
  {
   "cell_type": "code",
   "execution_count": 7,
   "metadata": {},
   "outputs": [
    {
     "data": {
      "text/html": [
       "<div>\n",
       "<style scoped>\n",
       "    .dataframe tbody tr th:only-of-type {\n",
       "        vertical-align: middle;\n",
       "    }\n",
       "\n",
       "    .dataframe tbody tr th {\n",
       "        vertical-align: top;\n",
       "    }\n",
       "\n",
       "    .dataframe thead th {\n",
       "        text-align: right;\n",
       "    }\n",
       "</style>\n",
       "<table border=\"1\" class=\"dataframe\">\n",
       "  <thead>\n",
       "    <tr style=\"text-align: right;\">\n",
       "      <th></th>\n",
       "      <th>ingredient1</th>\n",
       "      <th>ingredient2</th>\n",
       "      <th>product</th>\n",
       "    </tr>\n",
       "  </thead>\n",
       "  <tbody>\n",
       "    <tr>\n",
       "      <th>0</th>\n",
       "      <td>30</td>\n",
       "      <td>0</td>\n",
       "      <td>31</td>\n",
       "    </tr>\n",
       "    <tr>\n",
       "      <th>1</th>\n",
       "      <td>32</td>\n",
       "      <td>33</td>\n",
       "      <td>34</td>\n",
       "    </tr>\n",
       "    <tr>\n",
       "      <th>2</th>\n",
       "      <td>31</td>\n",
       "      <td>135</td>\n",
       "      <td>35</td>\n",
       "    </tr>\n",
       "    <tr>\n",
       "      <th>3</th>\n",
       "      <td>34</td>\n",
       "      <td>36</td>\n",
       "      <td>39</td>\n",
       "    </tr>\n",
       "    <tr>\n",
       "      <th>4</th>\n",
       "      <td>39</td>\n",
       "      <td>0</td>\n",
       "      <td>40</td>\n",
       "    </tr>\n",
       "  </tbody>\n",
       "</table>\n",
       "</div>"
      ],
      "text/plain": [
       "   ingredient1  ingredient2  product\n",
       "0           30            0       31\n",
       "1           32           33       34\n",
       "2           31          135       35\n",
       "3           34           36       39\n",
       "4           39            0       40"
      ]
     },
     "execution_count": 7,
     "metadata": {},
     "output_type": "execute_result"
    }
   ],
   "source": [
    "adj_df = df.sort_values(by = 'product').reset_index(drop = True)\n",
    "adj_df.head()"
   ]
  },
  {
   "cell_type": "code",
   "execution_count": 8,
   "metadata": {
    "collapsed": true
   },
   "outputs": [],
   "source": [
    "for i in range(len(adj_df)):\n",
    "    sub = adj_df.iloc[i]\n",
    "    if sub['ingredient1'] ==0:\n",
    "        sub['ingredient1'] = sub['ingredient2']\n",
    "        sub['ingredient2'] = 0"
   ]
  },
  {
   "cell_type": "markdown",
   "metadata": {},
   "source": [
    "## helper functions"
   ]
  },
  {
   "cell_type": "code",
   "execution_count": 9,
   "metadata": {
    "collapsed": true
   },
   "outputs": [],
   "source": [
    "def build_branches(item_id):\n",
    "    all_items = np.append(item_id, unique_items[item_id])\n",
    "    level = {}\n",
    "    level[0] = 0\n",
    "    level[4348] = 0\n",
    "    level[4349] = 0\n",
    "    item_df = pd.DataFrame(columns = ['id','parent'])\n",
    "\n",
    "    remaining_items = all_items\n",
    "    while len(remaining_items):\n",
    "        current_idx = np.argmin([len(unique_items[i]) for i in remaining_items])\n",
    "        current_item = remaining_items[current_idx]\n",
    "\n",
    "        if current_item in adj_df['product'].tolist():\n",
    "            formula = adj_df.query('product == @current_item')\n",
    "            ingredient1 = formula['ingredient1'].values[0]\n",
    "            ingredient2 = formula['ingredient2'].values[0]\n",
    "            level[current_item] = max(level[ingredient1], level[ingredient2]) +1\n",
    "            item_df = item_df.append({'id':ingredient1, 'parent':current_item}, ignore_index=True)\n",
    "            item_df = item_df.append({'id':ingredient2, 'parent':current_item}, ignore_index=True)\n",
    "        else:\n",
    "            level[current_item] = 0\n",
    "\n",
    "        remaining_items = np.delete(remaining_items, current_idx)\n",
    "        \n",
    "    return item_df"
   ]
  },
  {
   "cell_type": "code",
   "execution_count": 10,
   "metadata": {
    "collapsed": true
   },
   "outputs": [],
   "source": [
    "def find_parents(mydict, child):\n",
    "    parents = []\n",
    "    for i in mydict:\n",
    "        if mydict[i] == child:\n",
    "            i = [i,i]\n",
    "            parents = np.append(parents, i)\n",
    "    parents = [int(i) for i in parents]                            \n",
    "    \n",
    "    return parents"
   ]
  },
  {
   "cell_type": "code",
   "execution_count": 11,
   "metadata": {
    "collapsed": true
   },
   "outputs": [],
   "source": [
    "def name(item):\n",
    "    return all_obj[item]"
   ]
  },
  {
   "cell_type": "markdown",
   "metadata": {},
   "source": [
    "find an item"
   ]
  },
  {
   "cell_type": "code",
   "execution_count": 12,
   "metadata": {
    "collapsed": true
   },
   "outputs": [],
   "source": [
    "myitem = 248"
   ]
  },
  {
   "cell_type": "markdown",
   "metadata": {},
   "source": [
    "build a child-parent dataframe (each row is an edge)"
   ]
  },
  {
   "cell_type": "code",
   "execution_count": 13,
   "metadata": {},
   "outputs": [
    {
     "data": {
      "text/plain": [
       "48"
      ]
     },
     "execution_count": 13,
     "metadata": {},
     "output_type": "execute_result"
    }
   ],
   "source": [
    "item_df = build_branches(myitem)\n",
    "item_df =item_df.replace({4349:-2, 4348:-1})\n",
    "all_nodes = item_df['id'].tolist()\n",
    "r = len(all_nodes)\n",
    "r"
   ]
  },
  {
   "cell_type": "code",
   "execution_count": 14,
   "metadata": {},
   "outputs": [
    {
     "data": {
      "text/html": [
       "<div>\n",
       "<style scoped>\n",
       "    .dataframe tbody tr th:only-of-type {\n",
       "        vertical-align: middle;\n",
       "    }\n",
       "\n",
       "    .dataframe tbody tr th {\n",
       "        vertical-align: top;\n",
       "    }\n",
       "\n",
       "    .dataframe thead th {\n",
       "        text-align: right;\n",
       "    }\n",
       "</style>\n",
       "<table border=\"1\" class=\"dataframe\">\n",
       "  <thead>\n",
       "    <tr style=\"text-align: right;\">\n",
       "      <th></th>\n",
       "      <th>id</th>\n",
       "      <th>parent</th>\n",
       "    </tr>\n",
       "  </thead>\n",
       "  <tbody>\n",
       "    <tr>\n",
       "      <th>0</th>\n",
       "      <td>153</td>\n",
       "      <td>132</td>\n",
       "    </tr>\n",
       "    <tr>\n",
       "      <th>1</th>\n",
       "      <td>0</td>\n",
       "      <td>132</td>\n",
       "    </tr>\n",
       "    <tr>\n",
       "      <th>2</th>\n",
       "      <td>63</td>\n",
       "      <td>48</td>\n",
       "    </tr>\n",
       "    <tr>\n",
       "      <th>3</th>\n",
       "      <td>0</td>\n",
       "      <td>48</td>\n",
       "    </tr>\n",
       "    <tr>\n",
       "      <th>4</th>\n",
       "      <td>50</td>\n",
       "      <td>57</td>\n",
       "    </tr>\n",
       "  </tbody>\n",
       "</table>\n",
       "</div>"
      ],
      "text/plain": [
       "    id  parent\n",
       "0  153     132\n",
       "1    0     132\n",
       "2   63      48\n",
       "3    0      48\n",
       "4   50      57"
      ]
     },
     "execution_count": 14,
     "metadata": {},
     "output_type": "execute_result"
    }
   ],
   "source": [
    "item_df.head()"
   ]
  },
  {
   "cell_type": "markdown",
   "metadata": {},
   "source": [
    "To allow for repeated nodes, we give each node a unique new name"
   ]
  },
  {
   "cell_type": "code",
   "execution_count": 52,
   "metadata": {
    "collapsed": true,
    "scrolled": true
   },
   "outputs": [],
   "source": [
    "mapping = {}\n",
    "for i in range(r):\n",
    "    mapping[5000+i] = all_nodes[i]\n",
    "mapping[myitem] = myitem"
   ]
  },
  {
   "cell_type": "code",
   "execution_count": 53,
   "metadata": {},
   "outputs": [
    {
     "data": {
      "text/plain": [
       "{248: 248,\n",
       " 5000: 153,\n",
       " 5001: 0,\n",
       " 5002: 63,\n",
       " 5003: 0,\n",
       " 5004: 50,\n",
       " 5005: 0,\n",
       " 5006: 49,\n",
       " 5007: 0,\n",
       " 5008: 63,\n",
       " 5009: 0,\n",
       " 5010: 65,\n",
       " 5011: 0,\n",
       " 5012: 32,\n",
       " 5013: 33,\n",
       " 5014: 57,\n",
       " 5015: 57,\n",
       " 5016: 48,\n",
       " 5017: 0,\n",
       " 5018: 58,\n",
       " 5019: 58,\n",
       " 5020: 64,\n",
       " 5021: 34,\n",
       " 5022: 66,\n",
       " 5023: 34,\n",
       " 5024: 34,\n",
       " 5025: 67,\n",
       " 5026: 59,\n",
       " 5027: 68,\n",
       " 5028: 69,\n",
       " 5029: 59,\n",
       " 5030: 70,\n",
       " 5031: 34,\n",
       " 5032: 71,\n",
       " 5033: 132,\n",
       " 5034: 73,\n",
       " 5035: 69,\n",
       " 5036: 74,\n",
       " 5037: 67,\n",
       " 5038: 75,\n",
       " 5039: 62,\n",
       " 5040: 77,\n",
       " 5041: 61,\n",
       " 5042: 78,\n",
       " 5043: -1,\n",
       " 5044: 80,\n",
       " 5045: 72,\n",
       " 5046: 82,\n",
       " 5047: 67}"
      ]
     },
     "execution_count": 53,
     "metadata": {},
     "output_type": "execute_result"
    }
   ],
   "source": [
    "mapping"
   ]
  },
  {
   "cell_type": "code",
   "execution_count": 54,
   "metadata": {},
   "outputs": [
    {
     "data": {
      "text/plain": [
       "49"
      ]
     },
     "execution_count": 54,
     "metadata": {},
     "output_type": "execute_result"
    }
   ],
   "source": [
    "len(mapping)"
   ]
  },
  {
   "cell_type": "markdown",
   "metadata": {},
   "source": [
    "build another dictionary that maps back"
   ]
  },
  {
   "cell_type": "code",
   "execution_count": 18,
   "metadata": {
    "collapsed": true
   },
   "outputs": [],
   "source": [
    "reverse_mapping={}\n",
    "for i in all_nodes:\n",
    "    parents = find_parents(mapping, i)\n",
    "    reverse_mapping[i] = parents"
   ]
  },
  {
   "cell_type": "code",
   "execution_count": 19,
   "metadata": {},
   "outputs": [
    {
     "data": {
      "text/plain": [
       "{-1: [5043, 5043],\n",
       " 0: [5001,\n",
       "  5001,\n",
       "  5003,\n",
       "  5003,\n",
       "  5005,\n",
       "  5005,\n",
       "  5007,\n",
       "  5007,\n",
       "  5009,\n",
       "  5009,\n",
       "  5011,\n",
       "  5011,\n",
       "  5017,\n",
       "  5017],\n",
       " 32: [5012, 5012],\n",
       " 33: [5013, 5013],\n",
       " 34: [5021, 5021, 5023, 5023, 5024, 5024, 5031, 5031],\n",
       " 48: [5016, 5016],\n",
       " 49: [5006, 5006],\n",
       " 50: [5004, 5004],\n",
       " 57: [5014, 5014, 5015, 5015],\n",
       " 58: [5018, 5018, 5019, 5019],\n",
       " 59: [5026, 5026, 5029, 5029],\n",
       " 61: [5041, 5041],\n",
       " 62: [5039, 5039],\n",
       " 63: [5002, 5002, 5008, 5008],\n",
       " 64: [5020, 5020],\n",
       " 65: [5010, 5010],\n",
       " 66: [5022, 5022],\n",
       " 67: [5025, 5025, 5037, 5037, 5047, 5047],\n",
       " 68: [5027, 5027],\n",
       " 69: [5028, 5028, 5035, 5035],\n",
       " 70: [5030, 5030],\n",
       " 71: [5032, 5032],\n",
       " 72: [5045, 5045],\n",
       " 73: [5034, 5034],\n",
       " 74: [5036, 5036],\n",
       " 75: [5038, 5038],\n",
       " 77: [5040, 5040],\n",
       " 78: [5042, 5042],\n",
       " 80: [5044, 5044],\n",
       " 82: [5046, 5046],\n",
       " 132: [5033, 5033],\n",
       " 153: [5000, 5000]}"
      ]
     },
     "execution_count": 19,
     "metadata": {},
     "output_type": "execute_result"
    }
   ],
   "source": [
    "reverse_mapping"
   ]
  },
  {
   "cell_type": "markdown",
   "metadata": {},
   "source": [
    "generate a new dataframe based on new node names"
   ]
  },
  {
   "cell_type": "code",
   "execution_count": 21,
   "metadata": {
    "collapsed": true
   },
   "outputs": [],
   "source": [
    "item_newdf = pd.DataFrame(columns = ['id','parent'])\n",
    "# item_newdf['id'] = 5000+item_newdf.index\n",
    "for i in range(len(item_df)):\n",
    "    old_parent = item_df.iloc[i]['parent']\n",
    "    if old_parent != myitem:\n",
    "        new_parent = reverse_mapping[old_parent][0]##take the first parent and drop it from dict\n",
    "        reverse_mapping[old_parent] = reverse_mapping[old_parent][1:]\n",
    "        item_newdf = item_newdf.append({'id':5000+i,'parent':new_parent},ignore_index=True)\n",
    "    else:\n",
    "        item_newdf = item_newdf.append({'id':5000+i,'parent':old_parent},ignore_index=True)\n",
    "\n",
    "        "
   ]
  },
  {
   "cell_type": "markdown",
   "metadata": {},
   "source": [
    "## plot tech tree"
   ]
  },
  {
   "cell_type": "markdown",
   "metadata": {},
   "source": [
    "How many unique ingredients are there in my item?"
   ]
  },
  {
   "cell_type": "code",
   "execution_count": 22,
   "metadata": {},
   "outputs": [
    {
     "data": {
      "text/plain": [
       "30"
      ]
     },
     "execution_count": 22,
     "metadata": {},
     "output_type": "execute_result"
    }
   ],
   "source": [
    "l = len(unique_items[myitem])\n",
    "l"
   ]
  },
  {
   "cell_type": "markdown",
   "metadata": {},
   "source": [
    "remove 0s"
   ]
  },
  {
   "cell_type": "code",
   "execution_count": 55,
   "metadata": {},
   "outputs": [],
   "source": [
    "nodes0 = list(set(reverse_mapping[0]))\n",
    "for i in nodes0:\n",
    "    del mapping[i]"
   ]
  },
  {
   "cell_type": "code",
   "execution_count": 56,
   "metadata": {},
   "outputs": [
    {
     "data": {
      "image/png": "[encoded data removed]",
      "text/plain": [
       "<matplotlib.figure.Figure at 0x1a26213860>"
      ]
     },
     "metadata": {},
     "output_type": "display_data"
    },
    {
     "data": {
      "text/plain": [
       "<matplotlib.figure.Figure at 0x1a26213e48>"
      ]
     },
     "metadata": {},
     "output_type": "display_data"
    }
   ],
   "source": [
    "G = nx.from_pandas_edgelist(item_newdf, 'parent', 'id', None, nx.DiGraph()) \n",
    "G.remove_nodes_from(nodes0)#remove 0s\n",
    "pos=graphviz_layout(G, prog='dot')\n",
    "if l>100:\n",
    "    ns = 100\n",
    "    fs = 10\n",
    "else:\n",
    "    ns = 300\n",
    "    fs = 12\n",
    "nx.draw(G, pos, with_labels= True, labels=mapping, node_color='#99ccff', node_size=ns, font_size=fs)\n",
    "plt.figure(figsize=(100,100)) \n",
    "plt.draw()\n",
    "plt.show()"
   ]
  },
  {
   "cell_type": "markdown",
   "metadata": {},
   "source": [
    "What's my item's name?"
   ]
  },
  {
   "cell_type": "code",
   "execution_count": 546,
   "metadata": {},
   "outputs": [
    {
     "data": {
      "text/plain": [
       "'Firebrand'"
      ]
     },
     "execution_count": 546,
     "metadata": {},
     "output_type": "execute_result"
    }
   ],
   "source": [
    "all_obj[myitem]"
   ]
  },
  {
   "cell_type": "markdown",
   "metadata": {},
   "source": [
    "check the number of nodes in the graph"
   ]
  },
  {
   "cell_type": "code",
   "execution_count": 57,
   "metadata": {},
   "outputs": [
    {
     "data": {
      "text/plain": [
       "42"
      ]
     },
     "execution_count": 57,
     "metadata": {},
     "output_type": "execute_result"
    }
   ],
   "source": [
    "len(G)"
   ]
  },
  {
   "cell_type": "markdown",
   "metadata": {},
   "source": [
    "check the number of edges in the graph"
   ]
  },
  {
   "cell_type": "code",
   "execution_count": 58,
   "metadata": {},
   "outputs": [
    {
     "data": {
      "text/plain": [
       "41"
      ]
     },
     "execution_count": 58,
     "metadata": {},
     "output_type": "execute_result"
    }
   ],
   "source": [
    "G.number_of_edges()"
   ]
  },
  {
   "cell_type": "code",
   "execution_count": null,
   "metadata": {
    "collapsed": true
   },
   "outputs": [],
   "source": []
  },
  {
   "cell_type": "code",
   "execution_count": null,
   "metadata": {
    "collapsed": true
   },
   "outputs": [],
   "source": []
  },
  {
   "cell_type": "code",
   "execution_count": null,
   "metadata": {
    "collapsed": true
   },
   "outputs": [],
   "source": []
  },
  {
   "cell_type": "markdown",
   "metadata": {},
   "source": [
    "## Scratch"
   ]
  },
  {
   "cell_type": "code",
   "execution_count": null,
   "metadata": {
    "collapsed": true
   },
   "outputs": [],
   "source": [
    "def node_left(item_id):\n",
    "    formula = adj_df.query('product == @item_id')\n",
    "    if len(formula):\n",
    "        ingredient1 = formula['ingredient1'].values[0]\n",
    "    #     ingredient2 = formula['ingredient2'].values[0]\n",
    "        G.add_node(item_id)\n",
    "        G.add_node(ingredient1)\n",
    "        G.add_edge(item_id, ingredient1, length=500)\n",
    "    #     G.add_path([item_id, ingredient2])\n",
    "        return ingredient1\n",
    "    else:\n",
    "        return 0"
   ]
  },
  {
   "cell_type": "code",
   "execution_count": null,
   "metadata": {
    "collapsed": true
   },
   "outputs": [],
   "source": [
    "def node_right(item_id):\n",
    "    \n",
    "    formula = adj_df.query('product == @item_id')\n",
    "    if len(formula):\n",
    "        ingredient2 = formula['ingredient2'].values[0]\n",
    "    #     ingredient2 = formula['ingredient2'].values[0]\n",
    "#         G.add_node(item_id)\n",
    "#         G.add_node(ingredient2)\n",
    "        G.add_edge(item_id, ingredient2, length=500)\n",
    "    #     G.add_path([item_id, ingredient2])\n",
    "        if ingredient2 == 0:\n",
    "            ingredient2 = 1\n",
    "        return ingredient2\n",
    "    else:\n",
    "        return 0\n",
    "    \n",
    "   "
   ]
  },
  {
   "cell_type": "code",
   "execution_count": 509,
   "metadata": {
    "collapsed": true
   },
   "outputs": [],
   "source": [
    "G = nx.DiGraph()\n",
    "item_id = 248"
   ]
  },
  {
   "cell_type": "code",
   "execution_count": 510,
   "metadata": {},
   "outputs": [
    {
     "name": "stdout",
     "output_type": "stream",
     "text": [
      "item if% 82\n",
      "level if% 1\n",
      "item if% 80\n",
      "level if% 2\n",
      "item if% 78\n",
      "level if% 3\n",
      "item if% 77\n",
      "level if% 4\n",
      "item if% 75\n",
      "level if% 5\n",
      "item if% 74\n",
      "level if% 6\n",
      "item if% 73\n",
      "level if% 7\n",
      "item if% 59\n",
      "level if% 8\n",
      "item if% 58\n",
      "level if% 9\n",
      "item if% 57\n",
      "level if% 10\n",
      "item if% 50\n",
      "level if% 11\n",
      "item else% 1\n",
      "level else% 10\n",
      "item else% 57\n",
      "level else% 9\n",
      "item else% 58\n",
      "level else% 8\n",
      "item else% 68\n",
      "level else% 7\n",
      "item if% 66\n",
      "level if% 8\n",
      "item if% 65\n",
      "level if% 9\n",
      "item else% 1\n",
      "level else% 8\n",
      "item else% 34\n",
      "level else% 7\n",
      "item if% 32\n",
      "level if% 8\n",
      "item else% 33\n",
      "level else% 7\n",
      "item else% 69\n",
      "level else% 6\n",
      "item if% 34\n",
      "level if% 7\n",
      "item if% 32\n",
      "level if% 8\n",
      "item else% 33\n",
      "level else% 7\n",
      "item else% 67\n",
      "level else% 6\n",
      "item if% 64\n",
      "level if% 7\n",
      "item if% 63\n",
      "level if% 8\n",
      "item else% 1\n",
      "level else% 7\n",
      "item else% 34\n",
      "level else% 6\n",
      "item else% 67\n",
      "level else% 5\n",
      "item else% 62\n",
      "level else% 4\n",
      "item if% 48\n",
      "level if% 5\n",
      "item if% 63\n",
      "level if% 6\n",
      "item else% 1\n",
      "level else% 5\n",
      "item else% 1\n",
      "level else% 4\n",
      "item else% 61\n",
      "level else% 3\n",
      "item if% 49\n",
      "level if% 4\n",
      "item else% 1\n",
      "level else% 3\n",
      "item else% 4348\n",
      "level else% 2\n",
      "item else% 72\n",
      "level else% 1\n",
      "item if% 71\n",
      "level if% 2\n",
      "item if% 70\n",
      "level if% 3\n",
      "item if% 69\n",
      "level if% 4\n",
      "item if% 34\n",
      "level if% 5\n",
      "item if% 32\n",
      "level if% 6\n",
      "item else% 33\n",
      "level else% 5\n",
      "item else% 67\n",
      "level else% 4\n",
      "item else% 59\n",
      "level else% 3\n",
      "item else% 34\n",
      "level else% 2\n",
      "item else% 132\n",
      "level else% 1\n",
      "item if% 153\n",
      "level if% 2\n",
      "item else% 1\n",
      "level else% 1\n",
      "item else% 67\n",
      "level else% 0\n",
      "item if% 64\n",
      "level if% 1\n",
      "item if% 63\n",
      "level if% 2\n",
      "item else% 1\n",
      "level else% 1\n",
      "item else% 34\n",
      "level else% 0\n"
     ]
    }
   ],
   "source": [
    "#go down the left\n",
    "level = 0\n",
    "changed = 0\n",
    "stop = 0\n",
    "nodes_tot = []\n",
    "ids = [0] * 100\n",
    "times = 0\n",
    "while not stop:\n",
    "    if (item_id in adj_df['product'].tolist()) and ((not changed) or new_node):\n",
    "        ids[level] = item_id\n",
    "        item_id = node_left(item_id)\n",
    "        level = level +1\n",
    "        nodes_tot = np.append(nodes_tot, item_id)\n",
    "        changed = 0\n",
    "        print('item if%', item_id)\n",
    "        print('level if%', level)\n",
    "    else:\n",
    "        level = level -1\n",
    "        item_id = ids[level]\n",
    "        if node_right(item_id):\n",
    "            item_id = node_right(item_id)\n",
    "            print('item else%', item_id)\n",
    "            print('level else%', level)\n",
    "            changed = 1\n",
    "        if item_id not in nodes_tot:\n",
    "            new_node = 1\n",
    "        else:\n",
    "            new_node = 0\n",
    "        nodes_tot = np.append(nodes_tot, item_id)\n",
    "    \n",
    "    if level == 0: ##comming back to top\n",
    "        times = times +1\n",
    "        changed = 0\n",
    "        stop = 0\n",
    "        nodes_tot = []\n",
    "        ids = [0] * 100\n",
    "        item_id = adj_df.query('product == 248')['ingredient2'].values[0]\n",
    "    if times == 2:\n",
    "        stop =1\n",
    "    \n"
   ]
  },
  {
   "cell_type": "code",
   "execution_count": 511,
   "metadata": {},
   "outputs": [
    {
     "data": {
      "text/plain": [
       "67"
      ]
     },
     "execution_count": 511,
     "metadata": {},
     "output_type": "execute_result"
    }
   ],
   "source": [
    "adj_df.query('product == 248')['ingredient2'].values[0]"
   ]
  },
  {
   "cell_type": "code",
   "execution_count": 512,
   "metadata": {
    "collapsed": true
   },
   "outputs": [],
   "source": [
    "# nx.relabel_nodes(G, name, copy=False)\n",
    "G.remove_node(0)\n",
    "# G.remove_node(4348)"
   ]
  },
  {
   "cell_type": "code",
   "execution_count": 513,
   "metadata": {},
   "outputs": [
    {
     "data": {
      "text/plain": [
       "32"
      ]
     },
     "execution_count": 513,
     "metadata": {},
     "output_type": "execute_result"
    }
   ],
   "source": [
    "len(G)"
   ]
  },
  {
   "cell_type": "code",
   "execution_count": 514,
   "metadata": {},
   "outputs": [
    {
     "data": {
      "image/png": "[encoded data removed]",
      "text/plain": [
       "<matplotlib.figure.Figure at 0x1106c1080>"
      ]
     },
     "metadata": {},
     "output_type": "display_data"
    }
   ],
   "source": [
    "nx.nx_agraph.write_dot(G,'test.dot')\n",
    "pos=graphviz_layout(G, prog='dot')\n",
    "nx.draw(G, pos, with_labels= True, node_color='#99ccff', node_size=500, arrows=True)\n",
    "# plt.figure(figsize=(100,100)) \n",
    "plt.draw()\n",
    "plt.show()"
   ]
  },
  {
   "cell_type": "code",
   "execution_count": 61,
   "metadata": {},
   "outputs": [
    {
     "data": {
      "text/plain": [
       "283"
      ]
     },
     "execution_count": 61,
     "metadata": {},
     "output_type": "execute_result"
    }
   ],
   "source": [
    "ids[0]"
   ]
  },
  {
   "cell_type": "code",
   "execution_count": null,
   "metadata": {
    "collapsed": true
   },
   "outputs": [],
   "source": []
  }
 ],
 "metadata": {
  "kernelspec": {
   "display_name": "Python 3",
   "language": "python",
   "name": "python3"
  },
  "language_info": {
   "codemirror_mode": {
    "name": "ipython",
    "version": 3
   },
   "file_extension": ".py",
   "mimetype": "text/x-python",
   "name": "python",
   "nbconvert_exporter": "python",
   "pygments_lexer": "ipython3",
   "version": "3.6.3"
  }
 },
 "nbformat": 4,
 "nbformat_minor": 2
}
