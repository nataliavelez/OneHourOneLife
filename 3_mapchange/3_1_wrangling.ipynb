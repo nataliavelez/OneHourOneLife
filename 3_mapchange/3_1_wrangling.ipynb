{
 "cells": [
  {
   "cell_type": "markdown",
   "metadata": {},
   "source": [
    "# Map change: Data wrangling\n",
    "Natalia Vélez, June 2020"
   ]
  },
  {
   "cell_type": "code",
   "execution_count": 1,
   "metadata": {},
   "outputs": [],
   "source": [
    "import os, re, glob, datetime\n",
    "from os.path import join as opj\n",
    "import pandas as pd\n",
    "import numpy as np\n",
    "from tqdm import notebook\n",
    "\n",
    "from calplot import calplot, yearplot"
   ]
  },
  {
   "cell_type": "markdown",
   "metadata": {},
   "source": [
    "Helper functions:"
   ]
  },
  {
   "cell_type": "code",
   "execution_count": 2,
   "metadata": {},
   "outputs": [],
   "source": [
    "gsearch = lambda *args: glob.glob(opj(*args)) # Search for files\n",
    "str_extract = lambda pattern, s: re.search(pattern, s).group(0) # Find first match of regex\n",
    "int_extract = lambda pattern, s: int(str_extract(pattern, s)) # As above, but convert to int\n",
    "\n",
    "# Get timestamp from filename\n",
    "def file_tstamp(f):\n",
    "    tstamp = int_extract('[0-9]+(?=time)', f)\n",
    "    date_dt = datetime.datetime.fromtimestamp(tstamp)\n",
    "    date_str = date_dt.strftime('%Y-%m-%d %H:%M:%S')\n",
    "    \n",
    "    return date_str"
   ]
  },
  {
   "cell_type": "markdown",
   "metadata": {},
   "source": [
    "## Find files"
   ]
  },
  {
   "cell_type": "code",
   "execution_count": 3,
   "metadata": {},
   "outputs": [],
   "source": [
    "map_dir = '../data/publicMapChangeData/bigserver2.onehouronelife.com'"
   ]
  },
  {
   "cell_type": "markdown",
   "metadata": {},
   "source": [
    "### Old-style map change files\n",
    "Older map change data do not include player IDs---that is, we can know which items were interacted with, but not who interacted with what."
   ]
  },
  {
   "cell_type": "code",
   "execution_count": 4,
   "metadata": {},
   "outputs": [
    {
     "name": "stdout",
     "output_type": "stream",
     "text": [
      "Old-style map files:\n",
      "../data/publicMapChangeData/bigserver2.onehouronelife.com/1564439085time_2082599763seed_mapLog.txt\n",
      "../data/publicMapChangeData/bigserver2.onehouronelife.com/1564457929time_1521396640seed_mapLog.txt\n",
      "../data/publicMapChangeData/bigserver2.onehouronelife.com/1564571257time_1973867226seed_mapLog.txt\n",
      "../data/publicMapChangeData/bigserver2.onehouronelife.com/1564625380time_1151446675seed_mapLog.txt\n",
      "../data/publicMapChangeData/bigserver2.onehouronelife.com/1564632744time_492170999seed_mapLog.txt\n",
      "../data/publicMapChangeData/bigserver2.onehouronelife.com/1564791904time_588415882seed_mapLog.txt\n",
      "../data/publicMapChangeData/bigserver2.onehouronelife.com/1565545179time_1911649160seed_mapLog.txt\n",
      "../data/publicMapChangeData/bigserver2.onehouronelife.com/1566683822time_3315909495seed_mapLog.txt\n",
      "../data/publicMapChangeData/bigserver2.onehouronelife.com/1566685499time_1866167787seed_mapLog.txt\n",
      "../data/publicMapChangeData/bigserver2.onehouronelife.com/1566696695time_1315059099seed_mapLog.txt\n"
     ]
    }
   ],
   "source": [
    "old_map_files = gsearch(map_dir, '*seed_mapLog.txt')\n",
    "old_map_files.sort()\n",
    "\n",
    "print('Old-style map files:')\n",
    "print(*old_map_files[:10], sep='\\n')"
   ]
  },
  {
   "cell_type": "markdown",
   "metadata": {},
   "source": [
    "Timestamp of first and last old-style files:"
   ]
  },
  {
   "cell_type": "code",
   "execution_count": 5,
   "metadata": {},
   "outputs": [
    {
     "name": "stdout",
     "output_type": "stream",
     "text": [
      "FIRST: 2019-07-29 15:24:45\n",
      "LAST: 2019-11-08 17:33:28\n"
     ]
    }
   ],
   "source": [
    "print('FIRST: %s' % file_tstamp(old_map_files[0]))\n",
    "print('LAST: %s' % file_tstamp(old_map_files[-1]))"
   ]
  },
  {
   "cell_type": "markdown",
   "metadata": {},
   "source": [
    "### New-style map change files\n",
    "More recent map change files include an extra column for player ID and do not include the mapseed in the filename."
   ]
  },
  {
   "cell_type": "code",
   "execution_count": 6,
   "metadata": {},
   "outputs": [
    {
     "name": "stdout",
     "output_type": "stream",
     "text": [
      "New-style map files:\n",
      "../data/publicMapChangeData/bigserver2.onehouronelife.com/1573895673time_mapLog.txt\n",
      "../data/publicMapChangeData/bigserver2.onehouronelife.com/1573982073time_mapLog.txt\n",
      "../data/publicMapChangeData/bigserver2.onehouronelife.com/1574068473time_mapLog.txt\n",
      "../data/publicMapChangeData/bigserver2.onehouronelife.com/1574102503time_mapLog.txt\n",
      "../data/publicMapChangeData/bigserver2.onehouronelife.com/1574151679time_mapLog.txt\n",
      "../data/publicMapChangeData/bigserver2.onehouronelife.com/1574238079time_mapLog.txt\n",
      "../data/publicMapChangeData/bigserver2.onehouronelife.com/1574324479time_mapLog.txt\n",
      "../data/publicMapChangeData/bigserver2.onehouronelife.com/1574410879time_mapLog.txt\n",
      "../data/publicMapChangeData/bigserver2.onehouronelife.com/1574497279time_mapLog.txt\n",
      "../data/publicMapChangeData/bigserver2.onehouronelife.com/1574552311time_mapLog.txt\n"
     ]
    }
   ],
   "source": [
    "new_map_files = gsearch(map_dir, '*time_mapLog.txt')\n",
    "new_map_files.sort()\n",
    "\n",
    "print('New-style map files:')\n",
    "print(*new_map_files[:10], sep='\\n')"
   ]
  },
  {
   "cell_type": "markdown",
   "metadata": {},
   "source": [
    "Timestamp of first and most recently downloaded new-style mapchange files:"
   ]
  },
  {
   "cell_type": "code",
   "execution_count": 7,
   "metadata": {},
   "outputs": [
    {
     "name": "stdout",
     "output_type": "stream",
     "text": [
      "FIRST: 2019-11-16 01:14:33\n",
      "LAST: 2020-06-14 14:46:25\n"
     ]
    }
   ],
   "source": [
    "print('FIRST: %s' % file_tstamp(new_map_files[0]))\n",
    "print('LAST: %s' % file_tstamp(new_map_files[-1]))"
   ]
  },
  {
   "cell_type": "markdown",
   "metadata": {},
   "source": [
    "### Mapseed timestamps?"
   ]
  },
  {
   "cell_type": "markdown",
   "metadata": {},
   "source": [
    "> The apocalypse is triggered by players and wipes out all player made items and **changes the world seed.** All players online in the world at that time stay in the world, still alive, just now naked and on new landscape, but still at the relative same coords as they were before apocalypse (for instance, if we are both at the same latitude but 1000 tiles apart on longitude when the apocalypse happens, in the new landscape we will still be on the same latitude and still 1000 tiles away on longitude). \n",
    "\n",
    "Source: [OHOL Forums](https://onehouronelife.com/forums/viewtopic.php?id=8997)\n",
    "\n",
    "Can we tell when apocalypses happened by marking when a new mapseed file is created in the new-style mapchange logs?"
   ]
  },
  {
   "cell_type": "code",
   "execution_count": 8,
   "metadata": {},
   "outputs": [
    {
     "name": "stdout",
     "output_type": "stream",
     "text": [
      "../data/publicMapChangeData/bigserver2.onehouronelife.com/1573895673time_mapSeed.txt\n",
      "../data/publicMapChangeData/bigserver2.onehouronelife.com/1574102503time_mapSeed.txt\n",
      "../data/publicMapChangeData/bigserver2.onehouronelife.com/1576038671time_mapSeed.txt\n",
      "../data/publicMapChangeData/bigserver2.onehouronelife.com/1578345720time_mapSeed.txt\n",
      "../data/publicMapChangeData/bigserver2.onehouronelife.com/1578354747time_mapSeed.txt\n"
     ]
    }
   ],
   "source": [
    "mapseed_files = gsearch(map_dir, '*mapSeed.txt')\n",
    "mapseed_files.sort()\n",
    "\n",
    "print(*mapseed_files[:5], sep='\\n')"
   ]
  },
  {
   "cell_type": "markdown",
   "metadata": {},
   "source": [
    "Mapseed timestamps:"
   ]
  },
  {
   "cell_type": "code",
   "execution_count": 9,
   "metadata": {},
   "outputs": [
    {
     "name": "stdout",
     "output_type": "stream",
     "text": [
      "14 server resets found\n",
      "2019-11-16 01:14:33\n",
      "2019-11-18 10:41:43\n",
      "2019-12-10 20:31:11\n",
      "2020-01-06 13:22:00\n",
      "2020-01-06 15:52:27\n",
      "2020-01-22 09:18:39\n",
      "2020-01-27 09:08:16\n",
      "2020-02-17 16:18:59\n",
      "2020-03-07 20:48:23\n",
      "2020-03-12 18:04:44\n",
      "2020-03-28 17:08:31\n",
      "2020-03-29 13:12:50\n",
      "2020-03-30 14:24:41\n",
      "2020-04-17 16:37:36\n"
     ]
    },
    {
     "data": {
      "text/plain": [
       "<matplotlib.colorbar.Colorbar at 0x7fac25eacb50>"
      ]
     },
     "execution_count": 9,
     "metadata": {},
     "output_type": "execute_result"
    },
    {
     "data": {
      "image/png": "[encoded data removed]",
      "text/plain": [
       "<Figure size 720x244.8 with 3 Axes>"
      ]
     },
     "metadata": {
      "needs_background": "light"
     },
     "output_type": "display_data"
    }
   ],
   "source": [
    "mapseed_dates = [file_tstamp(f) for f in mapseed_files]\n",
    "print('%i server resets found' % len(mapseed_dates))\n",
    "print(*mapseed_dates, sep='\\n')\n",
    "\n",
    "mapseed_df = pd.DataFrame(mapseed_dates, columns=['date'])\n",
    "mapseed_df['date'] = pd.to_datetime(mapseed_df['date'])\n",
    "mapseed_df['seed_reset'] = 1\n",
    "mapseed = pd.Series(mapseed_df['seed_reset'].values, index=mapseed_df['date'])\n",
    "\n",
    "fig,ax = calplot(mapseed, cmap='Reds', fillcolor='silver')\n",
    "fig.colorbar(ax[0].get_children()[1], ax=ax.ravel().tolist(), orientation = 'horizontal')"
   ]
  },
  {
   "cell_type": "markdown",
   "metadata": {},
   "source": [
    "## Wrangle new-style map change data"
   ]
  },
  {
   "cell_type": "markdown",
   "metadata": {},
   "source": [
    "### Clean up & concatenate map change files"
   ]
  },
  {
   "cell_type": "markdown",
   "metadata": {},
   "source": [
    "Load releases:"
   ]
  },
  {
   "cell_type": "code",
   "execution_count": 10,
   "metadata": {},
   "outputs": [
    {
     "data": {
      "text/html": [
       "<div>\n",
       "<style scoped>\n",
       "    .dataframe tbody tr th:only-of-type {\n",
       "        vertical-align: middle;\n",
       "    }\n",
       "\n",
       "    .dataframe tbody tr th {\n",
       "        vertical-align: top;\n",
       "    }\n",
       "\n",
       "    .dataframe thead th {\n",
       "        text-align: right;\n",
       "    }\n",
       "</style>\n",
       "<table border=\"1\" class=\"dataframe\">\n",
       "  <thead>\n",
       "    <tr style=\"text-align: right;\">\n",
       "      <th></th>\n",
       "      <th>release</th>\n",
       "      <th>timestamp</th>\n",
       "    </tr>\n",
       "  </thead>\n",
       "  <tbody>\n",
       "    <tr>\n",
       "      <th>0</th>\n",
       "      <td>1</td>\n",
       "      <td>1.483052e+09</td>\n",
       "    </tr>\n",
       "    <tr>\n",
       "      <th>1</th>\n",
       "      <td>5</td>\n",
       "      <td>1.483472e+09</td>\n",
       "    </tr>\n",
       "    <tr>\n",
       "      <th>2</th>\n",
       "      <td>8</td>\n",
       "      <td>1.484065e+09</td>\n",
       "    </tr>\n",
       "    <tr>\n",
       "      <th>3</th>\n",
       "      <td>14</td>\n",
       "      <td>1.484961e+09</td>\n",
       "    </tr>\n",
       "    <tr>\n",
       "      <th>4</th>\n",
       "      <td>16</td>\n",
       "      <td>1.492207e+09</td>\n",
       "    </tr>\n",
       "  </tbody>\n",
       "</table>\n",
       "</div>"
      ],
      "text/plain": [
       "   release     timestamp\n",
       "0        1  1.483052e+09\n",
       "1        5  1.483472e+09\n",
       "2        8  1.484065e+09\n",
       "3       14  1.484961e+09\n",
       "4       16  1.492207e+09"
      ]
     },
     "execution_count": 10,
     "metadata": {},
     "output_type": "execute_result"
    }
   ],
   "source": [
    "ver_file = '../1_download/outputs/version_history.tsv'\n",
    "\n",
    "# Load file\n",
    "ver = pd.read_csv(ver_file, sep='\\t')\n",
    "ver.head()"
   ]
  },
  {
   "cell_type": "markdown",
   "metadata": {},
   "source": [
    "Helper function: Find closest-matching release"
   ]
  },
  {
   "cell_type": "code",
   "execution_count": 11,
   "metadata": {},
   "outputs": [],
   "source": [
    "def find_version(start_t):\n",
    "\n",
    "    tmp_ver = ver.copy()\n",
    "    tmp_ver['lag'] = start_t - tmp_ver['timestamp']\n",
    "    tmp_ver = tmp_ver[tmp_ver['lag'] >= 0]\n",
    "\n",
    "    file_ver = tmp_ver.loc[tmp_ver['lag'].idxmin()].release\n",
    "    file_ver = int(file_ver)\n",
    "    \n",
    "    return file_ver"
   ]
  },
  {
   "cell_type": "markdown",
   "metadata": {},
   "source": [
    "Helper function: Read map change file and convert into a nice dataframe"
   ]
  },
  {
   "cell_type": "code",
   "execution_count": 12,
   "metadata": {},
   "outputs": [],
   "source": [
    "def make_map_df(f):\n",
    "\n",
    "    # Read start time from first line\n",
    "    with open(f) as handle:\n",
    "        start_line = handle.readline()\n",
    "    start_str = str_extract('\\d+\\.\\d+', start_line)\n",
    "    start_t = float(start_str)\n",
    "\n",
    "    # Match start time to release\n",
    "    log_release = find_version(start_t)\n",
    "    \n",
    "    # Out file\n",
    "    out_file = 'outputs/maplog/maplog_release-%i_start-%i.tsv' % (log_release, start_t)\n",
    "\n",
    "    # Convert to dataframe\n",
    "    log_df = pd.read_table(f, sep=' ', skiprows=1, header=None, names=['t_elapsed', 'x', 'y', 'object_id', 'player_id'])\n",
    "    log_df = log_df.dropna()\n",
    "    return log_df, out_file"
   ]
  },
  {
   "cell_type": "markdown",
   "metadata": {},
   "source": [
    "Read all mapchange files and convert to dataframe:"
   ]
  },
  {
   "cell_type": "code",
   "execution_count": 13,
   "metadata": {},
   "outputs": [
    {
     "data": {
      "application/vnd.jupyter.widget-view+json": {
       "model_id": "9b98346592604ee7aea4762cfa6acb73",
       "version_major": 2,
       "version_minor": 0
      },
      "text/plain": [
       "HBox(children=(FloatProgress(value=0.0, max=236.0), HTML(value='')))"
      ]
     },
     "metadata": {},
     "output_type": "display_data"
    },
    {
     "name": "stderr",
     "output_type": "stream",
     "text": [
      "/Users/nvelez/opt/anaconda3/lib/python3.7/site-packages/IPython/core/interactiveshell.py:3254: DtypeWarning: Columns (0) have mixed types.Specify dtype option on import or set low_memory=False.\n",
      "  if (await self.run_code(code, result,  async_=asy)):\n",
      "/Users/nvelez/opt/anaconda3/lib/python3.7/site-packages/IPython/core/interactiveshell.py:3254: DtypeWarning: Columns (2) have mixed types.Specify dtype option on import or set low_memory=False.\n",
      "  if (await self.run_code(code, result,  async_=asy)):\n"
     ]
    },
    {
     "name": "stdout",
     "output_type": "stream",
     "text": [
      "\n"
     ]
    }
   ],
   "source": [
    "for f in notebook.tqdm(new_map_files):\n",
    "    tmp_df, out_f = make_map_df(f)\n",
    "    \n",
    "    # Save to file\n",
    "    tmp_df.to_csv(out_f, sep='\\t', index=False)"
   ]
  },
  {
   "cell_type": "markdown",
   "metadata": {},
   "source": [
    "## Detect map seed changes"
   ]
  },
  {
   "cell_type": "markdown",
   "metadata": {},
   "source": [
    "Find seed files:"
   ]
  },
  {
   "cell_type": "code",
   "execution_count": 17,
   "metadata": {},
   "outputs": [
    {
     "name": "stdout",
     "output_type": "stream",
     "text": [
      "../data/publicMapChangeData/bigserver2.onehouronelife.com/1573895673time_mapSeed.txt\n",
      "../data/publicMapChangeData/bigserver2.onehouronelife.com/1574102503time_mapSeed.txt\n",
      "../data/publicMapChangeData/bigserver2.onehouronelife.com/1576038671time_mapSeed.txt\n",
      "../data/publicMapChangeData/bigserver2.onehouronelife.com/1578345720time_mapSeed.txt\n",
      "../data/publicMapChangeData/bigserver2.onehouronelife.com/1578354747time_mapSeed.txt\n",
      "../data/publicMapChangeData/bigserver2.onehouronelife.com/1579713519time_mapSeed.txt\n",
      "../data/publicMapChangeData/bigserver2.onehouronelife.com/1580144896time_mapSeed.txt\n",
      "../data/publicMapChangeData/bigserver2.onehouronelife.com/1581985139time_mapSeed.txt\n",
      "../data/publicMapChangeData/bigserver2.onehouronelife.com/1583642903time_mapSeed.txt\n",
      "../data/publicMapChangeData/bigserver2.onehouronelife.com/1584061484time_mapSeed.txt\n",
      "../data/publicMapChangeData/bigserver2.onehouronelife.com/1585440511time_mapSeed.txt\n",
      "../data/publicMapChangeData/bigserver2.onehouronelife.com/1585512770time_mapSeed.txt\n",
      "../data/publicMapChangeData/bigserver2.onehouronelife.com/1585603481time_mapSeed.txt\n",
      "../data/publicMapChangeData/bigserver2.onehouronelife.com/1587166656time_mapSeed.txt\n"
     ]
    }
   ],
   "source": [
    "seed_files = gsearch(map_dir, '*mapSeed.txt')\n",
    "seed_files.sort()\n",
    "print(*seed_files, sep='\\n')"
   ]
  },
  {
   "cell_type": "markdown",
   "metadata": {},
   "source": [
    "Read seed files:"
   ]
  },
  {
   "cell_type": "code",
   "execution_count": 29,
   "metadata": {},
   "outputs": [],
   "source": [
    "seed_list = []\n",
    "seed_file = 'outputs/seed_changes.txt'\n",
    "\n",
    "for f in seed_files:\n",
    "    tstamp = str_extract('[0-9]+(?=time)', f)\n",
    "    seed_list.append(tstamp)\n",
    "\n",
    "seed_list = '\\n'.join(seed_list)\n",
    "\n",
    "with open(seed_file, 'w') as out:\n",
    "    out.writelines(seed_list)"
   ]
  }
 ],
 "metadata": {
  "kernelspec": {
   "display_name": "Python 3",
   "language": "python",
   "name": "python3"
  },
  "language_info": {
   "codemirror_mode": {
    "name": "ipython",
    "version": 3
   },
   "file_extension": ".py",
   "mimetype": "text/x-python",
   "name": "python",
   "nbconvert_exporter": "python",
   "pygments_lexer": "ipython3",
   "version": "3.7.6"
  }
 },
 "nbformat": 4,
 "nbformat_minor": 4
}
