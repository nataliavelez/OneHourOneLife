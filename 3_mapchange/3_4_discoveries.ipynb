{
 "cells": [
  {
   "cell_type": "markdown",
   "metadata": {},
   "source": [
    "# Detecting discoveries\n",
    "Natalia Vélez, July 2020"
   ]
  },
  {
   "cell_type": "code",
   "execution_count": 74,
   "metadata": {},
   "outputs": [],
   "source": [
    "%matplotlib inline\n",
    "\n",
    "import os, re, glob\n",
    "import pandas as pd\n",
    "import numpy as np\n",
    "\n",
    "from os.path import join as opj\n",
    "from gini import gini\n",
    "\n",
    "import matplotlib.pyplot as plt\n",
    "import seaborn as sns"
   ]
  },
  {
   "cell_type": "markdown",
   "metadata": {},
   "source": [
    "Find map change files:"
   ]
  },
  {
   "cell_type": "code",
   "execution_count": 2,
   "metadata": {},
   "outputs": [
    {
     "name": "stdout",
     "output_type": "stream",
     "text": [
      "Found 236 files\n",
      "outputs/maplog/maplog_release-284_start-1573895672.tsv\n",
      "outputs/maplog/maplog_release-284_start-1573982073.tsv\n",
      "outputs/maplog/maplog_release-284_start-1574068473.tsv\n",
      "outputs/maplog/maplog_release-285_start-1574102503.tsv\n",
      "outputs/maplog/maplog_release-287_start-1574151678.tsv\n",
      "outputs/maplog/maplog_release-287_start-1574238079.tsv\n",
      "outputs/maplog/maplog_release-287_start-1574324479.tsv\n",
      "outputs/maplog/maplog_release-287_start-1574410879.tsv\n",
      "outputs/maplog/maplog_release-287_start-1574497279.tsv\n",
      "outputs/maplog/maplog_release-289_start-1574552311.tsv\n"
     ]
    }
   ],
   "source": [
    "gsearch = lambda *args: glob.glob(opj(*args))\n",
    "map_dir = 'outputs/maplog/'\n",
    "\n",
    "map_files = gsearch(map_dir, '*.tsv')\n",
    "map_files.sort()\n",
    "\n",
    "print('Found %i files' % len(map_files))\n",
    "print(*map_files[:10], sep='\\n')"
   ]
  },
  {
   "cell_type": "markdown",
   "metadata": {},
   "source": [
    "Find map seed changes:"
   ]
  },
  {
   "cell_type": "code",
   "execution_count": 3,
   "metadata": {},
   "outputs": [
    {
     "name": "stdout",
     "output_type": "stream",
     "text": [
      "[1573895673 1574102503 1576038671 1578345720 1578354747 1579713519\n",
      " 1580144896 1581985139 1583642903 1584061484 1585440511 1585512770\n",
      " 1585603481 1587166656]\n"
     ]
    }
   ],
   "source": [
    "seed_file = 'outputs/seed_changes.txt'\n",
    "with open(seed_file, 'r') as handle:\n",
    "    seed_data = handle.read().splitlines()\n",
    "\n",
    "seed_changes = np.array([int(s) for s in seed_data])\n",
    "seed_changes = np.sort(seed_changes)\n",
    "\n",
    "print(seed_changes)"
   ]
  },
  {
   "cell_type": "markdown",
   "metadata": {},
   "source": [
    "Helper function: Find map seed corresponding to log file"
   ]
  },
  {
   "cell_type": "code",
   "execution_count": 4,
   "metadata": {},
   "outputs": [],
   "source": [
    "def find_seed(tstamp):\n",
    "    \n",
    "    lag = tstamp - seed_changes\n",
    "    seeds = seed_changes[lag >= 0]\n",
    "    if len(seeds):\n",
    "        seed = seeds[-1]\n",
    "    else: # Special: First log file\n",
    "        seed = seed_changes[0]\n",
    "            \n",
    "    return seed"
   ]
  },
  {
   "cell_type": "markdown",
   "metadata": {},
   "source": [
    "Group mapchange files by world seed:"
   ]
  },
  {
   "cell_type": "code",
   "execution_count": 5,
   "metadata": {},
   "outputs": [
    {
     "data": {
      "text/html": [
       "<div>\n",
       "<style scoped>\n",
       "    .dataframe tbody tr th:only-of-type {\n",
       "        vertical-align: middle;\n",
       "    }\n",
       "\n",
       "    .dataframe tbody tr th {\n",
       "        vertical-align: top;\n",
       "    }\n",
       "\n",
       "    .dataframe thead th {\n",
       "        text-align: right;\n",
       "    }\n",
       "</style>\n",
       "<table border=\"1\" class=\"dataframe\">\n",
       "  <thead>\n",
       "    <tr style=\"text-align: right;\">\n",
       "      <th></th>\n",
       "      <th>file</th>\n",
       "      <th>tstamp</th>\n",
       "      <th>seed</th>\n",
       "    </tr>\n",
       "  </thead>\n",
       "  <tbody>\n",
       "    <tr>\n",
       "      <th>0</th>\n",
       "      <td>outputs/maplog/maplog_release-284_start-157389...</td>\n",
       "      <td>1573895672</td>\n",
       "      <td>1573895673</td>\n",
       "    </tr>\n",
       "    <tr>\n",
       "      <th>1</th>\n",
       "      <td>outputs/maplog/maplog_release-284_start-157398...</td>\n",
       "      <td>1573982073</td>\n",
       "      <td>1573895673</td>\n",
       "    </tr>\n",
       "    <tr>\n",
       "      <th>2</th>\n",
       "      <td>outputs/maplog/maplog_release-284_start-157406...</td>\n",
       "      <td>1574068473</td>\n",
       "      <td>1573895673</td>\n",
       "    </tr>\n",
       "    <tr>\n",
       "      <th>3</th>\n",
       "      <td>outputs/maplog/maplog_release-285_start-157410...</td>\n",
       "      <td>1574102503</td>\n",
       "      <td>1574102503</td>\n",
       "    </tr>\n",
       "    <tr>\n",
       "      <th>4</th>\n",
       "      <td>outputs/maplog/maplog_release-287_start-157415...</td>\n",
       "      <td>1574151678</td>\n",
       "      <td>1574102503</td>\n",
       "    </tr>\n",
       "  </tbody>\n",
       "</table>\n",
       "</div>"
      ],
      "text/plain": [
       "                                                file      tstamp        seed\n",
       "0  outputs/maplog/maplog_release-284_start-157389...  1573895672  1573895673\n",
       "1  outputs/maplog/maplog_release-284_start-157398...  1573982073  1573895673\n",
       "2  outputs/maplog/maplog_release-284_start-157406...  1574068473  1573895673\n",
       "3  outputs/maplog/maplog_release-285_start-157410...  1574102503  1574102503\n",
       "4  outputs/maplog/maplog_release-287_start-157415...  1574151678  1574102503"
      ]
     },
     "execution_count": 5,
     "metadata": {},
     "output_type": "execute_result"
    }
   ],
   "source": [
    "file_df = pd.DataFrame(map_files, columns=['file'])\n",
    "file_df['tstamp'] = file_df.file.str.extract('(?<=start-)([0-9]+)')\n",
    "file_df['tstamp'] = file_df['tstamp'].astype(np.int)\n",
    "file_df['seed'] = file_df.tstamp.apply(find_seed)\n",
    "file_df = file_df.sort_values('tstamp')\n",
    "\n",
    "file_df.head()"
   ]
  },
  {
   "cell_type": "markdown",
   "metadata": {},
   "source": [
    "Procedure for generating discoveries:"
   ]
  },
  {
   "cell_type": "code",
   "execution_count": 71,
   "metadata": {},
   "outputs": [],
   "source": [
    "name = 1573895673\n",
    "group = file_df[file_df['seed'] == name]\n",
    "out_file = 'outputs/discoveries/%s_start-%i.tsv'\n",
    "\n",
    "# Combine all log entries with the same map seed\n",
    "group_list = []\n",
    "for idx, row in group.iterrows():\n",
    "    f_data = pd.read_csv(row['file'], sep='\\t') \n",
    "    f_data['t_elapsed'] = f_data['t_elapsed'] + row['tstamp']\n",
    "    group_list.append(f_data)\n",
    "\n",
    "group_df = pd.concat(group_list)\n",
    "\n",
    "# Player events only\n",
    "group_df = group_df[group_df['player_id'] > 0]\n",
    "\n",
    "# Parse object IDs, removing special identifiers\n",
    "group_df['object_id'] = group_df.object_id.str.replace('(^f|v[0-9]+|u[0-9]+)', '')\n",
    "group_df['object_id'] = group_df['object_id'].astype(np.int)\n",
    "\n",
    "# Only interactions with valid objects\n",
    "group_df = group_df[(group_df['object_id'] > 0) & (group_df['object_id'] < 5000)]\n",
    "group_df = group_df.reset_index(drop = True)\n",
    "\n",
    "# First interaction with object\n",
    "discovery_df = group_df.copy().sort_values('t_elapsed')\n",
    "discovery_df = discovery_df.groupby('object_id').first().reset_index()\n",
    "discovery_df.to_csv(out_file % ('objects_discovered', name), sep='\\t', index=None)\n",
    "\n",
    "# Number of discoveries\n",
    "discoverers = discovery_df.copy().groupby('player_id')['object_id'].count().reset_index()\n",
    "discoverers = discoverers.rename(columns = {'object_id': 'discoveries'})\n",
    "discoverers = discoverers.sort_values('discoveries', ascending = True).reset_index(drop=True)\n",
    "\n",
    "# Cumulative share of players and discoveries (for Lorenz curve)\n",
    "discoverers['cum_players'] = [float(i)/len(discoverers) for i in range(len(discoverers))]\n",
    "discoverers['cum_discoveries'] = discoverers['discoveries'].cumsum()\n",
    "discoverers['cum_discoveries'] = discoverers['cum_discoveries']/np.sum(discoverers['discoveries'])\n",
    "\n",
    "discoverers.to_csv(out_file % ('player_discoveries', name), sep='\\t', index=None)"
   ]
  },
  {
   "cell_type": "code",
   "execution_count": 65,
   "metadata": {},
   "outputs": [
    {
     "data": {
      "text/plain": [
       "0.5583672231454934"
      ]
     },
     "execution_count": 65,
     "metadata": {},
     "output_type": "execute_result"
    }
   ],
   "source": [
    "gini(discoverers['discoveries'].astype(np.float).values)"
   ]
  },
  {
   "cell_type": "code",
   "execution_count": 122,
   "metadata": {},
   "outputs": [
    {
     "data": {
      "text/plain": [
       "[(0, 1),\n",
       " Text(0, 0.5, 'Cumulative share of discoveries'),\n",
       " (0, 1),\n",
       " Text(0.5, 0, 'Cumulative share of players\\n(Fewest to most discoveries)'),\n",
       " None]"
      ]
     },
     "execution_count": 122,
     "metadata": {},
     "output_type": "execute_result"
    },
    {
     "data": {
      "image/png": "[encoded data removed]",
      "text/plain": [
       "<Figure size 432x288 with 1 Axes>"
      ]
     },
     "metadata": {
      "needs_background": "light"
     },
     "output_type": "display_data"
    }
   ],
   "source": [
    "highlight_col = '#ffad3b'\n",
    "\n",
    "# Cumulative distribution\n",
    "ax = sns.lineplot(data = discoverers, x = 'cum_players', y = 'cum_discoveries', color = highlight_col)\n",
    "\n",
    "# Fill in area over Lorenz curve\n",
    "ax.fill_between(discoverers['cum_players'], discoverers['cum_discoveries'], discoverers['cum_players'],\n",
    "               color = highlight_col)\n",
    "\n",
    "# Write Gini coefficient on plot\n",
    "g = gini(discoverers['cum_discoveries'].values)\n",
    "ax.text(0.75, 0.075, 'G = %.2f' % g, \n",
    "        bbox = {'facecolor': '#ffffff', 'edgecolor': highlight_col})\n",
    "\n",
    "# Line of equality\n",
    "ax.plot([0, 1], [0, 1], transform=ax.transAxes, linestyle='-', color='black', linewidth = 1) \n",
    "## Customize\n",
    "ax.yaxis.tick_right() # Move axes to the right\n",
    "ax.yaxis.set_label_position(\"right\")\n",
    "ax.spines[\"top\"].set_visible(False)\n",
    "ax.spines[\"left\"].set_visible(False)\n",
    "\n",
    "ax.set(xlim = [0,1], ylim= [0,1], aspect = 1.0,\n",
    "       xlabel='Cumulative share of players\\n(Fewest to most discoveries)',\n",
    "       ylabel='Cumulative share of discoveries')"
   ]
  },
  {
   "cell_type": "code",
   "execution_count": null,
   "metadata": {},
   "outputs": [],
   "source": []
  }
 ],
 "metadata": {
  "kernelspec": {
   "display_name": "Python 3",
   "language": "python",
   "name": "python3"
  },
  "language_info": {
   "codemirror_mode": {
    "name": "ipython",
    "version": 3
   },
   "file_extension": ".py",
   "mimetype": "text/x-python",
   "name": "python",
   "nbconvert_exporter": "python",
   "pygments_lexer": "ipython3",
   "version": "3.7.6"
  }
 },
 "nbformat": 4,
 "nbformat_minor": 4
}
