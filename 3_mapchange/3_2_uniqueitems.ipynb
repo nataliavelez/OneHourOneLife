{
 "cells": [
  {
   "cell_type": "markdown",
   "metadata": {},
   "source": [
    "# Parsing unique items and item modifiers in map change data\n",
    "Natalia Vélez, June 2020\n",
    "\n",
    "Some items have special modifiers attached to the object ID:\n",
    "\n",
    "```\n",
    "483.81 -5123 -1390 2742u3 2276909\n",
    "…\n",
    "511.16 -5123 -1392 2742u2 2276909\n",
    "…\n",
    "516.87 -5123 -1392 2742u1 2276905\n",
    "…\n",
    "522.20 -5123 -1392 2742u0 2276914\n",
    "```\n",
    "\n",
    "That exact ID “2742u3” doesn’t match any objects, but it’s possible that “u[0-9]” is a counter on how many uses are remaining in an object with multiple uses. Object 2742 is a carrot pile, which has up to 5 uses. This log could show that multiple players went up to this carrot pile and ate from it.\n",
    "\n",
    "How many modifiers are there, and what do they mean?"
   ]
  },
  {
   "cell_type": "code",
   "execution_count": 1,
   "metadata": {},
   "outputs": [],
   "source": [
    "import os, re, glob, datetime\n",
    "from os.path import join as opj\n",
    "import pandas as pd\n",
    "import numpy as np\n",
    "from tqdm import tqdm_notebook"
   ]
  },
  {
   "cell_type": "markdown",
   "metadata": {},
   "source": [
    "Maplog files:"
   ]
  },
  {
   "cell_type": "code",
   "execution_count": 2,
   "metadata": {},
   "outputs": [
    {
     "name": "stdout",
     "output_type": "stream",
     "text": [
      "outputs/maplogs/maplog_release-283_start-1573895672.tsv\n",
      "outputs/maplogs/maplog_release-283_start-1573982073.tsv\n",
      "outputs/maplogs/maplog_release-286_start-1574068473.tsv\n",
      "outputs/maplogs/maplog_release-286_start-1574102503.tsv\n",
      "outputs/maplogs/maplog_release-286_start-1574151678.tsv\n"
     ]
    }
   ],
   "source": [
    "map_files = glob.glob('outputs/maplogs/maplog*.tsv')\n",
    "map_files.sort()\n",
    "\n",
    "print(*map_files[:5], sep='\\n')"
   ]
  },
  {
   "cell_type": "markdown",
   "metadata": {},
   "source": [
    "Helper: Process individual file"
   ]
  },
  {
   "cell_type": "code",
   "execution_count": 17,
   "metadata": {},
   "outputs": [],
   "source": [
    "file = map_files[0]\n",
    "\n",
    "# Trim invalid \n",
    "map_df = pd.read_csv(file, sep='\\t')\n",
    "map_df = map_df[map_df.player_id > 0]\n",
    "map_df.head()\n",
    "\n",
    "# Unique items\n",
    "obj_list = map_df.object_id.tolist()\n",
    "unique_obj = np.unique(obj_list).tolist()\n",
    "unique_obj.sort()\n",
    "\n",
    "# Unique modifiers\n",
    "unique_str = '|'.join(unique_obj)\n",
    "item_modifiers = re.findall('[a-z]+', unique_str)\n",
    "unique_modifiers = np.unique(item_modifiers).tolist()\n",
    "unique_modifiers.sort()"
   ]
  },
  {
   "cell_type": "code",
   "execution_count": 18,
   "metadata": {},
   "outputs": [
    {
     "data": {
      "text/plain": [
       "2237"
      ]
     },
     "execution_count": 18,
     "metadata": {},
     "output_type": "execute_result"
    }
   ],
   "source": [
    "len(unique_obj)"
   ]
  },
  {
   "cell_type": "code",
   "execution_count": 19,
   "metadata": {},
   "outputs": [
    {
     "data": {
      "text/plain": [
       "['1000v5',\n",
       " '1002v3',\n",
       " '1003v5',\n",
       " '912v3',\n",
       " '917v0',\n",
       " '917v3',\n",
       " '917v5',\n",
       " '921v3',\n",
       " '921v5',\n",
       " '924v3',\n",
       " '924v5',\n",
       " '988v3',\n",
       " '989v3']"
      ]
     },
     "execution_count": 19,
     "metadata": {},
     "output_type": "execute_result"
    }
   ],
   "source": [
    "re.findall('[0-9]+v[0-9]+', unique_str)"
   ]
  },
  {
   "cell_type": "code",
   "execution_count": null,
   "metadata": {},
   "outputs": [],
   "source": [
    "unique_str = '|'.join([str(i) for i in unique_items])\n",
    "\n",
    "item_modifiers = re.findall(unique_str, 'f[0-9]+')\n",
    "item_modifiers "
   ]
  },
  {
   "cell_type": "code",
   "execution_count": null,
   "metadata": {},
   "outputs": [],
   "source": [
    "map_df[map_df.object_id.str.len() == 9]"
   ]
  },
  {
   "cell_type": "code",
   "execution_count": null,
   "metadata": {},
   "outputs": [],
   "source": []
  }
 ],
 "metadata": {
  "kernelspec": {
   "display_name": "Python 3",
   "language": "python",
   "name": "python3"
  },
  "language_info": {
   "codemirror_mode": {
    "name": "ipython",
    "version": 3
   },
   "file_extension": ".py",
   "mimetype": "text/x-python",
   "name": "python",
   "nbconvert_exporter": "python",
   "pygments_lexer": "ipython3",
   "version": "3.7.6"
  }
 },
 "nbformat": 4,
 "nbformat_minor": 4
}
