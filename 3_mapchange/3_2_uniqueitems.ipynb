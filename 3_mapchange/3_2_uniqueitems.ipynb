{
 "cells": [
  {
   "cell_type": "markdown",
   "metadata": {},
   "source": [
    "# Parsing unique items and item modifiers in map change data\n",
    "Natalia Vélez, June 2020\n",
    "\n",
    "Some items have special modifiers attached to the object ID:\n",
    "\n",
    "```\n",
    "483.81 -5123 -1390 2742u3 2276909\n",
    "…\n",
    "511.16 -5123 -1392 2742u2 2276909\n",
    "…\n",
    "516.87 -5123 -1392 2742u1 2276905\n",
    "…\n",
    "522.20 -5123 -1392 2742u0 2276914\n",
    "```\n",
    "\n",
    "That exact ID “2742u3” doesn’t match any objects, but it’s possible that “u[0-9]” is a counter on how many uses are remaining in an object with multiple uses. Object 2742 is a carrot pile, which has up to 5 uses. This log could show that multiple players went up to this carrot pile and ate from it.\n",
    "\n",
    "How many modifiers are there, and what do they mean?"
   ]
  },
  {
   "cell_type": "code",
   "execution_count": 1,
   "metadata": {},
   "outputs": [],
   "source": [
    "import os, re, glob, datetime\n",
    "from os.path import join as opj\n",
    "import pandas as pd\n",
    "import numpy as np\n",
    "from tqdm import tqdm_notebook"
   ]
  },
  {
   "cell_type": "markdown",
   "metadata": {},
   "source": [
    "Maplog files:"
   ]
  },
  {
   "cell_type": "code",
   "execution_count": 2,
   "metadata": {},
   "outputs": [
    {
     "name": "stdout",
     "output_type": "stream",
     "text": [
      "outputs/maplogs/maplog_release-283_start-1573895672.tsv\n",
      "outputs/maplogs/maplog_release-283_start-1573982073.tsv\n",
      "outputs/maplogs/maplog_release-286_start-1574068473.tsv\n",
      "outputs/maplogs/maplog_release-286_start-1574102503.tsv\n",
      "outputs/maplogs/maplog_release-286_start-1574151678.tsv\n"
     ]
    }
   ],
   "source": [
    "map_files = glob.glob('outputs/maplogs/maplog*.tsv')\n",
    "map_files.sort()\n",
    "\n",
    "print(*map_files[:5], sep='\\n')"
   ]
  },
  {
   "cell_type": "markdown",
   "metadata": {},
   "source": [
    "Helper: Process individual file"
   ]
  },
  {
   "cell_type": "code",
   "execution_count": 19,
   "metadata": {},
   "outputs": [],
   "source": [
    "file = map_files[3]\n",
    "\n",
    "# Trim invalid \n",
    "map_df = pd.read_csv(file, sep='\\t')\n",
    "map_df = map_df[map_df.player_id > 0]\n",
    "map_df.head()\n",
    "\n",
    "# Unique items\n",
    "obj_list = map_df.object_id.tolist()\n",
    "unique_obj = np.unique(obj_list).tolist()\n",
    "unique_obj.sort()\n",
    "\n",
    "# Unique modifiers\n",
    "unique_str = '|'.join(unique_obj)\n",
    "item_modifiers = re.findall('[a-z]+', unique_str)\n",
    "unique_modifiers = np.unique(item_modifiers).tolist()\n",
    "unique_modifiers.sort()"
   ]
  },
  {
   "cell_type": "code",
   "execution_count": 17,
   "metadata": {},
   "outputs": [
    {
     "data": {
      "text/plain": [
       "['912v0',\n",
       " '912v1',\n",
       " '912v2',\n",
       " '912v3',\n",
       " '912v4',\n",
       " '912v5',\n",
       " '912v6',\n",
       " '917v6',\n",
       " '990v6']"
      ]
     },
     "execution_count": 17,
     "metadata": {},
     "output_type": "execute_result"
    }
   ],
   "source": [
    "re.findall('[0-9]+v[0-9]+', unique_str)"
   ]
  },
  {
   "cell_type": "code",
   "execution_count": 7,
   "metadata": {},
   "outputs": [
    {
     "ename": "NameError",
     "evalue": "name 'unique_items' is not defined",
     "output_type": "error",
     "traceback": [
      "\u001b[0;31m---------------------------------------------------------------------------\u001b[0m",
      "\u001b[0;31mNameError\u001b[0m                                 Traceback (most recent call last)",
      "\u001b[0;32m<ipython-input-7-6070fa41a899>\u001b[0m in \u001b[0;36m<module>\u001b[0;34m\u001b[0m\n\u001b[0;32m----> 1\u001b[0;31m \u001b[0munique_str\u001b[0m \u001b[0;34m=\u001b[0m \u001b[0;34m'|'\u001b[0m\u001b[0;34m.\u001b[0m\u001b[0mjoin\u001b[0m\u001b[0;34m(\u001b[0m\u001b[0;34m[\u001b[0m\u001b[0mstr\u001b[0m\u001b[0;34m(\u001b[0m\u001b[0mi\u001b[0m\u001b[0;34m)\u001b[0m \u001b[0;32mfor\u001b[0m \u001b[0mi\u001b[0m \u001b[0;32min\u001b[0m \u001b[0munique_items\u001b[0m\u001b[0;34m]\u001b[0m\u001b[0;34m)\u001b[0m\u001b[0;34m\u001b[0m\u001b[0;34m\u001b[0m\u001b[0m\n\u001b[0m\u001b[1;32m      2\u001b[0m \u001b[0;34m\u001b[0m\u001b[0m\n\u001b[1;32m      3\u001b[0m \u001b[0mitem_modifiers\u001b[0m \u001b[0;34m=\u001b[0m \u001b[0mre\u001b[0m\u001b[0;34m.\u001b[0m\u001b[0mfindall\u001b[0m\u001b[0;34m(\u001b[0m\u001b[0munique_str\u001b[0m\u001b[0;34m,\u001b[0m \u001b[0;34m'f[0-9]+'\u001b[0m\u001b[0;34m)\u001b[0m\u001b[0;34m\u001b[0m\u001b[0;34m\u001b[0m\u001b[0m\n\u001b[1;32m      4\u001b[0m \u001b[0mitem_modifiers\u001b[0m\u001b[0;34m\u001b[0m\u001b[0;34m\u001b[0m\u001b[0m\n",
      "\u001b[0;31mNameError\u001b[0m: name 'unique_items' is not defined"
     ]
    }
   ],
   "source": [
    "unique_str = '|'.join([str(i) for i in unique_items])\n",
    "\n",
    "item_modifiers = re.findall(unique_str, 'f[0-9]+')\n",
    "item_modifiers "
   ]
  },
  {
   "cell_type": "code",
   "execution_count": 20,
   "metadata": {},
   "outputs": [
    {
     "data": {
      "text/html": [
       "<div>\n",
       "<style scoped>\n",
       "    .dataframe tbody tr th:only-of-type {\n",
       "        vertical-align: middle;\n",
       "    }\n",
       "\n",
       "    .dataframe tbody tr th {\n",
       "        vertical-align: top;\n",
       "    }\n",
       "\n",
       "    .dataframe thead th {\n",
       "        text-align: right;\n",
       "    }\n",
       "</style>\n",
       "<table border=\"1\" class=\"dataframe\">\n",
       "  <thead>\n",
       "    <tr style=\"text-align: right;\">\n",
       "      <th></th>\n",
       "      <th>t_elapsed</th>\n",
       "      <th>x</th>\n",
       "      <th>y</th>\n",
       "      <th>object_id</th>\n",
       "      <th>player_id</th>\n",
       "    </tr>\n",
       "  </thead>\n",
       "  <tbody>\n",
       "    <tr>\n",
       "      <th>322558</th>\n",
       "      <td>19737.65</td>\n",
       "      <td>39</td>\n",
       "      <td>-513</td>\n",
       "      <td>146410607</td>\n",
       "      <td>2287310</td>\n",
       "    </tr>\n",
       "    <tr>\n",
       "      <th>322575</th>\n",
       "      <td>19738.66</td>\n",
       "      <td>39</td>\n",
       "      <td>-513</td>\n",
       "      <td>146410607</td>\n",
       "      <td>2287310</td>\n",
       "    </tr>\n",
       "    <tr>\n",
       "      <th>322611</th>\n",
       "      <td>19740.06</td>\n",
       "      <td>39</td>\n",
       "      <td>-513</td>\n",
       "      <td>146410607</td>\n",
       "      <td>2287310</td>\n",
       "    </tr>\n",
       "    <tr>\n",
       "      <th>322692</th>\n",
       "      <td>19744.84</td>\n",
       "      <td>39</td>\n",
       "      <td>-513</td>\n",
       "      <td>146410607</td>\n",
       "      <td>2287467</td>\n",
       "    </tr>\n",
       "    <tr>\n",
       "      <th>322717</th>\n",
       "      <td>19746.34</td>\n",
       "      <td>39</td>\n",
       "      <td>-513</td>\n",
       "      <td>146410607</td>\n",
       "      <td>2287467</td>\n",
       "    </tr>\n",
       "    <tr>\n",
       "      <th>...</th>\n",
       "      <td>...</td>\n",
       "      <td>...</td>\n",
       "      <td>...</td>\n",
       "      <td>...</td>\n",
       "      <td>...</td>\n",
       "    </tr>\n",
       "    <tr>\n",
       "      <th>707014</th>\n",
       "      <td>44943.53</td>\n",
       "      <td>248</td>\n",
       "      <td>-491</td>\n",
       "      <td>148112975</td>\n",
       "      <td>2288593</td>\n",
       "    </tr>\n",
       "    <tr>\n",
       "      <th>707036</th>\n",
       "      <td>44946.12</td>\n",
       "      <td>-254</td>\n",
       "      <td>35</td>\n",
       "      <td>148900975</td>\n",
       "      <td>2288595</td>\n",
       "    </tr>\n",
       "    <tr>\n",
       "      <th>707154</th>\n",
       "      <td>44960.09</td>\n",
       "      <td>-254</td>\n",
       "      <td>36</td>\n",
       "      <td>148900975</td>\n",
       "      <td>2288604</td>\n",
       "    </tr>\n",
       "    <tr>\n",
       "      <th>707645</th>\n",
       "      <td>45016.85</td>\n",
       "      <td>-254</td>\n",
       "      <td>37</td>\n",
       "      <td>148900975</td>\n",
       "      <td>2288581</td>\n",
       "    </tr>\n",
       "    <tr>\n",
       "      <th>707835</th>\n",
       "      <td>45041.06</td>\n",
       "      <td>246</td>\n",
       "      <td>-526</td>\n",
       "      <td>147590255</td>\n",
       "      <td>2288593</td>\n",
       "    </tr>\n",
       "  </tbody>\n",
       "</table>\n",
       "<p>509 rows × 5 columns</p>\n",
       "</div>"
      ],
      "text/plain": [
       "        t_elapsed    x    y  object_id  player_id\n",
       "322558   19737.65   39 -513  146410607    2287310\n",
       "322575   19738.66   39 -513  146410607    2287310\n",
       "322611   19740.06   39 -513  146410607    2287310\n",
       "322692   19744.84   39 -513  146410607    2287467\n",
       "322717   19746.34   39 -513  146410607    2287467\n",
       "...           ...  ...  ...        ...        ...\n",
       "707014   44943.53  248 -491  148112975    2288593\n",
       "707036   44946.12 -254   35  148900975    2288595\n",
       "707154   44960.09 -254   36  148900975    2288604\n",
       "707645   45016.85 -254   37  148900975    2288581\n",
       "707835   45041.06  246 -526  147590255    2288593\n",
       "\n",
       "[509 rows x 5 columns]"
      ]
     },
     "execution_count": 20,
     "metadata": {},
     "output_type": "execute_result"
    }
   ],
   "source": [
    "map_df[map_df.object_id.str.len() == 9]"
   ]
  },
  {
   "cell_type": "code",
   "execution_count": null,
   "metadata": {},
   "outputs": [],
   "source": []
  }
 ],
 "metadata": {
  "kernelspec": {
   "display_name": "Python 3",
   "language": "python",
   "name": "python3"
  },
  "language_info": {
   "codemirror_mode": {
    "name": "ipython",
    "version": 3
   },
   "file_extension": ".py",
   "mimetype": "text/x-python",
   "name": "python",
   "nbconvert_exporter": "python",
   "pygments_lexer": "ipython3",
   "version": "3.7.6"
  }
 },
 "nbformat": 4,
 "nbformat_minor": 4
}
