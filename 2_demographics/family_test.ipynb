{
 "cells": [
  {
   "cell_type": "markdown",
   "metadata": {},
   "source": [
    "# Check for players with missing families\n",
    "Grace Deng & Natalia Vélez, August 2020"
   ]
  },
  {
   "cell_type": "code",
   "execution_count": 1,
   "metadata": {},
   "outputs": [],
   "source": [
    "import pandas as pd\n",
    "import numpy as np"
   ]
  },
  {
   "cell_type": "markdown",
   "metadata": {},
   "source": [
    "## Step 1: Reproduce the error"
   ]
  },
  {
   "cell_type": "code",
   "execution_count": 2,
   "metadata": {},
   "outputs": [],
   "source": [
    "i = 1573982073\n",
    "baseDir = '../data/publicMapChangeData/bigserver2.onehouronelife.com/'"
   ]
  },
  {
   "cell_type": "code",
   "execution_count": 3,
   "metadata": {},
   "outputs": [
    {
     "data": {
      "text/html": [
       "<div>\n",
       "<style scoped>\n",
       "    .dataframe tbody tr th:only-of-type {\n",
       "        vertical-align: middle;\n",
       "    }\n",
       "\n",
       "    .dataframe tbody tr th {\n",
       "        vertical-align: top;\n",
       "    }\n",
       "\n",
       "    .dataframe thead th {\n",
       "        text-align: right;\n",
       "    }\n",
       "</style>\n",
       "<table border=\"1\" class=\"dataframe\">\n",
       "  <thead>\n",
       "    <tr style=\"text-align: right;\">\n",
       "      <th></th>\n",
       "      <th>time</th>\n",
       "      <th>locX</th>\n",
       "      <th>locY</th>\n",
       "      <th>obj</th>\n",
       "      <th>playerID</th>\n",
       "    </tr>\n",
       "  </thead>\n",
       "  <tbody>\n",
       "    <tr>\n",
       "      <th>0</th>\n",
       "      <td>0.00</td>\n",
       "      <td>-5998</td>\n",
       "      <td>81</td>\n",
       "      <td>0</td>\n",
       "      <td>2281395</td>\n",
       "    </tr>\n",
       "    <tr>\n",
       "      <th>1</th>\n",
       "      <td>0.00</td>\n",
       "      <td>-7918</td>\n",
       "      <td>-1039</td>\n",
       "      <td>0</td>\n",
       "      <td>2281463</td>\n",
       "    </tr>\n",
       "    <tr>\n",
       "      <th>2</th>\n",
       "      <td>0.21</td>\n",
       "      <td>-6004</td>\n",
       "      <td>94</td>\n",
       "      <td>577</td>\n",
       "      <td>2281440</td>\n",
       "    </tr>\n",
       "    <tr>\n",
       "      <th>3</th>\n",
       "      <td>0.24</td>\n",
       "      <td>-5991</td>\n",
       "      <td>85</td>\n",
       "      <td>0</td>\n",
       "      <td>2281459</td>\n",
       "    </tr>\n",
       "    <tr>\n",
       "      <th>4</th>\n",
       "      <td>0.29</td>\n",
       "      <td>-9753</td>\n",
       "      <td>-639</td>\n",
       "      <td>292</td>\n",
       "      <td>2281355</td>\n",
       "    </tr>\n",
       "  </tbody>\n",
       "</table>\n",
       "</div>"
      ],
      "text/plain": [
       "   time   locX   locY  obj  playerID\n",
       "0  0.00  -5998     81    0   2281395\n",
       "1  0.00  -7918  -1039    0   2281463\n",
       "2  0.21  -6004     94  577   2281440\n",
       "3  0.24  -5991     85    0   2281459\n",
       "4  0.29  -9753   -639  292   2281355"
      ]
     },
     "execution_count": 3,
     "metadata": {},
     "output_type": "execute_result"
    }
   ],
   "source": [
    "mydf = pd.read_csv(baseDir + str(i) + 'time_mapLog.txt')\n",
    "mydf[['time','locX','locY','obj','playerID']] = mydf[mydf.columns[0]].str.split(\" \", expand=True)\n",
    "mydf = mydf[['time','locX','locY','obj','playerID']]\n",
    "mydf['playerID'] = mydf['playerID'].astype(int)\n",
    "mydf.head()"
   ]
  },
  {
   "cell_type": "code",
   "execution_count": 4,
   "metadata": {},
   "outputs": [
    {
     "name": "stderr",
     "output_type": "stream",
     "text": [
      "/Users/nvelez/opt/anaconda3/lib/python3.7/site-packages/numpy/lib/arraysetops.py:569: FutureWarning: elementwise comparison failed; returning scalar instead, but in the future will perform elementwise comparison\n",
      "  mask |= (ar1 == a)\n"
     ]
    },
    {
     "data": {
      "text/html": [
       "<div>\n",
       "<style scoped>\n",
       "    .dataframe tbody tr th:only-of-type {\n",
       "        vertical-align: middle;\n",
       "    }\n",
       "\n",
       "    .dataframe tbody tr th {\n",
       "        vertical-align: top;\n",
       "    }\n",
       "\n",
       "    .dataframe thead th {\n",
       "        text-align: right;\n",
       "    }\n",
       "</style>\n",
       "<table border=\"1\" class=\"dataframe\">\n",
       "  <thead>\n",
       "    <tr style=\"text-align: right;\">\n",
       "      <th></th>\n",
       "      <th>playerID</th>\n",
       "      <th>family</th>\n",
       "    </tr>\n",
       "  </thead>\n",
       "  <tbody>\n",
       "    <tr>\n",
       "      <th>0</th>\n",
       "      <td>3080084</td>\n",
       "      <td>time-1592284232_eve-3080067_name-PICKLE</td>\n",
       "    </tr>\n",
       "    <tr>\n",
       "      <th>1</th>\n",
       "      <td>3080114</td>\n",
       "      <td>time-1592284232_eve-3080067_name-PICKLE</td>\n",
       "    </tr>\n",
       "    <tr>\n",
       "      <th>2</th>\n",
       "      <td>3080111</td>\n",
       "      <td>time-1592284232_eve-3080067_name-PICKLE</td>\n",
       "    </tr>\n",
       "    <tr>\n",
       "      <th>3</th>\n",
       "      <td>3080108</td>\n",
       "      <td>time-1592284232_eve-3080067_name-PICKLE</td>\n",
       "    </tr>\n",
       "    <tr>\n",
       "      <th>4</th>\n",
       "      <td>3080104</td>\n",
       "      <td>time-1592284232_eve-3080067_name-PICKLE</td>\n",
       "    </tr>\n",
       "    <tr>\n",
       "      <th>5</th>\n",
       "      <td>3080130</td>\n",
       "      <td>time-1592284232_eve-3080067_name-PICKLE</td>\n",
       "    </tr>\n",
       "    <tr>\n",
       "      <th>6</th>\n",
       "      <td>3080122</td>\n",
       "      <td>time-1592284232_eve-3080067_name-PICKLE</td>\n",
       "    </tr>\n",
       "    <tr>\n",
       "      <th>7</th>\n",
       "      <td>3080117</td>\n",
       "      <td>time-1592284232_eve-3080067_name-PICKLE</td>\n",
       "    </tr>\n",
       "    <tr>\n",
       "      <th>8</th>\n",
       "      <td>3080067</td>\n",
       "      <td>time-1592284232_eve-3080067_name-PICKLE</td>\n",
       "    </tr>\n",
       "    <tr>\n",
       "      <th>9</th>\n",
       "      <td>3080044</td>\n",
       "      <td>time-1592283401_eve-3080044_name-KORE</td>\n",
       "    </tr>\n",
       "  </tbody>\n",
       "</table>\n",
       "</div>"
      ],
      "text/plain": [
       "   playerID                                   family\n",
       "0   3080084  time-1592284232_eve-3080067_name-PICKLE\n",
       "1   3080114  time-1592284232_eve-3080067_name-PICKLE\n",
       "2   3080111  time-1592284232_eve-3080067_name-PICKLE\n",
       "3   3080108  time-1592284232_eve-3080067_name-PICKLE\n",
       "4   3080104  time-1592284232_eve-3080067_name-PICKLE\n",
       "5   3080130  time-1592284232_eve-3080067_name-PICKLE\n",
       "6   3080122  time-1592284232_eve-3080067_name-PICKLE\n",
       "7   3080117  time-1592284232_eve-3080067_name-PICKLE\n",
       "8   3080067  time-1592284232_eve-3080067_name-PICKLE\n",
       "9   3080044    time-1592283401_eve-3080044_name-KORE"
      ]
     },
     "execution_count": 4,
     "metadata": {},
     "output_type": "execute_result"
    }
   ],
   "source": [
    "fam= pd.read_csv('../2_demographics/outputs/family_playerID.tsv', sep = '\\t', index_col = 0)\n",
    "fam.head(n=10)"
   ]
  },
  {
   "cell_type": "code",
   "execution_count": 5,
   "metadata": {},
   "outputs": [
    {
     "data": {
      "text/html": [
       "<div>\n",
       "<style scoped>\n",
       "    .dataframe tbody tr th:only-of-type {\n",
       "        vertical-align: middle;\n",
       "    }\n",
       "\n",
       "    .dataframe tbody tr th {\n",
       "        vertical-align: top;\n",
       "    }\n",
       "\n",
       "    .dataframe thead th {\n",
       "        text-align: right;\n",
       "    }\n",
       "</style>\n",
       "<table border=\"1\" class=\"dataframe\">\n",
       "  <thead>\n",
       "    <tr style=\"text-align: right;\">\n",
       "      <th></th>\n",
       "      <th>playerID</th>\n",
       "      <th>family</th>\n",
       "    </tr>\n",
       "  </thead>\n",
       "  <tbody>\n",
       "  </tbody>\n",
       "</table>\n",
       "</div>"
      ],
      "text/plain": [
       "Empty DataFrame\n",
       "Columns: [playerID, family]\n",
       "Index: []"
      ]
     },
     "execution_count": 5,
     "metadata": {},
     "output_type": "execute_result"
    }
   ],
   "source": [
    "fam.query('playerID == 2281395')"
   ]
  },
  {
   "cell_type": "code",
   "execution_count": 6,
   "metadata": {},
   "outputs": [],
   "source": [
    "def find_fam(playerId):\n",
    "    \n",
    "    family = fam.loc[fam['playerID'] == playerId,'family'].tolist()\n",
    "    if len(family):    \n",
    "        fam_name = family[0].split('-')[-1]\n",
    "    else:\n",
    "        fam_name = \"UnKnown\"\n",
    "    \n",
    "    return fam_name"
   ]
  },
  {
   "cell_type": "code",
   "execution_count": 7,
   "metadata": {},
   "outputs": [],
   "source": [
    "mydf = mydf.iloc[0:1000]"
   ]
  },
  {
   "cell_type": "code",
   "execution_count": 8,
   "metadata": {},
   "outputs": [],
   "source": [
    "mydf['fam'] = mydf['playerID'].apply(find_fam)"
   ]
  },
  {
   "cell_type": "code",
   "execution_count": 9,
   "metadata": {},
   "outputs": [
    {
     "data": {
      "text/html": [
       "<div>\n",
       "<style scoped>\n",
       "    .dataframe tbody tr th:only-of-type {\n",
       "        vertical-align: middle;\n",
       "    }\n",
       "\n",
       "    .dataframe tbody tr th {\n",
       "        vertical-align: top;\n",
       "    }\n",
       "\n",
       "    .dataframe thead th {\n",
       "        text-align: right;\n",
       "    }\n",
       "</style>\n",
       "<table border=\"1\" class=\"dataframe\">\n",
       "  <thead>\n",
       "    <tr style=\"text-align: right;\">\n",
       "      <th></th>\n",
       "      <th>time</th>\n",
       "      <th>locX</th>\n",
       "      <th>locY</th>\n",
       "      <th>obj</th>\n",
       "      <th>playerID</th>\n",
       "      <th>fam</th>\n",
       "    </tr>\n",
       "  </thead>\n",
       "  <tbody>\n",
       "    <tr>\n",
       "      <th>0</th>\n",
       "      <td>0.00</td>\n",
       "      <td>-5998</td>\n",
       "      <td>81</td>\n",
       "      <td>0</td>\n",
       "      <td>2281395</td>\n",
       "      <td>UnKnown</td>\n",
       "    </tr>\n",
       "    <tr>\n",
       "      <th>1</th>\n",
       "      <td>0.00</td>\n",
       "      <td>-7918</td>\n",
       "      <td>-1039</td>\n",
       "      <td>0</td>\n",
       "      <td>2281463</td>\n",
       "      <td>UnKnown</td>\n",
       "    </tr>\n",
       "    <tr>\n",
       "      <th>2</th>\n",
       "      <td>0.21</td>\n",
       "      <td>-6004</td>\n",
       "      <td>94</td>\n",
       "      <td>577</td>\n",
       "      <td>2281440</td>\n",
       "      <td>UnKnown</td>\n",
       "    </tr>\n",
       "    <tr>\n",
       "      <th>3</th>\n",
       "      <td>0.24</td>\n",
       "      <td>-5991</td>\n",
       "      <td>85</td>\n",
       "      <td>0</td>\n",
       "      <td>2281459</td>\n",
       "      <td>UnKnown</td>\n",
       "    </tr>\n",
       "    <tr>\n",
       "      <th>4</th>\n",
       "      <td>0.29</td>\n",
       "      <td>-9753</td>\n",
       "      <td>-639</td>\n",
       "      <td>292</td>\n",
       "      <td>2281355</td>\n",
       "      <td>UnKnown</td>\n",
       "    </tr>\n",
       "  </tbody>\n",
       "</table>\n",
       "</div>"
      ],
      "text/plain": [
       "   time   locX   locY  obj  playerID      fam\n",
       "0  0.00  -5998     81    0   2281395  UnKnown\n",
       "1  0.00  -7918  -1039    0   2281463  UnKnown\n",
       "2  0.21  -6004     94  577   2281440  UnKnown\n",
       "3  0.24  -5991     85    0   2281459  UnKnown\n",
       "4  0.29  -9753   -639  292   2281355  UnKnown"
      ]
     },
     "execution_count": 9,
     "metadata": {},
     "output_type": "execute_result"
    }
   ],
   "source": [
    "unknown_fams = mydf.query('fam == \"UnKnown\"')\n",
    "unknown_players = unknown_fams['playerID'].values\n",
    "unknown_fams.head()"
   ]
  },
  {
   "cell_type": "markdown",
   "metadata": {},
   "source": [
    "## Step 2: Fix"
   ]
  },
  {
   "cell_type": "markdown",
   "metadata": {},
   "source": [
    "Load lifelog data across all eras:"
   ]
  },
  {
   "cell_type": "code",
   "execution_count": 10,
   "metadata": {},
   "outputs": [
    {
     "name": "stderr",
     "output_type": "stream",
     "text": [
      "/Users/nvelez/opt/anaconda3/lib/python3.7/site-packages/numpy/lib/arraysetops.py:569: FutureWarning: elementwise comparison failed; returning scalar instead, but in the future will perform elementwise comparison\n",
      "  mask |= (ar1 == a)\n"
     ]
    },
    {
     "data": {
      "text/html": [
       "<div>\n",
       "<style scoped>\n",
       "    .dataframe tbody tr th:only-of-type {\n",
       "        vertical-align: middle;\n",
       "    }\n",
       "\n",
       "    .dataframe tbody tr th {\n",
       "        vertical-align: top;\n",
       "    }\n",
       "\n",
       "    .dataframe thead th {\n",
       "        text-align: right;\n",
       "    }\n",
       "</style>\n",
       "<table border=\"1\" class=\"dataframe\">\n",
       "  <thead>\n",
       "    <tr style=\"text-align: right;\">\n",
       "      <th></th>\n",
       "      <th>release</th>\n",
       "      <th>era</th>\n",
       "      <th>hash</th>\n",
       "      <th>playerID</th>\n",
       "      <th>tBirth</th>\n",
       "      <th>parent</th>\n",
       "      <th>birth</th>\n",
       "      <th>tDeath</th>\n",
       "      <th>death</th>\n",
       "      <th>age</th>\n",
       "      <th>cause_of_death</th>\n",
       "      <th>birthX</th>\n",
       "      <th>birthY</th>\n",
       "      <th>deathX</th>\n",
       "      <th>deathY</th>\n",
       "      <th>first</th>\n",
       "      <th>last</th>\n",
       "    </tr>\n",
       "  </thead>\n",
       "  <tbody>\n",
       "    <tr>\n",
       "      <th>0</th>\n",
       "      <td>342.0</td>\n",
       "      <td>boundless</td>\n",
       "      <td>2cdc4d0b016f9c0d96d27013f1d19c42596e0c5c</td>\n",
       "      <td>3080130</td>\n",
       "      <td>1592288229</td>\n",
       "      <td>3080111</td>\n",
       "      <td>[-454640      41]</td>\n",
       "      <td>1592288538</td>\n",
       "      <td>[-454625      49]</td>\n",
       "      <td>5.14</td>\n",
       "      <td>hunger</td>\n",
       "      <td>-454640</td>\n",
       "      <td>41</td>\n",
       "      <td>-454625</td>\n",
       "      <td>49</td>\n",
       "      <td>CLAUDINE</td>\n",
       "      <td>P</td>\n",
       "    </tr>\n",
       "    <tr>\n",
       "      <th>1</th>\n",
       "      <td>342.0</td>\n",
       "      <td>boundless</td>\n",
       "      <td>a8b5975a81344f690f45ffc2554a0bc35af557a9</td>\n",
       "      <td>3080128</td>\n",
       "      <td>1592288191</td>\n",
       "      <td>3080105</td>\n",
       "      <td>[-454394      -4]</td>\n",
       "      <td>1592291791</td>\n",
       "      <td>[-454383      15]</td>\n",
       "      <td>60.00</td>\n",
       "      <td>oldAge</td>\n",
       "      <td>-454394</td>\n",
       "      <td>-4</td>\n",
       "      <td>-454383</td>\n",
       "      <td>15</td>\n",
       "      <td>DACY</td>\n",
       "      <td>LIGHTNING</td>\n",
       "    </tr>\n",
       "    <tr>\n",
       "      <th>2</th>\n",
       "      <td>342.0</td>\n",
       "      <td>boundless</td>\n",
       "      <td>c5838da39fd525a2ac24aee049dae6a42e502236</td>\n",
       "      <td>3080125</td>\n",
       "      <td>1592288138</td>\n",
       "      <td>3080101</td>\n",
       "      <td>[-311131    -322]</td>\n",
       "      <td>1592291738</td>\n",
       "      <td>[-311112    -325]</td>\n",
       "      <td>59.98</td>\n",
       "      <td>hunger</td>\n",
       "      <td>-311131</td>\n",
       "      <td>-322</td>\n",
       "      <td>-311112</td>\n",
       "      <td>-325</td>\n",
       "      <td>SHOKO</td>\n",
       "      <td>GREATHOUSE</td>\n",
       "    </tr>\n",
       "    <tr>\n",
       "      <th>3</th>\n",
       "      <td>342.0</td>\n",
       "      <td>boundless</td>\n",
       "      <td>11f9fce50bbc1ebbba5126434aea123e79249942</td>\n",
       "      <td>3080122</td>\n",
       "      <td>1592288029</td>\n",
       "      <td>3080104</td>\n",
       "      <td>[-454638      41]</td>\n",
       "      <td>1592288696</td>\n",
       "      <td>[-454647      58]</td>\n",
       "      <td>11.12</td>\n",
       "      <td>hunger</td>\n",
       "      <td>-454638</td>\n",
       "      <td>41</td>\n",
       "      <td>-454647</td>\n",
       "      <td>58</td>\n",
       "      <td>RANGER</td>\n",
       "      <td>PICKLE</td>\n",
       "    </tr>\n",
       "    <tr>\n",
       "      <th>4</th>\n",
       "      <td>342.0</td>\n",
       "      <td>boundless</td>\n",
       "      <td>b265b1958566b474094cf0282a0fa59e6d622885</td>\n",
       "      <td>3080120</td>\n",
       "      <td>1592287917</td>\n",
       "      <td>3080101</td>\n",
       "      <td>[-311111    -311]</td>\n",
       "      <td>1592291365</td>\n",
       "      <td>[-311115     -66]</td>\n",
       "      <td>57.46</td>\n",
       "      <td>hunger</td>\n",
       "      <td>-311111</td>\n",
       "      <td>-311</td>\n",
       "      <td>-311115</td>\n",
       "      <td>-66</td>\n",
       "      <td>HAPPY</td>\n",
       "      <td>GREATHOUSE</td>\n",
       "    </tr>\n",
       "  </tbody>\n",
       "</table>\n",
       "</div>"
      ],
      "text/plain": [
       "   release        era                                      hash  playerID  \\\n",
       "0    342.0  boundless  2cdc4d0b016f9c0d96d27013f1d19c42596e0c5c   3080130   \n",
       "1    342.0  boundless  a8b5975a81344f690f45ffc2554a0bc35af557a9   3080128   \n",
       "2    342.0  boundless  c5838da39fd525a2ac24aee049dae6a42e502236   3080125   \n",
       "3    342.0  boundless  11f9fce50bbc1ebbba5126434aea123e79249942   3080122   \n",
       "4    342.0  boundless  b265b1958566b474094cf0282a0fa59e6d622885   3080120   \n",
       "\n",
       "       tBirth   parent              birth      tDeath              death  \\\n",
       "0  1592288229  3080111  [-454640      41]  1592288538  [-454625      49]   \n",
       "1  1592288191  3080105  [-454394      -4]  1592291791  [-454383      15]   \n",
       "2  1592288138  3080101  [-311131    -322]  1592291738  [-311112    -325]   \n",
       "3  1592288029  3080104  [-454638      41]  1592288696  [-454647      58]   \n",
       "4  1592287917  3080101  [-311111    -311]  1592291365  [-311115     -66]   \n",
       "\n",
       "     age cause_of_death  birthX  birthY  deathX  deathY     first        last  \n",
       "0   5.14         hunger -454640      41 -454625      49  CLAUDINE           P  \n",
       "1  60.00         oldAge -454394      -4 -454383      15      DACY   LIGHTNING  \n",
       "2  59.98         hunger -311131    -322 -311112    -325     SHOKO  GREATHOUSE  \n",
       "3  11.12         hunger -454638      41 -454647      58    RANGER      PICKLE  \n",
       "4  57.46         hunger -311111    -311 -311115     -66     HAPPY  GREATHOUSE  "
      ]
     },
     "execution_count": 10,
     "metadata": {},
     "output_type": "execute_result"
    }
   ],
   "source": [
    "lifelog_data = pd.read_csv('outputs/all_lifelogs_compact.tsv', sep='\\t', index_col=0)\n",
    "lifelog_data.head()"
   ]
  },
  {
   "cell_type": "markdown",
   "metadata": {},
   "source": [
    "Search for missing player:"
   ]
  },
  {
   "cell_type": "code",
   "execution_count": 11,
   "metadata": {},
   "outputs": [
    {
     "data": {
      "text/html": [
       "<div>\n",
       "<style scoped>\n",
       "    .dataframe tbody tr th:only-of-type {\n",
       "        vertical-align: middle;\n",
       "    }\n",
       "\n",
       "    .dataframe tbody tr th {\n",
       "        vertical-align: top;\n",
       "    }\n",
       "\n",
       "    .dataframe thead th {\n",
       "        text-align: right;\n",
       "    }\n",
       "</style>\n",
       "<table border=\"1\" class=\"dataframe\">\n",
       "  <thead>\n",
       "    <tr style=\"text-align: right;\">\n",
       "      <th></th>\n",
       "      <th>release</th>\n",
       "      <th>era</th>\n",
       "      <th>hash</th>\n",
       "      <th>playerID</th>\n",
       "      <th>tBirth</th>\n",
       "      <th>parent</th>\n",
       "      <th>birth</th>\n",
       "      <th>tDeath</th>\n",
       "      <th>death</th>\n",
       "      <th>age</th>\n",
       "      <th>cause_of_death</th>\n",
       "      <th>birthX</th>\n",
       "      <th>birthY</th>\n",
       "      <th>deathX</th>\n",
       "      <th>deathY</th>\n",
       "      <th>first</th>\n",
       "      <th>last</th>\n",
       "    </tr>\n",
       "  </thead>\n",
       "  <tbody>\n",
       "    <tr>\n",
       "      <th>479372</th>\n",
       "      <td>284.0</td>\n",
       "      <td>boundless</td>\n",
       "      <td>e4fc9f1fc0bc611c05205e7aaaba3a51081374dc</td>\n",
       "      <td>2281395</td>\n",
       "      <td>1573979732</td>\n",
       "      <td>2281332</td>\n",
       "      <td>[-5999    69]</td>\n",
       "      <td>1573982412</td>\n",
       "      <td>[-5993    81]</td>\n",
       "      <td>44.66</td>\n",
       "      <td>murdered</td>\n",
       "      <td>-5999</td>\n",
       "      <td>69</td>\n",
       "      <td>-5993</td>\n",
       "      <td>81</td>\n",
       "      <td>ROSEALIE</td>\n",
       "      <td>FINCH</td>\n",
       "    </tr>\n",
       "  </tbody>\n",
       "</table>\n",
       "</div>"
      ],
      "text/plain": [
       "        release        era                                      hash  \\\n",
       "479372    284.0  boundless  e4fc9f1fc0bc611c05205e7aaaba3a51081374dc   \n",
       "\n",
       "        playerID      tBirth   parent          birth      tDeath  \\\n",
       "479372   2281395  1573979732  2281332  [-5999    69]  1573982412   \n",
       "\n",
       "                death    age cause_of_death  birthX  birthY  deathX  deathY  \\\n",
       "479372  [-5993    81]  44.66       murdered   -5999      69   -5993      81   \n",
       "\n",
       "           first   last  \n",
       "479372  ROSEALIE  FINCH  "
      ]
     },
     "execution_count": 11,
     "metadata": {},
     "output_type": "execute_result"
    }
   ],
   "source": [
    "missing_player = 2281395\n",
    "lifelog_data[lifelog_data['playerID'] == missing_player]"
   ]
  },
  {
   "cell_type": "code",
   "execution_count": 12,
   "metadata": {},
   "outputs": [
    {
     "name": "stdout",
     "output_type": "stream",
     "text": [
      "2281332 <-- 2281395\n",
      "2281269 <-- 2281332\n",
      "2281230 <-- 2281269\n",
      "2281191 <-- 2281230\n",
      "2281120 <-- 2281191\n",
      "2281081 <-- 2281120\n",
      "2281042 <-- 2281081\n",
      "2280998 <-- 2281042\n",
      "2280947 <-- 2280998\n",
      "2280889 <-- 2280947\n",
      "2280767 <-- 2280889\n",
      "2280724 <-- 2280767\n",
      "2280621 <-- 2280724\n",
      "2280512 <-- 2280621\n",
      "2280467 <-- 2280512\n",
      "2280388 <-- 2280467\n",
      "2280322 <-- 2280388\n",
      "2280268 <-- 2280322\n",
      "2280222 <-- 2280268\n",
      "2280122 <-- 2280222\n",
      "2280071 <-- 2280122\n",
      "2279990 <-- 2280071\n"
     ]
    },
    {
     "ename": "IndexError",
     "evalue": "index 0 is out of bounds for axis 0 with size 0",
     "output_type": "error",
     "traceback": [
      "\u001b[0;31m---------------------------------------------------------------------------\u001b[0m",
      "\u001b[0;31mIndexError\u001b[0m                                Traceback (most recent call last)",
      "\u001b[0;32m<ipython-input-12-eeac46609cd9>\u001b[0m in \u001b[0;36m<module>\u001b[0;34m\u001b[0m\n\u001b[1;32m      1\u001b[0m \u001b[0mqID\u001b[0m \u001b[0;34m=\u001b[0m \u001b[0mmissing_player\u001b[0m\u001b[0;34m\u001b[0m\u001b[0;34m\u001b[0m\u001b[0m\n\u001b[1;32m      2\u001b[0m \u001b[0;32mwhile\u001b[0m \u001b[0;32mTrue\u001b[0m\u001b[0;34m:\u001b[0m\u001b[0;34m\u001b[0m\u001b[0;34m\u001b[0m\u001b[0m\n\u001b[0;32m----> 3\u001b[0;31m     \u001b[0mnewID\u001b[0m \u001b[0;34m=\u001b[0m \u001b[0mlifelog_data\u001b[0m\u001b[0;34m[\u001b[0m\u001b[0mlifelog_data\u001b[0m\u001b[0;34m[\u001b[0m\u001b[0;34m'playerID'\u001b[0m\u001b[0;34m]\u001b[0m \u001b[0;34m==\u001b[0m \u001b[0mqID\u001b[0m\u001b[0;34m]\u001b[0m\u001b[0;34m[\u001b[0m\u001b[0;34m'parent'\u001b[0m\u001b[0;34m]\u001b[0m\u001b[0;34m.\u001b[0m\u001b[0mvalues\u001b[0m\u001b[0;34m[\u001b[0m\u001b[0;36m0\u001b[0m\u001b[0;34m]\u001b[0m\u001b[0;34m\u001b[0m\u001b[0;34m\u001b[0m\u001b[0m\n\u001b[0m\u001b[1;32m      4\u001b[0m     \u001b[0;32mif\u001b[0m \u001b[0mnewID\u001b[0m \u001b[0;34m>\u001b[0m \u001b[0;36m0\u001b[0m\u001b[0;34m:\u001b[0m\u001b[0;34m\u001b[0m\u001b[0;34m\u001b[0m\u001b[0m\n\u001b[1;32m      5\u001b[0m         \u001b[0mprint\u001b[0m\u001b[0;34m(\u001b[0m\u001b[0;34m'%s <-- %s'\u001b[0m \u001b[0;34m%\u001b[0m \u001b[0;34m(\u001b[0m\u001b[0mnewID\u001b[0m\u001b[0;34m,\u001b[0m \u001b[0mqID\u001b[0m\u001b[0;34m)\u001b[0m\u001b[0;34m)\u001b[0m\u001b[0;34m\u001b[0m\u001b[0;34m\u001b[0m\u001b[0m\n",
      "\u001b[0;31mIndexError\u001b[0m: index 0 is out of bounds for axis 0 with size 0"
     ]
    }
   ],
   "source": [
    "qID = missing_player\n",
    "while True:\n",
    "    newID = lifelog_data[lifelog_data['playerID'] == qID]['parent'].values[0]\n",
    "    if newID > 0:\n",
    "        print('%s <-- %s' % (newID, qID))\n",
    "        qID = newID\n",
    "    else:\n",
    "        break"
   ]
  },
  {
   "cell_type": "code",
   "execution_count": 13,
   "metadata": {},
   "outputs": [
    {
     "data": {
      "text/plain": [
       "2279990"
      ]
     },
     "execution_count": 13,
     "metadata": {},
     "output_type": "execute_result"
    }
   ],
   "source": [
    "qID"
   ]
  },
  {
   "cell_type": "code",
   "execution_count": null,
   "metadata": {},
   "outputs": [],
   "source": [
    "pd.isna(unknown_lifelogs['last'])"
   ]
  },
  {
   "cell_type": "code",
   "execution_count": null,
   "metadata": {},
   "outputs": [],
   "source": [
    "unknown_lifelogs = lifelog_data[np.isin(lifelog_data['playerID'], unknown_players)]\n",
    "unknown_lifelogs.loc[pd.isna(unknown_lifelogs['last']), 'last'] = 'missing'\n",
    "unknown_lasts = np.unique(unknown_lifelogs['last'])\n",
    "print(unknown_lasts)"
   ]
  },
  {
   "cell_type": "code",
   "execution_count": 15,
   "metadata": {},
   "outputs": [
    {
     "data": {
      "text/html": [
       "<div>\n",
       "<style scoped>\n",
       "    .dataframe tbody tr th:only-of-type {\n",
       "        vertical-align: middle;\n",
       "    }\n",
       "\n",
       "    .dataframe tbody tr th {\n",
       "        vertical-align: top;\n",
       "    }\n",
       "\n",
       "    .dataframe thead th {\n",
       "        text-align: right;\n",
       "    }\n",
       "</style>\n",
       "<table border=\"1\" class=\"dataframe\">\n",
       "  <thead>\n",
       "    <tr style=\"text-align: right;\">\n",
       "      <th></th>\n",
       "      <th>release</th>\n",
       "      <th>era</th>\n",
       "      <th>hash</th>\n",
       "      <th>playerID</th>\n",
       "      <th>tBirth</th>\n",
       "      <th>parent</th>\n",
       "      <th>birth</th>\n",
       "      <th>tDeath</th>\n",
       "      <th>death</th>\n",
       "      <th>age</th>\n",
       "      <th>cause_of_death</th>\n",
       "      <th>birthX</th>\n",
       "      <th>birthY</th>\n",
       "      <th>deathX</th>\n",
       "      <th>deathY</th>\n",
       "      <th>first</th>\n",
       "      <th>last</th>\n",
       "    </tr>\n",
       "  </thead>\n",
       "  <tbody>\n",
       "  </tbody>\n",
       "</table>\n",
       "</div>"
      ],
      "text/plain": [
       "Empty DataFrame\n",
       "Columns: [release, era, hash, playerID, tBirth, parent, birth, tDeath, death, age, cause_of_death, birthX, birthY, deathX, deathY, first, last]\n",
       "Index: []"
      ]
     },
     "execution_count": 15,
     "metadata": {},
     "output_type": "execute_result"
    }
   ],
   "source": [
    "missing_player = 2279990\n",
    "lifelog_data[lifelog_data['playerID'] == missing_player]"
   ]
  },
  {
   "cell_type": "markdown",
   "metadata": {},
   "source": [
    "Search for player family:"
   ]
  },
  {
   "cell_type": "code",
   "execution_count": null,
   "metadata": {},
   "outputs": [],
   "source": []
  },
  {
   "cell_type": "code",
   "execution_count": null,
   "metadata": {},
   "outputs": [],
   "source": []
  }
 ],
 "metadata": {
  "kernelspec": {
   "display_name": "Python 3",
   "language": "python",
   "name": "python3"
  },
  "language_info": {
   "codemirror_mode": {
    "name": "ipython",
    "version": 3
   },
   "file_extension": ".py",
   "mimetype": "text/x-python",
   "name": "python",
   "nbconvert_exporter": "python",
   "pygments_lexer": "ipython3",
   "version": "3.7.6"
  }
 },
 "nbformat": 4,
 "nbformat_minor": 2
}
