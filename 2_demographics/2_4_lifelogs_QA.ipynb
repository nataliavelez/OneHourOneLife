{
 "cells": [
  {
   "cell_type": "markdown",
   "metadata": {},
   "source": [
    "# Find missing avatars\n",
    "Natalia Vélez, April 2021"
   ]
  },
  {
   "cell_type": "code",
   "execution_count": 1,
   "metadata": {},
   "outputs": [],
   "source": [
    "import pymongo\n",
    "import pandas as pd\n",
    "import numpy as np\n",
    "from tqdm import notebook\n",
    "\n",
    "import sys\n",
    "sys.path.append('..')\n",
    "from utils import gsearch"
   ]
  },
  {
   "cell_type": "markdown",
   "metadata": {},
   "source": [
    "## Source 1: Original data"
   ]
  },
  {
   "cell_type": "markdown",
   "metadata": {},
   "source": [
    "Find original data files:"
   ]
  },
  {
   "cell_type": "code",
   "execution_count": 2,
   "metadata": {},
   "outputs": [
    {
     "name": "stdout",
     "output_type": "stream",
     "text": [
      "Found 799 lifelog files\n",
      "../../data/publicLifeLogData/lifeLog_bigserver2.onehouronelife.com/2019_01January_29_Tuesday.txt\n",
      "../../data/publicLifeLogData/lifeLog_bigserver2.onehouronelife.com/2019_01January_30_Wednesday.txt\n",
      "../../data/publicLifeLogData/lifeLog_bigserver2.onehouronelife.com/2019_01January_31_Thursday.txt\n",
      "../../data/publicLifeLogData/lifeLog_bigserver2.onehouronelife.com/2019_02February_01_Friday.txt\n",
      "../../data/publicLifeLogData/lifeLog_bigserver2.onehouronelife.com/2019_02February_02_Saturday.txt\n",
      "../../data/publicLifeLogData/lifeLog_bigserver2.onehouronelife.com/2019_02February_03_Sunday.txt\n",
      "../../data/publicLifeLogData/lifeLog_bigserver2.onehouronelife.com/2019_02February_04_Monday.txt\n",
      "../../data/publicLifeLogData/lifeLog_bigserver2.onehouronelife.com/2019_02February_05_Tuesday.txt\n",
      "../../data/publicLifeLogData/lifeLog_bigserver2.onehouronelife.com/2019_02February_06_Wednesday.txt\n",
      "../../data/publicLifeLogData/lifeLog_bigserver2.onehouronelife.com/2019_02February_07_Thursday.txt\n"
     ]
    }
   ],
   "source": [
    "data_dir = '../../data/publicLifeLogData/lifeLog_bigserver2.onehouronelife.com/'\n",
    "data_files = gsearch(data_dir, '*y.txt')\n",
    "data_files.sort()\n",
    "\n",
    "print('Found %i lifelog files' % len(data_files))\n",
    "print(*data_files[:10], sep='\\n')"
   ]
  },
  {
   "cell_type": "markdown",
   "metadata": {},
   "source": [
    "Get list of avatar IDs from original data:"
   ]
  },
  {
   "cell_type": "code",
   "execution_count": 3,
   "metadata": {},
   "outputs": [
    {
     "data": {
      "application/vnd.jupyter.widget-view+json": {
       "model_id": "",
       "version_major": 2,
       "version_minor": 0
      },
      "text/plain": [
       "  0%|          | 0/799 [00:00<?, ?it/s]"
      ]
     },
     "metadata": {},
     "output_type": "display_data"
    },
    {
     "name": "stdout",
     "output_type": "stream",
     "text": [
      "Found 3834737 avatars in original lifelogs\n",
      "2\n",
      "3\n",
      "4\n",
      "5\n",
      "6\n",
      "7\n",
      "8\n",
      "9\n",
      "10\n",
      "11\n",
      "...\n"
     ]
    }
   ],
   "source": [
    "original_avatars = []\n",
    "\n",
    "for f in notebook.tqdm(data_files):\n",
    "    # Read file\n",
    "    with open(f, 'r') as handle:\n",
    "        f_data = handle.read().splitlines()\n",
    "     \n",
    "    # Keep birth events\n",
    "    f_data = [d.split(' ') for d in f_data if d[0] == 'B']\n",
    "    \n",
    "    # Add avatar IDs to list\n",
    "    original_avatars += [int(d[2]) for d in f_data]\n",
    "    \n",
    "original_avatars.sort()\n",
    "    \n",
    "print('Found %i avatars in original lifelogs' % len(original_avatars))\n",
    "print(*original_avatars[:10], sep='\\n')\n",
    "print('...')"
   ]
  },
  {
   "cell_type": "markdown",
   "metadata": {},
   "source": [
    "## Source 2: Activity matrix"
   ]
  },
  {
   "cell_type": "markdown",
   "metadata": {},
   "source": [
    "Find label files:"
   ]
  },
  {
   "cell_type": "code",
   "execution_count": 4,
   "metadata": {},
   "outputs": [
    {
     "name": "stdout",
     "output_type": "stream",
     "text": [
      "Found 269 label files\n",
      "../3_technology/outputs/activity_in/activity_in_release-284_start-1573895672_labels.txt\n",
      "../3_technology/outputs/activity_in/activity_in_release-284_start-1573982073_labels.txt\n",
      "../3_technology/outputs/activity_in/activity_in_release-284_start-1574068473_labels.txt\n",
      "../3_technology/outputs/activity_in/activity_in_release-285_start-1574102503_labels.txt\n",
      "../3_technology/outputs/activity_in/activity_in_release-287_start-1574151678_labels.txt\n",
      "../3_technology/outputs/activity_in/activity_in_release-287_start-1574238079_labels.txt\n",
      "../3_technology/outputs/activity_in/activity_in_release-287_start-1574324479_labels.txt\n",
      "../3_technology/outputs/activity_in/activity_in_release-287_start-1574410879_labels.txt\n",
      "../3_technology/outputs/activity_in/activity_in_release-287_start-1574497279_labels.txt\n",
      "../3_technology/outputs/activity_in/activity_in_release-289_start-1574552311_labels.txt\n",
      "...\n"
     ]
    }
   ],
   "source": [
    "label_dir = '../3_technology/outputs/activity_in/'\n",
    "label_files = gsearch(label_dir, '*labels.txt')\n",
    "label_files.sort()\n",
    "\n",
    "print('Found %i label files' % len(label_files))\n",
    "print(*label_files[:10], sep='\\n')\n",
    "print('...')"
   ]
  },
  {
   "cell_type": "markdown",
   "metadata": {},
   "source": [
    "Get list of avatar IDs from label files:"
   ]
  },
  {
   "cell_type": "code",
   "execution_count": 5,
   "metadata": {},
   "outputs": [
    {
     "data": {
      "application/vnd.jupyter.widget-view+json": {
       "model_id": "",
       "version_major": 2,
       "version_minor": 0
      },
      "text/plain": [
       "  0%|          | 0/269 [00:00<?, ?it/s]"
      ]
     },
     "metadata": {},
     "output_type": "display_data"
    },
    {
     "name": "stdout",
     "output_type": "stream",
     "text": [
      "Found 763682 avatars in activity matrix labels\n",
      "2\n",
      "24\n",
      "2276905\n",
      "2276906\n",
      "2276907\n",
      "2276908\n",
      "2276909\n",
      "2276910\n",
      "2276911\n",
      "2276912\n",
      "...\n"
     ]
    }
   ],
   "source": [
    "label_avatars = []\n",
    "\n",
    "for f in notebook.tqdm(label_files):\n",
    "    with open(f, 'r') as handle:\n",
    "        f_data = handle.read().splitlines()\n",
    "    f_data = [int(d) for d in f_data]\n",
    "    label_avatars += f_data\n",
    "\n",
    "label_avatars = np.unique(label_avatars) # Remove duplicates\n",
    "\n",
    "print('Found %i avatars in activity matrix labels' % len(label_avatars))\n",
    "print(*label_avatars[:10], sep='\\n')\n",
    "print('...')"
   ]
  },
  {
   "cell_type": "markdown",
   "metadata": {},
   "source": [
    "Are there any avatars in the activity matrix who are missing from the lifelogs?"
   ]
  },
  {
   "cell_type": "code",
   "execution_count": 6,
   "metadata": {},
   "outputs": [
    {
     "name": "stdout",
     "output_type": "stream",
     "text": [
      "57958 missing avatars\n",
      "2276981\n",
      "4107654\n"
     ]
    }
   ],
   "source": [
    "missing_labels = np.setdiff1d(label_avatars, original_avatars)\n",
    "print('%i missing avatars' % len(missing_labels))\n",
    "\n",
    "print(min(missing_labels))\n",
    "print(max(missing_labels))"
   ]
  },
  {
   "cell_type": "code",
   "execution_count": 7,
   "metadata": {},
   "outputs": [
    {
     "data": {
      "text/plain": [
       "7.589284545137898"
      ]
     },
     "execution_count": 7,
     "metadata": {},
     "output_type": "execute_result"
    }
   ],
   "source": [
    "len(missing_labels)/len(label_avatars)*100"
   ]
  },
  {
   "cell_type": "markdown",
   "metadata": {},
   "source": [
    "## Source 3: Wrangled lifelogs"
   ]
  },
  {
   "cell_type": "markdown",
   "metadata": {},
   "source": [
    "Load lifelogs after wrangling:"
   ]
  },
  {
   "cell_type": "code",
   "execution_count": 13,
   "metadata": {},
   "outputs": [
    {
     "name": "stdout",
     "output_type": "stream",
     "text": [
      "(7659514, 13)\n"
     ]
    },
    {
     "data": {
      "text/html": [
       "<div>\n",
       "<style scoped>\n",
       "    .dataframe tbody tr th:only-of-type {\n",
       "        vertical-align: middle;\n",
       "    }\n",
       "\n",
       "    .dataframe tbody tr th {\n",
       "        vertical-align: top;\n",
       "    }\n",
       "\n",
       "    .dataframe thead th {\n",
       "        text-align: right;\n",
       "    }\n",
       "</style>\n",
       "<table border=\"1\" class=\"dataframe\">\n",
       "  <thead>\n",
       "    <tr style=\"text-align: right;\">\n",
       "      <th></th>\n",
       "      <th>server</th>\n",
       "      <th>release</th>\n",
       "      <th>era</th>\n",
       "      <th>event</th>\n",
       "      <th>timestamp</th>\n",
       "      <th>avatar</th>\n",
       "      <th>player</th>\n",
       "      <th>age</th>\n",
       "      <th>sex</th>\n",
       "      <th>location</th>\n",
       "      <th>parent</th>\n",
       "      <th>cause_of_death</th>\n",
       "      <th>killer</th>\n",
       "    </tr>\n",
       "  </thead>\n",
       "  <tbody>\n",
       "    <tr>\n",
       "      <th>0</th>\n",
       "      <td>bigserver2</td>\n",
       "      <td>194.0</td>\n",
       "      <td>arc</td>\n",
       "      <td>B</td>\n",
       "      <td>1548804597</td>\n",
       "      <td>2</td>\n",
       "      <td>a51edcb77a3900d53adc61d394876c5ca7417486</td>\n",
       "      <td>NaN</td>\n",
       "      <td>F</td>\n",
       "      <td>(50, -7)</td>\n",
       "      <td>noParent</td>\n",
       "      <td>NaN</td>\n",
       "      <td>NaN</td>\n",
       "    </tr>\n",
       "    <tr>\n",
       "      <th>1</th>\n",
       "      <td>bigserver2</td>\n",
       "      <td>194.0</td>\n",
       "      <td>arc</td>\n",
       "      <td>D</td>\n",
       "      <td>1548807206</td>\n",
       "      <td>2</td>\n",
       "      <td>a51edcb77a3900d53adc61d394876c5ca7417486</td>\n",
       "      <td>57.49</td>\n",
       "      <td>F</td>\n",
       "      <td>(64, -8)</td>\n",
       "      <td>NaN</td>\n",
       "      <td>hunger</td>\n",
       "      <td>NaN</td>\n",
       "    </tr>\n",
       "    <tr>\n",
       "      <th>2</th>\n",
       "      <td>bigserver2</td>\n",
       "      <td>194.0</td>\n",
       "      <td>arc</td>\n",
       "      <td>B</td>\n",
       "      <td>1548814222</td>\n",
       "      <td>3</td>\n",
       "      <td>ba474919bfbe67b14ec6e6fd05c19f383152b1b2</td>\n",
       "      <td>NaN</td>\n",
       "      <td>F</td>\n",
       "      <td>(1453, -436)</td>\n",
       "      <td>noParent</td>\n",
       "      <td>NaN</td>\n",
       "      <td>NaN</td>\n",
       "    </tr>\n",
       "    <tr>\n",
       "      <th>3</th>\n",
       "      <td>bigserver2</td>\n",
       "      <td>194.0</td>\n",
       "      <td>arc</td>\n",
       "      <td>B</td>\n",
       "      <td>1548814226</td>\n",
       "      <td>4</td>\n",
       "      <td>0c1781b6944db9e58b5d71adfe64af09fedad796</td>\n",
       "      <td>NaN</td>\n",
       "      <td>M</td>\n",
       "      <td>(1453, -436)</td>\n",
       "      <td>3</td>\n",
       "      <td>NaN</td>\n",
       "      <td>NaN</td>\n",
       "    </tr>\n",
       "    <tr>\n",
       "      <th>4</th>\n",
       "      <td>bigserver2</td>\n",
       "      <td>194.0</td>\n",
       "      <td>arc</td>\n",
       "      <td>B</td>\n",
       "      <td>1548814227</td>\n",
       "      <td>5</td>\n",
       "      <td>77a67da50b453a570d1e3311a56cd9da89187cd2</td>\n",
       "      <td>NaN</td>\n",
       "      <td>F</td>\n",
       "      <td>(1366, -395)</td>\n",
       "      <td>noParent</td>\n",
       "      <td>NaN</td>\n",
       "      <td>NaN</td>\n",
       "    </tr>\n",
       "  </tbody>\n",
       "</table>\n",
       "</div>"
      ],
      "text/plain": [
       "       server  release  era event   timestamp  avatar  \\\n",
       "0  bigserver2    194.0  arc     B  1548804597       2   \n",
       "1  bigserver2    194.0  arc     D  1548807206       2   \n",
       "2  bigserver2    194.0  arc     B  1548814222       3   \n",
       "3  bigserver2    194.0  arc     B  1548814226       4   \n",
       "4  bigserver2    194.0  arc     B  1548814227       5   \n",
       "\n",
       "                                     player    age sex      location  \\\n",
       "0  a51edcb77a3900d53adc61d394876c5ca7417486    NaN   F      (50, -7)   \n",
       "1  a51edcb77a3900d53adc61d394876c5ca7417486  57.49   F      (64, -8)   \n",
       "2  ba474919bfbe67b14ec6e6fd05c19f383152b1b2    NaN   F  (1453, -436)   \n",
       "3  0c1781b6944db9e58b5d71adfe64af09fedad796    NaN   M  (1453, -436)   \n",
       "4  77a67da50b453a570d1e3311a56cd9da89187cd2    NaN   F  (1366, -395)   \n",
       "\n",
       "     parent cause_of_death  killer  \n",
       "0  noParent            NaN     NaN  \n",
       "1       NaN         hunger     NaN  \n",
       "2  noParent            NaN     NaN  \n",
       "3         3            NaN     NaN  \n",
       "4  noParent            NaN     NaN  "
      ]
     },
     "execution_count": 13,
     "metadata": {},
     "output_type": "execute_result"
    }
   ],
   "source": [
    "wrangled_lifelogs = pd.read_csv('../2_demographics/outputs/lifelogs_bigserver2_data.csv')\n",
    "print(wrangled_lifelogs.shape)\n",
    "wrangled_lifelogs.head()"
   ]
  },
  {
   "cell_type": "markdown",
   "metadata": {},
   "source": [
    "List of avatars from birth and death events:"
   ]
  },
  {
   "cell_type": "code",
   "execution_count": 9,
   "metadata": {},
   "outputs": [
    {
     "name": "stdout",
     "output_type": "stream",
     "text": [
      "Found 3834737 births, 3824777 deaths\n"
     ]
    }
   ],
   "source": [
    "births = wrangled_lifelogs[wrangled_lifelogs.event == 'B'].avatar.values\n",
    "deaths = wrangled_lifelogs[wrangled_lifelogs.event == 'D'].avatar.values\n",
    "\n",
    "print('Found %i births, %i deaths' % (len(births), len(deaths)))"
   ]
  },
  {
   "cell_type": "code",
   "execution_count": 10,
   "metadata": {},
   "outputs": [
    {
     "data": {
      "text/plain": [
       "array([    221,    2850,    2851, ..., 4109235, 4109236, 4109237])"
      ]
     },
     "execution_count": 10,
     "metadata": {},
     "output_type": "execute_result"
    }
   ],
   "source": [
    "np.setdiff1d(births, deaths)"
   ]
  },
  {
   "cell_type": "code",
   "execution_count": 11,
   "metadata": {},
   "outputs": [
    {
     "data": {
      "text/plain": [
       "array([], dtype=int64)"
      ]
     },
     "execution_count": 11,
     "metadata": {},
     "output_type": "execute_result"
    }
   ],
   "source": [
    "np.setdiff1d(deaths, births)"
   ]
  },
  {
   "cell_type": "markdown",
   "metadata": {},
   "source": [
    "## Source 4: Compact lifelogs"
   ]
  },
  {
   "cell_type": "code",
   "execution_count": 14,
   "metadata": {},
   "outputs": [
    {
     "name": "stdout",
     "output_type": "stream",
     "text": [
      "(3834737, 16)\n"
     ]
    },
    {
     "data": {
      "text/html": [
       "<div>\n",
       "<style scoped>\n",
       "    .dataframe tbody tr th:only-of-type {\n",
       "        vertical-align: middle;\n",
       "    }\n",
       "\n",
       "    .dataframe tbody tr th {\n",
       "        vertical-align: top;\n",
       "    }\n",
       "\n",
       "    .dataframe thead th {\n",
       "        text-align: right;\n",
       "    }\n",
       "</style>\n",
       "<table border=\"1\" class=\"dataframe\">\n",
       "  <thead>\n",
       "    <tr style=\"text-align: right;\">\n",
       "      <th></th>\n",
       "      <th>player</th>\n",
       "      <th>avatar</th>\n",
       "      <th>tBirth</th>\n",
       "      <th>parent</th>\n",
       "      <th>birth</th>\n",
       "      <th>sex</th>\n",
       "      <th>tDeath</th>\n",
       "      <th>death</th>\n",
       "      <th>age</th>\n",
       "      <th>cause_of_death</th>\n",
       "      <th>birthX</th>\n",
       "      <th>birthY</th>\n",
       "      <th>deathX</th>\n",
       "      <th>deathY</th>\n",
       "      <th>first</th>\n",
       "      <th>last</th>\n",
       "    </tr>\n",
       "  </thead>\n",
       "  <tbody>\n",
       "    <tr>\n",
       "      <th>0</th>\n",
       "      <td>79d28bc07c1f45c6602d5d84f506e36a795751dc</td>\n",
       "      <td>4109237</td>\n",
       "      <td>1617695981</td>\n",
       "      <td>4109188</td>\n",
       "      <td>[-16083    279]</td>\n",
       "      <td>F</td>\n",
       "      <td>NaN</td>\n",
       "      <td>[]</td>\n",
       "      <td>NaN</td>\n",
       "      <td>NaN</td>\n",
       "      <td>-16083</td>\n",
       "      <td>279</td>\n",
       "      <td>NaN</td>\n",
       "      <td>NaN</td>\n",
       "      <td>NaN</td>\n",
       "      <td>NaN</td>\n",
       "    </tr>\n",
       "    <tr>\n",
       "      <th>1</th>\n",
       "      <td>3da17539b16d6fe6911aefc57388bae9d1303e22</td>\n",
       "      <td>4109236</td>\n",
       "      <td>1617695903</td>\n",
       "      <td>4109184</td>\n",
       "      <td>[-15482    374]</td>\n",
       "      <td>F</td>\n",
       "      <td>NaN</td>\n",
       "      <td>[]</td>\n",
       "      <td>NaN</td>\n",
       "      <td>NaN</td>\n",
       "      <td>-15482</td>\n",
       "      <td>374</td>\n",
       "      <td>NaN</td>\n",
       "      <td>NaN</td>\n",
       "      <td>NaN</td>\n",
       "      <td>NaN</td>\n",
       "    </tr>\n",
       "    <tr>\n",
       "      <th>2</th>\n",
       "      <td>b14977d2ebf15c9c0d643378aacedb42e8a43757</td>\n",
       "      <td>4109235</td>\n",
       "      <td>1617695831</td>\n",
       "      <td>4109188</td>\n",
       "      <td>[-16095    276]</td>\n",
       "      <td>F</td>\n",
       "      <td>NaN</td>\n",
       "      <td>[]</td>\n",
       "      <td>NaN</td>\n",
       "      <td>NaN</td>\n",
       "      <td>-16095</td>\n",
       "      <td>276</td>\n",
       "      <td>NaN</td>\n",
       "      <td>NaN</td>\n",
       "      <td>NaN</td>\n",
       "      <td>NaN</td>\n",
       "    </tr>\n",
       "    <tr>\n",
       "      <th>3</th>\n",
       "      <td>2da3db708a04acdf8f3e52486e4cfbd820cfb766</td>\n",
       "      <td>4109234</td>\n",
       "      <td>1617695804</td>\n",
       "      <td>4109214</td>\n",
       "      <td>[-16807     79]</td>\n",
       "      <td>M</td>\n",
       "      <td>1.617696e+09</td>\n",
       "      <td>[-16807     79]</td>\n",
       "      <td>0.03</td>\n",
       "      <td>disconnect</td>\n",
       "      <td>-16807</td>\n",
       "      <td>79</td>\n",
       "      <td>-16807.0</td>\n",
       "      <td>79.0</td>\n",
       "      <td>NaN</td>\n",
       "      <td>NaN</td>\n",
       "    </tr>\n",
       "    <tr>\n",
       "      <th>4</th>\n",
       "      <td>3da17539b16d6fe6911aefc57388bae9d1303e22</td>\n",
       "      <td>4109233</td>\n",
       "      <td>1617695734</td>\n",
       "      <td>4109211</td>\n",
       "      <td>[-16219    -46]</td>\n",
       "      <td>M</td>\n",
       "      <td>1.617696e+09</td>\n",
       "      <td>[-16354   -121]</td>\n",
       "      <td>2.61</td>\n",
       "      <td>hunger</td>\n",
       "      <td>-16219</td>\n",
       "      <td>-46</td>\n",
       "      <td>-16354.0</td>\n",
       "      <td>-121.0</td>\n",
       "      <td>NaN</td>\n",
       "      <td>NaN</td>\n",
       "    </tr>\n",
       "  </tbody>\n",
       "</table>\n",
       "</div>"
      ],
      "text/plain": [
       "                                     player   avatar      tBirth   parent  \\\n",
       "0  79d28bc07c1f45c6602d5d84f506e36a795751dc  4109237  1617695981  4109188   \n",
       "1  3da17539b16d6fe6911aefc57388bae9d1303e22  4109236  1617695903  4109184   \n",
       "2  b14977d2ebf15c9c0d643378aacedb42e8a43757  4109235  1617695831  4109188   \n",
       "3  2da3db708a04acdf8f3e52486e4cfbd820cfb766  4109234  1617695804  4109214   \n",
       "4  3da17539b16d6fe6911aefc57388bae9d1303e22  4109233  1617695734  4109211   \n",
       "\n",
       "             birth sex        tDeath            death   age cause_of_death  \\\n",
       "0  [-16083    279]   F           NaN               []   NaN            NaN   \n",
       "1  [-15482    374]   F           NaN               []   NaN            NaN   \n",
       "2  [-16095    276]   F           NaN               []   NaN            NaN   \n",
       "3  [-16807     79]   M  1.617696e+09  [-16807     79]  0.03     disconnect   \n",
       "4  [-16219    -46]   M  1.617696e+09  [-16354   -121]  2.61         hunger   \n",
       "\n",
       "   birthX  birthY   deathX  deathY first last  \n",
       "0  -16083     279      NaN     NaN   NaN  NaN  \n",
       "1  -15482     374      NaN     NaN   NaN  NaN  \n",
       "2  -16095     276      NaN     NaN   NaN  NaN  \n",
       "3  -16807      79 -16807.0    79.0   NaN  NaN  \n",
       "4  -16219     -46 -16354.0  -121.0   NaN  NaN  "
      ]
     },
     "execution_count": 14,
     "metadata": {},
     "output_type": "execute_result"
    }
   ],
   "source": [
    "compact_lifelogs = pd.read_csv('outputs/all_lifelogs_compact.csv')\n",
    "print(compact_lifelogs.shape)\n",
    "compact_lifelogs.head()"
   ]
  },
  {
   "cell_type": "markdown",
   "metadata": {},
   "source": [
    "Are any avatars in the wrangled maplogs, but not the compact lifelogs?"
   ]
  },
  {
   "cell_type": "code",
   "execution_count": 16,
   "metadata": {},
   "outputs": [
    {
     "data": {
      "text/plain": [
       "array([], dtype=int64)"
      ]
     },
     "execution_count": 16,
     "metadata": {},
     "output_type": "execute_result"
    }
   ],
   "source": [
    "np.setdiff1d(births, compact_lifelogs.avatar.values)"
   ]
  },
  {
   "cell_type": "markdown",
   "metadata": {},
   "source": [
    "## Source 5: Families"
   ]
  },
  {
   "cell_type": "code",
   "execution_count": 17,
   "metadata": {},
   "outputs": [
    {
     "name": "stdout",
     "output_type": "stream",
     "text": [
      "(3834737, 2)\n"
     ]
    },
    {
     "data": {
      "text/html": [
       "<div>\n",
       "<style scoped>\n",
       "    .dataframe tbody tr th:only-of-type {\n",
       "        vertical-align: middle;\n",
       "    }\n",
       "\n",
       "    .dataframe tbody tr th {\n",
       "        vertical-align: top;\n",
       "    }\n",
       "\n",
       "    .dataframe thead th {\n",
       "        text-align: right;\n",
       "    }\n",
       "</style>\n",
       "<table border=\"1\" class=\"dataframe\">\n",
       "  <thead>\n",
       "    <tr style=\"text-align: right;\">\n",
       "      <th></th>\n",
       "      <th>avatar</th>\n",
       "      <th>family</th>\n",
       "    </tr>\n",
       "  </thead>\n",
       "  <tbody>\n",
       "    <tr>\n",
       "      <th>0</th>\n",
       "      <td>4109234</td>\n",
       "      <td>time-1617694919_eve-4109214_name-(missing)</td>\n",
       "    </tr>\n",
       "    <tr>\n",
       "      <th>1</th>\n",
       "      <td>4109230</td>\n",
       "      <td>time-1617694919_eve-4109214_name-(missing)</td>\n",
       "    </tr>\n",
       "    <tr>\n",
       "      <th>2</th>\n",
       "      <td>4109225</td>\n",
       "      <td>time-1617694919_eve-4109214_name-(missing)</td>\n",
       "    </tr>\n",
       "    <tr>\n",
       "      <th>3</th>\n",
       "      <td>4109222</td>\n",
       "      <td>time-1617694919_eve-4109214_name-(missing)</td>\n",
       "    </tr>\n",
       "    <tr>\n",
       "      <th>4</th>\n",
       "      <td>4109217</td>\n",
       "      <td>time-1617694919_eve-4109214_name-(missing)</td>\n",
       "    </tr>\n",
       "  </tbody>\n",
       "</table>\n",
       "</div>"
      ],
      "text/plain": [
       "    avatar                                      family\n",
       "0  4109234  time-1617694919_eve-4109214_name-(missing)\n",
       "1  4109230  time-1617694919_eve-4109214_name-(missing)\n",
       "2  4109225  time-1617694919_eve-4109214_name-(missing)\n",
       "3  4109222  time-1617694919_eve-4109214_name-(missing)\n",
       "4  4109217  time-1617694919_eve-4109214_name-(missing)"
      ]
     },
     "execution_count": 17,
     "metadata": {},
     "output_type": "execute_result"
    }
   ],
   "source": [
    "families = pd.read_csv('outputs/family_playerID.csv')\n",
    "print(families.shape)\n",
    "families.head()"
   ]
  },
  {
   "cell_type": "markdown",
   "metadata": {},
   "source": [
    "Was anyone not assigned a family?"
   ]
  },
  {
   "cell_type": "code",
   "execution_count": 26,
   "metadata": {},
   "outputs": [
    {
     "name": "stdout",
     "output_type": "stream",
     "text": [
      "(array([], dtype=int64),)\n",
      "(array([], dtype=int64),)\n"
     ]
    }
   ],
   "source": [
    "print(np.where(pd.isnull(families.family)))\n",
    "print(np.where(pd.isna(families.family)))"
   ]
  }
 ],
 "metadata": {
  "kernelspec": {
   "display_name": "ohol",
   "language": "python",
   "name": "ohol"
  },
  "language_info": {
   "codemirror_mode": {
    "name": "ipython",
    "version": 3
   },
   "file_extension": ".py",
   "mimetype": "text/x-python",
   "name": "python",
   "nbconvert_exporter": "python",
   "pygments_lexer": "ipython3",
   "version": "3.6.10"
  }
 },
 "nbformat": 4,
 "nbformat_minor": 4
}
