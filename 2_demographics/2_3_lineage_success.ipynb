{
 "cells": [
  {
   "cell_type": "markdown",
   "metadata": {},
   "source": [
    "# Compare success of different lineages\n",
    "Natalia Vélez, July 2020\n",
    "\n",
    "Now that we've built a graph representation of family trees, we'll use it to compare lineages and operationalize a success measure."
   ]
  },
  {
   "cell_type": "code",
   "execution_count": 1,
   "metadata": {},
   "outputs": [],
   "source": [
    "%matplotlib inline\n",
    "\n",
    "import os, re, glob, datetime, json\n",
    "from os.path import join as opj\n",
    "\n",
    "import pandas as pd\n",
    "import numpy as np\n",
    "import scipy.stats\n",
    "from tqdm import notebook\n",
    "\n",
    "import networkx as nx\n",
    "import matplotlib.pyplot as plt\n",
    "import seaborn as sns\n",
    "from networkx.drawing.nx_agraph import graphviz_layout\n",
    "\n",
    "sns.set_context('talk')\n",
    "sns.set_style('white')"
   ]
  },
  {
   "cell_type": "markdown",
   "metadata": {},
   "source": [
    "## Set up data"
   ]
  },
  {
   "cell_type": "markdown",
   "metadata": {},
   "source": [
    "Find start of boundless era from version history:"
   ]
  },
  {
   "cell_type": "code",
   "execution_count": 2,
   "metadata": {},
   "outputs": [
    {
     "name": "stdout",
     "output_type": "stream",
     "text": [
      "Start of boundless: 2019-11-08 17:27:14\n"
     ]
    },
    {
     "data": {
      "text/html": [
       "<div>\n",
       "<style scoped>\n",
       "    .dataframe tbody tr th:only-of-type {\n",
       "        vertical-align: middle;\n",
       "    }\n",
       "\n",
       "    .dataframe tbody tr th {\n",
       "        vertical-align: top;\n",
       "    }\n",
       "\n",
       "    .dataframe thead th {\n",
       "        text-align: right;\n",
       "    }\n",
       "</style>\n",
       "<table border=\"1\" class=\"dataframe\">\n",
       "  <thead>\n",
       "    <tr style=\"text-align: right;\">\n",
       "      <th></th>\n",
       "      <th>release</th>\n",
       "      <th>timestamp</th>\n",
       "    </tr>\n",
       "  </thead>\n",
       "  <tbody>\n",
       "    <tr>\n",
       "      <th>0</th>\n",
       "      <td>1</td>\n",
       "      <td>1.483052e+09</td>\n",
       "    </tr>\n",
       "    <tr>\n",
       "      <th>1</th>\n",
       "      <td>5</td>\n",
       "      <td>1.483472e+09</td>\n",
       "    </tr>\n",
       "    <tr>\n",
       "      <th>2</th>\n",
       "      <td>8</td>\n",
       "      <td>1.484065e+09</td>\n",
       "    </tr>\n",
       "    <tr>\n",
       "      <th>3</th>\n",
       "      <td>14</td>\n",
       "      <td>1.484961e+09</td>\n",
       "    </tr>\n",
       "    <tr>\n",
       "      <th>4</th>\n",
       "      <td>16</td>\n",
       "      <td>1.492207e+09</td>\n",
       "    </tr>\n",
       "  </tbody>\n",
       "</table>\n",
       "</div>"
      ],
      "text/plain": [
       "   release     timestamp\n",
       "0        1  1.483052e+09\n",
       "1        5  1.483472e+09\n",
       "2        8  1.484065e+09\n",
       "3       14  1.484961e+09\n",
       "4       16  1.492207e+09"
      ]
     },
     "execution_count": 2,
     "metadata": {},
     "output_type": "execute_result"
    }
   ],
   "source": [
    "ver_history = pd.read_csv('../1_download/outputs/version_history.tsv', sep='\\t')\n",
    "boundless_t = ver_history.loc[ver_history['release'] == 280, 'timestamp'].values[0]\n",
    "print('Start of boundless: %s' % datetime.datetime.fromtimestamp(boundless_t))\n",
    "ver_history.head()"
   ]
  },
  {
   "cell_type": "markdown",
   "metadata": {},
   "source": [
    "Load lifelog data:"
   ]
  },
  {
   "cell_type": "code",
   "execution_count": 3,
   "metadata": {},
   "outputs": [
    {
     "name": "stderr",
     "output_type": "stream",
     "text": [
      "/n/home15/nvelezalicea/.conda/envs/py3/lib/python3.9/site-packages/numpy/lib/arraysetops.py:580: FutureWarning: elementwise comparison failed; returning scalar instead, but in the future will perform elementwise comparison\n",
      "  mask |= (ar1 == a)\n"
     ]
    },
    {
     "data": {
      "text/html": [
       "<div>\n",
       "<style scoped>\n",
       "    .dataframe tbody tr th:only-of-type {\n",
       "        vertical-align: middle;\n",
       "    }\n",
       "\n",
       "    .dataframe tbody tr th {\n",
       "        vertical-align: top;\n",
       "    }\n",
       "\n",
       "    .dataframe thead th {\n",
       "        text-align: right;\n",
       "    }\n",
       "</style>\n",
       "<table border=\"1\" class=\"dataframe\">\n",
       "  <thead>\n",
       "    <tr style=\"text-align: right;\">\n",
       "      <th></th>\n",
       "      <th>player</th>\n",
       "      <th>avatar</th>\n",
       "      <th>tBirth</th>\n",
       "      <th>parent</th>\n",
       "      <th>birth</th>\n",
       "      <th>tDeath</th>\n",
       "      <th>death</th>\n",
       "      <th>age</th>\n",
       "      <th>cause_of_death</th>\n",
       "      <th>birthX</th>\n",
       "      <th>birthY</th>\n",
       "      <th>deathX</th>\n",
       "      <th>deathY</th>\n",
       "      <th>first</th>\n",
       "      <th>last</th>\n",
       "    </tr>\n",
       "  </thead>\n",
       "  <tbody>\n",
       "    <tr>\n",
       "      <th>0</th>\n",
       "      <td>5ab4f808b01db8bab564fa726ca7dd0439205d4a</td>\n",
       "      <td>4108849</td>\n",
       "      <td>1617678319</td>\n",
       "      <td>4108781</td>\n",
       "      <td>[-13743    -77]</td>\n",
       "      <td>1.617679e+09</td>\n",
       "      <td>[-13797   -104]</td>\n",
       "      <td>3.59</td>\n",
       "      <td>hunger</td>\n",
       "      <td>-13743</td>\n",
       "      <td>-77</td>\n",
       "      <td>-13797.0</td>\n",
       "      <td>-104.0</td>\n",
       "      <td>TED</td>\n",
       "      <td>GFELL</td>\n",
       "    </tr>\n",
       "    <tr>\n",
       "      <th>1</th>\n",
       "      <td>5ab4f808b01db8bab564fa726ca7dd0439205d4a</td>\n",
       "      <td>4108848</td>\n",
       "      <td>1617678300</td>\n",
       "      <td>4108786</td>\n",
       "      <td>[-15498    362]</td>\n",
       "      <td>1.617678e+09</td>\n",
       "      <td>[-15498    362]</td>\n",
       "      <td>0.22</td>\n",
       "      <td>disconnect</td>\n",
       "      <td>-15498</td>\n",
       "      <td>362</td>\n",
       "      <td>-15498.0</td>\n",
       "      <td>362.0</td>\n",
       "      <td>HERA</td>\n",
       "      <td>POLLY</td>\n",
       "    </tr>\n",
       "    <tr>\n",
       "      <th>2</th>\n",
       "      <td>dadea1a71832326c598df59059cf42102e979707</td>\n",
       "      <td>4108842</td>\n",
       "      <td>1617678238</td>\n",
       "      <td>4108778</td>\n",
       "      <td>[-15498    362]</td>\n",
       "      <td>1.617680e+09</td>\n",
       "      <td>[-15502    363]</td>\n",
       "      <td>22.16</td>\n",
       "      <td>murdered</td>\n",
       "      <td>-15498</td>\n",
       "      <td>362</td>\n",
       "      <td>-15502.0</td>\n",
       "      <td>363.0</td>\n",
       "      <td>SPARTAN</td>\n",
       "      <td>POLLY</td>\n",
       "    </tr>\n",
       "    <tr>\n",
       "      <th>3</th>\n",
       "      <td>328dc412f542693dc20d084e99a7367e4fe4aae4</td>\n",
       "      <td>4108839</td>\n",
       "      <td>1617678208</td>\n",
       "      <td>4108784</td>\n",
       "      <td>[-13754    -85]</td>\n",
       "      <td>1.617682e+09</td>\n",
       "      <td>[-13765    -64]</td>\n",
       "      <td>60.00</td>\n",
       "      <td>oldAge</td>\n",
       "      <td>-13754</td>\n",
       "      <td>-85</td>\n",
       "      <td>-13765.0</td>\n",
       "      <td>-64.0</td>\n",
       "      <td>SERANA</td>\n",
       "      <td>GFELL</td>\n",
       "    </tr>\n",
       "    <tr>\n",
       "      <th>4</th>\n",
       "      <td>e65b7bfa037a3287869cb682b648c68e52ad05d4</td>\n",
       "      <td>4108837</td>\n",
       "      <td>1617678173</td>\n",
       "      <td>4108782</td>\n",
       "      <td>[-15796   -205]</td>\n",
       "      <td>1.617679e+09</td>\n",
       "      <td>[-15803   -204]</td>\n",
       "      <td>14.85</td>\n",
       "      <td>murdered</td>\n",
       "      <td>-15796</td>\n",
       "      <td>-205</td>\n",
       "      <td>-15803.0</td>\n",
       "      <td>-204.0</td>\n",
       "      <td>TJ</td>\n",
       "      <td>NaN</td>\n",
       "    </tr>\n",
       "  </tbody>\n",
       "</table>\n",
       "</div>"
      ],
      "text/plain": [
       "                                     player   avatar      tBirth   parent  \\\n",
       "0  5ab4f808b01db8bab564fa726ca7dd0439205d4a  4108849  1617678319  4108781   \n",
       "1  5ab4f808b01db8bab564fa726ca7dd0439205d4a  4108848  1617678300  4108786   \n",
       "2  dadea1a71832326c598df59059cf42102e979707  4108842  1617678238  4108778   \n",
       "3  328dc412f542693dc20d084e99a7367e4fe4aae4  4108839  1617678208  4108784   \n",
       "4  e65b7bfa037a3287869cb682b648c68e52ad05d4  4108837  1617678173  4108782   \n",
       "\n",
       "             birth        tDeath            death    age cause_of_death  \\\n",
       "0  [-13743    -77]  1.617679e+09  [-13797   -104]   3.59         hunger   \n",
       "1  [-15498    362]  1.617678e+09  [-15498    362]   0.22     disconnect   \n",
       "2  [-15498    362]  1.617680e+09  [-15502    363]  22.16       murdered   \n",
       "3  [-13754    -85]  1.617682e+09  [-13765    -64]  60.00         oldAge   \n",
       "4  [-15796   -205]  1.617679e+09  [-15803   -204]  14.85       murdered   \n",
       "\n",
       "   birthX  birthY   deathX  deathY    first   last  \n",
       "0  -13743     -77 -13797.0  -104.0      TED  GFELL  \n",
       "1  -15498     362 -15498.0   362.0     HERA  POLLY  \n",
       "2  -15498     362 -15502.0   363.0  SPARTAN  POLLY  \n",
       "3  -13754     -85 -13765.0   -64.0   SERANA  GFELL  \n",
       "4  -15796    -205 -15803.0  -204.0       TJ    NaN  "
      ]
     },
     "execution_count": 3,
     "metadata": {},
     "output_type": "execute_result"
    }
   ],
   "source": [
    "all_eras = pd.read_csv('outputs/all_lifelogs_compact.tsv', sep='\\t', index_col=0)\n",
    "all_eras.head()"
   ]
  },
  {
   "cell_type": "markdown",
   "metadata": {},
   "source": [
    "Load families & find families that started in boundless era:"
   ]
  },
  {
   "cell_type": "code",
   "execution_count": 4,
   "metadata": {},
   "outputs": [
    {
     "name": "stderr",
     "output_type": "stream",
     "text": [
      "/n/home15/nvelezalicea/.conda/envs/py3/lib/python3.9/site-packages/numpy/lib/arraysetops.py:580: FutureWarning: elementwise comparison failed; returning scalar instead, but in the future will perform elementwise comparison\n",
      "  mask |= (ar1 == a)\n"
     ]
    },
    {
     "data": {
      "text/html": [
       "<div>\n",
       "<style scoped>\n",
       "    .dataframe tbody tr th:only-of-type {\n",
       "        vertical-align: middle;\n",
       "    }\n",
       "\n",
       "    .dataframe tbody tr th {\n",
       "        vertical-align: top;\n",
       "    }\n",
       "\n",
       "    .dataframe thead th {\n",
       "        text-align: right;\n",
       "    }\n",
       "</style>\n",
       "<table border=\"1\" class=\"dataframe\">\n",
       "  <thead>\n",
       "    <tr style=\"text-align: right;\">\n",
       "      <th></th>\n",
       "      <th>avatar</th>\n",
       "      <th>family</th>\n",
       "    </tr>\n",
       "  </thead>\n",
       "  <tbody>\n",
       "    <tr>\n",
       "      <th>0</th>\n",
       "      <td>4108692</td>\n",
       "      <td>time-1617674434_eve-4108692_name-NOTIS</td>\n",
       "    </tr>\n",
       "    <tr>\n",
       "      <th>1</th>\n",
       "      <td>4108622</td>\n",
       "      <td>time-1617672864_eve-4108622_name-JONES</td>\n",
       "    </tr>\n",
       "    <tr>\n",
       "      <th>2</th>\n",
       "      <td>4108226</td>\n",
       "      <td>time-1617661499_eve-4108226_name-SAD</td>\n",
       "    </tr>\n",
       "    <tr>\n",
       "      <th>3</th>\n",
       "      <td>4108225</td>\n",
       "      <td>time-1617661497_eve-4108225_name-LOSTAUNAU</td>\n",
       "    </tr>\n",
       "    <tr>\n",
       "      <th>4</th>\n",
       "      <td>4108220</td>\n",
       "      <td>time-1617661402_eve-4108220_name-AA</td>\n",
       "    </tr>\n",
       "  </tbody>\n",
       "</table>\n",
       "</div>"
      ],
      "text/plain": [
       "    avatar                                      family\n",
       "0  4108692      time-1617674434_eve-4108692_name-NOTIS\n",
       "1  4108622      time-1617672864_eve-4108622_name-JONES\n",
       "2  4108226        time-1617661499_eve-4108226_name-SAD\n",
       "3  4108225  time-1617661497_eve-4108225_name-LOSTAUNAU\n",
       "4  4108220         time-1617661402_eve-4108220_name-AA"
      ]
     },
     "execution_count": 4,
     "metadata": {},
     "output_type": "execute_result"
    }
   ],
   "source": [
    "fam_df = pd.read_csv('outputs/family_playerID.tsv', sep='\\t', index_col=0)\n",
    "fam_df.head()"
   ]
  },
  {
   "cell_type": "markdown",
   "metadata": {},
   "source": [
    "Find families that started in boundless era:"
   ]
  },
  {
   "cell_type": "code",
   "execution_count": 5,
   "metadata": {},
   "outputs": [
    {
     "name": "stdout",
     "output_type": "stream",
     "text": [
      "Total families: 64863\n"
     ]
    },
    {
     "data": {
      "text/plain": [
       "in_era\n",
       "False    49880\n",
       "True     14983\n",
       "Name: family, dtype: int64"
      ]
     },
     "execution_count": 5,
     "metadata": {},
     "output_type": "execute_result"
    }
   ],
   "source": [
    "in_boundless = fam_df.groupby('family')['avatar'].agg('count').reset_index()\n",
    "in_boundless['start_t'] = in_boundless['family'].str.extract(r'(?<=time-)([0-9]+)')\n",
    "in_boundless['start_t'] = in_boundless['start_t'].astype(np.int)\n",
    "in_boundless['in_era'] = in_boundless['start_t'] > boundless_t\n",
    "in_boundless = in_boundless[['family', 'in_era']]\n",
    "\n",
    "# Summary: How many families left?\n",
    "print('Total families: %i' % in_boundless.shape[0])\n",
    "in_boundless.groupby('in_era')['family'].agg('count')"
   ]
  },
  {
   "cell_type": "markdown",
   "metadata": {},
   "source": [
    "Merge:"
   ]
  },
  {
   "cell_type": "code",
   "execution_count": 6,
   "metadata": {},
   "outputs": [
    {
     "name": "stdout",
     "output_type": "stream",
     "text": [
      "Original size: (2226610, 15)\n",
      "Boundless era only: (789389, 17)\n"
     ]
    }
   ],
   "source": [
    "print('Original size: %s' % str(all_eras.shape))\n",
    "boundless_df = pd.merge(all_eras, fam_df, on='avatar')\n",
    "boundless_df = pd.merge(boundless_df, in_boundless, on='family')\n",
    "boundless_df = boundless_df[boundless_df['in_era']]\n",
    "boundless_df = boundless_df.reset_index(drop=True)\n",
    "print('Boundless era only: %s' % str(boundless_df.shape))"
   ]
  },
  {
   "cell_type": "markdown",
   "metadata": {},
   "source": [
    "Remove singleton families:"
   ]
  },
  {
   "cell_type": "code",
   "execution_count": 7,
   "metadata": {},
   "outputs": [
    {
     "name": "stdout",
     "output_type": "stream",
     "text": [
      "Removing 8426 singleton families\n"
     ]
    }
   ],
   "source": [
    "singletons = boundless_df.groupby('family')['avatar'].agg('count').reset_index()\n",
    "singletons = singletons.rename(columns={'avatar': 'count'})\n",
    "singletons = singletons[singletons['count'] == 1]\n",
    "single_fams = singletons.family.values\n",
    "\n",
    "print('Removing %i singleton families' % len(single_fams))\n",
    "boundless_df = boundless_df[~boundless_df['family'].isin(single_fams)]\n",
    "#era_df = era_df.reset_index(drop=True)"
   ]
  },
  {
   "cell_type": "markdown",
   "metadata": {},
   "source": [
    "Remove incomplete families (i.e., lineages that were still alive at the time of the data download)"
   ]
  },
  {
   "cell_type": "code",
   "execution_count": null,
   "metadata": {},
   "outputs": [],
   "source": []
  },
  {
   "cell_type": "code",
   "execution_count": 8,
   "metadata": {},
   "outputs": [
    {
     "name": "stdout",
     "output_type": "stream",
     "text": [
      "Removing 11 incomplete families\n"
     ]
    }
   ],
   "source": [
    "idx = boundless_df.groupby(['family'])['tBirth'].transform(max) == boundless_df['tBirth']\n",
    "last_descendants = boundless_df[idx].copy()\n",
    "incomplete_fams = last_descendants[~np.isfinite(last_descendants.tDeath)].family.values\n",
    "\n",
    "print('Removing %i incomplete families' % len(incomplete_fams))\n",
    "boundless_df = boundless_df[~boundless_df['family'].isin(incomplete_fams)]"
   ]
  },
  {
   "cell_type": "markdown",
   "metadata": {},
   "source": [
    "Exclude infant births:"
   ]
  },
  {
   "cell_type": "code",
   "execution_count": 9,
   "metadata": {},
   "outputs": [
    {
     "ename": "OSError",
     "evalue": "outputs/infant_deaths.txt not found.",
     "output_type": "error",
     "traceback": [
      "\u001b[0;31m---------------------------------------------------------------------------\u001b[0m",
      "\u001b[0;31mOSError\u001b[0m                                   Traceback (most recent call last)",
      "\u001b[0;32m<ipython-input-9-634f335203de>\u001b[0m in \u001b[0;36m<module>\u001b[0;34m\u001b[0m\n\u001b[1;32m      1\u001b[0m \u001b[0morig_n\u001b[0m \u001b[0;34m=\u001b[0m \u001b[0mlen\u001b[0m\u001b[0;34m(\u001b[0m\u001b[0mboundless_df\u001b[0m\u001b[0;34m)\u001b[0m\u001b[0;34m\u001b[0m\u001b[0;34m\u001b[0m\u001b[0m\n\u001b[0;32m----> 2\u001b[0;31m \u001b[0minfant_deaths\u001b[0m \u001b[0;34m=\u001b[0m \u001b[0mnp\u001b[0m\u001b[0;34m.\u001b[0m\u001b[0mloadtxt\u001b[0m\u001b[0;34m(\u001b[0m\u001b[0;34m'outputs/infant_deaths.txt'\u001b[0m\u001b[0;34m,\u001b[0m \u001b[0mdtype\u001b[0m\u001b[0;34m=\u001b[0m\u001b[0mnp\u001b[0m\u001b[0;34m.\u001b[0m\u001b[0mint\u001b[0m\u001b[0;34m)\u001b[0m\u001b[0;34m\u001b[0m\u001b[0;34m\u001b[0m\u001b[0m\n\u001b[0m\u001b[1;32m      3\u001b[0m \u001b[0mboundless_df\u001b[0m \u001b[0;34m=\u001b[0m \u001b[0mboundless_df\u001b[0m\u001b[0;34m[\u001b[0m\u001b[0;34m~\u001b[0m\u001b[0mboundless_df\u001b[0m\u001b[0;34m[\u001b[0m\u001b[0;34m'avatar'\u001b[0m\u001b[0;34m]\u001b[0m\u001b[0;34m.\u001b[0m\u001b[0misin\u001b[0m\u001b[0;34m(\u001b[0m\u001b[0minfant_deaths\u001b[0m\u001b[0;34m)\u001b[0m\u001b[0;34m]\u001b[0m\u001b[0;34m.\u001b[0m\u001b[0mreset_index\u001b[0m\u001b[0;34m(\u001b[0m\u001b[0mdrop\u001b[0m\u001b[0;34m=\u001b[0m\u001b[0;32mTrue\u001b[0m\u001b[0;34m)\u001b[0m\u001b[0;34m\u001b[0m\u001b[0;34m\u001b[0m\u001b[0m\n\u001b[1;32m      4\u001b[0m \u001b[0mnew_n\u001b[0m \u001b[0;34m=\u001b[0m \u001b[0mlen\u001b[0m\u001b[0;34m(\u001b[0m\u001b[0mboundless_df\u001b[0m\u001b[0;34m)\u001b[0m\u001b[0;34m\u001b[0m\u001b[0;34m\u001b[0m\u001b[0m\n\u001b[1;32m      5\u001b[0m \u001b[0;34m\u001b[0m\u001b[0m\n",
      "\u001b[0;32m~/.conda/envs/py3/lib/python3.9/site-packages/numpy/lib/npyio.py\u001b[0m in \u001b[0;36mloadtxt\u001b[0;34m(fname, dtype, comments, delimiter, converters, skiprows, usecols, unpack, ndmin, encoding, max_rows)\u001b[0m\n\u001b[1;32m    959\u001b[0m             \u001b[0mfname\u001b[0m \u001b[0;34m=\u001b[0m \u001b[0mos_fspath\u001b[0m\u001b[0;34m(\u001b[0m\u001b[0mfname\u001b[0m\u001b[0;34m)\u001b[0m\u001b[0;34m\u001b[0m\u001b[0;34m\u001b[0m\u001b[0m\n\u001b[1;32m    960\u001b[0m         \u001b[0;32mif\u001b[0m \u001b[0m_is_string_like\u001b[0m\u001b[0;34m(\u001b[0m\u001b[0mfname\u001b[0m\u001b[0;34m)\u001b[0m\u001b[0;34m:\u001b[0m\u001b[0;34m\u001b[0m\u001b[0;34m\u001b[0m\u001b[0m\n\u001b[0;32m--> 961\u001b[0;31m             \u001b[0mfh\u001b[0m \u001b[0;34m=\u001b[0m \u001b[0mnp\u001b[0m\u001b[0;34m.\u001b[0m\u001b[0mlib\u001b[0m\u001b[0;34m.\u001b[0m\u001b[0m_datasource\u001b[0m\u001b[0;34m.\u001b[0m\u001b[0mopen\u001b[0m\u001b[0;34m(\u001b[0m\u001b[0mfname\u001b[0m\u001b[0;34m,\u001b[0m \u001b[0;34m'rt'\u001b[0m\u001b[0;34m,\u001b[0m \u001b[0mencoding\u001b[0m\u001b[0;34m=\u001b[0m\u001b[0mencoding\u001b[0m\u001b[0;34m)\u001b[0m\u001b[0;34m\u001b[0m\u001b[0;34m\u001b[0m\u001b[0m\n\u001b[0m\u001b[1;32m    962\u001b[0m             \u001b[0mfencoding\u001b[0m \u001b[0;34m=\u001b[0m \u001b[0mgetattr\u001b[0m\u001b[0;34m(\u001b[0m\u001b[0mfh\u001b[0m\u001b[0;34m,\u001b[0m \u001b[0;34m'encoding'\u001b[0m\u001b[0;34m,\u001b[0m \u001b[0;34m'latin1'\u001b[0m\u001b[0;34m)\u001b[0m\u001b[0;34m\u001b[0m\u001b[0;34m\u001b[0m\u001b[0m\n\u001b[1;32m    963\u001b[0m             \u001b[0mfh\u001b[0m \u001b[0;34m=\u001b[0m \u001b[0miter\u001b[0m\u001b[0;34m(\u001b[0m\u001b[0mfh\u001b[0m\u001b[0;34m)\u001b[0m\u001b[0;34m\u001b[0m\u001b[0;34m\u001b[0m\u001b[0m\n",
      "\u001b[0;32m~/.conda/envs/py3/lib/python3.9/site-packages/numpy/lib/_datasource.py\u001b[0m in \u001b[0;36mopen\u001b[0;34m(path, mode, destpath, encoding, newline)\u001b[0m\n\u001b[1;32m    193\u001b[0m \u001b[0;34m\u001b[0m\u001b[0m\n\u001b[1;32m    194\u001b[0m     \u001b[0mds\u001b[0m \u001b[0;34m=\u001b[0m \u001b[0mDataSource\u001b[0m\u001b[0;34m(\u001b[0m\u001b[0mdestpath\u001b[0m\u001b[0;34m)\u001b[0m\u001b[0;34m\u001b[0m\u001b[0;34m\u001b[0m\u001b[0m\n\u001b[0;32m--> 195\u001b[0;31m     \u001b[0;32mreturn\u001b[0m \u001b[0mds\u001b[0m\u001b[0;34m.\u001b[0m\u001b[0mopen\u001b[0m\u001b[0;34m(\u001b[0m\u001b[0mpath\u001b[0m\u001b[0;34m,\u001b[0m \u001b[0mmode\u001b[0m\u001b[0;34m,\u001b[0m \u001b[0mencoding\u001b[0m\u001b[0;34m=\u001b[0m\u001b[0mencoding\u001b[0m\u001b[0;34m,\u001b[0m \u001b[0mnewline\u001b[0m\u001b[0;34m=\u001b[0m\u001b[0mnewline\u001b[0m\u001b[0;34m)\u001b[0m\u001b[0;34m\u001b[0m\u001b[0;34m\u001b[0m\u001b[0m\n\u001b[0m\u001b[1;32m    196\u001b[0m \u001b[0;34m\u001b[0m\u001b[0m\n\u001b[1;32m    197\u001b[0m \u001b[0;34m\u001b[0m\u001b[0m\n",
      "\u001b[0;32m~/.conda/envs/py3/lib/python3.9/site-packages/numpy/lib/_datasource.py\u001b[0m in \u001b[0;36mopen\u001b[0;34m(self, path, mode, encoding, newline)\u001b[0m\n\u001b[1;32m    533\u001b[0m                                       encoding=encoding, newline=newline)\n\u001b[1;32m    534\u001b[0m         \u001b[0;32melse\u001b[0m\u001b[0;34m:\u001b[0m\u001b[0;34m\u001b[0m\u001b[0;34m\u001b[0m\u001b[0m\n\u001b[0;32m--> 535\u001b[0;31m             \u001b[0;32mraise\u001b[0m \u001b[0mIOError\u001b[0m\u001b[0;34m(\u001b[0m\u001b[0;34m\"%s not found.\"\u001b[0m \u001b[0;34m%\u001b[0m \u001b[0mpath\u001b[0m\u001b[0;34m)\u001b[0m\u001b[0;34m\u001b[0m\u001b[0;34m\u001b[0m\u001b[0m\n\u001b[0m\u001b[1;32m    536\u001b[0m \u001b[0;34m\u001b[0m\u001b[0m\n\u001b[1;32m    537\u001b[0m \u001b[0;34m\u001b[0m\u001b[0m\n",
      "\u001b[0;31mOSError\u001b[0m: outputs/infant_deaths.txt not found."
     ]
    }
   ],
   "source": [
    "orig_n = len(boundless_df)\n",
    "infant_deaths = np.loadtxt('outputs/infant_deaths.txt', dtype=np.int)\n",
    "boundless_df = boundless_df[~boundless_df['avatar'].isin(infant_deaths)].reset_index(drop=True)\n",
    "new_n = len(boundless_df)\n",
    "\n",
    "print('Removed %i infant deaths' % (orig_n - new_n))"
   ]
  },
  {
   "cell_type": "markdown",
   "metadata": {},
   "source": [
    "Just look at lineages from the boundless world era:"
   ]
  },
  {
   "cell_type": "code",
   "execution_count": null,
   "metadata": {},
   "outputs": [],
   "source": [
    "boundless_families = np.unique(boundless_df['family'])\n",
    "\n",
    "print('Analyzing %i families' % len(boundless_families))\n",
    "print('%i avatars' % len(np.unique(boundless_df['avatar'])))\n",
    "print('%i unique players' % len(np.unique(boundless_df['player'])))"
   ]
  },
  {
   "cell_type": "markdown",
   "metadata": {},
   "source": [
    "Lives per player in current sample:"
   ]
  },
  {
   "cell_type": "code",
   "execution_count": null,
   "metadata": {},
   "outputs": [],
   "source": [
    "lineage_df = boundless_df.copy()\n",
    "player_summ = lineage_df.groupby('player')['avatar'].agg('count').reset_index()\n",
    "player_summ = player_summ.rename(columns={'avatar': 'n'})\n",
    "player_summ.head()\n",
    "\n",
    "# Plot\n",
    "print('Median # lives: %0.2f' % np.median(player_summ['n']))\n",
    "print('Min # lives: %i' % np.min(player_summ['n']))\n",
    "print('Max # lives: %i' % np.max(player_summ['n']))\n",
    "\n",
    "fig,ax = plt.subplots()\n",
    "sns.distplot(np.log10(player_summ['n']),ax=ax)\n",
    "ax.set(xlabel='# lives (excluding disconnects)', xticks=range(4), xticklabels=[10**x for x in range(4)])\n",
    "sns.despine()"
   ]
  },
  {
   "cell_type": "markdown",
   "metadata": {},
   "source": [
    "Start and end times:"
   ]
  },
  {
   "cell_type": "code",
   "execution_count": null,
   "metadata": {},
   "outputs": [],
   "source": [
    "t_fmt = '%Y-%m-%dT%H:%M:%S %Z'\n",
    "\n",
    "start_t = np.min(lineage_df['tBirth'])\n",
    "start_date = datetime.datetime.fromtimestamp(start_t).strftime(t_fmt)\n",
    "\n",
    "end_t = np.max(lineage_df['tDeath'])\n",
    "end_date = datetime.datetime.fromtimestamp(end_t).strftime(t_fmt)\n",
    "\n",
    "print('Analyzing %i lineages' % len(boundless_families))\n",
    "print('First lineage starts at: %s' % start_date)\n",
    "print('Lineages end at: %s' % end_date)"
   ]
  },
  {
   "cell_type": "markdown",
   "metadata": {},
   "source": [
    "What is the longest-lived lineage?"
   ]
  },
  {
   "cell_type": "code",
   "execution_count": null,
   "metadata": {},
   "outputs": [],
   "source": [
    "family_t = lineage_df.groupby('family').agg({'tBirth': 'min', 'tDeath': 'max'}).reset_index()\n",
    "family_t['duration_hours'] = (family_t['tDeath'] - family_t['tBirth'])/60/60\n",
    "family_t['duration_days'] = family_t['duration_hours']/24\n",
    "family_t = family_t.sort_values(by='duration_hours', ascending=False).reset_index(drop=True)\n",
    "family_t.head()"
   ]
  },
  {
   "cell_type": "code",
   "execution_count": null,
   "metadata": {},
   "outputs": [],
   "source": [
    "ax = sns.distplot(np.log10(family_t.duration_hours))\n",
    "log_xticks = ax.get_xticks()\n",
    "log_xticks = log_xticks[1:-1]\n",
    "ax.set(xticks = log_xticks, xticklabels = [10**x for x in log_xticks],\n",
    "       xlabel = 'Family duration (hours)')"
   ]
  },
  {
   "cell_type": "code",
   "execution_count": null,
   "metadata": {},
   "outputs": [],
   "source": [
    "family_t['duration_hours'].agg(['min', 'max', 'median'])"
   ]
  },
  {
   "cell_type": "markdown",
   "metadata": {},
   "source": [
    "## Compute summary statistics"
   ]
  },
  {
   "cell_type": "markdown",
   "metadata": {},
   "source": [
    "### Family size and life expectancy"
   ]
  },
  {
   "cell_type": "code",
   "execution_count": null,
   "metadata": {},
   "outputs": [],
   "source": [
    "life_expectancy = lineage_df.groupby('family')['age'].agg(['mean', 'count']).reset_index()\n",
    "ax = sns.distplot(life_expectancy['mean'])\n",
    "ax.set(xlabel = 'Life expectancy by family')\n",
    "sns.despine()"
   ]
  },
  {
   "cell_type": "code",
   "execution_count": null,
   "metadata": {},
   "outputs": [],
   "source": [
    "ax = sns.distplot(np.log10(life_expectancy['count']))\n",
    "ax.set(xlabel = 'Total family size', xticks=range(5), xticklabels=[10**i for i in range(5)])\n",
    "sns.despine()"
   ]
  },
  {
   "cell_type": "code",
   "execution_count": null,
   "metadata": {},
   "outputs": [],
   "source": [
    "scipy.stats.mode(life_expectancy['count'])"
   ]
  },
  {
   "cell_type": "markdown",
   "metadata": {},
   "source": [
    "### Living population size over time"
   ]
  },
  {
   "cell_type": "code",
   "execution_count": null,
   "metadata": {},
   "outputs": [],
   "source": [
    "living_list = []\n",
    "for fam in notebook.tqdm(boundless_families):\n",
    "    fam_df = lineage_df[lineage_df['family'] == fam].copy().reset_index(drop=True)\n",
    "    t = fam_df['tBirth'].values\n",
    "    for ti in t:\n",
    "        is_alive = (fam_df['tBirth'] <= ti) & (fam_df['tDeath'] > ti)\n",
    "        pop = np.sum(is_alive)\n",
    "        living_list.append((fam, ti, pop))"
   ]
  },
  {
   "cell_type": "code",
   "execution_count": null,
   "metadata": {},
   "outputs": [],
   "source": [
    "living_df = pd.DataFrame(living_list, columns = ['family', 't', 'population'])\n",
    "living_df = living_df.sort_values(by=['family', 't'], ascending=True).reset_index(drop=True)\n",
    "living_df['t0'] = living_df.groupby('family')['t'].transform('first')\n",
    "living_df['t_elapsed'] = (living_df['t'] - living_df['t0'])/60/60\n",
    "living_df.head()"
   ]
  },
  {
   "cell_type": "markdown",
   "metadata": {},
   "source": [
    "Plot a subset"
   ]
  },
  {
   "cell_type": "code",
   "execution_count": null,
   "metadata": {
    "scrolled": true
   },
   "outputs": [],
   "source": [
    "np.random.seed(526)\n",
    "random_families = np.random.choice(boundless_families, size=10, replace=False)\n",
    "random_subset = living_df[living_df['family'].isin(random_families)]\n",
    "g = sns.relplot(data=random_subset, x='t_elapsed', y='population', hue='family', kind='line',\n",
    "                 height=6, aspect=2, alpha = 0.5)\n",
    "g.set(xlabel = 'Time elapsed (hours)', ylabel = 'Population size')\n",
    "g._legend.remove()"
   ]
  },
  {
   "cell_type": "markdown",
   "metadata": {},
   "source": [
    "Maximum population size"
   ]
  },
  {
   "cell_type": "code",
   "execution_count": null,
   "metadata": {},
   "outputs": [],
   "source": [
    "max_pop = living_df.groupby('family')['population'].agg('max').reset_index()\n",
    "ax = sns.distplot(max_pop['population'])\n",
    "ax.set(xlabel = 'Maximum living population size')\n",
    "sns.despine()"
   ]
  },
  {
   "cell_type": "code",
   "execution_count": null,
   "metadata": {},
   "outputs": [],
   "source": [
    "max_pop['population'].agg(['min', 'max', 'median'])"
   ]
  },
  {
   "cell_type": "markdown",
   "metadata": {},
   "source": [
    "### # of generations (Chain length)"
   ]
  },
  {
   "cell_type": "markdown",
   "metadata": {},
   "source": [
    "Helper: Read JSON files"
   ]
  },
  {
   "cell_type": "code",
   "execution_count": null,
   "metadata": {},
   "outputs": [],
   "source": [
    "def open_graph(f):\n",
    "    with open(f) as handle:\n",
    "        graph_data = json.load(handle)\n",
    "    return nx.json_graph.node_link_graph(graph_data)"
   ]
  },
  {
   "cell_type": "markdown",
   "metadata": {},
   "source": [
    "Find longest chain in family graphs"
   ]
  },
  {
   "cell_type": "code",
   "execution_count": null,
   "metadata": {},
   "outputs": [],
   "source": [
    "chain_list = []\n",
    "family_generations = []\n",
    "\n",
    "for f in notebook.tqdm(boundless_families):\n",
    "    fam_file = 'outputs/families/families_%s.json' % f\n",
    "    fam_graph = open_graph(fam_file)\n",
    "    fam_chain = nx.algorithms.dag_longest_path(fam_graph)\n",
    "    \n",
    "    eve = re.search(r'(?<=eve-)([0-9]+)', f).group(0)\n",
    "    \n",
    "    chain_list.append((f, len(fam_chain)))"
   ]
  },
  {
   "cell_type": "code",
   "execution_count": null,
   "metadata": {},
   "outputs": [],
   "source": [
    "chain_df = pd.DataFrame(chain_list, columns=['family', 'longest_path'])\n",
    "chain_df.head()"
   ]
  },
  {
   "cell_type": "code",
   "execution_count": null,
   "metadata": {},
   "outputs": [],
   "source": [
    "chain_df['longest_path'].agg(['min', 'max', 'median'])"
   ]
  },
  {
   "cell_type": "code",
   "execution_count": null,
   "metadata": {},
   "outputs": [],
   "source": [
    "ax = sns.distplot(np.log10(chain_df['longest_path']))\n",
    "\n",
    "ax.set(xlabel = '# of generations')\n"
   ]
  },
  {
   "cell_type": "code",
   "execution_count": null,
   "metadata": {},
   "outputs": [],
   "source": [
    "chain_df.sort_values(by='longest_path', ascending=False).head()"
   ]
  },
  {
   "cell_type": "markdown",
   "metadata": {},
   "source": [
    "## Modeling success"
   ]
  },
  {
   "cell_type": "markdown",
   "metadata": {},
   "source": [
    "Criterion for \"success\": Reaching age 14 (viability fitness)"
   ]
  },
  {
   "cell_type": "code",
   "execution_count": null,
   "metadata": {},
   "outputs": [],
   "source": [
    "mortality_df = lineage_df.copy()\n",
    "mortality_df['adult'] = (lineage_df['age'] >= 14)*1\n",
    "mortality_df = mortality_df[['family', 'avatar', 'adult']]\n",
    "\n",
    "mortality_summ = mortality_df.groupby('family')['adult'].agg(['sum', 'count']).reset_index()\n",
    "mortality_summ['sum'] = mortality_summ['sum'].astype(np.int)\n",
    "mortality_summ.head()"
   ]
  },
  {
   "cell_type": "markdown",
   "metadata": {},
   "source": [
    "Compute beta distribution for each family\n",
    "\n",
    "Prior: Uniform\n",
    "$$\n",
    "\\theta \\sim \\mathrm{Beta}(\\alpha_0, \\beta_0) \\\\\n",
    "\\alpha_0 = \\beta_0 = 1\n",
    "$$\n",
    "\n",
    "Posterior-sufficient statistics:\n",
    "$$\n",
    "\\theta | D \\sim \\mathrm{Beta}(\\alpha_0 + k, \\beta_0 + N - k) \\\\ \n",
    "a = \\alpha_0 + k \\\\\n",
    "b = \\beta_0 + N - k\n",
    "$$"
   ]
  },
  {
   "cell_type": "code",
   "execution_count": null,
   "metadata": {},
   "outputs": [],
   "source": [
    "def beta_mean(row): return scipy.stats.beta.mean(row['a'], row['b'])\n",
    "def beta_var(row): return scipy.stats.beta.var(row['a'], row['b'])\n",
    "\n",
    "mortality_summ['a'] = 3 + mortality_summ['sum']\n",
    "mortality_summ['b'] = 3 + mortality_summ['count'] - mortality_summ['sum']\n",
    "mortality_summ['beta_mean'] = mortality_summ.apply(beta_mean, axis=1)\n",
    "mortality_summ['beta_var'] = mortality_summ.apply(beta_var, axis=1)\n",
    "mortality_summ['snr'] = mortality_summ['beta_mean']/mortality_summ['beta_var']\n",
    "mortality_summ['weighted_size'] = mortality_summ['beta_mean']*mortality_summ['count']\n",
    "mortality_summ = pd.merge(mortality_summ, chain_df, on = 'family')\n",
    "mortality_summ.to_csv('outputs/family_fitness.tsv', sep='\\t', index=False)\n",
    "mortality_summ.head()"
   ]
  },
  {
   "cell_type": "markdown",
   "metadata": {},
   "source": [
    "### Compare candidate success measures"
   ]
  },
  {
   "cell_type": "markdown",
   "metadata": {},
   "source": [
    "Beta mean:"
   ]
  },
  {
   "cell_type": "code",
   "execution_count": null,
   "metadata": {},
   "outputs": [],
   "source": [
    "ax = sns.distplot(mortality_summ['beta_mean'])\n",
    "ax.set(xlabel = 'Mean viability ($\\mu$)')\n",
    "sns.despine()"
   ]
  },
  {
   "cell_type": "markdown",
   "metadata": {},
   "source": [
    "Distribution of SNR:"
   ]
  },
  {
   "cell_type": "code",
   "execution_count": null,
   "metadata": {},
   "outputs": [],
   "source": [
    "ax = sns.distplot(np.log10(mortality_summ['snr']))\n",
    "ax.set(xlabel='Signal-to-noise ratio ($\\mu/\\sigma$)',\n",
    "       xticks = np.arange(1,5), xticklabels=[10**x for x in np.arange(1,5)])\n",
    "sns.despine()"
   ]
  },
  {
   "cell_type": "markdown",
   "metadata": {},
   "source": [
    "Distribution of weighted size:"
   ]
  },
  {
   "cell_type": "code",
   "execution_count": null,
   "metadata": {},
   "outputs": [],
   "source": [
    "ax = sns.distplot(np.log10(mortality_summ['weighted_size']))\n",
    "ax.set(xlabel='Weighted family size ($\\mu N$)',\n",
    "       xticks=np.arange(0, 5), xticklabels=[10**x for x in np.arange(0, 5)])"
   ]
  },
  {
   "cell_type": "markdown",
   "metadata": {},
   "source": [
    "Distribution of # adults:"
   ]
  },
  {
   "cell_type": "code",
   "execution_count": null,
   "metadata": {},
   "outputs": [],
   "source": [
    "ax = sns.distplot(np.log10(mortality_summ['sum']))\n",
    "ax.set(xlabel='# of adults', xticks = np.arange(0,5), xticklabels=[10**x for x in np.arange(0,5)])"
   ]
  },
  {
   "cell_type": "markdown",
   "metadata": {},
   "source": [
    "### Plot representative families"
   ]
  },
  {
   "cell_type": "markdown",
   "metadata": {},
   "source": [
    "Split data into quartiles:"
   ]
  },
  {
   "cell_type": "code",
   "execution_count": null,
   "metadata": {},
   "outputs": [],
   "source": [
    "success = 'sum' # Success metric\n",
    "mortality_summ['quantile'] = pd.qcut(mortality_summ[success], 4, labels=False)"
   ]
  },
  {
   "cell_type": "markdown",
   "metadata": {},
   "source": [
    "What are the quantiles?"
   ]
  },
  {
   "cell_type": "code",
   "execution_count": null,
   "metadata": {},
   "outputs": [],
   "source": [
    "success_q = scipy.stats.mstats.mquantiles(mortality_summ[success], prob=[0.25, 0.5, 0.75, 1])\n",
    "mortality_summ['log_n'] = np.log10(mortality_summ['sum'])\n",
    "\n",
    "# Plot!\n",
    "q_log = np.log10(success_q)\n",
    "plt.figure(figsize=(12,4))\n",
    "for q in q_log:\n",
    "    plt.axvline(q, color='#aaaaaa', linestyle='--')\n",
    "\n",
    "ax = sns.distplot(mortality_summ['log_n'])\n",
    "ax.set_xticks(range(5))\n",
    "labels = [10**t for t in ax.get_xticks()]\n",
    "ax.set(xlabel='# of adults', xticklabels=labels)\n",
    "sns.despine()"
   ]
  },
  {
   "cell_type": "markdown",
   "metadata": {},
   "source": [
    "Plot representative family trees from each quartile:"
   ]
  },
  {
   "cell_type": "code",
   "execution_count": null,
   "metadata": {},
   "outputs": [],
   "source": [
    "np.random.seed(526)\n",
    "representative_families = np.array([np.random.choice(group['family'], 10) \n",
    "                                    for name,group in mortality_summ.groupby('quantile')])\n",
    "rep_list = np.array(representative_families)\n",
    "rep_list = rep_list.flatten()\n",
    "\n",
    "rep_info = mortality_summ.copy()\n",
    "rep_info = rep_info[rep_info['family'].isin(rep_list)]\n",
    "rep_info = rep_info.reset_index(drop=True)\n",
    "rep_info = rep_info.sort_values('quantile')\n",
    "rep_info.to_csv('plots/fitness_quantiles/selected_families.tsv', sep='\\t', index=None)\n",
    "rep_info.head()"
   ]
  },
  {
   "cell_type": "code",
   "execution_count": null,
   "metadata": {
    "scrolled": false
   },
   "outputs": [],
   "source": [
    "for quant in notebook.tqdm(range(4)):\n",
    "    for f in notebook.tqdm(representative_families[quant]):\n",
    "        fam_file = 'outputs/families/families_%s.json' % f\n",
    "        out_file = 'plots/fitness_quantiles/families_Q%i_%s.png' % (quant+1, f)\n",
    "\n",
    "        # Load graph and remove infant deaths\n",
    "        fam_graph = open_graph(fam_file)\n",
    "\n",
    "        # Figure size (based on graphviz layout)\n",
    "        nx.nx_agraph.write_dot(fam_graph,'fam.dot')\n",
    "        pos=graphviz_layout(fam_graph, prog='dot')\n",
    "        pos_coords = pd.DataFrame(list(pos.values()), columns=['x','y']).agg(['max', 'min'])\n",
    "        w = (pos_coords.loc['max', 'x'] - pos_coords.loc['min', 'x'])/150\n",
    "        h = (pos_coords.loc['max', 'y'] - pos_coords.loc['min', 'y'])/150\n",
    "\n",
    "        # Adjust for 2-member families\n",
    "        w = max(w, 2)\n",
    "        h = max(h, 2)\n",
    "\n",
    "        # Node color (based on whether individuals reached maturity)\n",
    "        fam_nodes = list(fam_graph.nodes)\n",
    "        fam_nodes = [int(n) for n in fam_nodes]\n",
    "\n",
    "        fam_attr = mortality_df[['avatar', 'adult']].copy()\n",
    "        fam_attr = fam_attr[fam_attr['avatar'].isin(fam_nodes)]\n",
    "        fam_attr = fam_attr.set_index('avatar')\n",
    "        fam_attr = fam_attr.to_dict()\n",
    "        \n",
    "        fam_color = []\n",
    "        for n in fam_nodes:\n",
    "            if n in infant_deaths:\n",
    "                fam_color.append('#cccccc')\n",
    "            else:\n",
    "                if fam_attr['adult'][n] == 1:\n",
    "                    fam_color.append('#4ab1ff')\n",
    "                else:\n",
    "                    fam_color.append('#4ab1ff')\n",
    "\n",
    "#         fam_color = [fam_attr['adult'][n] == 1 for n in fam_nodes]\n",
    "#         fam_color = ['#4ab1ff' if c else '#cccccc' for c in fam_color]\n",
    "\n",
    "        plt.figure(3,figsize=(w,h)) \n",
    "        nx.draw(fam_graph, pos, with_labels=False, arrows=True, node_color=fam_color)\n",
    "        plt.savefig(out_file, transparent=True)\n",
    "        plt.close()"
   ]
  },
  {
   "cell_type": "markdown",
   "metadata": {},
   "source": [
    "## Plots for talk"
   ]
  },
  {
   "cell_type": "markdown",
   "metadata": {},
   "source": [
    "<div style='background-color:red;color:white;'>TODO: The plots below should be moved elsewhere to preserve order!</div>\n",
    "Relationship between family and repertoire size:"
   ]
  },
  {
   "cell_type": "code",
   "execution_count": null,
   "metadata": {},
   "outputs": [],
   "source": [
    "rep_df = pd.read_csv('../3_technology/outputs/family_repertoire.tsv', sep='\\t')\n",
    "rep_df.head()"
   ]
  },
  {
   "cell_type": "code",
   "execution_count": null,
   "metadata": {},
   "outputs": [],
   "source": [
    "family_n = mortality_summ[['family','sum', 'log_n']]\n",
    "family_rep = rep_df[['family', 'breadth','log_breadth']]\n",
    "n_rep = pd.merge(family_n, family_rep, on='family')\n",
    "n_rep.head()"
   ]
  },
  {
   "cell_type": "markdown",
   "metadata": {},
   "source": [
    "Max items possible?"
   ]
  },
  {
   "cell_type": "code",
   "execution_count": null,
   "metadata": {},
   "outputs": [],
   "source": [
    "item_df = pd.read_csv('../4_techtree/num_unique_ingredients.csv')\n",
    "n_items = len(item_df)\n",
    "print('# items: %i' % n_items)\n",
    "item_df.head()"
   ]
  },
  {
   "cell_type": "markdown",
   "metadata": {},
   "source": [
    "Distribution of repertoire sizes"
   ]
  },
  {
   "cell_type": "code",
   "execution_count": null,
   "metadata": {},
   "outputs": [],
   "source": [
    "rep_q = scipy.stats.mstats.mquantiles(rep_df['log_breadth'], prob=[0.25, 0.5, 0.75, 1])\n",
    "print(rep_q)\n",
    "\n",
    "plt.figure(figsize=(12,4))\n",
    "# for q in rep_q:\n",
    "#     plt.axvline(q, color='#aaaaaa', linestyle='--')\n",
    "#plt.axvspan(0, q_log[0], alpha=0.5, color='red') \n",
    "\n",
    "ax = sns.distplot(rep_df['log_breadth'], bins=20)\n",
    "ax.set_xlim(left=0)\n",
    "ax.set_xticks(range(5))\n",
    "plt.axvline(np.log10(n_items), linestyle='--', color = '#f5a442')\n",
    "labels = [10**t for t in ax.get_xticks()]\n",
    "ax.set(xlabel='Repertoire size', xticklabels=labels)\n",
    "sns.despine()"
   ]
  },
  {
   "cell_type": "code",
   "execution_count": null,
   "metadata": {},
   "outputs": [],
   "source": [
    "g = sns.jointplot(data=n_rep, x='log_breadth', y='log_n', kind='reg', lowess=True,\n",
    "                  marginal_kws={'bins':20},\n",
    "                  scatter_kws={'alpha':0.01, 'color': '#A5C8E1'})\n",
    "ticks = np.arange(4)\n",
    "tick_labels = [10**t for t in ticks]\n",
    "g.ax_joint.set(xticks = ticks, yticks = ticks,\n",
    "               xticklabels = tick_labels, yticklabels = tick_labels,\n",
    "               xlabel='Viability',\n",
    "               ylabel='Repertoire size')"
   ]
  },
  {
   "cell_type": "code",
   "execution_count": null,
   "metadata": {},
   "outputs": [],
   "source": [
    "gini_df = pd.read_csv('../3_technology/outputs/family_gini.tsv', sep='\\t')\n",
    "gini_df.head()"
   ]
  },
  {
   "cell_type": "code",
   "execution_count": null,
   "metadata": {},
   "outputs": [],
   "source": [
    "gini_rep = pd.merge(gini_df, rep_df, on='family')\n",
    "gini_rep.head()"
   ]
  },
  {
   "cell_type": "code",
   "execution_count": null,
   "metadata": {},
   "outputs": [],
   "source": [
    "fig = plt.figure(figsize=(6,6))\n",
    "ax = sns.regplot(x='gini', y='log_breadth', data=gini_rep,\n",
    "                 scatter_kws={'alpha': 0.05, 'color': '#A5C8E1'}, \n",
    "                 line_kws = {'color': '#2276B4'}, lowess=True)\n",
    "yticks =  np.arange(0,5)\n",
    "ax.set_yticks(yticks)\n",
    "yticklabels = [10**y for y in yticks]\n",
    "ax.set(xlabel = 'Innovation inequality (G)',\n",
    "       xlim = (0,1),\n",
    "       ylabel = 'Repertoire size',\n",
    "       yticklabels=yticklabels)\n",
    "sns.despine()"
   ]
  },
  {
   "cell_type": "code",
   "execution_count": null,
   "metadata": {},
   "outputs": [],
   "source": [
    "plt.figure(figsize=(7,5))\n",
    "equal_dist = np.array([0,1,2,3,4])\n",
    "ax = sns.distplot(equal_dist, kde=False, hist_kws={'density': False}, bins=5)\n",
    "ax.set(xlim = (0,11), ylim = (0,5),\n",
    "       xticks = np.arange(0,11),\n",
    "       yticks = np.arange(6),\n",
    "       xlabel='# discoveries',\n",
    "       ylabel='# players')\n",
    "sns.despine()"
   ]
  }
 ],
 "metadata": {
  "kernelspec": {
   "display_name": "Python 3",
   "language": "python",
   "name": "python3"
  },
  "language_info": {
   "codemirror_mode": {
    "name": "ipython",
    "version": 3
   },
   "file_extension": ".py",
   "mimetype": "text/x-python",
   "name": "python",
   "nbconvert_exporter": "python",
   "pygments_lexer": "ipython3",
   "version": "3.9.2"
  }
 },
 "nbformat": 4,
 "nbformat_minor": 4
}
