{
 "cells": [
  {
   "cell_type": "markdown",
   "metadata": {},
   "source": [
    "# Compare success of different lineages\n",
    "Natalia Vélez, July 2020\n",
    "\n",
    "Now that we've built a graph representation of family trees, we'll use it to compare lineages and operationalize a success measure."
   ]
  },
  {
   "cell_type": "code",
   "execution_count": 1,
   "metadata": {},
   "outputs": [],
   "source": [
    "%matplotlib inline\n",
    "\n",
    "import os, re, glob, datetime, json\n",
    "from os.path import join as opj\n",
    "import pandas as pd\n",
    "import numpy as np\n",
    "import scipy.stats\n",
    "from tqdm import notebook\n",
    "\n",
    "import networkx as nx\n",
    "import matplotlib.pyplot as plt\n",
    "import seaborn as sns\n",
    "from networkx.drawing.nx_agraph import graphviz_layout\n",
    "\n",
    "sns.set_context('talk')\n",
    "sns.set_style('white')"
   ]
  },
  {
   "cell_type": "markdown",
   "metadata": {},
   "source": [
    "## Set up data"
   ]
  },
  {
   "cell_type": "markdown",
   "metadata": {},
   "source": [
    "Load lifelog data:"
   ]
  },
  {
   "cell_type": "code",
   "execution_count": 2,
   "metadata": {},
   "outputs": [
    {
     "name": "stderr",
     "output_type": "stream",
     "text": [
      "/Users/nvelez/opt/anaconda3/lib/python3.7/site-packages/numpy/lib/arraysetops.py:569: FutureWarning: elementwise comparison failed; returning scalar instead, but in the future will perform elementwise comparison\n",
      "  mask |= (ar1 == a)\n"
     ]
    },
    {
     "data": {
      "text/html": [
       "<div>\n",
       "<style scoped>\n",
       "    .dataframe tbody tr th:only-of-type {\n",
       "        vertical-align: middle;\n",
       "    }\n",
       "\n",
       "    .dataframe tbody tr th {\n",
       "        vertical-align: top;\n",
       "    }\n",
       "\n",
       "    .dataframe thead th {\n",
       "        text-align: right;\n",
       "    }\n",
       "</style>\n",
       "<table border=\"1\" class=\"dataframe\">\n",
       "  <thead>\n",
       "    <tr style=\"text-align: right;\">\n",
       "      <th></th>\n",
       "      <th>release</th>\n",
       "      <th>era</th>\n",
       "      <th>hash</th>\n",
       "      <th>playerID</th>\n",
       "      <th>tBirth</th>\n",
       "      <th>parent</th>\n",
       "      <th>birth</th>\n",
       "      <th>tDeath</th>\n",
       "      <th>death</th>\n",
       "      <th>age</th>\n",
       "      <th>cause_of_death</th>\n",
       "      <th>birthX</th>\n",
       "      <th>birthY</th>\n",
       "      <th>deathX</th>\n",
       "      <th>deathY</th>\n",
       "      <th>first</th>\n",
       "      <th>last</th>\n",
       "    </tr>\n",
       "  </thead>\n",
       "  <tbody>\n",
       "    <tr>\n",
       "      <th>0</th>\n",
       "      <td>342.0</td>\n",
       "      <td>boundless</td>\n",
       "      <td>2cdc4d0b016f9c0d96d27013f1d19c42596e0c5c</td>\n",
       "      <td>3080130</td>\n",
       "      <td>1592288229</td>\n",
       "      <td>3080111</td>\n",
       "      <td>[-454640      41]</td>\n",
       "      <td>1592288538</td>\n",
       "      <td>[-454625      49]</td>\n",
       "      <td>5.14</td>\n",
       "      <td>hunger</td>\n",
       "      <td>-454640</td>\n",
       "      <td>41</td>\n",
       "      <td>-454625</td>\n",
       "      <td>49</td>\n",
       "      <td>CLAUDINE</td>\n",
       "      <td>P</td>\n",
       "    </tr>\n",
       "    <tr>\n",
       "      <th>1</th>\n",
       "      <td>342.0</td>\n",
       "      <td>boundless</td>\n",
       "      <td>a8b5975a81344f690f45ffc2554a0bc35af557a9</td>\n",
       "      <td>3080128</td>\n",
       "      <td>1592288191</td>\n",
       "      <td>3080105</td>\n",
       "      <td>[-454394      -4]</td>\n",
       "      <td>1592291791</td>\n",
       "      <td>[-454383      15]</td>\n",
       "      <td>60.00</td>\n",
       "      <td>oldAge</td>\n",
       "      <td>-454394</td>\n",
       "      <td>-4</td>\n",
       "      <td>-454383</td>\n",
       "      <td>15</td>\n",
       "      <td>DACY</td>\n",
       "      <td>LIGHTNING</td>\n",
       "    </tr>\n",
       "    <tr>\n",
       "      <th>2</th>\n",
       "      <td>342.0</td>\n",
       "      <td>boundless</td>\n",
       "      <td>c5838da39fd525a2ac24aee049dae6a42e502236</td>\n",
       "      <td>3080125</td>\n",
       "      <td>1592288138</td>\n",
       "      <td>3080101</td>\n",
       "      <td>[-311131    -322]</td>\n",
       "      <td>1592291738</td>\n",
       "      <td>[-311112    -325]</td>\n",
       "      <td>59.98</td>\n",
       "      <td>hunger</td>\n",
       "      <td>-311131</td>\n",
       "      <td>-322</td>\n",
       "      <td>-311112</td>\n",
       "      <td>-325</td>\n",
       "      <td>SHOKO</td>\n",
       "      <td>GREATHOUSE</td>\n",
       "    </tr>\n",
       "    <tr>\n",
       "      <th>3</th>\n",
       "      <td>342.0</td>\n",
       "      <td>boundless</td>\n",
       "      <td>11f9fce50bbc1ebbba5126434aea123e79249942</td>\n",
       "      <td>3080122</td>\n",
       "      <td>1592288029</td>\n",
       "      <td>3080104</td>\n",
       "      <td>[-454638      41]</td>\n",
       "      <td>1592288696</td>\n",
       "      <td>[-454647      58]</td>\n",
       "      <td>11.12</td>\n",
       "      <td>hunger</td>\n",
       "      <td>-454638</td>\n",
       "      <td>41</td>\n",
       "      <td>-454647</td>\n",
       "      <td>58</td>\n",
       "      <td>RANGER</td>\n",
       "      <td>PICKLE</td>\n",
       "    </tr>\n",
       "    <tr>\n",
       "      <th>4</th>\n",
       "      <td>342.0</td>\n",
       "      <td>boundless</td>\n",
       "      <td>b265b1958566b474094cf0282a0fa59e6d622885</td>\n",
       "      <td>3080120</td>\n",
       "      <td>1592287917</td>\n",
       "      <td>3080101</td>\n",
       "      <td>[-311111    -311]</td>\n",
       "      <td>1592291365</td>\n",
       "      <td>[-311115     -66]</td>\n",
       "      <td>57.46</td>\n",
       "      <td>hunger</td>\n",
       "      <td>-311111</td>\n",
       "      <td>-311</td>\n",
       "      <td>-311115</td>\n",
       "      <td>-66</td>\n",
       "      <td>HAPPY</td>\n",
       "      <td>GREATHOUSE</td>\n",
       "    </tr>\n",
       "  </tbody>\n",
       "</table>\n",
       "</div>"
      ],
      "text/plain": [
       "   release        era                                      hash  playerID  \\\n",
       "0    342.0  boundless  2cdc4d0b016f9c0d96d27013f1d19c42596e0c5c   3080130   \n",
       "1    342.0  boundless  a8b5975a81344f690f45ffc2554a0bc35af557a9   3080128   \n",
       "2    342.0  boundless  c5838da39fd525a2ac24aee049dae6a42e502236   3080125   \n",
       "3    342.0  boundless  11f9fce50bbc1ebbba5126434aea123e79249942   3080122   \n",
       "4    342.0  boundless  b265b1958566b474094cf0282a0fa59e6d622885   3080120   \n",
       "\n",
       "       tBirth   parent              birth      tDeath              death  \\\n",
       "0  1592288229  3080111  [-454640      41]  1592288538  [-454625      49]   \n",
       "1  1592288191  3080105  [-454394      -4]  1592291791  [-454383      15]   \n",
       "2  1592288138  3080101  [-311131    -322]  1592291738  [-311112    -325]   \n",
       "3  1592288029  3080104  [-454638      41]  1592288696  [-454647      58]   \n",
       "4  1592287917  3080101  [-311111    -311]  1592291365  [-311115     -66]   \n",
       "\n",
       "     age cause_of_death  birthX  birthY  deathX  deathY     first        last  \n",
       "0   5.14         hunger -454640      41 -454625      49  CLAUDINE           P  \n",
       "1  60.00         oldAge -454394      -4 -454383      15      DACY   LIGHTNING  \n",
       "2  59.98         hunger -311131    -322 -311112    -325     SHOKO  GREATHOUSE  \n",
       "3  11.12         hunger -454638      41 -454647      58    RANGER      PICKLE  \n",
       "4  57.46         hunger -311111    -311 -311115     -66     HAPPY  GREATHOUSE  "
      ]
     },
     "execution_count": 2,
     "metadata": {},
     "output_type": "execute_result"
    }
   ],
   "source": [
    "era_df = pd.read_csv('outputs/all_lifelogs_compact.tsv', sep='\\t', index_col=0)\n",
    "era_df.head()"
   ]
  },
  {
   "cell_type": "markdown",
   "metadata": {},
   "source": [
    "Load families:"
   ]
  },
  {
   "cell_type": "code",
   "execution_count": 3,
   "metadata": {},
   "outputs": [
    {
     "name": "stderr",
     "output_type": "stream",
     "text": [
      "/Users/nvelez/opt/anaconda3/lib/python3.7/site-packages/numpy/lib/arraysetops.py:569: FutureWarning: elementwise comparison failed; returning scalar instead, but in the future will perform elementwise comparison\n",
      "  mask |= (ar1 == a)\n"
     ]
    },
    {
     "data": {
      "text/html": [
       "<div>\n",
       "<style scoped>\n",
       "    .dataframe tbody tr th:only-of-type {\n",
       "        vertical-align: middle;\n",
       "    }\n",
       "\n",
       "    .dataframe tbody tr th {\n",
       "        vertical-align: top;\n",
       "    }\n",
       "\n",
       "    .dataframe thead th {\n",
       "        text-align: right;\n",
       "    }\n",
       "</style>\n",
       "<table border=\"1\" class=\"dataframe\">\n",
       "  <thead>\n",
       "    <tr style=\"text-align: right;\">\n",
       "      <th></th>\n",
       "      <th>playerID</th>\n",
       "      <th>family</th>\n",
       "    </tr>\n",
       "  </thead>\n",
       "  <tbody>\n",
       "    <tr>\n",
       "      <th>0</th>\n",
       "      <td>3080084</td>\n",
       "      <td>time-1592284232_eve-3080067_name-PICKLE</td>\n",
       "    </tr>\n",
       "    <tr>\n",
       "      <th>1</th>\n",
       "      <td>3080114</td>\n",
       "      <td>time-1592284232_eve-3080067_name-PICKLE</td>\n",
       "    </tr>\n",
       "    <tr>\n",
       "      <th>2</th>\n",
       "      <td>3080111</td>\n",
       "      <td>time-1592284232_eve-3080067_name-PICKLE</td>\n",
       "    </tr>\n",
       "    <tr>\n",
       "      <th>3</th>\n",
       "      <td>3080108</td>\n",
       "      <td>time-1592284232_eve-3080067_name-PICKLE</td>\n",
       "    </tr>\n",
       "    <tr>\n",
       "      <th>4</th>\n",
       "      <td>3080104</td>\n",
       "      <td>time-1592284232_eve-3080067_name-PICKLE</td>\n",
       "    </tr>\n",
       "  </tbody>\n",
       "</table>\n",
       "</div>"
      ],
      "text/plain": [
       "   playerID                                   family\n",
       "0   3080084  time-1592284232_eve-3080067_name-PICKLE\n",
       "1   3080114  time-1592284232_eve-3080067_name-PICKLE\n",
       "2   3080111  time-1592284232_eve-3080067_name-PICKLE\n",
       "3   3080108  time-1592284232_eve-3080067_name-PICKLE\n",
       "4   3080104  time-1592284232_eve-3080067_name-PICKLE"
      ]
     },
     "execution_count": 3,
     "metadata": {},
     "output_type": "execute_result"
    }
   ],
   "source": [
    "fam_df = pd.read_csv('outputs/family_playerID.tsv', sep='\\t', index_col=0)\n",
    "fam_df.head()"
   ]
  },
  {
   "cell_type": "markdown",
   "metadata": {},
   "source": [
    "Merge:"
   ]
  },
  {
   "cell_type": "code",
   "execution_count": 4,
   "metadata": {},
   "outputs": [],
   "source": [
    "era_df = pd.merge(era_df, fam_df, on='playerID')"
   ]
  },
  {
   "cell_type": "markdown",
   "metadata": {},
   "source": [
    "Remove singleton families:"
   ]
  },
  {
   "cell_type": "code",
   "execution_count": 5,
   "metadata": {},
   "outputs": [
    {
     "name": "stdout",
     "output_type": "stream",
     "text": [
      "Removing 21322 singleton families\n"
     ]
    }
   ],
   "source": [
    "singletons = era_df.groupby('family')['playerID'].agg('count').reset_index()\n",
    "singletons = singletons.rename(columns={'playerID': 'count'})\n",
    "singletons = singletons[singletons['count'] == 1]\n",
    "single_fams = singletons.family.values\n",
    "\n",
    "print('Removing %i singleton families' % len(single_fams))\n",
    "era_df = era_df[~era_df['family'].isin(single_fams)]\n",
    "era_df = era_df.reset_index(drop=True)"
   ]
  },
  {
   "cell_type": "markdown",
   "metadata": {},
   "source": [
    "Just look at lineages from the boundless world era:"
   ]
  },
  {
   "cell_type": "code",
   "execution_count": 6,
   "metadata": {},
   "outputs": [
    {
     "name": "stdout",
     "output_type": "stream",
     "text": [
      "time-1573261529_eve-2252167_name-VIERNES\n",
      "time-1573261796_eve-2252178_name-BELAND\n",
      "time-1573261810_eve-2252180_name-BRAND\n",
      "time-1573261816_eve-2252182_name-GERMAN\n",
      "time-1573261826_eve-2252186_name-LOLI\n",
      "time-1573261831_eve-2252188_name-SANDRA\n",
      "time-1573261840_eve-2252190_name-DEVILLE\n",
      "time-1573261851_eve-2252192_name-TOMBARI\n",
      "time-1573261866_eve-2252194_name-SPARTA\n",
      "time-1573261997_eve-2252229_name-MILLER\n"
     ]
    }
   ],
   "source": [
    "boundless_df = era_df[era_df['era'] == 'boundless'].copy().reset_index(drop=True)\n",
    "boundless_families = np.unique(boundless_df['family'])\n",
    "\n",
    "print(*boundless_families[:10], sep='\\n')"
   ]
  },
  {
   "cell_type": "code",
   "execution_count": 7,
   "metadata": {},
   "outputs": [
    {
     "data": {
      "text/html": [
       "<div>\n",
       "<style scoped>\n",
       "    .dataframe tbody tr th:only-of-type {\n",
       "        vertical-align: middle;\n",
       "    }\n",
       "\n",
       "    .dataframe tbody tr th {\n",
       "        vertical-align: top;\n",
       "    }\n",
       "\n",
       "    .dataframe thead th {\n",
       "        text-align: right;\n",
       "    }\n",
       "</style>\n",
       "<table border=\"1\" class=\"dataframe\">\n",
       "  <thead>\n",
       "    <tr style=\"text-align: right;\">\n",
       "      <th></th>\n",
       "      <th>release</th>\n",
       "      <th>era</th>\n",
       "      <th>hash</th>\n",
       "      <th>playerID</th>\n",
       "      <th>tBirth</th>\n",
       "      <th>parent</th>\n",
       "      <th>birth</th>\n",
       "      <th>tDeath</th>\n",
       "      <th>death</th>\n",
       "      <th>age</th>\n",
       "      <th>cause_of_death</th>\n",
       "      <th>birthX</th>\n",
       "      <th>birthY</th>\n",
       "      <th>deathX</th>\n",
       "      <th>deathY</th>\n",
       "      <th>first</th>\n",
       "      <th>last</th>\n",
       "      <th>family</th>\n",
       "    </tr>\n",
       "  </thead>\n",
       "  <tbody>\n",
       "    <tr>\n",
       "      <th>0</th>\n",
       "      <td>342.0</td>\n",
       "      <td>boundless</td>\n",
       "      <td>2cdc4d0b016f9c0d96d27013f1d19c42596e0c5c</td>\n",
       "      <td>3080130</td>\n",
       "      <td>1592288229</td>\n",
       "      <td>3080111</td>\n",
       "      <td>[-454640      41]</td>\n",
       "      <td>1592288538</td>\n",
       "      <td>[-454625      49]</td>\n",
       "      <td>5.14</td>\n",
       "      <td>hunger</td>\n",
       "      <td>-454640</td>\n",
       "      <td>41</td>\n",
       "      <td>-454625</td>\n",
       "      <td>49</td>\n",
       "      <td>CLAUDINE</td>\n",
       "      <td>P</td>\n",
       "      <td>time-1592284232_eve-3080067_name-PICKLE</td>\n",
       "    </tr>\n",
       "    <tr>\n",
       "      <th>1</th>\n",
       "      <td>342.0</td>\n",
       "      <td>boundless</td>\n",
       "      <td>a8b5975a81344f690f45ffc2554a0bc35af557a9</td>\n",
       "      <td>3080128</td>\n",
       "      <td>1592288191</td>\n",
       "      <td>3080105</td>\n",
       "      <td>[-454394      -4]</td>\n",
       "      <td>1592291791</td>\n",
       "      <td>[-454383      15]</td>\n",
       "      <td>60.00</td>\n",
       "      <td>oldAge</td>\n",
       "      <td>-454394</td>\n",
       "      <td>-4</td>\n",
       "      <td>-454383</td>\n",
       "      <td>15</td>\n",
       "      <td>DACY</td>\n",
       "      <td>LIGHTNING</td>\n",
       "      <td>time-1592272501_eve-3079737_name-LIGHTNING</td>\n",
       "    </tr>\n",
       "    <tr>\n",
       "      <th>2</th>\n",
       "      <td>342.0</td>\n",
       "      <td>boundless</td>\n",
       "      <td>c5838da39fd525a2ac24aee049dae6a42e502236</td>\n",
       "      <td>3080125</td>\n",
       "      <td>1592288138</td>\n",
       "      <td>3080101</td>\n",
       "      <td>[-311131    -322]</td>\n",
       "      <td>1592291738</td>\n",
       "      <td>[-311112    -325]</td>\n",
       "      <td>59.98</td>\n",
       "      <td>hunger</td>\n",
       "      <td>-311131</td>\n",
       "      <td>-322</td>\n",
       "      <td>-311112</td>\n",
       "      <td>-325</td>\n",
       "      <td>SHOKO</td>\n",
       "      <td>GREATHOUSE</td>\n",
       "      <td>time-1592208567_eve-3077947_name-GREATHOUSE</td>\n",
       "    </tr>\n",
       "    <tr>\n",
       "      <th>3</th>\n",
       "      <td>342.0</td>\n",
       "      <td>boundless</td>\n",
       "      <td>11f9fce50bbc1ebbba5126434aea123e79249942</td>\n",
       "      <td>3080122</td>\n",
       "      <td>1592288029</td>\n",
       "      <td>3080104</td>\n",
       "      <td>[-454638      41]</td>\n",
       "      <td>1592288696</td>\n",
       "      <td>[-454647      58]</td>\n",
       "      <td>11.12</td>\n",
       "      <td>hunger</td>\n",
       "      <td>-454638</td>\n",
       "      <td>41</td>\n",
       "      <td>-454647</td>\n",
       "      <td>58</td>\n",
       "      <td>RANGER</td>\n",
       "      <td>PICKLE</td>\n",
       "      <td>time-1592284232_eve-3080067_name-PICKLE</td>\n",
       "    </tr>\n",
       "    <tr>\n",
       "      <th>4</th>\n",
       "      <td>342.0</td>\n",
       "      <td>boundless</td>\n",
       "      <td>b265b1958566b474094cf0282a0fa59e6d622885</td>\n",
       "      <td>3080120</td>\n",
       "      <td>1592287917</td>\n",
       "      <td>3080101</td>\n",
       "      <td>[-311111    -311]</td>\n",
       "      <td>1592291365</td>\n",
       "      <td>[-311115     -66]</td>\n",
       "      <td>57.46</td>\n",
       "      <td>hunger</td>\n",
       "      <td>-311111</td>\n",
       "      <td>-311</td>\n",
       "      <td>-311115</td>\n",
       "      <td>-66</td>\n",
       "      <td>HAPPY</td>\n",
       "      <td>GREATHOUSE</td>\n",
       "      <td>time-1592208567_eve-3077947_name-GREATHOUSE</td>\n",
       "    </tr>\n",
       "  </tbody>\n",
       "</table>\n",
       "</div>"
      ],
      "text/plain": [
       "   release        era                                      hash  playerID  \\\n",
       "0    342.0  boundless  2cdc4d0b016f9c0d96d27013f1d19c42596e0c5c   3080130   \n",
       "1    342.0  boundless  a8b5975a81344f690f45ffc2554a0bc35af557a9   3080128   \n",
       "2    342.0  boundless  c5838da39fd525a2ac24aee049dae6a42e502236   3080125   \n",
       "3    342.0  boundless  11f9fce50bbc1ebbba5126434aea123e79249942   3080122   \n",
       "4    342.0  boundless  b265b1958566b474094cf0282a0fa59e6d622885   3080120   \n",
       "\n",
       "       tBirth   parent              birth      tDeath              death  \\\n",
       "0  1592288229  3080111  [-454640      41]  1592288538  [-454625      49]   \n",
       "1  1592288191  3080105  [-454394      -4]  1592291791  [-454383      15]   \n",
       "2  1592288138  3080101  [-311131    -322]  1592291738  [-311112    -325]   \n",
       "3  1592288029  3080104  [-454638      41]  1592288696  [-454647      58]   \n",
       "4  1592287917  3080101  [-311111    -311]  1592291365  [-311115     -66]   \n",
       "\n",
       "     age cause_of_death  birthX  birthY  deathX  deathY     first        last  \\\n",
       "0   5.14         hunger -454640      41 -454625      49  CLAUDINE           P   \n",
       "1  60.00         oldAge -454394      -4 -454383      15      DACY   LIGHTNING   \n",
       "2  59.98         hunger -311131    -322 -311112    -325     SHOKO  GREATHOUSE   \n",
       "3  11.12         hunger -454638      41 -454647      58    RANGER      PICKLE   \n",
       "4  57.46         hunger -311111    -311 -311115     -66     HAPPY  GREATHOUSE   \n",
       "\n",
       "                                        family  \n",
       "0      time-1592284232_eve-3080067_name-PICKLE  \n",
       "1   time-1592272501_eve-3079737_name-LIGHTNING  \n",
       "2  time-1592208567_eve-3077947_name-GREATHOUSE  \n",
       "3      time-1592284232_eve-3080067_name-PICKLE  \n",
       "4  time-1592208567_eve-3077947_name-GREATHOUSE  "
      ]
     },
     "execution_count": 7,
     "metadata": {},
     "output_type": "execute_result"
    }
   ],
   "source": [
    "lineage_df = era_df.copy()\n",
    "lineage_df = lineage_df[lineage_df['family'].isin(boundless_families)].reset_index(drop=True)\n",
    "lineage_df.head()"
   ]
  },
  {
   "cell_type": "code",
   "execution_count": 8,
   "metadata": {},
   "outputs": [
    {
     "name": "stdout",
     "output_type": "stream",
     "text": [
      "Analyzing 3084 lineages\n",
      "First lineage starts at: 2019-11-08T17:05:29 \n",
      "Lineages end at: 2020-06-16T00:16:31 \n"
     ]
    }
   ],
   "source": [
    "t_fmt = '%Y-%m-%dT%H:%M:%S %Z'\n",
    "\n",
    "start_t = np.min(lineage_df['tBirth'])\n",
    "start_date = datetime.datetime.fromtimestamp(start_t).strftime(t_fmt)\n",
    "\n",
    "end_t = np.max(lineage_df['tDeath'])\n",
    "end_date = datetime.datetime.fromtimestamp(end_t).strftime(t_fmt)\n",
    "\n",
    "print('Analyzing %i lineages' % len(boundless_families))\n",
    "print('First lineage starts at: %s' % start_date)\n",
    "print('Lineages end at: %s' % end_date)"
   ]
  },
  {
   "cell_type": "markdown",
   "metadata": {},
   "source": [
    "## Compute summary statistics"
   ]
  },
  {
   "cell_type": "markdown",
   "metadata": {},
   "source": [
    "### Family size and life expectancy"
   ]
  },
  {
   "cell_type": "code",
   "execution_count": 9,
   "metadata": {},
   "outputs": [
    {
     "data": {
      "text/plain": [
       "[Text(0.5, 0, 'Life expectancy by family')]"
      ]
     },
     "execution_count": 9,
     "metadata": {},
     "output_type": "execute_result"
    },
    {
     "data": {
      "image/png": "[encoded data removed]",
      "text/plain": [
       "<Figure size 432x288 with 1 Axes>"
      ]
     },
     "metadata": {},
     "output_type": "display_data"
    }
   ],
   "source": [
    "life_expectancy = lineage_df.groupby('family')['age'].agg(['mean', 'count']).reset_index()\n",
    "ax = sns.distplot(life_expectancy['mean'])\n",
    "ax.set(xlabel = 'Life expectancy by family')"
   ]
  },
  {
   "cell_type": "code",
   "execution_count": 10,
   "metadata": {},
   "outputs": [
    {
     "data": {
      "text/plain": [
       "[Text(0.5, 0, 'Total family size')]"
      ]
     },
     "execution_count": 10,
     "metadata": {},
     "output_type": "execute_result"
    },
    {
     "data": {
      "image/png": "[encoded data removed]",
      "text/plain": [
       "<Figure size 432x288 with 1 Axes>"
      ]
     },
     "metadata": {},
     "output_type": "display_data"
    }
   ],
   "source": [
    "ax = sns.distplot(life_expectancy['count'])\n",
    "ax.set(xlabel = 'Total family size')"
   ]
  },
  {
   "cell_type": "code",
   "execution_count": 11,
   "metadata": {},
   "outputs": [
    {
     "data": {
      "text/plain": [
       "ModeResult(mode=array([2]), count=array([404]))"
      ]
     },
     "execution_count": 11,
     "metadata": {},
     "output_type": "execute_result"
    }
   ],
   "source": [
    "scipy.stats.mode(life_expectancy['count'])"
   ]
  },
  {
   "cell_type": "code",
   "execution_count": 12,
   "metadata": {},
   "outputs": [
    {
     "data": {
      "text/plain": [
       "<seaborn.axisgrid.JointGrid at 0x7fcd4901e7d0>"
      ]
     },
     "execution_count": 12,
     "metadata": {},
     "output_type": "execute_result"
    },
    {
     "data": {
      "image/png": "[encoded data removed]",
      "text/plain": [
       "<Figure size 432x432 with 3 Axes>"
      ]
     },
     "metadata": {},
     "output_type": "display_data"
    }
   ],
   "source": [
    "g = sns.jointplot(data=life_expectancy, x = 'mean', y = 'count', alpha = 0.1)\n",
    "g.set_axis_labels(xlabel='Life expectancy', ylabel='Family size')"
   ]
  },
  {
   "cell_type": "markdown",
   "metadata": {},
   "source": [
    "### Living population size over time"
   ]
  },
  {
   "cell_type": "code",
   "execution_count": null,
   "metadata": {},
   "outputs": [
    {
     "data": {
      "application/vnd.jupyter.widget-view+json": {
       "model_id": "2d821f3e9bbd4fbda0e9792a154d2898",
       "version_major": 2,
       "version_minor": 0
      },
      "text/plain": [
       "HBox(children=(FloatProgress(value=0.0, max=3084.0), HTML(value='')))"
      ]
     },
     "metadata": {},
     "output_type": "display_data"
    }
   ],
   "source": [
    "living_list = []\n",
    "for fam in notebook.tqdm(boundless_families):\n",
    "    fam_df = lineage_df[lineage_df['family'] == fam].copy().reset_index(drop=True)\n",
    "    t = fam_df['tBirth'].values\n",
    "    for ti in t:\n",
    "        is_alive = (fam_df['tBirth'] <= ti) & (fam_df['tDeath'] > ti)\n",
    "        pop = np.sum(is_alive)\n",
    "        living_list.append((fam, ti, pop))"
   ]
  },
  {
   "cell_type": "code",
   "execution_count": null,
   "metadata": {},
   "outputs": [],
   "source": [
    "living_df = pd.DataFrame(living_list, columns = ['family', 't', 'population'])\n",
    "living_df = living_df.sort_values(by=['family', 't'], ascending=True).reset_index(drop=True)\n",
    "living_df['t0'] = living_df.groupby('family')['t'].transform('first')\n",
    "living_df['t_elapsed'] = (living_df['t'] - living_df['t0'])/60/60\n",
    "living_df.head()"
   ]
  },
  {
   "cell_type": "markdown",
   "metadata": {},
   "source": [
    "Plot a subset (to-do: sample by quintile)"
   ]
  },
  {
   "cell_type": "code",
   "execution_count": null,
   "metadata": {
    "scrolled": true
   },
   "outputs": [],
   "source": [
    "np.random.seed(526)\n",
    "random_families = np.random.choice(boundless_families, size=10, replace=False)\n",
    "random_subset = living_df[living_df['family'].isin(random_families)]\n",
    "g = sns.relplot(data=random_subset, x='t_elapsed', y='population', hue='family', kind='line',\n",
    "                 height=6, aspect=2, alpha = 0.5)\n",
    "g.set(xlabel = 'Time elapsed (hours)', ylabel = 'Population size')\n",
    "g._legend.remove()"
   ]
  },
  {
   "cell_type": "markdown",
   "metadata": {},
   "source": [
    "Maximum population size"
   ]
  },
  {
   "cell_type": "code",
   "execution_count": null,
   "metadata": {},
   "outputs": [],
   "source": [
    "max_pop = living_df.groupby('family')['population'].agg('max').reset_index()\n",
    "ax = sns.distplot(max_pop['population'])\n",
    "ax.set(xlabel = 'Maximum living population size')"
   ]
  },
  {
   "cell_type": "code",
   "execution_count": null,
   "metadata": {},
   "outputs": [],
   "source": [
    "scipy.stats.mode(max_pop['population'])"
   ]
  },
  {
   "cell_type": "markdown",
   "metadata": {},
   "source": [
    "### Chain length"
   ]
  },
  {
   "cell_type": "markdown",
   "metadata": {},
   "source": [
    "Helper: Read JSON files"
   ]
  },
  {
   "cell_type": "code",
   "execution_count": null,
   "metadata": {},
   "outputs": [],
   "source": [
    "def open_graph(f):\n",
    "    with open(f) as handle:\n",
    "        graph_data = json.load(handle)\n",
    "    return nx.json_graph.node_link_graph(graph_data)"
   ]
  },
  {
   "cell_type": "markdown",
   "metadata": {},
   "source": [
    "Find longest chain in family graphs"
   ]
  },
  {
   "cell_type": "code",
   "execution_count": null,
   "metadata": {},
   "outputs": [],
   "source": [
    "chain_list = []\n",
    "\n",
    "for f in notebook.tqdm(boundless_families):\n",
    "    fam_file = 'outputs/families/families_%s.json' % f\n",
    "    fam_graph = open_graph(fam_file)\n",
    "    fam_chain = nx.algorithms.dag_longest_path(fam_graph)\n",
    "    chain_list.append((f, len(fam_chain)))"
   ]
  },
  {
   "cell_type": "code",
   "execution_count": null,
   "metadata": {},
   "outputs": [],
   "source": [
    "chain_df = pd.DataFrame(chain_list, columns=['family', 'chain'])\n",
    "chain_df.head()"
   ]
  },
  {
   "cell_type": "code",
   "execution_count": null,
   "metadata": {},
   "outputs": [],
   "source": [
    "scipy.stats.mode(chain_df['chain'])"
   ]
  },
  {
   "cell_type": "code",
   "execution_count": null,
   "metadata": {},
   "outputs": [],
   "source": [
    "ax = sns.distplot(chain_df['chain'])\n",
    "ax.set(xlabel = '# of generations')"
   ]
  },
  {
   "cell_type": "markdown",
   "metadata": {},
   "source": [
    "## Modeling success"
   ]
  },
  {
   "cell_type": "markdown",
   "metadata": {},
   "source": [
    "Criterion for \"success\": Reaching age 14 (viability fitness)"
   ]
  },
  {
   "cell_type": "code",
   "execution_count": null,
   "metadata": {},
   "outputs": [],
   "source": [
    "mortality_df = lineage_df.copy()\n",
    "mortality_df['adult'] = (lineage_df['age'] >= 14)*1\n",
    "mortality_df = mortality_df[['family', 'playerID', 'adult']]\n",
    "\n",
    "mortality_summ = mortality_df.groupby('family')['adult'].agg(['sum', 'count']).reset_index()\n",
    "mortality_summ['sum'] = mortality_summ['sum'].astype(np.int)\n",
    "mortality_summ.head()"
   ]
  },
  {
   "cell_type": "markdown",
   "metadata": {},
   "source": [
    "Compute beta distribution for each family\n",
    "\n",
    "Prior: Uniform\n",
    "$$\n",
    "\\theta \\sim \\mathrm{Beta}(\\alpha_0, \\beta_0) \\\\\n",
    "\\alpha_0 = \\beta_0 = 1\n",
    "$$\n",
    "\n",
    "Posterior-sufficient statistics:\n",
    "$$\n",
    "\\theta | D \\sim \\mathrm{Beta}(\\alpha_0 + k, \\beta_0 + N - k) \\\\ \n",
    "a = \\alpha_0 + k \\\\\n",
    "b = \\beta_0 + N - k\n",
    "$$"
   ]
  },
  {
   "cell_type": "code",
   "execution_count": null,
   "metadata": {},
   "outputs": [],
   "source": [
    "def beta_mean(row): return scipy.stats.beta.mean(row['a'], row['b'])\n",
    "def beta_var(row): return scipy.stats.beta.var(row['a'], row['b'])\n",
    "\n",
    "mortality_summ['a'] = 3 + mortality_summ['sum']\n",
    "mortality_summ['b'] = 3 + mortality_summ['count'] - mortality_summ['sum']\n",
    "mortality_summ['beta_mean'] = mortality_summ.apply(beta_mean, axis=1)\n",
    "mortality_summ['beta_var'] = mortality_summ.apply(beta_var, axis=1)\n",
    "mortality_summ['snr'] = mortality_summ['beta_mean']/mortality_summ['beta_var']\n",
    "mortality_summ['weighted_size'] = mortality_summ['beta_mean']*mortality_summ['count']\n",
    "mortality_summ.to_csv('outputs/family_fitness.tsv', sep='\\t', index=False)\n",
    "mortality_summ.head()"
   ]
  },
  {
   "cell_type": "markdown",
   "metadata": {},
   "source": [
    "Beta mean:"
   ]
  },
  {
   "cell_type": "code",
   "execution_count": null,
   "metadata": {},
   "outputs": [],
   "source": [
    "ax = sns.distplot(mortality_summ['beta_mean'])"
   ]
  },
  {
   "cell_type": "markdown",
   "metadata": {},
   "source": [
    "Distribution of SNR:"
   ]
  },
  {
   "cell_type": "code",
   "execution_count": null,
   "metadata": {},
   "outputs": [],
   "source": [
    "ax = sns.distplot(mortality_summ['snr'])"
   ]
  },
  {
   "cell_type": "markdown",
   "metadata": {},
   "source": [
    "Distribution of weighted size:"
   ]
  },
  {
   "cell_type": "code",
   "execution_count": null,
   "metadata": {},
   "outputs": [],
   "source": [
    "ax = sns.distplot(mortality_summ['weighted_size'])"
   ]
  },
  {
   "cell_type": "markdown",
   "metadata": {},
   "source": [
    "Split data into quartiles:"
   ]
  },
  {
   "cell_type": "code",
   "execution_count": null,
   "metadata": {},
   "outputs": [],
   "source": [
    "mortality_summ['quantile'] = pd.qcut(mortality_summ['weighted_size'], 4, labels=False)"
   ]
  },
  {
   "cell_type": "markdown",
   "metadata": {},
   "source": [
    "Plot representative family trees from each quartile:"
   ]
  },
  {
   "cell_type": "code",
   "execution_count": null,
   "metadata": {},
   "outputs": [],
   "source": [
    "np.random.seed(526)\n",
    "representative_families = np.array([np.random.choice(group['family'], 10) \n",
    "                                    for name,group in mortality_summ.groupby('quantile')])\n",
    "rep_list = np.array(representative_families)\n",
    "rep_list = rep_list.flatten()\n",
    "\n",
    "rep_info = mortality_summ.copy()\n",
    "rep_info = rep_info[rep_info['family'].isin(rep_list)]\n",
    "rep_info = rep_info.reset_index(drop=True)\n",
    "rep_info = rep_info.sort_values('quantile')\n",
    "rep_info.to_csv('plots/fitness_quantiles/selected_families.tsv', sep='\\t', index=None)\n",
    "rep_info.head()"
   ]
  },
  {
   "cell_type": "code",
   "execution_count": null,
   "metadata": {
    "scrolled": false
   },
   "outputs": [],
   "source": [
    "for quant in notebook.tqdm(range(4)):\n",
    "    for f in notebook.tqdm(representative_families[quant]):\n",
    "        fam_file = 'outputs/families/families_%s.json' % f\n",
    "        out_file = 'plots/fitness_quantiles/families_Q%i_%s.png' % (quant+1, f)\n",
    "\n",
    "        # Chain length (for plot height)\n",
    "        fam_graph = open_graph(fam_file)\n",
    "        fam_chain = len(nx.algorithms.dag_longest_path(fam_graph))\n",
    "\n",
    "        # Figure size (based on graphviz layout)\n",
    "        nx.nx_agraph.write_dot(fam_graph,'fam.dot')\n",
    "        pos=graphviz_layout(fam_graph, prog='dot')\n",
    "        pos_coords = pd.DataFrame(list(pos.values()), columns=['x','y']).agg(['max', 'min'])\n",
    "        w = (pos_coords.loc['max', 'x'] - pos_coords.loc['min', 'x'])/150\n",
    "        h = (pos_coords.loc['max', 'y'] - pos_coords.loc['min', 'y'])/150\n",
    "\n",
    "        # Adjust for 2-member families\n",
    "        w = max(w, 2)\n",
    "        h = max(h, 2)\n",
    "\n",
    "        # Node color (based on whether individuals reached maturity)\n",
    "        fam_nodes = list(fam_graph.nodes)\n",
    "        fam_nodes = [int(n) for n in fam_nodes]\n",
    "\n",
    "        fam_attr = mortality_df[['playerID', 'adult']].copy()\n",
    "        fam_attr = fam_attr[fam_attr['playerID'].isin(fam_nodes)]\n",
    "        fam_attr = fam_attr.set_index('playerID')\n",
    "        fam_attr = fam_attr.to_dict()\n",
    "\n",
    "        fam_color = [fam_attr['adult'][n] == 1 for n in fam_nodes]\n",
    "        fam_color = ['#4ab1ff' if c else '#cccccc' for c in fam_color]\n",
    "\n",
    "        plt.figure(3,figsize=(w,h)) \n",
    "        nx.draw(fam_graph, pos, with_labels=False, arrows=True, node_color=fam_color)\n",
    "        plt.savefig(out_file)\n",
    "        plt.close()"
   ]
  },
  {
   "cell_type": "markdown",
   "metadata": {},
   "source": [
    "## Simulated families"
   ]
  },
  {
   "cell_type": "markdown",
   "metadata": {},
   "source": [
    "Let's get a sense for what our \"fitness\" measure picks up! Ideally, we would want a measure that:\n",
    "\n",
    "* Prioritizes families that are more successful in raising children to maturity (higher $\\mu$)\n",
    "* Penalizes families that have lived for fewer generations (higher $\\sigma$)\n",
    "\n",
    "In the analyses above, we've used signal-to-noise ratio ($\\mu/\\sigma$) to get at this. Below are some toy examples to check this intuition."
   ]
  },
  {
   "cell_type": "code",
   "execution_count": null,
   "metadata": {},
   "outputs": [],
   "source": []
  }
 ],
 "metadata": {
  "kernelspec": {
   "display_name": "Python 3",
   "language": "python",
   "name": "python3"
  },
  "language_info": {
   "codemirror_mode": {
    "name": "ipython",
    "version": 3
   },
   "file_extension": ".py",
   "mimetype": "text/x-python",
   "name": "python",
   "nbconvert_exporter": "python",
   "pygments_lexer": "ipython3",
   "version": "3.7.6"
  }
 },
 "nbformat": 4,
 "nbformat_minor": 4
}
