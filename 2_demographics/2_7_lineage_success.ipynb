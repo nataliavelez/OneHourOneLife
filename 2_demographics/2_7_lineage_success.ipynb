{
 "cells": [
  {
   "cell_type": "markdown",
   "metadata": {},
   "source": [
    "# Compare success of different lineages\n",
    "Natalia Vélez, July 2020\n",
    "\n",
    "Now that we've built a graph representation of family trees, we'll use it to compare lineages and operationalize a success measure."
   ]
  },
  {
   "cell_type": "code",
   "execution_count": 1,
   "metadata": {},
   "outputs": [],
   "source": [
    "%matplotlib inline\n",
    "\n",
    "import os, re, glob, datetime, json\n",
    "from os.path import join as opj\n",
    "import pandas as pd\n",
    "import numpy as np\n",
    "import scipy.stats\n",
    "from tqdm import notebook\n",
    "\n",
    "import networkx as nx\n",
    "import matplotlib.pyplot as plt\n",
    "import seaborn as sns\n",
    "from networkx.drawing.nx_agraph import graphviz_layout\n",
    "\n",
    "sns.set_context('talk')\n",
    "sns.set_style('white')"
   ]
  },
  {
   "cell_type": "markdown",
   "metadata": {},
   "source": [
    "## Set up data"
   ]
  },
  {
   "cell_type": "markdown",
   "metadata": {},
   "source": [
    "Load lifelog data:"
   ]
  },
  {
   "cell_type": "code",
   "execution_count": 2,
   "metadata": {},
   "outputs": [
    {
     "name": "stderr",
     "output_type": "stream",
     "text": [
      "/Users/nvelez/opt/anaconda3/lib/python3.7/site-packages/numpy/lib/arraysetops.py:569: FutureWarning: elementwise comparison failed; returning scalar instead, but in the future will perform elementwise comparison\n",
      "  mask |= (ar1 == a)\n"
     ]
    },
    {
     "data": {
      "text/html": [
       "<div>\n",
       "<style scoped>\n",
       "    .dataframe tbody tr th:only-of-type {\n",
       "        vertical-align: middle;\n",
       "    }\n",
       "\n",
       "    .dataframe tbody tr th {\n",
       "        vertical-align: top;\n",
       "    }\n",
       "\n",
       "    .dataframe thead th {\n",
       "        text-align: right;\n",
       "    }\n",
       "</style>\n",
       "<table border=\"1\" class=\"dataframe\">\n",
       "  <thead>\n",
       "    <tr style=\"text-align: right;\">\n",
       "      <th></th>\n",
       "      <th>release</th>\n",
       "      <th>era</th>\n",
       "      <th>hash</th>\n",
       "      <th>playerID</th>\n",
       "      <th>tBirth</th>\n",
       "      <th>parent</th>\n",
       "      <th>birth</th>\n",
       "      <th>tDeath</th>\n",
       "      <th>death</th>\n",
       "      <th>age</th>\n",
       "      <th>cause_of_death</th>\n",
       "      <th>birthX</th>\n",
       "      <th>birthY</th>\n",
       "      <th>deathX</th>\n",
       "      <th>deathY</th>\n",
       "      <th>first</th>\n",
       "      <th>last</th>\n",
       "    </tr>\n",
       "  </thead>\n",
       "  <tbody>\n",
       "    <tr>\n",
       "      <th>0</th>\n",
       "      <td>342.0</td>\n",
       "      <td>boundless</td>\n",
       "      <td>2cdc4d0b016f9c0d96d27013f1d19c42596e0c5c</td>\n",
       "      <td>3080130</td>\n",
       "      <td>1592288229</td>\n",
       "      <td>3080111</td>\n",
       "      <td>[-454640      41]</td>\n",
       "      <td>1592288538</td>\n",
       "      <td>[-454625      49]</td>\n",
       "      <td>5.14</td>\n",
       "      <td>hunger</td>\n",
       "      <td>-454640</td>\n",
       "      <td>41</td>\n",
       "      <td>-454625</td>\n",
       "      <td>49</td>\n",
       "      <td>CLAUDINE</td>\n",
       "      <td>P</td>\n",
       "    </tr>\n",
       "    <tr>\n",
       "      <th>1</th>\n",
       "      <td>342.0</td>\n",
       "      <td>boundless</td>\n",
       "      <td>a8b5975a81344f690f45ffc2554a0bc35af557a9</td>\n",
       "      <td>3080128</td>\n",
       "      <td>1592288191</td>\n",
       "      <td>3080105</td>\n",
       "      <td>[-454394      -4]</td>\n",
       "      <td>1592291791</td>\n",
       "      <td>[-454383      15]</td>\n",
       "      <td>60.00</td>\n",
       "      <td>oldAge</td>\n",
       "      <td>-454394</td>\n",
       "      <td>-4</td>\n",
       "      <td>-454383</td>\n",
       "      <td>15</td>\n",
       "      <td>DACY</td>\n",
       "      <td>LIGHTNING</td>\n",
       "    </tr>\n",
       "    <tr>\n",
       "      <th>2</th>\n",
       "      <td>342.0</td>\n",
       "      <td>boundless</td>\n",
       "      <td>c5838da39fd525a2ac24aee049dae6a42e502236</td>\n",
       "      <td>3080125</td>\n",
       "      <td>1592288138</td>\n",
       "      <td>3080101</td>\n",
       "      <td>[-311131    -322]</td>\n",
       "      <td>1592291738</td>\n",
       "      <td>[-311112    -325]</td>\n",
       "      <td>59.98</td>\n",
       "      <td>hunger</td>\n",
       "      <td>-311131</td>\n",
       "      <td>-322</td>\n",
       "      <td>-311112</td>\n",
       "      <td>-325</td>\n",
       "      <td>SHOKO</td>\n",
       "      <td>GREATHOUSE</td>\n",
       "    </tr>\n",
       "    <tr>\n",
       "      <th>3</th>\n",
       "      <td>342.0</td>\n",
       "      <td>boundless</td>\n",
       "      <td>11f9fce50bbc1ebbba5126434aea123e79249942</td>\n",
       "      <td>3080122</td>\n",
       "      <td>1592288029</td>\n",
       "      <td>3080104</td>\n",
       "      <td>[-454638      41]</td>\n",
       "      <td>1592288696</td>\n",
       "      <td>[-454647      58]</td>\n",
       "      <td>11.12</td>\n",
       "      <td>hunger</td>\n",
       "      <td>-454638</td>\n",
       "      <td>41</td>\n",
       "      <td>-454647</td>\n",
       "      <td>58</td>\n",
       "      <td>RANGER</td>\n",
       "      <td>PICKLE</td>\n",
       "    </tr>\n",
       "    <tr>\n",
       "      <th>4</th>\n",
       "      <td>342.0</td>\n",
       "      <td>boundless</td>\n",
       "      <td>b265b1958566b474094cf0282a0fa59e6d622885</td>\n",
       "      <td>3080120</td>\n",
       "      <td>1592287917</td>\n",
       "      <td>3080101</td>\n",
       "      <td>[-311111    -311]</td>\n",
       "      <td>1592291365</td>\n",
       "      <td>[-311115     -66]</td>\n",
       "      <td>57.46</td>\n",
       "      <td>hunger</td>\n",
       "      <td>-311111</td>\n",
       "      <td>-311</td>\n",
       "      <td>-311115</td>\n",
       "      <td>-66</td>\n",
       "      <td>HAPPY</td>\n",
       "      <td>GREATHOUSE</td>\n",
       "    </tr>\n",
       "  </tbody>\n",
       "</table>\n",
       "</div>"
      ],
      "text/plain": [
       "   release        era                                      hash  playerID  \\\n",
       "0    342.0  boundless  2cdc4d0b016f9c0d96d27013f1d19c42596e0c5c   3080130   \n",
       "1    342.0  boundless  a8b5975a81344f690f45ffc2554a0bc35af557a9   3080128   \n",
       "2    342.0  boundless  c5838da39fd525a2ac24aee049dae6a42e502236   3080125   \n",
       "3    342.0  boundless  11f9fce50bbc1ebbba5126434aea123e79249942   3080122   \n",
       "4    342.0  boundless  b265b1958566b474094cf0282a0fa59e6d622885   3080120   \n",
       "\n",
       "       tBirth   parent              birth      tDeath              death  \\\n",
       "0  1592288229  3080111  [-454640      41]  1592288538  [-454625      49]   \n",
       "1  1592288191  3080105  [-454394      -4]  1592291791  [-454383      15]   \n",
       "2  1592288138  3080101  [-311131    -322]  1592291738  [-311112    -325]   \n",
       "3  1592288029  3080104  [-454638      41]  1592288696  [-454647      58]   \n",
       "4  1592287917  3080101  [-311111    -311]  1592291365  [-311115     -66]   \n",
       "\n",
       "     age cause_of_death  birthX  birthY  deathX  deathY     first        last  \n",
       "0   5.14         hunger -454640      41 -454625      49  CLAUDINE           P  \n",
       "1  60.00         oldAge -454394      -4 -454383      15      DACY   LIGHTNING  \n",
       "2  59.98         hunger -311131    -322 -311112    -325     SHOKO  GREATHOUSE  \n",
       "3  11.12         hunger -454638      41 -454647      58    RANGER      PICKLE  \n",
       "4  57.46         hunger -311111    -311 -311115     -66     HAPPY  GREATHOUSE  "
      ]
     },
     "execution_count": 2,
     "metadata": {},
     "output_type": "execute_result"
    }
   ],
   "source": [
    "era_df = pd.read_csv('outputs/all_lifelogs_compact.tsv', sep='\\t', index_col=0)\n",
    "era_df.head()"
   ]
  },
  {
   "cell_type": "markdown",
   "metadata": {},
   "source": [
    "Load families:"
   ]
  },
  {
   "cell_type": "code",
   "execution_count": 3,
   "metadata": {},
   "outputs": [
    {
     "name": "stderr",
     "output_type": "stream",
     "text": [
      "/Users/nvelez/opt/anaconda3/lib/python3.7/site-packages/numpy/lib/arraysetops.py:569: FutureWarning: elementwise comparison failed; returning scalar instead, but in the future will perform elementwise comparison\n",
      "  mask |= (ar1 == a)\n"
     ]
    },
    {
     "data": {
      "text/html": [
       "<div>\n",
       "<style scoped>\n",
       "    .dataframe tbody tr th:only-of-type {\n",
       "        vertical-align: middle;\n",
       "    }\n",
       "\n",
       "    .dataframe tbody tr th {\n",
       "        vertical-align: top;\n",
       "    }\n",
       "\n",
       "    .dataframe thead th {\n",
       "        text-align: right;\n",
       "    }\n",
       "</style>\n",
       "<table border=\"1\" class=\"dataframe\">\n",
       "  <thead>\n",
       "    <tr style=\"text-align: right;\">\n",
       "      <th></th>\n",
       "      <th>playerID</th>\n",
       "      <th>family</th>\n",
       "    </tr>\n",
       "  </thead>\n",
       "  <tbody>\n",
       "    <tr>\n",
       "      <th>0</th>\n",
       "      <td>6160151</td>\n",
       "      <td>time-1592284232_eve-3080067_name-PICKLE</td>\n",
       "    </tr>\n",
       "    <tr>\n",
       "      <th>1</th>\n",
       "      <td>6160181</td>\n",
       "      <td>time-1592284232_eve-3080067_name-PICKLE</td>\n",
       "    </tr>\n",
       "    <tr>\n",
       "      <th>2</th>\n",
       "      <td>6160178</td>\n",
       "      <td>time-1592284232_eve-3080067_name-PICKLE</td>\n",
       "    </tr>\n",
       "    <tr>\n",
       "      <th>3</th>\n",
       "      <td>6160175</td>\n",
       "      <td>time-1592284232_eve-3080067_name-PICKLE</td>\n",
       "    </tr>\n",
       "    <tr>\n",
       "      <th>4</th>\n",
       "      <td>6160171</td>\n",
       "      <td>time-1592284232_eve-3080067_name-PICKLE</td>\n",
       "    </tr>\n",
       "  </tbody>\n",
       "</table>\n",
       "</div>"
      ],
      "text/plain": [
       "   playerID                                   family\n",
       "0   6160151  time-1592284232_eve-3080067_name-PICKLE\n",
       "1   6160181  time-1592284232_eve-3080067_name-PICKLE\n",
       "2   6160178  time-1592284232_eve-3080067_name-PICKLE\n",
       "3   6160175  time-1592284232_eve-3080067_name-PICKLE\n",
       "4   6160171  time-1592284232_eve-3080067_name-PICKLE"
      ]
     },
     "execution_count": 3,
     "metadata": {},
     "output_type": "execute_result"
    }
   ],
   "source": [
    "fam_df = pd.read_csv('outputs/family_playerID.tsv', sep='\\t', index_col=0)\n",
    "fam_df.head()"
   ]
  },
  {
   "cell_type": "markdown",
   "metadata": {},
   "source": [
    "Merge:"
   ]
  },
  {
   "cell_type": "code",
   "execution_count": 4,
   "metadata": {},
   "outputs": [],
   "source": [
    "era_df = pd.merge(era_df, fam_df, on='playerID')"
   ]
  },
  {
   "cell_type": "markdown",
   "metadata": {},
   "source": [
    "Just look at lineages from the boundless world era:"
   ]
  },
  {
   "cell_type": "code",
   "execution_count": 5,
   "metadata": {},
   "outputs": [
    {
     "name": "stdout",
     "output_type": "stream",
     "text": [
      "time-1556920980_eve-1124142_name-ONEAL\n",
      "time-1556921001_eve-1124146_name-SARAN\n",
      "time-1556924751_eve-1124651_name-WATERS\n",
      "time-1556925978_eve-1124801_name-HAAK\n",
      "time-1556931561_eve-1125556_name-HAAK\n",
      "time-1556935005_eve-1125960_name-TRIPLET\n",
      "time-1556935718_eve-1126030_name-RAVEN\n",
      "time-1556935718_eve-1126031_name-SPARROW\n",
      "time-1556935718_eve-1126032_name-CROW\n",
      "time-1556935922_eve-1126066_name-JO\n"
     ]
    }
   ],
   "source": [
    "boundless_df = era_df[era_df['era'] == 'boundless'].copy().reset_index(drop=True)\n",
    "boundless_families = np.unique(boundless_df['family'])\n",
    "\n",
    "print(*boundless_families[:10], sep='\\n')"
   ]
  },
  {
   "cell_type": "code",
   "execution_count": 6,
   "metadata": {},
   "outputs": [
    {
     "data": {
      "text/html": [
       "<div>\n",
       "<style scoped>\n",
       "    .dataframe tbody tr th:only-of-type {\n",
       "        vertical-align: middle;\n",
       "    }\n",
       "\n",
       "    .dataframe tbody tr th {\n",
       "        vertical-align: top;\n",
       "    }\n",
       "\n",
       "    .dataframe thead th {\n",
       "        text-align: right;\n",
       "    }\n",
       "</style>\n",
       "<table border=\"1\" class=\"dataframe\">\n",
       "  <thead>\n",
       "    <tr style=\"text-align: right;\">\n",
       "      <th></th>\n",
       "      <th>release</th>\n",
       "      <th>era</th>\n",
       "      <th>hash</th>\n",
       "      <th>playerID</th>\n",
       "      <th>tBirth</th>\n",
       "      <th>parent</th>\n",
       "      <th>birth</th>\n",
       "      <th>tDeath</th>\n",
       "      <th>death</th>\n",
       "      <th>age</th>\n",
       "      <th>cause_of_death</th>\n",
       "      <th>birthX</th>\n",
       "      <th>birthY</th>\n",
       "      <th>deathX</th>\n",
       "      <th>deathY</th>\n",
       "      <th>first</th>\n",
       "      <th>last</th>\n",
       "      <th>family</th>\n",
       "    </tr>\n",
       "  </thead>\n",
       "  <tbody>\n",
       "    <tr>\n",
       "      <th>0</th>\n",
       "      <td>342.0</td>\n",
       "      <td>boundless</td>\n",
       "      <td>2cdc4d0b016f9c0d96d27013f1d19c42596e0c5c</td>\n",
       "      <td>3080130</td>\n",
       "      <td>1592288229</td>\n",
       "      <td>3080111</td>\n",
       "      <td>[-454640      41]</td>\n",
       "      <td>1592288538</td>\n",
       "      <td>[-454625      49]</td>\n",
       "      <td>5.14</td>\n",
       "      <td>hunger</td>\n",
       "      <td>-454640</td>\n",
       "      <td>41</td>\n",
       "      <td>-454625</td>\n",
       "      <td>49</td>\n",
       "      <td>CLAUDINE</td>\n",
       "      <td>P</td>\n",
       "      <td>time-1559994101_eve-1539537_name-GOUL</td>\n",
       "    </tr>\n",
       "    <tr>\n",
       "      <th>1</th>\n",
       "      <td>342.0</td>\n",
       "      <td>boundless</td>\n",
       "      <td>2681fd11744e90e24d37b56c4cc016fd86c9438a</td>\n",
       "      <td>3080090</td>\n",
       "      <td>1592284897</td>\n",
       "      <td>3080061</td>\n",
       "      <td>[-454390       7]</td>\n",
       "      <td>1592288493</td>\n",
       "      <td>[-454373       7]</td>\n",
       "      <td>59.94</td>\n",
       "      <td>hunger</td>\n",
       "      <td>-454390</td>\n",
       "      <td>7</td>\n",
       "      <td>-454373</td>\n",
       "      <td>7</td>\n",
       "      <td>TOIA</td>\n",
       "      <td>LIGHTNING</td>\n",
       "      <td>time-1559975927_eve-1537506_name-DROVER</td>\n",
       "    </tr>\n",
       "    <tr>\n",
       "      <th>2</th>\n",
       "      <td>342.0</td>\n",
       "      <td>boundless</td>\n",
       "      <td>49d985b1c4e5716ec2cbcdb857b00df01bd2ac79</td>\n",
       "      <td>3080036</td>\n",
       "      <td>1592282641</td>\n",
       "      <td>3079986</td>\n",
       "      <td>[-312633    -232]</td>\n",
       "      <td>1592286198</td>\n",
       "      <td>[-312645    -238]</td>\n",
       "      <td>59.30</td>\n",
       "      <td>hunger</td>\n",
       "      <td>-312633</td>\n",
       "      <td>-232</td>\n",
       "      <td>-312645</td>\n",
       "      <td>-238</td>\n",
       "      <td>BABY</td>\n",
       "      <td>TEA</td>\n",
       "      <td>time-1559975927_eve-1537506_name-DROVER</td>\n",
       "    </tr>\n",
       "    <tr>\n",
       "      <th>3</th>\n",
       "      <td>342.0</td>\n",
       "      <td>boundless</td>\n",
       "      <td>dce3a4fb6c10feb52c169e48e85bb4e7dfea1514</td>\n",
       "      <td>3079966</td>\n",
       "      <td>1592279149</td>\n",
       "      <td>3079910</td>\n",
       "      <td>[-312642    -239]</td>\n",
       "      <td>1592282749</td>\n",
       "      <td>[-312633    -231]</td>\n",
       "      <td>60.00</td>\n",
       "      <td>oldAge</td>\n",
       "      <td>-312642</td>\n",
       "      <td>-239</td>\n",
       "      <td>-312633</td>\n",
       "      <td>-231</td>\n",
       "      <td>SADA</td>\n",
       "      <td>TEA</td>\n",
       "      <td>time-1559975927_eve-1537506_name-DROVER</td>\n",
       "    </tr>\n",
       "    <tr>\n",
       "      <th>4</th>\n",
       "      <td>342.0</td>\n",
       "      <td>boundless</td>\n",
       "      <td>b4d68bc327c96fbee1fcf907b7d1738f100d4fe9</td>\n",
       "      <td>3079939</td>\n",
       "      <td>1592278284</td>\n",
       "      <td>3079924</td>\n",
       "      <td>[-311121    -322]</td>\n",
       "      <td>1592280224</td>\n",
       "      <td>[-311203    -320]</td>\n",
       "      <td>32.32</td>\n",
       "      <td>hunger</td>\n",
       "      <td>-311121</td>\n",
       "      <td>-322</td>\n",
       "      <td>-311203</td>\n",
       "      <td>-320</td>\n",
       "      <td>TAN</td>\n",
       "      <td>GREATHOUSE</td>\n",
       "      <td>time-1559994101_eve-1539537_name-GOUL</td>\n",
       "    </tr>\n",
       "  </tbody>\n",
       "</table>\n",
       "</div>"
      ],
      "text/plain": [
       "   release        era                                      hash  playerID  \\\n",
       "0    342.0  boundless  2cdc4d0b016f9c0d96d27013f1d19c42596e0c5c   3080130   \n",
       "1    342.0  boundless  2681fd11744e90e24d37b56c4cc016fd86c9438a   3080090   \n",
       "2    342.0  boundless  49d985b1c4e5716ec2cbcdb857b00df01bd2ac79   3080036   \n",
       "3    342.0  boundless  dce3a4fb6c10feb52c169e48e85bb4e7dfea1514   3079966   \n",
       "4    342.0  boundless  b4d68bc327c96fbee1fcf907b7d1738f100d4fe9   3079939   \n",
       "\n",
       "       tBirth   parent              birth      tDeath              death  \\\n",
       "0  1592288229  3080111  [-454640      41]  1592288538  [-454625      49]   \n",
       "1  1592284897  3080061  [-454390       7]  1592288493  [-454373       7]   \n",
       "2  1592282641  3079986  [-312633    -232]  1592286198  [-312645    -238]   \n",
       "3  1592279149  3079910  [-312642    -239]  1592282749  [-312633    -231]   \n",
       "4  1592278284  3079924  [-311121    -322]  1592280224  [-311203    -320]   \n",
       "\n",
       "     age cause_of_death  birthX  birthY  deathX  deathY     first        last  \\\n",
       "0   5.14         hunger -454640      41 -454625      49  CLAUDINE           P   \n",
       "1  59.94         hunger -454390       7 -454373       7      TOIA   LIGHTNING   \n",
       "2  59.30         hunger -312633    -232 -312645    -238      BABY         TEA   \n",
       "3  60.00         oldAge -312642    -239 -312633    -231      SADA         TEA   \n",
       "4  32.32         hunger -311121    -322 -311203    -320       TAN  GREATHOUSE   \n",
       "\n",
       "                                    family  \n",
       "0    time-1559994101_eve-1539537_name-GOUL  \n",
       "1  time-1559975927_eve-1537506_name-DROVER  \n",
       "2  time-1559975927_eve-1537506_name-DROVER  \n",
       "3  time-1559975927_eve-1537506_name-DROVER  \n",
       "4    time-1559994101_eve-1539537_name-GOUL  "
      ]
     },
     "execution_count": 6,
     "metadata": {},
     "output_type": "execute_result"
    }
   ],
   "source": [
    "lineage_df = era_df.copy()\n",
    "lineage_df = lineage_df[lineage_df['family'].isin(boundless_families)].reset_index(drop=True)\n",
    "lineage_df.head()"
   ]
  },
  {
   "cell_type": "code",
   "execution_count": 7,
   "metadata": {},
   "outputs": [
    {
     "name": "stdout",
     "output_type": "stream",
     "text": [
      "Analyzing 4737 lineages\n",
      "First lineage starts at: 2019-11-07T16:42:38 \n",
      "Lineages end at: 2020-06-15T23:22:18 \n"
     ]
    }
   ],
   "source": [
    "t_fmt = '%Y-%m-%dT%H:%M:%S %Z'\n",
    "\n",
    "start_t = np.min(lineage_df['tBirth'])\n",
    "start_date = datetime.datetime.fromtimestamp(start_t).strftime(t_fmt)\n",
    "\n",
    "end_t = np.max(lineage_df['tDeath'])\n",
    "end_date = datetime.datetime.fromtimestamp(end_t).strftime(t_fmt)\n",
    "\n",
    "print('Analyzing %i lineages' % len(boundless_families))\n",
    "print('First lineage starts at: %s' % start_date)\n",
    "print('Lineages end at: %s' % end_date)"
   ]
  },
  {
   "cell_type": "markdown",
   "metadata": {},
   "source": [
    "## Compute summary statistics"
   ]
  },
  {
   "cell_type": "markdown",
   "metadata": {},
   "source": [
    "### Family size and life expectancy"
   ]
  },
  {
   "cell_type": "code",
   "execution_count": 8,
   "metadata": {},
   "outputs": [
    {
     "data": {
      "text/plain": [
       "[Text(0.5, 0, 'Life expectancy by family')]"
      ]
     },
     "execution_count": 8,
     "metadata": {},
     "output_type": "execute_result"
    },
    {
     "data": {
      "image/png": "[encoded data removed]",
      "text/plain": [
       "<Figure size 432x288 with 1 Axes>"
      ]
     },
     "metadata": {},
     "output_type": "display_data"
    }
   ],
   "source": [
    "life_expectancy = lineage_df.groupby('family')['age'].agg(['mean', 'count']).reset_index()\n",
    "ax = sns.distplot(life_expectancy['mean'])\n",
    "ax.set(xlabel = 'Life expectancy by family')"
   ]
  },
  {
   "cell_type": "code",
   "execution_count": 9,
   "metadata": {},
   "outputs": [
    {
     "data": {
      "text/plain": [
       "[Text(0.5, 0, 'Total family size')]"
      ]
     },
     "execution_count": 9,
     "metadata": {},
     "output_type": "execute_result"
    },
    {
     "data": {
      "image/png": "[encoded data removed]",
      "text/plain": [
       "<Figure size 432x288 with 1 Axes>"
      ]
     },
     "metadata": {},
     "output_type": "display_data"
    }
   ],
   "source": [
    "ax = sns.distplot(life_expectancy['count'])\n",
    "ax.set(xlabel = 'Total family size')"
   ]
  },
  {
   "cell_type": "code",
   "execution_count": 10,
   "metadata": {},
   "outputs": [
    {
     "data": {
      "text/plain": [
       "ModeResult(mode=array([1]), count=array([1550]))"
      ]
     },
     "execution_count": 10,
     "metadata": {},
     "output_type": "execute_result"
    }
   ],
   "source": [
    "scipy.stats.mode(life_expectancy['count'])"
   ]
  },
  {
   "cell_type": "code",
   "execution_count": 11,
   "metadata": {},
   "outputs": [
    {
     "data": {
      "text/plain": [
       "<seaborn.axisgrid.JointGrid at 0x7faa49204d90>"
      ]
     },
     "execution_count": 11,
     "metadata": {},
     "output_type": "execute_result"
    },
    {
     "data": {
      "image/png": "[encoded data removed]",
      "text/plain": [
       "<Figure size 432x432 with 3 Axes>"
      ]
     },
     "metadata": {},
     "output_type": "display_data"
    }
   ],
   "source": [
    "g = sns.jointplot(data=life_expectancy, x = 'mean', y = 'count', alpha = 0.1)\n",
    "g.set_axis_labels(xlabel='Life expectancy', ylabel='Family size')"
   ]
  },
  {
   "cell_type": "markdown",
   "metadata": {},
   "source": [
    "### Living population size over time"
   ]
  },
  {
   "cell_type": "code",
   "execution_count": 12,
   "metadata": {},
   "outputs": [
    {
     "data": {
      "application/vnd.jupyter.widget-view+json": {
       "model_id": "08a67aa2a1fd4e1d8e8433f7cf31d5e6",
       "version_major": 2,
       "version_minor": 0
      },
      "text/plain": [
       "HBox(children=(FloatProgress(value=0.0, max=4737.0), HTML(value='')))"
      ]
     },
     "metadata": {},
     "output_type": "display_data"
    },
    {
     "name": "stdout",
     "output_type": "stream",
     "text": [
      "\n"
     ]
    }
   ],
   "source": [
    "living_list = []\n",
    "for fam in notebook.tqdm(boundless_families):\n",
    "    fam_df = lineage_df[lineage_df['family'] == fam].copy().reset_index(drop=True)\n",
    "    t = fam_df['tBirth'].values\n",
    "    for ti in t:\n",
    "        is_alive = (fam_df['tBirth'] <= ti) & (fam_df['tDeath'] > ti)\n",
    "        pop = np.sum(is_alive)\n",
    "        living_list.append((fam, ti, pop))"
   ]
  },
  {
   "cell_type": "code",
   "execution_count": 13,
   "metadata": {},
   "outputs": [
    {
     "data": {
      "text/html": [
       "<div>\n",
       "<style scoped>\n",
       "    .dataframe tbody tr th:only-of-type {\n",
       "        vertical-align: middle;\n",
       "    }\n",
       "\n",
       "    .dataframe tbody tr th {\n",
       "        vertical-align: top;\n",
       "    }\n",
       "\n",
       "    .dataframe thead th {\n",
       "        text-align: right;\n",
       "    }\n",
       "</style>\n",
       "<table border=\"1\" class=\"dataframe\">\n",
       "  <thead>\n",
       "    <tr style=\"text-align: right;\">\n",
       "      <th></th>\n",
       "      <th>family</th>\n",
       "      <th>t</th>\n",
       "      <th>population</th>\n",
       "      <th>t0</th>\n",
       "      <th>t_elapsed</th>\n",
       "    </tr>\n",
       "  </thead>\n",
       "  <tbody>\n",
       "    <tr>\n",
       "      <th>0</th>\n",
       "      <td>time-1556920980_eve-1124142_name-ONEAL</td>\n",
       "      <td>1573173894</td>\n",
       "      <td>1</td>\n",
       "      <td>1573173894</td>\n",
       "      <td>0.000000</td>\n",
       "    </tr>\n",
       "    <tr>\n",
       "      <th>1</th>\n",
       "      <td>time-1556920980_eve-1124142_name-ONEAL</td>\n",
       "      <td>1573175281</td>\n",
       "      <td>1</td>\n",
       "      <td>1573173894</td>\n",
       "      <td>0.385278</td>\n",
       "    </tr>\n",
       "    <tr>\n",
       "      <th>2</th>\n",
       "      <td>time-1556920980_eve-1124142_name-ONEAL</td>\n",
       "      <td>1573176140</td>\n",
       "      <td>1</td>\n",
       "      <td>1573173894</td>\n",
       "      <td>0.623889</td>\n",
       "    </tr>\n",
       "    <tr>\n",
       "      <th>3</th>\n",
       "      <td>time-1556920980_eve-1124142_name-ONEAL</td>\n",
       "      <td>1573178439</td>\n",
       "      <td>1</td>\n",
       "      <td>1573173894</td>\n",
       "      <td>1.262500</td>\n",
       "    </tr>\n",
       "    <tr>\n",
       "      <th>4</th>\n",
       "      <td>time-1556920980_eve-1124142_name-ONEAL</td>\n",
       "      <td>1573180901</td>\n",
       "      <td>1</td>\n",
       "      <td>1573173894</td>\n",
       "      <td>1.946389</td>\n",
       "    </tr>\n",
       "  </tbody>\n",
       "</table>\n",
       "</div>"
      ],
      "text/plain": [
       "                                   family           t  population          t0  \\\n",
       "0  time-1556920980_eve-1124142_name-ONEAL  1573173894           1  1573173894   \n",
       "1  time-1556920980_eve-1124142_name-ONEAL  1573175281           1  1573173894   \n",
       "2  time-1556920980_eve-1124142_name-ONEAL  1573176140           1  1573173894   \n",
       "3  time-1556920980_eve-1124142_name-ONEAL  1573178439           1  1573173894   \n",
       "4  time-1556920980_eve-1124142_name-ONEAL  1573180901           1  1573173894   \n",
       "\n",
       "   t_elapsed  \n",
       "0   0.000000  \n",
       "1   0.385278  \n",
       "2   0.623889  \n",
       "3   1.262500  \n",
       "4   1.946389  "
      ]
     },
     "execution_count": 13,
     "metadata": {},
     "output_type": "execute_result"
    }
   ],
   "source": [
    "living_df = pd.DataFrame(living_list, columns = ['family', 't', 'population'])\n",
    "living_df = living_df.sort_values(by=['family', 't'], ascending=True).reset_index(drop=True)\n",
    "living_df['t0'] = living_df.groupby('family')['t'].transform('first')\n",
    "living_df['t_elapsed'] = (living_df['t'] - living_df['t0'])/60/60\n",
    "living_df.head()"
   ]
  },
  {
   "cell_type": "markdown",
   "metadata": {},
   "source": [
    "Plot a subset"
   ]
  },
  {
   "cell_type": "code",
   "execution_count": 14,
   "metadata": {
    "scrolled": true
   },
   "outputs": [
    {
     "data": {
      "image/png": "[encoded data removed]",
      "text/plain": [
       "<Figure size 1317.52x432 with 1 Axes>"
      ]
     },
     "metadata": {},
     "output_type": "display_data"
    }
   ],
   "source": [
    "random_families = np.random.choice(boundless_families, size=50, replace=False)\n",
    "random_subset = living_df[living_df['family'].isin(random_families)]\n",
    "g = sns.relplot(data=random_subset, x='t_elapsed', y='population', hue='family', kind='line',\n",
    "                 height=6, aspect=2, alpha = 0.5)\n",
    "g._legend.remove()"
   ]
  },
  {
   "cell_type": "markdown",
   "metadata": {},
   "source": [
    "Maximum population size"
   ]
  },
  {
   "cell_type": "code",
   "execution_count": 15,
   "metadata": {},
   "outputs": [
    {
     "data": {
      "text/plain": [
       "[Text(0.5, 0, 'Maximum living population size')]"
      ]
     },
     "execution_count": 15,
     "metadata": {},
     "output_type": "execute_result"
    },
    {
     "data": {
      "image/png": "[encoded data removed]",
      "text/plain": [
       "<Figure size 432x288 with 1 Axes>"
      ]
     },
     "metadata": {},
     "output_type": "display_data"
    }
   ],
   "source": [
    "max_pop = living_df.groupby('family')['population'].agg('max').reset_index()\n",
    "ax = sns.distplot(max_pop['population'])\n",
    "ax.set(xlabel = 'Maximum living population size')"
   ]
  },
  {
   "cell_type": "code",
   "execution_count": 16,
   "metadata": {},
   "outputs": [
    {
     "data": {
      "text/plain": [
       "ModeResult(mode=array([1]), count=array([1953]))"
      ]
     },
     "execution_count": 16,
     "metadata": {},
     "output_type": "execute_result"
    }
   ],
   "source": [
    "scipy.stats.mode(max_pop['population'])"
   ]
  },
  {
   "cell_type": "markdown",
   "metadata": {},
   "source": [
    "### Chain length"
   ]
  },
  {
   "cell_type": "markdown",
   "metadata": {},
   "source": [
    "Helper: Read JSON files"
   ]
  },
  {
   "cell_type": "code",
   "execution_count": 17,
   "metadata": {},
   "outputs": [],
   "source": [
    "def open_graph(f):\n",
    "    with open(f) as handle:\n",
    "        graph_data = json.load(handle)\n",
    "    return nx.json_graph.node_link_graph(graph_data)"
   ]
  },
  {
   "cell_type": "markdown",
   "metadata": {},
   "source": [
    "Find longest chain in family graphs"
   ]
  },
  {
   "cell_type": "code",
   "execution_count": 18,
   "metadata": {},
   "outputs": [
    {
     "data": {
      "application/vnd.jupyter.widget-view+json": {
       "model_id": "850ecde7994a45d19e50055ee8ceec14",
       "version_major": 2,
       "version_minor": 0
      },
      "text/plain": [
       "HBox(children=(FloatProgress(value=0.0, max=4737.0), HTML(value='')))"
      ]
     },
     "metadata": {},
     "output_type": "display_data"
    },
    {
     "name": "stdout",
     "output_type": "stream",
     "text": [
      "\n"
     ]
    }
   ],
   "source": [
    "chain_list = []\n",
    "\n",
    "for f in notebook.tqdm(boundless_families):\n",
    "    fam_file = 'outputs/families/families_%s.json' % f\n",
    "    fam_graph = open_graph(fam_file)\n",
    "    fam_chain = nx.algorithms.dag_longest_path(fam_graph)\n",
    "    chain_list.append((f, len(fam_chain)))"
   ]
  },
  {
   "cell_type": "code",
   "execution_count": 19,
   "metadata": {},
   "outputs": [
    {
     "data": {
      "text/html": [
       "<div>\n",
       "<style scoped>\n",
       "    .dataframe tbody tr th:only-of-type {\n",
       "        vertical-align: middle;\n",
       "    }\n",
       "\n",
       "    .dataframe tbody tr th {\n",
       "        vertical-align: top;\n",
       "    }\n",
       "\n",
       "    .dataframe thead th {\n",
       "        text-align: right;\n",
       "    }\n",
       "</style>\n",
       "<table border=\"1\" class=\"dataframe\">\n",
       "  <thead>\n",
       "    <tr style=\"text-align: right;\">\n",
       "      <th></th>\n",
       "      <th>family</th>\n",
       "      <th>chain</th>\n",
       "    </tr>\n",
       "  </thead>\n",
       "  <tbody>\n",
       "    <tr>\n",
       "      <th>0</th>\n",
       "      <td>time-1556920980_eve-1124142_name-ONEAL</td>\n",
       "      <td>21</td>\n",
       "    </tr>\n",
       "    <tr>\n",
       "      <th>1</th>\n",
       "      <td>time-1556921001_eve-1124146_name-SARAN</td>\n",
       "      <td>21</td>\n",
       "    </tr>\n",
       "    <tr>\n",
       "      <th>2</th>\n",
       "      <td>time-1556924751_eve-1124651_name-WATERS</td>\n",
       "      <td>17</td>\n",
       "    </tr>\n",
       "    <tr>\n",
       "      <th>3</th>\n",
       "      <td>time-1556925978_eve-1124801_name-HAAK</td>\n",
       "      <td>16</td>\n",
       "    </tr>\n",
       "    <tr>\n",
       "      <th>4</th>\n",
       "      <td>time-1556931561_eve-1125556_name-HAAK</td>\n",
       "      <td>6</td>\n",
       "    </tr>\n",
       "  </tbody>\n",
       "</table>\n",
       "</div>"
      ],
      "text/plain": [
       "                                    family  chain\n",
       "0   time-1556920980_eve-1124142_name-ONEAL     21\n",
       "1   time-1556921001_eve-1124146_name-SARAN     21\n",
       "2  time-1556924751_eve-1124651_name-WATERS     17\n",
       "3    time-1556925978_eve-1124801_name-HAAK     16\n",
       "4    time-1556931561_eve-1125556_name-HAAK      6"
      ]
     },
     "execution_count": 19,
     "metadata": {},
     "output_type": "execute_result"
    }
   ],
   "source": [
    "chain_df = pd.DataFrame(chain_list, columns=['family', 'chain'])\n",
    "chain_df.head()"
   ]
  },
  {
   "cell_type": "code",
   "execution_count": 20,
   "metadata": {},
   "outputs": [
    {
     "data": {
      "text/plain": [
       "ModeResult(mode=array([2]), count=array([2412]))"
      ]
     },
     "execution_count": 20,
     "metadata": {},
     "output_type": "execute_result"
    }
   ],
   "source": [
    "scipy.stats.mode(chain_df['chain'])"
   ]
  },
  {
   "cell_type": "code",
   "execution_count": 21,
   "metadata": {},
   "outputs": [
    {
     "data": {
      "text/plain": [
       "[Text(0.5, 0, '# of generations')]"
      ]
     },
     "execution_count": 21,
     "metadata": {},
     "output_type": "execute_result"
    },
    {
     "data": {
      "image/png": "[encoded data removed]",
      "text/plain": [
       "<Figure size 432x288 with 1 Axes>"
      ]
     },
     "metadata": {},
     "output_type": "display_data"
    }
   ],
   "source": [
    "ax = sns.distplot(chain_df['chain'])\n",
    "ax.set(xlabel = '# of generations')"
   ]
  },
  {
   "cell_type": "markdown",
   "metadata": {},
   "source": [
    "## Modeling success"
   ]
  },
  {
   "cell_type": "markdown",
   "metadata": {},
   "source": [
    "Criterion for \"success\": Reaching age 14 (viability fitness)"
   ]
  },
  {
   "cell_type": "code",
   "execution_count": 22,
   "metadata": {},
   "outputs": [
    {
     "data": {
      "text/html": [
       "<div>\n",
       "<style scoped>\n",
       "    .dataframe tbody tr th:only-of-type {\n",
       "        vertical-align: middle;\n",
       "    }\n",
       "\n",
       "    .dataframe tbody tr th {\n",
       "        vertical-align: top;\n",
       "    }\n",
       "\n",
       "    .dataframe thead th {\n",
       "        text-align: right;\n",
       "    }\n",
       "</style>\n",
       "<table border=\"1\" class=\"dataframe\">\n",
       "  <thead>\n",
       "    <tr style=\"text-align: right;\">\n",
       "      <th></th>\n",
       "      <th>family</th>\n",
       "      <th>sum</th>\n",
       "      <th>count</th>\n",
       "    </tr>\n",
       "  </thead>\n",
       "  <tbody>\n",
       "    <tr>\n",
       "      <th>0</th>\n",
       "      <td>time-1556920980_eve-1124142_name-ONEAL</td>\n",
       "      <td>39</td>\n",
       "      <td>79</td>\n",
       "    </tr>\n",
       "    <tr>\n",
       "      <th>1</th>\n",
       "      <td>time-1556921001_eve-1124146_name-SARAN</td>\n",
       "      <td>34</td>\n",
       "      <td>64</td>\n",
       "    </tr>\n",
       "    <tr>\n",
       "      <th>2</th>\n",
       "      <td>time-1556924751_eve-1124651_name-WATERS</td>\n",
       "      <td>29</td>\n",
       "      <td>55</td>\n",
       "    </tr>\n",
       "    <tr>\n",
       "      <th>3</th>\n",
       "      <td>time-1556925978_eve-1124801_name-HAAK</td>\n",
       "      <td>36</td>\n",
       "      <td>83</td>\n",
       "    </tr>\n",
       "    <tr>\n",
       "      <th>4</th>\n",
       "      <td>time-1556931561_eve-1125556_name-HAAK</td>\n",
       "      <td>1</td>\n",
       "      <td>8</td>\n",
       "    </tr>\n",
       "  </tbody>\n",
       "</table>\n",
       "</div>"
      ],
      "text/plain": [
       "                                    family  sum  count\n",
       "0   time-1556920980_eve-1124142_name-ONEAL   39     79\n",
       "1   time-1556921001_eve-1124146_name-SARAN   34     64\n",
       "2  time-1556924751_eve-1124651_name-WATERS   29     55\n",
       "3    time-1556925978_eve-1124801_name-HAAK   36     83\n",
       "4    time-1556931561_eve-1125556_name-HAAK    1      8"
      ]
     },
     "execution_count": 22,
     "metadata": {},
     "output_type": "execute_result"
    }
   ],
   "source": [
    "mortality_df = lineage_df.copy()\n",
    "mortality_df['adult'] = (lineage_df['age'] >= 14)*1\n",
    "mortality_df = mortality_df[['family', 'playerID', 'adult']]\n",
    "\n",
    "mortality_summ = mortality_df.groupby('family')['adult'].agg(['sum', 'count']).reset_index()\n",
    "mortality_summ['sum'] = mortality_summ['sum'].astype(np.int)\n",
    "mortality_summ.head()"
   ]
  },
  {
   "cell_type": "markdown",
   "metadata": {},
   "source": [
    "Compute beta distribution for each family\n",
    "\n",
    "Prior: Uniform\n",
    "$$\n",
    "\\theta \\sim \\mathrm{Beta}(\\alpha_0, \\beta_0) \\\\\n",
    "\\alpha_0 = \\beta_0 = 1\n",
    "$$\n",
    "\n",
    "Posterior-sufficient statistics:\n",
    "$$\n",
    "\\theta | D \\sim \\mathrm{Beta}(\\alpha_0 + k, \\beta_0 + N - k) \\\\ \n",
    "a = \\alpha_0 + k \\\\\n",
    "b = \\beta_0 + N - k\n",
    "$$"
   ]
  },
  {
   "cell_type": "code",
   "execution_count": 23,
   "metadata": {},
   "outputs": [
    {
     "data": {
      "text/html": [
       "<div>\n",
       "<style scoped>\n",
       "    .dataframe tbody tr th:only-of-type {\n",
       "        vertical-align: middle;\n",
       "    }\n",
       "\n",
       "    .dataframe tbody tr th {\n",
       "        vertical-align: top;\n",
       "    }\n",
       "\n",
       "    .dataframe thead th {\n",
       "        text-align: right;\n",
       "    }\n",
       "</style>\n",
       "<table border=\"1\" class=\"dataframe\">\n",
       "  <thead>\n",
       "    <tr style=\"text-align: right;\">\n",
       "      <th></th>\n",
       "      <th>family</th>\n",
       "      <th>sum</th>\n",
       "      <th>count</th>\n",
       "      <th>a</th>\n",
       "      <th>b</th>\n",
       "      <th>beta_mean</th>\n",
       "      <th>beta_var</th>\n",
       "      <th>snr</th>\n",
       "    </tr>\n",
       "  </thead>\n",
       "  <tbody>\n",
       "    <tr>\n",
       "      <th>0</th>\n",
       "      <td>time-1556920980_eve-1124142_name-ONEAL</td>\n",
       "      <td>39</td>\n",
       "      <td>79</td>\n",
       "      <td>40</td>\n",
       "      <td>41</td>\n",
       "      <td>0.493827</td>\n",
       "      <td>0.003048</td>\n",
       "      <td>162.000000</td>\n",
       "    </tr>\n",
       "    <tr>\n",
       "      <th>1</th>\n",
       "      <td>time-1556921001_eve-1124146_name-SARAN</td>\n",
       "      <td>34</td>\n",
       "      <td>64</td>\n",
       "      <td>35</td>\n",
       "      <td>31</td>\n",
       "      <td>0.530303</td>\n",
       "      <td>0.003718</td>\n",
       "      <td>142.645161</td>\n",
       "    </tr>\n",
       "    <tr>\n",
       "      <th>2</th>\n",
       "      <td>time-1556924751_eve-1124651_name-WATERS</td>\n",
       "      <td>29</td>\n",
       "      <td>55</td>\n",
       "      <td>30</td>\n",
       "      <td>27</td>\n",
       "      <td>0.526316</td>\n",
       "      <td>0.004298</td>\n",
       "      <td>122.444444</td>\n",
       "    </tr>\n",
       "    <tr>\n",
       "      <th>3</th>\n",
       "      <td>time-1556925978_eve-1124801_name-HAAK</td>\n",
       "      <td>36</td>\n",
       "      <td>83</td>\n",
       "      <td>37</td>\n",
       "      <td>48</td>\n",
       "      <td>0.435294</td>\n",
       "      <td>0.002858</td>\n",
       "      <td>152.291667</td>\n",
       "    </tr>\n",
       "    <tr>\n",
       "      <th>4</th>\n",
       "      <td>time-1556931561_eve-1125556_name-HAAK</td>\n",
       "      <td>1</td>\n",
       "      <td>8</td>\n",
       "      <td>2</td>\n",
       "      <td>8</td>\n",
       "      <td>0.200000</td>\n",
       "      <td>0.014545</td>\n",
       "      <td>13.750000</td>\n",
       "    </tr>\n",
       "  </tbody>\n",
       "</table>\n",
       "</div>"
      ],
      "text/plain": [
       "                                    family  sum  count   a   b  beta_mean  \\\n",
       "0   time-1556920980_eve-1124142_name-ONEAL   39     79  40  41   0.493827   \n",
       "1   time-1556921001_eve-1124146_name-SARAN   34     64  35  31   0.530303   \n",
       "2  time-1556924751_eve-1124651_name-WATERS   29     55  30  27   0.526316   \n",
       "3    time-1556925978_eve-1124801_name-HAAK   36     83  37  48   0.435294   \n",
       "4    time-1556931561_eve-1125556_name-HAAK    1      8   2   8   0.200000   \n",
       "\n",
       "   beta_var         snr  \n",
       "0  0.003048  162.000000  \n",
       "1  0.003718  142.645161  \n",
       "2  0.004298  122.444444  \n",
       "3  0.002858  152.291667  \n",
       "4  0.014545   13.750000  "
      ]
     },
     "execution_count": 23,
     "metadata": {},
     "output_type": "execute_result"
    }
   ],
   "source": [
    "def beta_mean(row): return scipy.stats.beta.mean(row['a'], row['b'])\n",
    "def beta_var(row): return scipy.stats.beta.var(row['a'], row['b'])\n",
    "\n",
    "mortality_summ['a'] = 1 + mortality_summ['sum']\n",
    "mortality_summ['b'] = 1 + mortality_summ['count'] - mortality_summ['sum']\n",
    "mortality_summ['beta_mean'] = mortality_summ.apply(beta_mean, axis=1)\n",
    "mortality_summ['beta_var'] = mortality_summ.apply(beta_var, axis=1)\n",
    "mortality_summ['snr'] = mortality_summ['beta_mean']/mortality_summ['beta_var']\n",
    "mortality_summ.head()"
   ]
  },
  {
   "cell_type": "markdown",
   "metadata": {},
   "source": [
    "Beta mean:"
   ]
  },
  {
   "cell_type": "code",
   "execution_count": 24,
   "metadata": {},
   "outputs": [
    {
     "data": {
      "image/png": "[encoded data removed]",
      "text/plain": [
       "<Figure size 432x288 with 1 Axes>"
      ]
     },
     "metadata": {},
     "output_type": "display_data"
    }
   ],
   "source": [
    "ax = sns.distplot(mortality_summ['beta_mean'])"
   ]
  },
  {
   "cell_type": "markdown",
   "metadata": {},
   "source": [
    "Distribution of SNR:"
   ]
  },
  {
   "cell_type": "code",
   "execution_count": 25,
   "metadata": {},
   "outputs": [
    {
     "data": {
      "image/png": "[encoded data removed]",
      "text/plain": [
       "<Figure size 432x288 with 1 Axes>"
      ]
     },
     "metadata": {},
     "output_type": "display_data"
    }
   ],
   "source": [
    "ax = sns.distplot(mortality_summ['snr'])"
   ]
  },
  {
   "cell_type": "markdown",
   "metadata": {},
   "source": [
    "Split data into quartiles:"
   ]
  },
  {
   "cell_type": "code",
   "execution_count": 26,
   "metadata": {},
   "outputs": [],
   "source": [
    "mortality_summ['quantile'] = pd.qcut(mortality_summ['snr'], 4, labels=False)"
   ]
  },
  {
   "cell_type": "markdown",
   "metadata": {},
   "source": [
    "Plot representative family trees from each quartile:"
   ]
  },
  {
   "cell_type": "code",
   "execution_count": 27,
   "metadata": {},
   "outputs": [
    {
     "name": "stdout",
     "output_type": "stream",
     "text": [
      "[['time-1557788861_eve-1240547_name-RAINBOW'\n",
      "  'time-1558138664_eve-1288328_name-FLUCAS'\n",
      "  'time-1557034008_eve-1140203_name-BABY'\n",
      "  'time-1558390719_eve-1327538_name-KOKOSKA'\n",
      "  'time-1559566731_eve-1485738_name-TAM'\n",
      "  'time-1557086627_eve-1149018_name-HAAK'\n",
      "  'time-1557503032_eve-1196714_name-DIORIO'\n",
      "  'time-1559064040_eve-1412273_name-DUPONT'\n",
      "  'time-1556999133_eve-1134235_name-TOMAYKO'\n",
      "  'time-1559070082_eve-1412715_name-LOTTS']\n",
      " ['time-1558920894_eve-1392993_name-KAREN'\n",
      "  'time-1558318372_eve-1319303_name-SHEPARD'\n",
      "  'time-1558443537_eve-1332992_name-MONA'\n",
      "  'time-1558660469_eve-1357462_name-DANTE'\n",
      "  'time-1558791501_eve-1373504_name-JONES'\n",
      "  'time-1559139738_eve-1424525_name-RUNNER'\n",
      "  'time-1558475575_eve-1336769_name-CUMMING'\n",
      "  'time-1557220892_eve-1164637_name-JO'\n",
      "  'time-1558698751_eve-1361081_name-SEI'\n",
      "  'time-1557645939_eve-1219089_name-JO']\n",
      " ['time-1558299339_eve-1315725_name-DICKSON'\n",
      "  'time-1557000049_eve-1134486_name-DEMOTT'\n",
      "  'time-1557642922_eve-1218593_name-HYE'\n",
      "  'time-1556980233_eve-1131461_name-FRUIT'\n",
      "  'time-1558201649_eve-1298155_name-DUPONT'\n",
      "  'time-1557281954_eve-1171168_name-WEED'\n",
      "  'time-1558740635_eve-1367890_name-WAKABAYASHI'\n",
      "  'time-1557950051_eve-1262487_name-GOLDEN'\n",
      "  'time-1557272360_eve-1170005_name-FLUTY'\n",
      "  'time-1557495010_eve-1195313_name-GODA']\n",
      " ['time-1557145555_eve-1156148_name-WIND'\n",
      "  'time-1558228642_eve-1303295_name-GREEN'\n",
      "  'time-1557303822_eve-1173257_name-PARK'\n",
      "  'time-1557684830_eve-1225988_name-LADY'\n",
      "  'time-1558762365_eve-1370365_name-KIENLE'\n",
      "  'time-1559512492_eve-1478885_name-GENIER'\n",
      "  'time-1558121857_eve-1285455_name-STRANGE'\n",
      "  'time-1558232302_eve-1303951_name-NIPPLE'\n",
      "  'time-1557572756_eve-1205804_name-HA'\n",
      "  'time-1558878287_eve-1385849_name-YUN']]\n"
     ]
    }
   ],
   "source": [
    "representative_families = np.array([np.random.choice(group['family'], 10) \n",
    "                                    for name,group in mortality_summ.groupby('quantile')])\n",
    "print(representative_families)"
   ]
  },
  {
   "cell_type": "code",
   "execution_count": 28,
   "metadata": {},
   "outputs": [
    {
     "data": {
      "image/png": "[encoded data removed]",
      "text/plain": [
       "<Figure size 187.15x299.44 with 1 Axes>"
      ]
     },
     "metadata": {},
     "output_type": "display_data"
    }
   ],
   "source": [
    "# for quant in range(4):\n",
    "#     for f in representative_families[quant]:\n",
    "quant = 3\n",
    "f = representative_families[quant][0]\n",
    "fam_file = 'outputs/families/families_%s.json' % f\n",
    "out_file = 'plots/fitness_quantiles/families_Q%i_%s.png' % (quant+1, f)\n",
    "\n",
    "# Chain length (for plot height)\n",
    "fam_graph = open_graph(fam_file)\n",
    "fam_chain = len(nx.algorithms.dag_longest_path(fam_graph))\n",
    "\n",
    "# Figure size (based on family size)\n",
    "h = np.log(fam_chain)*3\n",
    "w = h/1.6\n",
    "\n",
    "# Node color (based on whether individuals reached maturity)\n",
    "fam_nodes = list(fam_graph.nodes)\n",
    "fam_attr = mortality_df[['playerID', 'adult']].copy()\n",
    "fam_attr = fam_attr[fam_attr['playerID'].isin(fam_nodes)]\n",
    "fam_attr = fam_attr.set_index('playerID')\n",
    "fam_attr = fam_attr.to_dict('index')\n",
    "nx.set_node_attributes(fam_graph, fam_attr)\n",
    "\n",
    "plt.figure(3,figsize=(w,h)) \n",
    "nx.nx_agraph.write_dot(fam_graph,'fam.dot')\n",
    "\n",
    "pos=graphviz_layout(fam_graph, prog='dot')\n",
    "nx.draw(fam_graph, pos, with_labels=False, arrows=False)\n",
    "# plt.savefig(out_file)\n",
    "# plt.close()"
   ]
  },
  {
   "cell_type": "code",
   "execution_count": 29,
   "metadata": {},
   "outputs": [
    {
     "data": {
      "text/plain": [
       "[1156255,\n",
       " 1156572,\n",
       " 1156388,\n",
       " 1156566,\n",
       " 1156541,\n",
       " 1156280,\n",
       " 1156536,\n",
       " 1156275,\n",
       " 1156500,\n",
       " 1156471,\n",
       " 1156459,\n",
       " 1156448,\n",
       " 1156150,\n",
       " 1156428,\n",
       " 1156427,\n",
       " 1156193,\n",
       " 1156399,\n",
       " 1156374,\n",
       " 1156304,\n",
       " 1156148,\n",
       " 1156226,\n",
       " '1156148']"
      ]
     },
     "execution_count": 29,
     "metadata": {},
     "output_type": "execute_result"
    }
   ],
   "source": [
    "fam_nodes"
   ]
  },
  {
   "cell_type": "code",
   "execution_count": 30,
   "metadata": {},
   "outputs": [
    {
     "data": {
      "text/plain": [
       "{}"
      ]
     },
     "execution_count": 30,
     "metadata": {},
     "output_type": "execute_result"
    }
   ],
   "source": [
    "fam_attr"
   ]
  },
  {
   "cell_type": "code",
   "execution_count": null,
   "metadata": {},
   "outputs": [],
   "source": [
    "np.unique(mortality_df)"
   ]
  },
  {
   "cell_type": "code",
   "execution_count": null,
   "metadata": {},
   "outputs": [],
   "source": [
    "for quant in range(4):\n",
    "    for f in representative_families[quant]:\n",
    "        fam_file = 'outputs/families/families_%s.json' % f\n",
    "        out_file = 'plots/fitness_quantiles/families_Q%i_%s.png' % (quant+1, f)\n",
    "\n",
    "        # Graph and chain length (for plot size)\n",
    "        fam_graph = open_graph(fam_file)\n",
    "        fam_chain = len(nx.algorithms.dag_longest_path(fam_graph))\n",
    "        \n",
    "        # Figure size (based on family size)\n",
    "        h = np.log(fam_chain)*3\n",
    "        w = h/1.6\n",
    "        \n",
    "        # Node colors (based on whether an individual reached maturity)\n",
    "        \n",
    "\n",
    "        plt.figure(3,figsize=(w,h)) \n",
    "        nx.nx_agraph.write_dot(fam_graph,'fam.dot')\n",
    "\n",
    "        pos=graphviz_layout(fam_graph, prog='dot')\n",
    "        nx.draw(fam_graph, pos, with_labels=False, arrows=False)\n",
    "        plt.savefig(out_file)\n",
    "        plt.close()"
   ]
  },
  {
   "cell_type": "code",
   "execution_count": null,
   "metadata": {},
   "outputs": [],
   "source": [
    "np.unique(mortality_df['quantile'])"
   ]
  },
  {
   "cell_type": "code",
   "execution_count": null,
   "metadata": {},
   "outputs": [],
   "source": [
    "mortality_df.head()"
   ]
  },
  {
   "cell_type": "code",
   "execution_count": null,
   "metadata": {},
   "outputs": [],
   "source": []
  }
 ],
 "metadata": {
  "kernelspec": {
   "display_name": "Python 3",
   "language": "python",
   "name": "python3"
  },
  "language_info": {
   "codemirror_mode": {
    "name": "ipython",
    "version": 3
   },
   "file_extension": ".py",
   "mimetype": "text/x-python",
   "name": "python",
   "nbconvert_exporter": "python",
   "pygments_lexer": "ipython3",
   "version": "3.7.6"
  }
 },
 "nbformat": 4,
 "nbformat_minor": 4
}
