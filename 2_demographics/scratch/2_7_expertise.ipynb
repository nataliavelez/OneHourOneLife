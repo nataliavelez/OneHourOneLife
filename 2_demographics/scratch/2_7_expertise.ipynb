{
 "cells": [
  {
   "cell_type": "code",
   "execution_count": 80,
   "metadata": {
    "collapsed": true
   },
   "outputs": [],
   "source": [
    "import pandas as pd\n",
    "import numpy as np\n",
    "from tqdm.notebook import tqdm"
   ]
  },
  {
   "cell_type": "markdown",
   "metadata": {},
   "source": [
    "### read all data"
   ]
  },
  {
   "cell_type": "code",
   "execution_count": 68,
   "metadata": {},
   "outputs": [
    {
     "name": "stdout",
     "output_type": "stream",
     "text": [
      "/Users/dengwenning/Documents/GitHub/OneHourOneLife/2_demographics\r\n"
     ]
    }
   ],
   "source": [
    "!pwd"
   ]
  },
  {
   "cell_type": "code",
   "execution_count": 70,
   "metadata": {
    "scrolled": true
   },
   "outputs": [
    {
     "data": {
      "text/html": [
       "<div>\n",
       "<style scoped>\n",
       "    .dataframe tbody tr th:only-of-type {\n",
       "        vertical-align: middle;\n",
       "    }\n",
       "\n",
       "    .dataframe tbody tr th {\n",
       "        vertical-align: top;\n",
       "    }\n",
       "\n",
       "    .dataframe thead th {\n",
       "        text-align: right;\n",
       "    }\n",
       "</style>\n",
       "<table border=\"1\" class=\"dataframe\">\n",
       "  <thead>\n",
       "    <tr style=\"text-align: right;\">\n",
       "      <th></th>\n",
       "      <th>Unnamed: 0</th>\n",
       "      <th>server</th>\n",
       "      <th>release</th>\n",
       "      <th>era</th>\n",
       "      <th>event</th>\n",
       "      <th>timestamp</th>\n",
       "      <th>playerID</th>\n",
       "      <th>hash</th>\n",
       "      <th>age</th>\n",
       "      <th>sex</th>\n",
       "      <th>location</th>\n",
       "      <th>parent</th>\n",
       "      <th>cause_of_death</th>\n",
       "      <th>pop</th>\n",
       "      <th>chain</th>\n",
       "      <th>killer</th>\n",
       "    </tr>\n",
       "  </thead>\n",
       "  <tbody>\n",
       "    <tr>\n",
       "      <th>0</th>\n",
       "      <td>0</td>\n",
       "      <td>bigserver2</td>\n",
       "      <td>253.0</td>\n",
       "      <td>rift</td>\n",
       "      <td>D</td>\n",
       "      <td>1564099205</td>\n",
       "      <td>1806575.0</td>\n",
       "      <td>91f6003fa6a03933f72b1f95a7002f1f07928deb</td>\n",
       "      <td>33.40</td>\n",
       "      <td>M</td>\n",
       "      <td>(277, -2434)</td>\n",
       "      <td>NaN</td>\n",
       "      <td>hunger</td>\n",
       "      <td>67</td>\n",
       "      <td>NaN</td>\n",
       "      <td>NaN</td>\n",
       "    </tr>\n",
       "    <tr>\n",
       "      <th>1</th>\n",
       "      <td>1</td>\n",
       "      <td>bigserver2</td>\n",
       "      <td>253.0</td>\n",
       "      <td>rift</td>\n",
       "      <td>D</td>\n",
       "      <td>1564099220</td>\n",
       "      <td>1806488.0</td>\n",
       "      <td>1a7f24be09f45519e96d4f017b36ad38eb5e329d</td>\n",
       "      <td>60.00</td>\n",
       "      <td>M</td>\n",
       "      <td>(-2516, -1279)</td>\n",
       "      <td>NaN</td>\n",
       "      <td>oldAge</td>\n",
       "      <td>66</td>\n",
       "      <td>NaN</td>\n",
       "      <td>NaN</td>\n",
       "    </tr>\n",
       "    <tr>\n",
       "      <th>2</th>\n",
       "      <td>2</td>\n",
       "      <td>bigserver2</td>\n",
       "      <td>253.0</td>\n",
       "      <td>rift</td>\n",
       "      <td>D</td>\n",
       "      <td>1564099234</td>\n",
       "      <td>1806629.0</td>\n",
       "      <td>3dc579b91219e519dfee2f9d7a24aec8e9a83b03</td>\n",
       "      <td>19.04</td>\n",
       "      <td>F</td>\n",
       "      <td>(-1919, -2078)</td>\n",
       "      <td>NaN</td>\n",
       "      <td>hunger</td>\n",
       "      <td>65</td>\n",
       "      <td>NaN</td>\n",
       "      <td>NaN</td>\n",
       "    </tr>\n",
       "    <tr>\n",
       "      <th>3</th>\n",
       "      <td>3</td>\n",
       "      <td>bigserver2</td>\n",
       "      <td>253.0</td>\n",
       "      <td>rift</td>\n",
       "      <td>D</td>\n",
       "      <td>1564099254</td>\n",
       "      <td>1806530.0</td>\n",
       "      <td>780359de9275c29b15b65d3cdba5b22bf90169c5</td>\n",
       "      <td>47.75</td>\n",
       "      <td>F</td>\n",
       "      <td>(-2525, -1276)</td>\n",
       "      <td>NaN</td>\n",
       "      <td>hunger</td>\n",
       "      <td>64</td>\n",
       "      <td>NaN</td>\n",
       "      <td>NaN</td>\n",
       "    </tr>\n",
       "    <tr>\n",
       "      <th>4</th>\n",
       "      <td>4</td>\n",
       "      <td>bigserver2</td>\n",
       "      <td>253.0</td>\n",
       "      <td>rift</td>\n",
       "      <td>D</td>\n",
       "      <td>1564099256</td>\n",
       "      <td>1806662.0</td>\n",
       "      <td>bcc9ac263a4036f0141ffb04e9224e00443bb791</td>\n",
       "      <td>10.92</td>\n",
       "      <td>F</td>\n",
       "      <td>(277, -2433)</td>\n",
       "      <td>NaN</td>\n",
       "      <td>hunger</td>\n",
       "      <td>64</td>\n",
       "      <td>NaN</td>\n",
       "      <td>NaN</td>\n",
       "    </tr>\n",
       "  </tbody>\n",
       "</table>\n",
       "</div>"
      ],
      "text/plain": [
       "   Unnamed: 0      server  release   era event   timestamp   playerID  \\\n",
       "0           0  bigserver2    253.0  rift     D  1564099205  1806575.0   \n",
       "1           1  bigserver2    253.0  rift     D  1564099220  1806488.0   \n",
       "2           2  bigserver2    253.0  rift     D  1564099234  1806629.0   \n",
       "3           3  bigserver2    253.0  rift     D  1564099254  1806530.0   \n",
       "4           4  bigserver2    253.0  rift     D  1564099256  1806662.0   \n",
       "\n",
       "                                       hash    age sex        location parent  \\\n",
       "0  91f6003fa6a03933f72b1f95a7002f1f07928deb  33.40   M    (277, -2434)    NaN   \n",
       "1  1a7f24be09f45519e96d4f017b36ad38eb5e329d  60.00   M  (-2516, -1279)    NaN   \n",
       "2  3dc579b91219e519dfee2f9d7a24aec8e9a83b03  19.04   F  (-1919, -2078)    NaN   \n",
       "3  780359de9275c29b15b65d3cdba5b22bf90169c5  47.75   F  (-2525, -1276)    NaN   \n",
       "4  bcc9ac263a4036f0141ffb04e9224e00443bb791  10.92   F    (277, -2433)    NaN   \n",
       "\n",
       "  cause_of_death  pop  chain  killer  \n",
       "0         hunger   67    NaN     NaN  \n",
       "1         oldAge   66    NaN     NaN  \n",
       "2         hunger   65    NaN     NaN  \n",
       "3         hunger   64    NaN     NaN  \n",
       "4         hunger   64    NaN     NaN  "
      ]
     },
     "execution_count": 70,
     "metadata": {},
     "output_type": "execute_result"
    }
   ],
   "source": [
    "rift_data = pd.read_csv('../data/outputs/lifelogs_bigserver2_rift_data.tsv', sep='\\t')\n",
    "arc_data = pd.read_csv('../data/outputs/lifelogs_bigserver2_arc_data.tsv', sep='\\t')\n",
    "boundless_data = pd.read_csv('../data/outputs/lifelogs_bigserver2_boundless_data.tsv', sep='\\t')\n",
    "rift_data.head()"
   ]
  },
  {
   "cell_type": "markdown",
   "metadata": {},
   "source": [
    "### Specify which data we are looing at"
   ]
  },
  {
   "cell_type": "code",
   "execution_count": 97,
   "metadata": {
    "collapsed": true
   },
   "outputs": [],
   "source": [
    "lifelog_data = boundless_data"
   ]
  },
  {
   "cell_type": "markdown",
   "metadata": {},
   "source": [
    "get death date"
   ]
  },
  {
   "cell_type": "code",
   "execution_count": 98,
   "metadata": {},
   "outputs": [
    {
     "data": {
      "text/html": [
       "<div>\n",
       "<style scoped>\n",
       "    .dataframe tbody tr th:only-of-type {\n",
       "        vertical-align: middle;\n",
       "    }\n",
       "\n",
       "    .dataframe tbody tr th {\n",
       "        vertical-align: top;\n",
       "    }\n",
       "\n",
       "    .dataframe thead th {\n",
       "        text-align: right;\n",
       "    }\n",
       "</style>\n",
       "<table border=\"1\" class=\"dataframe\">\n",
       "  <thead>\n",
       "    <tr style=\"text-align: right;\">\n",
       "      <th></th>\n",
       "      <th>Unnamed: 0</th>\n",
       "      <th>server</th>\n",
       "      <th>release</th>\n",
       "      <th>era</th>\n",
       "      <th>event</th>\n",
       "      <th>timestamp</th>\n",
       "      <th>playerID</th>\n",
       "      <th>hash</th>\n",
       "      <th>age</th>\n",
       "      <th>sex</th>\n",
       "      <th>location</th>\n",
       "      <th>parent</th>\n",
       "      <th>cause_of_death</th>\n",
       "      <th>pop</th>\n",
       "      <th>chain</th>\n",
       "      <th>killer</th>\n",
       "    </tr>\n",
       "  </thead>\n",
       "  <tbody>\n",
       "    <tr>\n",
       "      <th>0</th>\n",
       "      <td>1</td>\n",
       "      <td>bigserver2</td>\n",
       "      <td>282.0</td>\n",
       "      <td>boundless</td>\n",
       "      <td>D</td>\n",
       "      <td>1573257621</td>\n",
       "      <td>2251778.0</td>\n",
       "      <td>c17d2f3663837c82e4f7669a40aa6f618e89e57a</td>\n",
       "      <td>0.54</td>\n",
       "      <td>F</td>\n",
       "      <td>(-361, -410)</td>\n",
       "      <td>NaN</td>\n",
       "      <td>hunger</td>\n",
       "      <td>78</td>\n",
       "      <td>NaN</td>\n",
       "      <td>NaN</td>\n",
       "    </tr>\n",
       "    <tr>\n",
       "      <th>1</th>\n",
       "      <td>4</td>\n",
       "      <td>bigserver2</td>\n",
       "      <td>282.0</td>\n",
       "      <td>boundless</td>\n",
       "      <td>D</td>\n",
       "      <td>1573257624</td>\n",
       "      <td>2251740.0</td>\n",
       "      <td>bd6841eb13118ce2a0453e5802b91f7ec0c1e20e</td>\n",
       "      <td>3.72</td>\n",
       "      <td>F</td>\n",
       "      <td>(-238, -855)</td>\n",
       "      <td>NaN</td>\n",
       "      <td>hunger</td>\n",
       "      <td>80</td>\n",
       "      <td>NaN</td>\n",
       "      <td>NaN</td>\n",
       "    </tr>\n",
       "    <tr>\n",
       "      <th>2</th>\n",
       "      <td>5</td>\n",
       "      <td>bigserver2</td>\n",
       "      <td>282.0</td>\n",
       "      <td>boundless</td>\n",
       "      <td>D</td>\n",
       "      <td>1573257625</td>\n",
       "      <td>2251577.0</td>\n",
       "      <td>7e058600565826811059c93c9ce403d7b6c4533b</td>\n",
       "      <td>21.72</td>\n",
       "      <td>M</td>\n",
       "      <td>(-201, -903)</td>\n",
       "      <td>NaN</td>\n",
       "      <td>hunger</td>\n",
       "      <td>80</td>\n",
       "      <td>NaN</td>\n",
       "      <td>NaN</td>\n",
       "    </tr>\n",
       "    <tr>\n",
       "      <th>3</th>\n",
       "      <td>6</td>\n",
       "      <td>bigserver2</td>\n",
       "      <td>282.0</td>\n",
       "      <td>boundless</td>\n",
       "      <td>D</td>\n",
       "      <td>1573257626</td>\n",
       "      <td>2251776.0</td>\n",
       "      <td>40a960756347fa0a7c3d14791bd0379c6cc754cf</td>\n",
       "      <td>0.69</td>\n",
       "      <td>M</td>\n",
       "      <td>(-765, -581)</td>\n",
       "      <td>NaN</td>\n",
       "      <td>hunger</td>\n",
       "      <td>79</td>\n",
       "      <td>NaN</td>\n",
       "      <td>NaN</td>\n",
       "    </tr>\n",
       "    <tr>\n",
       "      <th>4</th>\n",
       "      <td>8</td>\n",
       "      <td>bigserver2</td>\n",
       "      <td>282.0</td>\n",
       "      <td>boundless</td>\n",
       "      <td>D</td>\n",
       "      <td>1573257632</td>\n",
       "      <td>2251722.0</td>\n",
       "      <td>ac7e03fde959b54812abf9798cc25cf55b3d6baa</td>\n",
       "      <td>5.90</td>\n",
       "      <td>M</td>\n",
       "      <td>(-323, -508)</td>\n",
       "      <td>NaN</td>\n",
       "      <td>hunger</td>\n",
       "      <td>77</td>\n",
       "      <td>NaN</td>\n",
       "      <td>NaN</td>\n",
       "    </tr>\n",
       "  </tbody>\n",
       "</table>\n",
       "</div>"
      ],
      "text/plain": [
       "   Unnamed: 0      server  release        era event   timestamp   playerID  \\\n",
       "0           1  bigserver2    282.0  boundless     D  1573257621  2251778.0   \n",
       "1           4  bigserver2    282.0  boundless     D  1573257624  2251740.0   \n",
       "2           5  bigserver2    282.0  boundless     D  1573257625  2251577.0   \n",
       "3           6  bigserver2    282.0  boundless     D  1573257626  2251776.0   \n",
       "4           8  bigserver2    282.0  boundless     D  1573257632  2251722.0   \n",
       "\n",
       "                                       hash    age sex      location parent  \\\n",
       "0  c17d2f3663837c82e4f7669a40aa6f618e89e57a   0.54   F  (-361, -410)    NaN   \n",
       "1  bd6841eb13118ce2a0453e5802b91f7ec0c1e20e   3.72   F  (-238, -855)    NaN   \n",
       "2  7e058600565826811059c93c9ce403d7b6c4533b  21.72   M  (-201, -903)    NaN   \n",
       "3  40a960756347fa0a7c3d14791bd0379c6cc754cf   0.69   M  (-765, -581)    NaN   \n",
       "4  ac7e03fde959b54812abf9798cc25cf55b3d6baa   5.90   M  (-323, -508)    NaN   \n",
       "\n",
       "  cause_of_death  pop  chain  killer  \n",
       "0         hunger   78    NaN     NaN  \n",
       "1         hunger   80    NaN     NaN  \n",
       "2         hunger   80    NaN     NaN  \n",
       "3         hunger   79    NaN     NaN  \n",
       "4         hunger   77    NaN     NaN  "
      ]
     },
     "execution_count": 98,
     "metadata": {},
     "output_type": "execute_result"
    }
   ],
   "source": [
    "\n",
    "death_data = lifelog_data[lifelog_data['event'] == 'D'].reset_index(drop=True)\n",
    "death_data.head()"
   ]
  },
  {
   "cell_type": "markdown",
   "metadata": {},
   "source": [
    "get unique player hash"
   ]
  },
  {
   "cell_type": "code",
   "execution_count": 99,
   "metadata": {},
   "outputs": [
    {
     "data": {
      "text/html": [
       "<div>\n",
       "<style scoped>\n",
       "    .dataframe tbody tr th:only-of-type {\n",
       "        vertical-align: middle;\n",
       "    }\n",
       "\n",
       "    .dataframe tbody tr th {\n",
       "        vertical-align: top;\n",
       "    }\n",
       "\n",
       "    .dataframe thead th {\n",
       "        text-align: right;\n",
       "    }\n",
       "</style>\n",
       "<table border=\"1\" class=\"dataframe\">\n",
       "  <thead>\n",
       "    <tr style=\"text-align: right;\">\n",
       "      <th></th>\n",
       "      <th>player</th>\n",
       "      <th>n_lives</th>\n",
       "    </tr>\n",
       "  </thead>\n",
       "  <tbody>\n",
       "    <tr>\n",
       "      <th>0</th>\n",
       "      <td>0002e5ea5ce7cfd761135d255a245a3344af4377</td>\n",
       "      <td>338</td>\n",
       "    </tr>\n",
       "    <tr>\n",
       "      <th>1</th>\n",
       "      <td>00047b60a01d908e2407b05a09b404c2f6cec6f6</td>\n",
       "      <td>4</td>\n",
       "    </tr>\n",
       "    <tr>\n",
       "      <th>2</th>\n",
       "      <td>0004f2a9005cf3562482fe408876808498e1fad5</td>\n",
       "      <td>11</td>\n",
       "    </tr>\n",
       "    <tr>\n",
       "      <th>3</th>\n",
       "      <td>000548ed7f04e2ddf81b4016d87d53ddbbd2e89f</td>\n",
       "      <td>45</td>\n",
       "    </tr>\n",
       "    <tr>\n",
       "      <th>4</th>\n",
       "      <td>0005eb266ff93d00bb6072d9c07f3a47d4864219</td>\n",
       "      <td>1</td>\n",
       "    </tr>\n",
       "  </tbody>\n",
       "</table>\n",
       "</div>"
      ],
      "text/plain": [
       "                                     player  n_lives\n",
       "0  0002e5ea5ce7cfd761135d255a245a3344af4377      338\n",
       "1  00047b60a01d908e2407b05a09b404c2f6cec6f6        4\n",
       "2  0004f2a9005cf3562482fe408876808498e1fad5       11\n",
       "3  000548ed7f04e2ddf81b4016d87d53ddbbd2e89f       45\n",
       "4  0005eb266ff93d00bb6072d9c07f3a47d4864219        1"
      ]
     },
     "execution_count": 99,
     "metadata": {},
     "output_type": "execute_result"
    }
   ],
   "source": [
    "big_hash = death_data.groupby('hash')['timestamp'].count().reset_index()\n",
    "big_hash = big_hash.rename(columns={\"hash\": \"player\", \"timestamp\": \"n_lives\"})\n",
    "big_hash.head()"
   ]
  },
  {
   "cell_type": "markdown",
   "metadata": {},
   "source": [
    "### create a new data frame that incorporates cumulative and total number of lives "
   ]
  },
  {
   "cell_type": "code",
   "execution_count": 100,
   "metadata": {
    "collapsed": true
   },
   "outputs": [],
   "source": [
    "death_data_new = death_data[['release','timestamp','hash','playerID','age','cause_of_death']].copy()\n",
    "death_data_new['n_lives'] = np.inf\n",
    "death_data_new['cumulative_game_time'] = np.inf"
   ]
  },
  {
   "cell_type": "code",
   "execution_count": 101,
   "metadata": {},
   "outputs": [
    {
     "data": {
      "text/html": [
       "<div>\n",
       "<style scoped>\n",
       "    .dataframe tbody tr th:only-of-type {\n",
       "        vertical-align: middle;\n",
       "    }\n",
       "\n",
       "    .dataframe tbody tr th {\n",
       "        vertical-align: top;\n",
       "    }\n",
       "\n",
       "    .dataframe thead th {\n",
       "        text-align: right;\n",
       "    }\n",
       "</style>\n",
       "<table border=\"1\" class=\"dataframe\">\n",
       "  <thead>\n",
       "    <tr style=\"text-align: right;\">\n",
       "      <th></th>\n",
       "      <th>release</th>\n",
       "      <th>timestamp</th>\n",
       "      <th>hash</th>\n",
       "      <th>playerID</th>\n",
       "      <th>age</th>\n",
       "      <th>cause_of_death</th>\n",
       "      <th>n_lives</th>\n",
       "      <th>cumulative_game_time</th>\n",
       "    </tr>\n",
       "  </thead>\n",
       "  <tbody>\n",
       "    <tr>\n",
       "      <th>0</th>\n",
       "      <td>282.0</td>\n",
       "      <td>1573257621</td>\n",
       "      <td>c17d2f3663837c82e4f7669a40aa6f618e89e57a</td>\n",
       "      <td>2251778.0</td>\n",
       "      <td>0.54</td>\n",
       "      <td>hunger</td>\n",
       "      <td>inf</td>\n",
       "      <td>inf</td>\n",
       "    </tr>\n",
       "    <tr>\n",
       "      <th>1</th>\n",
       "      <td>282.0</td>\n",
       "      <td>1573257624</td>\n",
       "      <td>bd6841eb13118ce2a0453e5802b91f7ec0c1e20e</td>\n",
       "      <td>2251740.0</td>\n",
       "      <td>3.72</td>\n",
       "      <td>hunger</td>\n",
       "      <td>inf</td>\n",
       "      <td>inf</td>\n",
       "    </tr>\n",
       "    <tr>\n",
       "      <th>2</th>\n",
       "      <td>282.0</td>\n",
       "      <td>1573257625</td>\n",
       "      <td>7e058600565826811059c93c9ce403d7b6c4533b</td>\n",
       "      <td>2251577.0</td>\n",
       "      <td>21.72</td>\n",
       "      <td>hunger</td>\n",
       "      <td>inf</td>\n",
       "      <td>inf</td>\n",
       "    </tr>\n",
       "    <tr>\n",
       "      <th>3</th>\n",
       "      <td>282.0</td>\n",
       "      <td>1573257626</td>\n",
       "      <td>40a960756347fa0a7c3d14791bd0379c6cc754cf</td>\n",
       "      <td>2251776.0</td>\n",
       "      <td>0.69</td>\n",
       "      <td>hunger</td>\n",
       "      <td>inf</td>\n",
       "      <td>inf</td>\n",
       "    </tr>\n",
       "    <tr>\n",
       "      <th>4</th>\n",
       "      <td>282.0</td>\n",
       "      <td>1573257632</td>\n",
       "      <td>ac7e03fde959b54812abf9798cc25cf55b3d6baa</td>\n",
       "      <td>2251722.0</td>\n",
       "      <td>5.90</td>\n",
       "      <td>hunger</td>\n",
       "      <td>inf</td>\n",
       "      <td>inf</td>\n",
       "    </tr>\n",
       "  </tbody>\n",
       "</table>\n",
       "</div>"
      ],
      "text/plain": [
       "   release   timestamp                                      hash   playerID  \\\n",
       "0    282.0  1573257621  c17d2f3663837c82e4f7669a40aa6f618e89e57a  2251778.0   \n",
       "1    282.0  1573257624  bd6841eb13118ce2a0453e5802b91f7ec0c1e20e  2251740.0   \n",
       "2    282.0  1573257625  7e058600565826811059c93c9ce403d7b6c4533b  2251577.0   \n",
       "3    282.0  1573257626  40a960756347fa0a7c3d14791bd0379c6cc754cf  2251776.0   \n",
       "4    282.0  1573257632  ac7e03fde959b54812abf9798cc25cf55b3d6baa  2251722.0   \n",
       "\n",
       "     age cause_of_death  n_lives  cumulative_game_time  \n",
       "0   0.54         hunger      inf                   inf  \n",
       "1   3.72         hunger      inf                   inf  \n",
       "2  21.72         hunger      inf                   inf  \n",
       "3   0.69         hunger      inf                   inf  \n",
       "4   5.90         hunger      inf                   inf  "
      ]
     },
     "execution_count": 101,
     "metadata": {},
     "output_type": "execute_result"
    }
   ],
   "source": [
    "death_data_new.head()"
   ]
  },
  {
   "cell_type": "code",
   "execution_count": null,
   "metadata": {
    "scrolled": true
   },
   "outputs": [
    {
     "data": {
      "application/vnd.jupyter.widget-view+json": {
       "model_id": "41919ef4cfa242f79ae80cbac208fb56",
       "version_major": 2,
       "version_minor": 0
      },
      "text/plain": [
       "A Jupyter Widget"
      ]
     },
     "metadata": {},
     "output_type": "display_data"
    },
    {
     "name": "stdout",
     "output_type": "stream",
     "text": [
      "\n"
     ]
    }
   ],
   "source": [
    "newdf = pd.DataFrame(columns = ['release','timestamp','hash','playerID','age','cause_of_death','n_lives','cumulative_game_time'])\n",
    "for i in tqdm(death_data.hash.unique()):\n",
    "    sub_data = death_data_new.query('hash == @i').copy().reset_index(drop = True)\n",
    "    sub_data['cumulative_game_time'] = sub_data.index +1\n",
    "    sub_data['n_lives'] = big_hash.query('player == @i')['n_lives'].tolist()[0]\n",
    "    newdf = newdf.append(sub_data, sort = False)\n",
    "      "
   ]
  },
  {
   "cell_type": "code",
   "execution_count": 103,
   "metadata": {},
   "outputs": [],
   "source": [
    "newdf = newdf.sort_values(by = ['release','timestamp']).reset_index(drop = True)"
   ]
  },
  {
   "cell_type": "markdown",
   "metadata": {},
   "source": [
    "export data"
   ]
  },
  {
   "cell_type": "code",
   "execution_count": 104,
   "metadata": {},
   "outputs": [],
   "source": [
    "newdf.to_csv('../data/outputs/expertise_boundless_data.csv',index=False)"
   ]
  },
  {
   "cell_type": "code",
   "execution_count": null,
   "metadata": {
    "collapsed": true
   },
   "outputs": [],
   "source": []
  }
 ],
 "metadata": {
  "kernelspec": {
   "display_name": "Python 3",
   "language": "python",
   "name": "python3"
  },
  "language_info": {
   "codemirror_mode": {
    "name": "ipython",
    "version": 3
   },
   "file_extension": ".py",
   "mimetype": "text/x-python",
   "name": "python",
   "nbconvert_exporter": "python",
   "pygments_lexer": "ipython3",
   "version": "3.7.6"
  }
 },
 "nbformat": 4,
 "nbformat_minor": 2
}
