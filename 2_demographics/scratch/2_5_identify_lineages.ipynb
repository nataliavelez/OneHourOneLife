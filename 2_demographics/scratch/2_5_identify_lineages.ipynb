{
 "cells": [
  {
   "cell_type": "code",
   "execution_count": 56,
   "metadata": {},
   "outputs": [
    {
     "name": "stdout",
     "output_type": "stream",
     "text": [
      "Loading inputs:\n"
     ]
    },
    {
     "name": "stderr",
     "output_type": "stream",
     "text": [
      "  0%|          | 5/59879 [00:00<38:45, 25.75it/s]"
     ]
    },
    {
     "name": "stdout",
     "output_type": "stream",
     "text": [
      "59879 eves detected\n"
     ]
    },
    {
     "name": "stderr",
     "output_type": "stream",
     "text": [
      "  0%|          | 10/59879 [00:00<54:49, 18.20it/s]"
     ]
    },
    {
     "name": "stdout",
     "output_type": "stream",
     "text": [
      "Saving avatar-family pairs:\n"
     ]
    },
    {
     "name": "stderr",
     "output_type": "stream",
     "text": [
      "\n"
     ]
    }
   ],
   "source": [
    "## Identify lineages\n",
    "# Natalia Velez, September 2015\n",
    "# This script identifies family lineages and saves each family to a graph\n",
    "\n",
    "import pandas as pd\n",
    "import numpy as np\n",
    "import networkx as nx\n",
    "import json, tqdm\n",
    "\n",
    "## Load inputs\n",
    "print('Loading inputs:')\n",
    "parent_df = pd.read_csv('outputs/lineage_input_parents.csv')\n",
    "eves = pd.read_csv('outputs/lineage_input_eves.csv')\n",
    "n_eves = eves.shape[0]\n",
    "print('%i eves detected' % n_eves)\n",
    "\n",
    "## Helper functions\n",
    "def search_fam(player):\n",
    "    descendants = parent_df.loc[parent_df['parent'] == player, 'avatar'].values\n",
    "    \n",
    "    for d in descendants:\n",
    "        descendants = np.append(descendants, search_fam(d))\n",
    "        \n",
    "    return descendants\n",
    "\n",
    "def write_json(data, f):\n",
    "    with open(f, 'w') as outfile:\n",
    "        json.dump(data, outfile)\n",
    "    \n",
    "for _, family in tqdm.tqdm(eves.iterrows(), total=n_eves):\n",
    "\n",
    "    eve = family['avatar']\n",
    "    fam_name = family['last']\n",
    "    fam_start = family['tBirth']\n",
    "\n",
    "    fam_nodes = list(search_fam(eve))\n",
    "    fam_df = parent_df[parent_df['avatar'].isin(fam_nodes)]\n",
    "    fam = nx.from_pandas_edgelist(fam_df, 'parent', 'avatar', None, nx.DiGraph())    \n",
    "    fam.add_node(str(eve))\n",
    "\n",
    "    all_members = fam_nodes + [eve]\n",
    "\n",
    "    if not len(fam_name):\n",
    "        fam_name = 'nameless'\n",
    "\n",
    "    fam_id = 'time-%i_eve-%i_name-%s' % (fam_start, eve, fam_name)\n",
    "\n",
    "    # Add family to list\n",
    "    families_list.extend([(relative, fam_id) for relative in all_members])\n",
    "\n",
    "    # Save family data\n",
    "    out_file = 'outputs/families/families_%s.json' % fam_id\n",
    "    fam_data = nx.json_graph.node_link_data(fam)\n",
    "    write_json(fam_data, out_file)\n",
    "\n",
    "# Save avatar-family pairs\n",
    "print('Saving avatar-family pairs:')\n",
    "families_df = pd.DataFrame(families_list, columns=['avatar', 'family'])\n",
    "families_df.to_csv('outputs/family_playerID.tsv', sep='\\t')"
   ]
  }
 ],
 "metadata": {
  "kernelspec": {
   "display_name": "Python [conda env:.conda-py3]",
   "language": "python",
   "name": "conda-env-.conda-py3-py"
  },
  "language_info": {
   "codemirror_mode": {
    "name": "ipython",
    "version": 3
   },
   "file_extension": ".py",
   "mimetype": "text/x-python",
   "name": "python",
   "nbconvert_exporter": "python",
   "pygments_lexer": "ipython3",
   "version": "3.6.10"
  }
 },
 "nbformat": 4,
 "nbformat_minor": 2
}
