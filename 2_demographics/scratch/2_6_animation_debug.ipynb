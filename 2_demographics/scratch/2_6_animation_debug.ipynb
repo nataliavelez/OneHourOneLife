{
 "cells": [
  {
   "cell_type": "markdown",
   "metadata": {},
   "source": [
    "# Follow-up: Animated population plots\n",
    "Natalia Vélez, June 2020\n",
    "\n",
    "The goal of this notebook is to give a birds-eye view of the growth of communities by plotting births and deaths over time."
   ]
  },
  {
   "cell_type": "code",
   "execution_count": 56,
   "metadata": {},
   "outputs": [],
   "source": [
    "%matplotlib inline\n",
    "\n",
    "import pandas as pd\n",
    "import numpy as np\n",
    "import seaborn as sns\n",
    "\n",
    "import matplotlib.pyplot as plt\n",
    "import matplotlib.animation as animation\n",
    "import matplotlib.patches as patches\n",
    "\n",
    "sns.set_context('paper')"
   ]
  },
  {
   "cell_type": "markdown",
   "metadata": {},
   "source": [
    "Load data:"
   ]
  },
  {
   "cell_type": "code",
   "execution_count": 57,
   "metadata": {},
   "outputs": [
    {
     "data": {
      "text/html": [
       "<div>\n",
       "<style scoped>\n",
       "    .dataframe tbody tr th:only-of-type {\n",
       "        vertical-align: middle;\n",
       "    }\n",
       "\n",
       "    .dataframe tbody tr th {\n",
       "        vertical-align: top;\n",
       "    }\n",
       "\n",
       "    .dataframe thead th {\n",
       "        text-align: right;\n",
       "    }\n",
       "</style>\n",
       "<table border=\"1\" class=\"dataframe\">\n",
       "  <thead>\n",
       "    <tr style=\"text-align: right;\">\n",
       "      <th></th>\n",
       "      <th>release</th>\n",
       "      <th>uniqueID</th>\n",
       "      <th>timestamp</th>\n",
       "      <th>birth</th>\n",
       "      <th>death</th>\n",
       "      <th>age</th>\n",
       "      <th>cause_of_death</th>\n",
       "      <th>birthX</th>\n",
       "      <th>birthY</th>\n",
       "      <th>deathX</th>\n",
       "      <th>deathY</th>\n",
       "      <th>distance</th>\n",
       "    </tr>\n",
       "  </thead>\n",
       "  <tbody>\n",
       "    <tr>\n",
       "      <th>0</th>\n",
       "      <td>251</td>\n",
       "      <td>1842398_bigserver2_251</td>\n",
       "      <td>1564444832</td>\n",
       "      <td>[-325  209]</td>\n",
       "      <td>[-334  219]</td>\n",
       "      <td>5.75</td>\n",
       "      <td>hunger</td>\n",
       "      <td>-325</td>\n",
       "      <td>209</td>\n",
       "      <td>-334</td>\n",
       "      <td>219</td>\n",
       "      <td>13.453624</td>\n",
       "    </tr>\n",
       "    <tr>\n",
       "      <th>1</th>\n",
       "      <td>251</td>\n",
       "      <td>1842399_bigserver2_251</td>\n",
       "      <td>1564444836</td>\n",
       "      <td>[  67 -266]</td>\n",
       "      <td>[  44 -292]</td>\n",
       "      <td>0.53</td>\n",
       "      <td>hunger</td>\n",
       "      <td>67</td>\n",
       "      <td>-266</td>\n",
       "      <td>44</td>\n",
       "      <td>-292</td>\n",
       "      <td>34.713110</td>\n",
       "    </tr>\n",
       "    <tr>\n",
       "      <th>2</th>\n",
       "      <td>251</td>\n",
       "      <td>1842400_bigserver2_251</td>\n",
       "      <td>1564444863</td>\n",
       "      <td>[ 16 -57]</td>\n",
       "      <td>[ 16 -57]</td>\n",
       "      <td>0.09</td>\n",
       "      <td>disconnect</td>\n",
       "      <td>16</td>\n",
       "      <td>-57</td>\n",
       "      <td>16</td>\n",
       "      <td>-57</td>\n",
       "      <td>0.000000</td>\n",
       "    </tr>\n",
       "    <tr>\n",
       "      <th>3</th>\n",
       "      <td>251</td>\n",
       "      <td>1842401_bigserver2_251</td>\n",
       "      <td>1564444864</td>\n",
       "      <td>[146  49]</td>\n",
       "      <td>[156 103]</td>\n",
       "      <td>0.48</td>\n",
       "      <td>hunger</td>\n",
       "      <td>146</td>\n",
       "      <td>49</td>\n",
       "      <td>156</td>\n",
       "      <td>103</td>\n",
       "      <td>54.918121</td>\n",
       "    </tr>\n",
       "    <tr>\n",
       "      <th>4</th>\n",
       "      <td>251</td>\n",
       "      <td>1842402_bigserver2_251</td>\n",
       "      <td>1564444866</td>\n",
       "      <td>[68 64]</td>\n",
       "      <td>[68 64]</td>\n",
       "      <td>0.54</td>\n",
       "      <td>hunger</td>\n",
       "      <td>68</td>\n",
       "      <td>64</td>\n",
       "      <td>68</td>\n",
       "      <td>64</td>\n",
       "      <td>0.000000</td>\n",
       "    </tr>\n",
       "  </tbody>\n",
       "</table>\n",
       "</div>"
      ],
      "text/plain": [
       "   release                uniqueID   timestamp        birth        death  \\\n",
       "0      251  1842398_bigserver2_251  1564444832  [-325  209]  [-334  219]   \n",
       "1      251  1842399_bigserver2_251  1564444836  [  67 -266]  [  44 -292]   \n",
       "2      251  1842400_bigserver2_251  1564444863    [ 16 -57]    [ 16 -57]   \n",
       "3      251  1842401_bigserver2_251  1564444864    [146  49]    [156 103]   \n",
       "4      251  1842402_bigserver2_251  1564444866      [68 64]      [68 64]   \n",
       "\n",
       "    age cause_of_death  birthX  birthY  deathX  deathY   distance  \n",
       "0  5.75         hunger    -325     209    -334     219  13.453624  \n",
       "1  0.53         hunger      67    -266      44    -292  34.713110  \n",
       "2  0.09     disconnect      16     -57      16     -57   0.000000  \n",
       "3  0.48         hunger     146      49     156     103  54.918121  \n",
       "4  0.54         hunger      68      64      68      64   0.000000  "
      ]
     },
     "execution_count": 57,
     "metadata": {},
     "output_type": "execute_result"
    }
   ],
   "source": [
    "migration_data = pd.read_csv('outputs/migration_201907.tsv', sep='\\t', index_col = None)\n",
    "migration_data.head()"
   ]
  },
  {
   "cell_type": "markdown",
   "metadata": {},
   "source": [
    "# \"Popcorn\" plot"
   ]
  },
  {
   "cell_type": "markdown",
   "metadata": {},
   "source": [
    "### Select a subset of the data"
   ]
  },
  {
   "cell_type": "markdown",
   "metadata": {},
   "source": [
    "Units of analysis: Plot data separately by release"
   ]
  },
  {
   "cell_type": "code",
   "execution_count": 58,
   "metadata": {},
   "outputs": [
    {
     "name": "stdout",
     "output_type": "stream",
     "text": [
      "Releases: [251 256 260 262 266 268 270 272 276 278 280 283 286 288 290 292 294 296\n",
      " 297 298 300]\n"
     ]
    },
    {
     "data": {
      "text/plain": [
       "release\n",
       "251     20533\n",
       "256    118383\n",
       "260     55892\n",
       "262     56366\n",
       "266     20498\n",
       "268     28298\n",
       "270     23578\n",
       "272     19836\n",
       "276     19501\n",
       "278     24271\n",
       "280     23117\n",
       "283     11119\n",
       "286     29674\n",
       "288     13668\n",
       "290     38186\n",
       "292     27153\n",
       "294      3151\n",
       "296     17745\n",
       "297      8523\n",
       "298     71512\n",
       "300     30374\n",
       "Name: uniqueID, dtype: int64"
      ]
     },
     "execution_count": 58,
     "metadata": {},
     "output_type": "execute_result"
    }
   ],
   "source": [
    "releases = np.unique(migration_data['release'])\n",
    "print('Releases: %s' % releases)\n",
    "\n",
    "migration_data.groupby('release')['uniqueID'].count()"
   ]
  },
  {
   "cell_type": "markdown",
   "metadata": {},
   "source": [
    "Choose a release to test out this visualization, and subset the data:"
   ]
  },
  {
   "cell_type": "code",
   "execution_count": 59,
   "metadata": {},
   "outputs": [],
   "source": [
    "r = 300\n",
    "\n",
    "migration_sub = migration_data[migration_data['release'] == r].reset_index(drop=True)\n",
    "migration_sub = migration_sub.sort_values(by='timestamp')"
   ]
  },
  {
   "cell_type": "markdown",
   "metadata": {},
   "source": [
    "### Prepare data for plotting"
   ]
  },
  {
   "cell_type": "markdown",
   "metadata": {},
   "source": [
    "Mark start and end times for each point:"
   ]
  },
  {
   "cell_type": "code",
   "execution_count": 60,
   "metadata": {},
   "outputs": [
    {
     "data": {
      "text/html": [
       "<div>\n",
       "<style scoped>\n",
       "    .dataframe tbody tr th:only-of-type {\n",
       "        vertical-align: middle;\n",
       "    }\n",
       "\n",
       "    .dataframe tbody tr th {\n",
       "        vertical-align: top;\n",
       "    }\n",
       "\n",
       "    .dataframe thead th {\n",
       "        text-align: right;\n",
       "    }\n",
       "</style>\n",
       "<table border=\"1\" class=\"dataframe\">\n",
       "  <thead>\n",
       "    <tr style=\"text-align: right;\">\n",
       "      <th></th>\n",
       "      <th>release</th>\n",
       "      <th>uniqueID</th>\n",
       "      <th>timestamp</th>\n",
       "      <th>birth</th>\n",
       "      <th>death</th>\n",
       "      <th>age</th>\n",
       "      <th>cause_of_death</th>\n",
       "      <th>birthX</th>\n",
       "      <th>birthY</th>\n",
       "      <th>deathX</th>\n",
       "      <th>deathY</th>\n",
       "      <th>distance</th>\n",
       "      <th>t_start</th>\n",
       "      <th>t_end</th>\n",
       "    </tr>\n",
       "  </thead>\n",
       "  <tbody>\n",
       "    <tr>\n",
       "      <th>0</th>\n",
       "      <td>300</td>\n",
       "      <td>2513163_bigserver2_300</td>\n",
       "      <td>1578009616</td>\n",
       "      <td>[-61761   -200]</td>\n",
       "      <td>[-61761   -200]</td>\n",
       "      <td>0.06</td>\n",
       "      <td>disconnect</td>\n",
       "      <td>-61761</td>\n",
       "      <td>-200</td>\n",
       "      <td>-61761</td>\n",
       "      <td>-200</td>\n",
       "      <td>0.000000</td>\n",
       "      <td>0</td>\n",
       "      <td>3</td>\n",
       "    </tr>\n",
       "    <tr>\n",
       "      <th>1</th>\n",
       "      <td>300</td>\n",
       "      <td>2513164_bigserver2_300</td>\n",
       "      <td>1578009624</td>\n",
       "      <td>[-81532 -20077]</td>\n",
       "      <td>[-81534 -20074]</td>\n",
       "      <td>15.22</td>\n",
       "      <td>hunger</td>\n",
       "      <td>-81532</td>\n",
       "      <td>-20077</td>\n",
       "      <td>-81534</td>\n",
       "      <td>-20074</td>\n",
       "      <td>3.605551</td>\n",
       "      <td>8</td>\n",
       "      <td>921</td>\n",
       "    </tr>\n",
       "    <tr>\n",
       "      <th>2</th>\n",
       "      <td>300</td>\n",
       "      <td>2513165_bigserver2_300</td>\n",
       "      <td>1578009625</td>\n",
       "      <td>[-60314   -462]</td>\n",
       "      <td>[-60314   -462]</td>\n",
       "      <td>0.03</td>\n",
       "      <td>disconnect</td>\n",
       "      <td>-60314</td>\n",
       "      <td>-462</td>\n",
       "      <td>-60314</td>\n",
       "      <td>-462</td>\n",
       "      <td>0.000000</td>\n",
       "      <td>9</td>\n",
       "      <td>10</td>\n",
       "    </tr>\n",
       "    <tr>\n",
       "      <th>3</th>\n",
       "      <td>300</td>\n",
       "      <td>2513166_bigserver2_300</td>\n",
       "      <td>1578009626</td>\n",
       "      <td>[-81548 -20044]</td>\n",
       "      <td>[-81534 -20068]</td>\n",
       "      <td>15.33</td>\n",
       "      <td>hunger</td>\n",
       "      <td>-81548</td>\n",
       "      <td>-20044</td>\n",
       "      <td>-81534</td>\n",
       "      <td>-20068</td>\n",
       "      <td>27.784888</td>\n",
       "      <td>10</td>\n",
       "      <td>929</td>\n",
       "    </tr>\n",
       "    <tr>\n",
       "      <th>4</th>\n",
       "      <td>300</td>\n",
       "      <td>2513167_bigserver2_300</td>\n",
       "      <td>1578009636</td>\n",
       "      <td>[-57759   -314]</td>\n",
       "      <td>[-57759   -314]</td>\n",
       "      <td>0.11</td>\n",
       "      <td>disconnect</td>\n",
       "      <td>-57759</td>\n",
       "      <td>-314</td>\n",
       "      <td>-57759</td>\n",
       "      <td>-314</td>\n",
       "      <td>0.000000</td>\n",
       "      <td>20</td>\n",
       "      <td>26</td>\n",
       "    </tr>\n",
       "  </tbody>\n",
       "</table>\n",
       "</div>"
      ],
      "text/plain": [
       "   release                uniqueID   timestamp            birth  \\\n",
       "0      300  2513163_bigserver2_300  1578009616  [-61761   -200]   \n",
       "1      300  2513164_bigserver2_300  1578009624  [-81532 -20077]   \n",
       "2      300  2513165_bigserver2_300  1578009625  [-60314   -462]   \n",
       "3      300  2513166_bigserver2_300  1578009626  [-81548 -20044]   \n",
       "4      300  2513167_bigserver2_300  1578009636  [-57759   -314]   \n",
       "\n",
       "             death    age cause_of_death  birthX  birthY  deathX  deathY  \\\n",
       "0  [-61761   -200]   0.06     disconnect  -61761    -200  -61761    -200   \n",
       "1  [-81534 -20074]  15.22         hunger  -81532  -20077  -81534  -20074   \n",
       "2  [-60314   -462]   0.03     disconnect  -60314    -462  -60314    -462   \n",
       "3  [-81534 -20068]  15.33         hunger  -81548  -20044  -81534  -20068   \n",
       "4  [-57759   -314]   0.11     disconnect  -57759    -314  -57759    -314   \n",
       "\n",
       "    distance  t_start  t_end  \n",
       "0   0.000000        0      3  \n",
       "1   3.605551        8    921  \n",
       "2   0.000000        9     10  \n",
       "3  27.784888       10    929  \n",
       "4   0.000000       20     26  "
      ]
     },
     "execution_count": 60,
     "metadata": {},
     "output_type": "execute_result"
    }
   ],
   "source": [
    "migration_sub = migration_data[migration_data['release'] == r].reset_index(drop=True)\n",
    "migration_sub = migration_sub.sort_values(by='timestamp')\n",
    "\n",
    "# Calculate start and end times\n",
    "migration_sub['t_start'] = migration_sub['timestamp'] - migration_sub['timestamp'][0]\n",
    "migration_sub['t_end'] = migration_sub['t_start'] + migration_sub['age']*60\n",
    "\n",
    "# Convert to integer\n",
    "migration_sub['t_start'] = migration_sub['t_start'].astype(np.int)\n",
    "migration_sub['t_end'] = migration_sub['t_end'].astype(np.int)\n",
    "migration_sub.head()"
   ]
  },
  {
   "cell_type": "markdown",
   "metadata": {},
   "source": [
    "How long is the period studied?\n",
    "\n",
    "In seconds:"
   ]
  },
  {
   "cell_type": "code",
   "execution_count": 61,
   "metadata": {},
   "outputs": [
    {
     "name": "stdout",
     "output_type": "stream",
     "text": [
      "t_start    518335\n",
      "t_end      518566\n",
      "dtype: int64\n"
     ]
    }
   ],
   "source": [
    "t_in_secs = migration_sub[['t_start',  't_end']].max()\n",
    "total_t = t_in_secs['t_end']\n",
    "print(t_in_secs)"
   ]
  },
  {
   "cell_type": "markdown",
   "metadata": {},
   "source": [
    "In days:"
   ]
  },
  {
   "cell_type": "code",
   "execution_count": 62,
   "metadata": {},
   "outputs": [
    {
     "name": "stdout",
     "output_type": "stream",
     "text": [
      "t_start    5.999248\n",
      "t_end      6.001921\n",
      "dtype: float64\n"
     ]
    }
   ],
   "source": [
    "t_in_days = t_in_secs/60/60/24\n",
    "print(t_in_days)"
   ]
  },
  {
   "cell_type": "markdown",
   "metadata": {},
   "source": [
    "### Choose spatial and temporal window to plot"
   ]
  },
  {
   "cell_type": "markdown",
   "metadata": {},
   "source": [
    "**Spatial:** Get range of x- and y-values. We want to keep the bounds of the plot consistent through the animation."
   ]
  },
  {
   "cell_type": "code",
   "execution_count": 63,
   "metadata": {},
   "outputs": [
    {
     "name": "stdout",
     "output_type": "stream",
     "text": [
      "(-84031, 5073)\n",
      "(-21849, 50712)\n"
     ]
    }
   ],
   "source": [
    "xs = migration_sub.birthX.values\n",
    "x_bounds = (np.min(xs)-1000, np.max(xs)+1000)\n",
    "\n",
    "ys = migration_sub.birthY.values\n",
    "y_bounds = (np.min(ys)-1000, np.max(ys)+1000)\n",
    "\n",
    "print(x_bounds)\n",
    "print(y_bounds)"
   ]
  },
  {
   "cell_type": "markdown",
   "metadata": {},
   "source": [
    "**Temporal:** Set intervals for animation. All told, we want the animation to last 30 seconds."
   ]
  },
  {
   "cell_type": "code",
   "execution_count": 64,
   "metadata": {},
   "outputs": [
    {
     "name": "stdout",
     "output_type": "stream",
     "text": [
      "Generating 3000 frames\n",
      "Each frame spans 2.88 minutes\n",
      "[0.00000000e+00 1.72912971e+02 3.45825942e+02 ... 5.18220174e+05\n",
      " 5.18393087e+05 5.18566000e+05]\n"
     ]
    }
   ],
   "source": [
    "fps = 30\n",
    "total_time_msec = 30*1000\n",
    "interval = 10\n",
    "n_frames = int(total_time_msec/interval)\n",
    "span_per_frame = total_t/n_frames/60\n",
    "\n",
    "t_frames = np.linspace(0, total_t, n_frames)\n",
    "\n",
    "print('Generating %i frames' % n_frames)\n",
    "print('Each frame spans %0.2f minutes' % span_per_frame)\n",
    "print(t_frames)"
   ]
  },
  {
   "cell_type": "markdown",
   "metadata": {},
   "source": [
    "### Generate plot"
   ]
  },
  {
   "cell_type": "markdown",
   "metadata": {},
   "source": [
    "Each dot shows the location where a player was born; the dot appears when the player was born and disappears when the player days. Moving forward, we can build on this visualization by:\n",
    "\n",
    "* Tracing where each player died\n",
    "* Color-coding players by lineage/spatial cluster\n",
    "\n",
    "...But that's too many moving parts for now!"
   ]
  },
  {
   "cell_type": "markdown",
   "metadata": {},
   "source": [
    "Static plot:"
   ]
  },
  {
   "cell_type": "code",
   "execution_count": 71,
   "metadata": {},
   "outputs": [
    {
     "data": {
      "image/png": "[encoded data removed]",
      "text/plain": [
       "<Figure size 576x576 with 1 Axes>"
      ]
     },
     "metadata": {
      "needs_background": "light"
     },
     "output_type": "display_data"
    }
   ],
   "source": [
    "x = migration_sub['birthX']\n",
    "y = migration_sub['birthY']\n",
    "\n",
    "fig, ax = plt.subplots(figsize=(8,8))\n",
    "plt.xlim(*x_bounds)\n",
    "plt.ylim(*y_bounds)\n",
    "\n",
    "# Draw rectangle around central cluster\n",
    "center_bottom = (-65000, -2500)\n",
    "center_w = 12500\n",
    "center_h = 34000\n",
    "\n",
    "center_xlim = (center_bottom[0], center_bottom[0]+center_w)\n",
    "center_ylim = (center_bottom[1], center_bottom[1]+center_h)\n",
    "\n",
    "rect = plt.Rectangle(center_bottom, center_w, center_h, fill = False)\n",
    "ax.add_patch(rect)\n",
    "\n",
    "# Plot data\n",
    "graph, = plt.plot(x, y, 'o') # debug: static plot\n",
    "\n"
   ]
  },
  {
   "cell_type": "markdown",
   "metadata": {},
   "source": [
    "Animated plot:"
   ]
  },
  {
   "cell_type": "code",
   "execution_count": 72,
   "metadata": {},
   "outputs": [
    {
     "name": "stdout",
     "output_type": "stream",
     "text": [
      "Saving animation to: plots/animated_population_release-300.mpeg\n"
     ]
    },
    {
     "data": {
      "image/png": "[encoded data removed]",
      "text/plain": [
       "<Figure size 576x576 with 1 Axes>"
      ]
     },
     "metadata": {
      "needs_background": "light"
     },
     "output_type": "display_data"
    }
   ],
   "source": [
    "x = migration_sub['birthX']\n",
    "y = migration_sub['birthY']\n",
    "\n",
    "fig, ax = plt.subplots(figsize=(8,8))\n",
    "plt.xlim(*x_bounds)\n",
    "plt.ylim(*y_bounds)\n",
    "\n",
    "# Draw rectangle around central cluster\n",
    "center_xlim = (center_bottom[0], center_bottom[0]+center_w)\n",
    "center_ylim = (center_bottom[1], center_bottom[1]+center_h)\n",
    "\n",
    "rect = plt.Rectangle(center_bottom, center_w, center_h, fill = False)\n",
    "ax.add_patch(rect)\n",
    "\n",
    "graph, = plt.plot([], [], 'o', alpha = 0.25)\n",
    "\n",
    "def animate(t):\n",
    "    \n",
    "    include = (migration_sub['t_start'] <= t) & (migration_sub['t_end'] > t)\n",
    "    graph.set_data(x[include], y[include])\n",
    "    return graph\n",
    "\n",
    "ani = animation.FuncAnimation(fig, animate, frames=t_frames, interval=interval)\n",
    "\n",
    "# Save animation to video\n",
    "out_file = 'plots/animated_population_release-%i.mpeg' % r\n",
    "print('Saving animation to: %s' % out_file)\n",
    "\n",
    "ani.save(out_file)"
   ]
  },
  {
   "cell_type": "markdown",
   "metadata": {},
   "source": [
    "Plot central cluster only:"
   ]
  },
  {
   "cell_type": "code",
   "execution_count": 73,
   "metadata": {},
   "outputs": [
    {
     "name": "stdout",
     "output_type": "stream",
     "text": [
      "Saving animation to: plots/animated_population_release-300_center.mpeg\n"
     ]
    },
    {
     "data": {
      "image/png": "[encoded data removed]",
      "text/plain": [
       "<Figure size 576x576 with 1 Axes>"
      ]
     },
     "metadata": {
      "needs_background": "light"
     },
     "output_type": "display_data"
    }
   ],
   "source": [
    "fig = plt.figure(figsize=(8, 8))\n",
    "plt.xlim(center_xlim)\n",
    "plt.ylim(center_ylim)\n",
    "graph, = plt.plot([], [], 'o', alpha = 0.5)\n",
    "\n",
    "def animate(t):\n",
    "    \n",
    "    include = (migration_sub['t_start'] <= t) & (migration_sub['t_end'] > t)\n",
    "    graph.set_data(x[include], y[include])\n",
    "    return graph\n",
    "\n",
    "ani = animation.FuncAnimation(fig, animate, frames=t_frames, interval=interval)\n",
    "\n",
    "# Save animation to video\n",
    "out_file = 'plots/animated_population_release-%i_center.mpeg' % r\n",
    "print('Saving animation to: %s' % out_file)\n",
    "\n",
    "ani.save(out_file)"
   ]
  },
  {
   "cell_type": "code",
   "execution_count": null,
   "metadata": {},
   "outputs": [],
   "source": []
  }
 ],
 "metadata": {
  "kernelspec": {
   "display_name": "Python 3",
   "language": "python",
   "name": "python3"
  },
  "language_info": {
   "codemirror_mode": {
    "name": "ipython",
    "version": 3
   },
   "file_extension": ".py",
   "mimetype": "text/x-python",
   "name": "python",
   "nbconvert_exporter": "python",
   "pygments_lexer": "ipython3",
   "version": "3.7.6"
  }
 },
 "nbformat": 4,
 "nbformat_minor": 4
}
