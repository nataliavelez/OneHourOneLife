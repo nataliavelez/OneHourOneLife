{
 "cells": [
  {
   "cell_type": "markdown",
   "metadata": {},
   "source": [
    "# Upload demographic data to database\n",
    "Natalia Vélez, April 2021"
   ]
  },
  {
   "cell_type": "code",
   "execution_count": 1,
   "metadata": {},
   "outputs": [],
   "source": [
    "import pandas as pd\n",
    "import pymongo"
   ]
  },
  {
   "cell_type": "markdown",
   "metadata": {},
   "source": [
    "Connect to database:"
   ]
  },
  {
   "cell_type": "code",
   "execution_count": 2,
   "metadata": {},
   "outputs": [
    {
     "name": "stdout",
     "output_type": "stream",
     "text": [
      "Database(MongoClient(host=['134.76.24.75:27017'], document_class=dict, tz_aware=False, connect=True, authsource='ohol'), u'ohol')\n",
      "[u'maplogs', u'tech_tree', u'objects', u'expanded_transitions', u'transitions', u'activity_matrix.files', u'activity_matrix.chunks', u'activity_labels', u'categories']\n"
     ]
    }
   ],
   "source": [
    "# Connect:\n",
    "keyfile = '../6_database/credentials.key'\n",
    "creds = open(keyfile, \"r\").read().splitlines()\n",
    "myclient = pymongo.MongoClient('134.76.24.75', username=creds[0], password=creds[1], authSource='ohol') \n",
    "db = myclient.ohol\n",
    "\n",
    "print(db)\n",
    "print(db.list_collection_names())"
   ]
  },
  {
   "cell_type": "markdown",
   "metadata": {},
   "source": [
    "Load lifelogs:"
   ]
  },
  {
   "cell_type": "code",
   "execution_count": 3,
   "metadata": {},
   "outputs": [
    {
     "name": "stderr",
     "output_type": "stream",
     "text": [
      "/n/home15/nvelezalicea/.conda/envs/ohol/lib/python2.7/site-packages/numpy/lib/arraysetops.py:569: FutureWarning: elementwise comparison failed; returning scalar instead, but in the future will perform elementwise comparison\n",
      "  mask |= (ar1 == a)\n"
     ]
    },
    {
     "data": {
      "text/html": [
       "<div>\n",
       "<style scoped>\n",
       "    .dataframe tbody tr th:only-of-type {\n",
       "        vertical-align: middle;\n",
       "    }\n",
       "\n",
       "    .dataframe tbody tr th {\n",
       "        vertical-align: top;\n",
       "    }\n",
       "\n",
       "    .dataframe thead th {\n",
       "        text-align: right;\n",
       "    }\n",
       "</style>\n",
       "<table border=\"1\" class=\"dataframe\">\n",
       "  <thead>\n",
       "    <tr style=\"text-align: right;\">\n",
       "      <th></th>\n",
       "      <th>player</th>\n",
       "      <th>avatar</th>\n",
       "      <th>tBirth</th>\n",
       "      <th>parent</th>\n",
       "      <th>birth</th>\n",
       "      <th>tDeath</th>\n",
       "      <th>death</th>\n",
       "      <th>age</th>\n",
       "      <th>cause_of_death</th>\n",
       "      <th>birthX</th>\n",
       "      <th>birthY</th>\n",
       "      <th>deathX</th>\n",
       "      <th>deathY</th>\n",
       "      <th>first</th>\n",
       "      <th>last</th>\n",
       "    </tr>\n",
       "  </thead>\n",
       "  <tbody>\n",
       "    <tr>\n",
       "      <th>0</th>\n",
       "      <td>5ab4f808b01db8bab564fa726ca7dd0439205d4a</td>\n",
       "      <td>4108849</td>\n",
       "      <td>1617678319</td>\n",
       "      <td>4108781</td>\n",
       "      <td>[-13743    -77]</td>\n",
       "      <td>1.617679e+09</td>\n",
       "      <td>[-13797   -104]</td>\n",
       "      <td>3.59</td>\n",
       "      <td>hunger</td>\n",
       "      <td>-13743</td>\n",
       "      <td>-77</td>\n",
       "      <td>-13797.0</td>\n",
       "      <td>-104.0</td>\n",
       "      <td>TED</td>\n",
       "      <td>GFELL</td>\n",
       "    </tr>\n",
       "    <tr>\n",
       "      <th>1</th>\n",
       "      <td>5ab4f808b01db8bab564fa726ca7dd0439205d4a</td>\n",
       "      <td>4108848</td>\n",
       "      <td>1617678300</td>\n",
       "      <td>4108786</td>\n",
       "      <td>[-15498    362]</td>\n",
       "      <td>1.617678e+09</td>\n",
       "      <td>[-15498    362]</td>\n",
       "      <td>0.22</td>\n",
       "      <td>disconnect</td>\n",
       "      <td>-15498</td>\n",
       "      <td>362</td>\n",
       "      <td>-15498.0</td>\n",
       "      <td>362.0</td>\n",
       "      <td>HERA</td>\n",
       "      <td>POLLY</td>\n",
       "    </tr>\n",
       "    <tr>\n",
       "      <th>2</th>\n",
       "      <td>dadea1a71832326c598df59059cf42102e979707</td>\n",
       "      <td>4108842</td>\n",
       "      <td>1617678238</td>\n",
       "      <td>4108778</td>\n",
       "      <td>[-15498    362]</td>\n",
       "      <td>1.617680e+09</td>\n",
       "      <td>[-15502    363]</td>\n",
       "      <td>22.16</td>\n",
       "      <td>murdered</td>\n",
       "      <td>-15498</td>\n",
       "      <td>362</td>\n",
       "      <td>-15502.0</td>\n",
       "      <td>363.0</td>\n",
       "      <td>SPARTAN</td>\n",
       "      <td>POLLY</td>\n",
       "    </tr>\n",
       "    <tr>\n",
       "      <th>3</th>\n",
       "      <td>328dc412f542693dc20d084e99a7367e4fe4aae4</td>\n",
       "      <td>4108839</td>\n",
       "      <td>1617678208</td>\n",
       "      <td>4108784</td>\n",
       "      <td>[-13754    -85]</td>\n",
       "      <td>1.617682e+09</td>\n",
       "      <td>[-13765    -64]</td>\n",
       "      <td>60.00</td>\n",
       "      <td>oldAge</td>\n",
       "      <td>-13754</td>\n",
       "      <td>-85</td>\n",
       "      <td>-13765.0</td>\n",
       "      <td>-64.0</td>\n",
       "      <td>SERANA</td>\n",
       "      <td>GFELL</td>\n",
       "    </tr>\n",
       "    <tr>\n",
       "      <th>4</th>\n",
       "      <td>e65b7bfa037a3287869cb682b648c68e52ad05d4</td>\n",
       "      <td>4108837</td>\n",
       "      <td>1617678173</td>\n",
       "      <td>4108782</td>\n",
       "      <td>[-15796   -205]</td>\n",
       "      <td>1.617679e+09</td>\n",
       "      <td>[-15803   -204]</td>\n",
       "      <td>14.85</td>\n",
       "      <td>murdered</td>\n",
       "      <td>-15796</td>\n",
       "      <td>-205</td>\n",
       "      <td>-15803.0</td>\n",
       "      <td>-204.0</td>\n",
       "      <td>TJ</td>\n",
       "      <td>NaN</td>\n",
       "    </tr>\n",
       "  </tbody>\n",
       "</table>\n",
       "</div>"
      ],
      "text/plain": [
       "                                     player   avatar      tBirth   parent  \\\n",
       "0  5ab4f808b01db8bab564fa726ca7dd0439205d4a  4108849  1617678319  4108781   \n",
       "1  5ab4f808b01db8bab564fa726ca7dd0439205d4a  4108848  1617678300  4108786   \n",
       "2  dadea1a71832326c598df59059cf42102e979707  4108842  1617678238  4108778   \n",
       "3  328dc412f542693dc20d084e99a7367e4fe4aae4  4108839  1617678208  4108784   \n",
       "4  e65b7bfa037a3287869cb682b648c68e52ad05d4  4108837  1617678173  4108782   \n",
       "\n",
       "             birth        tDeath            death    age cause_of_death  \\\n",
       "0  [-13743    -77]  1.617679e+09  [-13797   -104]   3.59         hunger   \n",
       "1  [-15498    362]  1.617678e+09  [-15498    362]   0.22     disconnect   \n",
       "2  [-15498    362]  1.617680e+09  [-15502    363]  22.16       murdered   \n",
       "3  [-13754    -85]  1.617682e+09  [-13765    -64]  60.00         oldAge   \n",
       "4  [-15796   -205]  1.617679e+09  [-15803   -204]  14.85       murdered   \n",
       "\n",
       "   birthX  birthY   deathX  deathY    first   last  \n",
       "0  -13743     -77 -13797.0  -104.0      TED  GFELL  \n",
       "1  -15498     362 -15498.0   362.0     HERA  POLLY  \n",
       "2  -15498     362 -15502.0   363.0  SPARTAN  POLLY  \n",
       "3  -13754     -85 -13765.0   -64.0   SERANA  GFELL  \n",
       "4  -15796    -205 -15803.0  -204.0       TJ    NaN  "
      ]
     },
     "execution_count": 3,
     "metadata": {},
     "output_type": "execute_result"
    }
   ],
   "source": [
    "life_df = pd.read_csv('outputs/all_lifelogs_compact.tsv', sep='\\t', index_col=0)\n",
    "life_df.head()"
   ]
  },
  {
   "cell_type": "markdown",
   "metadata": {},
   "source": [
    "Load family registry:"
   ]
  },
  {
   "cell_type": "code",
   "execution_count": 4,
   "metadata": {},
   "outputs": [
    {
     "name": "stdout",
     "output_type": "stream",
     "text": [
      "(1830190, 2)\n"
     ]
    },
    {
     "data": {
      "text/html": [
       "<div>\n",
       "<style scoped>\n",
       "    .dataframe tbody tr th:only-of-type {\n",
       "        vertical-align: middle;\n",
       "    }\n",
       "\n",
       "    .dataframe tbody tr th {\n",
       "        vertical-align: top;\n",
       "    }\n",
       "\n",
       "    .dataframe thead th {\n",
       "        text-align: right;\n",
       "    }\n",
       "</style>\n",
       "<table border=\"1\" class=\"dataframe\">\n",
       "  <thead>\n",
       "    <tr style=\"text-align: right;\">\n",
       "      <th></th>\n",
       "      <th>avatar</th>\n",
       "      <th>family</th>\n",
       "    </tr>\n",
       "  </thead>\n",
       "  <tbody>\n",
       "    <tr>\n",
       "      <th>0</th>\n",
       "      <td>4108692</td>\n",
       "      <td>time-1617674434_eve-4108692_name-NOTIS</td>\n",
       "    </tr>\n",
       "    <tr>\n",
       "      <th>1</th>\n",
       "      <td>4108622</td>\n",
       "      <td>time-1617672864_eve-4108622_name-JONES</td>\n",
       "    </tr>\n",
       "    <tr>\n",
       "      <th>2</th>\n",
       "      <td>4108226</td>\n",
       "      <td>time-1617661499_eve-4108226_name-SAD</td>\n",
       "    </tr>\n",
       "    <tr>\n",
       "      <th>3</th>\n",
       "      <td>4108225</td>\n",
       "      <td>time-1617661497_eve-4108225_name-LOSTAUNAU</td>\n",
       "    </tr>\n",
       "    <tr>\n",
       "      <th>4</th>\n",
       "      <td>4108220</td>\n",
       "      <td>time-1617661402_eve-4108220_name-AA</td>\n",
       "    </tr>\n",
       "  </tbody>\n",
       "</table>\n",
       "</div>"
      ],
      "text/plain": [
       "    avatar                                      family\n",
       "0  4108692      time-1617674434_eve-4108692_name-NOTIS\n",
       "1  4108622      time-1617672864_eve-4108622_name-JONES\n",
       "2  4108226        time-1617661499_eve-4108226_name-SAD\n",
       "3  4108225  time-1617661497_eve-4108225_name-LOSTAUNAU\n",
       "4  4108220         time-1617661402_eve-4108220_name-AA"
      ]
     },
     "execution_count": 4,
     "metadata": {},
     "output_type": "execute_result"
    }
   ],
   "source": [
    "family_df = pd.read_csv('outputs/family_playerID.tsv', sep='\\t', index_col = 0)\n",
    "print(family_df.shape)\n",
    "family_df.head()"
   ]
  },
  {
   "cell_type": "markdown",
   "metadata": {},
   "source": [
    "Compute expertise:"
   ]
  },
  {
   "cell_type": "code",
   "execution_count": 5,
   "metadata": {},
   "outputs": [
    {
     "data": {
      "text/html": [
       "<div>\n",
       "<style scoped>\n",
       "    .dataframe tbody tr th:only-of-type {\n",
       "        vertical-align: middle;\n",
       "    }\n",
       "\n",
       "    .dataframe tbody tr th {\n",
       "        vertical-align: top;\n",
       "    }\n",
       "\n",
       "    .dataframe thead th {\n",
       "        text-align: right;\n",
       "    }\n",
       "</style>\n",
       "<table border=\"1\" class=\"dataframe\">\n",
       "  <thead>\n",
       "    <tr style=\"text-align: right;\">\n",
       "      <th></th>\n",
       "      <th>avatar</th>\n",
       "      <th>player</th>\n",
       "      <th>n_lives</th>\n",
       "      <th>gametime</th>\n",
       "    </tr>\n",
       "  </thead>\n",
       "  <tbody>\n",
       "    <tr>\n",
       "      <th>0</th>\n",
       "      <td>630641</td>\n",
       "      <td>00006debdd4d630a4a5aa395135a70a69e0db01e</td>\n",
       "      <td>0</td>\n",
       "      <td>0.00</td>\n",
       "    </tr>\n",
       "    <tr>\n",
       "      <th>1</th>\n",
       "      <td>630737</td>\n",
       "      <td>00006debdd4d630a4a5aa395135a70a69e0db01e</td>\n",
       "      <td>1</td>\n",
       "      <td>13.88</td>\n",
       "    </tr>\n",
       "    <tr>\n",
       "      <th>2</th>\n",
       "      <td>630799</td>\n",
       "      <td>00006debdd4d630a4a5aa395135a70a69e0db01e</td>\n",
       "      <td>2</td>\n",
       "      <td>18.86</td>\n",
       "    </tr>\n",
       "    <tr>\n",
       "      <th>3</th>\n",
       "      <td>214206</td>\n",
       "      <td>0001394319e5e63bb74219fef647e9ff24507a21</td>\n",
       "      <td>0</td>\n",
       "      <td>0.00</td>\n",
       "    </tr>\n",
       "    <tr>\n",
       "      <th>4</th>\n",
       "      <td>214530</td>\n",
       "      <td>0001394319e5e63bb74219fef647e9ff24507a21</td>\n",
       "      <td>1</td>\n",
       "      <td>33.78</td>\n",
       "    </tr>\n",
       "    <tr>\n",
       "      <th>5</th>\n",
       "      <td>214960</td>\n",
       "      <td>0001394319e5e63bb74219fef647e9ff24507a21</td>\n",
       "      <td>2</td>\n",
       "      <td>41.03</td>\n",
       "    </tr>\n",
       "    <tr>\n",
       "      <th>6</th>\n",
       "      <td>215019</td>\n",
       "      <td>0001394319e5e63bb74219fef647e9ff24507a21</td>\n",
       "      <td>3</td>\n",
       "      <td>47.76</td>\n",
       "    </tr>\n",
       "    <tr>\n",
       "      <th>7</th>\n",
       "      <td>2783339</td>\n",
       "      <td>0002e5ea5ce7cfd761135d255a245a3344af4377</td>\n",
       "      <td>0</td>\n",
       "      <td>0.00</td>\n",
       "    </tr>\n",
       "    <tr>\n",
       "      <th>8</th>\n",
       "      <td>2783430</td>\n",
       "      <td>0002e5ea5ce7cfd761135d255a245a3344af4377</td>\n",
       "      <td>1</td>\n",
       "      <td>60.00</td>\n",
       "    </tr>\n",
       "    <tr>\n",
       "      <th>9</th>\n",
       "      <td>2784552</td>\n",
       "      <td>0002e5ea5ce7cfd761135d255a245a3344af4377</td>\n",
       "      <td>2</td>\n",
       "      <td>83.77</td>\n",
       "    </tr>\n",
       "  </tbody>\n",
       "</table>\n",
       "</div>"
      ],
      "text/plain": [
       "    avatar                                    player  n_lives  gametime\n",
       "0   630641  00006debdd4d630a4a5aa395135a70a69e0db01e        0      0.00\n",
       "1   630737  00006debdd4d630a4a5aa395135a70a69e0db01e        1     13.88\n",
       "2   630799  00006debdd4d630a4a5aa395135a70a69e0db01e        2     18.86\n",
       "3   214206  0001394319e5e63bb74219fef647e9ff24507a21        0      0.00\n",
       "4   214530  0001394319e5e63bb74219fef647e9ff24507a21        1     33.78\n",
       "5   214960  0001394319e5e63bb74219fef647e9ff24507a21        2     41.03\n",
       "6   215019  0001394319e5e63bb74219fef647e9ff24507a21        3     47.76\n",
       "7  2783339  0002e5ea5ce7cfd761135d255a245a3344af4377        0      0.00\n",
       "8  2783430  0002e5ea5ce7cfd761135d255a245a3344af4377        1     60.00\n",
       "9  2784552  0002e5ea5ce7cfd761135d255a245a3344af4377        2     83.77"
      ]
     },
     "execution_count": 5,
     "metadata": {},
     "output_type": "execute_result"
    }
   ],
   "source": [
    "expert_df = life_df[['avatar', 'player', 'tBirth', 'age']]\n",
    "expert_df = expert_df.sort_values(by=['player', 'tBirth'])\n",
    "expert_df['n_lives'] = expert_df.groupby(['player']).cumcount()\n",
    "expert_df['gametime'] = expert_df.groupby(['player'])['age'].transform(lambda x: x.cumsum().shift())\n",
    "expert_df['gametime'] = expert_df['gametime'].fillna(0)\n",
    "expert_df = expert_df.drop(columns=['tBirth', 'age']).reset_index(drop=True)\n",
    "\n",
    "expert_df.head(10)"
   ]
  },
  {
   "cell_type": "markdown",
   "metadata": {},
   "source": [
    "Merge:"
   ]
  },
  {
   "cell_type": "code",
   "execution_count": 6,
   "metadata": {},
   "outputs": [
    {
     "name": "stdout",
     "output_type": "stream",
     "text": [
      "Before merge: (2226610, 15)\n",
      "After merge: (1830190, 19)\n",
      "{'cause_of_death': 'hunger', 'last': 'GFELL', 'birthY': -77, 'parent': 4108781, 'birthX': -13743, 'gametime': 3130.2700000000004, 'age': 3.59, 'deathX': -13797.0, 'deathY': -104.0, 'tBirth': 1617678319, 'avatar': 4108849, 'family': 'time-1617611732_eve-4106678_name-GFELL', 'first': 'TED', 'n_lives': 142, 'tDeath': 1617678535.0, 'player_x': '5ab4f808b01db8bab564fa726ca7dd0439205d4a', 'player_y': '5ab4f808b01db8bab564fa726ca7dd0439205d4a'}\n"
     ]
    }
   ],
   "source": [
    "merged_data = pd.merge(life_df, family_df, on='avatar')\n",
    "merged_data = pd.merge(merged_data, expert_df, on='avatar')\n",
    "\n",
    "print('Before merge: %s' % str(life_df.shape))\n",
    "print('After merge: %s' % str(merged_data.shape))\n",
    "merged_data = merged_data.drop(columns=['birth','death'])\n",
    "merged_data = merged_data.to_dict('records')\n",
    "print(merged_data[0])"
   ]
  },
  {
   "cell_type": "markdown",
   "metadata": {},
   "source": [
    "Upload merged dataframe to database:"
   ]
  },
  {
   "cell_type": "code",
   "execution_count": 8,
   "metadata": {},
   "outputs": [
    {
     "data": {
      "text/plain": [
       "<pymongo.results.InsertManyResult at 0x2b86f8765aa0>"
      ]
     },
     "execution_count": 8,
     "metadata": {},
     "output_type": "execute_result"
    }
   ],
   "source": [
    "life_col = db.lifelogs\n",
    "life_col.insert_many(merged_data)"
   ]
  }
 ],
 "metadata": {
  "kernelspec": {
   "display_name": "Python 2",
   "language": "python",
   "name": "python2"
  },
  "language_info": {
   "codemirror_mode": {
    "name": "ipython",
    "version": 2
   },
   "file_extension": ".py",
   "mimetype": "text/x-python",
   "name": "python",
   "nbconvert_exporter": "python",
   "pygments_lexer": "ipython2",
   "version": "2.7.18"
  }
 },
 "nbformat": 4,
 "nbformat_minor": 2
}
