{
 "cells": [
  {
   "cell_type": "markdown",
   "metadata": {},
   "source": [
    "# Compare success of different lineages\n",
    "Natalia Vélez, July 2020\n",
    "\n",
    "Now that we've built a graph representation of family trees, we'll use it to compare lineages and operationalize a success measure."
   ]
  },
  {
   "cell_type": "code",
   "execution_count": 1,
   "metadata": {},
   "outputs": [],
   "source": [
    "%matplotlib inline\n",
    "\n",
    "import os, re, glob, datetime, json\n",
    "from os.path import join as opj\n",
    "\n",
    "import pandas as pd\n",
    "import numpy as np\n",
    "import scipy.stats\n",
    "from tqdm import notebook\n",
    "\n",
    "import networkx as nx\n",
    "import matplotlib.pyplot as plt\n",
    "import seaborn as sns\n",
    "from networkx.drawing.nx_agraph import graphviz_layout\n",
    "\n",
    "sns.set_context('talk')\n",
    "sns.set_style('white')"
   ]
  },
  {
   "cell_type": "markdown",
   "metadata": {},
   "source": [
    "## Set up data"
   ]
  },
  {
   "cell_type": "markdown",
   "metadata": {},
   "source": [
    "Find start of boundless era from version history:"
   ]
  },
  {
   "cell_type": "code",
   "execution_count": 2,
   "metadata": {},
   "outputs": [
    {
     "name": "stdout",
     "output_type": "stream",
     "text": [
      "Start of boundless: 2019-11-08 22:27:14\n"
     ]
    },
    {
     "data": {
      "text/html": [
       "<div>\n",
       "<style scoped>\n",
       "    .dataframe tbody tr th:only-of-type {\n",
       "        vertical-align: middle;\n",
       "    }\n",
       "\n",
       "    .dataframe tbody tr th {\n",
       "        vertical-align: top;\n",
       "    }\n",
       "\n",
       "    .dataframe thead th {\n",
       "        text-align: right;\n",
       "    }\n",
       "</style>\n",
       "<table border=\"1\" class=\"dataframe\">\n",
       "  <thead>\n",
       "    <tr style=\"text-align: right;\">\n",
       "      <th></th>\n",
       "      <th>release</th>\n",
       "      <th>timestamp</th>\n",
       "    </tr>\n",
       "  </thead>\n",
       "  <tbody>\n",
       "    <tr>\n",
       "      <th>0</th>\n",
       "      <td>1</td>\n",
       "      <td>1.483052e+09</td>\n",
       "    </tr>\n",
       "    <tr>\n",
       "      <th>1</th>\n",
       "      <td>5</td>\n",
       "      <td>1.483472e+09</td>\n",
       "    </tr>\n",
       "    <tr>\n",
       "      <th>2</th>\n",
       "      <td>8</td>\n",
       "      <td>1.484065e+09</td>\n",
       "    </tr>\n",
       "    <tr>\n",
       "      <th>3</th>\n",
       "      <td>14</td>\n",
       "      <td>1.484961e+09</td>\n",
       "    </tr>\n",
       "    <tr>\n",
       "      <th>4</th>\n",
       "      <td>16</td>\n",
       "      <td>1.492207e+09</td>\n",
       "    </tr>\n",
       "  </tbody>\n",
       "</table>\n",
       "</div>"
      ],
      "text/plain": [
       "   release     timestamp\n",
       "0        1  1.483052e+09\n",
       "1        5  1.483472e+09\n",
       "2        8  1.484065e+09\n",
       "3       14  1.484961e+09\n",
       "4       16  1.492207e+09"
      ]
     },
     "execution_count": 2,
     "metadata": {},
     "output_type": "execute_result"
    }
   ],
   "source": [
    "ver_history = pd.read_csv('../1_download/outputs/version_history.tsv', sep='\\t')\n",
    "boundless_t = ver_history.loc[ver_history['release'] == 280, 'timestamp'].values[0]\n",
    "print('Start of boundless: %s' % datetime.datetime.fromtimestamp(boundless_t))\n",
    "ver_history.head()"
   ]
  },
  {
   "cell_type": "markdown",
   "metadata": {},
   "source": [
    "Load lifelog data:"
   ]
  },
  {
   "cell_type": "code",
   "execution_count": 3,
   "metadata": {},
   "outputs": [
    {
     "name": "stderr",
     "output_type": "stream",
     "text": [
      "/users/nvelezalicea/.conda/envs/py3/lib/python3.6/site-packages/numpy/lib/arraysetops.py:580: FutureWarning: elementwise comparison failed; returning scalar instead, but in the future will perform elementwise comparison\n",
      "  mask |= (ar1 == a)\n"
     ]
    },
    {
     "data": {
      "text/html": [
       "<div>\n",
       "<style scoped>\n",
       "    .dataframe tbody tr th:only-of-type {\n",
       "        vertical-align: middle;\n",
       "    }\n",
       "\n",
       "    .dataframe tbody tr th {\n",
       "        vertical-align: top;\n",
       "    }\n",
       "\n",
       "    .dataframe thead th {\n",
       "        text-align: right;\n",
       "    }\n",
       "</style>\n",
       "<table border=\"1\" class=\"dataframe\">\n",
       "  <thead>\n",
       "    <tr style=\"text-align: right;\">\n",
       "      <th></th>\n",
       "      <th>player</th>\n",
       "      <th>avatar</th>\n",
       "      <th>tBirth</th>\n",
       "      <th>parent</th>\n",
       "      <th>birth</th>\n",
       "      <th>tDeath</th>\n",
       "      <th>death</th>\n",
       "      <th>age</th>\n",
       "      <th>cause_of_death</th>\n",
       "      <th>birthX</th>\n",
       "      <th>birthY</th>\n",
       "      <th>deathX</th>\n",
       "      <th>deathY</th>\n",
       "      <th>first</th>\n",
       "      <th>last</th>\n",
       "    </tr>\n",
       "  </thead>\n",
       "  <tbody>\n",
       "    <tr>\n",
       "      <th>0</th>\n",
       "      <td>a12bd25b7ca87b4126ab27e4142ab5136f185e2c</td>\n",
       "      <td>3983348</td>\n",
       "      <td>1613458220</td>\n",
       "      <td>3983322</td>\n",
       "      <td>[-6583  -188]</td>\n",
       "      <td>1.613462e+09</td>\n",
       "      <td>[-6592  -192]</td>\n",
       "      <td>60.00</td>\n",
       "      <td>oldAge</td>\n",
       "      <td>-6583</td>\n",
       "      <td>-188</td>\n",
       "      <td>-6592.0</td>\n",
       "      <td>-192.0</td>\n",
       "      <td>KANE</td>\n",
       "      <td>S</td>\n",
       "    </tr>\n",
       "    <tr>\n",
       "      <th>1</th>\n",
       "      <td>7bd530ec132a3123bbc64f1a7b99a890a78c710f</td>\n",
       "      <td>3983347</td>\n",
       "      <td>1613458114</td>\n",
       "      <td>3983274</td>\n",
       "      <td>[-7544   330]</td>\n",
       "      <td>1.613461e+09</td>\n",
       "      <td>[-7548   318]</td>\n",
       "      <td>42.14</td>\n",
       "      <td>hunger</td>\n",
       "      <td>-7544</td>\n",
       "      <td>330</td>\n",
       "      <td>-7548.0</td>\n",
       "      <td>318.0</td>\n",
       "      <td>DIA</td>\n",
       "      <td>JAMESON</td>\n",
       "    </tr>\n",
       "    <tr>\n",
       "      <th>2</th>\n",
       "      <td>039241fe1322e3c1877753357f239f0e70218553</td>\n",
       "      <td>3983346</td>\n",
       "      <td>1613458026</td>\n",
       "      <td>3983281</td>\n",
       "      <td>[-7552   341]</td>\n",
       "      <td>1.613462e+09</td>\n",
       "      <td>[-7548   320]</td>\n",
       "      <td>60.00</td>\n",
       "      <td>oldAge</td>\n",
       "      <td>-7552</td>\n",
       "      <td>341</td>\n",
       "      <td>-7548.0</td>\n",
       "      <td>320.0</td>\n",
       "      <td>JANE</td>\n",
       "      <td>JAMESON</td>\n",
       "    </tr>\n",
       "    <tr>\n",
       "      <th>3</th>\n",
       "      <td>6b7abc8753b6a431ed0840d88b2c8f103f933639</td>\n",
       "      <td>3983344</td>\n",
       "      <td>1613458002</td>\n",
       "      <td>3983270</td>\n",
       "      <td>[-7695   128]</td>\n",
       "      <td>1.613460e+09</td>\n",
       "      <td>[-7677   119]</td>\n",
       "      <td>25.22</td>\n",
       "      <td>hunger</td>\n",
       "      <td>-7695</td>\n",
       "      <td>128</td>\n",
       "      <td>-7677.0</td>\n",
       "      <td>119.0</td>\n",
       "      <td>REX</td>\n",
       "      <td>LODEN</td>\n",
       "    </tr>\n",
       "    <tr>\n",
       "      <th>4</th>\n",
       "      <td>c0190e141587c8751a311a41df7183a8d1835262</td>\n",
       "      <td>3983343</td>\n",
       "      <td>1613457977</td>\n",
       "      <td>3983276</td>\n",
       "      <td>[-7570   320]</td>\n",
       "      <td>1.613462e+09</td>\n",
       "      <td>[-7687   119]</td>\n",
       "      <td>60.00</td>\n",
       "      <td>oldAge</td>\n",
       "      <td>-7570</td>\n",
       "      <td>320</td>\n",
       "      <td>-7687.0</td>\n",
       "      <td>119.0</td>\n",
       "      <td>ADELINE</td>\n",
       "      <td>JAMES</td>\n",
       "    </tr>\n",
       "  </tbody>\n",
       "</table>\n",
       "</div>"
      ],
      "text/plain": [
       "                                     player   avatar      tBirth   parent  \\\n",
       "0  a12bd25b7ca87b4126ab27e4142ab5136f185e2c  3983348  1613458220  3983322   \n",
       "1  7bd530ec132a3123bbc64f1a7b99a890a78c710f  3983347  1613458114  3983274   \n",
       "2  039241fe1322e3c1877753357f239f0e70218553  3983346  1613458026  3983281   \n",
       "3  6b7abc8753b6a431ed0840d88b2c8f103f933639  3983344  1613458002  3983270   \n",
       "4  c0190e141587c8751a311a41df7183a8d1835262  3983343  1613457977  3983276   \n",
       "\n",
       "           birth        tDeath          death    age cause_of_death  birthX  \\\n",
       "0  [-6583  -188]  1.613462e+09  [-6592  -192]  60.00         oldAge   -6583   \n",
       "1  [-7544   330]  1.613461e+09  [-7548   318]  42.14         hunger   -7544   \n",
       "2  [-7552   341]  1.613462e+09  [-7548   320]  60.00         oldAge   -7552   \n",
       "3  [-7695   128]  1.613460e+09  [-7677   119]  25.22         hunger   -7695   \n",
       "4  [-7570   320]  1.613462e+09  [-7687   119]  60.00         oldAge   -7570   \n",
       "\n",
       "   birthY  deathX  deathY    first     last  \n",
       "0    -188 -6592.0  -192.0     KANE        S  \n",
       "1     330 -7548.0   318.0      DIA  JAMESON  \n",
       "2     341 -7548.0   320.0     JANE  JAMESON  \n",
       "3     128 -7677.0   119.0      REX    LODEN  \n",
       "4     320 -7687.0   119.0  ADELINE    JAMES  "
      ]
     },
     "execution_count": 3,
     "metadata": {},
     "output_type": "execute_result"
    }
   ],
   "source": [
    "all_eras = pd.read_csv('outputs/all_lifelogs_compact.tsv', sep='\\t', index_col=0)\n",
    "all_eras.head()"
   ]
  },
  {
   "cell_type": "markdown",
   "metadata": {},
   "source": [
    "Load families & find families that started in boundless era:"
   ]
  },
  {
   "cell_type": "code",
   "execution_count": 4,
   "metadata": {},
   "outputs": [
    {
     "name": "stderr",
     "output_type": "stream",
     "text": [
      "/users/nvelezalicea/.conda/envs/py3/lib/python3.6/site-packages/numpy/lib/arraysetops.py:580: FutureWarning: elementwise comparison failed; returning scalar instead, but in the future will perform elementwise comparison\n",
      "  mask |= (ar1 == a)\n"
     ]
    },
    {
     "data": {
      "text/html": [
       "<div>\n",
       "<style scoped>\n",
       "    .dataframe tbody tr th:only-of-type {\n",
       "        vertical-align: middle;\n",
       "    }\n",
       "\n",
       "    .dataframe tbody tr th {\n",
       "        vertical-align: top;\n",
       "    }\n",
       "\n",
       "    .dataframe thead th {\n",
       "        text-align: right;\n",
       "    }\n",
       "</style>\n",
       "<table border=\"1\" class=\"dataframe\">\n",
       "  <thead>\n",
       "    <tr style=\"text-align: right;\">\n",
       "      <th></th>\n",
       "      <th>avatar</th>\n",
       "      <th>family</th>\n",
       "    </tr>\n",
       "  </thead>\n",
       "  <tbody>\n",
       "    <tr>\n",
       "      <th>0</th>\n",
       "      <td>3983340</td>\n",
       "      <td>time-1613456734_eve-3983313_name-WINDROW</td>\n",
       "    </tr>\n",
       "    <tr>\n",
       "      <th>1</th>\n",
       "      <td>3983333</td>\n",
       "      <td>time-1613456734_eve-3983313_name-WINDROW</td>\n",
       "    </tr>\n",
       "    <tr>\n",
       "      <th>2</th>\n",
       "      <td>3983314</td>\n",
       "      <td>time-1613456734_eve-3983313_name-WINDROW</td>\n",
       "    </tr>\n",
       "    <tr>\n",
       "      <th>3</th>\n",
       "      <td>3983313</td>\n",
       "      <td>time-1613456734_eve-3983313_name-WINDROW</td>\n",
       "    </tr>\n",
       "    <tr>\n",
       "      <th>4</th>\n",
       "      <td>3983076</td>\n",
       "      <td>time-1613449020_eve-3983028_name-LODEN</td>\n",
       "    </tr>\n",
       "  </tbody>\n",
       "</table>\n",
       "</div>"
      ],
      "text/plain": [
       "    avatar                                    family\n",
       "0  3983340  time-1613456734_eve-3983313_name-WINDROW\n",
       "1  3983333  time-1613456734_eve-3983313_name-WINDROW\n",
       "2  3983314  time-1613456734_eve-3983313_name-WINDROW\n",
       "3  3983313  time-1613456734_eve-3983313_name-WINDROW\n",
       "4  3983076    time-1613449020_eve-3983028_name-LODEN"
      ]
     },
     "execution_count": 4,
     "metadata": {},
     "output_type": "execute_result"
    }
   ],
   "source": [
    "fam_df = pd.read_csv('outputs/family_playerID.tsv', sep='\\t', index_col=0)\n",
    "fam_df.head()"
   ]
  },
  {
   "cell_type": "markdown",
   "metadata": {},
   "source": [
    "Find families that started in boundless era:"
   ]
  },
  {
   "cell_type": "code",
   "execution_count": 5,
   "metadata": {},
   "outputs": [
    {
     "name": "stdout",
     "output_type": "stream",
     "text": [
      "Total families: 63787\n"
     ]
    },
    {
     "data": {
      "text/plain": [
       "in_era\n",
       "False    49880\n",
       "True     13907\n",
       "Name: family, dtype: int64"
      ]
     },
     "execution_count": 5,
     "metadata": {},
     "output_type": "execute_result"
    }
   ],
   "source": [
    "in_boundless = fam_df.groupby('family')['avatar'].agg('count').reset_index()\n",
    "in_boundless['start_t'] = in_boundless['family'].str.extract(r'(?<=time-)([0-9]+)')\n",
    "in_boundless['start_t'] = in_boundless['start_t'].astype(np.int)\n",
    "in_boundless['in_era'] = in_boundless['start_t'] > boundless_t\n",
    "in_boundless = in_boundless[['family', 'in_era']]\n",
    "\n",
    "# Summary: How many families left?\n",
    "print('Total families: %i' % in_boundless.shape[0])\n",
    "in_boundless.groupby('in_era')['family'].agg('count')"
   ]
  },
  {
   "cell_type": "markdown",
   "metadata": {},
   "source": [
    "Merge:"
   ]
  },
  {
   "cell_type": "code",
   "execution_count": 6,
   "metadata": {},
   "outputs": [
    {
     "name": "stdout",
     "output_type": "stream",
     "text": [
      "Original size: (2161128, 15)\n",
      "Boundless era only: (734584, 17)\n"
     ]
    }
   ],
   "source": [
    "print('Original size: %s' % str(all_eras.shape))\n",
    "boundless_df = pd.merge(all_eras, fam_df, on='avatar')\n",
    "boundless_df = pd.merge(boundless_df, in_boundless, on='family')\n",
    "boundless_df = boundless_df[boundless_df['in_era']]\n",
    "boundless_df = boundless_df.reset_index(drop=True)\n",
    "print('Boundless era only: %s' % str(boundless_df.shape))"
   ]
  },
  {
   "cell_type": "markdown",
   "metadata": {},
   "source": [
    "Remove singleton families:"
   ]
  },
  {
   "cell_type": "code",
   "execution_count": 7,
   "metadata": {},
   "outputs": [
    {
     "name": "stdout",
     "output_type": "stream",
     "text": [
      "Removing 7758 singleton families\n"
     ]
    }
   ],
   "source": [
    "singletons = boundless_df.groupby('family')['avatar'].agg('count').reset_index()\n",
    "singletons = singletons.rename(columns={'avatar': 'count'})\n",
    "singletons = singletons[singletons['count'] == 1]\n",
    "single_fams = singletons.family.values\n",
    "\n",
    "print('Removing %i singleton families' % len(single_fams))\n",
    "boundless_df = boundless_df[~boundless_df['family'].isin(single_fams)]\n",
    "#era_df = era_df.reset_index(drop=True)"
   ]
  },
  {
   "cell_type": "markdown",
   "metadata": {},
   "source": [
    "Remove incomplete families (i.e., lineages that were still alive at the time of the data download)"
   ]
  },
  {
   "cell_type": "code",
   "execution_count": 13,
   "metadata": {},
   "outputs": [
    {
     "data": {
      "text/html": [
       "<div>\n",
       "<style scoped>\n",
       "    .dataframe tbody tr th:only-of-type {\n",
       "        vertical-align: middle;\n",
       "    }\n",
       "\n",
       "    .dataframe tbody tr th {\n",
       "        vertical-align: top;\n",
       "    }\n",
       "\n",
       "    .dataframe thead th {\n",
       "        text-align: right;\n",
       "    }\n",
       "</style>\n",
       "<table border=\"1\" class=\"dataframe\">\n",
       "  <thead>\n",
       "    <tr style=\"text-align: right;\">\n",
       "      <th></th>\n",
       "      <th>player</th>\n",
       "      <th>avatar</th>\n",
       "      <th>tBirth</th>\n",
       "      <th>parent</th>\n",
       "      <th>birth</th>\n",
       "      <th>tDeath</th>\n",
       "      <th>death</th>\n",
       "      <th>age</th>\n",
       "      <th>cause_of_death</th>\n",
       "      <th>birthX</th>\n",
       "      <th>birthY</th>\n",
       "      <th>deathX</th>\n",
       "      <th>deathY</th>\n",
       "      <th>first</th>\n",
       "      <th>last</th>\n",
       "      <th>family</th>\n",
       "      <th>in_era</th>\n",
       "    </tr>\n",
       "  </thead>\n",
       "  <tbody>\n",
       "    <tr>\n",
       "      <th>1232</th>\n",
       "      <td>3c18bb5c6af09890da09a9b63da4ac662ba1ca61</td>\n",
       "      <td>3497051</td>\n",
       "      <td>1604250241</td>\n",
       "      <td>3496990</td>\n",
       "      <td>[-3563  -234]</td>\n",
       "      <td>NaN</td>\n",
       "      <td>[]</td>\n",
       "      <td>NaN</td>\n",
       "      <td>NaN</td>\n",
       "      <td>-3563</td>\n",
       "      <td>-234</td>\n",
       "      <td>NaN</td>\n",
       "      <td>NaN</td>\n",
       "      <td>MICKEAL</td>\n",
       "      <td>KELLY</td>\n",
       "      <td>time-1604234028_eve-3496112_name-CANARY</td>\n",
       "      <td>True</td>\n",
       "    </tr>\n",
       "    <tr>\n",
       "      <th>1234</th>\n",
       "      <td>e2a85122acc6afd214efa127061a882a003eb731</td>\n",
       "      <td>3497037</td>\n",
       "      <td>1604250038</td>\n",
       "      <td>3496936</td>\n",
       "      <td>[-3569   117]</td>\n",
       "      <td>NaN</td>\n",
       "      <td>[]</td>\n",
       "      <td>NaN</td>\n",
       "      <td>NaN</td>\n",
       "      <td>-3569</td>\n",
       "      <td>117</td>\n",
       "      <td>NaN</td>\n",
       "      <td>NaN</td>\n",
       "      <td>BOBBY</td>\n",
       "      <td>ALEX</td>\n",
       "      <td>time-1604244550_eve-3496652_name-ALEX</td>\n",
       "      <td>True</td>\n",
       "    </tr>\n",
       "    <tr>\n",
       "      <th>5495</th>\n",
       "      <td>6083d1a7e2729e11eb11e0ab899cca793ea98f0e</td>\n",
       "      <td>2419033</td>\n",
       "      <td>1576454347</td>\n",
       "      <td>2418901</td>\n",
       "      <td>[-41910   -847]</td>\n",
       "      <td>NaN</td>\n",
       "      <td>[]</td>\n",
       "      <td>NaN</td>\n",
       "      <td>NaN</td>\n",
       "      <td>-41910</td>\n",
       "      <td>-847</td>\n",
       "      <td>NaN</td>\n",
       "      <td>NaN</td>\n",
       "      <td>EDGAR</td>\n",
       "      <td>BRANDO</td>\n",
       "      <td>time-1576437748_eve-2417630_name-BRANDO</td>\n",
       "      <td>True</td>\n",
       "    </tr>\n",
       "    <tr>\n",
       "      <th>5497</th>\n",
       "      <td>353ca3035667fdb577174646add9cf0667d179c1</td>\n",
       "      <td>2419031</td>\n",
       "      <td>1576454325</td>\n",
       "      <td>2418961</td>\n",
       "      <td>[-43219    -82]</td>\n",
       "      <td>NaN</td>\n",
       "      <td>[]</td>\n",
       "      <td>NaN</td>\n",
       "      <td>NaN</td>\n",
       "      <td>-43219</td>\n",
       "      <td>-82</td>\n",
       "      <td>NaN</td>\n",
       "      <td>NaN</td>\n",
       "      <td>FIRYAL</td>\n",
       "      <td>AN</td>\n",
       "      <td>time-1576445899_eve-2418431_name-AN</td>\n",
       "      <td>True</td>\n",
       "    </tr>\n",
       "    <tr>\n",
       "      <th>5498</th>\n",
       "      <td>0e4d213c7653d0cca240f0b650958292dbabe7dd</td>\n",
       "      <td>2419025</td>\n",
       "      <td>1576454221</td>\n",
       "      <td>2418933</td>\n",
       "      <td>[-41934   -430]</td>\n",
       "      <td>NaN</td>\n",
       "      <td>[]</td>\n",
       "      <td>NaN</td>\n",
       "      <td>NaN</td>\n",
       "      <td>-41934</td>\n",
       "      <td>-430</td>\n",
       "      <td>NaN</td>\n",
       "      <td>NaN</td>\n",
       "      <td>CONNER</td>\n",
       "      <td>VANIK</td>\n",
       "      <td>time-1576437957_eve-2417686_name-VANIK</td>\n",
       "      <td>True</td>\n",
       "    </tr>\n",
       "    <tr>\n",
       "      <th>5520</th>\n",
       "      <td>e3b98b6eb543622c9a8e56c10c5808c2847095f6</td>\n",
       "      <td>2417281</td>\n",
       "      <td>1576434486</td>\n",
       "      <td>2417154</td>\n",
       "      <td>[-41929   -430]</td>\n",
       "      <td>NaN</td>\n",
       "      <td>[]</td>\n",
       "      <td>NaN</td>\n",
       "      <td>NaN</td>\n",
       "      <td>-41929</td>\n",
       "      <td>-430</td>\n",
       "      <td>NaN</td>\n",
       "      <td>NaN</td>\n",
       "      <td>MYLENA</td>\n",
       "      <td>KARLSTROM</td>\n",
       "      <td>time-1576429334_eve-2416881_name-KARLSTROM</td>\n",
       "      <td>True</td>\n",
       "    </tr>\n",
       "    <tr>\n",
       "      <th>5521</th>\n",
       "      <td>90f647d96600033c4b1e3abbe0e21d04d57dfe2e</td>\n",
       "      <td>2417269</td>\n",
       "      <td>1576434286</td>\n",
       "      <td>2417199</td>\n",
       "      <td>[-43041    718]</td>\n",
       "      <td>NaN</td>\n",
       "      <td>[]</td>\n",
       "      <td>NaN</td>\n",
       "      <td>NaN</td>\n",
       "      <td>-43041</td>\n",
       "      <td>718</td>\n",
       "      <td>NaN</td>\n",
       "      <td>NaN</td>\n",
       "      <td>MARIO</td>\n",
       "      <td>TARR</td>\n",
       "      <td>time-1576406538_eve-2415295_name-TARR</td>\n",
       "      <td>True</td>\n",
       "    </tr>\n",
       "    <tr>\n",
       "      <th>5577</th>\n",
       "      <td>66d296456bc700697c65534cd3d09a9b937822d7</td>\n",
       "      <td>2409628</td>\n",
       "      <td>1576301543</td>\n",
       "      <td>2409517</td>\n",
       "      <td>[-41755  -1070]</td>\n",
       "      <td>NaN</td>\n",
       "      <td>[]</td>\n",
       "      <td>NaN</td>\n",
       "      <td>NaN</td>\n",
       "      <td>-41755</td>\n",
       "      <td>-1070</td>\n",
       "      <td>NaN</td>\n",
       "      <td>NaN</td>\n",
       "      <td>LUKE</td>\n",
       "      <td>HAMMER</td>\n",
       "      <td>time-1576296553_eve-2409317_name-HAMMER</td>\n",
       "      <td>True</td>\n",
       "    </tr>\n",
       "    <tr>\n",
       "      <th>5579</th>\n",
       "      <td>e7ca61a536b9e08ff312f2555f9c3b2297fc814c</td>\n",
       "      <td>2409625</td>\n",
       "      <td>1576301450</td>\n",
       "      <td>2409579</td>\n",
       "      <td>[-41928   -382]</td>\n",
       "      <td>NaN</td>\n",
       "      <td>[]</td>\n",
       "      <td>NaN</td>\n",
       "      <td>NaN</td>\n",
       "      <td>-41928</td>\n",
       "      <td>-382</td>\n",
       "      <td>NaN</td>\n",
       "      <td>NaN</td>\n",
       "      <td>LEAHA</td>\n",
       "      <td>SALEM</td>\n",
       "      <td>time-1576295920_eve-2409281_name-SALEM</td>\n",
       "      <td>True</td>\n",
       "    </tr>\n",
       "    <tr>\n",
       "      <th>5944</th>\n",
       "      <td>54ad034e79e91ee0e90f726b26c5e2914584697b</td>\n",
       "      <td>2334051</td>\n",
       "      <td>1574745151</td>\n",
       "      <td>2333921</td>\n",
       "      <td>[-23430   -400]</td>\n",
       "      <td>NaN</td>\n",
       "      <td>[]</td>\n",
       "      <td>NaN</td>\n",
       "      <td>NaN</td>\n",
       "      <td>-23430</td>\n",
       "      <td>-400</td>\n",
       "      <td>NaN</td>\n",
       "      <td>NaN</td>\n",
       "      <td>JULIET</td>\n",
       "      <td>AMERICANHORSE</td>\n",
       "      <td>time-1574701840_eve-2331249_name-DAVIDSON</td>\n",
       "      <td>True</td>\n",
       "    </tr>\n",
       "    <tr>\n",
       "      <th>5948</th>\n",
       "      <td>67691324befd8b9e23eba345e1b9b3e4d119ac0e</td>\n",
       "      <td>2334043</td>\n",
       "      <td>1574745052</td>\n",
       "      <td>2333912</td>\n",
       "      <td>[-24926   -485]</td>\n",
       "      <td>NaN</td>\n",
       "      <td>[]</td>\n",
       "      <td>NaN</td>\n",
       "      <td>NaN</td>\n",
       "      <td>-24926</td>\n",
       "      <td>-485</td>\n",
       "      <td>NaN</td>\n",
       "      <td>NaN</td>\n",
       "      <td>FITIMA</td>\n",
       "      <td>MUSICANT</td>\n",
       "      <td>time-1574741327_eve-2333788_name-MUSICANT</td>\n",
       "      <td>True</td>\n",
       "    </tr>\n",
       "  </tbody>\n",
       "</table>\n",
       "</div>"
      ],
      "text/plain": [
       "                                        player   avatar      tBirth   parent  \\\n",
       "1232  3c18bb5c6af09890da09a9b63da4ac662ba1ca61  3497051  1604250241  3496990   \n",
       "1234  e2a85122acc6afd214efa127061a882a003eb731  3497037  1604250038  3496936   \n",
       "5495  6083d1a7e2729e11eb11e0ab899cca793ea98f0e  2419033  1576454347  2418901   \n",
       "5497  353ca3035667fdb577174646add9cf0667d179c1  2419031  1576454325  2418961   \n",
       "5498  0e4d213c7653d0cca240f0b650958292dbabe7dd  2419025  1576454221  2418933   \n",
       "5520  e3b98b6eb543622c9a8e56c10c5808c2847095f6  2417281  1576434486  2417154   \n",
       "5521  90f647d96600033c4b1e3abbe0e21d04d57dfe2e  2417269  1576434286  2417199   \n",
       "5577  66d296456bc700697c65534cd3d09a9b937822d7  2409628  1576301543  2409517   \n",
       "5579  e7ca61a536b9e08ff312f2555f9c3b2297fc814c  2409625  1576301450  2409579   \n",
       "5944  54ad034e79e91ee0e90f726b26c5e2914584697b  2334051  1574745151  2333921   \n",
       "5948  67691324befd8b9e23eba345e1b9b3e4d119ac0e  2334043  1574745052  2333912   \n",
       "\n",
       "                birth  tDeath death  age cause_of_death  birthX  birthY  \\\n",
       "1232    [-3563  -234]     NaN    []  NaN            NaN   -3563    -234   \n",
       "1234    [-3569   117]     NaN    []  NaN            NaN   -3569     117   \n",
       "5495  [-41910   -847]     NaN    []  NaN            NaN  -41910    -847   \n",
       "5497  [-43219    -82]     NaN    []  NaN            NaN  -43219     -82   \n",
       "5498  [-41934   -430]     NaN    []  NaN            NaN  -41934    -430   \n",
       "5520  [-41929   -430]     NaN    []  NaN            NaN  -41929    -430   \n",
       "5521  [-43041    718]     NaN    []  NaN            NaN  -43041     718   \n",
       "5577  [-41755  -1070]     NaN    []  NaN            NaN  -41755   -1070   \n",
       "5579  [-41928   -382]     NaN    []  NaN            NaN  -41928    -382   \n",
       "5944  [-23430   -400]     NaN    []  NaN            NaN  -23430    -400   \n",
       "5948  [-24926   -485]     NaN    []  NaN            NaN  -24926    -485   \n",
       "\n",
       "      deathX  deathY    first           last  \\\n",
       "1232     NaN     NaN  MICKEAL          KELLY   \n",
       "1234     NaN     NaN    BOBBY           ALEX   \n",
       "5495     NaN     NaN    EDGAR         BRANDO   \n",
       "5497     NaN     NaN   FIRYAL             AN   \n",
       "5498     NaN     NaN   CONNER          VANIK   \n",
       "5520     NaN     NaN   MYLENA      KARLSTROM   \n",
       "5521     NaN     NaN    MARIO           TARR   \n",
       "5577     NaN     NaN     LUKE         HAMMER   \n",
       "5579     NaN     NaN    LEAHA          SALEM   \n",
       "5944     NaN     NaN   JULIET  AMERICANHORSE   \n",
       "5948     NaN     NaN   FITIMA       MUSICANT   \n",
       "\n",
       "                                          family  in_era  \n",
       "1232     time-1604234028_eve-3496112_name-CANARY    True  \n",
       "1234       time-1604244550_eve-3496652_name-ALEX    True  \n",
       "5495     time-1576437748_eve-2417630_name-BRANDO    True  \n",
       "5497         time-1576445899_eve-2418431_name-AN    True  \n",
       "5498      time-1576437957_eve-2417686_name-VANIK    True  \n",
       "5520  time-1576429334_eve-2416881_name-KARLSTROM    True  \n",
       "5521       time-1576406538_eve-2415295_name-TARR    True  \n",
       "5577     time-1576296553_eve-2409317_name-HAMMER    True  \n",
       "5579      time-1576295920_eve-2409281_name-SALEM    True  \n",
       "5944   time-1574701840_eve-2331249_name-DAVIDSON    True  \n",
       "5948   time-1574741327_eve-2333788_name-MUSICANT    True  "
      ]
     },
     "execution_count": 13,
     "metadata": {},
     "output_type": "execute_result"
    }
   ],
   "source": []
  },
  {
   "cell_type": "code",
   "execution_count": 15,
   "metadata": {},
   "outputs": [
    {
     "name": "stdout",
     "output_type": "stream",
     "text": [
      "Removing 11 incomplete families\n"
     ]
    }
   ],
   "source": [
    "idx = boundless_df.groupby(['family'])['tBirth'].transform(max) == boundless_df['tBirth']\n",
    "last_descendants = boundless_df[idx].copy()\n",
    "incomplete_fams = last_descendants[~np.isfinite(last_descendants.tDeath)].family.values\n",
    "\n",
    "print('Removing %i incomplete families' % len(incomplete_fams))\n",
    "boundless_df = boundless_df[~boundless_df['family'].isin(incomplete_fams)]"
   ]
  },
  {
   "cell_type": "markdown",
   "metadata": {},
   "source": [
    "Exclude infant births:"
   ]
  },
  {
   "cell_type": "code",
   "execution_count": 16,
   "metadata": {},
   "outputs": [
    {
     "name": "stdout",
     "output_type": "stream",
     "text": [
      "Removed 43132 infant deaths\n"
     ]
    }
   ],
   "source": [
    "orig_n = len(boundless_df)\n",
    "infant_deaths = np.loadtxt('outputs/infant_deaths.txt', dtype=np.int)\n",
    "boundless_df = boundless_df[~boundless_df['avatar'].isin(infant_deaths)].reset_index(drop=True)\n",
    "new_n = len(boundless_df)\n",
    "\n",
    "print('Removed %i infant deaths' % (orig_n - new_n))"
   ]
  },
  {
   "cell_type": "markdown",
   "metadata": {},
   "source": [
    "Just look at lineages from the boundless world era:"
   ]
  },
  {
   "cell_type": "code",
   "execution_count": 17,
   "metadata": {},
   "outputs": [
    {
     "name": "stdout",
     "output_type": "stream",
     "text": [
      "Analyzing 6138 families\n",
      "682693 avatars\n",
      "37739 unique players\n"
     ]
    }
   ],
   "source": [
    "boundless_families = np.unique(boundless_df['family'])\n",
    "\n",
    "print('Analyzing %i families' % len(boundless_families))\n",
    "print('%i avatars' % len(np.unique(boundless_df['avatar'])))\n",
    "print('%i unique players' % len(np.unique(boundless_df['player'])))"
   ]
  },
  {
   "cell_type": "markdown",
   "metadata": {},
   "source": [
    "Lives per player in current sample:"
   ]
  },
  {
   "cell_type": "code",
   "execution_count": 18,
   "metadata": {},
   "outputs": [
    {
     "name": "stdout",
     "output_type": "stream",
     "text": [
      "Median # lives: 4.00\n",
      "Min # lives: 1\n",
      "Max # lives: 1998\n"
     ]
    },
    {
     "data": {
      "image/png": "[encoded data removed]",
      "text/plain": [
       "<Figure size 432x288 with 1 Axes>"
      ]
     },
     "metadata": {},
     "output_type": "display_data"
    }
   ],
   "source": [
    "lineage_df = boundless_df.copy()\n",
    "player_summ = lineage_df.groupby('player')['avatar'].agg('count').reset_index()\n",
    "player_summ = player_summ.rename(columns={'avatar': 'n'})\n",
    "player_summ.head()\n",
    "\n",
    "# Plot\n",
    "print('Median # lives: %0.2f' % np.median(player_summ['n']))\n",
    "print('Min # lives: %i' % np.min(player_summ['n']))\n",
    "print('Max # lives: %i' % np.max(player_summ['n']))\n",
    "\n",
    "fig,ax = plt.subplots()\n",
    "sns.distplot(np.log10(player_summ['n']),ax=ax)\n",
    "ax.set(xlabel='# lives (excluding disconnects)', xticks=range(4), xticklabels=[10**x for x in range(4)])\n",
    "sns.despine()"
   ]
  },
  {
   "cell_type": "markdown",
   "metadata": {},
   "source": [
    "Start and end times:"
   ]
  },
  {
   "cell_type": "code",
   "execution_count": 19,
   "metadata": {},
   "outputs": [
    {
     "name": "stdout",
     "output_type": "stream",
     "text": [
      "Analyzing 6138 lineages\n",
      "First lineage starts at: 2019-11-08T22:54:39 \n",
      "Lineages end at: 2021-02-16T07:50:20 \n"
     ]
    }
   ],
   "source": [
    "t_fmt = '%Y-%m-%dT%H:%M:%S %Z'\n",
    "\n",
    "start_t = np.min(lineage_df['tBirth'])\n",
    "start_date = datetime.datetime.fromtimestamp(start_t).strftime(t_fmt)\n",
    "\n",
    "end_t = np.max(lineage_df['tDeath'])\n",
    "end_date = datetime.datetime.fromtimestamp(end_t).strftime(t_fmt)\n",
    "\n",
    "print('Analyzing %i lineages' % len(boundless_families))\n",
    "print('First lineage starts at: %s' % start_date)\n",
    "print('Lineages end at: %s' % end_date)"
   ]
  },
  {
   "cell_type": "markdown",
   "metadata": {},
   "source": [
    "What is the longest-lived lineage?"
   ]
  },
  {
   "cell_type": "code",
   "execution_count": 20,
   "metadata": {},
   "outputs": [
    {
     "data": {
      "text/html": [
       "<div>\n",
       "<style scoped>\n",
       "    .dataframe tbody tr th:only-of-type {\n",
       "        vertical-align: middle;\n",
       "    }\n",
       "\n",
       "    .dataframe tbody tr th {\n",
       "        vertical-align: top;\n",
       "    }\n",
       "\n",
       "    .dataframe thead th {\n",
       "        text-align: right;\n",
       "    }\n",
       "</style>\n",
       "<table border=\"1\" class=\"dataframe\">\n",
       "  <thead>\n",
       "    <tr style=\"text-align: right;\">\n",
       "      <th></th>\n",
       "      <th>family</th>\n",
       "      <th>tBirth</th>\n",
       "      <th>tDeath</th>\n",
       "      <th>duration_hours</th>\n",
       "      <th>duration_days</th>\n",
       "    </tr>\n",
       "  </thead>\n",
       "  <tbody>\n",
       "    <tr>\n",
       "      <th>0</th>\n",
       "      <td>time-1609746195_eve-3833245_name-STALLINS</td>\n",
       "      <td>1609746195</td>\n",
       "      <td>1.610329e+09</td>\n",
       "      <td>161.972222</td>\n",
       "      <td>6.748843</td>\n",
       "    </tr>\n",
       "    <tr>\n",
       "      <th>1</th>\n",
       "      <td>time-1611138522_eve-3897231_name-LUCKY</td>\n",
       "      <td>1611138522</td>\n",
       "      <td>1.611671e+09</td>\n",
       "      <td>147.875833</td>\n",
       "      <td>6.161493</td>\n",
       "    </tr>\n",
       "    <tr>\n",
       "      <th>2</th>\n",
       "      <td>time-1611388293_eve-3906808_name-ARTEMENKO</td>\n",
       "      <td>1611388293</td>\n",
       "      <td>1.611867e+09</td>\n",
       "      <td>132.887778</td>\n",
       "      <td>5.536991</td>\n",
       "    </tr>\n",
       "    <tr>\n",
       "      <th>3</th>\n",
       "      <td>time-1610335007_eve-3864700_name-APRIL</td>\n",
       "      <td>1610335007</td>\n",
       "      <td>1.610808e+09</td>\n",
       "      <td>131.353889</td>\n",
       "      <td>5.473079</td>\n",
       "    </tr>\n",
       "    <tr>\n",
       "      <th>4</th>\n",
       "      <td>time-1607255144_eve-3661190_name-RED</td>\n",
       "      <td>1607255144</td>\n",
       "      <td>1.607709e+09</td>\n",
       "      <td>126.131667</td>\n",
       "      <td>5.255486</td>\n",
       "    </tr>\n",
       "  </tbody>\n",
       "</table>\n",
       "</div>"
      ],
      "text/plain": [
       "                                       family      tBirth        tDeath  \\\n",
       "0   time-1609746195_eve-3833245_name-STALLINS  1609746195  1.610329e+09   \n",
       "1      time-1611138522_eve-3897231_name-LUCKY  1611138522  1.611671e+09   \n",
       "2  time-1611388293_eve-3906808_name-ARTEMENKO  1611388293  1.611867e+09   \n",
       "3      time-1610335007_eve-3864700_name-APRIL  1610335007  1.610808e+09   \n",
       "4        time-1607255144_eve-3661190_name-RED  1607255144  1.607709e+09   \n",
       "\n",
       "   duration_hours  duration_days  \n",
       "0      161.972222       6.748843  \n",
       "1      147.875833       6.161493  \n",
       "2      132.887778       5.536991  \n",
       "3      131.353889       5.473079  \n",
       "4      126.131667       5.255486  "
      ]
     },
     "execution_count": 20,
     "metadata": {},
     "output_type": "execute_result"
    }
   ],
   "source": [
    "family_t = lineage_df.groupby('family').agg({'tBirth': 'min', 'tDeath': 'max'}).reset_index()\n",
    "family_t['duration_hours'] = (family_t['tDeath'] - family_t['tBirth'])/60/60\n",
    "family_t['duration_days'] = family_t['duration_hours']/24\n",
    "family_t = family_t.sort_values(by='duration_hours', ascending=False).reset_index(drop=True)\n",
    "family_t.head()"
   ]
  },
  {
   "cell_type": "code",
   "execution_count": 42,
   "metadata": {},
   "outputs": [
    {
     "data": {
      "text/plain": [
       "[[<matplotlib.axis.XTick at 0x2ab84aee6668>,\n",
       "  <matplotlib.axis.XTick at 0x2ab84aee6208>,\n",
       "  <matplotlib.axis.XTick at 0x2ab84aee7e10>,\n",
       "  <matplotlib.axis.XTick at 0x2ab84af767b8>,\n",
       "  <matplotlib.axis.XTick at 0x2ab84af76e48>],\n",
       " [Text(-2.0, 0, '0.01'),\n",
       "  Text(-1.0, 0, '0.1'),\n",
       "  Text(0.0, 0, '1.0'),\n",
       "  Text(1.0, 0, '10.0'),\n",
       "  Text(2.0, 0, '100.0')],\n",
       " Text(0.5, 0, 'Family duration (hours)')]"
      ]
     },
     "execution_count": 42,
     "metadata": {},
     "output_type": "execute_result"
    },
    {
     "data": {
      "image/png": "[encoded data removed]",
      "text/plain": [
       "<Figure size 432x288 with 1 Axes>"
      ]
     },
     "metadata": {},
     "output_type": "display_data"
    }
   ],
   "source": [
    "ax = sns.distplot(np.log10(family_t.duration_hours))\n",
    "log_xticks = ax.get_xticks()\n",
    "log_xticks = log_xticks[1:-1]\n",
    "ax.set(xticks = log_xticks, xticklabels = [10**x for x in log_xticks],\n",
    "       xlabel = 'Family duration (hours)')"
   ]
  },
  {
   "cell_type": "code",
   "execution_count": 43,
   "metadata": {},
   "outputs": [
    {
     "data": {
      "text/plain": [
       "min         0.008333\n",
       "max       161.972222\n",
       "median      1.947500\n",
       "Name: duration_hours, dtype: float64"
      ]
     },
     "execution_count": 43,
     "metadata": {},
     "output_type": "execute_result"
    }
   ],
   "source": [
    "family_t['duration_hours'].agg(['min', 'max', 'median'])"
   ]
  },
  {
   "cell_type": "markdown",
   "metadata": {},
   "source": [
    "## Compute summary statistics"
   ]
  },
  {
   "cell_type": "markdown",
   "metadata": {},
   "source": [
    "### Family size and life expectancy"
   ]
  },
  {
   "cell_type": "code",
   "execution_count": 44,
   "metadata": {},
   "outputs": [
    {
     "data": {
      "image/png": "[encoded data removed]",
      "text/plain": [
       "<Figure size 432x288 with 1 Axes>"
      ]
     },
     "metadata": {},
     "output_type": "display_data"
    }
   ],
   "source": [
    "life_expectancy = lineage_df.groupby('family')['age'].agg(['mean', 'count']).reset_index()\n",
    "ax = sns.distplot(life_expectancy['mean'])\n",
    "ax.set(xlabel = 'Life expectancy by family')\n",
    "sns.despine()"
   ]
  },
  {
   "cell_type": "code",
   "execution_count": 45,
   "metadata": {},
   "outputs": [
    {
     "data": {
      "image/png": "[encoded data removed]",
      "text/plain": [
       "<Figure size 432x288 with 1 Axes>"
      ]
     },
     "metadata": {},
     "output_type": "display_data"
    }
   ],
   "source": [
    "ax = sns.distplot(np.log10(life_expectancy['count']))\n",
    "ax.set(xlabel = 'Total family size', xticks=range(5), xticklabels=[10**i for i in range(5)])\n",
    "sns.despine()"
   ]
  },
  {
   "cell_type": "code",
   "execution_count": 46,
   "metadata": {},
   "outputs": [
    {
     "data": {
      "text/plain": [
       "ModeResult(mode=array([2]), count=array([848]))"
      ]
     },
     "execution_count": 46,
     "metadata": {},
     "output_type": "execute_result"
    }
   ],
   "source": [
    "scipy.stats.mode(life_expectancy['count'])"
   ]
  },
  {
   "cell_type": "markdown",
   "metadata": {},
   "source": [
    "### Living population size over time"
   ]
  },
  {
   "cell_type": "code",
   "execution_count": 47,
   "metadata": {},
   "outputs": [
    {
     "data": {
      "application/vnd.jupyter.widget-view+json": {
       "model_id": "724ee0a4894c44ec9118d9a7738ed6b3",
       "version_major": 2,
       "version_minor": 0
      },
      "text/plain": [
       "HBox(children=(FloatProgress(value=0.0, max=6138.0), HTML(value='')))"
      ]
     },
     "metadata": {},
     "output_type": "display_data"
    },
    {
     "name": "stdout",
     "output_type": "stream",
     "text": [
      "\n"
     ]
    }
   ],
   "source": [
    "living_list = []\n",
    "for fam in notebook.tqdm(boundless_families):\n",
    "    fam_df = lineage_df[lineage_df['family'] == fam].copy().reset_index(drop=True)\n",
    "    t = fam_df['tBirth'].values\n",
    "    for ti in t:\n",
    "        is_alive = (fam_df['tBirth'] <= ti) & (fam_df['tDeath'] > ti)\n",
    "        pop = np.sum(is_alive)\n",
    "        living_list.append((fam, ti, pop))"
   ]
  },
  {
   "cell_type": "code",
   "execution_count": 48,
   "metadata": {},
   "outputs": [
    {
     "data": {
      "text/html": [
       "<div>\n",
       "<style scoped>\n",
       "    .dataframe tbody tr th:only-of-type {\n",
       "        vertical-align: middle;\n",
       "    }\n",
       "\n",
       "    .dataframe tbody tr th {\n",
       "        vertical-align: top;\n",
       "    }\n",
       "\n",
       "    .dataframe thead th {\n",
       "        text-align: right;\n",
       "    }\n",
       "</style>\n",
       "<table border=\"1\" class=\"dataframe\">\n",
       "  <thead>\n",
       "    <tr style=\"text-align: right;\">\n",
       "      <th></th>\n",
       "      <th>family</th>\n",
       "      <th>t</th>\n",
       "      <th>population</th>\n",
       "      <th>t0</th>\n",
       "      <th>t_elapsed</th>\n",
       "    </tr>\n",
       "  </thead>\n",
       "  <tbody>\n",
       "    <tr>\n",
       "      <th>0</th>\n",
       "      <td>time-1573253679_eve-2251043_name-MCCRACKEN</td>\n",
       "      <td>1573253679</td>\n",
       "      <td>1</td>\n",
       "      <td>1573253679</td>\n",
       "      <td>0.000000</td>\n",
       "    </tr>\n",
       "    <tr>\n",
       "      <th>1</th>\n",
       "      <td>time-1573253679_eve-2251043_name-MCCRACKEN</td>\n",
       "      <td>1573253683</td>\n",
       "      <td>2</td>\n",
       "      <td>1573253679</td>\n",
       "      <td>0.001111</td>\n",
       "    </tr>\n",
       "    <tr>\n",
       "      <th>2</th>\n",
       "      <td>time-1573253679_eve-2251043_name-MCCRACKEN</td>\n",
       "      <td>1573253829</td>\n",
       "      <td>3</td>\n",
       "      <td>1573253679</td>\n",
       "      <td>0.041667</td>\n",
       "    </tr>\n",
       "    <tr>\n",
       "      <th>3</th>\n",
       "      <td>time-1573253679_eve-2251043_name-MCCRACKEN</td>\n",
       "      <td>1573254047</td>\n",
       "      <td>4</td>\n",
       "      <td>1573253679</td>\n",
       "      <td>0.102222</td>\n",
       "    </tr>\n",
       "    <tr>\n",
       "      <th>4</th>\n",
       "      <td>time-1573253679_eve-2251043_name-MCCRACKEN</td>\n",
       "      <td>1573254054</td>\n",
       "      <td>5</td>\n",
       "      <td>1573253679</td>\n",
       "      <td>0.104167</td>\n",
       "    </tr>\n",
       "  </tbody>\n",
       "</table>\n",
       "</div>"
      ],
      "text/plain": [
       "                                       family           t  population  \\\n",
       "0  time-1573253679_eve-2251043_name-MCCRACKEN  1573253679           1   \n",
       "1  time-1573253679_eve-2251043_name-MCCRACKEN  1573253683           2   \n",
       "2  time-1573253679_eve-2251043_name-MCCRACKEN  1573253829           3   \n",
       "3  time-1573253679_eve-2251043_name-MCCRACKEN  1573254047           4   \n",
       "4  time-1573253679_eve-2251043_name-MCCRACKEN  1573254054           5   \n",
       "\n",
       "           t0  t_elapsed  \n",
       "0  1573253679   0.000000  \n",
       "1  1573253679   0.001111  \n",
       "2  1573253679   0.041667  \n",
       "3  1573253679   0.102222  \n",
       "4  1573253679   0.104167  "
      ]
     },
     "execution_count": 48,
     "metadata": {},
     "output_type": "execute_result"
    }
   ],
   "source": [
    "living_df = pd.DataFrame(living_list, columns = ['family', 't', 'population'])\n",
    "living_df = living_df.sort_values(by=['family', 't'], ascending=True).reset_index(drop=True)\n",
    "living_df['t0'] = living_df.groupby('family')['t'].transform('first')\n",
    "living_df['t_elapsed'] = (living_df['t'] - living_df['t0'])/60/60\n",
    "living_df.head()"
   ]
  },
  {
   "cell_type": "markdown",
   "metadata": {},
   "source": [
    "Plot a subset"
   ]
  },
  {
   "cell_type": "code",
   "execution_count": 49,
   "metadata": {
    "scrolled": true
   },
   "outputs": [
    {
     "data": {
      "image/png": "[encoded data removed]",
      "text/plain": [
       "<Figure size 1343.65x432 with 1 Axes>"
      ]
     },
     "metadata": {},
     "output_type": "display_data"
    }
   ],
   "source": [
    "np.random.seed(526)\n",
    "random_families = np.random.choice(boundless_families, size=10, replace=False)\n",
    "random_subset = living_df[living_df['family'].isin(random_families)]\n",
    "g = sns.relplot(data=random_subset, x='t_elapsed', y='population', hue='family', kind='line',\n",
    "                 height=6, aspect=2, alpha = 0.5)\n",
    "g.set(xlabel = 'Time elapsed (hours)', ylabel = 'Population size')\n",
    "g._legend.remove()"
   ]
  },
  {
   "cell_type": "markdown",
   "metadata": {},
   "source": [
    "Maximum population size"
   ]
  },
  {
   "cell_type": "code",
   "execution_count": 50,
   "metadata": {},
   "outputs": [
    {
     "data": {
      "image/png": "[encoded data removed]",
      "text/plain": [
       "<Figure size 432x288 with 1 Axes>"
      ]
     },
     "metadata": {},
     "output_type": "display_data"
    }
   ],
   "source": [
    "max_pop = living_df.groupby('family')['population'].agg('max').reset_index()\n",
    "ax = sns.distplot(max_pop['population'])\n",
    "ax.set(xlabel = 'Maximum living population size')\n",
    "sns.despine()"
   ]
  },
  {
   "cell_type": "code",
   "execution_count": 54,
   "metadata": {},
   "outputs": [
    {
     "data": {
      "text/plain": [
       "min        1.0\n",
       "max       72.0\n",
       "median     9.0\n",
       "Name: population, dtype: float64"
      ]
     },
     "execution_count": 54,
     "metadata": {},
     "output_type": "execute_result"
    }
   ],
   "source": [
    "max_pop['population'].agg(['min', 'max', 'median'])"
   ]
  },
  {
   "cell_type": "markdown",
   "metadata": {},
   "source": [
    "### # of generations (Chain length)"
   ]
  },
  {
   "cell_type": "markdown",
   "metadata": {},
   "source": [
    "Helper: Read JSON files"
   ]
  },
  {
   "cell_type": "code",
   "execution_count": 55,
   "metadata": {},
   "outputs": [],
   "source": [
    "def open_graph(f):\n",
    "    with open(f) as handle:\n",
    "        graph_data = json.load(handle)\n",
    "    return nx.json_graph.node_link_graph(graph_data)"
   ]
  },
  {
   "cell_type": "markdown",
   "metadata": {},
   "source": [
    "Find longest chain in family graphs"
   ]
  },
  {
   "cell_type": "code",
   "execution_count": 56,
   "metadata": {},
   "outputs": [
    {
     "data": {
      "application/vnd.jupyter.widget-view+json": {
       "model_id": "b60506e5a74148e8b5998c73e5e3c0a9",
       "version_major": 2,
       "version_minor": 0
      },
      "text/plain": [
       "HBox(children=(FloatProgress(value=0.0, max=6138.0), HTML(value='')))"
      ]
     },
     "metadata": {},
     "output_type": "display_data"
    },
    {
     "name": "stdout",
     "output_type": "stream",
     "text": [
      "\n"
     ]
    }
   ],
   "source": [
    "chain_list = []\n",
    "family_generations = []\n",
    "\n",
    "for f in notebook.tqdm(boundless_families):\n",
    "    fam_file = 'outputs/families/families_%s.json' % f\n",
    "    fam_graph = open_graph(fam_file)\n",
    "    fam_chain = nx.algorithms.dag_longest_path(fam_graph)\n",
    "    \n",
    "    eve = re.search(r'(?<=eve-)([0-9]+)', f).group(0)\n",
    "    \n",
    "    chain_list.append((f, len(fam_chain)))"
   ]
  },
  {
   "cell_type": "code",
   "execution_count": 57,
   "metadata": {},
   "outputs": [
    {
     "data": {
      "text/html": [
       "<div>\n",
       "<style scoped>\n",
       "    .dataframe tbody tr th:only-of-type {\n",
       "        vertical-align: middle;\n",
       "    }\n",
       "\n",
       "    .dataframe tbody tr th {\n",
       "        vertical-align: top;\n",
       "    }\n",
       "\n",
       "    .dataframe thead th {\n",
       "        text-align: right;\n",
       "    }\n",
       "</style>\n",
       "<table border=\"1\" class=\"dataframe\">\n",
       "  <thead>\n",
       "    <tr style=\"text-align: right;\">\n",
       "      <th></th>\n",
       "      <th>family</th>\n",
       "      <th>longest_path</th>\n",
       "    </tr>\n",
       "  </thead>\n",
       "  <tbody>\n",
       "    <tr>\n",
       "      <th>0</th>\n",
       "      <td>time-1573253679_eve-2251043_name-MCCRACKEN</td>\n",
       "      <td>3</td>\n",
       "    </tr>\n",
       "    <tr>\n",
       "      <th>1</th>\n",
       "      <td>time-1573253705_eve-2251049_name-FINCH</td>\n",
       "      <td>2</td>\n",
       "    </tr>\n",
       "    <tr>\n",
       "      <th>2</th>\n",
       "      <td>time-1573253707_eve-2251051_name-SORROWS</td>\n",
       "      <td>2</td>\n",
       "    </tr>\n",
       "    <tr>\n",
       "      <th>3</th>\n",
       "      <td>time-1573253710_eve-2251053_name-LION</td>\n",
       "      <td>4</td>\n",
       "    </tr>\n",
       "    <tr>\n",
       "      <th>4</th>\n",
       "      <td>time-1573253711_eve-2251054_name-DEADRICK</td>\n",
       "      <td>7</td>\n",
       "    </tr>\n",
       "  </tbody>\n",
       "</table>\n",
       "</div>"
      ],
      "text/plain": [
       "                                       family  longest_path\n",
       "0  time-1573253679_eve-2251043_name-MCCRACKEN             3\n",
       "1      time-1573253705_eve-2251049_name-FINCH             2\n",
       "2    time-1573253707_eve-2251051_name-SORROWS             2\n",
       "3       time-1573253710_eve-2251053_name-LION             4\n",
       "4   time-1573253711_eve-2251054_name-DEADRICK             7"
      ]
     },
     "execution_count": 57,
     "metadata": {},
     "output_type": "execute_result"
    }
   ],
   "source": [
    "chain_df = pd.DataFrame(chain_list, columns=['family', 'longest_path'])\n",
    "chain_df.head()"
   ]
  },
  {
   "cell_type": "code",
   "execution_count": 62,
   "metadata": {},
   "outputs": [
    {
     "data": {
      "text/plain": [
       "min         2.0\n",
       "max       357.0\n",
       "median      5.0\n",
       "Name: longest_path, dtype: float64"
      ]
     },
     "execution_count": 62,
     "metadata": {},
     "output_type": "execute_result"
    }
   ],
   "source": [
    "chain_df['longest_path'].agg(['min', 'max', 'median'])"
   ]
  },
  {
   "cell_type": "code",
   "execution_count": 61,
   "metadata": {},
   "outputs": [
    {
     "data": {
      "text/plain": [
       "[Text(0.5, 0, '# of generations')]"
      ]
     },
     "execution_count": 61,
     "metadata": {},
     "output_type": "execute_result"
    },
    {
     "data": {
      "image/png": "[encoded data removed]",
      "text/plain": [
       "<Figure size 432x288 with 1 Axes>"
      ]
     },
     "metadata": {},
     "output_type": "display_data"
    }
   ],
   "source": [
    "ax = sns.distplot(np.log10(chain_df['longest_path']))\n",
    "\n",
    "ax.set(xlabel = '# of generations')\n"
   ]
  },
  {
   "cell_type": "code",
   "execution_count": 60,
   "metadata": {},
   "outputs": [
    {
     "data": {
      "text/html": [
       "<div>\n",
       "<style scoped>\n",
       "    .dataframe tbody tr th:only-of-type {\n",
       "        vertical-align: middle;\n",
       "    }\n",
       "\n",
       "    .dataframe tbody tr th {\n",
       "        vertical-align: top;\n",
       "    }\n",
       "\n",
       "    .dataframe thead th {\n",
       "        text-align: right;\n",
       "    }\n",
       "</style>\n",
       "<table border=\"1\" class=\"dataframe\">\n",
       "  <thead>\n",
       "    <tr style=\"text-align: right;\">\n",
       "      <th></th>\n",
       "      <th>family</th>\n",
       "      <th>longest_path</th>\n",
       "    </tr>\n",
       "  </thead>\n",
       "  <tbody>\n",
       "    <tr>\n",
       "      <th>5895</th>\n",
       "      <td>time-1609746195_eve-3833245_name-STALLINS</td>\n",
       "      <td>357</td>\n",
       "    </tr>\n",
       "    <tr>\n",
       "      <th>5977</th>\n",
       "      <td>time-1611138522_eve-3897231_name-LUCKY</td>\n",
       "      <td>330</td>\n",
       "    </tr>\n",
       "    <tr>\n",
       "      <th>5990</th>\n",
       "      <td>time-1611388293_eve-3906808_name-ARTEMENKO</td>\n",
       "      <td>296</td>\n",
       "    </tr>\n",
       "    <tr>\n",
       "      <th>5931</th>\n",
       "      <td>time-1610335007_eve-3864700_name-APRIL</td>\n",
       "      <td>296</td>\n",
       "    </tr>\n",
       "    <tr>\n",
       "      <th>5590</th>\n",
       "      <td>time-1607255144_eve-3661190_name-RED</td>\n",
       "      <td>292</td>\n",
       "    </tr>\n",
       "  </tbody>\n",
       "</table>\n",
       "</div>"
      ],
      "text/plain": [
       "                                          family  longest_path\n",
       "5895   time-1609746195_eve-3833245_name-STALLINS           357\n",
       "5977      time-1611138522_eve-3897231_name-LUCKY           330\n",
       "5990  time-1611388293_eve-3906808_name-ARTEMENKO           296\n",
       "5931      time-1610335007_eve-3864700_name-APRIL           296\n",
       "5590        time-1607255144_eve-3661190_name-RED           292"
      ]
     },
     "execution_count": 60,
     "metadata": {},
     "output_type": "execute_result"
    }
   ],
   "source": [
    "chain_df.sort_values(by='longest_path', ascending=False).head()"
   ]
  },
  {
   "cell_type": "markdown",
   "metadata": {},
   "source": [
    "## Modeling success"
   ]
  },
  {
   "cell_type": "markdown",
   "metadata": {},
   "source": [
    "Criterion for \"success\": Reaching age 14 (viability fitness)"
   ]
  },
  {
   "cell_type": "code",
   "execution_count": null,
   "metadata": {},
   "outputs": [],
   "source": [
    "mortality_df = lineage_df.copy()\n",
    "mortality_df['adult'] = (lineage_df['age'] >= 14)*1\n",
    "mortality_df = mortality_df[['family', 'avatar', 'adult']]\n",
    "\n",
    "mortality_summ = mortality_df.groupby('family')['adult'].agg(['sum', 'count']).reset_index()\n",
    "mortality_summ['sum'] = mortality_summ['sum'].astype(np.int)\n",
    "mortality_summ.head()"
   ]
  },
  {
   "cell_type": "markdown",
   "metadata": {},
   "source": [
    "Compute beta distribution for each family\n",
    "\n",
    "Prior: Uniform\n",
    "$$\n",
    "\\theta \\sim \\mathrm{Beta}(\\alpha_0, \\beta_0) \\\\\n",
    "\\alpha_0 = \\beta_0 = 1\n",
    "$$\n",
    "\n",
    "Posterior-sufficient statistics:\n",
    "$$\n",
    "\\theta | D \\sim \\mathrm{Beta}(\\alpha_0 + k, \\beta_0 + N - k) \\\\ \n",
    "a = \\alpha_0 + k \\\\\n",
    "b = \\beta_0 + N - k\n",
    "$$"
   ]
  },
  {
   "cell_type": "code",
   "execution_count": null,
   "metadata": {},
   "outputs": [],
   "source": [
    "def beta_mean(row): return scipy.stats.beta.mean(row['a'], row['b'])\n",
    "def beta_var(row): return scipy.stats.beta.var(row['a'], row['b'])\n",
    "\n",
    "mortality_summ['a'] = 3 + mortality_summ['sum']\n",
    "mortality_summ['b'] = 3 + mortality_summ['count'] - mortality_summ['sum']\n",
    "mortality_summ['beta_mean'] = mortality_summ.apply(beta_mean, axis=1)\n",
    "mortality_summ['beta_var'] = mortality_summ.apply(beta_var, axis=1)\n",
    "mortality_summ['snr'] = mortality_summ['beta_mean']/mortality_summ['beta_var']\n",
    "mortality_summ['weighted_size'] = mortality_summ['beta_mean']*mortality_summ['count']\n",
    "mortality_summ = pd.merge(mortality_summ, chain_df, on = 'family')\n",
    "mortality_summ.to_csv('outputs/family_fitness.tsv', sep='\\t', index=False)\n",
    "mortality_summ.head()"
   ]
  },
  {
   "cell_type": "markdown",
   "metadata": {},
   "source": [
    "### Compare candidate success measures"
   ]
  },
  {
   "cell_type": "markdown",
   "metadata": {},
   "source": [
    "Beta mean:"
   ]
  },
  {
   "cell_type": "code",
   "execution_count": null,
   "metadata": {},
   "outputs": [],
   "source": [
    "ax = sns.distplot(mortality_summ['beta_mean'])\n",
    "ax.set(xlabel = 'Mean viability ($\\mu$)')\n",
    "sns.despine()"
   ]
  },
  {
   "cell_type": "markdown",
   "metadata": {},
   "source": [
    "Distribution of SNR:"
   ]
  },
  {
   "cell_type": "code",
   "execution_count": null,
   "metadata": {},
   "outputs": [],
   "source": [
    "ax = sns.distplot(np.log10(mortality_summ['snr']))\n",
    "ax.set(xlabel='Signal-to-noise ratio ($\\mu/\\sigma$)',\n",
    "       xticks = np.arange(1,5), xticklabels=[10**x for x in np.arange(1,5)])\n",
    "sns.despine()"
   ]
  },
  {
   "cell_type": "markdown",
   "metadata": {},
   "source": [
    "Distribution of weighted size:"
   ]
  },
  {
   "cell_type": "code",
   "execution_count": null,
   "metadata": {},
   "outputs": [],
   "source": [
    "ax = sns.distplot(np.log10(mortality_summ['weighted_size']))\n",
    "ax.set(xlabel='Weighted family size ($\\mu N$)',\n",
    "       xticks=np.arange(0, 5), xticklabels=[10**x for x in np.arange(0, 5)])"
   ]
  },
  {
   "cell_type": "markdown",
   "metadata": {},
   "source": [
    "Distribution of # adults:"
   ]
  },
  {
   "cell_type": "code",
   "execution_count": null,
   "metadata": {},
   "outputs": [],
   "source": [
    "ax = sns.distplot(np.log10(mortality_summ['sum']))\n",
    "ax.set(xlabel='# of adults', xticks = np.arange(0,5), xticklabels=[10**x for x in np.arange(0,5)])"
   ]
  },
  {
   "cell_type": "markdown",
   "metadata": {},
   "source": [
    "### Plot representative families"
   ]
  },
  {
   "cell_type": "markdown",
   "metadata": {},
   "source": [
    "Split data into quartiles:"
   ]
  },
  {
   "cell_type": "code",
   "execution_count": null,
   "metadata": {},
   "outputs": [],
   "source": [
    "success = 'sum' # Success metric\n",
    "mortality_summ['quantile'] = pd.qcut(mortality_summ[success], 4, labels=False)"
   ]
  },
  {
   "cell_type": "markdown",
   "metadata": {},
   "source": [
    "What are the quantiles?"
   ]
  },
  {
   "cell_type": "code",
   "execution_count": null,
   "metadata": {},
   "outputs": [],
   "source": [
    "success_q = scipy.stats.mstats.mquantiles(mortality_summ[success], prob=[0.25, 0.5, 0.75, 1])\n",
    "mortality_summ['log_n'] = np.log10(mortality_summ['sum'])\n",
    "\n",
    "# Plot!\n",
    "q_log = np.log10(success_q)\n",
    "plt.figure(figsize=(12,4))\n",
    "for q in q_log:\n",
    "    plt.axvline(q, color='#aaaaaa', linestyle='--')\n",
    "\n",
    "ax = sns.distplot(mortality_summ['log_n'])\n",
    "ax.set_xticks(range(5))\n",
    "labels = [10**t for t in ax.get_xticks()]\n",
    "ax.set(xlabel='# of adults', xticklabels=labels)\n",
    "sns.despine()"
   ]
  },
  {
   "cell_type": "markdown",
   "metadata": {},
   "source": [
    "Plot representative family trees from each quartile:"
   ]
  },
  {
   "cell_type": "code",
   "execution_count": null,
   "metadata": {},
   "outputs": [],
   "source": [
    "np.random.seed(526)\n",
    "representative_families = np.array([np.random.choice(group['family'], 10) \n",
    "                                    for name,group in mortality_summ.groupby('quantile')])\n",
    "rep_list = np.array(representative_families)\n",
    "rep_list = rep_list.flatten()\n",
    "\n",
    "rep_info = mortality_summ.copy()\n",
    "rep_info = rep_info[rep_info['family'].isin(rep_list)]\n",
    "rep_info = rep_info.reset_index(drop=True)\n",
    "rep_info = rep_info.sort_values('quantile')\n",
    "rep_info.to_csv('plots/fitness_quantiles/selected_families.tsv', sep='\\t', index=None)\n",
    "rep_info.head()"
   ]
  },
  {
   "cell_type": "code",
   "execution_count": null,
   "metadata": {
    "scrolled": false
   },
   "outputs": [],
   "source": [
    "for quant in notebook.tqdm(range(4)):\n",
    "    for f in notebook.tqdm(representative_families[quant]):\n",
    "        fam_file = 'outputs/families/families_%s.json' % f\n",
    "        out_file = 'plots/fitness_quantiles/families_Q%i_%s.png' % (quant+1, f)\n",
    "\n",
    "        # Load graph and remove infant deaths\n",
    "        fam_graph = open_graph(fam_file)\n",
    "\n",
    "        # Figure size (based on graphviz layout)\n",
    "        nx.nx_agraph.write_dot(fam_graph,'fam.dot')\n",
    "        pos=graphviz_layout(fam_graph, prog='dot')\n",
    "        pos_coords = pd.DataFrame(list(pos.values()), columns=['x','y']).agg(['max', 'min'])\n",
    "        w = (pos_coords.loc['max', 'x'] - pos_coords.loc['min', 'x'])/150\n",
    "        h = (pos_coords.loc['max', 'y'] - pos_coords.loc['min', 'y'])/150\n",
    "\n",
    "        # Adjust for 2-member families\n",
    "        w = max(w, 2)\n",
    "        h = max(h, 2)\n",
    "\n",
    "        # Node color (based on whether individuals reached maturity)\n",
    "        fam_nodes = list(fam_graph.nodes)\n",
    "        fam_nodes = [int(n) for n in fam_nodes]\n",
    "\n",
    "        fam_attr = mortality_df[['avatar', 'adult']].copy()\n",
    "        fam_attr = fam_attr[fam_attr['avatar'].isin(fam_nodes)]\n",
    "        fam_attr = fam_attr.set_index('avatar')\n",
    "        fam_attr = fam_attr.to_dict()\n",
    "        \n",
    "        fam_color = []\n",
    "        for n in fam_nodes:\n",
    "            if n in infant_deaths:\n",
    "                fam_color.append('#cccccc')\n",
    "            else:\n",
    "                if fam_attr['adult'][n] == 1:\n",
    "                    fam_color.append('#4ab1ff')\n",
    "                else:\n",
    "                    fam_color.append('#4ab1ff')\n",
    "\n",
    "#         fam_color = [fam_attr['adult'][n] == 1 for n in fam_nodes]\n",
    "#         fam_color = ['#4ab1ff' if c else '#cccccc' for c in fam_color]\n",
    "\n",
    "        plt.figure(3,figsize=(w,h)) \n",
    "        nx.draw(fam_graph, pos, with_labels=False, arrows=True, node_color=fam_color)\n",
    "        plt.savefig(out_file, transparent=True)\n",
    "        plt.close()"
   ]
  },
  {
   "cell_type": "markdown",
   "metadata": {},
   "source": [
    "## Plots for talk"
   ]
  },
  {
   "cell_type": "markdown",
   "metadata": {},
   "source": [
    "<div style='background-color:red;color:white;'>TODO: The plots below should be moved elsewhere to preserve order!</div>\n",
    "Relationship between family and repertoire size:"
   ]
  },
  {
   "cell_type": "code",
   "execution_count": null,
   "metadata": {},
   "outputs": [],
   "source": [
    "rep_df = pd.read_csv('../3_technology/outputs/family_repertoire.tsv', sep='\\t')\n",
    "rep_df.head()"
   ]
  },
  {
   "cell_type": "code",
   "execution_count": null,
   "metadata": {},
   "outputs": [],
   "source": [
    "family_n = mortality_summ[['family','sum', 'log_n']]\n",
    "family_rep = rep_df[['family', 'breadth','log_breadth']]\n",
    "n_rep = pd.merge(family_n, family_rep, on='family')\n",
    "n_rep.head()"
   ]
  },
  {
   "cell_type": "markdown",
   "metadata": {},
   "source": [
    "Max items possible?"
   ]
  },
  {
   "cell_type": "code",
   "execution_count": null,
   "metadata": {},
   "outputs": [],
   "source": [
    "item_df = pd.read_csv('../4_techtree/num_unique_ingredients.csv')\n",
    "n_items = len(item_df)\n",
    "print('# items: %i' % n_items)\n",
    "item_df.head()"
   ]
  },
  {
   "cell_type": "markdown",
   "metadata": {},
   "source": [
    "Distribution of repertoire sizes"
   ]
  },
  {
   "cell_type": "code",
   "execution_count": null,
   "metadata": {},
   "outputs": [],
   "source": [
    "rep_q = scipy.stats.mstats.mquantiles(rep_df['log_breadth'], prob=[0.25, 0.5, 0.75, 1])\n",
    "print(rep_q)\n",
    "\n",
    "plt.figure(figsize=(12,4))\n",
    "# for q in rep_q:\n",
    "#     plt.axvline(q, color='#aaaaaa', linestyle='--')\n",
    "#plt.axvspan(0, q_log[0], alpha=0.5, color='red') \n",
    "\n",
    "ax = sns.distplot(rep_df['log_breadth'], bins=20)\n",
    "ax.set_xlim(left=0)\n",
    "ax.set_xticks(range(5))\n",
    "plt.axvline(np.log10(n_items), linestyle='--', color = '#f5a442')\n",
    "labels = [10**t for t in ax.get_xticks()]\n",
    "ax.set(xlabel='Repertoire size', xticklabels=labels)\n",
    "sns.despine()"
   ]
  },
  {
   "cell_type": "code",
   "execution_count": null,
   "metadata": {},
   "outputs": [],
   "source": [
    "g = sns.jointplot(data=n_rep, x='log_breadth', y='log_n', kind='reg', lowess=True,\n",
    "                  marginal_kws={'bins':20},\n",
    "                  scatter_kws={'alpha':0.01, 'color': '#A5C8E1'})\n",
    "ticks = np.arange(4)\n",
    "tick_labels = [10**t for t in ticks]\n",
    "g.ax_joint.set(xticks = ticks, yticks = ticks,\n",
    "               xticklabels = tick_labels, yticklabels = tick_labels,\n",
    "               xlabel='Viability',\n",
    "               ylabel='Repertoire size')"
   ]
  },
  {
   "cell_type": "code",
   "execution_count": null,
   "metadata": {},
   "outputs": [],
   "source": [
    "gini_df = pd.read_csv('../3_technology/outputs/family_gini.tsv', sep='\\t')\n",
    "gini_df.head()"
   ]
  },
  {
   "cell_type": "code",
   "execution_count": null,
   "metadata": {},
   "outputs": [],
   "source": [
    "gini_rep = pd.merge(gini_df, rep_df, on='family')\n",
    "gini_rep.head()"
   ]
  },
  {
   "cell_type": "code",
   "execution_count": null,
   "metadata": {},
   "outputs": [],
   "source": [
    "fig = plt.figure(figsize=(6,6))\n",
    "ax = sns.regplot(x='gini', y='log_breadth', data=gini_rep,\n",
    "                 scatter_kws={'alpha': 0.05, 'color': '#A5C8E1'}, \n",
    "                 line_kws = {'color': '#2276B4'}, lowess=True)\n",
    "yticks =  np.arange(0,5)\n",
    "ax.set_yticks(yticks)\n",
    "yticklabels = [10**y for y in yticks]\n",
    "ax.set(xlabel = 'Innovation inequality (G)',\n",
    "       xlim = (0,1),\n",
    "       ylabel = 'Repertoire size',\n",
    "       yticklabels=yticklabels)\n",
    "sns.despine()"
   ]
  },
  {
   "cell_type": "code",
   "execution_count": null,
   "metadata": {},
   "outputs": [],
   "source": [
    "plt.figure(figsize=(7,5))\n",
    "equal_dist = np.array([0,1,2,3,4])\n",
    "ax = sns.distplot(equal_dist, kde=False, hist_kws={'density': False}, bins=5)\n",
    "ax.set(xlim = (0,11), ylim = (0,5),\n",
    "       xticks = np.arange(0,11),\n",
    "       yticks = np.arange(6),\n",
    "       xlabel='# discoveries',\n",
    "       ylabel='# players')\n",
    "sns.despine()"
   ]
  }
 ],
 "metadata": {
  "kernelspec": {
   "display_name": "Python [conda env:.conda-py3]",
   "language": "python",
   "name": "conda-env-.conda-py3-py"
  },
  "language_info": {
   "codemirror_mode": {
    "name": "ipython",
    "version": 3
   },
   "file_extension": ".py",
   "mimetype": "text/x-python",
   "name": "python",
   "nbconvert_exporter": "python",
   "pygments_lexer": "ipython3",
   "version": "3.6.10"
  }
 },
 "nbformat": 4,
 "nbformat_minor": 4
}
