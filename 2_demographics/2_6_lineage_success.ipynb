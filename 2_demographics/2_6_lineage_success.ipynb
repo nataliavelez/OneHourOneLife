{
 "cells": [
  {
   "cell_type": "markdown",
   "metadata": {},
   "source": [
    "# Compare success of different lineages\n",
    "Natalia Vélez, July 2020\n",
    "\n",
    "Now that we've built a graph representation of family trees, we'll use it to compare lineages and operationalize a success measure."
   ]
  },
  {
   "cell_type": "code",
   "execution_count": 1,
   "metadata": {},
   "outputs": [],
   "source": [
    "%matplotlib inline\n",
    "\n",
    "import os, re, glob, datetime, json\n",
    "from os.path import join as opj\n",
    "\n",
    "import pandas as pd\n",
    "import numpy as np\n",
    "import scipy.stats\n",
    "from tqdm import notebook\n",
    "\n",
    "import networkx as nx\n",
    "import matplotlib.pyplot as plt\n",
    "import seaborn as sns\n",
    "from networkx.drawing.nx_agraph import graphviz_layout\n",
    "\n",
    "sns.set_context('talk')\n",
    "sns.set_style('white')"
   ]
  },
  {
   "cell_type": "markdown",
   "metadata": {},
   "source": [
    "## Set up data"
   ]
  },
  {
   "cell_type": "markdown",
   "metadata": {},
   "source": [
    "Find start of boundless era from version history:"
   ]
  },
  {
   "cell_type": "code",
   "execution_count": 2,
   "metadata": {},
   "outputs": [
    {
     "name": "stdout",
     "output_type": "stream",
     "text": [
      "Start of boundless: 2019-11-08 22:27:14\n"
     ]
    },
    {
     "data": {
      "text/html": [
       "<div>\n",
       "<style scoped>\n",
       "    .dataframe tbody tr th:only-of-type {\n",
       "        vertical-align: middle;\n",
       "    }\n",
       "\n",
       "    .dataframe tbody tr th {\n",
       "        vertical-align: top;\n",
       "    }\n",
       "\n",
       "    .dataframe thead th {\n",
       "        text-align: right;\n",
       "    }\n",
       "</style>\n",
       "<table border=\"1\" class=\"dataframe\">\n",
       "  <thead>\n",
       "    <tr style=\"text-align: right;\">\n",
       "      <th></th>\n",
       "      <th>release</th>\n",
       "      <th>timestamp</th>\n",
       "    </tr>\n",
       "  </thead>\n",
       "  <tbody>\n",
       "    <tr>\n",
       "      <th>0</th>\n",
       "      <td>1</td>\n",
       "      <td>1.483052e+09</td>\n",
       "    </tr>\n",
       "    <tr>\n",
       "      <th>1</th>\n",
       "      <td>5</td>\n",
       "      <td>1.483472e+09</td>\n",
       "    </tr>\n",
       "    <tr>\n",
       "      <th>2</th>\n",
       "      <td>8</td>\n",
       "      <td>1.484065e+09</td>\n",
       "    </tr>\n",
       "    <tr>\n",
       "      <th>3</th>\n",
       "      <td>14</td>\n",
       "      <td>1.484961e+09</td>\n",
       "    </tr>\n",
       "    <tr>\n",
       "      <th>4</th>\n",
       "      <td>16</td>\n",
       "      <td>1.492207e+09</td>\n",
       "    </tr>\n",
       "  </tbody>\n",
       "</table>\n",
       "</div>"
      ],
      "text/plain": [
       "   release     timestamp\n",
       "0        1  1.483052e+09\n",
       "1        5  1.483472e+09\n",
       "2        8  1.484065e+09\n",
       "3       14  1.484961e+09\n",
       "4       16  1.492207e+09"
      ]
     },
     "execution_count": 2,
     "metadata": {},
     "output_type": "execute_result"
    }
   ],
   "source": [
    "ver_history = pd.read_csv('../1_download/outputs/version_history.tsv', sep='\\t')\n",
    "boundless_t = ver_history.loc[ver_history['release'] == 280, 'timestamp'].values[0]\n",
    "print('Start of boundless: %s' % datetime.datetime.fromtimestamp(boundless_t))\n",
    "ver_history.head()"
   ]
  },
  {
   "cell_type": "markdown",
   "metadata": {},
   "source": [
    "Load lifelog data:"
   ]
  },
  {
   "cell_type": "code",
   "execution_count": 3,
   "metadata": {},
   "outputs": [
    {
     "name": "stderr",
     "output_type": "stream",
     "text": [
      "/users/nvelezalicea/.conda/envs/py3/lib/python3.6/site-packages/numpy/lib/arraysetops.py:580: FutureWarning: elementwise comparison failed; returning scalar instead, but in the future will perform elementwise comparison\n",
      "  mask |= (ar1 == a)\n"
     ]
    },
    {
     "data": {
      "text/html": [
       "<div>\n",
       "<style scoped>\n",
       "    .dataframe tbody tr th:only-of-type {\n",
       "        vertical-align: middle;\n",
       "    }\n",
       "\n",
       "    .dataframe tbody tr th {\n",
       "        vertical-align: top;\n",
       "    }\n",
       "\n",
       "    .dataframe thead th {\n",
       "        text-align: right;\n",
       "    }\n",
       "</style>\n",
       "<table border=\"1\" class=\"dataframe\">\n",
       "  <thead>\n",
       "    <tr style=\"text-align: right;\">\n",
       "      <th></th>\n",
       "      <th>player</th>\n",
       "      <th>avatar</th>\n",
       "      <th>tBirth</th>\n",
       "      <th>parent</th>\n",
       "      <th>birth</th>\n",
       "      <th>tDeath</th>\n",
       "      <th>death</th>\n",
       "      <th>age</th>\n",
       "      <th>cause_of_death</th>\n",
       "      <th>birthX</th>\n",
       "      <th>birthY</th>\n",
       "      <th>deathX</th>\n",
       "      <th>deathY</th>\n",
       "      <th>first</th>\n",
       "      <th>last</th>\n",
       "    </tr>\n",
       "  </thead>\n",
       "  <tbody>\n",
       "    <tr>\n",
       "      <th>0</th>\n",
       "      <td>06d8ab86b0daf11b13a446b87f770aa20bee1ca0</td>\n",
       "      <td>3308603</td>\n",
       "      <td>1599462917</td>\n",
       "      <td>3308581</td>\n",
       "      <td>[-63752   -504]</td>\n",
       "      <td>NaN</td>\n",
       "      <td>[]</td>\n",
       "      <td>NaN</td>\n",
       "      <td>NaN</td>\n",
       "      <td>-63752</td>\n",
       "      <td>-504</td>\n",
       "      <td>NaN</td>\n",
       "      <td>NaN</td>\n",
       "      <td>SUPERIOR</td>\n",
       "      <td>MATSU</td>\n",
       "    </tr>\n",
       "    <tr>\n",
       "      <th>1</th>\n",
       "      <td>67bffa53500e2c626edc407409b6550996b748db</td>\n",
       "      <td>3308602</td>\n",
       "      <td>1599462864</td>\n",
       "      <td>3308575</td>\n",
       "      <td>[-63753   -507]</td>\n",
       "      <td>NaN</td>\n",
       "      <td>[]</td>\n",
       "      <td>NaN</td>\n",
       "      <td>NaN</td>\n",
       "      <td>-63753</td>\n",
       "      <td>-507</td>\n",
       "      <td>NaN</td>\n",
       "      <td>NaN</td>\n",
       "      <td>FEATHER</td>\n",
       "      <td>MATSU</td>\n",
       "    </tr>\n",
       "    <tr>\n",
       "      <th>2</th>\n",
       "      <td>fbc0168048713cfaf6ef6a350c0171e7b2b0af4a</td>\n",
       "      <td>3308601</td>\n",
       "      <td>1599462805</td>\n",
       "      <td>3308564</td>\n",
       "      <td>[-63762   -523]</td>\n",
       "      <td>NaN</td>\n",
       "      <td>[]</td>\n",
       "      <td>NaN</td>\n",
       "      <td>NaN</td>\n",
       "      <td>-63762</td>\n",
       "      <td>-523</td>\n",
       "      <td>NaN</td>\n",
       "      <td>NaN</td>\n",
       "      <td>SASHA</td>\n",
       "      <td>MATSU</td>\n",
       "    </tr>\n",
       "    <tr>\n",
       "      <th>3</th>\n",
       "      <td>5d5050247e485d0224df4e392118c27b8ee3a88b</td>\n",
       "      <td>3308598</td>\n",
       "      <td>1599462667</td>\n",
       "      <td>3308575</td>\n",
       "      <td>[-63747   -498]</td>\n",
       "      <td>NaN</td>\n",
       "      <td>[]</td>\n",
       "      <td>NaN</td>\n",
       "      <td>NaN</td>\n",
       "      <td>-63747</td>\n",
       "      <td>-498</td>\n",
       "      <td>NaN</td>\n",
       "      <td>NaN</td>\n",
       "      <td>DRAGON</td>\n",
       "      <td>MATSU</td>\n",
       "    </tr>\n",
       "    <tr>\n",
       "      <th>4</th>\n",
       "      <td>310d12780dbb316a3b50f83adbf9ce76973172bb</td>\n",
       "      <td>3308597</td>\n",
       "      <td>1599462620</td>\n",
       "      <td>3308571</td>\n",
       "      <td>[-63756   -508]</td>\n",
       "      <td>1.599464e+09</td>\n",
       "      <td>[-63841   -520]</td>\n",
       "      <td>28.89</td>\n",
       "      <td>hunger</td>\n",
       "      <td>-63756</td>\n",
       "      <td>-508</td>\n",
       "      <td>-63841.0</td>\n",
       "      <td>-520.0</td>\n",
       "      <td>MODOU</td>\n",
       "      <td>MATSU</td>\n",
       "    </tr>\n",
       "  </tbody>\n",
       "</table>\n",
       "</div>"
      ],
      "text/plain": [
       "                                     player   avatar      tBirth   parent  \\\n",
       "0  06d8ab86b0daf11b13a446b87f770aa20bee1ca0  3308603  1599462917  3308581   \n",
       "1  67bffa53500e2c626edc407409b6550996b748db  3308602  1599462864  3308575   \n",
       "2  fbc0168048713cfaf6ef6a350c0171e7b2b0af4a  3308601  1599462805  3308564   \n",
       "3  5d5050247e485d0224df4e392118c27b8ee3a88b  3308598  1599462667  3308575   \n",
       "4  310d12780dbb316a3b50f83adbf9ce76973172bb  3308597  1599462620  3308571   \n",
       "\n",
       "             birth        tDeath            death    age cause_of_death  \\\n",
       "0  [-63752   -504]           NaN               []    NaN            NaN   \n",
       "1  [-63753   -507]           NaN               []    NaN            NaN   \n",
       "2  [-63762   -523]           NaN               []    NaN            NaN   \n",
       "3  [-63747   -498]           NaN               []    NaN            NaN   \n",
       "4  [-63756   -508]  1.599464e+09  [-63841   -520]  28.89         hunger   \n",
       "\n",
       "   birthX  birthY   deathX  deathY     first   last  \n",
       "0  -63752    -504      NaN     NaN  SUPERIOR  MATSU  \n",
       "1  -63753    -507      NaN     NaN   FEATHER  MATSU  \n",
       "2  -63762    -523      NaN     NaN     SASHA  MATSU  \n",
       "3  -63747    -498      NaN     NaN    DRAGON  MATSU  \n",
       "4  -63756    -508 -63841.0  -520.0     MODOU  MATSU  "
      ]
     },
     "execution_count": 3,
     "metadata": {},
     "output_type": "execute_result"
    }
   ],
   "source": [
    "all_eras = pd.read_csv('outputs/all_lifelogs_compact.tsv', sep='\\t', index_col=0)\n",
    "all_eras.head()"
   ]
  },
  {
   "cell_type": "markdown",
   "metadata": {},
   "source": [
    "Load families & find families that started in boundless era:"
   ]
  },
  {
   "cell_type": "code",
   "execution_count": 4,
   "metadata": {},
   "outputs": [
    {
     "name": "stderr",
     "output_type": "stream",
     "text": [
      "/users/nvelezalicea/.conda/envs/py3/lib/python3.6/site-packages/numpy/lib/arraysetops.py:580: FutureWarning: elementwise comparison failed; returning scalar instead, but in the future will perform elementwise comparison\n",
      "  mask |= (ar1 == a)\n"
     ]
    },
    {
     "data": {
      "text/html": [
       "<div>\n",
       "<style scoped>\n",
       "    .dataframe tbody tr th:only-of-type {\n",
       "        vertical-align: middle;\n",
       "    }\n",
       "\n",
       "    .dataframe tbody tr th {\n",
       "        vertical-align: top;\n",
       "    }\n",
       "\n",
       "    .dataframe thead th {\n",
       "        text-align: right;\n",
       "    }\n",
       "</style>\n",
       "<table border=\"1\" class=\"dataframe\">\n",
       "  <thead>\n",
       "    <tr style=\"text-align: right;\">\n",
       "      <th></th>\n",
       "      <th>avatar</th>\n",
       "      <th>family</th>\n",
       "    </tr>\n",
       "  </thead>\n",
       "  <tbody>\n",
       "    <tr>\n",
       "      <th>0</th>\n",
       "      <td>3308592</td>\n",
       "      <td>time-1599460982_eve-3308568_name-SOL</td>\n",
       "    </tr>\n",
       "    <tr>\n",
       "      <th>1</th>\n",
       "      <td>3308568</td>\n",
       "      <td>time-1599460982_eve-3308568_name-SOL</td>\n",
       "    </tr>\n",
       "    <tr>\n",
       "      <th>2</th>\n",
       "      <td>3308504</td>\n",
       "      <td>time-1599458188_eve-3308504_name-SOL</td>\n",
       "    </tr>\n",
       "    <tr>\n",
       "      <th>3</th>\n",
       "      <td>3308439</td>\n",
       "      <td>time-1599456178_eve-3308427_name-MORALES</td>\n",
       "    </tr>\n",
       "    <tr>\n",
       "      <th>4</th>\n",
       "      <td>3308507</td>\n",
       "      <td>time-1599456178_eve-3308427_name-MORALES</td>\n",
       "    </tr>\n",
       "  </tbody>\n",
       "</table>\n",
       "</div>"
      ],
      "text/plain": [
       "    avatar                                    family\n",
       "0  3308592      time-1599460982_eve-3308568_name-SOL\n",
       "1  3308568      time-1599460982_eve-3308568_name-SOL\n",
       "2  3308504      time-1599458188_eve-3308504_name-SOL\n",
       "3  3308439  time-1599456178_eve-3308427_name-MORALES\n",
       "4  3308507  time-1599456178_eve-3308427_name-MORALES"
      ]
     },
     "execution_count": 4,
     "metadata": {},
     "output_type": "execute_result"
    }
   ],
   "source": [
    "fam_df = pd.read_csv('outputs/family_playerID.tsv', sep='\\t', index_col=0)\n",
    "fam_df.head()"
   ]
  },
  {
   "cell_type": "markdown",
   "metadata": {},
   "source": [
    "Find families that started in boundless era:"
   ]
  },
  {
   "cell_type": "code",
   "execution_count": 5,
   "metadata": {},
   "outputs": [
    {
     "name": "stdout",
     "output_type": "stream",
     "text": [
      "Total families: 59879\n"
     ]
    },
    {
     "data": {
      "text/plain": [
       "in_era\n",
       "False    49880\n",
       "True      9999\n",
       "Name: family, dtype: int64"
      ]
     },
     "execution_count": 5,
     "metadata": {},
     "output_type": "execute_result"
    }
   ],
   "source": [
    "in_boundless = fam_df.groupby('family')['avatar'].agg('count').reset_index()\n",
    "in_boundless['start_t'] = in_boundless['family'].str.extract(r'(?<=time-)([0-9]+)')\n",
    "in_boundless['start_t'] = in_boundless['start_t'].astype(np.int)\n",
    "in_boundless['in_era'] = in_boundless['start_t'] > boundless_t\n",
    "in_boundless = in_boundless[['family', 'in_era']]\n",
    "\n",
    "# Summary: How many families left?\n",
    "print('Total families: %i' % in_boundless.shape[0])\n",
    "in_boundless.groupby('in_era')['family'].agg('count')"
   ]
  },
  {
   "cell_type": "markdown",
   "metadata": {},
   "source": [
    "Merge:"
   ]
  },
  {
   "cell_type": "code",
   "execution_count": 6,
   "metadata": {},
   "outputs": [
    {
     "name": "stdout",
     "output_type": "stream",
     "text": [
      "Original size: (1826661, 15)\n",
      "Boundless era only: (477189, 17)\n"
     ]
    }
   ],
   "source": [
    "print('Original size: %s' % str(all_eras.shape))\n",
    "boundless_df = pd.merge(all_eras, fam_df, on='avatar')\n",
    "boundless_df = pd.merge(boundless_df, in_boundless, on='family')\n",
    "boundless_df = boundless_df[boundless_df['in_era']]\n",
    "boundless_df = boundless_df.reset_index(drop=True)\n",
    "print('Boundless era only: %s' % str(boundless_df.shape))"
   ]
  },
  {
   "cell_type": "markdown",
   "metadata": {},
   "source": [
    "Remove singleton families:"
   ]
  },
  {
   "cell_type": "code",
   "execution_count": 7,
   "metadata": {},
   "outputs": [
    {
     "name": "stdout",
     "output_type": "stream",
     "text": [
      "Removing 5853 singleton families\n"
     ]
    }
   ],
   "source": [
    "singletons = boundless_df.groupby('family')['avatar'].agg('count').reset_index()\n",
    "singletons = singletons.rename(columns={'avatar': 'count'})\n",
    "singletons = singletons[singletons['count'] == 1]\n",
    "single_fams = singletons.family.values\n",
    "\n",
    "print('Removing %i singleton families' % len(single_fams))\n",
    "boundless_df = boundless_df[~boundless_df['family'].isin(single_fams)]\n",
    "#era_df = era_df.reset_index(drop=True)"
   ]
  },
  {
   "cell_type": "markdown",
   "metadata": {},
   "source": [
    "New! Exclude infant births:"
   ]
  },
  {
   "cell_type": "code",
   "execution_count": 8,
   "metadata": {},
   "outputs": [
    {
     "name": "stdout",
     "output_type": "stream",
     "text": [
      "Removed 28557 infant deaths\n"
     ]
    }
   ],
   "source": [
    "orig_n = len(boundless_df)\n",
    "infant_deaths = np.loadtxt('outputs/infant_deaths.txt', dtype=np.int)\n",
    "boundless_df = boundless_df[~boundless_df['avatar'].isin(infant_deaths)].reset_index(drop=True)\n",
    "new_n = len(boundless_df)\n",
    "\n",
    "print('Removed %i infant deaths' % (orig_n - new_n))"
   ]
  },
  {
   "cell_type": "markdown",
   "metadata": {},
   "source": [
    "Just look at lineages from the boundless world era:"
   ]
  },
  {
   "cell_type": "code",
   "execution_count": 9,
   "metadata": {},
   "outputs": [
    {
     "name": "stdout",
     "output_type": "stream",
     "text": [
      "Analyzing 4146 families\n",
      "442779 avatars\n",
      "24519 unique players\n"
     ]
    }
   ],
   "source": [
    "boundless_families = np.unique(boundless_df['family'])\n",
    "\n",
    "print('Analyzing %i families' % len(boundless_families))\n",
    "print('%i avatars' % len(np.unique(boundless_df['avatar'])))\n",
    "print('%i unique players' % len(np.unique(boundless_df['player'])))"
   ]
  },
  {
   "cell_type": "markdown",
   "metadata": {},
   "source": [
    "Lives per player in current sample:"
   ]
  },
  {
   "cell_type": "code",
   "execution_count": 10,
   "metadata": {},
   "outputs": [
    {
     "name": "stdout",
     "output_type": "stream",
     "text": [
      "Median # lives: 4.00\n",
      "Mean # lives: 18.06\n",
      "Min # lives: 1\n",
      "Max # lives: 1356\n"
     ]
    },
    {
     "data": {
      "image/png": "[encoded data removed]",
      "text/plain": [
       "<Figure size 432x288 with 1 Axes>"
      ]
     },
     "metadata": {},
     "output_type": "display_data"
    }
   ],
   "source": [
    "lineage_df = boundless_df.copy()\n",
    "player_summ = lineage_df.groupby('player')['avatar'].agg('count').reset_index()\n",
    "player_summ = player_summ.rename(columns={'avatar': 'n'})\n",
    "player_summ.head()\n",
    "\n",
    "# Plot\n",
    "print('Median # lives: %0.2f' % np.median(player_summ['n']))\n",
    "print('Mean # lives: %0.2f' % np.mean(player_summ['n']))\n",
    "print('Min # lives: %i' % np.min(player_summ['n']))\n",
    "print('Max # lives: %i' % np.max(player_summ['n']))\n",
    "\n",
    "fig,ax = plt.subplots()\n",
    "sns.distplot(np.log10(player_summ['n']),ax=ax)\n",
    "ax.set(xlabel='# lives ', xticks=range(4), xticklabels=[10**x for x in range(4)])\n",
    "sns.despine()"
   ]
  },
  {
   "cell_type": "markdown",
   "metadata": {},
   "source": [
    "Start and end times:"
   ]
  },
  {
   "cell_type": "code",
   "execution_count": 11,
   "metadata": {},
   "outputs": [
    {
     "name": "stdout",
     "output_type": "stream",
     "text": [
      "Analyzing 4146 lineages\n",
      "First lineage starts at: 2019-11-08T22:54:39 \n",
      "Lineages end at: 2020-09-07T07:55:27 \n"
     ]
    }
   ],
   "source": [
    "t_fmt = '%Y-%m-%dT%H:%M:%S %Z'\n",
    "\n",
    "start_t = np.min(lineage_df['tBirth'])\n",
    "start_date = datetime.datetime.fromtimestamp(start_t).strftime(t_fmt)\n",
    "\n",
    "end_t = np.max(lineage_df['tDeath'])\n",
    "end_date = datetime.datetime.fromtimestamp(end_t).strftime(t_fmt)\n",
    "\n",
    "print('Analyzing %i lineages' % len(boundless_families))\n",
    "print('First lineage starts at: %s' % start_date)\n",
    "print('Lineages end at: %s' % end_date)"
   ]
  },
  {
   "cell_type": "markdown",
   "metadata": {},
   "source": [
    "What is the longest-lived lineage?"
   ]
  },
  {
   "cell_type": "code",
   "execution_count": 12,
   "metadata": {},
   "outputs": [
    {
     "data": {
      "text/html": [
       "<div>\n",
       "<style scoped>\n",
       "    .dataframe tbody tr th:only-of-type {\n",
       "        vertical-align: middle;\n",
       "    }\n",
       "\n",
       "    .dataframe tbody tr th {\n",
       "        vertical-align: top;\n",
       "    }\n",
       "\n",
       "    .dataframe thead th {\n",
       "        text-align: right;\n",
       "    }\n",
       "</style>\n",
       "<table border=\"1\" class=\"dataframe\">\n",
       "  <thead>\n",
       "    <tr style=\"text-align: right;\">\n",
       "      <th></th>\n",
       "      <th>family</th>\n",
       "      <th>tBirth</th>\n",
       "      <th>tDeath</th>\n",
       "      <th>duration_hours</th>\n",
       "      <th>duration_days</th>\n",
       "    </tr>\n",
       "  </thead>\n",
       "  <tbody>\n",
       "    <tr>\n",
       "      <th>0</th>\n",
       "      <td>time-1579810712_eve-2612994_name-BOOTS</td>\n",
       "      <td>1579810712</td>\n",
       "      <td>1.580181e+09</td>\n",
       "      <td>102.945000</td>\n",
       "      <td>4.289375</td>\n",
       "    </tr>\n",
       "    <tr>\n",
       "      <th>1</th>\n",
       "      <td>time-1582959703_eve-2742223_name-BELLUE</td>\n",
       "      <td>1582959703</td>\n",
       "      <td>1.583327e+09</td>\n",
       "      <td>102.084167</td>\n",
       "      <td>4.253507</td>\n",
       "    </tr>\n",
       "    <tr>\n",
       "      <th>2</th>\n",
       "      <td>time-1584155688_eve-2783193_name-JESUS</td>\n",
       "      <td>1584155688</td>\n",
       "      <td>1.584521e+09</td>\n",
       "      <td>101.604167</td>\n",
       "      <td>4.233507</td>\n",
       "    </tr>\n",
       "    <tr>\n",
       "      <th>3</th>\n",
       "      <td>time-1592901881_eve-3098263_name-BATMAN</td>\n",
       "      <td>1592901881</td>\n",
       "      <td>1.593241e+09</td>\n",
       "      <td>94.142778</td>\n",
       "      <td>3.922616</td>\n",
       "    </tr>\n",
       "    <tr>\n",
       "      <th>4</th>\n",
       "      <td>time-1581646981_eve-2692838_name-VOLTAIRE</td>\n",
       "      <td>1581646981</td>\n",
       "      <td>1.581945e+09</td>\n",
       "      <td>82.882778</td>\n",
       "      <td>3.453449</td>\n",
       "    </tr>\n",
       "  </tbody>\n",
       "</table>\n",
       "</div>"
      ],
      "text/plain": [
       "                                      family      tBirth        tDeath  \\\n",
       "0     time-1579810712_eve-2612994_name-BOOTS  1579810712  1.580181e+09   \n",
       "1    time-1582959703_eve-2742223_name-BELLUE  1582959703  1.583327e+09   \n",
       "2     time-1584155688_eve-2783193_name-JESUS  1584155688  1.584521e+09   \n",
       "3    time-1592901881_eve-3098263_name-BATMAN  1592901881  1.593241e+09   \n",
       "4  time-1581646981_eve-2692838_name-VOLTAIRE  1581646981  1.581945e+09   \n",
       "\n",
       "   duration_hours  duration_days  \n",
       "0      102.945000       4.289375  \n",
       "1      102.084167       4.253507  \n",
       "2      101.604167       4.233507  \n",
       "3       94.142778       3.922616  \n",
       "4       82.882778       3.453449  "
      ]
     },
     "execution_count": 12,
     "metadata": {},
     "output_type": "execute_result"
    }
   ],
   "source": [
    "family_t = lineage_df.groupby('family').agg({'tBirth': 'min', 'tDeath': 'max'}).reset_index()\n",
    "family_t['duration_hours'] = (family_t['tDeath'] - family_t['tBirth'])/60/60\n",
    "family_t['duration_days'] = family_t['duration_hours']/24\n",
    "family_t = family_t.sort_values(by='duration_hours', ascending=False).reset_index(drop=True)\n",
    "family_t.head()"
   ]
  },
  {
   "cell_type": "markdown",
   "metadata": {},
   "source": [
    "## Compute summary statistics"
   ]
  },
  {
   "cell_type": "markdown",
   "metadata": {},
   "source": [
    "### Family size and life expectancy"
   ]
  },
  {
   "cell_type": "code",
   "execution_count": 13,
   "metadata": {},
   "outputs": [
    {
     "data": {
      "image/png": "[encoded data removed]",
      "text/plain": [
       "<Figure size 432x288 with 1 Axes>"
      ]
     },
     "metadata": {},
     "output_type": "display_data"
    }
   ],
   "source": [
    "life_expectancy = lineage_df.groupby('family')['age'].agg(['mean', 'count']).reset_index()\n",
    "ax = sns.distplot(life_expectancy['mean'])\n",
    "ax.set(xlabel = 'Life expectancy by family')\n",
    "sns.despine()"
   ]
  },
  {
   "cell_type": "code",
   "execution_count": 14,
   "metadata": {},
   "outputs": [
    {
     "data": {
      "image/png": "[encoded data removed]",
      "text/plain": [
       "<Figure size 432x288 with 1 Axes>"
      ]
     },
     "metadata": {},
     "output_type": "display_data"
    }
   ],
   "source": [
    "ax = sns.distplot(np.log10(life_expectancy['count']))\n",
    "ax.set(xlabel = 'Total family size', xticks=range(5), xticklabels=[10**i for i in range(5)])\n",
    "sns.despine()"
   ]
  },
  {
   "cell_type": "code",
   "execution_count": 15,
   "metadata": {},
   "outputs": [
    {
     "data": {
      "text/plain": [
       "ModeResult(mode=array([2]), count=array([575]))"
      ]
     },
     "execution_count": 15,
     "metadata": {},
     "output_type": "execute_result"
    }
   ],
   "source": [
    "scipy.stats.mode(life_expectancy['count'])"
   ]
  },
  {
   "cell_type": "markdown",
   "metadata": {},
   "source": [
    "### Living population size over time"
   ]
  },
  {
   "cell_type": "code",
   "execution_count": 16,
   "metadata": {},
   "outputs": [
    {
     "data": {
      "application/vnd.jupyter.widget-view+json": {
       "model_id": "65c21c6d4ed54ac4ab7f59055cfdce86",
       "version_major": 2,
       "version_minor": 0
      },
      "text/plain": [
       "HBox(children=(FloatProgress(value=0.0, max=4146.0), HTML(value='')))"
      ]
     },
     "metadata": {},
     "output_type": "display_data"
    },
    {
     "name": "stdout",
     "output_type": "stream",
     "text": [
      "\n"
     ]
    }
   ],
   "source": [
    "living_list = []\n",
    "for fam in notebook.tqdm(boundless_families):\n",
    "    fam_df = lineage_df[lineage_df['family'] == fam].copy().reset_index(drop=True)\n",
    "    t = fam_df['tBirth'].values\n",
    "    for ti in t:\n",
    "        is_alive = (fam_df['tBirth'] <= ti) & (fam_df['tDeath'] > ti)\n",
    "        pop = np.sum(is_alive)\n",
    "        living_list.append((fam, ti, pop))"
   ]
  },
  {
   "cell_type": "code",
   "execution_count": 17,
   "metadata": {},
   "outputs": [
    {
     "data": {
      "text/html": [
       "<div>\n",
       "<style scoped>\n",
       "    .dataframe tbody tr th:only-of-type {\n",
       "        vertical-align: middle;\n",
       "    }\n",
       "\n",
       "    .dataframe tbody tr th {\n",
       "        vertical-align: top;\n",
       "    }\n",
       "\n",
       "    .dataframe thead th {\n",
       "        text-align: right;\n",
       "    }\n",
       "</style>\n",
       "<table border=\"1\" class=\"dataframe\">\n",
       "  <thead>\n",
       "    <tr style=\"text-align: right;\">\n",
       "      <th></th>\n",
       "      <th>family</th>\n",
       "      <th>t</th>\n",
       "      <th>population</th>\n",
       "      <th>t0</th>\n",
       "      <th>t_elapsed</th>\n",
       "    </tr>\n",
       "  </thead>\n",
       "  <tbody>\n",
       "    <tr>\n",
       "      <th>0</th>\n",
       "      <td>time-1573253679_eve-2251043_name-MCCRACKEN</td>\n",
       "      <td>1573253679</td>\n",
       "      <td>1</td>\n",
       "      <td>1573253679</td>\n",
       "      <td>0.000000</td>\n",
       "    </tr>\n",
       "    <tr>\n",
       "      <th>1</th>\n",
       "      <td>time-1573253679_eve-2251043_name-MCCRACKEN</td>\n",
       "      <td>1573253683</td>\n",
       "      <td>2</td>\n",
       "      <td>1573253679</td>\n",
       "      <td>0.001111</td>\n",
       "    </tr>\n",
       "    <tr>\n",
       "      <th>2</th>\n",
       "      <td>time-1573253679_eve-2251043_name-MCCRACKEN</td>\n",
       "      <td>1573253829</td>\n",
       "      <td>3</td>\n",
       "      <td>1573253679</td>\n",
       "      <td>0.041667</td>\n",
       "    </tr>\n",
       "    <tr>\n",
       "      <th>3</th>\n",
       "      <td>time-1573253679_eve-2251043_name-MCCRACKEN</td>\n",
       "      <td>1573254047</td>\n",
       "      <td>4</td>\n",
       "      <td>1573253679</td>\n",
       "      <td>0.102222</td>\n",
       "    </tr>\n",
       "    <tr>\n",
       "      <th>4</th>\n",
       "      <td>time-1573253679_eve-2251043_name-MCCRACKEN</td>\n",
       "      <td>1573254054</td>\n",
       "      <td>5</td>\n",
       "      <td>1573253679</td>\n",
       "      <td>0.104167</td>\n",
       "    </tr>\n",
       "  </tbody>\n",
       "</table>\n",
       "</div>"
      ],
      "text/plain": [
       "                                       family           t  population  \\\n",
       "0  time-1573253679_eve-2251043_name-MCCRACKEN  1573253679           1   \n",
       "1  time-1573253679_eve-2251043_name-MCCRACKEN  1573253683           2   \n",
       "2  time-1573253679_eve-2251043_name-MCCRACKEN  1573253829           3   \n",
       "3  time-1573253679_eve-2251043_name-MCCRACKEN  1573254047           4   \n",
       "4  time-1573253679_eve-2251043_name-MCCRACKEN  1573254054           5   \n",
       "\n",
       "           t0  t_elapsed  \n",
       "0  1573253679   0.000000  \n",
       "1  1573253679   0.001111  \n",
       "2  1573253679   0.041667  \n",
       "3  1573253679   0.102222  \n",
       "4  1573253679   0.104167  "
      ]
     },
     "execution_count": 17,
     "metadata": {},
     "output_type": "execute_result"
    }
   ],
   "source": [
    "living_df = pd.DataFrame(living_list, columns = ['family', 't', 'population'])\n",
    "living_df = living_df.sort_values(by=['family', 't'], ascending=True).reset_index(drop=True)\n",
    "living_df['t0'] = living_df.groupby('family')['t'].transform('first')\n",
    "living_df['t_elapsed'] = (living_df['t'] - living_df['t0'])/60/60\n",
    "living_df.head()"
   ]
  },
  {
   "cell_type": "markdown",
   "metadata": {},
   "source": [
    "Plot a subset"
   ]
  },
  {
   "cell_type": "code",
   "execution_count": 18,
   "metadata": {
    "scrolled": true
   },
   "outputs": [
    {
     "data": {
      "image/png": "[encoded data removed]",
      "text/plain": [
       "<Figure size 1354.27x432 with 1 Axes>"
      ]
     },
     "metadata": {},
     "output_type": "display_data"
    }
   ],
   "source": [
    "np.random.seed(526)\n",
    "random_families = np.random.choice(boundless_families, size=10, replace=False)\n",
    "random_subset = living_df[living_df['family'].isin(random_families)]\n",
    "g = sns.relplot(data=random_subset, x='t_elapsed', y='population', hue='family', kind='line',\n",
    "                 height=6, aspect=2, alpha = 0.5)\n",
    "g.set(xlabel = 'Time elapsed (hours)', ylabel = 'Population size')\n",
    "g._legend.remove()"
   ]
  },
  {
   "cell_type": "markdown",
   "metadata": {},
   "source": [
    "Maximum population size"
   ]
  },
  {
   "cell_type": "code",
   "execution_count": 19,
   "metadata": {},
   "outputs": [
    {
     "data": {
      "image/png": "[encoded data removed]",
      "text/plain": [
       "<Figure size 432x288 with 1 Axes>"
      ]
     },
     "metadata": {},
     "output_type": "display_data"
    }
   ],
   "source": [
    "max_pop = living_df.groupby('family')['population'].agg('max').reset_index()\n",
    "ax = sns.distplot(max_pop['population'])\n",
    "ax.set(xlabel = 'Maximum living population size')\n",
    "sns.despine()"
   ]
  },
  {
   "cell_type": "code",
   "execution_count": 20,
   "metadata": {},
   "outputs": [
    {
     "data": {
      "text/plain": [
       "ModeResult(mode=array([2]), count=array([678]))"
      ]
     },
     "execution_count": 20,
     "metadata": {},
     "output_type": "execute_result"
    }
   ],
   "source": [
    "scipy.stats.mode(max_pop['population'])"
   ]
  },
  {
   "cell_type": "markdown",
   "metadata": {},
   "source": [
    "### # of generations (Chain length)"
   ]
  },
  {
   "cell_type": "markdown",
   "metadata": {},
   "source": [
    "Helper: Read JSON files"
   ]
  },
  {
   "cell_type": "code",
   "execution_count": 21,
   "metadata": {},
   "outputs": [],
   "source": [
    "def open_graph(f):\n",
    "    with open(f) as handle:\n",
    "        graph_data = json.load(handle)\n",
    "    return nx.json_graph.node_link_graph(graph_data)"
   ]
  },
  {
   "cell_type": "markdown",
   "metadata": {},
   "source": [
    "Find longest chain in family graphs"
   ]
  },
  {
   "cell_type": "code",
   "execution_count": 22,
   "metadata": {},
   "outputs": [
    {
     "data": {
      "application/vnd.jupyter.widget-view+json": {
       "model_id": "fe5e6cb2a4644781be611b8c22e70df5",
       "version_major": 2,
       "version_minor": 0
      },
      "text/plain": [
       "HBox(children=(FloatProgress(value=0.0, max=4146.0), HTML(value='')))"
      ]
     },
     "metadata": {},
     "output_type": "display_data"
    },
    {
     "name": "stdout",
     "output_type": "stream",
     "text": [
      "\n"
     ]
    }
   ],
   "source": [
    "chain_list = []\n",
    "family_generations = []\n",
    "\n",
    "for f in notebook.tqdm(boundless_families):\n",
    "    fam_file = 'outputs/families/families_%s.json' % f\n",
    "    fam_graph = open_graph(fam_file)\n",
    "    fam_chain = nx.algorithms.dag_longest_path(fam_graph)\n",
    "    \n",
    "    eve = re.search(r'(?<=eve-)([0-9]+)', f).group(0)\n",
    "    \n",
    "    chain_list.append((f, len(fam_chain)))"
   ]
  },
  {
   "cell_type": "code",
   "execution_count": 29,
   "metadata": {},
   "outputs": [
    {
     "data": {
      "text/html": [
       "<div>\n",
       "<style scoped>\n",
       "    .dataframe tbody tr th:only-of-type {\n",
       "        vertical-align: middle;\n",
       "    }\n",
       "\n",
       "    .dataframe tbody tr th {\n",
       "        vertical-align: top;\n",
       "    }\n",
       "\n",
       "    .dataframe thead th {\n",
       "        text-align: right;\n",
       "    }\n",
       "</style>\n",
       "<table border=\"1\" class=\"dataframe\">\n",
       "  <thead>\n",
       "    <tr style=\"text-align: right;\">\n",
       "      <th></th>\n",
       "      <th>family</th>\n",
       "      <th>longest_path</th>\n",
       "    </tr>\n",
       "  </thead>\n",
       "  <tbody>\n",
       "    <tr>\n",
       "      <th>0</th>\n",
       "      <td>time-1573253679_eve-2251043_name-MCCRACKEN</td>\n",
       "      <td>3</td>\n",
       "    </tr>\n",
       "    <tr>\n",
       "      <th>1</th>\n",
       "      <td>time-1573253705_eve-2251049_name-FINCH</td>\n",
       "      <td>2</td>\n",
       "    </tr>\n",
       "    <tr>\n",
       "      <th>2</th>\n",
       "      <td>time-1573253707_eve-2251051_name-SORROWS</td>\n",
       "      <td>2</td>\n",
       "    </tr>\n",
       "    <tr>\n",
       "      <th>3</th>\n",
       "      <td>time-1573253710_eve-2251053_name-LION</td>\n",
       "      <td>4</td>\n",
       "    </tr>\n",
       "    <tr>\n",
       "      <th>4</th>\n",
       "      <td>time-1573253711_eve-2251054_name-DEADRICK</td>\n",
       "      <td>7</td>\n",
       "    </tr>\n",
       "  </tbody>\n",
       "</table>\n",
       "</div>"
      ],
      "text/plain": [
       "                                       family  longest_path\n",
       "0  time-1573253679_eve-2251043_name-MCCRACKEN             3\n",
       "1      time-1573253705_eve-2251049_name-FINCH             2\n",
       "2    time-1573253707_eve-2251051_name-SORROWS             2\n",
       "3       time-1573253710_eve-2251053_name-LION             4\n",
       "4   time-1573253711_eve-2251054_name-DEADRICK             7"
      ]
     },
     "execution_count": 29,
     "metadata": {},
     "output_type": "execute_result"
    }
   ],
   "source": [
    "chain_df = pd.DataFrame(chain_list, columns=['family', 'longest_path'])\n",
    "chain_df.head()"
   ]
  },
  {
   "cell_type": "code",
   "execution_count": 30,
   "metadata": {},
   "outputs": [
    {
     "data": {
      "text/plain": [
       "ModeResult(mode=array([2]), count=array([1278]))"
      ]
     },
     "execution_count": 30,
     "metadata": {},
     "output_type": "execute_result"
    }
   ],
   "source": [
    "scipy.stats.mode(chain_df['longest_path'])"
   ]
  },
  {
   "cell_type": "code",
   "execution_count": 31,
   "metadata": {},
   "outputs": [
    {
     "data": {
      "text/plain": [
       "[Text(0.5, 0, '# of generations')]"
      ]
     },
     "execution_count": 31,
     "metadata": {},
     "output_type": "execute_result"
    },
    {
     "data": {
      "image/png": "[encoded data removed]",
      "text/plain": [
       "<Figure size 432x288 with 1 Axes>"
      ]
     },
     "metadata": {},
     "output_type": "display_data"
    }
   ],
   "source": [
    "ax = sns.distplot(chain_df['longest_path'])\n",
    "ax.set(xlabel = '# of generations')"
   ]
  },
  {
   "cell_type": "code",
   "execution_count": 32,
   "metadata": {},
   "outputs": [
    {
     "data": {
      "text/html": [
       "<div>\n",
       "<style scoped>\n",
       "    .dataframe tbody tr th:only-of-type {\n",
       "        vertical-align: middle;\n",
       "    }\n",
       "\n",
       "    .dataframe tbody tr th {\n",
       "        vertical-align: top;\n",
       "    }\n",
       "\n",
       "    .dataframe thead th {\n",
       "        text-align: right;\n",
       "    }\n",
       "</style>\n",
       "<table border=\"1\" class=\"dataframe\">\n",
       "  <thead>\n",
       "    <tr style=\"text-align: right;\">\n",
       "      <th></th>\n",
       "      <th>family</th>\n",
       "      <th>longest_path</th>\n",
       "    </tr>\n",
       "  </thead>\n",
       "  <tbody>\n",
       "    <tr>\n",
       "      <th>1687</th>\n",
       "      <td>time-1584155688_eve-2783193_name-JESUS</td>\n",
       "      <td>238</td>\n",
       "    </tr>\n",
       "    <tr>\n",
       "      <th>1653</th>\n",
       "      <td>time-1582959703_eve-2742223_name-BELLUE</td>\n",
       "      <td>234</td>\n",
       "    </tr>\n",
       "    <tr>\n",
       "      <th>1585</th>\n",
       "      <td>time-1579810712_eve-2612994_name-BOOTS</td>\n",
       "      <td>234</td>\n",
       "    </tr>\n",
       "    <tr>\n",
       "      <th>3282</th>\n",
       "      <td>time-1592901881_eve-3098263_name-BATMAN</td>\n",
       "      <td>205</td>\n",
       "    </tr>\n",
       "    <tr>\n",
       "      <th>1582</th>\n",
       "      <td>time-1579512354_eve-2600506_name-MEGALE</td>\n",
       "      <td>187</td>\n",
       "    </tr>\n",
       "  </tbody>\n",
       "</table>\n",
       "</div>"
      ],
      "text/plain": [
       "                                       family  longest_path\n",
       "1687   time-1584155688_eve-2783193_name-JESUS           238\n",
       "1653  time-1582959703_eve-2742223_name-BELLUE           234\n",
       "1585   time-1579810712_eve-2612994_name-BOOTS           234\n",
       "3282  time-1592901881_eve-3098263_name-BATMAN           205\n",
       "1582  time-1579512354_eve-2600506_name-MEGALE           187"
      ]
     },
     "execution_count": 32,
     "metadata": {},
     "output_type": "execute_result"
    }
   ],
   "source": [
    "chain_df.sort_values(by='longest_path', ascending=False).head()"
   ]
  },
  {
   "cell_type": "markdown",
   "metadata": {},
   "source": [
    "## Modeling success"
   ]
  },
  {
   "cell_type": "markdown",
   "metadata": {},
   "source": [
    "Criterion for \"success\": Reaching age 14 (viability fitness)"
   ]
  },
  {
   "cell_type": "code",
   "execution_count": 33,
   "metadata": {},
   "outputs": [
    {
     "data": {
      "text/html": [
       "<div>\n",
       "<style scoped>\n",
       "    .dataframe tbody tr th:only-of-type {\n",
       "        vertical-align: middle;\n",
       "    }\n",
       "\n",
       "    .dataframe tbody tr th {\n",
       "        vertical-align: top;\n",
       "    }\n",
       "\n",
       "    .dataframe thead th {\n",
       "        text-align: right;\n",
       "    }\n",
       "</style>\n",
       "<table border=\"1\" class=\"dataframe\">\n",
       "  <thead>\n",
       "    <tr style=\"text-align: right;\">\n",
       "      <th></th>\n",
       "      <th>family</th>\n",
       "      <th>sum</th>\n",
       "      <th>count</th>\n",
       "    </tr>\n",
       "  </thead>\n",
       "  <tbody>\n",
       "    <tr>\n",
       "      <th>0</th>\n",
       "      <td>time-1573253679_eve-2251043_name-MCCRACKEN</td>\n",
       "      <td>2</td>\n",
       "      <td>9</td>\n",
       "    </tr>\n",
       "    <tr>\n",
       "      <th>1</th>\n",
       "      <td>time-1573253705_eve-2251049_name-FINCH</td>\n",
       "      <td>1</td>\n",
       "      <td>8</td>\n",
       "    </tr>\n",
       "    <tr>\n",
       "      <th>2</th>\n",
       "      <td>time-1573253707_eve-2251051_name-SORROWS</td>\n",
       "      <td>1</td>\n",
       "      <td>3</td>\n",
       "    </tr>\n",
       "    <tr>\n",
       "      <th>3</th>\n",
       "      <td>time-1573253710_eve-2251053_name-LION</td>\n",
       "      <td>9</td>\n",
       "      <td>40</td>\n",
       "    </tr>\n",
       "    <tr>\n",
       "      <th>4</th>\n",
       "      <td>time-1573253711_eve-2251054_name-DEADRICK</td>\n",
       "      <td>33</td>\n",
       "      <td>86</td>\n",
       "    </tr>\n",
       "  </tbody>\n",
       "</table>\n",
       "</div>"
      ],
      "text/plain": [
       "                                       family  sum  count\n",
       "0  time-1573253679_eve-2251043_name-MCCRACKEN    2      9\n",
       "1      time-1573253705_eve-2251049_name-FINCH    1      8\n",
       "2    time-1573253707_eve-2251051_name-SORROWS    1      3\n",
       "3       time-1573253710_eve-2251053_name-LION    9     40\n",
       "4   time-1573253711_eve-2251054_name-DEADRICK   33     86"
      ]
     },
     "execution_count": 33,
     "metadata": {},
     "output_type": "execute_result"
    }
   ],
   "source": [
    "mortality_df = lineage_df.copy()\n",
    "mortality_df['adult'] = (lineage_df['age'] >= 14)*1\n",
    "mortality_df = mortality_df[['family', 'avatar', 'adult']]\n",
    "\n",
    "mortality_summ = mortality_df.groupby('family')['adult'].agg(['sum', 'count']).reset_index()\n",
    "mortality_summ['sum'] = mortality_summ['sum'].astype(np.int)\n",
    "mortality_summ.head()"
   ]
  },
  {
   "cell_type": "markdown",
   "metadata": {},
   "source": [
    "Compute beta distribution for each family\n",
    "\n",
    "Prior: Uniform\n",
    "$$\n",
    "\\theta \\sim \\mathrm{Beta}(\\alpha_0, \\beta_0) \\\\\n",
    "\\alpha_0 = \\beta_0 = 1\n",
    "$$\n",
    "\n",
    "Posterior-sufficient statistics:\n",
    "$$\n",
    "\\theta | D \\sim \\mathrm{Beta}(\\alpha_0 + k, \\beta_0 + N - k) \\\\ \n",
    "a = \\alpha_0 + k \\\\\n",
    "b = \\beta_0 + N - k\n",
    "$$"
   ]
  },
  {
   "cell_type": "code",
   "execution_count": 36,
   "metadata": {},
   "outputs": [
    {
     "data": {
      "text/html": [
       "<div>\n",
       "<style scoped>\n",
       "    .dataframe tbody tr th:only-of-type {\n",
       "        vertical-align: middle;\n",
       "    }\n",
       "\n",
       "    .dataframe tbody tr th {\n",
       "        vertical-align: top;\n",
       "    }\n",
       "\n",
       "    .dataframe thead th {\n",
       "        text-align: right;\n",
       "    }\n",
       "</style>\n",
       "<table border=\"1\" class=\"dataframe\">\n",
       "  <thead>\n",
       "    <tr style=\"text-align: right;\">\n",
       "      <th></th>\n",
       "      <th>family</th>\n",
       "      <th>sum</th>\n",
       "      <th>count</th>\n",
       "      <th>a</th>\n",
       "      <th>b</th>\n",
       "      <th>beta_mean</th>\n",
       "      <th>beta_var</th>\n",
       "      <th>snr</th>\n",
       "      <th>weighted_size</th>\n",
       "      <th>longest_path</th>\n",
       "    </tr>\n",
       "  </thead>\n",
       "  <tbody>\n",
       "    <tr>\n",
       "      <th>0</th>\n",
       "      <td>time-1573253679_eve-2251043_name-MCCRACKEN</td>\n",
       "      <td>2</td>\n",
       "      <td>9</td>\n",
       "      <td>5</td>\n",
       "      <td>10</td>\n",
       "      <td>0.333333</td>\n",
       "      <td>0.013889</td>\n",
       "      <td>24.000000</td>\n",
       "      <td>3.000000</td>\n",
       "      <td>3</td>\n",
       "    </tr>\n",
       "    <tr>\n",
       "      <th>1</th>\n",
       "      <td>time-1573253705_eve-2251049_name-FINCH</td>\n",
       "      <td>1</td>\n",
       "      <td>8</td>\n",
       "      <td>4</td>\n",
       "      <td>10</td>\n",
       "      <td>0.285714</td>\n",
       "      <td>0.013605</td>\n",
       "      <td>21.000000</td>\n",
       "      <td>2.285714</td>\n",
       "      <td>2</td>\n",
       "    </tr>\n",
       "    <tr>\n",
       "      <th>2</th>\n",
       "      <td>time-1573253707_eve-2251051_name-SORROWS</td>\n",
       "      <td>1</td>\n",
       "      <td>3</td>\n",
       "      <td>4</td>\n",
       "      <td>5</td>\n",
       "      <td>0.444444</td>\n",
       "      <td>0.024691</td>\n",
       "      <td>18.000000</td>\n",
       "      <td>1.333333</td>\n",
       "      <td>2</td>\n",
       "    </tr>\n",
       "    <tr>\n",
       "      <th>3</th>\n",
       "      <td>time-1573253710_eve-2251053_name-LION</td>\n",
       "      <td>9</td>\n",
       "      <td>40</td>\n",
       "      <td>12</td>\n",
       "      <td>34</td>\n",
       "      <td>0.260870</td>\n",
       "      <td>0.004102</td>\n",
       "      <td>63.588235</td>\n",
       "      <td>10.434783</td>\n",
       "      <td>4</td>\n",
       "    </tr>\n",
       "    <tr>\n",
       "      <th>4</th>\n",
       "      <td>time-1573253711_eve-2251054_name-DEADRICK</td>\n",
       "      <td>33</td>\n",
       "      <td>86</td>\n",
       "      <td>36</td>\n",
       "      <td>56</td>\n",
       "      <td>0.391304</td>\n",
       "      <td>0.002561</td>\n",
       "      <td>152.785714</td>\n",
       "      <td>33.652174</td>\n",
       "      <td>7</td>\n",
       "    </tr>\n",
       "  </tbody>\n",
       "</table>\n",
       "</div>"
      ],
      "text/plain": [
       "                                       family  sum  count   a   b  beta_mean  \\\n",
       "0  time-1573253679_eve-2251043_name-MCCRACKEN    2      9   5  10   0.333333   \n",
       "1      time-1573253705_eve-2251049_name-FINCH    1      8   4  10   0.285714   \n",
       "2    time-1573253707_eve-2251051_name-SORROWS    1      3   4   5   0.444444   \n",
       "3       time-1573253710_eve-2251053_name-LION    9     40  12  34   0.260870   \n",
       "4   time-1573253711_eve-2251054_name-DEADRICK   33     86  36  56   0.391304   \n",
       "\n",
       "   beta_var         snr  weighted_size  longest_path  \n",
       "0  0.013889   24.000000       3.000000             3  \n",
       "1  0.013605   21.000000       2.285714             2  \n",
       "2  0.024691   18.000000       1.333333             2  \n",
       "3  0.004102   63.588235      10.434783             4  \n",
       "4  0.002561  152.785714      33.652174             7  "
      ]
     },
     "execution_count": 36,
     "metadata": {},
     "output_type": "execute_result"
    }
   ],
   "source": [
    "def beta_mean(row): return scipy.stats.beta.mean(row['a'], row['b'])\n",
    "def beta_var(row): return scipy.stats.beta.var(row['a'], row['b'])\n",
    "\n",
    "mortality_summ['a'] = 3 + mortality_summ['sum']\n",
    "mortality_summ['b'] = 3 + mortality_summ['count'] - mortality_summ['sum']\n",
    "mortality_summ['beta_mean'] = mortality_summ.apply(beta_mean, axis=1)\n",
    "mortality_summ['beta_var'] = mortality_summ.apply(beta_var, axis=1)\n",
    "mortality_summ['snr'] = mortality_summ['beta_mean']/mortality_summ['beta_var']\n",
    "mortality_summ['weighted_size'] = mortality_summ['beta_mean']*mortality_summ['count']\n",
    "mortality_summ = pd.merge(mortality_summ, chain_df, on = 'family')\n",
    "mortality_summ.to_csv('outputs/family_fitness.tsv', sep='\\t', index=False)\n",
    "mortality_summ.head()"
   ]
  },
  {
   "cell_type": "markdown",
   "metadata": {},
   "source": [
    "### Compare candidate success measures"
   ]
  },
  {
   "cell_type": "markdown",
   "metadata": {},
   "source": [
    "Beta mean:"
   ]
  },
  {
   "cell_type": "code",
   "execution_count": null,
   "metadata": {},
   "outputs": [],
   "source": [
    "ax = sns.distplot(mortality_summ['beta_mean'])\n",
    "ax.set(xlabel = 'Mean viability ($\\mu$)')\n",
    "sns.despine()"
   ]
  },
  {
   "cell_type": "markdown",
   "metadata": {},
   "source": [
    "Distribution of SNR:"
   ]
  },
  {
   "cell_type": "code",
   "execution_count": null,
   "metadata": {},
   "outputs": [],
   "source": [
    "ax = sns.distplot(np.log10(mortality_summ['snr']))\n",
    "ax.set(xlabel='Signal-to-noise ratio ($\\mu/\\sigma$)',\n",
    "       xticks = np.arange(1,5), xticklabels=[10**x for x in np.arange(1,5)])\n",
    "sns.despine()"
   ]
  },
  {
   "cell_type": "markdown",
   "metadata": {},
   "source": [
    "Distribution of weighted size:"
   ]
  },
  {
   "cell_type": "code",
   "execution_count": null,
   "metadata": {},
   "outputs": [],
   "source": [
    "ax = sns.distplot(np.log10(mortality_summ['weighted_size']))\n",
    "ax.set(xlabel='Weighted family size ($\\mu N$)',\n",
    "       xticks=np.arange(0, 5), xticklabels=[10**x for x in np.arange(0, 5)])"
   ]
  },
  {
   "cell_type": "markdown",
   "metadata": {},
   "source": [
    "Distribution of # adults:"
   ]
  },
  {
   "cell_type": "code",
   "execution_count": null,
   "metadata": {},
   "outputs": [],
   "source": [
    "ax = sns.distplot(np.log10(mortality_summ['sum']))\n",
    "ax.set(xlabel='# of adults', xticks = np.arange(0,5), xticklabels=[10**x for x in np.arange(0,5)])"
   ]
  },
  {
   "cell_type": "markdown",
   "metadata": {},
   "source": [
    "### Plot representative families"
   ]
  },
  {
   "cell_type": "markdown",
   "metadata": {},
   "source": [
    "Split data into quartiles:"
   ]
  },
  {
   "cell_type": "code",
   "execution_count": null,
   "metadata": {},
   "outputs": [],
   "source": [
    "success = 'sum' # Success metric\n",
    "mortality_summ['quantile'] = pd.qcut(mortality_summ[success], 4, labels=False)"
   ]
  },
  {
   "cell_type": "markdown",
   "metadata": {},
   "source": [
    "What are the quantiles?"
   ]
  },
  {
   "cell_type": "code",
   "execution_count": null,
   "metadata": {},
   "outputs": [],
   "source": [
    "success_q = scipy.stats.mstats.mquantiles(mortality_summ[success], prob=[0.25, 0.5, 0.75, 1])\n",
    "mortality_summ['log_n'] = np.log10(mortality_summ['sum'])\n",
    "\n",
    "# Plot!\n",
    "q_log = np.log10(success_q)\n",
    "plt.figure(figsize=(12,4))\n",
    "for q in q_log:\n",
    "    plt.axvline(q, color='#aaaaaa', linestyle='--')\n",
    "\n",
    "ax = sns.distplot(mortality_summ['log_n'])\n",
    "ax.set_xticks(range(5))\n",
    "labels = [10**t for t in ax.get_xticks()]\n",
    "ax.set(xlabel='# of adults', xticklabels=labels)\n",
    "sns.despine()"
   ]
  },
  {
   "cell_type": "markdown",
   "metadata": {},
   "source": [
    "Plot representative family trees from each quartile:"
   ]
  },
  {
   "cell_type": "code",
   "execution_count": null,
   "metadata": {},
   "outputs": [],
   "source": [
    "np.random.seed(526)\n",
    "representative_families = np.array([np.random.choice(group['family'], 10) \n",
    "                                    for name,group in mortality_summ.groupby('quantile')])\n",
    "rep_list = np.array(representative_families)\n",
    "rep_list = rep_list.flatten()\n",
    "\n",
    "rep_info = mortality_summ.copy()\n",
    "rep_info = rep_info[rep_info['family'].isin(rep_list)]\n",
    "rep_info = rep_info.reset_index(drop=True)\n",
    "rep_info = rep_info.sort_values('quantile')\n",
    "rep_info.to_csv('plots/fitness_quantiles/selected_families.tsv', sep='\\t', index=None)\n",
    "rep_info.head()"
   ]
  },
  {
   "cell_type": "code",
   "execution_count": null,
   "metadata": {
    "scrolled": false
   },
   "outputs": [],
   "source": [
    "for quant in notebook.tqdm(range(4)):\n",
    "    for f in notebook.tqdm(representative_families[quant]):\n",
    "        fam_file = 'outputs/families/families_%s.json' % f\n",
    "        out_file = 'plots/fitness_quantiles/families_Q%i_%s.png' % (quant+1, f)\n",
    "\n",
    "        # Load graph and remove infant deaths\n",
    "        fam_graph = open_graph(fam_file)\n",
    "\n",
    "        # Figure size (based on graphviz layout)\n",
    "        nx.nx_agraph.write_dot(fam_graph,'fam.dot')\n",
    "        pos=graphviz_layout(fam_graph, prog='dot')\n",
    "        pos_coords = pd.DataFrame(list(pos.values()), columns=['x','y']).agg(['max', 'min'])\n",
    "        w = (pos_coords.loc['max', 'x'] - pos_coords.loc['min', 'x'])/150\n",
    "        h = (pos_coords.loc['max', 'y'] - pos_coords.loc['min', 'y'])/150\n",
    "\n",
    "        # Adjust for 2-member families\n",
    "        w = max(w, 2)\n",
    "        h = max(h, 2)\n",
    "\n",
    "        # Node color (based on whether individuals reached maturity)\n",
    "        fam_nodes = list(fam_graph.nodes)\n",
    "        fam_nodes = [int(n) for n in fam_nodes]\n",
    "\n",
    "        fam_attr = mortality_df[['avatar', 'adult']].copy()\n",
    "        fam_attr = fam_attr[fam_attr['avatar'].isin(fam_nodes)]\n",
    "        fam_attr = fam_attr.set_index('avatar')\n",
    "        fam_attr = fam_attr.to_dict()\n",
    "        \n",
    "        fam_color = []\n",
    "        for n in fam_nodes:\n",
    "            if n in infant_deaths:\n",
    "                fam_color.append('#cccccc')\n",
    "            else:\n",
    "                if fam_attr['adult'][n] == 1:\n",
    "                    fam_color.append('#4ab1ff')\n",
    "                else:\n",
    "                    fam_color.append('#4ab1ff')\n",
    "\n",
    "#         fam_color = [fam_attr['adult'][n] == 1 for n in fam_nodes]\n",
    "#         fam_color = ['#4ab1ff' if c else '#cccccc' for c in fam_color]\n",
    "\n",
    "        plt.figure(3,figsize=(w,h)) \n",
    "        nx.draw(fam_graph, pos, with_labels=False, arrows=True, node_color=fam_color)\n",
    "        plt.savefig(out_file, transparent=True)\n",
    "        plt.close()"
   ]
  },
  {
   "cell_type": "markdown",
   "metadata": {},
   "source": [
    "## Plots for talk"
   ]
  },
  {
   "cell_type": "markdown",
   "metadata": {},
   "source": [
    "<div style='background-color:red;color:white;'>TODO: The plots below should be moved elsewhere to preserve order!</div>\n",
    "Relationship between family and repertoire size:"
   ]
  },
  {
   "cell_type": "code",
   "execution_count": null,
   "metadata": {},
   "outputs": [],
   "source": [
    "rep_df = pd.read_csv('../3_technology/outputs/family_repertoire.tsv', sep='\\t')\n",
    "rep_df.head()"
   ]
  },
  {
   "cell_type": "code",
   "execution_count": null,
   "metadata": {},
   "outputs": [],
   "source": [
    "family_n = mortality_summ[['family','sum', 'log_n']]\n",
    "family_rep = rep_df[['family', 'breadth','log_breadth']]\n",
    "n_rep = pd.merge(family_n, family_rep, on='family')\n",
    "n_rep.head()"
   ]
  },
  {
   "cell_type": "markdown",
   "metadata": {},
   "source": [
    "Max items possible?"
   ]
  },
  {
   "cell_type": "code",
   "execution_count": null,
   "metadata": {},
   "outputs": [],
   "source": [
    "item_df = pd.read_csv('../4_techtree/num_unique_ingredients.csv')\n",
    "n_items = len(item_df)\n",
    "print('# items: %i' % n_items)\n",
    "item_df.head()"
   ]
  },
  {
   "cell_type": "markdown",
   "metadata": {},
   "source": [
    "Distribution of repertoire sizes"
   ]
  },
  {
   "cell_type": "code",
   "execution_count": null,
   "metadata": {},
   "outputs": [],
   "source": [
    "rep_q = scipy.stats.mstats.mquantiles(rep_df['log_breadth'], prob=[0.25, 0.5, 0.75, 1])\n",
    "print(rep_q)\n",
    "\n",
    "plt.figure(figsize=(12,4))\n",
    "# for q in rep_q:\n",
    "#     plt.axvline(q, color='#aaaaaa', linestyle='--')\n",
    "#plt.axvspan(0, q_log[0], alpha=0.5, color='red') \n",
    "\n",
    "ax = sns.distplot(rep_df['log_breadth'], bins=20)\n",
    "ax.set_xlim(left=0)\n",
    "ax.set_xticks(range(5))\n",
    "plt.axvline(np.log10(n_items), linestyle='--', color = '#f5a442')\n",
    "labels = [10**t for t in ax.get_xticks()]\n",
    "ax.set(xlabel='Repertoire size', xticklabels=labels)\n",
    "sns.despine()"
   ]
  },
  {
   "cell_type": "code",
   "execution_count": null,
   "metadata": {},
   "outputs": [],
   "source": [
    "g = sns.jointplot(data=n_rep, x='log_breadth', y='log_n', kind='reg', lowess=True,\n",
    "                  marginal_kws={'bins':20},\n",
    "                  scatter_kws={'alpha':0.01, 'color': '#A5C8E1'})\n",
    "ticks = np.arange(4)\n",
    "tick_labels = [10**t for t in ticks]\n",
    "g.ax_joint.set(xticks = ticks, yticks = ticks,\n",
    "               xticklabels = tick_labels, yticklabels = tick_labels,\n",
    "               xlabel='Viability',\n",
    "               ylabel='Repertoire size')"
   ]
  },
  {
   "cell_type": "code",
   "execution_count": null,
   "metadata": {},
   "outputs": [],
   "source": [
    "gini_df = pd.read_csv('../3_technology/outputs/family_gini.tsv', sep='\\t')\n",
    "gini_df.head()"
   ]
  },
  {
   "cell_type": "code",
   "execution_count": null,
   "metadata": {},
   "outputs": [],
   "source": [
    "gini_rep = pd.merge(gini_df, rep_df, on='family')\n",
    "gini_rep.head()"
   ]
  },
  {
   "cell_type": "code",
   "execution_count": null,
   "metadata": {},
   "outputs": [],
   "source": [
    "fig = plt.figure(figsize=(6,6))\n",
    "ax = sns.regplot(x='gini', y='log_breadth', data=gini_rep,\n",
    "                 scatter_kws={'alpha': 0.05, 'color': '#A5C8E1'}, \n",
    "                 line_kws = {'color': '#2276B4'}, lowess=True)\n",
    "yticks =  np.arange(0,5)\n",
    "ax.set_yticks(yticks)\n",
    "yticklabels = [10**y for y in yticks]\n",
    "ax.set(xlabel = 'Innovation inequality (G)',\n",
    "       xlim = (0,1),\n",
    "       ylabel = 'Repertoire size',\n",
    "       yticklabels=yticklabels)\n",
    "sns.despine()"
   ]
  },
  {
   "cell_type": "code",
   "execution_count": null,
   "metadata": {},
   "outputs": [],
   "source": [
    "plt.figure(figsize=(7,5))\n",
    "equal_dist = np.array([0,1,2,3,4])\n",
    "ax = sns.distplot(equal_dist, kde=False, hist_kws={'density': False}, bins=5)\n",
    "ax.set(xlim = (0,11), ylim = (0,5),\n",
    "       xticks = np.arange(0,11),\n",
    "       yticks = np.arange(6),\n",
    "       xlabel='# discoveries',\n",
    "       ylabel='# players')\n",
    "sns.despine()"
   ]
  }
 ],
 "metadata": {
  "kernelspec": {
   "display_name": "Python [conda env:.conda-py3]",
   "language": "python",
   "name": "conda-env-.conda-py3-py"
  },
  "language_info": {
   "codemirror_mode": {
    "name": "ipython",
    "version": 3
   },
   "file_extension": ".py",
   "mimetype": "text/x-python",
   "name": "python",
   "nbconvert_exporter": "python",
   "pygments_lexer": "ipython3",
   "version": "3.6.10"
  }
 },
 "nbformat": 4,
 "nbformat_minor": 4
}
