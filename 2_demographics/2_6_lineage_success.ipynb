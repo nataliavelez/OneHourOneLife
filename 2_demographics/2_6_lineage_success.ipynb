{
 "cells": [
  {
   "cell_type": "markdown",
   "metadata": {},
   "source": [
    "# Compare success of different lineages\n",
    "Natalia Vélez, July 2020\n",
    "\n",
    "Now that we've built a graph representation of family trees, we'll use it to compare lineages and operationalize a success measure."
   ]
  },
  {
   "cell_type": "code",
   "execution_count": 1,
   "metadata": {},
   "outputs": [],
   "source": [
    "%matplotlib inline\n",
    "\n",
    "import os, re, glob, datetime, json\n",
    "from os.path import join as opj\n",
    "\n",
    "import pandas as pd\n",
    "import numpy as np\n",
    "import scipy.stats\n",
    "from tqdm import notebook\n",
    "\n",
    "import networkx as nx\n",
    "import matplotlib.pyplot as plt\n",
    "import seaborn as sns\n",
    "from networkx.drawing.nx_agraph import graphviz_layout\n",
    "\n",
    "sns.set_context('talk')\n",
    "sns.set_style('white')"
   ]
  },
  {
   "cell_type": "markdown",
   "metadata": {},
   "source": [
    "## Set up data"
   ]
  },
  {
   "cell_type": "markdown",
   "metadata": {},
   "source": [
    "Find start of boundless era from version history:"
   ]
  },
  {
   "cell_type": "code",
   "execution_count": 2,
   "metadata": {},
   "outputs": [
    {
     "name": "stdout",
     "output_type": "stream",
     "text": [
      "Start of boundless: 2019-11-08 22:27:14\n"
     ]
    },
    {
     "data": {
      "text/html": [
       "<div>\n",
       "<style scoped>\n",
       "    .dataframe tbody tr th:only-of-type {\n",
       "        vertical-align: middle;\n",
       "    }\n",
       "\n",
       "    .dataframe tbody tr th {\n",
       "        vertical-align: top;\n",
       "    }\n",
       "\n",
       "    .dataframe thead th {\n",
       "        text-align: right;\n",
       "    }\n",
       "</style>\n",
       "<table border=\"1\" class=\"dataframe\">\n",
       "  <thead>\n",
       "    <tr style=\"text-align: right;\">\n",
       "      <th></th>\n",
       "      <th>release</th>\n",
       "      <th>timestamp</th>\n",
       "    </tr>\n",
       "  </thead>\n",
       "  <tbody>\n",
       "    <tr>\n",
       "      <th>0</th>\n",
       "      <td>1</td>\n",
       "      <td>1.483052e+09</td>\n",
       "    </tr>\n",
       "    <tr>\n",
       "      <th>1</th>\n",
       "      <td>5</td>\n",
       "      <td>1.483472e+09</td>\n",
       "    </tr>\n",
       "    <tr>\n",
       "      <th>2</th>\n",
       "      <td>8</td>\n",
       "      <td>1.484065e+09</td>\n",
       "    </tr>\n",
       "    <tr>\n",
       "      <th>3</th>\n",
       "      <td>14</td>\n",
       "      <td>1.484961e+09</td>\n",
       "    </tr>\n",
       "    <tr>\n",
       "      <th>4</th>\n",
       "      <td>16</td>\n",
       "      <td>1.492207e+09</td>\n",
       "    </tr>\n",
       "  </tbody>\n",
       "</table>\n",
       "</div>"
      ],
      "text/plain": [
       "   release     timestamp\n",
       "0        1  1.483052e+09\n",
       "1        5  1.483472e+09\n",
       "2        8  1.484065e+09\n",
       "3       14  1.484961e+09\n",
       "4       16  1.492207e+09"
      ]
     },
     "execution_count": 2,
     "metadata": {},
     "output_type": "execute_result"
    }
   ],
   "source": [
    "ver_history = pd.read_csv('../1_download/outputs/version_history.tsv', sep='\\t')\n",
    "boundless_t = ver_history.loc[ver_history['release'] == 280, 'timestamp'].values[0]\n",
    "print('Start of boundless: %s' % datetime.datetime.fromtimestamp(boundless_t))\n",
    "ver_history.head()"
   ]
  },
  {
   "cell_type": "markdown",
   "metadata": {},
   "source": [
    "Load lifelog data:"
   ]
  },
  {
   "cell_type": "code",
   "execution_count": 3,
   "metadata": {},
   "outputs": [
    {
     "name": "stderr",
     "output_type": "stream",
     "text": [
      "/users/nvelezalicea/.conda/envs/py3/lib/python3.6/site-packages/numpy/lib/arraysetops.py:580: FutureWarning: elementwise comparison failed; returning scalar instead, but in the future will perform elementwise comparison\n",
      "  mask |= (ar1 == a)\n"
     ]
    },
    {
     "data": {
      "text/html": [
       "<div>\n",
       "<style scoped>\n",
       "    .dataframe tbody tr th:only-of-type {\n",
       "        vertical-align: middle;\n",
       "    }\n",
       "\n",
       "    .dataframe tbody tr th {\n",
       "        vertical-align: top;\n",
       "    }\n",
       "\n",
       "    .dataframe thead th {\n",
       "        text-align: right;\n",
       "    }\n",
       "</style>\n",
       "<table border=\"1\" class=\"dataframe\">\n",
       "  <thead>\n",
       "    <tr style=\"text-align: right;\">\n",
       "      <th></th>\n",
       "      <th>player</th>\n",
       "      <th>avatar</th>\n",
       "      <th>tBirth</th>\n",
       "      <th>parent</th>\n",
       "      <th>birth</th>\n",
       "      <th>tDeath</th>\n",
       "      <th>death</th>\n",
       "      <th>age</th>\n",
       "      <th>cause_of_death</th>\n",
       "      <th>birthX</th>\n",
       "      <th>birthY</th>\n",
       "      <th>deathX</th>\n",
       "      <th>deathY</th>\n",
       "      <th>first</th>\n",
       "      <th>last</th>\n",
       "    </tr>\n",
       "  </thead>\n",
       "  <tbody>\n",
       "    <tr>\n",
       "      <th>0</th>\n",
       "      <td>a12bd25b7ca87b4126ab27e4142ab5136f185e2c</td>\n",
       "      <td>3983348</td>\n",
       "      <td>1613458220</td>\n",
       "      <td>3983322</td>\n",
       "      <td>[-6583  -188]</td>\n",
       "      <td>1.613462e+09</td>\n",
       "      <td>[-6592  -192]</td>\n",
       "      <td>60.00</td>\n",
       "      <td>oldAge</td>\n",
       "      <td>-6583</td>\n",
       "      <td>-188</td>\n",
       "      <td>-6592.0</td>\n",
       "      <td>-192.0</td>\n",
       "      <td>KANE</td>\n",
       "      <td>S</td>\n",
       "    </tr>\n",
       "    <tr>\n",
       "      <th>1</th>\n",
       "      <td>7bd530ec132a3123bbc64f1a7b99a890a78c710f</td>\n",
       "      <td>3983347</td>\n",
       "      <td>1613458114</td>\n",
       "      <td>3983274</td>\n",
       "      <td>[-7544   330]</td>\n",
       "      <td>1.613461e+09</td>\n",
       "      <td>[-7548   318]</td>\n",
       "      <td>42.14</td>\n",
       "      <td>hunger</td>\n",
       "      <td>-7544</td>\n",
       "      <td>330</td>\n",
       "      <td>-7548.0</td>\n",
       "      <td>318.0</td>\n",
       "      <td>DIA</td>\n",
       "      <td>JAMESON</td>\n",
       "    </tr>\n",
       "    <tr>\n",
       "      <th>2</th>\n",
       "      <td>039241fe1322e3c1877753357f239f0e70218553</td>\n",
       "      <td>3983346</td>\n",
       "      <td>1613458026</td>\n",
       "      <td>3983281</td>\n",
       "      <td>[-7552   341]</td>\n",
       "      <td>1.613462e+09</td>\n",
       "      <td>[-7548   320]</td>\n",
       "      <td>60.00</td>\n",
       "      <td>oldAge</td>\n",
       "      <td>-7552</td>\n",
       "      <td>341</td>\n",
       "      <td>-7548.0</td>\n",
       "      <td>320.0</td>\n",
       "      <td>JANE</td>\n",
       "      <td>JAMESON</td>\n",
       "    </tr>\n",
       "    <tr>\n",
       "      <th>3</th>\n",
       "      <td>6b7abc8753b6a431ed0840d88b2c8f103f933639</td>\n",
       "      <td>3983344</td>\n",
       "      <td>1613458002</td>\n",
       "      <td>3983270</td>\n",
       "      <td>[-7695   128]</td>\n",
       "      <td>1.613460e+09</td>\n",
       "      <td>[-7677   119]</td>\n",
       "      <td>25.22</td>\n",
       "      <td>hunger</td>\n",
       "      <td>-7695</td>\n",
       "      <td>128</td>\n",
       "      <td>-7677.0</td>\n",
       "      <td>119.0</td>\n",
       "      <td>REX</td>\n",
       "      <td>LODEN</td>\n",
       "    </tr>\n",
       "    <tr>\n",
       "      <th>4</th>\n",
       "      <td>c0190e141587c8751a311a41df7183a8d1835262</td>\n",
       "      <td>3983343</td>\n",
       "      <td>1613457977</td>\n",
       "      <td>3983276</td>\n",
       "      <td>[-7570   320]</td>\n",
       "      <td>1.613462e+09</td>\n",
       "      <td>[-7687   119]</td>\n",
       "      <td>60.00</td>\n",
       "      <td>oldAge</td>\n",
       "      <td>-7570</td>\n",
       "      <td>320</td>\n",
       "      <td>-7687.0</td>\n",
       "      <td>119.0</td>\n",
       "      <td>ADELINE</td>\n",
       "      <td>JAMES</td>\n",
       "    </tr>\n",
       "  </tbody>\n",
       "</table>\n",
       "</div>"
      ],
      "text/plain": [
       "                                     player   avatar      tBirth   parent  \\\n",
       "0  a12bd25b7ca87b4126ab27e4142ab5136f185e2c  3983348  1613458220  3983322   \n",
       "1  7bd530ec132a3123bbc64f1a7b99a890a78c710f  3983347  1613458114  3983274   \n",
       "2  039241fe1322e3c1877753357f239f0e70218553  3983346  1613458026  3983281   \n",
       "3  6b7abc8753b6a431ed0840d88b2c8f103f933639  3983344  1613458002  3983270   \n",
       "4  c0190e141587c8751a311a41df7183a8d1835262  3983343  1613457977  3983276   \n",
       "\n",
       "           birth        tDeath          death    age cause_of_death  birthX  \\\n",
       "0  [-6583  -188]  1.613462e+09  [-6592  -192]  60.00         oldAge   -6583   \n",
       "1  [-7544   330]  1.613461e+09  [-7548   318]  42.14         hunger   -7544   \n",
       "2  [-7552   341]  1.613462e+09  [-7548   320]  60.00         oldAge   -7552   \n",
       "3  [-7695   128]  1.613460e+09  [-7677   119]  25.22         hunger   -7695   \n",
       "4  [-7570   320]  1.613462e+09  [-7687   119]  60.00         oldAge   -7570   \n",
       "\n",
       "   birthY  deathX  deathY    first     last  \n",
       "0    -188 -6592.0  -192.0     KANE        S  \n",
       "1     330 -7548.0   318.0      DIA  JAMESON  \n",
       "2     341 -7548.0   320.0     JANE  JAMESON  \n",
       "3     128 -7677.0   119.0      REX    LODEN  \n",
       "4     320 -7687.0   119.0  ADELINE    JAMES  "
      ]
     },
     "execution_count": 3,
     "metadata": {},
     "output_type": "execute_result"
    }
   ],
   "source": [
    "all_eras = pd.read_csv('outputs/all_lifelogs_compact.tsv', sep='\\t', index_col=0)\n",
    "all_eras.head()"
   ]
  },
  {
   "cell_type": "markdown",
   "metadata": {},
   "source": [
    "Load families & find families that started in boundless era:"
   ]
  },
  {
   "cell_type": "code",
   "execution_count": 4,
   "metadata": {},
   "outputs": [
    {
     "name": "stderr",
     "output_type": "stream",
     "text": [
      "/users/nvelezalicea/.conda/envs/py3/lib/python3.6/site-packages/numpy/lib/arraysetops.py:580: FutureWarning: elementwise comparison failed; returning scalar instead, but in the future will perform elementwise comparison\n",
      "  mask |= (ar1 == a)\n"
     ]
    },
    {
     "data": {
      "text/html": [
       "<div>\n",
       "<style scoped>\n",
       "    .dataframe tbody tr th:only-of-type {\n",
       "        vertical-align: middle;\n",
       "    }\n",
       "\n",
       "    .dataframe tbody tr th {\n",
       "        vertical-align: top;\n",
       "    }\n",
       "\n",
       "    .dataframe thead th {\n",
       "        text-align: right;\n",
       "    }\n",
       "</style>\n",
       "<table border=\"1\" class=\"dataframe\">\n",
       "  <thead>\n",
       "    <tr style=\"text-align: right;\">\n",
       "      <th></th>\n",
       "      <th>avatar</th>\n",
       "      <th>family</th>\n",
       "    </tr>\n",
       "  </thead>\n",
       "  <tbody>\n",
       "    <tr>\n",
       "      <th>0</th>\n",
       "      <td>3983340</td>\n",
       "      <td>time-1613456734_eve-3983313_name-WINDROW</td>\n",
       "    </tr>\n",
       "    <tr>\n",
       "      <th>1</th>\n",
       "      <td>3983333</td>\n",
       "      <td>time-1613456734_eve-3983313_name-WINDROW</td>\n",
       "    </tr>\n",
       "    <tr>\n",
       "      <th>2</th>\n",
       "      <td>3983314</td>\n",
       "      <td>time-1613456734_eve-3983313_name-WINDROW</td>\n",
       "    </tr>\n",
       "    <tr>\n",
       "      <th>3</th>\n",
       "      <td>3983313</td>\n",
       "      <td>time-1613456734_eve-3983313_name-WINDROW</td>\n",
       "    </tr>\n",
       "    <tr>\n",
       "      <th>4</th>\n",
       "      <td>3983076</td>\n",
       "      <td>time-1613449020_eve-3983028_name-LODEN</td>\n",
       "    </tr>\n",
       "  </tbody>\n",
       "</table>\n",
       "</div>"
      ],
      "text/plain": [
       "    avatar                                    family\n",
       "0  3983340  time-1613456734_eve-3983313_name-WINDROW\n",
       "1  3983333  time-1613456734_eve-3983313_name-WINDROW\n",
       "2  3983314  time-1613456734_eve-3983313_name-WINDROW\n",
       "3  3983313  time-1613456734_eve-3983313_name-WINDROW\n",
       "4  3983076    time-1613449020_eve-3983028_name-LODEN"
      ]
     },
     "execution_count": 4,
     "metadata": {},
     "output_type": "execute_result"
    }
   ],
   "source": [
    "fam_df = pd.read_csv('outputs/family_playerID.tsv', sep='\\t', index_col=0)\n",
    "fam_df.head()"
   ]
  },
  {
   "cell_type": "markdown",
   "metadata": {},
   "source": [
    "Find families that started in boundless era:"
   ]
  },
  {
   "cell_type": "code",
   "execution_count": 5,
   "metadata": {},
   "outputs": [
    {
     "name": "stdout",
     "output_type": "stream",
     "text": [
      "Total families: 63787\n"
     ]
    },
    {
     "data": {
      "text/plain": [
       "in_era\n",
       "False    49880\n",
       "True     13907\n",
       "Name: family, dtype: int64"
      ]
     },
     "execution_count": 5,
     "metadata": {},
     "output_type": "execute_result"
    }
   ],
   "source": [
    "in_boundless = fam_df.groupby('family')['avatar'].agg('count').reset_index()\n",
    "in_boundless['start_t'] = in_boundless['family'].str.extract(r'(?<=time-)([0-9]+)')\n",
    "in_boundless['start_t'] = in_boundless['start_t'].astype(np.int)\n",
    "in_boundless['in_era'] = in_boundless['start_t'] > boundless_t\n",
    "in_boundless = in_boundless[['family', 'in_era']]\n",
    "\n",
    "# Summary: How many families left?\n",
    "print('Total families: %i' % in_boundless.shape[0])\n",
    "in_boundless.groupby('in_era')['family'].agg('count')"
   ]
  },
  {
   "cell_type": "markdown",
   "metadata": {},
   "source": [
    "Merge:"
   ]
  },
  {
   "cell_type": "code",
   "execution_count": 6,
   "metadata": {},
   "outputs": [
    {
     "name": "stdout",
     "output_type": "stream",
     "text": [
      "Original size: (2161128, 15)\n",
      "Boundless era only: (734584, 17)\n"
     ]
    }
   ],
   "source": [
    "print('Original size: %s' % str(all_eras.shape))\n",
    "boundless_df = pd.merge(all_eras, fam_df, on='avatar')\n",
    "boundless_df = pd.merge(boundless_df, in_boundless, on='family')\n",
    "boundless_df = boundless_df[boundless_df['in_era']]\n",
    "boundless_df = boundless_df.reset_index(drop=True)\n",
    "print('Boundless era only: %s' % str(boundless_df.shape))"
   ]
  },
  {
   "cell_type": "markdown",
   "metadata": {},
   "source": [
    "Remove singleton families:"
   ]
  },
  {
   "cell_type": "code",
   "execution_count": 7,
   "metadata": {},
   "outputs": [
    {
     "name": "stdout",
     "output_type": "stream",
     "text": [
      "Removing 7758 singleton families\n"
     ]
    }
   ],
   "source": [
    "singletons = boundless_df.groupby('family')['avatar'].agg('count').reset_index()\n",
    "singletons = singletons.rename(columns={'avatar': 'count'})\n",
    "singletons = singletons[singletons['count'] == 1]\n",
    "single_fams = singletons.family.values\n",
    "\n",
    "print('Removing %i singleton families' % len(single_fams))\n",
    "boundless_df = boundless_df[~boundless_df['family'].isin(single_fams)]\n",
    "#era_df = era_df.reset_index(drop=True)"
   ]
  },
  {
   "cell_type": "markdown",
   "metadata": {},
   "source": [
    "Remove incomplete families (i.e., lineages that were still alive at the time of the data download)"
   ]
  },
  {
   "cell_type": "code",
   "execution_count": null,
   "metadata": {},
   "outputs": [],
   "source": []
  },
  {
   "cell_type": "code",
   "execution_count": 8,
   "metadata": {},
   "outputs": [
    {
     "name": "stdout",
     "output_type": "stream",
     "text": [
      "Removing 11 incomplete families\n"
     ]
    }
   ],
   "source": [
    "idx = boundless_df.groupby(['family'])['tBirth'].transform(max) == boundless_df['tBirth']\n",
    "last_descendants = boundless_df[idx].copy()\n",
    "incomplete_fams = last_descendants[~np.isfinite(last_descendants.tDeath)].family.values\n",
    "\n",
    "print('Removing %i incomplete families' % len(incomplete_fams))\n",
    "boundless_df = boundless_df[~boundless_df['family'].isin(incomplete_fams)]"
   ]
  },
  {
   "cell_type": "markdown",
   "metadata": {},
   "source": [
    "Exclude infant births:"
   ]
  },
  {
   "cell_type": "code",
   "execution_count": 9,
   "metadata": {},
   "outputs": [
    {
     "name": "stdout",
     "output_type": "stream",
     "text": [
      "Removed 43132 infant deaths\n"
     ]
    }
   ],
   "source": [
    "orig_n = len(boundless_df)\n",
    "infant_deaths = np.loadtxt('outputs/infant_deaths.txt', dtype=np.int)\n",
    "boundless_df = boundless_df[~boundless_df['avatar'].isin(infant_deaths)].reset_index(drop=True)\n",
    "new_n = len(boundless_df)\n",
    "\n",
    "print('Removed %i infant deaths' % (orig_n - new_n))"
   ]
  },
  {
   "cell_type": "markdown",
   "metadata": {},
   "source": [
    "Just look at lineages from the boundless world era:"
   ]
  },
  {
   "cell_type": "code",
   "execution_count": 10,
   "metadata": {},
   "outputs": [
    {
     "name": "stdout",
     "output_type": "stream",
     "text": [
      "Analyzing 6138 families\n",
      "682693 avatars\n",
      "37739 unique players\n"
     ]
    }
   ],
   "source": [
    "boundless_families = np.unique(boundless_df['family'])\n",
    "\n",
    "print('Analyzing %i families' % len(boundless_families))\n",
    "print('%i avatars' % len(np.unique(boundless_df['avatar'])))\n",
    "print('%i unique players' % len(np.unique(boundless_df['player'])))"
   ]
  },
  {
   "cell_type": "markdown",
   "metadata": {},
   "source": [
    "Lives per player in current sample:"
   ]
  },
  {
   "cell_type": "code",
   "execution_count": 11,
   "metadata": {},
   "outputs": [
    {
     "name": "stdout",
     "output_type": "stream",
     "text": [
      "Median # lives: 4.00\n",
      "Min # lives: 1\n",
      "Max # lives: 1998\n"
     ]
    },
    {
     "data": {
      "image/png": "[encoded data removed]",
      "text/plain": [
       "<Figure size 432x288 with 1 Axes>"
      ]
     },
     "metadata": {},
     "output_type": "display_data"
    }
   ],
   "source": [
    "lineage_df = boundless_df.copy()\n",
    "player_summ = lineage_df.groupby('player')['avatar'].agg('count').reset_index()\n",
    "player_summ = player_summ.rename(columns={'avatar': 'n'})\n",
    "player_summ.head()\n",
    "\n",
    "# Plot\n",
    "print('Median # lives: %0.2f' % np.median(player_summ['n']))\n",
    "print('Min # lives: %i' % np.min(player_summ['n']))\n",
    "print('Max # lives: %i' % np.max(player_summ['n']))\n",
    "\n",
    "fig,ax = plt.subplots()\n",
    "sns.distplot(np.log10(player_summ['n']),ax=ax)\n",
    "ax.set(xlabel='# lives (excluding disconnects)', xticks=range(4), xticklabels=[10**x for x in range(4)])\n",
    "sns.despine()"
   ]
  },
  {
   "cell_type": "markdown",
   "metadata": {},
   "source": [
    "Start and end times:"
   ]
  },
  {
   "cell_type": "code",
   "execution_count": 12,
   "metadata": {},
   "outputs": [
    {
     "name": "stdout",
     "output_type": "stream",
     "text": [
      "Analyzing 6138 lineages\n",
      "First lineage starts at: 2019-11-08T22:54:39 \n",
      "Lineages end at: 2021-02-16T07:50:20 \n"
     ]
    }
   ],
   "source": [
    "t_fmt = '%Y-%m-%dT%H:%M:%S %Z'\n",
    "\n",
    "start_t = np.min(lineage_df['tBirth'])\n",
    "start_date = datetime.datetime.fromtimestamp(start_t).strftime(t_fmt)\n",
    "\n",
    "end_t = np.max(lineage_df['tDeath'])\n",
    "end_date = datetime.datetime.fromtimestamp(end_t).strftime(t_fmt)\n",
    "\n",
    "print('Analyzing %i lineages' % len(boundless_families))\n",
    "print('First lineage starts at: %s' % start_date)\n",
    "print('Lineages end at: %s' % end_date)"
   ]
  },
  {
   "cell_type": "markdown",
   "metadata": {},
   "source": [
    "What is the longest-lived lineage?"
   ]
  },
  {
   "cell_type": "code",
   "execution_count": 13,
   "metadata": {},
   "outputs": [
    {
     "data": {
      "text/html": [
       "<div>\n",
       "<style scoped>\n",
       "    .dataframe tbody tr th:only-of-type {\n",
       "        vertical-align: middle;\n",
       "    }\n",
       "\n",
       "    .dataframe tbody tr th {\n",
       "        vertical-align: top;\n",
       "    }\n",
       "\n",
       "    .dataframe thead th {\n",
       "        text-align: right;\n",
       "    }\n",
       "</style>\n",
       "<table border=\"1\" class=\"dataframe\">\n",
       "  <thead>\n",
       "    <tr style=\"text-align: right;\">\n",
       "      <th></th>\n",
       "      <th>family</th>\n",
       "      <th>tBirth</th>\n",
       "      <th>tDeath</th>\n",
       "      <th>duration_hours</th>\n",
       "      <th>duration_days</th>\n",
       "    </tr>\n",
       "  </thead>\n",
       "  <tbody>\n",
       "    <tr>\n",
       "      <th>0</th>\n",
       "      <td>time-1609746195_eve-3833245_name-STALLINS</td>\n",
       "      <td>1609746195</td>\n",
       "      <td>1.610329e+09</td>\n",
       "      <td>161.972222</td>\n",
       "      <td>6.748843</td>\n",
       "    </tr>\n",
       "    <tr>\n",
       "      <th>1</th>\n",
       "      <td>time-1611138522_eve-3897231_name-LUCKY</td>\n",
       "      <td>1611138522</td>\n",
       "      <td>1.611671e+09</td>\n",
       "      <td>147.875833</td>\n",
       "      <td>6.161493</td>\n",
       "    </tr>\n",
       "    <tr>\n",
       "      <th>2</th>\n",
       "      <td>time-1611388293_eve-3906808_name-ARTEMENKO</td>\n",
       "      <td>1611388293</td>\n",
       "      <td>1.611867e+09</td>\n",
       "      <td>132.887778</td>\n",
       "      <td>5.536991</td>\n",
       "    </tr>\n",
       "    <tr>\n",
       "      <th>3</th>\n",
       "      <td>time-1610335007_eve-3864700_name-APRIL</td>\n",
       "      <td>1610335007</td>\n",
       "      <td>1.610808e+09</td>\n",
       "      <td>131.353889</td>\n",
       "      <td>5.473079</td>\n",
       "    </tr>\n",
       "    <tr>\n",
       "      <th>4</th>\n",
       "      <td>time-1607255144_eve-3661190_name-RED</td>\n",
       "      <td>1607255144</td>\n",
       "      <td>1.607709e+09</td>\n",
       "      <td>126.131667</td>\n",
       "      <td>5.255486</td>\n",
       "    </tr>\n",
       "  </tbody>\n",
       "</table>\n",
       "</div>"
      ],
      "text/plain": [
       "                                       family      tBirth        tDeath  \\\n",
       "0   time-1609746195_eve-3833245_name-STALLINS  1609746195  1.610329e+09   \n",
       "1      time-1611138522_eve-3897231_name-LUCKY  1611138522  1.611671e+09   \n",
       "2  time-1611388293_eve-3906808_name-ARTEMENKO  1611388293  1.611867e+09   \n",
       "3      time-1610335007_eve-3864700_name-APRIL  1610335007  1.610808e+09   \n",
       "4        time-1607255144_eve-3661190_name-RED  1607255144  1.607709e+09   \n",
       "\n",
       "   duration_hours  duration_days  \n",
       "0      161.972222       6.748843  \n",
       "1      147.875833       6.161493  \n",
       "2      132.887778       5.536991  \n",
       "3      131.353889       5.473079  \n",
       "4      126.131667       5.255486  "
      ]
     },
     "execution_count": 13,
     "metadata": {},
     "output_type": "execute_result"
    }
   ],
   "source": [
    "family_t = lineage_df.groupby('family').agg({'tBirth': 'min', 'tDeath': 'max'}).reset_index()\n",
    "family_t['duration_hours'] = (family_t['tDeath'] - family_t['tBirth'])/60/60\n",
    "family_t['duration_days'] = family_t['duration_hours']/24\n",
    "family_t = family_t.sort_values(by='duration_hours', ascending=False).reset_index(drop=True)\n",
    "family_t.head()"
   ]
  },
  {
   "cell_type": "code",
   "execution_count": 14,
   "metadata": {},
   "outputs": [
    {
     "data": {
      "text/plain": [
       "[[<matplotlib.axis.XTick at 0x2ad9cb3025f8>,\n",
       "  <matplotlib.axis.XTick at 0x2ad9cb3021d0>,\n",
       "  <matplotlib.axis.XTick at 0x2ad9cb2fddd8>,\n",
       "  <matplotlib.axis.XTick at 0x2ad9cb38da20>,\n",
       "  <matplotlib.axis.XTick at 0x2ad9cb38de80>],\n",
       " [Text(-2.0, 0, '0.01'),\n",
       "  Text(-1.0, 0, '0.1'),\n",
       "  Text(0.0, 0, '1.0'),\n",
       "  Text(1.0, 0, '10.0'),\n",
       "  Text(2.0, 0, '100.0')],\n",
       " Text(0.5, 0, 'Family duration (hours)')]"
      ]
     },
     "execution_count": 14,
     "metadata": {},
     "output_type": "execute_result"
    },
    {
     "data": {
      "image/png": "[encoded data removed]",
      "text/plain": [
       "<Figure size 432x288 with 1 Axes>"
      ]
     },
     "metadata": {},
     "output_type": "display_data"
    }
   ],
   "source": [
    "ax = sns.distplot(np.log10(family_t.duration_hours))\n",
    "log_xticks = ax.get_xticks()\n",
    "log_xticks = log_xticks[1:-1]\n",
    "ax.set(xticks = log_xticks, xticklabels = [10**x for x in log_xticks],\n",
    "       xlabel = 'Family duration (hours)')"
   ]
  },
  {
   "cell_type": "code",
   "execution_count": 15,
   "metadata": {},
   "outputs": [
    {
     "data": {
      "text/plain": [
       "min         0.008333\n",
       "max       161.972222\n",
       "median      1.947500\n",
       "Name: duration_hours, dtype: float64"
      ]
     },
     "execution_count": 15,
     "metadata": {},
     "output_type": "execute_result"
    }
   ],
   "source": [
    "family_t['duration_hours'].agg(['min', 'max', 'median'])"
   ]
  },
  {
   "cell_type": "markdown",
   "metadata": {},
   "source": [
    "## Compute summary statistics"
   ]
  },
  {
   "cell_type": "markdown",
   "metadata": {},
   "source": [
    "### Family size and life expectancy"
   ]
  },
  {
   "cell_type": "code",
   "execution_count": 16,
   "metadata": {},
   "outputs": [
    {
     "data": {
      "image/png": "[encoded data removed]",
      "text/plain": [
       "<Figure size 432x288 with 1 Axes>"
      ]
     },
     "metadata": {},
     "output_type": "display_data"
    }
   ],
   "source": [
    "life_expectancy = lineage_df.groupby('family')['age'].agg(['mean', 'count']).reset_index()\n",
    "ax = sns.distplot(life_expectancy['mean'])\n",
    "ax.set(xlabel = 'Life expectancy by family')\n",
    "sns.despine()"
   ]
  },
  {
   "cell_type": "code",
   "execution_count": 17,
   "metadata": {},
   "outputs": [
    {
     "data": {
      "image/png": "[encoded data removed]",
      "text/plain": [
       "<Figure size 432x288 with 1 Axes>"
      ]
     },
     "metadata": {},
     "output_type": "display_data"
    }
   ],
   "source": [
    "ax = sns.distplot(np.log10(life_expectancy['count']))\n",
    "ax.set(xlabel = 'Total family size', xticks=range(5), xticklabels=[10**i for i in range(5)])\n",
    "sns.despine()"
   ]
  },
  {
   "cell_type": "code",
   "execution_count": 18,
   "metadata": {},
   "outputs": [
    {
     "data": {
      "text/plain": [
       "ModeResult(mode=array([2]), count=array([848]))"
      ]
     },
     "execution_count": 18,
     "metadata": {},
     "output_type": "execute_result"
    }
   ],
   "source": [
    "scipy.stats.mode(life_expectancy['count'])"
   ]
  },
  {
   "cell_type": "markdown",
   "metadata": {},
   "source": [
    "### Living population size over time"
   ]
  },
  {
   "cell_type": "code",
   "execution_count": 19,
   "metadata": {},
   "outputs": [
    {
     "data": {
      "application/vnd.jupyter.widget-view+json": {
       "model_id": "877dc76b7114403ca72ace78091641b8",
       "version_major": 2,
       "version_minor": 0
      },
      "text/plain": [
       "HBox(children=(FloatProgress(value=0.0, max=6138.0), HTML(value='')))"
      ]
     },
     "metadata": {},
     "output_type": "display_data"
    },
    {
     "name": "stdout",
     "output_type": "stream",
     "text": [
      "\n"
     ]
    }
   ],
   "source": [
    "living_list = []\n",
    "for fam in notebook.tqdm(boundless_families):\n",
    "    fam_df = lineage_df[lineage_df['family'] == fam].copy().reset_index(drop=True)\n",
    "    t = fam_df['tBirth'].values\n",
    "    for ti in t:\n",
    "        is_alive = (fam_df['tBirth'] <= ti) & (fam_df['tDeath'] > ti)\n",
    "        pop = np.sum(is_alive)\n",
    "        living_list.append((fam, ti, pop))"
   ]
  },
  {
   "cell_type": "code",
   "execution_count": 20,
   "metadata": {},
   "outputs": [
    {
     "data": {
      "text/html": [
       "<div>\n",
       "<style scoped>\n",
       "    .dataframe tbody tr th:only-of-type {\n",
       "        vertical-align: middle;\n",
       "    }\n",
       "\n",
       "    .dataframe tbody tr th {\n",
       "        vertical-align: top;\n",
       "    }\n",
       "\n",
       "    .dataframe thead th {\n",
       "        text-align: right;\n",
       "    }\n",
       "</style>\n",
       "<table border=\"1\" class=\"dataframe\">\n",
       "  <thead>\n",
       "    <tr style=\"text-align: right;\">\n",
       "      <th></th>\n",
       "      <th>family</th>\n",
       "      <th>t</th>\n",
       "      <th>population</th>\n",
       "      <th>t0</th>\n",
       "      <th>t_elapsed</th>\n",
       "    </tr>\n",
       "  </thead>\n",
       "  <tbody>\n",
       "    <tr>\n",
       "      <th>0</th>\n",
       "      <td>time-1573253679_eve-2251043_name-MCCRACKEN</td>\n",
       "      <td>1573253679</td>\n",
       "      <td>1</td>\n",
       "      <td>1573253679</td>\n",
       "      <td>0.000000</td>\n",
       "    </tr>\n",
       "    <tr>\n",
       "      <th>1</th>\n",
       "      <td>time-1573253679_eve-2251043_name-MCCRACKEN</td>\n",
       "      <td>1573253683</td>\n",
       "      <td>2</td>\n",
       "      <td>1573253679</td>\n",
       "      <td>0.001111</td>\n",
       "    </tr>\n",
       "    <tr>\n",
       "      <th>2</th>\n",
       "      <td>time-1573253679_eve-2251043_name-MCCRACKEN</td>\n",
       "      <td>1573253829</td>\n",
       "      <td>3</td>\n",
       "      <td>1573253679</td>\n",
       "      <td>0.041667</td>\n",
       "    </tr>\n",
       "    <tr>\n",
       "      <th>3</th>\n",
       "      <td>time-1573253679_eve-2251043_name-MCCRACKEN</td>\n",
       "      <td>1573254047</td>\n",
       "      <td>4</td>\n",
       "      <td>1573253679</td>\n",
       "      <td>0.102222</td>\n",
       "    </tr>\n",
       "    <tr>\n",
       "      <th>4</th>\n",
       "      <td>time-1573253679_eve-2251043_name-MCCRACKEN</td>\n",
       "      <td>1573254054</td>\n",
       "      <td>5</td>\n",
       "      <td>1573253679</td>\n",
       "      <td>0.104167</td>\n",
       "    </tr>\n",
       "  </tbody>\n",
       "</table>\n",
       "</div>"
      ],
      "text/plain": [
       "                                       family           t  population  \\\n",
       "0  time-1573253679_eve-2251043_name-MCCRACKEN  1573253679           1   \n",
       "1  time-1573253679_eve-2251043_name-MCCRACKEN  1573253683           2   \n",
       "2  time-1573253679_eve-2251043_name-MCCRACKEN  1573253829           3   \n",
       "3  time-1573253679_eve-2251043_name-MCCRACKEN  1573254047           4   \n",
       "4  time-1573253679_eve-2251043_name-MCCRACKEN  1573254054           5   \n",
       "\n",
       "           t0  t_elapsed  \n",
       "0  1573253679   0.000000  \n",
       "1  1573253679   0.001111  \n",
       "2  1573253679   0.041667  \n",
       "3  1573253679   0.102222  \n",
       "4  1573253679   0.104167  "
      ]
     },
     "execution_count": 20,
     "metadata": {},
     "output_type": "execute_result"
    }
   ],
   "source": [
    "living_df = pd.DataFrame(living_list, columns = ['family', 't', 'population'])\n",
    "living_df = living_df.sort_values(by=['family', 't'], ascending=True).reset_index(drop=True)\n",
    "living_df['t0'] = living_df.groupby('family')['t'].transform('first')\n",
    "living_df['t_elapsed'] = (living_df['t'] - living_df['t0'])/60/60\n",
    "living_df.head()"
   ]
  },
  {
   "cell_type": "markdown",
   "metadata": {},
   "source": [
    "Plot a subset"
   ]
  },
  {
   "cell_type": "code",
   "execution_count": 21,
   "metadata": {
    "scrolled": true
   },
   "outputs": [
    {
     "data": {
      "image/png": "[encoded data removed]",
      "text/plain": [
       "<Figure size 1343.65x432 with 1 Axes>"
      ]
     },
     "metadata": {},
     "output_type": "display_data"
    }
   ],
   "source": [
    "np.random.seed(526)\n",
    "random_families = np.random.choice(boundless_families, size=10, replace=False)\n",
    "random_subset = living_df[living_df['family'].isin(random_families)]\n",
    "g = sns.relplot(data=random_subset, x='t_elapsed', y='population', hue='family', kind='line',\n",
    "                 height=6, aspect=2, alpha = 0.5)\n",
    "g.set(xlabel = 'Time elapsed (hours)', ylabel = 'Population size')\n",
    "g._legend.remove()"
   ]
  },
  {
   "cell_type": "markdown",
   "metadata": {},
   "source": [
    "Maximum population size"
   ]
  },
  {
   "cell_type": "code",
   "execution_count": 22,
   "metadata": {},
   "outputs": [
    {
     "data": {
      "image/png": "[encoded data removed]",
      "text/plain": [
       "<Figure size 432x288 with 1 Axes>"
      ]
     },
     "metadata": {},
     "output_type": "display_data"
    }
   ],
   "source": [
    "max_pop = living_df.groupby('family')['population'].agg('max').reset_index()\n",
    "ax = sns.distplot(max_pop['population'])\n",
    "ax.set(xlabel = 'Maximum living population size')\n",
    "sns.despine()"
   ]
  },
  {
   "cell_type": "code",
   "execution_count": 23,
   "metadata": {},
   "outputs": [
    {
     "data": {
      "text/plain": [
       "min        1.0\n",
       "max       72.0\n",
       "median     9.0\n",
       "Name: population, dtype: float64"
      ]
     },
     "execution_count": 23,
     "metadata": {},
     "output_type": "execute_result"
    }
   ],
   "source": [
    "max_pop['population'].agg(['min', 'max', 'median'])"
   ]
  },
  {
   "cell_type": "markdown",
   "metadata": {},
   "source": [
    "### # of generations (Chain length)"
   ]
  },
  {
   "cell_type": "markdown",
   "metadata": {},
   "source": [
    "Helper: Read JSON files"
   ]
  },
  {
   "cell_type": "code",
   "execution_count": 24,
   "metadata": {},
   "outputs": [],
   "source": [
    "def open_graph(f):\n",
    "    with open(f) as handle:\n",
    "        graph_data = json.load(handle)\n",
    "    return nx.json_graph.node_link_graph(graph_data)"
   ]
  },
  {
   "cell_type": "markdown",
   "metadata": {},
   "source": [
    "Find longest chain in family graphs"
   ]
  },
  {
   "cell_type": "code",
   "execution_count": 25,
   "metadata": {},
   "outputs": [
    {
     "data": {
      "application/vnd.jupyter.widget-view+json": {
       "model_id": "bb127dd7da3549b8900a2ce9b30c2c55",
       "version_major": 2,
       "version_minor": 0
      },
      "text/plain": [
       "HBox(children=(FloatProgress(value=0.0, max=6138.0), HTML(value='')))"
      ]
     },
     "metadata": {},
     "output_type": "display_data"
    },
    {
     "name": "stdout",
     "output_type": "stream",
     "text": [
      "\n"
     ]
    }
   ],
   "source": [
    "chain_list = []\n",
    "family_generations = []\n",
    "\n",
    "for f in notebook.tqdm(boundless_families):\n",
    "    fam_file = 'outputs/families/families_%s.json' % f\n",
    "    fam_graph = open_graph(fam_file)\n",
    "    fam_chain = nx.algorithms.dag_longest_path(fam_graph)\n",
    "    \n",
    "    eve = re.search(r'(?<=eve-)([0-9]+)', f).group(0)\n",
    "    \n",
    "    chain_list.append((f, len(fam_chain)))"
   ]
  },
  {
   "cell_type": "code",
   "execution_count": 26,
   "metadata": {},
   "outputs": [
    {
     "data": {
      "text/html": [
       "<div>\n",
       "<style scoped>\n",
       "    .dataframe tbody tr th:only-of-type {\n",
       "        vertical-align: middle;\n",
       "    }\n",
       "\n",
       "    .dataframe tbody tr th {\n",
       "        vertical-align: top;\n",
       "    }\n",
       "\n",
       "    .dataframe thead th {\n",
       "        text-align: right;\n",
       "    }\n",
       "</style>\n",
       "<table border=\"1\" class=\"dataframe\">\n",
       "  <thead>\n",
       "    <tr style=\"text-align: right;\">\n",
       "      <th></th>\n",
       "      <th>family</th>\n",
       "      <th>longest_path</th>\n",
       "    </tr>\n",
       "  </thead>\n",
       "  <tbody>\n",
       "    <tr>\n",
       "      <th>0</th>\n",
       "      <td>time-1573253679_eve-2251043_name-MCCRACKEN</td>\n",
       "      <td>3</td>\n",
       "    </tr>\n",
       "    <tr>\n",
       "      <th>1</th>\n",
       "      <td>time-1573253705_eve-2251049_name-FINCH</td>\n",
       "      <td>2</td>\n",
       "    </tr>\n",
       "    <tr>\n",
       "      <th>2</th>\n",
       "      <td>time-1573253707_eve-2251051_name-SORROWS</td>\n",
       "      <td>2</td>\n",
       "    </tr>\n",
       "    <tr>\n",
       "      <th>3</th>\n",
       "      <td>time-1573253710_eve-2251053_name-LION</td>\n",
       "      <td>4</td>\n",
       "    </tr>\n",
       "    <tr>\n",
       "      <th>4</th>\n",
       "      <td>time-1573253711_eve-2251054_name-DEADRICK</td>\n",
       "      <td>7</td>\n",
       "    </tr>\n",
       "  </tbody>\n",
       "</table>\n",
       "</div>"
      ],
      "text/plain": [
       "                                       family  longest_path\n",
       "0  time-1573253679_eve-2251043_name-MCCRACKEN             3\n",
       "1      time-1573253705_eve-2251049_name-FINCH             2\n",
       "2    time-1573253707_eve-2251051_name-SORROWS             2\n",
       "3       time-1573253710_eve-2251053_name-LION             4\n",
       "4   time-1573253711_eve-2251054_name-DEADRICK             7"
      ]
     },
     "execution_count": 26,
     "metadata": {},
     "output_type": "execute_result"
    }
   ],
   "source": [
    "chain_df = pd.DataFrame(chain_list, columns=['family', 'longest_path'])\n",
    "chain_df.head()"
   ]
  },
  {
   "cell_type": "code",
   "execution_count": 27,
   "metadata": {},
   "outputs": [
    {
     "data": {
      "text/plain": [
       "min         2.0\n",
       "max       357.0\n",
       "median      5.0\n",
       "Name: longest_path, dtype: float64"
      ]
     },
     "execution_count": 27,
     "metadata": {},
     "output_type": "execute_result"
    }
   ],
   "source": [
    "chain_df['longest_path'].agg(['min', 'max', 'median'])"
   ]
  },
  {
   "cell_type": "code",
   "execution_count": 28,
   "metadata": {},
   "outputs": [
    {
     "data": {
      "text/plain": [
       "[Text(0.5, 0, '# of generations')]"
      ]
     },
     "execution_count": 28,
     "metadata": {},
     "output_type": "execute_result"
    },
    {
     "data": {
      "image/png": "[encoded data removed]",
      "text/plain": [
       "<Figure size 432x288 with 1 Axes>"
      ]
     },
     "metadata": {},
     "output_type": "display_data"
    }
   ],
   "source": [
    "ax = sns.distplot(np.log10(chain_df['longest_path']))\n",
    "\n",
    "ax.set(xlabel = '# of generations')\n"
   ]
  },
  {
   "cell_type": "code",
   "execution_count": 29,
   "metadata": {},
   "outputs": [
    {
     "data": {
      "text/html": [
       "<div>\n",
       "<style scoped>\n",
       "    .dataframe tbody tr th:only-of-type {\n",
       "        vertical-align: middle;\n",
       "    }\n",
       "\n",
       "    .dataframe tbody tr th {\n",
       "        vertical-align: top;\n",
       "    }\n",
       "\n",
       "    .dataframe thead th {\n",
       "        text-align: right;\n",
       "    }\n",
       "</style>\n",
       "<table border=\"1\" class=\"dataframe\">\n",
       "  <thead>\n",
       "    <tr style=\"text-align: right;\">\n",
       "      <th></th>\n",
       "      <th>family</th>\n",
       "      <th>longest_path</th>\n",
       "    </tr>\n",
       "  </thead>\n",
       "  <tbody>\n",
       "    <tr>\n",
       "      <th>5895</th>\n",
       "      <td>time-1609746195_eve-3833245_name-STALLINS</td>\n",
       "      <td>357</td>\n",
       "    </tr>\n",
       "    <tr>\n",
       "      <th>5977</th>\n",
       "      <td>time-1611138522_eve-3897231_name-LUCKY</td>\n",
       "      <td>330</td>\n",
       "    </tr>\n",
       "    <tr>\n",
       "      <th>5990</th>\n",
       "      <td>time-1611388293_eve-3906808_name-ARTEMENKO</td>\n",
       "      <td>296</td>\n",
       "    </tr>\n",
       "    <tr>\n",
       "      <th>5931</th>\n",
       "      <td>time-1610335007_eve-3864700_name-APRIL</td>\n",
       "      <td>296</td>\n",
       "    </tr>\n",
       "    <tr>\n",
       "      <th>5590</th>\n",
       "      <td>time-1607255144_eve-3661190_name-RED</td>\n",
       "      <td>292</td>\n",
       "    </tr>\n",
       "  </tbody>\n",
       "</table>\n",
       "</div>"
      ],
      "text/plain": [
       "                                          family  longest_path\n",
       "5895   time-1609746195_eve-3833245_name-STALLINS           357\n",
       "5977      time-1611138522_eve-3897231_name-LUCKY           330\n",
       "5990  time-1611388293_eve-3906808_name-ARTEMENKO           296\n",
       "5931      time-1610335007_eve-3864700_name-APRIL           296\n",
       "5590        time-1607255144_eve-3661190_name-RED           292"
      ]
     },
     "execution_count": 29,
     "metadata": {},
     "output_type": "execute_result"
    }
   ],
   "source": [
    "chain_df.sort_values(by='longest_path', ascending=False).head()"
   ]
  },
  {
   "cell_type": "markdown",
   "metadata": {},
   "source": [
    "## Modeling success"
   ]
  },
  {
   "cell_type": "markdown",
   "metadata": {},
   "source": [
    "Criterion for \"success\": Reaching age 14 (viability fitness)"
   ]
  },
  {
   "cell_type": "code",
   "execution_count": 30,
   "metadata": {},
   "outputs": [
    {
     "data": {
      "text/html": [
       "<div>\n",
       "<style scoped>\n",
       "    .dataframe tbody tr th:only-of-type {\n",
       "        vertical-align: middle;\n",
       "    }\n",
       "\n",
       "    .dataframe tbody tr th {\n",
       "        vertical-align: top;\n",
       "    }\n",
       "\n",
       "    .dataframe thead th {\n",
       "        text-align: right;\n",
       "    }\n",
       "</style>\n",
       "<table border=\"1\" class=\"dataframe\">\n",
       "  <thead>\n",
       "    <tr style=\"text-align: right;\">\n",
       "      <th></th>\n",
       "      <th>family</th>\n",
       "      <th>sum</th>\n",
       "      <th>count</th>\n",
       "    </tr>\n",
       "  </thead>\n",
       "  <tbody>\n",
       "    <tr>\n",
       "      <th>0</th>\n",
       "      <td>time-1573253679_eve-2251043_name-MCCRACKEN</td>\n",
       "      <td>2</td>\n",
       "      <td>9</td>\n",
       "    </tr>\n",
       "    <tr>\n",
       "      <th>1</th>\n",
       "      <td>time-1573253705_eve-2251049_name-FINCH</td>\n",
       "      <td>1</td>\n",
       "      <td>8</td>\n",
       "    </tr>\n",
       "    <tr>\n",
       "      <th>2</th>\n",
       "      <td>time-1573253707_eve-2251051_name-SORROWS</td>\n",
       "      <td>1</td>\n",
       "      <td>3</td>\n",
       "    </tr>\n",
       "    <tr>\n",
       "      <th>3</th>\n",
       "      <td>time-1573253710_eve-2251053_name-LION</td>\n",
       "      <td>9</td>\n",
       "      <td>40</td>\n",
       "    </tr>\n",
       "    <tr>\n",
       "      <th>4</th>\n",
       "      <td>time-1573253711_eve-2251054_name-DEADRICK</td>\n",
       "      <td>33</td>\n",
       "      <td>86</td>\n",
       "    </tr>\n",
       "  </tbody>\n",
       "</table>\n",
       "</div>"
      ],
      "text/plain": [
       "                                       family  sum  count\n",
       "0  time-1573253679_eve-2251043_name-MCCRACKEN    2      9\n",
       "1      time-1573253705_eve-2251049_name-FINCH    1      8\n",
       "2    time-1573253707_eve-2251051_name-SORROWS    1      3\n",
       "3       time-1573253710_eve-2251053_name-LION    9     40\n",
       "4   time-1573253711_eve-2251054_name-DEADRICK   33     86"
      ]
     },
     "execution_count": 30,
     "metadata": {},
     "output_type": "execute_result"
    }
   ],
   "source": [
    "mortality_df = lineage_df.copy()\n",
    "mortality_df['adult'] = (lineage_df['age'] >= 14)*1\n",
    "mortality_df = mortality_df[['family', 'avatar', 'adult']]\n",
    "\n",
    "mortality_summ = mortality_df.groupby('family')['adult'].agg(['sum', 'count']).reset_index()\n",
    "mortality_summ['sum'] = mortality_summ['sum'].astype(np.int)\n",
    "mortality_summ.head()"
   ]
  },
  {
   "cell_type": "markdown",
   "metadata": {},
   "source": [
    "Compute beta distribution for each family\n",
    "\n",
    "Prior: Uniform\n",
    "$$\n",
    "\\theta \\sim \\mathrm{Beta}(\\alpha_0, \\beta_0) \\\\\n",
    "\\alpha_0 = \\beta_0 = 1\n",
    "$$\n",
    "\n",
    "Posterior-sufficient statistics:\n",
    "$$\n",
    "\\theta | D \\sim \\mathrm{Beta}(\\alpha_0 + k, \\beta_0 + N - k) \\\\ \n",
    "a = \\alpha_0 + k \\\\\n",
    "b = \\beta_0 + N - k\n",
    "$$"
   ]
  },
  {
   "cell_type": "code",
   "execution_count": 31,
   "metadata": {},
   "outputs": [
    {
     "data": {
      "text/html": [
       "<div>\n",
       "<style scoped>\n",
       "    .dataframe tbody tr th:only-of-type {\n",
       "        vertical-align: middle;\n",
       "    }\n",
       "\n",
       "    .dataframe tbody tr th {\n",
       "        vertical-align: top;\n",
       "    }\n",
       "\n",
       "    .dataframe thead th {\n",
       "        text-align: right;\n",
       "    }\n",
       "</style>\n",
       "<table border=\"1\" class=\"dataframe\">\n",
       "  <thead>\n",
       "    <tr style=\"text-align: right;\">\n",
       "      <th></th>\n",
       "      <th>family</th>\n",
       "      <th>sum</th>\n",
       "      <th>count</th>\n",
       "      <th>a</th>\n",
       "      <th>b</th>\n",
       "      <th>beta_mean</th>\n",
       "      <th>beta_var</th>\n",
       "      <th>snr</th>\n",
       "      <th>weighted_size</th>\n",
       "      <th>longest_path</th>\n",
       "    </tr>\n",
       "  </thead>\n",
       "  <tbody>\n",
       "    <tr>\n",
       "      <th>0</th>\n",
       "      <td>time-1573253679_eve-2251043_name-MCCRACKEN</td>\n",
       "      <td>2</td>\n",
       "      <td>9</td>\n",
       "      <td>5</td>\n",
       "      <td>10</td>\n",
       "      <td>0.333333</td>\n",
       "      <td>0.013889</td>\n",
       "      <td>24.000000</td>\n",
       "      <td>3.000000</td>\n",
       "      <td>3</td>\n",
       "    </tr>\n",
       "    <tr>\n",
       "      <th>1</th>\n",
       "      <td>time-1573253705_eve-2251049_name-FINCH</td>\n",
       "      <td>1</td>\n",
       "      <td>8</td>\n",
       "      <td>4</td>\n",
       "      <td>10</td>\n",
       "      <td>0.285714</td>\n",
       "      <td>0.013605</td>\n",
       "      <td>21.000000</td>\n",
       "      <td>2.285714</td>\n",
       "      <td>2</td>\n",
       "    </tr>\n",
       "    <tr>\n",
       "      <th>2</th>\n",
       "      <td>time-1573253707_eve-2251051_name-SORROWS</td>\n",
       "      <td>1</td>\n",
       "      <td>3</td>\n",
       "      <td>4</td>\n",
       "      <td>5</td>\n",
       "      <td>0.444444</td>\n",
       "      <td>0.024691</td>\n",
       "      <td>18.000000</td>\n",
       "      <td>1.333333</td>\n",
       "      <td>2</td>\n",
       "    </tr>\n",
       "    <tr>\n",
       "      <th>3</th>\n",
       "      <td>time-1573253710_eve-2251053_name-LION</td>\n",
       "      <td>9</td>\n",
       "      <td>40</td>\n",
       "      <td>12</td>\n",
       "      <td>34</td>\n",
       "      <td>0.260870</td>\n",
       "      <td>0.004102</td>\n",
       "      <td>63.588235</td>\n",
       "      <td>10.434783</td>\n",
       "      <td>4</td>\n",
       "    </tr>\n",
       "    <tr>\n",
       "      <th>4</th>\n",
       "      <td>time-1573253711_eve-2251054_name-DEADRICK</td>\n",
       "      <td>33</td>\n",
       "      <td>86</td>\n",
       "      <td>36</td>\n",
       "      <td>56</td>\n",
       "      <td>0.391304</td>\n",
       "      <td>0.002561</td>\n",
       "      <td>152.785714</td>\n",
       "      <td>33.652174</td>\n",
       "      <td>7</td>\n",
       "    </tr>\n",
       "  </tbody>\n",
       "</table>\n",
       "</div>"
      ],
      "text/plain": [
       "                                       family  sum  count   a   b  beta_mean  \\\n",
       "0  time-1573253679_eve-2251043_name-MCCRACKEN    2      9   5  10   0.333333   \n",
       "1      time-1573253705_eve-2251049_name-FINCH    1      8   4  10   0.285714   \n",
       "2    time-1573253707_eve-2251051_name-SORROWS    1      3   4   5   0.444444   \n",
       "3       time-1573253710_eve-2251053_name-LION    9     40  12  34   0.260870   \n",
       "4   time-1573253711_eve-2251054_name-DEADRICK   33     86  36  56   0.391304   \n",
       "\n",
       "   beta_var         snr  weighted_size  longest_path  \n",
       "0  0.013889   24.000000       3.000000             3  \n",
       "1  0.013605   21.000000       2.285714             2  \n",
       "2  0.024691   18.000000       1.333333             2  \n",
       "3  0.004102   63.588235      10.434783             4  \n",
       "4  0.002561  152.785714      33.652174             7  "
      ]
     },
     "execution_count": 31,
     "metadata": {},
     "output_type": "execute_result"
    }
   ],
   "source": [
    "def beta_mean(row): return scipy.stats.beta.mean(row['a'], row['b'])\n",
    "def beta_var(row): return scipy.stats.beta.var(row['a'], row['b'])\n",
    "\n",
    "mortality_summ['a'] = 3 + mortality_summ['sum']\n",
    "mortality_summ['b'] = 3 + mortality_summ['count'] - mortality_summ['sum']\n",
    "mortality_summ['beta_mean'] = mortality_summ.apply(beta_mean, axis=1)\n",
    "mortality_summ['beta_var'] = mortality_summ.apply(beta_var, axis=1)\n",
    "mortality_summ['snr'] = mortality_summ['beta_mean']/mortality_summ['beta_var']\n",
    "mortality_summ['weighted_size'] = mortality_summ['beta_mean']*mortality_summ['count']\n",
    "mortality_summ = pd.merge(mortality_summ, chain_df, on = 'family')\n",
    "mortality_summ.to_csv('outputs/family_fitness.tsv', sep='\\t', index=False)\n",
    "mortality_summ.head()"
   ]
  },
  {
   "cell_type": "markdown",
   "metadata": {},
   "source": [
    "### Compare candidate success measures"
   ]
  },
  {
   "cell_type": "markdown",
   "metadata": {},
   "source": [
    "Beta mean:"
   ]
  },
  {
   "cell_type": "code",
   "execution_count": 32,
   "metadata": {},
   "outputs": [
    {
     "data": {
      "image/png": "[encoded data removed]",
      "text/plain": [
       "<Figure size 432x288 with 1 Axes>"
      ]
     },
     "metadata": {},
     "output_type": "display_data"
    }
   ],
   "source": [
    "ax = sns.distplot(mortality_summ['beta_mean'])\n",
    "ax.set(xlabel = 'Mean viability ($\\mu$)')\n",
    "sns.despine()"
   ]
  },
  {
   "cell_type": "markdown",
   "metadata": {},
   "source": [
    "Distribution of SNR:"
   ]
  },
  {
   "cell_type": "code",
   "execution_count": 33,
   "metadata": {},
   "outputs": [
    {
     "data": {
      "image/png": "[encoded data removed]",
      "text/plain": [
       "<Figure size 432x288 with 1 Axes>"
      ]
     },
     "metadata": {},
     "output_type": "display_data"
    }
   ],
   "source": [
    "ax = sns.distplot(np.log10(mortality_summ['snr']))\n",
    "ax.set(xlabel='Signal-to-noise ratio ($\\mu/\\sigma$)',\n",
    "       xticks = np.arange(1,5), xticklabels=[10**x for x in np.arange(1,5)])\n",
    "sns.despine()"
   ]
  },
  {
   "cell_type": "markdown",
   "metadata": {},
   "source": [
    "Distribution of weighted size:"
   ]
  },
  {
   "cell_type": "code",
   "execution_count": 34,
   "metadata": {},
   "outputs": [
    {
     "data": {
      "text/plain": [
       "[Text(0.5, 0, 'Weighted family size ($\\\\mu N$)'),\n",
       " [<matplotlib.axis.XTick at 0x2ad9e34d1e10>,\n",
       "  <matplotlib.axis.XTick at 0x2ad9e34d10f0>,\n",
       "  <matplotlib.axis.XTick at 0x2ad9e34d1278>,\n",
       "  <matplotlib.axis.XTick at 0x2ad9e324e0f0>,\n",
       "  <matplotlib.axis.XTick at 0x2ad9e324e5f8>],\n",
       " [Text(0, 0, '1'),\n",
       "  Text(1, 0, '10'),\n",
       "  Text(2, 0, '100'),\n",
       "  Text(3, 0, '1000'),\n",
       "  Text(4, 0, '10000')]]"
      ]
     },
     "execution_count": 34,
     "metadata": {},
     "output_type": "execute_result"
    },
    {
     "data": {
      "image/png": "[encoded data removed]",
      "text/plain": [
       "<Figure size 432x288 with 1 Axes>"
      ]
     },
     "metadata": {},
     "output_type": "display_data"
    }
   ],
   "source": [
    "ax = sns.distplot(np.log10(mortality_summ['weighted_size']))\n",
    "ax.set(xlabel='Weighted family size ($\\mu N$)',\n",
    "       xticks=np.arange(0, 5), xticklabels=[10**x for x in np.arange(0, 5)])"
   ]
  },
  {
   "cell_type": "markdown",
   "metadata": {},
   "source": [
    "Distribution of # adults:"
   ]
  },
  {
   "cell_type": "code",
   "execution_count": 35,
   "metadata": {},
   "outputs": [
    {
     "data": {
      "text/plain": [
       "[Text(0.5, 0, '# of adults'),\n",
       " [<matplotlib.axis.XTick at 0x2ad9e32bfe80>,\n",
       "  <matplotlib.axis.XTick at 0x2ad9e32bfa58>,\n",
       "  <matplotlib.axis.XTick at 0x2ad9e32bf6a0>,\n",
       "  <matplotlib.axis.XTick at 0x2ad9e32fdcc0>,\n",
       "  <matplotlib.axis.XTick at 0x2ad9e330c278>],\n",
       " [Text(0, 0, '1'),\n",
       "  Text(1, 0, '10'),\n",
       "  Text(2, 0, '100'),\n",
       "  Text(3, 0, '1000'),\n",
       "  Text(4, 0, '10000')]]"
      ]
     },
     "execution_count": 35,
     "metadata": {},
     "output_type": "execute_result"
    },
    {
     "data": {
      "image/png": "[encoded data removed]",
      "text/plain": [
       "<Figure size 432x288 with 1 Axes>"
      ]
     },
     "metadata": {},
     "output_type": "display_data"
    }
   ],
   "source": [
    "ax = sns.distplot(np.log10(mortality_summ['sum']))\n",
    "ax.set(xlabel='# of adults', xticks = np.arange(0,5), xticklabels=[10**x for x in np.arange(0,5)])"
   ]
  },
  {
   "cell_type": "markdown",
   "metadata": {},
   "source": [
    "### Plot representative families"
   ]
  },
  {
   "cell_type": "markdown",
   "metadata": {},
   "source": [
    "Split data into quartiles:"
   ]
  },
  {
   "cell_type": "code",
   "execution_count": 36,
   "metadata": {},
   "outputs": [],
   "source": [
    "success = 'sum' # Success metric\n",
    "mortality_summ['quantile'] = pd.qcut(mortality_summ[success], 4, labels=False)"
   ]
  },
  {
   "cell_type": "markdown",
   "metadata": {},
   "source": [
    "What are the quantiles?"
   ]
  },
  {
   "cell_type": "code",
   "execution_count": 37,
   "metadata": {},
   "outputs": [
    {
     "data": {
      "image/png": "[encoded data removed]",
      "text/plain": [
       "<Figure size 864x288 with 1 Axes>"
      ]
     },
     "metadata": {},
     "output_type": "display_data"
    }
   ],
   "source": [
    "success_q = scipy.stats.mstats.mquantiles(mortality_summ[success], prob=[0.25, 0.5, 0.75, 1])\n",
    "mortality_summ['log_n'] = np.log10(mortality_summ['sum'])\n",
    "\n",
    "# Plot!\n",
    "q_log = np.log10(success_q)\n",
    "plt.figure(figsize=(12,4))\n",
    "for q in q_log:\n",
    "    plt.axvline(q, color='#aaaaaa', linestyle='--')\n",
    "\n",
    "ax = sns.distplot(mortality_summ['log_n'])\n",
    "ax.set_xticks(range(5))\n",
    "labels = [10**t for t in ax.get_xticks()]\n",
    "ax.set(xlabel='# of adults', xticklabels=labels)\n",
    "sns.despine()"
   ]
  },
  {
   "cell_type": "markdown",
   "metadata": {},
   "source": [
    "Plot representative family trees from each quartile:"
   ]
  },
  {
   "cell_type": "code",
   "execution_count": 38,
   "metadata": {},
   "outputs": [
    {
     "data": {
      "text/html": [
       "<div>\n",
       "<style scoped>\n",
       "    .dataframe tbody tr th:only-of-type {\n",
       "        vertical-align: middle;\n",
       "    }\n",
       "\n",
       "    .dataframe tbody tr th {\n",
       "        vertical-align: top;\n",
       "    }\n",
       "\n",
       "    .dataframe thead th {\n",
       "        text-align: right;\n",
       "    }\n",
       "</style>\n",
       "<table border=\"1\" class=\"dataframe\">\n",
       "  <thead>\n",
       "    <tr style=\"text-align: right;\">\n",
       "      <th></th>\n",
       "      <th>family</th>\n",
       "      <th>sum</th>\n",
       "      <th>count</th>\n",
       "      <th>a</th>\n",
       "      <th>b</th>\n",
       "      <th>beta_mean</th>\n",
       "      <th>beta_var</th>\n",
       "      <th>snr</th>\n",
       "      <th>weighted_size</th>\n",
       "      <th>longest_path</th>\n",
       "      <th>quantile</th>\n",
       "      <th>log_n</th>\n",
       "    </tr>\n",
       "  </thead>\n",
       "  <tbody>\n",
       "    <tr>\n",
       "      <th>10</th>\n",
       "      <td>time-1578876527_eve-2566197_name-APPLE</td>\n",
       "      <td>1</td>\n",
       "      <td>3</td>\n",
       "      <td>4</td>\n",
       "      <td>5</td>\n",
       "      <td>0.444444</td>\n",
       "      <td>0.024691</td>\n",
       "      <td>18.000000</td>\n",
       "      <td>1.333333</td>\n",
       "      <td>2</td>\n",
       "      <td>0</td>\n",
       "      <td>0.00000</td>\n",
       "    </tr>\n",
       "    <tr>\n",
       "      <th>22</th>\n",
       "      <td>time-1592706571_eve-3091949_name-GODDEN</td>\n",
       "      <td>1</td>\n",
       "      <td>2</td>\n",
       "      <td>4</td>\n",
       "      <td>4</td>\n",
       "      <td>0.500000</td>\n",
       "      <td>0.027778</td>\n",
       "      <td>18.000000</td>\n",
       "      <td>1.000000</td>\n",
       "      <td>2</td>\n",
       "      <td>0</td>\n",
       "      <td>0.00000</td>\n",
       "    </tr>\n",
       "    <tr>\n",
       "      <th>24</th>\n",
       "      <td>time-1596602922_eve-3231679_name-WINCHESTER</td>\n",
       "      <td>2</td>\n",
       "      <td>4</td>\n",
       "      <td>5</td>\n",
       "      <td>5</td>\n",
       "      <td>0.500000</td>\n",
       "      <td>0.022727</td>\n",
       "      <td>22.000000</td>\n",
       "      <td>2.000000</td>\n",
       "      <td>3</td>\n",
       "      <td>0</td>\n",
       "      <td>0.30103</td>\n",
       "    </tr>\n",
       "    <tr>\n",
       "      <th>17</th>\n",
       "      <td>time-1588894275_eve-2975563_name-WHITE</td>\n",
       "      <td>1</td>\n",
       "      <td>1</td>\n",
       "      <td>4</td>\n",
       "      <td>3</td>\n",
       "      <td>0.571429</td>\n",
       "      <td>0.030612</td>\n",
       "      <td>18.666667</td>\n",
       "      <td>0.571429</td>\n",
       "      <td>2</td>\n",
       "      <td>0</td>\n",
       "      <td>0.00000</td>\n",
       "    </tr>\n",
       "    <tr>\n",
       "      <th>6</th>\n",
       "      <td>time-1577570402_eve-2482696_name-BEARSE</td>\n",
       "      <td>1</td>\n",
       "      <td>2</td>\n",
       "      <td>4</td>\n",
       "      <td>4</td>\n",
       "      <td>0.500000</td>\n",
       "      <td>0.027778</td>\n",
       "      <td>18.000000</td>\n",
       "      <td>1.000000</td>\n",
       "      <td>2</td>\n",
       "      <td>0</td>\n",
       "      <td>0.00000</td>\n",
       "    </tr>\n",
       "  </tbody>\n",
       "</table>\n",
       "</div>"
      ],
      "text/plain": [
       "                                         family  sum  count  a  b  beta_mean  \\\n",
       "10       time-1578876527_eve-2566197_name-APPLE    1      3  4  5   0.444444   \n",
       "22      time-1592706571_eve-3091949_name-GODDEN    1      2  4  4   0.500000   \n",
       "24  time-1596602922_eve-3231679_name-WINCHESTER    2      4  5  5   0.500000   \n",
       "17       time-1588894275_eve-2975563_name-WHITE    1      1  4  3   0.571429   \n",
       "6       time-1577570402_eve-2482696_name-BEARSE    1      2  4  4   0.500000   \n",
       "\n",
       "    beta_var        snr  weighted_size  longest_path  quantile    log_n  \n",
       "10  0.024691  18.000000       1.333333             2         0  0.00000  \n",
       "22  0.027778  18.000000       1.000000             2         0  0.00000  \n",
       "24  0.022727  22.000000       2.000000             3         0  0.30103  \n",
       "17  0.030612  18.666667       0.571429             2         0  0.00000  \n",
       "6   0.027778  18.000000       1.000000             2         0  0.00000  "
      ]
     },
     "execution_count": 38,
     "metadata": {},
     "output_type": "execute_result"
    }
   ],
   "source": [
    "np.random.seed(526)\n",
    "representative_families = np.array([np.random.choice(group['family'], 10) \n",
    "                                    for name,group in mortality_summ.groupby('quantile')])\n",
    "rep_list = np.array(representative_families)\n",
    "rep_list = rep_list.flatten()\n",
    "\n",
    "rep_info = mortality_summ.copy()\n",
    "rep_info = rep_info[rep_info['family'].isin(rep_list)]\n",
    "rep_info = rep_info.reset_index(drop=True)\n",
    "rep_info = rep_info.sort_values('quantile')\n",
    "rep_info.to_csv('plots/fitness_quantiles/selected_families.tsv', sep='\\t', index=None)\n",
    "rep_info.head()"
   ]
  },
  {
   "cell_type": "code",
   "execution_count": 39,
   "metadata": {
    "scrolled": false
   },
   "outputs": [
    {
     "data": {
      "application/vnd.jupyter.widget-view+json": {
       "model_id": "5a21218deefd4247b12b1aa5163600f5",
       "version_major": 2,
       "version_minor": 0
      },
      "text/plain": [
       "HBox(children=(FloatProgress(value=0.0, max=4.0), HTML(value='')))"
      ]
     },
     "metadata": {},
     "output_type": "display_data"
    },
    {
     "data": {
      "application/vnd.jupyter.widget-view+json": {
       "model_id": "0797a3ff1d5347b08a249944579de211",
       "version_major": 2,
       "version_minor": 0
      },
      "text/plain": [
       "HBox(children=(FloatProgress(value=0.0, max=10.0), HTML(value='')))"
      ]
     },
     "metadata": {},
     "output_type": "display_data"
    },
    {
     "name": "stdout",
     "output_type": "stream",
     "text": [
      "\n"
     ]
    },
    {
     "data": {
      "application/vnd.jupyter.widget-view+json": {
       "model_id": "d530b2d024434f3281e5e0511bd05f2d",
       "version_major": 2,
       "version_minor": 0
      },
      "text/plain": [
       "HBox(children=(FloatProgress(value=0.0, max=10.0), HTML(value='')))"
      ]
     },
     "metadata": {},
     "output_type": "display_data"
    },
    {
     "name": "stdout",
     "output_type": "stream",
     "text": [
      "\n"
     ]
    },
    {
     "data": {
      "application/vnd.jupyter.widget-view+json": {
       "model_id": "57bd8c356b0d4f03b6c6ac6063f6bf28",
       "version_major": 2,
       "version_minor": 0
      },
      "text/plain": [
       "HBox(children=(FloatProgress(value=0.0, max=10.0), HTML(value='')))"
      ]
     },
     "metadata": {},
     "output_type": "display_data"
    },
    {
     "name": "stdout",
     "output_type": "stream",
     "text": [
      "\n"
     ]
    },
    {
     "data": {
      "application/vnd.jupyter.widget-view+json": {
       "model_id": "30f1ae4e98ff43489f0265673c6800ab",
       "version_major": 2,
       "version_minor": 0
      },
      "text/plain": [
       "HBox(children=(FloatProgress(value=0.0, max=10.0), HTML(value='')))"
      ]
     },
     "metadata": {},
     "output_type": "display_data"
    },
    {
     "name": "stdout",
     "output_type": "stream",
     "text": [
      "\n",
      "\n"
     ]
    }
   ],
   "source": [
    "for quant in notebook.tqdm(range(4)):\n",
    "    for f in notebook.tqdm(representative_families[quant]):\n",
    "        fam_file = 'outputs/families/families_%s.json' % f\n",
    "        out_file = 'plots/fitness_quantiles/families_Q%i_%s.png' % (quant+1, f)\n",
    "\n",
    "        # Load graph and remove infant deaths\n",
    "        fam_graph = open_graph(fam_file)\n",
    "\n",
    "        # Figure size (based on graphviz layout)\n",
    "        nx.nx_agraph.write_dot(fam_graph,'fam.dot')\n",
    "        pos=graphviz_layout(fam_graph, prog='dot')\n",
    "        pos_coords = pd.DataFrame(list(pos.values()), columns=['x','y']).agg(['max', 'min'])\n",
    "        w = (pos_coords.loc['max', 'x'] - pos_coords.loc['min', 'x'])/150\n",
    "        h = (pos_coords.loc['max', 'y'] - pos_coords.loc['min', 'y'])/150\n",
    "\n",
    "        # Adjust for 2-member families\n",
    "        w = max(w, 2)\n",
    "        h = max(h, 2)\n",
    "\n",
    "        # Node color (based on whether individuals reached maturity)\n",
    "        fam_nodes = list(fam_graph.nodes)\n",
    "        fam_nodes = [int(n) for n in fam_nodes]\n",
    "\n",
    "        fam_attr = mortality_df[['avatar', 'adult']].copy()\n",
    "        fam_attr = fam_attr[fam_attr['avatar'].isin(fam_nodes)]\n",
    "        fam_attr = fam_attr.set_index('avatar')\n",
    "        fam_attr = fam_attr.to_dict()\n",
    "        \n",
    "        fam_color = []\n",
    "        for n in fam_nodes:\n",
    "            if n in infant_deaths:\n",
    "                fam_color.append('#cccccc')\n",
    "            else:\n",
    "                if fam_attr['adult'][n] == 1:\n",
    "                    fam_color.append('#4ab1ff')\n",
    "                else:\n",
    "                    fam_color.append('#4ab1ff')\n",
    "\n",
    "#         fam_color = [fam_attr['adult'][n] == 1 for n in fam_nodes]\n",
    "#         fam_color = ['#4ab1ff' if c else '#cccccc' for c in fam_color]\n",
    "\n",
    "        plt.figure(3,figsize=(w,h)) \n",
    "        nx.draw(fam_graph, pos, with_labels=False, arrows=True, node_color=fam_color)\n",
    "        plt.savefig(out_file, transparent=True)\n",
    "        plt.close()"
   ]
  },
  {
   "cell_type": "markdown",
   "metadata": {},
   "source": [
    "## Plots for talk"
   ]
  },
  {
   "cell_type": "markdown",
   "metadata": {},
   "source": [
    "<div style='background-color:red;color:white;'>TODO: The plots below should be moved elsewhere to preserve order!</div>\n",
    "Relationship between family and repertoire size:"
   ]
  },
  {
   "cell_type": "code",
   "execution_count": 40,
   "metadata": {},
   "outputs": [
    {
     "ename": "FileNotFoundError",
     "evalue": "[Errno 2] No such file or directory: '../3_technology/outputs/family_repertoire.tsv'",
     "output_type": "error",
     "traceback": [
      "\u001b[0;31m---------------------------------------------------------------------------\u001b[0m",
      "\u001b[0;31mFileNotFoundError\u001b[0m                         Traceback (most recent call last)",
      "\u001b[0;32m<ipython-input-40-e4caffdf3369>\u001b[0m in \u001b[0;36m<module>\u001b[0;34m\u001b[0m\n\u001b[0;32m----> 1\u001b[0;31m \u001b[0mrep_df\u001b[0m \u001b[0;34m=\u001b[0m \u001b[0mpd\u001b[0m\u001b[0;34m.\u001b[0m\u001b[0mread_csv\u001b[0m\u001b[0;34m(\u001b[0m\u001b[0;34m'../3_technology/outputs/family_repertoire.tsv'\u001b[0m\u001b[0;34m,\u001b[0m \u001b[0msep\u001b[0m\u001b[0;34m=\u001b[0m\u001b[0;34m'\\t'\u001b[0m\u001b[0;34m)\u001b[0m\u001b[0;34m\u001b[0m\u001b[0;34m\u001b[0m\u001b[0m\n\u001b[0m\u001b[1;32m      2\u001b[0m \u001b[0mrep_df\u001b[0m\u001b[0;34m.\u001b[0m\u001b[0mhead\u001b[0m\u001b[0;34m(\u001b[0m\u001b[0;34m)\u001b[0m\u001b[0;34m\u001b[0m\u001b[0;34m\u001b[0m\u001b[0m\n",
      "\u001b[0;32m~/.conda/envs/py3/lib/python3.6/site-packages/pandas/io/parsers.py\u001b[0m in \u001b[0;36mread_csv\u001b[0;34m(filepath_or_buffer, sep, delimiter, header, names, index_col, usecols, squeeze, prefix, mangle_dupe_cols, dtype, engine, converters, true_values, false_values, skipinitialspace, skiprows, skipfooter, nrows, na_values, keep_default_na, na_filter, verbose, skip_blank_lines, parse_dates, infer_datetime_format, keep_date_col, date_parser, dayfirst, cache_dates, iterator, chunksize, compression, thousands, decimal, lineterminator, quotechar, quoting, doublequote, escapechar, comment, encoding, dialect, error_bad_lines, warn_bad_lines, delim_whitespace, low_memory, memory_map, float_precision)\u001b[0m\n\u001b[1;32m    684\u001b[0m     )\n\u001b[1;32m    685\u001b[0m \u001b[0;34m\u001b[0m\u001b[0m\n\u001b[0;32m--> 686\u001b[0;31m     \u001b[0;32mreturn\u001b[0m \u001b[0m_read\u001b[0m\u001b[0;34m(\u001b[0m\u001b[0mfilepath_or_buffer\u001b[0m\u001b[0;34m,\u001b[0m \u001b[0mkwds\u001b[0m\u001b[0;34m)\u001b[0m\u001b[0;34m\u001b[0m\u001b[0;34m\u001b[0m\u001b[0m\n\u001b[0m\u001b[1;32m    687\u001b[0m \u001b[0;34m\u001b[0m\u001b[0m\n\u001b[1;32m    688\u001b[0m \u001b[0;34m\u001b[0m\u001b[0m\n",
      "\u001b[0;32m~/.conda/envs/py3/lib/python3.6/site-packages/pandas/io/parsers.py\u001b[0m in \u001b[0;36m_read\u001b[0;34m(filepath_or_buffer, kwds)\u001b[0m\n\u001b[1;32m    450\u001b[0m \u001b[0;34m\u001b[0m\u001b[0m\n\u001b[1;32m    451\u001b[0m     \u001b[0;31m# Create the parser.\u001b[0m\u001b[0;34m\u001b[0m\u001b[0;34m\u001b[0m\u001b[0;34m\u001b[0m\u001b[0m\n\u001b[0;32m--> 452\u001b[0;31m     \u001b[0mparser\u001b[0m \u001b[0;34m=\u001b[0m \u001b[0mTextFileReader\u001b[0m\u001b[0;34m(\u001b[0m\u001b[0mfp_or_buf\u001b[0m\u001b[0;34m,\u001b[0m \u001b[0;34m**\u001b[0m\u001b[0mkwds\u001b[0m\u001b[0;34m)\u001b[0m\u001b[0;34m\u001b[0m\u001b[0;34m\u001b[0m\u001b[0m\n\u001b[0m\u001b[1;32m    453\u001b[0m \u001b[0;34m\u001b[0m\u001b[0m\n\u001b[1;32m    454\u001b[0m     \u001b[0;32mif\u001b[0m \u001b[0mchunksize\u001b[0m \u001b[0;32mor\u001b[0m \u001b[0miterator\u001b[0m\u001b[0;34m:\u001b[0m\u001b[0;34m\u001b[0m\u001b[0;34m\u001b[0m\u001b[0m\n",
      "\u001b[0;32m~/.conda/envs/py3/lib/python3.6/site-packages/pandas/io/parsers.py\u001b[0m in \u001b[0;36m__init__\u001b[0;34m(self, f, engine, **kwds)\u001b[0m\n\u001b[1;32m    934\u001b[0m             \u001b[0mself\u001b[0m\u001b[0;34m.\u001b[0m\u001b[0moptions\u001b[0m\u001b[0;34m[\u001b[0m\u001b[0;34m\"has_index_names\"\u001b[0m\u001b[0;34m]\u001b[0m \u001b[0;34m=\u001b[0m \u001b[0mkwds\u001b[0m\u001b[0;34m[\u001b[0m\u001b[0;34m\"has_index_names\"\u001b[0m\u001b[0;34m]\u001b[0m\u001b[0;34m\u001b[0m\u001b[0;34m\u001b[0m\u001b[0m\n\u001b[1;32m    935\u001b[0m \u001b[0;34m\u001b[0m\u001b[0m\n\u001b[0;32m--> 936\u001b[0;31m         \u001b[0mself\u001b[0m\u001b[0;34m.\u001b[0m\u001b[0m_make_engine\u001b[0m\u001b[0;34m(\u001b[0m\u001b[0mself\u001b[0m\u001b[0;34m.\u001b[0m\u001b[0mengine\u001b[0m\u001b[0;34m)\u001b[0m\u001b[0;34m\u001b[0m\u001b[0;34m\u001b[0m\u001b[0m\n\u001b[0m\u001b[1;32m    937\u001b[0m \u001b[0;34m\u001b[0m\u001b[0m\n\u001b[1;32m    938\u001b[0m     \u001b[0;32mdef\u001b[0m \u001b[0mclose\u001b[0m\u001b[0;34m(\u001b[0m\u001b[0mself\u001b[0m\u001b[0;34m)\u001b[0m\u001b[0;34m:\u001b[0m\u001b[0;34m\u001b[0m\u001b[0;34m\u001b[0m\u001b[0m\n",
      "\u001b[0;32m~/.conda/envs/py3/lib/python3.6/site-packages/pandas/io/parsers.py\u001b[0m in \u001b[0;36m_make_engine\u001b[0;34m(self, engine)\u001b[0m\n\u001b[1;32m   1166\u001b[0m     \u001b[0;32mdef\u001b[0m \u001b[0m_make_engine\u001b[0m\u001b[0;34m(\u001b[0m\u001b[0mself\u001b[0m\u001b[0;34m,\u001b[0m \u001b[0mengine\u001b[0m\u001b[0;34m=\u001b[0m\u001b[0;34m\"c\"\u001b[0m\u001b[0;34m)\u001b[0m\u001b[0;34m:\u001b[0m\u001b[0;34m\u001b[0m\u001b[0;34m\u001b[0m\u001b[0m\n\u001b[1;32m   1167\u001b[0m         \u001b[0;32mif\u001b[0m \u001b[0mengine\u001b[0m \u001b[0;34m==\u001b[0m \u001b[0;34m\"c\"\u001b[0m\u001b[0;34m:\u001b[0m\u001b[0;34m\u001b[0m\u001b[0;34m\u001b[0m\u001b[0m\n\u001b[0;32m-> 1168\u001b[0;31m             \u001b[0mself\u001b[0m\u001b[0;34m.\u001b[0m\u001b[0m_engine\u001b[0m \u001b[0;34m=\u001b[0m \u001b[0mCParserWrapper\u001b[0m\u001b[0;34m(\u001b[0m\u001b[0mself\u001b[0m\u001b[0;34m.\u001b[0m\u001b[0mf\u001b[0m\u001b[0;34m,\u001b[0m \u001b[0;34m**\u001b[0m\u001b[0mself\u001b[0m\u001b[0;34m.\u001b[0m\u001b[0moptions\u001b[0m\u001b[0;34m)\u001b[0m\u001b[0;34m\u001b[0m\u001b[0;34m\u001b[0m\u001b[0m\n\u001b[0m\u001b[1;32m   1169\u001b[0m         \u001b[0;32melse\u001b[0m\u001b[0;34m:\u001b[0m\u001b[0;34m\u001b[0m\u001b[0;34m\u001b[0m\u001b[0m\n\u001b[1;32m   1170\u001b[0m             \u001b[0;32mif\u001b[0m \u001b[0mengine\u001b[0m \u001b[0;34m==\u001b[0m \u001b[0;34m\"python\"\u001b[0m\u001b[0;34m:\u001b[0m\u001b[0;34m\u001b[0m\u001b[0;34m\u001b[0m\u001b[0m\n",
      "\u001b[0;32m~/.conda/envs/py3/lib/python3.6/site-packages/pandas/io/parsers.py\u001b[0m in \u001b[0;36m__init__\u001b[0;34m(self, src, **kwds)\u001b[0m\n\u001b[1;32m   1996\u001b[0m         \u001b[0mkwds\u001b[0m\u001b[0;34m[\u001b[0m\u001b[0;34m\"usecols\"\u001b[0m\u001b[0;34m]\u001b[0m \u001b[0;34m=\u001b[0m \u001b[0mself\u001b[0m\u001b[0;34m.\u001b[0m\u001b[0musecols\u001b[0m\u001b[0;34m\u001b[0m\u001b[0;34m\u001b[0m\u001b[0m\n\u001b[1;32m   1997\u001b[0m \u001b[0;34m\u001b[0m\u001b[0m\n\u001b[0;32m-> 1998\u001b[0;31m         \u001b[0mself\u001b[0m\u001b[0;34m.\u001b[0m\u001b[0m_reader\u001b[0m \u001b[0;34m=\u001b[0m \u001b[0mparsers\u001b[0m\u001b[0;34m.\u001b[0m\u001b[0mTextReader\u001b[0m\u001b[0;34m(\u001b[0m\u001b[0msrc\u001b[0m\u001b[0;34m,\u001b[0m \u001b[0;34m**\u001b[0m\u001b[0mkwds\u001b[0m\u001b[0;34m)\u001b[0m\u001b[0;34m\u001b[0m\u001b[0;34m\u001b[0m\u001b[0m\n\u001b[0m\u001b[1;32m   1999\u001b[0m         \u001b[0mself\u001b[0m\u001b[0;34m.\u001b[0m\u001b[0munnamed_cols\u001b[0m \u001b[0;34m=\u001b[0m \u001b[0mself\u001b[0m\u001b[0;34m.\u001b[0m\u001b[0m_reader\u001b[0m\u001b[0;34m.\u001b[0m\u001b[0munnamed_cols\u001b[0m\u001b[0;34m\u001b[0m\u001b[0;34m\u001b[0m\u001b[0m\n\u001b[1;32m   2000\u001b[0m \u001b[0;34m\u001b[0m\u001b[0m\n",
      "\u001b[0;32mpandas/_libs/parsers.pyx\u001b[0m in \u001b[0;36mpandas._libs.parsers.TextReader.__cinit__\u001b[0;34m()\u001b[0m\n",
      "\u001b[0;32mpandas/_libs/parsers.pyx\u001b[0m in \u001b[0;36mpandas._libs.parsers.TextReader._setup_parser_source\u001b[0;34m()\u001b[0m\n",
      "\u001b[0;31mFileNotFoundError\u001b[0m: [Errno 2] No such file or directory: '../3_technology/outputs/family_repertoire.tsv'"
     ]
    }
   ],
   "source": [
    "rep_df = pd.read_csv('../3_technology/outputs/family_repertoire.tsv', sep='\\t')\n",
    "rep_df.head()"
   ]
  },
  {
   "cell_type": "code",
   "execution_count": null,
   "metadata": {},
   "outputs": [],
   "source": [
    "family_n = mortality_summ[['family','sum', 'log_n']]\n",
    "family_rep = rep_df[['family', 'breadth','log_breadth']]\n",
    "n_rep = pd.merge(family_n, family_rep, on='family')\n",
    "n_rep.head()"
   ]
  },
  {
   "cell_type": "markdown",
   "metadata": {},
   "source": [
    "Max items possible?"
   ]
  },
  {
   "cell_type": "code",
   "execution_count": null,
   "metadata": {},
   "outputs": [],
   "source": [
    "item_df = pd.read_csv('../4_techtree/num_unique_ingredients.csv')\n",
    "n_items = len(item_df)\n",
    "print('# items: %i' % n_items)\n",
    "item_df.head()"
   ]
  },
  {
   "cell_type": "markdown",
   "metadata": {},
   "source": [
    "Distribution of repertoire sizes"
   ]
  },
  {
   "cell_type": "code",
   "execution_count": null,
   "metadata": {},
   "outputs": [],
   "source": [
    "rep_q = scipy.stats.mstats.mquantiles(rep_df['log_breadth'], prob=[0.25, 0.5, 0.75, 1])\n",
    "print(rep_q)\n",
    "\n",
    "plt.figure(figsize=(12,4))\n",
    "# for q in rep_q:\n",
    "#     plt.axvline(q, color='#aaaaaa', linestyle='--')\n",
    "#plt.axvspan(0, q_log[0], alpha=0.5, color='red') \n",
    "\n",
    "ax = sns.distplot(rep_df['log_breadth'], bins=20)\n",
    "ax.set_xlim(left=0)\n",
    "ax.set_xticks(range(5))\n",
    "plt.axvline(np.log10(n_items), linestyle='--', color = '#f5a442')\n",
    "labels = [10**t for t in ax.get_xticks()]\n",
    "ax.set(xlabel='Repertoire size', xticklabels=labels)\n",
    "sns.despine()"
   ]
  },
  {
   "cell_type": "code",
   "execution_count": null,
   "metadata": {},
   "outputs": [],
   "source": [
    "g = sns.jointplot(data=n_rep, x='log_breadth', y='log_n', kind='reg', lowess=True,\n",
    "                  marginal_kws={'bins':20},\n",
    "                  scatter_kws={'alpha':0.01, 'color': '#A5C8E1'})\n",
    "ticks = np.arange(4)\n",
    "tick_labels = [10**t for t in ticks]\n",
    "g.ax_joint.set(xticks = ticks, yticks = ticks,\n",
    "               xticklabels = tick_labels, yticklabels = tick_labels,\n",
    "               xlabel='Viability',\n",
    "               ylabel='Repertoire size')"
   ]
  },
  {
   "cell_type": "code",
   "execution_count": null,
   "metadata": {},
   "outputs": [],
   "source": [
    "gini_df = pd.read_csv('../3_technology/outputs/family_gini.tsv', sep='\\t')\n",
    "gini_df.head()"
   ]
  },
  {
   "cell_type": "code",
   "execution_count": null,
   "metadata": {},
   "outputs": [],
   "source": [
    "gini_rep = pd.merge(gini_df, rep_df, on='family')\n",
    "gini_rep.head()"
   ]
  },
  {
   "cell_type": "code",
   "execution_count": null,
   "metadata": {},
   "outputs": [],
   "source": [
    "fig = plt.figure(figsize=(6,6))\n",
    "ax = sns.regplot(x='gini', y='log_breadth', data=gini_rep,\n",
    "                 scatter_kws={'alpha': 0.05, 'color': '#A5C8E1'}, \n",
    "                 line_kws = {'color': '#2276B4'}, lowess=True)\n",
    "yticks =  np.arange(0,5)\n",
    "ax.set_yticks(yticks)\n",
    "yticklabels = [10**y for y in yticks]\n",
    "ax.set(xlabel = 'Innovation inequality (G)',\n",
    "       xlim = (0,1),\n",
    "       ylabel = 'Repertoire size',\n",
    "       yticklabels=yticklabels)\n",
    "sns.despine()"
   ]
  },
  {
   "cell_type": "code",
   "execution_count": null,
   "metadata": {},
   "outputs": [],
   "source": [
    "plt.figure(figsize=(7,5))\n",
    "equal_dist = np.array([0,1,2,3,4])\n",
    "ax = sns.distplot(equal_dist, kde=False, hist_kws={'density': False}, bins=5)\n",
    "ax.set(xlim = (0,11), ylim = (0,5),\n",
    "       xticks = np.arange(0,11),\n",
    "       yticks = np.arange(6),\n",
    "       xlabel='# discoveries',\n",
    "       ylabel='# players')\n",
    "sns.despine()"
   ]
  }
 ],
 "metadata": {
  "kernelspec": {
   "display_name": "Python [conda env:.conda-py3]",
   "language": "python",
   "name": "conda-env-.conda-py3-py"
  },
  "language_info": {
   "codemirror_mode": {
    "name": "ipython",
    "version": 3
   },
   "file_extension": ".py",
   "mimetype": "text/x-python",
   "name": "python",
   "nbconvert_exporter": "python",
   "pygments_lexer": "ipython3",
   "version": "3.6.10"
  }
 },
 "nbformat": 4,
 "nbformat_minor": 4
}
