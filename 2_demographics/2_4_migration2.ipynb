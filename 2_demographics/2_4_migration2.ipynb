{
 "cells": [
  {
   "cell_type": "code",
   "execution_count": 1,
   "metadata": {
    "collapsed": true
   },
   "outputs": [],
   "source": [
    "%matplotlib inline\n",
    "\n",
    "import os, re, glob\n",
    "import pandas as pd\n",
    "import numpy as np\n",
    "import networkx as nx\n",
    "import matplotlib.pyplot as plt\n",
    "import seaborn as sns\n",
    "from os.path import join as opj\n",
    "from tqdm import tqdm_notebook\n",
    "from ast import literal_eval as make_tuple\n",
    "\n",
    "sns.set_context('paper')"
   ]
  },
  {
   "cell_type": "code",
   "execution_count": 2,
   "metadata": {
    "collapsed": true
   },
   "outputs": [],
   "source": [
    "gsearch = lambda *args: glob.glob(opj(*args))\n",
    "str_extract = lambda pattern, s: re.search(pattern, s).group(0)"
   ]
  },
  {
   "cell_type": "code",
   "execution_count": 5,
   "metadata": {},
   "outputs": [
    {
     "name": "stdout",
     "output_type": "stream",
     "text": [
      "../data/publicLifeLogData/lifeLog_bigserver2.onehouronelife.com/2019_01January_29_Tuesday.txt\n",
      "../data/publicLifeLogData/lifeLog_bigserver2.onehouronelife.com/2019_01January_30_Wednesday.txt\n",
      "../data/publicLifeLogData/lifeLog_bigserver2.onehouronelife.com/2019_01January_31_Thursday.txt\n",
      "../data/publicLifeLogData/lifeLog_bigserver2.onehouronelife.com/2019_02February_01_Friday.txt\n",
      "../data/publicLifeLogData/lifeLog_bigserver2.onehouronelife.com/2019_02February_02_Saturday.txt\n",
      "../data/publicLifeLogData/lifeLog_bigserver2.onehouronelife.com/2019_02February_03_Sunday.txt\n",
      "../data/publicLifeLogData/lifeLog_bigserver2.onehouronelife.com/2019_02February_04_Monday.txt\n",
      "../data/publicLifeLogData/lifeLog_bigserver2.onehouronelife.com/2019_02February_05_Tuesday.txt\n",
      "../data/publicLifeLogData/lifeLog_bigserver2.onehouronelife.com/2019_02February_06_Wednesday.txt\n",
      "../data/publicLifeLogData/lifeLog_bigserver2.onehouronelife.com/2019_02February_07_Thursday.txt\n"
     ]
    }
   ],
   "source": [
    "data_dir = '../data/publicLifeLogData'\n",
    "all_files = gsearch(data_dir, 'lifeLog_bigserver2*', '2*y.txt')\n",
    "all_files.sort()\n",
    "print(*all_files[:10], sep='\\n')"
   ]
  },
  {
   "cell_type": "code",
   "execution_count": 6,
   "metadata": {
    "collapsed": true
   },
   "outputs": [],
   "source": [
    "def date_extract(s):\n",
    "    \n",
    "    date_regex = '([0-9]{4})_([0-9]{2})[A-Za-z]+_([0-9]{2})'\n",
    "    date_search = re.findall(date_regex, s)\n",
    "    date_str = ''.join(date_search[0])\n",
    "    date_int = int(date_str)\n",
    "    \n",
    "    return date_int"
   ]
  },
  {
   "cell_type": "code",
   "execution_count": 7,
   "metadata": {
    "collapsed": true
   },
   "outputs": [],
   "source": [
    "def find_version(file):\n",
    "    file_date = date_extract(file)\n",
    "\n",
    "    tmp_ver = ver.copy()\n",
    "    tmp_ver['lag'] = file_date - tmp_ver['release_date']\n",
    "    tmp_ver = tmp_ver[tmp_ver['lag'] >= 0]\n",
    "\n",
    "    file_ver = tmp_ver.loc[tmp_ver['lag'].idxmin()].version\n",
    "    \n",
    "    return file_ver"
   ]
  },
  {
   "cell_type": "code",
   "execution_count": 8,
   "metadata": {
    "collapsed": true
   },
   "outputs": [],
   "source": [
    "ver_file = '../1_download/outputs/version_history_full.tsv'\n",
    "\n",
    "# Load file\n",
    "ver = pd.read_csv(ver_file, sep='\\t')\n",
    "\n",
    "# Clean up release date\n",
    "ver.release_date = [s.replace('-', '') for s in ver.release_date]\n",
    "ver.release_date = pd.to_numeric(ver.release_date)"
   ]
  },
  {
   "cell_type": "code",
   "execution_count": 9,
   "metadata": {},
   "outputs": [
    {
     "data": {
      "text/plain": [
       "[20190129,\n",
       " 20190130,\n",
       " 20190131,\n",
       " 20190201,\n",
       " 20190202,\n",
       " 20190203,\n",
       " 20190204,\n",
       " 20190205,\n",
       " 20190206,\n",
       " 20190207,\n",
       " 20190208,\n",
       " 20190209,\n",
       " 20190210,\n",
       " 20190211,\n",
       " 20190212,\n",
       " 20190213,\n",
       " 20190214,\n",
       " 20190215,\n",
       " 20190216,\n",
       " 20190217,\n",
       " 20190218,\n",
       " 20190219,\n",
       " 20190220,\n",
       " 20190221,\n",
       " 20190222,\n",
       " 20190223,\n",
       " 20190224,\n",
       " 20190225,\n",
       " 20190226,\n",
       " 20190227,\n",
       " 20190228,\n",
       " 20190301,\n",
       " 20190302,\n",
       " 20190303,\n",
       " 20190304,\n",
       " 20190305,\n",
       " 20190306,\n",
       " 20190307,\n",
       " 20190308,\n",
       " 20190309,\n",
       " 20190310,\n",
       " 20190311,\n",
       " 20190312,\n",
       " 20190313,\n",
       " 20190314,\n",
       " 20190315,\n",
       " 20190316,\n",
       " 20190317,\n",
       " 20190318,\n",
       " 20190319,\n",
       " 20190320,\n",
       " 20190321,\n",
       " 20190322,\n",
       " 20190323,\n",
       " 20190324,\n",
       " 20190325,\n",
       " 20190326,\n",
       " 20190327,\n",
       " 20190328,\n",
       " 20190329,\n",
       " 20190330,\n",
       " 20190331,\n",
       " 20190401,\n",
       " 20190402,\n",
       " 20190403,\n",
       " 20190404,\n",
       " 20190405,\n",
       " 20190406,\n",
       " 20190407,\n",
       " 20190408,\n",
       " 20190409,\n",
       " 20190410,\n",
       " 20190411,\n",
       " 20190412,\n",
       " 20190413,\n",
       " 20190414,\n",
       " 20190415,\n",
       " 20190416,\n",
       " 20190417,\n",
       " 20190418,\n",
       " 20190419,\n",
       " 20190420,\n",
       " 20190421,\n",
       " 20190422,\n",
       " 20190423,\n",
       " 20190424,\n",
       " 20190425,\n",
       " 20190426,\n",
       " 20190427,\n",
       " 20190428,\n",
       " 20190429,\n",
       " 20190430,\n",
       " 20190501,\n",
       " 20190502,\n",
       " 20190503,\n",
       " 20190504,\n",
       " 20190505,\n",
       " 20190506,\n",
       " 20190507,\n",
       " 20190508,\n",
       " 20190509,\n",
       " 20190510,\n",
       " 20190511,\n",
       " 20190512,\n",
       " 20190513,\n",
       " 20190514,\n",
       " 20190515,\n",
       " 20190516,\n",
       " 20190517,\n",
       " 20190518,\n",
       " 20190519,\n",
       " 20190520,\n",
       " 20190521,\n",
       " 20190522,\n",
       " 20190523,\n",
       " 20190524,\n",
       " 20190525,\n",
       " 20190526,\n",
       " 20190527,\n",
       " 20190528,\n",
       " 20190529,\n",
       " 20190530,\n",
       " 20190531,\n",
       " 20190601,\n",
       " 20190602,\n",
       " 20190603,\n",
       " 20190604,\n",
       " 20190605,\n",
       " 20190606,\n",
       " 20190607,\n",
       " 20190608,\n",
       " 20190609,\n",
       " 20190610,\n",
       " 20190611,\n",
       " 20190612,\n",
       " 20190613,\n",
       " 20190614,\n",
       " 20190615,\n",
       " 20190616,\n",
       " 20190617,\n",
       " 20190618,\n",
       " 20190619,\n",
       " 20190620,\n",
       " 20190621,\n",
       " 20190622,\n",
       " 20190623,\n",
       " 20190624,\n",
       " 20190625,\n",
       " 20190626,\n",
       " 20190627,\n",
       " 20190628,\n",
       " 20190629,\n",
       " 20190630,\n",
       " 20190701,\n",
       " 20190702,\n",
       " 20190703,\n",
       " 20190704,\n",
       " 20190705,\n",
       " 20190706,\n",
       " 20190707,\n",
       " 20190708,\n",
       " 20190709,\n",
       " 20190710,\n",
       " 20190711,\n",
       " 20190712,\n",
       " 20190713,\n",
       " 20190714,\n",
       " 20190715,\n",
       " 20190716,\n",
       " 20190717,\n",
       " 20190718,\n",
       " 20190719,\n",
       " 20190720,\n",
       " 20190721,\n",
       " 20190722,\n",
       " 20190723,\n",
       " 20190724,\n",
       " 20190725,\n",
       " 20190726,\n",
       " 20190727,\n",
       " 20190728,\n",
       " 20190729,\n",
       " 20190730,\n",
       " 20190731,\n",
       " 20190801,\n",
       " 20190802,\n",
       " 20190803,\n",
       " 20190804,\n",
       " 20190805,\n",
       " 20190806,\n",
       " 20190807,\n",
       " 20190808,\n",
       " 20190809,\n",
       " 20190810,\n",
       " 20190811,\n",
       " 20190812,\n",
       " 20190813,\n",
       " 20190814,\n",
       " 20190815,\n",
       " 20190816,\n",
       " 20190817,\n",
       " 20190818,\n",
       " 20190819,\n",
       " 20190820,\n",
       " 20190821,\n",
       " 20190822,\n",
       " 20190823,\n",
       " 20190824,\n",
       " 20190825,\n",
       " 20190826,\n",
       " 20190827,\n",
       " 20190828,\n",
       " 20190829,\n",
       " 20190830,\n",
       " 20190831,\n",
       " 20190901,\n",
       " 20190902,\n",
       " 20190903,\n",
       " 20190904,\n",
       " 20190905,\n",
       " 20190906,\n",
       " 20190907,\n",
       " 20190908,\n",
       " 20190909,\n",
       " 20190910,\n",
       " 20190911,\n",
       " 20190912,\n",
       " 20190913,\n",
       " 20190914,\n",
       " 20190915,\n",
       " 20190916,\n",
       " 20190917,\n",
       " 20190918,\n",
       " 20190919,\n",
       " 20190920,\n",
       " 20190921,\n",
       " 20190922,\n",
       " 20190923,\n",
       " 20190924,\n",
       " 20190925,\n",
       " 20190926,\n",
       " 20190927,\n",
       " 20190928,\n",
       " 20190929,\n",
       " 20190930,\n",
       " 20191001,\n",
       " 20191002,\n",
       " 20191003,\n",
       " 20191004,\n",
       " 20191005,\n",
       " 20191006,\n",
       " 20191007,\n",
       " 20191008,\n",
       " 20191009,\n",
       " 20191010,\n",
       " 20191011,\n",
       " 20191012,\n",
       " 20191013,\n",
       " 20191014,\n",
       " 20191015,\n",
       " 20191016,\n",
       " 20191017,\n",
       " 20191018,\n",
       " 20191019,\n",
       " 20191020,\n",
       " 20191021,\n",
       " 20191022,\n",
       " 20191023,\n",
       " 20191024,\n",
       " 20191025,\n",
       " 20191026,\n",
       " 20191027,\n",
       " 20191028,\n",
       " 20191029,\n",
       " 20191030,\n",
       " 20191031,\n",
       " 20191101,\n",
       " 20191102,\n",
       " 20191103,\n",
       " 20191104,\n",
       " 20191105,\n",
       " 20191106,\n",
       " 20191107,\n",
       " 20191108,\n",
       " 20191109,\n",
       " 20191110,\n",
       " 20191111,\n",
       " 20191112,\n",
       " 20191113,\n",
       " 20191114,\n",
       " 20191115,\n",
       " 20191116,\n",
       " 20191117,\n",
       " 20191118,\n",
       " 20191119,\n",
       " 20191120,\n",
       " 20191121,\n",
       " 20191122,\n",
       " 20191123,\n",
       " 20191124,\n",
       " 20191125,\n",
       " 20191126,\n",
       " 20191127,\n",
       " 20191128,\n",
       " 20191129,\n",
       " 20191130,\n",
       " 20191201,\n",
       " 20191202,\n",
       " 20191203,\n",
       " 20191204,\n",
       " 20191205,\n",
       " 20191206,\n",
       " 20191207,\n",
       " 20191208,\n",
       " 20191209,\n",
       " 20191210,\n",
       " 20191211,\n",
       " 20191212,\n",
       " 20191213,\n",
       " 20191214,\n",
       " 20191215,\n",
       " 20191216,\n",
       " 20191217,\n",
       " 20191218,\n",
       " 20191219,\n",
       " 20191220,\n",
       " 20191221,\n",
       " 20191222,\n",
       " 20191223,\n",
       " 20191224,\n",
       " 20191225,\n",
       " 20191226,\n",
       " 20191227,\n",
       " 20191228,\n",
       " 20191229,\n",
       " 20191230,\n",
       " 20191231,\n",
       " 20200101,\n",
       " 20200102,\n",
       " 20200103,\n",
       " 20200104,\n",
       " 20200105,\n",
       " 20200106,\n",
       " 20200107,\n",
       " 20200108,\n",
       " 20200109,\n",
       " 20200110,\n",
       " 20200111,\n",
       " 20200112,\n",
       " 20200113,\n",
       " 20200114,\n",
       " 20200115,\n",
       " 20200116,\n",
       " 20200117,\n",
       " 20200118,\n",
       " 20200119,\n",
       " 20200120,\n",
       " 20200121,\n",
       " 20200122,\n",
       " 20200123,\n",
       " 20200124,\n",
       " 20200125,\n",
       " 20200126,\n",
       " 20200127,\n",
       " 20200128,\n",
       " 20200129,\n",
       " 20200130,\n",
       " 20200131,\n",
       " 20200201,\n",
       " 20200202,\n",
       " 20200203,\n",
       " 20200204,\n",
       " 20200205,\n",
       " 20200206,\n",
       " 20200207,\n",
       " 20200208,\n",
       " 20200209,\n",
       " 20200210,\n",
       " 20200211,\n",
       " 20200212,\n",
       " 20200213,\n",
       " 20200214,\n",
       " 20200215,\n",
       " 20200216,\n",
       " 20200217,\n",
       " 20200218,\n",
       " 20200219,\n",
       " 20200220,\n",
       " 20200221,\n",
       " 20200222,\n",
       " 20200223,\n",
       " 20200224,\n",
       " 20200225,\n",
       " 20200226,\n",
       " 20200227,\n",
       " 20200228,\n",
       " 20200229,\n",
       " 20200301,\n",
       " 20200302,\n",
       " 20200303,\n",
       " 20200304,\n",
       " 20200305,\n",
       " 20200306,\n",
       " 20200307,\n",
       " 20200308,\n",
       " 20200309,\n",
       " 20200310,\n",
       " 20200311,\n",
       " 20200312,\n",
       " 20200313,\n",
       " 20200314,\n",
       " 20200315,\n",
       " 20200316,\n",
       " 20200317,\n",
       " 20200318,\n",
       " 20200319,\n",
       " 20200320,\n",
       " 20200321,\n",
       " 20200322,\n",
       " 20200323,\n",
       " 20200324,\n",
       " 20200325,\n",
       " 20200326,\n",
       " 20200327,\n",
       " 20200328,\n",
       " 20200329,\n",
       " 20200330,\n",
       " 20200331,\n",
       " 20200401,\n",
       " 20200402,\n",
       " 20200403,\n",
       " 20200404,\n",
       " 20200405,\n",
       " 20200406,\n",
       " 20200407,\n",
       " 20200408,\n",
       " 20200409,\n",
       " 20200410,\n",
       " 20200411,\n",
       " 20200412,\n",
       " 20200413,\n",
       " 20200414,\n",
       " 20200415,\n",
       " 20200416,\n",
       " 20200417,\n",
       " 20200418,\n",
       " 20200419,\n",
       " 20200420,\n",
       " 20200421,\n",
       " 20200422,\n",
       " 20200423,\n",
       " 20200424,\n",
       " 20200425,\n",
       " 20200426,\n",
       " 20200427,\n",
       " 20200428,\n",
       " 20200429,\n",
       " 20200430,\n",
       " 20200501,\n",
       " 20200502,\n",
       " 20200503,\n",
       " 20200504,\n",
       " 20200505,\n",
       " 20200506,\n",
       " 20200507,\n",
       " 20200508,\n",
       " 20200509,\n",
       " 20200510,\n",
       " 20200511,\n",
       " 20200512,\n",
       " 20200513,\n",
       " 20200514,\n",
       " 20200515,\n",
       " 20200516,\n",
       " 20200517,\n",
       " 20200518,\n",
       " 20200519,\n",
       " 20200520,\n",
       " 20200521,\n",
       " 20200522,\n",
       " 20200523,\n",
       " 20200524,\n",
       " 20200525,\n",
       " 20200526,\n",
       " 20200527,\n",
       " 20200528,\n",
       " 20200529,\n",
       " 20200530,\n",
       " 20200531,\n",
       " 20200601,\n",
       " 20200602,\n",
       " 20200603,\n",
       " 20200604,\n",
       " 20200605,\n",
       " 20200606,\n",
       " 20200607,\n",
       " 20200608,\n",
       " 20200609,\n",
       " 20200610,\n",
       " 20200611,\n",
       " 20200612,\n",
       " 20200613,\n",
       " 20200614,\n",
       " 20200615,\n",
       " 20200616]"
      ]
     },
     "execution_count": 9,
     "metadata": {},
     "output_type": "execute_result"
    }
   ],
   "source": [
    "all_dates = [date_extract(f) for f in all_files]\n",
    "all_dates"
   ]
  },
  {
   "cell_type": "code",
   "execution_count": 10,
   "metadata": {},
   "outputs": [
    {
     "data": {
      "text/html": [
       "<div>\n",
       "<style scoped>\n",
       "    .dataframe tbody tr th:only-of-type {\n",
       "        vertical-align: middle;\n",
       "    }\n",
       "\n",
       "    .dataframe tbody tr th {\n",
       "        vertical-align: top;\n",
       "    }\n",
       "\n",
       "    .dataframe thead th {\n",
       "        text-align: right;\n",
       "    }\n",
       "</style>\n",
       "<table border=\"1\" class=\"dataframe\">\n",
       "  <thead>\n",
       "    <tr style=\"text-align: right;\">\n",
       "      <th></th>\n",
       "      <th>file</th>\n",
       "      <th>date</th>\n",
       "      <th>include</th>\n",
       "    </tr>\n",
       "  </thead>\n",
       "  <tbody>\n",
       "    <tr>\n",
       "      <th>178</th>\n",
       "      <td>../data/publicLifeLogData/lifeLog_bigserver2.o...</td>\n",
       "      <td>20190726</td>\n",
       "      <td>True</td>\n",
       "    </tr>\n",
       "    <tr>\n",
       "      <th>179</th>\n",
       "      <td>../data/publicLifeLogData/lifeLog_bigserver2.o...</td>\n",
       "      <td>20190727</td>\n",
       "      <td>True</td>\n",
       "    </tr>\n",
       "    <tr>\n",
       "      <th>180</th>\n",
       "      <td>../data/publicLifeLogData/lifeLog_bigserver2.o...</td>\n",
       "      <td>20190728</td>\n",
       "      <td>True</td>\n",
       "    </tr>\n",
       "    <tr>\n",
       "      <th>181</th>\n",
       "      <td>../data/publicLifeLogData/lifeLog_bigserver2.o...</td>\n",
       "      <td>20190729</td>\n",
       "      <td>True</td>\n",
       "    </tr>\n",
       "    <tr>\n",
       "      <th>182</th>\n",
       "      <td>../data/publicLifeLogData/lifeLog_bigserver2.o...</td>\n",
       "      <td>20190730</td>\n",
       "      <td>True</td>\n",
       "    </tr>\n",
       "  </tbody>\n",
       "</table>\n",
       "</div>"
      ],
      "text/plain": [
       "                                                  file      date  include\n",
       "178  ../data/publicLifeLogData/lifeLog_bigserver2.o...  20190726     True\n",
       "179  ../data/publicLifeLogData/lifeLog_bigserver2.o...  20190727     True\n",
       "180  ../data/publicLifeLogData/lifeLog_bigserver2.o...  20190728     True\n",
       "181  ../data/publicLifeLogData/lifeLog_bigserver2.o...  20190729     True\n",
       "182  ../data/publicLifeLogData/lifeLog_bigserver2.o...  20190730     True"
      ]
     },
     "execution_count": 10,
     "metadata": {},
     "output_type": "execute_result"
    }
   ],
   "source": [
    "start = 20190726\n",
    "\n",
    "# Check if date is within range\n",
    "between_dates = lambda d: (d >= start)\n",
    "\n",
    "file_df = pd.DataFrame({'file': all_files,\n",
    "                        'date': all_dates})\n",
    "file_df['include'] = file_df.date.apply(between_dates)\n",
    "file_df = file_df[file_df.include == True]\n",
    "\n",
    "file_df.head()"
   ]
  },
  {
   "cell_type": "code",
   "execution_count": 11,
   "metadata": {},
   "outputs": [
    {
     "data": {
      "text/plain": [
       "array(['../data/publicLifeLogData/lifeLog_bigserver2.onehouronelife.com/2019_07July_26_Friday.txt',\n",
       "       '../data/publicLifeLogData/lifeLog_bigserver2.onehouronelife.com/2019_07July_27_Saturday.txt',\n",
       "       '../data/publicLifeLogData/lifeLog_bigserver2.onehouronelife.com/2019_07July_28_Sunday.txt',\n",
       "       '../data/publicLifeLogData/lifeLog_bigserver2.onehouronelife.com/2019_07July_29_Monday.txt',\n",
       "       '../data/publicLifeLogData/lifeLog_bigserver2.onehouronelife.com/2019_07July_30_Tuesday.txt',\n",
       "       '../data/publicLifeLogData/lifeLog_bigserver2.onehouronelife.com/2019_07July_31_Wednesday.txt',\n",
       "       '../data/publicLifeLogData/lifeLog_bigserver2.onehouronelife.com/2019_08August_01_Thursday.txt',\n",
       "       '../data/publicLifeLogData/lifeLog_bigserver2.onehouronelife.com/2019_08August_02_Friday.txt',\n",
       "       '../data/publicLifeLogData/lifeLog_bigserver2.onehouronelife.com/2019_08August_03_Saturday.txt',\n",
       "       '../data/publicLifeLogData/lifeLog_bigserver2.onehouronelife.com/2019_08August_04_Sunday.txt',\n",
       "       '../data/publicLifeLogData/lifeLog_bigserver2.onehouronelife.com/2019_08August_05_Monday.txt',\n",
       "       '../data/publicLifeLogData/lifeLog_bigserver2.onehouronelife.com/2019_08August_06_Tuesday.txt',\n",
       "       '../data/publicLifeLogData/lifeLog_bigserver2.onehouronelife.com/2019_08August_07_Wednesday.txt',\n",
       "       '../data/publicLifeLogData/lifeLog_bigserver2.onehouronelife.com/2019_08August_08_Thursday.txt',\n",
       "       '../data/publicLifeLogData/lifeLog_bigserver2.onehouronelife.com/2019_08August_09_Friday.txt',\n",
       "       '../data/publicLifeLogData/lifeLog_bigserver2.onehouronelife.com/2019_08August_10_Saturday.txt',\n",
       "       '../data/publicLifeLogData/lifeLog_bigserver2.onehouronelife.com/2019_08August_11_Sunday.txt',\n",
       "       '../data/publicLifeLogData/lifeLog_bigserver2.onehouronelife.com/2019_08August_12_Monday.txt',\n",
       "       '../data/publicLifeLogData/lifeLog_bigserver2.onehouronelife.com/2019_08August_13_Tuesday.txt',\n",
       "       '../data/publicLifeLogData/lifeLog_bigserver2.onehouronelife.com/2019_08August_14_Wednesday.txt',\n",
       "       '../data/publicLifeLogData/lifeLog_bigserver2.onehouronelife.com/2019_08August_15_Thursday.txt',\n",
       "       '../data/publicLifeLogData/lifeLog_bigserver2.onehouronelife.com/2019_08August_16_Friday.txt',\n",
       "       '../data/publicLifeLogData/lifeLog_bigserver2.onehouronelife.com/2019_08August_17_Saturday.txt',\n",
       "       '../data/publicLifeLogData/lifeLog_bigserver2.onehouronelife.com/2019_08August_18_Sunday.txt',\n",
       "       '../data/publicLifeLogData/lifeLog_bigserver2.onehouronelife.com/2019_08August_19_Monday.txt',\n",
       "       '../data/publicLifeLogData/lifeLog_bigserver2.onehouronelife.com/2019_08August_20_Tuesday.txt',\n",
       "       '../data/publicLifeLogData/lifeLog_bigserver2.onehouronelife.com/2019_08August_21_Wednesday.txt',\n",
       "       '../data/publicLifeLogData/lifeLog_bigserver2.onehouronelife.com/2019_08August_22_Thursday.txt',\n",
       "       '../data/publicLifeLogData/lifeLog_bigserver2.onehouronelife.com/2019_08August_23_Friday.txt',\n",
       "       '../data/publicLifeLogData/lifeLog_bigserver2.onehouronelife.com/2019_08August_24_Saturday.txt',\n",
       "       '../data/publicLifeLogData/lifeLog_bigserver2.onehouronelife.com/2019_08August_25_Sunday.txt',\n",
       "       '../data/publicLifeLogData/lifeLog_bigserver2.onehouronelife.com/2019_08August_26_Monday.txt',\n",
       "       '../data/publicLifeLogData/lifeLog_bigserver2.onehouronelife.com/2019_08August_27_Tuesday.txt',\n",
       "       '../data/publicLifeLogData/lifeLog_bigserver2.onehouronelife.com/2019_08August_28_Wednesday.txt',\n",
       "       '../data/publicLifeLogData/lifeLog_bigserver2.onehouronelife.com/2019_08August_29_Thursday.txt',\n",
       "       '../data/publicLifeLogData/lifeLog_bigserver2.onehouronelife.com/2019_08August_30_Friday.txt',\n",
       "       '../data/publicLifeLogData/lifeLog_bigserver2.onehouronelife.com/2019_08August_31_Saturday.txt',\n",
       "       '../data/publicLifeLogData/lifeLog_bigserver2.onehouronelife.com/2019_09September_01_Sunday.txt',\n",
       "       '../data/publicLifeLogData/lifeLog_bigserver2.onehouronelife.com/2019_09September_02_Monday.txt',\n",
       "       '../data/publicLifeLogData/lifeLog_bigserver2.onehouronelife.com/2019_09September_03_Tuesday.txt',\n",
       "       '../data/publicLifeLogData/lifeLog_bigserver2.onehouronelife.com/2019_09September_04_Wednesday.txt',\n",
       "       '../data/publicLifeLogData/lifeLog_bigserver2.onehouronelife.com/2019_09September_05_Thursday.txt',\n",
       "       '../data/publicLifeLogData/lifeLog_bigserver2.onehouronelife.com/2019_09September_06_Friday.txt',\n",
       "       '../data/publicLifeLogData/lifeLog_bigserver2.onehouronelife.com/2019_09September_07_Saturday.txt',\n",
       "       '../data/publicLifeLogData/lifeLog_bigserver2.onehouronelife.com/2019_09September_08_Sunday.txt',\n",
       "       '../data/publicLifeLogData/lifeLog_bigserver2.onehouronelife.com/2019_09September_09_Monday.txt',\n",
       "       '../data/publicLifeLogData/lifeLog_bigserver2.onehouronelife.com/2019_09September_10_Tuesday.txt',\n",
       "       '../data/publicLifeLogData/lifeLog_bigserver2.onehouronelife.com/2019_09September_11_Wednesday.txt',\n",
       "       '../data/publicLifeLogData/lifeLog_bigserver2.onehouronelife.com/2019_09September_12_Thursday.txt',\n",
       "       '../data/publicLifeLogData/lifeLog_bigserver2.onehouronelife.com/2019_09September_13_Friday.txt',\n",
       "       '../data/publicLifeLogData/lifeLog_bigserver2.onehouronelife.com/2019_09September_14_Saturday.txt',\n",
       "       '../data/publicLifeLogData/lifeLog_bigserver2.onehouronelife.com/2019_09September_15_Sunday.txt',\n",
       "       '../data/publicLifeLogData/lifeLog_bigserver2.onehouronelife.com/2019_09September_16_Monday.txt',\n",
       "       '../data/publicLifeLogData/lifeLog_bigserver2.onehouronelife.com/2019_09September_17_Tuesday.txt',\n",
       "       '../data/publicLifeLogData/lifeLog_bigserver2.onehouronelife.com/2019_09September_18_Wednesday.txt',\n",
       "       '../data/publicLifeLogData/lifeLog_bigserver2.onehouronelife.com/2019_09September_19_Thursday.txt',\n",
       "       '../data/publicLifeLogData/lifeLog_bigserver2.onehouronelife.com/2019_09September_20_Friday.txt',\n",
       "       '../data/publicLifeLogData/lifeLog_bigserver2.onehouronelife.com/2019_09September_21_Saturday.txt',\n",
       "       '../data/publicLifeLogData/lifeLog_bigserver2.onehouronelife.com/2019_09September_22_Sunday.txt',\n",
       "       '../data/publicLifeLogData/lifeLog_bigserver2.onehouronelife.com/2019_09September_23_Monday.txt',\n",
       "       '../data/publicLifeLogData/lifeLog_bigserver2.onehouronelife.com/2019_09September_24_Tuesday.txt',\n",
       "       '../data/publicLifeLogData/lifeLog_bigserver2.onehouronelife.com/2019_09September_25_Wednesday.txt',\n",
       "       '../data/publicLifeLogData/lifeLog_bigserver2.onehouronelife.com/2019_09September_26_Thursday.txt',\n",
       "       '../data/publicLifeLogData/lifeLog_bigserver2.onehouronelife.com/2019_09September_27_Friday.txt',\n",
       "       '../data/publicLifeLogData/lifeLog_bigserver2.onehouronelife.com/2019_09September_28_Saturday.txt',\n",
       "       '../data/publicLifeLogData/lifeLog_bigserver2.onehouronelife.com/2019_09September_29_Sunday.txt',\n",
       "       '../data/publicLifeLogData/lifeLog_bigserver2.onehouronelife.com/2019_09September_30_Monday.txt',\n",
       "       '../data/publicLifeLogData/lifeLog_bigserver2.onehouronelife.com/2019_10October_01_Tuesday.txt',\n",
       "       '../data/publicLifeLogData/lifeLog_bigserver2.onehouronelife.com/2019_10October_02_Wednesday.txt',\n",
       "       '../data/publicLifeLogData/lifeLog_bigserver2.onehouronelife.com/2019_10October_03_Thursday.txt',\n",
       "       '../data/publicLifeLogData/lifeLog_bigserver2.onehouronelife.com/2019_10October_04_Friday.txt',\n",
       "       '../data/publicLifeLogData/lifeLog_bigserver2.onehouronelife.com/2019_10October_05_Saturday.txt',\n",
       "       '../data/publicLifeLogData/lifeLog_bigserver2.onehouronelife.com/2019_10October_06_Sunday.txt',\n",
       "       '../data/publicLifeLogData/lifeLog_bigserver2.onehouronelife.com/2019_10October_07_Monday.txt',\n",
       "       '../data/publicLifeLogData/lifeLog_bigserver2.onehouronelife.com/2019_10October_08_Tuesday.txt',\n",
       "       '../data/publicLifeLogData/lifeLog_bigserver2.onehouronelife.com/2019_10October_09_Wednesday.txt',\n",
       "       '../data/publicLifeLogData/lifeLog_bigserver2.onehouronelife.com/2019_10October_10_Thursday.txt',\n",
       "       '../data/publicLifeLogData/lifeLog_bigserver2.onehouronelife.com/2019_10October_11_Friday.txt',\n",
       "       '../data/publicLifeLogData/lifeLog_bigserver2.onehouronelife.com/2019_10October_12_Saturday.txt',\n",
       "       '../data/publicLifeLogData/lifeLog_bigserver2.onehouronelife.com/2019_10October_13_Sunday.txt',\n",
       "       '../data/publicLifeLogData/lifeLog_bigserver2.onehouronelife.com/2019_10October_14_Monday.txt',\n",
       "       '../data/publicLifeLogData/lifeLog_bigserver2.onehouronelife.com/2019_10October_15_Tuesday.txt',\n",
       "       '../data/publicLifeLogData/lifeLog_bigserver2.onehouronelife.com/2019_10October_16_Wednesday.txt',\n",
       "       '../data/publicLifeLogData/lifeLog_bigserver2.onehouronelife.com/2019_10October_17_Thursday.txt',\n",
       "       '../data/publicLifeLogData/lifeLog_bigserver2.onehouronelife.com/2019_10October_18_Friday.txt',\n",
       "       '../data/publicLifeLogData/lifeLog_bigserver2.onehouronelife.com/2019_10October_19_Saturday.txt',\n",
       "       '../data/publicLifeLogData/lifeLog_bigserver2.onehouronelife.com/2019_10October_20_Sunday.txt',\n",
       "       '../data/publicLifeLogData/lifeLog_bigserver2.onehouronelife.com/2019_10October_21_Monday.txt',\n",
       "       '../data/publicLifeLogData/lifeLog_bigserver2.onehouronelife.com/2019_10October_22_Tuesday.txt',\n",
       "       '../data/publicLifeLogData/lifeLog_bigserver2.onehouronelife.com/2019_10October_23_Wednesday.txt',\n",
       "       '../data/publicLifeLogData/lifeLog_bigserver2.onehouronelife.com/2019_10October_24_Thursday.txt',\n",
       "       '../data/publicLifeLogData/lifeLog_bigserver2.onehouronelife.com/2019_10October_25_Friday.txt',\n",
       "       '../data/publicLifeLogData/lifeLog_bigserver2.onehouronelife.com/2019_10October_26_Saturday.txt',\n",
       "       '../data/publicLifeLogData/lifeLog_bigserver2.onehouronelife.com/2019_10October_27_Sunday.txt',\n",
       "       '../data/publicLifeLogData/lifeLog_bigserver2.onehouronelife.com/2019_10October_28_Monday.txt',\n",
       "       '../data/publicLifeLogData/lifeLog_bigserver2.onehouronelife.com/2019_10October_29_Tuesday.txt',\n",
       "       '../data/publicLifeLogData/lifeLog_bigserver2.onehouronelife.com/2019_10October_30_Wednesday.txt',\n",
       "       '../data/publicLifeLogData/lifeLog_bigserver2.onehouronelife.com/2019_10October_31_Thursday.txt',\n",
       "       '../data/publicLifeLogData/lifeLog_bigserver2.onehouronelife.com/2019_11November_01_Friday.txt',\n",
       "       '../data/publicLifeLogData/lifeLog_bigserver2.onehouronelife.com/2019_11November_02_Saturday.txt',\n",
       "       '../data/publicLifeLogData/lifeLog_bigserver2.onehouronelife.com/2019_11November_03_Sunday.txt',\n",
       "       '../data/publicLifeLogData/lifeLog_bigserver2.onehouronelife.com/2019_11November_04_Monday.txt',\n",
       "       '../data/publicLifeLogData/lifeLog_bigserver2.onehouronelife.com/2019_11November_05_Tuesday.txt',\n",
       "       '../data/publicLifeLogData/lifeLog_bigserver2.onehouronelife.com/2019_11November_06_Wednesday.txt',\n",
       "       '../data/publicLifeLogData/lifeLog_bigserver2.onehouronelife.com/2019_11November_07_Thursday.txt',\n",
       "       '../data/publicLifeLogData/lifeLog_bigserver2.onehouronelife.com/2019_11November_08_Friday.txt',\n",
       "       '../data/publicLifeLogData/lifeLog_bigserver2.onehouronelife.com/2019_11November_09_Saturday.txt',\n",
       "       '../data/publicLifeLogData/lifeLog_bigserver2.onehouronelife.com/2019_11November_10_Sunday.txt',\n",
       "       '../data/publicLifeLogData/lifeLog_bigserver2.onehouronelife.com/2019_11November_11_Monday.txt',\n",
       "       '../data/publicLifeLogData/lifeLog_bigserver2.onehouronelife.com/2019_11November_12_Tuesday.txt',\n",
       "       '../data/publicLifeLogData/lifeLog_bigserver2.onehouronelife.com/2019_11November_13_Wednesday.txt',\n",
       "       '../data/publicLifeLogData/lifeLog_bigserver2.onehouronelife.com/2019_11November_14_Thursday.txt',\n",
       "       '../data/publicLifeLogData/lifeLog_bigserver2.onehouronelife.com/2019_11November_15_Friday.txt',\n",
       "       '../data/publicLifeLogData/lifeLog_bigserver2.onehouronelife.com/2019_11November_16_Saturday.txt',\n",
       "       '../data/publicLifeLogData/lifeLog_bigserver2.onehouronelife.com/2019_11November_17_Sunday.txt',\n",
       "       '../data/publicLifeLogData/lifeLog_bigserver2.onehouronelife.com/2019_11November_18_Monday.txt',\n",
       "       '../data/publicLifeLogData/lifeLog_bigserver2.onehouronelife.com/2019_11November_19_Tuesday.txt',\n",
       "       '../data/publicLifeLogData/lifeLog_bigserver2.onehouronelife.com/2019_11November_20_Wednesday.txt',\n",
       "       '../data/publicLifeLogData/lifeLog_bigserver2.onehouronelife.com/2019_11November_21_Thursday.txt',\n",
       "       '../data/publicLifeLogData/lifeLog_bigserver2.onehouronelife.com/2019_11November_22_Friday.txt',\n",
       "       '../data/publicLifeLogData/lifeLog_bigserver2.onehouronelife.com/2019_11November_23_Saturday.txt',\n",
       "       '../data/publicLifeLogData/lifeLog_bigserver2.onehouronelife.com/2019_11November_24_Sunday.txt',\n",
       "       '../data/publicLifeLogData/lifeLog_bigserver2.onehouronelife.com/2019_11November_25_Monday.txt',\n",
       "       '../data/publicLifeLogData/lifeLog_bigserver2.onehouronelife.com/2019_11November_26_Tuesday.txt',\n",
       "       '../data/publicLifeLogData/lifeLog_bigserver2.onehouronelife.com/2019_11November_27_Wednesday.txt',\n",
       "       '../data/publicLifeLogData/lifeLog_bigserver2.onehouronelife.com/2019_11November_28_Thursday.txt',\n",
       "       '../data/publicLifeLogData/lifeLog_bigserver2.onehouronelife.com/2019_11November_29_Friday.txt',\n",
       "       '../data/publicLifeLogData/lifeLog_bigserver2.onehouronelife.com/2019_11November_30_Saturday.txt',\n",
       "       '../data/publicLifeLogData/lifeLog_bigserver2.onehouronelife.com/2019_12December_01_Sunday.txt',\n",
       "       '../data/publicLifeLogData/lifeLog_bigserver2.onehouronelife.com/2019_12December_02_Monday.txt',\n",
       "       '../data/publicLifeLogData/lifeLog_bigserver2.onehouronelife.com/2019_12December_03_Tuesday.txt',\n",
       "       '../data/publicLifeLogData/lifeLog_bigserver2.onehouronelife.com/2019_12December_04_Wednesday.txt',\n",
       "       '../data/publicLifeLogData/lifeLog_bigserver2.onehouronelife.com/2019_12December_05_Thursday.txt',\n",
       "       '../data/publicLifeLogData/lifeLog_bigserver2.onehouronelife.com/2019_12December_06_Friday.txt',\n",
       "       '../data/publicLifeLogData/lifeLog_bigserver2.onehouronelife.com/2019_12December_07_Saturday.txt',\n",
       "       '../data/publicLifeLogData/lifeLog_bigserver2.onehouronelife.com/2019_12December_08_Sunday.txt',\n",
       "       '../data/publicLifeLogData/lifeLog_bigserver2.onehouronelife.com/2019_12December_09_Monday.txt',\n",
       "       '../data/publicLifeLogData/lifeLog_bigserver2.onehouronelife.com/2019_12December_10_Tuesday.txt',\n",
       "       '../data/publicLifeLogData/lifeLog_bigserver2.onehouronelife.com/2019_12December_11_Wednesday.txt',\n",
       "       '../data/publicLifeLogData/lifeLog_bigserver2.onehouronelife.com/2019_12December_12_Thursday.txt',\n",
       "       '../data/publicLifeLogData/lifeLog_bigserver2.onehouronelife.com/2019_12December_13_Friday.txt',\n",
       "       '../data/publicLifeLogData/lifeLog_bigserver2.onehouronelife.com/2019_12December_14_Saturday.txt',\n",
       "       '../data/publicLifeLogData/lifeLog_bigserver2.onehouronelife.com/2019_12December_15_Sunday.txt',\n",
       "       '../data/publicLifeLogData/lifeLog_bigserver2.onehouronelife.com/2019_12December_16_Monday.txt',\n",
       "       '../data/publicLifeLogData/lifeLog_bigserver2.onehouronelife.com/2019_12December_17_Tuesday.txt',\n",
       "       '../data/publicLifeLogData/lifeLog_bigserver2.onehouronelife.com/2019_12December_18_Wednesday.txt',\n",
       "       '../data/publicLifeLogData/lifeLog_bigserver2.onehouronelife.com/2019_12December_19_Thursday.txt',\n",
       "       '../data/publicLifeLogData/lifeLog_bigserver2.onehouronelife.com/2019_12December_20_Friday.txt',\n",
       "       '../data/publicLifeLogData/lifeLog_bigserver2.onehouronelife.com/2019_12December_21_Saturday.txt',\n",
       "       '../data/publicLifeLogData/lifeLog_bigserver2.onehouronelife.com/2019_12December_22_Sunday.txt',\n",
       "       '../data/publicLifeLogData/lifeLog_bigserver2.onehouronelife.com/2019_12December_23_Monday.txt',\n",
       "       '../data/publicLifeLogData/lifeLog_bigserver2.onehouronelife.com/2019_12December_24_Tuesday.txt',\n",
       "       '../data/publicLifeLogData/lifeLog_bigserver2.onehouronelife.com/2019_12December_25_Wednesday.txt',\n",
       "       '../data/publicLifeLogData/lifeLog_bigserver2.onehouronelife.com/2019_12December_26_Thursday.txt',\n",
       "       '../data/publicLifeLogData/lifeLog_bigserver2.onehouronelife.com/2019_12December_27_Friday.txt',\n",
       "       '../data/publicLifeLogData/lifeLog_bigserver2.onehouronelife.com/2019_12December_28_Saturday.txt',\n",
       "       '../data/publicLifeLogData/lifeLog_bigserver2.onehouronelife.com/2019_12December_29_Sunday.txt',\n",
       "       '../data/publicLifeLogData/lifeLog_bigserver2.onehouronelife.com/2019_12December_30_Monday.txt',\n",
       "       '../data/publicLifeLogData/lifeLog_bigserver2.onehouronelife.com/2019_12December_31_Tuesday.txt',\n",
       "       '../data/publicLifeLogData/lifeLog_bigserver2.onehouronelife.com/2020_01January_01_Wednesday.txt',\n",
       "       '../data/publicLifeLogData/lifeLog_bigserver2.onehouronelife.com/2020_01January_02_Thursday.txt',\n",
       "       '../data/publicLifeLogData/lifeLog_bigserver2.onehouronelife.com/2020_01January_03_Friday.txt',\n",
       "       '../data/publicLifeLogData/lifeLog_bigserver2.onehouronelife.com/2020_01January_04_Saturday.txt',\n",
       "       '../data/publicLifeLogData/lifeLog_bigserver2.onehouronelife.com/2020_01January_05_Sunday.txt',\n",
       "       '../data/publicLifeLogData/lifeLog_bigserver2.onehouronelife.com/2020_01January_06_Monday.txt',\n",
       "       '../data/publicLifeLogData/lifeLog_bigserver2.onehouronelife.com/2020_01January_07_Tuesday.txt',\n",
       "       '../data/publicLifeLogData/lifeLog_bigserver2.onehouronelife.com/2020_01January_08_Wednesday.txt',\n",
       "       '../data/publicLifeLogData/lifeLog_bigserver2.onehouronelife.com/2020_01January_09_Thursday.txt',\n",
       "       '../data/publicLifeLogData/lifeLog_bigserver2.onehouronelife.com/2020_01January_10_Friday.txt',\n",
       "       '../data/publicLifeLogData/lifeLog_bigserver2.onehouronelife.com/2020_01January_11_Saturday.txt',\n",
       "       '../data/publicLifeLogData/lifeLog_bigserver2.onehouronelife.com/2020_01January_12_Sunday.txt',\n",
       "       '../data/publicLifeLogData/lifeLog_bigserver2.onehouronelife.com/2020_01January_13_Monday.txt',\n",
       "       '../data/publicLifeLogData/lifeLog_bigserver2.onehouronelife.com/2020_01January_14_Tuesday.txt',\n",
       "       '../data/publicLifeLogData/lifeLog_bigserver2.onehouronelife.com/2020_01January_15_Wednesday.txt',\n",
       "       '../data/publicLifeLogData/lifeLog_bigserver2.onehouronelife.com/2020_01January_16_Thursday.txt',\n",
       "       '../data/publicLifeLogData/lifeLog_bigserver2.onehouronelife.com/2020_01January_17_Friday.txt',\n",
       "       '../data/publicLifeLogData/lifeLog_bigserver2.onehouronelife.com/2020_01January_18_Saturday.txt',\n",
       "       '../data/publicLifeLogData/lifeLog_bigserver2.onehouronelife.com/2020_01January_19_Sunday.txt',\n",
       "       '../data/publicLifeLogData/lifeLog_bigserver2.onehouronelife.com/2020_01January_20_Monday.txt',\n",
       "       '../data/publicLifeLogData/lifeLog_bigserver2.onehouronelife.com/2020_01January_21_Tuesday.txt',\n",
       "       '../data/publicLifeLogData/lifeLog_bigserver2.onehouronelife.com/2020_01January_22_Wednesday.txt',\n",
       "       '../data/publicLifeLogData/lifeLog_bigserver2.onehouronelife.com/2020_01January_23_Thursday.txt',\n",
       "       '../data/publicLifeLogData/lifeLog_bigserver2.onehouronelife.com/2020_01January_24_Friday.txt',\n",
       "       '../data/publicLifeLogData/lifeLog_bigserver2.onehouronelife.com/2020_01January_25_Saturday.txt',\n",
       "       '../data/publicLifeLogData/lifeLog_bigserver2.onehouronelife.com/2020_01January_26_Sunday.txt',\n",
       "       '../data/publicLifeLogData/lifeLog_bigserver2.onehouronelife.com/2020_01January_27_Monday.txt',\n",
       "       '../data/publicLifeLogData/lifeLog_bigserver2.onehouronelife.com/2020_01January_28_Tuesday.txt',\n",
       "       '../data/publicLifeLogData/lifeLog_bigserver2.onehouronelife.com/2020_01January_29_Wednesday.txt',\n",
       "       '../data/publicLifeLogData/lifeLog_bigserver2.onehouronelife.com/2020_01January_30_Thursday.txt',\n",
       "       '../data/publicLifeLogData/lifeLog_bigserver2.onehouronelife.com/2020_01January_31_Friday.txt',\n",
       "       '../data/publicLifeLogData/lifeLog_bigserver2.onehouronelife.com/2020_02February_01_Saturday.txt',\n",
       "       '../data/publicLifeLogData/lifeLog_bigserver2.onehouronelife.com/2020_02February_02_Sunday.txt',\n",
       "       '../data/publicLifeLogData/lifeLog_bigserver2.onehouronelife.com/2020_02February_03_Monday.txt',\n",
       "       '../data/publicLifeLogData/lifeLog_bigserver2.onehouronelife.com/2020_02February_04_Tuesday.txt',\n",
       "       '../data/publicLifeLogData/lifeLog_bigserver2.onehouronelife.com/2020_02February_05_Wednesday.txt',\n",
       "       '../data/publicLifeLogData/lifeLog_bigserver2.onehouronelife.com/2020_02February_06_Thursday.txt',\n",
       "       '../data/publicLifeLogData/lifeLog_bigserver2.onehouronelife.com/2020_02February_07_Friday.txt',\n",
       "       '../data/publicLifeLogData/lifeLog_bigserver2.onehouronelife.com/2020_02February_08_Saturday.txt',\n",
       "       '../data/publicLifeLogData/lifeLog_bigserver2.onehouronelife.com/2020_02February_09_Sunday.txt',\n",
       "       '../data/publicLifeLogData/lifeLog_bigserver2.onehouronelife.com/2020_02February_10_Monday.txt',\n",
       "       '../data/publicLifeLogData/lifeLog_bigserver2.onehouronelife.com/2020_02February_11_Tuesday.txt',\n",
       "       '../data/publicLifeLogData/lifeLog_bigserver2.onehouronelife.com/2020_02February_12_Wednesday.txt',\n",
       "       '../data/publicLifeLogData/lifeLog_bigserver2.onehouronelife.com/2020_02February_13_Thursday.txt',\n",
       "       '../data/publicLifeLogData/lifeLog_bigserver2.onehouronelife.com/2020_02February_14_Friday.txt',\n",
       "       '../data/publicLifeLogData/lifeLog_bigserver2.onehouronelife.com/2020_02February_15_Saturday.txt',\n",
       "       '../data/publicLifeLogData/lifeLog_bigserver2.onehouronelife.com/2020_02February_16_Sunday.txt',\n",
       "       '../data/publicLifeLogData/lifeLog_bigserver2.onehouronelife.com/2020_02February_17_Monday.txt',\n",
       "       '../data/publicLifeLogData/lifeLog_bigserver2.onehouronelife.com/2020_02February_18_Tuesday.txt',\n",
       "       '../data/publicLifeLogData/lifeLog_bigserver2.onehouronelife.com/2020_02February_19_Wednesday.txt',\n",
       "       '../data/publicLifeLogData/lifeLog_bigserver2.onehouronelife.com/2020_02February_20_Thursday.txt',\n",
       "       '../data/publicLifeLogData/lifeLog_bigserver2.onehouronelife.com/2020_02February_21_Friday.txt',\n",
       "       '../data/publicLifeLogData/lifeLog_bigserver2.onehouronelife.com/2020_02February_22_Saturday.txt',\n",
       "       '../data/publicLifeLogData/lifeLog_bigserver2.onehouronelife.com/2020_02February_23_Sunday.txt',\n",
       "       '../data/publicLifeLogData/lifeLog_bigserver2.onehouronelife.com/2020_02February_24_Monday.txt',\n",
       "       '../data/publicLifeLogData/lifeLog_bigserver2.onehouronelife.com/2020_02February_25_Tuesday.txt',\n",
       "       '../data/publicLifeLogData/lifeLog_bigserver2.onehouronelife.com/2020_02February_26_Wednesday.txt',\n",
       "       '../data/publicLifeLogData/lifeLog_bigserver2.onehouronelife.com/2020_02February_27_Thursday.txt',\n",
       "       '../data/publicLifeLogData/lifeLog_bigserver2.onehouronelife.com/2020_02February_28_Friday.txt',\n",
       "       '../data/publicLifeLogData/lifeLog_bigserver2.onehouronelife.com/2020_02February_29_Saturday.txt',\n",
       "       '../data/publicLifeLogData/lifeLog_bigserver2.onehouronelife.com/2020_03March_01_Sunday.txt',\n",
       "       '../data/publicLifeLogData/lifeLog_bigserver2.onehouronelife.com/2020_03March_02_Monday.txt',\n",
       "       '../data/publicLifeLogData/lifeLog_bigserver2.onehouronelife.com/2020_03March_03_Tuesday.txt',\n",
       "       '../data/publicLifeLogData/lifeLog_bigserver2.onehouronelife.com/2020_03March_04_Wednesday.txt',\n",
       "       '../data/publicLifeLogData/lifeLog_bigserver2.onehouronelife.com/2020_03March_05_Thursday.txt',\n",
       "       '../data/publicLifeLogData/lifeLog_bigserver2.onehouronelife.com/2020_03March_06_Friday.txt',\n",
       "       '../data/publicLifeLogData/lifeLog_bigserver2.onehouronelife.com/2020_03March_07_Saturday.txt',\n",
       "       '../data/publicLifeLogData/lifeLog_bigserver2.onehouronelife.com/2020_03March_08_Sunday.txt',\n",
       "       '../data/publicLifeLogData/lifeLog_bigserver2.onehouronelife.com/2020_03March_09_Monday.txt',\n",
       "       '../data/publicLifeLogData/lifeLog_bigserver2.onehouronelife.com/2020_03March_10_Tuesday.txt',\n",
       "       '../data/publicLifeLogData/lifeLog_bigserver2.onehouronelife.com/2020_03March_11_Wednesday.txt',\n",
       "       '../data/publicLifeLogData/lifeLog_bigserver2.onehouronelife.com/2020_03March_12_Thursday.txt',\n",
       "       '../data/publicLifeLogData/lifeLog_bigserver2.onehouronelife.com/2020_03March_13_Friday.txt',\n",
       "       '../data/publicLifeLogData/lifeLog_bigserver2.onehouronelife.com/2020_03March_14_Saturday.txt',\n",
       "       '../data/publicLifeLogData/lifeLog_bigserver2.onehouronelife.com/2020_03March_15_Sunday.txt',\n",
       "       '../data/publicLifeLogData/lifeLog_bigserver2.onehouronelife.com/2020_03March_16_Monday.txt',\n",
       "       '../data/publicLifeLogData/lifeLog_bigserver2.onehouronelife.com/2020_03March_17_Tuesday.txt',\n",
       "       '../data/publicLifeLogData/lifeLog_bigserver2.onehouronelife.com/2020_03March_18_Wednesday.txt',\n",
       "       '../data/publicLifeLogData/lifeLog_bigserver2.onehouronelife.com/2020_03March_19_Thursday.txt',\n",
       "       '../data/publicLifeLogData/lifeLog_bigserver2.onehouronelife.com/2020_03March_20_Friday.txt',\n",
       "       '../data/publicLifeLogData/lifeLog_bigserver2.onehouronelife.com/2020_03March_21_Saturday.txt',\n",
       "       '../data/publicLifeLogData/lifeLog_bigserver2.onehouronelife.com/2020_03March_22_Sunday.txt',\n",
       "       '../data/publicLifeLogData/lifeLog_bigserver2.onehouronelife.com/2020_03March_23_Monday.txt',\n",
       "       '../data/publicLifeLogData/lifeLog_bigserver2.onehouronelife.com/2020_03March_24_Tuesday.txt',\n",
       "       '../data/publicLifeLogData/lifeLog_bigserver2.onehouronelife.com/2020_03March_25_Wednesday.txt',\n",
       "       '../data/publicLifeLogData/lifeLog_bigserver2.onehouronelife.com/2020_03March_26_Thursday.txt',\n",
       "       '../data/publicLifeLogData/lifeLog_bigserver2.onehouronelife.com/2020_03March_27_Friday.txt',\n",
       "       '../data/publicLifeLogData/lifeLog_bigserver2.onehouronelife.com/2020_03March_28_Saturday.txt',\n",
       "       '../data/publicLifeLogData/lifeLog_bigserver2.onehouronelife.com/2020_03March_29_Sunday.txt',\n",
       "       '../data/publicLifeLogData/lifeLog_bigserver2.onehouronelife.com/2020_03March_30_Monday.txt',\n",
       "       '../data/publicLifeLogData/lifeLog_bigserver2.onehouronelife.com/2020_03March_31_Tuesday.txt',\n",
       "       '../data/publicLifeLogData/lifeLog_bigserver2.onehouronelife.com/2020_04April_01_Wednesday.txt',\n",
       "       '../data/publicLifeLogData/lifeLog_bigserver2.onehouronelife.com/2020_04April_02_Thursday.txt',\n",
       "       '../data/publicLifeLogData/lifeLog_bigserver2.onehouronelife.com/2020_04April_03_Friday.txt',\n",
       "       '../data/publicLifeLogData/lifeLog_bigserver2.onehouronelife.com/2020_04April_04_Saturday.txt',\n",
       "       '../data/publicLifeLogData/lifeLog_bigserver2.onehouronelife.com/2020_04April_05_Sunday.txt',\n",
       "       '../data/publicLifeLogData/lifeLog_bigserver2.onehouronelife.com/2020_04April_06_Monday.txt',\n",
       "       '../data/publicLifeLogData/lifeLog_bigserver2.onehouronelife.com/2020_04April_07_Tuesday.txt',\n",
       "       '../data/publicLifeLogData/lifeLog_bigserver2.onehouronelife.com/2020_04April_08_Wednesday.txt',\n",
       "       '../data/publicLifeLogData/lifeLog_bigserver2.onehouronelife.com/2020_04April_09_Thursday.txt',\n",
       "       '../data/publicLifeLogData/lifeLog_bigserver2.onehouronelife.com/2020_04April_10_Friday.txt',\n",
       "       '../data/publicLifeLogData/lifeLog_bigserver2.onehouronelife.com/2020_04April_11_Saturday.txt',\n",
       "       '../data/publicLifeLogData/lifeLog_bigserver2.onehouronelife.com/2020_04April_12_Sunday.txt',\n",
       "       '../data/publicLifeLogData/lifeLog_bigserver2.onehouronelife.com/2020_04April_13_Monday.txt',\n",
       "       '../data/publicLifeLogData/lifeLog_bigserver2.onehouronelife.com/2020_04April_14_Tuesday.txt',\n",
       "       '../data/publicLifeLogData/lifeLog_bigserver2.onehouronelife.com/2020_04April_15_Wednesday.txt',\n",
       "       '../data/publicLifeLogData/lifeLog_bigserver2.onehouronelife.com/2020_04April_16_Thursday.txt',\n",
       "       '../data/publicLifeLogData/lifeLog_bigserver2.onehouronelife.com/2020_04April_17_Friday.txt',\n",
       "       '../data/publicLifeLogData/lifeLog_bigserver2.onehouronelife.com/2020_04April_18_Saturday.txt',\n",
       "       '../data/publicLifeLogData/lifeLog_bigserver2.onehouronelife.com/2020_04April_19_Sunday.txt',\n",
       "       '../data/publicLifeLogData/lifeLog_bigserver2.onehouronelife.com/2020_04April_20_Monday.txt',\n",
       "       '../data/publicLifeLogData/lifeLog_bigserver2.onehouronelife.com/2020_04April_21_Tuesday.txt',\n",
       "       '../data/publicLifeLogData/lifeLog_bigserver2.onehouronelife.com/2020_04April_22_Wednesday.txt',\n",
       "       '../data/publicLifeLogData/lifeLog_bigserver2.onehouronelife.com/2020_04April_23_Thursday.txt',\n",
       "       '../data/publicLifeLogData/lifeLog_bigserver2.onehouronelife.com/2020_04April_24_Friday.txt',\n",
       "       '../data/publicLifeLogData/lifeLog_bigserver2.onehouronelife.com/2020_04April_25_Saturday.txt',\n",
       "       '../data/publicLifeLogData/lifeLog_bigserver2.onehouronelife.com/2020_04April_26_Sunday.txt',\n",
       "       '../data/publicLifeLogData/lifeLog_bigserver2.onehouronelife.com/2020_04April_27_Monday.txt',\n",
       "       '../data/publicLifeLogData/lifeLog_bigserver2.onehouronelife.com/2020_04April_28_Tuesday.txt',\n",
       "       '../data/publicLifeLogData/lifeLog_bigserver2.onehouronelife.com/2020_04April_29_Wednesday.txt',\n",
       "       '../data/publicLifeLogData/lifeLog_bigserver2.onehouronelife.com/2020_04April_30_Thursday.txt',\n",
       "       '../data/publicLifeLogData/lifeLog_bigserver2.onehouronelife.com/2020_05May_01_Friday.txt',\n",
       "       '../data/publicLifeLogData/lifeLog_bigserver2.onehouronelife.com/2020_05May_02_Saturday.txt',\n",
       "       '../data/publicLifeLogData/lifeLog_bigserver2.onehouronelife.com/2020_05May_03_Sunday.txt',\n",
       "       '../data/publicLifeLogData/lifeLog_bigserver2.onehouronelife.com/2020_05May_04_Monday.txt',\n",
       "       '../data/publicLifeLogData/lifeLog_bigserver2.onehouronelife.com/2020_05May_05_Tuesday.txt',\n",
       "       '../data/publicLifeLogData/lifeLog_bigserver2.onehouronelife.com/2020_05May_06_Wednesday.txt',\n",
       "       '../data/publicLifeLogData/lifeLog_bigserver2.onehouronelife.com/2020_05May_07_Thursday.txt',\n",
       "       '../data/publicLifeLogData/lifeLog_bigserver2.onehouronelife.com/2020_05May_08_Friday.txt',\n",
       "       '../data/publicLifeLogData/lifeLog_bigserver2.onehouronelife.com/2020_05May_09_Saturday.txt',\n",
       "       '../data/publicLifeLogData/lifeLog_bigserver2.onehouronelife.com/2020_05May_10_Sunday.txt',\n",
       "       '../data/publicLifeLogData/lifeLog_bigserver2.onehouronelife.com/2020_05May_11_Monday.txt',\n",
       "       '../data/publicLifeLogData/lifeLog_bigserver2.onehouronelife.com/2020_05May_12_Tuesday.txt',\n",
       "       '../data/publicLifeLogData/lifeLog_bigserver2.onehouronelife.com/2020_05May_13_Wednesday.txt',\n",
       "       '../data/publicLifeLogData/lifeLog_bigserver2.onehouronelife.com/2020_05May_14_Thursday.txt',\n",
       "       '../data/publicLifeLogData/lifeLog_bigserver2.onehouronelife.com/2020_05May_15_Friday.txt',\n",
       "       '../data/publicLifeLogData/lifeLog_bigserver2.onehouronelife.com/2020_05May_16_Saturday.txt',\n",
       "       '../data/publicLifeLogData/lifeLog_bigserver2.onehouronelife.com/2020_05May_17_Sunday.txt',\n",
       "       '../data/publicLifeLogData/lifeLog_bigserver2.onehouronelife.com/2020_05May_18_Monday.txt',\n",
       "       '../data/publicLifeLogData/lifeLog_bigserver2.onehouronelife.com/2020_05May_19_Tuesday.txt',\n",
       "       '../data/publicLifeLogData/lifeLog_bigserver2.onehouronelife.com/2020_05May_20_Wednesday.txt',\n",
       "       '../data/publicLifeLogData/lifeLog_bigserver2.onehouronelife.com/2020_05May_21_Thursday.txt',\n",
       "       '../data/publicLifeLogData/lifeLog_bigserver2.onehouronelife.com/2020_05May_22_Friday.txt',\n",
       "       '../data/publicLifeLogData/lifeLog_bigserver2.onehouronelife.com/2020_05May_23_Saturday.txt',\n",
       "       '../data/publicLifeLogData/lifeLog_bigserver2.onehouronelife.com/2020_05May_24_Sunday.txt',\n",
       "       '../data/publicLifeLogData/lifeLog_bigserver2.onehouronelife.com/2020_05May_25_Monday.txt',\n",
       "       '../data/publicLifeLogData/lifeLog_bigserver2.onehouronelife.com/2020_05May_26_Tuesday.txt',\n",
       "       '../data/publicLifeLogData/lifeLog_bigserver2.onehouronelife.com/2020_05May_27_Wednesday.txt',\n",
       "       '../data/publicLifeLogData/lifeLog_bigserver2.onehouronelife.com/2020_05May_28_Thursday.txt',\n",
       "       '../data/publicLifeLogData/lifeLog_bigserver2.onehouronelife.com/2020_05May_29_Friday.txt',\n",
       "       '../data/publicLifeLogData/lifeLog_bigserver2.onehouronelife.com/2020_05May_30_Saturday.txt',\n",
       "       '../data/publicLifeLogData/lifeLog_bigserver2.onehouronelife.com/2020_05May_31_Sunday.txt',\n",
       "       '../data/publicLifeLogData/lifeLog_bigserver2.onehouronelife.com/2020_06June_01_Monday.txt',\n",
       "       '../data/publicLifeLogData/lifeLog_bigserver2.onehouronelife.com/2020_06June_02_Tuesday.txt',\n",
       "       '../data/publicLifeLogData/lifeLog_bigserver2.onehouronelife.com/2020_06June_03_Wednesday.txt',\n",
       "       '../data/publicLifeLogData/lifeLog_bigserver2.onehouronelife.com/2020_06June_04_Thursday.txt',\n",
       "       '../data/publicLifeLogData/lifeLog_bigserver2.onehouronelife.com/2020_06June_05_Friday.txt',\n",
       "       '../data/publicLifeLogData/lifeLog_bigserver2.onehouronelife.com/2020_06June_06_Saturday.txt',\n",
       "       '../data/publicLifeLogData/lifeLog_bigserver2.onehouronelife.com/2020_06June_07_Sunday.txt',\n",
       "       '../data/publicLifeLogData/lifeLog_bigserver2.onehouronelife.com/2020_06June_08_Monday.txt',\n",
       "       '../data/publicLifeLogData/lifeLog_bigserver2.onehouronelife.com/2020_06June_09_Tuesday.txt',\n",
       "       '../data/publicLifeLogData/lifeLog_bigserver2.onehouronelife.com/2020_06June_10_Wednesday.txt',\n",
       "       '../data/publicLifeLogData/lifeLog_bigserver2.onehouronelife.com/2020_06June_11_Thursday.txt',\n",
       "       '../data/publicLifeLogData/lifeLog_bigserver2.onehouronelife.com/2020_06June_12_Friday.txt',\n",
       "       '../data/publicLifeLogData/lifeLog_bigserver2.onehouronelife.com/2020_06June_13_Saturday.txt',\n",
       "       '../data/publicLifeLogData/lifeLog_bigserver2.onehouronelife.com/2020_06June_14_Sunday.txt',\n",
       "       '../data/publicLifeLogData/lifeLog_bigserver2.onehouronelife.com/2020_06June_15_Monday.txt',\n",
       "       '../data/publicLifeLogData/lifeLog_bigserver2.onehouronelife.com/2020_06June_16_Tuesday.txt'],\n",
       "      dtype=object)"
      ]
     },
     "execution_count": 11,
     "metadata": {},
     "output_type": "execute_result"
    }
   ],
   "source": [
    "from tqdm import tqdm\n",
    "data_files = file_df['file'].values\n",
    "data_files"
   ]
  },
  {
   "cell_type": "code",
   "execution_count": 17,
   "metadata": {},
   "outputs": [
    {
     "name": "stderr",
     "output_type": "stream",
     "text": [
      "\r",
      "  0%|          | 0/327 [00:00<?, ?it/s]"
     ]
    },
    {
     "name": "stdout",
     "output_type": "stream",
     "text": [
      "../data/publicLifeLogData/lifeLog_bigserver2.onehouronelife.com/2019_07July_26_Friday.txt\n"
     ]
    },
    {
     "name": "stderr",
     "output_type": "stream",
     "text": [
      "  1%|          | 3/327 [00:00<02:23,  2.27it/s]"
     ]
    },
    {
     "name": "stdout",
     "output_type": "stream",
     "text": [
      "../data/publicLifeLogData/lifeLog_bigserver2.onehouronelife.com/2019_07July_27_Saturday.txt\n",
      "../data/publicLifeLogData/lifeLog_bigserver2.onehouronelife.com/2019_07July_28_Sunday.txt\n",
      "../data/publicLifeLogData/lifeLog_bigserver2.onehouronelife.com/2019_07July_29_Monday.txt\n",
      "../data/publicLifeLogData/lifeLog_bigserver2.onehouronelife.com/2019_07July_30_Tuesday.txt\n"
     ]
    },
    {
     "name": "stderr",
     "output_type": "stream",
     "text": [
      "  2%|▏         | 7/327 [00:00<01:18,  4.10it/s]"
     ]
    },
    {
     "name": "stdout",
     "output_type": "stream",
     "text": [
      "../data/publicLifeLogData/lifeLog_bigserver2.onehouronelife.com/2019_07July_31_Wednesday.txt\n",
      "../data/publicLifeLogData/lifeLog_bigserver2.onehouronelife.com/2019_08August_01_Thursday.txt\n",
      "../data/publicLifeLogData/lifeLog_bigserver2.onehouronelife.com/2019_08August_02_Friday.txt\n",
      "../data/publicLifeLogData/lifeLog_bigserver2.onehouronelife.com/2019_08August_03_Saturday.txt\n"
     ]
    },
    {
     "name": "stderr",
     "output_type": "stream",
     "text": [
      "  4%|▍         | 13/327 [00:01<00:44,  6.99it/s]"
     ]
    },
    {
     "name": "stdout",
     "output_type": "stream",
     "text": [
      "../data/publicLifeLogData/lifeLog_bigserver2.onehouronelife.com/2019_08August_04_Sunday.txt\n",
      "../data/publicLifeLogData/lifeLog_bigserver2.onehouronelife.com/2019_08August_05_Monday.txt\n",
      "../data/publicLifeLogData/lifeLog_bigserver2.onehouronelife.com/2019_08August_06_Tuesday.txt\n",
      "../data/publicLifeLogData/lifeLog_bigserver2.onehouronelife.com/2019_08August_07_Wednesday.txt\n",
      "../data/publicLifeLogData/lifeLog_bigserver2.onehouronelife.com/2019_08August_08_Thursday.txt\n",
      "../data/publicLifeLogData/lifeLog_bigserver2.onehouronelife.com/2019_08August_09_Friday.txt\n"
     ]
    },
    {
     "name": "stderr",
     "output_type": "stream",
     "text": [
      "  6%|▌         | 19/327 [00:01<00:28, 10.97it/s]"
     ]
    },
    {
     "name": "stdout",
     "output_type": "stream",
     "text": [
      "../data/publicLifeLogData/lifeLog_bigserver2.onehouronelife.com/2019_08August_10_Saturday.txt\n",
      "../data/publicLifeLogData/lifeLog_bigserver2.onehouronelife.com/2019_08August_11_Sunday.txt\n",
      "../data/publicLifeLogData/lifeLog_bigserver2.onehouronelife.com/2019_08August_12_Monday.txt\n",
      "../data/publicLifeLogData/lifeLog_bigserver2.onehouronelife.com/2019_08August_13_Tuesday.txt\n",
      "../data/publicLifeLogData/lifeLog_bigserver2.onehouronelife.com/2019_08August_14_Wednesday.txt\n",
      "../data/publicLifeLogData/lifeLog_bigserver2.onehouronelife.com/2019_08August_15_Thursday.txt\n"
     ]
    },
    {
     "name": "stderr",
     "output_type": "stream",
     "text": [
      "  8%|▊         | 27/327 [00:01<00:18, 16.51it/s]"
     ]
    },
    {
     "name": "stdout",
     "output_type": "stream",
     "text": [
      "../data/publicLifeLogData/lifeLog_bigserver2.onehouronelife.com/2019_08August_16_Friday.txt\n",
      "../data/publicLifeLogData/lifeLog_bigserver2.onehouronelife.com/2019_08August_17_Saturday.txt\n",
      "../data/publicLifeLogData/lifeLog_bigserver2.onehouronelife.com/2019_08August_18_Sunday.txt\n",
      "../data/publicLifeLogData/lifeLog_bigserver2.onehouronelife.com/2019_08August_19_Monday.txt\n",
      "../data/publicLifeLogData/lifeLog_bigserver2.onehouronelife.com/2019_08August_20_Tuesday.txt\n",
      "../data/publicLifeLogData/lifeLog_bigserver2.onehouronelife.com/2019_08August_21_Wednesday.txt\n",
      "../data/publicLifeLogData/lifeLog_bigserver2.onehouronelife.com/2019_08August_22_Thursday.txt\n"
     ]
    },
    {
     "name": "stderr",
     "output_type": "stream",
     "text": [
      " 10%|█         | 33/327 [00:01<00:14, 20.71it/s]"
     ]
    },
    {
     "name": "stdout",
     "output_type": "stream",
     "text": [
      "../data/publicLifeLogData/lifeLog_bigserver2.onehouronelife.com/2019_08August_23_Friday.txt\n",
      "../data/publicLifeLogData/lifeLog_bigserver2.onehouronelife.com/2019_08August_24_Saturday.txt\n",
      "../data/publicLifeLogData/lifeLog_bigserver2.onehouronelife.com/2019_08August_25_Sunday.txt\n",
      "../data/publicLifeLogData/lifeLog_bigserver2.onehouronelife.com/2019_08August_26_Monday.txt\n",
      "../data/publicLifeLogData/lifeLog_bigserver2.onehouronelife.com/2019_08August_27_Tuesday.txt\n",
      "../data/publicLifeLogData/lifeLog_bigserver2.onehouronelife.com/2019_08August_28_Wednesday.txt\n"
     ]
    },
    {
     "name": "stderr",
     "output_type": "stream",
     "text": [
      " 12%|█▏        | 39/327 [00:02<00:12, 23.11it/s]"
     ]
    },
    {
     "name": "stdout",
     "output_type": "stream",
     "text": [
      "../data/publicLifeLogData/lifeLog_bigserver2.onehouronelife.com/2019_08August_29_Thursday.txt\n",
      "../data/publicLifeLogData/lifeLog_bigserver2.onehouronelife.com/2019_08August_30_Friday.txt\n",
      "../data/publicLifeLogData/lifeLog_bigserver2.onehouronelife.com/2019_08August_31_Saturday.txt\n",
      "../data/publicLifeLogData/lifeLog_bigserver2.onehouronelife.com/2019_09September_01_Sunday.txt\n",
      "../data/publicLifeLogData/lifeLog_bigserver2.onehouronelife.com/2019_09September_02_Monday.txt\n",
      "../data/publicLifeLogData/lifeLog_bigserver2.onehouronelife.com/2019_09September_03_Tuesday.txt\n"
     ]
    },
    {
     "name": "stderr",
     "output_type": "stream",
     "text": [
      " 14%|█▍        | 45/327 [00:02<00:11, 24.78it/s]"
     ]
    },
    {
     "name": "stdout",
     "output_type": "stream",
     "text": [
      "../data/publicLifeLogData/lifeLog_bigserver2.onehouronelife.com/2019_09September_04_Wednesday.txt\n",
      "../data/publicLifeLogData/lifeLog_bigserver2.onehouronelife.com/2019_09September_05_Thursday.txt\n",
      "../data/publicLifeLogData/lifeLog_bigserver2.onehouronelife.com/2019_09September_06_Friday.txt\n",
      "../data/publicLifeLogData/lifeLog_bigserver2.onehouronelife.com/2019_09September_07_Saturday.txt\n",
      "../data/publicLifeLogData/lifeLog_bigserver2.onehouronelife.com/2019_09September_08_Sunday.txt\n",
      "../data/publicLifeLogData/lifeLog_bigserver2.onehouronelife.com/2019_09September_09_Monday.txt\n"
     ]
    },
    {
     "name": "stderr",
     "output_type": "stream",
     "text": [
      " 16%|█▌        | 51/327 [00:02<00:10, 25.85it/s]"
     ]
    },
    {
     "name": "stdout",
     "output_type": "stream",
     "text": [
      "../data/publicLifeLogData/lifeLog_bigserver2.onehouronelife.com/2019_09September_10_Tuesday.txt\n",
      "../data/publicLifeLogData/lifeLog_bigserver2.onehouronelife.com/2019_09September_11_Wednesday.txt\n",
      "../data/publicLifeLogData/lifeLog_bigserver2.onehouronelife.com/2019_09September_12_Thursday.txt\n",
      "../data/publicLifeLogData/lifeLog_bigserver2.onehouronelife.com/2019_09September_13_Friday.txt\n",
      "../data/publicLifeLogData/lifeLog_bigserver2.onehouronelife.com/2019_09September_14_Saturday.txt\n",
      "../data/publicLifeLogData/lifeLog_bigserver2.onehouronelife.com/2019_09September_15_Sunday.txt\n"
     ]
    },
    {
     "name": "stderr",
     "output_type": "stream",
     "text": [
      " 18%|█▊        | 58/327 [00:02<00:09, 28.31it/s]"
     ]
    },
    {
     "name": "stdout",
     "output_type": "stream",
     "text": [
      "../data/publicLifeLogData/lifeLog_bigserver2.onehouronelife.com/2019_09September_16_Monday.txt\n",
      "../data/publicLifeLogData/lifeLog_bigserver2.onehouronelife.com/2019_09September_17_Tuesday.txt\n",
      "../data/publicLifeLogData/lifeLog_bigserver2.onehouronelife.com/2019_09September_18_Wednesday.txt\n",
      "../data/publicLifeLogData/lifeLog_bigserver2.onehouronelife.com/2019_09September_19_Thursday.txt\n",
      "../data/publicLifeLogData/lifeLog_bigserver2.onehouronelife.com/2019_09September_20_Friday.txt\n",
      "../data/publicLifeLogData/lifeLog_bigserver2.onehouronelife.com/2019_09September_21_Saturday.txt\n",
      "../data/publicLifeLogData/lifeLog_bigserver2.onehouronelife.com/2019_09September_22_Sunday.txt\n"
     ]
    },
    {
     "name": "stderr",
     "output_type": "stream",
     "text": [
      " 20%|█▉        | 64/327 [00:03<00:09, 27.87it/s]"
     ]
    },
    {
     "name": "stdout",
     "output_type": "stream",
     "text": [
      "../data/publicLifeLogData/lifeLog_bigserver2.onehouronelife.com/2019_09September_23_Monday.txt\n",
      "../data/publicLifeLogData/lifeLog_bigserver2.onehouronelife.com/2019_09September_24_Tuesday.txt\n",
      "../data/publicLifeLogData/lifeLog_bigserver2.onehouronelife.com/2019_09September_25_Wednesday.txt\n",
      "../data/publicLifeLogData/lifeLog_bigserver2.onehouronelife.com/2019_09September_26_Thursday.txt\n",
      "../data/publicLifeLogData/lifeLog_bigserver2.onehouronelife.com/2019_09September_27_Friday.txt\n",
      "../data/publicLifeLogData/lifeLog_bigserver2.onehouronelife.com/2019_09September_28_Saturday.txt\n",
      "../data/publicLifeLogData/lifeLog_bigserver2.onehouronelife.com/2019_09September_29_Sunday.txt"
     ]
    },
    {
     "name": "stderr",
     "output_type": "stream",
     "text": [
      " 21%|██▏       | 70/327 [00:03<00:10, 25.52it/s]"
     ]
    },
    {
     "name": "stdout",
     "output_type": "stream",
     "text": [
      "\n",
      "../data/publicLifeLogData/lifeLog_bigserver2.onehouronelife.com/2019_09September_30_Monday.txt\n",
      "../data/publicLifeLogData/lifeLog_bigserver2.onehouronelife.com/2019_10October_01_Tuesday.txt\n",
      "../data/publicLifeLogData/lifeLog_bigserver2.onehouronelife.com/2019_10October_02_Wednesday.txt\n",
      "../data/publicLifeLogData/lifeLog_bigserver2.onehouronelife.com/2019_10October_03_Thursday.txt\n",
      "../data/publicLifeLogData/lifeLog_bigserver2.onehouronelife.com/2019_10October_04_Friday.txt\n"
     ]
    },
    {
     "name": "stderr",
     "output_type": "stream",
     "text": [
      " 23%|██▎       | 76/327 [00:03<00:09, 25.27it/s]"
     ]
    },
    {
     "name": "stdout",
     "output_type": "stream",
     "text": [
      "../data/publicLifeLogData/lifeLog_bigserver2.onehouronelife.com/2019_10October_05_Saturday.txt\n",
      "../data/publicLifeLogData/lifeLog_bigserver2.onehouronelife.com/2019_10October_06_Sunday.txt\n",
      "../data/publicLifeLogData/lifeLog_bigserver2.onehouronelife.com/2019_10October_07_Monday.txt\n",
      "../data/publicLifeLogData/lifeLog_bigserver2.onehouronelife.com/2019_10October_08_Tuesday.txt\n",
      "../data/publicLifeLogData/lifeLog_bigserver2.onehouronelife.com/2019_10October_09_Wednesday.txt\n",
      "../data/publicLifeLogData/lifeLog_bigserver2.onehouronelife.com/2019_10October_10_Thursday.txt"
     ]
    },
    {
     "name": "stderr",
     "output_type": "stream",
     "text": [
      "\r",
      " 24%|██▍       | 79/327 [00:03<00:10, 22.91it/s]"
     ]
    },
    {
     "name": "stdout",
     "output_type": "stream",
     "text": [
      "\n",
      "../data/publicLifeLogData/lifeLog_bigserver2.onehouronelife.com/2019_10October_11_Friday.txt\n",
      "../data/publicLifeLogData/lifeLog_bigserver2.onehouronelife.com/2019_10October_12_Saturday.txt\n",
      "../data/publicLifeLogData/lifeLog_bigserver2.onehouronelife.com/2019_10October_13_Sunday.txt\n",
      "../data/publicLifeLogData/lifeLog_bigserver2.onehouronelife.com/2019_10October_14_Monday.txt\n",
      "../data/publicLifeLogData/lifeLog_bigserver2.onehouronelife.com/2019_10October_15_Tuesday.txt\n"
     ]
    },
    {
     "name": "stderr",
     "output_type": "stream",
     "text": [
      " 26%|██▌       | 85/327 [00:03<00:09, 24.66it/s]"
     ]
    },
    {
     "name": "stdout",
     "output_type": "stream",
     "text": [
      "../data/publicLifeLogData/lifeLog_bigserver2.onehouronelife.com/2019_10October_16_Wednesday.txt\n",
      "../data/publicLifeLogData/lifeLog_bigserver2.onehouronelife.com/2019_10October_17_Thursday.txt\n",
      "../data/publicLifeLogData/lifeLog_bigserver2.onehouronelife.com/2019_10October_18_Friday.txt\n",
      "../data/publicLifeLogData/lifeLog_bigserver2.onehouronelife.com/2019_10October_19_Saturday.txt\n",
      "../data/publicLifeLogData/lifeLog_bigserver2.onehouronelife.com/2019_10October_20_Sunday.txt\n",
      "../data/publicLifeLogData/lifeLog_bigserver2.onehouronelife.com/2019_10October_21_Monday.txt\n",
      "../data/publicLifeLogData/lifeLog_bigserver2.onehouronelife.com/2019_10October_22_Tuesday.txt\n"
     ]
    },
    {
     "name": "stderr",
     "output_type": "stream",
     "text": [
      " 28%|██▊       | 93/327 [00:04<00:08, 28.42it/s]"
     ]
    },
    {
     "name": "stdout",
     "output_type": "stream",
     "text": [
      "../data/publicLifeLogData/lifeLog_bigserver2.onehouronelife.com/2019_10October_23_Wednesday.txt\n",
      "../data/publicLifeLogData/lifeLog_bigserver2.onehouronelife.com/2019_10October_24_Thursday.txt\n",
      "../data/publicLifeLogData/lifeLog_bigserver2.onehouronelife.com/2019_10October_25_Friday.txt\n",
      "../data/publicLifeLogData/lifeLog_bigserver2.onehouronelife.com/2019_10October_26_Saturday.txt\n",
      "../data/publicLifeLogData/lifeLog_bigserver2.onehouronelife.com/2019_10October_27_Sunday.txt\n",
      "../data/publicLifeLogData/lifeLog_bigserver2.onehouronelife.com/2019_10October_28_Monday.txt\n",
      "../data/publicLifeLogData/lifeLog_bigserver2.onehouronelife.com/2019_10October_29_Tuesday.txt"
     ]
    },
    {
     "name": "stderr",
     "output_type": "stream",
     "text": [
      " 30%|███       | 99/327 [00:04<00:09, 24.87it/s]"
     ]
    },
    {
     "name": "stdout",
     "output_type": "stream",
     "text": [
      "\n",
      "../data/publicLifeLogData/lifeLog_bigserver2.onehouronelife.com/2019_10October_30_Wednesday.txt\n",
      "../data/publicLifeLogData/lifeLog_bigserver2.onehouronelife.com/2019_10October_31_Thursday.txt\n",
      "../data/publicLifeLogData/lifeLog_bigserver2.onehouronelife.com/2019_11November_01_Friday.txt\n",
      "../data/publicLifeLogData/lifeLog_bigserver2.onehouronelife.com/2019_11November_02_Saturday.txt\n",
      "../data/publicLifeLogData/lifeLog_bigserver2.onehouronelife.com/2019_11November_03_Sunday.txt\n"
     ]
    },
    {
     "name": "stderr",
     "output_type": "stream",
     "text": [
      " 32%|███▏      | 105/327 [00:04<00:09, 23.15it/s]"
     ]
    },
    {
     "name": "stdout",
     "output_type": "stream",
     "text": [
      "../data/publicLifeLogData/lifeLog_bigserver2.onehouronelife.com/2019_11November_04_Monday.txt\n",
      "../data/publicLifeLogData/lifeLog_bigserver2.onehouronelife.com/2019_11November_05_Tuesday.txt\n",
      "../data/publicLifeLogData/lifeLog_bigserver2.onehouronelife.com/2019_11November_06_Wednesday.txt\n",
      "../data/publicLifeLogData/lifeLog_bigserver2.onehouronelife.com/2019_11November_07_Thursday.txt\n",
      "../data/publicLifeLogData/lifeLog_bigserver2.onehouronelife.com/2019_11November_08_Friday.txt\n"
     ]
    },
    {
     "name": "stderr",
     "output_type": "stream",
     "text": [
      " 34%|███▍      | 112/327 [00:04<00:08, 25.26it/s]"
     ]
    },
    {
     "name": "stdout",
     "output_type": "stream",
     "text": [
      "../data/publicLifeLogData/lifeLog_bigserver2.onehouronelife.com/2019_11November_09_Saturday.txt\n",
      "../data/publicLifeLogData/lifeLog_bigserver2.onehouronelife.com/2019_11November_10_Sunday.txt\n",
      "../data/publicLifeLogData/lifeLog_bigserver2.onehouronelife.com/2019_11November_11_Monday.txt\n",
      "../data/publicLifeLogData/lifeLog_bigserver2.onehouronelife.com/2019_11November_12_Tuesday.txt\n",
      "../data/publicLifeLogData/lifeLog_bigserver2.onehouronelife.com/2019_11November_13_Wednesday.txt\n",
      "../data/publicLifeLogData/lifeLog_bigserver2.onehouronelife.com/2019_11November_14_Thursday.txt\n"
     ]
    },
    {
     "name": "stderr",
     "output_type": "stream",
     "text": [
      "\r",
      " 35%|███▌      | 115/327 [00:05<00:08, 25.99it/s]"
     ]
    },
    {
     "name": "stdout",
     "output_type": "stream",
     "text": [
      "../data/publicLifeLogData/lifeLog_bigserver2.onehouronelife.com/2019_11November_15_Friday.txt\n",
      "../data/publicLifeLogData/lifeLog_bigserver2.onehouronelife.com/2019_11November_16_Saturday.txt\n",
      "../data/publicLifeLogData/lifeLog_bigserver2.onehouronelife.com/2019_11November_17_Sunday.txt\n",
      "../data/publicLifeLogData/lifeLog_bigserver2.onehouronelife.com/2019_11November_18_Monday.txt\n",
      "../data/publicLifeLogData/lifeLog_bigserver2.onehouronelife.com/2019_11November_19_Tuesday.txt\n",
      "../data/publicLifeLogData/lifeLog_bigserver2.onehouronelife.com/2019_11November_20_Wednesday.txt\n"
     ]
    },
    {
     "name": "stderr",
     "output_type": "stream",
     "text": [
      " 37%|███▋      | 121/327 [00:05<00:10, 19.47it/s]"
     ]
    },
    {
     "name": "stdout",
     "output_type": "stream",
     "text": [
      "../data/publicLifeLogData/lifeLog_bigserver2.onehouronelife.com/2019_11November_21_Thursday.txt\n",
      "../data/publicLifeLogData/lifeLog_bigserver2.onehouronelife.com/2019_11November_22_Friday.txt\n",
      "../data/publicLifeLogData/lifeLog_bigserver2.onehouronelife.com/2019_11November_23_Saturday.txt\n",
      "../data/publicLifeLogData/lifeLog_bigserver2.onehouronelife.com/2019_11November_24_Sunday.txt\n",
      "../data/publicLifeLogData/lifeLog_bigserver2.onehouronelife.com/2019_11November_25_Monday.txt\n"
     ]
    },
    {
     "name": "stderr",
     "output_type": "stream",
     "text": [
      " 39%|███▉      | 129/327 [00:05<00:08, 24.67it/s]"
     ]
    },
    {
     "name": "stdout",
     "output_type": "stream",
     "text": [
      "../data/publicLifeLogData/lifeLog_bigserver2.onehouronelife.com/2019_11November_26_Tuesday.txt\n",
      "../data/publicLifeLogData/lifeLog_bigserver2.onehouronelife.com/2019_11November_27_Wednesday.txt\n",
      "../data/publicLifeLogData/lifeLog_bigserver2.onehouronelife.com/2019_11November_28_Thursday.txt\n",
      "../data/publicLifeLogData/lifeLog_bigserver2.onehouronelife.com/2019_11November_29_Friday.txt\n",
      "../data/publicLifeLogData/lifeLog_bigserver2.onehouronelife.com/2019_11November_30_Saturday.txt\n",
      "../data/publicLifeLogData/lifeLog_bigserver2.onehouronelife.com/2019_12December_01_Sunday.txt\n",
      "../data/publicLifeLogData/lifeLog_bigserver2.onehouronelife.com/2019_12December_02_Monday.txt\n",
      "../data/publicLifeLogData/lifeLog_bigserver2.onehouronelife.com/2019_12December_03_Tuesday.txt\n"
     ]
    },
    {
     "name": "stderr",
     "output_type": "stream",
     "text": [
      " 42%|████▏     | 138/327 [00:05<00:06, 29.33it/s]"
     ]
    },
    {
     "name": "stdout",
     "output_type": "stream",
     "text": [
      "../data/publicLifeLogData/lifeLog_bigserver2.onehouronelife.com/2019_12December_04_Wednesday.txt\n",
      "../data/publicLifeLogData/lifeLog_bigserver2.onehouronelife.com/2019_12December_05_Thursday.txt\n",
      "../data/publicLifeLogData/lifeLog_bigserver2.onehouronelife.com/2019_12December_06_Friday.txt\n",
      "../data/publicLifeLogData/lifeLog_bigserver2.onehouronelife.com/2019_12December_07_Saturday.txt\n",
      "../data/publicLifeLogData/lifeLog_bigserver2.onehouronelife.com/2019_12December_08_Sunday.txt\n",
      "../data/publicLifeLogData/lifeLog_bigserver2.onehouronelife.com/2019_12December_09_Monday.txt\n",
      "../data/publicLifeLogData/lifeLog_bigserver2.onehouronelife.com/2019_12December_10_Tuesday.txt\n"
     ]
    },
    {
     "name": "stderr",
     "output_type": "stream",
     "text": [
      "\r",
      " 43%|████▎     | 142/327 [00:06<00:06, 30.21it/s]"
     ]
    },
    {
     "name": "stdout",
     "output_type": "stream",
     "text": [
      "../data/publicLifeLogData/lifeLog_bigserver2.onehouronelife.com/2019_12December_11_Wednesday.txt\n",
      "../data/publicLifeLogData/lifeLog_bigserver2.onehouronelife.com/2019_12December_12_Thursday.txt\n",
      "../data/publicLifeLogData/lifeLog_bigserver2.onehouronelife.com/2019_12December_13_Friday.txt\n",
      "../data/publicLifeLogData/lifeLog_bigserver2.onehouronelife.com/2019_12December_14_Saturday.txt\n",
      "../data/publicLifeLogData/lifeLog_bigserver2.onehouronelife.com/2019_12December_15_Sunday.txt\n",
      "../data/publicLifeLogData/lifeLog_bigserver2.onehouronelife.com/2019_12December_16_Monday.txt\n",
      "../data/publicLifeLogData/lifeLog_bigserver2.onehouronelife.com/2019_12December_17_Tuesday.txt\n",
      "../data/publicLifeLogData/lifeLog_bigserver2.onehouronelife.com/2019_12December_18_Wednesday.txt\n"
     ]
    },
    {
     "name": "stderr",
     "output_type": "stream",
     "text": [
      " 46%|████▌     | 150/327 [00:06<00:06, 28.70it/s]"
     ]
    },
    {
     "name": "stdout",
     "output_type": "stream",
     "text": [
      "../data/publicLifeLogData/lifeLog_bigserver2.onehouronelife.com/2019_12December_19_Thursday.txt\n",
      "../data/publicLifeLogData/lifeLog_bigserver2.onehouronelife.com/2019_12December_20_Friday.txt\n",
      "../data/publicLifeLogData/lifeLog_bigserver2.onehouronelife.com/2019_12December_21_Saturday.txt\n",
      "../data/publicLifeLogData/lifeLog_bigserver2.onehouronelife.com/2019_12December_22_Sunday.txt\n",
      "../data/publicLifeLogData/lifeLog_bigserver2.onehouronelife.com/2019_12December_23_Monday.txt\n",
      "../data/publicLifeLogData/lifeLog_bigserver2.onehouronelife.com/2019_12December_24_Tuesday.txt\n",
      "../data/publicLifeLogData/lifeLog_bigserver2.onehouronelife.com/2019_12December_25_Wednesday.txt\n"
     ]
    },
    {
     "name": "stderr",
     "output_type": "stream",
     "text": [
      " 48%|████▊     | 157/327 [00:06<00:06, 27.67it/s]"
     ]
    },
    {
     "name": "stdout",
     "output_type": "stream",
     "text": [
      "../data/publicLifeLogData/lifeLog_bigserver2.onehouronelife.com/2019_12December_26_Thursday.txt\n",
      "../data/publicLifeLogData/lifeLog_bigserver2.onehouronelife.com/2019_12December_27_Friday.txt\n",
      "../data/publicLifeLogData/lifeLog_bigserver2.onehouronelife.com/2019_12December_28_Saturday.txt\n",
      "../data/publicLifeLogData/lifeLog_bigserver2.onehouronelife.com/2019_12December_29_Sunday.txt\n",
      "../data/publicLifeLogData/lifeLog_bigserver2.onehouronelife.com/2019_12December_30_Monday.txt\n"
     ]
    },
    {
     "name": "stderr",
     "output_type": "stream",
     "text": [
      "\r",
      " 49%|████▉     | 160/327 [00:06<00:06, 25.37it/s]"
     ]
    },
    {
     "name": "stdout",
     "output_type": "stream",
     "text": [
      "../data/publicLifeLogData/lifeLog_bigserver2.onehouronelife.com/2019_12December_31_Tuesday.txt\n",
      "../data/publicLifeLogData/lifeLog_bigserver2.onehouronelife.com/2020_01January_01_Wednesday.txt\n",
      "../data/publicLifeLogData/lifeLog_bigserver2.onehouronelife.com/2020_01January_02_Thursday.txt\n",
      "../data/publicLifeLogData/lifeLog_bigserver2.onehouronelife.com/2020_01January_03_Friday.txt\n",
      "../data/publicLifeLogData/lifeLog_bigserver2.onehouronelife.com/2020_01January_04_Saturday.txt\n"
     ]
    },
    {
     "name": "stderr",
     "output_type": "stream",
     "text": [
      " 51%|█████     | 166/327 [00:07<00:07, 21.40it/s]"
     ]
    },
    {
     "name": "stdout",
     "output_type": "stream",
     "text": [
      "../data/publicLifeLogData/lifeLog_bigserver2.onehouronelife.com/2020_01January_05_Sunday.txt\n",
      "../data/publicLifeLogData/lifeLog_bigserver2.onehouronelife.com/2020_01January_06_Monday.txt\n",
      "../data/publicLifeLogData/lifeLog_bigserver2.onehouronelife.com/2020_01January_07_Tuesday.txt\n",
      "../data/publicLifeLogData/lifeLog_bigserver2.onehouronelife.com/2020_01January_08_Wednesday.txt\n"
     ]
    },
    {
     "name": "stderr",
     "output_type": "stream",
     "text": [
      "\r",
      " 52%|█████▏    | 169/327 [00:07<00:07, 21.71it/s]"
     ]
    },
    {
     "name": "stdout",
     "output_type": "stream",
     "text": [
      "../data/publicLifeLogData/lifeLog_bigserver2.onehouronelife.com/2020_01January_09_Thursday.txt\n",
      "../data/publicLifeLogData/lifeLog_bigserver2.onehouronelife.com/2020_01January_10_Friday.txt\n",
      "../data/publicLifeLogData/lifeLog_bigserver2.onehouronelife.com/2020_01January_11_Saturday.txt\n",
      "../data/publicLifeLogData/lifeLog_bigserver2.onehouronelife.com/2020_01January_12_Sunday.txt\n",
      "../data/publicLifeLogData/lifeLog_bigserver2.onehouronelife.com/2020_01January_13_Monday.txt"
     ]
    },
    {
     "name": "stderr",
     "output_type": "stream",
     "text": [
      " 54%|█████▎    | 175/327 [00:07<00:06, 22.57it/s]"
     ]
    },
    {
     "name": "stdout",
     "output_type": "stream",
     "text": [
      "\n",
      "../data/publicLifeLogData/lifeLog_bigserver2.onehouronelife.com/2020_01January_14_Tuesday.txt\n",
      "../data/publicLifeLogData/lifeLog_bigserver2.onehouronelife.com/2020_01January_15_Wednesday.txt\n",
      "../data/publicLifeLogData/lifeLog_bigserver2.onehouronelife.com/2020_01January_16_Thursday.txt\n",
      "../data/publicLifeLogData/lifeLog_bigserver2.onehouronelife.com/2020_01January_17_Friday.txt\n",
      "../data/publicLifeLogData/lifeLog_bigserver2.onehouronelife.com/2020_01January_18_Saturday.txt\n",
      "../data/publicLifeLogData/lifeLog_bigserver2.onehouronelife.com/2020_01January_19_Sunday.txt\n"
     ]
    },
    {
     "name": "stderr",
     "output_type": "stream",
     "text": [
      " 56%|█████▌    | 182/327 [00:07<00:05, 25.88it/s]"
     ]
    },
    {
     "name": "stdout",
     "output_type": "stream",
     "text": [
      "../data/publicLifeLogData/lifeLog_bigserver2.onehouronelife.com/2020_01January_20_Monday.txt\n",
      "../data/publicLifeLogData/lifeLog_bigserver2.onehouronelife.com/2020_01January_21_Tuesday.txt\n",
      "../data/publicLifeLogData/lifeLog_bigserver2.onehouronelife.com/2020_01January_22_Wednesday.txt\n",
      "../data/publicLifeLogData/lifeLog_bigserver2.onehouronelife.com/2020_01January_23_Thursday.txt\n",
      "../data/publicLifeLogData/lifeLog_bigserver2.onehouronelife.com/2020_01January_24_Friday.txt\n",
      "../data/publicLifeLogData/lifeLog_bigserver2.onehouronelife.com/2020_01January_25_Saturday.txt\n",
      "../data/publicLifeLogData/lifeLog_bigserver2.onehouronelife.com/2020_01January_26_Sunday.txt\n"
     ]
    },
    {
     "name": "stderr",
     "output_type": "stream",
     "text": [
      " 58%|█████▊    | 190/327 [00:07<00:04, 30.13it/s]"
     ]
    },
    {
     "name": "stdout",
     "output_type": "stream",
     "text": [
      "../data/publicLifeLogData/lifeLog_bigserver2.onehouronelife.com/2020_01January_27_Monday.txt\n",
      "../data/publicLifeLogData/lifeLog_bigserver2.onehouronelife.com/2020_01January_28_Tuesday.txt\n",
      "../data/publicLifeLogData/lifeLog_bigserver2.onehouronelife.com/2020_01January_29_Wednesday.txt\n",
      "../data/publicLifeLogData/lifeLog_bigserver2.onehouronelife.com/2020_01January_30_Thursday.txt\n",
      "../data/publicLifeLogData/lifeLog_bigserver2.onehouronelife.com/2020_01January_31_Friday.txt\n",
      "../data/publicLifeLogData/lifeLog_bigserver2.onehouronelife.com/2020_02February_01_Saturday.txt\n",
      "../data/publicLifeLogData/lifeLog_bigserver2.onehouronelife.com/2020_02February_02_Sunday.txt\n",
      "../data/publicLifeLogData/lifeLog_bigserver2.onehouronelife.com/2020_02February_03_Monday.txt\n"
     ]
    },
    {
     "name": "stderr",
     "output_type": "stream",
     "text": [
      " 61%|██████    | 198/327 [00:08<00:03, 33.75it/s]"
     ]
    },
    {
     "name": "stdout",
     "output_type": "stream",
     "text": [
      "../data/publicLifeLogData/lifeLog_bigserver2.onehouronelife.com/2020_02February_04_Tuesday.txt\n",
      "../data/publicLifeLogData/lifeLog_bigserver2.onehouronelife.com/2020_02February_05_Wednesday.txt\n",
      "../data/publicLifeLogData/lifeLog_bigserver2.onehouronelife.com/2020_02February_06_Thursday.txt\n",
      "../data/publicLifeLogData/lifeLog_bigserver2.onehouronelife.com/2020_02February_07_Friday.txt\n",
      "../data/publicLifeLogData/lifeLog_bigserver2.onehouronelife.com/2020_02February_08_Saturday.txt\n",
      "../data/publicLifeLogData/lifeLog_bigserver2.onehouronelife.com/2020_02February_09_Sunday.txt\n",
      "../data/publicLifeLogData/lifeLog_bigserver2.onehouronelife.com/2020_02February_10_Monday.txt\n",
      "../data/publicLifeLogData/lifeLog_bigserver2.onehouronelife.com/2020_02February_11_Tuesday.txt\n"
     ]
    },
    {
     "name": "stderr",
     "output_type": "stream",
     "text": [
      " 63%|██████▎   | 206/327 [00:08<00:03, 34.87it/s]"
     ]
    },
    {
     "name": "stdout",
     "output_type": "stream",
     "text": [
      "../data/publicLifeLogData/lifeLog_bigserver2.onehouronelife.com/2020_02February_12_Wednesday.txt\n",
      "../data/publicLifeLogData/lifeLog_bigserver2.onehouronelife.com/2020_02February_13_Thursday.txt\n",
      "../data/publicLifeLogData/lifeLog_bigserver2.onehouronelife.com/2020_02February_14_Friday.txt\n",
      "../data/publicLifeLogData/lifeLog_bigserver2.onehouronelife.com/2020_02February_15_Saturday.txt\n",
      "../data/publicLifeLogData/lifeLog_bigserver2.onehouronelife.com/2020_02February_16_Sunday.txt\n",
      "../data/publicLifeLogData/lifeLog_bigserver2.onehouronelife.com/2020_02February_17_Monday.txt\n",
      "../data/publicLifeLogData/lifeLog_bigserver2.onehouronelife.com/2020_02February_18_Tuesday.txt\n",
      "../data/publicLifeLogData/lifeLog_bigserver2.onehouronelife.com/2020_02February_19_Wednesday.txt\n"
     ]
    },
    {
     "name": "stderr",
     "output_type": "stream",
     "text": [
      " 65%|██████▌   | 214/327 [00:08<00:03, 35.92it/s]"
     ]
    },
    {
     "name": "stdout",
     "output_type": "stream",
     "text": [
      "../data/publicLifeLogData/lifeLog_bigserver2.onehouronelife.com/2020_02February_20_Thursday.txt\n",
      "../data/publicLifeLogData/lifeLog_bigserver2.onehouronelife.com/2020_02February_21_Friday.txt\n",
      "../data/publicLifeLogData/lifeLog_bigserver2.onehouronelife.com/2020_02February_22_Saturday.txt\n",
      "../data/publicLifeLogData/lifeLog_bigserver2.onehouronelife.com/2020_02February_23_Sunday.txt\n",
      "../data/publicLifeLogData/lifeLog_bigserver2.onehouronelife.com/2020_02February_24_Monday.txt\n",
      "../data/publicLifeLogData/lifeLog_bigserver2.onehouronelife.com/2020_02February_25_Tuesday.txt\n",
      "../data/publicLifeLogData/lifeLog_bigserver2.onehouronelife.com/2020_02February_26_Wednesday.txt\n",
      "../data/publicLifeLogData/lifeLog_bigserver2.onehouronelife.com/2020_02February_27_Thursday.txt\n"
     ]
    },
    {
     "name": "stderr",
     "output_type": "stream",
     "text": [
      " 68%|██████▊   | 223/327 [00:09<00:04, 22.64it/s]"
     ]
    },
    {
     "name": "stdout",
     "output_type": "stream",
     "text": [
      "../data/publicLifeLogData/lifeLog_bigserver2.onehouronelife.com/2020_02February_28_Friday.txt\n",
      "../data/publicLifeLogData/lifeLog_bigserver2.onehouronelife.com/2020_02February_29_Saturday.txt\n",
      "../data/publicLifeLogData/lifeLog_bigserver2.onehouronelife.com/2020_03March_01_Sunday.txt\n",
      "../data/publicLifeLogData/lifeLog_bigserver2.onehouronelife.com/2020_03March_02_Monday.txt\n",
      "../data/publicLifeLogData/lifeLog_bigserver2.onehouronelife.com/2020_03March_03_Tuesday.txt\n",
      "../data/publicLifeLogData/lifeLog_bigserver2.onehouronelife.com/2020_03March_04_Wednesday.txt\n",
      "../data/publicLifeLogData/lifeLog_bigserver2.onehouronelife.com/2020_03March_05_Thursday.txt\n",
      "../data/publicLifeLogData/lifeLog_bigserver2.onehouronelife.com/2020_03March_06_Friday.txt\n",
      "../data/publicLifeLogData/lifeLog_bigserver2.onehouronelife.com/2020_03March_07_Saturday.txt\n",
      "../data/publicLifeLogData/lifeLog_bigserver2.onehouronelife.com/2020_03March_08_Sunday.txt\n"
     ]
    },
    {
     "name": "stderr",
     "output_type": "stream",
     "text": [
      " 71%|███████▏  | 233/327 [00:09<00:03, 30.68it/s]"
     ]
    },
    {
     "name": "stdout",
     "output_type": "stream",
     "text": [
      "../data/publicLifeLogData/lifeLog_bigserver2.onehouronelife.com/2020_03March_09_Monday.txt\n",
      "../data/publicLifeLogData/lifeLog_bigserver2.onehouronelife.com/2020_03March_10_Tuesday.txt\n",
      "../data/publicLifeLogData/lifeLog_bigserver2.onehouronelife.com/2020_03March_11_Wednesday.txt\n",
      "../data/publicLifeLogData/lifeLog_bigserver2.onehouronelife.com/2020_03March_12_Thursday.txt\n",
      "../data/publicLifeLogData/lifeLog_bigserver2.onehouronelife.com/2020_03March_13_Friday.txt\n",
      "../data/publicLifeLogData/lifeLog_bigserver2.onehouronelife.com/2020_03March_14_Saturday.txt\n",
      "../data/publicLifeLogData/lifeLog_bigserver2.onehouronelife.com/2020_03March_15_Sunday.txt\n",
      "../data/publicLifeLogData/lifeLog_bigserver2.onehouronelife.com/2020_03March_16_Monday.txt\n",
      "../data/publicLifeLogData/lifeLog_bigserver2.onehouronelife.com/2020_03March_17_Tuesday.txt\n",
      "../data/publicLifeLogData/lifeLog_bigserver2.onehouronelife.com/2020_03March_18_Wednesday.txt\n"
     ]
    },
    {
     "name": "stderr",
     "output_type": "stream",
     "text": [
      " 74%|███████▍  | 243/327 [00:09<00:02, 34.70it/s]"
     ]
    },
    {
     "name": "stdout",
     "output_type": "stream",
     "text": [
      "../data/publicLifeLogData/lifeLog_bigserver2.onehouronelife.com/2020_03March_19_Thursday.txt\n",
      "../data/publicLifeLogData/lifeLog_bigserver2.onehouronelife.com/2020_03March_20_Friday.txt\n",
      "../data/publicLifeLogData/lifeLog_bigserver2.onehouronelife.com/2020_03March_21_Saturday.txt\n",
      "../data/publicLifeLogData/lifeLog_bigserver2.onehouronelife.com/2020_03March_22_Sunday.txt\n",
      "../data/publicLifeLogData/lifeLog_bigserver2.onehouronelife.com/2020_03March_23_Monday.txt\n",
      "../data/publicLifeLogData/lifeLog_bigserver2.onehouronelife.com/2020_03March_24_Tuesday.txt\n",
      "../data/publicLifeLogData/lifeLog_bigserver2.onehouronelife.com/2020_03March_25_Wednesday.txt\n",
      "../data/publicLifeLogData/lifeLog_bigserver2.onehouronelife.com/2020_03March_26_Thursday.txt\n",
      "../data/publicLifeLogData/lifeLog_bigserver2.onehouronelife.com/2020_03March_27_Friday.txt\n"
     ]
    },
    {
     "name": "stderr",
     "output_type": "stream",
     "text": [
      " 77%|███████▋  | 251/327 [00:09<00:02, 34.84it/s]"
     ]
    },
    {
     "name": "stdout",
     "output_type": "stream",
     "text": [
      "../data/publicLifeLogData/lifeLog_bigserver2.onehouronelife.com/2020_03March_28_Saturday.txt\n",
      "../data/publicLifeLogData/lifeLog_bigserver2.onehouronelife.com/2020_03March_29_Sunday.txt\n",
      "../data/publicLifeLogData/lifeLog_bigserver2.onehouronelife.com/2020_03March_30_Monday.txt\n",
      "../data/publicLifeLogData/lifeLog_bigserver2.onehouronelife.com/2020_03March_31_Tuesday.txt\n",
      "../data/publicLifeLogData/lifeLog_bigserver2.onehouronelife.com/2020_04April_01_Wednesday.txt\n",
      "../data/publicLifeLogData/lifeLog_bigserver2.onehouronelife.com/2020_04April_02_Thursday.txt\n",
      "../data/publicLifeLogData/lifeLog_bigserver2.onehouronelife.com/2020_04April_03_Friday.txt\n",
      "../data/publicLifeLogData/lifeLog_bigserver2.onehouronelife.com/2020_04April_04_Saturday.txt"
     ]
    },
    {
     "name": "stderr",
     "output_type": "stream",
     "text": [
      " 79%|███████▉  | 259/327 [00:10<00:01, 35.68it/s]"
     ]
    },
    {
     "name": "stdout",
     "output_type": "stream",
     "text": [
      "\n",
      "../data/publicLifeLogData/lifeLog_bigserver2.onehouronelife.com/2020_04April_05_Sunday.txt\n",
      "../data/publicLifeLogData/lifeLog_bigserver2.onehouronelife.com/2020_04April_06_Monday.txt\n",
      "../data/publicLifeLogData/lifeLog_bigserver2.onehouronelife.com/2020_04April_07_Tuesday.txt\n",
      "../data/publicLifeLogData/lifeLog_bigserver2.onehouronelife.com/2020_04April_08_Wednesday.txt\n",
      "../data/publicLifeLogData/lifeLog_bigserver2.onehouronelife.com/2020_04April_09_Thursday.txt\n",
      "../data/publicLifeLogData/lifeLog_bigserver2.onehouronelife.com/2020_04April_10_Friday.txt\n",
      "../data/publicLifeLogData/lifeLog_bigserver2.onehouronelife.com/2020_04April_11_Saturday.txt\n",
      "../data/publicLifeLogData/lifeLog_bigserver2.onehouronelife.com/2020_04April_12_Sunday.txt\n"
     ]
    },
    {
     "name": "stderr",
     "output_type": "stream",
     "text": [
      " 82%|████████▏ | 268/327 [00:10<00:01, 34.07it/s]"
     ]
    },
    {
     "name": "stdout",
     "output_type": "stream",
     "text": [
      "../data/publicLifeLogData/lifeLog_bigserver2.onehouronelife.com/2020_04April_13_Monday.txt\n",
      "../data/publicLifeLogData/lifeLog_bigserver2.onehouronelife.com/2020_04April_14_Tuesday.txt\n",
      "../data/publicLifeLogData/lifeLog_bigserver2.onehouronelife.com/2020_04April_15_Wednesday.txt\n",
      "../data/publicLifeLogData/lifeLog_bigserver2.onehouronelife.com/2020_04April_16_Thursday.txt\n",
      "../data/publicLifeLogData/lifeLog_bigserver2.onehouronelife.com/2020_04April_17_Friday.txt\n",
      "../data/publicLifeLogData/lifeLog_bigserver2.onehouronelife.com/2020_04April_18_Saturday.txt\n",
      "../data/publicLifeLogData/lifeLog_bigserver2.onehouronelife.com/2020_04April_19_Sunday.txt\n"
     ]
    },
    {
     "name": "stderr",
     "output_type": "stream",
     "text": [
      "\r",
      " 83%|████████▎ | 272/327 [00:10<00:01, 30.19it/s]"
     ]
    },
    {
     "name": "stdout",
     "output_type": "stream",
     "text": [
      "../data/publicLifeLogData/lifeLog_bigserver2.onehouronelife.com/2020_04April_20_Monday.txt\n",
      "../data/publicLifeLogData/lifeLog_bigserver2.onehouronelife.com/2020_04April_21_Tuesday.txt\n",
      "../data/publicLifeLogData/lifeLog_bigserver2.onehouronelife.com/2020_04April_22_Wednesday.txt\n",
      "../data/publicLifeLogData/lifeLog_bigserver2.onehouronelife.com/2020_04April_23_Thursday.txt\n",
      "../data/publicLifeLogData/lifeLog_bigserver2.onehouronelife.com/2020_04April_24_Friday.txt\n",
      "../data/publicLifeLogData/lifeLog_bigserver2.onehouronelife.com/2020_04April_25_Saturday.txt\n",
      "../data/publicLifeLogData/lifeLog_bigserver2.onehouronelife.com/2020_04April_26_Sunday.txt\n"
     ]
    },
    {
     "name": "stderr",
     "output_type": "stream",
     "text": [
      " 86%|████████▌ | 280/327 [00:10<00:01, 33.74it/s]"
     ]
    },
    {
     "name": "stdout",
     "output_type": "stream",
     "text": [
      "../data/publicLifeLogData/lifeLog_bigserver2.onehouronelife.com/2020_04April_27_Monday.txt\n",
      "../data/publicLifeLogData/lifeLog_bigserver2.onehouronelife.com/2020_04April_28_Tuesday.txt\n",
      "../data/publicLifeLogData/lifeLog_bigserver2.onehouronelife.com/2020_04April_29_Wednesday.txt\n",
      "../data/publicLifeLogData/lifeLog_bigserver2.onehouronelife.com/2020_04April_30_Thursday.txt\n",
      "../data/publicLifeLogData/lifeLog_bigserver2.onehouronelife.com/2020_05May_01_Friday.txt\n",
      "../data/publicLifeLogData/lifeLog_bigserver2.onehouronelife.com/2020_05May_02_Saturday.txt\n",
      "../data/publicLifeLogData/lifeLog_bigserver2.onehouronelife.com/2020_05May_03_Sunday.txt\n",
      "../data/publicLifeLogData/lifeLog_bigserver2.onehouronelife.com/2020_05May_04_Monday.txt\n"
     ]
    },
    {
     "name": "stderr",
     "output_type": "stream",
     "text": [
      " 88%|████████▊ | 288/327 [00:10<00:01, 35.84it/s]"
     ]
    },
    {
     "name": "stdout",
     "output_type": "stream",
     "text": [
      "../data/publicLifeLogData/lifeLog_bigserver2.onehouronelife.com/2020_05May_05_Tuesday.txt\n",
      "../data/publicLifeLogData/lifeLog_bigserver2.onehouronelife.com/2020_05May_06_Wednesday.txt\n",
      "../data/publicLifeLogData/lifeLog_bigserver2.onehouronelife.com/2020_05May_07_Thursday.txt\n",
      "../data/publicLifeLogData/lifeLog_bigserver2.onehouronelife.com/2020_05May_08_Friday.txt\n",
      "../data/publicLifeLogData/lifeLog_bigserver2.onehouronelife.com/2020_05May_09_Saturday.txt\n",
      "../data/publicLifeLogData/lifeLog_bigserver2.onehouronelife.com/2020_05May_10_Sunday.txt\n",
      "../data/publicLifeLogData/lifeLog_bigserver2.onehouronelife.com/2020_05May_11_Monday.txt\n",
      "../data/publicLifeLogData/lifeLog_bigserver2.onehouronelife.com/2020_05May_12_Tuesday.txt\n",
      "../data/publicLifeLogData/lifeLog_bigserver2.onehouronelife.com/2020_05May_13_Wednesday.txt\n"
     ]
    },
    {
     "name": "stderr",
     "output_type": "stream",
     "text": [
      " 91%|█████████ | 297/327 [00:11<00:00, 37.57it/s]"
     ]
    },
    {
     "name": "stdout",
     "output_type": "stream",
     "text": [
      "../data/publicLifeLogData/lifeLog_bigserver2.onehouronelife.com/2020_05May_14_Thursday.txt\n",
      "../data/publicLifeLogData/lifeLog_bigserver2.onehouronelife.com/2020_05May_15_Friday.txt\n",
      "../data/publicLifeLogData/lifeLog_bigserver2.onehouronelife.com/2020_05May_16_Saturday.txt\n",
      "../data/publicLifeLogData/lifeLog_bigserver2.onehouronelife.com/2020_05May_17_Sunday.txt\n",
      "../data/publicLifeLogData/lifeLog_bigserver2.onehouronelife.com/2020_05May_18_Monday.txt\n",
      "../data/publicLifeLogData/lifeLog_bigserver2.onehouronelife.com/2020_05May_19_Tuesday.txt\n",
      "../data/publicLifeLogData/lifeLog_bigserver2.onehouronelife.com/2020_05May_20_Wednesday.txt\n",
      "../data/publicLifeLogData/lifeLog_bigserver2.onehouronelife.com/2020_05May_21_Thursday.txt\n",
      "../data/publicLifeLogData/lifeLog_bigserver2.onehouronelife.com/2020_05May_22_Friday.txt\n",
      "../data/publicLifeLogData/lifeLog_bigserver2.onehouronelife.com/2020_05May_23_Saturday.txt\n"
     ]
    },
    {
     "name": "stderr",
     "output_type": "stream",
     "text": [
      " 94%|█████████▍| 308/327 [00:11<00:00, 41.12it/s]"
     ]
    },
    {
     "name": "stdout",
     "output_type": "stream",
     "text": [
      "../data/publicLifeLogData/lifeLog_bigserver2.onehouronelife.com/2020_05May_24_Sunday.txt\n",
      "../data/publicLifeLogData/lifeLog_bigserver2.onehouronelife.com/2020_05May_25_Monday.txt\n",
      "../data/publicLifeLogData/lifeLog_bigserver2.onehouronelife.com/2020_05May_26_Tuesday.txt\n",
      "../data/publicLifeLogData/lifeLog_bigserver2.onehouronelife.com/2020_05May_27_Wednesday.txt\n",
      "../data/publicLifeLogData/lifeLog_bigserver2.onehouronelife.com/2020_05May_28_Thursday.txt\n",
      "../data/publicLifeLogData/lifeLog_bigserver2.onehouronelife.com/2020_05May_29_Friday.txt\n",
      "../data/publicLifeLogData/lifeLog_bigserver2.onehouronelife.com/2020_05May_30_Saturday.txt\n",
      "../data/publicLifeLogData/lifeLog_bigserver2.onehouronelife.com/2020_05May_31_Sunday.txt\n",
      "../data/publicLifeLogData/lifeLog_bigserver2.onehouronelife.com/2020_06June_01_Monday.txt\n"
     ]
    },
    {
     "name": "stderr",
     "output_type": "stream",
     "text": [
      " 97%|█████████▋| 318/327 [00:11<00:00, 40.76it/s]"
     ]
    },
    {
     "name": "stdout",
     "output_type": "stream",
     "text": [
      "../data/publicLifeLogData/lifeLog_bigserver2.onehouronelife.com/2020_06June_02_Tuesday.txt\n",
      "../data/publicLifeLogData/lifeLog_bigserver2.onehouronelife.com/2020_06June_03_Wednesday.txt\n",
      "../data/publicLifeLogData/lifeLog_bigserver2.onehouronelife.com/2020_06June_04_Thursday.txt\n",
      "../data/publicLifeLogData/lifeLog_bigserver2.onehouronelife.com/2020_06June_05_Friday.txt\n",
      "../data/publicLifeLogData/lifeLog_bigserver2.onehouronelife.com/2020_06June_06_Saturday.txt\n",
      "../data/publicLifeLogData/lifeLog_bigserver2.onehouronelife.com/2020_06June_07_Sunday.txt\n",
      "../data/publicLifeLogData/lifeLog_bigserver2.onehouronelife.com/2020_06June_08_Monday.txt\n",
      "../data/publicLifeLogData/lifeLog_bigserver2.onehouronelife.com/2020_06June_09_Tuesday.txt\n"
     ]
    },
    {
     "name": "stderr",
     "output_type": "stream",
     "text": [
      "\r",
      " 99%|█████████▉| 323/327 [00:11<00:00, 37.16it/s]"
     ]
    },
    {
     "name": "stdout",
     "output_type": "stream",
     "text": [
      "../data/publicLifeLogData/lifeLog_bigserver2.onehouronelife.com/2020_06June_10_Wednesday.txt\n",
      "../data/publicLifeLogData/lifeLog_bigserver2.onehouronelife.com/2020_06June_11_Thursday.txt\n",
      "../data/publicLifeLogData/lifeLog_bigserver2.onehouronelife.com/2020_06June_12_Friday.txt\n",
      "../data/publicLifeLogData/lifeLog_bigserver2.onehouronelife.com/2020_06June_13_Saturday.txt\n",
      "../data/publicLifeLogData/lifeLog_bigserver2.onehouronelife.com/2020_06June_14_Sunday.txt\n",
      "../data/publicLifeLogData/lifeLog_bigserver2.onehouronelife.com/2020_06June_15_Monday.txt\n",
      "../data/publicLifeLogData/lifeLog_bigserver2.onehouronelife.com/2020_06June_16_Tuesday.txt\n"
     ]
    },
    {
     "name": "stderr",
     "output_type": "stream",
     "text": [
      "100%|██████████| 327/327 [00:11<00:00, 27.48it/s]\n"
     ]
    }
   ],
   "source": [
    "data_list = []\n",
    "empty_files = []\n",
    "for i in tqdm(range(len(data_files))):\n",
    "    f = data_files[i]\n",
    "    print(f)\n",
    "# for f in data_files:\n",
    "    try:\n",
    "        tmp_server = str_extract('(?<=lifeLog_)[a-zA-Z0-9]+', f)\n",
    "        tmp_ver = find_version(f)\n",
    "        \n",
    "        tmp_d = pd.read_csv(f, sep =' ', header=None)\n",
    "        tmp_d.insert(0, 'server', tmp_server)\n",
    "        tmp_d.insert(0, 'release', tmp_ver)\n",
    "        data_list.append(tmp_d)\n",
    "\n",
    "    except:\n",
    "        empty_files.append(f)"
   ]
  },
  {
   "cell_type": "code",
   "execution_count": 18,
   "metadata": {},
   "outputs": [
    {
     "data": {
      "text/html": [
       "<div>\n",
       "<style scoped>\n",
       "    .dataframe tbody tr th:only-of-type {\n",
       "        vertical-align: middle;\n",
       "    }\n",
       "\n",
       "    .dataframe tbody tr th {\n",
       "        vertical-align: top;\n",
       "    }\n",
       "\n",
       "    .dataframe thead th {\n",
       "        text-align: right;\n",
       "    }\n",
       "</style>\n",
       "<table border=\"1\" class=\"dataframe\">\n",
       "  <thead>\n",
       "    <tr style=\"text-align: right;\">\n",
       "      <th></th>\n",
       "      <th>release</th>\n",
       "      <th>server</th>\n",
       "      <th>event</th>\n",
       "      <th>timestamp</th>\n",
       "      <th>playerID</th>\n",
       "      <th>uniqueID</th>\n",
       "      <th>param1</th>\n",
       "      <th>param2</th>\n",
       "      <th>param3</th>\n",
       "      <th>param4</th>\n",
       "      <th>param5</th>\n",
       "    </tr>\n",
       "  </thead>\n",
       "  <tbody>\n",
       "    <tr>\n",
       "      <th>0</th>\n",
       "      <td>251</td>\n",
       "      <td>bigserver2</td>\n",
       "      <td>D</td>\n",
       "      <td>1564099205</td>\n",
       "      <td>1806575</td>\n",
       "      <td>91f6003fa6a03933f72b1f95a7002f1f07928deb</td>\n",
       "      <td>age=33.40</td>\n",
       "      <td>M</td>\n",
       "      <td>(277,-2434)</td>\n",
       "      <td>hunger</td>\n",
       "      <td>pop=67</td>\n",
       "    </tr>\n",
       "    <tr>\n",
       "      <th>1</th>\n",
       "      <td>251</td>\n",
       "      <td>bigserver2</td>\n",
       "      <td>D</td>\n",
       "      <td>1564099220</td>\n",
       "      <td>1806488</td>\n",
       "      <td>1a7f24be09f45519e96d4f017b36ad38eb5e329d</td>\n",
       "      <td>age=60.00</td>\n",
       "      <td>M</td>\n",
       "      <td>(-2516,-1279)</td>\n",
       "      <td>oldAge</td>\n",
       "      <td>pop=66</td>\n",
       "    </tr>\n",
       "    <tr>\n",
       "      <th>2</th>\n",
       "      <td>251</td>\n",
       "      <td>bigserver2</td>\n",
       "      <td>D</td>\n",
       "      <td>1564099234</td>\n",
       "      <td>1806629</td>\n",
       "      <td>3dc579b91219e519dfee2f9d7a24aec8e9a83b03</td>\n",
       "      <td>age=19.04</td>\n",
       "      <td>F</td>\n",
       "      <td>(-1919,-2078)</td>\n",
       "      <td>hunger</td>\n",
       "      <td>pop=65</td>\n",
       "    </tr>\n",
       "    <tr>\n",
       "      <th>3</th>\n",
       "      <td>251</td>\n",
       "      <td>bigserver2</td>\n",
       "      <td>D</td>\n",
       "      <td>1564099254</td>\n",
       "      <td>1806530</td>\n",
       "      <td>780359de9275c29b15b65d3cdba5b22bf90169c5</td>\n",
       "      <td>age=47.75</td>\n",
       "      <td>F</td>\n",
       "      <td>(-2525,-1276)</td>\n",
       "      <td>hunger</td>\n",
       "      <td>pop=64</td>\n",
       "    </tr>\n",
       "    <tr>\n",
       "      <th>4</th>\n",
       "      <td>251</td>\n",
       "      <td>bigserver2</td>\n",
       "      <td>D</td>\n",
       "      <td>1564099256</td>\n",
       "      <td>1806662</td>\n",
       "      <td>bcc9ac263a4036f0141ffb04e9224e00443bb791</td>\n",
       "      <td>age=10.92</td>\n",
       "      <td>F</td>\n",
       "      <td>(277,-2433)</td>\n",
       "      <td>hunger</td>\n",
       "      <td>pop=64</td>\n",
       "    </tr>\n",
       "  </tbody>\n",
       "</table>\n",
       "</div>"
      ],
      "text/plain": [
       "   release      server event   timestamp  playerID  \\\n",
       "0      251  bigserver2     D  1564099205   1806575   \n",
       "1      251  bigserver2     D  1564099220   1806488   \n",
       "2      251  bigserver2     D  1564099234   1806629   \n",
       "3      251  bigserver2     D  1564099254   1806530   \n",
       "4      251  bigserver2     D  1564099256   1806662   \n",
       "\n",
       "                                   uniqueID     param1 param2         param3  \\\n",
       "0  91f6003fa6a03933f72b1f95a7002f1f07928deb  age=33.40      M    (277,-2434)   \n",
       "1  1a7f24be09f45519e96d4f017b36ad38eb5e329d  age=60.00      M  (-2516,-1279)   \n",
       "2  3dc579b91219e519dfee2f9d7a24aec8e9a83b03  age=19.04      F  (-1919,-2078)   \n",
       "3  780359de9275c29b15b65d3cdba5b22bf90169c5  age=47.75      F  (-2525,-1276)   \n",
       "4  bcc9ac263a4036f0141ffb04e9224e00443bb791  age=10.92      F    (277,-2433)   \n",
       "\n",
       "   param4  param5  \n",
       "0  hunger  pop=67  \n",
       "1  oldAge  pop=66  \n",
       "2  hunger  pop=65  \n",
       "3  hunger  pop=64  \n",
       "4  hunger  pop=64  "
      ]
     },
     "execution_count": 18,
     "metadata": {},
     "output_type": "execute_result"
    }
   ],
   "source": [
    "raw_data = pd.concat(data_list)\n",
    "raw_data.columns = ['release', 'server', 'event', 'timestamp', 'playerID', 'uniqueID', 'param1', 'param2',\n",
    "                 'param3', 'param4', 'param5']\n",
    "raw_data.head()"
   ]
  },
  {
   "cell_type": "code",
   "execution_count": 26,
   "metadata": {},
   "outputs": [
    {
     "data": {
      "text/html": [
       "<div>\n",
       "<style scoped>\n",
       "    .dataframe tbody tr th:only-of-type {\n",
       "        vertical-align: middle;\n",
       "    }\n",
       "\n",
       "    .dataframe tbody tr th {\n",
       "        vertical-align: top;\n",
       "    }\n",
       "\n",
       "    .dataframe thead th {\n",
       "        text-align: right;\n",
       "    }\n",
       "</style>\n",
       "<table border=\"1\" class=\"dataframe\">\n",
       "  <thead>\n",
       "    <tr style=\"text-align: right;\">\n",
       "      <th></th>\n",
       "      <th>release</th>\n",
       "      <th>playerID</th>\n",
       "      <th>timestamp</th>\n",
       "      <th>uniqueID</th>\n",
       "      <th>birth_location</th>\n",
       "      <th>chain</th>\n",
       "    </tr>\n",
       "  </thead>\n",
       "  <tbody>\n",
       "    <tr>\n",
       "      <th>6</th>\n",
       "      <td>251</td>\n",
       "      <td>1806690</td>\n",
       "      <td>1564099277</td>\n",
       "      <td>610232431bd719fc6ae03c734f0f2569a659d59b</td>\n",
       "      <td>(-1933,-2118)</td>\n",
       "      <td>chain=45</td>\n",
       "    </tr>\n",
       "    <tr>\n",
       "      <th>9</th>\n",
       "      <td>251</td>\n",
       "      <td>1806691</td>\n",
       "      <td>1564099329</td>\n",
       "      <td>14a34de5ef24a092c09f2f726904939a8b7fbd1f</td>\n",
       "      <td>(-1802,-719)</td>\n",
       "      <td>chain=5</td>\n",
       "    </tr>\n",
       "    <tr>\n",
       "      <th>10</th>\n",
       "      <td>251</td>\n",
       "      <td>1806692</td>\n",
       "      <td>1564099361</td>\n",
       "      <td>207e9318d08219318f00fd32e483251f81247dc8</td>\n",
       "      <td>(-2432,-4839)</td>\n",
       "      <td>chain=10</td>\n",
       "    </tr>\n",
       "    <tr>\n",
       "      <th>11</th>\n",
       "      <td>251</td>\n",
       "      <td>1806693</td>\n",
       "      <td>1564099385</td>\n",
       "      <td>52c80bc1fa937e1eceb41ba28610da4c0da196f2</td>\n",
       "      <td>(-1930,-2023)</td>\n",
       "      <td>chain=44</td>\n",
       "    </tr>\n",
       "    <tr>\n",
       "      <th>12</th>\n",
       "      <td>251</td>\n",
       "      <td>1806694</td>\n",
       "      <td>1564099409</td>\n",
       "      <td>265223909fa4f36f07a340f020cafdb74d91615e</td>\n",
       "      <td>(-2519,-1282)</td>\n",
       "      <td>chain=21</td>\n",
       "    </tr>\n",
       "  </tbody>\n",
       "</table>\n",
       "</div>"
      ],
      "text/plain": [
       "    release  playerID   timestamp                                  uniqueID  \\\n",
       "6       251   1806690  1564099277  610232431bd719fc6ae03c734f0f2569a659d59b   \n",
       "9       251   1806691  1564099329  14a34de5ef24a092c09f2f726904939a8b7fbd1f   \n",
       "10      251   1806692  1564099361  207e9318d08219318f00fd32e483251f81247dc8   \n",
       "11      251   1806693  1564099385  52c80bc1fa937e1eceb41ba28610da4c0da196f2   \n",
       "12      251   1806694  1564099409  265223909fa4f36f07a340f020cafdb74d91615e   \n",
       "\n",
       "   birth_location     chain  \n",
       "6   (-1933,-2118)  chain=45  \n",
       "9    (-1802,-719)   chain=5  \n",
       "10  (-2432,-4839)  chain=10  \n",
       "11  (-1930,-2023)  chain=44  \n",
       "12  (-2519,-1282)  chain=21  "
      ]
     },
     "execution_count": 26,
     "metadata": {},
     "output_type": "execute_result"
    }
   ],
   "source": [
    "birth_data = raw_data[raw_data['event'] == 'B'].copy()\n",
    "birth_data = birth_data[['release','playerID', 'timestamp', 'uniqueID', 'param2','param5']]\n",
    "birth_data = birth_data.rename({'param2': 'birth_location','param5': 'chain'}, axis='columns')\n",
    "birth_data.head()"
   ]
  },
  {
   "cell_type": "code",
   "execution_count": 32,
   "metadata": {},
   "outputs": [
    {
     "data": {
      "text/html": [
       "<div>\n",
       "<style scoped>\n",
       "    .dataframe tbody tr th:only-of-type {\n",
       "        vertical-align: middle;\n",
       "    }\n",
       "\n",
       "    .dataframe tbody tr th {\n",
       "        vertical-align: top;\n",
       "    }\n",
       "\n",
       "    .dataframe thead th {\n",
       "        text-align: right;\n",
       "    }\n",
       "</style>\n",
       "<table border=\"1\" class=\"dataframe\">\n",
       "  <thead>\n",
       "    <tr style=\"text-align: right;\">\n",
       "      <th></th>\n",
       "      <th>release</th>\n",
       "      <th>playerID</th>\n",
       "      <th>timestamp</th>\n",
       "      <th>uniqueID</th>\n",
       "      <th>death_location</th>\n",
       "    </tr>\n",
       "  </thead>\n",
       "  <tbody>\n",
       "    <tr>\n",
       "      <th>0</th>\n",
       "      <td>251</td>\n",
       "      <td>1806575</td>\n",
       "      <td>1564099205</td>\n",
       "      <td>91f6003fa6a03933f72b1f95a7002f1f07928deb</td>\n",
       "      <td>(277,-2434)</td>\n",
       "    </tr>\n",
       "    <tr>\n",
       "      <th>1</th>\n",
       "      <td>251</td>\n",
       "      <td>1806488</td>\n",
       "      <td>1564099220</td>\n",
       "      <td>1a7f24be09f45519e96d4f017b36ad38eb5e329d</td>\n",
       "      <td>(-2516,-1279)</td>\n",
       "    </tr>\n",
       "    <tr>\n",
       "      <th>2</th>\n",
       "      <td>251</td>\n",
       "      <td>1806629</td>\n",
       "      <td>1564099234</td>\n",
       "      <td>3dc579b91219e519dfee2f9d7a24aec8e9a83b03</td>\n",
       "      <td>(-1919,-2078)</td>\n",
       "    </tr>\n",
       "    <tr>\n",
       "      <th>3</th>\n",
       "      <td>251</td>\n",
       "      <td>1806530</td>\n",
       "      <td>1564099254</td>\n",
       "      <td>780359de9275c29b15b65d3cdba5b22bf90169c5</td>\n",
       "      <td>(-2525,-1276)</td>\n",
       "    </tr>\n",
       "    <tr>\n",
       "      <th>4</th>\n",
       "      <td>251</td>\n",
       "      <td>1806662</td>\n",
       "      <td>1564099256</td>\n",
       "      <td>bcc9ac263a4036f0141ffb04e9224e00443bb791</td>\n",
       "      <td>(277,-2433)</td>\n",
       "    </tr>\n",
       "  </tbody>\n",
       "</table>\n",
       "</div>"
      ],
      "text/plain": [
       "   release  playerID   timestamp                                  uniqueID  \\\n",
       "0      251   1806575  1564099205  91f6003fa6a03933f72b1f95a7002f1f07928deb   \n",
       "1      251   1806488  1564099220  1a7f24be09f45519e96d4f017b36ad38eb5e329d   \n",
       "2      251   1806629  1564099234  3dc579b91219e519dfee2f9d7a24aec8e9a83b03   \n",
       "3      251   1806530  1564099254  780359de9275c29b15b65d3cdba5b22bf90169c5   \n",
       "4      251   1806662  1564099256  bcc9ac263a4036f0141ffb04e9224e00443bb791   \n",
       "\n",
       "  death_location  \n",
       "0    (277,-2434)  \n",
       "1  (-2516,-1279)  \n",
       "2  (-1919,-2078)  \n",
       "3  (-2525,-1276)  \n",
       "4    (277,-2433)  "
      ]
     },
     "execution_count": 32,
     "metadata": {},
     "output_type": "execute_result"
    }
   ],
   "source": [
    "death_data = raw_data[raw_data['event'] == 'D'].copy()\n",
    "death_data = death_data[['release','playerID', 'timestamp', 'uniqueID', 'param3']]\n",
    "death_data = death_data.rename({'param3': 'death_location'}, axis='columns')\n",
    "death_data.head()\n"
   ]
  },
  {
   "cell_type": "code",
   "execution_count": 34,
   "metadata": {
    "scrolled": true
   },
   "outputs": [
    {
     "data": {
      "text/html": [
       "<div>\n",
       "<style scoped>\n",
       "    .dataframe tbody tr th:only-of-type {\n",
       "        vertical-align: middle;\n",
       "    }\n",
       "\n",
       "    .dataframe tbody tr th {\n",
       "        vertical-align: top;\n",
       "    }\n",
       "\n",
       "    .dataframe thead th {\n",
       "        text-align: right;\n",
       "    }\n",
       "</style>\n",
       "<table border=\"1\" class=\"dataframe\">\n",
       "  <thead>\n",
       "    <tr style=\"text-align: right;\">\n",
       "      <th></th>\n",
       "      <th>release</th>\n",
       "      <th>playerID</th>\n",
       "      <th>timestamp_x</th>\n",
       "      <th>timestamp_y</th>\n",
       "      <th>uniqueID</th>\n",
       "      <th>birthX</th>\n",
       "      <th>birthY</th>\n",
       "      <th>deathX</th>\n",
       "      <th>deathY</th>\n",
       "      <th>chain</th>\n",
       "    </tr>\n",
       "  </thead>\n",
       "  <tbody>\n",
       "    <tr>\n",
       "      <th>0</th>\n",
       "      <td>251</td>\n",
       "      <td>1806690</td>\n",
       "      <td>1564099277</td>\n",
       "      <td>1564101819</td>\n",
       "      <td>610232431bd719fc6ae03c734f0f2569a659d59b</td>\n",
       "      <td>-1933</td>\n",
       "      <td>-2118</td>\n",
       "      <td>-1950</td>\n",
       "      <td>-2089</td>\n",
       "      <td>chain=45</td>\n",
       "    </tr>\n",
       "    <tr>\n",
       "      <th>1</th>\n",
       "      <td>251</td>\n",
       "      <td>1806691</td>\n",
       "      <td>1564099329</td>\n",
       "      <td>1564100950</td>\n",
       "      <td>14a34de5ef24a092c09f2f726904939a8b7fbd1f</td>\n",
       "      <td>-1802</td>\n",
       "      <td>-719</td>\n",
       "      <td>-1825</td>\n",
       "      <td>-549</td>\n",
       "      <td>chain=5</td>\n",
       "    </tr>\n",
       "    <tr>\n",
       "      <th>2</th>\n",
       "      <td>251</td>\n",
       "      <td>1806692</td>\n",
       "      <td>1564099361</td>\n",
       "      <td>1564102961</td>\n",
       "      <td>207e9318d08219318f00fd32e483251f81247dc8</td>\n",
       "      <td>-2432</td>\n",
       "      <td>-4839</td>\n",
       "      <td>-2426</td>\n",
       "      <td>-4832</td>\n",
       "      <td>chain=10</td>\n",
       "    </tr>\n",
       "    <tr>\n",
       "      <th>3</th>\n",
       "      <td>251</td>\n",
       "      <td>1806693</td>\n",
       "      <td>1564099385</td>\n",
       "      <td>1564102985</td>\n",
       "      <td>52c80bc1fa937e1eceb41ba28610da4c0da196f2</td>\n",
       "      <td>-1930</td>\n",
       "      <td>-2023</td>\n",
       "      <td>-1946</td>\n",
       "      <td>-2557</td>\n",
       "      <td>chain=44</td>\n",
       "    </tr>\n",
       "    <tr>\n",
       "      <th>4</th>\n",
       "      <td>251</td>\n",
       "      <td>1806694</td>\n",
       "      <td>1564099409</td>\n",
       "      <td>1564100461</td>\n",
       "      <td>265223909fa4f36f07a340f020cafdb74d91615e</td>\n",
       "      <td>-2519</td>\n",
       "      <td>-1282</td>\n",
       "      <td>-2518</td>\n",
       "      <td>-1348</td>\n",
       "      <td>chain=21</td>\n",
       "    </tr>\n",
       "  </tbody>\n",
       "</table>\n",
       "</div>"
      ],
      "text/plain": [
       "   release  playerID  timestamp_x  timestamp_y  \\\n",
       "0      251   1806690   1564099277   1564101819   \n",
       "1      251   1806691   1564099329   1564100950   \n",
       "2      251   1806692   1564099361   1564102961   \n",
       "3      251   1806693   1564099385   1564102985   \n",
       "4      251   1806694   1564099409   1564100461   \n",
       "\n",
       "                                   uniqueID  birthX  birthY  deathX  deathY  \\\n",
       "0  610232431bd719fc6ae03c734f0f2569a659d59b   -1933   -2118   -1950   -2089   \n",
       "1  14a34de5ef24a092c09f2f726904939a8b7fbd1f   -1802    -719   -1825    -549   \n",
       "2  207e9318d08219318f00fd32e483251f81247dc8   -2432   -4839   -2426   -4832   \n",
       "3  52c80bc1fa937e1eceb41ba28610da4c0da196f2   -1930   -2023   -1946   -2557   \n",
       "4  265223909fa4f36f07a340f020cafdb74d91615e   -2519   -1282   -2518   -1348   \n",
       "\n",
       "      chain  \n",
       "0  chain=45  \n",
       "1   chain=5  \n",
       "2  chain=10  \n",
       "3  chain=44  \n",
       "4  chain=21  "
      ]
     },
     "execution_count": 34,
     "metadata": {},
     "output_type": "execute_result"
    }
   ],
   "source": [
    "loc_data = birth_data.merge(death_data, on = ['release','playerID','uniqueID'])\n",
    "loc_data['birth'] = loc_data['birth_location'].apply(make_tuple).apply(np.array)\n",
    "loc_data['death'] = loc_data['death_location'].apply(make_tuple).apply(np.array)\n",
    "\n",
    "# Split coordinates (for easier plotting)\n",
    "loc_data[['birthX', 'birthY']] = pd.DataFrame(loc_data['birth'].tolist(),\n",
    "                                              index=loc_data.index)   \n",
    "loc_data[['deathX', 'deathY']] = pd.DataFrame(loc_data['death'].tolist(),\n",
    "                                              index=loc_data.index)\n",
    "\n",
    "lifeLog = loc_data[['release','playerID','timestamp_x','timestamp_y','uniqueID','birthX','birthY','deathX','deathY','chain']]\n",
    "\n",
    "\n",
    "lifeLog.head()"
   ]
  },
  {
   "cell_type": "code",
   "execution_count": 36,
   "metadata": {},
   "outputs": [
    {
     "name": "stderr",
     "output_type": "stream",
     "text": [
      "/Users/dengwenning/anaconda3/lib/python3.6/site-packages/ipykernel_launcher.py:3: SettingWithCopyWarning: \n",
      "A value is trying to be set on a copy of a slice from a DataFrame.\n",
      "Try using .loc[row_indexer,col_indexer] = value instead\n",
      "\n",
      "See the caveats in the documentation: http://pandas.pydata.org/pandas-docs/stable/indexing.html#indexing-view-versus-copy\n",
      "  This is separate from the ipykernel package so we can avoid doing imports until\n"
     ]
    },
    {
     "data": {
      "text/html": [
       "<div>\n",
       "<style scoped>\n",
       "    .dataframe tbody tr th:only-of-type {\n",
       "        vertical-align: middle;\n",
       "    }\n",
       "\n",
       "    .dataframe tbody tr th {\n",
       "        vertical-align: top;\n",
       "    }\n",
       "\n",
       "    .dataframe thead th {\n",
       "        text-align: right;\n",
       "    }\n",
       "</style>\n",
       "<table border=\"1\" class=\"dataframe\">\n",
       "  <thead>\n",
       "    <tr style=\"text-align: right;\">\n",
       "      <th></th>\n",
       "      <th>release</th>\n",
       "      <th>playerID</th>\n",
       "      <th>timestamp_x</th>\n",
       "      <th>timestamp_y</th>\n",
       "      <th>uniqueID</th>\n",
       "      <th>birthX</th>\n",
       "      <th>birthY</th>\n",
       "      <th>deathX</th>\n",
       "      <th>deathY</th>\n",
       "      <th>num_chain</th>\n",
       "    </tr>\n",
       "  </thead>\n",
       "  <tbody>\n",
       "    <tr>\n",
       "      <th>0</th>\n",
       "      <td>251</td>\n",
       "      <td>1806690</td>\n",
       "      <td>1564099277</td>\n",
       "      <td>1564101819</td>\n",
       "      <td>610232431bd719fc6ae03c734f0f2569a659d59b</td>\n",
       "      <td>-1933</td>\n",
       "      <td>-2118</td>\n",
       "      <td>-1950</td>\n",
       "      <td>-2089</td>\n",
       "      <td>45</td>\n",
       "    </tr>\n",
       "    <tr>\n",
       "      <th>1</th>\n",
       "      <td>251</td>\n",
       "      <td>1806691</td>\n",
       "      <td>1564099329</td>\n",
       "      <td>1564100950</td>\n",
       "      <td>14a34de5ef24a092c09f2f726904939a8b7fbd1f</td>\n",
       "      <td>-1802</td>\n",
       "      <td>-719</td>\n",
       "      <td>-1825</td>\n",
       "      <td>-549</td>\n",
       "      <td>5</td>\n",
       "    </tr>\n",
       "    <tr>\n",
       "      <th>2</th>\n",
       "      <td>251</td>\n",
       "      <td>1806692</td>\n",
       "      <td>1564099361</td>\n",
       "      <td>1564102961</td>\n",
       "      <td>207e9318d08219318f00fd32e483251f81247dc8</td>\n",
       "      <td>-2432</td>\n",
       "      <td>-4839</td>\n",
       "      <td>-2426</td>\n",
       "      <td>-4832</td>\n",
       "      <td>10</td>\n",
       "    </tr>\n",
       "    <tr>\n",
       "      <th>3</th>\n",
       "      <td>251</td>\n",
       "      <td>1806693</td>\n",
       "      <td>1564099385</td>\n",
       "      <td>1564102985</td>\n",
       "      <td>52c80bc1fa937e1eceb41ba28610da4c0da196f2</td>\n",
       "      <td>-1930</td>\n",
       "      <td>-2023</td>\n",
       "      <td>-1946</td>\n",
       "      <td>-2557</td>\n",
       "      <td>44</td>\n",
       "    </tr>\n",
       "    <tr>\n",
       "      <th>4</th>\n",
       "      <td>251</td>\n",
       "      <td>1806694</td>\n",
       "      <td>1564099409</td>\n",
       "      <td>1564100461</td>\n",
       "      <td>265223909fa4f36f07a340f020cafdb74d91615e</td>\n",
       "      <td>-2519</td>\n",
       "      <td>-1282</td>\n",
       "      <td>-2518</td>\n",
       "      <td>-1348</td>\n",
       "      <td>21</td>\n",
       "    </tr>\n",
       "  </tbody>\n",
       "</table>\n",
       "</div>"
      ],
      "text/plain": [
       "   release  playerID  timestamp_x  timestamp_y  \\\n",
       "0      251   1806690   1564099277   1564101819   \n",
       "1      251   1806691   1564099329   1564100950   \n",
       "2      251   1806692   1564099361   1564102961   \n",
       "3      251   1806693   1564099385   1564102985   \n",
       "4      251   1806694   1564099409   1564100461   \n",
       "\n",
       "                                   uniqueID  birthX  birthY  deathX  deathY  \\\n",
       "0  610232431bd719fc6ae03c734f0f2569a659d59b   -1933   -2118   -1950   -2089   \n",
       "1  14a34de5ef24a092c09f2f726904939a8b7fbd1f   -1802    -719   -1825    -549   \n",
       "2  207e9318d08219318f00fd32e483251f81247dc8   -2432   -4839   -2426   -4832   \n",
       "3  52c80bc1fa937e1eceb41ba28610da4c0da196f2   -1930   -2023   -1946   -2557   \n",
       "4  265223909fa4f36f07a340f020cafdb74d91615e   -2519   -1282   -2518   -1348   \n",
       "\n",
       "   num_chain  \n",
       "0         45  \n",
       "1          5  \n",
       "2         10  \n",
       "3         44  \n",
       "4         21  "
      ]
     },
     "execution_count": 36,
     "metadata": {},
     "output_type": "execute_result"
    }
   ],
   "source": [
    "# turn str under chain into num\n",
    "digit = lambda x: int(x.split(\"=\")[1])\n",
    "lifeLog['num_chain'] = lifeLog['chain'].apply(digit)\n",
    "lifeLogNew = lifeLog.drop(['chain'], axis=1)\n",
    "lifeLogNew.head()"
   ]
  },
  {
   "cell_type": "code",
   "execution_count": null,
   "metadata": {
    "collapsed": true
   },
   "outputs": [],
   "source": [
    "##plot migration across versions\n",
    "fig = plt.figure(figsize=(30,30))\n",
    "version = 301\n",
    "sns.scatterplot(data = lifeLog[lifeLog['release'] == version], x = 'birthX', y = 'birthY', hue ='timestamp_x',\n",
    "               palette=\"Blues\",alpha =0.8)\n",
    "\n",
    "sns.scatterplot(data = lifeLog[lifeLog['release'] == (version+1)], x = 'birthX', y = 'birthY', hue ='timestamp_x',\n",
    "               palette=\"Reds\",alpha =0.8)\n",
    "plt.title('version' + str(version) + '-' + str(version+1))\n",
    "\n",
    "# plt.savefig('plots/update2.png', dpi=100)"
   ]
  },
  {
   "cell_type": "code",
   "execution_count": 123,
   "metadata": {
    "collapsed": true
   },
   "outputs": [],
   "source": [
    "##this function plots the birth and death location of each player\n",
    "def plot_individual_immigration(sub_version):\n",
    "    loc_subset = lifeLog[lifeLog['release'] == sub_version] ##plot migration for each version\n",
    "    \n",
    "    n_data = len(loc_subset)\n",
    "    \n",
    "    if n_data > 1: ##seems like it's missing data from some of the versions\n",
    "        if n_data > 5000:\n",
    "            a = 0.25\n",
    "        else:\n",
    "            a = 1\n",
    "\n",
    "        fig = plt.figure(figsize=(30,30))\n",
    "        for i, row in loc_subset.iterrows():\n",
    "            plt.arrow(row['birthX'], row['birthY'],\n",
    "                      row['deathX']-row['birthX'],\n",
    "                      row['deathY']-row['birthY'],\n",
    "                      alpha=0.2)\n",
    "        sns.scatterplot(data = loc_subset, x = 'birthX', y = 'birthY', hue ='num_chain', alpha=a) #color indicates chain\n",
    "        sns.scatterplot(data = loc_subset, x = 'deathX', y = 'deathY', marker = \"+\", hue ='num_chain', alpha=a) #marker type indicates birth/death \n",
    "        plt.xlabel('x')\n",
    "        plt.ylabel('y')\n",
    "    #     plt.ylim(-30000, 30000)\n",
    "    #     plt.xlim(-50000, 100000)\n",
    "\n",
    "        plt.title(sub_version)\n",
    "\n",
    "#         out_file = 'plots/migration2_v%s.png' % sub_version\n",
    "#         plt.savefig(out_file)"
   ]
  },
  {
   "cell_type": "code",
   "execution_count": null,
   "metadata": {
    "collapsed": true
   },
   "outputs": [],
   "source": [
    "for s in np.arange(252,302):\n",
    "    plot_individual_immigration(s)\n",
    "    plt.show()"
   ]
  },
  {
   "cell_type": "code",
   "execution_count": null,
   "metadata": {
    "collapsed": true
   },
   "outputs": [],
   "source": []
  }
 ],
 "metadata": {
  "kernelspec": {
   "display_name": "Python 3",
   "language": "python",
   "name": "python3"
  },
  "language_info": {
   "codemirror_mode": {
    "name": "ipython",
    "version": 3
   },
   "file_extension": ".py",
   "mimetype": "text/x-python",
   "name": "python",
   "nbconvert_exporter": "python",
   "pygments_lexer": "ipython3",
   "version": "3.6.3"
  }
 },
 "nbformat": 4,
 "nbformat_minor": 2
}
