{
 "cells": [
  {
   "cell_type": "markdown",
   "metadata": {},
   "source": [
    "# Wrangling lifelog data (July 2019–May 2020)\n",
    "Natalia Vélez, last updated June 2020\n",
    "\n",
    "In this notebook:\n",
    "\n",
    "* Load, clean up lifelog data from the entire history of the game (updated!)\n",
    "* Split data by version\n",
    "* Split data by era (arc, rift, boundless world)\n",
    "* Prepare inputs for subsequent analyses (census, family trees, migration patterns)\n",
    "\n",
    "In subsequent analyses, we will focus on data from the Boundless World era (November 2019–present)"
   ]
  },
  {
   "cell_type": "code",
   "execution_count": 1,
   "metadata": {
    "ExecuteTime": {
     "end_time": "2020-01-09T18:48:17.696616Z",
     "start_time": "2020-01-09T18:48:15.254192Z"
    }
   },
   "outputs": [],
   "source": [
    "%matplotlib inline\n",
    "\n",
    "import os, re, glob, random, datetime\n",
    "import pandas as pd\n",
    "import numpy as np\n",
    "import networkx as nx\n",
    "import matplotlib.pyplot as plt\n",
    "import seaborn as sns\n",
    "from os.path import join as opj\n",
    "from tqdm import notebook\n",
    "from ast import literal_eval as make_tuple\n",
    "\n",
    "sns.set_context('paper')"
   ]
  },
  {
   "cell_type": "markdown",
   "metadata": {},
   "source": [
    "Helper functions:"
   ]
  },
  {
   "cell_type": "code",
   "execution_count": 2,
   "metadata": {
    "ExecuteTime": {
     "end_time": "2020-01-09T18:48:20.210554Z",
     "start_time": "2020-01-09T18:48:20.205214Z"
    }
   },
   "outputs": [],
   "source": [
    "gsearch = lambda *args: glob.glob(opj(*args))\n",
    "str_extract = lambda pattern, s: re.search(pattern, s).group(0)"
   ]
  },
  {
   "cell_type": "markdown",
   "metadata": {},
   "source": [
    "## Parse version history"
   ]
  },
  {
   "cell_type": "markdown",
   "metadata": {},
   "source": [
    "In future analyses, we'll want to split data by release; different releases of the game will have different items, mechanics, etc. To do that, we'll parse the version history here and get the start and end dates for each release."
   ]
  },
  {
   "cell_type": "code",
   "execution_count": 3,
   "metadata": {},
   "outputs": [
    {
     "data": {
      "text/html": [
       "<div>\n",
       "<style scoped>\n",
       "    .dataframe tbody tr th:only-of-type {\n",
       "        vertical-align: middle;\n",
       "    }\n",
       "\n",
       "    .dataframe tbody tr th {\n",
       "        vertical-align: top;\n",
       "    }\n",
       "\n",
       "    .dataframe thead th {\n",
       "        text-align: right;\n",
       "    }\n",
       "</style>\n",
       "<table border=\"1\" class=\"dataframe\">\n",
       "  <thead>\n",
       "    <tr style=\"text-align: right;\">\n",
       "      <th></th>\n",
       "      <th>release</th>\n",
       "      <th>timestamp</th>\n",
       "    </tr>\n",
       "  </thead>\n",
       "  <tbody>\n",
       "    <tr>\n",
       "      <th>0</th>\n",
       "      <td>0</td>\n",
       "      <td>1.490908e+09</td>\n",
       "    </tr>\n",
       "    <tr>\n",
       "      <th>1</th>\n",
       "      <td>16</td>\n",
       "      <td>1.492207e+09</td>\n",
       "    </tr>\n",
       "    <tr>\n",
       "      <th>2</th>\n",
       "      <td>17</td>\n",
       "      <td>1.492226e+09</td>\n",
       "    </tr>\n",
       "    <tr>\n",
       "      <th>3</th>\n",
       "      <td>19</td>\n",
       "      <td>1.492472e+09</td>\n",
       "    </tr>\n",
       "    <tr>\n",
       "      <th>4</th>\n",
       "      <td>20</td>\n",
       "      <td>1.495232e+09</td>\n",
       "    </tr>\n",
       "  </tbody>\n",
       "</table>\n",
       "</div>"
      ],
      "text/plain": [
       "   release     timestamp\n",
       "0        0  1.490908e+09\n",
       "1       16  1.492207e+09\n",
       "2       17  1.492226e+09\n",
       "3       19  1.492472e+09\n",
       "4       20  1.495232e+09"
      ]
     },
     "execution_count": 3,
     "metadata": {},
     "output_type": "execute_result"
    }
   ],
   "source": [
    "ver_file = '../1_download/outputs/version_history.tsv'\n",
    "\n",
    "# Load file\n",
    "ver = pd.read_csv(ver_file, sep='\\t')\n",
    "ver.head()"
   ]
  },
  {
   "cell_type": "markdown",
   "metadata": {},
   "source": [
    "`find_version`: Helper function. Takes a filename as input, finds the corresponding release."
   ]
  },
  {
   "cell_type": "code",
   "execution_count": 4,
   "metadata": {},
   "outputs": [],
   "source": [
    "def find_version(file):\n",
    "    file_date = date_extract(file)\n",
    "\n",
    "    tmp_ver = ver.copy()\n",
    "    tmp_ver['lag'] = file_date - tmp_ver['timestamp']\n",
    "    tmp_ver = tmp_ver[tmp_ver['lag'] >= 0]\n",
    "\n",
    "    file_ver = tmp_ver.loc[tmp_ver['lag'].idxmin()].release\n",
    "    \n",
    "    return file_ver"
   ]
  },
  {
   "cell_type": "markdown",
   "metadata": {},
   "source": [
    "`find_era`: Find era associated with release"
   ]
  },
  {
   "cell_type": "code",
   "execution_count": 5,
   "metadata": {},
   "outputs": [],
   "source": [
    "def find_era(release):\n",
    "    if release < 252:\n",
    "        r = 'arc'\n",
    "    elif (d >= 252) & (d < 281):\n",
    "        r = 'rift'\n",
    "    elif d >= 281:\n",
    "        r = 'boundless'\n",
    "        \n",
    "    return r"
   ]
  },
  {
   "cell_type": "markdown",
   "metadata": {},
   "source": [
    "## Clean up data"
   ]
  },
  {
   "cell_type": "markdown",
   "metadata": {},
   "source": [
    "We first need to filter files by date, to pick out files within the range we're interested in. (This might be a roundabout way of doing it—suggestions welcome.)\n",
    "\n",
    "`date_extract`: Helper function. Takes a basename as a string (e.g., '2019_03March_23_Saturday.txt') and returns an integer representation of the date (e.g., 20190323)."
   ]
  },
  {
   "cell_type": "code",
   "execution_count": 6,
   "metadata": {},
   "outputs": [],
   "source": [
    "def date_extract(s):\n",
    "    \n",
    "    date_regex = '([0-9]{4})_([0-9]{2})[A-Za-z]+_([0-9]{2})'\n",
    "    date_search = re.findall(date_regex, s)\n",
    "    date_str = ''.join(date_search[0])\n",
    "    date_dt = datetime.datetime.strptime(date_str, '%Y%m%d')\n",
    "    date_tstamp = date_dt.timestamp()\n",
    "    \n",
    "    return date_tstamp"
   ]
  },
  {
   "cell_type": "markdown",
   "metadata": {},
   "source": [
    "List all files:"
   ]
  },
  {
   "cell_type": "code",
   "execution_count": 7,
   "metadata": {},
   "outputs": [
    {
     "name": "stdout",
     "output_type": "stream",
     "text": [
      "../data/publicLifeLogData/lifeLog_bigserver1.onehouronelife.com/2019_01January_25_Friday.txt\n",
      "../data/publicLifeLogData/lifeLog_bigserver1.onehouronelife.com/2019_01January_26_Saturday.txt\n",
      "../data/publicLifeLogData/lifeLog_bigserver1.onehouronelife.com/2019_01January_27_Sunday.txt\n",
      "../data/publicLifeLogData/lifeLog_bigserver1.onehouronelife.com/2019_01January_28_Monday.txt\n",
      "../data/publicLifeLogData/lifeLog_bigserver1.onehouronelife.com/2019_01January_29_Tuesday.txt\n",
      "../data/publicLifeLogData/lifeLog_bigserver1.onehouronelife.com/2019_01January_30_Wednesday.txt\n",
      "../data/publicLifeLogData/lifeLog_bigserver2.onehouronelife.com/2019_01January_29_Tuesday.txt\n",
      "../data/publicLifeLogData/lifeLog_bigserver2.onehouronelife.com/2019_01January_30_Wednesday.txt\n",
      "../data/publicLifeLogData/lifeLog_bigserver2.onehouronelife.com/2019_01January_31_Thursday.txt\n",
      "../data/publicLifeLogData/lifeLog_bigserver2.onehouronelife.com/2019_02February_01_Friday.txt\n"
     ]
    }
   ],
   "source": [
    "data_dir = '../data'\n",
    "all_files = gsearch(data_dir, 'publicLifeLogData', 'lifeLog*', '2*y.txt')\n",
    "all_files.sort()\n",
    "print(*all_files[:10], sep='\\n')"
   ]
  },
  {
   "cell_type": "markdown",
   "metadata": {},
   "source": [
    "Extract dates:"
   ]
  },
  {
   "cell_type": "code",
   "execution_count": 8,
   "metadata": {},
   "outputs": [
    {
     "name": "stdout",
     "output_type": "stream",
     "text": [
      "1548403200.0\n",
      "1548489600.0\n",
      "1548576000.0\n",
      "1548662400.0\n",
      "1548748800.0\n",
      "1548835200.0\n",
      "1548748800.0\n",
      "1548835200.0\n",
      "1548921600.0\n",
      "1549008000.0\n"
     ]
    }
   ],
   "source": [
    "all_dates = [date_extract(f) for f in all_files]\n",
    "print(*all_dates[:10], sep='\\n')"
   ]
  },
  {
   "cell_type": "markdown",
   "metadata": {},
   "source": [
    "(outdated) Filter files within range:"
   ]
  },
  {
   "cell_type": "code",
   "execution_count": null,
   "metadata": {},
   "outputs": [],
   "source": [
    "# start = datetime.datetime(2019, 7, 30, 0, 0).timestamp()\n",
    "# end = datetime.datetime(2020, 5, 29, 0, 0).timestamp()\n",
    "\n",
    "# # Check if date is within range\n",
    "# between_dates = lambda d: (d >= start) & (d <= end)\n",
    "\n",
    "# file_df = pd.DataFrame({'file': all_files,\n",
    "#                         'date': all_dates})\n",
    "# file_df['include'] = file_df.date.apply(between_dates)\n",
    "# file_df = file_df[file_df.include]\n",
    "\n",
    "# file_df.head()"
   ]
  },
  {
   "cell_type": "code",
   "execution_count": 9,
   "metadata": {},
   "outputs": [
    {
     "name": "stdout",
     "output_type": "stream",
     "text": [
      "11848 files found\n",
      "2019_01January_25_Friday.txt\n",
      "2019_01January_26_Saturday.txt\n",
      "2019_01January_27_Sunday.txt\n",
      "2019_01January_28_Monday.txt\n",
      "2019_01January_29_Tuesday.txt\n",
      "2019_01January_30_Wednesday.txt\n",
      "2019_01January_29_Tuesday.txt\n",
      "2019_01January_30_Wednesday.txt\n",
      "2019_01January_31_Thursday.txt\n",
      "2019_02February_01_Friday.txt\n",
      "2019_02February_02_Saturday.txt\n",
      "2019_02February_03_Sunday.txt\n",
      "2019_02February_04_Monday.txt\n",
      "2019_02February_05_Tuesday.txt\n",
      "2019_02February_06_Wednesday.txt\n",
      "2019_02February_07_Thursday.txt\n",
      "2019_02February_08_Friday.txt\n",
      "2019_02February_09_Saturday.txt\n",
      "2019_02February_10_Sunday.txt\n",
      "2019_02February_11_Monday.txt\n"
     ]
    }
   ],
   "source": [
    "# data_files = file_df['file'].values\n",
    "data_files = all_files\n",
    "print('%i files found' % len(data_files))\n",
    "print(*[os.path.basename(f) for f in data_files[:20]], sep='\\n')"
   ]
  },
  {
   "cell_type": "markdown",
   "metadata": {},
   "source": [
    "Load all files:"
   ]
  },
  {
   "cell_type": "code",
   "execution_count": 12,
   "metadata": {
    "ExecuteTime": {
     "end_time": "2020-01-09T18:48:28.460998Z",
     "start_time": "2020-01-09T18:48:27.569166Z"
    }
   },
   "outputs": [
    {
     "data": {
      "application/vnd.jupyter.widget-view+json": {
       "model_id": "ab79bb5306204d60aa6c8e816f96df4f",
       "version_major": 2,
       "version_minor": 0
      },
      "text/plain": [
       "HBox(children=(FloatProgress(value=0.0, max=11848.0), HTML(value='')))"
      ]
     },
     "metadata": {},
     "output_type": "display_data"
    },
    {
     "name": "stdout",
     "output_type": "stream",
     "text": [
      "\n"
     ]
    }
   ],
   "source": [
    "data_list = []\n",
    "empty_files = []\n",
    "for f in notebook.tqdm(data_files):\n",
    "    try:\n",
    "        tmp_server = str_extract('(?<=lifeLog_)[a-zA-Z0-9]+', f)\n",
    "        tmp_ver = find_version(f)\n",
    "        tmp_era = find_era(tmp_ver)\n",
    "        \n",
    "        tmp_d = pd.read_csv(f, sep =' ', header=None)\n",
    "        tmp_d.insert(0, 'server', tmp_server)\n",
    "        tmp_d.insert(1, 'release', tmp_ver)\n",
    "        tmp_d.insert(2, 'era', tmp_era)\n",
    "        data_list.append(tmp_d)\n",
    "    except:\n",
    "        empty_files.append(f)"
   ]
  },
  {
   "cell_type": "code",
   "execution_count": 13,
   "metadata": {},
   "outputs": [
    {
     "data": {
      "text/html": [
       "<div>\n",
       "<style scoped>\n",
       "    .dataframe tbody tr th:only-of-type {\n",
       "        vertical-align: middle;\n",
       "    }\n",
       "\n",
       "    .dataframe tbody tr th {\n",
       "        vertical-align: top;\n",
       "    }\n",
       "\n",
       "    .dataframe thead th {\n",
       "        text-align: right;\n",
       "    }\n",
       "</style>\n",
       "<table border=\"1\" class=\"dataframe\">\n",
       "  <thead>\n",
       "    <tr style=\"text-align: right;\">\n",
       "      <th></th>\n",
       "      <th>server</th>\n",
       "      <th>release</th>\n",
       "      <th>era</th>\n",
       "      <th>0</th>\n",
       "      <th>1</th>\n",
       "      <th>2</th>\n",
       "      <th>3</th>\n",
       "      <th>4</th>\n",
       "      <th>5</th>\n",
       "      <th>6</th>\n",
       "      <th>7</th>\n",
       "      <th>8</th>\n",
       "    </tr>\n",
       "  </thead>\n",
       "  <tbody>\n",
       "    <tr>\n",
       "      <th>0</th>\n",
       "      <td>bigserver1</td>\n",
       "      <td>194.0</td>\n",
       "      <td>arc</td>\n",
       "      <td>B</td>\n",
       "      <td>1548458068</td>\n",
       "      <td>2.0</td>\n",
       "      <td>989df9f12fbd84ae3abdd1c50cdcf6245fd79a79</td>\n",
       "      <td>F</td>\n",
       "      <td>(50,-7)</td>\n",
       "      <td>noParent</td>\n",
       "      <td>pop=1</td>\n",
       "      <td>chain=1</td>\n",
       "    </tr>\n",
       "    <tr>\n",
       "      <th>1</th>\n",
       "      <td>bigserver1</td>\n",
       "      <td>194.0</td>\n",
       "      <td>arc</td>\n",
       "      <td>B</td>\n",
       "      <td>1548458071</td>\n",
       "      <td>3.0</td>\n",
       "      <td>750a099096bc2c7244bd0a48ab92585a3c414644</td>\n",
       "      <td>M</td>\n",
       "      <td>(50,-7)</td>\n",
       "      <td>parent=2</td>\n",
       "      <td>pop=2</td>\n",
       "      <td>chain=2</td>\n",
       "    </tr>\n",
       "    <tr>\n",
       "      <th>2</th>\n",
       "      <td>bigserver1</td>\n",
       "      <td>194.0</td>\n",
       "      <td>arc</td>\n",
       "      <td>B</td>\n",
       "      <td>1548458074</td>\n",
       "      <td>4.0</td>\n",
       "      <td>cf5135550e971c587e4fa57eadef593d031971f3</td>\n",
       "      <td>F</td>\n",
       "      <td>(-43,26)</td>\n",
       "      <td>noParent</td>\n",
       "      <td>pop=3</td>\n",
       "      <td>chain=1</td>\n",
       "    </tr>\n",
       "    <tr>\n",
       "      <th>3</th>\n",
       "      <td>bigserver1</td>\n",
       "      <td>194.0</td>\n",
       "      <td>arc</td>\n",
       "      <td>B</td>\n",
       "      <td>1548458075</td>\n",
       "      <td>5.0</td>\n",
       "      <td>5f79fe6c7b7f7f8be2900bacb7f64fa1036197de</td>\n",
       "      <td>F</td>\n",
       "      <td>(-43,26)</td>\n",
       "      <td>parent=4</td>\n",
       "      <td>pop=4</td>\n",
       "      <td>chain=2</td>\n",
       "    </tr>\n",
       "    <tr>\n",
       "      <th>4</th>\n",
       "      <td>bigserver1</td>\n",
       "      <td>194.0</td>\n",
       "      <td>arc</td>\n",
       "      <td>B</td>\n",
       "      <td>1548458076</td>\n",
       "      <td>6.0</td>\n",
       "      <td>1ba18eb436c2cc1d0cf1a2a5c850abf4434cc587</td>\n",
       "      <td>F</td>\n",
       "      <td>(-14,-48)</td>\n",
       "      <td>noParent</td>\n",
       "      <td>pop=5</td>\n",
       "      <td>chain=1</td>\n",
       "    </tr>\n",
       "  </tbody>\n",
       "</table>\n",
       "</div>"
      ],
      "text/plain": [
       "       server  release  era  0           1    2  \\\n",
       "0  bigserver1    194.0  arc  B  1548458068  2.0   \n",
       "1  bigserver1    194.0  arc  B  1548458071  3.0   \n",
       "2  bigserver1    194.0  arc  B  1548458074  4.0   \n",
       "3  bigserver1    194.0  arc  B  1548458075  5.0   \n",
       "4  bigserver1    194.0  arc  B  1548458076  6.0   \n",
       "\n",
       "                                          3  4          5         6      7  \\\n",
       "0  989df9f12fbd84ae3abdd1c50cdcf6245fd79a79  F    (50,-7)  noParent  pop=1   \n",
       "1  750a099096bc2c7244bd0a48ab92585a3c414644  M    (50,-7)  parent=2  pop=2   \n",
       "2  cf5135550e971c587e4fa57eadef593d031971f3  F   (-43,26)  noParent  pop=3   \n",
       "3  5f79fe6c7b7f7f8be2900bacb7f64fa1036197de  F   (-43,26)  parent=4  pop=4   \n",
       "4  1ba18eb436c2cc1d0cf1a2a5c850abf4434cc587  F  (-14,-48)  noParent  pop=5   \n",
       "\n",
       "         8  \n",
       "0  chain=1  \n",
       "1  chain=2  \n",
       "2  chain=1  \n",
       "3  chain=2  \n",
       "4  chain=1  "
      ]
     },
     "execution_count": 13,
     "metadata": {},
     "output_type": "execute_result"
    }
   ],
   "source": [
    "raw_data = pd.concat(data_list)\n",
    "raw_data.head()"
   ]
  },
  {
   "cell_type": "markdown",
   "metadata": {},
   "source": [
    "Deaths:"
   ]
  },
  {
   "cell_type": "code",
   "execution_count": 14,
   "metadata": {},
   "outputs": [
    {
     "data": {
      "text/html": [
       "<div>\n",
       "<style scoped>\n",
       "    .dataframe tbody tr th:only-of-type {\n",
       "        vertical-align: middle;\n",
       "    }\n",
       "\n",
       "    .dataframe tbody tr th {\n",
       "        vertical-align: top;\n",
       "    }\n",
       "\n",
       "    .dataframe thead th {\n",
       "        text-align: right;\n",
       "    }\n",
       "</style>\n",
       "<table border=\"1\" class=\"dataframe\">\n",
       "  <thead>\n",
       "    <tr style=\"text-align: right;\">\n",
       "      <th></th>\n",
       "      <th>server</th>\n",
       "      <th>release</th>\n",
       "      <th>era</th>\n",
       "      <th>0</th>\n",
       "      <th>1</th>\n",
       "      <th>2</th>\n",
       "      <th>3</th>\n",
       "      <th>4</th>\n",
       "      <th>5</th>\n",
       "      <th>6</th>\n",
       "      <th>7</th>\n",
       "      <th>8</th>\n",
       "    </tr>\n",
       "  </thead>\n",
       "  <tbody>\n",
       "    <tr>\n",
       "      <th>0</th>\n",
       "      <td>bigserver1</td>\n",
       "      <td>194.0</td>\n",
       "      <td>arc</td>\n",
       "      <td>D</td>\n",
       "      <td>1548458078</td>\n",
       "      <td>4.0</td>\n",
       "      <td>cf5135550e971c587e4fa57eadef593d031971f3</td>\n",
       "      <td>age=14.08</td>\n",
       "      <td>F</td>\n",
       "      <td>(-43,26)</td>\n",
       "      <td>disconnect</td>\n",
       "      <td>pop=4</td>\n",
       "    </tr>\n",
       "    <tr>\n",
       "      <th>1</th>\n",
       "      <td>bigserver1</td>\n",
       "      <td>194.0</td>\n",
       "      <td>arc</td>\n",
       "      <td>D</td>\n",
       "      <td>1548458090</td>\n",
       "      <td>10.0</td>\n",
       "      <td>cf5135550e971c587e4fa57eadef593d031971f3</td>\n",
       "      <td>age=0.12</td>\n",
       "      <td>M</td>\n",
       "      <td>(7,51)</td>\n",
       "      <td>disconnect</td>\n",
       "      <td>pop=10</td>\n",
       "    </tr>\n",
       "    <tr>\n",
       "      <th>2</th>\n",
       "      <td>bigserver1</td>\n",
       "      <td>194.0</td>\n",
       "      <td>arc</td>\n",
       "      <td>D</td>\n",
       "      <td>1548458097</td>\n",
       "      <td>14.0</td>\n",
       "      <td>cf5135550e971c587e4fa57eadef593d031971f3</td>\n",
       "      <td>age=0.05</td>\n",
       "      <td>M</td>\n",
       "      <td>(50,-7)</td>\n",
       "      <td>disconnect</td>\n",
       "      <td>pop=10</td>\n",
       "    </tr>\n",
       "    <tr>\n",
       "      <th>3</th>\n",
       "      <td>bigserver1</td>\n",
       "      <td>194.0</td>\n",
       "      <td>arc</td>\n",
       "      <td>D</td>\n",
       "      <td>1548458098</td>\n",
       "      <td>13.0</td>\n",
       "      <td>16de33d89e8a16656e1404a4d56b4b0a579e1583</td>\n",
       "      <td>age=14.14</td>\n",
       "      <td>F</td>\n",
       "      <td>(50,-7)</td>\n",
       "      <td>disconnect</td>\n",
       "      <td>pop=10</td>\n",
       "    </tr>\n",
       "    <tr>\n",
       "      <th>4</th>\n",
       "      <td>bigserver1</td>\n",
       "      <td>194.0</td>\n",
       "      <td>arc</td>\n",
       "      <td>D</td>\n",
       "      <td>1548458102</td>\n",
       "      <td>5.0</td>\n",
       "      <td>5f79fe6c7b7f7f8be2900bacb7f64fa1036197de</td>\n",
       "      <td>age=0.45</td>\n",
       "      <td>F</td>\n",
       "      <td>(-59,-11)</td>\n",
       "      <td>hunger</td>\n",
       "      <td>pop=9</td>\n",
       "    </tr>\n",
       "  </tbody>\n",
       "</table>\n",
       "</div>"
      ],
      "text/plain": [
       "       server  release  era  0           1     2  \\\n",
       "0  bigserver1    194.0  arc  D  1548458078   4.0   \n",
       "1  bigserver1    194.0  arc  D  1548458090  10.0   \n",
       "2  bigserver1    194.0  arc  D  1548458097  14.0   \n",
       "3  bigserver1    194.0  arc  D  1548458098  13.0   \n",
       "4  bigserver1    194.0  arc  D  1548458102   5.0   \n",
       "\n",
       "                                          3          4  5          6  \\\n",
       "0  cf5135550e971c587e4fa57eadef593d031971f3  age=14.08  F   (-43,26)   \n",
       "1  cf5135550e971c587e4fa57eadef593d031971f3   age=0.12  M     (7,51)   \n",
       "2  cf5135550e971c587e4fa57eadef593d031971f3   age=0.05  M    (50,-7)   \n",
       "3  16de33d89e8a16656e1404a4d56b4b0a579e1583  age=14.14  F    (50,-7)   \n",
       "4  5f79fe6c7b7f7f8be2900bacb7f64fa1036197de   age=0.45  F  (-59,-11)   \n",
       "\n",
       "            7       8  \n",
       "0  disconnect   pop=4  \n",
       "1  disconnect  pop=10  \n",
       "2  disconnect  pop=10  \n",
       "3  disconnect  pop=10  \n",
       "4      hunger   pop=9  "
      ]
     },
     "execution_count": 14,
     "metadata": {},
     "output_type": "execute_result"
    }
   ],
   "source": [
    "death_raw = raw_data[raw_data.iloc[:,3] == 'D'].copy().reset_index(drop=True)\n",
    "death_raw.head()"
   ]
  },
  {
   "cell_type": "markdown",
   "metadata": {},
   "source": [
    "Births:"
   ]
  },
  {
   "cell_type": "code",
   "execution_count": 15,
   "metadata": {},
   "outputs": [
    {
     "data": {
      "text/html": [
       "<div>\n",
       "<style scoped>\n",
       "    .dataframe tbody tr th:only-of-type {\n",
       "        vertical-align: middle;\n",
       "    }\n",
       "\n",
       "    .dataframe tbody tr th {\n",
       "        vertical-align: top;\n",
       "    }\n",
       "\n",
       "    .dataframe thead th {\n",
       "        text-align: right;\n",
       "    }\n",
       "</style>\n",
       "<table border=\"1\" class=\"dataframe\">\n",
       "  <thead>\n",
       "    <tr style=\"text-align: right;\">\n",
       "      <th></th>\n",
       "      <th>server</th>\n",
       "      <th>release</th>\n",
       "      <th>era</th>\n",
       "      <th>0</th>\n",
       "      <th>1</th>\n",
       "      <th>2</th>\n",
       "      <th>3</th>\n",
       "      <th>4</th>\n",
       "      <th>5</th>\n",
       "      <th>6</th>\n",
       "      <th>7</th>\n",
       "      <th>8</th>\n",
       "    </tr>\n",
       "  </thead>\n",
       "  <tbody>\n",
       "    <tr>\n",
       "      <th>0</th>\n",
       "      <td>bigserver1</td>\n",
       "      <td>194.0</td>\n",
       "      <td>arc</td>\n",
       "      <td>B</td>\n",
       "      <td>1548458068</td>\n",
       "      <td>2.0</td>\n",
       "      <td>989df9f12fbd84ae3abdd1c50cdcf6245fd79a79</td>\n",
       "      <td>F</td>\n",
       "      <td>(50,-7)</td>\n",
       "      <td>noParent</td>\n",
       "      <td>pop=1</td>\n",
       "      <td>chain=1</td>\n",
       "    </tr>\n",
       "    <tr>\n",
       "      <th>1</th>\n",
       "      <td>bigserver1</td>\n",
       "      <td>194.0</td>\n",
       "      <td>arc</td>\n",
       "      <td>B</td>\n",
       "      <td>1548458071</td>\n",
       "      <td>3.0</td>\n",
       "      <td>750a099096bc2c7244bd0a48ab92585a3c414644</td>\n",
       "      <td>M</td>\n",
       "      <td>(50,-7)</td>\n",
       "      <td>parent=2</td>\n",
       "      <td>pop=2</td>\n",
       "      <td>chain=2</td>\n",
       "    </tr>\n",
       "    <tr>\n",
       "      <th>2</th>\n",
       "      <td>bigserver1</td>\n",
       "      <td>194.0</td>\n",
       "      <td>arc</td>\n",
       "      <td>B</td>\n",
       "      <td>1548458074</td>\n",
       "      <td>4.0</td>\n",
       "      <td>cf5135550e971c587e4fa57eadef593d031971f3</td>\n",
       "      <td>F</td>\n",
       "      <td>(-43,26)</td>\n",
       "      <td>noParent</td>\n",
       "      <td>pop=3</td>\n",
       "      <td>chain=1</td>\n",
       "    </tr>\n",
       "    <tr>\n",
       "      <th>3</th>\n",
       "      <td>bigserver1</td>\n",
       "      <td>194.0</td>\n",
       "      <td>arc</td>\n",
       "      <td>B</td>\n",
       "      <td>1548458075</td>\n",
       "      <td>5.0</td>\n",
       "      <td>5f79fe6c7b7f7f8be2900bacb7f64fa1036197de</td>\n",
       "      <td>F</td>\n",
       "      <td>(-43,26)</td>\n",
       "      <td>parent=4</td>\n",
       "      <td>pop=4</td>\n",
       "      <td>chain=2</td>\n",
       "    </tr>\n",
       "    <tr>\n",
       "      <th>4</th>\n",
       "      <td>bigserver1</td>\n",
       "      <td>194.0</td>\n",
       "      <td>arc</td>\n",
       "      <td>B</td>\n",
       "      <td>1548458076</td>\n",
       "      <td>6.0</td>\n",
       "      <td>1ba18eb436c2cc1d0cf1a2a5c850abf4434cc587</td>\n",
       "      <td>F</td>\n",
       "      <td>(-14,-48)</td>\n",
       "      <td>noParent</td>\n",
       "      <td>pop=5</td>\n",
       "      <td>chain=1</td>\n",
       "    </tr>\n",
       "  </tbody>\n",
       "</table>\n",
       "</div>"
      ],
      "text/plain": [
       "       server  release  era  0           1    2  \\\n",
       "0  bigserver1    194.0  arc  B  1548458068  2.0   \n",
       "1  bigserver1    194.0  arc  B  1548458071  3.0   \n",
       "2  bigserver1    194.0  arc  B  1548458074  4.0   \n",
       "3  bigserver1    194.0  arc  B  1548458075  5.0   \n",
       "4  bigserver1    194.0  arc  B  1548458076  6.0   \n",
       "\n",
       "                                          3  4          5         6      7  \\\n",
       "0  989df9f12fbd84ae3abdd1c50cdcf6245fd79a79  F    (50,-7)  noParent  pop=1   \n",
       "1  750a099096bc2c7244bd0a48ab92585a3c414644  M    (50,-7)  parent=2  pop=2   \n",
       "2  cf5135550e971c587e4fa57eadef593d031971f3  F   (-43,26)  noParent  pop=3   \n",
       "3  5f79fe6c7b7f7f8be2900bacb7f64fa1036197de  F   (-43,26)  parent=4  pop=4   \n",
       "4  1ba18eb436c2cc1d0cf1a2a5c850abf4434cc587  F  (-14,-48)  noParent  pop=5   \n",
       "\n",
       "         8  \n",
       "0  chain=1  \n",
       "1  chain=2  \n",
       "2  chain=1  \n",
       "3  chain=2  \n",
       "4  chain=1  "
      ]
     },
     "execution_count": 15,
     "metadata": {},
     "output_type": "execute_result"
    }
   ],
   "source": [
    "birth_raw = raw_data[raw_data.iloc[:,3] == 'B'].copy().reset_index(drop=True)\n",
    "birth_raw.head()"
   ]
  },
  {
   "cell_type": "markdown",
   "metadata": {},
   "source": [
    "### Clean up data"
   ]
  },
  {
   "cell_type": "code",
   "execution_count": 23,
   "metadata": {},
   "outputs": [],
   "source": [
    "shared_header = ['server', 'release', 'era',\n",
    "                 'event', 'timestamp', 'playerID',\n",
    "                 'hash', 'age', 'sex', 'parent', 'location',\n",
    "                 'cause_of_death', 'pop', 'chain', 'killer']"
   ]
  },
  {
   "cell_type": "markdown",
   "metadata": {},
   "source": [
    "#### Deaths"
   ]
  },
  {
   "cell_type": "code",
   "execution_count": 24,
   "metadata": {
    "scrolled": false
   },
   "outputs": [
    {
     "data": {
      "text/html": [
       "<div>\n",
       "<style scoped>\n",
       "    .dataframe tbody tr th:only-of-type {\n",
       "        vertical-align: middle;\n",
       "    }\n",
       "\n",
       "    .dataframe tbody tr th {\n",
       "        vertical-align: top;\n",
       "    }\n",
       "\n",
       "    .dataframe thead th {\n",
       "        text-align: right;\n",
       "    }\n",
       "</style>\n",
       "<table border=\"1\" class=\"dataframe\">\n",
       "  <thead>\n",
       "    <tr style=\"text-align: right;\">\n",
       "      <th></th>\n",
       "      <th>server</th>\n",
       "      <th>release</th>\n",
       "      <th>era</th>\n",
       "      <th>event</th>\n",
       "      <th>timestamp</th>\n",
       "      <th>playerID</th>\n",
       "      <th>hash</th>\n",
       "      <th>age</th>\n",
       "      <th>sex</th>\n",
       "      <th>parent</th>\n",
       "      <th>location</th>\n",
       "      <th>cause_of_death</th>\n",
       "      <th>pop</th>\n",
       "      <th>chain</th>\n",
       "      <th>killer</th>\n",
       "    </tr>\n",
       "  </thead>\n",
       "  <tbody>\n",
       "    <tr>\n",
       "      <th>0</th>\n",
       "      <td>bigserver1</td>\n",
       "      <td>194.0</td>\n",
       "      <td>arc</td>\n",
       "      <td>D</td>\n",
       "      <td>1548458078</td>\n",
       "      <td>4.0</td>\n",
       "      <td>cf5135550e971c587e4fa57eadef593d031971f3</td>\n",
       "      <td>age=14.08</td>\n",
       "      <td>F</td>\n",
       "      <td>NaN</td>\n",
       "      <td>(-43,26)</td>\n",
       "      <td>disconnect</td>\n",
       "      <td>pop=4</td>\n",
       "      <td>NaN</td>\n",
       "      <td>NaN</td>\n",
       "    </tr>\n",
       "    <tr>\n",
       "      <th>1</th>\n",
       "      <td>bigserver1</td>\n",
       "      <td>194.0</td>\n",
       "      <td>arc</td>\n",
       "      <td>D</td>\n",
       "      <td>1548458090</td>\n",
       "      <td>10.0</td>\n",
       "      <td>cf5135550e971c587e4fa57eadef593d031971f3</td>\n",
       "      <td>age=0.12</td>\n",
       "      <td>M</td>\n",
       "      <td>NaN</td>\n",
       "      <td>(7,51)</td>\n",
       "      <td>disconnect</td>\n",
       "      <td>pop=10</td>\n",
       "      <td>NaN</td>\n",
       "      <td>NaN</td>\n",
       "    </tr>\n",
       "    <tr>\n",
       "      <th>2</th>\n",
       "      <td>bigserver1</td>\n",
       "      <td>194.0</td>\n",
       "      <td>arc</td>\n",
       "      <td>D</td>\n",
       "      <td>1548458097</td>\n",
       "      <td>14.0</td>\n",
       "      <td>cf5135550e971c587e4fa57eadef593d031971f3</td>\n",
       "      <td>age=0.05</td>\n",
       "      <td>M</td>\n",
       "      <td>NaN</td>\n",
       "      <td>(50,-7)</td>\n",
       "      <td>disconnect</td>\n",
       "      <td>pop=10</td>\n",
       "      <td>NaN</td>\n",
       "      <td>NaN</td>\n",
       "    </tr>\n",
       "    <tr>\n",
       "      <th>3</th>\n",
       "      <td>bigserver1</td>\n",
       "      <td>194.0</td>\n",
       "      <td>arc</td>\n",
       "      <td>D</td>\n",
       "      <td>1548458098</td>\n",
       "      <td>13.0</td>\n",
       "      <td>16de33d89e8a16656e1404a4d56b4b0a579e1583</td>\n",
       "      <td>age=14.14</td>\n",
       "      <td>F</td>\n",
       "      <td>NaN</td>\n",
       "      <td>(50,-7)</td>\n",
       "      <td>disconnect</td>\n",
       "      <td>pop=10</td>\n",
       "      <td>NaN</td>\n",
       "      <td>NaN</td>\n",
       "    </tr>\n",
       "    <tr>\n",
       "      <th>4</th>\n",
       "      <td>bigserver1</td>\n",
       "      <td>194.0</td>\n",
       "      <td>arc</td>\n",
       "      <td>D</td>\n",
       "      <td>1548458102</td>\n",
       "      <td>5.0</td>\n",
       "      <td>5f79fe6c7b7f7f8be2900bacb7f64fa1036197de</td>\n",
       "      <td>age=0.45</td>\n",
       "      <td>F</td>\n",
       "      <td>NaN</td>\n",
       "      <td>(-59,-11)</td>\n",
       "      <td>hunger</td>\n",
       "      <td>pop=9</td>\n",
       "      <td>NaN</td>\n",
       "      <td>NaN</td>\n",
       "    </tr>\n",
       "  </tbody>\n",
       "</table>\n",
       "</div>"
      ],
      "text/plain": [
       "       server  release  era event   timestamp  playerID  \\\n",
       "0  bigserver1    194.0  arc     D  1548458078       4.0   \n",
       "1  bigserver1    194.0  arc     D  1548458090      10.0   \n",
       "2  bigserver1    194.0  arc     D  1548458097      14.0   \n",
       "3  bigserver1    194.0  arc     D  1548458098      13.0   \n",
       "4  bigserver1    194.0  arc     D  1548458102       5.0   \n",
       "\n",
       "                                       hash        age sex  parent   location  \\\n",
       "0  cf5135550e971c587e4fa57eadef593d031971f3  age=14.08   F     NaN   (-43,26)   \n",
       "1  cf5135550e971c587e4fa57eadef593d031971f3   age=0.12   M     NaN     (7,51)   \n",
       "2  cf5135550e971c587e4fa57eadef593d031971f3   age=0.05   M     NaN    (50,-7)   \n",
       "3  16de33d89e8a16656e1404a4d56b4b0a579e1583  age=14.14   F     NaN    (50,-7)   \n",
       "4  5f79fe6c7b7f7f8be2900bacb7f64fa1036197de   age=0.45   F     NaN  (-59,-11)   \n",
       "\n",
       "  cause_of_death     pop  chain  killer  \n",
       "0     disconnect   pop=4    NaN     NaN  \n",
       "1     disconnect  pop=10    NaN     NaN  \n",
       "2     disconnect  pop=10    NaN     NaN  \n",
       "3     disconnect  pop=10    NaN     NaN  \n",
       "4         hunger   pop=9    NaN     NaN  "
      ]
     },
     "execution_count": 24,
     "metadata": {},
     "output_type": "execute_result"
    }
   ],
   "source": [
    "death_data = death_raw.copy()\n",
    "# Insert missing columns\n",
    "death_data.insert(9, 'parent', np.nan)\n",
    "death_data.insert(13, 'chain', np.nan)\n",
    "death_data.insert(14, 'killer', np.nan)\n",
    "\n",
    "death_data.columns = shared_header                \n",
    "\n",
    "death_data.head()"
   ]
  },
  {
   "cell_type": "code",
   "execution_count": 22,
   "metadata": {
    "collapsed": true
   },
   "outputs": [
    {
     "data": {
      "text/plain": [
       "server            bigserver2\n",
       "release                  209\n",
       "era                      arc\n",
       "event                      D\n",
       "timestamp         1551928834\n",
       "pllayerID                NaN\n",
       "hash                     NaN\n",
       "age                      NaN\n",
       "sex                      NaN\n",
       "parent                   NaN\n",
       "location                 NaN\n",
       "cause_of_death           NaN\n",
       "pop                      NaN\n",
       "chain                    NaN\n",
       "killer                   NaN\n",
       "Name: 540906, dtype: object"
      ]
     },
     "execution_count": 22,
     "metadata": {},
     "output_type": "execute_result"
    }
   ],
   "source": [
    "row"
   ]
  },
  {
   "cell_type": "code",
   "execution_count": 20,
   "metadata": {},
   "outputs": [
    {
     "data": {
      "application/vnd.jupyter.widget-view+json": {
       "model_id": "ae9f368e9c074d25befec271cb0575a1",
       "version_major": 2,
       "version_minor": 0
      },
      "text/plain": [
       "HBox(children=(FloatProgress(value=0.0, max=6296028.0), HTML(value='')))"
      ]
     },
     "metadata": {},
     "output_type": "display_data"
    },
    {
     "ename": "TypeError",
     "evalue": "expected string or bytes-like object",
     "output_type": "error",
     "traceback": [
      "\u001b[0;31m---------------------------------------------------------------------------\u001b[0m",
      "\u001b[0;31mTypeError\u001b[0m                                 Traceback (most recent call last)",
      "\u001b[0;32m<ipython-input-20-a3f5f9ff1586>\u001b[0m in \u001b[0;36m<module>\u001b[0;34m\u001b[0m\n\u001b[1;32m      1\u001b[0m \u001b[0;32mfor\u001b[0m \u001b[0mi\u001b[0m\u001b[0;34m,\u001b[0m \u001b[0mrow\u001b[0m \u001b[0;32min\u001b[0m \u001b[0mnotebook\u001b[0m\u001b[0;34m.\u001b[0m\u001b[0mtqdm\u001b[0m\u001b[0;34m(\u001b[0m\u001b[0mdeath_data\u001b[0m\u001b[0;34m.\u001b[0m\u001b[0miterrows\u001b[0m\u001b[0;34m(\u001b[0m\u001b[0;34m)\u001b[0m\u001b[0;34m,\u001b[0m \u001b[0mtotal\u001b[0m\u001b[0;34m=\u001b[0m\u001b[0mdeath_data\u001b[0m\u001b[0;34m.\u001b[0m\u001b[0mshape\u001b[0m\u001b[0;34m[\u001b[0m\u001b[0;36m0\u001b[0m\u001b[0;34m]\u001b[0m\u001b[0;34m)\u001b[0m\u001b[0;34m:\u001b[0m\u001b[0;34m\u001b[0m\u001b[0;34m\u001b[0m\u001b[0m\n\u001b[0;32m----> 2\u001b[0;31m     \u001b[0mage\u001b[0m \u001b[0;34m=\u001b[0m \u001b[0mstr_extract\u001b[0m\u001b[0;34m(\u001b[0m\u001b[0;34m'(?<=age=)\\d+\\.\\d+'\u001b[0m\u001b[0;34m,\u001b[0m \u001b[0mrow\u001b[0m\u001b[0;34m[\u001b[0m\u001b[0;34m'age'\u001b[0m\u001b[0;34m]\u001b[0m\u001b[0;34m)\u001b[0m\u001b[0;34m\u001b[0m\u001b[0;34m\u001b[0m\u001b[0m\n\u001b[0m\u001b[1;32m      3\u001b[0m     \u001b[0mage\u001b[0m \u001b[0;34m=\u001b[0m \u001b[0mfloat\u001b[0m\u001b[0;34m(\u001b[0m\u001b[0mage\u001b[0m\u001b[0;34m)\u001b[0m\u001b[0;34m\u001b[0m\u001b[0;34m\u001b[0m\u001b[0m\n\u001b[1;32m      4\u001b[0m \u001b[0;34m\u001b[0m\u001b[0m\n\u001b[1;32m      5\u001b[0m     \u001b[0mpop\u001b[0m \u001b[0;34m=\u001b[0m \u001b[0mstr_extract\u001b[0m\u001b[0;34m(\u001b[0m\u001b[0;34m'(?<=pop=)[0-9]+'\u001b[0m\u001b[0;34m,\u001b[0m \u001b[0mrow\u001b[0m\u001b[0;34m[\u001b[0m\u001b[0;34m'pop'\u001b[0m\u001b[0;34m]\u001b[0m\u001b[0;34m)\u001b[0m\u001b[0;34m\u001b[0m\u001b[0;34m\u001b[0m\u001b[0m\n",
      "\u001b[0;32m<ipython-input-2-b1b24fa13dd2>\u001b[0m in \u001b[0;36m<lambda>\u001b[0;34m(pattern, s)\u001b[0m\n\u001b[1;32m      1\u001b[0m \u001b[0mgsearch\u001b[0m \u001b[0;34m=\u001b[0m \u001b[0;32mlambda\u001b[0m \u001b[0;34m*\u001b[0m\u001b[0margs\u001b[0m\u001b[0;34m:\u001b[0m \u001b[0mglob\u001b[0m\u001b[0;34m.\u001b[0m\u001b[0mglob\u001b[0m\u001b[0;34m(\u001b[0m\u001b[0mopj\u001b[0m\u001b[0;34m(\u001b[0m\u001b[0;34m*\u001b[0m\u001b[0margs\u001b[0m\u001b[0;34m)\u001b[0m\u001b[0;34m)\u001b[0m\u001b[0;34m\u001b[0m\u001b[0;34m\u001b[0m\u001b[0m\n\u001b[0;32m----> 2\u001b[0;31m \u001b[0mstr_extract\u001b[0m \u001b[0;34m=\u001b[0m \u001b[0;32mlambda\u001b[0m \u001b[0mpattern\u001b[0m\u001b[0;34m,\u001b[0m \u001b[0ms\u001b[0m\u001b[0;34m:\u001b[0m \u001b[0mre\u001b[0m\u001b[0;34m.\u001b[0m\u001b[0msearch\u001b[0m\u001b[0;34m(\u001b[0m\u001b[0mpattern\u001b[0m\u001b[0;34m,\u001b[0m \u001b[0ms\u001b[0m\u001b[0;34m)\u001b[0m\u001b[0;34m.\u001b[0m\u001b[0mgroup\u001b[0m\u001b[0;34m(\u001b[0m\u001b[0;36m0\u001b[0m\u001b[0;34m)\u001b[0m\u001b[0;34m\u001b[0m\u001b[0;34m\u001b[0m\u001b[0m\n\u001b[0m",
      "\u001b[0;32m~/opt/anaconda3/lib/python3.7/re.py\u001b[0m in \u001b[0;36msearch\u001b[0;34m(pattern, string, flags)\u001b[0m\n\u001b[1;32m    181\u001b[0m     \"\"\"Scan through string looking for a match to the pattern, returning\n\u001b[1;32m    182\u001b[0m     a Match object, or None if no match was found.\"\"\"\n\u001b[0;32m--> 183\u001b[0;31m     \u001b[0;32mreturn\u001b[0m \u001b[0m_compile\u001b[0m\u001b[0;34m(\u001b[0m\u001b[0mpattern\u001b[0m\u001b[0;34m,\u001b[0m \u001b[0mflags\u001b[0m\u001b[0;34m)\u001b[0m\u001b[0;34m.\u001b[0m\u001b[0msearch\u001b[0m\u001b[0;34m(\u001b[0m\u001b[0mstring\u001b[0m\u001b[0;34m)\u001b[0m\u001b[0;34m\u001b[0m\u001b[0;34m\u001b[0m\u001b[0m\n\u001b[0m\u001b[1;32m    184\u001b[0m \u001b[0;34m\u001b[0m\u001b[0m\n\u001b[1;32m    185\u001b[0m \u001b[0;32mdef\u001b[0m \u001b[0msub\u001b[0m\u001b[0;34m(\u001b[0m\u001b[0mpattern\u001b[0m\u001b[0;34m,\u001b[0m \u001b[0mrepl\u001b[0m\u001b[0;34m,\u001b[0m \u001b[0mstring\u001b[0m\u001b[0;34m,\u001b[0m \u001b[0mcount\u001b[0m\u001b[0;34m=\u001b[0m\u001b[0;36m0\u001b[0m\u001b[0;34m,\u001b[0m \u001b[0mflags\u001b[0m\u001b[0;34m=\u001b[0m\u001b[0;36m0\u001b[0m\u001b[0;34m)\u001b[0m\u001b[0;34m:\u001b[0m\u001b[0;34m\u001b[0m\u001b[0;34m\u001b[0m\u001b[0m\n",
      "\u001b[0;31mTypeError\u001b[0m: expected string or bytes-like object"
     ]
    }
   ],
   "source": [
    "for i, row in notebook.tqdm(death_data.iterrows(), total=death_data.shape[0]):\n",
    "    age = str_extract('(?<=age=)\\d+\\.\\d+', row['age'])\n",
    "    age = float(age)\n",
    "    \n",
    "    pop = str_extract('(?<=pop=)[0-9]+', row['pop'])\n",
    "    pop = int(pop)\n",
    "    \n",
    "    death_data.at[i, 'age'] = age\n",
    "    death_data.at[i, 'pop'] = pop"
   ]
  },
  {
   "cell_type": "markdown",
   "metadata": {},
   "source": [
    "Clean up IDs,  locations, causes of death"
   ]
  },
  {
   "cell_type": "code",
   "execution_count": null,
   "metadata": {},
   "outputs": [],
   "source": [
    "# Unique ID: Player ID + hash\n",
    "death_data['uniqueID'] = death_data.apply(lambda row: '%s_%s_%s' % (row['playerID'], row['server'], row['release']),\n",
    "                                          axis=1)\n",
    "\n",
    "# Locations\n",
    "death_data['location'] = death_data['location'].apply(make_tuple)\n",
    "\n",
    "# Check for murdered players\n",
    "murderers = death_data['cause_of_death'].str.extract(r'(?<=killer_)([0-9]+)', expand=False)\n",
    "death_data['cause_of_death'] = death_data['cause_of_death'].str.replace(\"killer_[0-9]+\", \"murdered\")\n",
    "death_data['killer'] = murderers\n",
    "\n",
    "print(death_data['cause_of_death'].unique())\n",
    "print(death_data['killer'].unique()[:10])\n",
    "\n",
    "death_data.head()"
   ]
  },
  {
   "cell_type": "markdown",
   "metadata": {},
   "source": [
    "#### Births"
   ]
  },
  {
   "cell_type": "code",
   "execution_count": null,
   "metadata": {},
   "outputs": [],
   "source": [
    "birth_data = birth_raw.copy()\n",
    "# Insert missing columns\n",
    "birth_data.insert(6, 'uniqueID', np.nan)\n",
    "birth_data.insert(7, 'age', np.nan)\n",
    "birth_data.insert(11, 'cause_of_death', np.nan)\n",
    "birth_data.insert(12, 'killer', np.nan)\n",
    "birth_data.columns = shared_header\n",
    "\n",
    "for i, row in tqdm_notebook(birth_data.iterrows(), total=birth_data.shape[0]):    \n",
    "    pop = str_extract('(?<=pop=)[0-9]+', row['pop'])\n",
    "    pop = int(pop)\n",
    "    \n",
    "    chain = str_extract('(?<=chain=)[0-9]+', row['chain'])\n",
    "    chain = int(chain)\n",
    "    \n",
    "    birth_data.at[i, 'pop'] = pop\n",
    "    birth_data.at[i, 'chain'] = chain\n",
    "\n",
    "birth_data.head()"
   ]
  },
  {
   "cell_type": "markdown",
   "metadata": {},
   "source": [
    "Clean up IDs, locations, parents:"
   ]
  },
  {
   "cell_type": "code",
   "execution_count": null,
   "metadata": {},
   "outputs": [],
   "source": [
    "birth_data['uniqueID'] = birth_data.apply(lambda row: '%s_%s_%s' % (row['playerID'], row['server'], row['release']), \n",
    "                                          axis=1)\n",
    "birth_data['location'] = birth_data['location'].apply(make_tuple)\n",
    "birth_data['parent'] = birth_data['parent'].str.extract(r'(?<=parent=)([0-9]+)')\n",
    "\n",
    "birth_data.head()"
   ]
  },
  {
   "cell_type": "markdown",
   "metadata": {},
   "source": [
    "#### Save outputs"
   ]
  },
  {
   "cell_type": "code",
   "execution_count": null,
   "metadata": {
    "scrolled": true
   },
   "outputs": [],
   "source": [
    "lifelog_data = pd.concat([death_data, birth_data])\n",
    "lifelog_data = lifelog_data.sort_values(by=['server', 'timestamp'])\n",
    "lifelog_data = lifelog_data.reset_index(drop=True)\n",
    "\n",
    "lifelog_data.head()"
   ]
  },
  {
   "cell_type": "code",
   "execution_count": null,
   "metadata": {},
   "outputs": [],
   "source": [
    "lifelog_data.to_csv('outputs/lifelogs_201907-202005_data.tsv', sep='\\t', index=True)"
   ]
  }
 ],
 "metadata": {
  "kernelspec": {
   "display_name": "Python 3",
   "language": "python",
   "name": "python3"
  },
  "language_info": {
   "codemirror_mode": {
    "name": "ipython",
    "version": 3
   },
   "file_extension": ".py",
   "mimetype": "text/x-python",
   "name": "python",
   "nbconvert_exporter": "python",
   "pygments_lexer": "ipython3",
   "version": "3.7.6"
  },
  "toc": {
   "base_numbering": 1,
   "nav_menu": {},
   "number_sections": true,
   "sideBar": true,
   "skip_h1_title": false,
   "title_cell": "Table of Contents",
   "title_sidebar": "Contents",
   "toc_cell": false,
   "toc_position": {},
   "toc_section_display": true,
   "toc_window_display": false
  }
 },
 "nbformat": 4,
 "nbformat_minor": 2
}
