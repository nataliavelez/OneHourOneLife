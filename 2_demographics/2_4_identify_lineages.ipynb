{
 "cells": [
  {
   "cell_type": "markdown",
   "metadata": {},
   "source": [
    "# Lineages\n",
    "Natalia Vélez, July 2020\n",
    "\n",
    "The goal of this notebook is to construct family graphs (directed graph from parent —> child) out of the lifelog data. These family trees will be used in several other analyses."
   ]
  },
  {
   "cell_type": "code",
   "execution_count": 2,
   "metadata": {
    "ExecuteTime": {
     "end_time": "2020-01-09T18:53:46.358191Z",
     "start_time": "2020-01-09T18:53:44.884317Z"
    }
   },
   "outputs": [],
   "source": [
    "%matplotlib inline\n",
    "\n",
    "import os, re, glob, json\n",
    "import pandas as pd\n",
    "import numpy as np\n",
    "\n",
    "import networkx as nx\n",
    "import matplotlib.pyplot as plt\n",
    "import seaborn as sns\n",
    "from networkx.drawing.nx_agraph import graphviz_layout\n",
    "\n",
    "from os.path import join as opj\n",
    "from tqdm import notebook\n",
    "from ast import literal_eval as make_tuple\n",
    "\n",
    "sns.set_context('talk')\n",
    "sns.set_style('white')\n",
    "\n",
    "def gsearch(*args): return glob.glob(opj(*args))"
   ]
  },
  {
   "cell_type": "markdown",
   "metadata": {},
   "source": [
    "Get data from all eras:"
   ]
  },
  {
   "cell_type": "code",
   "execution_count": 24,
   "metadata": {
    "ExecuteTime": {
     "end_time": "2020-01-09T18:53:48.757567Z",
     "start_time": "2020-01-09T18:53:48.167361Z"
    }
   },
   "outputs": [
    {
     "name": "stderr",
     "output_type": "stream",
     "text": [
      "/users/nvelezalicea/.conda/envs/py3/lib/python3.6/site-packages/numpy/lib/arraysetops.py:580: FutureWarning: elementwise comparison failed; returning scalar instead, but in the future will perform elementwise comparison\n",
      "  mask |= (ar1 == a)\n"
     ]
    },
    {
     "data": {
      "text/html": [
       "<div>\n",
       "<style scoped>\n",
       "    .dataframe tbody tr th:only-of-type {\n",
       "        vertical-align: middle;\n",
       "    }\n",
       "\n",
       "    .dataframe tbody tr th {\n",
       "        vertical-align: top;\n",
       "    }\n",
       "\n",
       "    .dataframe thead th {\n",
       "        text-align: right;\n",
       "    }\n",
       "</style>\n",
       "<table border=\"1\" class=\"dataframe\">\n",
       "  <thead>\n",
       "    <tr style=\"text-align: right;\">\n",
       "      <th></th>\n",
       "      <th>event</th>\n",
       "      <th>timestamp</th>\n",
       "      <th>avatar</th>\n",
       "      <th>player</th>\n",
       "      <th>age</th>\n",
       "      <th>sex</th>\n",
       "      <th>location</th>\n",
       "      <th>parent</th>\n",
       "      <th>cause_of_death</th>\n",
       "      <th>killer</th>\n",
       "    </tr>\n",
       "  </thead>\n",
       "  <tbody>\n",
       "    <tr>\n",
       "      <th>0</th>\n",
       "      <td>B</td>\n",
       "      <td>1573257612</td>\n",
       "      <td>2251779.0</td>\n",
       "      <td>9b90770e9c4144721a6abe58faa161ef6b555786</td>\n",
       "      <td>NaN</td>\n",
       "      <td>F</td>\n",
       "      <td>(-334, -521)</td>\n",
       "      <td>2251499</td>\n",
       "      <td>NaN</td>\n",
       "      <td>NaN</td>\n",
       "    </tr>\n",
       "    <tr>\n",
       "      <th>1</th>\n",
       "      <td>D</td>\n",
       "      <td>1573257621</td>\n",
       "      <td>2251778.0</td>\n",
       "      <td>c17d2f3663837c82e4f7669a40aa6f618e89e57a</td>\n",
       "      <td>0.54</td>\n",
       "      <td>F</td>\n",
       "      <td>(-361, -410)</td>\n",
       "      <td>NaN</td>\n",
       "      <td>hunger</td>\n",
       "      <td>NaN</td>\n",
       "    </tr>\n",
       "    <tr>\n",
       "      <th>2</th>\n",
       "      <td>B</td>\n",
       "      <td>1573257622</td>\n",
       "      <td>2251780.0</td>\n",
       "      <td>afb7da00e454ba6dac3cddbccfb8c14c5680ab1b</td>\n",
       "      <td>NaN</td>\n",
       "      <td>F</td>\n",
       "      <td>(-184, -916)</td>\n",
       "      <td>2251439</td>\n",
       "      <td>NaN</td>\n",
       "      <td>NaN</td>\n",
       "    </tr>\n",
       "    <tr>\n",
       "      <th>3</th>\n",
       "      <td>B</td>\n",
       "      <td>1573257623</td>\n",
       "      <td>2251781.0</td>\n",
       "      <td>abbebf5a1056fd091dff74135c014aa1081435d8</td>\n",
       "      <td>NaN</td>\n",
       "      <td>F</td>\n",
       "      <td>(-416, -524)</td>\n",
       "      <td>2251557</td>\n",
       "      <td>NaN</td>\n",
       "      <td>NaN</td>\n",
       "    </tr>\n",
       "    <tr>\n",
       "      <th>4</th>\n",
       "      <td>D</td>\n",
       "      <td>1573257624</td>\n",
       "      <td>2251740.0</td>\n",
       "      <td>bd6841eb13118ce2a0453e5802b91f7ec0c1e20e</td>\n",
       "      <td>3.72</td>\n",
       "      <td>F</td>\n",
       "      <td>(-238, -855)</td>\n",
       "      <td>NaN</td>\n",
       "      <td>hunger</td>\n",
       "      <td>NaN</td>\n",
       "    </tr>\n",
       "  </tbody>\n",
       "</table>\n",
       "</div>"
      ],
      "text/plain": [
       "  event   timestamp     avatar                                    player  \\\n",
       "0     B  1573257612  2251779.0  9b90770e9c4144721a6abe58faa161ef6b555786   \n",
       "1     D  1573257621  2251778.0  c17d2f3663837c82e4f7669a40aa6f618e89e57a   \n",
       "2     B  1573257622  2251780.0  afb7da00e454ba6dac3cddbccfb8c14c5680ab1b   \n",
       "3     B  1573257623  2251781.0  abbebf5a1056fd091dff74135c014aa1081435d8   \n",
       "4     D  1573257624  2251740.0  bd6841eb13118ce2a0453e5802b91f7ec0c1e20e   \n",
       "\n",
       "    age sex      location   parent cause_of_death  killer  \n",
       "0   NaN   F  (-334, -521)  2251499            NaN     NaN  \n",
       "1  0.54   F  (-361, -410)      NaN         hunger     NaN  \n",
       "2   NaN   F  (-184, -916)  2251439            NaN     NaN  \n",
       "3   NaN   F  (-416, -524)  2251557            NaN     NaN  \n",
       "4  3.72   F  (-238, -855)      NaN         hunger     NaN  "
      ]
     },
     "execution_count": 24,
     "metadata": {},
     "output_type": "execute_result"
    }
   ],
   "source": [
    "era_files = glob.glob('outputs/lifelogs*_data.tsv')\n",
    "era_list = []\n",
    "\n",
    "for f in era_files:\n",
    "    era_data = pd.read_csv(f, sep='\\t', index_col=0)\n",
    "    era_list.append(era_data)\n",
    "    \n",
    "era_df = pd.concat(era_list)\n",
    "era_df = era_df.drop(columns=['server', 'release', 'era'])\n",
    "era_df.head()"
   ]
  },
  {
   "cell_type": "markdown",
   "metadata": {},
   "source": [
    "Find players' parents and time/location of birth:"
   ]
  },
  {
   "cell_type": "code",
   "execution_count": 26,
   "metadata": {},
   "outputs": [
    {
     "data": {
      "text/html": [
       "<div>\n",
       "<style scoped>\n",
       "    .dataframe tbody tr th:only-of-type {\n",
       "        vertical-align: middle;\n",
       "    }\n",
       "\n",
       "    .dataframe tbody tr th {\n",
       "        vertical-align: top;\n",
       "    }\n",
       "\n",
       "    .dataframe thead th {\n",
       "        text-align: right;\n",
       "    }\n",
       "</style>\n",
       "<table border=\"1\" class=\"dataframe\">\n",
       "  <thead>\n",
       "    <tr style=\"text-align: right;\">\n",
       "      <th></th>\n",
       "      <th>player</th>\n",
       "      <th>avatar</th>\n",
       "      <th>tBirth</th>\n",
       "      <th>parent</th>\n",
       "      <th>birth</th>\n",
       "    </tr>\n",
       "  </thead>\n",
       "  <tbody>\n",
       "    <tr>\n",
       "      <th>0</th>\n",
       "      <td>9b90770e9c4144721a6abe58faa161ef6b555786</td>\n",
       "      <td>2251779.0</td>\n",
       "      <td>1573257612</td>\n",
       "      <td>2251499</td>\n",
       "      <td>(-334, -521)</td>\n",
       "    </tr>\n",
       "    <tr>\n",
       "      <th>2</th>\n",
       "      <td>afb7da00e454ba6dac3cddbccfb8c14c5680ab1b</td>\n",
       "      <td>2251780.0</td>\n",
       "      <td>1573257622</td>\n",
       "      <td>2251439</td>\n",
       "      <td>(-184, -916)</td>\n",
       "    </tr>\n",
       "    <tr>\n",
       "      <th>3</th>\n",
       "      <td>abbebf5a1056fd091dff74135c014aa1081435d8</td>\n",
       "      <td>2251781.0</td>\n",
       "      <td>1573257623</td>\n",
       "      <td>2251557</td>\n",
       "      <td>(-416, -524)</td>\n",
       "    </tr>\n",
       "    <tr>\n",
       "      <th>7</th>\n",
       "      <td>bd6841eb13118ce2a0453e5802b91f7ec0c1e20e</td>\n",
       "      <td>2251782.0</td>\n",
       "      <td>1573257629</td>\n",
       "      <td>2251463</td>\n",
       "      <td>(-156, -855)</td>\n",
       "    </tr>\n",
       "    <tr>\n",
       "      <th>9</th>\n",
       "      <td>40a960756347fa0a7c3d14791bd0379c6cc754cf</td>\n",
       "      <td>2251783.0</td>\n",
       "      <td>1573257634</td>\n",
       "      <td>2251595</td>\n",
       "      <td>(-155, -962)</td>\n",
       "    </tr>\n",
       "  </tbody>\n",
       "</table>\n",
       "</div>"
      ],
      "text/plain": [
       "                                     player     avatar      tBirth   parent  \\\n",
       "0  9b90770e9c4144721a6abe58faa161ef6b555786  2251779.0  1573257612  2251499   \n",
       "2  afb7da00e454ba6dac3cddbccfb8c14c5680ab1b  2251780.0  1573257622  2251439   \n",
       "3  abbebf5a1056fd091dff74135c014aa1081435d8  2251781.0  1573257623  2251557   \n",
       "7  bd6841eb13118ce2a0453e5802b91f7ec0c1e20e  2251782.0  1573257629  2251463   \n",
       "9  40a960756347fa0a7c3d14791bd0379c6cc754cf  2251783.0  1573257634  2251595   \n",
       "\n",
       "          birth  \n",
       "0  (-334, -521)  \n",
       "2  (-184, -916)  \n",
       "3  (-416, -524)  \n",
       "7  (-156, -855)  \n",
       "9  (-155, -962)  "
      ]
     },
     "execution_count": 26,
     "metadata": {},
     "output_type": "execute_result"
    }
   ],
   "source": [
    "idx_vars = ['player', 'avatar']\n",
    "births = era_df[era_df['event'] == 'B'].copy()\n",
    "births = births[idx_vars + ['timestamp', 'parent', 'location']]\n",
    "births = births.rename({'location': 'birth', 'timestamp': 'tBirth'}, axis='columns')\n",
    "births.head()"
   ]
  },
  {
   "cell_type": "markdown",
   "metadata": {},
   "source": [
    "Find time and circumstances of death:"
   ]
  },
  {
   "cell_type": "code",
   "execution_count": 27,
   "metadata": {},
   "outputs": [
    {
     "data": {
      "text/html": [
       "<div>\n",
       "<style scoped>\n",
       "    .dataframe tbody tr th:only-of-type {\n",
       "        vertical-align: middle;\n",
       "    }\n",
       "\n",
       "    .dataframe tbody tr th {\n",
       "        vertical-align: top;\n",
       "    }\n",
       "\n",
       "    .dataframe thead th {\n",
       "        text-align: right;\n",
       "    }\n",
       "</style>\n",
       "<table border=\"1\" class=\"dataframe\">\n",
       "  <thead>\n",
       "    <tr style=\"text-align: right;\">\n",
       "      <th></th>\n",
       "      <th>player</th>\n",
       "      <th>avatar</th>\n",
       "      <th>tDeath</th>\n",
       "      <th>death</th>\n",
       "      <th>age</th>\n",
       "      <th>cause_of_death</th>\n",
       "    </tr>\n",
       "  </thead>\n",
       "  <tbody>\n",
       "    <tr>\n",
       "      <th>1</th>\n",
       "      <td>c17d2f3663837c82e4f7669a40aa6f618e89e57a</td>\n",
       "      <td>2251778.0</td>\n",
       "      <td>1573257621</td>\n",
       "      <td>(-361, -410)</td>\n",
       "      <td>0.54</td>\n",
       "      <td>hunger</td>\n",
       "    </tr>\n",
       "    <tr>\n",
       "      <th>4</th>\n",
       "      <td>bd6841eb13118ce2a0453e5802b91f7ec0c1e20e</td>\n",
       "      <td>2251740.0</td>\n",
       "      <td>1573257624</td>\n",
       "      <td>(-238, -855)</td>\n",
       "      <td>3.72</td>\n",
       "      <td>hunger</td>\n",
       "    </tr>\n",
       "    <tr>\n",
       "      <th>5</th>\n",
       "      <td>7e058600565826811059c93c9ce403d7b6c4533b</td>\n",
       "      <td>2251577.0</td>\n",
       "      <td>1573257625</td>\n",
       "      <td>(-201, -903)</td>\n",
       "      <td>21.72</td>\n",
       "      <td>hunger</td>\n",
       "    </tr>\n",
       "    <tr>\n",
       "      <th>6</th>\n",
       "      <td>40a960756347fa0a7c3d14791bd0379c6cc754cf</td>\n",
       "      <td>2251776.0</td>\n",
       "      <td>1573257626</td>\n",
       "      <td>(-765, -581)</td>\n",
       "      <td>0.69</td>\n",
       "      <td>hunger</td>\n",
       "    </tr>\n",
       "    <tr>\n",
       "      <th>8</th>\n",
       "      <td>ac7e03fde959b54812abf9798cc25cf55b3d6baa</td>\n",
       "      <td>2251722.0</td>\n",
       "      <td>1573257632</td>\n",
       "      <td>(-323, -508)</td>\n",
       "      <td>5.90</td>\n",
       "      <td>hunger</td>\n",
       "    </tr>\n",
       "  </tbody>\n",
       "</table>\n",
       "</div>"
      ],
      "text/plain": [
       "                                     player     avatar      tDeath  \\\n",
       "1  c17d2f3663837c82e4f7669a40aa6f618e89e57a  2251778.0  1573257621   \n",
       "4  bd6841eb13118ce2a0453e5802b91f7ec0c1e20e  2251740.0  1573257624   \n",
       "5  7e058600565826811059c93c9ce403d7b6c4533b  2251577.0  1573257625   \n",
       "6  40a960756347fa0a7c3d14791bd0379c6cc754cf  2251776.0  1573257626   \n",
       "8  ac7e03fde959b54812abf9798cc25cf55b3d6baa  2251722.0  1573257632   \n",
       "\n",
       "          death    age cause_of_death  \n",
       "1  (-361, -410)   0.54         hunger  \n",
       "4  (-238, -855)   3.72         hunger  \n",
       "5  (-201, -903)  21.72         hunger  \n",
       "6  (-765, -581)   0.69         hunger  \n",
       "8  (-323, -508)   5.90         hunger  "
      ]
     },
     "execution_count": 27,
     "metadata": {},
     "output_type": "execute_result"
    }
   ],
   "source": [
    "deaths =  era_df[era_df['event'] == 'D'].copy()\n",
    "deaths = deaths[idx_vars + ['timestamp', 'location', 'age', 'cause_of_death']]\n",
    "deaths = deaths.rename({'location': 'death', 'timestamp': 'tDeath'}, axis='columns')\n",
    "\n",
    "deaths.head()"
   ]
  },
  {
   "cell_type": "markdown",
   "metadata": {},
   "source": [
    "## Merge births and deaths"
   ]
  },
  {
   "cell_type": "markdown",
   "metadata": {},
   "source": [
    "**DEBUG:** Look for missing player in births and deaths"
   ]
  },
  {
   "cell_type": "code",
   "execution_count": 28,
   "metadata": {},
   "outputs": [
    {
     "name": "stdout",
     "output_type": "stream",
     "text": [
      "[DEBUG] Searching for: 2279990\n",
      "                                         player     avatar      tBirth  \\\n",
      "53530  dab8f320de3602d9a7543ffeae4f39a6e14cafbc  2279990.0  1573948575   \n",
      "\n",
      "        parent         birth  \n",
      "53530  2279930  (-6452, 369)  \n",
      "                                         player     avatar      tDeath  \\\n",
      "53745  dab8f320de3602d9a7543ffeae4f39a6e14cafbc  2279990.0  1573951034   \n",
      "\n",
      "              death    age cause_of_death  \n",
      "53745  (-6441, 368)  40.98         hunger  \n"
     ]
    }
   ],
   "source": [
    "missing_id = 2279990\n",
    "print('[DEBUG] Searching for: %i' % missing_id)\n",
    "print(births[births['avatar'] == missing_id])\n",
    "print(deaths[deaths['avatar'] == missing_id])"
   ]
  },
  {
   "cell_type": "markdown",
   "metadata": {},
   "source": [
    "**DEBUG:** Unique avatar IDs in births and deaths"
   ]
  },
  {
   "cell_type": "code",
   "execution_count": 29,
   "metadata": {},
   "outputs": [
    {
     "name": "stdout",
     "output_type": "stream",
     "text": [
      "2934697 unique avatars\n",
      "2929522 in both\n",
      "4912 not in deaths: [ 221. 2850. 2851. 2852. 2937.]...\n",
      "263 not in births: [525308. 525311. 525312. 525332. 525358.]...\n"
     ]
    }
   ],
   "source": [
    "# Get unique avatars in each DF\n",
    "unique_births = np.unique(births['avatar'])\n",
    "unique_deaths = np.unique(deaths['avatar'])\n",
    "\n",
    "# How many total unique avatars?\n",
    "unique_avatars = np.concatenate((unique_births, unique_deaths))\n",
    "unique_avatars = np.unique(unique_avatars)\n",
    "\n",
    "# Which avatars are in deaths but not births, and vice versa?\n",
    "not_in_deaths = np.setdiff1d(unique_births, unique_deaths)\n",
    "not_in_births = np.setdiff1d(unique_deaths, unique_births)\n",
    "\n",
    "print('%i unique avatars' % len(unique_avatars))\n",
    "print('%i in both' % len(np.intersect1d(unique_births, unique_deaths)))\n",
    "print('%i not in deaths: %s...' % (len(not_in_deaths), not_in_deaths[:5],))\n",
    "print('%i not in births: %s...' % (len(not_in_births), not_in_births[:5],))"
   ]
  },
  {
   "cell_type": "markdown",
   "metadata": {},
   "source": [
    "Merge & clean up:"
   ]
  },
  {
   "cell_type": "code",
   "execution_count": 30,
   "metadata": {},
   "outputs": [
    {
     "name": "stdout",
     "output_type": "stream",
     "text": [
      "Births: (2934434, 5)\n",
      "Deaths: (2929785, 6)\n",
      "Merged dataframe: (2934697, 9)\n"
     ]
    }
   ],
   "source": [
    "print('Births: %s' % (births.shape,))\n",
    "print('Deaths: %s' % (deaths.shape,))\n",
    "\n",
    "life_df = pd.merge(births, deaths, on=idx_vars, how='outer')\n",
    "print('Merged dataframe: %s' % (life_df.shape,))"
   ]
  },
  {
   "cell_type": "code",
   "execution_count": 45,
   "metadata": {},
   "outputs": [
    {
     "data": {
      "text/html": [
       "<div>\n",
       "<style scoped>\n",
       "    .dataframe tbody tr th:only-of-type {\n",
       "        vertical-align: middle;\n",
       "    }\n",
       "\n",
       "    .dataframe tbody tr th {\n",
       "        vertical-align: top;\n",
       "    }\n",
       "\n",
       "    .dataframe thead th {\n",
       "        text-align: right;\n",
       "    }\n",
       "</style>\n",
       "<table border=\"1\" class=\"dataframe\">\n",
       "  <thead>\n",
       "    <tr style=\"text-align: right;\">\n",
       "      <th></th>\n",
       "      <th>player</th>\n",
       "      <th>avatar</th>\n",
       "      <th>tBirth</th>\n",
       "      <th>parent</th>\n",
       "      <th>birth</th>\n",
       "      <th>tDeath</th>\n",
       "      <th>death</th>\n",
       "      <th>age</th>\n",
       "      <th>cause_of_death</th>\n",
       "    </tr>\n",
       "  </thead>\n",
       "  <tbody>\n",
       "    <tr>\n",
       "      <th>2934518</th>\n",
       "      <td>ef551ed04f7b4c8195142dcaa00aa144c2b3e2bc</td>\n",
       "      <td>2549358.0</td>\n",
       "      <td>NaN</td>\n",
       "      <td>NaN</td>\n",
       "      <td>NaN</td>\n",
       "      <td>1.578615e+09</td>\n",
       "      <td>(-6189, 85)</td>\n",
       "      <td>3.78</td>\n",
       "      <td>hunger</td>\n",
       "    </tr>\n",
       "  </tbody>\n",
       "</table>\n",
       "</div>"
      ],
      "text/plain": [
       "                                           player     avatar  tBirth parent  \\\n",
       "2934518  ef551ed04f7b4c8195142dcaa00aa144c2b3e2bc  2549358.0     NaN    NaN   \n",
       "\n",
       "        birth        tDeath        death   age cause_of_death  \n",
       "2934518   NaN  1.578615e+09  (-6189, 85)  3.78         hunger  "
      ]
     },
     "execution_count": 45,
     "metadata": {},
     "output_type": "execute_result"
    }
   ],
   "source": [
    "life_df[life_df['avatar'] == not_in_births[-1]]"
   ]
  },
  {
   "cell_type": "code",
   "execution_count": 26,
   "metadata": {},
   "outputs": [
    {
     "name": "stdout",
     "output_type": "stream",
     "text": [
      "Birth/death locations...\n",
      "Splitting into x/y coords...\n",
      "Parsing player IDs...\n",
      "Parsing parents...\n",
      "Cleaning up...\n",
      "(2922932, 15)\n"
     ]
    },
    {
     "data": {
      "text/html": [
       "<div>\n",
       "<style scoped>\n",
       "    .dataframe tbody tr th:only-of-type {\n",
       "        vertical-align: middle;\n",
       "    }\n",
       "\n",
       "    .dataframe tbody tr th {\n",
       "        vertical-align: top;\n",
       "    }\n",
       "\n",
       "    .dataframe thead th {\n",
       "        text-align: right;\n",
       "    }\n",
       "</style>\n",
       "<table border=\"1\" class=\"dataframe\">\n",
       "  <thead>\n",
       "    <tr style=\"text-align: right;\">\n",
       "      <th></th>\n",
       "      <th>release</th>\n",
       "      <th>era</th>\n",
       "      <th>player</th>\n",
       "      <th>avatar</th>\n",
       "      <th>tBirth</th>\n",
       "      <th>parent</th>\n",
       "      <th>birth</th>\n",
       "      <th>tDeath</th>\n",
       "      <th>death</th>\n",
       "      <th>age</th>\n",
       "      <th>cause_of_death</th>\n",
       "      <th>birthX</th>\n",
       "      <th>birthY</th>\n",
       "      <th>deathX</th>\n",
       "      <th>deathY</th>\n",
       "    </tr>\n",
       "  </thead>\n",
       "  <tbody>\n",
       "    <tr>\n",
       "      <th>772934</th>\n",
       "      <td>342.0</td>\n",
       "      <td>boundless</td>\n",
       "      <td>a8b5975a81344f690f45ffc2554a0bc35af557a9</td>\n",
       "      <td>3080253</td>\n",
       "      <td>1592294343</td>\n",
       "      <td>3080205</td>\n",
       "      <td>[-454363, 94]</td>\n",
       "      <td>1592294346</td>\n",
       "      <td>[-454363, 94]</td>\n",
       "      <td>0.05</td>\n",
       "      <td>disconnect</td>\n",
       "      <td>-454363</td>\n",
       "      <td>94</td>\n",
       "      <td>-454363</td>\n",
       "      <td>94</td>\n",
       "    </tr>\n",
       "    <tr>\n",
       "      <th>772933</th>\n",
       "      <td>342.0</td>\n",
       "      <td>boundless</td>\n",
       "      <td>b2d09ba08ab6c9880104599a8bbfd91d9fa8e70d</td>\n",
       "      <td>3080250</td>\n",
       "      <td>1592294329</td>\n",
       "      <td>3080205</td>\n",
       "      <td>[-454363, 94]</td>\n",
       "      <td>1592294335</td>\n",
       "      <td>[-454363, 94]</td>\n",
       "      <td>0.10</td>\n",
       "      <td>disconnect</td>\n",
       "      <td>-454363</td>\n",
       "      <td>94</td>\n",
       "      <td>-454363</td>\n",
       "      <td>94</td>\n",
       "    </tr>\n",
       "    <tr>\n",
       "      <th>772932</th>\n",
       "      <td>342.0</td>\n",
       "      <td>boundless</td>\n",
       "      <td>a8b5975a81344f690f45ffc2554a0bc35af557a9</td>\n",
       "      <td>3080248</td>\n",
       "      <td>1592294261</td>\n",
       "      <td>3080224</td>\n",
       "      <td>[-454899, 207]</td>\n",
       "      <td>1592294337</td>\n",
       "      <td>[-454918, 159]</td>\n",
       "      <td>1.27</td>\n",
       "      <td>disconnect</td>\n",
       "      <td>-454899</td>\n",
       "      <td>207</td>\n",
       "      <td>-454918</td>\n",
       "      <td>159</td>\n",
       "    </tr>\n",
       "    <tr>\n",
       "      <th>772931</th>\n",
       "      <td>342.0</td>\n",
       "      <td>boundless</td>\n",
       "      <td>a8b5975a81344f690f45ffc2554a0bc35af557a9</td>\n",
       "      <td>3080247</td>\n",
       "      <td>1592294247</td>\n",
       "      <td>3080235</td>\n",
       "      <td>[-454796, -125]</td>\n",
       "      <td>1592294255</td>\n",
       "      <td>[-454796, -125]</td>\n",
       "      <td>0.13</td>\n",
       "      <td>disconnect</td>\n",
       "      <td>-454796</td>\n",
       "      <td>-125</td>\n",
       "      <td>-454796</td>\n",
       "      <td>-125</td>\n",
       "    </tr>\n",
       "    <tr>\n",
       "      <th>772930</th>\n",
       "      <td>342.0</td>\n",
       "      <td>boundless</td>\n",
       "      <td>a8b5975a81344f690f45ffc2554a0bc35af557a9</td>\n",
       "      <td>3080246</td>\n",
       "      <td>1592294231</td>\n",
       "      <td>3080224</td>\n",
       "      <td>[-454899, 206]</td>\n",
       "      <td>1592294241</td>\n",
       "      <td>[-454899, 206]</td>\n",
       "      <td>0.17</td>\n",
       "      <td>disconnect</td>\n",
       "      <td>-454899</td>\n",
       "      <td>206</td>\n",
       "      <td>-454899</td>\n",
       "      <td>206</td>\n",
       "    </tr>\n",
       "  </tbody>\n",
       "</table>\n",
       "</div>"
      ],
      "text/plain": [
       "        release        era                                    player   avatar  \\\n",
       "772934    342.0  boundless  a8b5975a81344f690f45ffc2554a0bc35af557a9  3080253   \n",
       "772933    342.0  boundless  b2d09ba08ab6c9880104599a8bbfd91d9fa8e70d  3080250   \n",
       "772932    342.0  boundless  a8b5975a81344f690f45ffc2554a0bc35af557a9  3080248   \n",
       "772931    342.0  boundless  a8b5975a81344f690f45ffc2554a0bc35af557a9  3080247   \n",
       "772930    342.0  boundless  a8b5975a81344f690f45ffc2554a0bc35af557a9  3080246   \n",
       "\n",
       "            tBirth   parent            birth      tDeath            death  \\\n",
       "772934  1592294343  3080205    [-454363, 94]  1592294346    [-454363, 94]   \n",
       "772933  1592294329  3080205    [-454363, 94]  1592294335    [-454363, 94]   \n",
       "772932  1592294261  3080224   [-454899, 207]  1592294337   [-454918, 159]   \n",
       "772931  1592294247  3080235  [-454796, -125]  1592294255  [-454796, -125]   \n",
       "772930  1592294231  3080224   [-454899, 206]  1592294241   [-454899, 206]   \n",
       "\n",
       "         age cause_of_death  birthX  birthY  deathX  deathY  \n",
       "772934  0.05     disconnect -454363      94 -454363      94  \n",
       "772933  0.10     disconnect -454363      94 -454363      94  \n",
       "772932  1.27     disconnect -454899     207 -454918     159  \n",
       "772931  0.13     disconnect -454796    -125 -454796    -125  \n",
       "772930  0.17     disconnect -454899     206 -454899     206  "
      ]
     },
     "execution_count": 26,
     "metadata": {},
     "output_type": "execute_result"
    }
   ],
   "source": [
    "life_df = pd.merge(births, deaths, on=idx_vars)\n",
    "\n",
    "# Turn birth/death locations to tuples\n",
    "print('Birth/death locations...')\n",
    "life_df['birth'] = life_df['birth'].apply(make_tuple).apply(np.array)\n",
    "life_df['death'] = life_df['death'].apply(make_tuple).apply(np.array)\n",
    "\n",
    "# Split coordinates\n",
    "print('Splitting into x/y coords...')\n",
    "life_df[['birthX', 'birthY']] = pd.DataFrame(life_df['birth'].tolist(),\n",
    "                                              index=life_df.index)   \n",
    "life_df[['deathX', 'deathY']] = pd.DataFrame(life_df['death'].tolist(),\n",
    "                                              index=life_df.index)\n",
    "\n",
    "# Parse player IDs\n",
    "print('Parsing player IDs...')\n",
    "life_df['avatar'] = life_df['avatar'].astype(np.int)\n",
    "\n",
    "# Parse parent IDs\n",
    "print('Parsing parents...')\n",
    "#life_df['parent'] = life_df['parent'].str.extract('(noParent|(?<=parent=)[0-9]+)')\n",
    "life_df['parent'] = life_df['parent'].str.replace('noParent', '-1')\n",
    "life_df['parent'] = life_df['parent'].astype(np.int)\n",
    "\n",
    "# Order from most recent\n",
    "print('Cleaning up...')\n",
    "life_df = life_df.sort_values('tBirth', ascending=False)\n",
    "print(life_df.shape)\n",
    "life_df.head()"
   ]
  },
  {
   "cell_type": "code",
   "execution_count": 27,
   "metadata": {},
   "outputs": [
    {
     "name": "stdout",
     "output_type": "stream",
     "text": [
      "(2922932, 15)\n"
     ]
    },
    {
     "data": {
      "text/html": [
       "<div>\n",
       "<style scoped>\n",
       "    .dataframe tbody tr th:only-of-type {\n",
       "        vertical-align: middle;\n",
       "    }\n",
       "\n",
       "    .dataframe tbody tr th {\n",
       "        vertical-align: top;\n",
       "    }\n",
       "\n",
       "    .dataframe thead th {\n",
       "        text-align: right;\n",
       "    }\n",
       "</style>\n",
       "<table border=\"1\" class=\"dataframe\">\n",
       "  <thead>\n",
       "    <tr style=\"text-align: right;\">\n",
       "      <th></th>\n",
       "      <th>release</th>\n",
       "      <th>era</th>\n",
       "      <th>player</th>\n",
       "      <th>avatar</th>\n",
       "      <th>tBirth</th>\n",
       "      <th>parent</th>\n",
       "      <th>birth</th>\n",
       "      <th>tDeath</th>\n",
       "      <th>death</th>\n",
       "      <th>age</th>\n",
       "      <th>cause_of_death</th>\n",
       "      <th>birthX</th>\n",
       "      <th>birthY</th>\n",
       "      <th>deathX</th>\n",
       "      <th>deathY</th>\n",
       "    </tr>\n",
       "  </thead>\n",
       "  <tbody>\n",
       "    <tr>\n",
       "      <th>772934</th>\n",
       "      <td>342.0</td>\n",
       "      <td>boundless</td>\n",
       "      <td>a8b5975a81344f690f45ffc2554a0bc35af557a9</td>\n",
       "      <td>3080253</td>\n",
       "      <td>1592294343</td>\n",
       "      <td>3080205</td>\n",
       "      <td>[-454363, 94]</td>\n",
       "      <td>1592294346</td>\n",
       "      <td>[-454363, 94]</td>\n",
       "      <td>0.05</td>\n",
       "      <td>disconnect</td>\n",
       "      <td>-454363</td>\n",
       "      <td>94</td>\n",
       "      <td>-454363</td>\n",
       "      <td>94</td>\n",
       "    </tr>\n",
       "    <tr>\n",
       "      <th>772933</th>\n",
       "      <td>342.0</td>\n",
       "      <td>boundless</td>\n",
       "      <td>b2d09ba08ab6c9880104599a8bbfd91d9fa8e70d</td>\n",
       "      <td>3080250</td>\n",
       "      <td>1592294329</td>\n",
       "      <td>3080205</td>\n",
       "      <td>[-454363, 94]</td>\n",
       "      <td>1592294335</td>\n",
       "      <td>[-454363, 94]</td>\n",
       "      <td>0.10</td>\n",
       "      <td>disconnect</td>\n",
       "      <td>-454363</td>\n",
       "      <td>94</td>\n",
       "      <td>-454363</td>\n",
       "      <td>94</td>\n",
       "    </tr>\n",
       "    <tr>\n",
       "      <th>772932</th>\n",
       "      <td>342.0</td>\n",
       "      <td>boundless</td>\n",
       "      <td>a8b5975a81344f690f45ffc2554a0bc35af557a9</td>\n",
       "      <td>3080248</td>\n",
       "      <td>1592294261</td>\n",
       "      <td>3080224</td>\n",
       "      <td>[-454899, 207]</td>\n",
       "      <td>1592294337</td>\n",
       "      <td>[-454918, 159]</td>\n",
       "      <td>1.27</td>\n",
       "      <td>disconnect</td>\n",
       "      <td>-454899</td>\n",
       "      <td>207</td>\n",
       "      <td>-454918</td>\n",
       "      <td>159</td>\n",
       "    </tr>\n",
       "    <tr>\n",
       "      <th>772931</th>\n",
       "      <td>342.0</td>\n",
       "      <td>boundless</td>\n",
       "      <td>a8b5975a81344f690f45ffc2554a0bc35af557a9</td>\n",
       "      <td>3080247</td>\n",
       "      <td>1592294247</td>\n",
       "      <td>3080235</td>\n",
       "      <td>[-454796, -125]</td>\n",
       "      <td>1592294255</td>\n",
       "      <td>[-454796, -125]</td>\n",
       "      <td>0.13</td>\n",
       "      <td>disconnect</td>\n",
       "      <td>-454796</td>\n",
       "      <td>-125</td>\n",
       "      <td>-454796</td>\n",
       "      <td>-125</td>\n",
       "    </tr>\n",
       "    <tr>\n",
       "      <th>772930</th>\n",
       "      <td>342.0</td>\n",
       "      <td>boundless</td>\n",
       "      <td>a8b5975a81344f690f45ffc2554a0bc35af557a9</td>\n",
       "      <td>3080246</td>\n",
       "      <td>1592294231</td>\n",
       "      <td>3080224</td>\n",
       "      <td>[-454899, 206]</td>\n",
       "      <td>1592294241</td>\n",
       "      <td>[-454899, 206]</td>\n",
       "      <td>0.17</td>\n",
       "      <td>disconnect</td>\n",
       "      <td>-454899</td>\n",
       "      <td>206</td>\n",
       "      <td>-454899</td>\n",
       "      <td>206</td>\n",
       "    </tr>\n",
       "  </tbody>\n",
       "</table>\n",
       "</div>"
      ],
      "text/plain": [
       "        release        era                                    player   avatar  \\\n",
       "772934    342.0  boundless  a8b5975a81344f690f45ffc2554a0bc35af557a9  3080253   \n",
       "772933    342.0  boundless  b2d09ba08ab6c9880104599a8bbfd91d9fa8e70d  3080250   \n",
       "772932    342.0  boundless  a8b5975a81344f690f45ffc2554a0bc35af557a9  3080248   \n",
       "772931    342.0  boundless  a8b5975a81344f690f45ffc2554a0bc35af557a9  3080247   \n",
       "772930    342.0  boundless  a8b5975a81344f690f45ffc2554a0bc35af557a9  3080246   \n",
       "\n",
       "            tBirth   parent            birth      tDeath            death  \\\n",
       "772934  1592294343  3080205    [-454363, 94]  1592294346    [-454363, 94]   \n",
       "772933  1592294329  3080205    [-454363, 94]  1592294335    [-454363, 94]   \n",
       "772932  1592294261  3080224   [-454899, 207]  1592294337   [-454918, 159]   \n",
       "772931  1592294247  3080235  [-454796, -125]  1592294255  [-454796, -125]   \n",
       "772930  1592294231  3080224   [-454899, 206]  1592294241   [-454899, 206]   \n",
       "\n",
       "         age cause_of_death  birthX  birthY  deathX  deathY  \n",
       "772934  0.05     disconnect -454363      94 -454363      94  \n",
       "772933  0.10     disconnect -454363      94 -454363      94  \n",
       "772932  1.27     disconnect -454899     207 -454918     159  \n",
       "772931  0.13     disconnect -454796    -125 -454796    -125  \n",
       "772930  0.17     disconnect -454899     206 -454899     206  "
      ]
     },
     "execution_count": 27,
     "metadata": {},
     "output_type": "execute_result"
    }
   ],
   "source": [
    "print(life_df.shape)\n",
    "life_df.head()"
   ]
  },
  {
   "cell_type": "code",
   "execution_count": 28,
   "metadata": {},
   "outputs": [
    {
     "data": {
      "text/html": [
       "<div>\n",
       "<style scoped>\n",
       "    .dataframe tbody tr th:only-of-type {\n",
       "        vertical-align: middle;\n",
       "    }\n",
       "\n",
       "    .dataframe tbody tr th {\n",
       "        vertical-align: top;\n",
       "    }\n",
       "\n",
       "    .dataframe thead th {\n",
       "        text-align: right;\n",
       "    }\n",
       "</style>\n",
       "<table border=\"1\" class=\"dataframe\">\n",
       "  <thead>\n",
       "    <tr style=\"text-align: right;\">\n",
       "      <th></th>\n",
       "      <th>release</th>\n",
       "      <th>era</th>\n",
       "      <th>player</th>\n",
       "      <th>avatar</th>\n",
       "      <th>tBirth</th>\n",
       "      <th>parent</th>\n",
       "      <th>birth</th>\n",
       "      <th>tDeath</th>\n",
       "      <th>death</th>\n",
       "      <th>age</th>\n",
       "      <th>cause_of_death</th>\n",
       "      <th>birthX</th>\n",
       "      <th>birthY</th>\n",
       "      <th>deathX</th>\n",
       "      <th>deathY</th>\n",
       "    </tr>\n",
       "  </thead>\n",
       "  <tbody>\n",
       "  </tbody>\n",
       "</table>\n",
       "</div>"
      ],
      "text/plain": [
       "Empty DataFrame\n",
       "Columns: [release, era, player, avatar, tBirth, parent, birth, tDeath, death, age, cause_of_death, birthX, birthY, deathX, deathY]\n",
       "Index: []"
      ]
     },
     "execution_count": 28,
     "metadata": {},
     "output_type": "execute_result"
    }
   ],
   "source": [
    "life_df[life_df['avatar'] == missing_id]"
   ]
  },
  {
   "cell_type": "markdown",
   "metadata": {},
   "source": [
    "## Parse names"
   ]
  },
  {
   "cell_type": "markdown",
   "metadata": {},
   "source": [
    "Helper function: Remove from data...\n",
    "\n",
    "* Roman numerals (including some nonsense ones at high-gen numbers)\n",
    "* Kin labels? (e.g., SHINA1580640)"
   ]
  },
  {
   "cell_type": "code",
   "execution_count": null,
   "metadata": {},
   "outputs": [],
   "source": [
    "def is_roman(s):\n",
    "    # Checks if string is a \"valid\" Roman numeral\n",
    "    # Note this includes some *cough*idiosyncratic*cough* numerals in the OHOL dataset:\n",
    "    # e.g., CLXLIII => True (but actually nonsense)\n",
    "    roman_regex  = 'M{0,4}(CM|CD|D?C{0,3})(LXL|XC|XL|L?X{0,3})(IX|IV|V?I{0,3})'\n",
    "    roman_match = re.match(roman_regex, s)\n",
    "    \n",
    "    str_length = len(s)\n",
    "    match_length = roman_match.span()[1]\n",
    "    \n",
    "    return str_length == match_length\n",
    "\n",
    "def is_kin(s, idx):\n",
    "    kin_regex = '[A-Z]{0,}[0-9]+'\n",
    "    kin_match = re.search(kin_regex, s)\n",
    "    return bool(kin_match) & (idx > 0)\n",
    "\n",
    "def is_valid(s, idx):\n",
    "    \n",
    "    not_roman = not is_roman(s)\n",
    "    not_kin = not is_kin(s, idx)\n",
    "    \n",
    "    return not_roman & not_kin"
   ]
  },
  {
   "cell_type": "markdown",
   "metadata": {},
   "source": [
    "Find name files:"
   ]
  },
  {
   "cell_type": "code",
   "execution_count": null,
   "metadata": {},
   "outputs": [],
   "source": [
    "data_dir = '../data'\n",
    "name_files = glob.glob(opj(data_dir, 'publicLifeLogData', 'lifeLog_bigserver2*', '*names.txt'))\n",
    "name_files.sort()\n",
    "print(*[os.path.basename(f) for f in name_files[:5]], sep='\\n')"
   ]
  },
  {
   "cell_type": "markdown",
   "metadata": {},
   "source": [
    "Iterate over name files and extract names:"
   ]
  },
  {
   "cell_type": "code",
   "execution_count": null,
   "metadata": {},
   "outputs": [],
   "source": [
    "name_list = []\n",
    "re.compile(\"^([A-Z][0-9]+)+$\")\n",
    "\n",
    "for f in notebook.tqdm(name_files):\n",
    "    with open(f, 'r') as handle:\n",
    "        data_str = handle.read().splitlines()\n",
    "\n",
    "    data = []\n",
    "    for s in data_str:\n",
    "        row_data = s.split() # Split lines\n",
    "        row_data = [si for idx, si in enumerate(row_data) if is_valid(si, idx)]\n",
    "        \n",
    "        if len(row_data) > 3:\n",
    "            row_data.remove('EVE')\n",
    "            print('Corrected: %s' % row_data)\n",
    "\n",
    "        while len(row_data) < 3: \n",
    "            row_data.append('')\n",
    "\n",
    "        name_list.append(row_data)"
   ]
  },
  {
   "cell_type": "markdown",
   "metadata": {},
   "source": [
    "Assemble into dataframe:"
   ]
  },
  {
   "cell_type": "code",
   "execution_count": null,
   "metadata": {},
   "outputs": [],
   "source": [
    "name_df = pd.DataFrame(name_list, columns=['playerID', 'first', 'last'])\n",
    "name_df['playerID'] = name_df['playerID'].astype(np.int)\n",
    "name_df.head()"
   ]
  },
  {
   "cell_type": "markdown",
   "metadata": {},
   "source": [
    "Merge with `life_df`:"
   ]
  },
  {
   "cell_type": "code",
   "execution_count": null,
   "metadata": {},
   "outputs": [],
   "source": [
    "life_df = pd.merge(life_df, name_df, on='playerID')\n",
    "life_df.head()"
   ]
  },
  {
   "cell_type": "markdown",
   "metadata": {},
   "source": [
    "Save `life_df` to file:"
   ]
  },
  {
   "cell_type": "code",
   "execution_count": null,
   "metadata": {},
   "outputs": [],
   "source": [
    "life_df.to_csv('outputs/all_lifelogs_compact.tsv', sep='\\t')"
   ]
  },
  {
   "cell_type": "markdown",
   "metadata": {},
   "source": [
    "## Sanity check: How many lineages can we expect?"
   ]
  },
  {
   "cell_type": "markdown",
   "metadata": {},
   "source": [
    "Spot eves:"
   ]
  },
  {
   "cell_type": "code",
   "execution_count": null,
   "metadata": {},
   "outputs": [],
   "source": [
    "eves = life_df[life_df['parent'] < 0].reset_index()\n",
    "print(life_df['playerID'][:10])"
   ]
  },
  {
   "cell_type": "markdown",
   "metadata": {},
   "source": [
    "How many eves?"
   ]
  },
  {
   "cell_type": "code",
   "execution_count": null,
   "metadata": {},
   "outputs": [],
   "source": [
    "n_eves = eves.shape[0]\n",
    "n_births = len(life_df)\n",
    "eve_rate = n_eves/n_births\n",
    "print('%i Eves out of %i births (%0.2f%%)' % (n_eves, n_births, eve_rate*100))"
   ]
  },
  {
   "cell_type": "markdown",
   "metadata": {},
   "source": [
    "Eve spawn rate over time:"
   ]
  },
  {
   "cell_type": "code",
   "execution_count": null,
   "metadata": {
    "scrolled": true
   },
   "outputs": [],
   "source": [
    "eve_rate = life_df.copy()\n",
    "eve_rate['is_eve'] = eve_rate['parent'] < 0\n",
    "eve_rate = eve_rate.groupby('release')['is_eve'].agg(['count', 'sum']).reset_index()\n",
    "eve_rate = eve_rate.rename(columns={'count': 'n_births', 'sum': 'n_eves'})\n",
    "eve_rate['eve_rate'] = eve_rate['n_eves']/eve_rate['n_births']\n",
    "\n",
    "ax = sns.lineplot('release', 'eve_rate', data=eve_rate)\n",
    "ax.set(xlabel = 'Release #', ylabel = 'Eve spawn rate')"
   ]
  },
  {
   "cell_type": "markdown",
   "metadata": {},
   "source": [
    "## Build family trees"
   ]
  },
  {
   "cell_type": "markdown",
   "metadata": {},
   "source": [
    "Helper: Search recursively through lifelogs, starting with Eve"
   ]
  },
  {
   "cell_type": "code",
   "execution_count": null,
   "metadata": {},
   "outputs": [],
   "source": [
    "def search_fam(player):\n",
    "    descendants = parent_df.loc[parent_df['parent'] == player, 'playerID'].values\n",
    "    \n",
    "    for d in descendants:\n",
    "        descendants = np.append(descendants, search_fam(d))\n",
    "        \n",
    "    return descendants"
   ]
  },
  {
   "cell_type": "markdown",
   "metadata": {},
   "source": [
    "Helper: Write data to JSON file"
   ]
  },
  {
   "cell_type": "code",
   "execution_count": null,
   "metadata": {},
   "outputs": [],
   "source": [
    "def write_json(data, f):\n",
    "    with open(f, 'w') as outfile:\n",
    "        json.dump(data, outfile)"
   ]
  },
  {
   "cell_type": "markdown",
   "metadata": {},
   "source": [
    "All parent-child pairs:"
   ]
  },
  {
   "cell_type": "code",
   "execution_count": null,
   "metadata": {},
   "outputs": [],
   "source": [
    "# All parent-child links\n",
    "parent_df = life_df[['playerID', 'parent']].copy()\n",
    "parent_df.head()"
   ]
  },
  {
   "cell_type": "markdown",
   "metadata": {},
   "source": [
    "Main loop: Build graphs from parent-child pairs:"
   ]
  },
  {
   "cell_type": "code",
   "execution_count": null,
   "metadata": {},
   "outputs": [],
   "source": [
    "families_list = []\n",
    "\n",
    "for _, family in notebook.tqdm(eves.iterrows(), total=n_eves):\n",
    "\n",
    "    eve = family['playerID']\n",
    "    fam_name = family['last']\n",
    "    fam_start = family['tBirth']\n",
    "\n",
    "    fam_nodes = list(search_fam(eve))\n",
    "    fam_df = parent_df[parent_df['playerID'].isin(fam_nodes)]\n",
    "    fam = nx.from_pandas_edgelist(fam_df, 'parent', 'playerID', None, nx.DiGraph())    \n",
    "    fam.add_node(str(eve))\n",
    "\n",
    "    all_members = fam_nodes + [eve]\n",
    "\n",
    "    if not len(fam_name):\n",
    "        fam_name = 'nameless'\n",
    "\n",
    "    fam_id = 'time-%i_eve-%i_name-%s' % (fam_start, eve, fam_name)\n",
    "\n",
    "    # Add family to list\n",
    "    families_list.extend([(relative, fam_id) for relative in all_members])\n",
    "\n",
    "    # Save family data\n",
    "    out_file = 'outputs/families/families_%s.json' % fam_id\n",
    "    fam_data = nx.json_graph.node_link_data(fam)\n",
    "    write_json(fam_data, out_file)"
   ]
  },
  {
   "cell_type": "markdown",
   "metadata": {},
   "source": [
    "### Tag lifelogs by family\n",
    "This will be used for several subsequent analyses (e.g., migration, comparing different success measures)"
   ]
  },
  {
   "cell_type": "code",
   "execution_count": null,
   "metadata": {},
   "outputs": [],
   "source": [
    "families_df = pd.DataFrame(families_list, columns=['playerID', 'family'])\n",
    "families_df.to_csv('outputs/family_playerID.tsv', sep='\\t')"
   ]
  }
 ],
 "metadata": {
  "kernelspec": {
   "display_name": "Python [conda env:.conda-py3]",
   "language": "python",
   "name": "conda-env-.conda-py3-py"
  },
  "language_info": {
   "codemirror_mode": {
    "name": "ipython",
    "version": 3
   },
   "file_extension": ".py",
   "mimetype": "text/x-python",
   "name": "python",
   "nbconvert_exporter": "python",
   "pygments_lexer": "ipython3",
   "version": "3.6.10"
  },
  "toc": {
   "base_numbering": 1,
   "nav_menu": {},
   "number_sections": true,
   "sideBar": true,
   "skip_h1_title": false,
   "title_cell": "Table of Contents",
   "title_sidebar": "Contents",
   "toc_cell": false,
   "toc_position": {},
   "toc_section_display": true,
   "toc_window_display": false
  }
 },
 "nbformat": 4,
 "nbformat_minor": 2
}
