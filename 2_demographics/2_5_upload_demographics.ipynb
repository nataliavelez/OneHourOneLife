{
 "cells": [
  {
   "cell_type": "markdown",
   "metadata": {},
   "source": [
    "# Upload demographic data to database\n",
    "Natalia Vélez, April 2021"
   ]
  },
  {
   "cell_type": "code",
   "execution_count": 1,
   "metadata": {},
   "outputs": [],
   "source": [
    "import pandas as pd\n",
    "import pymongo"
   ]
  },
  {
   "cell_type": "markdown",
   "metadata": {},
   "source": [
    "Connect to database:"
   ]
  },
  {
   "cell_type": "code",
   "execution_count": 2,
   "metadata": {},
   "outputs": [
    {
     "name": "stdout",
     "output_type": "stream",
     "text": [
      "Database(MongoClient(host=['134.76.24.75:27017'], document_class=dict, tz_aware=False, connect=True, authsource='ohol'), 'ohol')\n",
      "['tfidf_matrix.files', 'maplogs', 'item_embeddings', 'tech_tree', 'lifelogs', 'item_links_demo', 'objects', 'expanded_transitions', 'avatar_embeddings', 'tfidf_matrix.chunks', 'transitions', 'activity_matrix.files', 'activity_matrix.chunks', 'cleaned_job_matrix.chunks', 'cleaned_job_matrix.files', 'activity_labels', 'item_links', 'categories']\n"
     ]
    }
   ],
   "source": [
    "# Connect:\n",
    "keyfile = '../6_database/credentials.key'\n",
    "creds = open(keyfile, \"r\").read().splitlines()\n",
    "myclient = pymongo.MongoClient('134.76.24.75', username=creds[0], password=creds[1], authSource='ohol') \n",
    "db = myclient.ohol\n",
    "\n",
    "print(db)\n",
    "print(db.list_collection_names())"
   ]
  },
  {
   "cell_type": "markdown",
   "metadata": {},
   "source": [
    "Load lifelogs:"
   ]
  },
  {
   "cell_type": "code",
   "execution_count": 3,
   "metadata": {},
   "outputs": [
    {
     "name": "stdout",
     "output_type": "stream",
     "text": [
      "(3834737, 16)\n"
     ]
    },
    {
     "data": {
      "text/html": [
       "<div>\n",
       "<style scoped>\n",
       "    .dataframe tbody tr th:only-of-type {\n",
       "        vertical-align: middle;\n",
       "    }\n",
       "\n",
       "    .dataframe tbody tr th {\n",
       "        vertical-align: top;\n",
       "    }\n",
       "\n",
       "    .dataframe thead th {\n",
       "        text-align: right;\n",
       "    }\n",
       "</style>\n",
       "<table border=\"1\" class=\"dataframe\">\n",
       "  <thead>\n",
       "    <tr style=\"text-align: right;\">\n",
       "      <th></th>\n",
       "      <th>player</th>\n",
       "      <th>avatar</th>\n",
       "      <th>tBirth</th>\n",
       "      <th>parent</th>\n",
       "      <th>birth</th>\n",
       "      <th>sex</th>\n",
       "      <th>tDeath</th>\n",
       "      <th>death</th>\n",
       "      <th>age</th>\n",
       "      <th>cause_of_death</th>\n",
       "      <th>birthX</th>\n",
       "      <th>birthY</th>\n",
       "      <th>deathX</th>\n",
       "      <th>deathY</th>\n",
       "      <th>first</th>\n",
       "      <th>last</th>\n",
       "    </tr>\n",
       "  </thead>\n",
       "  <tbody>\n",
       "    <tr>\n",
       "      <th>0</th>\n",
       "      <td>79d28bc07c1f45c6602d5d84f506e36a795751dc</td>\n",
       "      <td>4109237</td>\n",
       "      <td>1617695981</td>\n",
       "      <td>4109188</td>\n",
       "      <td>[-16083    279]</td>\n",
       "      <td>F</td>\n",
       "      <td>NaN</td>\n",
       "      <td>[]</td>\n",
       "      <td>NaN</td>\n",
       "      <td>NaN</td>\n",
       "      <td>-16083</td>\n",
       "      <td>279</td>\n",
       "      <td>NaN</td>\n",
       "      <td>NaN</td>\n",
       "      <td>NaN</td>\n",
       "      <td>NaN</td>\n",
       "    </tr>\n",
       "    <tr>\n",
       "      <th>1</th>\n",
       "      <td>3da17539b16d6fe6911aefc57388bae9d1303e22</td>\n",
       "      <td>4109236</td>\n",
       "      <td>1617695903</td>\n",
       "      <td>4109184</td>\n",
       "      <td>[-15482    374]</td>\n",
       "      <td>F</td>\n",
       "      <td>NaN</td>\n",
       "      <td>[]</td>\n",
       "      <td>NaN</td>\n",
       "      <td>NaN</td>\n",
       "      <td>-15482</td>\n",
       "      <td>374</td>\n",
       "      <td>NaN</td>\n",
       "      <td>NaN</td>\n",
       "      <td>NaN</td>\n",
       "      <td>NaN</td>\n",
       "    </tr>\n",
       "    <tr>\n",
       "      <th>2</th>\n",
       "      <td>b14977d2ebf15c9c0d643378aacedb42e8a43757</td>\n",
       "      <td>4109235</td>\n",
       "      <td>1617695831</td>\n",
       "      <td>4109188</td>\n",
       "      <td>[-16095    276]</td>\n",
       "      <td>F</td>\n",
       "      <td>NaN</td>\n",
       "      <td>[]</td>\n",
       "      <td>NaN</td>\n",
       "      <td>NaN</td>\n",
       "      <td>-16095</td>\n",
       "      <td>276</td>\n",
       "      <td>NaN</td>\n",
       "      <td>NaN</td>\n",
       "      <td>NaN</td>\n",
       "      <td>NaN</td>\n",
       "    </tr>\n",
       "    <tr>\n",
       "      <th>3</th>\n",
       "      <td>2da3db708a04acdf8f3e52486e4cfbd820cfb766</td>\n",
       "      <td>4109234</td>\n",
       "      <td>1617695804</td>\n",
       "      <td>4109214</td>\n",
       "      <td>[-16807     79]</td>\n",
       "      <td>M</td>\n",
       "      <td>1.617696e+09</td>\n",
       "      <td>[-16807     79]</td>\n",
       "      <td>0.03</td>\n",
       "      <td>disconnect</td>\n",
       "      <td>-16807</td>\n",
       "      <td>79</td>\n",
       "      <td>-16807.0</td>\n",
       "      <td>79.0</td>\n",
       "      <td>NaN</td>\n",
       "      <td>NaN</td>\n",
       "    </tr>\n",
       "    <tr>\n",
       "      <th>4</th>\n",
       "      <td>3da17539b16d6fe6911aefc57388bae9d1303e22</td>\n",
       "      <td>4109233</td>\n",
       "      <td>1617695734</td>\n",
       "      <td>4109211</td>\n",
       "      <td>[-16219    -46]</td>\n",
       "      <td>M</td>\n",
       "      <td>1.617696e+09</td>\n",
       "      <td>[-16354   -121]</td>\n",
       "      <td>2.61</td>\n",
       "      <td>hunger</td>\n",
       "      <td>-16219</td>\n",
       "      <td>-46</td>\n",
       "      <td>-16354.0</td>\n",
       "      <td>-121.0</td>\n",
       "      <td>NaN</td>\n",
       "      <td>NaN</td>\n",
       "    </tr>\n",
       "  </tbody>\n",
       "</table>\n",
       "</div>"
      ],
      "text/plain": [
       "                                     player   avatar      tBirth   parent  \\\n",
       "0  79d28bc07c1f45c6602d5d84f506e36a795751dc  4109237  1617695981  4109188   \n",
       "1  3da17539b16d6fe6911aefc57388bae9d1303e22  4109236  1617695903  4109184   \n",
       "2  b14977d2ebf15c9c0d643378aacedb42e8a43757  4109235  1617695831  4109188   \n",
       "3  2da3db708a04acdf8f3e52486e4cfbd820cfb766  4109234  1617695804  4109214   \n",
       "4  3da17539b16d6fe6911aefc57388bae9d1303e22  4109233  1617695734  4109211   \n",
       "\n",
       "             birth sex        tDeath            death   age cause_of_death  \\\n",
       "0  [-16083    279]   F           NaN               []   NaN            NaN   \n",
       "1  [-15482    374]   F           NaN               []   NaN            NaN   \n",
       "2  [-16095    276]   F           NaN               []   NaN            NaN   \n",
       "3  [-16807     79]   M  1.617696e+09  [-16807     79]  0.03     disconnect   \n",
       "4  [-16219    -46]   M  1.617696e+09  [-16354   -121]  2.61         hunger   \n",
       "\n",
       "   birthX  birthY   deathX  deathY first last  \n",
       "0  -16083     279      NaN     NaN   NaN  NaN  \n",
       "1  -15482     374      NaN     NaN   NaN  NaN  \n",
       "2  -16095     276      NaN     NaN   NaN  NaN  \n",
       "3  -16807      79 -16807.0    79.0   NaN  NaN  \n",
       "4  -16219     -46 -16354.0  -121.0   NaN  NaN  "
      ]
     },
     "execution_count": 3,
     "metadata": {},
     "output_type": "execute_result"
    }
   ],
   "source": [
    "life_df = pd.read_csv('outputs/all_lifelogs_compact.csv')\n",
    "print(life_df.shape)\n",
    "life_df.head()"
   ]
  },
  {
   "cell_type": "markdown",
   "metadata": {},
   "source": [
    "Load families:"
   ]
  },
  {
   "cell_type": "code",
   "execution_count": 4,
   "metadata": {},
   "outputs": [
    {
     "name": "stdout",
     "output_type": "stream",
     "text": [
      "(3834737, 2)\n"
     ]
    },
    {
     "data": {
      "text/html": [
       "<div>\n",
       "<style scoped>\n",
       "    .dataframe tbody tr th:only-of-type {\n",
       "        vertical-align: middle;\n",
       "    }\n",
       "\n",
       "    .dataframe tbody tr th {\n",
       "        vertical-align: top;\n",
       "    }\n",
       "\n",
       "    .dataframe thead th {\n",
       "        text-align: right;\n",
       "    }\n",
       "</style>\n",
       "<table border=\"1\" class=\"dataframe\">\n",
       "  <thead>\n",
       "    <tr style=\"text-align: right;\">\n",
       "      <th></th>\n",
       "      <th>avatar</th>\n",
       "      <th>family</th>\n",
       "    </tr>\n",
       "  </thead>\n",
       "  <tbody>\n",
       "    <tr>\n",
       "      <th>0</th>\n",
       "      <td>4109234</td>\n",
       "      <td>time-1617694919_eve-4109214_name-(missing)</td>\n",
       "    </tr>\n",
       "    <tr>\n",
       "      <th>1</th>\n",
       "      <td>4109230</td>\n",
       "      <td>time-1617694919_eve-4109214_name-(missing)</td>\n",
       "    </tr>\n",
       "    <tr>\n",
       "      <th>2</th>\n",
       "      <td>4109225</td>\n",
       "      <td>time-1617694919_eve-4109214_name-(missing)</td>\n",
       "    </tr>\n",
       "    <tr>\n",
       "      <th>3</th>\n",
       "      <td>4109222</td>\n",
       "      <td>time-1617694919_eve-4109214_name-(missing)</td>\n",
       "    </tr>\n",
       "    <tr>\n",
       "      <th>4</th>\n",
       "      <td>4109217</td>\n",
       "      <td>time-1617694919_eve-4109214_name-(missing)</td>\n",
       "    </tr>\n",
       "  </tbody>\n",
       "</table>\n",
       "</div>"
      ],
      "text/plain": [
       "    avatar                                      family\n",
       "0  4109234  time-1617694919_eve-4109214_name-(missing)\n",
       "1  4109230  time-1617694919_eve-4109214_name-(missing)\n",
       "2  4109225  time-1617694919_eve-4109214_name-(missing)\n",
       "3  4109222  time-1617694919_eve-4109214_name-(missing)\n",
       "4  4109217  time-1617694919_eve-4109214_name-(missing)"
      ]
     },
     "execution_count": 4,
     "metadata": {},
     "output_type": "execute_result"
    }
   ],
   "source": [
    "family_df = pd.read_csv('outputs/family_playerID.csv')\n",
    "print(family_df.shape)\n",
    "family_df.head()"
   ]
  },
  {
   "cell_type": "markdown",
   "metadata": {},
   "source": [
    "Has anyone not been assigned a family?"
   ]
  },
  {
   "cell_type": "code",
   "execution_count": 5,
   "metadata": {},
   "outputs": [
    {
     "data": {
      "text/html": [
       "<div>\n",
       "<style scoped>\n",
       "    .dataframe tbody tr th:only-of-type {\n",
       "        vertical-align: middle;\n",
       "    }\n",
       "\n",
       "    .dataframe tbody tr th {\n",
       "        vertical-align: top;\n",
       "    }\n",
       "\n",
       "    .dataframe thead th {\n",
       "        text-align: right;\n",
       "    }\n",
       "</style>\n",
       "<table border=\"1\" class=\"dataframe\">\n",
       "  <thead>\n",
       "    <tr style=\"text-align: right;\">\n",
       "      <th></th>\n",
       "      <th>player</th>\n",
       "      <th>avatar</th>\n",
       "      <th>tBirth</th>\n",
       "      <th>parent</th>\n",
       "      <th>birth</th>\n",
       "      <th>sex</th>\n",
       "      <th>tDeath</th>\n",
       "      <th>death</th>\n",
       "      <th>age</th>\n",
       "      <th>cause_of_death</th>\n",
       "      <th>birthX</th>\n",
       "      <th>birthY</th>\n",
       "      <th>deathX</th>\n",
       "      <th>deathY</th>\n",
       "      <th>first</th>\n",
       "      <th>last</th>\n",
       "    </tr>\n",
       "  </thead>\n",
       "  <tbody>\n",
       "  </tbody>\n",
       "</table>\n",
       "</div>"
      ],
      "text/plain": [
       "Empty DataFrame\n",
       "Columns: [player, avatar, tBirth, parent, birth, sex, tDeath, death, age, cause_of_death, birthX, birthY, deathX, deathY, first, last]\n",
       "Index: []"
      ]
     },
     "execution_count": 5,
     "metadata": {},
     "output_type": "execute_result"
    }
   ],
   "source": [
    "assigned_family = family_df.avatar\n",
    "life_df[~life_df.avatar.isin(assigned_family)]"
   ]
  },
  {
   "cell_type": "markdown",
   "metadata": {},
   "source": [
    "Compute expertise:"
   ]
  },
  {
   "cell_type": "code",
   "execution_count": 6,
   "metadata": {},
   "outputs": [
    {
     "data": {
      "text/html": [
       "<div>\n",
       "<style scoped>\n",
       "    .dataframe tbody tr th:only-of-type {\n",
       "        vertical-align: middle;\n",
       "    }\n",
       "\n",
       "    .dataframe tbody tr th {\n",
       "        vertical-align: top;\n",
       "    }\n",
       "\n",
       "    .dataframe thead th {\n",
       "        text-align: right;\n",
       "    }\n",
       "</style>\n",
       "<table border=\"1\" class=\"dataframe\">\n",
       "  <thead>\n",
       "    <tr style=\"text-align: right;\">\n",
       "      <th></th>\n",
       "      <th>avatar</th>\n",
       "      <th>player</th>\n",
       "      <th>n_lives</th>\n",
       "      <th>gametime</th>\n",
       "    </tr>\n",
       "  </thead>\n",
       "  <tbody>\n",
       "    <tr>\n",
       "      <th>0</th>\n",
       "      <td>630641</td>\n",
       "      <td>00006debdd4d630a4a5aa395135a70a69e0db01e</td>\n",
       "      <td>0</td>\n",
       "      <td>0.00</td>\n",
       "    </tr>\n",
       "    <tr>\n",
       "      <th>1</th>\n",
       "      <td>630737</td>\n",
       "      <td>00006debdd4d630a4a5aa395135a70a69e0db01e</td>\n",
       "      <td>1</td>\n",
       "      <td>13.88</td>\n",
       "    </tr>\n",
       "    <tr>\n",
       "      <th>2</th>\n",
       "      <td>630799</td>\n",
       "      <td>00006debdd4d630a4a5aa395135a70a69e0db01e</td>\n",
       "      <td>2</td>\n",
       "      <td>18.86</td>\n",
       "    </tr>\n",
       "    <tr>\n",
       "      <th>3</th>\n",
       "      <td>214206</td>\n",
       "      <td>0001394319e5e63bb74219fef647e9ff24507a21</td>\n",
       "      <td>0</td>\n",
       "      <td>0.00</td>\n",
       "    </tr>\n",
       "    <tr>\n",
       "      <th>4</th>\n",
       "      <td>214530</td>\n",
       "      <td>0001394319e5e63bb74219fef647e9ff24507a21</td>\n",
       "      <td>1</td>\n",
       "      <td>33.78</td>\n",
       "    </tr>\n",
       "    <tr>\n",
       "      <th>5</th>\n",
       "      <td>214960</td>\n",
       "      <td>0001394319e5e63bb74219fef647e9ff24507a21</td>\n",
       "      <td>2</td>\n",
       "      <td>41.03</td>\n",
       "    </tr>\n",
       "    <tr>\n",
       "      <th>6</th>\n",
       "      <td>215019</td>\n",
       "      <td>0001394319e5e63bb74219fef647e9ff24507a21</td>\n",
       "      <td>3</td>\n",
       "      <td>47.76</td>\n",
       "    </tr>\n",
       "    <tr>\n",
       "      <th>7</th>\n",
       "      <td>2783339</td>\n",
       "      <td>0002e5ea5ce7cfd761135d255a245a3344af4377</td>\n",
       "      <td>0</td>\n",
       "      <td>0.00</td>\n",
       "    </tr>\n",
       "    <tr>\n",
       "      <th>8</th>\n",
       "      <td>2783430</td>\n",
       "      <td>0002e5ea5ce7cfd761135d255a245a3344af4377</td>\n",
       "      <td>1</td>\n",
       "      <td>60.00</td>\n",
       "    </tr>\n",
       "    <tr>\n",
       "      <th>9</th>\n",
       "      <td>2784552</td>\n",
       "      <td>0002e5ea5ce7cfd761135d255a245a3344af4377</td>\n",
       "      <td>2</td>\n",
       "      <td>83.77</td>\n",
       "    </tr>\n",
       "  </tbody>\n",
       "</table>\n",
       "</div>"
      ],
      "text/plain": [
       "    avatar                                    player  n_lives  gametime\n",
       "0   630641  00006debdd4d630a4a5aa395135a70a69e0db01e        0      0.00\n",
       "1   630737  00006debdd4d630a4a5aa395135a70a69e0db01e        1     13.88\n",
       "2   630799  00006debdd4d630a4a5aa395135a70a69e0db01e        2     18.86\n",
       "3   214206  0001394319e5e63bb74219fef647e9ff24507a21        0      0.00\n",
       "4   214530  0001394319e5e63bb74219fef647e9ff24507a21        1     33.78\n",
       "5   214960  0001394319e5e63bb74219fef647e9ff24507a21        2     41.03\n",
       "6   215019  0001394319e5e63bb74219fef647e9ff24507a21        3     47.76\n",
       "7  2783339  0002e5ea5ce7cfd761135d255a245a3344af4377        0      0.00\n",
       "8  2783430  0002e5ea5ce7cfd761135d255a245a3344af4377        1     60.00\n",
       "9  2784552  0002e5ea5ce7cfd761135d255a245a3344af4377        2     83.77"
      ]
     },
     "execution_count": 6,
     "metadata": {},
     "output_type": "execute_result"
    }
   ],
   "source": [
    "expert_df = life_df[['avatar', 'player', 'tBirth', 'age']]\n",
    "expert_df = expert_df.sort_values(by=['player', 'tBirth'])\n",
    "expert_df['n_lives'] = expert_df.groupby(['player']).cumcount()\n",
    "expert_df['gametime'] = expert_df.groupby(['player'])['age'].transform(lambda x: x.cumsum().shift())\n",
    "expert_df['gametime'] = expert_df['gametime'].fillna(0)\n",
    "expert_df = expert_df.drop(columns=['tBirth', 'age']).reset_index(drop=True)\n",
    "\n",
    "expert_df.head(10)"
   ]
  },
  {
   "cell_type": "markdown",
   "metadata": {},
   "source": [
    "Merge:"
   ]
  },
  {
   "cell_type": "code",
   "execution_count": 8,
   "metadata": {},
   "outputs": [
    {
     "name": "stdout",
     "output_type": "stream",
     "text": [
      "Before merge: (3834737, 16)\n",
      "After merge: (3834737, 19)\n",
      "{'player': '79d28bc07c1f45c6602d5d84f506e36a795751dc', 'avatar': 4109237, 'tBirth': 1617695981, 'parent': 4109188, 'sex': 'F', 'tDeath': nan, 'age': nan, 'cause_of_death': nan, 'birthX': -16083, 'birthY': 279, 'deathX': nan, 'deathY': nan, 'first': nan, 'last': nan, 'family': 'time-1617679935_eve-4108925_name-(missing)', 'n_lives': 427, 'gametime': 21694.880000000005}\n"
     ]
    }
   ],
   "source": [
    "merged_data = pd.merge(life_df, family_df, on='avatar')\n",
    "merged_data = pd.merge(merged_data, expert_df, on=['avatar', 'player'])\n",
    "\n",
    "print('Before merge: %s' % str(life_df.shape))\n",
    "print('After merge: %s' % str(merged_data.shape))\n",
    "merged_data = merged_data.drop(columns=['birth','death'])\n",
    "merged_data = merged_data.to_dict('records')\n",
    "print(merged_data[0])"
   ]
  },
  {
   "cell_type": "markdown",
   "metadata": {},
   "source": [
    "Upload merged dataframe to database:"
   ]
  },
  {
   "cell_type": "code",
   "execution_count": 9,
   "metadata": {},
   "outputs": [
    {
     "data": {
      "text/plain": [
       "<pymongo.results.InsertManyResult at 0x2b6727d60048>"
      ]
     },
     "execution_count": 9,
     "metadata": {},
     "output_type": "execute_result"
    }
   ],
   "source": [
    "life_col = db.lifelogs\n",
    "life_col.insert_many(merged_data)"
   ]
  }
 ],
 "metadata": {
  "kernelspec": {
   "display_name": "ohol",
   "language": "python",
   "name": "ohol"
  },
  "language_info": {
   "codemirror_mode": {
    "name": "ipython",
    "version": 3
   },
   "file_extension": ".py",
   "mimetype": "text/x-python",
   "name": "python",
   "nbconvert_exporter": "python",
   "pygments_lexer": "ipython3",
   "version": "3.6.10"
  }
 },
 "nbformat": 4,
 "nbformat_minor": 2
}
