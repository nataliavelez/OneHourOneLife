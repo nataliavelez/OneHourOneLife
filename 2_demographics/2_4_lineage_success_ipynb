{
 "cells": [
  {
   "cell_type": "markdown",
   "metadata": {},
   "source": [
    "# Compare success of different lineages\n",
    "Natalia Vélez, July 2020<br />\n",
    "Last updated April 2021\n",
    "\n",
    "Now that we've built a graph representation of family trees, we'll use it to compare lineages and operationalize a success measure."
   ]
  },
  {
   "cell_type": "code",
   "execution_count": 1,
   "metadata": {},
   "outputs": [],
   "source": [
    "%matplotlib inline\n",
    "\n",
    "import os, re, glob, datetime, json, sys\n",
    "from os.path import join as opj\n",
    "\n",
    "import pandas as pd\n",
    "import numpy as np\n",
    "import scipy.stats\n",
    "from tqdm import notebook\n",
    "\n",
    "import networkx as nx\n",
    "import matplotlib.pyplot as plt\n",
    "import seaborn as sns\n",
    "from networkx.drawing.nx_agraph import graphviz_layout\n",
    "\n",
    "sys.path.append('..')\n",
    "from utils import gsearch, int_extract\n",
    "\n",
    "sns.set_context('talk')\n",
    "sns.set_style('white')"
   ]
  },
  {
   "cell_type": "markdown",
   "metadata": {},
   "source": [
    "## Set up data"
   ]
  },
  {
   "cell_type": "markdown",
   "metadata": {},
   "source": [
    "The format of the maplogs changed at some point during the boundless era; after this point, each change to the map was tagged with an avatar ID. We want to analyze families that started after the launch of this new maplog format and died out before we downloaded the data.\n",
    "\n",
    "Find starting time:"
   ]
  },
  {
   "cell_type": "code",
   "execution_count": 2,
   "metadata": {},
   "outputs": [
    {
     "name": "stdout",
     "output_type": "stream",
     "text": [
      "Found 17 seed files\n",
      "Starting lifelogs at: Sat Nov 16 04:14:33 2019\n",
      "1573895673\n",
      "1574102503\n",
      "1576038671\n",
      "1578345720\n",
      "1578354747\n",
      "1579713519\n",
      "1580144896\n",
      "1581985139\n",
      "1583642903\n",
      "1584061484\n",
      "1585440511\n",
      "1585512770\n",
      "1585603481\n",
      "1587166656\n",
      "1603997647\n",
      "1608411674\n",
      "1609170451\n"
     ]
    }
   ],
   "source": [
    "data_dir = '../../data/publicMapChangeData/bigserver2.onehouronelife.com/'\n",
    "seed_f = gsearch(opj(data_dir, '*mapSeed.txt'))\n",
    "seed_t = [int_extract('[0-9]+(?=time)', f) for f in seed_f]\n",
    "seed_t.sort()\n",
    "\n",
    "start_t = seed_t[0]\n",
    "\n",
    "print('Found %i seed files' % len(seed_t))\n",
    "print('Starting lifelogs at: %s' % datetime.datetime.fromtimestamp(start_t).strftime('%c'))\n",
    "print(*seed_t, sep='\\n')"
   ]
  },
  {
   "cell_type": "markdown",
   "metadata": {},
   "source": [
    "Load lifelog data:"
   ]
  },
  {
   "cell_type": "code",
   "execution_count": 3,
   "metadata": {},
   "outputs": [
    {
     "name": "stderr",
     "output_type": "stream",
     "text": [
      "/n/home15/nvelezalicea/.conda/envs/py3/lib/python3.9/site-packages/numpy/lib/arraysetops.py:580: FutureWarning: elementwise comparison failed; returning scalar instead, but in the future will perform elementwise comparison\n",
      "  mask |= (ar1 == a)\n"
     ]
    },
    {
     "data": {
      "text/html": [
       "<div>\n",
       "<style scoped>\n",
       "    .dataframe tbody tr th:only-of-type {\n",
       "        vertical-align: middle;\n",
       "    }\n",
       "\n",
       "    .dataframe tbody tr th {\n",
       "        vertical-align: top;\n",
       "    }\n",
       "\n",
       "    .dataframe thead th {\n",
       "        text-align: right;\n",
       "    }\n",
       "</style>\n",
       "<table border=\"1\" class=\"dataframe\">\n",
       "  <thead>\n",
       "    <tr style=\"text-align: right;\">\n",
       "      <th></th>\n",
       "      <th>player</th>\n",
       "      <th>avatar</th>\n",
       "      <th>tBirth</th>\n",
       "      <th>parent</th>\n",
       "      <th>birth</th>\n",
       "      <th>tDeath</th>\n",
       "      <th>death</th>\n",
       "      <th>age</th>\n",
       "      <th>cause_of_death</th>\n",
       "      <th>birthX</th>\n",
       "      <th>birthY</th>\n",
       "      <th>deathX</th>\n",
       "      <th>deathY</th>\n",
       "      <th>first</th>\n",
       "      <th>last</th>\n",
       "    </tr>\n",
       "  </thead>\n",
       "  <tbody>\n",
       "    <tr>\n",
       "      <th>0</th>\n",
       "      <td>5ab4f808b01db8bab564fa726ca7dd0439205d4a</td>\n",
       "      <td>4108849</td>\n",
       "      <td>1617678319</td>\n",
       "      <td>4108781</td>\n",
       "      <td>[-13743    -77]</td>\n",
       "      <td>1.617679e+09</td>\n",
       "      <td>[-13797   -104]</td>\n",
       "      <td>3.59</td>\n",
       "      <td>hunger</td>\n",
       "      <td>-13743</td>\n",
       "      <td>-77</td>\n",
       "      <td>-13797.0</td>\n",
       "      <td>-104.0</td>\n",
       "      <td>TED</td>\n",
       "      <td>GFELL</td>\n",
       "    </tr>\n",
       "    <tr>\n",
       "      <th>1</th>\n",
       "      <td>5ab4f808b01db8bab564fa726ca7dd0439205d4a</td>\n",
       "      <td>4108848</td>\n",
       "      <td>1617678300</td>\n",
       "      <td>4108786</td>\n",
       "      <td>[-15498    362]</td>\n",
       "      <td>1.617678e+09</td>\n",
       "      <td>[-15498    362]</td>\n",
       "      <td>0.22</td>\n",
       "      <td>disconnect</td>\n",
       "      <td>-15498</td>\n",
       "      <td>362</td>\n",
       "      <td>-15498.0</td>\n",
       "      <td>362.0</td>\n",
       "      <td>HERA</td>\n",
       "      <td>POLLY</td>\n",
       "    </tr>\n",
       "    <tr>\n",
       "      <th>2</th>\n",
       "      <td>dadea1a71832326c598df59059cf42102e979707</td>\n",
       "      <td>4108842</td>\n",
       "      <td>1617678238</td>\n",
       "      <td>4108778</td>\n",
       "      <td>[-15498    362]</td>\n",
       "      <td>1.617680e+09</td>\n",
       "      <td>[-15502    363]</td>\n",
       "      <td>22.16</td>\n",
       "      <td>murdered</td>\n",
       "      <td>-15498</td>\n",
       "      <td>362</td>\n",
       "      <td>-15502.0</td>\n",
       "      <td>363.0</td>\n",
       "      <td>SPARTAN</td>\n",
       "      <td>POLLY</td>\n",
       "    </tr>\n",
       "    <tr>\n",
       "      <th>3</th>\n",
       "      <td>328dc412f542693dc20d084e99a7367e4fe4aae4</td>\n",
       "      <td>4108839</td>\n",
       "      <td>1617678208</td>\n",
       "      <td>4108784</td>\n",
       "      <td>[-13754    -85]</td>\n",
       "      <td>1.617682e+09</td>\n",
       "      <td>[-13765    -64]</td>\n",
       "      <td>60.00</td>\n",
       "      <td>oldAge</td>\n",
       "      <td>-13754</td>\n",
       "      <td>-85</td>\n",
       "      <td>-13765.0</td>\n",
       "      <td>-64.0</td>\n",
       "      <td>SERANA</td>\n",
       "      <td>GFELL</td>\n",
       "    </tr>\n",
       "    <tr>\n",
       "      <th>4</th>\n",
       "      <td>e65b7bfa037a3287869cb682b648c68e52ad05d4</td>\n",
       "      <td>4108837</td>\n",
       "      <td>1617678173</td>\n",
       "      <td>4108782</td>\n",
       "      <td>[-15796   -205]</td>\n",
       "      <td>1.617679e+09</td>\n",
       "      <td>[-15803   -204]</td>\n",
       "      <td>14.85</td>\n",
       "      <td>murdered</td>\n",
       "      <td>-15796</td>\n",
       "      <td>-205</td>\n",
       "      <td>-15803.0</td>\n",
       "      <td>-204.0</td>\n",
       "      <td>TJ</td>\n",
       "      <td>NaN</td>\n",
       "    </tr>\n",
       "  </tbody>\n",
       "</table>\n",
       "</div>"
      ],
      "text/plain": [
       "                                     player   avatar      tBirth   parent  \\\n",
       "0  5ab4f808b01db8bab564fa726ca7dd0439205d4a  4108849  1617678319  4108781   \n",
       "1  5ab4f808b01db8bab564fa726ca7dd0439205d4a  4108848  1617678300  4108786   \n",
       "2  dadea1a71832326c598df59059cf42102e979707  4108842  1617678238  4108778   \n",
       "3  328dc412f542693dc20d084e99a7367e4fe4aae4  4108839  1617678208  4108784   \n",
       "4  e65b7bfa037a3287869cb682b648c68e52ad05d4  4108837  1617678173  4108782   \n",
       "\n",
       "             birth        tDeath            death    age cause_of_death  \\\n",
       "0  [-13743    -77]  1.617679e+09  [-13797   -104]   3.59         hunger   \n",
       "1  [-15498    362]  1.617678e+09  [-15498    362]   0.22     disconnect   \n",
       "2  [-15498    362]  1.617680e+09  [-15502    363]  22.16       murdered   \n",
       "3  [-13754    -85]  1.617682e+09  [-13765    -64]  60.00         oldAge   \n",
       "4  [-15796   -205]  1.617679e+09  [-15803   -204]  14.85       murdered   \n",
       "\n",
       "   birthX  birthY   deathX  deathY    first   last  \n",
       "0  -13743     -77 -13797.0  -104.0      TED  GFELL  \n",
       "1  -15498     362 -15498.0   362.0     HERA  POLLY  \n",
       "2  -15498     362 -15502.0   363.0  SPARTAN  POLLY  \n",
       "3  -13754     -85 -13765.0   -64.0   SERANA  GFELL  \n",
       "4  -15796    -205 -15803.0  -204.0       TJ    NaN  "
      ]
     },
     "execution_count": 3,
     "metadata": {},
     "output_type": "execute_result"
    }
   ],
   "source": [
    "all_eras = pd.read_csv('outputs/all_lifelogs_compact.tsv', sep='\\t', index_col=0)\n",
    "all_eras.head()"
   ]
  },
  {
   "cell_type": "markdown",
   "metadata": {},
   "source": [
    "Load families & find families that started after the new maplog format:"
   ]
  },
  {
   "cell_type": "code",
   "execution_count": 4,
   "metadata": {},
   "outputs": [
    {
     "name": "stderr",
     "output_type": "stream",
     "text": [
      "/n/home15/nvelezalicea/.conda/envs/py3/lib/python3.9/site-packages/numpy/lib/arraysetops.py:580: FutureWarning: elementwise comparison failed; returning scalar instead, but in the future will perform elementwise comparison\n",
      "  mask |= (ar1 == a)\n"
     ]
    },
    {
     "name": "stdout",
     "output_type": "stream",
     "text": [
      "Total families: 14874\n"
     ]
    },
    {
     "data": {
      "text/html": [
       "<div>\n",
       "<style scoped>\n",
       "    .dataframe tbody tr th:only-of-type {\n",
       "        vertical-align: middle;\n",
       "    }\n",
       "\n",
       "    .dataframe tbody tr th {\n",
       "        vertical-align: top;\n",
       "    }\n",
       "\n",
       "    .dataframe thead th {\n",
       "        text-align: right;\n",
       "    }\n",
       "</style>\n",
       "<table border=\"1\" class=\"dataframe\">\n",
       "  <thead>\n",
       "    <tr style=\"text-align: right;\">\n",
       "      <th></th>\n",
       "      <th>family</th>\n",
       "      <th>avatar</th>\n",
       "      <th>start_t</th>\n",
       "    </tr>\n",
       "  </thead>\n",
       "  <tbody>\n",
       "    <tr>\n",
       "      <th>49989</th>\n",
       "      <td>time-1573895755_eve-2276905_name-ZABICKI</td>\n",
       "      <td>19</td>\n",
       "      <td>1573895755</td>\n",
       "    </tr>\n",
       "    <tr>\n",
       "      <th>49990</th>\n",
       "      <td>time-1573895904_eve-2276911_name-ROHRER</td>\n",
       "      <td>3</td>\n",
       "      <td>1573895904</td>\n",
       "    </tr>\n",
       "    <tr>\n",
       "      <th>49991</th>\n",
       "      <td>time-1573896101_eve-2276917_name-BADA</td>\n",
       "      <td>36</td>\n",
       "      <td>1573896101</td>\n",
       "    </tr>\n",
       "    <tr>\n",
       "      <th>49992</th>\n",
       "      <td>time-1573896134_eve-2276919_name-SARINA</td>\n",
       "      <td>71</td>\n",
       "      <td>1573896134</td>\n",
       "    </tr>\n",
       "    <tr>\n",
       "      <th>49993</th>\n",
       "      <td>time-1573896495_eve-2276927_name-LISSADE</td>\n",
       "      <td>496</td>\n",
       "      <td>1573896495</td>\n",
       "    </tr>\n",
       "  </tbody>\n",
       "</table>\n",
       "</div>"
      ],
      "text/plain": [
       "                                         family  avatar     start_t\n",
       "49989  time-1573895755_eve-2276905_name-ZABICKI      19  1573895755\n",
       "49990   time-1573895904_eve-2276911_name-ROHRER       3  1573895904\n",
       "49991     time-1573896101_eve-2276917_name-BADA      36  1573896101\n",
       "49992   time-1573896134_eve-2276919_name-SARINA      71  1573896134\n",
       "49993  time-1573896495_eve-2276927_name-LISSADE     496  1573896495"
      ]
     },
     "execution_count": 4,
     "metadata": {},
     "output_type": "execute_result"
    }
   ],
   "source": [
    "fam_df = pd.read_csv('outputs/family_playerID.tsv', sep='\\t', index_col=0)\n",
    "in_era = fam_df.groupby('family')['avatar'].agg('count').reset_index()\n",
    "in_era['start_t'] = in_era.family.apply(lambda f: int_extract('(?<=time-)[0-9]+', f))\n",
    "\n",
    "# Trim families that started before the new map logs\n",
    "in_era = in_era[in_era['start_t'] >= start_t]\n",
    "\n",
    "print('Total families: %i' % in_era.shape[0])\n",
    "in_era.head()"
   ]
  },
  {
   "cell_type": "markdown",
   "metadata": {},
   "source": [
    "Remove incomplete families (i.e., lineages that were still alive at the time of the data download)"
   ]
  },
  {
   "cell_type": "code",
   "execution_count": 5,
   "metadata": {},
   "outputs": [
    {
     "name": "stdout",
     "output_type": "stream",
     "text": [
      "Removed 13 incomplete families\n",
      "14861 families remaining\n"
     ]
    },
    {
     "data": {
      "text/html": [
       "<div>\n",
       "<style scoped>\n",
       "    .dataframe tbody tr th:only-of-type {\n",
       "        vertical-align: middle;\n",
       "    }\n",
       "\n",
       "    .dataframe tbody tr th {\n",
       "        vertical-align: top;\n",
       "    }\n",
       "\n",
       "    .dataframe thead th {\n",
       "        text-align: right;\n",
       "    }\n",
       "</style>\n",
       "<table border=\"1\" class=\"dataframe\">\n",
       "  <thead>\n",
       "    <tr style=\"text-align: right;\">\n",
       "      <th></th>\n",
       "      <th>family</th>\n",
       "      <th>avatar</th>\n",
       "      <th>start_t</th>\n",
       "    </tr>\n",
       "  </thead>\n",
       "  <tbody>\n",
       "    <tr>\n",
       "      <th>0</th>\n",
       "      <td>time-1573895755_eve-2276905_name-ZABICKI</td>\n",
       "      <td>19</td>\n",
       "      <td>1573895755</td>\n",
       "    </tr>\n",
       "    <tr>\n",
       "      <th>1</th>\n",
       "      <td>time-1573895904_eve-2276911_name-ROHRER</td>\n",
       "      <td>3</td>\n",
       "      <td>1573895904</td>\n",
       "    </tr>\n",
       "    <tr>\n",
       "      <th>2</th>\n",
       "      <td>time-1573896101_eve-2276917_name-BADA</td>\n",
       "      <td>36</td>\n",
       "      <td>1573896101</td>\n",
       "    </tr>\n",
       "    <tr>\n",
       "      <th>3</th>\n",
       "      <td>time-1573896134_eve-2276919_name-SARINA</td>\n",
       "      <td>71</td>\n",
       "      <td>1573896134</td>\n",
       "    </tr>\n",
       "    <tr>\n",
       "      <th>4</th>\n",
       "      <td>time-1573896495_eve-2276927_name-LISSADE</td>\n",
       "      <td>496</td>\n",
       "      <td>1573896495</td>\n",
       "    </tr>\n",
       "  </tbody>\n",
       "</table>\n",
       "</div>"
      ],
      "text/plain": [
       "                                     family  avatar     start_t\n",
       "0  time-1573895755_eve-2276905_name-ZABICKI      19  1573895755\n",
       "1   time-1573895904_eve-2276911_name-ROHRER       3  1573895904\n",
       "2     time-1573896101_eve-2276917_name-BADA      36  1573896101\n",
       "3   time-1573896134_eve-2276919_name-SARINA      71  1573896134\n",
       "4  time-1573896495_eve-2276927_name-LISSADE     496  1573896495"
      ]
     },
     "execution_count": 5,
     "metadata": {},
     "output_type": "execute_result"
    }
   ],
   "source": [
    "filtered_fams = pd.merge(in_era[['family']], fam_df, how='left')\n",
    "filtered_lifelogs = pd.merge(filtered_fams, all_eras)\n",
    "\n",
    "idx = filtered_lifelogs.groupby(['family'])['tBirth'].transform(max) == filtered_lifelogs['tBirth']\n",
    "last_descendants = filtered_lifelogs[idx].copy()\n",
    "complete_fams = last_descendants.groupby('family')['tDeath'].agg(lambda group: all(np.isfinite(group))).reset_index()\n",
    "complete_fams = complete_fams[complete_fams.tDeath]\n",
    "complete_fams = pd.merge(complete_fams[['family']], in_era)\n",
    "\n",
    "print('Removed %i incomplete families' % (in_era.shape[0] - complete_fams.shape[0]))\n",
    "print('%i families remaining' % complete_fams.shape[0])\n",
    "complete_fams.head()"
   ]
  },
  {
   "cell_type": "markdown",
   "metadata": {},
   "source": [
    "Exclude infant births from lifelogs:\n"
   ]
  },
  {
   "cell_type": "code",
   "execution_count": 6,
   "metadata": {},
   "outputs": [
    {
     "name": "stdout",
     "output_type": "stream",
     "text": [
      "Removed 64359 infant disconnects\n",
      "(712313, 16)\n"
     ]
    },
    {
     "data": {
      "text/html": [
       "<div>\n",
       "<style scoped>\n",
       "    .dataframe tbody tr th:only-of-type {\n",
       "        vertical-align: middle;\n",
       "    }\n",
       "\n",
       "    .dataframe tbody tr th {\n",
       "        vertical-align: top;\n",
       "    }\n",
       "\n",
       "    .dataframe thead th {\n",
       "        text-align: right;\n",
       "    }\n",
       "</style>\n",
       "<table border=\"1\" class=\"dataframe\">\n",
       "  <thead>\n",
       "    <tr style=\"text-align: right;\">\n",
       "      <th></th>\n",
       "      <th>family</th>\n",
       "      <th>avatar</th>\n",
       "      <th>player</th>\n",
       "      <th>tBirth</th>\n",
       "      <th>parent</th>\n",
       "      <th>birth</th>\n",
       "      <th>tDeath</th>\n",
       "      <th>death</th>\n",
       "      <th>age</th>\n",
       "      <th>cause_of_death</th>\n",
       "      <th>birthX</th>\n",
       "      <th>birthY</th>\n",
       "      <th>deathX</th>\n",
       "      <th>deathY</th>\n",
       "      <th>first</th>\n",
       "      <th>last</th>\n",
       "    </tr>\n",
       "  </thead>\n",
       "  <tbody>\n",
       "    <tr>\n",
       "      <th>0</th>\n",
       "      <td>time-1573895755_eve-2276905_name-ZABICKI</td>\n",
       "      <td>2276941</td>\n",
       "      <td>c6ed44a5ce9e67f2c5a34f32be544edd78cbe601</td>\n",
       "      <td>1573897198</td>\n",
       "      <td>2276905</td>\n",
       "      <td>[-5114 -1399]</td>\n",
       "      <td>1.573899e+09</td>\n",
       "      <td>[-5153 -1379]</td>\n",
       "      <td>25.79</td>\n",
       "      <td>murdered</td>\n",
       "      <td>-5114</td>\n",
       "      <td>-1399</td>\n",
       "      <td>-5153.0</td>\n",
       "      <td>-1379.0</td>\n",
       "      <td>SAMMY</td>\n",
       "      <td>ZABICKI</td>\n",
       "    </tr>\n",
       "    <tr>\n",
       "      <th>1</th>\n",
       "      <td>time-1573895755_eve-2276905_name-ZABICKI</td>\n",
       "      <td>2276935</td>\n",
       "      <td>e7098854c1756fbc047243a7376e1c0dbd99b35d</td>\n",
       "      <td>1573896961</td>\n",
       "      <td>2276905</td>\n",
       "      <td>[-5130 -1408]</td>\n",
       "      <td>1.573899e+09</td>\n",
       "      <td>[-5131 -1383]</td>\n",
       "      <td>28.37</td>\n",
       "      <td>murdered</td>\n",
       "      <td>-5130</td>\n",
       "      <td>-1408</td>\n",
       "      <td>-5131.0</td>\n",
       "      <td>-1383.0</td>\n",
       "      <td>CUCA</td>\n",
       "      <td>ZABICKI</td>\n",
       "    </tr>\n",
       "    <tr>\n",
       "      <th>3</th>\n",
       "      <td>time-1573895755_eve-2276905_name-ZABICKI</td>\n",
       "      <td>2276922</td>\n",
       "      <td>0c7bc0236deae0bb888f63c4f4d94f4ab7cefad1</td>\n",
       "      <td>1573896361</td>\n",
       "      <td>2276905</td>\n",
       "      <td>[-5124 -1406]</td>\n",
       "      <td>1.573897e+09</td>\n",
       "      <td>[-5132 -1395]</td>\n",
       "      <td>9.73</td>\n",
       "      <td>hunger</td>\n",
       "      <td>-5124</td>\n",
       "      <td>-1406</td>\n",
       "      <td>-5132.0</td>\n",
       "      <td>-1395.0</td>\n",
       "      <td>HANA</td>\n",
       "      <td>ZABICKI</td>\n",
       "    </tr>\n",
       "    <tr>\n",
       "      <th>5</th>\n",
       "      <td>time-1573895755_eve-2276905_name-ZABICKI</td>\n",
       "      <td>2276914</td>\n",
       "      <td>e417361f8e2770a2a5647353af05f6e621be69c0</td>\n",
       "      <td>1573895976</td>\n",
       "      <td>2276905</td>\n",
       "      <td>[-5133 -1397]</td>\n",
       "      <td>1.573898e+09</td>\n",
       "      <td>[-5122 -1400]</td>\n",
       "      <td>41.77</td>\n",
       "      <td>murdered</td>\n",
       "      <td>-5133</td>\n",
       "      <td>-1397</td>\n",
       "      <td>-5122.0</td>\n",
       "      <td>-1400.0</td>\n",
       "      <td>NYANA</td>\n",
       "      <td>ZABICKI</td>\n",
       "    </tr>\n",
       "    <tr>\n",
       "      <th>6</th>\n",
       "      <td>time-1573895755_eve-2276905_name-ZABICKI</td>\n",
       "      <td>2276909</td>\n",
       "      <td>b0527ef2371111cb11369f4a5fe021c1bdb06ed9</td>\n",
       "      <td>1573895873</td>\n",
       "      <td>2276905</td>\n",
       "      <td>[-5121 -1398]</td>\n",
       "      <td>1.573899e+09</td>\n",
       "      <td>[-5107 -1389]</td>\n",
       "      <td>45.99</td>\n",
       "      <td>murdered</td>\n",
       "      <td>-5121</td>\n",
       "      <td>-1398</td>\n",
       "      <td>-5107.0</td>\n",
       "      <td>-1389.0</td>\n",
       "      <td>MASA</td>\n",
       "      <td>ZABICKI</td>\n",
       "    </tr>\n",
       "  </tbody>\n",
       "</table>\n",
       "</div>"
      ],
      "text/plain": [
       "                                     family   avatar  \\\n",
       "0  time-1573895755_eve-2276905_name-ZABICKI  2276941   \n",
       "1  time-1573895755_eve-2276905_name-ZABICKI  2276935   \n",
       "3  time-1573895755_eve-2276905_name-ZABICKI  2276922   \n",
       "5  time-1573895755_eve-2276905_name-ZABICKI  2276914   \n",
       "6  time-1573895755_eve-2276905_name-ZABICKI  2276909   \n",
       "\n",
       "                                     player      tBirth   parent  \\\n",
       "0  c6ed44a5ce9e67f2c5a34f32be544edd78cbe601  1573897198  2276905   \n",
       "1  e7098854c1756fbc047243a7376e1c0dbd99b35d  1573896961  2276905   \n",
       "3  0c7bc0236deae0bb888f63c4f4d94f4ab7cefad1  1573896361  2276905   \n",
       "5  e417361f8e2770a2a5647353af05f6e621be69c0  1573895976  2276905   \n",
       "6  b0527ef2371111cb11369f4a5fe021c1bdb06ed9  1573895873  2276905   \n",
       "\n",
       "           birth        tDeath          death    age cause_of_death  birthX  \\\n",
       "0  [-5114 -1399]  1.573899e+09  [-5153 -1379]  25.79       murdered   -5114   \n",
       "1  [-5130 -1408]  1.573899e+09  [-5131 -1383]  28.37       murdered   -5130   \n",
       "3  [-5124 -1406]  1.573897e+09  [-5132 -1395]   9.73         hunger   -5124   \n",
       "5  [-5133 -1397]  1.573898e+09  [-5122 -1400]  41.77       murdered   -5133   \n",
       "6  [-5121 -1398]  1.573899e+09  [-5107 -1389]  45.99       murdered   -5121   \n",
       "\n",
       "   birthY  deathX  deathY  first     last  \n",
       "0   -1399 -5153.0 -1379.0  SAMMY  ZABICKI  \n",
       "1   -1408 -5131.0 -1383.0   CUCA  ZABICKI  \n",
       "3   -1406 -5132.0 -1395.0   HANA  ZABICKI  \n",
       "5   -1397 -5122.0 -1400.0  NYANA  ZABICKI  \n",
       "6   -1398 -5107.0 -1389.0   MASA  ZABICKI  "
      ]
     },
     "execution_count": 6,
     "metadata": {},
     "output_type": "execute_result"
    }
   ],
   "source": [
    "complete_descendants = pd.merge(complete_fams[['family']], fam_df)\n",
    "\n",
    "infant_lifelogs = pd.merge(complete_descendants, all_eras)\n",
    "noninfant_lifelogs = infant_lifelogs[(infant_lifelogs['cause_of_death'] != 'disconnect') & (infant_lifelogs['age'] > 2)]\n",
    "\n",
    "print('Removed %i infant disconnects' % (infant_lifelogs.shape[0] - noninfant_lifelogs.shape[0]))\n",
    "print(noninfant_lifelogs.shape)\n",
    "noninfant_lifelogs.head()"
   ]
  },
  {
   "cell_type": "markdown",
   "metadata": {},
   "source": [
    "Remove singleton families:"
   ]
  },
  {
   "cell_type": "code",
   "execution_count": 7,
   "metadata": {},
   "outputs": [
    {
     "name": "stdout",
     "output_type": "stream",
     "text": [
      "Removed 8684 singleton families\n",
      "6177 families remaining\n"
     ]
    },
    {
     "data": {
      "text/html": [
       "<div>\n",
       "<style scoped>\n",
       "    .dataframe tbody tr th:only-of-type {\n",
       "        vertical-align: middle;\n",
       "    }\n",
       "\n",
       "    .dataframe tbody tr th {\n",
       "        vertical-align: top;\n",
       "    }\n",
       "\n",
       "    .dataframe thead th {\n",
       "        text-align: right;\n",
       "    }\n",
       "</style>\n",
       "<table border=\"1\" class=\"dataframe\">\n",
       "  <thead>\n",
       "    <tr style=\"text-align: right;\">\n",
       "      <th></th>\n",
       "      <th>family</th>\n",
       "      <th>avatar</th>\n",
       "    </tr>\n",
       "  </thead>\n",
       "  <tbody>\n",
       "    <tr>\n",
       "      <th>0</th>\n",
       "      <td>time-1573895755_eve-2276905_name-ZABICKI</td>\n",
       "      <td>16</td>\n",
       "    </tr>\n",
       "    <tr>\n",
       "      <th>1</th>\n",
       "      <td>time-1573895904_eve-2276911_name-ROHRER</td>\n",
       "      <td>3</td>\n",
       "    </tr>\n",
       "    <tr>\n",
       "      <th>2</th>\n",
       "      <td>time-1573896101_eve-2276917_name-BADA</td>\n",
       "      <td>32</td>\n",
       "    </tr>\n",
       "    <tr>\n",
       "      <th>3</th>\n",
       "      <td>time-1573896134_eve-2276919_name-SARINA</td>\n",
       "      <td>63</td>\n",
       "    </tr>\n",
       "    <tr>\n",
       "      <th>4</th>\n",
       "      <td>time-1573896495_eve-2276927_name-LISSADE</td>\n",
       "      <td>440</td>\n",
       "    </tr>\n",
       "  </tbody>\n",
       "</table>\n",
       "</div>"
      ],
      "text/plain": [
       "                                     family  avatar\n",
       "0  time-1573895755_eve-2276905_name-ZABICKI      16\n",
       "1   time-1573895904_eve-2276911_name-ROHRER       3\n",
       "2     time-1573896101_eve-2276917_name-BADA      32\n",
       "3   time-1573896134_eve-2276919_name-SARINA      63\n",
       "4  time-1573896495_eve-2276927_name-LISSADE     440"
      ]
     },
     "execution_count": 7,
     "metadata": {},
     "output_type": "execute_result"
    }
   ],
   "source": [
    "final_families = noninfant_lifelogs.groupby('family')['avatar'].agg('count').reset_index()\n",
    "final_families = final_families[final_families.avatar > 1]\n",
    "\n",
    "print('Removed %i singleton families' % (complete_fams.shape[0] - final_families.shape[0]))\n",
    "print('%i families remaining' % final_families.shape[0])\n",
    "final_families.head()"
   ]
  },
  {
   "cell_type": "markdown",
   "metadata": {},
   "source": [
    "Filter singleton families out of lifelogs:"
   ]
  },
  {
   "cell_type": "code",
   "execution_count": 8,
   "metadata": {},
   "outputs": [
    {
     "name": "stdout",
     "output_type": "stream",
     "text": [
      "(712313, 16)\n",
      "(703653, 16)\n"
     ]
    },
    {
     "data": {
      "text/html": [
       "<div>\n",
       "<style scoped>\n",
       "    .dataframe tbody tr th:only-of-type {\n",
       "        vertical-align: middle;\n",
       "    }\n",
       "\n",
       "    .dataframe tbody tr th {\n",
       "        vertical-align: top;\n",
       "    }\n",
       "\n",
       "    .dataframe thead th {\n",
       "        text-align: right;\n",
       "    }\n",
       "</style>\n",
       "<table border=\"1\" class=\"dataframe\">\n",
       "  <thead>\n",
       "    <tr style=\"text-align: right;\">\n",
       "      <th></th>\n",
       "      <th>family</th>\n",
       "      <th>avatar</th>\n",
       "      <th>player</th>\n",
       "      <th>tBirth</th>\n",
       "      <th>parent</th>\n",
       "      <th>birth</th>\n",
       "      <th>tDeath</th>\n",
       "      <th>death</th>\n",
       "      <th>age</th>\n",
       "      <th>cause_of_death</th>\n",
       "      <th>birthX</th>\n",
       "      <th>birthY</th>\n",
       "      <th>deathX</th>\n",
       "      <th>deathY</th>\n",
       "      <th>first</th>\n",
       "      <th>last</th>\n",
       "    </tr>\n",
       "  </thead>\n",
       "  <tbody>\n",
       "    <tr>\n",
       "      <th>0</th>\n",
       "      <td>time-1573895755_eve-2276905_name-ZABICKI</td>\n",
       "      <td>2276941</td>\n",
       "      <td>c6ed44a5ce9e67f2c5a34f32be544edd78cbe601</td>\n",
       "      <td>1573897198</td>\n",
       "      <td>2276905</td>\n",
       "      <td>[-5114 -1399]</td>\n",
       "      <td>1.573899e+09</td>\n",
       "      <td>[-5153 -1379]</td>\n",
       "      <td>25.79</td>\n",
       "      <td>murdered</td>\n",
       "      <td>-5114</td>\n",
       "      <td>-1399</td>\n",
       "      <td>-5153.0</td>\n",
       "      <td>-1379.0</td>\n",
       "      <td>SAMMY</td>\n",
       "      <td>ZABICKI</td>\n",
       "    </tr>\n",
       "    <tr>\n",
       "      <th>1</th>\n",
       "      <td>time-1573895755_eve-2276905_name-ZABICKI</td>\n",
       "      <td>2276935</td>\n",
       "      <td>e7098854c1756fbc047243a7376e1c0dbd99b35d</td>\n",
       "      <td>1573896961</td>\n",
       "      <td>2276905</td>\n",
       "      <td>[-5130 -1408]</td>\n",
       "      <td>1.573899e+09</td>\n",
       "      <td>[-5131 -1383]</td>\n",
       "      <td>28.37</td>\n",
       "      <td>murdered</td>\n",
       "      <td>-5130</td>\n",
       "      <td>-1408</td>\n",
       "      <td>-5131.0</td>\n",
       "      <td>-1383.0</td>\n",
       "      <td>CUCA</td>\n",
       "      <td>ZABICKI</td>\n",
       "    </tr>\n",
       "    <tr>\n",
       "      <th>2</th>\n",
       "      <td>time-1573895755_eve-2276905_name-ZABICKI</td>\n",
       "      <td>2276922</td>\n",
       "      <td>0c7bc0236deae0bb888f63c4f4d94f4ab7cefad1</td>\n",
       "      <td>1573896361</td>\n",
       "      <td>2276905</td>\n",
       "      <td>[-5124 -1406]</td>\n",
       "      <td>1.573897e+09</td>\n",
       "      <td>[-5132 -1395]</td>\n",
       "      <td>9.73</td>\n",
       "      <td>hunger</td>\n",
       "      <td>-5124</td>\n",
       "      <td>-1406</td>\n",
       "      <td>-5132.0</td>\n",
       "      <td>-1395.0</td>\n",
       "      <td>HANA</td>\n",
       "      <td>ZABICKI</td>\n",
       "    </tr>\n",
       "    <tr>\n",
       "      <th>3</th>\n",
       "      <td>time-1573895755_eve-2276905_name-ZABICKI</td>\n",
       "      <td>2276914</td>\n",
       "      <td>e417361f8e2770a2a5647353af05f6e621be69c0</td>\n",
       "      <td>1573895976</td>\n",
       "      <td>2276905</td>\n",
       "      <td>[-5133 -1397]</td>\n",
       "      <td>1.573898e+09</td>\n",
       "      <td>[-5122 -1400]</td>\n",
       "      <td>41.77</td>\n",
       "      <td>murdered</td>\n",
       "      <td>-5133</td>\n",
       "      <td>-1397</td>\n",
       "      <td>-5122.0</td>\n",
       "      <td>-1400.0</td>\n",
       "      <td>NYANA</td>\n",
       "      <td>ZABICKI</td>\n",
       "    </tr>\n",
       "    <tr>\n",
       "      <th>4</th>\n",
       "      <td>time-1573895755_eve-2276905_name-ZABICKI</td>\n",
       "      <td>2276909</td>\n",
       "      <td>b0527ef2371111cb11369f4a5fe021c1bdb06ed9</td>\n",
       "      <td>1573895873</td>\n",
       "      <td>2276905</td>\n",
       "      <td>[-5121 -1398]</td>\n",
       "      <td>1.573899e+09</td>\n",
       "      <td>[-5107 -1389]</td>\n",
       "      <td>45.99</td>\n",
       "      <td>murdered</td>\n",
       "      <td>-5121</td>\n",
       "      <td>-1398</td>\n",
       "      <td>-5107.0</td>\n",
       "      <td>-1389.0</td>\n",
       "      <td>MASA</td>\n",
       "      <td>ZABICKI</td>\n",
       "    </tr>\n",
       "  </tbody>\n",
       "</table>\n",
       "</div>"
      ],
      "text/plain": [
       "                                     family   avatar  \\\n",
       "0  time-1573895755_eve-2276905_name-ZABICKI  2276941   \n",
       "1  time-1573895755_eve-2276905_name-ZABICKI  2276935   \n",
       "2  time-1573895755_eve-2276905_name-ZABICKI  2276922   \n",
       "3  time-1573895755_eve-2276905_name-ZABICKI  2276914   \n",
       "4  time-1573895755_eve-2276905_name-ZABICKI  2276909   \n",
       "\n",
       "                                     player      tBirth   parent  \\\n",
       "0  c6ed44a5ce9e67f2c5a34f32be544edd78cbe601  1573897198  2276905   \n",
       "1  e7098854c1756fbc047243a7376e1c0dbd99b35d  1573896961  2276905   \n",
       "2  0c7bc0236deae0bb888f63c4f4d94f4ab7cefad1  1573896361  2276905   \n",
       "3  e417361f8e2770a2a5647353af05f6e621be69c0  1573895976  2276905   \n",
       "4  b0527ef2371111cb11369f4a5fe021c1bdb06ed9  1573895873  2276905   \n",
       "\n",
       "           birth        tDeath          death    age cause_of_death  birthX  \\\n",
       "0  [-5114 -1399]  1.573899e+09  [-5153 -1379]  25.79       murdered   -5114   \n",
       "1  [-5130 -1408]  1.573899e+09  [-5131 -1383]  28.37       murdered   -5130   \n",
       "2  [-5124 -1406]  1.573897e+09  [-5132 -1395]   9.73         hunger   -5124   \n",
       "3  [-5133 -1397]  1.573898e+09  [-5122 -1400]  41.77       murdered   -5133   \n",
       "4  [-5121 -1398]  1.573899e+09  [-5107 -1389]  45.99       murdered   -5121   \n",
       "\n",
       "   birthY  deathX  deathY  first     last  \n",
       "0   -1399 -5153.0 -1379.0  SAMMY  ZABICKI  \n",
       "1   -1408 -5131.0 -1383.0   CUCA  ZABICKI  \n",
       "2   -1406 -5132.0 -1395.0   HANA  ZABICKI  \n",
       "3   -1397 -5122.0 -1400.0  NYANA  ZABICKI  \n",
       "4   -1398 -5107.0 -1389.0   MASA  ZABICKI  "
      ]
     },
     "execution_count": 8,
     "metadata": {},
     "output_type": "execute_result"
    }
   ],
   "source": [
    "final_lifelogs = pd.merge(final_families[['family']], noninfant_lifelogs)\n",
    "print(noninfant_lifelogs.shape)\n",
    "print(final_lifelogs.shape)\n",
    "final_lifelogs.head()"
   ]
  },
  {
   "cell_type": "markdown",
   "metadata": {},
   "source": [
    "## Check full sample"
   ]
  },
  {
   "cell_type": "markdown",
   "metadata": {},
   "source": [
    "Final sample size calculation!"
   ]
  },
  {
   "cell_type": "code",
   "execution_count": 9,
   "metadata": {
    "scrolled": true
   },
   "outputs": [
    {
     "name": "stdout",
     "output_type": "stream",
     "text": [
      "N =\t6177 families\n",
      "\t703653 avatars\n",
      "\t38564 unique players\n"
     ]
    }
   ],
   "source": [
    "final_sample = final_lifelogs[['family', 'player', 'avatar']].agg('nunique')\n",
    "print('N =\\t%i families' % final_sample['family'])\n",
    "print('\\t%i avatars' % final_sample['avatar'])\n",
    "print('\\t%i unique players' % final_sample['player'])"
   ]
  },
  {
   "cell_type": "markdown",
   "metadata": {},
   "source": [
    "Save inclusions (we'll upload this at the end):"
   ]
  },
  {
   "cell_type": "code",
   "execution_count": 10,
   "metadata": {},
   "outputs": [],
   "source": [
    "inc_families = list(np.unique(final_lifelogs.family))\n",
    "inc_players = list(np.unique(final_lifelogs.player))\n",
    "inc_avatars = list(np.unique(final_lifelogs.avatar))"
   ]
  },
  {
   "cell_type": "markdown",
   "metadata": {},
   "source": [
    "Lives per player in current sample:"
   ]
  },
  {
   "cell_type": "code",
   "execution_count": 11,
   "metadata": {},
   "outputs": [
    {
     "name": "stdout",
     "output_type": "stream",
     "text": [
      "Median # lives: 4.00\n",
      "Min # lives: 1\n",
      "Max # lives: 2201\n"
     ]
    },
    {
     "name": "stderr",
     "output_type": "stream",
     "text": [
      "/n/home15/nvelezalicea/.conda/envs/py3/lib/python3.9/site-packages/seaborn/distributions.py:2557: FutureWarning: `distplot` is a deprecated function and will be removed in a future version. Please adapt your code to use either `displot` (a figure-level function with similar flexibility) or `histplot` (an axes-level function for histograms).\n",
      "  warnings.warn(msg, FutureWarning)\n"
     ]
    },
    {
     "data": {
      "image/png": "[encoded data removed]",
      "text/plain": [
       "<Figure size 432x288 with 1 Axes>"
      ]
     },
     "metadata": {},
     "output_type": "display_data"
    }
   ],
   "source": [
    "player_summ = final_lifelogs.groupby('player')['avatar'].agg('count').reset_index()\n",
    "player_summ = player_summ.rename(columns={'avatar': 'n'})\n",
    "player_summ.head()\n",
    "\n",
    "# Plot\n",
    "print('Median # lives: %0.2f' % np.median(player_summ['n']))\n",
    "print('Min # lives: %i' % np.min(player_summ['n']))\n",
    "print('Max # lives: %i' % np.max(player_summ['n']))\n",
    "\n",
    "fig,ax = plt.subplots()\n",
    "sns.distplot(np.log10(player_summ['n']),ax=ax)\n",
    "ax.set(xlabel='# lives (excluding disconnects)', xticks=range(4), xticklabels=[10**x for x in range(4)])\n",
    "sns.despine()"
   ]
  },
  {
   "cell_type": "markdown",
   "metadata": {},
   "source": [
    "Start and end times:"
   ]
  },
  {
   "cell_type": "code",
   "execution_count": 12,
   "metadata": {},
   "outputs": [
    {
     "name": "stdout",
     "output_type": "stream",
     "text": [
      "First lineage starts at: 2019-11-16T04:15:55 \n",
      "Lineages end at: 2021-04-06T00:03:28 \n"
     ]
    }
   ],
   "source": [
    "t_fmt = '%Y-%m-%dT%H:%M:%S %Z'\n",
    "\n",
    "start_t = np.min(final_lifelogs['tBirth'])\n",
    "start_date = datetime.datetime.fromtimestamp(start_t).strftime(t_fmt)\n",
    "\n",
    "end_t = np.max(final_lifelogs['tDeath'])\n",
    "end_date = datetime.datetime.fromtimestamp(end_t).strftime(t_fmt)\n",
    "\n",
    "print('First lineage starts at: %s' % start_date)\n",
    "print('Lineages end at: %s' % end_date)"
   ]
  },
  {
   "cell_type": "markdown",
   "metadata": {},
   "source": [
    "What is the longest-lived lineage?"
   ]
  },
  {
   "cell_type": "code",
   "execution_count": 13,
   "metadata": {},
   "outputs": [
    {
     "data": {
      "text/html": [
       "<div>\n",
       "<style scoped>\n",
       "    .dataframe tbody tr th:only-of-type {\n",
       "        vertical-align: middle;\n",
       "    }\n",
       "\n",
       "    .dataframe tbody tr th {\n",
       "        vertical-align: top;\n",
       "    }\n",
       "\n",
       "    .dataframe thead th {\n",
       "        text-align: right;\n",
       "    }\n",
       "</style>\n",
       "<table border=\"1\" class=\"dataframe\">\n",
       "  <thead>\n",
       "    <tr style=\"text-align: right;\">\n",
       "      <th></th>\n",
       "      <th>family</th>\n",
       "      <th>tBirth</th>\n",
       "      <th>tDeath</th>\n",
       "      <th>duration_hours</th>\n",
       "      <th>duration_days</th>\n",
       "    </tr>\n",
       "  </thead>\n",
       "  <tbody>\n",
       "    <tr>\n",
       "      <th>0</th>\n",
       "      <td>time-1609746195_eve-3833245_name-STALLINS</td>\n",
       "      <td>1609746195</td>\n",
       "      <td>1.610329e+09</td>\n",
       "      <td>161.972222</td>\n",
       "      <td>6.748843</td>\n",
       "    </tr>\n",
       "    <tr>\n",
       "      <th>1</th>\n",
       "      <td>time-1611138522_eve-3897231_name-LUCKY</td>\n",
       "      <td>1611138522</td>\n",
       "      <td>1.611671e+09</td>\n",
       "      <td>147.875833</td>\n",
       "      <td>6.161493</td>\n",
       "    </tr>\n",
       "    <tr>\n",
       "      <th>2</th>\n",
       "      <td>time-1611388293_eve-3906808_name-ARTEMENKO</td>\n",
       "      <td>1611388293</td>\n",
       "      <td>1.611867e+09</td>\n",
       "      <td>132.887778</td>\n",
       "      <td>5.536991</td>\n",
       "    </tr>\n",
       "    <tr>\n",
       "      <th>3</th>\n",
       "      <td>time-1610335007_eve-3864700_name-APRIL</td>\n",
       "      <td>1610335007</td>\n",
       "      <td>1.610808e+09</td>\n",
       "      <td>131.353889</td>\n",
       "      <td>5.473079</td>\n",
       "    </tr>\n",
       "    <tr>\n",
       "      <th>4</th>\n",
       "      <td>time-1607255144_eve-3661190_name-RED</td>\n",
       "      <td>1607255144</td>\n",
       "      <td>1.607709e+09</td>\n",
       "      <td>126.131667</td>\n",
       "      <td>5.255486</td>\n",
       "    </tr>\n",
       "  </tbody>\n",
       "</table>\n",
       "</div>"
      ],
      "text/plain": [
       "                                       family      tBirth        tDeath  \\\n",
       "0   time-1609746195_eve-3833245_name-STALLINS  1609746195  1.610329e+09   \n",
       "1      time-1611138522_eve-3897231_name-LUCKY  1611138522  1.611671e+09   \n",
       "2  time-1611388293_eve-3906808_name-ARTEMENKO  1611388293  1.611867e+09   \n",
       "3      time-1610335007_eve-3864700_name-APRIL  1610335007  1.610808e+09   \n",
       "4        time-1607255144_eve-3661190_name-RED  1607255144  1.607709e+09   \n",
       "\n",
       "   duration_hours  duration_days  \n",
       "0      161.972222       6.748843  \n",
       "1      147.875833       6.161493  \n",
       "2      132.887778       5.536991  \n",
       "3      131.353889       5.473079  \n",
       "4      126.131667       5.255486  "
      ]
     },
     "execution_count": 13,
     "metadata": {},
     "output_type": "execute_result"
    }
   ],
   "source": [
    "family_t = final_lifelogs.groupby('family').agg({'tBirth': 'min', 'tDeath': 'max'}).reset_index()\n",
    "family_t['duration_hours'] = (family_t['tDeath'] - family_t['tBirth'])/60/60\n",
    "family_t['duration_days'] = family_t['duration_hours']/24\n",
    "family_t = family_t.sort_values(by='duration_hours', ascending=False).reset_index(drop=True)\n",
    "family_t.head()"
   ]
  },
  {
   "cell_type": "code",
   "execution_count": 14,
   "metadata": {},
   "outputs": [
    {
     "name": "stderr",
     "output_type": "stream",
     "text": [
      "/n/home15/nvelezalicea/.conda/envs/py3/lib/python3.9/site-packages/seaborn/distributions.py:2557: FutureWarning: `distplot` is a deprecated function and will be removed in a future version. Please adapt your code to use either `displot` (a figure-level function with similar flexibility) or `histplot` (an axes-level function for histograms).\n",
      "  warnings.warn(msg, FutureWarning)\n"
     ]
    },
    {
     "data": {
      "text/plain": [
       "[[<matplotlib.axis.XTick at 0x2b5bfb428d00>,\n",
       "  <matplotlib.axis.XTick at 0x2b5bfb428cd0>,\n",
       "  <matplotlib.axis.XTick at 0x2b5bfb44c6a0>,\n",
       "  <matplotlib.axis.XTick at 0x2b5bfb4b32e0>,\n",
       "  <matplotlib.axis.XTick at 0x2b5bfb4b3670>],\n",
       " [Text(-2.0, 0, '0.01'),\n",
       "  Text(-1.0, 0, '0.1'),\n",
       "  Text(0.0, 0, '1.0'),\n",
       "  Text(1.0, 0, '10.0'),\n",
       "  Text(2.0, 0, '100.0')],\n",
       " Text(0.5, 0, 'Family duration (hours)')]"
      ]
     },
     "execution_count": 14,
     "metadata": {},
     "output_type": "execute_result"
    },
    {
     "data": {
      "image/png": "[encoded data removed]",
      "text/plain": [
       "<Figure size 432x288 with 1 Axes>"
      ]
     },
     "metadata": {},
     "output_type": "display_data"
    }
   ],
   "source": [
    "ax = sns.distplot(np.log10(family_t.duration_hours))\n",
    "log_xticks = ax.get_xticks()\n",
    "log_xticks = log_xticks[1:-1]\n",
    "ax.set(xticks = log_xticks, xticklabels = [10**x for x in log_xticks],\n",
    "       xlabel = 'Family duration (hours)')"
   ]
  },
  {
   "cell_type": "code",
   "execution_count": 15,
   "metadata": {},
   "outputs": [
    {
     "data": {
      "text/plain": [
       "min         0.035556\n",
       "max       161.972222\n",
       "median      2.264444\n",
       "Name: duration_hours, dtype: float64"
      ]
     },
     "execution_count": 15,
     "metadata": {},
     "output_type": "execute_result"
    }
   ],
   "source": [
    "family_t['duration_hours'].agg(['min', 'max', 'median'])"
   ]
  },
  {
   "cell_type": "markdown",
   "metadata": {},
   "source": [
    "## Compute summary statistics"
   ]
  },
  {
   "cell_type": "markdown",
   "metadata": {},
   "source": [
    "### Family size and life expectancy"
   ]
  },
  {
   "cell_type": "code",
   "execution_count": 16,
   "metadata": {},
   "outputs": [
    {
     "name": "stderr",
     "output_type": "stream",
     "text": [
      "/n/home15/nvelezalicea/.conda/envs/py3/lib/python3.9/site-packages/seaborn/distributions.py:2557: FutureWarning: `distplot` is a deprecated function and will be removed in a future version. Please adapt your code to use either `displot` (a figure-level function with similar flexibility) or `histplot` (an axes-level function for histograms).\n",
      "  warnings.warn(msg, FutureWarning)\n"
     ]
    },
    {
     "data": {
      "image/png": "[encoded data removed]",
      "text/plain": [
       "<Figure size 432x288 with 1 Axes>"
      ]
     },
     "metadata": {},
     "output_type": "display_data"
    }
   ],
   "source": [
    "life_expectancy = final_lifelogs.groupby('family')['age'].agg(['mean', 'count']).reset_index()\n",
    "ax = sns.distplot(life_expectancy['mean'])\n",
    "ax.set(xlabel = 'Life expectancy by family')\n",
    "sns.despine()"
   ]
  },
  {
   "cell_type": "code",
   "execution_count": 17,
   "metadata": {},
   "outputs": [
    {
     "name": "stderr",
     "output_type": "stream",
     "text": [
      "/n/home15/nvelezalicea/.conda/envs/py3/lib/python3.9/site-packages/seaborn/distributions.py:2557: FutureWarning: `distplot` is a deprecated function and will be removed in a future version. Please adapt your code to use either `displot` (a figure-level function with similar flexibility) or `histplot` (an axes-level function for histograms).\n",
      "  warnings.warn(msg, FutureWarning)\n"
     ]
    },
    {
     "data": {
      "image/png": "[encoded data removed]",
      "text/plain": [
       "<Figure size 432x288 with 1 Axes>"
      ]
     },
     "metadata": {},
     "output_type": "display_data"
    }
   ],
   "source": [
    "ax = sns.distplot(np.log10(life_expectancy['count']))\n",
    "ax.set(xlabel = 'Total family size', xticks=range(5), xticklabels=[10**i for i in range(5)])\n",
    "sns.despine()"
   ]
  },
  {
   "cell_type": "code",
   "execution_count": 18,
   "metadata": {},
   "outputs": [
    {
     "data": {
      "text/plain": [
       "ModeResult(mode=array([2]), count=array([885]))"
      ]
     },
     "execution_count": 18,
     "metadata": {},
     "output_type": "execute_result"
    }
   ],
   "source": [
    "scipy.stats.mode(life_expectancy['count'])"
   ]
  },
  {
   "cell_type": "markdown",
   "metadata": {},
   "source": [
    "### # of generations (Chain length)"
   ]
  },
  {
   "cell_type": "markdown",
   "metadata": {},
   "source": [
    "Helper: Read JSON files"
   ]
  },
  {
   "cell_type": "code",
   "execution_count": 19,
   "metadata": {},
   "outputs": [],
   "source": [
    "def open_graph(f):\n",
    "    with open(f) as handle:\n",
    "        graph_data = json.load(handle)\n",
    "    return nx.json_graph.node_link_graph(graph_data)"
   ]
  },
  {
   "cell_type": "markdown",
   "metadata": {},
   "source": [
    "Find longest chain in family graphs"
   ]
  },
  {
   "cell_type": "code",
   "execution_count": 20,
   "metadata": {},
   "outputs": [
    {
     "data": {
      "application/vnd.jupyter.widget-view+json": {
       "model_id": "a0c52031f3d9447a9284ae001a75c6e1",
       "version_major": 2,
       "version_minor": 0
      },
      "text/plain": [
       "  0%|          | 0/6177 [00:00<?, ?it/s]"
      ]
     },
     "metadata": {},
     "output_type": "display_data"
    }
   ],
   "source": [
    "chain_list = []\n",
    "family_generations = []\n",
    "\n",
    "for f in notebook.tqdm(inc_families):\n",
    "    fam_file = 'outputs/families/families_%s.json' % f\n",
    "    fam_graph = open_graph(fam_file)\n",
    "    fam_chain = nx.algorithms.dag_longest_path(fam_graph)\n",
    "    \n",
    "    eve = re.search(r'(?<=eve-)([0-9]+)', f).group(0)\n",
    "    \n",
    "    chain_list.append((f, len(fam_chain)))"
   ]
  },
  {
   "cell_type": "code",
   "execution_count": 21,
   "metadata": {},
   "outputs": [
    {
     "data": {
      "text/html": [
       "<div>\n",
       "<style scoped>\n",
       "    .dataframe tbody tr th:only-of-type {\n",
       "        vertical-align: middle;\n",
       "    }\n",
       "\n",
       "    .dataframe tbody tr th {\n",
       "        vertical-align: top;\n",
       "    }\n",
       "\n",
       "    .dataframe thead th {\n",
       "        text-align: right;\n",
       "    }\n",
       "</style>\n",
       "<table border=\"1\" class=\"dataframe\">\n",
       "  <thead>\n",
       "    <tr style=\"text-align: right;\">\n",
       "      <th></th>\n",
       "      <th>family</th>\n",
       "      <th>longest_path</th>\n",
       "    </tr>\n",
       "  </thead>\n",
       "  <tbody>\n",
       "    <tr>\n",
       "      <th>0</th>\n",
       "      <td>time-1573895755_eve-2276905_name-ZABICKI</td>\n",
       "      <td>3</td>\n",
       "    </tr>\n",
       "    <tr>\n",
       "      <th>1</th>\n",
       "      <td>time-1573895904_eve-2276911_name-ROHRER</td>\n",
       "      <td>2</td>\n",
       "    </tr>\n",
       "    <tr>\n",
       "      <th>2</th>\n",
       "      <td>time-1573896101_eve-2276917_name-BADA</td>\n",
       "      <td>5</td>\n",
       "    </tr>\n",
       "    <tr>\n",
       "      <th>3</th>\n",
       "      <td>time-1573896134_eve-2276919_name-SARINA</td>\n",
       "      <td>9</td>\n",
       "    </tr>\n",
       "    <tr>\n",
       "      <th>4</th>\n",
       "      <td>time-1573896495_eve-2276927_name-LISSADE</td>\n",
       "      <td>46</td>\n",
       "    </tr>\n",
       "  </tbody>\n",
       "</table>\n",
       "</div>"
      ],
      "text/plain": [
       "                                     family  longest_path\n",
       "0  time-1573895755_eve-2276905_name-ZABICKI             3\n",
       "1   time-1573895904_eve-2276911_name-ROHRER             2\n",
       "2     time-1573896101_eve-2276917_name-BADA             5\n",
       "3   time-1573896134_eve-2276919_name-SARINA             9\n",
       "4  time-1573896495_eve-2276927_name-LISSADE            46"
      ]
     },
     "execution_count": 21,
     "metadata": {},
     "output_type": "execute_result"
    }
   ],
   "source": [
    "chain_df = pd.DataFrame(chain_list, columns=['family', 'longest_path'])\n",
    "chain_df.head()"
   ]
  },
  {
   "cell_type": "code",
   "execution_count": 22,
   "metadata": {},
   "outputs": [
    {
     "data": {
      "text/plain": [
       "min         2.0\n",
       "max       357.0\n",
       "median      5.0\n",
       "Name: longest_path, dtype: float64"
      ]
     },
     "execution_count": 22,
     "metadata": {},
     "output_type": "execute_result"
    }
   ],
   "source": [
    "chain_df['longest_path'].agg(['min', 'max', 'median'])"
   ]
  },
  {
   "cell_type": "code",
   "execution_count": 23,
   "metadata": {},
   "outputs": [
    {
     "name": "stderr",
     "output_type": "stream",
     "text": [
      "/n/home15/nvelezalicea/.conda/envs/py3/lib/python3.9/site-packages/seaborn/distributions.py:2557: FutureWarning: `distplot` is a deprecated function and will be removed in a future version. Please adapt your code to use either `displot` (a figure-level function with similar flexibility) or `histplot` (an axes-level function for histograms).\n",
      "  warnings.warn(msg, FutureWarning)\n"
     ]
    },
    {
     "data": {
      "text/plain": [
       "[Text(0.5, 0, '# of generations'),\n",
       " [<matplotlib.axis.XTick at 0x2b5bda749eb0>,\n",
       "  <matplotlib.axis.XTick at 0x2b5bda749d60>,\n",
       "  <matplotlib.axis.XTick at 0x2b5bfb54f550>],\n",
       " [Text(0, 0, '1'), Text(1, 0, '10'), Text(2, 0, '100')]]"
      ]
     },
     "execution_count": 23,
     "metadata": {},
     "output_type": "execute_result"
    },
    {
     "data": {
      "image/png": "[encoded data removed]",
      "text/plain": [
       "<Figure size 432x288 with 1 Axes>"
      ]
     },
     "metadata": {},
     "output_type": "display_data"
    }
   ],
   "source": [
    "ax = sns.distplot(np.log10(chain_df['longest_path']))\n",
    "ax.set(xlabel = '# of generations', xticks=np.arange(3), xticklabels=[10**x_i for x_i in np.arange(3)])"
   ]
  },
  {
   "cell_type": "code",
   "execution_count": 24,
   "metadata": {},
   "outputs": [
    {
     "data": {
      "text/html": [
       "<div>\n",
       "<style scoped>\n",
       "    .dataframe tbody tr th:only-of-type {\n",
       "        vertical-align: middle;\n",
       "    }\n",
       "\n",
       "    .dataframe tbody tr th {\n",
       "        vertical-align: top;\n",
       "    }\n",
       "\n",
       "    .dataframe thead th {\n",
       "        text-align: right;\n",
       "    }\n",
       "</style>\n",
       "<table border=\"1\" class=\"dataframe\">\n",
       "  <thead>\n",
       "    <tr style=\"text-align: right;\">\n",
       "      <th></th>\n",
       "      <th>family</th>\n",
       "      <th>longest_path</th>\n",
       "    </tr>\n",
       "  </thead>\n",
       "  <tbody>\n",
       "    <tr>\n",
       "      <th>5543</th>\n",
       "      <td>time-1609746195_eve-3833245_name-STALLINS</td>\n",
       "      <td>357</td>\n",
       "    </tr>\n",
       "    <tr>\n",
       "      <th>5624</th>\n",
       "      <td>time-1611138522_eve-3897231_name-LUCKY</td>\n",
       "      <td>330</td>\n",
       "    </tr>\n",
       "    <tr>\n",
       "      <th>5578</th>\n",
       "      <td>time-1610335007_eve-3864700_name-APRIL</td>\n",
       "      <td>296</td>\n",
       "    </tr>\n",
       "    <tr>\n",
       "      <th>5637</th>\n",
       "      <td>time-1611388293_eve-3906808_name-ARTEMENKO</td>\n",
       "      <td>296</td>\n",
       "    </tr>\n",
       "    <tr>\n",
       "      <th>5245</th>\n",
       "      <td>time-1607255144_eve-3661190_name-RED</td>\n",
       "      <td>292</td>\n",
       "    </tr>\n",
       "  </tbody>\n",
       "</table>\n",
       "</div>"
      ],
      "text/plain": [
       "                                          family  longest_path\n",
       "5543   time-1609746195_eve-3833245_name-STALLINS           357\n",
       "5624      time-1611138522_eve-3897231_name-LUCKY           330\n",
       "5578      time-1610335007_eve-3864700_name-APRIL           296\n",
       "5637  time-1611388293_eve-3906808_name-ARTEMENKO           296\n",
       "5245        time-1607255144_eve-3661190_name-RED           292"
      ]
     },
     "execution_count": 24,
     "metadata": {},
     "output_type": "execute_result"
    }
   ],
   "source": [
    "chain_df.sort_values(by='longest_path', ascending=False).head()"
   ]
  },
  {
   "cell_type": "markdown",
   "metadata": {},
   "source": [
    "## Modeling success"
   ]
  },
  {
   "cell_type": "markdown",
   "metadata": {},
   "source": [
    "Criterion for \"success\": Reaching age 14 (viability fitness)"
   ]
  },
  {
   "cell_type": "code",
   "execution_count": 25,
   "metadata": {},
   "outputs": [
    {
     "data": {
      "text/html": [
       "<div>\n",
       "<style scoped>\n",
       "    .dataframe tbody tr th:only-of-type {\n",
       "        vertical-align: middle;\n",
       "    }\n",
       "\n",
       "    .dataframe tbody tr th {\n",
       "        vertical-align: top;\n",
       "    }\n",
       "\n",
       "    .dataframe thead th {\n",
       "        text-align: right;\n",
       "    }\n",
       "</style>\n",
       "<table border=\"1\" class=\"dataframe\">\n",
       "  <thead>\n",
       "    <tr style=\"text-align: right;\">\n",
       "      <th></th>\n",
       "      <th>family</th>\n",
       "      <th>sum</th>\n",
       "      <th>count</th>\n",
       "    </tr>\n",
       "  </thead>\n",
       "  <tbody>\n",
       "    <tr>\n",
       "      <th>0</th>\n",
       "      <td>time-1573895755_eve-2276905_name-ZABICKI</td>\n",
       "      <td>9</td>\n",
       "      <td>16</td>\n",
       "    </tr>\n",
       "    <tr>\n",
       "      <th>1</th>\n",
       "      <td>time-1573895904_eve-2276911_name-ROHRER</td>\n",
       "      <td>1</td>\n",
       "      <td>3</td>\n",
       "    </tr>\n",
       "    <tr>\n",
       "      <th>2</th>\n",
       "      <td>time-1573896101_eve-2276917_name-BADA</td>\n",
       "      <td>14</td>\n",
       "      <td>32</td>\n",
       "    </tr>\n",
       "    <tr>\n",
       "      <th>3</th>\n",
       "      <td>time-1573896134_eve-2276919_name-SARINA</td>\n",
       "      <td>33</td>\n",
       "      <td>63</td>\n",
       "    </tr>\n",
       "    <tr>\n",
       "      <th>4</th>\n",
       "      <td>time-1573896495_eve-2276927_name-LISSADE</td>\n",
       "      <td>311</td>\n",
       "      <td>440</td>\n",
       "    </tr>\n",
       "  </tbody>\n",
       "</table>\n",
       "</div>"
      ],
      "text/plain": [
       "                                     family  sum  count\n",
       "0  time-1573895755_eve-2276905_name-ZABICKI    9     16\n",
       "1   time-1573895904_eve-2276911_name-ROHRER    1      3\n",
       "2     time-1573896101_eve-2276917_name-BADA   14     32\n",
       "3   time-1573896134_eve-2276919_name-SARINA   33     63\n",
       "4  time-1573896495_eve-2276927_name-LISSADE  311    440"
      ]
     },
     "execution_count": 25,
     "metadata": {},
     "output_type": "execute_result"
    }
   ],
   "source": [
    "mortality_df = final_lifelogs.copy()\n",
    "mortality_df['adult'] = (mortality_df['age'] >= 14)*1\n",
    "mortality_df = mortality_df[['family', 'avatar', 'adult']]\n",
    "\n",
    "mortality_summ = mortality_df.groupby('family')['adult'].agg(['sum', 'count']).reset_index()\n",
    "mortality_summ['sum'] = mortality_summ['sum'].astype(np.int)\n",
    "mortality_summ.head()"
   ]
  },
  {
   "cell_type": "markdown",
   "metadata": {},
   "source": [
    "Compute beta distribution for each family\n",
    "\n",
    "Prior: Uniform\n",
    "$$\n",
    "\\theta \\sim \\mathrm{Beta}(\\alpha_0, \\beta_0) \\\\\n",
    "\\alpha_0 = \\beta_0 = 1\n",
    "$$\n",
    "\n",
    "Posterior-sufficient statistics:\n",
    "$$\n",
    "\\theta | D \\sim \\mathrm{Beta}(\\alpha_0 + k, \\beta_0 + N - k) \\\\ \n",
    "a = \\alpha_0 + k \\\\\n",
    "b = \\beta_0 + N - k\n",
    "$$"
   ]
  },
  {
   "cell_type": "code",
   "execution_count": 26,
   "metadata": {},
   "outputs": [
    {
     "data": {
      "text/html": [
       "<div>\n",
       "<style scoped>\n",
       "    .dataframe tbody tr th:only-of-type {\n",
       "        vertical-align: middle;\n",
       "    }\n",
       "\n",
       "    .dataframe tbody tr th {\n",
       "        vertical-align: top;\n",
       "    }\n",
       "\n",
       "    .dataframe thead th {\n",
       "        text-align: right;\n",
       "    }\n",
       "</style>\n",
       "<table border=\"1\" class=\"dataframe\">\n",
       "  <thead>\n",
       "    <tr style=\"text-align: right;\">\n",
       "      <th></th>\n",
       "      <th>family</th>\n",
       "      <th>sum</th>\n",
       "      <th>count</th>\n",
       "      <th>a</th>\n",
       "      <th>b</th>\n",
       "      <th>beta_mean</th>\n",
       "      <th>beta_var</th>\n",
       "      <th>snr</th>\n",
       "      <th>weighted_size</th>\n",
       "      <th>longest_path</th>\n",
       "    </tr>\n",
       "  </thead>\n",
       "  <tbody>\n",
       "    <tr>\n",
       "      <th>0</th>\n",
       "      <td>time-1573895755_eve-2276905_name-ZABICKI</td>\n",
       "      <td>9</td>\n",
       "      <td>16</td>\n",
       "      <td>12</td>\n",
       "      <td>10</td>\n",
       "      <td>0.545455</td>\n",
       "      <td>0.010780</td>\n",
       "      <td>50.600000</td>\n",
       "      <td>8.727273</td>\n",
       "      <td>3</td>\n",
       "    </tr>\n",
       "    <tr>\n",
       "      <th>1</th>\n",
       "      <td>time-1573895904_eve-2276911_name-ROHRER</td>\n",
       "      <td>1</td>\n",
       "      <td>3</td>\n",
       "      <td>4</td>\n",
       "      <td>5</td>\n",
       "      <td>0.444444</td>\n",
       "      <td>0.024691</td>\n",
       "      <td>18.000000</td>\n",
       "      <td>1.333333</td>\n",
       "      <td>2</td>\n",
       "    </tr>\n",
       "    <tr>\n",
       "      <th>2</th>\n",
       "      <td>time-1573896101_eve-2276917_name-BADA</td>\n",
       "      <td>14</td>\n",
       "      <td>32</td>\n",
       "      <td>17</td>\n",
       "      <td>21</td>\n",
       "      <td>0.447368</td>\n",
       "      <td>0.006339</td>\n",
       "      <td>70.571429</td>\n",
       "      <td>14.315789</td>\n",
       "      <td>5</td>\n",
       "    </tr>\n",
       "    <tr>\n",
       "      <th>3</th>\n",
       "      <td>time-1573896134_eve-2276919_name-SARINA</td>\n",
       "      <td>33</td>\n",
       "      <td>63</td>\n",
       "      <td>36</td>\n",
       "      <td>33</td>\n",
       "      <td>0.521739</td>\n",
       "      <td>0.003565</td>\n",
       "      <td>146.363636</td>\n",
       "      <td>32.869565</td>\n",
       "      <td>9</td>\n",
       "    </tr>\n",
       "    <tr>\n",
       "      <th>4</th>\n",
       "      <td>time-1573896495_eve-2276927_name-LISSADE</td>\n",
       "      <td>311</td>\n",
       "      <td>440</td>\n",
       "      <td>314</td>\n",
       "      <td>132</td>\n",
       "      <td>0.704036</td>\n",
       "      <td>0.000466</td>\n",
       "      <td>1510.318182</td>\n",
       "      <td>309.775785</td>\n",
       "      <td>46</td>\n",
       "    </tr>\n",
       "  </tbody>\n",
       "</table>\n",
       "</div>"
      ],
      "text/plain": [
       "                                     family  sum  count    a    b  beta_mean  \\\n",
       "0  time-1573895755_eve-2276905_name-ZABICKI    9     16   12   10   0.545455   \n",
       "1   time-1573895904_eve-2276911_name-ROHRER    1      3    4    5   0.444444   \n",
       "2     time-1573896101_eve-2276917_name-BADA   14     32   17   21   0.447368   \n",
       "3   time-1573896134_eve-2276919_name-SARINA   33     63   36   33   0.521739   \n",
       "4  time-1573896495_eve-2276927_name-LISSADE  311    440  314  132   0.704036   \n",
       "\n",
       "   beta_var          snr  weighted_size  longest_path  \n",
       "0  0.010780    50.600000       8.727273             3  \n",
       "1  0.024691    18.000000       1.333333             2  \n",
       "2  0.006339    70.571429      14.315789             5  \n",
       "3  0.003565   146.363636      32.869565             9  \n",
       "4  0.000466  1510.318182     309.775785            46  "
      ]
     },
     "execution_count": 26,
     "metadata": {},
     "output_type": "execute_result"
    }
   ],
   "source": [
    "def beta_mean(row): return scipy.stats.beta.mean(row['a'], row['b'])\n",
    "def beta_var(row): return scipy.stats.beta.var(row['a'], row['b'])\n",
    "\n",
    "mortality_summ['a'] = 3 + mortality_summ['sum']\n",
    "mortality_summ['b'] = 3 + mortality_summ['count'] - mortality_summ['sum']\n",
    "mortality_summ['beta_mean'] = mortality_summ.apply(beta_mean, axis=1)\n",
    "mortality_summ['beta_var'] = mortality_summ.apply(beta_var, axis=1)\n",
    "mortality_summ['snr'] = mortality_summ['beta_mean']/mortality_summ['beta_var']\n",
    "mortality_summ['weighted_size'] = mortality_summ['beta_mean']*mortality_summ['count']\n",
    "mortality_summ = pd.merge(mortality_summ, chain_df, on = 'family')\n",
    "mortality_summ.to_csv('outputs/family_fitness.tsv', sep='\\t', index=False)\n",
    "mortality_summ.head()"
   ]
  },
  {
   "cell_type": "markdown",
   "metadata": {},
   "source": [
    "### Compare candidate success measures"
   ]
  },
  {
   "cell_type": "markdown",
   "metadata": {},
   "source": [
    "Beta mean:"
   ]
  },
  {
   "cell_type": "code",
   "execution_count": 27,
   "metadata": {},
   "outputs": [
    {
     "name": "stderr",
     "output_type": "stream",
     "text": [
      "/n/home15/nvelezalicea/.conda/envs/py3/lib/python3.9/site-packages/seaborn/distributions.py:2557: FutureWarning: `distplot` is a deprecated function and will be removed in a future version. Please adapt your code to use either `displot` (a figure-level function with similar flexibility) or `histplot` (an axes-level function for histograms).\n",
      "  warnings.warn(msg, FutureWarning)\n"
     ]
    },
    {
     "data": {
      "image/png": "[encoded data removed]",
      "text/plain": [
       "<Figure size 432x288 with 1 Axes>"
      ]
     },
     "metadata": {},
     "output_type": "display_data"
    }
   ],
   "source": [
    "ax = sns.distplot(mortality_summ['beta_mean'])\n",
    "ax.set(xlabel = 'Mean viability ($\\mu$)')\n",
    "sns.despine()"
   ]
  },
  {
   "cell_type": "markdown",
   "metadata": {},
   "source": [
    "Distribution of SNR:"
   ]
  },
  {
   "cell_type": "code",
   "execution_count": 28,
   "metadata": {},
   "outputs": [
    {
     "name": "stderr",
     "output_type": "stream",
     "text": [
      "/n/home15/nvelezalicea/.conda/envs/py3/lib/python3.9/site-packages/seaborn/distributions.py:2557: FutureWarning: `distplot` is a deprecated function and will be removed in a future version. Please adapt your code to use either `displot` (a figure-level function with similar flexibility) or `histplot` (an axes-level function for histograms).\n",
      "  warnings.warn(msg, FutureWarning)\n"
     ]
    },
    {
     "data": {
      "image/png": "[encoded data removed]",
      "text/plain": [
       "<Figure size 432x288 with 1 Axes>"
      ]
     },
     "metadata": {},
     "output_type": "display_data"
    }
   ],
   "source": [
    "ax = sns.distplot(np.log10(mortality_summ['snr']))\n",
    "ax.set(xlabel='Signal-to-noise ratio ($\\mu/\\sigma$)',\n",
    "       xticks = np.arange(1,5), xticklabels=[10**x for x in np.arange(1,5)])\n",
    "sns.despine()"
   ]
  },
  {
   "cell_type": "markdown",
   "metadata": {},
   "source": [
    "Distribution of weighted size:"
   ]
  },
  {
   "cell_type": "code",
   "execution_count": 29,
   "metadata": {},
   "outputs": [
    {
     "name": "stderr",
     "output_type": "stream",
     "text": [
      "/n/home15/nvelezalicea/.conda/envs/py3/lib/python3.9/site-packages/seaborn/distributions.py:2557: FutureWarning: `distplot` is a deprecated function and will be removed in a future version. Please adapt your code to use either `displot` (a figure-level function with similar flexibility) or `histplot` (an axes-level function for histograms).\n",
      "  warnings.warn(msg, FutureWarning)\n"
     ]
    },
    {
     "data": {
      "text/plain": [
       "[Text(0.5, 0, 'Weighted family size ($\\\\mu N$)'),\n",
       " [<matplotlib.axis.XTick at 0x2b5bfbca0d90>,\n",
       "  <matplotlib.axis.XTick at 0x2b5bfbca0b20>,\n",
       "  <matplotlib.axis.XTick at 0x2b5bfbc84dc0>,\n",
       "  <matplotlib.axis.XTick at 0x2b5bfbaa3460>,\n",
       "  <matplotlib.axis.XTick at 0x2b5bfbaa3970>],\n",
       " [Text(0, 0, '1'),\n",
       "  Text(1, 0, '10'),\n",
       "  Text(2, 0, '100'),\n",
       "  Text(3, 0, '1000'),\n",
       "  Text(4, 0, '10000')]]"
      ]
     },
     "execution_count": 29,
     "metadata": {},
     "output_type": "execute_result"
    },
    {
     "data": {
      "image/png": "[encoded data removed]",
      "text/plain": [
       "<Figure size 432x288 with 1 Axes>"
      ]
     },
     "metadata": {},
     "output_type": "display_data"
    }
   ],
   "source": [
    "ax = sns.distplot(np.log10(mortality_summ['weighted_size']))\n",
    "ax.set(xlabel='Weighted family size ($\\mu N$)',\n",
    "       xticks=np.arange(0, 5), xticklabels=[10**x for x in np.arange(0, 5)])"
   ]
  },
  {
   "cell_type": "markdown",
   "metadata": {},
   "source": [
    "Distribution of # adults:"
   ]
  },
  {
   "cell_type": "code",
   "execution_count": 30,
   "metadata": {},
   "outputs": [
    {
     "data": {
      "text/html": [
       "<div>\n",
       "<style scoped>\n",
       "    .dataframe tbody tr th:only-of-type {\n",
       "        vertical-align: middle;\n",
       "    }\n",
       "\n",
       "    .dataframe tbody tr th {\n",
       "        vertical-align: top;\n",
       "    }\n",
       "\n",
       "    .dataframe thead th {\n",
       "        text-align: right;\n",
       "    }\n",
       "</style>\n",
       "<table border=\"1\" class=\"dataframe\">\n",
       "  <thead>\n",
       "    <tr style=\"text-align: right;\">\n",
       "      <th></th>\n",
       "      <th>family</th>\n",
       "      <th>sum</th>\n",
       "      <th>count</th>\n",
       "      <th>a</th>\n",
       "      <th>b</th>\n",
       "      <th>beta_mean</th>\n",
       "      <th>beta_var</th>\n",
       "      <th>snr</th>\n",
       "      <th>weighted_size</th>\n",
       "      <th>longest_path</th>\n",
       "    </tr>\n",
       "  </thead>\n",
       "  <tbody>\n",
       "    <tr>\n",
       "      <th>3335</th>\n",
       "      <td>time-1594856179_eve-3178148_name-CHARLES</td>\n",
       "      <td>0</td>\n",
       "      <td>4</td>\n",
       "      <td>3</td>\n",
       "      <td>7</td>\n",
       "      <td>0.3</td>\n",
       "      <td>0.019091</td>\n",
       "      <td>15.714286</td>\n",
       "      <td>1.2</td>\n",
       "      <td>2</td>\n",
       "    </tr>\n",
       "  </tbody>\n",
       "</table>\n",
       "</div>"
      ],
      "text/plain": [
       "                                        family  sum  count  a  b  beta_mean  \\\n",
       "3335  time-1594856179_eve-3178148_name-CHARLES    0      4  3  7        0.3   \n",
       "\n",
       "      beta_var        snr  weighted_size  longest_path  \n",
       "3335  0.019091  15.714286            1.2             2  "
      ]
     },
     "execution_count": 30,
     "metadata": {},
     "output_type": "execute_result"
    }
   ],
   "source": [
    "mortality_summ[mortality_summ['sum'] ==0]"
   ]
  },
  {
   "cell_type": "code",
   "execution_count": 31,
   "metadata": {},
   "outputs": [
    {
     "data": {
      "text/html": [
       "<div>\n",
       "<style scoped>\n",
       "    .dataframe tbody tr th:only-of-type {\n",
       "        vertical-align: middle;\n",
       "    }\n",
       "\n",
       "    .dataframe tbody tr th {\n",
       "        vertical-align: top;\n",
       "    }\n",
       "\n",
       "    .dataframe thead th {\n",
       "        text-align: right;\n",
       "    }\n",
       "</style>\n",
       "<table border=\"1\" class=\"dataframe\">\n",
       "  <thead>\n",
       "    <tr style=\"text-align: right;\">\n",
       "      <th></th>\n",
       "      <th>family</th>\n",
       "      <th>avatar</th>\n",
       "      <th>player</th>\n",
       "      <th>tBirth</th>\n",
       "      <th>parent</th>\n",
       "      <th>birth</th>\n",
       "      <th>tDeath</th>\n",
       "      <th>death</th>\n",
       "      <th>age</th>\n",
       "      <th>cause_of_death</th>\n",
       "      <th>birthX</th>\n",
       "      <th>birthY</th>\n",
       "      <th>deathX</th>\n",
       "      <th>deathY</th>\n",
       "      <th>first</th>\n",
       "      <th>last</th>\n",
       "    </tr>\n",
       "  </thead>\n",
       "  <tbody>\n",
       "    <tr>\n",
       "      <th>354237</th>\n",
       "      <td>time-1594856179_eve-3178148_name-CHARLES</td>\n",
       "      <td>3178180</td>\n",
       "      <td>3693bb0d002d8b9af7988ac704a5b59fba78a43d</td>\n",
       "      <td>1594856682</td>\n",
       "      <td>3178148</td>\n",
       "      <td>[-18978    -63]</td>\n",
       "      <td>1.594857e+09</td>\n",
       "      <td>[-19151    -88]</td>\n",
       "      <td>6.29</td>\n",
       "      <td>hunger</td>\n",
       "      <td>-18978</td>\n",
       "      <td>-63</td>\n",
       "      <td>-19151.0</td>\n",
       "      <td>-88.0</td>\n",
       "      <td>REEDIE</td>\n",
       "      <td>CHARLES</td>\n",
       "    </tr>\n",
       "    <tr>\n",
       "      <th>354238</th>\n",
       "      <td>time-1594856179_eve-3178148_name-CHARLES</td>\n",
       "      <td>3178169</td>\n",
       "      <td>034bf43fd22eeba37603031c71437958c2bd6694</td>\n",
       "      <td>1594856528</td>\n",
       "      <td>3178148</td>\n",
       "      <td>[-18952    -65]</td>\n",
       "      <td>1.594857e+09</td>\n",
       "      <td>[-19120    -80]</td>\n",
       "      <td>8.46</td>\n",
       "      <td>hunger</td>\n",
       "      <td>-18952</td>\n",
       "      <td>-65</td>\n",
       "      <td>-19120.0</td>\n",
       "      <td>-80.0</td>\n",
       "      <td>MOON</td>\n",
       "      <td>CHARLES</td>\n",
       "    </tr>\n",
       "    <tr>\n",
       "      <th>354239</th>\n",
       "      <td>time-1594856179_eve-3178148_name-CHARLES</td>\n",
       "      <td>3178151</td>\n",
       "      <td>3693bb0d002d8b9af7988ac704a5b59fba78a43d</td>\n",
       "      <td>1594856219</td>\n",
       "      <td>3178148</td>\n",
       "      <td>[-19088    -54]</td>\n",
       "      <td>1.594857e+09</td>\n",
       "      <td>[-18979    -56]</td>\n",
       "      <td>5.59</td>\n",
       "      <td>hunger</td>\n",
       "      <td>-19088</td>\n",
       "      <td>-54</td>\n",
       "      <td>-18979.0</td>\n",
       "      <td>-56.0</td>\n",
       "      <td>ROSE</td>\n",
       "      <td>CHARLES</td>\n",
       "    </tr>\n",
       "    <tr>\n",
       "      <th>354240</th>\n",
       "      <td>time-1594856179_eve-3178148_name-CHARLES</td>\n",
       "      <td>3178150</td>\n",
       "      <td>cbd38b7f6a5e1fc1cc47bf30ccda1ed9d0cc8c89</td>\n",
       "      <td>1594856209</td>\n",
       "      <td>3178148</td>\n",
       "      <td>[-19093    -65]</td>\n",
       "      <td>1.594857e+09</td>\n",
       "      <td>[-18977    -64]</td>\n",
       "      <td>8.57</td>\n",
       "      <td>hunger</td>\n",
       "      <td>-19093</td>\n",
       "      <td>-65</td>\n",
       "      <td>-18977.0</td>\n",
       "      <td>-64.0</td>\n",
       "      <td>GEM</td>\n",
       "      <td>CHARLES</td>\n",
       "    </tr>\n",
       "  </tbody>\n",
       "</table>\n",
       "</div>"
      ],
      "text/plain": [
       "                                          family   avatar  \\\n",
       "354237  time-1594856179_eve-3178148_name-CHARLES  3178180   \n",
       "354238  time-1594856179_eve-3178148_name-CHARLES  3178169   \n",
       "354239  time-1594856179_eve-3178148_name-CHARLES  3178151   \n",
       "354240  time-1594856179_eve-3178148_name-CHARLES  3178150   \n",
       "\n",
       "                                          player      tBirth   parent  \\\n",
       "354237  3693bb0d002d8b9af7988ac704a5b59fba78a43d  1594856682  3178148   \n",
       "354238  034bf43fd22eeba37603031c71437958c2bd6694  1594856528  3178148   \n",
       "354239  3693bb0d002d8b9af7988ac704a5b59fba78a43d  1594856219  3178148   \n",
       "354240  cbd38b7f6a5e1fc1cc47bf30ccda1ed9d0cc8c89  1594856209  3178148   \n",
       "\n",
       "                  birth        tDeath            death   age cause_of_death  \\\n",
       "354237  [-18978    -63]  1.594857e+09  [-19151    -88]  6.29         hunger   \n",
       "354238  [-18952    -65]  1.594857e+09  [-19120    -80]  8.46         hunger   \n",
       "354239  [-19088    -54]  1.594857e+09  [-18979    -56]  5.59         hunger   \n",
       "354240  [-19093    -65]  1.594857e+09  [-18977    -64]  8.57         hunger   \n",
       "\n",
       "        birthX  birthY   deathX  deathY   first     last  \n",
       "354237  -18978     -63 -19151.0   -88.0  REEDIE  CHARLES  \n",
       "354238  -18952     -65 -19120.0   -80.0    MOON  CHARLES  \n",
       "354239  -19088     -54 -18979.0   -56.0    ROSE  CHARLES  \n",
       "354240  -19093     -65 -18977.0   -64.0     GEM  CHARLES  "
      ]
     },
     "execution_count": 31,
     "metadata": {},
     "output_type": "execute_result"
    }
   ],
   "source": [
    "final_lifelogs[final_lifelogs.family == 'time-1594856179_eve-3178148_name-CHARLES']"
   ]
  },
  {
   "cell_type": "code",
   "execution_count": 32,
   "metadata": {},
   "outputs": [
    {
     "data": {
      "text/html": [
       "<div>\n",
       "<style scoped>\n",
       "    .dataframe tbody tr th:only-of-type {\n",
       "        vertical-align: middle;\n",
       "    }\n",
       "\n",
       "    .dataframe tbody tr th {\n",
       "        vertical-align: top;\n",
       "    }\n",
       "\n",
       "    .dataframe thead th {\n",
       "        text-align: right;\n",
       "    }\n",
       "</style>\n",
       "<table border=\"1\" class=\"dataframe\">\n",
       "  <thead>\n",
       "    <tr style=\"text-align: right;\">\n",
       "      <th></th>\n",
       "      <th>player</th>\n",
       "      <th>avatar</th>\n",
       "      <th>tBirth</th>\n",
       "      <th>parent</th>\n",
       "      <th>birth</th>\n",
       "      <th>tDeath</th>\n",
       "      <th>death</th>\n",
       "      <th>age</th>\n",
       "      <th>cause_of_death</th>\n",
       "      <th>birthX</th>\n",
       "      <th>birthY</th>\n",
       "      <th>deathX</th>\n",
       "      <th>deathY</th>\n",
       "      <th>first</th>\n",
       "      <th>last</th>\n",
       "    </tr>\n",
       "  </thead>\n",
       "  <tbody>\n",
       "    <tr>\n",
       "      <th>482519</th>\n",
       "      <td>b0bf435c1dd467204a8075898e64fe6f844c5064</td>\n",
       "      <td>3178148</td>\n",
       "      <td>1594856179</td>\n",
       "      <td>-1</td>\n",
       "      <td>[-19103    -47]</td>\n",
       "      <td>1.594857e+09</td>\n",
       "      <td>[-19218    -68]</td>\n",
       "      <td>29.92</td>\n",
       "      <td>disconnect</td>\n",
       "      <td>-19103</td>\n",
       "      <td>-47</td>\n",
       "      <td>-19218.0</td>\n",
       "      <td>-68.0</td>\n",
       "      <td>EVE</td>\n",
       "      <td>CHARLES</td>\n",
       "    </tr>\n",
       "  </tbody>\n",
       "</table>\n",
       "</div>"
      ],
      "text/plain": [
       "                                          player   avatar      tBirth  parent  \\\n",
       "482519  b0bf435c1dd467204a8075898e64fe6f844c5064  3178148  1594856179      -1   \n",
       "\n",
       "                  birth        tDeath            death    age cause_of_death  \\\n",
       "482519  [-19103    -47]  1.594857e+09  [-19218    -68]  29.92     disconnect   \n",
       "\n",
       "        birthX  birthY   deathX  deathY first     last  \n",
       "482519  -19103     -47 -19218.0   -68.0   EVE  CHARLES  "
      ]
     },
     "execution_count": 32,
     "metadata": {},
     "output_type": "execute_result"
    }
   ],
   "source": [
    "all_eras[all_eras.avatar == 3178148]"
   ]
  },
  {
   "cell_type": "code",
   "execution_count": 33,
   "metadata": {},
   "outputs": [
    {
     "name": "stderr",
     "output_type": "stream",
     "text": [
      "/n/home15/nvelezalicea/.conda/envs/py3/lib/python3.9/site-packages/pandas/core/arraylike.py:358: RuntimeWarning: divide by zero encountered in log10\n",
      "  result = getattr(ufunc, method)(*inputs, **kwargs)\n",
      "/n/home15/nvelezalicea/.conda/envs/py3/lib/python3.9/site-packages/seaborn/distributions.py:2557: FutureWarning: `distplot` is a deprecated function and will be removed in a future version. Please adapt your code to use either `displot` (a figure-level function with similar flexibility) or `histplot` (an axes-level function for histograms).\n",
      "  warnings.warn(msg, FutureWarning)\n"
     ]
    },
    {
     "ename": "OverflowError",
     "evalue": "cannot convert float infinity to integer",
     "output_type": "error",
     "traceback": [
      "\u001b[0;31m---------------------------------------------------------------------------\u001b[0m",
      "\u001b[0;31mOverflowError\u001b[0m                             Traceback (most recent call last)",
      "\u001b[0;32m<ipython-input-33-38886744a8ec>\u001b[0m in \u001b[0;36m<module>\u001b[0;34m\u001b[0m\n\u001b[0;32m----> 1\u001b[0;31m \u001b[0max\u001b[0m \u001b[0;34m=\u001b[0m \u001b[0msns\u001b[0m\u001b[0;34m.\u001b[0m\u001b[0mdistplot\u001b[0m\u001b[0;34m(\u001b[0m\u001b[0mnp\u001b[0m\u001b[0;34m.\u001b[0m\u001b[0mlog10\u001b[0m\u001b[0;34m(\u001b[0m\u001b[0mmortality_summ\u001b[0m\u001b[0;34m[\u001b[0m\u001b[0;34m'sum'\u001b[0m\u001b[0;34m]\u001b[0m\u001b[0;34m)\u001b[0m\u001b[0;34m)\u001b[0m\u001b[0;34m\u001b[0m\u001b[0;34m\u001b[0m\u001b[0m\n\u001b[0m\u001b[1;32m      2\u001b[0m \u001b[0max\u001b[0m\u001b[0;34m.\u001b[0m\u001b[0mset\u001b[0m\u001b[0;34m(\u001b[0m\u001b[0mxlabel\u001b[0m\u001b[0;34m=\u001b[0m\u001b[0;34m'# of adults'\u001b[0m\u001b[0;34m,\u001b[0m \u001b[0mxticks\u001b[0m \u001b[0;34m=\u001b[0m \u001b[0mnp\u001b[0m\u001b[0;34m.\u001b[0m\u001b[0marange\u001b[0m\u001b[0;34m(\u001b[0m\u001b[0;36m0\u001b[0m\u001b[0;34m,\u001b[0m\u001b[0;36m5\u001b[0m\u001b[0;34m)\u001b[0m\u001b[0;34m,\u001b[0m \u001b[0mxticklabels\u001b[0m\u001b[0;34m=\u001b[0m\u001b[0;34m[\u001b[0m\u001b[0;36m10\u001b[0m\u001b[0;34m**\u001b[0m\u001b[0mx\u001b[0m \u001b[0;32mfor\u001b[0m \u001b[0mx\u001b[0m \u001b[0;32min\u001b[0m \u001b[0mnp\u001b[0m\u001b[0;34m.\u001b[0m\u001b[0marange\u001b[0m\u001b[0;34m(\u001b[0m\u001b[0;36m0\u001b[0m\u001b[0;34m,\u001b[0m\u001b[0;36m5\u001b[0m\u001b[0;34m)\u001b[0m\u001b[0;34m]\u001b[0m\u001b[0;34m)\u001b[0m\u001b[0;34m\u001b[0m\u001b[0;34m\u001b[0m\u001b[0m\n",
      "\u001b[0;32m~/.conda/envs/py3/lib/python3.9/site-packages/seaborn/distributions.py\u001b[0m in \u001b[0;36mdistplot\u001b[0;34m(a, bins, hist, kde, rug, fit, hist_kws, kde_kws, rug_kws, fit_kws, color, vertical, norm_hist, axlabel, label, ax, x)\u001b[0m\n\u001b[1;32m   2610\u001b[0m     \u001b[0;32mif\u001b[0m \u001b[0mhist\u001b[0m\u001b[0;34m:\u001b[0m\u001b[0;34m\u001b[0m\u001b[0;34m\u001b[0m\u001b[0m\n\u001b[1;32m   2611\u001b[0m         \u001b[0;32mif\u001b[0m \u001b[0mbins\u001b[0m \u001b[0;32mis\u001b[0m \u001b[0;32mNone\u001b[0m\u001b[0;34m:\u001b[0m\u001b[0;34m\u001b[0m\u001b[0;34m\u001b[0m\u001b[0m\n\u001b[0;32m-> 2612\u001b[0;31m             \u001b[0mbins\u001b[0m \u001b[0;34m=\u001b[0m \u001b[0mmin\u001b[0m\u001b[0;34m(\u001b[0m\u001b[0m_freedman_diaconis_bins\u001b[0m\u001b[0;34m(\u001b[0m\u001b[0ma\u001b[0m\u001b[0;34m)\u001b[0m\u001b[0;34m,\u001b[0m \u001b[0;36m50\u001b[0m\u001b[0;34m)\u001b[0m\u001b[0;34m\u001b[0m\u001b[0;34m\u001b[0m\u001b[0m\n\u001b[0m\u001b[1;32m   2613\u001b[0m         \u001b[0mhist_kws\u001b[0m\u001b[0;34m.\u001b[0m\u001b[0msetdefault\u001b[0m\u001b[0;34m(\u001b[0m\u001b[0;34m\"alpha\"\u001b[0m\u001b[0;34m,\u001b[0m \u001b[0;36m0.4\u001b[0m\u001b[0;34m)\u001b[0m\u001b[0;34m\u001b[0m\u001b[0;34m\u001b[0m\u001b[0m\n\u001b[1;32m   2614\u001b[0m         \u001b[0mhist_kws\u001b[0m\u001b[0;34m.\u001b[0m\u001b[0msetdefault\u001b[0m\u001b[0;34m(\u001b[0m\u001b[0;34m\"density\"\u001b[0m\u001b[0;34m,\u001b[0m \u001b[0mnorm_hist\u001b[0m\u001b[0;34m)\u001b[0m\u001b[0;34m\u001b[0m\u001b[0;34m\u001b[0m\u001b[0m\n",
      "\u001b[0;32m~/.conda/envs/py3/lib/python3.9/site-packages/seaborn/distributions.py\u001b[0m in \u001b[0;36m_freedman_diaconis_bins\u001b[0;34m(a)\u001b[0m\n\u001b[1;32m   2401\u001b[0m         \u001b[0;32mreturn\u001b[0m \u001b[0mint\u001b[0m\u001b[0;34m(\u001b[0m\u001b[0mnp\u001b[0m\u001b[0;34m.\u001b[0m\u001b[0msqrt\u001b[0m\u001b[0;34m(\u001b[0m\u001b[0ma\u001b[0m\u001b[0;34m.\u001b[0m\u001b[0msize\u001b[0m\u001b[0;34m)\u001b[0m\u001b[0;34m)\u001b[0m\u001b[0;34m\u001b[0m\u001b[0;34m\u001b[0m\u001b[0m\n\u001b[1;32m   2402\u001b[0m     \u001b[0;32melse\u001b[0m\u001b[0;34m:\u001b[0m\u001b[0;34m\u001b[0m\u001b[0;34m\u001b[0m\u001b[0m\n\u001b[0;32m-> 2403\u001b[0;31m         \u001b[0;32mreturn\u001b[0m \u001b[0mint\u001b[0m\u001b[0;34m(\u001b[0m\u001b[0mnp\u001b[0m\u001b[0;34m.\u001b[0m\u001b[0mceil\u001b[0m\u001b[0;34m(\u001b[0m\u001b[0;34m(\u001b[0m\u001b[0ma\u001b[0m\u001b[0;34m.\u001b[0m\u001b[0mmax\u001b[0m\u001b[0;34m(\u001b[0m\u001b[0;34m)\u001b[0m \u001b[0;34m-\u001b[0m \u001b[0ma\u001b[0m\u001b[0;34m.\u001b[0m\u001b[0mmin\u001b[0m\u001b[0;34m(\u001b[0m\u001b[0;34m)\u001b[0m\u001b[0;34m)\u001b[0m \u001b[0;34m/\u001b[0m \u001b[0mh\u001b[0m\u001b[0;34m)\u001b[0m\u001b[0;34m)\u001b[0m\u001b[0;34m\u001b[0m\u001b[0;34m\u001b[0m\u001b[0m\n\u001b[0m\u001b[1;32m   2404\u001b[0m \u001b[0;34m\u001b[0m\u001b[0m\n\u001b[1;32m   2405\u001b[0m \u001b[0;34m\u001b[0m\u001b[0m\n",
      "\u001b[0;31mOverflowError\u001b[0m: cannot convert float infinity to integer"
     ]
    },
    {
     "data": {
      "image/png": "[encoded data removed]",
      "text/plain": [
       "<Figure size 432x288 with 1 Axes>"
      ]
     },
     "metadata": {},
     "output_type": "display_data"
    }
   ],
   "source": [
    "ax = sns.distplot(np.log10(mortality_summ['sum']))\n",
    "ax.set(xlabel='# of adults', xticks = np.arange(0,5), xticklabels=[10**x for x in np.arange(0,5)])"
   ]
  },
  {
   "cell_type": "markdown",
   "metadata": {},
   "source": [
    "### Plot representative families"
   ]
  },
  {
   "cell_type": "markdown",
   "metadata": {},
   "source": [
    "Split data into quartiles:"
   ]
  },
  {
   "cell_type": "code",
   "execution_count": null,
   "metadata": {},
   "outputs": [],
   "source": [
    "success = 'sum' # Success metric\n",
    "mortality_summ['quantile'] = pd.qcut(mortality_summ[success], 4, labels=False)"
   ]
  },
  {
   "cell_type": "markdown",
   "metadata": {},
   "source": [
    "What are the quantiles?"
   ]
  },
  {
   "cell_type": "code",
   "execution_count": null,
   "metadata": {},
   "outputs": [],
   "source": [
    "success_q = scipy.stats.mstats.mquantiles(mortality_summ[success], prob=[0.25, 0.5, 0.75, 1])\n",
    "mortality_summ['log_n'] = np.log10(mortality_summ['sum'])\n",
    "\n",
    "# Plot!\n",
    "q_log = np.log10(success_q)\n",
    "plt.figure(figsize=(12,4))\n",
    "for q in q_log:\n",
    "    plt.axvline(q, color='#aaaaaa', linestyle='--')\n",
    "\n",
    "ax = sns.distplot(mortality_summ['log_n'])\n",
    "ax.set_xticks(range(5))\n",
    "labels = [10**t for t in ax.get_xticks()]\n",
    "ax.set(xlabel='# of adults', xticklabels=labels)\n",
    "sns.despine()"
   ]
  },
  {
   "cell_type": "markdown",
   "metadata": {},
   "source": [
    "Plot representative family trees from each quartile:"
   ]
  },
  {
   "cell_type": "code",
   "execution_count": null,
   "metadata": {},
   "outputs": [],
   "source": [
    "np.random.seed(526)\n",
    "representative_families = np.array([np.random.choice(group['family'], 10) \n",
    "                                    for name,group in mortality_summ.groupby('quantile')])\n",
    "rep_list = np.array(representative_families)\n",
    "rep_list = rep_list.flatten()\n",
    "\n",
    "rep_info = mortality_summ.copy()\n",
    "rep_info = rep_info[rep_info['family'].isin(rep_list)]\n",
    "rep_info = rep_info.reset_index(drop=True)\n",
    "rep_info = rep_info.sort_values('quantile')\n",
    "rep_info.to_csv('plots/fitness_quantiles/selected_families.tsv', sep='\\t', index=None)\n",
    "rep_info.head()"
   ]
  },
  {
   "cell_type": "code",
   "execution_count": null,
   "metadata": {
    "scrolled": false
   },
   "outputs": [],
   "source": [
    "for quant in notebook.tqdm(range(4)):\n",
    "    for f in notebook.tqdm(representative_families[quant]):\n",
    "        fam_file = 'outputs/families/families_%s.json' % f\n",
    "        out_file = 'plots/fitness_quantiles/families_Q%i_%s.png' % (quant+1, f)\n",
    "\n",
    "        # Load graph and remove infant deaths\n",
    "        fam_graph = open_graph(fam_file)\n",
    "\n",
    "        # Figure size (based on graphviz layout)\n",
    "        nx.nx_agraph.write_dot(fam_graph,'fam.dot')\n",
    "        pos=graphviz_layout(fam_graph, prog='dot')\n",
    "        pos_coords = pd.DataFrame(list(pos.values()), columns=['x','y']).agg(['max', 'min'])\n",
    "        w = (pos_coords.loc['max', 'x'] - pos_coords.loc['min', 'x'])/150\n",
    "        h = (pos_coords.loc['max', 'y'] - pos_coords.loc['min', 'y'])/150\n",
    "\n",
    "        # Adjust for 2-member families\n",
    "        w = max(w, 2)\n",
    "        h = max(h, 2)\n",
    "\n",
    "        # Node color (based on whether individuals reached maturity)\n",
    "        fam_nodes = list(fam_graph.nodes)\n",
    "        fam_nodes = [int(n) for n in fam_nodes]\n",
    "\n",
    "        fam_attr = mortality_df[['avatar', 'adult']].copy()\n",
    "        fam_attr = fam_attr[fam_attr['avatar'].isin(fam_nodes)]\n",
    "        fam_attr = fam_attr.set_index('avatar')\n",
    "        fam_attr = fam_attr.to_dict()\n",
    "        \n",
    "        fam_color = []\n",
    "        for n in fam_nodes:\n",
    "            if n in infant_deaths:\n",
    "                fam_color.append('#cccccc')\n",
    "            else:\n",
    "                if fam_attr['adult'][n] == 1:\n",
    "                    fam_color.append('#4ab1ff')\n",
    "                else:\n",
    "                    fam_color.append('#4ab1ff')\n",
    "\n",
    "#         fam_color = [fam_attr['adult'][n] == 1 for n in fam_nodes]\n",
    "#         fam_color = ['#4ab1ff' if c else '#cccccc' for c in fam_color]\n",
    "\n",
    "        plt.figure(3,figsize=(w,h)) \n",
    "        nx.draw(fam_graph, pos, with_labels=False, arrows=True, node_color=fam_color)\n",
    "        plt.savefig(out_file, transparent=True)\n",
    "        plt.close()"
   ]
  },
  {
   "cell_type": "markdown",
   "metadata": {},
   "source": [
    "## Plots for talk"
   ]
  },
  {
   "cell_type": "markdown",
   "metadata": {},
   "source": [
    "<div style='background-color:red;color:white;'>TODO: The plots below should be moved elsewhere to preserve order!</div>\n",
    "Relationship between family and repertoire size:"
   ]
  },
  {
   "cell_type": "code",
   "execution_count": null,
   "metadata": {},
   "outputs": [],
   "source": [
    "rep_df = pd.read_csv('../3_technology/outputs/family_repertoire.tsv', sep='\\t')\n",
    "rep_df.head()"
   ]
  },
  {
   "cell_type": "code",
   "execution_count": null,
   "metadata": {},
   "outputs": [],
   "source": [
    "family_n = mortality_summ[['family','sum', 'log_n']]\n",
    "family_rep = rep_df[['family', 'breadth','log_breadth']]\n",
    "n_rep = pd.merge(family_n, family_rep, on='family')\n",
    "n_rep.head()"
   ]
  },
  {
   "cell_type": "markdown",
   "metadata": {},
   "source": [
    "Max items possible?"
   ]
  },
  {
   "cell_type": "code",
   "execution_count": null,
   "metadata": {},
   "outputs": [],
   "source": [
    "item_df = pd.read_csv('../4_techtree/num_unique_ingredients.csv')\n",
    "n_items = len(item_df)\n",
    "print('# items: %i' % n_items)\n",
    "item_df.head()"
   ]
  },
  {
   "cell_type": "markdown",
   "metadata": {},
   "source": [
    "Distribution of repertoire sizes"
   ]
  },
  {
   "cell_type": "code",
   "execution_count": null,
   "metadata": {},
   "outputs": [],
   "source": [
    "rep_q = scipy.stats.mstats.mquantiles(rep_df['log_breadth'], prob=[0.25, 0.5, 0.75, 1])\n",
    "print(rep_q)\n",
    "\n",
    "plt.figure(figsize=(12,4))\n",
    "# for q in rep_q:\n",
    "#     plt.axvline(q, color='#aaaaaa', linestyle='--')\n",
    "#plt.axvspan(0, q_log[0], alpha=0.5, color='red') \n",
    "\n",
    "ax = sns.distplot(rep_df['log_breadth'], bins=20)\n",
    "ax.set_xlim(left=0)\n",
    "ax.set_xticks(range(5))\n",
    "plt.axvline(np.log10(n_items), linestyle='--', color = '#f5a442')\n",
    "labels = [10**t for t in ax.get_xticks()]\n",
    "ax.set(xlabel='Repertoire size', xticklabels=labels)\n",
    "sns.despine()"
   ]
  },
  {
   "cell_type": "code",
   "execution_count": null,
   "metadata": {},
   "outputs": [],
   "source": [
    "g = sns.jointplot(data=n_rep, x='log_breadth', y='log_n', kind='reg', lowess=True,\n",
    "                  marginal_kws={'bins':20},\n",
    "                  scatter_kws={'alpha':0.01, 'color': '#A5C8E1'})\n",
    "ticks = np.arange(4)\n",
    "tick_labels = [10**t for t in ticks]\n",
    "g.ax_joint.set(xticks = ticks, yticks = ticks,\n",
    "               xticklabels = tick_labels, yticklabels = tick_labels,\n",
    "               xlabel='Viability',\n",
    "               ylabel='Repertoire size')"
   ]
  },
  {
   "cell_type": "code",
   "execution_count": null,
   "metadata": {},
   "outputs": [],
   "source": [
    "gini_df = pd.read_csv('../3_technology/outputs/family_gini.tsv', sep='\\t')\n",
    "gini_df.head()"
   ]
  },
  {
   "cell_type": "code",
   "execution_count": null,
   "metadata": {},
   "outputs": [],
   "source": [
    "gini_rep = pd.merge(gini_df, rep_df, on='family')\n",
    "gini_rep.head()"
   ]
  },
  {
   "cell_type": "code",
   "execution_count": null,
   "metadata": {},
   "outputs": [],
   "source": [
    "fig = plt.figure(figsize=(6,6))\n",
    "ax = sns.regplot(x='gini', y='log_breadth', data=gini_rep,\n",
    "                 scatter_kws={'alpha': 0.05, 'color': '#A5C8E1'}, \n",
    "                 line_kws = {'color': '#2276B4'}, lowess=True)\n",
    "yticks =  np.arange(0,5)\n",
    "ax.set_yticks(yticks)\n",
    "yticklabels = [10**y for y in yticks]\n",
    "ax.set(xlabel = 'Innovation inequality (G)',\n",
    "       xlim = (0,1),\n",
    "       ylabel = 'Repertoire size',\n",
    "       yticklabels=yticklabels)\n",
    "sns.despine()"
   ]
  },
  {
   "cell_type": "code",
   "execution_count": null,
   "metadata": {},
   "outputs": [],
   "source": [
    "plt.figure(figsize=(7,5))\n",
    "equal_dist = np.array([0,1,2,3,4])\n",
    "ax = sns.distplot(equal_dist, kde=False, hist_kws={'density': False}, bins=5)\n",
    "ax.set(xlim = (0,11), ylim = (0,5),\n",
    "       xticks = np.arange(0,11),\n",
    "       yticks = np.arange(6),\n",
    "       xlabel='# discoveries',\n",
    "       ylabel='# players')\n",
    "sns.despine()"
   ]
  },
  {
   "cell_type": "markdown",
   "metadata": {},
   "source": [
    "## Living population size over time\n",
    "<div style='background-color:red;color:white;'>TODO: The plots below should be moved elsewhere to narrow the scope of this notebook!</div>"
   ]
  },
  {
   "cell_type": "code",
   "execution_count": null,
   "metadata": {},
   "outputs": [],
   "source": [
    "living_list = []\n",
    "for fam in notebook.tqdm(inc_families):\n",
    "    fam_df = final_lifelogs[final_lifelogs['family'] == fam].copy().reset_index(drop=True)\n",
    "    t = fam_df['tBirth'].values\n",
    "    for ti in t:\n",
    "        is_alive = (fam_df['tBirth'] <= ti) & (fam_df['tDeath'] > ti)\n",
    "        pop = np.sum(is_alive)\n",
    "        living_list.append((fam, ti, pop))"
   ]
  },
  {
   "cell_type": "code",
   "execution_count": null,
   "metadata": {},
   "outputs": [],
   "source": [
    "living_df = pd.DataFrame(living_list, columns = ['family', 't', 'population'])\n",
    "living_df = living_df.sort_values(by=['family', 't'], ascending=True).reset_index(drop=True)\n",
    "living_df['t0'] = living_df.groupby('family')['t'].transform('first')\n",
    "living_df['t_elapsed'] = (living_df['t'] - living_df['t0'])/60/60\n",
    "living_df.head()"
   ]
  },
  {
   "cell_type": "markdown",
   "metadata": {},
   "source": [
    "Plot a subset"
   ]
  },
  {
   "cell_type": "code",
   "execution_count": null,
   "metadata": {
    "scrolled": true
   },
   "outputs": [],
   "source": [
    "np.random.seed(526)\n",
    "random_families = np.random.choice(inc_families, size=10, replace=False)\n",
    "random_subset = living_df[living_df['family'].isin(random_families)]\n",
    "g = sns.relplot(data=random_subset, x='t_elapsed', y='population', hue='family', kind='line',\n",
    "                 height=6, aspect=2, alpha = 0.5)\n",
    "g.set(xlabel = 'Time elapsed (hours)', ylabel = 'Population size')\n",
    "g._legend.remove()"
   ]
  },
  {
   "cell_type": "markdown",
   "metadata": {},
   "source": [
    "Maximum population size"
   ]
  },
  {
   "cell_type": "code",
   "execution_count": null,
   "metadata": {},
   "outputs": [],
   "source": [
    "max_pop = living_df.groupby('family')['population'].agg('max').reset_index()\n",
    "ax = sns.distplot(max_pop['population'])\n",
    "ax.set(xlabel = 'Maximum living population size')\n",
    "sns.despine()"
   ]
  },
  {
   "cell_type": "code",
   "execution_count": null,
   "metadata": {},
   "outputs": [],
   "source": [
    "max_pop['population'].agg(['min', 'max', 'median'])"
   ]
  }
 ],
 "metadata": {
  "kernelspec": {
   "display_name": "Python 2",
   "language": "python",
   "name": "python2"
  },
  "language_info": {
   "codemirror_mode": {
    "name": "ipython",
    "version": 2
   },
   "file_extension": ".py",
   "mimetype": "text/x-python",
   "name": "python",
   "nbconvert_exporter": "python",
   "pygments_lexer": "ipython2",
   "version": "2.7.18"
  }
 },
 "nbformat": 4,
 "nbformat_minor": 4
}
