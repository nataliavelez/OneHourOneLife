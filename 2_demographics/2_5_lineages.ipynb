{
 "cells": [
  {
   "cell_type": "markdown",
   "metadata": {},
   "source": [
    "# Lineages\n",
    "Natalia Vélez, July 2020\n",
    "\n",
    "In this notebook:\n",
    "\n",
    "* Charting lineages\n",
    "* Comparing lineages using various measures of well-being (# descendants, lifespan, causes of death, etc.)\n",
    "* Preparing inputs for subsequent analyses (combined with food, map change logs)\n",
    "\n",
    "This notebook uses data from November 2019--June 2020 (which corresponds to the Boundless World era)"
   ]
  },
  {
   "cell_type": "code",
   "execution_count": 39,
   "metadata": {
    "ExecuteTime": {
     "end_time": "2020-01-09T18:53:46.358191Z",
     "start_time": "2020-01-09T18:53:44.884317Z"
    }
   },
   "outputs": [],
   "source": [
    "%matplotlib inline\n",
    "\n",
    "import os, re, glob\n",
    "import pandas as pd\n",
    "import numpy as np\n",
    "\n",
    "import networkx as nx\n",
    "import matplotlib.pyplot as plt\n",
    "import seaborn as sns\n",
    "from networkx.drawing.nx_agraph import graphviz_layout\n",
    "\n",
    "from os.path import join as opj\n",
    "from tqdm import notebook\n",
    "from ast import literal_eval as make_tuple\n",
    "\n",
    "sns.set_context('talk')\n",
    "sns.set_style('white')\n",
    "\n",
    "def gsearch(*args): return glob.glob(opj(*args))"
   ]
  },
  {
   "cell_type": "markdown",
   "metadata": {},
   "source": [
    "Get data from all eras:"
   ]
  },
  {
   "cell_type": "code",
   "execution_count": 2,
   "metadata": {
    "ExecuteTime": {
     "end_time": "2020-01-09T18:53:48.757567Z",
     "start_time": "2020-01-09T18:53:48.167361Z"
    }
   },
   "outputs": [
    {
     "name": "stderr",
     "output_type": "stream",
     "text": [
      "/Users/nvelez/opt/anaconda3/lib/python3.7/site-packages/numpy/lib/arraysetops.py:569: FutureWarning: elementwise comparison failed; returning scalar instead, but in the future will perform elementwise comparison\n",
      "  mask |= (ar1 == a)\n"
     ]
    }
   ],
   "source": [
    "era_files = glob.glob('outputs/lifelogs*_data.tsv')\n",
    "births_list = []\n",
    "\n",
    "for f in era_files:\n",
    "    era_data = pd.read_csv(f, sep='\\t', index_col=0)\n",
    "    births_list.append(era_data)"
   ]
  },
  {
   "cell_type": "markdown",
   "metadata": {},
   "source": [
    "Dataframe of births:"
   ]
  },
  {
   "cell_type": "code",
   "execution_count": 3,
   "metadata": {},
   "outputs": [
    {
     "data": {
      "text/html": [
       "<div>\n",
       "<style scoped>\n",
       "    .dataframe tbody tr th:only-of-type {\n",
       "        vertical-align: middle;\n",
       "    }\n",
       "\n",
       "    .dataframe tbody tr th {\n",
       "        vertical-align: top;\n",
       "    }\n",
       "\n",
       "    .dataframe thead th {\n",
       "        text-align: right;\n",
       "    }\n",
       "</style>\n",
       "<table border=\"1\" class=\"dataframe\">\n",
       "  <thead>\n",
       "    <tr style=\"text-align: right;\">\n",
       "      <th></th>\n",
       "      <th>server</th>\n",
       "      <th>release</th>\n",
       "      <th>era</th>\n",
       "      <th>timestamp</th>\n",
       "      <th>playerID</th>\n",
       "      <th>hash</th>\n",
       "      <th>sex</th>\n",
       "      <th>location</th>\n",
       "      <th>parent</th>\n",
       "      <th>pop</th>\n",
       "      <th>chain</th>\n",
       "    </tr>\n",
       "  </thead>\n",
       "  <tbody>\n",
       "    <tr>\n",
       "      <th>776124</th>\n",
       "      <td>bigserver2</td>\n",
       "      <td>342.0</td>\n",
       "      <td>boundless</td>\n",
       "      <td>1592294385</td>\n",
       "      <td>3080254</td>\n",
       "      <td>39296c04b20e5b46ace3469c4f45d3a0f06c2147</td>\n",
       "      <td>M</td>\n",
       "      <td>(-454358,53)</td>\n",
       "      <td>3080205</td>\n",
       "      <td>29</td>\n",
       "      <td>16.0</td>\n",
       "    </tr>\n",
       "    <tr>\n",
       "      <th>776125</th>\n",
       "      <td>bigserver2</td>\n",
       "      <td>342.0</td>\n",
       "      <td>boundless</td>\n",
       "      <td>1592294385</td>\n",
       "      <td>3080255</td>\n",
       "      <td>fe3d99761b4b62f37e50d74f720d97ecc9fb0029</td>\n",
       "      <td>M</td>\n",
       "      <td>(-454358,53)</td>\n",
       "      <td>3080205</td>\n",
       "      <td>30</td>\n",
       "      <td>16.0</td>\n",
       "    </tr>\n",
       "    <tr>\n",
       "      <th>776123</th>\n",
       "      <td>bigserver2</td>\n",
       "      <td>342.0</td>\n",
       "      <td>boundless</td>\n",
       "      <td>1592294343</td>\n",
       "      <td>3080253</td>\n",
       "      <td>a8b5975a81344f690f45ffc2554a0bc35af557a9</td>\n",
       "      <td>M</td>\n",
       "      <td>(-454363,94)</td>\n",
       "      <td>3080205</td>\n",
       "      <td>29</td>\n",
       "      <td>16.0</td>\n",
       "    </tr>\n",
       "    <tr>\n",
       "      <th>776122</th>\n",
       "      <td>bigserver2</td>\n",
       "      <td>342.0</td>\n",
       "      <td>boundless</td>\n",
       "      <td>1592294341</td>\n",
       "      <td>3080252</td>\n",
       "      <td>b2d09ba08ab6c9880104599a8bbfd91d9fa8e70d</td>\n",
       "      <td>F</td>\n",
       "      <td>(-454829,-124)</td>\n",
       "      <td>3080235</td>\n",
       "      <td>29</td>\n",
       "      <td>2.0</td>\n",
       "    </tr>\n",
       "    <tr>\n",
       "      <th>776121</th>\n",
       "      <td>bigserver2</td>\n",
       "      <td>342.0</td>\n",
       "      <td>boundless</td>\n",
       "      <td>1592294331</td>\n",
       "      <td>3080251</td>\n",
       "      <td>0bd1a9d5200e6d6af7e8d808f79dc93496637987</td>\n",
       "      <td>M</td>\n",
       "      <td>(-454400,-1)</td>\n",
       "      <td>3080228</td>\n",
       "      <td>29</td>\n",
       "      <td>17.0</td>\n",
       "    </tr>\n",
       "  </tbody>\n",
       "</table>\n",
       "</div>"
      ],
      "text/plain": [
       "            server  release        era   timestamp  playerID  \\\n",
       "776124  bigserver2    342.0  boundless  1592294385   3080254   \n",
       "776125  bigserver2    342.0  boundless  1592294385   3080255   \n",
       "776123  bigserver2    342.0  boundless  1592294343   3080253   \n",
       "776122  bigserver2    342.0  boundless  1592294341   3080252   \n",
       "776121  bigserver2    342.0  boundless  1592294331   3080251   \n",
       "\n",
       "                                            hash sex        location   parent  \\\n",
       "776124  39296c04b20e5b46ace3469c4f45d3a0f06c2147   M    (-454358,53)  3080205   \n",
       "776125  fe3d99761b4b62f37e50d74f720d97ecc9fb0029   M    (-454358,53)  3080205   \n",
       "776123  a8b5975a81344f690f45ffc2554a0bc35af557a9   M    (-454363,94)  3080205   \n",
       "776122  b2d09ba08ab6c9880104599a8bbfd91d9fa8e70d   F  (-454829,-124)  3080235   \n",
       "776121  0bd1a9d5200e6d6af7e8d808f79dc93496637987   M    (-454400,-1)  3080228   \n",
       "\n",
       "        pop  chain  \n",
       "776124   29   16.0  \n",
       "776125   30   16.0  \n",
       "776123   29   16.0  \n",
       "776122   29    2.0  \n",
       "776121   29   17.0  "
      ]
     },
     "execution_count": 3,
     "metadata": {},
     "output_type": "execute_result"
    }
   ],
   "source": [
    "births = pd.concat(births_list)\n",
    "\n",
    "## Clelan up  data\n",
    "birth_cols = ['server', 'release', 'era', 'timestamp', 'playerID', \n",
    "              'hash', 'sex', 'location', 'parent', 'pop','chain']\n",
    "\n",
    "# Dataframe of births\n",
    "births = births[births['event'] == 'B'].reset_index(drop=True)\n",
    "births = births[birth_cols]\n",
    "\n",
    "# Parse player IDs\n",
    "births['playerID'] = births['playerID'].astype(np.int)\n",
    "\n",
    "# Parse parent IDs\n",
    "births['parent'] = births['parent'].str.extract('(noParent|(?<=parent=)[0-9]+)')\n",
    "births['parent'] = births['parent'].str.replace('noParent', '-1')\n",
    "births['parent'] = births['parent'].astype(np.int)\n",
    "\n",
    "# Order from most recent\n",
    "births = births.sort_values('timestamp', ascending=False)\n",
    "births.head()"
   ]
  },
  {
   "cell_type": "markdown",
   "metadata": {},
   "source": [
    "## Sanity check: How many lineages can we expect?"
   ]
  },
  {
   "cell_type": "markdown",
   "metadata": {},
   "source": [
    "Spot eves:"
   ]
  },
  {
   "cell_type": "code",
   "execution_count": 5,
   "metadata": {},
   "outputs": [
    {
     "name": "stdout",
     "output_type": "stream",
     "text": [
      "776119    3080249\n",
      "776105    3080235\n",
      "776079    3080209\n",
      "776078    3080208\n",
      "776074    3080204\n",
      "776072    3080202\n",
      "776038    3080166\n",
      "775945    3080067\n",
      "775922    3080044\n",
      "775908    3080029\n",
      "Name: playerID, dtype: int64\n"
     ]
    }
   ],
   "source": [
    "eves = births[births['parent'] < 0]\n",
    "print(eves['playerID'][:10])"
   ]
  },
  {
   "cell_type": "markdown",
   "metadata": {},
   "source": [
    "How many Eves?"
   ]
  },
  {
   "cell_type": "code",
   "execution_count": 6,
   "metadata": {},
   "outputs": [
    {
     "name": "stdout",
     "output_type": "stream",
     "text": [
      "170126 Eves out of 2934434 births (5.80%)\n"
     ]
    }
   ],
   "source": [
    "n_eves = len(eves)\n",
    "n_births = len(births)\n",
    "eve_rate = n_eves/n_births\n",
    "print('%i Eves out of %i births (%0.2f%%)' % (n_eves, n_births, eve_rate*100))"
   ]
  },
  {
   "cell_type": "markdown",
   "metadata": {},
   "source": [
    "Eve spawn rate over time:"
   ]
  },
  {
   "cell_type": "code",
   "execution_count": 8,
   "metadata": {
    "scrolled": true
   },
   "outputs": [
    {
     "data": {
      "text/plain": [
       "[Text(0, 0.5, 'Eve spawn rate'), Text(0.5, 0, 'Release #')]"
      ]
     },
     "execution_count": 8,
     "metadata": {},
     "output_type": "execute_result"
    },
    {
     "data": {
      "image/png": "[encoded data removed]",
      "text/plain": [
       "<Figure size 432x288 with 1 Axes>"
      ]
     },
     "metadata": {},
     "output_type": "display_data"
    }
   ],
   "source": [
    "eve_rate = births.copy()\n",
    "eve_rate['is_eve'] = eve_rate['parent'] < 0\n",
    "eve_rate = eve_rate.groupby('release')['is_eve'].agg(['count', 'sum']).reset_index()\n",
    "eve_rate = eve_rate.rename(columns={'count': 'n_births', 'sum': 'n_eves'})\n",
    "eve_rate['eve_rate'] = eve_rate['n_eves']/eve_rate['n_births']\n",
    "\n",
    "ax = sns.lineplot('release', 'eve_rate', data=eve_rate)\n",
    "ax.set(xlabel = 'Release #', ylabel = 'Eve spawn rate')"
   ]
  },
  {
   "cell_type": "markdown",
   "metadata": {},
   "source": [
    "## Parse names"
   ]
  },
  {
   "cell_type": "markdown",
   "metadata": {},
   "source": [
    "Helper function: Remove from data...\n",
    "\n",
    "* Roman numerals (including some nonsense ones at high-gen numbers)\n",
    "* Kin labels? (e.g., SHINA1580640)"
   ]
  },
  {
   "cell_type": "code",
   "execution_count": 9,
   "metadata": {},
   "outputs": [],
   "source": [
    "def is_roman(s):\n",
    "    # Checks if string is a \"valid\" Roman numeral\n",
    "    # Note this includes some *cough*idiosyncratic*cough* numerals in the OHOL dataset:\n",
    "    # e.g., CLXLIII => True (but actually nonsense)\n",
    "    roman_regex  = 'M{0,4}(CM|CD|D?C{0,3})(LXL|XC|XL|L?X{0,3})(IX|IV|V?I{0,3})'\n",
    "    roman_match = re.match(roman_regex, s)\n",
    "    \n",
    "    str_length = len(s)\n",
    "    match_length = roman_match.span()[1]\n",
    "    \n",
    "    return str_length == match_length\n",
    "\n",
    "def is_kin(s, idx):\n",
    "    kin_regex = '[A-Z]{0,}[0-9]+'\n",
    "    kin_match = re.search(kin_regex, s)\n",
    "    return bool(kin_match) & (idx > 0)\n",
    "\n",
    "def is_valid(s, idx):\n",
    "    \n",
    "    not_roman = not is_roman(s)\n",
    "    not_kin = not is_kin(s, idx)\n",
    "    \n",
    "    return not_roman & not_kin"
   ]
  },
  {
   "cell_type": "markdown",
   "metadata": {},
   "source": [
    "Find name files:"
   ]
  },
  {
   "cell_type": "code",
   "execution_count": 10,
   "metadata": {},
   "outputs": [
    {
     "name": "stdout",
     "output_type": "stream",
     "text": [
      "2019_01January_29_Tuesday_names.txt\n",
      "2019_01January_30_Wednesday_names.txt\n",
      "2019_01January_31_Thursday_names.txt\n",
      "2019_02February_01_Friday_names.txt\n",
      "2019_02February_02_Saturday_names.txt\n"
     ]
    }
   ],
   "source": [
    "data_dir = '../data'\n",
    "name_files = glob.glob(opj(data_dir, 'publicLifeLogData', 'lifeLog_bigserver2*', '*names.txt'))\n",
    "name_files.sort()\n",
    "print(*[os.path.basename(f) for f in name_files[:5]], sep='\\n')"
   ]
  },
  {
   "cell_type": "markdown",
   "metadata": {},
   "source": [
    "Iterate over name files and extract names:"
   ]
  },
  {
   "cell_type": "code",
   "execution_count": 11,
   "metadata": {},
   "outputs": [
    {
     "data": {
      "application/vnd.jupyter.widget-view+json": {
       "model_id": "51523b6c411443feaea1a2546dd3ad3b",
       "version_major": 2,
       "version_minor": 0
      },
      "text/plain": [
       "HBox(children=(FloatProgress(value=0.0, max=505.0), HTML(value='')))"
      ]
     },
     "metadata": {},
     "output_type": "display_data"
    },
    {
     "name": "stdout",
     "output_type": "stream",
     "text": [
      "Corrected: ['386865', 'MOON', 'ROA']\n",
      "Corrected: ['388702', 'MARTHA', 'LIGHT']\n",
      "Corrected: ['1240637', 'ALEX', 'CHAN']\n",
      "Corrected: ['1577563', 'KNIGHT', 'FIERRO']\n",
      "Corrected: ['1579101', 'LARIAH', 'HANNAM']\n",
      "Corrected: ['1579766', 'JACKIE', 'WISCOMBE']\n",
      "Corrected: ['1580507', 'BENJAMIN', 'GIOVANNI']\n",
      "\n"
     ]
    }
   ],
   "source": [
    "name_list = []\n",
    "re.compile(\"^([A-Z][0-9]+)+$\")\n",
    "\n",
    "for f in notebook.tqdm(name_files):\n",
    "    with open(f, 'r') as handle:\n",
    "        data_str = handle.read().splitlines()\n",
    "\n",
    "    data = []\n",
    "    for s in data_str:\n",
    "        row_data = s.split() # Split lines\n",
    "        row_data = [si for idx, si in enumerate(row_data) if is_valid(si, idx)]\n",
    "        \n",
    "        if len(row_data) > 3:\n",
    "            row_data.remove('EVE')\n",
    "            print('Corrected: %s' % row_data)\n",
    "\n",
    "        while len(row_data) < 3: \n",
    "            row_data.append('')\n",
    "\n",
    "        name_list.append(row_data)"
   ]
  },
  {
   "cell_type": "markdown",
   "metadata": {},
   "source": [
    "Assemble into dataframe:"
   ]
  },
  {
   "cell_type": "code",
   "execution_count": 12,
   "metadata": {},
   "outputs": [
    {
     "data": {
      "text/html": [
       "<div>\n",
       "<style scoped>\n",
       "    .dataframe tbody tr th:only-of-type {\n",
       "        vertical-align: middle;\n",
       "    }\n",
       "\n",
       "    .dataframe tbody tr th {\n",
       "        vertical-align: top;\n",
       "    }\n",
       "\n",
       "    .dataframe thead th {\n",
       "        text-align: right;\n",
       "    }\n",
       "</style>\n",
       "<table border=\"1\" class=\"dataframe\">\n",
       "  <thead>\n",
       "    <tr style=\"text-align: right;\">\n",
       "      <th></th>\n",
       "      <th>playerID</th>\n",
       "      <th>first</th>\n",
       "      <th>last</th>\n",
       "    </tr>\n",
       "  </thead>\n",
       "  <tbody>\n",
       "    <tr>\n",
       "      <th>0</th>\n",
       "      <td>5</td>\n",
       "      <td>EVE</td>\n",
       "      <td>ARK</td>\n",
       "    </tr>\n",
       "    <tr>\n",
       "      <th>1</th>\n",
       "      <td>4</td>\n",
       "      <td>SLY</td>\n",
       "      <td></td>\n",
       "    </tr>\n",
       "    <tr>\n",
       "      <th>2</th>\n",
       "      <td>6</td>\n",
       "      <td>FOX</td>\n",
       "      <td>ARK</td>\n",
       "    </tr>\n",
       "    <tr>\n",
       "      <th>3</th>\n",
       "      <td>9</td>\n",
       "      <td>EVE</td>\n",
       "      <td>ISA</td>\n",
       "    </tr>\n",
       "    <tr>\n",
       "      <th>4</th>\n",
       "      <td>10</td>\n",
       "      <td>TESIA</td>\n",
       "      <td>ISA</td>\n",
       "    </tr>\n",
       "  </tbody>\n",
       "</table>\n",
       "</div>"
      ],
      "text/plain": [
       "   playerID  first last\n",
       "0         5    EVE  ARK\n",
       "1         4    SLY     \n",
       "2         6    FOX  ARK\n",
       "3         9    EVE  ISA\n",
       "4        10  TESIA  ISA"
      ]
     },
     "execution_count": 12,
     "metadata": {},
     "output_type": "execute_result"
    }
   ],
   "source": [
    "name_df = pd.DataFrame(name_list, columns=['playerID', 'first', 'last'])\n",
    "name_df['playerID'] = name_df['playerID'].astype(np.int)\n",
    "name_df.head()"
   ]
  },
  {
   "cell_type": "markdown",
   "metadata": {},
   "source": [
    "Merge with `births`:"
   ]
  },
  {
   "cell_type": "code",
   "execution_count": 13,
   "metadata": {},
   "outputs": [
    {
     "data": {
      "text/html": [
       "<div>\n",
       "<style scoped>\n",
       "    .dataframe tbody tr th:only-of-type {\n",
       "        vertical-align: middle;\n",
       "    }\n",
       "\n",
       "    .dataframe tbody tr th {\n",
       "        vertical-align: top;\n",
       "    }\n",
       "\n",
       "    .dataframe thead th {\n",
       "        text-align: right;\n",
       "    }\n",
       "</style>\n",
       "<table border=\"1\" class=\"dataframe\">\n",
       "  <thead>\n",
       "    <tr style=\"text-align: right;\">\n",
       "      <th></th>\n",
       "      <th>server</th>\n",
       "      <th>release</th>\n",
       "      <th>era</th>\n",
       "      <th>timestamp</th>\n",
       "      <th>playerID</th>\n",
       "      <th>hash</th>\n",
       "      <th>sex</th>\n",
       "      <th>location</th>\n",
       "      <th>parent</th>\n",
       "      <th>pop</th>\n",
       "      <th>chain</th>\n",
       "      <th>first</th>\n",
       "      <th>last</th>\n",
       "    </tr>\n",
       "  </thead>\n",
       "  <tbody>\n",
       "    <tr>\n",
       "      <th>0</th>\n",
       "      <td>bigserver2</td>\n",
       "      <td>342.0</td>\n",
       "      <td>boundless</td>\n",
       "      <td>1592288229</td>\n",
       "      <td>3080130</td>\n",
       "      <td>2cdc4d0b016f9c0d96d27013f1d19c42596e0c5c</td>\n",
       "      <td>F</td>\n",
       "      <td>(-454640,41)</td>\n",
       "      <td>3080111</td>\n",
       "      <td>30</td>\n",
       "      <td>4.0</td>\n",
       "      <td>CLAUDINE</td>\n",
       "      <td>P</td>\n",
       "    </tr>\n",
       "    <tr>\n",
       "      <th>1</th>\n",
       "      <td>bigserver2</td>\n",
       "      <td>342.0</td>\n",
       "      <td>boundless</td>\n",
       "      <td>1592288191</td>\n",
       "      <td>3080128</td>\n",
       "      <td>a8b5975a81344f690f45ffc2554a0bc35af557a9</td>\n",
       "      <td>F</td>\n",
       "      <td>(-454394,-4)</td>\n",
       "      <td>3080105</td>\n",
       "      <td>29</td>\n",
       "      <td>13.0</td>\n",
       "      <td>DACY</td>\n",
       "      <td>LIGHTNING</td>\n",
       "    </tr>\n",
       "    <tr>\n",
       "      <th>2</th>\n",
       "      <td>bigserver2</td>\n",
       "      <td>342.0</td>\n",
       "      <td>boundless</td>\n",
       "      <td>1592288138</td>\n",
       "      <td>3080125</td>\n",
       "      <td>c5838da39fd525a2ac24aee049dae6a42e502236</td>\n",
       "      <td>F</td>\n",
       "      <td>(-311131,-322)</td>\n",
       "      <td>3080101</td>\n",
       "      <td>29</td>\n",
       "      <td>53.0</td>\n",
       "      <td>SHOKO</td>\n",
       "      <td>GREATHOUSE</td>\n",
       "    </tr>\n",
       "    <tr>\n",
       "      <th>3</th>\n",
       "      <td>bigserver2</td>\n",
       "      <td>342.0</td>\n",
       "      <td>boundless</td>\n",
       "      <td>1592288029</td>\n",
       "      <td>3080122</td>\n",
       "      <td>11f9fce50bbc1ebbba5126434aea123e79249942</td>\n",
       "      <td>M</td>\n",
       "      <td>(-454638,41)</td>\n",
       "      <td>3080104</td>\n",
       "      <td>30</td>\n",
       "      <td>4.0</td>\n",
       "      <td>RANGER</td>\n",
       "      <td>PICKLE</td>\n",
       "    </tr>\n",
       "    <tr>\n",
       "      <th>4</th>\n",
       "      <td>bigserver2</td>\n",
       "      <td>342.0</td>\n",
       "      <td>boundless</td>\n",
       "      <td>1592287917</td>\n",
       "      <td>3080120</td>\n",
       "      <td>b265b1958566b474094cf0282a0fa59e6d622885</td>\n",
       "      <td>F</td>\n",
       "      <td>(-311111,-311)</td>\n",
       "      <td>3080101</td>\n",
       "      <td>33</td>\n",
       "      <td>53.0</td>\n",
       "      <td>HAPPY</td>\n",
       "      <td>GREATHOUSE</td>\n",
       "    </tr>\n",
       "  </tbody>\n",
       "</table>\n",
       "</div>"
      ],
      "text/plain": [
       "       server  release        era   timestamp  playerID  \\\n",
       "0  bigserver2    342.0  boundless  1592288229   3080130   \n",
       "1  bigserver2    342.0  boundless  1592288191   3080128   \n",
       "2  bigserver2    342.0  boundless  1592288138   3080125   \n",
       "3  bigserver2    342.0  boundless  1592288029   3080122   \n",
       "4  bigserver2    342.0  boundless  1592287917   3080120   \n",
       "\n",
       "                                       hash sex        location   parent  pop  \\\n",
       "0  2cdc4d0b016f9c0d96d27013f1d19c42596e0c5c   F    (-454640,41)  3080111   30   \n",
       "1  a8b5975a81344f690f45ffc2554a0bc35af557a9   F    (-454394,-4)  3080105   29   \n",
       "2  c5838da39fd525a2ac24aee049dae6a42e502236   F  (-311131,-322)  3080101   29   \n",
       "3  11f9fce50bbc1ebbba5126434aea123e79249942   M    (-454638,41)  3080104   30   \n",
       "4  b265b1958566b474094cf0282a0fa59e6d622885   F  (-311111,-311)  3080101   33   \n",
       "\n",
       "   chain     first        last  \n",
       "0    4.0  CLAUDINE           P  \n",
       "1   13.0      DACY   LIGHTNING  \n",
       "2   53.0     SHOKO  GREATHOUSE  \n",
       "3    4.0    RANGER      PICKLE  \n",
       "4   53.0     HAPPY  GREATHOUSE  "
      ]
     },
     "execution_count": 13,
     "metadata": {},
     "output_type": "execute_result"
    }
   ],
   "source": [
    "birth_df = pd.merge(births, name_df, on='playerID')\n",
    "birth_df.head()"
   ]
  },
  {
   "cell_type": "markdown",
   "metadata": {},
   "source": [
    "## Build family trees"
   ]
  },
  {
   "cell_type": "markdown",
   "metadata": {},
   "source": [
    "Search thru boundless families:"
   ]
  },
  {
   "cell_type": "code",
   "execution_count": 16,
   "metadata": {},
   "outputs": [],
   "source": [
    "boundless_df = births[births['era'] == 'boundless'].reset_index(drop=True)"
   ]
  },
  {
   "cell_type": "markdown",
   "metadata": {},
   "source": [
    "Iterate over parent-child links:"
   ]
  },
  {
   "cell_type": "code",
   "execution_count": 24,
   "metadata": {},
   "outputs": [
    {
     "data": {
      "application/vnd.jupyter.widget-view+json": {
       "model_id": "0262ecb0101c4f00821bff6cc3259b0d",
       "version_major": 2,
       "version_minor": 0
      },
      "text/plain": [
       "HBox(children=(FloatProgress(value=0.0, max=1678206.0), HTML(value='')))"
      ]
     },
     "metadata": {},
     "output_type": "display_data"
    },
    {
     "name": "stdout",
     "output_type": "stream",
     "text": [
      "\n"
     ]
    }
   ],
   "source": [
    "all_families = nx.DiGraph()\n",
    "n_rows = len(birth_df)\n",
    "\n",
    "for idx, row in notebook.tqdm(birth_df.iterrows(), total=n_rows):\n",
    "        # Link mom to child\n",
    "        mom = row['parent']\n",
    "        child = row['playerID']\n",
    "        \n",
    "        if mom > 0:\n",
    "            all_families.add_edge(mom, child)"
   ]
  },
  {
   "cell_type": "markdown",
   "metadata": {},
   "source": [
    "Split into subgraphs:"
   ]
  },
  {
   "cell_type": "code",
   "execution_count": 35,
   "metadata": {},
   "outputs": [],
   "source": [
    "families = [all_families.subgraph(c).copy() for c in nx.weakly_connected_components(all_families)]"
   ]
  },
  {
   "cell_type": "markdown",
   "metadata": {},
   "source": [
    "Plot families:"
   ]
  },
  {
   "cell_type": "code",
   "execution_count": null,
   "metadata": {},
   "outputs": [
    {
     "ename": "ImportError",
     "evalue": "('requires pygraphviz ', 'http://pygraphviz.github.io/')",
     "output_type": "error",
     "traceback": [
      "\u001b[0;31m---------------------------------------------------------------------------\u001b[0m",
      "\u001b[0;31mModuleNotFoundError\u001b[0m                       Traceback (most recent call last)",
      "\u001b[0;32m~/opt/anaconda3/lib/python3.7/site-packages/networkx/drawing/nx_agraph.py\u001b[0m in \u001b[0;36mpygraphviz_layout\u001b[0;34m(G, prog, root, args)\u001b[0m\n\u001b[1;32m    282\u001b[0m     \u001b[0;32mtry\u001b[0m\u001b[0;34m:\u001b[0m\u001b[0;34m\u001b[0m\u001b[0;34m\u001b[0m\u001b[0m\n\u001b[0;32m--> 283\u001b[0;31m         \u001b[0;32mimport\u001b[0m \u001b[0mpygraphviz\u001b[0m\u001b[0;34m\u001b[0m\u001b[0;34m\u001b[0m\u001b[0m\n\u001b[0m\u001b[1;32m    284\u001b[0m     \u001b[0;32mexcept\u001b[0m \u001b[0mImportError\u001b[0m\u001b[0;34m:\u001b[0m\u001b[0;34m\u001b[0m\u001b[0;34m\u001b[0m\u001b[0m\n",
      "\u001b[0;31mModuleNotFoundError\u001b[0m: No module named 'pygraphviz'",
      "\nDuring handling of the above exception, another exception occurred:\n",
      "\u001b[0;31mImportError\u001b[0m                               Traceback (most recent call last)",
      "\u001b[0;32m<ipython-input-40-16795feb5fde>\u001b[0m in \u001b[0;36m<module>\u001b[0;34m\u001b[0m\n\u001b[1;32m      1\u001b[0m \u001b[0mnx\u001b[0m\u001b[0;34m.\u001b[0m\u001b[0mdraw\u001b[0m\u001b[0;34m(\u001b[0m\u001b[0mfamilies\u001b[0m\u001b[0;34m[\u001b[0m\u001b[0;36m0\u001b[0m\u001b[0;34m]\u001b[0m\u001b[0;34m)\u001b[0m\u001b[0;34m\u001b[0m\u001b[0;34m\u001b[0m\u001b[0m\n\u001b[0;32m----> 2\u001b[0;31m \u001b[0mpos\u001b[0m\u001b[0;34m=\u001b[0m\u001b[0mgraphviz_layout\u001b[0m\u001b[0;34m(\u001b[0m\u001b[0mfamilies\u001b[0m\u001b[0;34m[\u001b[0m\u001b[0;36m0\u001b[0m\u001b[0;34m]\u001b[0m\u001b[0;34m,\u001b[0m \u001b[0mprog\u001b[0m\u001b[0;34m=\u001b[0m\u001b[0;34m'dot'\u001b[0m\u001b[0;34m)\u001b[0m\u001b[0;34m\u001b[0m\u001b[0;34m\u001b[0m\u001b[0m\n\u001b[0m",
      "\u001b[0;32m~/opt/anaconda3/lib/python3.7/site-packages/networkx/drawing/nx_agraph.py\u001b[0m in \u001b[0;36mgraphviz_layout\u001b[0;34m(G, prog, root, args)\u001b[0m\n\u001b[1;32m    241\u001b[0m     \u001b[0mThis\u001b[0m \u001b[0;32mis\u001b[0m \u001b[0ma\u001b[0m \u001b[0mwrapper\u001b[0m \u001b[0;32mfor\u001b[0m \u001b[0mpygraphviz_layout\u001b[0m\u001b[0;34m.\u001b[0m\u001b[0;34m\u001b[0m\u001b[0;34m\u001b[0m\u001b[0m\n\u001b[1;32m    242\u001b[0m     \"\"\"\n\u001b[0;32m--> 243\u001b[0;31m     \u001b[0;32mreturn\u001b[0m \u001b[0mpygraphviz_layout\u001b[0m\u001b[0;34m(\u001b[0m\u001b[0mG\u001b[0m\u001b[0;34m,\u001b[0m \u001b[0mprog\u001b[0m\u001b[0;34m=\u001b[0m\u001b[0mprog\u001b[0m\u001b[0;34m,\u001b[0m \u001b[0mroot\u001b[0m\u001b[0;34m=\u001b[0m\u001b[0mroot\u001b[0m\u001b[0;34m,\u001b[0m \u001b[0margs\u001b[0m\u001b[0;34m=\u001b[0m\u001b[0margs\u001b[0m\u001b[0;34m)\u001b[0m\u001b[0;34m\u001b[0m\u001b[0;34m\u001b[0m\u001b[0m\n\u001b[0m\u001b[1;32m    244\u001b[0m \u001b[0;34m\u001b[0m\u001b[0m\n\u001b[1;32m    245\u001b[0m \u001b[0;34m\u001b[0m\u001b[0m\n",
      "\u001b[0;32m~/opt/anaconda3/lib/python3.7/site-packages/networkx/drawing/nx_agraph.py\u001b[0m in \u001b[0;36mpygraphviz_layout\u001b[0;34m(G, prog, root, args)\u001b[0m\n\u001b[1;32m    284\u001b[0m     \u001b[0;32mexcept\u001b[0m \u001b[0mImportError\u001b[0m\u001b[0;34m:\u001b[0m\u001b[0;34m\u001b[0m\u001b[0;34m\u001b[0m\u001b[0m\n\u001b[1;32m    285\u001b[0m         raise ImportError('requires pygraphviz ',\n\u001b[0;32m--> 286\u001b[0;31m                           'http://pygraphviz.github.io/')\n\u001b[0m\u001b[1;32m    287\u001b[0m     \u001b[0;32mif\u001b[0m \u001b[0mroot\u001b[0m \u001b[0;32mis\u001b[0m \u001b[0;32mnot\u001b[0m \u001b[0;32mNone\u001b[0m\u001b[0;34m:\u001b[0m\u001b[0;34m\u001b[0m\u001b[0;34m\u001b[0m\u001b[0m\n\u001b[1;32m    288\u001b[0m         \u001b[0margs\u001b[0m \u001b[0;34m+=\u001b[0m \u001b[0;34m\"-Groot=%s\"\u001b[0m \u001b[0;34m%\u001b[0m \u001b[0mroot\u001b[0m\u001b[0;34m\u001b[0m\u001b[0;34m\u001b[0m\u001b[0m\n",
      "\u001b[0;31mImportError\u001b[0m: ('requires pygraphviz ', 'http://pygraphviz.github.io/')"
     ]
    }
   ],
   "source": [
    "nx.draw(families[0])\n",
    "pos=graphviz_layout(families[0], prog='dot')\n"
   ]
  },
  {
   "cell_type": "code",
   "execution_count": 36,
   "metadata": {},
   "outputs": [
    {
     "data": {
      "text/plain": [
       "45161"
      ]
     },
     "execution_count": 36,
     "metadata": {},
     "output_type": "execute_result"
    }
   ],
   "source": [
    "len(families)"
   ]
  },
  {
   "cell_type": "code",
   "execution_count": null,
   "metadata": {},
   "outputs": [],
   "source": [
    "nx.weakly_connected_components"
   ]
  },
  {
   "cell_type": "code",
   "execution_count": null,
   "metadata": {},
   "outputs": [],
   "source": []
  }
 ],
 "metadata": {
  "kernelspec": {
   "display_name": "Python 3",
   "language": "python",
   "name": "python3"
  },
  "language_info": {
   "codemirror_mode": {
    "name": "ipython",
    "version": 3
   },
   "file_extension": ".py",
   "mimetype": "text/x-python",
   "name": "python",
   "nbconvert_exporter": "python",
   "pygments_lexer": "ipython3",
   "version": "3.7.6"
  },
  "toc": {
   "base_numbering": 1,
   "nav_menu": {},
   "number_sections": true,
   "sideBar": true,
   "skip_h1_title": false,
   "title_cell": "Table of Contents",
   "title_sidebar": "Contents",
   "toc_cell": false,
   "toc_position": {},
   "toc_section_display": true,
   "toc_window_display": false
  }
 },
 "nbformat": 4,
 "nbformat_minor": 2
}
