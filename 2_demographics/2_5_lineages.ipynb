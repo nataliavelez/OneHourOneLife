{
 "cells": [
  {
   "cell_type": "markdown",
   "metadata": {},
   "source": [
    "# Lineages\n",
    "Natalia Vélez, July 2020\n",
    "\n",
    "In this notebook:\n",
    "\n",
    "* Charting lineages\n",
    "* Comparing lineages using various measures of well-being (# descendants, lifespan, causes of death, etc.)\n",
    "* Preparing inputs for subsequent analyses (combined with food, map change logs)\n",
    "\n",
    "This notebook uses data from November 2019--June 2020 (which corresponds to the Boundless World era)"
   ]
  },
  {
   "cell_type": "code",
   "execution_count": null,
   "metadata": {
    "ExecuteTime": {
     "end_time": "2020-01-09T18:53:46.358191Z",
     "start_time": "2020-01-09T18:53:44.884317Z"
    }
   },
   "outputs": [],
   "source": [
    "%matplotlib inline\n",
    "\n",
    "import os, re, glob\n",
    "import pandas as pd\n",
    "import numpy as np\n",
    "import networkx as nx\n",
    "import matplotlib.pyplot as plt\n",
    "import seaborn as sns\n",
    "import networkx\n",
    "from os.path import join as opj\n",
    "from tqdm import notebook\n",
    "from ast import literal_eval as make_tuple\n",
    "\n",
    "sns.set_context('talk')\n",
    "sns.set_style('white')\n",
    "\n",
    "def gsearch(*args): return glob.glob(opj(*args))"
   ]
  },
  {
   "cell_type": "markdown",
   "metadata": {},
   "source": [
    "Extract births & parents:"
   ]
  },
  {
   "cell_type": "code",
   "execution_count": null,
   "metadata": {
    "ExecuteTime": {
     "end_time": "2020-01-09T18:53:48.757567Z",
     "start_time": "2020-01-09T18:53:48.167361Z"
    }
   },
   "outputs": [],
   "source": [
    "# Read all data\n",
    "data = pd.read_csv('outputs/lifelogs_bigserver2_boundless_data.tsv', sep='\\t', index_col=0)\n",
    "\n",
    "# Dataframe of births\n",
    "births_df = data.copy()\n",
    "births_df = births_df[births_df['event'] == 'B'].reset_index(drop=True)\n",
    "births_df = births_df[['server',\n",
    "                       'release',\n",
    "                       'era',\n",
    "                       'timestamp',\n",
    "                       'playerID',\n",
    "                       'hash',\n",
    "                       'sex',\n",
    "                       'location',\n",
    "                       'parent',\n",
    "                       'pop',\n",
    "                       'chain']]\n",
    "\n",
    "# Parse player IDs\n",
    "births_df['playerID'] = births_df['playerID'].astype(np.int)\n",
    "\n",
    "# Parse parent IDs\n",
    "births_df['parent'] = births_df['parent'].str.extract('(noParent|(?<=parent=)[0-9]+)')\n",
    "births_df['parent'] = np.where(births_df['parent'] == 'noParent',\n",
    "                              -1, births_df['parent'])\n",
    "births_df['parent'] = births_df['parent'].astype(np.int)\n",
    "\n",
    "births_df.head()"
   ]
  },
  {
   "cell_type": "markdown",
   "metadata": {},
   "source": [
    "## Sanity check: How many lineages can we expect?"
   ]
  },
  {
   "cell_type": "markdown",
   "metadata": {},
   "source": [
    "How many Eves?"
   ]
  },
  {
   "cell_type": "code",
   "execution_count": null,
   "metadata": {},
   "outputs": [],
   "source": [
    "eves = births_df[births_df['parent'] < 0]\n",
    "n_eves = len(eves)\n",
    "n_births = len(births_df)\n",
    "eve_rate = n_eves/n_births\n",
    "print('%i Eves out of %i births (%0.2f%%)' % (n_eves, n_births, eve_rate*100))"
   ]
  },
  {
   "cell_type": "markdown",
   "metadata": {},
   "source": [
    "Eve spawn rate over time:"
   ]
  },
  {
   "cell_type": "code",
   "execution_count": null,
   "metadata": {
    "scrolled": true
   },
   "outputs": [],
   "source": [
    "eve_rate = births_df.copy()\n",
    "eve_rate['is_eve'] = eve_rate['parent'] < 0\n",
    "eve_rate = eve_rate.groupby('release')['is_eve'].agg(['count', 'sum']).reset_index()\n",
    "eve_rate = eve_rate.rename(columns={'count': 'n_births', 'sum': 'n_eves'})\n",
    "eve_rate['eve_rate'] = eve_rate['n_eves']/eve_rate['n_births']\n",
    "\n",
    "ax = sns.lineplot('release', 'eve_rate', data=eve_rate)\n",
    "ax.set(xlabel = 'Release #', ylabel = 'Eve spawn rate')"
   ]
  },
  {
   "cell_type": "code",
   "execution_count": null,
   "metadata": {},
   "outputs": [],
   "source": [
    "eves"
   ]
  },
  {
   "cell_type": "markdown",
   "metadata": {},
   "source": [
    "## Parse names"
   ]
  },
  {
   "cell_type": "markdown",
   "metadata": {},
   "source": [
    "Helper function: Remove from data...\n",
    "\n",
    "* Roman numerals (including some nonsense ones at high-gen numbers)\n",
    "* Kin labels? (e.g., SHINA1580640)"
   ]
  },
  {
   "cell_type": "code",
   "execution_count": null,
   "metadata": {},
   "outputs": [],
   "source": [
    "def is_roman(s):\n",
    "    # Checks if string is a \"valid\" Roman numeral\n",
    "    # Note this includes some *cough*idiosyncratic*cough* numerals in the OHOL dataset:\n",
    "    # e.g., CLXLIII => True (but actually nonsense)\n",
    "    roman_regex  = 'M{0,4}(CM|CD|D?C{0,3})(LXL|XC|XL|L?X{0,3})(IX|IV|V?I{0,3})'\n",
    "    roman_match = re.match(roman_regex, s)\n",
    "    \n",
    "    str_length = len(s)\n",
    "    match_length = roman_match.span()[1]\n",
    "    \n",
    "    return str_length == match_length\n",
    "\n",
    "def is_kin(s, idx):\n",
    "    kin_regex = '[A-Z]{0,}[0-9]+'\n",
    "    kin_match = re.search(kin_regex, s)\n",
    "    return bool(kin_match) & (idx > 0)\n",
    "\n",
    "def is_valid(s, idx):\n",
    "    \n",
    "    not_roman = not is_roman(s)\n",
    "    not_kin = not is_kin(s, idx)\n",
    "    \n",
    "    return not_roman & not_kin"
   ]
  },
  {
   "cell_type": "code",
   "execution_count": null,
   "metadata": {},
   "outputs": [],
   "source": [
    "row_data = ['386865', 'MOON', 'EVE', 'ROA']\n",
    "[is_valid(si, idx) for idx, si in enumerate(row_data) if is_valid(si, idx)]\n"
   ]
  },
  {
   "cell_type": "markdown",
   "metadata": {},
   "source": [
    "Find name files:"
   ]
  },
  {
   "cell_type": "code",
   "execution_count": null,
   "metadata": {},
   "outputs": [],
   "source": [
    "data_dir = '../data'\n",
    "name_files = glob.glob(opj(data_dir, 'publicLifeLogData', 'lifeLog_bigserver2*', '*names.txt'))\n",
    "name_files.sort()\n",
    "print(*[os.path.basename(f) for f in name_files[:5]], sep='\\n')"
   ]
  },
  {
   "cell_type": "markdown",
   "metadata": {},
   "source": [
    "Iterate over name files and extract names:"
   ]
  },
  {
   "cell_type": "code",
   "execution_count": null,
   "metadata": {},
   "outputs": [],
   "source": [
    "name_list = []\n",
    "re.compile(\"^([A-Z][0-9]+)+$\")\n",
    "\n",
    "for f in notebook.tqdm(name_files):\n",
    "    with open(f, 'r') as handle:\n",
    "        data_str = handle.read().splitlines()\n",
    "\n",
    "    data = []\n",
    "    for s in data_str:\n",
    "        row_data = s.split() # Split lines\n",
    "        row_data = [si for idx, si in enumerate(row_data) if is_valid(si, idx)]\n",
    "        \n",
    "        if len(row_data) > 3:\n",
    "            row_data.remove('EVE')\n",
    "            print(row_data)\n",
    "\n",
    "        while len(row_data) < 3: \n",
    "            row_data.append('')\n",
    "\n",
    "        name_list.append(row_data)"
   ]
  },
  {
   "cell_type": "markdown",
   "metadata": {},
   "source": [
    "Assemble into dataframe:"
   ]
  },
  {
   "cell_type": "code",
   "execution_count": null,
   "metadata": {},
   "outputs": [],
   "source": [
    "name_df = pd.DataFrame(name_list, columns=['playerID', 'first', 'last'])\n",
    "name_df.head()"
   ]
  }
 ],
 "metadata": {
  "kernelspec": {
   "display_name": "Python 3",
   "language": "python",
   "name": "python3"
  },
  "language_info": {
   "codemirror_mode": {
    "name": "ipython",
    "version": 3
   },
   "file_extension": ".py",
   "mimetype": "text/x-python",
   "name": "python",
   "nbconvert_exporter": "python",
   "pygments_lexer": "ipython3",
   "version": "3.7.6"
  },
  "toc": {
   "base_numbering": 1,
   "nav_menu": {},
   "number_sections": true,
   "sideBar": true,
   "skip_h1_title": false,
   "title_cell": "Table of Contents",
   "title_sidebar": "Contents",
   "toc_cell": false,
   "toc_position": {},
   "toc_section_display": true,
   "toc_window_display": false
  }
 },
 "nbformat": 4,
 "nbformat_minor": 2
}
