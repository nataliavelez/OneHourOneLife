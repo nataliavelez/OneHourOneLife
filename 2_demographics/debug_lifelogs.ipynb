{
 "cells": [
  {
   "cell_type": "markdown",
   "metadata": {},
   "source": [
    "# Find missing avatars\n",
    "Natalia Vélez, April 2021"
   ]
  },
  {
   "cell_type": "code",
   "execution_count": 2,
   "metadata": {},
   "outputs": [],
   "source": [
    "import pymongo\n",
    "import pandas as pd\n",
    "import numpy as np"
   ]
  },
  {
   "cell_type": "markdown",
   "metadata": {},
   "source": [
    "## Which avatars are on the database?"
   ]
  },
  {
   "cell_type": "markdown",
   "metadata": {},
   "source": [
    "Connect to database:"
   ]
  },
  {
   "cell_type": "code",
   "execution_count": 4,
   "metadata": {},
   "outputs": [
    {
     "name": "stdout",
     "output_type": "stream",
     "text": [
      "MongoClient(host=['134.76.24.75:27017'], document_class=dict, tz_aware=False, connect=True, authsource='ohol')\n",
      "['tfidf_matrix.files', 'maplogs', 'item_embeddings', 'tech_tree', 'lifelogs', 'objects', 'expanded_transitions', 'transitions', 'tfidf_matrix.chunks', 'avatar_embeddings', 'activity_matrix.files', 'activity_matrix.chunks', 'cleaned_job_matrix.chunks', 'cleaned_job_matrix.files', 'activity_labels', 'categories']\n"
     ]
    }
   ],
   "source": [
    "# Connect to database\n",
    "keyfile = '../6_database/credentials.key'\n",
    "creds = open(keyfile, \"r\").read().splitlines()\n",
    "myclient = pymongo.MongoClient('134.76.24.75', username=creds[0], password=creds[1], authSource='ohol') \n",
    "print(myclient)\n",
    "ohol = myclient.ohol\n",
    "print(ohol.list_collection_names())"
   ]
  },
  {
   "cell_type": "markdown",
   "metadata": {},
   "source": [
    "Get list of avatars from lifelogs:"
   ]
  },
  {
   "cell_type": "code",
   "execution_count": 23,
   "metadata": {},
   "outputs": [
    {
     "name": "stdout",
     "output_type": "stream",
     "text": [
      "Found 1830190 avatars in lifelogs\n",
      "3--4108849\n"
     ]
    }
   ],
   "source": [
    "life_avatars = ohol.lifelogs.find({}, {'avatar':1, '_id': 0})\n",
    "life_avatars = list(life_avatars)\n",
    "life_avatars = [v for entry in life_avatars for k,v in entry.items()]\n",
    "print('Found %i avatars in lifelogs' % len(life_avatars))\n",
    "print('%i--%i' %(min(life_avatars), max(life_avatars)))"
   ]
  },
  {
   "cell_type": "markdown",
   "metadata": {},
   "source": [
    "Get list of avatars from activity matrix:"
   ]
  },
  {
   "cell_type": "code",
   "execution_count": 24,
   "metadata": {},
   "outputs": [
    {
     "name": "stdout",
     "output_type": "stream",
     "text": [
      "Found 763682 avatars in activity matrix\n",
      "2--4107655\n"
     ]
    }
   ],
   "source": [
    "activity_avatars = ohol.activity_labels.find({}, {'avatars': 1, '_id': 0})\n",
    "activity_avatars = list(activity_avatars)\n",
    "activity_avatars = activity_avatars[0]['avatars']\n",
    "\n",
    "print('Found %i avatars in activity matrix' % len(activity_avatars))\n",
    "print('%i--%i' %(min(activity_avatars), max(activity_avatars)))"
   ]
  },
  {
   "cell_type": "markdown",
   "metadata": {},
   "source": [
    "Missing avatars:"
   ]
  },
  {
   "cell_type": "code",
   "execution_count": 25,
   "metadata": {},
   "outputs": [
    {
     "name": "stdout",
     "output_type": "stream",
     "text": [
      "Found 392869 avatars who are in the activity matrix, but not in the lifelogs\n",
      "2\n",
      "24\n",
      "2276907\n",
      "2276908\n",
      "2276910\n",
      "2276915\n",
      "2276916\n",
      "2276924\n",
      "2276933\n",
      "2276956\n",
      "...\n",
      "4107635\n",
      "4107636\n",
      "4107637\n",
      "4107638\n",
      "4107640\n",
      "4107642\n",
      "4107645\n",
      "4107647\n",
      "4107654\n",
      "4107655\n"
     ]
    }
   ],
   "source": [
    "missing_from_lifelogs = np.setdiff1d(activity_avatars, life_avatars)\n",
    "missing_from_lifelogs.sort()\n",
    "\n",
    "print('Found %i avatars who are in the activity matrix, but not in the lifelogs' % len(missing_from_lifelogs))\n",
    "print(*missing_from_lifelogs[:10], sep='\\n')\n",
    "print('...')\n",
    "print(*missing_from_lifelogs[-10:], sep='\\n')"
   ]
  },
  {
   "cell_type": "markdown",
   "metadata": {},
   "source": [
    "## Which avatars were in the original data?"
   ]
  },
  {
   "cell_type": "markdown",
   "metadata": {},
   "source": [
    "Load original lifelogs:"
   ]
  },
  {
   "cell_type": "code",
   "execution_count": 42,
   "metadata": {},
   "outputs": [
    {
     "name": "stderr",
     "output_type": "stream",
     "text": [
      "/n/home15/nvelezalicea/.conda/envs/ohol_py3/lib/python3.6/site-packages/numpy/lib/arraysetops.py:580: FutureWarning: elementwise comparison failed; returning scalar instead, but in the future will perform elementwise comparison\n",
      "  mask |= (ar1 == a)\n"
     ]
    },
    {
     "name": "stdout",
     "output_type": "stream",
     "text": [
      "2226610 avatars in original lifelogs\n",
      "247520 missing avatars were also missing in original lifelogs\n"
     ]
    }
   ],
   "source": [
    "original_lifelogs = pd.read_csv('outputs/all_lifelogs_compact.tsv', sep='\\t', index_col=0)\n",
    "original_avatars = original_lifelogs['avatar'].values\n",
    "missing_in_original = np.setdiff1d(missing_from_lifelogs, original_avatars)\n",
    "\n",
    "print('%i avatars in original lifelogs' % len(original_avatars))\n",
    "print('%i missing avatars were also missing in original lifelogs' % len(missing_in_original))"
   ]
  },
  {
   "cell_type": "code",
   "execution_count": 43,
   "metadata": {},
   "outputs": [
    {
     "data": {
      "text/plain": [
       "array([      2,      24, 2276907, ..., 4107647, 4107654, 4107655])"
      ]
     },
     "execution_count": 43,
     "metadata": {},
     "output_type": "execute_result"
    }
   ],
   "source": [
    "missing_in_original"
   ]
  },
  {
   "cell_type": "code",
   "execution_count": null,
   "metadata": {},
   "outputs": [],
   "source": [
    "len(missing_from)"
   ]
  },
  {
   "cell_type": "markdown",
   "metadata": {},
   "source": [
    "Load original families:"
   ]
  },
  {
   "cell_type": "code",
   "execution_count": 33,
   "metadata": {},
   "outputs": [
    {
     "name": "stdout",
     "output_type": "stream",
     "text": [
      "1830190 avatars assigned to families\n",
      "...including 0 of the missing avatars\n"
     ]
    },
    {
     "name": "stderr",
     "output_type": "stream",
     "text": [
      "/n/home15/nvelezalicea/.conda/envs/ohol_py3/lib/python3.6/site-packages/numpy/lib/arraysetops.py:580: FutureWarning: elementwise comparison failed; returning scalar instead, but in the future will perform elementwise comparison\n",
      "  mask |= (ar1 == a)\n"
     ]
    }
   ],
   "source": [
    "original_families = pd.read_csv('outputs/family_playerID.tsv', sep='\\t', index_col = 0)\n",
    "family_avatars = original_families.avatar.values\n",
    "missing_with_family = np.intersect1d(family_avatars, missing_after_upload)\n",
    "\n",
    "print('%i avatars assigned to families' % len(family_avatars))\n",
    "print('...including %i of the missing avatars' % len(missing_with_family))"
   ]
  },
  {
   "cell_type": "code",
   "execution_count": 35,
   "metadata": {},
   "outputs": [
    {
     "data": {
      "text/plain": [
       "array([4108806, 4108810, 4108813, 4108815, 4108830, 4108831, 4108833,\n",
       "       4108837, 4108842, 4108848])"
      ]
     },
     "execution_count": 35,
     "metadata": {},
     "output_type": "execute_result"
    }
   ],
   "source": [
    "missing_after_upload[-10:]"
   ]
  },
  {
   "cell_type": "code",
   "execution_count": 44,
   "metadata": {},
   "outputs": [
    {
     "data": {
      "text/html": [
       "<div>\n",
       "<style scoped>\n",
       "    .dataframe tbody tr th:only-of-type {\n",
       "        vertical-align: middle;\n",
       "    }\n",
       "\n",
       "    .dataframe tbody tr th {\n",
       "        vertical-align: top;\n",
       "    }\n",
       "\n",
       "    .dataframe thead th {\n",
       "        text-align: right;\n",
       "    }\n",
       "</style>\n",
       "<table border=\"1\" class=\"dataframe\">\n",
       "  <thead>\n",
       "    <tr style=\"text-align: right;\">\n",
       "      <th></th>\n",
       "      <th>player</th>\n",
       "      <th>avatar</th>\n",
       "      <th>tBirth</th>\n",
       "      <th>parent</th>\n",
       "      <th>birth</th>\n",
       "      <th>tDeath</th>\n",
       "      <th>death</th>\n",
       "      <th>age</th>\n",
       "      <th>cause_of_death</th>\n",
       "      <th>birthX</th>\n",
       "      <th>birthY</th>\n",
       "      <th>deathX</th>\n",
       "      <th>deathY</th>\n",
       "      <th>first</th>\n",
       "      <th>last</th>\n",
       "    </tr>\n",
       "  </thead>\n",
       "  <tbody>\n",
       "  </tbody>\n",
       "</table>\n",
       "</div>"
      ],
      "text/plain": [
       "Empty DataFrame\n",
       "Columns: [player, avatar, tBirth, parent, birth, tDeath, death, age, cause_of_death, birthX, birthY, deathX, deathY, first, last]\n",
       "Index: []"
      ]
     },
     "execution_count": 44,
     "metadata": {},
     "output_type": "execute_result"
    }
   ],
   "source": [
    "original_lifelogs[original_lifelogs.avatar == 4107655]"
   ]
  },
  {
   "cell_type": "code",
   "execution_count": null,
   "metadata": {},
   "outputs": [],
   "source": []
  }
 ],
 "metadata": {
  "kernelspec": {
   "display_name": "ohol",
   "language": "python",
   "name": "ohol"
  },
  "language_info": {
   "codemirror_mode": {
    "name": "ipython",
    "version": 3
   },
   "file_extension": ".py",
   "mimetype": "text/x-python",
   "name": "python",
   "nbconvert_exporter": "python",
   "pygments_lexer": "ipython3",
   "version": "3.6.10"
  }
 },
 "nbformat": 4,
 "nbformat_minor": 4
}
