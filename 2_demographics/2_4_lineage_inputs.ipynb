{
 "cells": [
  {
   "cell_type": "markdown",
   "metadata": {},
   "source": [
    "# Lineages\n",
    "Natalia Vélez, July 2020\n",
    "\n",
    "The goal of this notebook is to construct family graphs (directed graph from parent —> child) out of the lifelog data. These family trees will be used in several other analyses."
   ]
  },
  {
   "cell_type": "code",
   "execution_count": 1,
   "metadata": {
    "ExecuteTime": {
     "end_time": "2020-01-09T18:53:46.358191Z",
     "start_time": "2020-01-09T18:53:44.884317Z"
    }
   },
   "outputs": [],
   "source": [
    "%matplotlib inline\n",
    "\n",
    "import os, re, glob, json\n",
    "import pandas as pd\n",
    "import numpy as np\n",
    "\n",
    "import networkx as nx\n",
    "import matplotlib.pyplot as plt\n",
    "import seaborn as sns\n",
    "from networkx.drawing.nx_agraph import graphviz_layout\n",
    "\n",
    "from os.path import join as opj\n",
    "from tqdm import notebook\n",
    "from ast import literal_eval as make_tuple\n",
    "\n",
    "sns.set_context('talk')\n",
    "sns.set_style('white')\n",
    "\n",
    "# Helper function\n",
    "def gsearch(*args): return glob.glob(opj(*args)) # Search for fukes\n",
    "def clean_tuple(s):\n",
    "    try:\n",
    "        t = make_tuple(s)\n",
    "    except ValueError:\n",
    "        t = ()\n",
    "    return t"
   ]
  },
  {
   "cell_type": "markdown",
   "metadata": {},
   "source": [
    "Get data from all eras:"
   ]
  },
  {
   "cell_type": "code",
   "execution_count": 2,
   "metadata": {
    "ExecuteTime": {
     "end_time": "2020-01-09T18:53:48.757567Z",
     "start_time": "2020-01-09T18:53:48.167361Z"
    }
   },
   "outputs": [
    {
     "name": "stderr",
     "output_type": "stream",
     "text": [
      "/users/nvelezalicea/.conda/envs/py3/lib/python3.6/site-packages/numpy/lib/arraysetops.py:580: FutureWarning: elementwise comparison failed; returning scalar instead, but in the future will perform elementwise comparison\n",
      "  mask |= (ar1 == a)\n"
     ]
    },
    {
     "data": {
      "text/html": [
       "<div>\n",
       "<style scoped>\n",
       "    .dataframe tbody tr th:only-of-type {\n",
       "        vertical-align: middle;\n",
       "    }\n",
       "\n",
       "    .dataframe tbody tr th {\n",
       "        vertical-align: top;\n",
       "    }\n",
       "\n",
       "    .dataframe thead th {\n",
       "        text-align: right;\n",
       "    }\n",
       "</style>\n",
       "<table border=\"1\" class=\"dataframe\">\n",
       "  <thead>\n",
       "    <tr style=\"text-align: right;\">\n",
       "      <th></th>\n",
       "      <th>event</th>\n",
       "      <th>timestamp</th>\n",
       "      <th>avatar</th>\n",
       "      <th>player</th>\n",
       "      <th>age</th>\n",
       "      <th>sex</th>\n",
       "      <th>location</th>\n",
       "      <th>parent</th>\n",
       "      <th>cause_of_death</th>\n",
       "      <th>killer</th>\n",
       "    </tr>\n",
       "  </thead>\n",
       "  <tbody>\n",
       "    <tr>\n",
       "      <th>0</th>\n",
       "      <td>B</td>\n",
       "      <td>1573257612</td>\n",
       "      <td>2251779</td>\n",
       "      <td>9b90770e9c4144721a6abe58faa161ef6b555786</td>\n",
       "      <td>NaN</td>\n",
       "      <td>F</td>\n",
       "      <td>(-334, -521)</td>\n",
       "      <td>2251499</td>\n",
       "      <td>NaN</td>\n",
       "      <td>NaN</td>\n",
       "    </tr>\n",
       "    <tr>\n",
       "      <th>1</th>\n",
       "      <td>D</td>\n",
       "      <td>1573257621</td>\n",
       "      <td>2251778</td>\n",
       "      <td>c17d2f3663837c82e4f7669a40aa6f618e89e57a</td>\n",
       "      <td>0.54</td>\n",
       "      <td>F</td>\n",
       "      <td>(-361, -410)</td>\n",
       "      <td>NaN</td>\n",
       "      <td>hunger</td>\n",
       "      <td>NaN</td>\n",
       "    </tr>\n",
       "    <tr>\n",
       "      <th>2</th>\n",
       "      <td>B</td>\n",
       "      <td>1573257622</td>\n",
       "      <td>2251780</td>\n",
       "      <td>afb7da00e454ba6dac3cddbccfb8c14c5680ab1b</td>\n",
       "      <td>NaN</td>\n",
       "      <td>F</td>\n",
       "      <td>(-184, -916)</td>\n",
       "      <td>2251439</td>\n",
       "      <td>NaN</td>\n",
       "      <td>NaN</td>\n",
       "    </tr>\n",
       "    <tr>\n",
       "      <th>3</th>\n",
       "      <td>B</td>\n",
       "      <td>1573257623</td>\n",
       "      <td>2251781</td>\n",
       "      <td>abbebf5a1056fd091dff74135c014aa1081435d8</td>\n",
       "      <td>NaN</td>\n",
       "      <td>F</td>\n",
       "      <td>(-416, -524)</td>\n",
       "      <td>2251557</td>\n",
       "      <td>NaN</td>\n",
       "      <td>NaN</td>\n",
       "    </tr>\n",
       "    <tr>\n",
       "      <th>4</th>\n",
       "      <td>D</td>\n",
       "      <td>1573257624</td>\n",
       "      <td>2251740</td>\n",
       "      <td>bd6841eb13118ce2a0453e5802b91f7ec0c1e20e</td>\n",
       "      <td>3.72</td>\n",
       "      <td>F</td>\n",
       "      <td>(-238, -855)</td>\n",
       "      <td>NaN</td>\n",
       "      <td>hunger</td>\n",
       "      <td>NaN</td>\n",
       "    </tr>\n",
       "  </tbody>\n",
       "</table>\n",
       "</div>"
      ],
      "text/plain": [
       "  event   timestamp   avatar                                    player   age  \\\n",
       "0     B  1573257612  2251779  9b90770e9c4144721a6abe58faa161ef6b555786   NaN   \n",
       "1     D  1573257621  2251778  c17d2f3663837c82e4f7669a40aa6f618e89e57a  0.54   \n",
       "2     B  1573257622  2251780  afb7da00e454ba6dac3cddbccfb8c14c5680ab1b   NaN   \n",
       "3     B  1573257623  2251781  abbebf5a1056fd091dff74135c014aa1081435d8   NaN   \n",
       "4     D  1573257624  2251740  bd6841eb13118ce2a0453e5802b91f7ec0c1e20e  3.72   \n",
       "\n",
       "  sex      location   parent cause_of_death  killer  \n",
       "0   F  (-334, -521)  2251499            NaN     NaN  \n",
       "1   F  (-361, -410)      NaN         hunger     NaN  \n",
       "2   F  (-184, -916)  2251439            NaN     NaN  \n",
       "3   F  (-416, -524)  2251557            NaN     NaN  \n",
       "4   F  (-238, -855)      NaN         hunger     NaN  "
      ]
     },
     "execution_count": 2,
     "metadata": {},
     "output_type": "execute_result"
    }
   ],
   "source": [
    "era_files = glob.glob('outputs/lifelogs*_data.tsv')\n",
    "era_list = []\n",
    "\n",
    "for f in era_files:\n",
    "    era_data = pd.read_csv(f, sep='\\t', index_col=0)\n",
    "    era_list.append(era_data)\n",
    "    \n",
    "era_df = pd.concat(era_list)\n",
    "era_df = era_df.drop(columns=['server', 'release', 'era'])\n",
    "era_df.head()"
   ]
  },
  {
   "cell_type": "markdown",
   "metadata": {},
   "source": [
    "Find players' parents and time/location of birth:"
   ]
  },
  {
   "cell_type": "code",
   "execution_count": 3,
   "metadata": {},
   "outputs": [
    {
     "data": {
      "text/html": [
       "<div>\n",
       "<style scoped>\n",
       "    .dataframe tbody tr th:only-of-type {\n",
       "        vertical-align: middle;\n",
       "    }\n",
       "\n",
       "    .dataframe tbody tr th {\n",
       "        vertical-align: top;\n",
       "    }\n",
       "\n",
       "    .dataframe thead th {\n",
       "        text-align: right;\n",
       "    }\n",
       "</style>\n",
       "<table border=\"1\" class=\"dataframe\">\n",
       "  <thead>\n",
       "    <tr style=\"text-align: right;\">\n",
       "      <th></th>\n",
       "      <th>player</th>\n",
       "      <th>avatar</th>\n",
       "      <th>tBirth</th>\n",
       "      <th>parent</th>\n",
       "      <th>birth</th>\n",
       "    </tr>\n",
       "  </thead>\n",
       "  <tbody>\n",
       "    <tr>\n",
       "      <th>0</th>\n",
       "      <td>9b90770e9c4144721a6abe58faa161ef6b555786</td>\n",
       "      <td>2251779</td>\n",
       "      <td>1573257612</td>\n",
       "      <td>2251499</td>\n",
       "      <td>(-334, -521)</td>\n",
       "    </tr>\n",
       "    <tr>\n",
       "      <th>2</th>\n",
       "      <td>afb7da00e454ba6dac3cddbccfb8c14c5680ab1b</td>\n",
       "      <td>2251780</td>\n",
       "      <td>1573257622</td>\n",
       "      <td>2251439</td>\n",
       "      <td>(-184, -916)</td>\n",
       "    </tr>\n",
       "    <tr>\n",
       "      <th>3</th>\n",
       "      <td>abbebf5a1056fd091dff74135c014aa1081435d8</td>\n",
       "      <td>2251781</td>\n",
       "      <td>1573257623</td>\n",
       "      <td>2251557</td>\n",
       "      <td>(-416, -524)</td>\n",
       "    </tr>\n",
       "    <tr>\n",
       "      <th>7</th>\n",
       "      <td>bd6841eb13118ce2a0453e5802b91f7ec0c1e20e</td>\n",
       "      <td>2251782</td>\n",
       "      <td>1573257629</td>\n",
       "      <td>2251463</td>\n",
       "      <td>(-156, -855)</td>\n",
       "    </tr>\n",
       "    <tr>\n",
       "      <th>9</th>\n",
       "      <td>40a960756347fa0a7c3d14791bd0379c6cc754cf</td>\n",
       "      <td>2251783</td>\n",
       "      <td>1573257634</td>\n",
       "      <td>2251595</td>\n",
       "      <td>(-155, -962)</td>\n",
       "    </tr>\n",
       "  </tbody>\n",
       "</table>\n",
       "</div>"
      ],
      "text/plain": [
       "                                     player   avatar      tBirth   parent  \\\n",
       "0  9b90770e9c4144721a6abe58faa161ef6b555786  2251779  1573257612  2251499   \n",
       "2  afb7da00e454ba6dac3cddbccfb8c14c5680ab1b  2251780  1573257622  2251439   \n",
       "3  abbebf5a1056fd091dff74135c014aa1081435d8  2251781  1573257623  2251557   \n",
       "7  bd6841eb13118ce2a0453e5802b91f7ec0c1e20e  2251782  1573257629  2251463   \n",
       "9  40a960756347fa0a7c3d14791bd0379c6cc754cf  2251783  1573257634  2251595   \n",
       "\n",
       "          birth  \n",
       "0  (-334, -521)  \n",
       "2  (-184, -916)  \n",
       "3  (-416, -524)  \n",
       "7  (-156, -855)  \n",
       "9  (-155, -962)  "
      ]
     },
     "execution_count": 3,
     "metadata": {},
     "output_type": "execute_result"
    }
   ],
   "source": [
    "idx_vars = ['player', 'avatar']\n",
    "births = era_df[era_df['event'] == 'B'].copy()\n",
    "births = births[idx_vars + ['timestamp', 'parent', 'location']]\n",
    "births = births.rename({'location': 'birth', 'timestamp': 'tBirth'}, axis='columns')\n",
    "births.head()"
   ]
  },
  {
   "cell_type": "markdown",
   "metadata": {},
   "source": [
    "Find time and circumstances of death:"
   ]
  },
  {
   "cell_type": "code",
   "execution_count": 4,
   "metadata": {},
   "outputs": [
    {
     "data": {
      "text/html": [
       "<div>\n",
       "<style scoped>\n",
       "    .dataframe tbody tr th:only-of-type {\n",
       "        vertical-align: middle;\n",
       "    }\n",
       "\n",
       "    .dataframe tbody tr th {\n",
       "        vertical-align: top;\n",
       "    }\n",
       "\n",
       "    .dataframe thead th {\n",
       "        text-align: right;\n",
       "    }\n",
       "</style>\n",
       "<table border=\"1\" class=\"dataframe\">\n",
       "  <thead>\n",
       "    <tr style=\"text-align: right;\">\n",
       "      <th></th>\n",
       "      <th>player</th>\n",
       "      <th>avatar</th>\n",
       "      <th>tDeath</th>\n",
       "      <th>death</th>\n",
       "      <th>age</th>\n",
       "      <th>cause_of_death</th>\n",
       "    </tr>\n",
       "  </thead>\n",
       "  <tbody>\n",
       "    <tr>\n",
       "      <th>1</th>\n",
       "      <td>c17d2f3663837c82e4f7669a40aa6f618e89e57a</td>\n",
       "      <td>2251778</td>\n",
       "      <td>1573257621</td>\n",
       "      <td>(-361, -410)</td>\n",
       "      <td>0.54</td>\n",
       "      <td>hunger</td>\n",
       "    </tr>\n",
       "    <tr>\n",
       "      <th>4</th>\n",
       "      <td>bd6841eb13118ce2a0453e5802b91f7ec0c1e20e</td>\n",
       "      <td>2251740</td>\n",
       "      <td>1573257624</td>\n",
       "      <td>(-238, -855)</td>\n",
       "      <td>3.72</td>\n",
       "      <td>hunger</td>\n",
       "    </tr>\n",
       "    <tr>\n",
       "      <th>5</th>\n",
       "      <td>7e058600565826811059c93c9ce403d7b6c4533b</td>\n",
       "      <td>2251577</td>\n",
       "      <td>1573257625</td>\n",
       "      <td>(-201, -903)</td>\n",
       "      <td>21.72</td>\n",
       "      <td>hunger</td>\n",
       "    </tr>\n",
       "    <tr>\n",
       "      <th>6</th>\n",
       "      <td>40a960756347fa0a7c3d14791bd0379c6cc754cf</td>\n",
       "      <td>2251776</td>\n",
       "      <td>1573257626</td>\n",
       "      <td>(-765, -581)</td>\n",
       "      <td>0.69</td>\n",
       "      <td>hunger</td>\n",
       "    </tr>\n",
       "    <tr>\n",
       "      <th>8</th>\n",
       "      <td>ac7e03fde959b54812abf9798cc25cf55b3d6baa</td>\n",
       "      <td>2251722</td>\n",
       "      <td>1573257632</td>\n",
       "      <td>(-323, -508)</td>\n",
       "      <td>5.90</td>\n",
       "      <td>hunger</td>\n",
       "    </tr>\n",
       "  </tbody>\n",
       "</table>\n",
       "</div>"
      ],
      "text/plain": [
       "                                     player   avatar      tDeath  \\\n",
       "1  c17d2f3663837c82e4f7669a40aa6f618e89e57a  2251778  1573257621   \n",
       "4  bd6841eb13118ce2a0453e5802b91f7ec0c1e20e  2251740  1573257624   \n",
       "5  7e058600565826811059c93c9ce403d7b6c4533b  2251577  1573257625   \n",
       "6  40a960756347fa0a7c3d14791bd0379c6cc754cf  2251776  1573257626   \n",
       "8  ac7e03fde959b54812abf9798cc25cf55b3d6baa  2251722  1573257632   \n",
       "\n",
       "          death    age cause_of_death  \n",
       "1  (-361, -410)   0.54         hunger  \n",
       "4  (-238, -855)   3.72         hunger  \n",
       "5  (-201, -903)  21.72         hunger  \n",
       "6  (-765, -581)   0.69         hunger  \n",
       "8  (-323, -508)   5.90         hunger  "
      ]
     },
     "execution_count": 4,
     "metadata": {},
     "output_type": "execute_result"
    }
   ],
   "source": [
    "deaths =  era_df[era_df['event'] == 'D'].copy()\n",
    "deaths = deaths[idx_vars + ['timestamp', 'location', 'age', 'cause_of_death']]\n",
    "deaths = deaths.rename({'location': 'death', 'timestamp': 'tDeath'}, axis='columns')\n",
    "\n",
    "deaths.head()"
   ]
  },
  {
   "cell_type": "markdown",
   "metadata": {},
   "source": [
    "## Merge births and deaths"
   ]
  },
  {
   "cell_type": "markdown",
   "metadata": {},
   "source": [
    "**DEBUG:** Unique avatar IDs in births and deaths"
   ]
  },
  {
   "cell_type": "code",
   "execution_count": 5,
   "metadata": {},
   "outputs": [
    {
     "name": "stdout",
     "output_type": "stream",
     "text": [
      "3159745 unique avatars\n",
      "3153464 in both\n",
      "6281 not in deaths: [ 221 2850 2851 2852 2937]...\n",
      "0 not in births: []...\n"
     ]
    }
   ],
   "source": [
    "# Get unique avatars in each DF\n",
    "unique_births = np.unique(births['avatar'])\n",
    "unique_deaths = np.unique(deaths['avatar'])\n",
    "\n",
    "# How many total unique avatars?\n",
    "unique_avatars = np.concatenate((unique_births, unique_deaths))\n",
    "unique_avatars = np.unique(unique_avatars)\n",
    "\n",
    "# Which avatars are in deaths but not births, and vice versa?\n",
    "not_in_deaths = np.setdiff1d(unique_births, unique_deaths)\n",
    "not_in_births = np.setdiff1d(unique_deaths, unique_births)\n",
    "\n",
    "print('%i unique avatars' % len(unique_avatars))\n",
    "print('%i in both' % len(np.intersect1d(unique_births, unique_deaths)))\n",
    "print('%i not in deaths: %s...' % (len(not_in_deaths), not_in_deaths[:5],))\n",
    "print('%i not in births: %s...' % (len(not_in_births), not_in_births[:5],))"
   ]
  },
  {
   "cell_type": "markdown",
   "metadata": {},
   "source": [
    "Merge & clean up:"
   ]
  },
  {
   "cell_type": "code",
   "execution_count": 6,
   "metadata": {},
   "outputs": [
    {
     "name": "stdout",
     "output_type": "stream",
     "text": [
      "Births: (3159745, 5)\n",
      "Deaths: (3153464, 6)\n",
      "Merged dataframe: (3159745, 9)\n",
      "Birth/death locations...\n",
      "Splitting into x/y coords...\n",
      "Parsing player IDs...\n",
      "Parsing parents...\n",
      "Cleaning up...\n"
     ]
    }
   ],
   "source": [
    "print('Births: %s' % (births.shape,))\n",
    "print('Deaths: %s' % (deaths.shape,))\n",
    "\n",
    "life_df = pd.merge(births, deaths, on=idx_vars, how='outer')\n",
    "print('Merged dataframe: %s' % (life_df.shape,))\n",
    "\n",
    "# Turn birth/death locations to tuples\n",
    "print('Birth/death locations...')\n",
    "life_df['birth'] = life_df['birth'].apply(clean_tuple).apply(np.array)\n",
    "life_df['death'] = life_df['death'].apply(clean_tuple).apply(np.array)\n",
    "\n",
    "# Split coordinates\n",
    "print('Splitting into x/y coords...')\n",
    "life_df[['birthX', 'birthY']] = pd.DataFrame(life_df['birth'].tolist(),\n",
    "                                              index=life_df.index)   \n",
    "life_df[['deathX', 'deathY']] = pd.DataFrame(life_df['death'].tolist(),\n",
    "                                              index=life_df.index)\n",
    "\n",
    "# Parse player IDs\n",
    "print('Parsing player IDs...')\n",
    "life_df['avatar'] = life_df['avatar'].astype(np.int)\n",
    "\n",
    "# Parse parent IDs\n",
    "print('Parsing parents...')\n",
    "#life_df['parent'] = life_df['parent'].str.extract('(noParent|(?<=parent=)[0-9]+)')\n",
    "life_df['parent'] = life_df['parent'].str.replace('noParent', '-1')\n",
    "life_df['parent'] = life_df['parent'].astype(np.int)\n",
    "\n",
    "# Order from most recent\n",
    "print('Cleaning up...')\n",
    "life_df = life_df.sort_values('tBirth', ascending=False)\n",
    "life_df = life_df.reset_index(drop=True)"
   ]
  },
  {
   "cell_type": "code",
   "execution_count": 7,
   "metadata": {},
   "outputs": [
    {
     "name": "stdout",
     "output_type": "stream",
     "text": [
      "(3159745, 13)\n"
     ]
    },
    {
     "data": {
      "text/html": [
       "<div>\n",
       "<style scoped>\n",
       "    .dataframe tbody tr th:only-of-type {\n",
       "        vertical-align: middle;\n",
       "    }\n",
       "\n",
       "    .dataframe tbody tr th {\n",
       "        vertical-align: top;\n",
       "    }\n",
       "\n",
       "    .dataframe thead th {\n",
       "        text-align: right;\n",
       "    }\n",
       "</style>\n",
       "<table border=\"1\" class=\"dataframe\">\n",
       "  <thead>\n",
       "    <tr style=\"text-align: right;\">\n",
       "      <th></th>\n",
       "      <th>player</th>\n",
       "      <th>avatar</th>\n",
       "      <th>tBirth</th>\n",
       "      <th>parent</th>\n",
       "      <th>birth</th>\n",
       "      <th>tDeath</th>\n",
       "      <th>death</th>\n",
       "      <th>age</th>\n",
       "      <th>cause_of_death</th>\n",
       "      <th>birthX</th>\n",
       "      <th>birthY</th>\n",
       "      <th>deathX</th>\n",
       "      <th>deathY</th>\n",
       "    </tr>\n",
       "  </thead>\n",
       "  <tbody>\n",
       "    <tr>\n",
       "      <th>3159740</th>\n",
       "      <td>ae87cea72e02d701fbb807b56113e3f7a3d20b83</td>\n",
       "      <td>6</td>\n",
       "      <td>1548814231</td>\n",
       "      <td>5</td>\n",
       "      <td>[1366, -395]</td>\n",
       "      <td>1.548815e+09</td>\n",
       "      <td>[1438, -435]</td>\n",
       "      <td>6.46</td>\n",
       "      <td>hunger</td>\n",
       "      <td>1366</td>\n",
       "      <td>-395</td>\n",
       "      <td>1438.0</td>\n",
       "      <td>-435.0</td>\n",
       "    </tr>\n",
       "    <tr>\n",
       "      <th>3159741</th>\n",
       "      <td>77a67da50b453a570d1e3311a56cd9da89187cd2</td>\n",
       "      <td>5</td>\n",
       "      <td>1548814227</td>\n",
       "      <td>-1</td>\n",
       "      <td>[1366, -395]</td>\n",
       "      <td>1.548816e+09</td>\n",
       "      <td>[1388, -435]</td>\n",
       "      <td>39.76</td>\n",
       "      <td>murdered</td>\n",
       "      <td>1366</td>\n",
       "      <td>-395</td>\n",
       "      <td>1388.0</td>\n",
       "      <td>-435.0</td>\n",
       "    </tr>\n",
       "    <tr>\n",
       "      <th>3159742</th>\n",
       "      <td>0c1781b6944db9e58b5d71adfe64af09fedad796</td>\n",
       "      <td>4</td>\n",
       "      <td>1548814226</td>\n",
       "      <td>3</td>\n",
       "      <td>[1453, -436]</td>\n",
       "      <td>1.548816e+09</td>\n",
       "      <td>[1390, -436]</td>\n",
       "      <td>26.40</td>\n",
       "      <td>murdered</td>\n",
       "      <td>1453</td>\n",
       "      <td>-436</td>\n",
       "      <td>1390.0</td>\n",
       "      <td>-436.0</td>\n",
       "    </tr>\n",
       "    <tr>\n",
       "      <th>3159743</th>\n",
       "      <td>ba474919bfbe67b14ec6e6fd05c19f383152b1b2</td>\n",
       "      <td>3</td>\n",
       "      <td>1548814222</td>\n",
       "      <td>-1</td>\n",
       "      <td>[1453, -436]</td>\n",
       "      <td>1.548815e+09</td>\n",
       "      <td>[1442, -419]</td>\n",
       "      <td>21.21</td>\n",
       "      <td>hunger</td>\n",
       "      <td>1453</td>\n",
       "      <td>-436</td>\n",
       "      <td>1442.0</td>\n",
       "      <td>-419.0</td>\n",
       "    </tr>\n",
       "    <tr>\n",
       "      <th>3159744</th>\n",
       "      <td>a51edcb77a3900d53adc61d394876c5ca7417486</td>\n",
       "      <td>2</td>\n",
       "      <td>1548804597</td>\n",
       "      <td>-1</td>\n",
       "      <td>[50, -7]</td>\n",
       "      <td>1.548807e+09</td>\n",
       "      <td>[64, -8]</td>\n",
       "      <td>57.49</td>\n",
       "      <td>hunger</td>\n",
       "      <td>50</td>\n",
       "      <td>-7</td>\n",
       "      <td>64.0</td>\n",
       "      <td>-8.0</td>\n",
       "    </tr>\n",
       "  </tbody>\n",
       "</table>\n",
       "</div>"
      ],
      "text/plain": [
       "                                           player  avatar      tBirth  parent  \\\n",
       "3159740  ae87cea72e02d701fbb807b56113e3f7a3d20b83       6  1548814231       5   \n",
       "3159741  77a67da50b453a570d1e3311a56cd9da89187cd2       5  1548814227      -1   \n",
       "3159742  0c1781b6944db9e58b5d71adfe64af09fedad796       4  1548814226       3   \n",
       "3159743  ba474919bfbe67b14ec6e6fd05c19f383152b1b2       3  1548814222      -1   \n",
       "3159744  a51edcb77a3900d53adc61d394876c5ca7417486       2  1548804597      -1   \n",
       "\n",
       "                birth        tDeath         death    age cause_of_death  \\\n",
       "3159740  [1366, -395]  1.548815e+09  [1438, -435]   6.46         hunger   \n",
       "3159741  [1366, -395]  1.548816e+09  [1388, -435]  39.76       murdered   \n",
       "3159742  [1453, -436]  1.548816e+09  [1390, -436]  26.40       murdered   \n",
       "3159743  [1453, -436]  1.548815e+09  [1442, -419]  21.21         hunger   \n",
       "3159744      [50, -7]  1.548807e+09      [64, -8]  57.49         hunger   \n",
       "\n",
       "         birthX  birthY  deathX  deathY  \n",
       "3159740    1366    -395  1438.0  -435.0  \n",
       "3159741    1366    -395  1388.0  -435.0  \n",
       "3159742    1453    -436  1390.0  -436.0  \n",
       "3159743    1453    -436  1442.0  -419.0  \n",
       "3159744      50      -7    64.0    -8.0  "
      ]
     },
     "execution_count": 7,
     "metadata": {},
     "output_type": "execute_result"
    }
   ],
   "source": [
    "print(life_df.shape)\n",
    "life_df.tail()"
   ]
  },
  {
   "cell_type": "markdown",
   "metadata": {},
   "source": [
    "## Parse names"
   ]
  },
  {
   "cell_type": "markdown",
   "metadata": {},
   "source": [
    "Helper function: Remove from data...\n",
    "\n",
    "* Roman numerals (including some nonsense ones at high-gen numbers)\n",
    "* Kin labels? (e.g., SHINA1580640)"
   ]
  },
  {
   "cell_type": "code",
   "execution_count": 8,
   "metadata": {},
   "outputs": [],
   "source": [
    "def is_roman(s):\n",
    "    # Checks if string is a \"valid\" Roman numeral\n",
    "    # Note this includes some *cough*idiosyncratic*cough* numerals in the OHOL dataset:\n",
    "    # e.g., CLXLIII => True (but actually nonsense)\n",
    "    roman_regex  = 'M{0,4}(CM|CD|D?C{0,3})(LXL|XC|XL|L?X{0,3})(IX|IV|V?I{0,3})'\n",
    "    roman_match = re.match(roman_regex, s)\n",
    "    \n",
    "    str_length = len(s)\n",
    "    match_length = roman_match.span()[1]\n",
    "    \n",
    "    return str_length == match_length\n",
    "\n",
    "def is_kin(s, idx):\n",
    "    kin_regex = '[A-Z]{0,}[0-9]+'\n",
    "    kin_match = re.search(kin_regex, s)\n",
    "    return bool(kin_match) & (idx > 0)\n",
    "\n",
    "def is_valid(s, idx):\n",
    "    \n",
    "    not_roman = not is_roman(s)\n",
    "    not_kin = not is_kin(s, idx)\n",
    "    \n",
    "    return not_roman & not_kin"
   ]
  },
  {
   "cell_type": "markdown",
   "metadata": {},
   "source": [
    "Find name files:"
   ]
  },
  {
   "cell_type": "code",
   "execution_count": 9,
   "metadata": {},
   "outputs": [
    {
     "name": "stdout",
     "output_type": "stream",
     "text": [
      "2019_01January_29_Tuesday_names.txt\n",
      "2019_01January_30_Wednesday_names.txt\n",
      "2019_01January_31_Thursday_names.txt\n",
      "2019_02February_01_Friday_names.txt\n",
      "2019_02February_02_Saturday_names.txt\n"
     ]
    }
   ],
   "source": [
    "data_dir = '../../data'\n",
    "name_files = glob.glob(opj(data_dir, 'publicLifeLogData', 'lifeLog_bigserver2*', '*names.txt'))\n",
    "name_files.sort()\n",
    "print(*[os.path.basename(f) for f in name_files[:5]], sep='\\n')"
   ]
  },
  {
   "cell_type": "markdown",
   "metadata": {},
   "source": [
    "Iterate over name files and extract names:"
   ]
  },
  {
   "cell_type": "code",
   "execution_count": 10,
   "metadata": {},
   "outputs": [
    {
     "data": {
      "application/vnd.jupyter.widget-view+json": {
       "model_id": "a7f8539253ec445188e458e2d04c51d0",
       "version_major": 2,
       "version_minor": 0
      },
      "text/plain": [
       "HBox(children=(FloatProgress(value=0.0, max=588.0), HTML(value='')))"
      ]
     },
     "metadata": {},
     "output_type": "display_data"
    },
    {
     "name": "stdout",
     "output_type": "stream",
     "text": [
      "Corrected: ['386865', 'MOON', 'ROA']\n",
      "Corrected: ['388702', 'MARTHA', 'LIGHT']\n",
      "Corrected: ['1240637', 'ALEX', 'CHAN']\n",
      "Corrected: ['1577563', 'KNIGHT', 'FIERRO']\n",
      "Corrected: ['1579101', 'LARIAH', 'HANNAM']\n",
      "Corrected: ['1579766', 'JACKIE', 'WISCOMBE']\n",
      "Corrected: ['1580507', 'BENJAMIN', 'GIOVANNI']\n",
      "\n"
     ]
    }
   ],
   "source": [
    "name_list = []\n",
    "re.compile(\"^([A-Z][0-9]+)+$\")\n",
    "\n",
    "for f in notebook.tqdm(name_files):\n",
    "    with open(f, 'r') as handle:\n",
    "        data_str = handle.read().splitlines()\n",
    "\n",
    "    data = []\n",
    "    for s in data_str:\n",
    "        row_data = s.split() # Split lines\n",
    "        row_data = [si for idx, si in enumerate(row_data) if is_valid(si, idx)]\n",
    "        \n",
    "        if len(row_data) > 3:\n",
    "            row_data.remove('EVE')\n",
    "            print('Corrected: %s' % row_data)\n",
    "\n",
    "        while len(row_data) < 3: \n",
    "            row_data.append('')\n",
    "\n",
    "        name_list.append(row_data)"
   ]
  },
  {
   "cell_type": "markdown",
   "metadata": {},
   "source": [
    "Assemble into dataframe:"
   ]
  },
  {
   "cell_type": "code",
   "execution_count": 11,
   "metadata": {},
   "outputs": [
    {
     "data": {
      "text/html": [
       "<div>\n",
       "<style scoped>\n",
       "    .dataframe tbody tr th:only-of-type {\n",
       "        vertical-align: middle;\n",
       "    }\n",
       "\n",
       "    .dataframe tbody tr th {\n",
       "        vertical-align: top;\n",
       "    }\n",
       "\n",
       "    .dataframe thead th {\n",
       "        text-align: right;\n",
       "    }\n",
       "</style>\n",
       "<table border=\"1\" class=\"dataframe\">\n",
       "  <thead>\n",
       "    <tr style=\"text-align: right;\">\n",
       "      <th></th>\n",
       "      <th>avatar</th>\n",
       "      <th>first</th>\n",
       "      <th>last</th>\n",
       "    </tr>\n",
       "  </thead>\n",
       "  <tbody>\n",
       "    <tr>\n",
       "      <th>0</th>\n",
       "      <td>5</td>\n",
       "      <td>EVE</td>\n",
       "      <td>ARK</td>\n",
       "    </tr>\n",
       "    <tr>\n",
       "      <th>1</th>\n",
       "      <td>4</td>\n",
       "      <td>SLY</td>\n",
       "      <td></td>\n",
       "    </tr>\n",
       "    <tr>\n",
       "      <th>2</th>\n",
       "      <td>6</td>\n",
       "      <td>FOX</td>\n",
       "      <td>ARK</td>\n",
       "    </tr>\n",
       "    <tr>\n",
       "      <th>3</th>\n",
       "      <td>9</td>\n",
       "      <td>EVE</td>\n",
       "      <td>ISA</td>\n",
       "    </tr>\n",
       "    <tr>\n",
       "      <th>4</th>\n",
       "      <td>10</td>\n",
       "      <td>TESIA</td>\n",
       "      <td>ISA</td>\n",
       "    </tr>\n",
       "  </tbody>\n",
       "</table>\n",
       "</div>"
      ],
      "text/plain": [
       "   avatar  first last\n",
       "0       5    EVE  ARK\n",
       "1       4    SLY     \n",
       "2       6    FOX  ARK\n",
       "3       9    EVE  ISA\n",
       "4      10  TESIA  ISA"
      ]
     },
     "execution_count": 11,
     "metadata": {},
     "output_type": "execute_result"
    }
   ],
   "source": [
    "name_df = pd.DataFrame(name_list, columns=['avatar', 'first', 'last'])\n",
    "name_df['avatar'] = name_df['avatar'].astype(np.int)\n",
    "name_df.head()"
   ]
  },
  {
   "cell_type": "markdown",
   "metadata": {},
   "source": [
    "Merge with `life_df`:"
   ]
  },
  {
   "cell_type": "code",
   "execution_count": 12,
   "metadata": {},
   "outputs": [
    {
     "data": {
      "text/html": [
       "<div>\n",
       "<style scoped>\n",
       "    .dataframe tbody tr th:only-of-type {\n",
       "        vertical-align: middle;\n",
       "    }\n",
       "\n",
       "    .dataframe tbody tr th {\n",
       "        vertical-align: top;\n",
       "    }\n",
       "\n",
       "    .dataframe thead th {\n",
       "        text-align: right;\n",
       "    }\n",
       "</style>\n",
       "<table border=\"1\" class=\"dataframe\">\n",
       "  <thead>\n",
       "    <tr style=\"text-align: right;\">\n",
       "      <th></th>\n",
       "      <th>player</th>\n",
       "      <th>avatar</th>\n",
       "      <th>tBirth</th>\n",
       "      <th>parent</th>\n",
       "      <th>birth</th>\n",
       "      <th>tDeath</th>\n",
       "      <th>death</th>\n",
       "      <th>age</th>\n",
       "      <th>cause_of_death</th>\n",
       "      <th>birthX</th>\n",
       "      <th>birthY</th>\n",
       "      <th>deathX</th>\n",
       "      <th>deathY</th>\n",
       "      <th>first</th>\n",
       "      <th>last</th>\n",
       "    </tr>\n",
       "  </thead>\n",
       "  <tbody>\n",
       "    <tr>\n",
       "      <th>0</th>\n",
       "      <td>06d8ab86b0daf11b13a446b87f770aa20bee1ca0</td>\n",
       "      <td>3308603</td>\n",
       "      <td>1599462917</td>\n",
       "      <td>3308581</td>\n",
       "      <td>[-63752, -504]</td>\n",
       "      <td>NaN</td>\n",
       "      <td>[]</td>\n",
       "      <td>NaN</td>\n",
       "      <td>NaN</td>\n",
       "      <td>-63752</td>\n",
       "      <td>-504</td>\n",
       "      <td>NaN</td>\n",
       "      <td>NaN</td>\n",
       "      <td>SUPERIOR</td>\n",
       "      <td>MATSU</td>\n",
       "    </tr>\n",
       "    <tr>\n",
       "      <th>1</th>\n",
       "      <td>67bffa53500e2c626edc407409b6550996b748db</td>\n",
       "      <td>3308602</td>\n",
       "      <td>1599462864</td>\n",
       "      <td>3308575</td>\n",
       "      <td>[-63753, -507]</td>\n",
       "      <td>NaN</td>\n",
       "      <td>[]</td>\n",
       "      <td>NaN</td>\n",
       "      <td>NaN</td>\n",
       "      <td>-63753</td>\n",
       "      <td>-507</td>\n",
       "      <td>NaN</td>\n",
       "      <td>NaN</td>\n",
       "      <td>FEATHER</td>\n",
       "      <td>MATSU</td>\n",
       "    </tr>\n",
       "    <tr>\n",
       "      <th>2</th>\n",
       "      <td>fbc0168048713cfaf6ef6a350c0171e7b2b0af4a</td>\n",
       "      <td>3308601</td>\n",
       "      <td>1599462805</td>\n",
       "      <td>3308564</td>\n",
       "      <td>[-63762, -523]</td>\n",
       "      <td>NaN</td>\n",
       "      <td>[]</td>\n",
       "      <td>NaN</td>\n",
       "      <td>NaN</td>\n",
       "      <td>-63762</td>\n",
       "      <td>-523</td>\n",
       "      <td>NaN</td>\n",
       "      <td>NaN</td>\n",
       "      <td>SASHA</td>\n",
       "      <td>MATSU</td>\n",
       "    </tr>\n",
       "    <tr>\n",
       "      <th>3</th>\n",
       "      <td>5d5050247e485d0224df4e392118c27b8ee3a88b</td>\n",
       "      <td>3308598</td>\n",
       "      <td>1599462667</td>\n",
       "      <td>3308575</td>\n",
       "      <td>[-63747, -498]</td>\n",
       "      <td>NaN</td>\n",
       "      <td>[]</td>\n",
       "      <td>NaN</td>\n",
       "      <td>NaN</td>\n",
       "      <td>-63747</td>\n",
       "      <td>-498</td>\n",
       "      <td>NaN</td>\n",
       "      <td>NaN</td>\n",
       "      <td>DRAGON</td>\n",
       "      <td>MATSU</td>\n",
       "    </tr>\n",
       "    <tr>\n",
       "      <th>4</th>\n",
       "      <td>310d12780dbb316a3b50f83adbf9ce76973172bb</td>\n",
       "      <td>3308597</td>\n",
       "      <td>1599462620</td>\n",
       "      <td>3308571</td>\n",
       "      <td>[-63756, -508]</td>\n",
       "      <td>1.599464e+09</td>\n",
       "      <td>[-63841, -520]</td>\n",
       "      <td>28.89</td>\n",
       "      <td>hunger</td>\n",
       "      <td>-63756</td>\n",
       "      <td>-508</td>\n",
       "      <td>-63841.0</td>\n",
       "      <td>-520.0</td>\n",
       "      <td>MODOU</td>\n",
       "      <td>MATSU</td>\n",
       "    </tr>\n",
       "  </tbody>\n",
       "</table>\n",
       "</div>"
      ],
      "text/plain": [
       "                                     player   avatar      tBirth   parent  \\\n",
       "0  06d8ab86b0daf11b13a446b87f770aa20bee1ca0  3308603  1599462917  3308581   \n",
       "1  67bffa53500e2c626edc407409b6550996b748db  3308602  1599462864  3308575   \n",
       "2  fbc0168048713cfaf6ef6a350c0171e7b2b0af4a  3308601  1599462805  3308564   \n",
       "3  5d5050247e485d0224df4e392118c27b8ee3a88b  3308598  1599462667  3308575   \n",
       "4  310d12780dbb316a3b50f83adbf9ce76973172bb  3308597  1599462620  3308571   \n",
       "\n",
       "            birth        tDeath           death    age cause_of_death  birthX  \\\n",
       "0  [-63752, -504]           NaN              []    NaN            NaN  -63752   \n",
       "1  [-63753, -507]           NaN              []    NaN            NaN  -63753   \n",
       "2  [-63762, -523]           NaN              []    NaN            NaN  -63762   \n",
       "3  [-63747, -498]           NaN              []    NaN            NaN  -63747   \n",
       "4  [-63756, -508]  1.599464e+09  [-63841, -520]  28.89         hunger  -63756   \n",
       "\n",
       "   birthY   deathX  deathY     first   last  \n",
       "0    -504      NaN     NaN  SUPERIOR  MATSU  \n",
       "1    -507      NaN     NaN   FEATHER  MATSU  \n",
       "2    -523      NaN     NaN     SASHA  MATSU  \n",
       "3    -498      NaN     NaN    DRAGON  MATSU  \n",
       "4    -508 -63841.0  -520.0     MODOU  MATSU  "
      ]
     },
     "execution_count": 12,
     "metadata": {},
     "output_type": "execute_result"
    }
   ],
   "source": [
    "life_df = pd.merge(life_df, name_df, on='avatar')\n",
    "life_df.head()"
   ]
  },
  {
   "cell_type": "markdown",
   "metadata": {},
   "source": [
    "Save `life_df` to file:"
   ]
  },
  {
   "cell_type": "code",
   "execution_count": 13,
   "metadata": {},
   "outputs": [],
   "source": [
    "life_df.to_csv('outputs/all_lifelogs_compact.tsv', sep='\\t')"
   ]
  },
  {
   "cell_type": "markdown",
   "metadata": {},
   "source": [
    "## Sanity check: How many lineages can we expect?"
   ]
  },
  {
   "cell_type": "markdown",
   "metadata": {},
   "source": [
    "Spot eves:"
   ]
  },
  {
   "cell_type": "code",
   "execution_count": 15,
   "metadata": {},
   "outputs": [
    {
     "name": "stdout",
     "output_type": "stream",
     "text": [
      "0    3308568\n",
      "1    3308504\n",
      "2    3308427\n",
      "3    3308401\n",
      "4    3308371\n",
      "5    3308305\n",
      "6    3308247\n",
      "7    3308186\n",
      "8    3308179\n",
      "9    3308177\n",
      "Name: avatar, dtype: int64\n"
     ]
    }
   ],
   "source": [
    "eves = life_df[life_df['parent'] < 0].reset_index()\n",
    "eves.to_csv('outputs/lineage_input_eves.csv', index=False)\n",
    "print(eves['avatar'][:10])"
   ]
  },
  {
   "cell_type": "markdown",
   "metadata": {},
   "source": [
    "How many eves?"
   ]
  },
  {
   "cell_type": "code",
   "execution_count": 16,
   "metadata": {},
   "outputs": [
    {
     "name": "stdout",
     "output_type": "stream",
     "text": [
      "59879 Eves out of 1826661 births (3.28%)\n"
     ]
    }
   ],
   "source": [
    "n_eves = eves.shape[0]\n",
    "n_births = len(life_df)\n",
    "eve_rate = n_eves/n_births\n",
    "print('%i Eves out of %i births (%0.2f%%)' % (n_eves, n_births, eve_rate*100))"
   ]
  },
  {
   "cell_type": "markdown",
   "metadata": {},
   "source": [
    "Eve spawn rate over time:"
   ]
  },
  {
   "cell_type": "code",
   "execution_count": 17,
   "metadata": {
    "scrolled": true
   },
   "outputs": [
    {
     "data": {
      "image/png": "[encoded data removed]",
      "text/plain": [
       "<Figure size 576x288 with 1 Axes>"
      ]
     },
     "metadata": {},
     "output_type": "display_data"
    }
   ],
   "source": [
    "eve_rate = life_df.copy()\n",
    "eve_rate['is_eve'] = eve_rate['parent'] < 0\n",
    "eve_rate['date'] = pd.to_datetime(eve_rate['tBirth'],unit='s')\n",
    "eve_rate['month'] = eve_rate['date'].dt.to_period('M')\n",
    "\n",
    "eve_rate = eve_rate.groupby('month')['is_eve'].agg(['count', 'sum']).reset_index()\n",
    "eve_rate = eve_rate.rename(columns={'count': 'n_births', 'sum': 'n_eves'})\n",
    "eve_rate['eve_rate'] = eve_rate['n_eves']/eve_rate['n_births']\n",
    "\n",
    "fig,ax=plt.subplots(figsize=(8,4))\n",
    "ax.plot_date(eve_rate['month'], eve_rate['eve_rate'], '-o')\n",
    "ax.set(ylabel='Eve spawn rate')\n",
    "plt.xticks(rotation=45)\n",
    "sns.despine()"
   ]
  },
  {
   "cell_type": "markdown",
   "metadata": {},
   "source": [
    "## Parent-child pairs"
   ]
  },
  {
   "cell_type": "markdown",
   "metadata": {},
   "source": [
    "Helper: Search recursively through lifelogs, starting with Eve"
   ]
  },
  {
   "cell_type": "code",
   "execution_count": 19,
   "metadata": {},
   "outputs": [
    {
     "data": {
      "text/html": [
       "<div>\n",
       "<style scoped>\n",
       "    .dataframe tbody tr th:only-of-type {\n",
       "        vertical-align: middle;\n",
       "    }\n",
       "\n",
       "    .dataframe tbody tr th {\n",
       "        vertical-align: top;\n",
       "    }\n",
       "\n",
       "    .dataframe thead th {\n",
       "        text-align: right;\n",
       "    }\n",
       "</style>\n",
       "<table border=\"1\" class=\"dataframe\">\n",
       "  <thead>\n",
       "    <tr style=\"text-align: right;\">\n",
       "      <th></th>\n",
       "      <th>avatar</th>\n",
       "      <th>parent</th>\n",
       "    </tr>\n",
       "  </thead>\n",
       "  <tbody>\n",
       "    <tr>\n",
       "      <th>0</th>\n",
       "      <td>3308603</td>\n",
       "      <td>3308581</td>\n",
       "    </tr>\n",
       "    <tr>\n",
       "      <th>1</th>\n",
       "      <td>3308602</td>\n",
       "      <td>3308575</td>\n",
       "    </tr>\n",
       "    <tr>\n",
       "      <th>2</th>\n",
       "      <td>3308601</td>\n",
       "      <td>3308564</td>\n",
       "    </tr>\n",
       "    <tr>\n",
       "      <th>3</th>\n",
       "      <td>3308598</td>\n",
       "      <td>3308575</td>\n",
       "    </tr>\n",
       "    <tr>\n",
       "      <th>4</th>\n",
       "      <td>3308597</td>\n",
       "      <td>3308571</td>\n",
       "    </tr>\n",
       "  </tbody>\n",
       "</table>\n",
       "</div>"
      ],
      "text/plain": [
       "    avatar   parent\n",
       "0  3308603  3308581\n",
       "1  3308602  3308575\n",
       "2  3308601  3308564\n",
       "3  3308598  3308575\n",
       "4  3308597  3308571"
      ]
     },
     "execution_count": 19,
     "metadata": {},
     "output_type": "execute_result"
    }
   ],
   "source": [
    "# All parent-child links\n",
    "parent_df = life_df[['avatar', 'parent']].copy()\n",
    "parent_df.to_csv('outputs/lineage_input_parents.csv', index=False)\n",
    "parent_df.head()"
   ]
  },
  {
   "cell_type": "code",
   "execution_count": null,
   "metadata": {},
   "outputs": [],
   "source": [
    "def search_fam(player):\n",
    "    descendants = parent_df.loc[parent_df['parent'] == player, 'avatar'].values\n",
    "    \n",
    "    for d in descendants:\n",
    "        descendants = np.append(descendants, search_fam(d))\n",
    "        \n",
    "    return descendants"
   ]
  },
  {
   "cell_type": "markdown",
   "metadata": {},
   "source": [
    "Helper: Write data to JSON file"
   ]
  },
  {
   "cell_type": "code",
   "execution_count": null,
   "metadata": {},
   "outputs": [],
   "source": [
    "def write_json(data, f):\n",
    "    with open(f, 'w') as outfile:\n",
    "        json.dump(data, outfile)"
   ]
  },
  {
   "cell_type": "markdown",
   "metadata": {},
   "source": [
    "All parent-child pairs:"
   ]
  },
  {
   "cell_type": "markdown",
   "metadata": {},
   "source": [
    "Main loop: Build graphs from parent-child pairs:"
   ]
  },
  {
   "cell_type": "code",
   "execution_count": null,
   "metadata": {},
   "outputs": [],
   "source": [
    "families_list = []\n",
    "\n",
    "for _, family in notebook.tqdm(eves.iterrows(), total=n_eves):\n",
    "\n",
    "    eve = family['avatar']\n",
    "    fam_name = family['last']\n",
    "    fam_start = family['tBirth']\n",
    "\n",
    "    fam_nodes = list(search_fam(eve))\n",
    "    fam_df = parent_df[parent_df['avatar'].isin(fam_nodes)]\n",
    "    fam = nx.from_pandas_edgelist(fam_df, 'parent', 'avatar', None, nx.DiGraph())    \n",
    "    fam.add_node(str(eve))\n",
    "\n",
    "    all_members = fam_nodes + [eve]\n",
    "\n",
    "    if not len(fam_name):\n",
    "        fam_name = 'nameless'\n",
    "\n",
    "    fam_id = 'time-%i_eve-%i_name-%s' % (fam_start, eve, fam_name)\n",
    "\n",
    "    # Add family to list\n",
    "    families_list.extend([(relative, fam_id) for relative in all_members])\n",
    "\n",
    "    # Save family data\n",
    "    out_file = 'outputs/families/families_%s.json' % fam_id\n",
    "    fam_data = nx.json_graph.node_link_data(fam)\n",
    "    write_json(fam_data, out_file)"
   ]
  },
  {
   "cell_type": "markdown",
   "metadata": {},
   "source": [
    "### Tag lifelogs by family\n",
    "This will be used for several subsequent analyses (e.g., migration, comparing different success measures)"
   ]
  },
  {
   "cell_type": "code",
   "execution_count": null,
   "metadata": {},
   "outputs": [],
   "source": [
    "families_df = pd.DataFrame(families_list, columns=['avatar', 'family'])\n",
    "families_df.to_csv('outputs/family_playerID.tsv', sep='\\t')"
   ]
  }
 ],
 "metadata": {
  "kernelspec": {
   "display_name": "Python [conda env:.conda-py3]",
   "language": "python",
   "name": "conda-env-.conda-py3-py"
  },
  "language_info": {
   "codemirror_mode": {
    "name": "ipython",
    "version": 3
   },
   "file_extension": ".py",
   "mimetype": "text/x-python",
   "name": "python",
   "nbconvert_exporter": "python",
   "pygments_lexer": "ipython3",
   "version": "3.6.10"
  },
  "toc": {
   "base_numbering": 1,
   "nav_menu": {},
   "number_sections": true,
   "sideBar": true,
   "skip_h1_title": false,
   "title_cell": "Table of Contents",
   "title_sidebar": "Contents",
   "toc_cell": false,
   "toc_position": {},
   "toc_section_display": true,
   "toc_window_display": false
  }
 },
 "nbformat": 4,
 "nbformat_minor": 2
}
