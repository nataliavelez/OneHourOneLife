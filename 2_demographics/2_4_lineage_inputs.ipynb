{
 "cells": [
  {
   "cell_type": "markdown",
   "metadata": {},
   "source": [
    "# Lineages\n",
    "Natalia Vélez, July 2020\n",
    "\n",
    "The goal of this notebook is to construct family graphs (directed graph from parent —> child) out of the lifelog data. These family trees will be used in several other analyses."
   ]
  },
  {
   "cell_type": "code",
   "execution_count": 1,
   "metadata": {
    "ExecuteTime": {
     "end_time": "2020-01-09T18:53:46.358191Z",
     "start_time": "2020-01-09T18:53:44.884317Z"
    }
   },
   "outputs": [],
   "source": [
    "# %matplotlib inline\n",
    "\n",
    "import os, re, glob, json, tqdm\n",
    "import pandas as pd\n",
    "import numpy as np\n",
    "\n",
    "import networkx as nx\n",
    "# import matplotlib.pyplot as plt\n",
    "# import seaborn as sns\n",
    "from networkx.drawing.nx_agraph import graphviz_layout\n",
    "\n",
    "from os.path import join as opj\n",
    "# from tqdm import notebook\n",
    "from ast import literal_eval as make_tuple\n",
    "\n",
    "sns.set_context('talk')\n",
    "sns.set_style('white')\n",
    "\n",
    "# Helper function\n",
    "def gsearch(*args): return glob.glob(opj(*args)) # Search for fukes\n",
    "def clean_tuple(s):\n",
    "    try:\n",
    "        t = make_tuple(s)\n",
    "    except ValueError:\n",
    "        t = ()\n",
    "    return t"
   ]
  },
  {
   "cell_type": "markdown",
   "metadata": {},
   "source": [
    "Get data from all eras:"
   ]
  },
  {
   "cell_type": "code",
   "execution_count": 2,
   "metadata": {
    "ExecuteTime": {
     "end_time": "2020-01-09T18:53:48.757567Z",
     "start_time": "2020-01-09T18:53:48.167361Z"
    }
   },
   "outputs": [
    {
     "name": "stderr",
     "output_type": "stream",
     "text": [
      "/users/nvelezalicea/.conda/envs/py3/lib/python3.6/site-packages/numpy/lib/arraysetops.py:580: FutureWarning: elementwise comparison failed; returning scalar instead, but in the future will perform elementwise comparison\n",
      "  mask |= (ar1 == a)\n"
     ]
    },
    {
     "data": {
      "text/html": [
       "<div>\n",
       "<style scoped>\n",
       "    .dataframe tbody tr th:only-of-type {\n",
       "        vertical-align: middle;\n",
       "    }\n",
       "\n",
       "    .dataframe tbody tr th {\n",
       "        vertical-align: top;\n",
       "    }\n",
       "\n",
       "    .dataframe thead th {\n",
       "        text-align: right;\n",
       "    }\n",
       "</style>\n",
       "<table border=\"1\" class=\"dataframe\">\n",
       "  <thead>\n",
       "    <tr style=\"text-align: right;\">\n",
       "      <th></th>\n",
       "      <th>event</th>\n",
       "      <th>timestamp</th>\n",
       "      <th>avatar</th>\n",
       "      <th>player</th>\n",
       "      <th>age</th>\n",
       "      <th>sex</th>\n",
       "      <th>location</th>\n",
       "      <th>parent</th>\n",
       "      <th>cause_of_death</th>\n",
       "      <th>killer</th>\n",
       "    </tr>\n",
       "  </thead>\n",
       "  <tbody>\n",
       "    <tr>\n",
       "      <th>0</th>\n",
       "      <td>B</td>\n",
       "      <td>1548804597</td>\n",
       "      <td>2</td>\n",
       "      <td>a51edcb77a3900d53adc61d394876c5ca7417486</td>\n",
       "      <td>NaN</td>\n",
       "      <td>F</td>\n",
       "      <td>(50, -7)</td>\n",
       "      <td>noParent</td>\n",
       "      <td>NaN</td>\n",
       "      <td>NaN</td>\n",
       "    </tr>\n",
       "    <tr>\n",
       "      <th>1</th>\n",
       "      <td>D</td>\n",
       "      <td>1548807206</td>\n",
       "      <td>2</td>\n",
       "      <td>a51edcb77a3900d53adc61d394876c5ca7417486</td>\n",
       "      <td>57.49</td>\n",
       "      <td>F</td>\n",
       "      <td>(64, -8)</td>\n",
       "      <td>NaN</td>\n",
       "      <td>hunger</td>\n",
       "      <td>NaN</td>\n",
       "    </tr>\n",
       "    <tr>\n",
       "      <th>2</th>\n",
       "      <td>B</td>\n",
       "      <td>1548814222</td>\n",
       "      <td>3</td>\n",
       "      <td>ba474919bfbe67b14ec6e6fd05c19f383152b1b2</td>\n",
       "      <td>NaN</td>\n",
       "      <td>F</td>\n",
       "      <td>(1453, -436)</td>\n",
       "      <td>noParent</td>\n",
       "      <td>NaN</td>\n",
       "      <td>NaN</td>\n",
       "    </tr>\n",
       "    <tr>\n",
       "      <th>3</th>\n",
       "      <td>B</td>\n",
       "      <td>1548814226</td>\n",
       "      <td>4</td>\n",
       "      <td>0c1781b6944db9e58b5d71adfe64af09fedad796</td>\n",
       "      <td>NaN</td>\n",
       "      <td>M</td>\n",
       "      <td>(1453, -436)</td>\n",
       "      <td>3</td>\n",
       "      <td>NaN</td>\n",
       "      <td>NaN</td>\n",
       "    </tr>\n",
       "    <tr>\n",
       "      <th>4</th>\n",
       "      <td>B</td>\n",
       "      <td>1548814227</td>\n",
       "      <td>5</td>\n",
       "      <td>77a67da50b453a570d1e3311a56cd9da89187cd2</td>\n",
       "      <td>NaN</td>\n",
       "      <td>F</td>\n",
       "      <td>(1366, -395)</td>\n",
       "      <td>noParent</td>\n",
       "      <td>NaN</td>\n",
       "      <td>NaN</td>\n",
       "    </tr>\n",
       "  </tbody>\n",
       "</table>\n",
       "</div>"
      ],
      "text/plain": [
       "  event   timestamp  avatar                                    player    age  \\\n",
       "0     B  1548804597       2  a51edcb77a3900d53adc61d394876c5ca7417486    NaN   \n",
       "1     D  1548807206       2  a51edcb77a3900d53adc61d394876c5ca7417486  57.49   \n",
       "2     B  1548814222       3  ba474919bfbe67b14ec6e6fd05c19f383152b1b2    NaN   \n",
       "3     B  1548814226       4  0c1781b6944db9e58b5d71adfe64af09fedad796    NaN   \n",
       "4     B  1548814227       5  77a67da50b453a570d1e3311a56cd9da89187cd2    NaN   \n",
       "\n",
       "  sex      location    parent cause_of_death  killer  \n",
       "0   F      (50, -7)  noParent            NaN     NaN  \n",
       "1   F      (64, -8)       NaN         hunger     NaN  \n",
       "2   F  (1453, -436)  noParent            NaN     NaN  \n",
       "3   M  (1453, -436)         3            NaN     NaN  \n",
       "4   F  (1366, -395)  noParent            NaN     NaN  "
      ]
     },
     "execution_count": 2,
     "metadata": {},
     "output_type": "execute_result"
    }
   ],
   "source": [
    "era_files = glob.glob('outputs/lifelogs*_data.tsv')\n",
    "era_list = []\n",
    "\n",
    "for f in era_files:\n",
    "    era_data = pd.read_csv(f, sep='\\t', index_col=0)\n",
    "    era_list.append(era_data)\n",
    "    \n",
    "era_df = pd.concat(era_list)\n",
    "era_df = era_df.drop(columns=['server', 'release', 'era'])\n",
    "# era_df.head()"
   ]
  },
  {
   "cell_type": "markdown",
   "metadata": {},
   "source": [
    "Find players' parents and time/location of birth:"
   ]
  },
  {
   "cell_type": "code",
   "execution_count": 3,
   "metadata": {},
   "outputs": [
    {
     "data": {
      "text/html": [
       "<div>\n",
       "<style scoped>\n",
       "    .dataframe tbody tr th:only-of-type {\n",
       "        vertical-align: middle;\n",
       "    }\n",
       "\n",
       "    .dataframe tbody tr th {\n",
       "        vertical-align: top;\n",
       "    }\n",
       "\n",
       "    .dataframe thead th {\n",
       "        text-align: right;\n",
       "    }\n",
       "</style>\n",
       "<table border=\"1\" class=\"dataframe\">\n",
       "  <thead>\n",
       "    <tr style=\"text-align: right;\">\n",
       "      <th></th>\n",
       "      <th>player</th>\n",
       "      <th>avatar</th>\n",
       "      <th>tBirth</th>\n",
       "      <th>parent</th>\n",
       "      <th>birth</th>\n",
       "    </tr>\n",
       "  </thead>\n",
       "  <tbody>\n",
       "    <tr>\n",
       "      <th>0</th>\n",
       "      <td>a51edcb77a3900d53adc61d394876c5ca7417486</td>\n",
       "      <td>2</td>\n",
       "      <td>1548804597</td>\n",
       "      <td>noParent</td>\n",
       "      <td>(50, -7)</td>\n",
       "    </tr>\n",
       "    <tr>\n",
       "      <th>2</th>\n",
       "      <td>ba474919bfbe67b14ec6e6fd05c19f383152b1b2</td>\n",
       "      <td>3</td>\n",
       "      <td>1548814222</td>\n",
       "      <td>noParent</td>\n",
       "      <td>(1453, -436)</td>\n",
       "    </tr>\n",
       "    <tr>\n",
       "      <th>3</th>\n",
       "      <td>0c1781b6944db9e58b5d71adfe64af09fedad796</td>\n",
       "      <td>4</td>\n",
       "      <td>1548814226</td>\n",
       "      <td>3</td>\n",
       "      <td>(1453, -436)</td>\n",
       "    </tr>\n",
       "    <tr>\n",
       "      <th>4</th>\n",
       "      <td>77a67da50b453a570d1e3311a56cd9da89187cd2</td>\n",
       "      <td>5</td>\n",
       "      <td>1548814227</td>\n",
       "      <td>noParent</td>\n",
       "      <td>(1366, -395)</td>\n",
       "    </tr>\n",
       "    <tr>\n",
       "      <th>5</th>\n",
       "      <td>ae87cea72e02d701fbb807b56113e3f7a3d20b83</td>\n",
       "      <td>6</td>\n",
       "      <td>1548814231</td>\n",
       "      <td>5</td>\n",
       "      <td>(1366, -395)</td>\n",
       "    </tr>\n",
       "  </tbody>\n",
       "</table>\n",
       "</div>"
      ],
      "text/plain": [
       "                                     player  avatar      tBirth    parent  \\\n",
       "0  a51edcb77a3900d53adc61d394876c5ca7417486       2  1548804597  noParent   \n",
       "2  ba474919bfbe67b14ec6e6fd05c19f383152b1b2       3  1548814222  noParent   \n",
       "3  0c1781b6944db9e58b5d71adfe64af09fedad796       4  1548814226         3   \n",
       "4  77a67da50b453a570d1e3311a56cd9da89187cd2       5  1548814227  noParent   \n",
       "5  ae87cea72e02d701fbb807b56113e3f7a3d20b83       6  1548814231         5   \n",
       "\n",
       "          birth  \n",
       "0      (50, -7)  \n",
       "2  (1453, -436)  \n",
       "3  (1453, -436)  \n",
       "4  (1366, -395)  \n",
       "5  (1366, -395)  "
      ]
     },
     "execution_count": 3,
     "metadata": {},
     "output_type": "execute_result"
    }
   ],
   "source": [
    "idx_vars = ['player', 'avatar']\n",
    "births = era_df[era_df['event'] == 'B'].copy()\n",
    "births = births[idx_vars + ['timestamp', 'parent', 'location']]\n",
    "births = births.rename({'location': 'birth', 'timestamp': 'tBirth'}, axis='columns')\n",
    "# births.head()"
   ]
  },
  {
   "cell_type": "markdown",
   "metadata": {},
   "source": [
    "Find time and circumstances of death:"
   ]
  },
  {
   "cell_type": "code",
   "execution_count": 4,
   "metadata": {},
   "outputs": [
    {
     "data": {
      "text/html": [
       "<div>\n",
       "<style scoped>\n",
       "    .dataframe tbody tr th:only-of-type {\n",
       "        vertical-align: middle;\n",
       "    }\n",
       "\n",
       "    .dataframe tbody tr th {\n",
       "        vertical-align: top;\n",
       "    }\n",
       "\n",
       "    .dataframe thead th {\n",
       "        text-align: right;\n",
       "    }\n",
       "</style>\n",
       "<table border=\"1\" class=\"dataframe\">\n",
       "  <thead>\n",
       "    <tr style=\"text-align: right;\">\n",
       "      <th></th>\n",
       "      <th>player</th>\n",
       "      <th>avatar</th>\n",
       "      <th>tDeath</th>\n",
       "      <th>death</th>\n",
       "      <th>age</th>\n",
       "      <th>cause_of_death</th>\n",
       "    </tr>\n",
       "  </thead>\n",
       "  <tbody>\n",
       "    <tr>\n",
       "      <th>1</th>\n",
       "      <td>a51edcb77a3900d53adc61d394876c5ca7417486</td>\n",
       "      <td>2</td>\n",
       "      <td>1548807206</td>\n",
       "      <td>(64, -8)</td>\n",
       "      <td>57.49</td>\n",
       "      <td>hunger</td>\n",
       "    </tr>\n",
       "    <tr>\n",
       "      <th>12</th>\n",
       "      <td>b3a2c99deced24ac11f6b8b10ba49066ca96606d</td>\n",
       "      <td>8</td>\n",
       "      <td>1548814282</td>\n",
       "      <td>(1387, -433)</td>\n",
       "      <td>0.48</td>\n",
       "      <td>hunger</td>\n",
       "    </tr>\n",
       "    <tr>\n",
       "      <th>18</th>\n",
       "      <td>c5c94e5501424d0567c90730f5e2e6ad482a440f</td>\n",
       "      <td>16</td>\n",
       "      <td>1548814301</td>\n",
       "      <td>(1452, -419)</td>\n",
       "      <td>0.09</td>\n",
       "      <td>disconnect</td>\n",
       "    </tr>\n",
       "    <tr>\n",
       "      <th>21</th>\n",
       "      <td>c5c94e5501424d0567c90730f5e2e6ad482a440f</td>\n",
       "      <td>18</td>\n",
       "      <td>1548814310</td>\n",
       "      <td>(1414, -462)</td>\n",
       "      <td>0.09</td>\n",
       "      <td>disconnect</td>\n",
       "    </tr>\n",
       "    <tr>\n",
       "      <th>22</th>\n",
       "      <td>b3a2c99deced24ac11f6b8b10ba49066ca96606d</td>\n",
       "      <td>14</td>\n",
       "      <td>1548814313</td>\n",
       "      <td>(1431, -428)</td>\n",
       "      <td>0.45</td>\n",
       "      <td>hunger</td>\n",
       "    </tr>\n",
       "  </tbody>\n",
       "</table>\n",
       "</div>"
      ],
      "text/plain": [
       "                                      player  avatar      tDeath  \\\n",
       "1   a51edcb77a3900d53adc61d394876c5ca7417486       2  1548807206   \n",
       "12  b3a2c99deced24ac11f6b8b10ba49066ca96606d       8  1548814282   \n",
       "18  c5c94e5501424d0567c90730f5e2e6ad482a440f      16  1548814301   \n",
       "21  c5c94e5501424d0567c90730f5e2e6ad482a440f      18  1548814310   \n",
       "22  b3a2c99deced24ac11f6b8b10ba49066ca96606d      14  1548814313   \n",
       "\n",
       "           death    age cause_of_death  \n",
       "1       (64, -8)  57.49         hunger  \n",
       "12  (1387, -433)   0.48         hunger  \n",
       "18  (1452, -419)   0.09     disconnect  \n",
       "21  (1414, -462)   0.09     disconnect  \n",
       "22  (1431, -428)   0.45         hunger  "
      ]
     },
     "execution_count": 4,
     "metadata": {},
     "output_type": "execute_result"
    }
   ],
   "source": [
    "deaths =  era_df[era_df['event'] == 'D'].copy()\n",
    "deaths = deaths[idx_vars + ['timestamp', 'location', 'age', 'cause_of_death']]\n",
    "deaths = deaths.rename({'location': 'death', 'timestamp': 'tDeath'}, axis='columns')\n",
    "\n",
    "# deaths.head()"
   ]
  },
  {
   "cell_type": "markdown",
   "metadata": {},
   "source": [
    "## Merge births and deaths"
   ]
  },
  {
   "cell_type": "markdown",
   "metadata": {},
   "source": [
    "**DEBUG:** Unique avatar IDs in births and deaths"
   ]
  },
  {
   "cell_type": "code",
   "execution_count": 5,
   "metadata": {},
   "outputs": [
    {
     "name": "stdout",
     "output_type": "stream",
     "text": [
      "3723924 unique avatars\n",
      "3714279 in both\n",
      "9645 not in deaths: [ 221 2850 2851 2852 2937]...\n",
      "0 not in births: []...\n"
     ]
    }
   ],
   "source": [
    "# Get unique avatars in each DF\n",
    "unique_births = np.unique(births['avatar'])\n",
    "unique_deaths = np.unique(deaths['avatar'])\n",
    "\n",
    "# How many total unique avatars?\n",
    "unique_avatars = np.concatenate((unique_births, unique_deaths))\n",
    "unique_avatars = np.unique(unique_avatars)\n",
    "\n",
    "# Which avatars are in deaths but not births, and vice versa?\n",
    "not_in_deaths = np.setdiff1d(unique_births, unique_deaths)\n",
    "not_in_births = np.setdiff1d(unique_deaths, unique_births)\n",
    "\n",
    "print('%i unique avatars' % len(unique_avatars))\n",
    "print('%i in both' % len(np.intersect1d(unique_births, unique_deaths)))\n",
    "print('%i not in deaths: %s...' % (len(not_in_deaths), not_in_deaths[:5],))\n",
    "print('%i not in births: %s...' % (len(not_in_births), not_in_births[:5],))"
   ]
  },
  {
   "cell_type": "markdown",
   "metadata": {},
   "source": [
    "Merge & clean up:"
   ]
  },
  {
   "cell_type": "code",
   "execution_count": 6,
   "metadata": {},
   "outputs": [
    {
     "name": "stdout",
     "output_type": "stream",
     "text": [
      "Births: (3723924, 5)\n",
      "Deaths: (3714279, 6)\n",
      "Merged dataframe: (3723924, 9)\n",
      "Birth/death locations...\n",
      "Splitting into x/y coords...\n",
      "Parsing player IDs...\n",
      "Parsing parents...\n",
      "Cleaning up...\n"
     ]
    }
   ],
   "source": [
    "print('Births: %s' % (births.shape,))\n",
    "print('Deaths: %s' % (deaths.shape,))\n",
    "\n",
    "life_df = pd.merge(births, deaths, on=idx_vars, how='outer')\n",
    "print('Merged dataframe: %s' % (life_df.shape,))\n",
    "\n",
    "# Turn birth/death locations to tuples\n",
    "print('Birth/death locations...')\n",
    "life_df['birth'] = life_df['birth'].apply(clean_tuple).apply(np.array)\n",
    "life_df['death'] = life_df['death'].apply(clean_tuple).apply(np.array)\n",
    "\n",
    "# Split coordinates\n",
    "print('Splitting into x/y coords...')\n",
    "life_df[['birthX', 'birthY']] = pd.DataFrame(life_df['birth'].tolist(),\n",
    "                                              index=life_df.index)   \n",
    "life_df[['deathX', 'deathY']] = pd.DataFrame(life_df['death'].tolist(),\n",
    "                                              index=life_df.index)\n",
    "\n",
    "# Parse player IDs\n",
    "print('Parsing player IDs...')\n",
    "life_df['avatar'] = life_df['avatar'].astype(np.int)\n",
    "\n",
    "# Parse parent IDs\n",
    "print('Parsing parents...')\n",
    "#life_df['parent'] = life_df['parent'].str.extract('(noParent|(?<=parent=)[0-9]+)')\n",
    "life_df['parent'] = life_df['parent'].str.replace('noParent', '-1')\n",
    "life_df['parent'] = life_df['parent'].astype(np.int)\n",
    "\n",
    "# Order from most recent\n",
    "print('Cleaning up...')\n",
    "life_df = life_df.sort_values('tBirth', ascending=False)\n",
    "life_df = life_df.reset_index(drop=True)"
   ]
  },
  {
   "cell_type": "code",
   "execution_count": 7,
   "metadata": {},
   "outputs": [
    {
     "name": "stdout",
     "output_type": "stream",
     "text": [
      "(3723924, 13)\n"
     ]
    },
    {
     "data": {
      "text/html": [
       "<div>\n",
       "<style scoped>\n",
       "    .dataframe tbody tr th:only-of-type {\n",
       "        vertical-align: middle;\n",
       "    }\n",
       "\n",
       "    .dataframe tbody tr th {\n",
       "        vertical-align: top;\n",
       "    }\n",
       "\n",
       "    .dataframe thead th {\n",
       "        text-align: right;\n",
       "    }\n",
       "</style>\n",
       "<table border=\"1\" class=\"dataframe\">\n",
       "  <thead>\n",
       "    <tr style=\"text-align: right;\">\n",
       "      <th></th>\n",
       "      <th>player</th>\n",
       "      <th>avatar</th>\n",
       "      <th>tBirth</th>\n",
       "      <th>parent</th>\n",
       "      <th>birth</th>\n",
       "      <th>tDeath</th>\n",
       "      <th>death</th>\n",
       "      <th>age</th>\n",
       "      <th>cause_of_death</th>\n",
       "      <th>birthX</th>\n",
       "      <th>birthY</th>\n",
       "      <th>deathX</th>\n",
       "      <th>deathY</th>\n",
       "    </tr>\n",
       "  </thead>\n",
       "  <tbody>\n",
       "    <tr>\n",
       "      <th>3723919</th>\n",
       "      <td>ae87cea72e02d701fbb807b56113e3f7a3d20b83</td>\n",
       "      <td>6</td>\n",
       "      <td>1548814231</td>\n",
       "      <td>5</td>\n",
       "      <td>[1366, -395]</td>\n",
       "      <td>1.548815e+09</td>\n",
       "      <td>[1438, -435]</td>\n",
       "      <td>6.46</td>\n",
       "      <td>hunger</td>\n",
       "      <td>1366</td>\n",
       "      <td>-395</td>\n",
       "      <td>1438.0</td>\n",
       "      <td>-435.0</td>\n",
       "    </tr>\n",
       "    <tr>\n",
       "      <th>3723920</th>\n",
       "      <td>77a67da50b453a570d1e3311a56cd9da89187cd2</td>\n",
       "      <td>5</td>\n",
       "      <td>1548814227</td>\n",
       "      <td>-1</td>\n",
       "      <td>[1366, -395]</td>\n",
       "      <td>1.548816e+09</td>\n",
       "      <td>[1388, -435]</td>\n",
       "      <td>39.76</td>\n",
       "      <td>murdered</td>\n",
       "      <td>1366</td>\n",
       "      <td>-395</td>\n",
       "      <td>1388.0</td>\n",
       "      <td>-435.0</td>\n",
       "    </tr>\n",
       "    <tr>\n",
       "      <th>3723921</th>\n",
       "      <td>0c1781b6944db9e58b5d71adfe64af09fedad796</td>\n",
       "      <td>4</td>\n",
       "      <td>1548814226</td>\n",
       "      <td>3</td>\n",
       "      <td>[1453, -436]</td>\n",
       "      <td>1.548816e+09</td>\n",
       "      <td>[1390, -436]</td>\n",
       "      <td>26.40</td>\n",
       "      <td>murdered</td>\n",
       "      <td>1453</td>\n",
       "      <td>-436</td>\n",
       "      <td>1390.0</td>\n",
       "      <td>-436.0</td>\n",
       "    </tr>\n",
       "    <tr>\n",
       "      <th>3723922</th>\n",
       "      <td>ba474919bfbe67b14ec6e6fd05c19f383152b1b2</td>\n",
       "      <td>3</td>\n",
       "      <td>1548814222</td>\n",
       "      <td>-1</td>\n",
       "      <td>[1453, -436]</td>\n",
       "      <td>1.548815e+09</td>\n",
       "      <td>[1442, -419]</td>\n",
       "      <td>21.21</td>\n",
       "      <td>hunger</td>\n",
       "      <td>1453</td>\n",
       "      <td>-436</td>\n",
       "      <td>1442.0</td>\n",
       "      <td>-419.0</td>\n",
       "    </tr>\n",
       "    <tr>\n",
       "      <th>3723923</th>\n",
       "      <td>a51edcb77a3900d53adc61d394876c5ca7417486</td>\n",
       "      <td>2</td>\n",
       "      <td>1548804597</td>\n",
       "      <td>-1</td>\n",
       "      <td>[50, -7]</td>\n",
       "      <td>1.548807e+09</td>\n",
       "      <td>[64, -8]</td>\n",
       "      <td>57.49</td>\n",
       "      <td>hunger</td>\n",
       "      <td>50</td>\n",
       "      <td>-7</td>\n",
       "      <td>64.0</td>\n",
       "      <td>-8.0</td>\n",
       "    </tr>\n",
       "  </tbody>\n",
       "</table>\n",
       "</div>"
      ],
      "text/plain": [
       "                                           player  avatar      tBirth  parent  \\\n",
       "3723919  ae87cea72e02d701fbb807b56113e3f7a3d20b83       6  1548814231       5   \n",
       "3723920  77a67da50b453a570d1e3311a56cd9da89187cd2       5  1548814227      -1   \n",
       "3723921  0c1781b6944db9e58b5d71adfe64af09fedad796       4  1548814226       3   \n",
       "3723922  ba474919bfbe67b14ec6e6fd05c19f383152b1b2       3  1548814222      -1   \n",
       "3723923  a51edcb77a3900d53adc61d394876c5ca7417486       2  1548804597      -1   \n",
       "\n",
       "                birth        tDeath         death    age cause_of_death  \\\n",
       "3723919  [1366, -395]  1.548815e+09  [1438, -435]   6.46         hunger   \n",
       "3723920  [1366, -395]  1.548816e+09  [1388, -435]  39.76       murdered   \n",
       "3723921  [1453, -436]  1.548816e+09  [1390, -436]  26.40       murdered   \n",
       "3723922  [1453, -436]  1.548815e+09  [1442, -419]  21.21         hunger   \n",
       "3723923      [50, -7]  1.548807e+09      [64, -8]  57.49         hunger   \n",
       "\n",
       "         birthX  birthY  deathX  deathY  \n",
       "3723919    1366    -395  1438.0  -435.0  \n",
       "3723920    1366    -395  1388.0  -435.0  \n",
       "3723921    1453    -436  1390.0  -436.0  \n",
       "3723922    1453    -436  1442.0  -419.0  \n",
       "3723923      50      -7    64.0    -8.0  "
      ]
     },
     "execution_count": 7,
     "metadata": {},
     "output_type": "execute_result"
    }
   ],
   "source": [
    "print(life_df.shape)\n",
    "# life_df.tail()"
   ]
  },
  {
   "cell_type": "markdown",
   "metadata": {},
   "source": [
    "## Parse names"
   ]
  },
  {
   "cell_type": "markdown",
   "metadata": {},
   "source": [
    "Helper function: Remove from data...\n",
    "\n",
    "* Roman numerals (including some nonsense ones at high-gen numbers)\n",
    "* Kin labels? (e.g., SHINA1580640)"
   ]
  },
  {
   "cell_type": "code",
   "execution_count": 8,
   "metadata": {},
   "outputs": [],
   "source": [
    "def is_roman(s):\n",
    "    # Checks if string is a \"valid\" Roman numeral\n",
    "    # Note this includes some *cough*idiosyncratic*cough* numerals in the OHOL dataset:\n",
    "    # e.g., CLXLIII => True (but actually nonsense)\n",
    "    roman_regex  = 'M{0,4}(CM|CD|D?C{0,3})(LXL|XC|XL|L?X{0,3})(IX|IV|V?I{0,3})'\n",
    "    roman_match = re.match(roman_regex, s)\n",
    "    \n",
    "    str_length = len(s)\n",
    "    match_length = roman_match.span()[1]\n",
    "    \n",
    "    return str_length == match_length\n",
    "\n",
    "def is_kin(s, idx):\n",
    "    kin_regex = '[A-Z]{0,}[0-9]+'\n",
    "    kin_match = re.search(kin_regex, s)\n",
    "    return bool(kin_match) & (idx > 0)\n",
    "\n",
    "def is_valid(s, idx):\n",
    "    \n",
    "    not_roman = not is_roman(s)\n",
    "    not_kin = not is_kin(s, idx)\n",
    "    \n",
    "    return not_roman & not_kin"
   ]
  },
  {
   "cell_type": "markdown",
   "metadata": {},
   "source": [
    "Find name files:"
   ]
  },
  {
   "cell_type": "code",
   "execution_count": 9,
   "metadata": {},
   "outputs": [
    {
     "name": "stdout",
     "output_type": "stream",
     "text": [
      "2019_01January_29_Tuesday_names.txt\n",
      "2019_01January_30_Wednesday_names.txt\n",
      "2019_01January_31_Thursday_names.txt\n",
      "2019_02February_01_Friday_names.txt\n",
      "2019_02February_02_Saturday_names.txt\n"
     ]
    }
   ],
   "source": [
    "data_dir = '../../data'\n",
    "name_files = glob.glob(opj(data_dir, 'publicLifeLogData', 'lifeLog_bigserver2*', '*names.txt'))\n",
    "name_files.sort()\n",
    "print('Name files:')\n",
    "print(*[os.path.basename(f) for f in name_files[:5]], sep='\\n')\n",
    "print('...')"
   ]
  },
  {
   "cell_type": "markdown",
   "metadata": {},
   "source": [
    "Iterate over name files and extract names:"
   ]
  },
  {
   "cell_type": "code",
   "execution_count": 10,
   "metadata": {},
   "outputs": [
    {
     "data": {
      "application/vnd.jupyter.widget-view+json": {
       "model_id": "9d1bcca35178407fab4ff5def45319f5",
       "version_major": 2,
       "version_minor": 0
      },
      "text/plain": [
       "HBox(children=(FloatProgress(value=0.0, max=750.0), HTML(value='')))"
      ]
     },
     "metadata": {},
     "output_type": "display_data"
    },
    {
     "name": "stdout",
     "output_type": "stream",
     "text": [
      "Corrected: ['386865', 'MOON', 'ROA']\n",
      "Corrected: ['388702', 'MARTHA', 'LIGHT']\n",
      "Corrected: ['1240637', 'ALEX', 'CHAN']\n",
      "Corrected: ['1577563', 'KNIGHT', 'FIERRO']\n",
      "Corrected: ['1579101', 'LARIAH', 'HANNAM']\n",
      "Corrected: ['1579766', 'JACKIE', 'WISCOMBE']\n",
      "Corrected: ['1580507', 'BENJAMIN', 'GIOVANNI']\n",
      "Corrected: ['3488088', 'PURVIS', 'VERA']\n",
      "Corrected: ['3497051', 'MICKEAL', 'KELLY']\n",
      "\n"
     ]
    }
   ],
   "source": [
    "name_list = []\n",
    "re.compile(\"^([A-Z][0-9]+)+$\")\n",
    "\n",
    "for f in tqdm.tqdm(name_files):\n",
    "    with open(f, 'r') as handle:\n",
    "        data_str = handle.read().splitlines()\n",
    "\n",
    "    data = []\n",
    "    for s in data_str:\n",
    "        row_data = s.split() # Split lines\n",
    "        row_data = [si for idx, si in enumerate(row_data) if is_valid(si, idx)]\n",
    "        \n",
    "        if len(row_data) > 3:\n",
    "            row_data.remove('EVE')\n",
    "            print('Corrected: %s' % row_data)\n",
    "\n",
    "        while len(row_data) < 3: \n",
    "            row_data.append('')\n",
    "\n",
    "        name_list.append(row_data)"
   ]
  },
  {
   "cell_type": "markdown",
   "metadata": {},
   "source": [
    "Assemble into dataframe:"
   ]
  },
  {
   "cell_type": "code",
   "execution_count": 11,
   "metadata": {},
   "outputs": [
    {
     "data": {
      "text/html": [
       "<div>\n",
       "<style scoped>\n",
       "    .dataframe tbody tr th:only-of-type {\n",
       "        vertical-align: middle;\n",
       "    }\n",
       "\n",
       "    .dataframe tbody tr th {\n",
       "        vertical-align: top;\n",
       "    }\n",
       "\n",
       "    .dataframe thead th {\n",
       "        text-align: right;\n",
       "    }\n",
       "</style>\n",
       "<table border=\"1\" class=\"dataframe\">\n",
       "  <thead>\n",
       "    <tr style=\"text-align: right;\">\n",
       "      <th></th>\n",
       "      <th>avatar</th>\n",
       "      <th>first</th>\n",
       "      <th>last</th>\n",
       "    </tr>\n",
       "  </thead>\n",
       "  <tbody>\n",
       "    <tr>\n",
       "      <th>0</th>\n",
       "      <td>5</td>\n",
       "      <td>EVE</td>\n",
       "      <td>ARK</td>\n",
       "    </tr>\n",
       "    <tr>\n",
       "      <th>1</th>\n",
       "      <td>4</td>\n",
       "      <td>SLY</td>\n",
       "      <td></td>\n",
       "    </tr>\n",
       "    <tr>\n",
       "      <th>2</th>\n",
       "      <td>6</td>\n",
       "      <td>FOX</td>\n",
       "      <td>ARK</td>\n",
       "    </tr>\n",
       "    <tr>\n",
       "      <th>3</th>\n",
       "      <td>9</td>\n",
       "      <td>EVE</td>\n",
       "      <td>ISA</td>\n",
       "    </tr>\n",
       "    <tr>\n",
       "      <th>4</th>\n",
       "      <td>10</td>\n",
       "      <td>TESIA</td>\n",
       "      <td>ISA</td>\n",
       "    </tr>\n",
       "  </tbody>\n",
       "</table>\n",
       "</div>"
      ],
      "text/plain": [
       "   avatar  first last\n",
       "0       5    EVE  ARK\n",
       "1       4    SLY     \n",
       "2       6    FOX  ARK\n",
       "3       9    EVE  ISA\n",
       "4      10  TESIA  ISA"
      ]
     },
     "execution_count": 11,
     "metadata": {},
     "output_type": "execute_result"
    }
   ],
   "source": [
    "name_df = pd.DataFrame(name_list, columns=['avatar', 'first', 'last'])\n",
    "name_df['avatar'] = name_df['avatar'].astype(np.int)\n",
    "# name_df.head()"
   ]
  },
  {
   "cell_type": "markdown",
   "metadata": {},
   "source": [
    "Merge with `life_df`:"
   ]
  },
  {
   "cell_type": "code",
   "execution_count": 12,
   "metadata": {},
   "outputs": [
    {
     "data": {
      "text/html": [
       "<div>\n",
       "<style scoped>\n",
       "    .dataframe tbody tr th:only-of-type {\n",
       "        vertical-align: middle;\n",
       "    }\n",
       "\n",
       "    .dataframe tbody tr th {\n",
       "        vertical-align: top;\n",
       "    }\n",
       "\n",
       "    .dataframe thead th {\n",
       "        text-align: right;\n",
       "    }\n",
       "</style>\n",
       "<table border=\"1\" class=\"dataframe\">\n",
       "  <thead>\n",
       "    <tr style=\"text-align: right;\">\n",
       "      <th></th>\n",
       "      <th>player</th>\n",
       "      <th>avatar</th>\n",
       "      <th>tBirth</th>\n",
       "      <th>parent</th>\n",
       "      <th>birth</th>\n",
       "      <th>tDeath</th>\n",
       "      <th>death</th>\n",
       "      <th>age</th>\n",
       "      <th>cause_of_death</th>\n",
       "      <th>birthX</th>\n",
       "      <th>birthY</th>\n",
       "      <th>deathX</th>\n",
       "      <th>deathY</th>\n",
       "      <th>first</th>\n",
       "      <th>last</th>\n",
       "    </tr>\n",
       "  </thead>\n",
       "  <tbody>\n",
       "    <tr>\n",
       "      <th>0</th>\n",
       "      <td>a12bd25b7ca87b4126ab27e4142ab5136f185e2c</td>\n",
       "      <td>3983348</td>\n",
       "      <td>1613458220</td>\n",
       "      <td>3983322</td>\n",
       "      <td>[-6583, -188]</td>\n",
       "      <td>1.613462e+09</td>\n",
       "      <td>[-6592, -192]</td>\n",
       "      <td>60.00</td>\n",
       "      <td>oldAge</td>\n",
       "      <td>-6583</td>\n",
       "      <td>-188</td>\n",
       "      <td>-6592.0</td>\n",
       "      <td>-192.0</td>\n",
       "      <td>KANE</td>\n",
       "      <td>S</td>\n",
       "    </tr>\n",
       "    <tr>\n",
       "      <th>1</th>\n",
       "      <td>7bd530ec132a3123bbc64f1a7b99a890a78c710f</td>\n",
       "      <td>3983347</td>\n",
       "      <td>1613458114</td>\n",
       "      <td>3983274</td>\n",
       "      <td>[-7544, 330]</td>\n",
       "      <td>1.613461e+09</td>\n",
       "      <td>[-7548, 318]</td>\n",
       "      <td>42.14</td>\n",
       "      <td>hunger</td>\n",
       "      <td>-7544</td>\n",
       "      <td>330</td>\n",
       "      <td>-7548.0</td>\n",
       "      <td>318.0</td>\n",
       "      <td>DIA</td>\n",
       "      <td>JAMESON</td>\n",
       "    </tr>\n",
       "    <tr>\n",
       "      <th>2</th>\n",
       "      <td>039241fe1322e3c1877753357f239f0e70218553</td>\n",
       "      <td>3983346</td>\n",
       "      <td>1613458026</td>\n",
       "      <td>3983281</td>\n",
       "      <td>[-7552, 341]</td>\n",
       "      <td>1.613462e+09</td>\n",
       "      <td>[-7548, 320]</td>\n",
       "      <td>60.00</td>\n",
       "      <td>oldAge</td>\n",
       "      <td>-7552</td>\n",
       "      <td>341</td>\n",
       "      <td>-7548.0</td>\n",
       "      <td>320.0</td>\n",
       "      <td>JANE</td>\n",
       "      <td>JAMESON</td>\n",
       "    </tr>\n",
       "    <tr>\n",
       "      <th>3</th>\n",
       "      <td>6b7abc8753b6a431ed0840d88b2c8f103f933639</td>\n",
       "      <td>3983344</td>\n",
       "      <td>1613458002</td>\n",
       "      <td>3983270</td>\n",
       "      <td>[-7695, 128]</td>\n",
       "      <td>1.613460e+09</td>\n",
       "      <td>[-7677, 119]</td>\n",
       "      <td>25.22</td>\n",
       "      <td>hunger</td>\n",
       "      <td>-7695</td>\n",
       "      <td>128</td>\n",
       "      <td>-7677.0</td>\n",
       "      <td>119.0</td>\n",
       "      <td>REX</td>\n",
       "      <td>LODEN</td>\n",
       "    </tr>\n",
       "    <tr>\n",
       "      <th>4</th>\n",
       "      <td>c0190e141587c8751a311a41df7183a8d1835262</td>\n",
       "      <td>3983343</td>\n",
       "      <td>1613457977</td>\n",
       "      <td>3983276</td>\n",
       "      <td>[-7570, 320]</td>\n",
       "      <td>1.613462e+09</td>\n",
       "      <td>[-7687, 119]</td>\n",
       "      <td>60.00</td>\n",
       "      <td>oldAge</td>\n",
       "      <td>-7570</td>\n",
       "      <td>320</td>\n",
       "      <td>-7687.0</td>\n",
       "      <td>119.0</td>\n",
       "      <td>ADELINE</td>\n",
       "      <td>JAMES</td>\n",
       "    </tr>\n",
       "  </tbody>\n",
       "</table>\n",
       "</div>"
      ],
      "text/plain": [
       "                                     player   avatar      tBirth   parent  \\\n",
       "0  a12bd25b7ca87b4126ab27e4142ab5136f185e2c  3983348  1613458220  3983322   \n",
       "1  7bd530ec132a3123bbc64f1a7b99a890a78c710f  3983347  1613458114  3983274   \n",
       "2  039241fe1322e3c1877753357f239f0e70218553  3983346  1613458026  3983281   \n",
       "3  6b7abc8753b6a431ed0840d88b2c8f103f933639  3983344  1613458002  3983270   \n",
       "4  c0190e141587c8751a311a41df7183a8d1835262  3983343  1613457977  3983276   \n",
       "\n",
       "           birth        tDeath          death    age cause_of_death  birthX  \\\n",
       "0  [-6583, -188]  1.613462e+09  [-6592, -192]  60.00         oldAge   -6583   \n",
       "1   [-7544, 330]  1.613461e+09   [-7548, 318]  42.14         hunger   -7544   \n",
       "2   [-7552, 341]  1.613462e+09   [-7548, 320]  60.00         oldAge   -7552   \n",
       "3   [-7695, 128]  1.613460e+09   [-7677, 119]  25.22         hunger   -7695   \n",
       "4   [-7570, 320]  1.613462e+09   [-7687, 119]  60.00         oldAge   -7570   \n",
       "\n",
       "   birthY  deathX  deathY    first     last  \n",
       "0    -188 -6592.0  -192.0     KANE        S  \n",
       "1     330 -7548.0   318.0      DIA  JAMESON  \n",
       "2     341 -7548.0   320.0     JANE  JAMESON  \n",
       "3     128 -7677.0   119.0      REX    LODEN  \n",
       "4     320 -7687.0   119.0  ADELINE    JAMES  "
      ]
     },
     "execution_count": 12,
     "metadata": {},
     "output_type": "execute_result"
    }
   ],
   "source": [
    "life_df = pd.merge(life_df, name_df, on='avatar')\n",
    "# life_df.head()"
   ]
  },
  {
   "cell_type": "markdown",
   "metadata": {},
   "source": [
    "Save `life_df` to file:"
   ]
  },
  {
   "cell_type": "code",
   "execution_count": 13,
   "metadata": {},
   "outputs": [],
   "source": [
    "print('Saving merged lifelogs...')\n",
    "life_df.to_csv('outputs/all_lifelogs_compact.tsv', sep='\\t')"
   ]
  },
  {
   "cell_type": "markdown",
   "metadata": {},
   "source": [
    "## Sanity check: How many lineages can we expect?"
   ]
  },
  {
   "cell_type": "markdown",
   "metadata": {},
   "source": [
    "Spot eves:"
   ]
  },
  {
   "cell_type": "code",
   "execution_count": 14,
   "metadata": {},
   "outputs": [
    {
     "name": "stdout",
     "output_type": "stream",
     "text": [
      "0    3983313\n",
      "1    3983028\n",
      "2    3982895\n",
      "3    3982886\n",
      "4    3982796\n",
      "5    3982795\n",
      "6    3982277\n",
      "7    3981962\n",
      "8    3981665\n",
      "9    3981653\n",
      "Name: avatar, dtype: int64\n"
     ]
    }
   ],
   "source": [
    "eves = life_df[life_df['parent'] < 0].reset_index()\n",
    "eves.to_csv('outputs/lineage_input_eves.csv', index=False)\n",
    "print(eves['avatar'][:10])"
   ]
  },
  {
   "cell_type": "markdown",
   "metadata": {},
   "source": [
    "How many eves?"
   ]
  },
  {
   "cell_type": "code",
   "execution_count": 15,
   "metadata": {},
   "outputs": [
    {
     "name": "stdout",
     "output_type": "stream",
     "text": [
      "63787 Eves out of 2161128 births (2.95%)\n"
     ]
    }
   ],
   "source": [
    "n_eves = eves.shape[0]\n",
    "n_births = len(life_df)\n",
    "eve_rate = n_eves/n_births\n",
    "print('%i Eves out of %i births (%0.2f%%)' % (n_eves, n_births, eve_rate*100))"
   ]
  },
  {
   "cell_type": "markdown",
   "metadata": {},
   "source": [
    "Eve spawn rate over time (TO-DO: MOVE TO LATER SCRIPT)"
   ]
  },
  {
   "cell_type": "code",
   "execution_count": 16,
   "metadata": {
    "scrolled": true
   },
   "outputs": [
    {
     "data": {
      "image/png": "[encoded data removed]",
      "text/plain": [
       "<Figure size 576x288 with 1 Axes>"
      ]
     },
     "metadata": {},
     "output_type": "display_data"
    }
   ],
   "source": [
    "# eve_rate = life_df.copy()\n",
    "# eve_rate['is_eve'] = eve_rate['parent'] < 0\n",
    "# eve_rate['date'] = pd.to_datetime(eve_rate['tBirth'],unit='s')\n",
    "# eve_rate['month'] = eve_rate['date'].dt.to_period('M')\n",
    "\n",
    "# eve_rate = eve_rate.groupby('month')['is_eve'].agg(['count', 'sum']).reset_index()\n",
    "# eve_rate = eve_rate.rename(columns={'count': 'n_births', 'sum': 'n_eves'})\n",
    "# eve_rate['eve_rate'] = eve_rate['n_eves']/eve_rate['n_births']\n",
    "\n",
    "# fig,ax=plt.subplots(figsize=(8,4))\n",
    "# ax.plot_date(eve_rate['month'], eve_rate['eve_rate'], '-o')\n",
    "# ax.set(ylabel='Eve spawn rate')\n",
    "# plt.xticks(rotation=45)\n",
    "# sns.despine()"
   ]
  },
  {
   "cell_type": "markdown",
   "metadata": {},
   "source": [
    "## Parent-child pairs"
   ]
  },
  {
   "cell_type": "markdown",
   "metadata": {},
   "source": [
    "Helper: Search recursively through lifelogs, starting with Eve"
   ]
  },
  {
   "cell_type": "code",
   "execution_count": 23,
   "metadata": {},
   "outputs": [
    {
     "data": {
      "text/html": [
       "<div>\n",
       "<style scoped>\n",
       "    .dataframe tbody tr th:only-of-type {\n",
       "        vertical-align: middle;\n",
       "    }\n",
       "\n",
       "    .dataframe tbody tr th {\n",
       "        vertical-align: top;\n",
       "    }\n",
       "\n",
       "    .dataframe thead th {\n",
       "        text-align: right;\n",
       "    }\n",
       "</style>\n",
       "<table border=\"1\" class=\"dataframe\">\n",
       "  <thead>\n",
       "    <tr style=\"text-align: right;\">\n",
       "      <th></th>\n",
       "      <th>avatar</th>\n",
       "      <th>parent</th>\n",
       "    </tr>\n",
       "  </thead>\n",
       "  <tbody>\n",
       "    <tr>\n",
       "      <th>0</th>\n",
       "      <td>3983348</td>\n",
       "      <td>3983322</td>\n",
       "    </tr>\n",
       "    <tr>\n",
       "      <th>1</th>\n",
       "      <td>3983347</td>\n",
       "      <td>3983274</td>\n",
       "    </tr>\n",
       "    <tr>\n",
       "      <th>2</th>\n",
       "      <td>3983346</td>\n",
       "      <td>3983281</td>\n",
       "    </tr>\n",
       "    <tr>\n",
       "      <th>3</th>\n",
       "      <td>3983344</td>\n",
       "      <td>3983270</td>\n",
       "    </tr>\n",
       "    <tr>\n",
       "      <th>4</th>\n",
       "      <td>3983343</td>\n",
       "      <td>3983276</td>\n",
       "    </tr>\n",
       "  </tbody>\n",
       "</table>\n",
       "</div>"
      ],
      "text/plain": [
       "    avatar   parent\n",
       "0  3983348  3983322\n",
       "1  3983347  3983274\n",
       "2  3983346  3983281\n",
       "3  3983344  3983270\n",
       "4  3983343  3983276"
      ]
     },
     "execution_count": 23,
     "metadata": {},
     "output_type": "execute_result"
    }
   ],
   "source": [
    "# All parent-child links\n",
    "parent_df = life_df[['avatar', 'parent']].copy()\n",
    "parent_df.to_csv('outputs/lineage_input_parents.csv', index=False)\n",
    "# parent_df.head()"
   ]
  },
  {
   "cell_type": "code",
   "execution_count": 18,
   "metadata": {},
   "outputs": [],
   "source": [
    "def search_fam(player):\n",
    "    descendants = parent_df.loc[parent_df['parent'] == player, 'avatar'].values\n",
    "    \n",
    "    for d in descendants:\n",
    "        descendants = np.append(descendants, search_fam(d))\n",
    "        \n",
    "    return descendants"
   ]
  },
  {
   "cell_type": "markdown",
   "metadata": {},
   "source": [
    "Helper: Write data to JSON file"
   ]
  },
  {
   "cell_type": "code",
   "execution_count": 19,
   "metadata": {},
   "outputs": [],
   "source": [
    "def write_json(data, f):\n",
    "    with open(f, 'w') as outfile:\n",
    "        json.dump(data, outfile)"
   ]
  },
  {
   "cell_type": "markdown",
   "metadata": {},
   "source": [
    "All parent-child pairs:"
   ]
  },
  {
   "cell_type": "markdown",
   "metadata": {},
   "source": [
    "Main loop: Build graphs from parent-child pairs:"
   ]
  },
  {
   "cell_type": "code",
   "execution_count": 22,
   "metadata": {},
   "outputs": [
    {
     "data": {
      "application/vnd.jupyter.widget-view+json": {
       "model_id": "9ebea62aa54c4efe8cab8a13bcec9f9d",
       "version_major": 2,
       "version_minor": 0
      },
      "text/plain": [
       "HBox(children=(FloatProgress(value=0.0, max=63787.0), HTML(value='')))"
      ]
     },
     "metadata": {},
     "output_type": "display_data"
    },
    {
     "name": "stdout",
     "output_type": "stream",
     "text": [
      "\n"
     ]
    },
    {
     "ename": "KeyboardInterrupt",
     "evalue": "",
     "output_type": "error",
     "traceback": [
      "\u001b[0;31m---------------------------------------------------------------------------\u001b[0m",
      "\u001b[0;31mKeyboardInterrupt\u001b[0m                         Traceback (most recent call last)",
      "\u001b[0;32m<ipython-input-22-5933ca597d0f>\u001b[0m in \u001b[0;36m<module>\u001b[0;34m\u001b[0m\n\u001b[1;32m      9\u001b[0m     \u001b[0mfam_start\u001b[0m \u001b[0;34m=\u001b[0m \u001b[0mfamily\u001b[0m\u001b[0;34m[\u001b[0m\u001b[0;34m'tBirth'\u001b[0m\u001b[0;34m]\u001b[0m\u001b[0;34m\u001b[0m\u001b[0;34m\u001b[0m\u001b[0m\n\u001b[1;32m     10\u001b[0m \u001b[0;34m\u001b[0m\u001b[0m\n\u001b[0;32m---> 11\u001b[0;31m     \u001b[0mfam_nodes\u001b[0m \u001b[0;34m=\u001b[0m \u001b[0mlist\u001b[0m\u001b[0;34m(\u001b[0m\u001b[0msearch_fam\u001b[0m\u001b[0;34m(\u001b[0m\u001b[0meve\u001b[0m\u001b[0;34m)\u001b[0m\u001b[0;34m)\u001b[0m\u001b[0;34m\u001b[0m\u001b[0;34m\u001b[0m\u001b[0m\n\u001b[0m\u001b[1;32m     12\u001b[0m     \u001b[0mfam_df\u001b[0m \u001b[0;34m=\u001b[0m \u001b[0mparent_df\u001b[0m\u001b[0;34m[\u001b[0m\u001b[0mparent_df\u001b[0m\u001b[0;34m[\u001b[0m\u001b[0;34m'avatar'\u001b[0m\u001b[0;34m]\u001b[0m\u001b[0;34m.\u001b[0m\u001b[0misin\u001b[0m\u001b[0;34m(\u001b[0m\u001b[0mfam_nodes\u001b[0m\u001b[0;34m)\u001b[0m\u001b[0;34m]\u001b[0m\u001b[0;34m\u001b[0m\u001b[0;34m\u001b[0m\u001b[0m\n\u001b[1;32m     13\u001b[0m     \u001b[0mfam\u001b[0m \u001b[0;34m=\u001b[0m \u001b[0mnx\u001b[0m\u001b[0;34m.\u001b[0m\u001b[0mfrom_pandas_edgelist\u001b[0m\u001b[0;34m(\u001b[0m\u001b[0mfam_df\u001b[0m\u001b[0;34m,\u001b[0m \u001b[0;34m'parent'\u001b[0m\u001b[0;34m,\u001b[0m \u001b[0;34m'avatar'\u001b[0m\u001b[0;34m,\u001b[0m \u001b[0;32mNone\u001b[0m\u001b[0;34m,\u001b[0m \u001b[0mnx\u001b[0m\u001b[0;34m.\u001b[0m\u001b[0mDiGraph\u001b[0m\u001b[0;34m(\u001b[0m\u001b[0;34m)\u001b[0m\u001b[0;34m)\u001b[0m\u001b[0;34m\u001b[0m\u001b[0;34m\u001b[0m\u001b[0m\n",
      "\u001b[0;32m<ipython-input-18-36d26ea4045b>\u001b[0m in \u001b[0;36msearch_fam\u001b[0;34m(player)\u001b[0m\n\u001b[1;32m      3\u001b[0m \u001b[0;34m\u001b[0m\u001b[0m\n\u001b[1;32m      4\u001b[0m     \u001b[0;32mfor\u001b[0m \u001b[0md\u001b[0m \u001b[0;32min\u001b[0m \u001b[0mdescendants\u001b[0m\u001b[0;34m:\u001b[0m\u001b[0;34m\u001b[0m\u001b[0;34m\u001b[0m\u001b[0m\n\u001b[0;32m----> 5\u001b[0;31m         \u001b[0mdescendants\u001b[0m \u001b[0;34m=\u001b[0m \u001b[0mnp\u001b[0m\u001b[0;34m.\u001b[0m\u001b[0mappend\u001b[0m\u001b[0;34m(\u001b[0m\u001b[0mdescendants\u001b[0m\u001b[0;34m,\u001b[0m \u001b[0msearch_fam\u001b[0m\u001b[0;34m(\u001b[0m\u001b[0md\u001b[0m\u001b[0;34m)\u001b[0m\u001b[0;34m)\u001b[0m\u001b[0;34m\u001b[0m\u001b[0;34m\u001b[0m\u001b[0m\n\u001b[0m\u001b[1;32m      6\u001b[0m \u001b[0;34m\u001b[0m\u001b[0m\n\u001b[1;32m      7\u001b[0m     \u001b[0;32mreturn\u001b[0m \u001b[0mdescendants\u001b[0m\u001b[0;34m\u001b[0m\u001b[0;34m\u001b[0m\u001b[0m\n",
      "\u001b[0;32m<ipython-input-18-36d26ea4045b>\u001b[0m in \u001b[0;36msearch_fam\u001b[0;34m(player)\u001b[0m\n\u001b[1;32m      3\u001b[0m \u001b[0;34m\u001b[0m\u001b[0m\n\u001b[1;32m      4\u001b[0m     \u001b[0;32mfor\u001b[0m \u001b[0md\u001b[0m \u001b[0;32min\u001b[0m \u001b[0mdescendants\u001b[0m\u001b[0;34m:\u001b[0m\u001b[0;34m\u001b[0m\u001b[0;34m\u001b[0m\u001b[0m\n\u001b[0;32m----> 5\u001b[0;31m         \u001b[0mdescendants\u001b[0m \u001b[0;34m=\u001b[0m \u001b[0mnp\u001b[0m\u001b[0;34m.\u001b[0m\u001b[0mappend\u001b[0m\u001b[0;34m(\u001b[0m\u001b[0mdescendants\u001b[0m\u001b[0;34m,\u001b[0m \u001b[0msearch_fam\u001b[0m\u001b[0;34m(\u001b[0m\u001b[0md\u001b[0m\u001b[0;34m)\u001b[0m\u001b[0;34m)\u001b[0m\u001b[0;34m\u001b[0m\u001b[0;34m\u001b[0m\u001b[0m\n\u001b[0m\u001b[1;32m      6\u001b[0m \u001b[0;34m\u001b[0m\u001b[0m\n\u001b[1;32m      7\u001b[0m     \u001b[0;32mreturn\u001b[0m \u001b[0mdescendants\u001b[0m\u001b[0;34m\u001b[0m\u001b[0;34m\u001b[0m\u001b[0m\n",
      "\u001b[0;32m<ipython-input-18-36d26ea4045b>\u001b[0m in \u001b[0;36msearch_fam\u001b[0;34m(player)\u001b[0m\n\u001b[1;32m      3\u001b[0m \u001b[0;34m\u001b[0m\u001b[0m\n\u001b[1;32m      4\u001b[0m     \u001b[0;32mfor\u001b[0m \u001b[0md\u001b[0m \u001b[0;32min\u001b[0m \u001b[0mdescendants\u001b[0m\u001b[0;34m:\u001b[0m\u001b[0;34m\u001b[0m\u001b[0;34m\u001b[0m\u001b[0m\n\u001b[0;32m----> 5\u001b[0;31m         \u001b[0mdescendants\u001b[0m \u001b[0;34m=\u001b[0m \u001b[0mnp\u001b[0m\u001b[0;34m.\u001b[0m\u001b[0mappend\u001b[0m\u001b[0;34m(\u001b[0m\u001b[0mdescendants\u001b[0m\u001b[0;34m,\u001b[0m \u001b[0msearch_fam\u001b[0m\u001b[0;34m(\u001b[0m\u001b[0md\u001b[0m\u001b[0;34m)\u001b[0m\u001b[0;34m)\u001b[0m\u001b[0;34m\u001b[0m\u001b[0;34m\u001b[0m\u001b[0m\n\u001b[0m\u001b[1;32m      6\u001b[0m \u001b[0;34m\u001b[0m\u001b[0m\n\u001b[1;32m      7\u001b[0m     \u001b[0;32mreturn\u001b[0m \u001b[0mdescendants\u001b[0m\u001b[0;34m\u001b[0m\u001b[0;34m\u001b[0m\u001b[0m\n",
      "\u001b[0;32m<ipython-input-18-36d26ea4045b>\u001b[0m in \u001b[0;36msearch_fam\u001b[0;34m(player)\u001b[0m\n\u001b[1;32m      3\u001b[0m \u001b[0;34m\u001b[0m\u001b[0m\n\u001b[1;32m      4\u001b[0m     \u001b[0;32mfor\u001b[0m \u001b[0md\u001b[0m \u001b[0;32min\u001b[0m \u001b[0mdescendants\u001b[0m\u001b[0;34m:\u001b[0m\u001b[0;34m\u001b[0m\u001b[0;34m\u001b[0m\u001b[0m\n\u001b[0;32m----> 5\u001b[0;31m         \u001b[0mdescendants\u001b[0m \u001b[0;34m=\u001b[0m \u001b[0mnp\u001b[0m\u001b[0;34m.\u001b[0m\u001b[0mappend\u001b[0m\u001b[0;34m(\u001b[0m\u001b[0mdescendants\u001b[0m\u001b[0;34m,\u001b[0m \u001b[0msearch_fam\u001b[0m\u001b[0;34m(\u001b[0m\u001b[0md\u001b[0m\u001b[0;34m)\u001b[0m\u001b[0;34m)\u001b[0m\u001b[0;34m\u001b[0m\u001b[0;34m\u001b[0m\u001b[0m\n\u001b[0m\u001b[1;32m      6\u001b[0m \u001b[0;34m\u001b[0m\u001b[0m\n\u001b[1;32m      7\u001b[0m     \u001b[0;32mreturn\u001b[0m \u001b[0mdescendants\u001b[0m\u001b[0;34m\u001b[0m\u001b[0;34m\u001b[0m\u001b[0m\n",
      "\u001b[0;32m<ipython-input-18-36d26ea4045b>\u001b[0m in \u001b[0;36msearch_fam\u001b[0;34m(player)\u001b[0m\n\u001b[1;32m      3\u001b[0m \u001b[0;34m\u001b[0m\u001b[0m\n\u001b[1;32m      4\u001b[0m     \u001b[0;32mfor\u001b[0m \u001b[0md\u001b[0m \u001b[0;32min\u001b[0m \u001b[0mdescendants\u001b[0m\u001b[0;34m:\u001b[0m\u001b[0;34m\u001b[0m\u001b[0;34m\u001b[0m\u001b[0m\n\u001b[0;32m----> 5\u001b[0;31m         \u001b[0mdescendants\u001b[0m \u001b[0;34m=\u001b[0m \u001b[0mnp\u001b[0m\u001b[0;34m.\u001b[0m\u001b[0mappend\u001b[0m\u001b[0;34m(\u001b[0m\u001b[0mdescendants\u001b[0m\u001b[0;34m,\u001b[0m \u001b[0msearch_fam\u001b[0m\u001b[0;34m(\u001b[0m\u001b[0md\u001b[0m\u001b[0;34m)\u001b[0m\u001b[0;34m)\u001b[0m\u001b[0;34m\u001b[0m\u001b[0;34m\u001b[0m\u001b[0m\n\u001b[0m\u001b[1;32m      6\u001b[0m \u001b[0;34m\u001b[0m\u001b[0m\n\u001b[1;32m      7\u001b[0m     \u001b[0;32mreturn\u001b[0m \u001b[0mdescendants\u001b[0m\u001b[0;34m\u001b[0m\u001b[0;34m\u001b[0m\u001b[0m\n",
      "\u001b[0;32m<ipython-input-18-36d26ea4045b>\u001b[0m in \u001b[0;36msearch_fam\u001b[0;34m(player)\u001b[0m\n\u001b[1;32m      3\u001b[0m \u001b[0;34m\u001b[0m\u001b[0m\n\u001b[1;32m      4\u001b[0m     \u001b[0;32mfor\u001b[0m \u001b[0md\u001b[0m \u001b[0;32min\u001b[0m \u001b[0mdescendants\u001b[0m\u001b[0;34m:\u001b[0m\u001b[0;34m\u001b[0m\u001b[0;34m\u001b[0m\u001b[0m\n\u001b[0;32m----> 5\u001b[0;31m         \u001b[0mdescendants\u001b[0m \u001b[0;34m=\u001b[0m \u001b[0mnp\u001b[0m\u001b[0;34m.\u001b[0m\u001b[0mappend\u001b[0m\u001b[0;34m(\u001b[0m\u001b[0mdescendants\u001b[0m\u001b[0;34m,\u001b[0m \u001b[0msearch_fam\u001b[0m\u001b[0;34m(\u001b[0m\u001b[0md\u001b[0m\u001b[0;34m)\u001b[0m\u001b[0;34m)\u001b[0m\u001b[0;34m\u001b[0m\u001b[0;34m\u001b[0m\u001b[0m\n\u001b[0m\u001b[1;32m      6\u001b[0m \u001b[0;34m\u001b[0m\u001b[0m\n\u001b[1;32m      7\u001b[0m     \u001b[0;32mreturn\u001b[0m \u001b[0mdescendants\u001b[0m\u001b[0;34m\u001b[0m\u001b[0;34m\u001b[0m\u001b[0m\n",
      "\u001b[0;32m<ipython-input-18-36d26ea4045b>\u001b[0m in \u001b[0;36msearch_fam\u001b[0;34m(player)\u001b[0m\n\u001b[1;32m      1\u001b[0m \u001b[0;32mdef\u001b[0m \u001b[0msearch_fam\u001b[0m\u001b[0;34m(\u001b[0m\u001b[0mplayer\u001b[0m\u001b[0;34m)\u001b[0m\u001b[0;34m:\u001b[0m\u001b[0;34m\u001b[0m\u001b[0;34m\u001b[0m\u001b[0m\n\u001b[0;32m----> 2\u001b[0;31m     \u001b[0mdescendants\u001b[0m \u001b[0;34m=\u001b[0m \u001b[0mparent_df\u001b[0m\u001b[0;34m.\u001b[0m\u001b[0mloc\u001b[0m\u001b[0;34m[\u001b[0m\u001b[0mparent_df\u001b[0m\u001b[0;34m[\u001b[0m\u001b[0;34m'parent'\u001b[0m\u001b[0;34m]\u001b[0m \u001b[0;34m==\u001b[0m \u001b[0mplayer\u001b[0m\u001b[0;34m,\u001b[0m \u001b[0;34m'avatar'\u001b[0m\u001b[0;34m]\u001b[0m\u001b[0;34m.\u001b[0m\u001b[0mvalues\u001b[0m\u001b[0;34m\u001b[0m\u001b[0;34m\u001b[0m\u001b[0m\n\u001b[0m\u001b[1;32m      3\u001b[0m \u001b[0;34m\u001b[0m\u001b[0m\n\u001b[1;32m      4\u001b[0m     \u001b[0;32mfor\u001b[0m \u001b[0md\u001b[0m \u001b[0;32min\u001b[0m \u001b[0mdescendants\u001b[0m\u001b[0;34m:\u001b[0m\u001b[0;34m\u001b[0m\u001b[0;34m\u001b[0m\u001b[0m\n\u001b[1;32m      5\u001b[0m         \u001b[0mdescendants\u001b[0m \u001b[0;34m=\u001b[0m \u001b[0mnp\u001b[0m\u001b[0;34m.\u001b[0m\u001b[0mappend\u001b[0m\u001b[0;34m(\u001b[0m\u001b[0mdescendants\u001b[0m\u001b[0;34m,\u001b[0m \u001b[0msearch_fam\u001b[0m\u001b[0;34m(\u001b[0m\u001b[0md\u001b[0m\u001b[0;34m)\u001b[0m\u001b[0;34m)\u001b[0m\u001b[0;34m\u001b[0m\u001b[0;34m\u001b[0m\u001b[0m\n",
      "\u001b[0;32m~/.conda/envs/py3/lib/python3.6/site-packages/pandas/core/ops/common.py\u001b[0m in \u001b[0;36mnew_method\u001b[0;34m(self, other)\u001b[0m\n\u001b[1;32m     63\u001b[0m         \u001b[0mother\u001b[0m \u001b[0;34m=\u001b[0m \u001b[0mitem_from_zerodim\u001b[0m\u001b[0;34m(\u001b[0m\u001b[0mother\u001b[0m\u001b[0;34m)\u001b[0m\u001b[0;34m\u001b[0m\u001b[0;34m\u001b[0m\u001b[0m\n\u001b[1;32m     64\u001b[0m \u001b[0;34m\u001b[0m\u001b[0m\n\u001b[0;32m---> 65\u001b[0;31m         \u001b[0;32mreturn\u001b[0m \u001b[0mmethod\u001b[0m\u001b[0;34m(\u001b[0m\u001b[0mself\u001b[0m\u001b[0;34m,\u001b[0m \u001b[0mother\u001b[0m\u001b[0;34m)\u001b[0m\u001b[0;34m\u001b[0m\u001b[0;34m\u001b[0m\u001b[0m\n\u001b[0m\u001b[1;32m     66\u001b[0m \u001b[0;34m\u001b[0m\u001b[0m\n\u001b[1;32m     67\u001b[0m     \u001b[0;32mreturn\u001b[0m \u001b[0mnew_method\u001b[0m\u001b[0;34m\u001b[0m\u001b[0;34m\u001b[0m\u001b[0m\n",
      "\u001b[0;32m~/.conda/envs/py3/lib/python3.6/site-packages/pandas/core/ops/__init__.py\u001b[0m in \u001b[0;36mwrapper\u001b[0;34m(self, other)\u001b[0m\n\u001b[1;32m    368\u001b[0m         \u001b[0mrvalues\u001b[0m \u001b[0;34m=\u001b[0m \u001b[0mextract_array\u001b[0m\u001b[0;34m(\u001b[0m\u001b[0mother\u001b[0m\u001b[0;34m,\u001b[0m \u001b[0mextract_numpy\u001b[0m\u001b[0;34m=\u001b[0m\u001b[0;32mTrue\u001b[0m\u001b[0;34m)\u001b[0m\u001b[0;34m\u001b[0m\u001b[0;34m\u001b[0m\u001b[0m\n\u001b[1;32m    369\u001b[0m \u001b[0;34m\u001b[0m\u001b[0m\n\u001b[0;32m--> 370\u001b[0;31m         \u001b[0mres_values\u001b[0m \u001b[0;34m=\u001b[0m \u001b[0mcomparison_op\u001b[0m\u001b[0;34m(\u001b[0m\u001b[0mlvalues\u001b[0m\u001b[0;34m,\u001b[0m \u001b[0mrvalues\u001b[0m\u001b[0;34m,\u001b[0m \u001b[0mop\u001b[0m\u001b[0;34m)\u001b[0m\u001b[0;34m\u001b[0m\u001b[0;34m\u001b[0m\u001b[0m\n\u001b[0m\u001b[1;32m    371\u001b[0m \u001b[0;34m\u001b[0m\u001b[0m\n\u001b[1;32m    372\u001b[0m         \u001b[0;32mreturn\u001b[0m \u001b[0mself\u001b[0m\u001b[0;34m.\u001b[0m\u001b[0m_construct_result\u001b[0m\u001b[0;34m(\u001b[0m\u001b[0mres_values\u001b[0m\u001b[0;34m,\u001b[0m \u001b[0mname\u001b[0m\u001b[0;34m=\u001b[0m\u001b[0mres_name\u001b[0m\u001b[0;34m)\u001b[0m\u001b[0;34m\u001b[0m\u001b[0;34m\u001b[0m\u001b[0m\n",
      "\u001b[0;32m~/.conda/envs/py3/lib/python3.6/site-packages/pandas/core/ops/array_ops.py\u001b[0m in \u001b[0;36mcomparison_op\u001b[0;34m(left, right, op)\u001b[0m\n\u001b[1;32m    244\u001b[0m             \u001b[0mwarnings\u001b[0m\u001b[0;34m.\u001b[0m\u001b[0msimplefilter\u001b[0m\u001b[0;34m(\u001b[0m\u001b[0;34m\"ignore\"\u001b[0m\u001b[0;34m,\u001b[0m \u001b[0mDeprecationWarning\u001b[0m\u001b[0;34m)\u001b[0m\u001b[0;34m\u001b[0m\u001b[0;34m\u001b[0m\u001b[0m\n\u001b[1;32m    245\u001b[0m             \u001b[0;32mwith\u001b[0m \u001b[0mnp\u001b[0m\u001b[0;34m.\u001b[0m\u001b[0merrstate\u001b[0m\u001b[0;34m(\u001b[0m\u001b[0mall\u001b[0m\u001b[0;34m=\u001b[0m\u001b[0;34m\"ignore\"\u001b[0m\u001b[0;34m)\u001b[0m\u001b[0;34m:\u001b[0m\u001b[0;34m\u001b[0m\u001b[0;34m\u001b[0m\u001b[0m\n\u001b[0;32m--> 246\u001b[0;31m                 \u001b[0mres_values\u001b[0m \u001b[0;34m=\u001b[0m \u001b[0mna_arithmetic_op\u001b[0m\u001b[0;34m(\u001b[0m\u001b[0mlvalues\u001b[0m\u001b[0;34m,\u001b[0m \u001b[0mrvalues\u001b[0m\u001b[0;34m,\u001b[0m \u001b[0mop\u001b[0m\u001b[0;34m,\u001b[0m \u001b[0mis_cmp\u001b[0m\u001b[0;34m=\u001b[0m\u001b[0;32mTrue\u001b[0m\u001b[0;34m)\u001b[0m\u001b[0;34m\u001b[0m\u001b[0;34m\u001b[0m\u001b[0m\n\u001b[0m\u001b[1;32m    247\u001b[0m \u001b[0;34m\u001b[0m\u001b[0m\n\u001b[1;32m    248\u001b[0m     \u001b[0;32mreturn\u001b[0m \u001b[0mres_values\u001b[0m\u001b[0;34m\u001b[0m\u001b[0;34m\u001b[0m\u001b[0m\n",
      "\u001b[0;32m~/.conda/envs/py3/lib/python3.6/site-packages/pandas/core/ops/array_ops.py\u001b[0m in \u001b[0;36mna_arithmetic_op\u001b[0;34m(left, right, op, is_cmp)\u001b[0m\n\u001b[1;32m    140\u001b[0m \u001b[0;34m\u001b[0m\u001b[0m\n\u001b[1;32m    141\u001b[0m     \u001b[0;32mtry\u001b[0m\u001b[0;34m:\u001b[0m\u001b[0;34m\u001b[0m\u001b[0;34m\u001b[0m\u001b[0m\n\u001b[0;32m--> 142\u001b[0;31m         \u001b[0mresult\u001b[0m \u001b[0;34m=\u001b[0m \u001b[0mexpressions\u001b[0m\u001b[0;34m.\u001b[0m\u001b[0mevaluate\u001b[0m\u001b[0;34m(\u001b[0m\u001b[0mop\u001b[0m\u001b[0;34m,\u001b[0m \u001b[0mleft\u001b[0m\u001b[0;34m,\u001b[0m \u001b[0mright\u001b[0m\u001b[0;34m)\u001b[0m\u001b[0;34m\u001b[0m\u001b[0;34m\u001b[0m\u001b[0m\n\u001b[0m\u001b[1;32m    143\u001b[0m     \u001b[0;32mexcept\u001b[0m \u001b[0mTypeError\u001b[0m\u001b[0;34m:\u001b[0m\u001b[0;34m\u001b[0m\u001b[0;34m\u001b[0m\u001b[0m\n\u001b[1;32m    144\u001b[0m         \u001b[0;32mif\u001b[0m \u001b[0mis_cmp\u001b[0m\u001b[0;34m:\u001b[0m\u001b[0;34m\u001b[0m\u001b[0;34m\u001b[0m\u001b[0m\n",
      "\u001b[0;32m~/.conda/envs/py3/lib/python3.6/site-packages/pandas/core/computation/expressions.py\u001b[0m in \u001b[0;36mevaluate\u001b[0;34m(op, a, b, use_numexpr)\u001b[0m\n\u001b[1;32m    228\u001b[0m         \u001b[0muse_numexpr\u001b[0m \u001b[0;34m=\u001b[0m \u001b[0muse_numexpr\u001b[0m \u001b[0;32mand\u001b[0m \u001b[0m_bool_arith_check\u001b[0m\u001b[0;34m(\u001b[0m\u001b[0mop_str\u001b[0m\u001b[0;34m,\u001b[0m \u001b[0ma\u001b[0m\u001b[0;34m,\u001b[0m \u001b[0mb\u001b[0m\u001b[0;34m)\u001b[0m\u001b[0;34m\u001b[0m\u001b[0;34m\u001b[0m\u001b[0m\n\u001b[1;32m    229\u001b[0m         \u001b[0;32mif\u001b[0m \u001b[0muse_numexpr\u001b[0m\u001b[0;34m:\u001b[0m\u001b[0;34m\u001b[0m\u001b[0;34m\u001b[0m\u001b[0m\n\u001b[0;32m--> 230\u001b[0;31m             \u001b[0;32mreturn\u001b[0m \u001b[0m_evaluate\u001b[0m\u001b[0;34m(\u001b[0m\u001b[0mop\u001b[0m\u001b[0;34m,\u001b[0m \u001b[0mop_str\u001b[0m\u001b[0;34m,\u001b[0m \u001b[0ma\u001b[0m\u001b[0;34m,\u001b[0m \u001b[0mb\u001b[0m\u001b[0;34m)\u001b[0m  \u001b[0;31m# type: ignore\u001b[0m\u001b[0;34m\u001b[0m\u001b[0;34m\u001b[0m\u001b[0m\n\u001b[0m\u001b[1;32m    231\u001b[0m     \u001b[0;32mreturn\u001b[0m \u001b[0m_evaluate_standard\u001b[0m\u001b[0;34m(\u001b[0m\u001b[0mop\u001b[0m\u001b[0;34m,\u001b[0m \u001b[0mop_str\u001b[0m\u001b[0;34m,\u001b[0m \u001b[0ma\u001b[0m\u001b[0;34m,\u001b[0m \u001b[0mb\u001b[0m\u001b[0;34m)\u001b[0m\u001b[0;34m\u001b[0m\u001b[0;34m\u001b[0m\u001b[0m\n\u001b[1;32m    232\u001b[0m \u001b[0;34m\u001b[0m\u001b[0m\n",
      "\u001b[0;32m~/.conda/envs/py3/lib/python3.6/site-packages/pandas/core/computation/expressions.py\u001b[0m in \u001b[0;36m_evaluate_standard\u001b[0;34m(op, op_str, a, b)\u001b[0m\n\u001b[1;32m     66\u001b[0m         \u001b[0m_store_test_result\u001b[0m\u001b[0;34m(\u001b[0m\u001b[0;32mFalse\u001b[0m\u001b[0;34m)\u001b[0m\u001b[0;34m\u001b[0m\u001b[0;34m\u001b[0m\u001b[0m\n\u001b[1;32m     67\u001b[0m     \u001b[0;32mwith\u001b[0m \u001b[0mnp\u001b[0m\u001b[0;34m.\u001b[0m\u001b[0merrstate\u001b[0m\u001b[0;34m(\u001b[0m\u001b[0mall\u001b[0m\u001b[0;34m=\u001b[0m\u001b[0;34m\"ignore\"\u001b[0m\u001b[0;34m)\u001b[0m\u001b[0;34m:\u001b[0m\u001b[0;34m\u001b[0m\u001b[0;34m\u001b[0m\u001b[0m\n\u001b[0;32m---> 68\u001b[0;31m         \u001b[0;32mreturn\u001b[0m \u001b[0mop\u001b[0m\u001b[0;34m(\u001b[0m\u001b[0ma\u001b[0m\u001b[0;34m,\u001b[0m \u001b[0mb\u001b[0m\u001b[0;34m)\u001b[0m\u001b[0;34m\u001b[0m\u001b[0;34m\u001b[0m\u001b[0m\n\u001b[0m\u001b[1;32m     69\u001b[0m \u001b[0;34m\u001b[0m\u001b[0m\n\u001b[1;32m     70\u001b[0m \u001b[0;34m\u001b[0m\u001b[0m\n",
      "\u001b[0;31mKeyboardInterrupt\u001b[0m: "
     ]
    }
   ],
   "source": [
    "os.makedirs('outputs/families', exist_ok=True)\n",
    "\n",
    "families_list = []\n",
    "\n",
    "for _, family in tqdm.tqdm(eves.iterrows(), total=n_eves):\n",
    "\n",
    "    eve = family['avatar']\n",
    "    fam_name = family['last']\n",
    "    fam_start = family['tBirth']\n",
    "\n",
    "    fam_nodes = list(search_fam(eve))\n",
    "    fam_df = parent_df[parent_df['avatar'].isin(fam_nodes)]\n",
    "    fam = nx.from_pandas_edgelist(fam_df, 'parent', 'avatar', None, nx.DiGraph())    \n",
    "    fam.add_node(str(eve))\n",
    "\n",
    "    all_members = fam_nodes + [eve]\n",
    "\n",
    "    if not len(fam_name):\n",
    "        fam_name = 'nameless'\n",
    "\n",
    "    fam_id = 'time-%i_eve-%i_name-%s' % (fam_start, eve, fam_name)\n",
    "\n",
    "    # Add family to list\n",
    "    families_list.extend([(relative, fam_id) for relative in all_members])\n",
    "\n",
    "    # Save family data\n",
    "    out_file = 'outputs/families/families_%s.json' % fam_id\n",
    "    fam_data = nx.json_graph.node_link_data(fam)\n",
    "    write_json(fam_data, out_file)"
   ]
  },
  {
   "cell_type": "markdown",
   "metadata": {},
   "source": [
    "### Tag lifelogs by family\n",
    "This will be used for several subsequent analyses (e.g., migration, comparing different success measures)"
   ]
  },
  {
   "cell_type": "code",
   "execution_count": null,
   "metadata": {},
   "outputs": [],
   "source": [
    "families_df = pd.DataFrame(families_list, columns=['avatar', 'family'])\n",
    "families_df.to_csv('outputs/family_playerID.tsv', sep='\\t')"
   ]
  }
 ],
 "metadata": {
  "kernelspec": {
   "display_name": "Python [conda env:.conda-py3]",
   "language": "python",
   "name": "conda-env-.conda-py3-py"
  },
  "language_info": {
   "codemirror_mode": {
    "name": "ipython",
    "version": 3
   },
   "file_extension": ".py",
   "mimetype": "text/x-python",
   "name": "python",
   "nbconvert_exporter": "python",
   "pygments_lexer": "ipython3",
   "version": "3.6.10"
  },
  "toc": {
   "base_numbering": 1,
   "nav_menu": {},
   "number_sections": true,
   "sideBar": true,
   "skip_h1_title": false,
   "title_cell": "Table of Contents",
   "title_sidebar": "Contents",
   "toc_cell": false,
   "toc_position": {},
   "toc_section_display": true,
   "toc_window_display": false
  }
 },
 "nbformat": 4,
 "nbformat_minor": 2
}
