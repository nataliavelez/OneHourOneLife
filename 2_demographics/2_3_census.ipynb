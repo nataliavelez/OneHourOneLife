{
 "cells": [
  {
   "cell_type": "markdown",
   "metadata": {},
   "source": [
    "# Census\n",
    "Natalia Vélez, September 2020\n",
    "\n",
    "In this notebook:\n",
    "* How much activity was there in each server? in each release?\n",
    "* Aggregate measures: Age and cause of death\n",
    "* How stable are these aggregate measures over different releases?"
   ]
  },
  {
   "cell_type": "code",
   "execution_count": 1,
   "metadata": {},
   "outputs": [],
   "source": [
    "%matplotlib inline\n",
    "\n",
    "import pandas as pd\n",
    "import numpy as np\n",
    "import matplotlib.pyplot as plt\n",
    "import seaborn as sns\n",
    "from scipy import stats\n",
    "from statsmodels.distributions.empirical_distribution import ECDF\n",
    "\n",
    "sns.set_style('white')\n",
    "sns.set_context('talk')"
   ]
  },
  {
   "cell_type": "markdown",
   "metadata": {},
   "source": [
    "## Prepare data for analysis"
   ]
  },
  {
   "cell_type": "markdown",
   "metadata": {},
   "source": [
    "Load all data:"
   ]
  },
  {
   "cell_type": "code",
   "execution_count": 2,
   "metadata": {},
   "outputs": [
    {
     "name": "stderr",
     "output_type": "stream",
     "text": [
      "/users/nvelezalicea/.conda/envs/py3/lib/python3.6/site-packages/numpy/lib/arraysetops.py:580: FutureWarning: elementwise comparison failed; returning scalar instead, but in the future will perform elementwise comparison\n",
      "  mask |= (ar1 == a)\n"
     ]
    },
    {
     "data": {
      "text/html": [
       "<div>\n",
       "<style scoped>\n",
       "    .dataframe tbody tr th:only-of-type {\n",
       "        vertical-align: middle;\n",
       "    }\n",
       "\n",
       "    .dataframe tbody tr th {\n",
       "        vertical-align: top;\n",
       "    }\n",
       "\n",
       "    .dataframe thead th {\n",
       "        text-align: right;\n",
       "    }\n",
       "</style>\n",
       "<table border=\"1\" class=\"dataframe\">\n",
       "  <thead>\n",
       "    <tr style=\"text-align: right;\">\n",
       "      <th></th>\n",
       "      <th>server</th>\n",
       "      <th>release</th>\n",
       "      <th>era</th>\n",
       "      <th>event</th>\n",
       "      <th>timestamp</th>\n",
       "      <th>avatar</th>\n",
       "      <th>player</th>\n",
       "      <th>age</th>\n",
       "      <th>sex</th>\n",
       "      <th>location</th>\n",
       "      <th>parent</th>\n",
       "      <th>cause_of_death</th>\n",
       "      <th>killer</th>\n",
       "    </tr>\n",
       "  </thead>\n",
       "  <tbody>\n",
       "    <tr>\n",
       "      <th>0</th>\n",
       "      <td>bigserver2</td>\n",
       "      <td>194.0</td>\n",
       "      <td>arc</td>\n",
       "      <td>B</td>\n",
       "      <td>1548804597</td>\n",
       "      <td>2.0</td>\n",
       "      <td>a51edcb77a3900d53adc61d394876c5ca7417486</td>\n",
       "      <td>NaN</td>\n",
       "      <td>F</td>\n",
       "      <td>(50, -7)</td>\n",
       "      <td>NaN</td>\n",
       "      <td>NaN</td>\n",
       "      <td>NaN</td>\n",
       "    </tr>\n",
       "    <tr>\n",
       "      <th>1</th>\n",
       "      <td>bigserver2</td>\n",
       "      <td>194.0</td>\n",
       "      <td>arc</td>\n",
       "      <td>D</td>\n",
       "      <td>1548807206</td>\n",
       "      <td>2.0</td>\n",
       "      <td>a51edcb77a3900d53adc61d394876c5ca7417486</td>\n",
       "      <td>57.49</td>\n",
       "      <td>F</td>\n",
       "      <td>(64, -8)</td>\n",
       "      <td>NaN</td>\n",
       "      <td>hunger</td>\n",
       "      <td>NaN</td>\n",
       "    </tr>\n",
       "    <tr>\n",
       "      <th>2</th>\n",
       "      <td>bigserver2</td>\n",
       "      <td>194.0</td>\n",
       "      <td>arc</td>\n",
       "      <td>B</td>\n",
       "      <td>1548814222</td>\n",
       "      <td>3.0</td>\n",
       "      <td>ba474919bfbe67b14ec6e6fd05c19f383152b1b2</td>\n",
       "      <td>NaN</td>\n",
       "      <td>F</td>\n",
       "      <td>(1453, -436)</td>\n",
       "      <td>NaN</td>\n",
       "      <td>NaN</td>\n",
       "      <td>NaN</td>\n",
       "    </tr>\n",
       "    <tr>\n",
       "      <th>3</th>\n",
       "      <td>bigserver2</td>\n",
       "      <td>194.0</td>\n",
       "      <td>arc</td>\n",
       "      <td>B</td>\n",
       "      <td>1548814226</td>\n",
       "      <td>4.0</td>\n",
       "      <td>0c1781b6944db9e58b5d71adfe64af09fedad796</td>\n",
       "      <td>NaN</td>\n",
       "      <td>M</td>\n",
       "      <td>(1453, -436)</td>\n",
       "      <td>3.0</td>\n",
       "      <td>NaN</td>\n",
       "      <td>NaN</td>\n",
       "    </tr>\n",
       "    <tr>\n",
       "      <th>4</th>\n",
       "      <td>bigserver2</td>\n",
       "      <td>194.0</td>\n",
       "      <td>arc</td>\n",
       "      <td>B</td>\n",
       "      <td>1548814227</td>\n",
       "      <td>5.0</td>\n",
       "      <td>77a67da50b453a570d1e3311a56cd9da89187cd2</td>\n",
       "      <td>NaN</td>\n",
       "      <td>F</td>\n",
       "      <td>(1366, -395)</td>\n",
       "      <td>NaN</td>\n",
       "      <td>NaN</td>\n",
       "      <td>NaN</td>\n",
       "    </tr>\n",
       "  </tbody>\n",
       "</table>\n",
       "</div>"
      ],
      "text/plain": [
       "       server  release  era event   timestamp  avatar  \\\n",
       "0  bigserver2    194.0  arc     B  1548804597     2.0   \n",
       "1  bigserver2    194.0  arc     D  1548807206     2.0   \n",
       "2  bigserver2    194.0  arc     B  1548814222     3.0   \n",
       "3  bigserver2    194.0  arc     B  1548814226     4.0   \n",
       "4  bigserver2    194.0  arc     B  1548814227     5.0   \n",
       "\n",
       "                                     player    age sex      location  parent  \\\n",
       "0  a51edcb77a3900d53adc61d394876c5ca7417486    NaN   F      (50, -7)     NaN   \n",
       "1  a51edcb77a3900d53adc61d394876c5ca7417486  57.49   F      (64, -8)     NaN   \n",
       "2  ba474919bfbe67b14ec6e6fd05c19f383152b1b2    NaN   F  (1453, -436)     NaN   \n",
       "3  0c1781b6944db9e58b5d71adfe64af09fedad796    NaN   M  (1453, -436)     3.0   \n",
       "4  77a67da50b453a570d1e3311a56cd9da89187cd2    NaN   F  (1366, -395)     NaN   \n",
       "\n",
       "  cause_of_death  killer  \n",
       "0            NaN     NaN  \n",
       "1         hunger     NaN  \n",
       "2            NaN     NaN  \n",
       "3            NaN     NaN  \n",
       "4            NaN     NaN  "
      ]
     },
     "execution_count": 2,
     "metadata": {},
     "output_type": "execute_result"
    }
   ],
   "source": [
    "eras = ['arc', 'rift', 'boundless']\n",
    "era_data = []\n",
    "for e in eras:\n",
    "    era_file = 'outputs/lifelogs_bigserver2_%s_data.tsv' % e\n",
    "    era_data.append(pd.read_csv(era_file, sep='\\t', index_col=0))\n",
    "\n",
    "# All bigserver2 data\n",
    "big_df = pd.concat(era_data)\n",
    "big_df.head()"
   ]
  },
  {
   "cell_type": "markdown",
   "metadata": {},
   "source": [
    "## How many players/lives are in the dataset?"
   ]
  },
  {
   "cell_type": "markdown",
   "metadata": {},
   "source": [
    "### Birth/death events"
   ]
  },
  {
   "cell_type": "markdown",
   "metadata": {},
   "source": [
    "Births/deaths by release:"
   ]
  },
  {
   "cell_type": "code",
   "execution_count": 3,
   "metadata": {},
   "outputs": [
    {
     "data": {
      "text/html": [
       "<div>\n",
       "<style scoped>\n",
       "    .dataframe tbody tr th:only-of-type {\n",
       "        vertical-align: middle;\n",
       "    }\n",
       "\n",
       "    .dataframe tbody tr th {\n",
       "        vertical-align: top;\n",
       "    }\n",
       "\n",
       "    .dataframe thead th {\n",
       "        text-align: right;\n",
       "    }\n",
       "</style>\n",
       "<table border=\"1\" class=\"dataframe\">\n",
       "  <thead>\n",
       "    <tr style=\"text-align: right;\">\n",
       "      <th></th>\n",
       "      <th>release</th>\n",
       "      <th>event</th>\n",
       "      <th>avatar</th>\n",
       "    </tr>\n",
       "  </thead>\n",
       "  <tbody>\n",
       "    <tr>\n",
       "      <th>0</th>\n",
       "      <td>194.0</td>\n",
       "      <td>B</td>\n",
       "      <td>24802</td>\n",
       "    </tr>\n",
       "    <tr>\n",
       "      <th>1</th>\n",
       "      <td>194.0</td>\n",
       "      <td>D</td>\n",
       "      <td>24648</td>\n",
       "    </tr>\n",
       "    <tr>\n",
       "      <th>2</th>\n",
       "      <td>196.0</td>\n",
       "      <td>B</td>\n",
       "      <td>76648</td>\n",
       "    </tr>\n",
       "    <tr>\n",
       "      <th>3</th>\n",
       "      <td>196.0</td>\n",
       "      <td>D</td>\n",
       "      <td>76591</td>\n",
       "    </tr>\n",
       "    <tr>\n",
       "      <th>4</th>\n",
       "      <td>197.0</td>\n",
       "      <td>B</td>\n",
       "      <td>39672</td>\n",
       "    </tr>\n",
       "  </tbody>\n",
       "</table>\n",
       "</div>"
      ],
      "text/plain": [
       "   release event  avatar\n",
       "0    194.0     B   24802\n",
       "1    194.0     D   24648\n",
       "2    196.0     B   76648\n",
       "3    196.0     D   76591\n",
       "4    197.0     B   39672"
      ]
     },
     "execution_count": 3,
     "metadata": {},
     "output_type": "execute_result"
    }
   ],
   "source": [
    "big_activity = big_df.groupby(['release', 'event']).agg({'avatar': 'count'})\n",
    "big_activity = big_activity.reset_index()\n",
    "\n",
    "big_activity.head()"
   ]
  },
  {
   "cell_type": "code",
   "execution_count": 4,
   "metadata": {},
   "outputs": [
    {
     "data": {
      "text/plain": [
       "<seaborn.axisgrid.FacetGrid at 0x2b4b7132c048>"
      ]
     },
     "execution_count": 4,
     "metadata": {},
     "output_type": "execute_result"
    },
    {
     "data": {
      "image/png": "[encoded data removed]",
      "text/plain": [
       "<Figure size 432x216 with 2 Axes>"
      ]
     },
     "metadata": {},
     "output_type": "display_data"
    }
   ],
   "source": [
    "grid = sns.FacetGrid(big_activity, col=\"event\", hue=\"event\")\n",
    "grid.map(plt.plot, \"release\", \"avatar\", marker=\"o\")"
   ]
  },
  {
   "cell_type": "markdown",
   "metadata": {},
   "source": [
    "Total births and deaths:"
   ]
  },
  {
   "cell_type": "code",
   "execution_count": 5,
   "metadata": {},
   "outputs": [
    {
     "data": {
      "text/plain": [
       "event\n",
       "B    2934434\n",
       "D    2929785\n",
       "Name: avatar, dtype: int64"
      ]
     },
     "execution_count": 5,
     "metadata": {},
     "output_type": "execute_result"
    }
   ],
   "source": [
    "big_activity.groupby('event')['avatar'].sum()"
   ]
  },
  {
   "cell_type": "markdown",
   "metadata": {},
   "source": [
    "Overall, there are fewer deaths in the data than there are births. Is this because the data for the last release before we initiated the download was incomplete, or because the data are consistently cut off at each release? \n"
   ]
  },
  {
   "cell_type": "code",
   "execution_count": 6,
   "metadata": {},
   "outputs": [
    {
     "data": {
      "text/plain": [
       "<matplotlib.lines.Line2D at 0x2b4bbe442d68>"
      ]
     },
     "execution_count": 6,
     "metadata": {},
     "output_type": "execute_result"
    },
    {
     "data": {
      "image/png": "[encoded data removed]",
      "text/plain": [
       "<Figure size 432x288 with 1 Axes>"
      ]
     },
     "metadata": {},
     "output_type": "display_data"
    }
   ],
   "source": [
    "big_by_release = big_activity.groupby(['release', 'event'])['avatar'].sum().reset_index()\n",
    "big_diff = big_by_release.pivot(index='release', columns='event', values='avatar').reset_index()\n",
    "big_diff['diff'] = big_diff['B'] - big_diff['D']\n",
    "\n",
    "plt.plot(big_diff['release'], big_diff['diff'], marker = 'o')\n",
    "plt.axhline(y = 0, linestyle = '--', color='#aaaaaa')"
   ]
  },
  {
   "cell_type": "markdown",
   "metadata": {},
   "source": [
    "## Charting individual players' expertise"
   ]
  },
  {
   "cell_type": "markdown",
   "metadata": {},
   "source": [
    "Each player has a unique, anonymized hash associated with them. By tracking how often a particular hash appears in birth events, we can get a sense of how many \"lives\" unique players contribute to the dataset. I am also particularly curious about whether there might be some particularly prolific \"power-users\" driving innovation and development."
   ]
  },
  {
   "cell_type": "markdown",
   "metadata": {},
   "source": [
    "Filter birth events:"
   ]
  },
  {
   "cell_type": "code",
   "execution_count": 7,
   "metadata": {},
   "outputs": [
    {
     "data": {
      "text/html": [
       "<div>\n",
       "<style scoped>\n",
       "    .dataframe tbody tr th:only-of-type {\n",
       "        vertical-align: middle;\n",
       "    }\n",
       "\n",
       "    .dataframe tbody tr th {\n",
       "        vertical-align: top;\n",
       "    }\n",
       "\n",
       "    .dataframe thead th {\n",
       "        text-align: right;\n",
       "    }\n",
       "</style>\n",
       "<table border=\"1\" class=\"dataframe\">\n",
       "  <thead>\n",
       "    <tr style=\"text-align: right;\">\n",
       "      <th></th>\n",
       "      <th>server</th>\n",
       "      <th>release</th>\n",
       "      <th>era</th>\n",
       "      <th>event</th>\n",
       "      <th>timestamp</th>\n",
       "      <th>avatar</th>\n",
       "      <th>player</th>\n",
       "      <th>age</th>\n",
       "      <th>sex</th>\n",
       "      <th>location</th>\n",
       "      <th>parent</th>\n",
       "      <th>cause_of_death</th>\n",
       "      <th>killer</th>\n",
       "    </tr>\n",
       "  </thead>\n",
       "  <tbody>\n",
       "    <tr>\n",
       "      <th>0</th>\n",
       "      <td>bigserver2</td>\n",
       "      <td>194.0</td>\n",
       "      <td>arc</td>\n",
       "      <td>B</td>\n",
       "      <td>1548804597</td>\n",
       "      <td>2.0</td>\n",
       "      <td>a51edcb77a3900d53adc61d394876c5ca7417486</td>\n",
       "      <td>NaN</td>\n",
       "      <td>F</td>\n",
       "      <td>(50, -7)</td>\n",
       "      <td>NaN</td>\n",
       "      <td>NaN</td>\n",
       "      <td>NaN</td>\n",
       "    </tr>\n",
       "    <tr>\n",
       "      <th>1</th>\n",
       "      <td>bigserver2</td>\n",
       "      <td>194.0</td>\n",
       "      <td>arc</td>\n",
       "      <td>B</td>\n",
       "      <td>1548814222</td>\n",
       "      <td>3.0</td>\n",
       "      <td>ba474919bfbe67b14ec6e6fd05c19f383152b1b2</td>\n",
       "      <td>NaN</td>\n",
       "      <td>F</td>\n",
       "      <td>(1453, -436)</td>\n",
       "      <td>NaN</td>\n",
       "      <td>NaN</td>\n",
       "      <td>NaN</td>\n",
       "    </tr>\n",
       "    <tr>\n",
       "      <th>2</th>\n",
       "      <td>bigserver2</td>\n",
       "      <td>194.0</td>\n",
       "      <td>arc</td>\n",
       "      <td>B</td>\n",
       "      <td>1548814226</td>\n",
       "      <td>4.0</td>\n",
       "      <td>0c1781b6944db9e58b5d71adfe64af09fedad796</td>\n",
       "      <td>NaN</td>\n",
       "      <td>M</td>\n",
       "      <td>(1453, -436)</td>\n",
       "      <td>3.0</td>\n",
       "      <td>NaN</td>\n",
       "      <td>NaN</td>\n",
       "    </tr>\n",
       "    <tr>\n",
       "      <th>3</th>\n",
       "      <td>bigserver2</td>\n",
       "      <td>194.0</td>\n",
       "      <td>arc</td>\n",
       "      <td>B</td>\n",
       "      <td>1548814227</td>\n",
       "      <td>5.0</td>\n",
       "      <td>77a67da50b453a570d1e3311a56cd9da89187cd2</td>\n",
       "      <td>NaN</td>\n",
       "      <td>F</td>\n",
       "      <td>(1366, -395)</td>\n",
       "      <td>NaN</td>\n",
       "      <td>NaN</td>\n",
       "      <td>NaN</td>\n",
       "    </tr>\n",
       "    <tr>\n",
       "      <th>4</th>\n",
       "      <td>bigserver2</td>\n",
       "      <td>194.0</td>\n",
       "      <td>arc</td>\n",
       "      <td>B</td>\n",
       "      <td>1548814231</td>\n",
       "      <td>6.0</td>\n",
       "      <td>ae87cea72e02d701fbb807b56113e3f7a3d20b83</td>\n",
       "      <td>NaN</td>\n",
       "      <td>M</td>\n",
       "      <td>(1366, -395)</td>\n",
       "      <td>5.0</td>\n",
       "      <td>NaN</td>\n",
       "      <td>NaN</td>\n",
       "    </tr>\n",
       "  </tbody>\n",
       "</table>\n",
       "</div>"
      ],
      "text/plain": [
       "       server  release  era event   timestamp  avatar  \\\n",
       "0  bigserver2    194.0  arc     B  1548804597     2.0   \n",
       "1  bigserver2    194.0  arc     B  1548814222     3.0   \n",
       "2  bigserver2    194.0  arc     B  1548814226     4.0   \n",
       "3  bigserver2    194.0  arc     B  1548814227     5.0   \n",
       "4  bigserver2    194.0  arc     B  1548814231     6.0   \n",
       "\n",
       "                                     player  age sex      location  parent  \\\n",
       "0  a51edcb77a3900d53adc61d394876c5ca7417486  NaN   F      (50, -7)     NaN   \n",
       "1  ba474919bfbe67b14ec6e6fd05c19f383152b1b2  NaN   F  (1453, -436)     NaN   \n",
       "2  0c1781b6944db9e58b5d71adfe64af09fedad796  NaN   M  (1453, -436)     3.0   \n",
       "3  77a67da50b453a570d1e3311a56cd9da89187cd2  NaN   F  (1366, -395)     NaN   \n",
       "4  ae87cea72e02d701fbb807b56113e3f7a3d20b83  NaN   M  (1366, -395)     5.0   \n",
       "\n",
       "  cause_of_death  killer  \n",
       "0            NaN     NaN  \n",
       "1            NaN     NaN  \n",
       "2            NaN     NaN  \n",
       "3            NaN     NaN  \n",
       "4            NaN     NaN  "
      ]
     },
     "execution_count": 7,
     "metadata": {},
     "output_type": "execute_result"
    }
   ],
   "source": [
    "big_births = big_df[big_df['event'] == 'B'].reset_index(drop=True)\n",
    "big_births.head()"
   ]
  },
  {
   "cell_type": "markdown",
   "metadata": {},
   "source": [
    "### Total occurrences"
   ]
  },
  {
   "cell_type": "markdown",
   "metadata": {},
   "source": [
    "Count occurrences of each player:"
   ]
  },
  {
   "cell_type": "code",
   "execution_count": 8,
   "metadata": {},
   "outputs": [
    {
     "data": {
      "text/html": [
       "<div>\n",
       "<style scoped>\n",
       "    .dataframe tbody tr th:only-of-type {\n",
       "        vertical-align: middle;\n",
       "    }\n",
       "\n",
       "    .dataframe tbody tr th {\n",
       "        vertical-align: top;\n",
       "    }\n",
       "\n",
       "    .dataframe thead th {\n",
       "        text-align: right;\n",
       "    }\n",
       "</style>\n",
       "<table border=\"1\" class=\"dataframe\">\n",
       "  <thead>\n",
       "    <tr style=\"text-align: right;\">\n",
       "      <th></th>\n",
       "      <th>player</th>\n",
       "      <th>n_lives</th>\n",
       "    </tr>\n",
       "  </thead>\n",
       "  <tbody>\n",
       "    <tr>\n",
       "      <th>0</th>\n",
       "      <td>00006debdd4d630a4a5aa395135a70a69e0db01e</td>\n",
       "      <td>3</td>\n",
       "    </tr>\n",
       "    <tr>\n",
       "      <th>1</th>\n",
       "      <td>0001394319e5e63bb74219fef647e9ff24507a21</td>\n",
       "      <td>4</td>\n",
       "    </tr>\n",
       "    <tr>\n",
       "      <th>2</th>\n",
       "      <td>0002e5ea5ce7cfd761135d255a245a3344af4377</td>\n",
       "      <td>338</td>\n",
       "    </tr>\n",
       "    <tr>\n",
       "      <th>3</th>\n",
       "      <td>00030d8a6d24ff9a416642f51ef68408cd846ec8</td>\n",
       "      <td>3</td>\n",
       "    </tr>\n",
       "    <tr>\n",
       "      <th>4</th>\n",
       "      <td>00047b60a01d908e2407b05a09b404c2f6cec6f6</td>\n",
       "      <td>4</td>\n",
       "    </tr>\n",
       "  </tbody>\n",
       "</table>\n",
       "</div>"
      ],
      "text/plain": [
       "                                     player  n_lives\n",
       "0  00006debdd4d630a4a5aa395135a70a69e0db01e        3\n",
       "1  0001394319e5e63bb74219fef647e9ff24507a21        4\n",
       "2  0002e5ea5ce7cfd761135d255a245a3344af4377      338\n",
       "3  00030d8a6d24ff9a416642f51ef68408cd846ec8        3\n",
       "4  00047b60a01d908e2407b05a09b404c2f6cec6f6        4"
      ]
     },
     "execution_count": 8,
     "metadata": {},
     "output_type": "execute_result"
    }
   ],
   "source": [
    "big_player = big_births.groupby('player')['timestamp'].count().reset_index()\n",
    "big_player = big_player.rename(columns={\"timestamp\": \"n_lives\"})\n",
    "big_player.head()"
   ]
  },
  {
   "cell_type": "markdown",
   "metadata": {},
   "source": [
    "How many unique players are there?"
   ]
  },
  {
   "cell_type": "code",
   "execution_count": 9,
   "metadata": {},
   "outputs": [
    {
     "data": {
      "text/plain": [
       "45209"
      ]
     },
     "execution_count": 9,
     "metadata": {},
     "output_type": "execute_result"
    }
   ],
   "source": [
    "big_player.shape[0]"
   ]
  },
  {
   "cell_type": "markdown",
   "metadata": {},
   "source": [
    "How many lives does each player contribute?"
   ]
  },
  {
   "cell_type": "code",
   "execution_count": 10,
   "metadata": {},
   "outputs": [
    {
     "data": {
      "image/png": "[encoded data removed]",
      "text/plain": [
       "<Figure size 432x288 with 1 Axes>"
      ]
     },
     "metadata": {},
     "output_type": "display_data"
    }
   ],
   "source": [
    "n_lives = np.log10(big_player['n_lives'].values)\n",
    "x_life = np.arange(0,5)\n",
    "x_life_labels = [10**x for x in x_life]\n",
    "g = sns.distplot(n_lives, bins=15, kde=False)\n",
    "g.set(xticks=x_life, xticklabels=x_life_labels, xlabel = '# lives lived')\n",
    "sns.despine()"
   ]
  },
  {
   "cell_type": "markdown",
   "metadata": {},
   "source": [
    "Some descriptive statistics:"
   ]
  },
  {
   "cell_type": "code",
   "execution_count": 11,
   "metadata": {},
   "outputs": [
    {
     "name": "stdout",
     "output_type": "stream",
     "text": [
      "Max: 9477.000000\n",
      "Min: 1.000000\n",
      "Median: 8.000000\n",
      "ModeResult(mode=array([0.]), count=array([6589]))\n"
     ]
    }
   ],
   "source": [
    "print('Max: %f' % 10**np.max(n_lives))\n",
    "print('Min: %f' % 10**np.min(n_lives))\n",
    "print('Median: %f' % 10**np.median(n_lives))\n",
    "print(stats.mode(n_lives))"
   ]
  },
  {
   "cell_type": "markdown",
   "metadata": {},
   "source": [
    "Empirical CDF:"
   ]
  },
  {
   "cell_type": "code",
   "execution_count": 12,
   "metadata": {},
   "outputs": [
    {
     "name": "stderr",
     "output_type": "stream",
     "text": [
      "/users/nvelezalicea/.conda/envs/py3/lib/python3.6/site-packages/ipykernel_launcher.py:6: UserWarning: FixedFormatter should only be used together with FixedLocator\n",
      "  \n"
     ]
    },
    {
     "data": {
      "image/png": "[encoded data removed]",
      "text/plain": [
       "<Figure size 432x288 with 1 Axes>"
      ]
     },
     "metadata": {},
     "output_type": "display_data"
    }
   ],
   "source": [
    "n_lives_ecdf = ECDF(n_lives)\n",
    "fig, ax = plt.subplots()\n",
    "ax.plot(n_lives_ecdf.x, n_lives_ecdf.y)\n",
    "ax.set_xlabel('# lives')\n",
    "ax.set_ylabel('Cumulative density')\n",
    "ax.set_xticklabels(x_life_labels)\n",
    "sns.despine()"
   ]
  },
  {
   "cell_type": "markdown",
   "metadata": {},
   "source": [
    "Cumulative counts:"
   ]
  },
  {
   "cell_type": "code",
   "execution_count": 13,
   "metadata": {},
   "outputs": [
    {
     "name": "stdout",
     "output_type": "stream",
     "text": [
      "p <= 1: 0.146\n",
      "p <= 10: 0.563\n",
      "p <= 25: 0.732\n",
      "p <= 50: 0.831\n",
      "p <= 100: 0.897\n",
      "p <= 500: 0.973\n",
      "p <= 1000: 0.988\n",
      "p <= 2500: 0.997\n",
      "p <= 4000: 0.999\n"
     ]
    }
   ],
   "source": [
    "lives_breaks_labels = [1, 10, 25, 50, 100, 500, 1000, 2500, 4000]\n",
    "lives_breaks = np.log10(lives_breaks_labels)\n",
    "lives_prop = n_lives_ecdf(lives_breaks)\n",
    "\n",
    "lives_list = list(zip(lives_breaks_labels, lives_prop))\n",
    "print(*['p <= %i: %0.3f' % (l[0], l[1]) for l in lives_list], sep='\\n')"
   ]
  },
  {
   "cell_type": "markdown",
   "metadata": {},
   "source": [
    "Top contributors:"
   ]
  },
  {
   "cell_type": "code",
   "execution_count": 14,
   "metadata": {},
   "outputs": [
    {
     "data": {
      "text/html": [
       "<div>\n",
       "<style scoped>\n",
       "    .dataframe tbody tr th:only-of-type {\n",
       "        vertical-align: middle;\n",
       "    }\n",
       "\n",
       "    .dataframe tbody tr th {\n",
       "        vertical-align: top;\n",
       "    }\n",
       "\n",
       "    .dataframe thead th {\n",
       "        text-align: right;\n",
       "    }\n",
       "</style>\n",
       "<table border=\"1\" class=\"dataframe\">\n",
       "  <thead>\n",
       "    <tr style=\"text-align: right;\">\n",
       "      <th></th>\n",
       "      <th>player</th>\n",
       "      <th>n_lives</th>\n",
       "    </tr>\n",
       "  </thead>\n",
       "  <tbody>\n",
       "    <tr>\n",
       "      <th>0</th>\n",
       "      <td>8ac173f9346f99eff5fb54d55b57acaace951896</td>\n",
       "      <td>9477</td>\n",
       "    </tr>\n",
       "    <tr>\n",
       "      <th>1</th>\n",
       "      <td>71f0317c349c25ec4188f1b501d05bd99d54b505</td>\n",
       "      <td>8766</td>\n",
       "    </tr>\n",
       "    <tr>\n",
       "      <th>2</th>\n",
       "      <td>3ce403481bf68baf1b158a2bf7f12ed93c0a47fe</td>\n",
       "      <td>8399</td>\n",
       "    </tr>\n",
       "    <tr>\n",
       "      <th>3</th>\n",
       "      <td>2260ec3961330cf12ed97ad87a93d52fa1f335fa</td>\n",
       "      <td>7446</td>\n",
       "    </tr>\n",
       "    <tr>\n",
       "      <th>4</th>\n",
       "      <td>ea5ea8d1bef19a9847bc8ca874e2dfa0a847ffc9</td>\n",
       "      <td>7343</td>\n",
       "    </tr>\n",
       "    <tr>\n",
       "      <th>...</th>\n",
       "      <td>...</td>\n",
       "      <td>...</td>\n",
       "    </tr>\n",
       "    <tr>\n",
       "      <th>95</th>\n",
       "      <td>f4fbfe827a1085f50ee410dab31c4d441ea29a76</td>\n",
       "      <td>2877</td>\n",
       "    </tr>\n",
       "    <tr>\n",
       "      <th>96</th>\n",
       "      <td>dca75e529655db4735c8859531966064b39c0181</td>\n",
       "      <td>2877</td>\n",
       "    </tr>\n",
       "    <tr>\n",
       "      <th>97</th>\n",
       "      <td>0770efcd0bb4135118ffd513e347a9b2dcea0148</td>\n",
       "      <td>2864</td>\n",
       "    </tr>\n",
       "    <tr>\n",
       "      <th>98</th>\n",
       "      <td>83c198916cbe5c71ad384bb833265c027fc70735</td>\n",
       "      <td>2855</td>\n",
       "    </tr>\n",
       "    <tr>\n",
       "      <th>99</th>\n",
       "      <td>1dc8e3632954adba994ed1706b96e33f4995e7e1</td>\n",
       "      <td>2828</td>\n",
       "    </tr>\n",
       "  </tbody>\n",
       "</table>\n",
       "<p>100 rows × 2 columns</p>\n",
       "</div>"
      ],
      "text/plain": [
       "                                      player  n_lives\n",
       "0   8ac173f9346f99eff5fb54d55b57acaace951896     9477\n",
       "1   71f0317c349c25ec4188f1b501d05bd99d54b505     8766\n",
       "2   3ce403481bf68baf1b158a2bf7f12ed93c0a47fe     8399\n",
       "3   2260ec3961330cf12ed97ad87a93d52fa1f335fa     7446\n",
       "4   ea5ea8d1bef19a9847bc8ca874e2dfa0a847ffc9     7343\n",
       "..                                       ...      ...\n",
       "95  f4fbfe827a1085f50ee410dab31c4d441ea29a76     2877\n",
       "96  dca75e529655db4735c8859531966064b39c0181     2877\n",
       "97  0770efcd0bb4135118ffd513e347a9b2dcea0148     2864\n",
       "98  83c198916cbe5c71ad384bb833265c027fc70735     2855\n",
       "99  1dc8e3632954adba994ed1706b96e33f4995e7e1     2828\n",
       "\n",
       "[100 rows x 2 columns]"
      ]
     },
     "execution_count": 14,
     "metadata": {},
     "output_type": "execute_result"
    }
   ],
   "source": [
    "big_top = big_player.sort_values('n_lives', ascending=False).reset_index(drop=True)\n",
    "big_top.to_csv('outputs/topplayers_all.tsv', sep='\\t', index=True)\n",
    "big_top[:100]"
   ]
  },
  {
   "cell_type": "markdown",
   "metadata": {},
   "source": [
    "## When and how do people die?"
   ]
  },
  {
   "cell_type": "markdown",
   "metadata": {},
   "source": [
    "Filter deaths:"
   ]
  },
  {
   "cell_type": "code",
   "execution_count": 15,
   "metadata": {},
   "outputs": [
    {
     "data": {
      "text/html": [
       "<div>\n",
       "<style scoped>\n",
       "    .dataframe tbody tr th:only-of-type {\n",
       "        vertical-align: middle;\n",
       "    }\n",
       "\n",
       "    .dataframe tbody tr th {\n",
       "        vertical-align: top;\n",
       "    }\n",
       "\n",
       "    .dataframe thead th {\n",
       "        text-align: right;\n",
       "    }\n",
       "</style>\n",
       "<table border=\"1\" class=\"dataframe\">\n",
       "  <thead>\n",
       "    <tr style=\"text-align: right;\">\n",
       "      <th></th>\n",
       "      <th>server</th>\n",
       "      <th>release</th>\n",
       "      <th>era</th>\n",
       "      <th>event</th>\n",
       "      <th>timestamp</th>\n",
       "      <th>avatar</th>\n",
       "      <th>player</th>\n",
       "      <th>age</th>\n",
       "      <th>sex</th>\n",
       "      <th>location</th>\n",
       "      <th>parent</th>\n",
       "      <th>cause_of_death</th>\n",
       "      <th>killer</th>\n",
       "    </tr>\n",
       "  </thead>\n",
       "  <tbody>\n",
       "    <tr>\n",
       "      <th>0</th>\n",
       "      <td>bigserver2</td>\n",
       "      <td>194.0</td>\n",
       "      <td>arc</td>\n",
       "      <td>D</td>\n",
       "      <td>1548807206</td>\n",
       "      <td>2.0</td>\n",
       "      <td>a51edcb77a3900d53adc61d394876c5ca7417486</td>\n",
       "      <td>57.49</td>\n",
       "      <td>F</td>\n",
       "      <td>(64, -8)</td>\n",
       "      <td>NaN</td>\n",
       "      <td>hunger</td>\n",
       "      <td>NaN</td>\n",
       "    </tr>\n",
       "    <tr>\n",
       "      <th>1</th>\n",
       "      <td>bigserver2</td>\n",
       "      <td>194.0</td>\n",
       "      <td>arc</td>\n",
       "      <td>D</td>\n",
       "      <td>1548814282</td>\n",
       "      <td>8.0</td>\n",
       "      <td>b3a2c99deced24ac11f6b8b10ba49066ca96606d</td>\n",
       "      <td>0.48</td>\n",
       "      <td>M</td>\n",
       "      <td>(1387, -433)</td>\n",
       "      <td>NaN</td>\n",
       "      <td>hunger</td>\n",
       "      <td>NaN</td>\n",
       "    </tr>\n",
       "    <tr>\n",
       "      <th>2</th>\n",
       "      <td>bigserver2</td>\n",
       "      <td>194.0</td>\n",
       "      <td>arc</td>\n",
       "      <td>D</td>\n",
       "      <td>1548814301</td>\n",
       "      <td>16.0</td>\n",
       "      <td>c5c94e5501424d0567c90730f5e2e6ad482a440f</td>\n",
       "      <td>0.09</td>\n",
       "      <td>M</td>\n",
       "      <td>(1452, -419)</td>\n",
       "      <td>NaN</td>\n",
       "      <td>disconnect</td>\n",
       "      <td>NaN</td>\n",
       "    </tr>\n",
       "    <tr>\n",
       "      <th>3</th>\n",
       "      <td>bigserver2</td>\n",
       "      <td>194.0</td>\n",
       "      <td>arc</td>\n",
       "      <td>D</td>\n",
       "      <td>1548814310</td>\n",
       "      <td>18.0</td>\n",
       "      <td>c5c94e5501424d0567c90730f5e2e6ad482a440f</td>\n",
       "      <td>0.09</td>\n",
       "      <td>F</td>\n",
       "      <td>(1414, -462)</td>\n",
       "      <td>NaN</td>\n",
       "      <td>disconnect</td>\n",
       "      <td>NaN</td>\n",
       "    </tr>\n",
       "    <tr>\n",
       "      <th>4</th>\n",
       "      <td>bigserver2</td>\n",
       "      <td>194.0</td>\n",
       "      <td>arc</td>\n",
       "      <td>D</td>\n",
       "      <td>1548814313</td>\n",
       "      <td>14.0</td>\n",
       "      <td>b3a2c99deced24ac11f6b8b10ba49066ca96606d</td>\n",
       "      <td>0.45</td>\n",
       "      <td>M</td>\n",
       "      <td>(1431, -428)</td>\n",
       "      <td>NaN</td>\n",
       "      <td>hunger</td>\n",
       "      <td>NaN</td>\n",
       "    </tr>\n",
       "  </tbody>\n",
       "</table>\n",
       "</div>"
      ],
      "text/plain": [
       "       server  release  era event   timestamp  avatar  \\\n",
       "0  bigserver2    194.0  arc     D  1548807206     2.0   \n",
       "1  bigserver2    194.0  arc     D  1548814282     8.0   \n",
       "2  bigserver2    194.0  arc     D  1548814301    16.0   \n",
       "3  bigserver2    194.0  arc     D  1548814310    18.0   \n",
       "4  bigserver2    194.0  arc     D  1548814313    14.0   \n",
       "\n",
       "                                     player    age sex      location  parent  \\\n",
       "0  a51edcb77a3900d53adc61d394876c5ca7417486  57.49   F      (64, -8)     NaN   \n",
       "1  b3a2c99deced24ac11f6b8b10ba49066ca96606d   0.48   M  (1387, -433)     NaN   \n",
       "2  c5c94e5501424d0567c90730f5e2e6ad482a440f   0.09   M  (1452, -419)     NaN   \n",
       "3  c5c94e5501424d0567c90730f5e2e6ad482a440f   0.09   F  (1414, -462)     NaN   \n",
       "4  b3a2c99deced24ac11f6b8b10ba49066ca96606d   0.45   M  (1431, -428)     NaN   \n",
       "\n",
       "  cause_of_death  killer  \n",
       "0         hunger     NaN  \n",
       "1         hunger     NaN  \n",
       "2     disconnect     NaN  \n",
       "3     disconnect     NaN  \n",
       "4         hunger     NaN  "
      ]
     },
     "execution_count": 15,
     "metadata": {},
     "output_type": "execute_result"
    }
   ],
   "source": [
    "death_data = big_df[big_df['event'] == 'D'].reset_index(drop=True)\n",
    "death_data.head()"
   ]
  },
  {
   "cell_type": "code",
   "execution_count": 16,
   "metadata": {},
   "outputs": [
    {
     "name": "stdout",
     "output_type": "stream",
     "text": [
      "Plotting 2929785 deaths\n"
     ]
    },
    {
     "data": {
      "text/plain": [
       "<seaborn.axisgrid.FacetGrid at 0x2b4bbe595d30>"
      ]
     },
     "execution_count": 16,
     "metadata": {},
     "output_type": "execute_result"
    },
    {
     "data": {
      "image/png": "[encoded data removed]",
      "text/plain": [
       "<Figure size 648x216 with 3 Axes>"
      ]
     },
     "metadata": {},
     "output_type": "display_data"
    }
   ],
   "source": [
    "print('Plotting %i deaths' % len(death_data))\n",
    "g = sns.FacetGrid(death_data, col=\"era\")\n",
    "g.map(plt.hist, \"age\", )"
   ]
  },
  {
   "cell_type": "markdown",
   "metadata": {},
   "source": [
    "Frequency of causes of death:"
   ]
  },
  {
   "cell_type": "code",
   "execution_count": 17,
   "metadata": {},
   "outputs": [
    {
     "data": {
      "text/plain": [
       "<seaborn.axisgrid.FacetGrid at 0x2b4c0c9894a8>"
      ]
     },
     "execution_count": 17,
     "metadata": {},
     "output_type": "execute_result"
    },
    {
     "data": {
      "image/png": "[encoded data removed]",
      "text/plain": [
       "<Figure size 1080x360 with 3 Axes>"
      ]
     },
     "metadata": {},
     "output_type": "display_data"
    }
   ],
   "source": [
    "cause_summ = death_data.groupby(['era', 'cause_of_death'])['age'].agg('count').reset_index()\n",
    "cause_summ = cause_summ.rename(columns={'age': 'n'})\n",
    "cause_summ['n'] = cause_summ['n']/cause_summ.groupby('era')['n'].transform('sum')\n",
    "cause_summ['era'] = pd.Categorical(cause_summ['era'], categories = ['arc', 'rift', 'boundless'])\n",
    "\n",
    "sns.catplot(data=cause_summ, x='cause_of_death', y='n', col='era', kind='bar')"
   ]
  },
  {
   "cell_type": "markdown",
   "metadata": {},
   "source": [
    "Age by cause of death (excluding old age):"
   ]
  },
  {
   "cell_type": "code",
   "execution_count": 18,
   "metadata": {},
   "outputs": [],
   "source": [
    "?sns.FacetGrid"
   ]
  },
  {
   "cell_type": "code",
   "execution_count": 19,
   "metadata": {},
   "outputs": [
    {
     "data": {
      "text/plain": [
       "<seaborn.axisgrid.FacetGrid at 0x2b4bbe7734e0>"
      ]
     },
     "execution_count": 19,
     "metadata": {},
     "output_type": "execute_result"
    },
    {
     "data": {
      "image/png": "[encoded data removed]",
      "text/plain": [
       "<Figure size 648x648 with 9 Axes>"
      ]
     },
     "metadata": {},
     "output_type": "display_data"
    }
   ],
   "source": [
    "nonold_death = death_data[~death_data['cause_of_death'].str.contains('oldAge')]\n",
    "\n",
    "g = sns.FacetGrid(nonold_death, row='cause_of_death', col='era', sharey=False)\n",
    "g.map(plt.hist, \"age\")\n",
    "g.set_titles('{col_name}: {row_name}')"
   ]
  },
  {
   "cell_type": "markdown",
   "metadata": {},
   "source": [
    "Save IDs from players who disconnected in infancy. (We will exclude them from some analyses, since they do not contribute to their communities.)"
   ]
  },
  {
   "cell_type": "code",
   "execution_count": 20,
   "metadata": {},
   "outputs": [
    {
     "name": "stdout",
     "output_type": "stream",
     "text": [
      "Found 981597 avatars who disconnected as babies (33.50% of total)\n",
      "[3080238 3080239 3080240 3080241 3080244 3080246 3080247 3080250 3080248\n",
      " 3080253]\n"
     ]
    }
   ],
   "source": [
    "infant_df = death_data[(death_data['cause_of_death'] == 'disconnect') & (death_data['age'] <= 2)]\n",
    "infant_df = infant_df.reset_index(drop=True)\n",
    "infant_deaths = infant_df.avatar.values.astype(np.int)\n",
    "\n",
    "n_all_deaths = len(death_data)\n",
    "n_infants = len(infant_deaths)\n",
    "\n",
    "print('Found %i avatars who disconnected as babies (%0.2f%% of total)' % (n_infants, n_infants/n_all_deaths*100))\n",
    "print(infant_deaths[-10:])\n",
    "\n",
    "np.savetxt('outputs/infant_deaths.txt', infant_deaths, fmt='%i')"
   ]
  },
  {
   "cell_type": "markdown",
   "metadata": {},
   "source": [
    "## Cumulative expertise x survival"
   ]
  },
  {
   "cell_type": "code",
   "execution_count": 21,
   "metadata": {},
   "outputs": [
    {
     "data": {
      "text/html": [
       "<div>\n",
       "<style scoped>\n",
       "    .dataframe tbody tr th:only-of-type {\n",
       "        vertical-align: middle;\n",
       "    }\n",
       "\n",
       "    .dataframe tbody tr th {\n",
       "        vertical-align: top;\n",
       "    }\n",
       "\n",
       "    .dataframe thead th {\n",
       "        text-align: right;\n",
       "    }\n",
       "</style>\n",
       "<table border=\"1\" class=\"dataframe\">\n",
       "  <thead>\n",
       "    <tr style=\"text-align: right;\">\n",
       "      <th></th>\n",
       "      <th>era</th>\n",
       "      <th>timestamp</th>\n",
       "      <th>avatar</th>\n",
       "      <th>player</th>\n",
       "      <th>age</th>\n",
       "      <th>n_life</th>\n",
       "      <th>gametime</th>\n",
       "    </tr>\n",
       "  </thead>\n",
       "  <tbody>\n",
       "    <tr>\n",
       "      <th>0</th>\n",
       "      <td>arc</td>\n",
       "      <td>1552917464</td>\n",
       "      <td>630641.0</td>\n",
       "      <td>00006debdd4d630a4a5aa395135a70a69e0db01e</td>\n",
       "      <td>13.88</td>\n",
       "      <td>0</td>\n",
       "      <td>0.00</td>\n",
       "    </tr>\n",
       "    <tr>\n",
       "      <th>1</th>\n",
       "      <td>arc</td>\n",
       "      <td>1552917768</td>\n",
       "      <td>630737.0</td>\n",
       "      <td>00006debdd4d630a4a5aa395135a70a69e0db01e</td>\n",
       "      <td>4.98</td>\n",
       "      <td>1</td>\n",
       "      <td>13.88</td>\n",
       "    </tr>\n",
       "    <tr>\n",
       "      <th>2</th>\n",
       "      <td>arc</td>\n",
       "      <td>1552918072</td>\n",
       "      <td>630799.0</td>\n",
       "      <td>00006debdd4d630a4a5aa395135a70a69e0db01e</td>\n",
       "      <td>4.68</td>\n",
       "      <td>2</td>\n",
       "      <td>18.86</td>\n",
       "    </tr>\n",
       "    <tr>\n",
       "      <th>3</th>\n",
       "      <td>arc</td>\n",
       "      <td>1550134390</td>\n",
       "      <td>214206.0</td>\n",
       "      <td>0001394319e5e63bb74219fef647e9ff24507a21</td>\n",
       "      <td>33.78</td>\n",
       "      <td>0</td>\n",
       "      <td>0.00</td>\n",
       "    </tr>\n",
       "    <tr>\n",
       "      <th>4</th>\n",
       "      <td>arc</td>\n",
       "      <td>1550135155</td>\n",
       "      <td>214530.0</td>\n",
       "      <td>0001394319e5e63bb74219fef647e9ff24507a21</td>\n",
       "      <td>7.25</td>\n",
       "      <td>1</td>\n",
       "      <td>33.78</td>\n",
       "    </tr>\n",
       "  </tbody>\n",
       "</table>\n",
       "</div>"
      ],
      "text/plain": [
       "   era   timestamp    avatar                                    player    age  \\\n",
       "0  arc  1552917464  630641.0  00006debdd4d630a4a5aa395135a70a69e0db01e  13.88   \n",
       "1  arc  1552917768  630737.0  00006debdd4d630a4a5aa395135a70a69e0db01e   4.98   \n",
       "2  arc  1552918072  630799.0  00006debdd4d630a4a5aa395135a70a69e0db01e   4.68   \n",
       "3  arc  1550134390  214206.0  0001394319e5e63bb74219fef647e9ff24507a21  33.78   \n",
       "4  arc  1550135155  214530.0  0001394319e5e63bb74219fef647e9ff24507a21   7.25   \n",
       "\n",
       "   n_life  gametime  \n",
       "0       0      0.00  \n",
       "1       1     13.88  \n",
       "2       2     18.86  \n",
       "3       0      0.00  \n",
       "4       1     33.78  "
      ]
     },
     "execution_count": 21,
     "metadata": {},
     "output_type": "execute_result"
    }
   ],
   "source": [
    "expert_df = death_data.copy()\n",
    "expert_df = expert_df[['era', 'timestamp', 'avatar', 'player', 'age']]\n",
    "expert_df = expert_df.sort_values(['player', 'timestamp']).reset_index(drop=True)\n",
    "expert_df['n_life'] = expert_df.groupby('player').cumcount()\n",
    "expert_df['gametime'] = expert_df.groupby('player')['age'].cumsum()\n",
    "expert_df['gametime'] = expert_df.groupby('player')['gametime'].shift(periods=1, fill_value=0)\n",
    "expert_df.head()"
   ]
  },
  {
   "cell_type": "markdown",
   "metadata": {},
   "source": [
    "Save to file:"
   ]
  },
  {
   "cell_type": "code",
   "execution_count": 22,
   "metadata": {},
   "outputs": [],
   "source": [
    "expert_df.to_csv('outputs/player_expertise.tsv', sep='\\t', index=None)"
   ]
  }
 ],
 "metadata": {
  "kernelspec": {
   "display_name": "Python [conda env:.conda-py3]",
   "language": "python",
   "name": "conda-env-.conda-py3-py"
  },
  "language_info": {
   "codemirror_mode": {
    "name": "ipython",
    "version": 3
   },
   "file_extension": ".py",
   "mimetype": "text/x-python",
   "name": "python",
   "nbconvert_exporter": "python",
   "pygments_lexer": "ipython3",
   "version": "3.6.10"
  }
 },
 "nbformat": 4,
 "nbformat_minor": 2
}
