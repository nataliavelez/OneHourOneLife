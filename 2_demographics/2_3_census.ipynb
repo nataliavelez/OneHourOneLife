{
 "cells": [
  {
   "cell_type": "markdown",
   "metadata": {},
   "source": [
    "# Census (July 2019–January 2020)\n",
    "Natalia Vélez, January 2020\n",
    "\n",
    "In this notebook:\n",
    "* How much activity was there in each server? in each release?\n",
    "* Aggregate measures: Age and cause of death\n",
    "* How stable are these aggregate measures over different releases?"
   ]
  },
  {
   "cell_type": "code",
   "execution_count": 6,
   "metadata": {},
   "outputs": [],
   "source": [
    "%matplotlib inline\n",
    "\n",
    "import pandas as pd\n",
    "import numpy as np\n",
    "import matplotlib.pyplot as plt\n",
    "import seaborn as sns\n",
    "from scipy import stats\n",
    "from statsmodels.distributions.empirical_distribution import ECDF"
   ]
  },
  {
   "cell_type": "markdown",
   "metadata": {},
   "source": [
    "## Prepare data for analysis"
   ]
  },
  {
   "cell_type": "markdown",
   "metadata": {},
   "source": [
    "Load all data:"
   ]
  },
  {
   "cell_type": "code",
   "execution_count": 27,
   "metadata": {},
   "outputs": [
    {
     "name": "stderr",
     "output_type": "stream",
     "text": [
      "/Users/nvelez/opt/anaconda3/lib/python3.7/site-packages/numpy/lib/arraysetops.py:569: FutureWarning: elementwise comparison failed; returning scalar instead, but in the future will perform elementwise comparison\n",
      "  mask |= (ar1 == a)\n"
     ]
    },
    {
     "data": {
      "text/html": [
       "<div>\n",
       "<style scoped>\n",
       "    .dataframe tbody tr th:only-of-type {\n",
       "        vertical-align: middle;\n",
       "    }\n",
       "\n",
       "    .dataframe tbody tr th {\n",
       "        vertical-align: top;\n",
       "    }\n",
       "\n",
       "    .dataframe thead th {\n",
       "        text-align: right;\n",
       "    }\n",
       "</style>\n",
       "<table border=\"1\" class=\"dataframe\">\n",
       "  <thead>\n",
       "    <tr style=\"text-align: right;\">\n",
       "      <th></th>\n",
       "      <th>server</th>\n",
       "      <th>release</th>\n",
       "      <th>era</th>\n",
       "      <th>event</th>\n",
       "      <th>timestamp</th>\n",
       "      <th>playerID</th>\n",
       "      <th>hash</th>\n",
       "      <th>age</th>\n",
       "      <th>sex</th>\n",
       "      <th>location</th>\n",
       "      <th>parent</th>\n",
       "      <th>cause_of_death</th>\n",
       "      <th>pop</th>\n",
       "      <th>chain</th>\n",
       "      <th>killer</th>\n",
       "    </tr>\n",
       "  </thead>\n",
       "  <tbody>\n",
       "    <tr>\n",
       "      <th>0</th>\n",
       "      <td>bigserver2</td>\n",
       "      <td>194.0</td>\n",
       "      <td>arc</td>\n",
       "      <td>B</td>\n",
       "      <td>1548804597</td>\n",
       "      <td>2.0</td>\n",
       "      <td>a51edcb77a3900d53adc61d394876c5ca7417486</td>\n",
       "      <td>NaN</td>\n",
       "      <td>F</td>\n",
       "      <td>(50,-7)</td>\n",
       "      <td>noParent</td>\n",
       "      <td>NaN</td>\n",
       "      <td>1</td>\n",
       "      <td>1.0</td>\n",
       "      <td>NaN</td>\n",
       "    </tr>\n",
       "    <tr>\n",
       "      <th>1</th>\n",
       "      <td>bigserver2</td>\n",
       "      <td>194.0</td>\n",
       "      <td>arc</td>\n",
       "      <td>D</td>\n",
       "      <td>1548807206</td>\n",
       "      <td>2.0</td>\n",
       "      <td>a51edcb77a3900d53adc61d394876c5ca7417486</td>\n",
       "      <td>57.49</td>\n",
       "      <td>F</td>\n",
       "      <td>(64, -8)</td>\n",
       "      <td>NaN</td>\n",
       "      <td>hunger</td>\n",
       "      <td>0</td>\n",
       "      <td>NaN</td>\n",
       "      <td>NaN</td>\n",
       "    </tr>\n",
       "    <tr>\n",
       "      <th>2</th>\n",
       "      <td>bigserver2</td>\n",
       "      <td>194.0</td>\n",
       "      <td>arc</td>\n",
       "      <td>B</td>\n",
       "      <td>1548814222</td>\n",
       "      <td>3.0</td>\n",
       "      <td>ba474919bfbe67b14ec6e6fd05c19f383152b1b2</td>\n",
       "      <td>NaN</td>\n",
       "      <td>F</td>\n",
       "      <td>(1453,-436)</td>\n",
       "      <td>noParent</td>\n",
       "      <td>NaN</td>\n",
       "      <td>1</td>\n",
       "      <td>1.0</td>\n",
       "      <td>NaN</td>\n",
       "    </tr>\n",
       "    <tr>\n",
       "      <th>3</th>\n",
       "      <td>bigserver2</td>\n",
       "      <td>194.0</td>\n",
       "      <td>arc</td>\n",
       "      <td>B</td>\n",
       "      <td>1548814226</td>\n",
       "      <td>4.0</td>\n",
       "      <td>0c1781b6944db9e58b5d71adfe64af09fedad796</td>\n",
       "      <td>NaN</td>\n",
       "      <td>M</td>\n",
       "      <td>(1453,-436)</td>\n",
       "      <td>parent=3</td>\n",
       "      <td>NaN</td>\n",
       "      <td>2</td>\n",
       "      <td>2.0</td>\n",
       "      <td>NaN</td>\n",
       "    </tr>\n",
       "    <tr>\n",
       "      <th>4</th>\n",
       "      <td>bigserver2</td>\n",
       "      <td>194.0</td>\n",
       "      <td>arc</td>\n",
       "      <td>B</td>\n",
       "      <td>1548814227</td>\n",
       "      <td>5.0</td>\n",
       "      <td>77a67da50b453a570d1e3311a56cd9da89187cd2</td>\n",
       "      <td>NaN</td>\n",
       "      <td>F</td>\n",
       "      <td>(1366,-395)</td>\n",
       "      <td>noParent</td>\n",
       "      <td>NaN</td>\n",
       "      <td>3</td>\n",
       "      <td>1.0</td>\n",
       "      <td>NaN</td>\n",
       "    </tr>\n",
       "  </tbody>\n",
       "</table>\n",
       "</div>"
      ],
      "text/plain": [
       "       server  release  era event   timestamp  playerID  \\\n",
       "0  bigserver2    194.0  arc     B  1548804597       2.0   \n",
       "1  bigserver2    194.0  arc     D  1548807206       2.0   \n",
       "2  bigserver2    194.0  arc     B  1548814222       3.0   \n",
       "3  bigserver2    194.0  arc     B  1548814226       4.0   \n",
       "4  bigserver2    194.0  arc     B  1548814227       5.0   \n",
       "\n",
       "                                       hash    age sex     location    parent  \\\n",
       "0  a51edcb77a3900d53adc61d394876c5ca7417486    NaN   F      (50,-7)  noParent   \n",
       "1  a51edcb77a3900d53adc61d394876c5ca7417486  57.49   F     (64, -8)       NaN   \n",
       "2  ba474919bfbe67b14ec6e6fd05c19f383152b1b2    NaN   F  (1453,-436)  noParent   \n",
       "3  0c1781b6944db9e58b5d71adfe64af09fedad796    NaN   M  (1453,-436)  parent=3   \n",
       "4  77a67da50b453a570d1e3311a56cd9da89187cd2    NaN   F  (1366,-395)  noParent   \n",
       "\n",
       "  cause_of_death  pop  chain  killer  \n",
       "0            NaN    1    1.0     NaN  \n",
       "1         hunger    0    NaN     NaN  \n",
       "2            NaN    1    1.0     NaN  \n",
       "3            NaN    2    2.0     NaN  \n",
       "4            NaN    3    1.0     NaN  "
      ]
     },
     "execution_count": 27,
     "metadata": {},
     "output_type": "execute_result"
    }
   ],
   "source": [
    "eras = ['arc', 'rift', 'boundless']\n",
    "era_data = []\n",
    "for e in eras:\n",
    "    era_file = 'outputs/lifelogs_bigserver2_%s_data.tsv' % e\n",
    "    era_data.append(pd.read_csv(era_file, sep='\\t', index_col=0))\n",
    "\n",
    "lifelog_data = pd.concat(era_data)\n",
    "lifelog_data.head()"
   ]
  },
  {
   "cell_type": "markdown",
   "metadata": {},
   "source": [
    "### Big Server Data only\n",
    "The bigserver is the only server that records all the data we are interested in for our analyses (lifelogs, map change, etc.), so we will just look at that separately throughout this notebook."
   ]
  },
  {
   "cell_type": "code",
   "execution_count": 28,
   "metadata": {},
   "outputs": [
    {
     "data": {
      "text/html": [
       "<div>\n",
       "<style scoped>\n",
       "    .dataframe tbody tr th:only-of-type {\n",
       "        vertical-align: middle;\n",
       "    }\n",
       "\n",
       "    .dataframe tbody tr th {\n",
       "        vertical-align: top;\n",
       "    }\n",
       "\n",
       "    .dataframe thead th {\n",
       "        text-align: right;\n",
       "    }\n",
       "</style>\n",
       "<table border=\"1\" class=\"dataframe\">\n",
       "  <thead>\n",
       "    <tr style=\"text-align: right;\">\n",
       "      <th></th>\n",
       "      <th>server</th>\n",
       "      <th>release</th>\n",
       "      <th>era</th>\n",
       "      <th>event</th>\n",
       "      <th>timestamp</th>\n",
       "      <th>playerID</th>\n",
       "      <th>hash</th>\n",
       "      <th>age</th>\n",
       "      <th>sex</th>\n",
       "      <th>location</th>\n",
       "      <th>parent</th>\n",
       "      <th>cause_of_death</th>\n",
       "      <th>pop</th>\n",
       "      <th>chain</th>\n",
       "      <th>killer</th>\n",
       "    </tr>\n",
       "  </thead>\n",
       "  <tbody>\n",
       "    <tr>\n",
       "      <th>0</th>\n",
       "      <td>bigserver2</td>\n",
       "      <td>194.0</td>\n",
       "      <td>arc</td>\n",
       "      <td>B</td>\n",
       "      <td>1548804597</td>\n",
       "      <td>2.0</td>\n",
       "      <td>a51edcb77a3900d53adc61d394876c5ca7417486</td>\n",
       "      <td>NaN</td>\n",
       "      <td>F</td>\n",
       "      <td>(50,-7)</td>\n",
       "      <td>noParent</td>\n",
       "      <td>NaN</td>\n",
       "      <td>1</td>\n",
       "      <td>1.0</td>\n",
       "      <td>NaN</td>\n",
       "    </tr>\n",
       "    <tr>\n",
       "      <th>1</th>\n",
       "      <td>bigserver2</td>\n",
       "      <td>194.0</td>\n",
       "      <td>arc</td>\n",
       "      <td>D</td>\n",
       "      <td>1548807206</td>\n",
       "      <td>2.0</td>\n",
       "      <td>a51edcb77a3900d53adc61d394876c5ca7417486</td>\n",
       "      <td>57.49</td>\n",
       "      <td>F</td>\n",
       "      <td>(64, -8)</td>\n",
       "      <td>NaN</td>\n",
       "      <td>hunger</td>\n",
       "      <td>0</td>\n",
       "      <td>NaN</td>\n",
       "      <td>NaN</td>\n",
       "    </tr>\n",
       "    <tr>\n",
       "      <th>2</th>\n",
       "      <td>bigserver2</td>\n",
       "      <td>194.0</td>\n",
       "      <td>arc</td>\n",
       "      <td>B</td>\n",
       "      <td>1548814222</td>\n",
       "      <td>3.0</td>\n",
       "      <td>ba474919bfbe67b14ec6e6fd05c19f383152b1b2</td>\n",
       "      <td>NaN</td>\n",
       "      <td>F</td>\n",
       "      <td>(1453,-436)</td>\n",
       "      <td>noParent</td>\n",
       "      <td>NaN</td>\n",
       "      <td>1</td>\n",
       "      <td>1.0</td>\n",
       "      <td>NaN</td>\n",
       "    </tr>\n",
       "    <tr>\n",
       "      <th>3</th>\n",
       "      <td>bigserver2</td>\n",
       "      <td>194.0</td>\n",
       "      <td>arc</td>\n",
       "      <td>B</td>\n",
       "      <td>1548814226</td>\n",
       "      <td>4.0</td>\n",
       "      <td>0c1781b6944db9e58b5d71adfe64af09fedad796</td>\n",
       "      <td>NaN</td>\n",
       "      <td>M</td>\n",
       "      <td>(1453,-436)</td>\n",
       "      <td>parent=3</td>\n",
       "      <td>NaN</td>\n",
       "      <td>2</td>\n",
       "      <td>2.0</td>\n",
       "      <td>NaN</td>\n",
       "    </tr>\n",
       "    <tr>\n",
       "      <th>4</th>\n",
       "      <td>bigserver2</td>\n",
       "      <td>194.0</td>\n",
       "      <td>arc</td>\n",
       "      <td>B</td>\n",
       "      <td>1548814227</td>\n",
       "      <td>5.0</td>\n",
       "      <td>77a67da50b453a570d1e3311a56cd9da89187cd2</td>\n",
       "      <td>NaN</td>\n",
       "      <td>F</td>\n",
       "      <td>(1366,-395)</td>\n",
       "      <td>noParent</td>\n",
       "      <td>NaN</td>\n",
       "      <td>3</td>\n",
       "      <td>1.0</td>\n",
       "      <td>NaN</td>\n",
       "    </tr>\n",
       "  </tbody>\n",
       "</table>\n",
       "</div>"
      ],
      "text/plain": [
       "       server  release  era event   timestamp  playerID  \\\n",
       "0  bigserver2    194.0  arc     B  1548804597       2.0   \n",
       "1  bigserver2    194.0  arc     D  1548807206       2.0   \n",
       "2  bigserver2    194.0  arc     B  1548814222       3.0   \n",
       "3  bigserver2    194.0  arc     B  1548814226       4.0   \n",
       "4  bigserver2    194.0  arc     B  1548814227       5.0   \n",
       "\n",
       "                                       hash    age sex     location    parent  \\\n",
       "0  a51edcb77a3900d53adc61d394876c5ca7417486    NaN   F      (50,-7)  noParent   \n",
       "1  a51edcb77a3900d53adc61d394876c5ca7417486  57.49   F     (64, -8)       NaN   \n",
       "2  ba474919bfbe67b14ec6e6fd05c19f383152b1b2    NaN   F  (1453,-436)  noParent   \n",
       "3  0c1781b6944db9e58b5d71adfe64af09fedad796    NaN   M  (1453,-436)  parent=3   \n",
       "4  77a67da50b453a570d1e3311a56cd9da89187cd2    NaN   F  (1366,-395)  noParent   \n",
       "\n",
       "  cause_of_death  pop  chain  killer  \n",
       "0            NaN    1    1.0     NaN  \n",
       "1         hunger    0    NaN     NaN  \n",
       "2            NaN    1    1.0     NaN  \n",
       "3            NaN    2    2.0     NaN  \n",
       "4            NaN    3    1.0     NaN  "
      ]
     },
     "execution_count": 28,
     "metadata": {},
     "output_type": "execute_result"
    }
   ],
   "source": [
    "big_df = lifelog_data[lifelog_data['server'] == 'bigserver2'].reset_index(drop=True)\n",
    "big_df.head()"
   ]
  },
  {
   "cell_type": "markdown",
   "metadata": {},
   "source": [
    "## How many players/lives are in the dataset?"
   ]
  },
  {
   "cell_type": "markdown",
   "metadata": {},
   "source": [
    "### Birth/death events"
   ]
  },
  {
   "cell_type": "markdown",
   "metadata": {},
   "source": [
    "Births/deaths by release:"
   ]
  },
  {
   "cell_type": "code",
   "execution_count": 29,
   "metadata": {},
   "outputs": [
    {
     "data": {
      "text/html": [
       "<div>\n",
       "<style scoped>\n",
       "    .dataframe tbody tr th:only-of-type {\n",
       "        vertical-align: middle;\n",
       "    }\n",
       "\n",
       "    .dataframe tbody tr th {\n",
       "        vertical-align: top;\n",
       "    }\n",
       "\n",
       "    .dataframe thead th {\n",
       "        text-align: right;\n",
       "    }\n",
       "</style>\n",
       "<table border=\"1\" class=\"dataframe\">\n",
       "  <thead>\n",
       "    <tr style=\"text-align: right;\">\n",
       "      <th></th>\n",
       "      <th>release</th>\n",
       "      <th>event</th>\n",
       "      <th>playerID</th>\n",
       "    </tr>\n",
       "  </thead>\n",
       "  <tbody>\n",
       "    <tr>\n",
       "      <th>0</th>\n",
       "      <td>194.0</td>\n",
       "      <td>B</td>\n",
       "      <td>24802</td>\n",
       "    </tr>\n",
       "    <tr>\n",
       "      <th>1</th>\n",
       "      <td>194.0</td>\n",
       "      <td>D</td>\n",
       "      <td>24648</td>\n",
       "    </tr>\n",
       "    <tr>\n",
       "      <th>2</th>\n",
       "      <td>196.0</td>\n",
       "      <td>B</td>\n",
       "      <td>76648</td>\n",
       "    </tr>\n",
       "    <tr>\n",
       "      <th>3</th>\n",
       "      <td>196.0</td>\n",
       "      <td>D</td>\n",
       "      <td>76591</td>\n",
       "    </tr>\n",
       "    <tr>\n",
       "      <th>4</th>\n",
       "      <td>197.0</td>\n",
       "      <td>B</td>\n",
       "      <td>39672</td>\n",
       "    </tr>\n",
       "  </tbody>\n",
       "</table>\n",
       "</div>"
      ],
      "text/plain": [
       "   release event  playerID\n",
       "0    194.0     B     24802\n",
       "1    194.0     D     24648\n",
       "2    196.0     B     76648\n",
       "3    196.0     D     76591\n",
       "4    197.0     B     39672"
      ]
     },
     "execution_count": 29,
     "metadata": {},
     "output_type": "execute_result"
    }
   ],
   "source": [
    "big_activity = big_df.groupby(['release', 'event']).agg({'playerID': 'count'})\n",
    "big_activity = big_activity.reset_index()\n",
    "\n",
    "big_activity.head()"
   ]
  },
  {
   "cell_type": "code",
   "execution_count": 30,
   "metadata": {},
   "outputs": [
    {
     "data": {
      "text/plain": [
       "<seaborn.axisgrid.FacetGrid at 0x7fc7f17e6dd0>"
      ]
     },
     "execution_count": 30,
     "metadata": {},
     "output_type": "execute_result"
    },
    {
     "data": {
      "image/png": "[encoded data removed]",
      "text/plain": [
       "<Figure size 432x216 with 2 Axes>"
      ]
     },
     "metadata": {
      "needs_background": "light"
     },
     "output_type": "display_data"
    }
   ],
   "source": [
    "grid = sns.FacetGrid(big_activity, col=\"event\", hue=\"event\")\n",
    "grid.map(plt.plot, \"release\", \"playerID\", marker=\"o\")"
   ]
  },
  {
   "cell_type": "markdown",
   "metadata": {},
   "source": [
    "Total births and deaths:"
   ]
  },
  {
   "cell_type": "code",
   "execution_count": 31,
   "metadata": {},
   "outputs": [
    {
     "data": {
      "text/plain": [
       "event\n",
       "B    2934434\n",
       "D    2929785\n",
       "Name: playerID, dtype: int64"
      ]
     },
     "execution_count": 31,
     "metadata": {},
     "output_type": "execute_result"
    }
   ],
   "source": [
    "big_activity.groupby('event')['playerID'].sum()"
   ]
  },
  {
   "cell_type": "markdown",
   "metadata": {},
   "source": [
    "Overall, there are fewer deaths in the data than there are births. Is this because the data for the last release before we initiated the download was incomplete, or because the data are consistently cut off at each release? \n"
   ]
  },
  {
   "cell_type": "code",
   "execution_count": 32,
   "metadata": {},
   "outputs": [
    {
     "data": {
      "text/plain": [
       "<matplotlib.lines.Line2D at 0x7fc7032f5bd0>"
      ]
     },
     "execution_count": 32,
     "metadata": {},
     "output_type": "execute_result"
    },
    {
     "data": {
      "image/png": "[encoded data removed]",
      "text/plain": [
       "<Figure size 432x288 with 1 Axes>"
      ]
     },
     "metadata": {
      "needs_background": "light"
     },
     "output_type": "display_data"
    }
   ],
   "source": [
    "big_by_release = big_activity.groupby(['release', 'event'])['playerID'].sum().reset_index()\n",
    "big_diff = big_by_release.pivot(index='release', columns='event', values='playerID').reset_index()\n",
    "big_diff['diff'] = big_diff['B'] - big_diff['D']\n",
    "\n",
    "plt.plot(big_diff['release'], big_diff['diff'], marker = 'o')\n",
    "plt.axhline(y = 0, linestyle = '--', color='#aaaaaa')"
   ]
  },
  {
   "cell_type": "markdown",
   "metadata": {},
   "source": [
    "### Unique player hashes"
   ]
  },
  {
   "cell_type": "markdown",
   "metadata": {},
   "source": [
    "Each player has a unique, anonymized hash associated with them. By tracking how often a particular hash appears in birth events, we can get a sense of how many \"lives\" unique players contribute to the dataset. I am also particularly curious about whether there might be some particularly prolific \"power-users\" driving innovation and development."
   ]
  },
  {
   "cell_type": "markdown",
   "metadata": {},
   "source": [
    "Filter birth events:"
   ]
  },
  {
   "cell_type": "code",
   "execution_count": 33,
   "metadata": {},
   "outputs": [
    {
     "data": {
      "text/html": [
       "<div>\n",
       "<style scoped>\n",
       "    .dataframe tbody tr th:only-of-type {\n",
       "        vertical-align: middle;\n",
       "    }\n",
       "\n",
       "    .dataframe tbody tr th {\n",
       "        vertical-align: top;\n",
       "    }\n",
       "\n",
       "    .dataframe thead th {\n",
       "        text-align: right;\n",
       "    }\n",
       "</style>\n",
       "<table border=\"1\" class=\"dataframe\">\n",
       "  <thead>\n",
       "    <tr style=\"text-align: right;\">\n",
       "      <th></th>\n",
       "      <th>server</th>\n",
       "      <th>release</th>\n",
       "      <th>era</th>\n",
       "      <th>event</th>\n",
       "      <th>timestamp</th>\n",
       "      <th>playerID</th>\n",
       "      <th>hash</th>\n",
       "      <th>age</th>\n",
       "      <th>sex</th>\n",
       "      <th>location</th>\n",
       "      <th>parent</th>\n",
       "      <th>cause_of_death</th>\n",
       "      <th>pop</th>\n",
       "      <th>chain</th>\n",
       "      <th>killer</th>\n",
       "    </tr>\n",
       "  </thead>\n",
       "  <tbody>\n",
       "    <tr>\n",
       "      <th>0</th>\n",
       "      <td>bigserver2</td>\n",
       "      <td>194.0</td>\n",
       "      <td>arc</td>\n",
       "      <td>B</td>\n",
       "      <td>1548804597</td>\n",
       "      <td>2.0</td>\n",
       "      <td>a51edcb77a3900d53adc61d394876c5ca7417486</td>\n",
       "      <td>NaN</td>\n",
       "      <td>F</td>\n",
       "      <td>(50,-7)</td>\n",
       "      <td>noParent</td>\n",
       "      <td>NaN</td>\n",
       "      <td>1</td>\n",
       "      <td>1.0</td>\n",
       "      <td>NaN</td>\n",
       "    </tr>\n",
       "    <tr>\n",
       "      <th>1</th>\n",
       "      <td>bigserver2</td>\n",
       "      <td>194.0</td>\n",
       "      <td>arc</td>\n",
       "      <td>B</td>\n",
       "      <td>1548814222</td>\n",
       "      <td>3.0</td>\n",
       "      <td>ba474919bfbe67b14ec6e6fd05c19f383152b1b2</td>\n",
       "      <td>NaN</td>\n",
       "      <td>F</td>\n",
       "      <td>(1453,-436)</td>\n",
       "      <td>noParent</td>\n",
       "      <td>NaN</td>\n",
       "      <td>1</td>\n",
       "      <td>1.0</td>\n",
       "      <td>NaN</td>\n",
       "    </tr>\n",
       "    <tr>\n",
       "      <th>2</th>\n",
       "      <td>bigserver2</td>\n",
       "      <td>194.0</td>\n",
       "      <td>arc</td>\n",
       "      <td>B</td>\n",
       "      <td>1548814226</td>\n",
       "      <td>4.0</td>\n",
       "      <td>0c1781b6944db9e58b5d71adfe64af09fedad796</td>\n",
       "      <td>NaN</td>\n",
       "      <td>M</td>\n",
       "      <td>(1453,-436)</td>\n",
       "      <td>parent=3</td>\n",
       "      <td>NaN</td>\n",
       "      <td>2</td>\n",
       "      <td>2.0</td>\n",
       "      <td>NaN</td>\n",
       "    </tr>\n",
       "    <tr>\n",
       "      <th>3</th>\n",
       "      <td>bigserver2</td>\n",
       "      <td>194.0</td>\n",
       "      <td>arc</td>\n",
       "      <td>B</td>\n",
       "      <td>1548814227</td>\n",
       "      <td>5.0</td>\n",
       "      <td>77a67da50b453a570d1e3311a56cd9da89187cd2</td>\n",
       "      <td>NaN</td>\n",
       "      <td>F</td>\n",
       "      <td>(1366,-395)</td>\n",
       "      <td>noParent</td>\n",
       "      <td>NaN</td>\n",
       "      <td>3</td>\n",
       "      <td>1.0</td>\n",
       "      <td>NaN</td>\n",
       "    </tr>\n",
       "    <tr>\n",
       "      <th>4</th>\n",
       "      <td>bigserver2</td>\n",
       "      <td>194.0</td>\n",
       "      <td>arc</td>\n",
       "      <td>B</td>\n",
       "      <td>1548814231</td>\n",
       "      <td>6.0</td>\n",
       "      <td>ae87cea72e02d701fbb807b56113e3f7a3d20b83</td>\n",
       "      <td>NaN</td>\n",
       "      <td>M</td>\n",
       "      <td>(1366,-395)</td>\n",
       "      <td>parent=5</td>\n",
       "      <td>NaN</td>\n",
       "      <td>4</td>\n",
       "      <td>2.0</td>\n",
       "      <td>NaN</td>\n",
       "    </tr>\n",
       "  </tbody>\n",
       "</table>\n",
       "</div>"
      ],
      "text/plain": [
       "       server  release  era event   timestamp  playerID  \\\n",
       "0  bigserver2    194.0  arc     B  1548804597       2.0   \n",
       "1  bigserver2    194.0  arc     B  1548814222       3.0   \n",
       "2  bigserver2    194.0  arc     B  1548814226       4.0   \n",
       "3  bigserver2    194.0  arc     B  1548814227       5.0   \n",
       "4  bigserver2    194.0  arc     B  1548814231       6.0   \n",
       "\n",
       "                                       hash  age sex     location    parent  \\\n",
       "0  a51edcb77a3900d53adc61d394876c5ca7417486  NaN   F      (50,-7)  noParent   \n",
       "1  ba474919bfbe67b14ec6e6fd05c19f383152b1b2  NaN   F  (1453,-436)  noParent   \n",
       "2  0c1781b6944db9e58b5d71adfe64af09fedad796  NaN   M  (1453,-436)  parent=3   \n",
       "3  77a67da50b453a570d1e3311a56cd9da89187cd2  NaN   F  (1366,-395)  noParent   \n",
       "4  ae87cea72e02d701fbb807b56113e3f7a3d20b83  NaN   M  (1366,-395)  parent=5   \n",
       "\n",
       "  cause_of_death  pop  chain  killer  \n",
       "0            NaN    1    1.0     NaN  \n",
       "1            NaN    1    1.0     NaN  \n",
       "2            NaN    2    2.0     NaN  \n",
       "3            NaN    3    1.0     NaN  \n",
       "4            NaN    4    2.0     NaN  "
      ]
     },
     "execution_count": 33,
     "metadata": {},
     "output_type": "execute_result"
    }
   ],
   "source": [
    "big_births = big_df[big_df['event'] == 'B'].reset_index(drop=True)\n",
    "big_births.head()"
   ]
  },
  {
   "cell_type": "markdown",
   "metadata": {},
   "source": [
    "Count occurrences of each hash:"
   ]
  },
  {
   "cell_type": "code",
   "execution_count": 34,
   "metadata": {},
   "outputs": [
    {
     "data": {
      "text/html": [
       "<div>\n",
       "<style scoped>\n",
       "    .dataframe tbody tr th:only-of-type {\n",
       "        vertical-align: middle;\n",
       "    }\n",
       "\n",
       "    .dataframe tbody tr th {\n",
       "        vertical-align: top;\n",
       "    }\n",
       "\n",
       "    .dataframe thead th {\n",
       "        text-align: right;\n",
       "    }\n",
       "</style>\n",
       "<table border=\"1\" class=\"dataframe\">\n",
       "  <thead>\n",
       "    <tr style=\"text-align: right;\">\n",
       "      <th></th>\n",
       "      <th>player</th>\n",
       "      <th>n_lives</th>\n",
       "    </tr>\n",
       "  </thead>\n",
       "  <tbody>\n",
       "    <tr>\n",
       "      <th>0</th>\n",
       "      <td>00006debdd4d630a4a5aa395135a70a69e0db01e</td>\n",
       "      <td>3</td>\n",
       "    </tr>\n",
       "    <tr>\n",
       "      <th>1</th>\n",
       "      <td>0001394319e5e63bb74219fef647e9ff24507a21</td>\n",
       "      <td>4</td>\n",
       "    </tr>\n",
       "    <tr>\n",
       "      <th>2</th>\n",
       "      <td>0002e5ea5ce7cfd761135d255a245a3344af4377</td>\n",
       "      <td>338</td>\n",
       "    </tr>\n",
       "    <tr>\n",
       "      <th>3</th>\n",
       "      <td>00030d8a6d24ff9a416642f51ef68408cd846ec8</td>\n",
       "      <td>3</td>\n",
       "    </tr>\n",
       "    <tr>\n",
       "      <th>4</th>\n",
       "      <td>00047b60a01d908e2407b05a09b404c2f6cec6f6</td>\n",
       "      <td>4</td>\n",
       "    </tr>\n",
       "  </tbody>\n",
       "</table>\n",
       "</div>"
      ],
      "text/plain": [
       "                                     player  n_lives\n",
       "0  00006debdd4d630a4a5aa395135a70a69e0db01e        3\n",
       "1  0001394319e5e63bb74219fef647e9ff24507a21        4\n",
       "2  0002e5ea5ce7cfd761135d255a245a3344af4377      338\n",
       "3  00030d8a6d24ff9a416642f51ef68408cd846ec8        3\n",
       "4  00047b60a01d908e2407b05a09b404c2f6cec6f6        4"
      ]
     },
     "execution_count": 34,
     "metadata": {},
     "output_type": "execute_result"
    }
   ],
   "source": [
    "big_hash = big_births.groupby('hash')['timestamp'].count().reset_index()\n",
    "big_hash = big_hash.rename(columns={\"hash\": \"player\", \"timestamp\": \"n_lives\"})\n",
    "big_hash.head()"
   ]
  },
  {
   "cell_type": "markdown",
   "metadata": {},
   "source": [
    "How many unique players are there?"
   ]
  },
  {
   "cell_type": "code",
   "execution_count": 35,
   "metadata": {},
   "outputs": [
    {
     "data": {
      "text/plain": [
       "45209"
      ]
     },
     "execution_count": 35,
     "metadata": {},
     "output_type": "execute_result"
    }
   ],
   "source": [
    "big_hash.shape[0]"
   ]
  },
  {
   "cell_type": "markdown",
   "metadata": {},
   "source": [
    "How many lives does each player contribute?"
   ]
  },
  {
   "cell_type": "code",
   "execution_count": 36,
   "metadata": {},
   "outputs": [
    {
     "data": {
      "image/png": "[encoded data removed]",
      "text/plain": [
       "<Figure size 432x288 with 1 Axes>"
      ]
     },
     "metadata": {
      "needs_background": "light"
     },
     "output_type": "display_data"
    }
   ],
   "source": [
    "n_lives = big_hash['n_lives'].values\n",
    "g = sns.distplot(n_lives)\n",
    "g.set_xscale('log')"
   ]
  },
  {
   "cell_type": "markdown",
   "metadata": {},
   "source": [
    "Some descriptive statistics:"
   ]
  },
  {
   "cell_type": "code",
   "execution_count": 37,
   "metadata": {},
   "outputs": [
    {
     "name": "stdout",
     "output_type": "stream",
     "text": [
      "Max: 9477.000000\n",
      "Min: 1.000000\n",
      "Median: 8.000000\n",
      "ModeResult(mode=array([1]), count=array([6589]))\n"
     ]
    }
   ],
   "source": [
    "print('Max: %f' % np.max(n_lives))\n",
    "print('Min: %f' % np.min(n_lives))\n",
    "print('Median: %f' % np.median(n_lives))\n",
    "print(stats.mode(n_lives))"
   ]
  },
  {
   "cell_type": "markdown",
   "metadata": {},
   "source": [
    "Empirical CDF:"
   ]
  },
  {
   "cell_type": "code",
   "execution_count": 38,
   "metadata": {},
   "outputs": [
    {
     "data": {
      "text/plain": [
       "Text(0, 0.5, 'Cumulative density')"
      ]
     },
     "execution_count": 38,
     "metadata": {},
     "output_type": "execute_result"
    },
    {
     "data": {
      "image/png": "[encoded data removed]",
      "text/plain": [
       "<Figure size 432x288 with 1 Axes>"
      ]
     },
     "metadata": {
      "needs_background": "light"
     },
     "output_type": "display_data"
    }
   ],
   "source": [
    "n_lives_ecdf = ECDF(n_lives)\n",
    "plt.plot(n_lives_ecdf.x, n_lives_ecdf.y)\n",
    "plt.xlabel('# lives')\n",
    "plt.ylabel('Cumulative density')"
   ]
  },
  {
   "cell_type": "markdown",
   "metadata": {},
   "source": [
    "Cumulative counts:"
   ]
  },
  {
   "cell_type": "code",
   "execution_count": 40,
   "metadata": {},
   "outputs": [
    {
     "name": "stdout",
     "output_type": "stream",
     "text": [
      "p <= 1: 0.146\n",
      "p <= 10: 0.563\n",
      "p <= 25: 0.732\n",
      "p <= 50: 0.831\n",
      "p <= 100: 0.897\n",
      "p <= 500: 0.973\n",
      "p <= 1000: 0.988\n",
      "p <= 2500: 0.997\n",
      "p <= 4000: 0.999\n"
     ]
    }
   ],
   "source": [
    "lives_breaks = [1, 10, 25, 50, 100, 500, 1000, 2500, 4000]\n",
    "lives_prop = n_lives_ecdf(lives_breaks)\n",
    "\n",
    "lives_list = list(zip(lives_breaks, lives_prop))\n",
    "print(*['p <= %i: %0.3f' % (l[0], l[1]) for l in lives_list], sep='\\n')"
   ]
  },
  {
   "cell_type": "markdown",
   "metadata": {},
   "source": [
    "Top contributors:"
   ]
  },
  {
   "cell_type": "code",
   "execution_count": 41,
   "metadata": {},
   "outputs": [
    {
     "data": {
      "text/html": [
       "<div>\n",
       "<style scoped>\n",
       "    .dataframe tbody tr th:only-of-type {\n",
       "        vertical-align: middle;\n",
       "    }\n",
       "\n",
       "    .dataframe tbody tr th {\n",
       "        vertical-align: top;\n",
       "    }\n",
       "\n",
       "    .dataframe thead th {\n",
       "        text-align: right;\n",
       "    }\n",
       "</style>\n",
       "<table border=\"1\" class=\"dataframe\">\n",
       "  <thead>\n",
       "    <tr style=\"text-align: right;\">\n",
       "      <th></th>\n",
       "      <th>player</th>\n",
       "      <th>n_lives</th>\n",
       "    </tr>\n",
       "  </thead>\n",
       "  <tbody>\n",
       "    <tr>\n",
       "      <th>0</th>\n",
       "      <td>8ac173f9346f99eff5fb54d55b57acaace951896</td>\n",
       "      <td>9477</td>\n",
       "    </tr>\n",
       "    <tr>\n",
       "      <th>1</th>\n",
       "      <td>71f0317c349c25ec4188f1b501d05bd99d54b505</td>\n",
       "      <td>8766</td>\n",
       "    </tr>\n",
       "    <tr>\n",
       "      <th>2</th>\n",
       "      <td>3ce403481bf68baf1b158a2bf7f12ed93c0a47fe</td>\n",
       "      <td>8399</td>\n",
       "    </tr>\n",
       "    <tr>\n",
       "      <th>3</th>\n",
       "      <td>2260ec3961330cf12ed97ad87a93d52fa1f335fa</td>\n",
       "      <td>7446</td>\n",
       "    </tr>\n",
       "    <tr>\n",
       "      <th>4</th>\n",
       "      <td>ea5ea8d1bef19a9847bc8ca874e2dfa0a847ffc9</td>\n",
       "      <td>7343</td>\n",
       "    </tr>\n",
       "    <tr>\n",
       "      <th>...</th>\n",
       "      <td>...</td>\n",
       "      <td>...</td>\n",
       "    </tr>\n",
       "    <tr>\n",
       "      <th>95</th>\n",
       "      <td>f4fbfe827a1085f50ee410dab31c4d441ea29a76</td>\n",
       "      <td>2877</td>\n",
       "    </tr>\n",
       "    <tr>\n",
       "      <th>96</th>\n",
       "      <td>dca75e529655db4735c8859531966064b39c0181</td>\n",
       "      <td>2877</td>\n",
       "    </tr>\n",
       "    <tr>\n",
       "      <th>97</th>\n",
       "      <td>0770efcd0bb4135118ffd513e347a9b2dcea0148</td>\n",
       "      <td>2864</td>\n",
       "    </tr>\n",
       "    <tr>\n",
       "      <th>98</th>\n",
       "      <td>83c198916cbe5c71ad384bb833265c027fc70735</td>\n",
       "      <td>2855</td>\n",
       "    </tr>\n",
       "    <tr>\n",
       "      <th>99</th>\n",
       "      <td>1dc8e3632954adba994ed1706b96e33f4995e7e1</td>\n",
       "      <td>2828</td>\n",
       "    </tr>\n",
       "  </tbody>\n",
       "</table>\n",
       "<p>100 rows × 2 columns</p>\n",
       "</div>"
      ],
      "text/plain": [
       "                                      player  n_lives\n",
       "0   8ac173f9346f99eff5fb54d55b57acaace951896     9477\n",
       "1   71f0317c349c25ec4188f1b501d05bd99d54b505     8766\n",
       "2   3ce403481bf68baf1b158a2bf7f12ed93c0a47fe     8399\n",
       "3   2260ec3961330cf12ed97ad87a93d52fa1f335fa     7446\n",
       "4   ea5ea8d1bef19a9847bc8ca874e2dfa0a847ffc9     7343\n",
       "..                                       ...      ...\n",
       "95  f4fbfe827a1085f50ee410dab31c4d441ea29a76     2877\n",
       "96  dca75e529655db4735c8859531966064b39c0181     2877\n",
       "97  0770efcd0bb4135118ffd513e347a9b2dcea0148     2864\n",
       "98  83c198916cbe5c71ad384bb833265c027fc70735     2855\n",
       "99  1dc8e3632954adba994ed1706b96e33f4995e7e1     2828\n",
       "\n",
       "[100 rows x 2 columns]"
      ]
     },
     "execution_count": 41,
     "metadata": {},
     "output_type": "execute_result"
    }
   ],
   "source": [
    "big_top = big_hash.sort_values('n_lives', ascending=False).reset_index(drop=True)\n",
    "big_top.to_csv('outputs/topplayers_201907.tsv', sep='\\t', index=True)\n",
    "big_top[:100]"
   ]
  },
  {
   "cell_type": "markdown",
   "metadata": {},
   "source": [
    "## When and how do people die?"
   ]
  },
  {
   "cell_type": "markdown",
   "metadata": {},
   "source": [
    "Filter deaths:"
   ]
  },
  {
   "cell_type": "code",
   "execution_count": 42,
   "metadata": {},
   "outputs": [
    {
     "data": {
      "text/html": [
       "<div>\n",
       "<style scoped>\n",
       "    .dataframe tbody tr th:only-of-type {\n",
       "        vertical-align: middle;\n",
       "    }\n",
       "\n",
       "    .dataframe tbody tr th {\n",
       "        vertical-align: top;\n",
       "    }\n",
       "\n",
       "    .dataframe thead th {\n",
       "        text-align: right;\n",
       "    }\n",
       "</style>\n",
       "<table border=\"1\" class=\"dataframe\">\n",
       "  <thead>\n",
       "    <tr style=\"text-align: right;\">\n",
       "      <th></th>\n",
       "      <th>server</th>\n",
       "      <th>release</th>\n",
       "      <th>era</th>\n",
       "      <th>event</th>\n",
       "      <th>timestamp</th>\n",
       "      <th>playerID</th>\n",
       "      <th>hash</th>\n",
       "      <th>age</th>\n",
       "      <th>sex</th>\n",
       "      <th>location</th>\n",
       "      <th>parent</th>\n",
       "      <th>cause_of_death</th>\n",
       "      <th>pop</th>\n",
       "      <th>chain</th>\n",
       "      <th>killer</th>\n",
       "    </tr>\n",
       "  </thead>\n",
       "  <tbody>\n",
       "    <tr>\n",
       "      <th>0</th>\n",
       "      <td>bigserver2</td>\n",
       "      <td>194.0</td>\n",
       "      <td>arc</td>\n",
       "      <td>D</td>\n",
       "      <td>1548807206</td>\n",
       "      <td>2.0</td>\n",
       "      <td>a51edcb77a3900d53adc61d394876c5ca7417486</td>\n",
       "      <td>57.49</td>\n",
       "      <td>F</td>\n",
       "      <td>(64, -8)</td>\n",
       "      <td>NaN</td>\n",
       "      <td>hunger</td>\n",
       "      <td>0</td>\n",
       "      <td>NaN</td>\n",
       "      <td>NaN</td>\n",
       "    </tr>\n",
       "    <tr>\n",
       "      <th>1</th>\n",
       "      <td>bigserver2</td>\n",
       "      <td>194.0</td>\n",
       "      <td>arc</td>\n",
       "      <td>D</td>\n",
       "      <td>1548814282</td>\n",
       "      <td>8.0</td>\n",
       "      <td>b3a2c99deced24ac11f6b8b10ba49066ca96606d</td>\n",
       "      <td>0.48</td>\n",
       "      <td>M</td>\n",
       "      <td>(1387, -433)</td>\n",
       "      <td>NaN</td>\n",
       "      <td>hunger</td>\n",
       "      <td>9</td>\n",
       "      <td>NaN</td>\n",
       "      <td>NaN</td>\n",
       "    </tr>\n",
       "    <tr>\n",
       "      <th>2</th>\n",
       "      <td>bigserver2</td>\n",
       "      <td>194.0</td>\n",
       "      <td>arc</td>\n",
       "      <td>D</td>\n",
       "      <td>1548814301</td>\n",
       "      <td>16.0</td>\n",
       "      <td>c5c94e5501424d0567c90730f5e2e6ad482a440f</td>\n",
       "      <td>0.09</td>\n",
       "      <td>M</td>\n",
       "      <td>(1452, -419)</td>\n",
       "      <td>NaN</td>\n",
       "      <td>disconnect</td>\n",
       "      <td>13</td>\n",
       "      <td>NaN</td>\n",
       "      <td>NaN</td>\n",
       "    </tr>\n",
       "    <tr>\n",
       "      <th>3</th>\n",
       "      <td>bigserver2</td>\n",
       "      <td>194.0</td>\n",
       "      <td>arc</td>\n",
       "      <td>D</td>\n",
       "      <td>1548814310</td>\n",
       "      <td>18.0</td>\n",
       "      <td>c5c94e5501424d0567c90730f5e2e6ad482a440f</td>\n",
       "      <td>0.09</td>\n",
       "      <td>F</td>\n",
       "      <td>(1414, -462)</td>\n",
       "      <td>NaN</td>\n",
       "      <td>disconnect</td>\n",
       "      <td>14</td>\n",
       "      <td>NaN</td>\n",
       "      <td>NaN</td>\n",
       "    </tr>\n",
       "    <tr>\n",
       "      <th>4</th>\n",
       "      <td>bigserver2</td>\n",
       "      <td>194.0</td>\n",
       "      <td>arc</td>\n",
       "      <td>D</td>\n",
       "      <td>1548814313</td>\n",
       "      <td>14.0</td>\n",
       "      <td>b3a2c99deced24ac11f6b8b10ba49066ca96606d</td>\n",
       "      <td>0.45</td>\n",
       "      <td>M</td>\n",
       "      <td>(1431, -428)</td>\n",
       "      <td>NaN</td>\n",
       "      <td>hunger</td>\n",
       "      <td>15</td>\n",
       "      <td>NaN</td>\n",
       "      <td>NaN</td>\n",
       "    </tr>\n",
       "  </tbody>\n",
       "</table>\n",
       "</div>"
      ],
      "text/plain": [
       "       server  release  era event   timestamp  playerID  \\\n",
       "0  bigserver2    194.0  arc     D  1548807206       2.0   \n",
       "1  bigserver2    194.0  arc     D  1548814282       8.0   \n",
       "2  bigserver2    194.0  arc     D  1548814301      16.0   \n",
       "3  bigserver2    194.0  arc     D  1548814310      18.0   \n",
       "4  bigserver2    194.0  arc     D  1548814313      14.0   \n",
       "\n",
       "                                       hash    age sex      location parent  \\\n",
       "0  a51edcb77a3900d53adc61d394876c5ca7417486  57.49   F      (64, -8)    NaN   \n",
       "1  b3a2c99deced24ac11f6b8b10ba49066ca96606d   0.48   M  (1387, -433)    NaN   \n",
       "2  c5c94e5501424d0567c90730f5e2e6ad482a440f   0.09   M  (1452, -419)    NaN   \n",
       "3  c5c94e5501424d0567c90730f5e2e6ad482a440f   0.09   F  (1414, -462)    NaN   \n",
       "4  b3a2c99deced24ac11f6b8b10ba49066ca96606d   0.45   M  (1431, -428)    NaN   \n",
       "\n",
       "  cause_of_death  pop  chain  killer  \n",
       "0         hunger    0    NaN     NaN  \n",
       "1         hunger    9    NaN     NaN  \n",
       "2     disconnect   13    NaN     NaN  \n",
       "3     disconnect   14    NaN     NaN  \n",
       "4         hunger   15    NaN     NaN  "
      ]
     },
     "execution_count": 42,
     "metadata": {},
     "output_type": "execute_result"
    }
   ],
   "source": [
    "death_data = lifelog_data[lifelog_data['event'] == 'D'].reset_index(drop=True)\n",
    "death_data.head()"
   ]
  },
  {
   "cell_type": "code",
   "execution_count": 44,
   "metadata": {},
   "outputs": [
    {
     "name": "stdout",
     "output_type": "stream",
     "text": [
      "Plotting 2929785 deaths\n"
     ]
    },
    {
     "data": {
      "text/plain": [
       "<seaborn.axisgrid.FacetGrid at 0x7fc764ff6290>"
      ]
     },
     "execution_count": 44,
     "metadata": {},
     "output_type": "execute_result"
    },
    {
     "data": {
      "image/png": "[encoded data removed]",
      "text/plain": [
       "<Figure size 648x216 with 3 Axes>"
      ]
     },
     "metadata": {
      "needs_background": "light"
     },
     "output_type": "display_data"
    }
   ],
   "source": [
    "print('Plotting %i deaths' % len(death_data))\n",
    "g = sns.FacetGrid(death_data, col=\"era\")\n",
    "g.map(plt.hist, \"age\")"
   ]
  },
  {
   "cell_type": "markdown",
   "metadata": {},
   "source": [
    "Frequency of causes of death:"
   ]
  },
  {
   "cell_type": "code",
   "execution_count": 47,
   "metadata": {},
   "outputs": [
    {
     "name": "stderr",
     "output_type": "stream",
     "text": [
      "/Users/nvelez/opt/anaconda3/lib/python3.7/site-packages/seaborn/axisgrid.py:728: UserWarning: Using the countplot function without specifying `order` is likely to produce an incorrect plot.\n",
      "  warnings.warn(warning)\n"
     ]
    },
    {
     "data": {
      "text/plain": [
       "<seaborn.axisgrid.FacetGrid at 0x7fc7028aff50>"
      ]
     },
     "execution_count": 47,
     "metadata": {},
     "output_type": "execute_result"
    },
    {
     "data": {
      "image/png": "[encoded data removed]",
      "text/plain": [
       "<Figure size 648x216 with 3 Axes>"
      ]
     },
     "metadata": {
      "needs_background": "light"
     },
     "output_type": "display_data"
    }
   ],
   "source": [
    "g = sns.FacetGrid(death_data, col=\"era\")\n",
    "g.map(sns.countplot, 'cause_of_death')"
   ]
  },
  {
   "cell_type": "markdown",
   "metadata": {},
   "source": [
    "Age by cause of death:"
   ]
  },
  {
   "cell_type": "code",
   "execution_count": 50,
   "metadata": {},
   "outputs": [
    {
     "data": {
      "text/plain": [
       "<seaborn.axisgrid.FacetGrid at 0x7fc7035c0290>"
      ]
     },
     "execution_count": 50,
     "metadata": {},
     "output_type": "execute_result"
    },
    {
     "data": {
      "image/png": "[encoded data removed]",
      "text/plain": [
       "<Figure size 648x864 with 12 Axes>"
      ]
     },
     "metadata": {
      "needs_background": "light"
     },
     "output_type": "display_data"
    }
   ],
   "source": [
    "g = sns.FacetGrid(death_data, row='cause_of_death', col='era', sharey=False)\n",
    "g.map(plt.hist, \"age\")"
   ]
  }
 ],
 "metadata": {
  "kernelspec": {
   "display_name": "Python 3",
   "language": "python",
   "name": "python3"
  },
  "language_info": {
   "codemirror_mode": {
    "name": "ipython",
    "version": 3
   },
   "file_extension": ".py",
   "mimetype": "text/x-python",
   "name": "python",
   "nbconvert_exporter": "python",
   "pygments_lexer": "ipython3",
   "version": "3.7.6"
  }
 },
 "nbformat": 4,
 "nbformat_minor": 2
}
