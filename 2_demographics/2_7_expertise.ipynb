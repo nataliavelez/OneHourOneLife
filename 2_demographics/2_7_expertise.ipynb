{
 "cells": [
  {
   "cell_type": "code",
   "execution_count": null,
   "metadata": {},
   "outputs": [],
   "source": [
    "import pandas as pd\n",
    "import numpy as np\n",
    "from tqdm import tqdm"
   ]
  },
  {
   "cell_type": "markdown",
   "metadata": {},
   "source": [
    "### Big Server Data only\n",
    "The bigserver is the only server that records all the data we are interested in for our analyses (lifelogs, map change, etc.), so we will just look at that separately throughout this notebook."
   ]
  },
  {
   "cell_type": "code",
   "execution_count": null,
   "metadata": {},
   "outputs": [],
   "source": [
    "lifelog_data = pd.read_csv('outputs/lifelogs_201907-202005_data.tsv', sep='\\t')\n",
    "lifelog_data.head()"
   ]
  },
  {
   "cell_type": "code",
   "execution_count": null,
   "metadata": {},
   "outputs": [],
   "source": [
    "big_df = lifelog_data[lifelog_data['server'] == 'bigserver2'].reset_index(drop=True)\n",
    "big_df.head()"
   ]
  },
  {
   "cell_type": "markdown",
   "metadata": {},
   "source": [
    "### Unique player hashes"
   ]
  },
  {
   "cell_type": "code",
   "execution_count": null,
   "metadata": {},
   "outputs": [],
   "source": [
    "death_data = lifelog_data[lifelog_data['event'] == 'D'].reset_index(drop=True)\n",
    "death_data.head()"
   ]
  },
  {
   "cell_type": "code",
   "execution_count": null,
   "metadata": {},
   "outputs": [],
   "source": [
    "big_hash = death_data.groupby('hash')['timestamp'].count().reset_index()\n",
    "big_hash = big_hash.rename(columns={\"hash\": \"player\", \"timestamp\": \"n_lives\"})\n",
    "big_hash.head()"
   ]
  },
  {
   "cell_type": "code",
   "execution_count": null,
   "metadata": {},
   "outputs": [],
   "source": [
    "death_data_new = death_data[['release','timestamp','hash','playerID','age','cause_of_death']].copy()\n",
    "death_data_new['n_live'] = np.inf\n",
    "death_data_new['cumulative_game_time'] = np.inf"
   ]
  },
  {
   "cell_type": "code",
   "execution_count": null,
   "metadata": {},
   "outputs": [],
   "source": [
    "death_data_new.head()"
   ]
  },
  {
   "cell_type": "code",
   "execution_count": null,
   "metadata": {},
   "outputs": [],
   "source": [
    "\n",
    "death_newdf = pd.DataFrame(['release','timestamp','hash','playerID','age','cause_of_death','n_live','cumulative_game_time'])\n",
    "for k in tqdm(range(len(death_data.hash.unique()))):\n",
    "    i = death_data.hash.unique()[k]\n",
    "    sub_data = death_data.query('hash == @i').copy().reset_index(drop = True)\n",
    "    sub_data = sub_data[['release','timestamp','hash','playerID','age','cause_of_death']]\n",
    "    sub_data['cumulative_game_time'] = sub_data.index +1\n",
    "    sub_data['n_lives'] = big_hash.query('player == @i')['n_lives']\n",
    "    death_newdf.append(sub_data)\n",
    "    \n",
    "    \n",
    "    "
   ]
  },
  {
   "cell_type": "code",
   "execution_count": null,
   "metadata": {},
   "outputs": [],
   "source": [
    "death_newdf"
   ]
  },
  {
   "cell_type": "code",
   "execution_count": null,
   "metadata": {},
   "outputs": [],
   "source": []
  }
 ],
 "metadata": {
  "kernelspec": {
   "display_name": "Python 3",
   "language": "python",
   "name": "python3"
  },
  "language_info": {
   "codemirror_mode": {
    "name": "ipython",
    "version": 3
   },
   "file_extension": ".py",
   "mimetype": "text/x-python",
   "name": "python",
   "nbconvert_exporter": "python",
   "pygments_lexer": "ipython3",
   "version": "3.7.6"
  }
 },
 "nbformat": 4,
 "nbformat_minor": 2
}
