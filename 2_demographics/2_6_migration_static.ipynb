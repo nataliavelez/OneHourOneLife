{
 "cells": [
  {
   "cell_type": "code",
   "execution_count": 1,
   "metadata": {},
   "outputs": [],
   "source": [
    "%matplotlib inline\n",
    "\n",
    "import os, re, glob\n",
    "import pandas as pd\n",
    "import numpy as np\n",
    "import networkx as nx\n",
    "import matplotlib.pyplot as plt\n",
    "import seaborn as sns\n",
    "from os.path import join as opj\n",
    "from tqdm import tqdm_notebook\n",
    "from ast import literal_eval as make_tuple\n",
    "\n",
    "sns.set_context('paper')"
   ]
  },
  {
   "cell_type": "code",
   "execution_count": 2,
   "metadata": {},
   "outputs": [],
   "source": [
    "gsearch = lambda *args: glob.glob(opj(*args))\n",
    "str_extract = lambda pattern, s: re.search(pattern, s).group(0)"
   ]
  },
  {
   "cell_type": "code",
   "execution_count": 3,
   "metadata": {},
   "outputs": [
    {
     "name": "stdout",
     "output_type": "stream",
     "text": [
      "../data/publicLifeLogData/lifeLog_bigserver2.onehouronelife.com/2019_01January_29_Tuesday.txt\n",
      "../data/publicLifeLogData/lifeLog_bigserver2.onehouronelife.com/2019_01January_30_Wednesday.txt\n",
      "../data/publicLifeLogData/lifeLog_bigserver2.onehouronelife.com/2019_01January_31_Thursday.txt\n",
      "../data/publicLifeLogData/lifeLog_bigserver2.onehouronelife.com/2019_02February_01_Friday.txt\n",
      "../data/publicLifeLogData/lifeLog_bigserver2.onehouronelife.com/2019_02February_02_Saturday.txt\n",
      "../data/publicLifeLogData/lifeLog_bigserver2.onehouronelife.com/2019_02February_03_Sunday.txt\n",
      "../data/publicLifeLogData/lifeLog_bigserver2.onehouronelife.com/2019_02February_04_Monday.txt\n",
      "../data/publicLifeLogData/lifeLog_bigserver2.onehouronelife.com/2019_02February_05_Tuesday.txt\n",
      "../data/publicLifeLogData/lifeLog_bigserver2.onehouronelife.com/2019_02February_06_Wednesday.txt\n",
      "../data/publicLifeLogData/lifeLog_bigserver2.onehouronelife.com/2019_02February_07_Thursday.txt\n"
     ]
    }
   ],
   "source": [
    "data_dir = '../data/publicLifeLogData'\n",
    "all_files = gsearch(data_dir, 'lifeLog_bigserver2*', '2*y.txt')\n",
    "all_files.sort()\n",
    "print(*all_files[:10], sep='\\n')"
   ]
  },
  {
   "cell_type": "code",
   "execution_count": 4,
   "metadata": {},
   "outputs": [],
   "source": [
    "def date_extract(s):\n",
    "    \n",
    "    date_regex = '([0-9]{4})_([0-9]{2})[A-Za-z]+_([0-9]{2})'\n",
    "    date_search = re.findall(date_regex, s)\n",
    "    date_str = ''.join(date_search[0])\n",
    "    date_int = int(date_str)\n",
    "    \n",
    "    return date_int"
   ]
  },
  {
   "cell_type": "code",
   "execution_count": 5,
   "metadata": {},
   "outputs": [],
   "source": [
    "def find_version(file):\n",
    "    file_date = date_extract(file)\n",
    "\n",
    "    tmp_ver = ver.copy()\n",
    "    tmp_ver['lag'] = file_date - tmp_ver['release_date']\n",
    "    tmp_ver = tmp_ver[tmp_ver['lag'] >= 0]\n",
    "\n",
    "    file_ver = tmp_ver.loc[tmp_ver['lag'].idxmin()].version\n",
    "    \n",
    "    return file_ver"
   ]
  },
  {
   "cell_type": "code",
   "execution_count": 8,
   "metadata": {},
   "outputs": [],
   "source": [
    "ver_file = '../1_download/outputs/version_history.tsv'\n",
    "\n",
    "# Load file\n",
    "ver = pd.read_csv(ver_file, sep='\\t')"
   ]
  },
  {
   "cell_type": "code",
   "execution_count": 9,
   "metadata": {},
   "outputs": [],
   "source": [
    "all_dates = [date_extract(f) for f in all_files]"
   ]
  },
  {
   "cell_type": "code",
   "execution_count": 10,
   "metadata": {},
   "outputs": [
    {
     "data": {
      "text/html": [
       "<div>\n",
       "<style scoped>\n",
       "    .dataframe tbody tr th:only-of-type {\n",
       "        vertical-align: middle;\n",
       "    }\n",
       "\n",
       "    .dataframe tbody tr th {\n",
       "        vertical-align: top;\n",
       "    }\n",
       "\n",
       "    .dataframe thead th {\n",
       "        text-align: right;\n",
       "    }\n",
       "</style>\n",
       "<table border=\"1\" class=\"dataframe\">\n",
       "  <thead>\n",
       "    <tr style=\"text-align: right;\">\n",
       "      <th></th>\n",
       "      <th>file</th>\n",
       "      <th>date</th>\n",
       "      <th>include</th>\n",
       "    </tr>\n",
       "  </thead>\n",
       "  <tbody>\n",
       "    <tr>\n",
       "      <th>178</th>\n",
       "      <td>../data/publicLifeLogData/lifeLog_bigserver2.o...</td>\n",
       "      <td>20190726</td>\n",
       "      <td>True</td>\n",
       "    </tr>\n",
       "    <tr>\n",
       "      <th>179</th>\n",
       "      <td>../data/publicLifeLogData/lifeLog_bigserver2.o...</td>\n",
       "      <td>20190727</td>\n",
       "      <td>True</td>\n",
       "    </tr>\n",
       "    <tr>\n",
       "      <th>180</th>\n",
       "      <td>../data/publicLifeLogData/lifeLog_bigserver2.o...</td>\n",
       "      <td>20190728</td>\n",
       "      <td>True</td>\n",
       "    </tr>\n",
       "    <tr>\n",
       "      <th>181</th>\n",
       "      <td>../data/publicLifeLogData/lifeLog_bigserver2.o...</td>\n",
       "      <td>20190729</td>\n",
       "      <td>True</td>\n",
       "    </tr>\n",
       "    <tr>\n",
       "      <th>182</th>\n",
       "      <td>../data/publicLifeLogData/lifeLog_bigserver2.o...</td>\n",
       "      <td>20190730</td>\n",
       "      <td>True</td>\n",
       "    </tr>\n",
       "  </tbody>\n",
       "</table>\n",
       "</div>"
      ],
      "text/plain": [
       "                                                  file      date  include\n",
       "178  ../data/publicLifeLogData/lifeLog_bigserver2.o...  20190726     True\n",
       "179  ../data/publicLifeLogData/lifeLog_bigserver2.o...  20190727     True\n",
       "180  ../data/publicLifeLogData/lifeLog_bigserver2.o...  20190728     True\n",
       "181  ../data/publicLifeLogData/lifeLog_bigserver2.o...  20190729     True\n",
       "182  ../data/publicLifeLogData/lifeLog_bigserver2.o...  20190730     True"
      ]
     },
     "execution_count": 10,
     "metadata": {},
     "output_type": "execute_result"
    }
   ],
   "source": [
    "start = 20190726\n",
    "\n",
    "# Check if date is within range\n",
    "between_dates = lambda d: (d >= start)\n",
    "\n",
    "file_df = pd.DataFrame({'file': all_files,\n",
    "                        'date': all_dates})\n",
    "file_df['include'] = file_df.date.apply(between_dates)\n",
    "file_df = file_df[file_df.include == True]\n",
    "\n",
    "file_df.head()"
   ]
  },
  {
   "cell_type": "code",
   "execution_count": null,
   "metadata": {},
   "outputs": [],
   "source": [
    "from tqdm import tqdm\n",
    "data_files = file_df['file'].values\n",
    "data_files"
   ]
  },
  {
   "cell_type": "code",
   "execution_count": null,
   "metadata": {},
   "outputs": [],
   "source": [
    "data_list = []\n",
    "empty_files = []\n",
    "for i in tqdm(range(len(data_files))):\n",
    "    f = data_files[i]\n",
    "    print(f)\n",
    "# for f in data_files:\n",
    "    try:\n",
    "        tmp_server = str_extract('(?<=lifeLog_)[a-zA-Z0-9]+', f)\n",
    "        tmp_ver = find_version(f)\n",
    "        \n",
    "        tmp_d = pd.read_csv(f, sep =' ', header=None)\n",
    "        tmp_d.insert(0, 'server', tmp_server)\n",
    "        tmp_d.insert(0, 'release', tmp_ver)\n",
    "        data_list.append(tmp_d)\n",
    "\n",
    "    except:\n",
    "        empty_files.append(f)"
   ]
  },
  {
   "cell_type": "code",
   "execution_count": null,
   "metadata": {},
   "outputs": [],
   "source": [
    "raw_data = pd.concat(data_list)\n",
    "raw_data.columns = ['release', 'server', 'event', 'timestamp', 'playerID', 'uniqueID', 'param1', 'param2',\n",
    "                 'param3', 'param4', 'param5']\n",
    "raw_data.head()"
   ]
  },
  {
   "cell_type": "code",
   "execution_count": null,
   "metadata": {},
   "outputs": [],
   "source": [
    "birth_data = raw_data[raw_data['event'] == 'B'].copy()\n",
    "birth_data = birth_data[['release','playerID', 'timestamp', 'uniqueID', 'param2','param5']]\n",
    "birth_data = birth_data.rename({'param2': 'birth_location','param5': 'chain'}, axis='columns')\n",
    "birth_data.head()"
   ]
  },
  {
   "cell_type": "code",
   "execution_count": null,
   "metadata": {},
   "outputs": [],
   "source": [
    "death_data = raw_data[raw_data['event'] == 'D'].copy()\n",
    "death_data = death_data[['release','playerID', 'timestamp', 'uniqueID', 'param3']]\n",
    "death_data = death_data.rename({'param3': 'death_location'}, axis='columns')\n",
    "death_data.head()\n"
   ]
  },
  {
   "cell_type": "code",
   "execution_count": null,
   "metadata": {
    "scrolled": true
   },
   "outputs": [],
   "source": [
    "loc_data = birth_data.merge(death_data, on = ['release','playerID','uniqueID'])\n",
    "loc_data['birth'] = loc_data['birth_location'].apply(make_tuple).apply(np.array)\n",
    "loc_data['death'] = loc_data['death_location'].apply(make_tuple).apply(np.array)\n",
    "\n",
    "# Split coordinates (for easier plotting)\n",
    "loc_data[['birthX', 'birthY']] = pd.DataFrame(loc_data['birth'].tolist(),\n",
    "                                              index=loc_data.index)   \n",
    "loc_data[['deathX', 'deathY']] = pd.DataFrame(loc_data['death'].tolist(),\n",
    "                                              index=loc_data.index)\n",
    "\n",
    "lifeLog = loc_data[['release','playerID','timestamp_x','timestamp_y','uniqueID','birthX','birthY','deathX','deathY','chain']]\n",
    "\n",
    "\n",
    "lifeLog.head()"
   ]
  },
  {
   "cell_type": "code",
   "execution_count": null,
   "metadata": {},
   "outputs": [],
   "source": [
    "# turn str under chain into num\n",
    "digit = lambda x: int(x.split(\"=\")[1])\n",
    "lifeLog['num_chain'] = lifeLog['chain'].apply(digit)\n",
    "lifeLogNew = lifeLog.drop(['chain'], axis=1)\n",
    "lifeLogNew = lifeLogNew.rename({'timestamp_x': 'timestamp_birth', 'timestamp_y': 'timestamp_death'}, axis='columns')\n",
    "lifeLogNew.head()"
   ]
  },
  {
   "cell_type": "code",
   "execution_count": null,
   "metadata": {},
   "outputs": [],
   "source": [
    "##plot migration across versions\n",
    "def plot_migration_across_releases(version):\n",
    "    fig = plt.figure(figsize=(30,30))\n",
    "    sns.scatterplot(data = lifeLogNew[lifeLogNew['release'] == version], x = 'birthX', y = 'birthY', \n",
    "                    hue ='timestamp_birth', palette=\"Blues\", alpha =0.8)\n",
    "\n",
    "    sns.scatterplot(data = lifeLogNew[lifeLogNew['release'] == (version+1)], x = 'birthX', y = 'birthY', \n",
    "                    hue ='timestamp_birth', palette=\"Reds\", alpha =0.8)\n",
    "    plt.title('version' + str(version) + '-' + str(version+1))\n",
    "    \n",
    "#     out_file = 'plots/migration_updates_v%s.png' % version\n",
    "#     plt.savefig(out_file, dpi=100)"
   ]
  },
  {
   "cell_type": "code",
   "execution_count": null,
   "metadata": {},
   "outputs": [],
   "source": [
    "##this function plots the birth and death location of each player\n",
    "def plot_individual_immigration(sub_version):\n",
    "    loc_subset = lifeLog[lifeLog['release'] == sub_version] ##plot migration for each version\n",
    "    \n",
    "    n_data = len(loc_subset)\n",
    "    \n",
    "    if n_data > 1: ##seems like it's missing data from some of the versions\n",
    "        if n_data > 5000:\n",
    "            a = 0.25\n",
    "        else:\n",
    "            a = 1\n",
    "\n",
    "        fig = plt.figure(figsize=(30,30))\n",
    "        for i, row in loc_subset.iterrows():\n",
    "            plt.arrow(row['birthX'], row['birthY'],\n",
    "                      row['deathX']-row['birthX'],\n",
    "                      row['deathY']-row['birthY'],\n",
    "                      alpha=0.2)\n",
    "        sns.scatterplot(data = loc_subset, x = 'birthX', y = 'birthY', hue ='num_chain', alpha=a) #color indicates chain\n",
    "        sns.scatterplot(data = loc_subset, x = 'deathX', y = 'deathY', marker = \"+\", hue ='num_chain', alpha=a) #marker type indicates birth/death \n",
    "        plt.xlabel('x')\n",
    "        plt.ylabel('y')\n",
    "    #     plt.ylim(-30000, 30000)\n",
    "    #     plt.xlim(-50000, 100000)\n",
    "\n",
    "        plt.title(sub_version)\n",
    "\n",
    "#         out_file = 'plots/migration2_v%s.png' % sub_version\n",
    "#         plt.savefig(out_file)"
   ]
  },
  {
   "cell_type": "code",
   "execution_count": null,
   "metadata": {},
   "outputs": [],
   "source": [
    "# for s in np.arange(252,302):\n",
    "#     plot_individual_immigration(s)\n",
    "#     plt.show()"
   ]
  },
  {
   "cell_type": "code",
   "execution_count": null,
   "metadata": {},
   "outputs": [],
   "source": [
    "for s in np.arange(280,302):\n",
    "    plot_migration_across_releases(s)\n",
    "    plt.show()"
   ]
  },
  {
   "cell_type": "code",
   "execution_count": null,
   "metadata": {},
   "outputs": [],
   "source": []
  }
 ],
 "metadata": {
  "kernelspec": {
   "display_name": "Python 3",
   "language": "python",
   "name": "python3"
  },
  "language_info": {
   "codemirror_mode": {
    "name": "ipython",
    "version": 3
   },
   "file_extension": ".py",
   "mimetype": "text/x-python",
   "name": "python",
   "nbconvert_exporter": "python",
   "pygments_lexer": "ipython3",
   "version": "3.7.6"
  }
 },
 "nbformat": 4,
 "nbformat_minor": 2
}
