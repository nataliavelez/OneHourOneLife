{
 "cells": [
  {
   "cell_type": "markdown",
   "metadata": {},
   "source": [
    "# How much does survival depend on the community in which you're born?*\n",
    "\\* After adjusting for individual expertise<br/>\n",
    "Natalia Vélez, August 2020"
   ]
  },
  {
   "cell_type": "code",
   "execution_count": null,
   "metadata": {},
   "outputs": [],
   "source": [
    "%matplotlib inline\n",
    "\n",
    "import os,re,glob\n",
    "import numpy as np\n",
    "import pandas as pd\n",
    "import matplotlib.pyplot as plt\n",
    "import seaborn as sns\n",
    "\n",
    "sns.set_style('white')\n",
    "sns.set_context('talk')"
   ]
  },
  {
   "cell_type": "markdown",
   "metadata": {},
   "source": [
    "## How many unique families and players?"
   ]
  },
  {
   "cell_type": "code",
   "execution_count": null,
   "metadata": {},
   "outputs": [],
   "source": [
    "fam_df = pd.read_csv('outputs/family_playerID.tsv', sep='\\t', index_col=0)\n",
    "print(len(fam_df))\n",
    "fam_df.head()"
   ]
  },
  {
   "cell_type": "code",
   "execution_count": null,
   "metadata": {},
   "outputs": [],
   "source": [
    "hash_df = pd.read_csv('outputs/all_lifelogs_compact.tsv', sep='\\t', index_col=0)\n",
    "hash_df = hash_df[['playerID', 'hash']]\n",
    "hash_df['playerID'] = hash_df['playerID'].astype(np.int)\n",
    "hash_df.head()"
   ]
  },
  {
   "cell_type": "code",
   "execution_count": null,
   "metadata": {},
   "outputs": [],
   "source": [
    "fam_hash = pd.merge(fam_df, hash_df, on='playerID', how='outer')\n",
    "fam_hash.head()"
   ]
  },
  {
   "cell_type": "code",
   "execution_count": null,
   "metadata": {},
   "outputs": [],
   "source": [
    "#families = np.unique(fam_hash['family'])\n",
    "characters = np.unique(fam_hash['playerID'])\n",
    "players = np.unique(fam_hash['hash'])\n",
    "\n",
    "#print('N =\\t%i families' % len(families))\n",
    "print('\\t%i lives lived' % len(characters))\n",
    "print('\\t%i unique players' % len(players))"
   ]
  },
  {
   "cell_type": "code",
   "execution_count": null,
   "metadata": {},
   "outputs": [],
   "source": [
    "players = np.unique(fam_hash['hash'])"
   ]
  },
  {
   "cell_type": "code",
   "execution_count": null,
   "metadata": {},
   "outputs": [],
   "source": [
    "fam_hash['hash']"
   ]
  },
  {
   "cell_type": "code",
   "execution_count": null,
   "metadata": {},
   "outputs": [],
   "source": []
  }
 ],
 "metadata": {
  "kernelspec": {
   "display_name": "Python 3",
   "language": "python",
   "name": "python3"
  },
  "language_info": {
   "codemirror_mode": {
    "name": "ipython",
    "version": 3
   },
   "file_extension": ".py",
   "mimetype": "text/x-python",
   "name": "python",
   "nbconvert_exporter": "python",
   "pygments_lexer": "ipython3",
   "version": "3.7.6"
  }
 },
 "nbformat": 4,
 "nbformat_minor": 4
}
