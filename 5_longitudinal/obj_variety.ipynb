{
 "cells": [
  {
   "cell_type": "markdown",
   "metadata": {},
   "source": [
    "# Object variety\n",
    "Natalia Vélez, October 2020"
   ]
  },
  {
   "cell_type": "code",
   "execution_count": 13,
   "metadata": {},
   "outputs": [],
   "source": [
    "import os,re,glob\n",
    "from os.path import join as opj\n",
    "import numpy as np\n",
    "import pandas as pd\n",
    "\n",
    "from tqdm import notebook"
   ]
  },
  {
   "cell_type": "markdown",
   "metadata": {},
   "source": [
    "Maplog files:"
   ]
  },
  {
   "cell_type": "code",
   "execution_count": 2,
   "metadata": {},
   "outputs": [
    {
     "name": "stdout",
     "output_type": "stream",
     "text": [
      "../3_technology/outputs/maplog/maplog_release-284_start-1573895672.tsv\n",
      "../3_technology/outputs/maplog/maplog_release-284_start-1573982073.tsv\n",
      "../3_technology/outputs/maplog/maplog_release-284_start-1574068473.tsv\n",
      "../3_technology/outputs/maplog/maplog_release-285_start-1574102503.tsv\n",
      "../3_technology/outputs/maplog/maplog_release-287_start-1574151678.tsv\n",
      "../3_technology/outputs/maplog/maplog_release-287_start-1574238079.tsv\n",
      "../3_technology/outputs/maplog/maplog_release-287_start-1574324479.tsv\n",
      "../3_technology/outputs/maplog/maplog_release-287_start-1574410879.tsv\n",
      "../3_technology/outputs/maplog/maplog_release-287_start-1574497279.tsv\n",
      "../3_technology/outputs/maplog/maplog_release-289_start-1574552311.tsv\n"
     ]
    }
   ],
   "source": [
    "map_files = glob.glob('../3_technology/outputs/maplog/*.tsv')\n",
    "map_files.sort()\n",
    "print(*map_files[:10], sep='\\n')"
   ]
  },
  {
   "cell_type": "markdown",
   "metadata": {},
   "source": [
    "Process map files:"
   ]
  },
  {
   "cell_type": "code",
   "execution_count": 14,
   "metadata": {},
   "outputs": [
    {
     "data": {
      "application/vnd.jupyter.widget-view+json": {
       "model_id": "2b2035a1705c4d6b8be1bab93cc18fc1",
       "version_major": 2,
       "version_minor": 0
      },
      "text/plain": [
       "HBox(children=(FloatProgress(value=0.0, max=365.0), HTML(value='')))"
      ]
     },
     "metadata": {},
     "output_type": "display_data"
    },
    {
     "name": "stdout",
     "output_type": "stream",
     "text": [
      "\n"
     ]
    }
   ],
   "source": [
    "data_list = []\n",
    "\n",
    "for f in notebook.tqdm(map_files):\n",
    "    tmp_d = pd.read_csv(f, sep='\\t')\n",
    "    tmp_d['object_id'] = tmp_d.object_id.str.replace('(^f|v[0-9]+|u[0-9]+)', '')\n",
    "    tmp_d['object_id'] = tmp_d['object_id'].astype(np.int)\n",
    "\n",
    "    tmp_d = tmp_d[(tmp_d['avatar'] > 0) & (tmp_d['object_id'] > 0)]\n",
    "    tmp_d = tmp_d.groupby('avatar')['object_id'].nunique().reset_index()\n",
    "    \n",
    "    data_list.append(tmp_d)"
   ]
  },
  {
   "cell_type": "markdown",
   "metadata": {},
   "source": [
    "Put together in a dataframe:"
   ]
  },
  {
   "cell_type": "code",
   "execution_count": 18,
   "metadata": {},
   "outputs": [
    {
     "data": {
      "text/html": [
       "<div>\n",
       "<style scoped>\n",
       "    .dataframe tbody tr th:only-of-type {\n",
       "        vertical-align: middle;\n",
       "    }\n",
       "\n",
       "    .dataframe tbody tr th {\n",
       "        vertical-align: top;\n",
       "    }\n",
       "\n",
       "    .dataframe thead th {\n",
       "        text-align: right;\n",
       "    }\n",
       "</style>\n",
       "<table border=\"1\" class=\"dataframe\">\n",
       "  <thead>\n",
       "    <tr style=\"text-align: right;\">\n",
       "      <th></th>\n",
       "      <th>avatar</th>\n",
       "      <th>n_objects</th>\n",
       "    </tr>\n",
       "  </thead>\n",
       "  <tbody>\n",
       "    <tr>\n",
       "      <th>0</th>\n",
       "      <td>2276905.0</td>\n",
       "      <td>139</td>\n",
       "    </tr>\n",
       "    <tr>\n",
       "      <th>1</th>\n",
       "      <td>2276906.0</td>\n",
       "      <td>22</td>\n",
       "    </tr>\n",
       "    <tr>\n",
       "      <th>2</th>\n",
       "      <td>2276907.0</td>\n",
       "      <td>1</td>\n",
       "    </tr>\n",
       "    <tr>\n",
       "      <th>3</th>\n",
       "      <td>2276908.0</td>\n",
       "      <td>9</td>\n",
       "    </tr>\n",
       "    <tr>\n",
       "      <th>4</th>\n",
       "      <td>2276909.0</td>\n",
       "      <td>82</td>\n",
       "    </tr>\n",
       "  </tbody>\n",
       "</table>\n",
       "</div>"
      ],
      "text/plain": [
       "      avatar  n_objects\n",
       "0  2276905.0        139\n",
       "1  2276906.0         22\n",
       "2  2276907.0          1\n",
       "3  2276908.0          9\n",
       "4  2276909.0         82"
      ]
     },
     "execution_count": 18,
     "metadata": {},
     "output_type": "execute_result"
    }
   ],
   "source": [
    "map_data = pd.concat(data_list)\n",
    "map_data = map_data.rename(columns={'object_id': 'n_objects'})\n",
    "map_data.head()"
   ]
  },
  {
   "cell_type": "code",
   "execution_count": 19,
   "metadata": {},
   "outputs": [],
   "source": [
    "map_data.to_csv('outputs/object_variety.tsv', sep='\\t', index=False)"
   ]
  }
 ],
 "metadata": {
  "kernelspec": {
   "display_name": "Python [conda env:.conda-py3]",
   "language": "python",
   "name": "conda-env-.conda-py3-py"
  },
  "language_info": {
   "codemirror_mode": {
    "name": "ipython",
    "version": 3
   },
   "file_extension": ".py",
   "mimetype": "text/x-python",
   "name": "python",
   "nbconvert_exporter": "python",
   "pygments_lexer": "ipython3",
   "version": "3.6.10"
  }
 },
 "nbformat": 4,
 "nbformat_minor": 2
}
