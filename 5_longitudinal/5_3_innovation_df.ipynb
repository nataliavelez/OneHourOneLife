{
 "cells": [
  {
   "cell_type": "markdown",
   "metadata": {},
   "source": [
    "# Innovation Degree of Freedom\n",
    "   This file calculates the degree of freedom of innovation (defined as Num(immediate potential objects can be made) - Num(objs already made)) at different time points in the family history"
   ]
  },
  {
   "cell_type": "code",
   "execution_count": 1,
   "metadata": {
    "collapsed": true
   },
   "outputs": [],
   "source": [
    "%matplotlib inline\n",
    "\n",
    "import os, re, glob, datetime, json\n",
    "import pandas as pd\n",
    "import numpy as np\n",
    "\n",
    "from tqdm.notebook import tqdm\n",
    "import matplotlib.pyplot as plt\n",
    "import seaborn as sns"
   ]
  },
  {
   "cell_type": "markdown",
   "metadata": {},
   "source": [
    "load empowerment dictionary"
   ]
  },
  {
   "cell_type": "code",
   "execution_count": 2,
   "metadata": {
    "collapsed": true
   },
   "outputs": [],
   "source": [
    "with open('tech_outputs/products.txt') as json_file:\n",
    "    emp = json.load(json_file)"
   ]
  },
  {
   "cell_type": "code",
   "execution_count": 3,
   "metadata": {
    "collapsed": true
   },
   "outputs": [],
   "source": [
    "emp = {int(k): v for k, v in emp.items() if len(v)!= 0}"
   ]
  },
  {
   "cell_type": "markdown",
   "metadata": {},
   "source": [
    "load map change data"
   ]
  },
  {
   "cell_type": "code",
   "execution_count": 4,
   "metadata": {
    "collapsed": true
   },
   "outputs": [],
   "source": [
    "data = pd.read_csv('../2_demographics/outputs/parsed_map_change.csv', index_col = [0])"
   ]
  },
  {
   "cell_type": "code",
   "execution_count": 5,
   "metadata": {},
   "outputs": [
    {
     "data": {
      "text/html": [
       "<div>\n",
       "<style scoped>\n",
       "    .dataframe tbody tr th:only-of-type {\n",
       "        vertical-align: middle;\n",
       "    }\n",
       "\n",
       "    .dataframe tbody tr th {\n",
       "        vertical-align: top;\n",
       "    }\n",
       "\n",
       "    .dataframe thead th {\n",
       "        text-align: right;\n",
       "    }\n",
       "</style>\n",
       "<table border=\"1\" class=\"dataframe\">\n",
       "  <thead>\n",
       "    <tr style=\"text-align: right;\">\n",
       "      <th></th>\n",
       "      <th>time</th>\n",
       "      <th>locX</th>\n",
       "      <th>locY</th>\n",
       "      <th>obj</th>\n",
       "      <th>playerID</th>\n",
       "      <th>family</th>\n",
       "    </tr>\n",
       "  </thead>\n",
       "  <tbody>\n",
       "    <tr>\n",
       "      <th>0</th>\n",
       "      <td>122.31</td>\n",
       "      <td>-5137</td>\n",
       "      <td>-1395</td>\n",
       "      <td>0</td>\n",
       "      <td>2276905</td>\n",
       "      <td>time-1573895755_eve-2276905_name-ZABICKI</td>\n",
       "    </tr>\n",
       "    <tr>\n",
       "      <th>1</th>\n",
       "      <td>125.06</td>\n",
       "      <td>-5138</td>\n",
       "      <td>-1394</td>\n",
       "      <td>0</td>\n",
       "      <td>2276905</td>\n",
       "      <td>time-1573895755_eve-2276905_name-ZABICKI</td>\n",
       "    </tr>\n",
       "    <tr>\n",
       "      <th>2</th>\n",
       "      <td>127.21</td>\n",
       "      <td>-5138</td>\n",
       "      <td>-1395</td>\n",
       "      <td>236</td>\n",
       "      <td>2276905</td>\n",
       "      <td>time-1573895755_eve-2276905_name-ZABICKI</td>\n",
       "    </tr>\n",
       "    <tr>\n",
       "      <th>3</th>\n",
       "      <td>129.09</td>\n",
       "      <td>-5135</td>\n",
       "      <td>-1396</td>\n",
       "      <td>134</td>\n",
       "      <td>2276905</td>\n",
       "      <td>time-1573895755_eve-2276905_name-ZABICKI</td>\n",
       "    </tr>\n",
       "    <tr>\n",
       "      <th>4</th>\n",
       "      <td>130.33</td>\n",
       "      <td>-5136</td>\n",
       "      <td>-1395</td>\n",
       "      <td>0</td>\n",
       "      <td>2276905</td>\n",
       "      <td>time-1573895755_eve-2276905_name-ZABICKI</td>\n",
       "    </tr>\n",
       "  </tbody>\n",
       "</table>\n",
       "</div>"
      ],
      "text/plain": [
       "     time  locX  locY  obj  playerID                                    family\n",
       "0  122.31 -5137 -1395    0   2276905  time-1573895755_eve-2276905_name-ZABICKI\n",
       "1  125.06 -5138 -1394    0   2276905  time-1573895755_eve-2276905_name-ZABICKI\n",
       "2  127.21 -5138 -1395  236   2276905  time-1573895755_eve-2276905_name-ZABICKI\n",
       "3  129.09 -5135 -1396  134   2276905  time-1573895755_eve-2276905_name-ZABICKI\n",
       "4  130.33 -5136 -1395    0   2276905  time-1573895755_eve-2276905_name-ZABICKI"
      ]
     },
     "execution_count": 5,
     "metadata": {},
     "output_type": "execute_result"
    }
   ],
   "source": [
    "data.head()"
   ]
  },
  {
   "cell_type": "code",
   "execution_count": 6,
   "metadata": {},
   "outputs": [
    {
     "data": {
      "text/plain": [
       "840408"
      ]
     },
     "execution_count": 6,
     "metadata": {},
     "output_type": "execute_result"
    }
   ],
   "source": [
    "len(data)"
   ]
  },
  {
   "cell_type": "markdown",
   "metadata": {},
   "source": [
    "find object and family index"
   ]
  },
  {
   "cell_type": "code",
   "execution_count": 7,
   "metadata": {
    "collapsed": true
   },
   "outputs": [],
   "source": [
    "data['cum_obj_num'] = data.groupby('family')['obj'].cumcount()"
   ]
  },
  {
   "cell_type": "code",
   "execution_count": 8,
   "metadata": {
    "collapsed": true
   },
   "outputs": [],
   "source": [
    "data['fam_idx'] = data.groupby('family',as_index = False).ngroup()"
   ]
  },
  {
   "cell_type": "code",
   "execution_count": 9,
   "metadata": {
    "collapsed": true
   },
   "outputs": [],
   "source": [
    "obj_list = data.groupby('family')['obj'].apply(list).to_list()"
   ]
  },
  {
   "cell_type": "code",
   "execution_count": 10,
   "metadata": {},
   "outputs": [
    {
     "data": {
      "text/plain": [
       "48"
      ]
     },
     "execution_count": 10,
     "metadata": {},
     "output_type": "execute_result"
    }
   ],
   "source": [
    "len(obj_list)"
   ]
  },
  {
   "cell_type": "markdown",
   "metadata": {},
   "source": [
    "tag cumulative objects up to time t"
   ]
  },
  {
   "cell_type": "code",
   "execution_count": null,
   "metadata": {
    "collapsed": true
   },
   "outputs": [],
   "source": [
    "data['cum_objs'] = data.apply(lambda x: set(obj_list[x.fam_idx][0:x.cum_obj_num+1]), axis = 1)"
   ]
  },
  {
   "cell_type": "code",
   "execution_count": 24,
   "metadata": {},
   "outputs": [
    {
     "data": {
      "text/html": [
       "<div>\n",
       "<style scoped>\n",
       "    .dataframe tbody tr th:only-of-type {\n",
       "        vertical-align: middle;\n",
       "    }\n",
       "\n",
       "    .dataframe tbody tr th {\n",
       "        vertical-align: top;\n",
       "    }\n",
       "\n",
       "    .dataframe thead th {\n",
       "        text-align: right;\n",
       "    }\n",
       "</style>\n",
       "<table border=\"1\" class=\"dataframe\">\n",
       "  <thead>\n",
       "    <tr style=\"text-align: right;\">\n",
       "      <th></th>\n",
       "      <th>time</th>\n",
       "      <th>locX</th>\n",
       "      <th>locY</th>\n",
       "      <th>obj</th>\n",
       "      <th>playerID</th>\n",
       "      <th>family</th>\n",
       "      <th>cum_obj_num</th>\n",
       "      <th>fam_idx</th>\n",
       "      <th>cum_objs</th>\n",
       "    </tr>\n",
       "  </thead>\n",
       "  <tbody>\n",
       "    <tr>\n",
       "      <th>0</th>\n",
       "      <td>122.31</td>\n",
       "      <td>-5137</td>\n",
       "      <td>-1395</td>\n",
       "      <td>0</td>\n",
       "      <td>2276905</td>\n",
       "      <td>time-1573895755_eve-2276905_name-ZABICKI</td>\n",
       "      <td>0</td>\n",
       "      <td>0</td>\n",
       "      <td>{0}</td>\n",
       "    </tr>\n",
       "    <tr>\n",
       "      <th>1</th>\n",
       "      <td>125.06</td>\n",
       "      <td>-5138</td>\n",
       "      <td>-1394</td>\n",
       "      <td>0</td>\n",
       "      <td>2276905</td>\n",
       "      <td>time-1573895755_eve-2276905_name-ZABICKI</td>\n",
       "      <td>1</td>\n",
       "      <td>0</td>\n",
       "      <td>{0}</td>\n",
       "    </tr>\n",
       "    <tr>\n",
       "      <th>2</th>\n",
       "      <td>127.21</td>\n",
       "      <td>-5138</td>\n",
       "      <td>-1395</td>\n",
       "      <td>236</td>\n",
       "      <td>2276905</td>\n",
       "      <td>time-1573895755_eve-2276905_name-ZABICKI</td>\n",
       "      <td>2</td>\n",
       "      <td>0</td>\n",
       "      <td>{0, 236}</td>\n",
       "    </tr>\n",
       "    <tr>\n",
       "      <th>3</th>\n",
       "      <td>129.09</td>\n",
       "      <td>-5135</td>\n",
       "      <td>-1396</td>\n",
       "      <td>134</td>\n",
       "      <td>2276905</td>\n",
       "      <td>time-1573895755_eve-2276905_name-ZABICKI</td>\n",
       "      <td>3</td>\n",
       "      <td>0</td>\n",
       "      <td>{0, 236, 134}</td>\n",
       "    </tr>\n",
       "    <tr>\n",
       "      <th>4</th>\n",
       "      <td>130.33</td>\n",
       "      <td>-5136</td>\n",
       "      <td>-1395</td>\n",
       "      <td>0</td>\n",
       "      <td>2276905</td>\n",
       "      <td>time-1573895755_eve-2276905_name-ZABICKI</td>\n",
       "      <td>4</td>\n",
       "      <td>0</td>\n",
       "      <td>{0, 236, 134}</td>\n",
       "    </tr>\n",
       "  </tbody>\n",
       "</table>\n",
       "</div>"
      ],
      "text/plain": [
       "     time  locX  locY  obj  playerID  \\\n",
       "0  122.31 -5137 -1395    0   2276905   \n",
       "1  125.06 -5138 -1394    0   2276905   \n",
       "2  127.21 -5138 -1395  236   2276905   \n",
       "3  129.09 -5135 -1396  134   2276905   \n",
       "4  130.33 -5136 -1395    0   2276905   \n",
       "\n",
       "                                     family  cum_obj_num  fam_idx  \\\n",
       "0  time-1573895755_eve-2276905_name-ZABICKI            0        0   \n",
       "1  time-1573895755_eve-2276905_name-ZABICKI            1        0   \n",
       "2  time-1573895755_eve-2276905_name-ZABICKI            2        0   \n",
       "3  time-1573895755_eve-2276905_name-ZABICKI            3        0   \n",
       "4  time-1573895755_eve-2276905_name-ZABICKI            4        0   \n",
       "\n",
       "        cum_objs  \n",
       "0            {0}  \n",
       "1            {0}  \n",
       "2       {0, 236}  \n",
       "3  {0, 236, 134}  \n",
       "4  {0, 236, 134}  "
      ]
     },
     "execution_count": 24,
     "metadata": {},
     "output_type": "execute_result"
    }
   ],
   "source": [
    "data.head()"
   ]
  },
  {
   "cell_type": "markdown",
   "metadata": {},
   "source": [
    "take only rows where new objects are made"
   ]
  },
  {
   "cell_type": "code",
   "execution_count": 28,
   "metadata": {},
   "outputs": [],
   "source": [
    "data_unique = data.copy()"
   ]
  },
  {
   "cell_type": "code",
   "execution_count": 29,
   "metadata": {
    "collapsed": true
   },
   "outputs": [],
   "source": [
    "data_unique['shifted'] = data_unique['cum_objs'].shift()"
   ]
  },
  {
   "cell_type": "code",
   "execution_count": 32,
   "metadata": {},
   "outputs": [
    {
     "data": {
      "text/html": [
       "<div>\n",
       "<style scoped>\n",
       "    .dataframe tbody tr th:only-of-type {\n",
       "        vertical-align: middle;\n",
       "    }\n",
       "\n",
       "    .dataframe tbody tr th {\n",
       "        vertical-align: top;\n",
       "    }\n",
       "\n",
       "    .dataframe thead th {\n",
       "        text-align: right;\n",
       "    }\n",
       "</style>\n",
       "<table border=\"1\" class=\"dataframe\">\n",
       "  <thead>\n",
       "    <tr style=\"text-align: right;\">\n",
       "      <th></th>\n",
       "      <th>time</th>\n",
       "      <th>locX</th>\n",
       "      <th>locY</th>\n",
       "      <th>obj</th>\n",
       "      <th>playerID</th>\n",
       "      <th>family</th>\n",
       "      <th>cum_obj_num</th>\n",
       "      <th>fam_idx</th>\n",
       "      <th>cum_objs</th>\n",
       "      <th>shifted</th>\n",
       "    </tr>\n",
       "  </thead>\n",
       "  <tbody>\n",
       "    <tr>\n",
       "      <th>0</th>\n",
       "      <td>122.31</td>\n",
       "      <td>-5137</td>\n",
       "      <td>-1395</td>\n",
       "      <td>0</td>\n",
       "      <td>2276905</td>\n",
       "      <td>time-1573895755_eve-2276905_name-ZABICKI</td>\n",
       "      <td>0</td>\n",
       "      <td>0</td>\n",
       "      <td>{0}</td>\n",
       "      <td>NaN</td>\n",
       "    </tr>\n",
       "    <tr>\n",
       "      <th>1</th>\n",
       "      <td>125.06</td>\n",
       "      <td>-5138</td>\n",
       "      <td>-1394</td>\n",
       "      <td>0</td>\n",
       "      <td>2276905</td>\n",
       "      <td>time-1573895755_eve-2276905_name-ZABICKI</td>\n",
       "      <td>1</td>\n",
       "      <td>0</td>\n",
       "      <td>{0}</td>\n",
       "      <td>{0}</td>\n",
       "    </tr>\n",
       "    <tr>\n",
       "      <th>2</th>\n",
       "      <td>127.21</td>\n",
       "      <td>-5138</td>\n",
       "      <td>-1395</td>\n",
       "      <td>236</td>\n",
       "      <td>2276905</td>\n",
       "      <td>time-1573895755_eve-2276905_name-ZABICKI</td>\n",
       "      <td>2</td>\n",
       "      <td>0</td>\n",
       "      <td>{0, 236}</td>\n",
       "      <td>{0}</td>\n",
       "    </tr>\n",
       "    <tr>\n",
       "      <th>3</th>\n",
       "      <td>129.09</td>\n",
       "      <td>-5135</td>\n",
       "      <td>-1396</td>\n",
       "      <td>134</td>\n",
       "      <td>2276905</td>\n",
       "      <td>time-1573895755_eve-2276905_name-ZABICKI</td>\n",
       "      <td>3</td>\n",
       "      <td>0</td>\n",
       "      <td>{0, 236, 134}</td>\n",
       "      <td>{0, 236}</td>\n",
       "    </tr>\n",
       "    <tr>\n",
       "      <th>4</th>\n",
       "      <td>130.33</td>\n",
       "      <td>-5136</td>\n",
       "      <td>-1395</td>\n",
       "      <td>0</td>\n",
       "      <td>2276905</td>\n",
       "      <td>time-1573895755_eve-2276905_name-ZABICKI</td>\n",
       "      <td>4</td>\n",
       "      <td>0</td>\n",
       "      <td>{0, 236, 134}</td>\n",
       "      <td>{0, 236, 134}</td>\n",
       "    </tr>\n",
       "  </tbody>\n",
       "</table>\n",
       "</div>"
      ],
      "text/plain": [
       "     time  locX  locY  obj  playerID  \\\n",
       "0  122.31 -5137 -1395    0   2276905   \n",
       "1  125.06 -5138 -1394    0   2276905   \n",
       "2  127.21 -5138 -1395  236   2276905   \n",
       "3  129.09 -5135 -1396  134   2276905   \n",
       "4  130.33 -5136 -1395    0   2276905   \n",
       "\n",
       "                                     family  cum_obj_num  fam_idx  \\\n",
       "0  time-1573895755_eve-2276905_name-ZABICKI            0        0   \n",
       "1  time-1573895755_eve-2276905_name-ZABICKI            1        0   \n",
       "2  time-1573895755_eve-2276905_name-ZABICKI            2        0   \n",
       "3  time-1573895755_eve-2276905_name-ZABICKI            3        0   \n",
       "4  time-1573895755_eve-2276905_name-ZABICKI            4        0   \n",
       "\n",
       "        cum_objs        shifted  \n",
       "0            {0}            NaN  \n",
       "1            {0}            {0}  \n",
       "2       {0, 236}            {0}  \n",
       "3  {0, 236, 134}       {0, 236}  \n",
       "4  {0, 236, 134}  {0, 236, 134}  "
      ]
     },
     "execution_count": 32,
     "metadata": {},
     "output_type": "execute_result"
    }
   ],
   "source": [
    "data_unique.head()"
   ]
  },
  {
   "cell_type": "code",
   "execution_count": 34,
   "metadata": {
    "collapsed": true
   },
   "outputs": [],
   "source": [
    "data_unique['num_obj'] = data_unique['cum_objs'].apply(lambda x: len(x))"
   ]
  },
  {
   "cell_type": "code",
   "execution_count": 40,
   "metadata": {},
   "outputs": [],
   "source": [
    "data_new = data_unique.groupby(['family', 'num_obj'])[['time', 'cum_objs']].apply(min).reset_index()"
   ]
  },
  {
   "cell_type": "code",
   "execution_count": 47,
   "metadata": {},
   "outputs": [
    {
     "data": {
      "text/html": [
       "<div>\n",
       "<style scoped>\n",
       "    .dataframe tbody tr th:only-of-type {\n",
       "        vertical-align: middle;\n",
       "    }\n",
       "\n",
       "    .dataframe tbody tr th {\n",
       "        vertical-align: top;\n",
       "    }\n",
       "\n",
       "    .dataframe thead th {\n",
       "        text-align: right;\n",
       "    }\n",
       "</style>\n",
       "<table border=\"1\" class=\"dataframe\">\n",
       "  <thead>\n",
       "    <tr style=\"text-align: right;\">\n",
       "      <th></th>\n",
       "      <th>family</th>\n",
       "      <th>num_obj</th>\n",
       "      <th>time</th>\n",
       "      <th>cum_objs</th>\n",
       "    </tr>\n",
       "  </thead>\n",
       "  <tbody>\n",
       "    <tr>\n",
       "      <th>0</th>\n",
       "      <td>time-1573895755_eve-2276905_name-ZABICKI</td>\n",
       "      <td>1</td>\n",
       "      <td>122.31</td>\n",
       "      <td>{0}</td>\n",
       "    </tr>\n",
       "    <tr>\n",
       "      <th>1</th>\n",
       "      <td>time-1573895755_eve-2276905_name-ZABICKI</td>\n",
       "      <td>2</td>\n",
       "      <td>127.21</td>\n",
       "      <td>{0, 236}</td>\n",
       "    </tr>\n",
       "    <tr>\n",
       "      <th>2</th>\n",
       "      <td>time-1573895755_eve-2276905_name-ZABICKI</td>\n",
       "      <td>3</td>\n",
       "      <td>129.09</td>\n",
       "      <td>{0, 236, 134}</td>\n",
       "    </tr>\n",
       "    <tr>\n",
       "      <th>3</th>\n",
       "      <td>time-1573895755_eve-2276905_name-ZABICKI</td>\n",
       "      <td>4</td>\n",
       "      <td>172.11</td>\n",
       "      <td>{0, 2873, 236, 134}</td>\n",
       "    </tr>\n",
       "    <tr>\n",
       "      <th>4</th>\n",
       "      <td>time-1573895755_eve-2276905_name-ZABICKI</td>\n",
       "      <td>5</td>\n",
       "      <td>175.11</td>\n",
       "      <td>{0, 134, 236, 2742, 2873}</td>\n",
       "    </tr>\n",
       "  </tbody>\n",
       "</table>\n",
       "</div>"
      ],
      "text/plain": [
       "                                     family  num_obj    time  \\\n",
       "0  time-1573895755_eve-2276905_name-ZABICKI        1  122.31   \n",
       "1  time-1573895755_eve-2276905_name-ZABICKI        2  127.21   \n",
       "2  time-1573895755_eve-2276905_name-ZABICKI        3  129.09   \n",
       "3  time-1573895755_eve-2276905_name-ZABICKI        4  172.11   \n",
       "4  time-1573895755_eve-2276905_name-ZABICKI        5  175.11   \n",
       "\n",
       "                    cum_objs  \n",
       "0                        {0}  \n",
       "1                   {0, 236}  \n",
       "2              {0, 236, 134}  \n",
       "3        {0, 2873, 236, 134}  \n",
       "4  {0, 134, 236, 2742, 2873}  "
      ]
     },
     "execution_count": 47,
     "metadata": {},
     "output_type": "execute_result"
    }
   ],
   "source": [
    "data_new.head()"
   ]
  },
  {
   "cell_type": "code",
   "execution_count": 44,
   "metadata": {},
   "outputs": [
    {
     "data": {
      "text/plain": [
       "15277"
      ]
     },
     "execution_count": 44,
     "metadata": {},
     "output_type": "execute_result"
    }
   ],
   "source": [
    "len(data_new)"
   ]
  },
  {
   "cell_type": "markdown",
   "metadata": {},
   "source": [
    "find innovation degree of freedom"
   ]
  },
  {
   "cell_type": "code",
   "execution_count": 107,
   "metadata": {
    "collapsed": true
   },
   "outputs": [],
   "source": [
    "def find_emp(objs):\n",
    "    tot = objs\n",
    "    for i in objs:\n",
    "        if i in emp.keys():\n",
    "            tot = np.append(tot, [i for i in emp[i] if i not in tot])\n",
    "    return len(tot) - len(objs)"
   ]
  },
  {
   "cell_type": "code",
   "execution_count": 108,
   "metadata": {},
   "outputs": [],
   "source": [
    "data_new['degree_of_freedom'] = data_new['cum_objs'].apply(find_emp)"
   ]
  },
  {
   "cell_type": "code",
   "execution_count": 109,
   "metadata": {},
   "outputs": [
    {
     "data": {
      "text/html": [
       "<div>\n",
       "<style scoped>\n",
       "    .dataframe tbody tr th:only-of-type {\n",
       "        vertical-align: middle;\n",
       "    }\n",
       "\n",
       "    .dataframe tbody tr th {\n",
       "        vertical-align: top;\n",
       "    }\n",
       "\n",
       "    .dataframe thead th {\n",
       "        text-align: right;\n",
       "    }\n",
       "</style>\n",
       "<table border=\"1\" class=\"dataframe\">\n",
       "  <thead>\n",
       "    <tr style=\"text-align: right;\">\n",
       "      <th></th>\n",
       "      <th>family</th>\n",
       "      <th>num_obj</th>\n",
       "      <th>time</th>\n",
       "      <th>cum_objs</th>\n",
       "      <th>emp</th>\n",
       "      <th>degree_of_freedom</th>\n",
       "    </tr>\n",
       "  </thead>\n",
       "  <tbody>\n",
       "    <tr>\n",
       "      <th>0</th>\n",
       "      <td>time-1573895755_eve-2276905_name-ZABICKI</td>\n",
       "      <td>1</td>\n",
       "      <td>122.31</td>\n",
       "      <td>{0}</td>\n",
       "      <td>0</td>\n",
       "      <td>0</td>\n",
       "    </tr>\n",
       "    <tr>\n",
       "      <th>1</th>\n",
       "      <td>time-1573895755_eve-2276905_name-ZABICKI</td>\n",
       "      <td>2</td>\n",
       "      <td>127.21</td>\n",
       "      <td>{0, 236}</td>\n",
       "      <td>29</td>\n",
       "      <td>28</td>\n",
       "    </tr>\n",
       "    <tr>\n",
       "      <th>2</th>\n",
       "      <td>time-1573895755_eve-2276905_name-ZABICKI</td>\n",
       "      <td>3</td>\n",
       "      <td>129.09</td>\n",
       "      <td>{0, 236, 134}</td>\n",
       "      <td>33</td>\n",
       "      <td>31</td>\n",
       "    </tr>\n",
       "    <tr>\n",
       "      <th>3</th>\n",
       "      <td>time-1573895755_eve-2276905_name-ZABICKI</td>\n",
       "      <td>4</td>\n",
       "      <td>172.11</td>\n",
       "      <td>{0, 2873, 236, 134}</td>\n",
       "      <td>34</td>\n",
       "      <td>31</td>\n",
       "    </tr>\n",
       "    <tr>\n",
       "      <th>4</th>\n",
       "      <td>time-1573895755_eve-2276905_name-ZABICKI</td>\n",
       "      <td>5</td>\n",
       "      <td>175.11</td>\n",
       "      <td>{0, 134, 236, 2742, 2873}</td>\n",
       "      <td>34</td>\n",
       "      <td>30</td>\n",
       "    </tr>\n",
       "  </tbody>\n",
       "</table>\n",
       "</div>"
      ],
      "text/plain": [
       "                                     family  num_obj    time  \\\n",
       "0  time-1573895755_eve-2276905_name-ZABICKI        1  122.31   \n",
       "1  time-1573895755_eve-2276905_name-ZABICKI        2  127.21   \n",
       "2  time-1573895755_eve-2276905_name-ZABICKI        3  129.09   \n",
       "3  time-1573895755_eve-2276905_name-ZABICKI        4  172.11   \n",
       "4  time-1573895755_eve-2276905_name-ZABICKI        5  175.11   \n",
       "\n",
       "                    cum_objs  emp  degree_of_freedom  \n",
       "0                        {0}    0                  0  \n",
       "1                   {0, 236}   29                 28  \n",
       "2              {0, 236, 134}   33                 31  \n",
       "3        {0, 2873, 236, 134}   34                 31  \n",
       "4  {0, 134, 236, 2742, 2873}   34                 30  "
      ]
     },
     "execution_count": 109,
     "metadata": {},
     "output_type": "execute_result"
    }
   ],
   "source": [
    "data_new.head()"
   ]
  },
  {
   "cell_type": "code",
   "execution_count": 117,
   "metadata": {},
   "outputs": [],
   "source": [
    "data_new.to_csv('empowerment_dynamic.csv')"
   ]
  },
  {
   "cell_type": "code",
   "execution_count": null,
   "metadata": {
    "collapsed": true
   },
   "outputs": [],
   "source": []
  },
  {
   "cell_type": "code",
   "execution_count": 112,
   "metadata": {},
   "outputs": [],
   "source": [
    "test = data_new.groupby('family')['emp'].apply(max)"
   ]
  },
  {
   "cell_type": "code",
   "execution_count": 113,
   "metadata": {},
   "outputs": [
    {
     "data": {
      "text/plain": [
       "family\n",
       "time-1573895755_eve-2276905_name-ZABICKI            1415\n",
       "time-1573895904_eve-2276911_name-ROHRER              312\n",
       "time-1573896101_eve-2276917_name-BADA               1431\n",
       "time-1573896134_eve-2276919_name-SARINA             1627\n",
       "time-1573896495_eve-2276927_name-LISSADE            2212\n",
       "time-1573905001_eve-2277238_name-NORTH               466\n",
       "time-1573906131_eve-2277285_name-NEW                 203\n",
       "time-1573907431_eve-2277342_name-FINCH              2114\n",
       "time-1573909483_eve-2277421_name-ISPAS              2024\n",
       "time-1573913113_eve-2277579_name-IN                  262\n",
       "time-1573914221_eve-2277632_name-WILD                914\n",
       "time-1573916555_eve-2277781_name-AA                    3\n",
       "time-1573918105_eve-2277860_name-RUTH                828\n",
       "time-1573922544_eve-2278118_name-FUGLSANG              8\n",
       "time-1573922618_eve-2278121_name-ZAZA                150\n",
       "time-1573923283_eve-2278172_name-POPS                258\n",
       "time-1573923963_eve-2278242_name-DESTINO             204\n",
       "time-1573928065_eve-2278562_name-CALIN              1664\n",
       "time-1573931298_eve-2278799_name-ANGEL                 3\n",
       "time-1573933442_eve-2278996_name-MORT               1469\n",
       "time-1573934909_eve-2279109_name-ALICE              1742\n",
       "time-1573965243_eve-2280850_name-ETERNO             2215\n",
       "time-1573993405_eve-2281846_name-KLENK              1648\n",
       "time-1574002170_eve-2282286_name-KILL                  7\n",
       "time-1574002222_eve-2282292_name-FRADKIN            1316\n",
       "time-1574005861_eve-2282511_name-ROYALTY             127\n",
       "time-1574006761_eve-2282567_name-DUPEA               123\n",
       "time-1574007003_eve-2282583_name-FRYMAN             1669\n",
       "time-1574013554_eve-2282947_name-EVA                  20\n",
       "time-1574014730_eve-2283003_name-GENEST              873\n",
       "time-1574019178_eve-2283257_name-GREY               1688\n",
       "time-1574022356_eve-2283497_name-HOPELY                6\n",
       "time-1574022455_eve-2283503_name-AN                 2169\n",
       "time-1574022807_eve-2283525_name-LION                269\n",
       "time-1574024904_eve-2283723_name-DUMBAR                3\n",
       "time-1574024980_eve-2283728_name-UNIS               2091\n",
       "time-1574030687_eve-2284042_name-ANN                1873\n",
       "time-1574040685_eve-2284545_name-DICK                202\n",
       "time-1574043968_eve-2284715_name-EPIFANIO            418\n",
       "time-1574045398_eve-2284784_name-LOVELACE            603\n",
       "time-1574046254_eve-2284823_name-ANA                   6\n",
       "time-1574046693_eve-2284872_name-LOVE               1400\n",
       "time-1574075044_eve-2285598_name-STALICA             297\n",
       "time-1574075802_eve-2285645_name-CHERIPKA            244\n",
       "time-1574076383_eve-2285659_name-LIMEHOUSE          1816\n",
       "time-1574077367_eve-2285693_name-SCHWARZENBERGER    1817\n",
       "time-1574090874_eve-2286003_name-SILANO             1554\n",
       "time-1574097243_eve-2286236_name-WALUS              1008\n",
       "Name: emp, dtype: int64"
      ]
     },
     "execution_count": 113,
     "metadata": {},
     "output_type": "execute_result"
    }
   ],
   "source": [
    "test"
   ]
  },
  {
   "cell_type": "code",
   "execution_count": null,
   "metadata": {
    "collapsed": true
   },
   "outputs": [],
   "source": []
  }
 ],
 "metadata": {
  "kernelspec": {
   "display_name": "Python 3",
   "language": "python",
   "name": "python3"
  },
  "language_info": {
   "codemirror_mode": {
    "name": "ipython",
    "version": 3
   },
   "file_extension": ".py",
   "mimetype": "text/x-python",
   "name": "python",
   "nbconvert_exporter": "python",
   "pygments_lexer": "ipython3",
   "version": "3.6.3"
  }
 },
 "nbformat": 4,
 "nbformat_minor": 2
}
