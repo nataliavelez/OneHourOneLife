{
 "cells": [
  {
   "cell_type": "markdown",
   "metadata": {},
   "source": [
    "# Innovation Degree of Freedom\n",
    "       This file calculates the degree of freedom of innovation (defined as Num(immediate potential objects can be made) - Num(objs already made)) at different time points in the family history\n",
    "   \n",
    "   Created by Grace Deng in August, 2020"
   ]
  },
  {
   "cell_type": "code",
   "execution_count": 1,
   "metadata": {
    "collapsed": true
   },
   "outputs": [],
   "source": [
    "%matplotlib inline\n",
    "\n",
    "import os, re, glob, datetime, json\n",
    "import pandas as pd\n",
    "import numpy as np\n",
    "\n",
    "from tqdm.notebook import tqdm\n",
    "import matplotlib.pyplot as plt\n",
    "import seaborn as sns"
   ]
  },
  {
   "cell_type": "markdown",
   "metadata": {},
   "source": [
    "load empowerment dictionary"
   ]
  },
  {
   "cell_type": "code",
   "execution_count": 2,
   "metadata": {
    "collapsed": true
   },
   "outputs": [],
   "source": [
    "with open('../3_technology/tech_outputs/products.txt') as json_file:\n",
    "    emp = json.load(json_file)"
   ]
  },
  {
   "cell_type": "code",
   "execution_count": 3,
   "metadata": {
    "collapsed": true
   },
   "outputs": [],
   "source": [
    "emp = {int(k): v for k, v in emp.items() if len(v)!= 0}"
   ]
  },
  {
   "cell_type": "markdown",
   "metadata": {},
   "source": [
    "load map change data"
   ]
  },
  {
   "cell_type": "code",
   "execution_count": 4,
   "metadata": {
    "collapsed": true
   },
   "outputs": [],
   "source": [
    "data = pd.read_csv('../2_demographics/outputs/parsed_map_change.csv', index_col = [0])"
   ]
  },
  {
   "cell_type": "code",
   "execution_count": 5,
   "metadata": {
    "collapsed": true
   },
   "outputs": [],
   "source": [
    "data = data.sort_values(by = 'time')"
   ]
  },
  {
   "cell_type": "code",
   "execution_count": 6,
   "metadata": {},
   "outputs": [
    {
     "data": {
      "text/html": [
       "<div>\n",
       "<style scoped>\n",
       "    .dataframe tbody tr th:only-of-type {\n",
       "        vertical-align: middle;\n",
       "    }\n",
       "\n",
       "    .dataframe tbody tr th {\n",
       "        vertical-align: top;\n",
       "    }\n",
       "\n",
       "    .dataframe thead th {\n",
       "        text-align: right;\n",
       "    }\n",
       "</style>\n",
       "<table border=\"1\" class=\"dataframe\">\n",
       "  <thead>\n",
       "    <tr style=\"text-align: right;\">\n",
       "      <th></th>\n",
       "      <th>time</th>\n",
       "      <th>locX</th>\n",
       "      <th>locY</th>\n",
       "      <th>obj</th>\n",
       "      <th>playerID</th>\n",
       "      <th>family</th>\n",
       "    </tr>\n",
       "  </thead>\n",
       "  <tbody>\n",
       "    <tr>\n",
       "      <th>0</th>\n",
       "      <td>122.31</td>\n",
       "      <td>-5137</td>\n",
       "      <td>-1395</td>\n",
       "      <td>0</td>\n",
       "      <td>2276905</td>\n",
       "      <td>time-1573895755_eve-2276905_name-ZABICKI</td>\n",
       "    </tr>\n",
       "    <tr>\n",
       "      <th>1</th>\n",
       "      <td>125.06</td>\n",
       "      <td>-5138</td>\n",
       "      <td>-1394</td>\n",
       "      <td>0</td>\n",
       "      <td>2276905</td>\n",
       "      <td>time-1573895755_eve-2276905_name-ZABICKI</td>\n",
       "    </tr>\n",
       "    <tr>\n",
       "      <th>2</th>\n",
       "      <td>127.21</td>\n",
       "      <td>-5138</td>\n",
       "      <td>-1395</td>\n",
       "      <td>236</td>\n",
       "      <td>2276905</td>\n",
       "      <td>time-1573895755_eve-2276905_name-ZABICKI</td>\n",
       "    </tr>\n",
       "    <tr>\n",
       "      <th>3</th>\n",
       "      <td>129.09</td>\n",
       "      <td>-5135</td>\n",
       "      <td>-1396</td>\n",
       "      <td>134</td>\n",
       "      <td>2276905</td>\n",
       "      <td>time-1573895755_eve-2276905_name-ZABICKI</td>\n",
       "    </tr>\n",
       "    <tr>\n",
       "      <th>4</th>\n",
       "      <td>130.33</td>\n",
       "      <td>-5136</td>\n",
       "      <td>-1395</td>\n",
       "      <td>0</td>\n",
       "      <td>2276905</td>\n",
       "      <td>time-1573895755_eve-2276905_name-ZABICKI</td>\n",
       "    </tr>\n",
       "  </tbody>\n",
       "</table>\n",
       "</div>"
      ],
      "text/plain": [
       "     time  locX  locY  obj  playerID                                    family\n",
       "0  122.31 -5137 -1395    0   2276905  time-1573895755_eve-2276905_name-ZABICKI\n",
       "1  125.06 -5138 -1394    0   2276905  time-1573895755_eve-2276905_name-ZABICKI\n",
       "2  127.21 -5138 -1395  236   2276905  time-1573895755_eve-2276905_name-ZABICKI\n",
       "3  129.09 -5135 -1396  134   2276905  time-1573895755_eve-2276905_name-ZABICKI\n",
       "4  130.33 -5136 -1395    0   2276905  time-1573895755_eve-2276905_name-ZABICKI"
      ]
     },
     "execution_count": 6,
     "metadata": {},
     "output_type": "execute_result"
    }
   ],
   "source": [
    "data.head()"
   ]
  },
  {
   "cell_type": "code",
   "execution_count": 7,
   "metadata": {},
   "outputs": [
    {
     "data": {
      "text/plain": [
       "840408"
      ]
     },
     "execution_count": 7,
     "metadata": {},
     "output_type": "execute_result"
    }
   ],
   "source": [
    "len(data)"
   ]
  },
  {
   "cell_type": "markdown",
   "metadata": {},
   "source": [
    "find object and family index"
   ]
  },
  {
   "cell_type": "code",
   "execution_count": 8,
   "metadata": {
    "collapsed": true
   },
   "outputs": [],
   "source": [
    "data['cum_obj_num'] = data.groupby('family')['obj'].cumcount()"
   ]
  },
  {
   "cell_type": "code",
   "execution_count": 9,
   "metadata": {
    "collapsed": true
   },
   "outputs": [],
   "source": [
    "data['fam_idx'] = data.groupby('family',as_index = False).ngroup()"
   ]
  },
  {
   "cell_type": "code",
   "execution_count": 10,
   "metadata": {
    "collapsed": true
   },
   "outputs": [],
   "source": [
    "obj_list = data.groupby('family')['obj'].apply(list).to_list()"
   ]
  },
  {
   "cell_type": "code",
   "execution_count": 11,
   "metadata": {},
   "outputs": [
    {
     "data": {
      "text/plain": [
       "48"
      ]
     },
     "execution_count": 11,
     "metadata": {},
     "output_type": "execute_result"
    }
   ],
   "source": [
    "len(obj_list)"
   ]
  },
  {
   "cell_type": "markdown",
   "metadata": {},
   "source": [
    "tag cumulative objects up to time t"
   ]
  },
  {
   "cell_type": "code",
   "execution_count": 13,
   "metadata": {
    "collapsed": true
   },
   "outputs": [],
   "source": [
    "data['cum_objs'] = data.apply(lambda x: set(obj_list[x.fam_idx][0:x.cum_obj_num+1]), axis = 1)"
   ]
  },
  {
   "cell_type": "code",
   "execution_count": 14,
   "metadata": {},
   "outputs": [
    {
     "data": {
      "text/html": [
       "<div>\n",
       "<style scoped>\n",
       "    .dataframe tbody tr th:only-of-type {\n",
       "        vertical-align: middle;\n",
       "    }\n",
       "\n",
       "    .dataframe tbody tr th {\n",
       "        vertical-align: top;\n",
       "    }\n",
       "\n",
       "    .dataframe thead th {\n",
       "        text-align: right;\n",
       "    }\n",
       "</style>\n",
       "<table border=\"1\" class=\"dataframe\">\n",
       "  <thead>\n",
       "    <tr style=\"text-align: right;\">\n",
       "      <th></th>\n",
       "      <th>time</th>\n",
       "      <th>locX</th>\n",
       "      <th>locY</th>\n",
       "      <th>obj</th>\n",
       "      <th>playerID</th>\n",
       "      <th>family</th>\n",
       "      <th>cum_obj_num</th>\n",
       "      <th>fam_idx</th>\n",
       "      <th>cum_objs</th>\n",
       "    </tr>\n",
       "  </thead>\n",
       "  <tbody>\n",
       "    <tr>\n",
       "      <th>0</th>\n",
       "      <td>122.31</td>\n",
       "      <td>-5137</td>\n",
       "      <td>-1395</td>\n",
       "      <td>0</td>\n",
       "      <td>2276905</td>\n",
       "      <td>time-1573895755_eve-2276905_name-ZABICKI</td>\n",
       "      <td>0</td>\n",
       "      <td>0</td>\n",
       "      <td>{0}</td>\n",
       "    </tr>\n",
       "    <tr>\n",
       "      <th>1</th>\n",
       "      <td>125.06</td>\n",
       "      <td>-5138</td>\n",
       "      <td>-1394</td>\n",
       "      <td>0</td>\n",
       "      <td>2276905</td>\n",
       "      <td>time-1573895755_eve-2276905_name-ZABICKI</td>\n",
       "      <td>1</td>\n",
       "      <td>0</td>\n",
       "      <td>{0}</td>\n",
       "    </tr>\n",
       "    <tr>\n",
       "      <th>2</th>\n",
       "      <td>127.21</td>\n",
       "      <td>-5138</td>\n",
       "      <td>-1395</td>\n",
       "      <td>236</td>\n",
       "      <td>2276905</td>\n",
       "      <td>time-1573895755_eve-2276905_name-ZABICKI</td>\n",
       "      <td>2</td>\n",
       "      <td>0</td>\n",
       "      <td>{0, 236}</td>\n",
       "    </tr>\n",
       "    <tr>\n",
       "      <th>3</th>\n",
       "      <td>129.09</td>\n",
       "      <td>-5135</td>\n",
       "      <td>-1396</td>\n",
       "      <td>134</td>\n",
       "      <td>2276905</td>\n",
       "      <td>time-1573895755_eve-2276905_name-ZABICKI</td>\n",
       "      <td>3</td>\n",
       "      <td>0</td>\n",
       "      <td>{0, 236, 134}</td>\n",
       "    </tr>\n",
       "    <tr>\n",
       "      <th>4</th>\n",
       "      <td>130.33</td>\n",
       "      <td>-5136</td>\n",
       "      <td>-1395</td>\n",
       "      <td>0</td>\n",
       "      <td>2276905</td>\n",
       "      <td>time-1573895755_eve-2276905_name-ZABICKI</td>\n",
       "      <td>4</td>\n",
       "      <td>0</td>\n",
       "      <td>{0, 236, 134}</td>\n",
       "    </tr>\n",
       "  </tbody>\n",
       "</table>\n",
       "</div>"
      ],
      "text/plain": [
       "     time  locX  locY  obj  playerID  \\\n",
       "0  122.31 -5137 -1395    0   2276905   \n",
       "1  125.06 -5138 -1394    0   2276905   \n",
       "2  127.21 -5138 -1395  236   2276905   \n",
       "3  129.09 -5135 -1396  134   2276905   \n",
       "4  130.33 -5136 -1395    0   2276905   \n",
       "\n",
       "                                     family  cum_obj_num  fam_idx  \\\n",
       "0  time-1573895755_eve-2276905_name-ZABICKI            0        0   \n",
       "1  time-1573895755_eve-2276905_name-ZABICKI            1        0   \n",
       "2  time-1573895755_eve-2276905_name-ZABICKI            2        0   \n",
       "3  time-1573895755_eve-2276905_name-ZABICKI            3        0   \n",
       "4  time-1573895755_eve-2276905_name-ZABICKI            4        0   \n",
       "\n",
       "        cum_objs  \n",
       "0            {0}  \n",
       "1            {0}  \n",
       "2       {0, 236}  \n",
       "3  {0, 236, 134}  \n",
       "4  {0, 236, 134}  "
      ]
     },
     "execution_count": 14,
     "metadata": {},
     "output_type": "execute_result"
    }
   ],
   "source": [
    "data.head()"
   ]
  },
  {
   "cell_type": "markdown",
   "metadata": {},
   "source": [
    "take only rows where new objects are made"
   ]
  },
  {
   "cell_type": "code",
   "execution_count": 15,
   "metadata": {
    "collapsed": true
   },
   "outputs": [],
   "source": [
    "data_unique = data.copy()"
   ]
  },
  {
   "cell_type": "code",
   "execution_count": 16,
   "metadata": {
    "collapsed": true
   },
   "outputs": [],
   "source": [
    "data_unique['num_obj'] = data_unique['cum_objs'].apply(lambda x: len(x))"
   ]
  },
  {
   "cell_type": "code",
   "execution_count": 17,
   "metadata": {
    "collapsed": true
   },
   "outputs": [],
   "source": [
    "data_new = data_unique.groupby(['family', 'num_obj'])[['time', 'cum_objs']].apply(min).reset_index()"
   ]
  },
  {
   "cell_type": "code",
   "execution_count": 18,
   "metadata": {},
   "outputs": [
    {
     "data": {
      "text/html": [
       "<div>\n",
       "<style scoped>\n",
       "    .dataframe tbody tr th:only-of-type {\n",
       "        vertical-align: middle;\n",
       "    }\n",
       "\n",
       "    .dataframe tbody tr th {\n",
       "        vertical-align: top;\n",
       "    }\n",
       "\n",
       "    .dataframe thead th {\n",
       "        text-align: right;\n",
       "    }\n",
       "</style>\n",
       "<table border=\"1\" class=\"dataframe\">\n",
       "  <thead>\n",
       "    <tr style=\"text-align: right;\">\n",
       "      <th></th>\n",
       "      <th>family</th>\n",
       "      <th>num_obj</th>\n",
       "      <th>time</th>\n",
       "      <th>cum_objs</th>\n",
       "    </tr>\n",
       "  </thead>\n",
       "  <tbody>\n",
       "    <tr>\n",
       "      <th>0</th>\n",
       "      <td>time-1573895755_eve-2276905_name-ZABICKI</td>\n",
       "      <td>1</td>\n",
       "      <td>122.31</td>\n",
       "      <td>{0}</td>\n",
       "    </tr>\n",
       "    <tr>\n",
       "      <th>1</th>\n",
       "      <td>time-1573895755_eve-2276905_name-ZABICKI</td>\n",
       "      <td>2</td>\n",
       "      <td>127.21</td>\n",
       "      <td>{0, 236}</td>\n",
       "    </tr>\n",
       "    <tr>\n",
       "      <th>2</th>\n",
       "      <td>time-1573895755_eve-2276905_name-ZABICKI</td>\n",
       "      <td>3</td>\n",
       "      <td>129.09</td>\n",
       "      <td>{0, 236, 134}</td>\n",
       "    </tr>\n",
       "    <tr>\n",
       "      <th>3</th>\n",
       "      <td>time-1573895755_eve-2276905_name-ZABICKI</td>\n",
       "      <td>4</td>\n",
       "      <td>172.11</td>\n",
       "      <td>{0, 2873, 236, 134}</td>\n",
       "    </tr>\n",
       "    <tr>\n",
       "      <th>4</th>\n",
       "      <td>time-1573895755_eve-2276905_name-ZABICKI</td>\n",
       "      <td>5</td>\n",
       "      <td>175.11</td>\n",
       "      <td>{0, 134, 236, 2742, 2873}</td>\n",
       "    </tr>\n",
       "  </tbody>\n",
       "</table>\n",
       "</div>"
      ],
      "text/plain": [
       "                                     family  num_obj    time  \\\n",
       "0  time-1573895755_eve-2276905_name-ZABICKI        1  122.31   \n",
       "1  time-1573895755_eve-2276905_name-ZABICKI        2  127.21   \n",
       "2  time-1573895755_eve-2276905_name-ZABICKI        3  129.09   \n",
       "3  time-1573895755_eve-2276905_name-ZABICKI        4  172.11   \n",
       "4  time-1573895755_eve-2276905_name-ZABICKI        5  175.11   \n",
       "\n",
       "                    cum_objs  \n",
       "0                        {0}  \n",
       "1                   {0, 236}  \n",
       "2              {0, 236, 134}  \n",
       "3        {0, 2873, 236, 134}  \n",
       "4  {0, 134, 236, 2742, 2873}  "
      ]
     },
     "execution_count": 18,
     "metadata": {},
     "output_type": "execute_result"
    }
   ],
   "source": [
    "data_new.head()"
   ]
  },
  {
   "cell_type": "code",
   "execution_count": 19,
   "metadata": {},
   "outputs": [
    {
     "data": {
      "text/plain": [
       "15277"
      ]
     },
     "execution_count": 19,
     "metadata": {},
     "output_type": "execute_result"
    }
   ],
   "source": [
    "len(data_new)"
   ]
  },
  {
   "cell_type": "markdown",
   "metadata": {},
   "source": [
    "find innovation degree of freedom"
   ]
  },
  {
   "cell_type": "code",
   "execution_count": 35,
   "metadata": {
    "collapsed": true
   },
   "outputs": [],
   "source": [
    "def find_emp(objs):\n",
    "    tot = objs\n",
    "    for i in objs:\n",
    "        if i in emp.keys():\n",
    "            tot = np.append(tot, [i for i in emp[i] if i not in tot])\n",
    "    tot = [i for i in tot if i not in objs]\n",
    "    return len(tot)"
   ]
  },
  {
   "cell_type": "code",
   "execution_count": null,
   "metadata": {
    "collapsed": true
   },
   "outputs": [],
   "source": [
    "data_new['degree_of_freedom'] = data_new['cum_objs'].apply(find_emp)"
   ]
  },
  {
   "cell_type": "code",
   "execution_count": null,
   "metadata": {},
   "outputs": [
    {
     "data": {
      "text/html": [
       "<div>\n",
       "<style scoped>\n",
       "    .dataframe tbody tr th:only-of-type {\n",
       "        vertical-align: middle;\n",
       "    }\n",
       "\n",
       "    .dataframe tbody tr th {\n",
       "        vertical-align: top;\n",
       "    }\n",
       "\n",
       "    .dataframe thead th {\n",
       "        text-align: right;\n",
       "    }\n",
       "</style>\n",
       "<table border=\"1\" class=\"dataframe\">\n",
       "  <thead>\n",
       "    <tr style=\"text-align: right;\">\n",
       "      <th></th>\n",
       "      <th>family</th>\n",
       "      <th>num_obj</th>\n",
       "      <th>time</th>\n",
       "      <th>cum_objs</th>\n",
       "      <th>degree_of_freedom</th>\n",
       "    </tr>\n",
       "  </thead>\n",
       "  <tbody>\n",
       "    <tr>\n",
       "      <th>0</th>\n",
       "      <td>time-1573895755_eve-2276905_name-ZABICKI</td>\n",
       "      <td>1</td>\n",
       "      <td>122.31</td>\n",
       "      <td>{0}</td>\n",
       "      <td>0</td>\n",
       "    </tr>\n",
       "    <tr>\n",
       "      <th>1</th>\n",
       "      <td>time-1573895755_eve-2276905_name-ZABICKI</td>\n",
       "      <td>2</td>\n",
       "      <td>127.21</td>\n",
       "      <td>{0, 236}</td>\n",
       "      <td>30</td>\n",
       "    </tr>\n",
       "    <tr>\n",
       "      <th>2</th>\n",
       "      <td>time-1573895755_eve-2276905_name-ZABICKI</td>\n",
       "      <td>3</td>\n",
       "      <td>129.09</td>\n",
       "      <td>{0, 236, 134}</td>\n",
       "      <td>34</td>\n",
       "    </tr>\n",
       "    <tr>\n",
       "      <th>3</th>\n",
       "      <td>time-1573895755_eve-2276905_name-ZABICKI</td>\n",
       "      <td>4</td>\n",
       "      <td>172.11</td>\n",
       "      <td>{0, 2873, 236, 134}</td>\n",
       "      <td>35</td>\n",
       "    </tr>\n",
       "    <tr>\n",
       "      <th>4</th>\n",
       "      <td>time-1573895755_eve-2276905_name-ZABICKI</td>\n",
       "      <td>5</td>\n",
       "      <td>175.11</td>\n",
       "      <td>{0, 134, 236, 2742, 2873}</td>\n",
       "      <td>35</td>\n",
       "    </tr>\n",
       "  </tbody>\n",
       "</table>\n",
       "</div>"
      ],
      "text/plain": [
       "                                     family  num_obj    time  \\\n",
       "0  time-1573895755_eve-2276905_name-ZABICKI        1  122.31   \n",
       "1  time-1573895755_eve-2276905_name-ZABICKI        2  127.21   \n",
       "2  time-1573895755_eve-2276905_name-ZABICKI        3  129.09   \n",
       "3  time-1573895755_eve-2276905_name-ZABICKI        4  172.11   \n",
       "4  time-1573895755_eve-2276905_name-ZABICKI        5  175.11   \n",
       "\n",
       "                    cum_objs  degree_of_freedom  \n",
       "0                        {0}                  0  \n",
       "1                   {0, 236}                 30  \n",
       "2              {0, 236, 134}                 34  \n",
       "3        {0, 2873, 236, 134}                 35  \n",
       "4  {0, 134, 236, 2742, 2873}                 35  "
      ]
     },
     "execution_count": 37,
     "metadata": {},
     "output_type": "execute_result"
    }
   ],
   "source": [
    "data_new.head()"
   ]
  },
  {
   "cell_type": "markdown",
   "metadata": {},
   "source": [
    "save data"
   ]
  },
  {
   "cell_type": "code",
   "execution_count": 39,
   "metadata": {
    "collapsed": true
   },
   "outputs": [],
   "source": [
    "data_new.to_csv('empowerment_dynamic.csv')"
   ]
  },
  {
   "cell_type": "markdown",
   "metadata": {
    "collapsed": true
   },
   "source": [
    "plot innovation_df against time (one family)"
   ]
  },
  {
   "cell_type": "code",
   "execution_count": 52,
   "metadata": {},
   "outputs": [
    {
     "data": {
      "text/plain": [
       "'time-1573896101_eve-2276917_name-BADA'"
      ]
     },
     "execution_count": 52,
     "metadata": {},
     "output_type": "execute_result"
    }
   ],
   "source": [
    "myfam = data_new.family.unique()[2]\n",
    "myfam"
   ]
  },
  {
   "cell_type": "code",
   "execution_count": 59,
   "metadata": {},
   "outputs": [
    {
     "data": {
      "image/png": "[encoded data removed]",
      "text/plain": [
       "<matplotlib.figure.Figure at 0x1a18eeea90>"
      ]
     },
     "metadata": {},
     "output_type": "display_data"
    }
   ],
   "source": [
    "sns.set_context('talk')\n",
    "fig, ax = plt.subplots(figsize = (12,10))\n",
    "sns.lineplot(data = data_new.loc[data_new.family == myfam], x = 'time', y = 'num_obj', label = 'innovations')\n",
    "# sns.lineplot(data = data_new, x = 'time', y = 'degree_of_freedom', hue = 'family')\n",
    "sns.lineplot(data = data_new.loc[data_new.family == myfam], x = 'time', y = 'degree_of_freedom', alpha = 0.75, label = 'degree of freedom')\n",
    "plt.savefig('innovation&df_growth', dpi = 100, transparent = True)\n",
    "# plt.show()"
   ]
  },
  {
   "cell_type": "markdown",
   "metadata": {},
   "source": [
    "What's the highest innovation_df for each family?"
   ]
  },
  {
   "cell_type": "code",
   "execution_count": 34,
   "metadata": {
    "collapsed": true
   },
   "outputs": [],
   "source": [
    "test = data_new.groupby('family')['degree_of_freedom'].apply(max).to_frame().reset_index()"
   ]
  },
  {
   "cell_type": "code",
   "execution_count": 35,
   "metadata": {},
   "outputs": [
    {
     "data": {
      "text/html": [
       "<div>\n",
       "<style scoped>\n",
       "    .dataframe tbody tr th:only-of-type {\n",
       "        vertical-align: middle;\n",
       "    }\n",
       "\n",
       "    .dataframe tbody tr th {\n",
       "        vertical-align: top;\n",
       "    }\n",
       "\n",
       "    .dataframe thead th {\n",
       "        text-align: right;\n",
       "    }\n",
       "</style>\n",
       "<table border=\"1\" class=\"dataframe\">\n",
       "  <thead>\n",
       "    <tr style=\"text-align: right;\">\n",
       "      <th></th>\n",
       "      <th>family</th>\n",
       "      <th>degree_of_freedom</th>\n",
       "    </tr>\n",
       "  </thead>\n",
       "  <tbody>\n",
       "    <tr>\n",
       "      <th>0</th>\n",
       "      <td>time-1573895755_eve-2276905_name-ZABICKI</td>\n",
       "      <td>1104</td>\n",
       "    </tr>\n",
       "    <tr>\n",
       "      <th>1</th>\n",
       "      <td>time-1573895904_eve-2276911_name-ROHRER</td>\n",
       "      <td>267</td>\n",
       "    </tr>\n",
       "    <tr>\n",
       "      <th>2</th>\n",
       "      <td>time-1573896101_eve-2276917_name-BADA</td>\n",
       "      <td>1079</td>\n",
       "    </tr>\n",
       "    <tr>\n",
       "      <th>3</th>\n",
       "      <td>time-1573896134_eve-2276919_name-SARINA</td>\n",
       "      <td>1128</td>\n",
       "    </tr>\n",
       "    <tr>\n",
       "      <th>4</th>\n",
       "      <td>time-1573896495_eve-2276927_name-LISSADE</td>\n",
       "      <td>1154</td>\n",
       "    </tr>\n",
       "    <tr>\n",
       "      <th>5</th>\n",
       "      <td>time-1573905001_eve-2277238_name-NORTH</td>\n",
       "      <td>381</td>\n",
       "    </tr>\n",
       "    <tr>\n",
       "      <th>6</th>\n",
       "      <td>time-1573906131_eve-2277285_name-NEW</td>\n",
       "      <td>176</td>\n",
       "    </tr>\n",
       "    <tr>\n",
       "      <th>7</th>\n",
       "      <td>time-1573907431_eve-2277342_name-FINCH</td>\n",
       "      <td>1170</td>\n",
       "    </tr>\n",
       "    <tr>\n",
       "      <th>8</th>\n",
       "      <td>time-1573909483_eve-2277421_name-ISPAS</td>\n",
       "      <td>1128</td>\n",
       "    </tr>\n",
       "    <tr>\n",
       "      <th>9</th>\n",
       "      <td>time-1573913113_eve-2277579_name-IN</td>\n",
       "      <td>225</td>\n",
       "    </tr>\n",
       "    <tr>\n",
       "      <th>10</th>\n",
       "      <td>time-1573914221_eve-2277632_name-WILD</td>\n",
       "      <td>748</td>\n",
       "    </tr>\n",
       "    <tr>\n",
       "      <th>11</th>\n",
       "      <td>time-1573916555_eve-2277781_name-AA</td>\n",
       "      <td>3</td>\n",
       "    </tr>\n",
       "    <tr>\n",
       "      <th>12</th>\n",
       "      <td>time-1573918105_eve-2277860_name-RUTH</td>\n",
       "      <td>694</td>\n",
       "    </tr>\n",
       "    <tr>\n",
       "      <th>13</th>\n",
       "      <td>time-1573922544_eve-2278118_name-FUGLSANG</td>\n",
       "      <td>6</td>\n",
       "    </tr>\n",
       "    <tr>\n",
       "      <th>14</th>\n",
       "      <td>time-1573922618_eve-2278121_name-ZAZA</td>\n",
       "      <td>130</td>\n",
       "    </tr>\n",
       "    <tr>\n",
       "      <th>15</th>\n",
       "      <td>time-1573923283_eve-2278172_name-POPS</td>\n",
       "      <td>216</td>\n",
       "    </tr>\n",
       "    <tr>\n",
       "      <th>16</th>\n",
       "      <td>time-1573923963_eve-2278242_name-DESTINO</td>\n",
       "      <td>168</td>\n",
       "    </tr>\n",
       "    <tr>\n",
       "      <th>17</th>\n",
       "      <td>time-1573928065_eve-2278562_name-CALIN</td>\n",
       "      <td>1125</td>\n",
       "    </tr>\n",
       "    <tr>\n",
       "      <th>18</th>\n",
       "      <td>time-1573931298_eve-2278799_name-ANGEL</td>\n",
       "      <td>3</td>\n",
       "    </tr>\n",
       "    <tr>\n",
       "      <th>19</th>\n",
       "      <td>time-1573933442_eve-2278996_name-MORT</td>\n",
       "      <td>1068</td>\n",
       "    </tr>\n",
       "    <tr>\n",
       "      <th>20</th>\n",
       "      <td>time-1573934909_eve-2279109_name-ALICE</td>\n",
       "      <td>1178</td>\n",
       "    </tr>\n",
       "    <tr>\n",
       "      <th>21</th>\n",
       "      <td>time-1573965243_eve-2280850_name-ETERNO</td>\n",
       "      <td>1209</td>\n",
       "    </tr>\n",
       "    <tr>\n",
       "      <th>22</th>\n",
       "      <td>time-1573993405_eve-2281846_name-KLENK</td>\n",
       "      <td>1189</td>\n",
       "    </tr>\n",
       "    <tr>\n",
       "      <th>23</th>\n",
       "      <td>time-1574002170_eve-2282286_name-KILL</td>\n",
       "      <td>3</td>\n",
       "    </tr>\n",
       "    <tr>\n",
       "      <th>24</th>\n",
       "      <td>time-1574002222_eve-2282292_name-FRADKIN</td>\n",
       "      <td>1015</td>\n",
       "    </tr>\n",
       "    <tr>\n",
       "      <th>25</th>\n",
       "      <td>time-1574005861_eve-2282511_name-ROYALTY</td>\n",
       "      <td>95</td>\n",
       "    </tr>\n",
       "    <tr>\n",
       "      <th>26</th>\n",
       "      <td>time-1574006761_eve-2282567_name-DUPEA</td>\n",
       "      <td>114</td>\n",
       "    </tr>\n",
       "    <tr>\n",
       "      <th>27</th>\n",
       "      <td>time-1574007003_eve-2282583_name-FRYMAN</td>\n",
       "      <td>1195</td>\n",
       "    </tr>\n",
       "    <tr>\n",
       "      <th>28</th>\n",
       "      <td>time-1574013554_eve-2282947_name-EVA</td>\n",
       "      <td>12</td>\n",
       "    </tr>\n",
       "    <tr>\n",
       "      <th>29</th>\n",
       "      <td>time-1574014730_eve-2283003_name-GENEST</td>\n",
       "      <td>717</td>\n",
       "    </tr>\n",
       "    <tr>\n",
       "      <th>30</th>\n",
       "      <td>time-1574019178_eve-2283257_name-GREY</td>\n",
       "      <td>1124</td>\n",
       "    </tr>\n",
       "    <tr>\n",
       "      <th>31</th>\n",
       "      <td>time-1574022356_eve-2283497_name-HOPELY</td>\n",
       "      <td>4</td>\n",
       "    </tr>\n",
       "    <tr>\n",
       "      <th>32</th>\n",
       "      <td>time-1574022455_eve-2283503_name-AN</td>\n",
       "      <td>1178</td>\n",
       "    </tr>\n",
       "    <tr>\n",
       "      <th>33</th>\n",
       "      <td>time-1574022807_eve-2283525_name-LION</td>\n",
       "      <td>226</td>\n",
       "    </tr>\n",
       "    <tr>\n",
       "      <th>34</th>\n",
       "      <td>time-1574024904_eve-2283723_name-DUMBAR</td>\n",
       "      <td>3</td>\n",
       "    </tr>\n",
       "    <tr>\n",
       "      <th>35</th>\n",
       "      <td>time-1574024980_eve-2283728_name-UNIS</td>\n",
       "      <td>1164</td>\n",
       "    </tr>\n",
       "    <tr>\n",
       "      <th>36</th>\n",
       "      <td>time-1574030687_eve-2284042_name-ANN</td>\n",
       "      <td>1179</td>\n",
       "    </tr>\n",
       "    <tr>\n",
       "      <th>37</th>\n",
       "      <td>time-1574040685_eve-2284545_name-DICK</td>\n",
       "      <td>168</td>\n",
       "    </tr>\n",
       "    <tr>\n",
       "      <th>38</th>\n",
       "      <td>time-1574043968_eve-2284715_name-EPIFANIO</td>\n",
       "      <td>364</td>\n",
       "    </tr>\n",
       "    <tr>\n",
       "      <th>39</th>\n",
       "      <td>time-1574045398_eve-2284784_name-LOVELACE</td>\n",
       "      <td>538</td>\n",
       "    </tr>\n",
       "    <tr>\n",
       "      <th>40</th>\n",
       "      <td>time-1574046254_eve-2284823_name-ANA</td>\n",
       "      <td>4</td>\n",
       "    </tr>\n",
       "    <tr>\n",
       "      <th>41</th>\n",
       "      <td>time-1574046693_eve-2284872_name-LOVE</td>\n",
       "      <td>1021</td>\n",
       "    </tr>\n",
       "    <tr>\n",
       "      <th>42</th>\n",
       "      <td>time-1574075044_eve-2285598_name-STALICA</td>\n",
       "      <td>261</td>\n",
       "    </tr>\n",
       "    <tr>\n",
       "      <th>43</th>\n",
       "      <td>time-1574075802_eve-2285645_name-CHERIPKA</td>\n",
       "      <td>219</td>\n",
       "    </tr>\n",
       "    <tr>\n",
       "      <th>44</th>\n",
       "      <td>time-1574076383_eve-2285659_name-LIMEHOUSE</td>\n",
       "      <td>1123</td>\n",
       "    </tr>\n",
       "    <tr>\n",
       "      <th>45</th>\n",
       "      <td>time-1574077367_eve-2285693_name-SCHWARZENBERGER</td>\n",
       "      <td>1145</td>\n",
       "    </tr>\n",
       "    <tr>\n",
       "      <th>46</th>\n",
       "      <td>time-1574090874_eve-2286003_name-SILANO</td>\n",
       "      <td>1109</td>\n",
       "    </tr>\n",
       "    <tr>\n",
       "      <th>47</th>\n",
       "      <td>time-1574097243_eve-2286236_name-WALUS</td>\n",
       "      <td>803</td>\n",
       "    </tr>\n",
       "  </tbody>\n",
       "</table>\n",
       "</div>"
      ],
      "text/plain": [
       "                                              family  degree_of_freedom\n",
       "0           time-1573895755_eve-2276905_name-ZABICKI               1104\n",
       "1            time-1573895904_eve-2276911_name-ROHRER                267\n",
       "2              time-1573896101_eve-2276917_name-BADA               1079\n",
       "3            time-1573896134_eve-2276919_name-SARINA               1128\n",
       "4           time-1573896495_eve-2276927_name-LISSADE               1154\n",
       "5             time-1573905001_eve-2277238_name-NORTH                381\n",
       "6               time-1573906131_eve-2277285_name-NEW                176\n",
       "7             time-1573907431_eve-2277342_name-FINCH               1170\n",
       "8             time-1573909483_eve-2277421_name-ISPAS               1128\n",
       "9                time-1573913113_eve-2277579_name-IN                225\n",
       "10             time-1573914221_eve-2277632_name-WILD                748\n",
       "11               time-1573916555_eve-2277781_name-AA                  3\n",
       "12             time-1573918105_eve-2277860_name-RUTH                694\n",
       "13         time-1573922544_eve-2278118_name-FUGLSANG                  6\n",
       "14             time-1573922618_eve-2278121_name-ZAZA                130\n",
       "15             time-1573923283_eve-2278172_name-POPS                216\n",
       "16          time-1573923963_eve-2278242_name-DESTINO                168\n",
       "17            time-1573928065_eve-2278562_name-CALIN               1125\n",
       "18            time-1573931298_eve-2278799_name-ANGEL                  3\n",
       "19             time-1573933442_eve-2278996_name-MORT               1068\n",
       "20            time-1573934909_eve-2279109_name-ALICE               1178\n",
       "21           time-1573965243_eve-2280850_name-ETERNO               1209\n",
       "22            time-1573993405_eve-2281846_name-KLENK               1189\n",
       "23             time-1574002170_eve-2282286_name-KILL                  3\n",
       "24          time-1574002222_eve-2282292_name-FRADKIN               1015\n",
       "25          time-1574005861_eve-2282511_name-ROYALTY                 95\n",
       "26            time-1574006761_eve-2282567_name-DUPEA                114\n",
       "27           time-1574007003_eve-2282583_name-FRYMAN               1195\n",
       "28              time-1574013554_eve-2282947_name-EVA                 12\n",
       "29           time-1574014730_eve-2283003_name-GENEST                717\n",
       "30             time-1574019178_eve-2283257_name-GREY               1124\n",
       "31           time-1574022356_eve-2283497_name-HOPELY                  4\n",
       "32               time-1574022455_eve-2283503_name-AN               1178\n",
       "33             time-1574022807_eve-2283525_name-LION                226\n",
       "34           time-1574024904_eve-2283723_name-DUMBAR                  3\n",
       "35             time-1574024980_eve-2283728_name-UNIS               1164\n",
       "36              time-1574030687_eve-2284042_name-ANN               1179\n",
       "37             time-1574040685_eve-2284545_name-DICK                168\n",
       "38         time-1574043968_eve-2284715_name-EPIFANIO                364\n",
       "39         time-1574045398_eve-2284784_name-LOVELACE                538\n",
       "40              time-1574046254_eve-2284823_name-ANA                  4\n",
       "41             time-1574046693_eve-2284872_name-LOVE               1021\n",
       "42          time-1574075044_eve-2285598_name-STALICA                261\n",
       "43         time-1574075802_eve-2285645_name-CHERIPKA                219\n",
       "44        time-1574076383_eve-2285659_name-LIMEHOUSE               1123\n",
       "45  time-1574077367_eve-2285693_name-SCHWARZENBERGER               1145\n",
       "46           time-1574090874_eve-2286003_name-SILANO               1109\n",
       "47            time-1574097243_eve-2286236_name-WALUS                803"
      ]
     },
     "execution_count": 35,
     "metadata": {},
     "output_type": "execute_result"
    }
   ],
   "source": [
    "test"
   ]
  }
 ],
 "metadata": {
  "kernelspec": {
   "display_name": "Python 3",
   "language": "python",
   "name": "python3"
  },
  "language_info": {
   "codemirror_mode": {
    "name": "ipython",
    "version": 3
   },
   "file_extension": ".py",
   "mimetype": "text/x-python",
   "name": "python",
   "nbconvert_exporter": "python",
   "pygments_lexer": "ipython3",
   "version": "3.6.3"
  }
 },
 "nbformat": 4,
 "nbformat_minor": 2
}
