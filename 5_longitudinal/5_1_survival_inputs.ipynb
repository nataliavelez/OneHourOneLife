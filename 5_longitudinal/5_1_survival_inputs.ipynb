{
 "cells": [
  {
   "cell_type": "markdown",
   "metadata": {},
   "source": [
    "# Modeling individual survival\n",
    "Natalia Vélez, August 2020\n",
    "\n",
    "The goal of this notebook is to create the inputs for the survival regression."
   ]
  },
  {
   "cell_type": "code",
   "execution_count": 37,
   "metadata": {},
   "outputs": [],
   "source": [
    "%matplotlib inline\n",
    "\n",
    "import os,re,glob,datetime,json,scipy\n",
    "import numpy as np\n",
    "import pandas as pd\n",
    "import matplotlib.pyplot as plt\n",
    "import seaborn as sns\n",
    "import networkx as nx\n",
    "from tqdm import notebook\n",
    "\n",
    "from networkx.drawing.nx_agraph import graphviz_layout\n",
    "\n",
    "sns.set_style('white')\n",
    "sns.set_context('talk')"
   ]
  },
  {
   "cell_type": "markdown",
   "metadata": {},
   "source": [
    "## Find families & players included in analysis"
   ]
  },
  {
   "cell_type": "markdown",
   "metadata": {},
   "source": [
    "Find start of new-style map logs:"
   ]
  },
  {
   "cell_type": "code",
   "execution_count": 2,
   "metadata": {},
   "outputs": [
    {
     "name": "stdout",
     "output_type": "stream",
     "text": [
      "First seed: 1573895673\n",
      "2019-11-16 09:14:33\n"
     ]
    }
   ],
   "source": [
    "seed_file = '../3_technology/outputs/seed_changes.txt'\n",
    "with open(seed_file, 'r') as seed_handle:\n",
    "    seeds = seed_handle.read().splitlines()\n",
    "\n",
    "seeds = [int(s) for s in seeds]\n",
    "start_t = seeds[0]\n",
    "\n",
    "print('First seed: %i' % start_t)\n",
    "print(datetime.datetime.fromtimestamp(start_t))"
   ]
  },
  {
   "cell_type": "markdown",
   "metadata": {},
   "source": [
    "Families included in analysis:"
   ]
  },
  {
   "cell_type": "code",
   "execution_count": 3,
   "metadata": {},
   "outputs": [
    {
     "name": "stdout",
     "output_type": "stream",
     "text": [
      "(4054, 11)\n"
     ]
    },
    {
     "data": {
      "text/html": [
       "<div>\n",
       "<style scoped>\n",
       "    .dataframe tbody tr th:only-of-type {\n",
       "        vertical-align: middle;\n",
       "    }\n",
       "\n",
       "    .dataframe tbody tr th {\n",
       "        vertical-align: top;\n",
       "    }\n",
       "\n",
       "    .dataframe thead th {\n",
       "        text-align: right;\n",
       "    }\n",
       "</style>\n",
       "<table border=\"1\" class=\"dataframe\">\n",
       "  <thead>\n",
       "    <tr style=\"text-align: right;\">\n",
       "      <th></th>\n",
       "      <th>family</th>\n",
       "      <th>sum</th>\n",
       "      <th>count</th>\n",
       "      <th>a</th>\n",
       "      <th>b</th>\n",
       "      <th>beta_mean</th>\n",
       "      <th>beta_var</th>\n",
       "      <th>snr</th>\n",
       "      <th>weighted_size</th>\n",
       "      <th>longest_path</th>\n",
       "      <th>fam_start</th>\n",
       "    </tr>\n",
       "  </thead>\n",
       "  <tbody>\n",
       "    <tr>\n",
       "      <th>92</th>\n",
       "      <td>time-1573895755_eve-2276905_name-ZABICKI</td>\n",
       "      <td>9</td>\n",
       "      <td>17</td>\n",
       "      <td>12</td>\n",
       "      <td>11</td>\n",
       "      <td>0.521739</td>\n",
       "      <td>0.010397</td>\n",
       "      <td>50.181818</td>\n",
       "      <td>8.869565</td>\n",
       "      <td>3</td>\n",
       "      <td>1573895755</td>\n",
       "    </tr>\n",
       "    <tr>\n",
       "      <th>93</th>\n",
       "      <td>time-1573895904_eve-2276911_name-ROHRER</td>\n",
       "      <td>1</td>\n",
       "      <td>3</td>\n",
       "      <td>4</td>\n",
       "      <td>5</td>\n",
       "      <td>0.444444</td>\n",
       "      <td>0.024691</td>\n",
       "      <td>18.000000</td>\n",
       "      <td>1.333333</td>\n",
       "      <td>2</td>\n",
       "      <td>1573895904</td>\n",
       "    </tr>\n",
       "    <tr>\n",
       "      <th>94</th>\n",
       "      <td>time-1573896101_eve-2276917_name-BADA</td>\n",
       "      <td>14</td>\n",
       "      <td>32</td>\n",
       "      <td>17</td>\n",
       "      <td>21</td>\n",
       "      <td>0.447368</td>\n",
       "      <td>0.006339</td>\n",
       "      <td>70.571429</td>\n",
       "      <td>14.315789</td>\n",
       "      <td>5</td>\n",
       "      <td>1573896101</td>\n",
       "    </tr>\n",
       "    <tr>\n",
       "      <th>95</th>\n",
       "      <td>time-1573896134_eve-2276919_name-SARINA</td>\n",
       "      <td>33</td>\n",
       "      <td>68</td>\n",
       "      <td>36</td>\n",
       "      <td>38</td>\n",
       "      <td>0.486486</td>\n",
       "      <td>0.003331</td>\n",
       "      <td>146.052632</td>\n",
       "      <td>33.081081</td>\n",
       "      <td>9</td>\n",
       "      <td>1573896134</td>\n",
       "    </tr>\n",
       "    <tr>\n",
       "      <th>96</th>\n",
       "      <td>time-1573896495_eve-2276927_name-LISSADE</td>\n",
       "      <td>311</td>\n",
       "      <td>454</td>\n",
       "      <td>314</td>\n",
       "      <td>146</td>\n",
       "      <td>0.682609</td>\n",
       "      <td>0.000470</td>\n",
       "      <td>1452.465753</td>\n",
       "      <td>309.904348</td>\n",
       "      <td>46</td>\n",
       "      <td>1573896495</td>\n",
       "    </tr>\n",
       "  </tbody>\n",
       "</table>\n",
       "</div>"
      ],
      "text/plain": [
       "                                      family  sum  count    a    b  beta_mean  \\\n",
       "92  time-1573895755_eve-2276905_name-ZABICKI    9     17   12   11   0.521739   \n",
       "93   time-1573895904_eve-2276911_name-ROHRER    1      3    4    5   0.444444   \n",
       "94     time-1573896101_eve-2276917_name-BADA   14     32   17   21   0.447368   \n",
       "95   time-1573896134_eve-2276919_name-SARINA   33     68   36   38   0.486486   \n",
       "96  time-1573896495_eve-2276927_name-LISSADE  311    454  314  146   0.682609   \n",
       "\n",
       "    beta_var          snr  weighted_size  longest_path   fam_start  \n",
       "92  0.010397    50.181818       8.869565             3  1573895755  \n",
       "93  0.024691    18.000000       1.333333             2  1573895904  \n",
       "94  0.006339    70.571429      14.315789             5  1573896101  \n",
       "95  0.003331   146.052632      33.081081             9  1573896134  \n",
       "96  0.000470  1452.465753     309.904348            46  1573896495  "
      ]
     },
     "execution_count": 3,
     "metadata": {},
     "output_type": "execute_result"
    }
   ],
   "source": [
    "success_df = pd.read_csv('../2_demographics/outputs/family_fitness.tsv', sep='\\t')\n",
    "success_df['fam_start'] = success_df['family'].str.extract('(?<=time-)([0-9]+)')\n",
    "success_df['fam_start'] = success_df['fam_start'].astype(np.int)\n",
    "success_df = success_df[success_df['fam_start'] >= start_t]\n",
    "\n",
    "included_families = success_df['family'].values\n",
    "\n",
    "print(success_df.shape)\n",
    "success_df.head()"
   ]
  },
  {
   "cell_type": "markdown",
   "metadata": {},
   "source": [
    "Load each player's family:"
   ]
  },
  {
   "cell_type": "code",
   "execution_count": 4,
   "metadata": {},
   "outputs": [
    {
     "name": "stderr",
     "output_type": "stream",
     "text": [
      "/users/nvelezalicea/.conda/envs/py3/lib/python3.6/site-packages/numpy/lib/arraysetops.py:580: FutureWarning: elementwise comparison failed; returning scalar instead, but in the future will perform elementwise comparison\n",
      "  mask |= (ar1 == a)\n"
     ]
    },
    {
     "data": {
      "text/html": [
       "<div>\n",
       "<style scoped>\n",
       "    .dataframe tbody tr th:only-of-type {\n",
       "        vertical-align: middle;\n",
       "    }\n",
       "\n",
       "    .dataframe tbody tr th {\n",
       "        vertical-align: top;\n",
       "    }\n",
       "\n",
       "    .dataframe thead th {\n",
       "        text-align: right;\n",
       "    }\n",
       "</style>\n",
       "<table border=\"1\" class=\"dataframe\">\n",
       "  <thead>\n",
       "    <tr style=\"text-align: right;\">\n",
       "      <th></th>\n",
       "      <th>avatar</th>\n",
       "      <th>family</th>\n",
       "    </tr>\n",
       "  </thead>\n",
       "  <tbody>\n",
       "    <tr>\n",
       "      <th>0</th>\n",
       "      <td>3308592</td>\n",
       "      <td>time-1599460982_eve-3308568_name-SOL</td>\n",
       "    </tr>\n",
       "    <tr>\n",
       "      <th>1</th>\n",
       "      <td>3308568</td>\n",
       "      <td>time-1599460982_eve-3308568_name-SOL</td>\n",
       "    </tr>\n",
       "    <tr>\n",
       "      <th>2</th>\n",
       "      <td>3308504</td>\n",
       "      <td>time-1599458188_eve-3308504_name-SOL</td>\n",
       "    </tr>\n",
       "    <tr>\n",
       "      <th>3</th>\n",
       "      <td>3308439</td>\n",
       "      <td>time-1599456178_eve-3308427_name-MORALES</td>\n",
       "    </tr>\n",
       "    <tr>\n",
       "      <th>4</th>\n",
       "      <td>3308507</td>\n",
       "      <td>time-1599456178_eve-3308427_name-MORALES</td>\n",
       "    </tr>\n",
       "  </tbody>\n",
       "</table>\n",
       "</div>"
      ],
      "text/plain": [
       "    avatar                                    family\n",
       "0  3308592      time-1599460982_eve-3308568_name-SOL\n",
       "1  3308568      time-1599460982_eve-3308568_name-SOL\n",
       "2  3308504      time-1599458188_eve-3308504_name-SOL\n",
       "3  3308439  time-1599456178_eve-3308427_name-MORALES\n",
       "4  3308507  time-1599456178_eve-3308427_name-MORALES"
      ]
     },
     "execution_count": 4,
     "metadata": {},
     "output_type": "execute_result"
    }
   ],
   "source": [
    "family_df = pd.read_csv('../2_demographics/outputs/family_playerID.tsv', sep='\\t', index_col=0)\n",
    "family_df.head()"
   ]
  },
  {
   "cell_type": "markdown",
   "metadata": {},
   "source": [
    "Prepare lifelogs:"
   ]
  },
  {
   "cell_type": "code",
   "execution_count": 5,
   "metadata": {},
   "outputs": [
    {
     "name": "stderr",
     "output_type": "stream",
     "text": [
      "/users/nvelezalicea/.conda/envs/py3/lib/python3.6/site-packages/numpy/lib/arraysetops.py:580: FutureWarning: elementwise comparison failed; returning scalar instead, but in the future will perform elementwise comparison\n",
      "  mask |= (ar1 == a)\n"
     ]
    },
    {
     "name": "stdout",
     "output_type": "stream",
     "text": [
      "(419656, 8)\n"
     ]
    },
    {
     "data": {
      "text/html": [
       "<div>\n",
       "<style scoped>\n",
       "    .dataframe tbody tr th:only-of-type {\n",
       "        vertical-align: middle;\n",
       "    }\n",
       "\n",
       "    .dataframe tbody tr th {\n",
       "        vertical-align: top;\n",
       "    }\n",
       "\n",
       "    .dataframe thead th {\n",
       "        text-align: right;\n",
       "    }\n",
       "</style>\n",
       "<table border=\"1\" class=\"dataframe\">\n",
       "  <thead>\n",
       "    <tr style=\"text-align: right;\">\n",
       "      <th></th>\n",
       "      <th>player</th>\n",
       "      <th>avatar</th>\n",
       "      <th>parent</th>\n",
       "      <th>family</th>\n",
       "      <th>tBirth</th>\n",
       "      <th>tDeath</th>\n",
       "      <th>age</th>\n",
       "      <th>cause_of_death</th>\n",
       "    </tr>\n",
       "  </thead>\n",
       "  <tbody>\n",
       "    <tr>\n",
       "      <th>0</th>\n",
       "      <td>310d12780dbb316a3b50f83adbf9ce76973172bb</td>\n",
       "      <td>3308597</td>\n",
       "      <td>3308571</td>\n",
       "      <td>time-1599447278_eve-3308179_name-MATSU</td>\n",
       "      <td>1599462620</td>\n",
       "      <td>1.599464e+09</td>\n",
       "      <td>28.89</td>\n",
       "      <td>hunger</td>\n",
       "    </tr>\n",
       "    <tr>\n",
       "      <th>1</th>\n",
       "      <td>de586e48a15f97f09e71355fcc82cea88d29633a</td>\n",
       "      <td>3308595</td>\n",
       "      <td>3308576</td>\n",
       "      <td>time-1599411200_eve-3307135_name-SUN</td>\n",
       "      <td>1599462571</td>\n",
       "      <td>1.599465e+09</td>\n",
       "      <td>36.92</td>\n",
       "      <td>hunger</td>\n",
       "    </tr>\n",
       "    <tr>\n",
       "      <th>2</th>\n",
       "      <td>3da17539b16d6fe6911aefc57388bae9d1303e22</td>\n",
       "      <td>3308591</td>\n",
       "      <td>3308571</td>\n",
       "      <td>time-1599447278_eve-3308179_name-MATSU</td>\n",
       "      <td>1599462365</td>\n",
       "      <td>1.599465e+09</td>\n",
       "      <td>45.82</td>\n",
       "      <td>hunger</td>\n",
       "    </tr>\n",
       "    <tr>\n",
       "      <th>3</th>\n",
       "      <td>043719a2996d748e294d308706447d2e6ce30181</td>\n",
       "      <td>3308583</td>\n",
       "      <td>3308537</td>\n",
       "      <td>time-1599454213_eve-3308371_name-LUNA</td>\n",
       "      <td>1599462113</td>\n",
       "      <td>1.599463e+09</td>\n",
       "      <td>20.11</td>\n",
       "      <td>hunger</td>\n",
       "    </tr>\n",
       "    <tr>\n",
       "      <th>4</th>\n",
       "      <td>49bd234c63fac4073c98cc23dab916528f87e634</td>\n",
       "      <td>3308581</td>\n",
       "      <td>3308545</td>\n",
       "      <td>time-1599447278_eve-3308179_name-MATSU</td>\n",
       "      <td>1599461853</td>\n",
       "      <td>1.599465e+09</td>\n",
       "      <td>45.37</td>\n",
       "      <td>hunger</td>\n",
       "    </tr>\n",
       "  </tbody>\n",
       "</table>\n",
       "</div>"
      ],
      "text/plain": [
       "                                     player   avatar   parent  \\\n",
       "0  310d12780dbb316a3b50f83adbf9ce76973172bb  3308597  3308571   \n",
       "1  de586e48a15f97f09e71355fcc82cea88d29633a  3308595  3308576   \n",
       "2  3da17539b16d6fe6911aefc57388bae9d1303e22  3308591  3308571   \n",
       "3  043719a2996d748e294d308706447d2e6ce30181  3308583  3308537   \n",
       "4  49bd234c63fac4073c98cc23dab916528f87e634  3308581  3308545   \n",
       "\n",
       "                                   family      tBirth        tDeath    age  \\\n",
       "0  time-1599447278_eve-3308179_name-MATSU  1599462620  1.599464e+09  28.89   \n",
       "1    time-1599411200_eve-3307135_name-SUN  1599462571  1.599465e+09  36.92   \n",
       "2  time-1599447278_eve-3308179_name-MATSU  1599462365  1.599465e+09  45.82   \n",
       "3   time-1599454213_eve-3308371_name-LUNA  1599462113  1.599463e+09  20.11   \n",
       "4  time-1599447278_eve-3308179_name-MATSU  1599461853  1.599465e+09  45.37   \n",
       "\n",
       "  cause_of_death  \n",
       "0         hunger  \n",
       "1         hunger  \n",
       "2         hunger  \n",
       "3         hunger  \n",
       "4         hunger  "
      ]
     },
     "execution_count": 5,
     "metadata": {},
     "output_type": "execute_result"
    }
   ],
   "source": [
    "# Add family to lifelogs\n",
    "all_life = pd.read_csv('../2_demographics/outputs/all_lifelogs_compact.tsv', sep='\\t', index_col=0)\n",
    "life_df = pd.merge(all_life, family_df, on='avatar')\n",
    "\n",
    "# Include only avatars that:\n",
    "# - belong to families within the time period studied\n",
    "# - had died by the time data were accessed \n",
    "# - did not disconnect as infants (age > 2)\n",
    "life_df = life_df[life_df['family'].isin(included_families)]\n",
    "life_df = life_df[life_df['age'] > 2]\n",
    "life_df = life_df.dropna(subset=['age'])\n",
    "\n",
    "# Clean up\n",
    "life_df = life_df.reset_index(drop=True)\n",
    "life_df = life_df[['player', 'avatar', 'parent', 'family', 'tBirth', 'tDeath', 'age', 'cause_of_death']]\n",
    "print(life_df.shape)\n",
    "life_df.head()"
   ]
  },
  {
   "cell_type": "code",
   "execution_count": 6,
   "metadata": {},
   "outputs": [
    {
     "name": "stdout",
     "output_type": "stream",
     "text": [
      "N =\t23915 players\n",
      "\t4054 families\n",
      "\t419656 avatars\n"
     ]
    }
   ],
   "source": [
    "n_players = len(np.unique(life_df['player']))\n",
    "n_families = len(np.unique(life_df['family']))\n",
    "n_avatars = len(np.unique(life_df['avatar']))\n",
    "\n",
    "print('N =\\t%i players\\n\\t%i families\\n\\t%i avatars' % (n_players, n_families, n_avatars))"
   ]
  },
  {
   "cell_type": "markdown",
   "metadata": {},
   "source": [
    "## Player & parent expertise"
   ]
  },
  {
   "cell_type": "code",
   "execution_count": 7,
   "metadata": {},
   "outputs": [
    {
     "data": {
      "text/html": [
       "<div>\n",
       "<style scoped>\n",
       "    .dataframe tbody tr th:only-of-type {\n",
       "        vertical-align: middle;\n",
       "    }\n",
       "\n",
       "    .dataframe tbody tr th {\n",
       "        vertical-align: top;\n",
       "    }\n",
       "\n",
       "    .dataframe thead th {\n",
       "        text-align: right;\n",
       "    }\n",
       "</style>\n",
       "<table border=\"1\" class=\"dataframe\">\n",
       "  <thead>\n",
       "    <tr style=\"text-align: right;\">\n",
       "      <th></th>\n",
       "      <th>player</th>\n",
       "      <th>avatar</th>\n",
       "      <th>tBirth</th>\n",
       "      <th>age</th>\n",
       "      <th>n_life</th>\n",
       "      <th>gametime</th>\n",
       "    </tr>\n",
       "  </thead>\n",
       "  <tbody>\n",
       "    <tr>\n",
       "      <th>0</th>\n",
       "      <td>00006debdd4d630a4a5aa395135a70a69e0db01e</td>\n",
       "      <td>630641</td>\n",
       "      <td>1552916631</td>\n",
       "      <td>13.88</td>\n",
       "      <td>0</td>\n",
       "      <td>0.00</td>\n",
       "    </tr>\n",
       "    <tr>\n",
       "      <th>1</th>\n",
       "      <td>00006debdd4d630a4a5aa395135a70a69e0db01e</td>\n",
       "      <td>630737</td>\n",
       "      <td>1552917470</td>\n",
       "      <td>4.98</td>\n",
       "      <td>1</td>\n",
       "      <td>13.88</td>\n",
       "    </tr>\n",
       "    <tr>\n",
       "      <th>2</th>\n",
       "      <td>00006debdd4d630a4a5aa395135a70a69e0db01e</td>\n",
       "      <td>630799</td>\n",
       "      <td>1552917791</td>\n",
       "      <td>4.68</td>\n",
       "      <td>2</td>\n",
       "      <td>18.86</td>\n",
       "    </tr>\n",
       "    <tr>\n",
       "      <th>3</th>\n",
       "      <td>0001394319e5e63bb74219fef647e9ff24507a21</td>\n",
       "      <td>214206</td>\n",
       "      <td>1550132363</td>\n",
       "      <td>33.78</td>\n",
       "      <td>0</td>\n",
       "      <td>0.00</td>\n",
       "    </tr>\n",
       "    <tr>\n",
       "      <th>4</th>\n",
       "      <td>0001394319e5e63bb74219fef647e9ff24507a21</td>\n",
       "      <td>214530</td>\n",
       "      <td>1550134720</td>\n",
       "      <td>7.25</td>\n",
       "      <td>1</td>\n",
       "      <td>33.78</td>\n",
       "    </tr>\n",
       "  </tbody>\n",
       "</table>\n",
       "</div>"
      ],
      "text/plain": [
       "                                     player  avatar      tBirth    age  \\\n",
       "0  00006debdd4d630a4a5aa395135a70a69e0db01e  630641  1552916631  13.88   \n",
       "1  00006debdd4d630a4a5aa395135a70a69e0db01e  630737  1552917470   4.98   \n",
       "2  00006debdd4d630a4a5aa395135a70a69e0db01e  630799  1552917791   4.68   \n",
       "3  0001394319e5e63bb74219fef647e9ff24507a21  214206  1550132363  33.78   \n",
       "4  0001394319e5e63bb74219fef647e9ff24507a21  214530  1550134720   7.25   \n",
       "\n",
       "   n_life  gametime  \n",
       "0       0      0.00  \n",
       "1       1     13.88  \n",
       "2       2     18.86  \n",
       "3       0      0.00  \n",
       "4       1     33.78  "
      ]
     },
     "execution_count": 7,
     "metadata": {},
     "output_type": "execute_result"
    }
   ],
   "source": [
    "#expertise_df = pd.read_csv('../2_demographics/outputs/player_expertise.tsv', sep='\\t')\n",
    "expert_df = all_life.copy()\n",
    "expert_df = expert_df[['player', 'avatar', 'tBirth', 'age']]\n",
    "expert_df = expert_df.sort_values(['player', 'tBirth']).reset_index(drop=True)\n",
    "expert_df['n_life'] = expert_df.groupby('player').cumcount()\n",
    "expert_df['gametime'] = expert_df.groupby('player')['age'].cumsum()\n",
    "expert_df['gametime'] = expert_df.groupby('player')['gametime'].shift(periods=1, fill_value=0)\n",
    "expert_df.head()"
   ]
  },
  {
   "cell_type": "markdown",
   "metadata": {},
   "source": [
    "Load expertise:"
   ]
  },
  {
   "cell_type": "code",
   "execution_count": 8,
   "metadata": {},
   "outputs": [
    {
     "data": {
      "text/html": [
       "<div>\n",
       "<style scoped>\n",
       "    .dataframe tbody tr th:only-of-type {\n",
       "        vertical-align: middle;\n",
       "    }\n",
       "\n",
       "    .dataframe tbody tr th {\n",
       "        vertical-align: top;\n",
       "    }\n",
       "\n",
       "    .dataframe thead th {\n",
       "        text-align: right;\n",
       "    }\n",
       "</style>\n",
       "<table border=\"1\" class=\"dataframe\">\n",
       "  <thead>\n",
       "    <tr style=\"text-align: right;\">\n",
       "      <th></th>\n",
       "      <th>avatar</th>\n",
       "      <th>n_life</th>\n",
       "      <th>gametime</th>\n",
       "    </tr>\n",
       "  </thead>\n",
       "  <tbody>\n",
       "    <tr>\n",
       "      <th>0</th>\n",
       "      <td>630641</td>\n",
       "      <td>0</td>\n",
       "      <td>0.00</td>\n",
       "    </tr>\n",
       "    <tr>\n",
       "      <th>1</th>\n",
       "      <td>630737</td>\n",
       "      <td>1</td>\n",
       "      <td>13.88</td>\n",
       "    </tr>\n",
       "    <tr>\n",
       "      <th>2</th>\n",
       "      <td>630799</td>\n",
       "      <td>2</td>\n",
       "      <td>18.86</td>\n",
       "    </tr>\n",
       "    <tr>\n",
       "      <th>3</th>\n",
       "      <td>214206</td>\n",
       "      <td>0</td>\n",
       "      <td>0.00</td>\n",
       "    </tr>\n",
       "    <tr>\n",
       "      <th>4</th>\n",
       "      <td>214530</td>\n",
       "      <td>1</td>\n",
       "      <td>33.78</td>\n",
       "    </tr>\n",
       "  </tbody>\n",
       "</table>\n",
       "</div>"
      ],
      "text/plain": [
       "   avatar  n_life  gametime\n",
       "0  630641       0      0.00\n",
       "1  630737       1     13.88\n",
       "2  630799       2     18.86\n",
       "3  214206       0      0.00\n",
       "4  214530       1     33.78"
      ]
     },
     "execution_count": 8,
     "metadata": {},
     "output_type": "execute_result"
    }
   ],
   "source": [
    "child_expertise = expert_df.copy()\n",
    "child_expertise = child_expertise[['avatar', 'n_life', 'gametime']]\n",
    "child_expertise.head()"
   ]
  },
  {
   "cell_type": "markdown",
   "metadata": {},
   "source": [
    "Make a copy (to look up parent expertise):"
   ]
  },
  {
   "cell_type": "code",
   "execution_count": 9,
   "metadata": {},
   "outputs": [
    {
     "data": {
      "text/html": [
       "<div>\n",
       "<style scoped>\n",
       "    .dataframe tbody tr th:only-of-type {\n",
       "        vertical-align: middle;\n",
       "    }\n",
       "\n",
       "    .dataframe tbody tr th {\n",
       "        vertical-align: top;\n",
       "    }\n",
       "\n",
       "    .dataframe thead th {\n",
       "        text-align: right;\n",
       "    }\n",
       "</style>\n",
       "<table border=\"1\" class=\"dataframe\">\n",
       "  <thead>\n",
       "    <tr style=\"text-align: right;\">\n",
       "      <th></th>\n",
       "      <th>parent</th>\n",
       "      <th>parent_life</th>\n",
       "      <th>parent_gametime</th>\n",
       "    </tr>\n",
       "  </thead>\n",
       "  <tbody>\n",
       "    <tr>\n",
       "      <th>0</th>\n",
       "      <td>630641</td>\n",
       "      <td>0</td>\n",
       "      <td>0.00</td>\n",
       "    </tr>\n",
       "    <tr>\n",
       "      <th>1</th>\n",
       "      <td>630737</td>\n",
       "      <td>1</td>\n",
       "      <td>13.88</td>\n",
       "    </tr>\n",
       "    <tr>\n",
       "      <th>2</th>\n",
       "      <td>630799</td>\n",
       "      <td>2</td>\n",
       "      <td>18.86</td>\n",
       "    </tr>\n",
       "    <tr>\n",
       "      <th>3</th>\n",
       "      <td>214206</td>\n",
       "      <td>0</td>\n",
       "      <td>0.00</td>\n",
       "    </tr>\n",
       "    <tr>\n",
       "      <th>4</th>\n",
       "      <td>214530</td>\n",
       "      <td>1</td>\n",
       "      <td>33.78</td>\n",
       "    </tr>\n",
       "  </tbody>\n",
       "</table>\n",
       "</div>"
      ],
      "text/plain": [
       "   parent  parent_life  parent_gametime\n",
       "0  630641            0             0.00\n",
       "1  630737            1            13.88\n",
       "2  630799            2            18.86\n",
       "3  214206            0             0.00\n",
       "4  214530            1            33.78"
      ]
     },
     "execution_count": 9,
     "metadata": {},
     "output_type": "execute_result"
    }
   ],
   "source": [
    "parent_expertise = child_expertise.copy()\n",
    "parent_expertise = parent_expertise.rename(columns={'avatar': 'parent', 'n_life': 'parent_life', 'gametime': 'parent_gametime'})\n",
    "parent_expertise.head()"
   ]
  },
  {
   "cell_type": "markdown",
   "metadata": {},
   "source": [
    "Merge with lifelogs:"
   ]
  },
  {
   "cell_type": "code",
   "execution_count": 10,
   "metadata": {},
   "outputs": [
    {
     "data": {
      "text/html": [
       "<div>\n",
       "<style scoped>\n",
       "    .dataframe tbody tr th:only-of-type {\n",
       "        vertical-align: middle;\n",
       "    }\n",
       "\n",
       "    .dataframe tbody tr th {\n",
       "        vertical-align: top;\n",
       "    }\n",
       "\n",
       "    .dataframe thead th {\n",
       "        text-align: right;\n",
       "    }\n",
       "</style>\n",
       "<table border=\"1\" class=\"dataframe\">\n",
       "  <thead>\n",
       "    <tr style=\"text-align: right;\">\n",
       "      <th></th>\n",
       "      <th>player</th>\n",
       "      <th>avatar</th>\n",
       "      <th>parent</th>\n",
       "      <th>family</th>\n",
       "      <th>tBirth</th>\n",
       "      <th>tDeath</th>\n",
       "      <th>age</th>\n",
       "      <th>cause_of_death</th>\n",
       "      <th>n_life</th>\n",
       "      <th>gametime</th>\n",
       "      <th>parent_life</th>\n",
       "      <th>parent_gametime</th>\n",
       "    </tr>\n",
       "  </thead>\n",
       "  <tbody>\n",
       "    <tr>\n",
       "      <th>0</th>\n",
       "      <td>310d12780dbb316a3b50f83adbf9ce76973172bb</td>\n",
       "      <td>3308597</td>\n",
       "      <td>3308571</td>\n",
       "      <td>time-1599447278_eve-3308179_name-MATSU</td>\n",
       "      <td>1599462620</td>\n",
       "      <td>1.599464e+09</td>\n",
       "      <td>28.89</td>\n",
       "      <td>hunger</td>\n",
       "      <td>0</td>\n",
       "      <td>0.00</td>\n",
       "      <td>64.0</td>\n",
       "      <td>3179.97</td>\n",
       "    </tr>\n",
       "    <tr>\n",
       "      <th>1</th>\n",
       "      <td>de586e48a15f97f09e71355fcc82cea88d29633a</td>\n",
       "      <td>3308595</td>\n",
       "      <td>3308576</td>\n",
       "      <td>time-1599411200_eve-3307135_name-SUN</td>\n",
       "      <td>1599462571</td>\n",
       "      <td>1.599465e+09</td>\n",
       "      <td>36.92</td>\n",
       "      <td>hunger</td>\n",
       "      <td>34</td>\n",
       "      <td>887.18</td>\n",
       "      <td>980.0</td>\n",
       "      <td>43618.02</td>\n",
       "    </tr>\n",
       "    <tr>\n",
       "      <th>2</th>\n",
       "      <td>3da17539b16d6fe6911aefc57388bae9d1303e22</td>\n",
       "      <td>3308591</td>\n",
       "      <td>3308571</td>\n",
       "      <td>time-1599447278_eve-3308179_name-MATSU</td>\n",
       "      <td>1599462365</td>\n",
       "      <td>1.599465e+09</td>\n",
       "      <td>45.82</td>\n",
       "      <td>hunger</td>\n",
       "      <td>245</td>\n",
       "      <td>8579.85</td>\n",
       "      <td>64.0</td>\n",
       "      <td>3179.97</td>\n",
       "    </tr>\n",
       "    <tr>\n",
       "      <th>3</th>\n",
       "      <td>043719a2996d748e294d308706447d2e6ce30181</td>\n",
       "      <td>3308583</td>\n",
       "      <td>3308537</td>\n",
       "      <td>time-1599454213_eve-3308371_name-LUNA</td>\n",
       "      <td>1599462113</td>\n",
       "      <td>1.599463e+09</td>\n",
       "      <td>20.11</td>\n",
       "      <td>hunger</td>\n",
       "      <td>0</td>\n",
       "      <td>0.00</td>\n",
       "      <td>66.0</td>\n",
       "      <td>1898.64</td>\n",
       "    </tr>\n",
       "    <tr>\n",
       "      <th>4</th>\n",
       "      <td>49bd234c63fac4073c98cc23dab916528f87e634</td>\n",
       "      <td>3308581</td>\n",
       "      <td>3308545</td>\n",
       "      <td>time-1599447278_eve-3308179_name-MATSU</td>\n",
       "      <td>1599461853</td>\n",
       "      <td>1.599465e+09</td>\n",
       "      <td>45.37</td>\n",
       "      <td>hunger</td>\n",
       "      <td>930</td>\n",
       "      <td>36784.80</td>\n",
       "      <td>143.0</td>\n",
       "      <td>7574.32</td>\n",
       "    </tr>\n",
       "  </tbody>\n",
       "</table>\n",
       "</div>"
      ],
      "text/plain": [
       "                                     player   avatar   parent  \\\n",
       "0  310d12780dbb316a3b50f83adbf9ce76973172bb  3308597  3308571   \n",
       "1  de586e48a15f97f09e71355fcc82cea88d29633a  3308595  3308576   \n",
       "2  3da17539b16d6fe6911aefc57388bae9d1303e22  3308591  3308571   \n",
       "3  043719a2996d748e294d308706447d2e6ce30181  3308583  3308537   \n",
       "4  49bd234c63fac4073c98cc23dab916528f87e634  3308581  3308545   \n",
       "\n",
       "                                   family      tBirth        tDeath    age  \\\n",
       "0  time-1599447278_eve-3308179_name-MATSU  1599462620  1.599464e+09  28.89   \n",
       "1    time-1599411200_eve-3307135_name-SUN  1599462571  1.599465e+09  36.92   \n",
       "2  time-1599447278_eve-3308179_name-MATSU  1599462365  1.599465e+09  45.82   \n",
       "3   time-1599454213_eve-3308371_name-LUNA  1599462113  1.599463e+09  20.11   \n",
       "4  time-1599447278_eve-3308179_name-MATSU  1599461853  1.599465e+09  45.37   \n",
       "\n",
       "  cause_of_death  n_life  gametime  parent_life  parent_gametime  \n",
       "0         hunger       0      0.00         64.0          3179.97  \n",
       "1         hunger      34    887.18        980.0         43618.02  \n",
       "2         hunger     245   8579.85         64.0          3179.97  \n",
       "3         hunger       0      0.00         66.0          1898.64  \n",
       "4         hunger     930  36784.80        143.0          7574.32  "
      ]
     },
     "execution_count": 10,
     "metadata": {},
     "output_type": "execute_result"
    }
   ],
   "source": [
    "life_expertise = pd.merge(life_df, child_expertise, on='avatar', how='left')\n",
    "life_expertise = pd.merge(life_expertise, parent_expertise, on='parent', how='left')\n",
    "life_expertise.head()"
   ]
  },
  {
   "cell_type": "markdown",
   "metadata": {},
   "source": [
    "Note: Some avatars are missing expertise info. This may be due to an error in logging or in downloading. These are a tiny, tiny fraction of the whole, so we will just drop them for now."
   ]
  },
  {
   "cell_type": "code",
   "execution_count": 11,
   "metadata": {},
   "outputs": [
    {
     "name": "stdout",
     "output_type": "stream",
     "text": [
      "96 missing gametime data\n",
      "0 non-Eves missing parent gametime\n",
      "Dropping 96 entries for now\n",
      "(419560, 12)\n"
     ]
    }
   ],
   "source": [
    "missing_gametime = ~np.isfinite(life_expertise['gametime'])\n",
    "missing_parent = (life_expertise['parent_gametime'] > 0) & (~np.isfinite(life_expertise['parent_gametime']))\n",
    "\n",
    "print('%i missing gametime data' % np.sum(missing_gametime))\n",
    "print('%i non-Eves missing parent gametime' % np.sum(missing_parent))\n",
    "print('Dropping %i entries for now' % np.sum(missing_gametime | missing_parent))\n",
    "\n",
    "life_expertise = life_expertise[~missing_gametime & ~missing_parent]\n",
    "print(life_expertise.shape)"
   ]
  },
  {
   "cell_type": "markdown",
   "metadata": {},
   "source": [
    "## Cumulative viability"
   ]
  },
  {
   "cell_type": "code",
   "execution_count": 12,
   "metadata": {},
   "outputs": [
    {
     "data": {
      "text/html": [
       "<div>\n",
       "<style scoped>\n",
       "    .dataframe tbody tr th:only-of-type {\n",
       "        vertical-align: middle;\n",
       "    }\n",
       "\n",
       "    .dataframe tbody tr th {\n",
       "        vertical-align: top;\n",
       "    }\n",
       "\n",
       "    .dataframe thead th {\n",
       "        text-align: right;\n",
       "    }\n",
       "</style>\n",
       "<table border=\"1\" class=\"dataframe\">\n",
       "  <thead>\n",
       "    <tr style=\"text-align: right;\">\n",
       "      <th></th>\n",
       "      <th>player</th>\n",
       "      <th>avatar</th>\n",
       "      <th>parent</th>\n",
       "      <th>family</th>\n",
       "      <th>tBirth</th>\n",
       "      <th>tDeath</th>\n",
       "      <th>age</th>\n",
       "      <th>cause_of_death</th>\n",
       "      <th>n_life</th>\n",
       "      <th>gametime</th>\n",
       "      <th>parent_life</th>\n",
       "      <th>parent_gametime</th>\n",
       "      <th>adult</th>\n",
       "      <th>adult_count</th>\n",
       "      <th>adult_sum</th>\n",
       "    </tr>\n",
       "  </thead>\n",
       "  <tbody>\n",
       "    <tr>\n",
       "      <th>0</th>\n",
       "      <td>6290670c4fe41726873b54d070b869fdcc9e06e7</td>\n",
       "      <td>2276905</td>\n",
       "      <td>-1</td>\n",
       "      <td>time-1573895755_eve-2276905_name-ZABICKI</td>\n",
       "      <td>1573895755</td>\n",
       "      <td>1.573899e+09</td>\n",
       "      <td>60.00</td>\n",
       "      <td>oldAge</td>\n",
       "      <td>201</td>\n",
       "      <td>9736.39</td>\n",
       "      <td>NaN</td>\n",
       "      <td>NaN</td>\n",
       "      <td>1</td>\n",
       "      <td>0</td>\n",
       "      <td>0</td>\n",
       "    </tr>\n",
       "    <tr>\n",
       "      <th>1</th>\n",
       "      <td>d74e306b2dc466835e85acf5b53a4391e2346857</td>\n",
       "      <td>2276906</td>\n",
       "      <td>2276905</td>\n",
       "      <td>time-1573895755_eve-2276905_name-ZABICKI</td>\n",
       "      <td>1573895772</td>\n",
       "      <td>1.573896e+09</td>\n",
       "      <td>10.05</td>\n",
       "      <td>hunger</td>\n",
       "      <td>229</td>\n",
       "      <td>7267.02</td>\n",
       "      <td>201.0</td>\n",
       "      <td>9736.39</td>\n",
       "      <td>0</td>\n",
       "      <td>1</td>\n",
       "      <td>1</td>\n",
       "    </tr>\n",
       "    <tr>\n",
       "      <th>2</th>\n",
       "      <td>b0527ef2371111cb11369f4a5fe021c1bdb06ed9</td>\n",
       "      <td>2276909</td>\n",
       "      <td>2276905</td>\n",
       "      <td>time-1573895755_eve-2276905_name-ZABICKI</td>\n",
       "      <td>1573895873</td>\n",
       "      <td>1.573899e+09</td>\n",
       "      <td>45.99</td>\n",
       "      <td>murdered</td>\n",
       "      <td>416</td>\n",
       "      <td>15933.89</td>\n",
       "      <td>201.0</td>\n",
       "      <td>9736.39</td>\n",
       "      <td>1</td>\n",
       "      <td>2</td>\n",
       "      <td>1</td>\n",
       "    </tr>\n",
       "    <tr>\n",
       "      <th>3</th>\n",
       "      <td>e417361f8e2770a2a5647353af05f6e621be69c0</td>\n",
       "      <td>2276914</td>\n",
       "      <td>2276905</td>\n",
       "      <td>time-1573895755_eve-2276905_name-ZABICKI</td>\n",
       "      <td>1573895976</td>\n",
       "      <td>1.573898e+09</td>\n",
       "      <td>41.77</td>\n",
       "      <td>murdered</td>\n",
       "      <td>25</td>\n",
       "      <td>678.56</td>\n",
       "      <td>201.0</td>\n",
       "      <td>9736.39</td>\n",
       "      <td>1</td>\n",
       "      <td>3</td>\n",
       "      <td>2</td>\n",
       "    </tr>\n",
       "    <tr>\n",
       "      <th>4</th>\n",
       "      <td>0c7bc0236deae0bb888f63c4f4d94f4ab7cefad1</td>\n",
       "      <td>2276922</td>\n",
       "      <td>2276905</td>\n",
       "      <td>time-1573895755_eve-2276905_name-ZABICKI</td>\n",
       "      <td>1573896361</td>\n",
       "      <td>1.573897e+09</td>\n",
       "      <td>9.73</td>\n",
       "      <td>hunger</td>\n",
       "      <td>45</td>\n",
       "      <td>1931.45</td>\n",
       "      <td>201.0</td>\n",
       "      <td>9736.39</td>\n",
       "      <td>0</td>\n",
       "      <td>4</td>\n",
       "      <td>3</td>\n",
       "    </tr>\n",
       "  </tbody>\n",
       "</table>\n",
       "</div>"
      ],
      "text/plain": [
       "                                     player   avatar   parent  \\\n",
       "0  6290670c4fe41726873b54d070b869fdcc9e06e7  2276905       -1   \n",
       "1  d74e306b2dc466835e85acf5b53a4391e2346857  2276906  2276905   \n",
       "2  b0527ef2371111cb11369f4a5fe021c1bdb06ed9  2276909  2276905   \n",
       "3  e417361f8e2770a2a5647353af05f6e621be69c0  2276914  2276905   \n",
       "4  0c7bc0236deae0bb888f63c4f4d94f4ab7cefad1  2276922  2276905   \n",
       "\n",
       "                                     family      tBirth        tDeath    age  \\\n",
       "0  time-1573895755_eve-2276905_name-ZABICKI  1573895755  1.573899e+09  60.00   \n",
       "1  time-1573895755_eve-2276905_name-ZABICKI  1573895772  1.573896e+09  10.05   \n",
       "2  time-1573895755_eve-2276905_name-ZABICKI  1573895873  1.573899e+09  45.99   \n",
       "3  time-1573895755_eve-2276905_name-ZABICKI  1573895976  1.573898e+09  41.77   \n",
       "4  time-1573895755_eve-2276905_name-ZABICKI  1573896361  1.573897e+09   9.73   \n",
       "\n",
       "  cause_of_death  n_life  gametime  parent_life  parent_gametime  adult  \\\n",
       "0         oldAge     201   9736.39          NaN              NaN      1   \n",
       "1         hunger     229   7267.02        201.0          9736.39      0   \n",
       "2       murdered     416  15933.89        201.0          9736.39      1   \n",
       "3       murdered      25    678.56        201.0          9736.39      1   \n",
       "4         hunger      45   1931.45        201.0          9736.39      0   \n",
       "\n",
       "   adult_count  adult_sum  \n",
       "0            0          0  \n",
       "1            1          1  \n",
       "2            2          1  \n",
       "3            3          2  \n",
       "4            4          3  "
      ]
     },
     "execution_count": 12,
     "metadata": {},
     "output_type": "execute_result"
    }
   ],
   "source": [
    "life_viability = life_expertise.copy()\n",
    "life_viability = life_viability.sort_values(by=['family', 'tBirth'])\n",
    "life_viability = life_viability.reset_index(drop=True)\n",
    "\n",
    "life_viability['adult'] = (life_viability['age'] >= 14.0)*1\n",
    "life_viability['adult_count'] = life_viability.groupby('family')['adult'].cumcount()\n",
    "life_viability['adult_sum'] = life_viability.groupby('family')['adult'].cumsum()\n",
    "life_viability['adult_sum'] = np.where(life_viability['adult'] == 1, \n",
    "                                       life_viability['adult_sum']-1,\n",
    "                                       life_viability['adult_sum'])\n",
    "life_viability.head()"
   ]
  },
  {
   "cell_type": "markdown",
   "metadata": {},
   "source": [
    "## Pick a subsample of families"
   ]
  },
  {
   "cell_type": "code",
   "execution_count": 51,
   "metadata": {},
   "outputs": [
    {
     "data": {
      "text/plain": [
       "array([   3.,   18.,  127., 2786.])"
      ]
     },
     "execution_count": 51,
     "metadata": {},
     "output_type": "execute_result"
    }
   ],
   "source": [
    "10**q_x"
   ]
  },
  {
   "cell_type": "code",
   "execution_count": 53,
   "metadata": {},
   "outputs": [
    {
     "data": {
      "text/html": [
       "<div>\n",
       "<style scoped>\n",
       "    .dataframe tbody tr th:only-of-type {\n",
       "        vertical-align: middle;\n",
       "    }\n",
       "\n",
       "    .dataframe tbody tr th {\n",
       "        vertical-align: top;\n",
       "    }\n",
       "\n",
       "    .dataframe thead th {\n",
       "        text-align: right;\n",
       "    }\n",
       "</style>\n",
       "<table border=\"1\" class=\"dataframe\">\n",
       "  <thead>\n",
       "    <tr style=\"text-align: right;\">\n",
       "      <th></th>\n",
       "      <th>family</th>\n",
       "      <th>size</th>\n",
       "      <th>log_size</th>\n",
       "      <th>size_q</th>\n",
       "      <th>q_label</th>\n",
       "    </tr>\n",
       "  </thead>\n",
       "  <tbody>\n",
       "    <tr>\n",
       "      <th>0</th>\n",
       "      <td>time-1573895755_eve-2276905_name-ZABICKI</td>\n",
       "      <td>16</td>\n",
       "      <td>1.204120</td>\n",
       "      <td>1</td>\n",
       "      <td>(0.477, 1.255]</td>\n",
       "    </tr>\n",
       "    <tr>\n",
       "      <th>1</th>\n",
       "      <td>time-1573895904_eve-2276911_name-ROHRER</td>\n",
       "      <td>3</td>\n",
       "      <td>0.477121</td>\n",
       "      <td>0</td>\n",
       "      <td>(-0.001, 0.477]</td>\n",
       "    </tr>\n",
       "    <tr>\n",
       "      <th>2</th>\n",
       "      <td>time-1573896101_eve-2276917_name-BADA</td>\n",
       "      <td>32</td>\n",
       "      <td>1.505150</td>\n",
       "      <td>2</td>\n",
       "      <td>(1.255, 2.103]</td>\n",
       "    </tr>\n",
       "    <tr>\n",
       "      <th>3</th>\n",
       "      <td>time-1573896134_eve-2276919_name-SARINA</td>\n",
       "      <td>63</td>\n",
       "      <td>1.799341</td>\n",
       "      <td>2</td>\n",
       "      <td>(1.255, 2.103]</td>\n",
       "    </tr>\n",
       "    <tr>\n",
       "      <th>4</th>\n",
       "      <td>time-1573896495_eve-2276927_name-LISSADE</td>\n",
       "      <td>440</td>\n",
       "      <td>2.643453</td>\n",
       "      <td>3</td>\n",
       "      <td>(2.103, 3.445]</td>\n",
       "    </tr>\n",
       "    <tr>\n",
       "      <th>...</th>\n",
       "      <td>...</td>\n",
       "      <td>...</td>\n",
       "      <td>...</td>\n",
       "      <td>...</td>\n",
       "      <td>...</td>\n",
       "    </tr>\n",
       "    <tr>\n",
       "      <th>4045</th>\n",
       "      <td>time-1599447278_eve-3308179_name-MATSU</td>\n",
       "      <td>76</td>\n",
       "      <td>1.880814</td>\n",
       "      <td>2</td>\n",
       "      <td>(1.255, 2.103]</td>\n",
       "    </tr>\n",
       "    <tr>\n",
       "      <th>4046</th>\n",
       "      <td>time-1599449578_eve-3308247_name-YELLOW</td>\n",
       "      <td>5</td>\n",
       "      <td>0.698970</td>\n",
       "      <td>1</td>\n",
       "      <td>(0.477, 1.255]</td>\n",
       "    </tr>\n",
       "    <tr>\n",
       "      <th>4047</th>\n",
       "      <td>time-1599454213_eve-3308371_name-LUNA</td>\n",
       "      <td>32</td>\n",
       "      <td>1.505150</td>\n",
       "      <td>2</td>\n",
       "      <td>(1.255, 2.103]</td>\n",
       "    </tr>\n",
       "    <tr>\n",
       "      <th>4048</th>\n",
       "      <td>time-1599456178_eve-3308427_name-MORALES</td>\n",
       "      <td>3</td>\n",
       "      <td>0.477121</td>\n",
       "      <td>0</td>\n",
       "      <td>(-0.001, 0.477]</td>\n",
       "    </tr>\n",
       "    <tr>\n",
       "      <th>4049</th>\n",
       "      <td>time-1599460982_eve-3308568_name-SOL</td>\n",
       "      <td>1</td>\n",
       "      <td>0.000000</td>\n",
       "      <td>0</td>\n",
       "      <td>(-0.001, 0.477]</td>\n",
       "    </tr>\n",
       "  </tbody>\n",
       "</table>\n",
       "<p>4050 rows × 5 columns</p>\n",
       "</div>"
      ],
      "text/plain": [
       "                                        family  size  log_size  size_q  \\\n",
       "0     time-1573895755_eve-2276905_name-ZABICKI    16  1.204120       1   \n",
       "1      time-1573895904_eve-2276911_name-ROHRER     3  0.477121       0   \n",
       "2        time-1573896101_eve-2276917_name-BADA    32  1.505150       2   \n",
       "3      time-1573896134_eve-2276919_name-SARINA    63  1.799341       2   \n",
       "4     time-1573896495_eve-2276927_name-LISSADE   440  2.643453       3   \n",
       "...                                        ...   ...       ...     ...   \n",
       "4045    time-1599447278_eve-3308179_name-MATSU    76  1.880814       2   \n",
       "4046   time-1599449578_eve-3308247_name-YELLOW     5  0.698970       1   \n",
       "4047     time-1599454213_eve-3308371_name-LUNA    32  1.505150       2   \n",
       "4048  time-1599456178_eve-3308427_name-MORALES     3  0.477121       0   \n",
       "4049      time-1599460982_eve-3308568_name-SOL     1  0.000000       0   \n",
       "\n",
       "              q_label  \n",
       "0      (0.477, 1.255]  \n",
       "1     (-0.001, 0.477]  \n",
       "2      (1.255, 2.103]  \n",
       "3      (1.255, 2.103]  \n",
       "4      (2.103, 3.445]  \n",
       "...               ...  \n",
       "4045   (1.255, 2.103]  \n",
       "4046   (0.477, 1.255]  \n",
       "4047   (1.255, 2.103]  \n",
       "4048  (-0.001, 0.477]  \n",
       "4049  (-0.001, 0.477]  \n",
       "\n",
       "[4050 rows x 5 columns]"
      ]
     },
     "execution_count": 53,
     "metadata": {},
     "output_type": "execute_result"
    }
   ],
   "source": [
    "family_sizes = life_viability.groupby(['family'])['avatar'].agg('count').reset_index()\n",
    "family_sizes = family_sizes.rename(columns={'avatar': 'size'})\n",
    "family_sizes['log_size'] = np.log10(family_sizes['size'])\n",
    "family_sizes['size_q'] = pd.qcut(family_sizes['log_size'], 4, labels=False)\n",
    "family_sizes['q_label'] = pd.qcut(family_sizes['log_size'], 4)\n",
    "family_sizes"
   ]
  },
  {
   "cell_type": "code",
   "execution_count": 68,
   "metadata": {},
   "outputs": [
    {
     "data": {
      "image/png": "[encoded data removed]",
      "text/plain": [
       "<Figure size 432x288 with 1 Axes>"
      ]
     },
     "metadata": {},
     "output_type": "display_data"
    }
   ],
   "source": [
    "q_x = scipy.stats.mstats.mquantiles(family_sizes['log_size'], np.linspace(.25, 1, 4))\n",
    "log_x = range(4)\n",
    "exp_x = [10**x for x in log_x]\n",
    "\n",
    "ax = sns.distplot(family_sizes['log_size'])\n",
    "ax.set(xlabel='Total # family members', xticks = log_x, xticklabels = exp_x, \n",
    "       title = 'Family size (all families)')\n",
    "sns.despine()\n",
    "\n",
    "for q in q_x[:3]:\n",
    "    plt.axvline(q, color='#aaaaaa', linestyle='--')"
   ]
  },
  {
   "cell_type": "markdown",
   "metadata": {},
   "source": [
    "Family subsample:"
   ]
  },
  {
   "cell_type": "code",
   "execution_count": 65,
   "metadata": {},
   "outputs": [
    {
     "name": "stdout",
     "output_type": "stream",
     "text": [
      "(90, 5)\n"
     ]
    },
    {
     "data": {
      "text/html": [
       "<div>\n",
       "<style scoped>\n",
       "    .dataframe tbody tr th:only-of-type {\n",
       "        vertical-align: middle;\n",
       "    }\n",
       "\n",
       "    .dataframe tbody tr th {\n",
       "        vertical-align: top;\n",
       "    }\n",
       "\n",
       "    .dataframe thead th {\n",
       "        text-align: right;\n",
       "    }\n",
       "</style>\n",
       "<table border=\"1\" class=\"dataframe\">\n",
       "  <thead>\n",
       "    <tr style=\"text-align: right;\">\n",
       "      <th></th>\n",
       "      <th>family</th>\n",
       "      <th>size</th>\n",
       "      <th>log_size</th>\n",
       "      <th>size_q</th>\n",
       "      <th>q_label</th>\n",
       "    </tr>\n",
       "  </thead>\n",
       "  <tbody>\n",
       "    <tr>\n",
       "      <th>0</th>\n",
       "      <td>time-1587071865_eve-2898532_name-AN</td>\n",
       "      <td>9</td>\n",
       "      <td>0.954243</td>\n",
       "      <td>1</td>\n",
       "      <td>(0.477, 1.255]</td>\n",
       "    </tr>\n",
       "    <tr>\n",
       "      <th>1</th>\n",
       "      <td>time-1587676375_eve-2928342_name-NOOD</td>\n",
       "      <td>10</td>\n",
       "      <td>1.000000</td>\n",
       "      <td>1</td>\n",
       "      <td>(0.477, 1.255]</td>\n",
       "    </tr>\n",
       "    <tr>\n",
       "      <th>2</th>\n",
       "      <td>time-1574388279_eve-2312096_name-EPSTEIN</td>\n",
       "      <td>5</td>\n",
       "      <td>0.698970</td>\n",
       "      <td>1</td>\n",
       "      <td>(0.477, 1.255]</td>\n",
       "    </tr>\n",
       "    <tr>\n",
       "      <th>3</th>\n",
       "      <td>time-1580241953_eve-2636092_name-SHITTU</td>\n",
       "      <td>9</td>\n",
       "      <td>0.954243</td>\n",
       "      <td>1</td>\n",
       "      <td>(0.477, 1.255]</td>\n",
       "    </tr>\n",
       "    <tr>\n",
       "      <th>4</th>\n",
       "      <td>time-1578573856_eve-2547224_name-KIM</td>\n",
       "      <td>5</td>\n",
       "      <td>0.698970</td>\n",
       "      <td>1</td>\n",
       "      <td>(0.477, 1.255]</td>\n",
       "    </tr>\n",
       "  </tbody>\n",
       "</table>\n",
       "</div>"
      ],
      "text/plain": [
       "                                     family  size  log_size  size_q  \\\n",
       "0       time-1587071865_eve-2898532_name-AN     9  0.954243       1   \n",
       "1     time-1587676375_eve-2928342_name-NOOD    10  1.000000       1   \n",
       "2  time-1574388279_eve-2312096_name-EPSTEIN     5  0.698970       1   \n",
       "3   time-1580241953_eve-2636092_name-SHITTU     9  0.954243       1   \n",
       "4      time-1578573856_eve-2547224_name-KIM     5  0.698970       1   \n",
       "\n",
       "          q_label  \n",
       "0  (0.477, 1.255]  \n",
       "1  (0.477, 1.255]  \n",
       "2  (0.477, 1.255]  \n",
       "3  (0.477, 1.255]  \n",
       "4  (0.477, 1.255]  "
      ]
     },
     "execution_count": 65,
     "metadata": {},
     "output_type": "execute_result"
    }
   ],
   "source": [
    "family_sample = family_sizes.copy()\n",
    "family_sample = family_sample[family_sample['size_q'] > 0]\n",
    "family_sample = family_sample.groupby('size_q').sample(frac=.0305)\n",
    "family_sample = family_sample.reset_index(drop=True)\n",
    "print(family_sample.shape)\n",
    "family_sample.head()"
   ]
  },
  {
   "cell_type": "code",
   "execution_count": 74,
   "metadata": {},
   "outputs": [
    {
     "data": {
      "image/png": "[encoded data removed]",
      "text/plain": [
       "<Figure size 432x288 with 1 Axes>"
      ]
     },
     "metadata": {},
     "output_type": "display_data"
    }
   ],
   "source": [
    "ax = sns.distplot(family_sample['log_size'],bins=10)\n",
    "ax.set(xlabel='Total # family members', xticks = log_x, xticklabels = exp_x, \n",
    "       title = 'Family size (subsample)')\n",
    "for q in q_x[:3]:\n",
    "    plt.axvline(q, color='#aaaaaa', linestyle='--')\n",
    "sns.despine()"
   ]
  },
  {
   "cell_type": "markdown",
   "metadata": {},
   "source": [
    "Get repertoire, expertise measures for subsample:"
   ]
  },
  {
   "cell_type": "code",
   "execution_count": 80,
   "metadata": {},
   "outputs": [
    {
     "name": "stdout",
     "output_type": "stream",
     "text": [
      "(10734, 15)\n",
      "N =\t90 families\n",
      "\t4053 players\n",
      "\t10734 avatars\n"
     ]
    }
   ],
   "source": [
    "sample_families = family_sample['family'].values\n",
    "sample_viability = life_viability[life_viability['family'].isin(sample_families)]\n",
    "\n",
    "n_families = len(sample_families)\n",
    "n_players = len(np.unique(sample_viability['player']))\n",
    "n_avatars = len(np.unique(sample_viability['avatar']))\n",
    "\n",
    "\n",
    "print(sample_viability.shape)\n",
    "print('N =\\t%i families' % n_families)\n",
    "print('\\t%i players' % n_players)\n",
    "print('\\t%i avatars' % n_avatars)"
   ]
  },
  {
   "cell_type": "markdown",
   "metadata": {},
   "source": [
    "## Cumulative repertoire size"
   ]
  },
  {
   "cell_type": "markdown",
   "metadata": {},
   "source": [
    "Load discoveries dataframe:"
   ]
  },
  {
   "cell_type": "code",
   "execution_count": 81,
   "metadata": {},
   "outputs": [
    {
     "data": {
      "text/html": [
       "<div>\n",
       "<style scoped>\n",
       "    .dataframe tbody tr th:only-of-type {\n",
       "        vertical-align: middle;\n",
       "    }\n",
       "\n",
       "    .dataframe tbody tr th {\n",
       "        vertical-align: top;\n",
       "    }\n",
       "\n",
       "    .dataframe thead th {\n",
       "        text-align: right;\n",
       "    }\n",
       "</style>\n",
       "<table border=\"1\" class=\"dataframe\">\n",
       "  <thead>\n",
       "    <tr style=\"text-align: right;\">\n",
       "      <th></th>\n",
       "      <th>seed</th>\n",
       "      <th>family</th>\n",
       "      <th>object_id</th>\n",
       "      <th>t_epoch</th>\n",
       "      <th>count</th>\n",
       "    </tr>\n",
       "  </thead>\n",
       "  <tbody>\n",
       "    <tr>\n",
       "      <th>0</th>\n",
       "      <td>1573895673</td>\n",
       "      <td>time-1573895755_eve-2276905_name-ZABICKI</td>\n",
       "      <td>236</td>\n",
       "      <td>1573895799</td>\n",
       "      <td>1</td>\n",
       "    </tr>\n",
       "    <tr>\n",
       "      <th>1</th>\n",
       "      <td>1573895673</td>\n",
       "      <td>time-1573895755_eve-2276905_name-ZABICKI</td>\n",
       "      <td>134</td>\n",
       "      <td>1573895801</td>\n",
       "      <td>2</td>\n",
       "    </tr>\n",
       "    <tr>\n",
       "      <th>2</th>\n",
       "      <td>1573895673</td>\n",
       "      <td>time-1573895755_eve-2276905_name-ZABICKI</td>\n",
       "      <td>2873</td>\n",
       "      <td>1573895844</td>\n",
       "      <td>3</td>\n",
       "    </tr>\n",
       "    <tr>\n",
       "      <th>3</th>\n",
       "      <td>1573895673</td>\n",
       "      <td>time-1573895755_eve-2276905_name-ZABICKI</td>\n",
       "      <td>2742</td>\n",
       "      <td>1573895847</td>\n",
       "      <td>4</td>\n",
       "    </tr>\n",
       "    <tr>\n",
       "      <th>4</th>\n",
       "      <td>1573895673</td>\n",
       "      <td>time-1573895755_eve-2276905_name-ZABICKI</td>\n",
       "      <td>2861</td>\n",
       "      <td>1573895849</td>\n",
       "      <td>5</td>\n",
       "    </tr>\n",
       "  </tbody>\n",
       "</table>\n",
       "</div>"
      ],
      "text/plain": [
       "         seed                                    family  object_id  \\\n",
       "0  1573895673  time-1573895755_eve-2276905_name-ZABICKI        236   \n",
       "1  1573895673  time-1573895755_eve-2276905_name-ZABICKI        134   \n",
       "2  1573895673  time-1573895755_eve-2276905_name-ZABICKI       2873   \n",
       "3  1573895673  time-1573895755_eve-2276905_name-ZABICKI       2742   \n",
       "4  1573895673  time-1573895755_eve-2276905_name-ZABICKI       2861   \n",
       "\n",
       "      t_epoch  count  \n",
       "0  1573895799      1  \n",
       "1  1573895801      2  \n",
       "2  1573895844      3  \n",
       "3  1573895847      4  \n",
       "4  1573895849      5  "
      ]
     },
     "execution_count": 81,
     "metadata": {},
     "output_type": "execute_result"
    }
   ],
   "source": [
    "discoveries_df = pd.read_csv('../3_technology/outputs/family_discoveries.tsv', sep='\\t')\n",
    "discoveries_df['t_epoch'] = discoveries_df['t_epoch'].astype(np.int)\n",
    "discoveries_df.head()"
   ]
  },
  {
   "cell_type": "markdown",
   "metadata": {},
   "source": [
    "Get repertoire size by the time of each player's birth"
   ]
  },
  {
   "cell_type": "code",
   "execution_count": null,
   "metadata": {},
   "outputs": [
    {
     "data": {
      "application/vnd.jupyter.widget-view+json": {
       "model_id": "ba54e7c4cea44dde8dac785d544651b1",
       "version_major": 2,
       "version_minor": 0
      },
      "text/plain": [
       "HBox(children=(FloatProgress(value=0.0, max=10734.0), HTML(value='')))"
      ]
     },
     "metadata": {},
     "output_type": "display_data"
    }
   ],
   "source": [
    "repertoire_list = []\n",
    "for idx,row in notebook.tqdm(sample_viability.iterrows(), total=sample_viability.shape[0]):\n",
    "    fam_discoveries = discoveries_df[discoveries_df['family'] == row['family']].copy()\n",
    "\n",
    "    discovered = fam_discoveries[fam_discoveries['t_epoch'] < row['tBirth']]\n",
    "    n_discoveries = discovered.shape[0]\n",
    "\n",
    "    repertoire_list.append((row['avatar'], n_discoveries))"
   ]
  },
  {
   "cell_type": "code",
   "execution_count": 87,
   "metadata": {},
   "outputs": [
    {
     "data": {
      "text/html": [
       "<div>\n",
       "<style scoped>\n",
       "    .dataframe tbody tr th:only-of-type {\n",
       "        vertical-align: middle;\n",
       "    }\n",
       "\n",
       "    .dataframe tbody tr th {\n",
       "        vertical-align: top;\n",
       "    }\n",
       "\n",
       "    .dataframe thead th {\n",
       "        text-align: right;\n",
       "    }\n",
       "</style>\n",
       "<table border=\"1\" class=\"dataframe\">\n",
       "  <thead>\n",
       "    <tr style=\"text-align: right;\">\n",
       "      <th></th>\n",
       "      <th>avatar</th>\n",
       "      <th>repertoire_size</th>\n",
       "    </tr>\n",
       "  </thead>\n",
       "  <tbody>\n",
       "    <tr>\n",
       "      <th>0</th>\n",
       "      <td>2283257</td>\n",
       "      <td>0</td>\n",
       "    </tr>\n",
       "    <tr>\n",
       "      <th>1</th>\n",
       "      <td>2283258</td>\n",
       "      <td>1</td>\n",
       "    </tr>\n",
       "    <tr>\n",
       "      <th>2</th>\n",
       "      <td>2283282</td>\n",
       "      <td>8</td>\n",
       "    </tr>\n",
       "    <tr>\n",
       "      <th>3</th>\n",
       "      <td>2283315</td>\n",
       "      <td>57</td>\n",
       "    </tr>\n",
       "    <tr>\n",
       "      <th>4</th>\n",
       "      <td>2283345</td>\n",
       "      <td>73</td>\n",
       "    </tr>\n",
       "  </tbody>\n",
       "</table>\n",
       "</div>"
      ],
      "text/plain": [
       "    avatar  repertoire_size\n",
       "0  2283257                0\n",
       "1  2283258                1\n",
       "2  2283282                8\n",
       "3  2283315               57\n",
       "4  2283345               73"
      ]
     },
     "execution_count": 87,
     "metadata": {},
     "output_type": "execute_result"
    }
   ],
   "source": [
    "repertoire_df = pd.DataFrame(repertoire_list, columns=['avatar', 'repertoire_size'])\n",
    "repertoire_df.head()"
   ]
  },
  {
   "cell_type": "code",
   "execution_count": null,
   "metadata": {},
   "outputs": [],
   "source": []
  },
  {
   "cell_type": "code",
   "execution_count": 88,
   "metadata": {},
   "outputs": [
    {
     "data": {
      "text/html": [
       "<div>\n",
       "<style scoped>\n",
       "    .dataframe tbody tr th:only-of-type {\n",
       "        vertical-align: middle;\n",
       "    }\n",
       "\n",
       "    .dataframe tbody tr th {\n",
       "        vertical-align: top;\n",
       "    }\n",
       "\n",
       "    .dataframe thead th {\n",
       "        text-align: right;\n",
       "    }\n",
       "</style>\n",
       "<table border=\"1\" class=\"dataframe\">\n",
       "  <thead>\n",
       "    <tr style=\"text-align: right;\">\n",
       "      <th></th>\n",
       "      <th>player</th>\n",
       "      <th>avatar</th>\n",
       "      <th>parent</th>\n",
       "      <th>family</th>\n",
       "      <th>tBirth</th>\n",
       "      <th>tDeath</th>\n",
       "      <th>age</th>\n",
       "      <th>cause_of_death</th>\n",
       "      <th>n_life</th>\n",
       "      <th>gametime</th>\n",
       "      <th>parent_life</th>\n",
       "      <th>parent_gametime</th>\n",
       "      <th>adult</th>\n",
       "      <th>adult_count</th>\n",
       "      <th>adult_sum</th>\n",
       "      <th>repertoire_size</th>\n",
       "    </tr>\n",
       "  </thead>\n",
       "  <tbody>\n",
       "    <tr>\n",
       "      <th>0</th>\n",
       "      <td>7ef3243c6edae7f1b2ae2e3f215f4e0d41fc9109</td>\n",
       "      <td>2283257</td>\n",
       "      <td>-1</td>\n",
       "      <td>time-1574019178_eve-2283257_name-GREY</td>\n",
       "      <td>1574019178</td>\n",
       "      <td>1.574022e+09</td>\n",
       "      <td>60.00</td>\n",
       "      <td>oldAge</td>\n",
       "      <td>682</td>\n",
       "      <td>29575.77</td>\n",
       "      <td>NaN</td>\n",
       "      <td>NaN</td>\n",
       "      <td>1</td>\n",
       "      <td>0</td>\n",
       "      <td>0</td>\n",
       "      <td>0</td>\n",
       "    </tr>\n",
       "    <tr>\n",
       "      <th>1</th>\n",
       "      <td>0e4d213c7653d0cca240f0b650958292dbabe7dd</td>\n",
       "      <td>2283258</td>\n",
       "      <td>2283257</td>\n",
       "      <td>time-1574019178_eve-2283257_name-GREY</td>\n",
       "      <td>1574019200</td>\n",
       "      <td>1.574020e+09</td>\n",
       "      <td>11.03</td>\n",
       "      <td>hunger</td>\n",
       "      <td>4</td>\n",
       "      <td>18.45</td>\n",
       "      <td>682.0</td>\n",
       "      <td>29575.77</td>\n",
       "      <td>0</td>\n",
       "      <td>1</td>\n",
       "      <td>1</td>\n",
       "      <td>1</td>\n",
       "    </tr>\n",
       "    <tr>\n",
       "      <th>2</th>\n",
       "      <td>eb29a953ae53a0148a3f27c43b74002242739bda</td>\n",
       "      <td>2283282</td>\n",
       "      <td>2283257</td>\n",
       "      <td>time-1574019178_eve-2283257_name-GREY</td>\n",
       "      <td>1574019381</td>\n",
       "      <td>1.574022e+09</td>\n",
       "      <td>43.98</td>\n",
       "      <td>hunger</td>\n",
       "      <td>733</td>\n",
       "      <td>15670.62</td>\n",
       "      <td>682.0</td>\n",
       "      <td>29575.77</td>\n",
       "      <td>1</td>\n",
       "      <td>2</td>\n",
       "      <td>1</td>\n",
       "      <td>8</td>\n",
       "    </tr>\n",
       "    <tr>\n",
       "      <th>3</th>\n",
       "      <td>280b6cb02b9d029bc3c20c21af0abecf27ded956</td>\n",
       "      <td>2283315</td>\n",
       "      <td>2283257</td>\n",
       "      <td>time-1574019178_eve-2283257_name-GREY</td>\n",
       "      <td>1574019806</td>\n",
       "      <td>1.574020e+09</td>\n",
       "      <td>7.01</td>\n",
       "      <td>hunger</td>\n",
       "      <td>3</td>\n",
       "      <td>52.63</td>\n",
       "      <td>682.0</td>\n",
       "      <td>29575.77</td>\n",
       "      <td>0</td>\n",
       "      <td>3</td>\n",
       "      <td>2</td>\n",
       "      <td>57</td>\n",
       "    </tr>\n",
       "    <tr>\n",
       "      <th>4</th>\n",
       "      <td>f33b53269620f77f0e8edc2bdedfb0539efadafe</td>\n",
       "      <td>2283345</td>\n",
       "      <td>2283257</td>\n",
       "      <td>time-1574019178_eve-2283257_name-GREY</td>\n",
       "      <td>1574020116</td>\n",
       "      <td>1.574021e+09</td>\n",
       "      <td>17.50</td>\n",
       "      <td>hunger</td>\n",
       "      <td>19</td>\n",
       "      <td>698.60</td>\n",
       "      <td>682.0</td>\n",
       "      <td>29575.77</td>\n",
       "      <td>1</td>\n",
       "      <td>4</td>\n",
       "      <td>2</td>\n",
       "      <td>73</td>\n",
       "    </tr>\n",
       "  </tbody>\n",
       "</table>\n",
       "</div>"
      ],
      "text/plain": [
       "                                     player   avatar   parent  \\\n",
       "0  7ef3243c6edae7f1b2ae2e3f215f4e0d41fc9109  2283257       -1   \n",
       "1  0e4d213c7653d0cca240f0b650958292dbabe7dd  2283258  2283257   \n",
       "2  eb29a953ae53a0148a3f27c43b74002242739bda  2283282  2283257   \n",
       "3  280b6cb02b9d029bc3c20c21af0abecf27ded956  2283315  2283257   \n",
       "4  f33b53269620f77f0e8edc2bdedfb0539efadafe  2283345  2283257   \n",
       "\n",
       "                                  family      tBirth        tDeath    age  \\\n",
       "0  time-1574019178_eve-2283257_name-GREY  1574019178  1.574022e+09  60.00   \n",
       "1  time-1574019178_eve-2283257_name-GREY  1574019200  1.574020e+09  11.03   \n",
       "2  time-1574019178_eve-2283257_name-GREY  1574019381  1.574022e+09  43.98   \n",
       "3  time-1574019178_eve-2283257_name-GREY  1574019806  1.574020e+09   7.01   \n",
       "4  time-1574019178_eve-2283257_name-GREY  1574020116  1.574021e+09  17.50   \n",
       "\n",
       "  cause_of_death  n_life  gametime  parent_life  parent_gametime  adult  \\\n",
       "0         oldAge     682  29575.77          NaN              NaN      1   \n",
       "1         hunger       4     18.45        682.0         29575.77      0   \n",
       "2         hunger     733  15670.62        682.0         29575.77      1   \n",
       "3         hunger       3     52.63        682.0         29575.77      0   \n",
       "4         hunger      19    698.60        682.0         29575.77      1   \n",
       "\n",
       "   adult_count  adult_sum  repertoire_size  \n",
       "0            0          0                0  \n",
       "1            1          1                1  \n",
       "2            2          1                8  \n",
       "3            3          2               57  \n",
       "4            4          2               73  "
      ]
     },
     "execution_count": 88,
     "metadata": {},
     "output_type": "execute_result"
    }
   ],
   "source": [
    "sample_repertoire = pd.merge(sample_viability, repertoire_df, on='avatar')\n",
    "sample_repertoire.head()"
   ]
  },
  {
   "cell_type": "code",
   "execution_count": 108,
   "metadata": {},
   "outputs": [],
   "source": [
    "sample_repertoire.to_csv('outputs/survival_regression_inputs.tsv', sep='\\t', index=False)"
   ]
  },
  {
   "cell_type": "code",
   "execution_count": 109,
   "metadata": {},
   "outputs": [
    {
     "data": {
      "text/html": [
       "<div>\n",
       "<style scoped>\n",
       "    .dataframe tbody tr th:only-of-type {\n",
       "        vertical-align: middle;\n",
       "    }\n",
       "\n",
       "    .dataframe tbody tr th {\n",
       "        vertical-align: top;\n",
       "    }\n",
       "\n",
       "    .dataframe thead th {\n",
       "        text-align: right;\n",
       "    }\n",
       "</style>\n",
       "<table border=\"1\" class=\"dataframe\">\n",
       "  <thead>\n",
       "    <tr style=\"text-align: right;\">\n",
       "      <th></th>\n",
       "      <th>player</th>\n",
       "      <th>avatar</th>\n",
       "      <th>parent</th>\n",
       "      <th>family</th>\n",
       "      <th>tBirth</th>\n",
       "      <th>tDeath</th>\n",
       "      <th>age</th>\n",
       "      <th>cause_of_death</th>\n",
       "      <th>n_life</th>\n",
       "      <th>gametime</th>\n",
       "      <th>parent_life</th>\n",
       "      <th>parent_gametime</th>\n",
       "      <th>adult</th>\n",
       "      <th>adult_count</th>\n",
       "      <th>adult_sum</th>\n",
       "      <th>repertoire_size</th>\n",
       "    </tr>\n",
       "  </thead>\n",
       "  <tbody>\n",
       "    <tr>\n",
       "      <th>0</th>\n",
       "      <td>7ef3243c6edae7f1b2ae2e3f215f4e0d41fc9109</td>\n",
       "      <td>2283257</td>\n",
       "      <td>-1</td>\n",
       "      <td>time-1574019178_eve-2283257_name-GREY</td>\n",
       "      <td>1574019178</td>\n",
       "      <td>1.574022e+09</td>\n",
       "      <td>60.00</td>\n",
       "      <td>oldAge</td>\n",
       "      <td>682</td>\n",
       "      <td>29575.77</td>\n",
       "      <td>NaN</td>\n",
       "      <td>NaN</td>\n",
       "      <td>1</td>\n",
       "      <td>0</td>\n",
       "      <td>0</td>\n",
       "      <td>0</td>\n",
       "    </tr>\n",
       "    <tr>\n",
       "      <th>1</th>\n",
       "      <td>0e4d213c7653d0cca240f0b650958292dbabe7dd</td>\n",
       "      <td>2283258</td>\n",
       "      <td>2283257</td>\n",
       "      <td>time-1574019178_eve-2283257_name-GREY</td>\n",
       "      <td>1574019200</td>\n",
       "      <td>1.574020e+09</td>\n",
       "      <td>11.03</td>\n",
       "      <td>hunger</td>\n",
       "      <td>4</td>\n",
       "      <td>18.45</td>\n",
       "      <td>682.0</td>\n",
       "      <td>29575.77</td>\n",
       "      <td>0</td>\n",
       "      <td>1</td>\n",
       "      <td>1</td>\n",
       "      <td>1</td>\n",
       "    </tr>\n",
       "    <tr>\n",
       "      <th>2</th>\n",
       "      <td>eb29a953ae53a0148a3f27c43b74002242739bda</td>\n",
       "      <td>2283282</td>\n",
       "      <td>2283257</td>\n",
       "      <td>time-1574019178_eve-2283257_name-GREY</td>\n",
       "      <td>1574019381</td>\n",
       "      <td>1.574022e+09</td>\n",
       "      <td>43.98</td>\n",
       "      <td>hunger</td>\n",
       "      <td>733</td>\n",
       "      <td>15670.62</td>\n",
       "      <td>682.0</td>\n",
       "      <td>29575.77</td>\n",
       "      <td>1</td>\n",
       "      <td>2</td>\n",
       "      <td>1</td>\n",
       "      <td>8</td>\n",
       "    </tr>\n",
       "    <tr>\n",
       "      <th>3</th>\n",
       "      <td>280b6cb02b9d029bc3c20c21af0abecf27ded956</td>\n",
       "      <td>2283315</td>\n",
       "      <td>2283257</td>\n",
       "      <td>time-1574019178_eve-2283257_name-GREY</td>\n",
       "      <td>1574019806</td>\n",
       "      <td>1.574020e+09</td>\n",
       "      <td>7.01</td>\n",
       "      <td>hunger</td>\n",
       "      <td>3</td>\n",
       "      <td>52.63</td>\n",
       "      <td>682.0</td>\n",
       "      <td>29575.77</td>\n",
       "      <td>0</td>\n",
       "      <td>3</td>\n",
       "      <td>2</td>\n",
       "      <td>57</td>\n",
       "    </tr>\n",
       "    <tr>\n",
       "      <th>4</th>\n",
       "      <td>f33b53269620f77f0e8edc2bdedfb0539efadafe</td>\n",
       "      <td>2283345</td>\n",
       "      <td>2283257</td>\n",
       "      <td>time-1574019178_eve-2283257_name-GREY</td>\n",
       "      <td>1574020116</td>\n",
       "      <td>1.574021e+09</td>\n",
       "      <td>17.50</td>\n",
       "      <td>hunger</td>\n",
       "      <td>19</td>\n",
       "      <td>698.60</td>\n",
       "      <td>682.0</td>\n",
       "      <td>29575.77</td>\n",
       "      <td>1</td>\n",
       "      <td>4</td>\n",
       "      <td>2</td>\n",
       "      <td>73</td>\n",
       "    </tr>\n",
       "  </tbody>\n",
       "</table>\n",
       "</div>"
      ],
      "text/plain": [
       "                                     player   avatar   parent  \\\n",
       "0  7ef3243c6edae7f1b2ae2e3f215f4e0d41fc9109  2283257       -1   \n",
       "1  0e4d213c7653d0cca240f0b650958292dbabe7dd  2283258  2283257   \n",
       "2  eb29a953ae53a0148a3f27c43b74002242739bda  2283282  2283257   \n",
       "3  280b6cb02b9d029bc3c20c21af0abecf27ded956  2283315  2283257   \n",
       "4  f33b53269620f77f0e8edc2bdedfb0539efadafe  2283345  2283257   \n",
       "\n",
       "                                  family      tBirth        tDeath    age  \\\n",
       "0  time-1574019178_eve-2283257_name-GREY  1574019178  1.574022e+09  60.00   \n",
       "1  time-1574019178_eve-2283257_name-GREY  1574019200  1.574020e+09  11.03   \n",
       "2  time-1574019178_eve-2283257_name-GREY  1574019381  1.574022e+09  43.98   \n",
       "3  time-1574019178_eve-2283257_name-GREY  1574019806  1.574020e+09   7.01   \n",
       "4  time-1574019178_eve-2283257_name-GREY  1574020116  1.574021e+09  17.50   \n",
       "\n",
       "  cause_of_death  n_life  gametime  parent_life  parent_gametime  adult  \\\n",
       "0         oldAge     682  29575.77          NaN              NaN      1   \n",
       "1         hunger       4     18.45        682.0         29575.77      0   \n",
       "2         hunger     733  15670.62        682.0         29575.77      1   \n",
       "3         hunger       3     52.63        682.0         29575.77      0   \n",
       "4         hunger      19    698.60        682.0         29575.77      1   \n",
       "\n",
       "   adult_count  adult_sum  repertoire_size  \n",
       "0            0          0                0  \n",
       "1            1          1                1  \n",
       "2            2          1                8  \n",
       "3            3          2               57  \n",
       "4            4          2               73  "
      ]
     },
     "execution_count": 109,
     "metadata": {},
     "output_type": "execute_result"
    }
   ],
   "source": [
    "load_test = pd.read_csv('outputs/survival_regression_inputs.tsv', sep='\\t')\n",
    "load_test.head()"
   ]
  },
  {
   "cell_type": "code",
   "execution_count": 92,
   "metadata": {},
   "outputs": [
    {
     "name": "stdout",
     "output_type": "stream",
     "text": [
      "8228 (76.65%) reached adulthood\n",
      "3886 (36.20%) died of old age\n"
     ]
    },
    {
     "data": {
      "image/png": "[encoded data removed]",
      "text/plain": [
       "<Figure size 432x288 with 1 Axes>"
      ]
     },
     "metadata": {},
     "output_type": "display_data"
    }
   ],
   "source": [
    "sample_n = sample_repertoire.shape[0]\n",
    "sample_adults = np.sum(sample_repertoire['age'] >= 14)\n",
    "sample_olds = np.sum(sample_repertoire['age'] == 60)\n",
    "\n",
    "print('%i (%0.2f%%) reached adulthood' % (sample_adults, sample_adults/sample_n*100))\n",
    "print('%i (%0.2f%%) died of old age' % (sample_olds, sample_olds/sample_n*100))\n",
    "\n",
    "ax = sns.distplot(sample_repertoire['age'])\n",
    "ax.set(xlabel = 'Age')\n",
    "sns.despine()"
   ]
  },
  {
   "cell_type": "code",
   "execution_count": 123,
   "metadata": {},
   "outputs": [
    {
     "data": {
      "image/png": "[encoded data removed]",
      "text/plain": [
       "<Figure size 432x288 with 1 Axes>"
      ]
     },
     "metadata": {},
     "output_type": "display_data"
    }
   ],
   "source": [
    "viability_sum = sample_repertoire.copy()\n",
    "viability_sum['is_adult'] = sample_repertoire['age'] >= 14\n",
    "viability_sum = viability_sum.groupby('family')['is_adult'].agg('sum').reset_index()\n",
    "ax = sns.distplot(viability_sum['is_adult'])\n",
    "ax.set(xlabel = '# reached adulthood (Viability)')\n",
    "sns.despine()"
   ]
  },
  {
   "cell_type": "code",
   "execution_count": 107,
   "metadata": {},
   "outputs": [
    {
     "name": "stdout",
     "output_type": "stream",
     "text": [
      "['time-1595792875_eve-3205725_name-DONER'\n",
      " 'time-1576425390_eve-2416469_name-GRAY'\n",
      " 'time-1585367539_eve-2829693_name-KASTLER'\n",
      " 'time-1574254663_eve-2300037_name-TIMES'\n",
      " 'time-1588773850_eve-2971294_name-RUNNING'\n",
      " 'time-1594550399_eve-3167000_name-BUTTS'\n",
      " 'time-1591813536_eve-3064508_name-BADA'\n",
      " 'time-1588969901_eve-2978511_name-BIRD'\n",
      " 'time-1574574017_eve-2324595_name-WILLOW'\n",
      " 'time-1591269225_eve-3048109_name-SNOW']\n"
     ]
    },
    {
     "data": {
      "text/plain": [
       "<seaborn.axisgrid.FacetGrid at 0x2b30e893fc18>"
      ]
     },
     "execution_count": 107,
     "metadata": {},
     "output_type": "execute_result"
    },
    {
     "data": {
      "image/png": "[encoded data removed]",
      "text/plain": [
       "<Figure size 540x360 with 1 Axes>"
      ]
     },
     "metadata": {},
     "output_type": "display_data"
    }
   ],
   "source": [
    "subsubsample = np.random.choice(sample_families, 10)\n",
    "print(subsubsample)\n",
    "d_subsub = sample_repertoire[sample_repertoire['family'].isin(subsubsample)]\n",
    "ax = sns.relplot(data=d_subsub,x='adult_count', y='repertoire_size', hue='family', kind='line',\n",
    "            legend=False, aspect=1.5)\n",
    "ax.set(xlabel = 'Birth #', ylabel = 'Repertoire size at birth')"
   ]
  },
  {
   "cell_type": "code",
   "execution_count": 120,
   "metadata": {},
   "outputs": [
    {
     "data": {
      "image/png": "[encoded data removed]",
      "text/plain": [
       "<Figure size 432x288 with 1 Axes>"
      ]
     },
     "metadata": {},
     "output_type": "display_data"
    }
   ],
   "source": [
    "rep_sum = sample_repertoire.groupby('family')['repertoire_size'].agg('max').reset_index()\n",
    "ax = sns.distplot(rep_sum['repertoire_size'])\n",
    "ax.set(xlabel = 'Final repertoire size')\n",
    "sns.despine()"
   ]
  },
  {
   "cell_type": "code",
   "execution_count": 124,
   "metadata": {},
   "outputs": [
    {
     "data": {
      "image/png": "[encoded data removed]",
      "text/plain": [
       "<Figure size 432x288 with 1 Axes>"
      ]
     },
     "metadata": {},
     "output_type": "display_data"
    }
   ],
   "source": [
    "ax = sns.distplot(sample_repertoire['gametime'])\n",
    "ax.set(xlabel = 'Player expertise')\n",
    "sns.despine()"
   ]
  },
  {
   "cell_type": "code",
   "execution_count": 125,
   "metadata": {},
   "outputs": [
    {
     "data": {
      "image/png": "[encoded data removed]",
      "text/plain": [
       "<Figure size 432x288 with 1 Axes>"
      ]
     },
     "metadata": {},
     "output_type": "display_data"
    }
   ],
   "source": [
    "ax = sns.distplot(sample_repertoire['parent_gametime'])\n",
    "ax.set(xlabel = 'Parent expertise')\n",
    "sns.despine()"
   ]
  },
  {
   "cell_type": "markdown",
   "metadata": {},
   "source": [
    "## Pick a subset to plot"
   ]
  },
  {
   "cell_type": "code",
   "execution_count": null,
   "metadata": {},
   "outputs": [],
   "source": [
    "top_families = life_viability.groupby('family')['adult_count', 'adult_sum'].agg('max').reset_index()\n",
    "top_families = top_families.sort_values(by='adult_sum', ascending=False)\n",
    "top_families = top_families.reset_index(drop=True)\n",
    "top_fam = top_families.iloc[0,0]\n",
    "print('Winner: %s' % top_fam)\n",
    "top_families"
   ]
  },
  {
   "cell_type": "markdown",
   "metadata": {},
   "source": [
    "Get all members of top-performing family:"
   ]
  },
  {
   "cell_type": "code",
   "execution_count": null,
   "metadata": {},
   "outputs": [],
   "source": [
    "top_lives = life_viability[life_viability['family'] == top_fam]\n",
    "top_lives['reached_adulthood'] = top_lives['age'] >= 14\n",
    "top_lives['died_old'] = top_lives['age'] == 60\n",
    "top_lives['inexperienced'] = top_lives['gametime'] < np.median(top_lives['gametime'])\n",
    "\n",
    "n_players = len(np.unique(top_lives['player']))\n",
    "n_avatars = top_lives.shape[0]\n",
    "n_adult = np.sum(top_lives['reached_adulthood'])\n",
    "n_old = np.sum(top_lives['died_old'])\n",
    "\n",
    "print('%i players' % n_players)\n",
    "print('%i avatars' % n_avatars)\n",
    "print('%i reached adulthood (%0.1f%%)' % (n_adult, n_adult/n_avatars*100))\n",
    "print('%i died of old age' % n_old)\n",
    "top_lives.head()"
   ]
  },
  {
   "cell_type": "code",
   "execution_count": null,
   "metadata": {},
   "outputs": [],
   "source": [
    "def open_graph(f):\n",
    "    with open(f) as handle:\n",
    "        graph_data = json.load(handle)\n",
    "    return nx.json_graph.node_link_graph(graph_data)\n",
    "\n",
    "fam_template = '../2_demographics/outputs/families/families_%s.json'\n",
    "fam_file = fam_template % top_fam\n",
    "fam_graph = open_graph(fam_file)\n",
    "\n",
    "nx.nx_agraph.write_dot(fam_graph,'fam.dot')\n",
    "pos=graphviz_layout(fam_graph, prog='dot')\n",
    "pos_coords = pd.DataFrame(list(pos.values()), columns=['x','y']).agg(['max', 'min'])\n",
    "w = (pos_coords.loc['max', 'x'] - pos_coords.loc['min', 'x'])/150\n",
    "h = (pos_coords.loc['max', 'y'] - pos_coords.loc['min', 'y'])/150\n",
    "\n",
    "# Draw plot\n",
    "plt.subplots(figsize=(w,h))\n",
    "nx.draw(fam_graph, pos, with_labels=False, arrows=True)"
   ]
  },
  {
   "cell_type": "code",
   "execution_count": null,
   "metadata": {},
   "outputs": [],
   "source": [
    "ax = sns.regplot(data=top_lives, x='gametime', y='reached_adulthood', logistic=True, ci=None,\n",
    "                 scatter_kws={'alpha': 0.1})\n",
    "ax.set(xlabel = 'Expertise', ylabel = 'Reached adulthood?', yticks = [0, 1], yticklabels = ['F', 'T'])"
   ]
  },
  {
   "cell_type": "code",
   "execution_count": null,
   "metadata": {},
   "outputs": [],
   "source": [
    "ax = sns.regplot(data=top_lives, x='gametime', y='died_old', logistic=True, ci=None,\n",
    "           scatter_kws={'alpha': 0.1})\n",
    "ax.set(xlabel = 'Expertise', ylabel = 'Died of old age?', yticks = [0, 1], yticklabels = ['F', 'T'])"
   ]
  },
  {
   "cell_type": "code",
   "execution_count": null,
   "metadata": {},
   "outputs": [],
   "source": [
    "ax = sns.regplot(data=top_lives, x='parent_gametime', y='reached_adulthood', logistic=True, ci=None,\n",
    "           scatter_kws={'alpha': 0.1})\n",
    "ax.set(xlabel = 'Parent expertise', ylabel = 'Reached adulthood?', yticks = [0, 1], yticklabels = ['F', 'T'])"
   ]
  },
  {
   "cell_type": "code",
   "execution_count": null,
   "metadata": {},
   "outputs": [],
   "source": [
    "ax = sns.regplot(data=top_lives, x='parent_gametime', y='reached_adulthood', logistic=True, ci=None,\n",
    "           scatter_kws={'alpha': 0.1})\n",
    "ax.set(xlabel = 'Parent expertise', ylabel = 'Died of old age?', yticks = [0, 1], yticklabels = ['F', 'T'])"
   ]
  },
  {
   "cell_type": "code",
   "execution_count": null,
   "metadata": {},
   "outputs": [],
   "source": [
    "ax = sns.regplot(data=top_lives, x='adult_sum', y='reached_adulthood', logistic=True, ci=None,\n",
    "           scatter_kws={'alpha': 0.1})\n",
    "ax.set(xlabel = 'Cumulative viability', ylabel = 'Reached adulthood?', yticks = [0, 1], yticklabels = ['F', 'T'])"
   ]
  },
  {
   "cell_type": "code",
   "execution_count": null,
   "metadata": {},
   "outputs": [],
   "source": [
    "ax = sns.regplot(data=top_lives, x='adult_sum', y='died_old', logistic=True, ci=None,\n",
    "           scatter_kws={'alpha': 0.1})\n",
    "ax.set(xlabel = 'Cumulative viability', ylabel = 'Died of old age?', yticks = [0, 1], yticklabels = ['F', 'T'])"
   ]
  },
  {
   "cell_type": "markdown",
   "metadata": {},
   "source": [
    "## Cumulative repertoire size"
   ]
  },
  {
   "cell_type": "code",
   "execution_count": null,
   "metadata": {},
   "outputs": [],
   "source": [
    "discoveries = pd.read_csv('../3_technology/outputs/')"
   ]
  },
  {
   "cell_type": "markdown",
   "metadata": {},
   "source": [
    "## Save to file"
   ]
  },
  {
   "cell_type": "code",
   "execution_count": null,
   "metadata": {},
   "outputs": [],
   "source": [
    "life_viability.to_csv('outputs/survival_inputs.tsv', sep='\\t', index=False)"
   ]
  },
  {
   "cell_type": "code",
   "execution_count": null,
   "metadata": {},
   "outputs": [],
   "source": []
  }
 ],
 "metadata": {
  "kernelspec": {
   "display_name": "Python 3",
   "language": "python",
   "name": "python3"
  },
  "language_info": {
   "codemirror_mode": {
    "name": "ipython",
    "version": 3
   },
   "file_extension": ".py",
   "mimetype": "text/x-python",
   "name": "python",
   "nbconvert_exporter": "python",
   "pygments_lexer": "ipython3",
   "version": "3.9.2"
  }
 },
 "nbformat": 4,
 "nbformat_minor": 4
}
