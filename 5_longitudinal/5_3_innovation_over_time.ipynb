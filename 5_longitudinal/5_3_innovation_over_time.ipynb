{
 "cells": [
  {
   "cell_type": "markdown",
   "metadata": {},
   "source": [
    "# Contributions of individual innovators over time\n",
    "Natalia Vélez, February 2021"
   ]
  },
  {
   "cell_type": "code",
   "execution_count": 4,
   "metadata": {},
   "outputs": [],
   "source": [
    "%matplotlib inline\n",
    "\n",
    "import os,re\n",
    "from os.path import join as opj\n",
    "import pandas as pd\n",
    "import numpy as np\n",
    "import matplotlib.pyplot as plt\n",
    "import seaborn as sns\n",
    "\n",
    "sns.set_style('white')\n",
    "sns.set_context('talk')"
   ]
  },
  {
   "cell_type": "markdown",
   "metadata": {},
   "source": [
    "## Load data\n",
    "\n",
    "Discoveries by family:"
   ]
  },
  {
   "cell_type": "code",
   "execution_count": 5,
   "metadata": {},
   "outputs": [
    {
     "name": "stdout",
     "output_type": "stream",
     "text": [
      "(2242779, 6)\n"
     ]
    },
    {
     "data": {
      "text/html": [
       "<div>\n",
       "<style scoped>\n",
       "    .dataframe tbody tr th:only-of-type {\n",
       "        vertical-align: middle;\n",
       "    }\n",
       "\n",
       "    .dataframe tbody tr th {\n",
       "        vertical-align: top;\n",
       "    }\n",
       "\n",
       "    .dataframe thead th {\n",
       "        text-align: right;\n",
       "    }\n",
       "</style>\n",
       "<table border=\"1\" class=\"dataframe\">\n",
       "  <thead>\n",
       "    <tr style=\"text-align: right;\">\n",
       "      <th></th>\n",
       "      <th>seed</th>\n",
       "      <th>family</th>\n",
       "      <th>avatar</th>\n",
       "      <th>object_id</th>\n",
       "      <th>t_epoch</th>\n",
       "      <th>count</th>\n",
       "    </tr>\n",
       "  </thead>\n",
       "  <tbody>\n",
       "    <tr>\n",
       "      <th>0</th>\n",
       "      <td>1573895673</td>\n",
       "      <td>time-1573895755_eve-2276905_name-ZABICKI</td>\n",
       "      <td>2276905</td>\n",
       "      <td>236</td>\n",
       "      <td>1.573896e+09</td>\n",
       "      <td>1</td>\n",
       "    </tr>\n",
       "    <tr>\n",
       "      <th>1</th>\n",
       "      <td>1573895673</td>\n",
       "      <td>time-1573895755_eve-2276905_name-ZABICKI</td>\n",
       "      <td>2276905</td>\n",
       "      <td>134</td>\n",
       "      <td>1.573896e+09</td>\n",
       "      <td>2</td>\n",
       "    </tr>\n",
       "    <tr>\n",
       "      <th>2</th>\n",
       "      <td>1573895673</td>\n",
       "      <td>time-1573895755_eve-2276905_name-ZABICKI</td>\n",
       "      <td>2276905</td>\n",
       "      <td>2873</td>\n",
       "      <td>1.573896e+09</td>\n",
       "      <td>3</td>\n",
       "    </tr>\n",
       "    <tr>\n",
       "      <th>3</th>\n",
       "      <td>1573895673</td>\n",
       "      <td>time-1573895755_eve-2276905_name-ZABICKI</td>\n",
       "      <td>2276905</td>\n",
       "      <td>2742</td>\n",
       "      <td>1.573896e+09</td>\n",
       "      <td>4</td>\n",
       "    </tr>\n",
       "    <tr>\n",
       "      <th>4</th>\n",
       "      <td>1573895673</td>\n",
       "      <td>time-1573895755_eve-2276905_name-ZABICKI</td>\n",
       "      <td>2276905</td>\n",
       "      <td>2861</td>\n",
       "      <td>1.573896e+09</td>\n",
       "      <td>5</td>\n",
       "    </tr>\n",
       "  </tbody>\n",
       "</table>\n",
       "</div>"
      ],
      "text/plain": [
       "         seed                                    family   avatar  object_id  \\\n",
       "0  1573895673  time-1573895755_eve-2276905_name-ZABICKI  2276905        236   \n",
       "1  1573895673  time-1573895755_eve-2276905_name-ZABICKI  2276905        134   \n",
       "2  1573895673  time-1573895755_eve-2276905_name-ZABICKI  2276905       2873   \n",
       "3  1573895673  time-1573895755_eve-2276905_name-ZABICKI  2276905       2742   \n",
       "4  1573895673  time-1573895755_eve-2276905_name-ZABICKI  2276905       2861   \n",
       "\n",
       "        t_epoch  count  \n",
       "0  1.573896e+09      1  \n",
       "1  1.573896e+09      2  \n",
       "2  1.573896e+09      3  \n",
       "3  1.573896e+09      4  \n",
       "4  1.573896e+09      5  "
      ]
     },
     "execution_count": 5,
     "metadata": {},
     "output_type": "execute_result"
    }
   ],
   "source": [
    "discovery_data = pd.read_csv('../3_technology/outputs/family_discoveries.tsv', sep='\\t')\n",
    "discovery_data['avatar'] = discovery_data['avatar'].astype(np.int)\n",
    "\n",
    "print(discovery_data.shape)\n",
    "discovery_data.head()"
   ]
  },
  {
   "cell_type": "markdown",
   "metadata": {},
   "source": [
    "Family generations:"
   ]
  },
  {
   "cell_type": "code",
   "execution_count": 17,
   "metadata": {},
   "outputs": [
    {
     "name": "stdout",
     "output_type": "stream",
     "text": [
      "(471336, 3)\n"
     ]
    },
    {
     "data": {
      "text/html": [
       "<div>\n",
       "<style scoped>\n",
       "    .dataframe tbody tr th:only-of-type {\n",
       "        vertical-align: middle;\n",
       "    }\n",
       "\n",
       "    .dataframe tbody tr th {\n",
       "        vertical-align: top;\n",
       "    }\n",
       "\n",
       "    .dataframe thead th {\n",
       "        text-align: right;\n",
       "    }\n",
       "</style>\n",
       "<table border=\"1\" class=\"dataframe\">\n",
       "  <thead>\n",
       "    <tr style=\"text-align: right;\">\n",
       "      <th></th>\n",
       "      <th>family</th>\n",
       "      <th>avatar</th>\n",
       "      <th>gen</th>\n",
       "    </tr>\n",
       "  </thead>\n",
       "  <tbody>\n",
       "    <tr>\n",
       "      <th>0</th>\n",
       "      <td>time-1584155688_eve-2783193_name-JESUS</td>\n",
       "      <td>2783193</td>\n",
       "      <td>0</td>\n",
       "    </tr>\n",
       "    <tr>\n",
       "      <th>1</th>\n",
       "      <td>time-1584155688_eve-2783193_name-JESUS</td>\n",
       "      <td>2783246</td>\n",
       "      <td>1</td>\n",
       "    </tr>\n",
       "    <tr>\n",
       "      <th>2</th>\n",
       "      <td>time-1584155688_eve-2783193_name-JESUS</td>\n",
       "      <td>2783231</td>\n",
       "      <td>1</td>\n",
       "    </tr>\n",
       "    <tr>\n",
       "      <th>3</th>\n",
       "      <td>time-1584155688_eve-2783193_name-JESUS</td>\n",
       "      <td>2783221</td>\n",
       "      <td>1</td>\n",
       "    </tr>\n",
       "    <tr>\n",
       "      <th>4</th>\n",
       "      <td>time-1584155688_eve-2783193_name-JESUS</td>\n",
       "      <td>2783313</td>\n",
       "      <td>2</td>\n",
       "    </tr>\n",
       "  </tbody>\n",
       "</table>\n",
       "</div>"
      ],
      "text/plain": [
       "                                   family   avatar  gen\n",
       "0  time-1584155688_eve-2783193_name-JESUS  2783193    0\n",
       "1  time-1584155688_eve-2783193_name-JESUS  2783246    1\n",
       "2  time-1584155688_eve-2783193_name-JESUS  2783231    1\n",
       "3  time-1584155688_eve-2783193_name-JESUS  2783221    1\n",
       "4  time-1584155688_eve-2783193_name-JESUS  2783313    2"
      ]
     },
     "execution_count": 17,
     "metadata": {},
     "output_type": "execute_result"
    }
   ],
   "source": [
    "gen_data = pd.read_csv('../2_demographics/outputs/family_generations.tsv', sep='\\t')\n",
    "gen_data = gen_data[['family', 'avatar', 'gen']]\n",
    "\n",
    "print(gen_data.shape)\n",
    "gen_data.head()"
   ]
  },
  {
   "cell_type": "markdown",
   "metadata": {},
   "source": [
    "Remove singleton families (Eve died out with no descendants):"
   ]
  },
  {
   "cell_type": "code",
   "execution_count": 41,
   "metadata": {},
   "outputs": [
    {
     "data": {
      "text/html": [
       "<div>\n",
       "<style scoped>\n",
       "    .dataframe tbody tr th:only-of-type {\n",
       "        vertical-align: middle;\n",
       "    }\n",
       "\n",
       "    .dataframe tbody tr th {\n",
       "        vertical-align: top;\n",
       "    }\n",
       "\n",
       "    .dataframe thead th {\n",
       "        text-align: right;\n",
       "    }\n",
       "</style>\n",
       "<table border=\"1\" class=\"dataframe\">\n",
       "  <thead>\n",
       "    <tr style=\"text-align: right;\">\n",
       "      <th></th>\n",
       "      <th>family</th>\n",
       "      <th>gen</th>\n",
       "    </tr>\n",
       "  </thead>\n",
       "  <tbody>\n",
       "    <tr>\n",
       "      <th>0</th>\n",
       "      <td>time-1573253679_eve-2251043_name-MCCRACKEN</td>\n",
       "      <td>2</td>\n",
       "    </tr>\n",
       "    <tr>\n",
       "      <th>1</th>\n",
       "      <td>time-1573253705_eve-2251049_name-FINCH</td>\n",
       "      <td>1</td>\n",
       "    </tr>\n",
       "    <tr>\n",
       "      <th>2</th>\n",
       "      <td>time-1573253707_eve-2251051_name-SORROWS</td>\n",
       "      <td>1</td>\n",
       "    </tr>\n",
       "    <tr>\n",
       "      <th>3</th>\n",
       "      <td>time-1573253710_eve-2251053_name-LION</td>\n",
       "      <td>3</td>\n",
       "    </tr>\n",
       "    <tr>\n",
       "      <th>4</th>\n",
       "      <td>time-1573253711_eve-2251054_name-DEADRICK</td>\n",
       "      <td>6</td>\n",
       "    </tr>\n",
       "    <tr>\n",
       "      <th>...</th>\n",
       "      <td>...</td>\n",
       "      <td>...</td>\n",
       "    </tr>\n",
       "    <tr>\n",
       "      <th>4141</th>\n",
       "      <td>time-1599447278_eve-3308179_name-MATSU</td>\n",
       "      <td>10</td>\n",
       "    </tr>\n",
       "    <tr>\n",
       "      <th>4142</th>\n",
       "      <td>time-1599449578_eve-3308247_name-YELLOW</td>\n",
       "      <td>2</td>\n",
       "    </tr>\n",
       "    <tr>\n",
       "      <th>4143</th>\n",
       "      <td>time-1599454213_eve-3308371_name-LUNA</td>\n",
       "      <td>6</td>\n",
       "    </tr>\n",
       "    <tr>\n",
       "      <th>4144</th>\n",
       "      <td>time-1599456178_eve-3308427_name-MORALES</td>\n",
       "      <td>2</td>\n",
       "    </tr>\n",
       "    <tr>\n",
       "      <th>4145</th>\n",
       "      <td>time-1599460982_eve-3308568_name-SOL</td>\n",
       "      <td>1</td>\n",
       "    </tr>\n",
       "  </tbody>\n",
       "</table>\n",
       "<p>4146 rows × 2 columns</p>\n",
       "</div>"
      ],
      "text/plain": [
       "                                          family  gen\n",
       "0     time-1573253679_eve-2251043_name-MCCRACKEN    2\n",
       "1         time-1573253705_eve-2251049_name-FINCH    1\n",
       "2       time-1573253707_eve-2251051_name-SORROWS    1\n",
       "3          time-1573253710_eve-2251053_name-LION    3\n",
       "4      time-1573253711_eve-2251054_name-DEADRICK    6\n",
       "...                                          ...  ...\n",
       "4141      time-1599447278_eve-3308179_name-MATSU   10\n",
       "4142     time-1599449578_eve-3308247_name-YELLOW    2\n",
       "4143       time-1599454213_eve-3308371_name-LUNA    6\n",
       "4144    time-1599456178_eve-3308427_name-MORALES    2\n",
       "4145        time-1599460982_eve-3308568_name-SOL    1\n",
       "\n",
       "[4146 rows x 2 columns]"
      ]
     },
     "execution_count": 41,
     "metadata": {},
     "output_type": "execute_result"
    }
   ],
   "source": []
  },
  {
   "cell_type": "markdown",
   "metadata": {},
   "source": [
    "Merge dataframes:"
   ]
  },
  {
   "cell_type": "code",
   "execution_count": 22,
   "metadata": {},
   "outputs": [
    {
     "name": "stdout",
     "output_type": "stream",
     "text": [
      "(2029427, 7)\n"
     ]
    },
    {
     "data": {
      "text/html": [
       "<div>\n",
       "<style scoped>\n",
       "    .dataframe tbody tr th:only-of-type {\n",
       "        vertical-align: middle;\n",
       "    }\n",
       "\n",
       "    .dataframe tbody tr th {\n",
       "        vertical-align: top;\n",
       "    }\n",
       "\n",
       "    .dataframe thead th {\n",
       "        text-align: right;\n",
       "    }\n",
       "</style>\n",
       "<table border=\"1\" class=\"dataframe\">\n",
       "  <thead>\n",
       "    <tr style=\"text-align: right;\">\n",
       "      <th></th>\n",
       "      <th>seed</th>\n",
       "      <th>family</th>\n",
       "      <th>avatar</th>\n",
       "      <th>object_id</th>\n",
       "      <th>t_epoch</th>\n",
       "      <th>count</th>\n",
       "      <th>gen</th>\n",
       "    </tr>\n",
       "  </thead>\n",
       "  <tbody>\n",
       "    <tr>\n",
       "      <th>0</th>\n",
       "      <td>1573895673</td>\n",
       "      <td>time-1573895755_eve-2276905_name-ZABICKI</td>\n",
       "      <td>2276905</td>\n",
       "      <td>236</td>\n",
       "      <td>1.573896e+09</td>\n",
       "      <td>1</td>\n",
       "      <td>0</td>\n",
       "    </tr>\n",
       "    <tr>\n",
       "      <th>1</th>\n",
       "      <td>1573895673</td>\n",
       "      <td>time-1573895755_eve-2276905_name-ZABICKI</td>\n",
       "      <td>2276905</td>\n",
       "      <td>134</td>\n",
       "      <td>1.573896e+09</td>\n",
       "      <td>2</td>\n",
       "      <td>0</td>\n",
       "    </tr>\n",
       "    <tr>\n",
       "      <th>2</th>\n",
       "      <td>1573895673</td>\n",
       "      <td>time-1573895755_eve-2276905_name-ZABICKI</td>\n",
       "      <td>2276905</td>\n",
       "      <td>2873</td>\n",
       "      <td>1.573896e+09</td>\n",
       "      <td>3</td>\n",
       "      <td>0</td>\n",
       "    </tr>\n",
       "    <tr>\n",
       "      <th>3</th>\n",
       "      <td>1573895673</td>\n",
       "      <td>time-1573895755_eve-2276905_name-ZABICKI</td>\n",
       "      <td>2276905</td>\n",
       "      <td>2742</td>\n",
       "      <td>1.573896e+09</td>\n",
       "      <td>4</td>\n",
       "      <td>0</td>\n",
       "    </tr>\n",
       "    <tr>\n",
       "      <th>4</th>\n",
       "      <td>1573895673</td>\n",
       "      <td>time-1573895755_eve-2276905_name-ZABICKI</td>\n",
       "      <td>2276905</td>\n",
       "      <td>2861</td>\n",
       "      <td>1.573896e+09</td>\n",
       "      <td>5</td>\n",
       "      <td>0</td>\n",
       "    </tr>\n",
       "  </tbody>\n",
       "</table>\n",
       "</div>"
      ],
      "text/plain": [
       "         seed                                    family   avatar  object_id  \\\n",
       "0  1573895673  time-1573895755_eve-2276905_name-ZABICKI  2276905        236   \n",
       "1  1573895673  time-1573895755_eve-2276905_name-ZABICKI  2276905        134   \n",
       "2  1573895673  time-1573895755_eve-2276905_name-ZABICKI  2276905       2873   \n",
       "3  1573895673  time-1573895755_eve-2276905_name-ZABICKI  2276905       2742   \n",
       "4  1573895673  time-1573895755_eve-2276905_name-ZABICKI  2276905       2861   \n",
       "\n",
       "        t_epoch  count  gen  \n",
       "0  1.573896e+09      1    0  \n",
       "1  1.573896e+09      2    0  \n",
       "2  1.573896e+09      3    0  \n",
       "3  1.573896e+09      4    0  \n",
       "4  1.573896e+09      5    0  "
      ]
     },
     "execution_count": 22,
     "metadata": {},
     "output_type": "execute_result"
    }
   ],
   "source": [
    "gen_discoveries = pd.merge(discovery_data, gen_data, on=['avatar','family'])\n",
    "\n",
    "print(gen_discoveries.shape)\n",
    "gen_discoveries.head()"
   ]
  },
  {
   "cell_type": "markdown",
   "metadata": {},
   "source": [
    "## Summary statistics"
   ]
  },
  {
   "cell_type": "markdown",
   "metadata": {},
   "source": [
    "### # discoveries"
   ]
  },
  {
   "cell_type": "code",
   "execution_count": 28,
   "metadata": {},
   "outputs": [
    {
     "data": {
      "text/html": [
       "<div>\n",
       "<style scoped>\n",
       "    .dataframe tbody tr th:only-of-type {\n",
       "        vertical-align: middle;\n",
       "    }\n",
       "\n",
       "    .dataframe tbody tr th {\n",
       "        vertical-align: top;\n",
       "    }\n",
       "\n",
       "    .dataframe thead th {\n",
       "        text-align: right;\n",
       "    }\n",
       "</style>\n",
       "<table border=\"1\" class=\"dataframe\">\n",
       "  <thead>\n",
       "    <tr style=\"text-align: right;\">\n",
       "      <th></th>\n",
       "      <th>family</th>\n",
       "      <th>count</th>\n",
       "    </tr>\n",
       "  </thead>\n",
       "  <tbody>\n",
       "    <tr>\n",
       "      <th>0</th>\n",
       "      <td>time-1573895755_eve-2276905_name-ZABICKI</td>\n",
       "      <td>311</td>\n",
       "    </tr>\n",
       "    <tr>\n",
       "      <th>1</th>\n",
       "      <td>time-1573895904_eve-2276911_name-ROHRER</td>\n",
       "      <td>44</td>\n",
       "    </tr>\n",
       "    <tr>\n",
       "      <th>2</th>\n",
       "      <td>time-1573896101_eve-2276917_name-BADA</td>\n",
       "      <td>349</td>\n",
       "    </tr>\n",
       "    <tr>\n",
       "      <th>3</th>\n",
       "      <td>time-1573896134_eve-2276919_name-SARINA</td>\n",
       "      <td>476</td>\n",
       "    </tr>\n",
       "    <tr>\n",
       "      <th>4</th>\n",
       "      <td>time-1573896495_eve-2276927_name-LISSADE</td>\n",
       "      <td>1074</td>\n",
       "    </tr>\n",
       "    <tr>\n",
       "      <th>...</th>\n",
       "      <td>...</td>\n",
       "      <td>...</td>\n",
       "    </tr>\n",
       "    <tr>\n",
       "      <th>4009</th>\n",
       "      <td>time-1599447278_eve-3308179_name-MATSU</td>\n",
       "      <td>901</td>\n",
       "    </tr>\n",
       "    <tr>\n",
       "      <th>4010</th>\n",
       "      <td>time-1599449578_eve-3308247_name-YELLOW</td>\n",
       "      <td>203</td>\n",
       "    </tr>\n",
       "    <tr>\n",
       "      <th>4011</th>\n",
       "      <td>time-1599454213_eve-3308371_name-LUNA</td>\n",
       "      <td>661</td>\n",
       "    </tr>\n",
       "    <tr>\n",
       "      <th>4012</th>\n",
       "      <td>time-1599456178_eve-3308427_name-MORALES</td>\n",
       "      <td>157</td>\n",
       "    </tr>\n",
       "    <tr>\n",
       "      <th>4013</th>\n",
       "      <td>time-1599460982_eve-3308568_name-SOL</td>\n",
       "      <td>152</td>\n",
       "    </tr>\n",
       "  </tbody>\n",
       "</table>\n",
       "<p>4014 rows × 2 columns</p>\n",
       "</div>"
      ],
      "text/plain": [
       "                                        family  count\n",
       "0     time-1573895755_eve-2276905_name-ZABICKI    311\n",
       "1      time-1573895904_eve-2276911_name-ROHRER     44\n",
       "2        time-1573896101_eve-2276917_name-BADA    349\n",
       "3      time-1573896134_eve-2276919_name-SARINA    476\n",
       "4     time-1573896495_eve-2276927_name-LISSADE   1074\n",
       "...                                        ...    ...\n",
       "4009    time-1599447278_eve-3308179_name-MATSU    901\n",
       "4010   time-1599449578_eve-3308247_name-YELLOW    203\n",
       "4011     time-1599454213_eve-3308371_name-LUNA    661\n",
       "4012  time-1599456178_eve-3308427_name-MORALES    157\n",
       "4013      time-1599460982_eve-3308568_name-SOL    152\n",
       "\n",
       "[4014 rows x 2 columns]"
      ]
     },
     "execution_count": 28,
     "metadata": {},
     "output_type": "execute_result"
    }
   ],
   "source": [
    "n_discoveries = gen_discoveries.groupby('family')['count'].agg('count').reset_index()\n",
    "n_discoveries"
   ]
  },
  {
   "cell_type": "code",
   "execution_count": 49,
   "metadata": {},
   "outputs": [
    {
     "data": {
      "text/plain": [
       "[Text(0.5, 0, 'Repertoire size'),\n",
       " [<matplotlib.axis.XTick at 0x2b54f993d860>,\n",
       "  <matplotlib.axis.XTick at 0x2b54f9780cc0>,\n",
       "  <matplotlib.axis.XTick at 0x2b54f99e06a0>,\n",
       "  <matplotlib.axis.XTick at 0x2b54f9af7a90>,\n",
       "  <matplotlib.axis.XTick at 0x2b54f9b09320>],\n",
       " [Text(0, 0, '1'),\n",
       "  Text(1, 0, '10'),\n",
       "  Text(2, 0, '100'),\n",
       "  Text(3, 0, '1000'),\n",
       "  Text(4, 0, '10000')]]"
      ]
     },
     "execution_count": 49,
     "metadata": {},
     "output_type": "execute_result"
    },
    {
     "data": {
      "image/png": "[encoded data removed]",
      "text/plain": [
       "<Figure size 432x288 with 1 Axes>"
      ]
     },
     "metadata": {},
     "output_type": "display_data"
    }
   ],
   "source": [
    "ax = sns.distplot(np.log10(n_discoveries['count']))\n",
    "ax.set(xlabel='Repertoire size', xticks = range(5), xticklabels=[10**i for i in range(5)])"
   ]
  },
  {
   "cell_type": "markdown",
   "metadata": {},
   "source": [
    "### # generations"
   ]
  },
  {
   "cell_type": "code",
   "execution_count": 42,
   "metadata": {},
   "outputs": [
    {
     "data": {
      "text/html": [
       "<div>\n",
       "<style scoped>\n",
       "    .dataframe tbody tr th:only-of-type {\n",
       "        vertical-align: middle;\n",
       "    }\n",
       "\n",
       "    .dataframe tbody tr th {\n",
       "        vertical-align: top;\n",
       "    }\n",
       "\n",
       "    .dataframe thead th {\n",
       "        text-align: right;\n",
       "    }\n",
       "</style>\n",
       "<table border=\"1\" class=\"dataframe\">\n",
       "  <thead>\n",
       "    <tr style=\"text-align: right;\">\n",
       "      <th></th>\n",
       "      <th>family</th>\n",
       "      <th>gen</th>\n",
       "    </tr>\n",
       "  </thead>\n",
       "  <tbody>\n",
       "    <tr>\n",
       "      <th>0</th>\n",
       "      <td>time-1573253679_eve-2251043_name-MCCRACKEN</td>\n",
       "      <td>2</td>\n",
       "    </tr>\n",
       "    <tr>\n",
       "      <th>1</th>\n",
       "      <td>time-1573253705_eve-2251049_name-FINCH</td>\n",
       "      <td>1</td>\n",
       "    </tr>\n",
       "    <tr>\n",
       "      <th>2</th>\n",
       "      <td>time-1573253707_eve-2251051_name-SORROWS</td>\n",
       "      <td>1</td>\n",
       "    </tr>\n",
       "    <tr>\n",
       "      <th>3</th>\n",
       "      <td>time-1573253710_eve-2251053_name-LION</td>\n",
       "      <td>3</td>\n",
       "    </tr>\n",
       "    <tr>\n",
       "      <th>4</th>\n",
       "      <td>time-1573253711_eve-2251054_name-DEADRICK</td>\n",
       "      <td>6</td>\n",
       "    </tr>\n",
       "    <tr>\n",
       "      <th>...</th>\n",
       "      <td>...</td>\n",
       "      <td>...</td>\n",
       "    </tr>\n",
       "    <tr>\n",
       "      <th>4141</th>\n",
       "      <td>time-1599447278_eve-3308179_name-MATSU</td>\n",
       "      <td>10</td>\n",
       "    </tr>\n",
       "    <tr>\n",
       "      <th>4142</th>\n",
       "      <td>time-1599449578_eve-3308247_name-YELLOW</td>\n",
       "      <td>2</td>\n",
       "    </tr>\n",
       "    <tr>\n",
       "      <th>4143</th>\n",
       "      <td>time-1599454213_eve-3308371_name-LUNA</td>\n",
       "      <td>6</td>\n",
       "    </tr>\n",
       "    <tr>\n",
       "      <th>4144</th>\n",
       "      <td>time-1599456178_eve-3308427_name-MORALES</td>\n",
       "      <td>2</td>\n",
       "    </tr>\n",
       "    <tr>\n",
       "      <th>4145</th>\n",
       "      <td>time-1599460982_eve-3308568_name-SOL</td>\n",
       "      <td>1</td>\n",
       "    </tr>\n",
       "  </tbody>\n",
       "</table>\n",
       "<p>4146 rows × 2 columns</p>\n",
       "</div>"
      ],
      "text/plain": [
       "                                          family  gen\n",
       "0     time-1573253679_eve-2251043_name-MCCRACKEN    2\n",
       "1         time-1573253705_eve-2251049_name-FINCH    1\n",
       "2       time-1573253707_eve-2251051_name-SORROWS    1\n",
       "3          time-1573253710_eve-2251053_name-LION    3\n",
       "4      time-1573253711_eve-2251054_name-DEADRICK    6\n",
       "...                                          ...  ...\n",
       "4141      time-1599447278_eve-3308179_name-MATSU   10\n",
       "4142     time-1599449578_eve-3308247_name-YELLOW    2\n",
       "4143       time-1599454213_eve-3308371_name-LUNA    6\n",
       "4144    time-1599456178_eve-3308427_name-MORALES    2\n",
       "4145        time-1599460982_eve-3308568_name-SOL    1\n",
       "\n",
       "[4146 rows x 2 columns]"
      ]
     },
     "execution_count": 42,
     "metadata": {},
     "output_type": "execute_result"
    }
   ],
   "source": [
    "n_gen = gen_data.groupby('family')['gen'].agg('max').reset_index()\n",
    "n_gen"
   ]
  },
  {
   "cell_type": "code",
   "execution_count": 50,
   "metadata": {},
   "outputs": [
    {
     "data": {
      "text/plain": [
       "[Text(0.5, 0, '# Generations'),\n",
       " [<matplotlib.axis.XTick at 0x2b54f9b28c50>,\n",
       "  <matplotlib.axis.XTick at 0x2b54f9b28828>,\n",
       "  <matplotlib.axis.XTick at 0x2b54f9b28470>],\n",
       " [Text(0, 0, '1'), Text(1, 0, '10'), Text(2, 0, '100')]]"
      ]
     },
     "execution_count": 50,
     "metadata": {},
     "output_type": "execute_result"
    },
    {
     "data": {
      "image/png": "[encoded data removed]",
      "text/plain": [
       "<Figure size 432x288 with 1 Axes>"
      ]
     },
     "metadata": {},
     "output_type": "display_data"
    }
   ],
   "source": [
    "ax = sns.distplot(np.log10(n_gen['gen']))\n",
    "ax.set(xlabel='# Generations', xticks = range(3), xticklabels=[10**i for i in range(3)])"
   ]
  },
  {
   "cell_type": "code",
   "execution_count": null,
   "metadata": {},
   "outputs": [
    {
     "ename": "ValueError",
     "evalue": "operands could not be broadcast together with shapes (4146,) (4014,) ",
     "output_type": "error",
     "traceback": [
      "\u001b[0;31m---------------------------------------------------------------------------\u001b[0m",
      "\u001b[0;31mValueError\u001b[0m                                Traceback (most recent call last)",
      "\u001b[0;32m<ipython-input-51-46aa28433f6b>\u001b[0m in \u001b[0;36m<module>\u001b[0;34m\u001b[0m\n\u001b[0;32m----> 1\u001b[0;31m \u001b[0msns\u001b[0m\u001b[0;34m.\u001b[0m\u001b[0mjointplot\u001b[0m\u001b[0;34m(\u001b[0m\u001b[0mnp\u001b[0m\u001b[0;34m.\u001b[0m\u001b[0mlog10\u001b[0m\u001b[0;34m(\u001b[0m\u001b[0mn_gen\u001b[0m\u001b[0;34m[\u001b[0m\u001b[0;34m'gen'\u001b[0m\u001b[0;34m]\u001b[0m\u001b[0;34m)\u001b[0m\u001b[0;34m,\u001b[0m \u001b[0mnp\u001b[0m\u001b[0;34m.\u001b[0m\u001b[0mlog10\u001b[0m\u001b[0;34m(\u001b[0m\u001b[0mn_discoveries\u001b[0m\u001b[0;34m[\u001b[0m\u001b[0;34m'count'\u001b[0m\u001b[0;34m]\u001b[0m\u001b[0;34m)\u001b[0m\u001b[0;34m)\u001b[0m\u001b[0;34m\u001b[0m\u001b[0;34m\u001b[0m\u001b[0m\n\u001b[0m",
      "\u001b[0;32m~/.conda/envs/py3/lib/python3.6/site-packages/seaborn/axisgrid.py\u001b[0m in \u001b[0;36mjointplot\u001b[0;34m(x, y, data, kind, stat_func, color, height, ratio, space, dropna, xlim, ylim, joint_kws, marginal_kws, annot_kws, **kwargs)\u001b[0m\n\u001b[1;32m   2281\u001b[0m     grid = JointGrid(x, y, data, dropna=dropna,\n\u001b[1;32m   2282\u001b[0m                      \u001b[0mheight\u001b[0m\u001b[0;34m=\u001b[0m\u001b[0mheight\u001b[0m\u001b[0;34m,\u001b[0m \u001b[0mratio\u001b[0m\u001b[0;34m=\u001b[0m\u001b[0mratio\u001b[0m\u001b[0;34m,\u001b[0m \u001b[0mspace\u001b[0m\u001b[0;34m=\u001b[0m\u001b[0mspace\u001b[0m\u001b[0;34m,\u001b[0m\u001b[0;34m\u001b[0m\u001b[0;34m\u001b[0m\u001b[0m\n\u001b[0;32m-> 2283\u001b[0;31m                      xlim=xlim, ylim=ylim)\n\u001b[0m\u001b[1;32m   2284\u001b[0m \u001b[0;34m\u001b[0m\u001b[0m\n\u001b[1;32m   2285\u001b[0m     \u001b[0;31m# Plot the data using the grid\u001b[0m\u001b[0;34m\u001b[0m\u001b[0;34m\u001b[0m\u001b[0;34m\u001b[0m\u001b[0m\n",
      "\u001b[0;32m~/.conda/envs/py3/lib/python3.6/site-packages/seaborn/axisgrid.py\u001b[0m in \u001b[0;36m__init__\u001b[0;34m(self, x, y, data, height, ratio, space, dropna, xlim, ylim, size)\u001b[0m\n\u001b[1;32m   1716\u001b[0m         \u001b[0;31m# Possibly drop NA\u001b[0m\u001b[0;34m\u001b[0m\u001b[0;34m\u001b[0m\u001b[0;34m\u001b[0m\u001b[0m\n\u001b[1;32m   1717\u001b[0m         \u001b[0;32mif\u001b[0m \u001b[0mdropna\u001b[0m\u001b[0;34m:\u001b[0m\u001b[0;34m\u001b[0m\u001b[0;34m\u001b[0m\u001b[0m\n\u001b[0;32m-> 1718\u001b[0;31m             \u001b[0mnot_na\u001b[0m \u001b[0;34m=\u001b[0m \u001b[0mpd\u001b[0m\u001b[0;34m.\u001b[0m\u001b[0mnotnull\u001b[0m\u001b[0;34m(\u001b[0m\u001b[0mx_array\u001b[0m\u001b[0;34m)\u001b[0m \u001b[0;34m&\u001b[0m \u001b[0mpd\u001b[0m\u001b[0;34m.\u001b[0m\u001b[0mnotnull\u001b[0m\u001b[0;34m(\u001b[0m\u001b[0my_array\u001b[0m\u001b[0;34m)\u001b[0m\u001b[0;34m\u001b[0m\u001b[0;34m\u001b[0m\u001b[0m\n\u001b[0m\u001b[1;32m   1719\u001b[0m             \u001b[0mx_array\u001b[0m \u001b[0;34m=\u001b[0m \u001b[0mx_array\u001b[0m\u001b[0;34m[\u001b[0m\u001b[0mnot_na\u001b[0m\u001b[0;34m]\u001b[0m\u001b[0;34m\u001b[0m\u001b[0;34m\u001b[0m\u001b[0m\n\u001b[1;32m   1720\u001b[0m             \u001b[0my_array\u001b[0m \u001b[0;34m=\u001b[0m \u001b[0my_array\u001b[0m\u001b[0;34m[\u001b[0m\u001b[0mnot_na\u001b[0m\u001b[0;34m]\u001b[0m\u001b[0;34m\u001b[0m\u001b[0;34m\u001b[0m\u001b[0m\n",
      "\u001b[0;31mValueError\u001b[0m: operands could not be broadcast together with shapes (4146,) (4014,) "
     ]
    }
   ],
   "source": [
    "sns.jointplot(np.log10(n_gen['gen']), np.log10(n_discoveries['count']))"
   ]
  },
  {
   "cell_type": "code",
   "execution_count": null,
   "metadata": {},
   "outputs": [],
   "source": []
  }
 ],
 "metadata": {
  "kernelspec": {
   "display_name": "Python [conda env:.conda-py3]",
   "language": "python",
   "name": "conda-env-.conda-py3-py"
  }
 },
 "nbformat": 4,
 "nbformat_minor": 2
}
