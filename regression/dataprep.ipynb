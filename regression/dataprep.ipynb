{
 "cells": [
  {
   "cell_type": "code",
   "execution_count": 28,
   "metadata": {
    "ExecuteTime": {
     "end_time": "2021-07-14T09:46:04.946361Z",
     "start_time": "2021-07-14T09:46:04.940482Z"
    }
   },
   "outputs": [],
   "source": [
    "import pymongo, os, bson, json, glob, pickle, gridfs, sys, argparse, pickle\n",
    "from collections import Counter\n",
    "from sklearn.preprocessing import normalize\n",
    "from random import sample\n",
    "import matplotlib.pyplot as plt\n",
    "import pandas as pd\n",
    "import numpy as np\n",
    "import scipy.stats as stats\n",
    "from scipy.sparse import csr_matrix, random\n",
    "from bson.binary import Binary\n",
    "from os.path import join as opj\n",
    "from sklearn.decomposition import NMF\n",
    "from sklearn.decomposition import PCA\n",
    "from sklearn import metrics\n",
    "from collections import OrderedDict\n",
    "from bson.son import SON\n",
    "from pprint import pprint\n",
    "\n",
    "#Import utilities\n",
    "sys.path.append(\"..\")\n",
    "import dbfind #db search tool\n",
    "import utils\n",
    "db = dbfind.db \n"
   ]
  },
  {
   "cell_type": "code",
   "execution_count": 20,
   "metadata": {
    "ExecuteTime": {
     "end_time": "2021-07-14T09:42:12.001784Z",
     "start_time": "2021-07-14T09:42:11.135021Z"
    }
   },
   "outputs": [
    {
     "name": "stdout",
     "output_type": "stream",
     "text": [
      "['tfidf_matrix.files', 'maplogs', 'item_embeddings', 'tech_tree', 'lifelogs', 'item_links_demo', 'objects', 'randomized_job_matrix.chunks', 'random_avatar_embeddings', 'expanded_transitions', 'avatar_embeddings', 'tfidf_matrix.chunks', 'transitions', 'activity_matrix.files', 'activity_matrix.chunks', 'cleaned_job_matrix.chunks', 'cleaned_job_matrix.files', 'item_interactions', 'nmf_validation', 'random_item_embeddings', 'activity_labels', 'categories', 'randomized_job_matrix.files']\n"
     ]
    }
   ],
   "source": [
    "print(db.list_collection_names())"
   ]
  },
  {
   "cell_type": "markdown",
   "metadata": {},
   "source": [
    "# Goal: create a DF with the following columns\n",
    "\n",
    "- Family\n",
    "- Time (hour intervals)\n",
    "- Target tech\n",
    "- Proximity to repertoire\n",
    "- Diversity\n",
    "- Developed? (y/n)\n"
   ]
  },
  {
   "cell_type": "markdown",
   "metadata": {},
   "source": [
    "# Construct family demographics"
   ]
  },
  {
   "cell_type": "code",
   "execution_count": 119,
   "metadata": {
    "ExecuteTime": {
     "end_time": "2021-07-14T10:19:31.423664Z",
     "start_time": "2021-07-14T10:16:24.975277Z"
    }
   },
   "outputs": [
    {
     "data": {
      "text/plain": [
       "55339"
      ]
     },
     "execution_count": 119,
     "metadata": {},
     "output_type": "execute_result"
    }
   ],
   "source": [
    "#create a list of all families (within range of avatar ids available in the jobmatrix)\n",
    "familyList = [x for x in db.lifelogs.find({'avatar':{'$gt':2276905, '$lt':4107654}}).distinct('family')] #slow\n",
    "len(familyList)"
   ]
  },
  {
   "cell_type": "code",
   "execution_count": 120,
   "metadata": {
    "ExecuteTime": {
     "end_time": "2021-07-14T10:19:41.557376Z",
     "start_time": "2021-07-14T10:19:41.553823Z"
    }
   },
   "outputs": [],
   "source": [
    "#DEBUG: subsample to 1000 families for testing\n",
    "familyList = sample(familyList,100)"
   ]
  },
  {
   "cell_type": "code",
   "execution_count": 121,
   "metadata": {
    "ExecuteTime": {
     "end_time": "2021-07-14T10:19:46.855579Z",
     "start_time": "2021-07-14T10:19:42.417880Z"
    }
   },
   "outputs": [],
   "source": [
    "#now aggregate into an ordered list \n",
    "famAgg = db.lifelogs.aggregate([{'$match':{'family':{\"$in\":familyList}}}, #This line can be removed if not subsampling\n",
    "                              {'$group':{'_id':'$family', 'count':{'$sum':1}}}, #Group by family and count the number of avatars\n",
    "                              {\"$sort\": SON([(\"count\", -1), (\"_id\", -1)])}]) #sort"
   ]
  },
  {
   "cell_type": "code",
   "execution_count": 122,
   "metadata": {
    "ExecuteTime": {
     "end_time": "2021-07-14T10:19:46.879131Z",
     "start_time": "2021-07-14T10:19:46.857494Z"
    }
   },
   "outputs": [
    {
     "name": "stdout",
     "output_type": "stream",
     "text": [
      "{'_id': 'time-1596110958_eve-3215639_name-(missing)', 'count': 1175}\n",
      "{'_id': 'time-1597353672_eve-3251667_name-PERSON', 'count': 561}\n",
      "{'_id': 'time-1602432145_eve-3439317_name-BURNS', 'count': 488}\n",
      "{'_id': 'time-1610485043_eve-3871285_name-KAWSKI', 'count': 378}\n",
      "{'_id': 'time-1605199499_eve-3528895_name-LOVE', 'count': 198}\n",
      "{'_id': 'time-1596149475_eve-3216925_name-US', 'count': 104}\n",
      "{'_id': 'time-1594958274_eve-3181492_name-PRIMA', 'count': 75}\n",
      "{'_id': 'time-1592495380_eve-3085648_name-SHARPES', 'count': 64}\n",
      "{'_id': 'time-1600739279_eve-3363147_name-INFIELD', 'count': 11}\n",
      "{'_id': 'time-1593291645_eve-3114126_name-(missing)', 'count': 9}\n",
      "{'_id': 'time-1593282327_eve-3112938_name-(missing)', 'count': 4}\n",
      "{'_id': 'time-1611221137_eve-3900056_name-TREE', 'count': 3}\n",
      "{'_id': 'time-1600646023_eve-3352706_name-(missing)', 'count': 3}\n",
      "{'_id': 'time-1593282237_eve-3112922_name-(missing)', 'count': 3}\n",
      "{'_id': 'time-1593257982_eve-3110542_name-(missing)', 'count': 3}\n",
      "{'_id': 'time-1587149601_eve-2903025_name-(missing)', 'count': 3}\n",
      "{'_id': 'time-1600571684_eve-3342173_name-(missing)', 'count': 2}\n",
      "{'_id': 'time-1593278738_eve-3112454_name-(missing)', 'count': 2}\n",
      "{'_id': 'time-1593275553_eve-3111966_name-(missing)', 'count': 2}\n",
      "{'_id': 'time-1591016606_eve-3040493_name-(missing)', 'count': 2}\n",
      "{'_id': 'time-1615689315_eve-4051704_name-(missing)', 'count': 1}\n",
      "{'_id': 'time-1614863706_eve-4027308_name-(missing)', 'count': 1}\n",
      "{'_id': 'time-1614467956_eve-4015923_name-(missing)', 'count': 1}\n",
      "{'_id': 'time-1613238051_eve-3973183_name-PENISTEN', 'count': 1}\n",
      "{'_id': 'time-1613203622_eve-3971728_name-(missing)', 'count': 1}\n",
      "{'_id': 'time-1612541217_eve-3948091_name-(missing)', 'count': 1}\n",
      "{'_id': 'time-1612269264_eve-3939484_name-(missing)', 'count': 1}\n",
      "{'_id': 'time-1612194080_eve-3937043_name-(missing)', 'count': 1}\n",
      "{'_id': 'time-1611765847_eve-3920678_name-(missing)', 'count': 1}\n",
      "{'_id': 'time-1610303263_eve-3862790_name-(missing)', 'count': 1}\n",
      "{'_id': 'time-1610290970_eve-3862153_name-(missing)', 'count': 1}\n",
      "{'_id': 'time-1610056924_eve-3851011_name-(missing)', 'count': 1}\n",
      "{'_id': 'time-1609966628_eve-3846273_name-(missing)', 'count': 1}\n",
      "{'_id': 'time-1609398778_eve-3806995_name-GAY', 'count': 1}\n",
      "{'_id': 'time-1608509106_eve-3731646_name-(missing)', 'count': 1}\n",
      "{'_id': 'time-1608507552_eve-3731522_name-(missing)', 'count': 1}\n",
      "{'_id': 'time-1608163270_eve-3713270_name-(missing)', 'count': 1}\n",
      "{'_id': 'time-1607945334_eve-3702521_name-(missing)', 'count': 1}\n",
      "{'_id': 'time-1607844818_eve-3696694_name-(missing)', 'count': 1}\n",
      "{'_id': 'time-1607403828_eve-3672737_name-(missing)', 'count': 1}\n",
      "{'_id': 'time-1607300678_eve-3664985_name-(missing)', 'count': 1}\n",
      "{'_id': 'time-1606528939_eve-3568530_name-(missing)', 'count': 1}\n",
      "{'_id': 'time-1606472747_eve-3565691_name-SCHISSLER', 'count': 1}\n",
      "{'_id': 'time-1605634288_eve-3540978_name-(missing)', 'count': 1}\n",
      "{'_id': 'time-1604803539_eve-3516618_name-LILAC', 'count': 1}\n",
      "{'_id': 'time-1604364600_eve-3502269_name-(missing)', 'count': 1}\n",
      "{'_id': 'time-1604106088_eve-3490137_name-FREE', 'count': 1}\n",
      "{'_id': 'time-1602010002_eve-3424785_name-(missing)', 'count': 1}\n",
      "{'_id': 'time-1601337189_eve-3399274_name-(missing)', 'count': 1}\n",
      "{'_id': 'time-1599460742_eve-3308563_name-(missing)', 'count': 1}\n",
      "{'_id': 'time-1598734586_eve-3288876_name-(missing)', 'count': 1}\n",
      "{'_id': 'time-1597555964_eve-3256244_name-WETZEL', 'count': 1}\n",
      "{'_id': 'time-1596936368_eve-3240708_name-CHICKERING', 'count': 1}\n",
      "{'_id': 'time-1596766765_eve-3236575_name-(missing)', 'count': 1}\n",
      "{'_id': 'time-1595118302_eve-3186535_name-(missing)', 'count': 1}\n",
      "{'_id': 'time-1593184292_eve-3106684_name-(missing)', 'count': 1}\n",
      "{'_id': 'time-1592038473_eve-3072112_name-GONES', 'count': 1}\n",
      "{'_id': 'time-1591747686_eve-3062835_name-(missing)', 'count': 1}\n",
      "{'_id': 'time-1591640557_eve-3059480_name-(missing)', 'count': 1}\n",
      "{'_id': 'time-1590037826_eve-3012830_name-(missing)', 'count': 1}\n",
      "{'_id': 'time-1589840057_eve-3008030_name-(missing)', 'count': 1}\n",
      "{'_id': 'time-1589835626_eve-3007871_name-(missing)', 'count': 1}\n",
      "{'_id': 'time-1589719002_eve-3004275_name-ROPE', 'count': 1}\n",
      "{'_id': 'time-1589624823_eve-3001446_name-(missing)', 'count': 1}\n",
      "{'_id': 'time-1589190062_eve-2986548_name-(missing)', 'count': 1}\n",
      "{'_id': 'time-1588448751_eve-2959619_name-SUCKLING', 'count': 1}\n",
      "{'_id': 'time-1588391022_eve-2957499_name-(missing)', 'count': 1}\n",
      "{'_id': 'time-1588077118_eve-2945054_name-(missing)', 'count': 1}\n",
      "{'_id': 'time-1587789544_eve-2933846_name-(missing)', 'count': 1}\n",
      "{'_id': 'time-1587766041_eve-2932688_name-REY', 'count': 1}\n",
      "{'_id': 'time-1587671035_eve-2927766_name-(missing)', 'count': 1}\n",
      "{'_id': 'time-1587667574_eve-2927501_name-(missing)', 'count': 1}\n",
      "{'_id': 'time-1587641494_eve-2926624_name-(missing)', 'count': 1}\n",
      "{'_id': 'time-1587611395_eve-2925459_name-(missing)', 'count': 1}\n",
      "{'_id': 'time-1587398075_eve-2916111_name-(missing)', 'count': 1}\n",
      "{'_id': 'time-1587233663_eve-2908511_name-NOT', 'count': 1}\n",
      "{'_id': 'time-1587210582_eve-2907359_name-TINA', 'count': 1}\n",
      "{'_id': 'time-1587132066_eve-2901797_name-(missing)', 'count': 1}\n",
      "{'_id': 'time-1587021765_eve-2895501_name-(missing)', 'count': 1}\n",
      "{'_id': 'time-1586565638_eve-2874328_name-DICK', 'count': 1}\n",
      "{'_id': 'time-1586492733_eve-2872287_name-(missing)', 'count': 1}\n",
      "{'_id': 'time-1586393729_eve-2868936_name-GALOWNIA', 'count': 1}\n",
      "{'_id': 'time-1586290676_eve-2865155_name-DA', 'count': 1}\n",
      "{'_id': 'time-1586019082_eve-2855170_name-STUCK', 'count': 1}\n",
      "{'_id': 'time-1585951926_eve-2852503_name-(missing)', 'count': 1}\n",
      "{'_id': 'time-1585925889_eve-2851357_name-(missing)', 'count': 1}\n",
      "{'_id': 'time-1585812798_eve-2847543_name-(missing)', 'count': 1}\n",
      "{'_id': 'time-1585449157_eve-2833573_name-(missing)', 'count': 1}\n",
      "{'_id': 'time-1585388625_eve-2830362_name-(missing)', 'count': 1}\n",
      "{'_id': 'time-1585147352_eve-2822232_name-(missing)', 'count': 1}\n",
      "{'_id': 'time-1582992828_eve-2743475_name-GO', 'count': 1}\n",
      "{'_id': 'time-1582561587_eve-2730404_name-(missing)', 'count': 1}\n",
      "{'_id': 'time-1582336690_eve-2721448_name-(missing)', 'count': 1}\n",
      "{'_id': 'time-1581831192_eve-2700542_name-ROCK', 'count': 1}\n",
      "{'_id': 'time-1581772327_eve-2697397_name-(missing)', 'count': 1}\n",
      "{'_id': 'time-1581717854_eve-2695140_name-(missing)', 'count': 1}\n",
      "{'_id': 'time-1581699317_eve-2694368_name-(missing)', 'count': 1}\n",
      "{'_id': 'time-1577737849_eve-2495486_name-(missing)', 'count': 1}\n",
      "{'_id': 'time-1575241384_eve-2360491_name-(missing)', 'count': 1}\n",
      "{'_id': 'time-1575107023_eve-2352617_name-(missing)', 'count': 1}\n"
     ]
    },
    {
     "data": {
      "text/plain": [
       "{'time-1596110958_eve-3215639_name-(missing)': 1175,\n",
       " 'time-1597353672_eve-3251667_name-PERSON': 561,\n",
       " 'time-1602432145_eve-3439317_name-BURNS': 488,\n",
       " 'time-1610485043_eve-3871285_name-KAWSKI': 378,\n",
       " 'time-1605199499_eve-3528895_name-LOVE': 198,\n",
       " 'time-1596149475_eve-3216925_name-US': 104,\n",
       " 'time-1594958274_eve-3181492_name-PRIMA': 75,\n",
       " 'time-1592495380_eve-3085648_name-SHARPES': 64,\n",
       " 'time-1600739279_eve-3363147_name-INFIELD': 11,\n",
       " 'time-1593291645_eve-3114126_name-(missing)': 9,\n",
       " 'time-1593282327_eve-3112938_name-(missing)': 4,\n",
       " 'time-1611221137_eve-3900056_name-TREE': 3,\n",
       " 'time-1600646023_eve-3352706_name-(missing)': 3,\n",
       " 'time-1593282237_eve-3112922_name-(missing)': 3,\n",
       " 'time-1593257982_eve-3110542_name-(missing)': 3,\n",
       " 'time-1587149601_eve-2903025_name-(missing)': 3,\n",
       " 'time-1600571684_eve-3342173_name-(missing)': 2,\n",
       " 'time-1593278738_eve-3112454_name-(missing)': 2,\n",
       " 'time-1593275553_eve-3111966_name-(missing)': 2,\n",
       " 'time-1591016606_eve-3040493_name-(missing)': 2,\n",
       " 'time-1615689315_eve-4051704_name-(missing)': 1,\n",
       " 'time-1614863706_eve-4027308_name-(missing)': 1,\n",
       " 'time-1614467956_eve-4015923_name-(missing)': 1,\n",
       " 'time-1613238051_eve-3973183_name-PENISTEN': 1,\n",
       " 'time-1613203622_eve-3971728_name-(missing)': 1,\n",
       " 'time-1612541217_eve-3948091_name-(missing)': 1,\n",
       " 'time-1612269264_eve-3939484_name-(missing)': 1,\n",
       " 'time-1612194080_eve-3937043_name-(missing)': 1,\n",
       " 'time-1611765847_eve-3920678_name-(missing)': 1,\n",
       " 'time-1610303263_eve-3862790_name-(missing)': 1,\n",
       " 'time-1610290970_eve-3862153_name-(missing)': 1,\n",
       " 'time-1610056924_eve-3851011_name-(missing)': 1,\n",
       " 'time-1609966628_eve-3846273_name-(missing)': 1,\n",
       " 'time-1609398778_eve-3806995_name-GAY': 1,\n",
       " 'time-1608509106_eve-3731646_name-(missing)': 1,\n",
       " 'time-1608507552_eve-3731522_name-(missing)': 1,\n",
       " 'time-1608163270_eve-3713270_name-(missing)': 1,\n",
       " 'time-1607945334_eve-3702521_name-(missing)': 1,\n",
       " 'time-1607844818_eve-3696694_name-(missing)': 1,\n",
       " 'time-1607403828_eve-3672737_name-(missing)': 1,\n",
       " 'time-1607300678_eve-3664985_name-(missing)': 1,\n",
       " 'time-1606528939_eve-3568530_name-(missing)': 1,\n",
       " 'time-1606472747_eve-3565691_name-SCHISSLER': 1,\n",
       " 'time-1605634288_eve-3540978_name-(missing)': 1,\n",
       " 'time-1604803539_eve-3516618_name-LILAC': 1,\n",
       " 'time-1604364600_eve-3502269_name-(missing)': 1,\n",
       " 'time-1604106088_eve-3490137_name-FREE': 1,\n",
       " 'time-1602010002_eve-3424785_name-(missing)': 1,\n",
       " 'time-1601337189_eve-3399274_name-(missing)': 1,\n",
       " 'time-1599460742_eve-3308563_name-(missing)': 1,\n",
       " 'time-1598734586_eve-3288876_name-(missing)': 1,\n",
       " 'time-1597555964_eve-3256244_name-WETZEL': 1,\n",
       " 'time-1596936368_eve-3240708_name-CHICKERING': 1,\n",
       " 'time-1596766765_eve-3236575_name-(missing)': 1,\n",
       " 'time-1595118302_eve-3186535_name-(missing)': 1,\n",
       " 'time-1593184292_eve-3106684_name-(missing)': 1,\n",
       " 'time-1592038473_eve-3072112_name-GONES': 1,\n",
       " 'time-1591747686_eve-3062835_name-(missing)': 1,\n",
       " 'time-1591640557_eve-3059480_name-(missing)': 1,\n",
       " 'time-1590037826_eve-3012830_name-(missing)': 1,\n",
       " 'time-1589840057_eve-3008030_name-(missing)': 1,\n",
       " 'time-1589835626_eve-3007871_name-(missing)': 1,\n",
       " 'time-1589719002_eve-3004275_name-ROPE': 1,\n",
       " 'time-1589624823_eve-3001446_name-(missing)': 1,\n",
       " 'time-1589190062_eve-2986548_name-(missing)': 1,\n",
       " 'time-1588448751_eve-2959619_name-SUCKLING': 1,\n",
       " 'time-1588391022_eve-2957499_name-(missing)': 1,\n",
       " 'time-1588077118_eve-2945054_name-(missing)': 1,\n",
       " 'time-1587789544_eve-2933846_name-(missing)': 1,\n",
       " 'time-1587766041_eve-2932688_name-REY': 1,\n",
       " 'time-1587671035_eve-2927766_name-(missing)': 1,\n",
       " 'time-1587667574_eve-2927501_name-(missing)': 1,\n",
       " 'time-1587641494_eve-2926624_name-(missing)': 1,\n",
       " 'time-1587611395_eve-2925459_name-(missing)': 1,\n",
       " 'time-1587398075_eve-2916111_name-(missing)': 1,\n",
       " 'time-1587233663_eve-2908511_name-NOT': 1,\n",
       " 'time-1587210582_eve-2907359_name-TINA': 1,\n",
       " 'time-1587132066_eve-2901797_name-(missing)': 1,\n",
       " 'time-1587021765_eve-2895501_name-(missing)': 1,\n",
       " 'time-1586565638_eve-2874328_name-DICK': 1,\n",
       " 'time-1586492733_eve-2872287_name-(missing)': 1,\n",
       " 'time-1586393729_eve-2868936_name-GALOWNIA': 1,\n",
       " 'time-1586290676_eve-2865155_name-DA': 1,\n",
       " 'time-1586019082_eve-2855170_name-STUCK': 1,\n",
       " 'time-1585951926_eve-2852503_name-(missing)': 1,\n",
       " 'time-1585925889_eve-2851357_name-(missing)': 1,\n",
       " 'time-1585812798_eve-2847543_name-(missing)': 1,\n",
       " 'time-1585449157_eve-2833573_name-(missing)': 1,\n",
       " 'time-1585388625_eve-2830362_name-(missing)': 1,\n",
       " 'time-1585147352_eve-2822232_name-(missing)': 1,\n",
       " 'time-1582992828_eve-2743475_name-GO': 1,\n",
       " 'time-1582561587_eve-2730404_name-(missing)': 1,\n",
       " 'time-1582336690_eve-2721448_name-(missing)': 1,\n",
       " 'time-1581831192_eve-2700542_name-ROCK': 1,\n",
       " 'time-1581772327_eve-2697397_name-(missing)': 1,\n",
       " 'time-1581717854_eve-2695140_name-(missing)': 1,\n",
       " 'time-1581699317_eve-2694368_name-(missing)': 1,\n",
       " 'time-1577737849_eve-2495486_name-(missing)': 1,\n",
       " 'time-1575241384_eve-2360491_name-(missing)': 1,\n",
       " 'time-1575107023_eve-2352617_name-(missing)': 1}"
      ]
     },
     "execution_count": 122,
     "metadata": {},
     "output_type": "execute_result"
    }
   ],
   "source": [
    "famDict ={}\n",
    "for q in famAgg:\n",
    "    print(q)\n",
    "    famDict[q['_id']] = q['count']\n",
    "famDict"
   ]
  },
  {
   "cell_type": "markdown",
   "metadata": {},
   "source": [
    "# Diversity"
   ]
  },
  {
   "cell_type": "code",
   "execution_count": 137,
   "metadata": {
    "ExecuteTime": {
     "end_time": "2021-07-14T10:23:04.955911Z",
     "start_time": "2021-07-14T10:23:04.612747Z"
    }
   },
   "outputs": [
    {
     "data": {
      "text/plain": [
       "[]"
      ]
     },
     "execution_count": 137,
     "metadata": {},
     "output_type": "execute_result"
    }
   ],
   "source": [
    "#test using a single family\n",
    "fam =list(famDict.keys())[5]\n",
    "avatarIds = [x[0] for x in dbfind.avatar(fam, target='family', fields = ['avatar'])]\n",
    "dbfind.avatarVec(avatarIds)"
   ]
  },
  {
   "cell_type": "code",
   "execution_count": 138,
   "metadata": {
    "ExecuteTime": {
     "end_time": "2021-07-14T10:23:09.130958Z",
     "start_time": "2021-07-14T10:23:09.126704Z"
    }
   },
   "outputs": [
    {
     "data": {
      "text/plain": [
       "[3217743,\n",
       " 3217723,\n",
       " 3217717,\n",
       " 3217713,\n",
       " 3217689,\n",
       " 3217686,\n",
       " 3217671,\n",
       " 3217667,\n",
       " 3217656,\n",
       " 3217646,\n",
       " 3217630,\n",
       " 3217608,\n",
       " 3217598,\n",
       " 3217596,\n",
       " 3217578,\n",
       " 3217572,\n",
       " 3217570,\n",
       " 3217566,\n",
       " 3217565,\n",
       " 3217559,\n",
       " 3217557,\n",
       " 3217553,\n",
       " 3217545,\n",
       " 3217542,\n",
       " 3217533,\n",
       " 3217527,\n",
       " 3217522,\n",
       " 3217514,\n",
       " 3217506,\n",
       " 3217493,\n",
       " 3217486,\n",
       " 3217483,\n",
       " 3217478,\n",
       " 3217462,\n",
       " 3217440,\n",
       " 3217393,\n",
       " 3217383,\n",
       " 3217360,\n",
       " 3217346,\n",
       " 3217345,\n",
       " 3217338,\n",
       " 3217335,\n",
       " 3217327,\n",
       " 3217322,\n",
       " 3217318,\n",
       " 3217317,\n",
       " 3217305,\n",
       " 3217302,\n",
       " 3217299,\n",
       " 3217295,\n",
       " 3217294,\n",
       " 3217293,\n",
       " 3217291,\n",
       " 3217278,\n",
       " 3217273,\n",
       " 3217268,\n",
       " 3217264,\n",
       " 3217260,\n",
       " 3217259,\n",
       " 3217256,\n",
       " 3217253,\n",
       " 3217245,\n",
       " 3217244,\n",
       " 3217205,\n",
       " 3217202,\n",
       " 3217171,\n",
       " 3217165,\n",
       " 3217150,\n",
       " 3217147,\n",
       " 3217146,\n",
       " 3217142,\n",
       " 3217140,\n",
       " 3217132,\n",
       " 3217131,\n",
       " 3217127,\n",
       " 3217126,\n",
       " 3217118,\n",
       " 3217113,\n",
       " 3217110,\n",
       " 3217102,\n",
       " 3217097,\n",
       " 3217087,\n",
       " 3217085,\n",
       " 3217084,\n",
       " 3217083,\n",
       " 3217080,\n",
       " 3217073,\n",
       " 3217072,\n",
       " 3217068,\n",
       " 3217058,\n",
       " 3217043,\n",
       " 3217040,\n",
       " 3217039,\n",
       " 3217035,\n",
       " 3217033,\n",
       " 3217013,\n",
       " 3216997,\n",
       " 3216968,\n",
       " 3216962,\n",
       " 3216960,\n",
       " 3216959,\n",
       " 3216951,\n",
       " 3216926,\n",
       " 3216925]"
      ]
     },
     "execution_count": 138,
     "metadata": {},
     "output_type": "execute_result"
    }
   ],
   "source": [
    "avatarIds"
   ]
  },
  {
   "cell_type": "code",
   "execution_count": 139,
   "metadata": {
    "ExecuteTime": {
     "end_time": "2021-07-14T10:26:35.909153Z",
     "start_time": "2021-07-14T10:26:13.648083Z"
    }
   },
   "outputs": [
    {
     "name": "stderr",
     "output_type": "stream",
     "text": [
      "/opt/anaconda3/lib/python3.7/site-packages/numpy/core/fromnumeric.py:3257: RuntimeWarning: Mean of empty slice.\n",
      "  out=out, **kwargs)\n",
      "/opt/anaconda3/lib/python3.7/site-packages/numpy/core/_methods.py:161: RuntimeWarning: invalid value encountered in double_scalars\n",
      "  ret = ret.dtype.type(ret / rcount)\n"
     ]
    }
   ],
   "source": [
    "#Compute diversity for each family\n",
    "diversityDict = {}\n",
    "for fam in famDict.keys():\n",
    "    avatarIds = [x[0] for x in dbfind.avatar(fam, target='family', fields = ['avatar'])]\n",
    "    avatarVec = dbfind.avatarVec(avatarIds) #TODO: convert to array\n",
    "    #TODO normalize each avatar Vec\n",
    "    meanVec = np.mean(avatarVec, axis=0) #Check that the axis direction is correct\n",
    "    diversity = []\n",
    "    for (avatar in 1:len(avatarIds)):\n",
    "        diversity.append(np.abs(avatarVec[avatar] - meanVec)) #Krugman specialization\n",
    "    diversityDict[fam] = np.mean(diversity)"
   ]
  },
  {
   "cell_type": "code",
   "execution_count": null,
   "metadata": {},
   "outputs": [],
   "source": []
  }
 ],
 "metadata": {
  "kernelspec": {
   "display_name": "Python 3",
   "language": "python",
   "name": "python3"
  },
  "language_info": {
   "codemirror_mode": {
    "name": "ipython",
    "version": 3
   },
   "file_extension": ".py",
   "mimetype": "text/x-python",
   "name": "python",
   "nbconvert_exporter": "python",
   "pygments_lexer": "ipython3",
   "version": "3.7.4"
  },
  "toc": {
   "base_numbering": 1,
   "nav_menu": {},
   "number_sections": true,
   "sideBar": true,
   "skip_h1_title": false,
   "title_cell": "Table of Contents",
   "title_sidebar": "Contents",
   "toc_cell": false,
   "toc_position": {},
   "toc_section_display": true,
   "toc_window_display": false
  }
 },
 "nbformat": 4,
 "nbformat_minor": 2
}
