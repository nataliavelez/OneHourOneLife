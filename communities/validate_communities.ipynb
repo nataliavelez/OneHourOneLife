{
 "cells": [
  {
   "cell_type": "markdown",
   "id": "6da692a3",
   "metadata": {},
   "source": [
    "# Validate operationalization of 'communities'\n",
    "Natalia Velez, May 2021"
   ]
  },
  {
   "cell_type": "code",
   "execution_count": 21,
   "id": "364211a1",
   "metadata": {},
   "outputs": [],
   "source": [
    "%matplotlib inline\n",
    "\n",
    "import math, json, pymongo, os\n",
    "import pandas as pd\n",
    "import numpy as np\n",
    "import networkx as nx\n",
    "import matplotlib.pyplot as plt\n",
    "import seaborn as sns\n",
    "\n",
    "import sys\n",
    "sys.path.append('..')\n",
    "from utils import int_extract, gsearch\n",
    "\n",
    "sns.set_style('white')\n",
    "sns.set_context('talk')"
   ]
  },
  {
   "cell_type": "markdown",
   "id": "40b26e57",
   "metadata": {},
   "source": [
    "## 1) Spatial proximity"
   ]
  },
  {
   "cell_type": "markdown",
   "id": "18b3a5b8",
   "metadata": {},
   "source": [
    "Load lifelogs:"
   ]
  },
  {
   "cell_type": "code",
   "execution_count": 41,
   "id": "8004b420",
   "metadata": {},
   "outputs": [
    {
     "name": "stdout",
     "output_type": "stream",
     "text": [
      "Before exclusions:\n",
      "(3834737, 16)\n",
      "After exclusions:\n",
      "(2507311, 16)\n"
     ]
    },
    {
     "data": {
      "text/html": [
       "<div>\n",
       "<style scoped>\n",
       "    .dataframe tbody tr th:only-of-type {\n",
       "        vertical-align: middle;\n",
       "    }\n",
       "\n",
       "    .dataframe tbody tr th {\n",
       "        vertical-align: top;\n",
       "    }\n",
       "\n",
       "    .dataframe thead th {\n",
       "        text-align: right;\n",
       "    }\n",
       "</style>\n",
       "<table border=\"1\" class=\"dataframe\">\n",
       "  <thead>\n",
       "    <tr style=\"text-align: right;\">\n",
       "      <th></th>\n",
       "      <th>player</th>\n",
       "      <th>avatar</th>\n",
       "      <th>tBirth</th>\n",
       "      <th>parent</th>\n",
       "      <th>birth</th>\n",
       "      <th>sex</th>\n",
       "      <th>tDeath</th>\n",
       "      <th>death</th>\n",
       "      <th>age</th>\n",
       "      <th>cause_of_death</th>\n",
       "      <th>birthX</th>\n",
       "      <th>birthY</th>\n",
       "      <th>deathX</th>\n",
       "      <th>deathY</th>\n",
       "      <th>first</th>\n",
       "      <th>last</th>\n",
       "    </tr>\n",
       "  </thead>\n",
       "  <tbody>\n",
       "    <tr>\n",
       "      <th>4</th>\n",
       "      <td>3da17539b16d6fe6911aefc57388bae9d1303e22</td>\n",
       "      <td>4109233</td>\n",
       "      <td>1617695734</td>\n",
       "      <td>4109211</td>\n",
       "      <td>[-16219    -46]</td>\n",
       "      <td>M</td>\n",
       "      <td>1.617696e+09</td>\n",
       "      <td>[-16354   -121]</td>\n",
       "      <td>2.61</td>\n",
       "      <td>hunger</td>\n",
       "      <td>-16219</td>\n",
       "      <td>-46</td>\n",
       "      <td>-16354.0</td>\n",
       "      <td>-121.0</td>\n",
       "      <td>NaN</td>\n",
       "      <td>NaN</td>\n",
       "    </tr>\n",
       "    <tr>\n",
       "      <th>16</th>\n",
       "      <td>a7c23d2f8fbe5e08ed6ca4b42e999bfea32c297d</td>\n",
       "      <td>4109221</td>\n",
       "      <td>1617695102</td>\n",
       "      <td>4109165</td>\n",
       "      <td>[-15496    364]</td>\n",
       "      <td>F</td>\n",
       "      <td>1.617695e+09</td>\n",
       "      <td>[-15524    345]</td>\n",
       "      <td>5.11</td>\n",
       "      <td>hunger</td>\n",
       "      <td>-15496</td>\n",
       "      <td>364</td>\n",
       "      <td>-15524.0</td>\n",
       "      <td>345.0</td>\n",
       "      <td>NaN</td>\n",
       "      <td>NaN</td>\n",
       "    </tr>\n",
       "    <tr>\n",
       "      <th>17</th>\n",
       "      <td>5cbdde910e8de499560018c5d432875a9111e288</td>\n",
       "      <td>4109220</td>\n",
       "      <td>1617695053</td>\n",
       "      <td>4109166</td>\n",
       "      <td>[-15497    362]</td>\n",
       "      <td>M</td>\n",
       "      <td>1.617696e+09</td>\n",
       "      <td>[-15595    625]</td>\n",
       "      <td>10.58</td>\n",
       "      <td>hunger</td>\n",
       "      <td>-15497</td>\n",
       "      <td>362</td>\n",
       "      <td>-15595.0</td>\n",
       "      <td>625.0</td>\n",
       "      <td>NaN</td>\n",
       "      <td>NaN</td>\n",
       "    </tr>\n",
       "    <tr>\n",
       "      <th>20</th>\n",
       "      <td>f713599e2e913dac42bf6a30f5493a6d131ec9aa</td>\n",
       "      <td>4109216</td>\n",
       "      <td>1617694951</td>\n",
       "      <td>4109157</td>\n",
       "      <td>[-16099    360]</td>\n",
       "      <td>M</td>\n",
       "      <td>1.617695e+09</td>\n",
       "      <td>[-16083    281]</td>\n",
       "      <td>1.43</td>\n",
       "      <td>hunger</td>\n",
       "      <td>-16099</td>\n",
       "      <td>360</td>\n",
       "      <td>-16083.0</td>\n",
       "      <td>281.0</td>\n",
       "      <td>NaN</td>\n",
       "      <td>NaN</td>\n",
       "    </tr>\n",
       "    <tr>\n",
       "      <th>23</th>\n",
       "      <td>1d5731ef2943bd073c5f74f7b0ddce88c01ff43d</td>\n",
       "      <td>4109213</td>\n",
       "      <td>1617694903</td>\n",
       "      <td>4109169</td>\n",
       "      <td>[-16099    360]</td>\n",
       "      <td>M</td>\n",
       "      <td>1.617695e+09</td>\n",
       "      <td>[-16098    360]</td>\n",
       "      <td>0.57</td>\n",
       "      <td>hunger</td>\n",
       "      <td>-16099</td>\n",
       "      <td>360</td>\n",
       "      <td>-16098.0</td>\n",
       "      <td>360.0</td>\n",
       "      <td>NaN</td>\n",
       "      <td>NaN</td>\n",
       "    </tr>\n",
       "  </tbody>\n",
       "</table>\n",
       "</div>"
      ],
      "text/plain": [
       "                                      player   avatar      tBirth   parent  \\\n",
       "4   3da17539b16d6fe6911aefc57388bae9d1303e22  4109233  1617695734  4109211   \n",
       "16  a7c23d2f8fbe5e08ed6ca4b42e999bfea32c297d  4109221  1617695102  4109165   \n",
       "17  5cbdde910e8de499560018c5d432875a9111e288  4109220  1617695053  4109166   \n",
       "20  f713599e2e913dac42bf6a30f5493a6d131ec9aa  4109216  1617694951  4109157   \n",
       "23  1d5731ef2943bd073c5f74f7b0ddce88c01ff43d  4109213  1617694903  4109169   \n",
       "\n",
       "              birth sex        tDeath            death    age cause_of_death  \\\n",
       "4   [-16219    -46]   M  1.617696e+09  [-16354   -121]   2.61         hunger   \n",
       "16  [-15496    364]   F  1.617695e+09  [-15524    345]   5.11         hunger   \n",
       "17  [-15497    362]   M  1.617696e+09  [-15595    625]  10.58         hunger   \n",
       "20  [-16099    360]   M  1.617695e+09  [-16083    281]   1.43         hunger   \n",
       "23  [-16099    360]   M  1.617695e+09  [-16098    360]   0.57         hunger   \n",
       "\n",
       "    birthX  birthY   deathX  deathY first last  \n",
       "4   -16219     -46 -16354.0  -121.0   NaN  NaN  \n",
       "16  -15496     364 -15524.0   345.0   NaN  NaN  \n",
       "17  -15497     362 -15595.0   625.0   NaN  NaN  \n",
       "20  -16099     360 -16083.0   281.0   NaN  NaN  \n",
       "23  -16099     360 -16098.0   360.0   NaN  NaN  "
      ]
     },
     "execution_count": 41,
     "metadata": {},
     "output_type": "execute_result"
    }
   ],
   "source": [
    "life_df = pd.read_csv('../2_demographics/outputs/all_lifelogs_compact.csv')\n",
    "print('Before exclusions:')\n",
    "print(life_df.shape)\n",
    "\n",
    "life_df = life_df[(np.isfinite(life_df.age)) & (life_df.cause_of_death != 'disconnect')]\n",
    "print('After exclusions:')\n",
    "print(life_df.shape)\n",
    "life_df.head()"
   ]
  },
  {
   "cell_type": "markdown",
   "id": "189ea91b",
   "metadata": {},
   "source": [
    "Load generational data:"
   ]
  },
  {
   "cell_type": "code",
   "execution_count": 42,
   "id": "e550ee0b",
   "metadata": {},
   "outputs": [
    {
     "name": "stdout",
     "output_type": "stream",
     "text": [
      "Before exclusions:\n",
      "(3834737, 3)\n",
      "After exclusions:\n",
      "(3736303, 3)\n"
     ]
    },
    {
     "data": {
      "text/html": [
       "<div>\n",
       "<style scoped>\n",
       "    .dataframe tbody tr th:only-of-type {\n",
       "        vertical-align: middle;\n",
       "    }\n",
       "\n",
       "    .dataframe tbody tr th {\n",
       "        vertical-align: top;\n",
       "    }\n",
       "\n",
       "    .dataframe thead th {\n",
       "        text-align: right;\n",
       "    }\n",
       "</style>\n",
       "<table border=\"1\" class=\"dataframe\">\n",
       "  <thead>\n",
       "    <tr style=\"text-align: right;\">\n",
       "      <th></th>\n",
       "      <th>family</th>\n",
       "      <th>avatar</th>\n",
       "      <th>gen</th>\n",
       "      <th>gen_bin</th>\n",
       "    </tr>\n",
       "  </thead>\n",
       "  <tbody>\n",
       "    <tr>\n",
       "      <th>1</th>\n",
       "      <td>time-1548814222_eve-3_name-PEPPLER</td>\n",
       "      <td>3</td>\n",
       "      <td>0</td>\n",
       "      <td>0</td>\n",
       "    </tr>\n",
       "    <tr>\n",
       "      <th>2</th>\n",
       "      <td>time-1548814222_eve-3_name-PEPPLER</td>\n",
       "      <td>72</td>\n",
       "      <td>1</td>\n",
       "      <td>0</td>\n",
       "    </tr>\n",
       "    <tr>\n",
       "      <th>3</th>\n",
       "      <td>time-1548814222_eve-3_name-PEPPLER</td>\n",
       "      <td>38</td>\n",
       "      <td>1</td>\n",
       "      <td>0</td>\n",
       "    </tr>\n",
       "    <tr>\n",
       "      <th>4</th>\n",
       "      <td>time-1548814222_eve-3_name-PEPPLER</td>\n",
       "      <td>4</td>\n",
       "      <td>1</td>\n",
       "      <td>0</td>\n",
       "    </tr>\n",
       "    <tr>\n",
       "      <th>5</th>\n",
       "      <td>time-1548814227_eve-5_name-ARK</td>\n",
       "      <td>5</td>\n",
       "      <td>0</td>\n",
       "      <td>0</td>\n",
       "    </tr>\n",
       "  </tbody>\n",
       "</table>\n",
       "</div>"
      ],
      "text/plain": [
       "                               family  avatar  gen  gen_bin\n",
       "1  time-1548814222_eve-3_name-PEPPLER       3    0        0\n",
       "2  time-1548814222_eve-3_name-PEPPLER      72    1        0\n",
       "3  time-1548814222_eve-3_name-PEPPLER      38    1        0\n",
       "4  time-1548814222_eve-3_name-PEPPLER       4    1        0\n",
       "5      time-1548814227_eve-5_name-ARK       5    0        0"
      ]
     },
     "execution_count": 42,
     "metadata": {},
     "output_type": "execute_result"
    }
   ],
   "source": [
    "def round_down(x):\n",
    "    return int(math.floor(x / 10.0)) * 10\n",
    "\n",
    "gen_df = pd.read_csv('../2_demographics/outputs/family_generations.csv')\n",
    "print('Before exclusions:')\n",
    "print(gen_df.shape)\n",
    "\n",
    "# choose families to exclude\n",
    "n_gens = gen_df.groupby('family')['gen'].agg('max').reset_index()\n",
    "exclude_families = n_gens[n_gens.gen == 0].family\n",
    "gen_df = gen_df[~gen_df.family.isin(exclude_families)]\n",
    "print('After exclusions:')\n",
    "print(gen_df.shape)\n",
    "\n",
    "gen_df['gen_bin'] = gen_df.gen.apply(round_down)\n",
    "gen_df.head()"
   ]
  },
  {
   "cell_type": "markdown",
   "id": "fd620b13",
   "metadata": {},
   "source": [
    "Load spatial proximity data:"
   ]
  },
  {
   "cell_type": "code",
   "execution_count": 43,
   "id": "44c1fafd",
   "metadata": {},
   "outputs": [
    {
     "name": "stdout",
     "output_type": "stream",
     "text": [
      "(7463982, 4)\n",
      "(7365566, 7)\n"
     ]
    },
    {
     "data": {
      "text/html": [
       "<div>\n",
       "<style scoped>\n",
       "    .dataframe tbody tr th:only-of-type {\n",
       "        vertical-align: middle;\n",
       "    }\n",
       "\n",
       "    .dataframe tbody tr th {\n",
       "        vertical-align: top;\n",
       "    }\n",
       "\n",
       "    .dataframe thead th {\n",
       "        text-align: right;\n",
       "    }\n",
       "</style>\n",
       "<table border=\"1\" class=\"dataframe\">\n",
       "  <thead>\n",
       "    <tr style=\"text-align: right;\">\n",
       "      <th></th>\n",
       "      <th>kin</th>\n",
       "      <th>distance</th>\n",
       "      <th>avatar</th>\n",
       "      <th>log_distance</th>\n",
       "      <th>family</th>\n",
       "      <th>gen</th>\n",
       "      <th>gen_bin</th>\n",
       "    </tr>\n",
       "  </thead>\n",
       "  <tbody>\n",
       "    <tr>\n",
       "      <th>0</th>\n",
       "      <td>Non-kin</td>\n",
       "      <td>564.876760</td>\n",
       "      <td>4109237</td>\n",
       "      <td>2.751954</td>\n",
       "      <td>time-1617679935_eve-4108925_name-(missing)</td>\n",
       "      <td>10</td>\n",
       "      <td>10</td>\n",
       "    </tr>\n",
       "    <tr>\n",
       "      <th>1</th>\n",
       "      <td>Kin</td>\n",
       "      <td>47.957428</td>\n",
       "      <td>4109236</td>\n",
       "      <td>1.680856</td>\n",
       "      <td>time-1617608595_eve-4106600_name-POLLY</td>\n",
       "      <td>53</td>\n",
       "      <td>50</td>\n",
       "    </tr>\n",
       "    <tr>\n",
       "      <th>2</th>\n",
       "      <td>Non-kin</td>\n",
       "      <td>473.548778</td>\n",
       "      <td>4109235</td>\n",
       "      <td>2.675365</td>\n",
       "      <td>time-1617679935_eve-4108925_name-(missing)</td>\n",
       "      <td>10</td>\n",
       "      <td>10</td>\n",
       "    </tr>\n",
       "    <tr>\n",
       "      <th>3</th>\n",
       "      <td>Non-kin</td>\n",
       "      <td>836.942099</td>\n",
       "      <td>4109234</td>\n",
       "      <td>2.922695</td>\n",
       "      <td>time-1617694919_eve-4109214_name-(missing)</td>\n",
       "      <td>1</td>\n",
       "      <td>0</td>\n",
       "    </tr>\n",
       "    <tr>\n",
       "      <th>4</th>\n",
       "      <td>Kin</td>\n",
       "      <td>191.812908</td>\n",
       "      <td>4109233</td>\n",
       "      <td>2.282878</td>\n",
       "      <td>time-1617684391_eve-4109034_name-(missing)</td>\n",
       "      <td>8</td>\n",
       "      <td>0</td>\n",
       "    </tr>\n",
       "  </tbody>\n",
       "</table>\n",
       "</div>"
      ],
      "text/plain": [
       "       kin    distance   avatar  log_distance  \\\n",
       "0  Non-kin  564.876760  4109237      2.751954   \n",
       "1      Kin   47.957428  4109236      1.680856   \n",
       "2  Non-kin  473.548778  4109235      2.675365   \n",
       "3  Non-kin  836.942099  4109234      2.922695   \n",
       "4      Kin  191.812908  4109233      2.282878   \n",
       "\n",
       "                                       family  gen  gen_bin  \n",
       "0  time-1617679935_eve-4108925_name-(missing)   10       10  \n",
       "1      time-1617608595_eve-4106600_name-POLLY   53       50  \n",
       "2  time-1617679935_eve-4108925_name-(missing)   10       10  \n",
       "3  time-1617694919_eve-4109214_name-(missing)    1        0  \n",
       "4  time-1617684391_eve-4109034_name-(missing)    8        0  "
      ]
     },
     "execution_count": 43,
     "metadata": {},
     "output_type": "execute_result"
    }
   ],
   "source": [
    "dist_df = pd.read_csv('outputs/average_distance.csv')\n",
    "print(dist_df.shape)\n",
    "dist_df = dist_df.merge(gen_df, on='avatar')\n",
    "print(dist_df.shape)\n",
    "dist_df.head()"
   ]
  },
  {
   "cell_type": "markdown",
   "id": "515392b1",
   "metadata": {},
   "source": [
    "Count datapoints:"
   ]
  },
  {
   "cell_type": "code",
   "execution_count": 45,
   "id": "e4951572",
   "metadata": {},
   "outputs": [
    {
     "data": {
      "text/plain": [
       "family     100190\n",
       "avatar    3735884\n",
       "dtype: int64"
      ]
     },
     "execution_count": 45,
     "metadata": {},
     "output_type": "execute_result"
    }
   ],
   "source": [
    "dist_demo = dist_df[['family', 'avatar']].nunique()\n",
    "dist_demo"
   ]
  },
  {
   "cell_type": "code",
   "execution_count": 48,
   "id": "d0071571",
   "metadata": {},
   "outputs": [
    {
     "name": "stderr",
     "output_type": "stream",
     "text": [
      "/n/home15/nvelezalicea/.conda/envs/ohol_py3/lib/python3.6/site-packages/seaborn/distributions.py:2557: FutureWarning: `distplot` is a deprecated function and will be removed in a future version. Please adapt your code to use either `displot` (a figure-level function with similar flexibility) or `histplot` (an axes-level function for histograms).\n",
      "  warnings.warn(msg, FutureWarning)\n"
     ]
    },
    {
     "data": {
      "text/plain": [
       "<AxesSubplot:xlabel='gen', ylabel='Density'>"
      ]
     },
     "execution_count": 48,
     "metadata": {},
     "output_type": "execute_result"
    },
    {
     "data": {
      "image/png": "[encoded data removed]",
      "text/plain": [
       "<Figure size 432x288 with 1 Axes>"
      ]
     },
     "metadata": {},
     "output_type": "display_data"
    }
   ],
   "source": [
    "sns.distplot(np.log10(n_gens[n_gens.gen > 0].gen))"
   ]
  },
  {
   "cell_type": "markdown",
   "id": "6b52702a",
   "metadata": {},
   "source": [
    "Overall spatial proximity:"
   ]
  },
  {
   "cell_type": "code",
   "execution_count": 44,
   "id": "e4c3014a",
   "metadata": {},
   "outputs": [
    {
     "name": "stderr",
     "output_type": "stream",
     "text": [
      "/n/home15/nvelezalicea/.conda/envs/ohol_py3/lib/python3.6/site-packages/ipykernel_launcher.py:5: UserWarning: FixedFormatter should only be used together with FixedLocator\n",
      "  \"\"\"\n"
     ]
    },
    {
     "data": {
      "image/png": "[encoded data removed]",
      "text/plain": [
       "<Figure size 432x288 with 1 Axes>"
      ]
     },
     "metadata": {},
     "output_type": "display_data"
    }
   ],
   "source": [
    "kin_pal = ['#ff4d29', '#7bd1ed']\n",
    "ax = sns.kdeplot(data=dist_df, x='log_distance', hue='kin', palette = kin_pal)\n",
    "orig_x = ax.get_xticks()\n",
    "ax.set(xlabel = 'Average distance\\nto contemporaries',\n",
    "       xticklabels = ['$10^{%i}$' % x_i for x_i in orig_x])\n",
    "ax.legend_.set_title(None)"
   ]
  },
  {
   "cell_type": "code",
   "execution_count": 54,
   "id": "21849778",
   "metadata": {},
   "outputs": [
    {
     "data": {
      "text/html": [
       "<div>\n",
       "<style scoped>\n",
       "    .dataframe tbody tr th:only-of-type {\n",
       "        vertical-align: middle;\n",
       "    }\n",
       "\n",
       "    .dataframe tbody tr th {\n",
       "        vertical-align: top;\n",
       "    }\n",
       "\n",
       "    .dataframe thead th {\n",
       "        text-align: right;\n",
       "    }\n",
       "</style>\n",
       "<table border=\"1\" class=\"dataframe\">\n",
       "  <thead>\n",
       "    <tr style=\"text-align: right;\">\n",
       "      <th></th>\n",
       "      <th>kin</th>\n",
       "      <th>distance</th>\n",
       "      <th>travel_time</th>\n",
       "    </tr>\n",
       "  </thead>\n",
       "  <tbody>\n",
       "    <tr>\n",
       "      <th>0</th>\n",
       "      <td>Kin</td>\n",
       "      <td>30.423990</td>\n",
       "      <td>0.135218</td>\n",
       "    </tr>\n",
       "    <tr>\n",
       "      <th>1</th>\n",
       "      <td>Non-kin</td>\n",
       "      <td>1851.329058</td>\n",
       "      <td>8.228129</td>\n",
       "    </tr>\n",
       "  </tbody>\n",
       "</table>\n",
       "</div>"
      ],
      "text/plain": [
       "       kin     distance  travel_time\n",
       "0      Kin    30.423990     0.135218\n",
       "1  Non-kin  1851.329058     8.228129"
      ]
     },
     "execution_count": 54,
     "metadata": {},
     "output_type": "execute_result"
    }
   ],
   "source": [
    "dist_summ = dist_df.groupby('kin')['distance'].agg('median').reset_index()\n",
    "dist_summ['travel_time'] = dist_summ['distance']/3.75/60\n",
    "\n",
    "dist_summ"
   ]
  },
  {
   "cell_type": "markdown",
   "id": "0ecfd3d8",
   "metadata": {},
   "source": [
    "Change over time:"
   ]
  },
  {
   "cell_type": "code",
   "execution_count": 52,
   "id": "88ec5bb1",
   "metadata": {},
   "outputs": [
    {
     "data": {
      "image/png": "[encoded data removed]",
      "text/plain": [
       "<Figure size 432x288 with 1 Axes>"
      ]
     },
     "metadata": {},
     "output_type": "display_data"
    }
   ],
   "source": [
    "ax = sns.lineplot(x='gen_bin', y='log_distance', hue='kin', \n",
    "                  data=dist_df, palette = kin_pal)\n",
    "\n",
    "ax.set(xlabel = 'Generation #', ylabel = 'Average distance\\nto contemporaries',\n",
    "       yticks = list(range(1,6)),\n",
    "       yticklabels = [10**y_i for y_i in range(1,6)])\n",
    "ax.legend_.set_title(None)"
   ]
  },
  {
   "cell_type": "code",
   "execution_count": 112,
   "id": "adf5ff22",
   "metadata": {},
   "outputs": [
    {
     "name": "stderr",
     "output_type": "stream",
     "text": [
      "/n/home15/nvelezalicea/.conda/envs/ohol_py3/lib/python3.6/site-packages/ipykernel_launcher.py:2: SettingWithCopyWarning: \n",
      "A value is trying to be set on a copy of a slice from a DataFrame.\n",
      "Try using .loc[row_indexer,col_indexer] = value instead\n",
      "\n",
      "See the caveats in the documentation: https://pandas.pydata.org/pandas-docs/stable/user_guide/indexing.html#returning-a-view-versus-a-copy\n",
      "  \n",
      "/n/home15/nvelezalicea/.conda/envs/ohol_py3/lib/python3.6/site-packages/seaborn/distributions.py:2557: FutureWarning: `distplot` is a deprecated function and will be removed in a future version. Please adapt your code to use either `displot` (a figure-level function with similar flexibility) or `histplot` (an axes-level function for histograms).\n",
      "  warnings.warn(msg, FutureWarning)\n"
     ]
    },
    {
     "data": {
      "text/plain": [
       "[[<matplotlib.axis.XTick at 0x2b48dc265160>,\n",
       "  <matplotlib.axis.XTick at 0x2b48dc263cf8>,\n",
       "  <matplotlib.axis.XTick at 0x2b48dc0e9780>,\n",
       "  <matplotlib.axis.XTick at 0x2b48dc0f8358>],\n",
       " [Text(0, 0, '1'), Text(1, 0, '10'), Text(2, 0, '100'), Text(3, 0, '1000')]]"
      ]
     },
     "execution_count": 112,
     "metadata": {},
     "output_type": "execute_result"
    },
    {
     "data": {
      "image/png": "[encoded data removed]",
      "text/plain": [
       "<Figure size 432x288 with 1 Axes>"
      ]
     },
     "metadata": {},
     "output_type": "display_data"
    }
   ],
   "source": [
    "max_gen = n_gens[n_gens.gen > 0]\n",
    "max_gen['log_gen'] = np.log10(max_gen.gen)\n",
    "ax = sns.distplot(max_gen.log_gen)\n",
    "ax.set(xticks = list(range(4)), xticklabels = [10**i for i in range(4)])"
   ]
  },
  {
   "cell_type": "code",
   "execution_count": 116,
   "id": "7003a0f2",
   "metadata": {},
   "outputs": [
    {
     "data": {
      "text/plain": [
       "median      1.000000\n",
       "min         1.000000\n",
       "max       812.000000\n",
       "mean        3.374567\n",
       "Name: gen, dtype: float64"
      ]
     },
     "execution_count": 116,
     "metadata": {},
     "output_type": "execute_result"
    }
   ],
   "source": [
    "max_gen['gen'].agg(['median', 'min', 'max', 'mean'])"
   ]
  },
  {
   "cell_type": "markdown",
   "id": "6d44226d",
   "metadata": {},
   "source": [
    "## 2) Item interactions"
   ]
  },
  {
   "cell_type": "markdown",
   "id": "3cdc7677",
   "metadata": {},
   "source": [
    "Connect to database:"
   ]
  },
  {
   "cell_type": "code",
   "execution_count": 5,
   "id": "fea4d4d5",
   "metadata": {},
   "outputs": [
    {
     "name": "stdout",
     "output_type": "stream",
     "text": [
      "Database(MongoClient(host=['134.76.24.75:27017'], document_class=dict, tz_aware=False, connect=True, authsource='ohol'), 'ohol')\n",
      "['tfidf_matrix.files', 'maplogs', 'item_embeddings', 'tech_tree', 'lifelogs', 'item_links_demo', 'objects', 'expanded_transitions', 'avatar_embeddings', 'tfidf_matrix.chunks', 'transitions', 'activity_matrix.files', 'activity_matrix.chunks', 'cleaned_job_matrix.chunks', 'cleaned_job_matrix.files', 'item_interactions', 'activity_labels', 'categories']\n"
     ]
    }
   ],
   "source": [
    "keyfile = '../6_database/credentials.key'\n",
    "creds = open(keyfile, \"r\").read().splitlines()\n",
    "myclient = pymongo.MongoClient('134.76.24.75', username=creds[0], password=creds[1], authSource='ohol') \n",
    "db = myclient.ohol\n",
    "\n",
    "print(db)\n",
    "print(db.list_collection_names())"
   ]
  },
  {
   "cell_type": "markdown",
   "id": "76d8f2ce",
   "metadata": {},
   "source": [
    "Load linkages:"
   ]
  },
  {
   "cell_type": "code",
   "execution_count": 122,
   "id": "d1e4e3a2",
   "metadata": {},
   "outputs": [
    {
     "name": "stdout",
     "output_type": "stream",
     "text": [
      "10399368\n",
      "{'weight': 4, 'source': 2279719, 'target': 2279890}\n"
     ]
    }
   ],
   "source": [
    "link_q = db.item_interactions.find({},{'_id': 0, 'target': 1, 'source': 1, 'weight': 1})\n",
    "link_list = list(link_q)\n",
    "print(len(link_list))\n",
    "print(link_list[0])"
   ]
  },
  {
   "cell_type": "markdown",
   "id": "d90e0f7f",
   "metadata": {},
   "source": [
    "Separate out interactions between kin and non-kin:"
   ]
  },
  {
   "cell_type": "code",
   "execution_count": null,
   "id": "80f0ab98",
   "metadata": {
    "scrolled": true
   },
   "outputs": [],
   "source": [
    "fam_df = gen_df[['family', 'avatar']]\n",
    "\n",
    "# Figure out whether a given directional interaction is between kin or non-kin\n",
    "link_df = pd.DataFrame(link_list)\n",
    "link_df = link_df.merge(fam_df, left_on = 'source', right_on = 'avatar')\n",
    "link_df = link_df.merge(fam_df, left_on = 'target', right_on = 'avatar', suffixes = ('', '_target'))\n",
    "link_df['kin'] = np.where(link_df['family'] == link_df['family_target'], 'Kin', 'Non-kin')\n",
    "link_df = link_df[['weight', 'source', 'target', 'kin']]\n",
    "\n",
    "# Sum over both directions\n",
    "link_df['min_avatar'] = link_df[['source', 'target']].apply(min, axis=1)\n",
    "link_df['max_avatar'] = link_df[['source', 'target']].apply(max, axis=1)\n",
    "link_df['label'] = link_df.apply(lambda row: '%i_%i' %(row.min_avatar, row.max_avatar), axis=1)\n",
    "link_df = link_df.groupby(['label', 'kin'])['weight'].agg('sum').reset_index()\n",
    "\n",
    "# Expand out\n",
    "\n",
    "print(link_df.shape)\n",
    "link_df.head()"
   ]
  },
  {
   "cell_type": "code",
   "execution_count": null,
   "id": "56930e29",
   "metadata": {},
   "outputs": [],
   "source": [
    "link_df.groupby('kin')['weight'].agg('sum')"
   ]
  },
  {
   "cell_type": "code",
   "execution_count": 121,
   "id": "5999eaa2",
   "metadata": {},
   "outputs": [
    {
     "data": {
      "text/plain": [
       "0.7939125562070333"
      ]
     },
     "execution_count": 121,
     "metadata": {},
     "output_type": "execute_result"
    }
   ],
   "source": [
    "290441/(290441+75394)"
   ]
  },
  {
   "cell_type": "markdown",
   "id": "298a1057",
   "metadata": {},
   "source": [
    "Sum over both directions:"
   ]
  },
  {
   "cell_type": "code",
   "execution_count": 87,
   "id": "7acac313",
   "metadata": {},
   "outputs": [
    {
     "name": "stdout",
     "output_type": "stream",
     "text": [
      "2279719 2279890 {'weight': 4}\n"
     ]
    }
   ],
   "source": [
    "link_edges = [\"%i %i {'weight': %i}\" % (l['source'], l['target'], l['weight']) for l in link_list]\n",
    "print(link_edges[0])\n",
    "G = nx.parse_edgelist(link_edges, create_using=nx.MultiGraph)\n",
    "G_undir = nx.Graph()\n",
    "G_undir.add_edges_from(G.edges(), weight=0)\n",
    "\n",
    "for u, v, d in G.edges(data=True):\n",
    "    G_undir[u][v]['weight'] += d['weight']"
   ]
  },
  {
   "cell_type": "code",
   "execution_count": 88,
   "id": "a4de10fe",
   "metadata": {},
   "outputs": [
    {
     "data": {
      "text/plain": [
       "<networkx.classes.graph.Graph at 0x2b48d4070320>"
      ]
     },
     "execution_count": 88,
     "metadata": {},
     "output_type": "execute_result"
    }
   ],
   "source": [
    "G_undir"
   ]
  },
  {
   "cell_type": "code",
   "execution_count": null,
   "id": "5cbb11c3",
   "metadata": {},
   "outputs": [],
   "source": []
  }
 ],
 "metadata": {
  "kernelspec": {
   "display_name": "ohol",
   "language": "python",
   "name": "ohol"
  },
  "language_info": {
   "codemirror_mode": {
    "name": "ipython",
    "version": 3
   },
   "file_extension": ".py",
   "mimetype": "text/x-python",
   "name": "python",
   "nbconvert_exporter": "python",
   "pygments_lexer": "ipython3",
   "version": "3.6.10"
  }
 },
 "nbformat": 4,
 "nbformat_minor": 5
}
