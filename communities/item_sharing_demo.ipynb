{
 "cells": [
  {
   "cell_type": "markdown",
   "metadata": {},
   "source": [
    "# Detect instances of item sharing\n",
    "Written by Grace Deng, edited by Natalia Velez<br/>\n",
    "May 2021\n",
    "\n",
    "This is a branch of `parse_map_changes` for now!"
   ]
  },
  {
   "cell_type": "code",
   "execution_count": 1,
   "metadata": {},
   "outputs": [],
   "source": [
    "%matplotlib inline\n",
    "\n",
    "import json, pymongo, os\n",
    "import pandas as pd\n",
    "import numpy as np\n",
    "import networkx as nx\n",
    "import matplotlib.pyplot as plt\n",
    "import seaborn as sns\n",
    "\n",
    "import sys\n",
    "sys.path.append('..')\n",
    "from utils import int_extract, gsearch\n",
    "\n",
    "sns.set_style('white')\n",
    "sns.set_context('talk')"
   ]
  },
  {
   "cell_type": "markdown",
   "metadata": {},
   "source": [
    "Connect to database:"
   ]
  },
  {
   "cell_type": "code",
   "execution_count": 2,
   "metadata": {},
   "outputs": [
    {
     "name": "stdout",
     "output_type": "stream",
     "text": [
      "Database(MongoClient(host=['134.76.24.75:27017'], document_class=dict, tz_aware=False, connect=True, authsource='ohol'), 'ohol')\n",
      "['tfidf_matrix.files', 'maplogs', 'item_embeddings', 'tech_tree', 'lifelogs', 'item_links_demo', 'objects', 'expanded_transitions', 'avatar_embeddings', 'tfidf_matrix.chunks', 'transitions', 'activity_matrix.files', 'activity_matrix.chunks', 'cleaned_job_matrix.chunks', 'cleaned_job_matrix.files', 'activity_labels', 'categories']\n"
     ]
    }
   ],
   "source": [
    "keyfile = '../6_database/credentials.key'\n",
    "creds = open(keyfile, \"r\").read().splitlines()\n",
    "myclient = pymongo.MongoClient('134.76.24.75', username=creds[0], password=creds[1], authSource='ohol') \n",
    "db = myclient.ohol\n",
    "\n",
    "print(db)\n",
    "print(db.list_collection_names())"
   ]
  },
  {
   "cell_type": "markdown",
   "metadata": {},
   "source": [
    "## Load data\n",
    "Note: To save on calls to the database, we're loading a local copy of the data"
   ]
  },
  {
   "cell_type": "code",
   "execution_count": 3,
   "metadata": {},
   "outputs": [
    {
     "name": "stdout",
     "output_type": "stream",
     "text": [
      "Found 269 map files\n",
      "../3_technology/outputs/maplog/maplog_release-284_start-1573895672.tsv\n",
      "../3_technology/outputs/maplog/maplog_release-284_start-1573982073.tsv\n",
      "../3_technology/outputs/maplog/maplog_release-284_start-1574068473.tsv\n",
      "../3_technology/outputs/maplog/maplog_release-285_start-1574102503.tsv\n",
      "../3_technology/outputs/maplog/maplog_release-287_start-1574151678.tsv\n",
      "../3_technology/outputs/maplog/maplog_release-287_start-1574238079.tsv\n",
      "../3_technology/outputs/maplog/maplog_release-287_start-1574324479.tsv\n",
      "../3_technology/outputs/maplog/maplog_release-287_start-1574410879.tsv\n",
      "../3_technology/outputs/maplog/maplog_release-287_start-1574497279.tsv\n",
      "../3_technology/outputs/maplog/maplog_release-289_start-1574552311.tsv\n"
     ]
    }
   ],
   "source": [
    "map_files = gsearch('../3_technology/outputs/maplog/*.tsv')\n",
    "map_files.sort()\n",
    "\n",
    "print('Found %i map files' % len(map_files))\n",
    "print(*map_files[:10], sep='\\n')"
   ]
  },
  {
   "cell_type": "code",
   "execution_count": 4,
   "metadata": {},
   "outputs": [
    {
     "name": "stdout",
     "output_type": "stream",
     "text": [
      "Loaded data from: ../3_technology/outputs/maplog/maplog_release-293_start-1576211471.tsv\n",
      "Analyzing 11 minutes of gameplay\n",
      "0 duplicate events\n"
     ]
    },
    {
     "data": {
      "text/html": [
       "<div>\n",
       "<style scoped>\n",
       "    .dataframe tbody tr th:only-of-type {\n",
       "        vertical-align: middle;\n",
       "    }\n",
       "\n",
       "    .dataframe tbody tr th {\n",
       "        vertical-align: top;\n",
       "    }\n",
       "\n",
       "    .dataframe thead th {\n",
       "        text-align: right;\n",
       "    }\n",
       "</style>\n",
       "<table border=\"1\" class=\"dataframe\">\n",
       "  <thead>\n",
       "    <tr style=\"text-align: right;\">\n",
       "      <th></th>\n",
       "      <th>t</th>\n",
       "      <th>x</th>\n",
       "      <th>y</th>\n",
       "      <th>object_id</th>\n",
       "      <th>avatar</th>\n",
       "    </tr>\n",
       "  </thead>\n",
       "  <tbody>\n",
       "    <tr>\n",
       "      <th>0</th>\n",
       "      <td>1.576211e+09</td>\n",
       "      <td>-42999</td>\n",
       "      <td>690</td>\n",
       "      <td>0</td>\n",
       "      <td>2406089</td>\n",
       "    </tr>\n",
       "    <tr>\n",
       "      <th>1</th>\n",
       "      <td>1.576211e+09</td>\n",
       "      <td>-42525</td>\n",
       "      <td>273</td>\n",
       "      <td>3161</td>\n",
       "      <td>2406035</td>\n",
       "    </tr>\n",
       "    <tr>\n",
       "      <th>2</th>\n",
       "      <td>1.576211e+09</td>\n",
       "      <td>-42526</td>\n",
       "      <td>-375</td>\n",
       "      <td>2530</td>\n",
       "      <td>2406062</td>\n",
       "    </tr>\n",
       "    <tr>\n",
       "      <th>3</th>\n",
       "      <td>1.576211e+09</td>\n",
       "      <td>-41516</td>\n",
       "      <td>84</td>\n",
       "      <td>132</td>\n",
       "      <td>2406026</td>\n",
       "    </tr>\n",
       "    <tr>\n",
       "      <th>4</th>\n",
       "      <td>1.576211e+09</td>\n",
       "      <td>-42767</td>\n",
       "      <td>-280</td>\n",
       "      <td>0</td>\n",
       "      <td>2406058</td>\n",
       "    </tr>\n",
       "  </tbody>\n",
       "</table>\n",
       "</div>"
      ],
      "text/plain": [
       "              t      x    y object_id   avatar\n",
       "0  1.576211e+09 -42999  690         0  2406089\n",
       "1  1.576211e+09 -42525  273      3161  2406035\n",
       "2  1.576211e+09 -42526 -375      2530  2406062\n",
       "3  1.576211e+09 -41516   84       132  2406026\n",
       "4  1.576211e+09 -42767 -280         0  2406058"
      ]
     },
     "execution_count": 4,
     "metadata": {},
     "output_type": "execute_result"
    }
   ],
   "source": [
    "f = map_files[30]\n",
    "map_data = pd.read_csv(f, sep='\\t')\n",
    "# map_data = map_data.head(25000)\n",
    "\n",
    "# Shift simultaneous events by .001 seconds (smaller than the current time resolution)\n",
    "map_data['t'] = np.where(map_data.duplicated(subset=['x','y','t']), map_data['t']+.001, map_data['t'])\n",
    "map_data = map_data.drop_duplicates(subset=['x','y','t'],keep='last')\n",
    "map_data['avatar'] = map_data['avatar'].astype(np.int)\n",
    "map_data = map_data.head(10000) # debug\n",
    "\n",
    "t_elapsed = map_data.agg({'t': ['min', 'max']}).diff().dropna()\n",
    "print('Loaded data from: %s' % f)\n",
    "print('Analyzing %i minutes of gameplay' % (t_elapsed.values[0][0]/60))\n",
    "print('%i duplicate events' % (np.sum(map_data.duplicated(subset=['x','y','t']))))\n",
    "map_data.head()"
   ]
  },
  {
   "cell_type": "markdown",
   "metadata": {},
   "source": [
    "Helper function: Get unique avatars who accessed a location"
   ]
  },
  {
   "cell_type": "code",
   "execution_count": 5,
   "metadata": {},
   "outputs": [],
   "source": [
    "def unique_avatars(d):\n",
    "    avatars = [v['avatar'] for k,v in d.items()]\n",
    "    avatars = [a for a in avatars if a > 0]\n",
    "    return len(np.unique(avatars))"
   ]
  },
  {
   "cell_type": "markdown",
   "metadata": {
    "collapsed": true
   },
   "source": [
    "Make a nested dictionary<br/>\n",
    "`(x,y):{t:{'object_id': obj, 'avatar': avatar}}`"
   ]
  },
  {
   "cell_type": "code",
   "execution_count": 6,
   "metadata": {
    "scrolled": true
   },
   "outputs": [
    {
     "name": "stdout",
     "output_type": "stream",
     "text": [
      "Original length: 4977\n",
      "Analyzing interactions from 526 valid map locations\n"
     ]
    }
   ],
   "source": [
    "map_dict = map_data.groupby(['x','y']).apply(lambda row: row.set_index('t').to_dict('index')).to_dict()\n",
    "print('Original length: %i' % len(map_dict))\n",
    "\n",
    "# Filter out cases with no interactions\n",
    "# a. Location is only accessed once\n",
    "# b. Only one valid avatar (not -1) changes the map state\n",
    "map_dict = {k:v for k,v in map_dict.items() if (len(v) > 1) & (unique_avatars(v) > 1)}\n",
    "print('Analyzing interactions from %i valid map locations' % len(map_dict))"
   ]
  },
  {
   "cell_type": "markdown",
   "metadata": {},
   "source": [
    "Clean up data:"
   ]
  },
  {
   "cell_type": "code",
   "execution_count": 7,
   "metadata": {},
   "outputs": [
    {
     "name": "stdout",
     "output_type": "stream",
     "text": [
      "(3306, 5)\n"
     ]
    },
    {
     "data": {
      "text/html": [
       "<div>\n",
       "<style scoped>\n",
       "    .dataframe tbody tr th:only-of-type {\n",
       "        vertical-align: middle;\n",
       "    }\n",
       "\n",
       "    .dataframe tbody tr th {\n",
       "        vertical-align: top;\n",
       "    }\n",
       "\n",
       "    .dataframe thead th {\n",
       "        text-align: right;\n",
       "    }\n",
       "</style>\n",
       "<table border=\"1\" class=\"dataframe\">\n",
       "  <thead>\n",
       "    <tr style=\"text-align: right;\">\n",
       "      <th></th>\n",
       "      <th>t</th>\n",
       "      <th>x</th>\n",
       "      <th>y</th>\n",
       "      <th>object_id</th>\n",
       "      <th>avatar</th>\n",
       "    </tr>\n",
       "  </thead>\n",
       "  <tbody>\n",
       "    <tr>\n",
       "      <th>0</th>\n",
       "      <td>1.576212e+09</td>\n",
       "      <td>-43077</td>\n",
       "      <td>710</td>\n",
       "      <td>30u4</td>\n",
       "      <td>2406070</td>\n",
       "    </tr>\n",
       "    <tr>\n",
       "      <th>1</th>\n",
       "      <td>1.576212e+09</td>\n",
       "      <td>-43077</td>\n",
       "      <td>710</td>\n",
       "      <td>30u3</td>\n",
       "      <td>2406114</td>\n",
       "    </tr>\n",
       "    <tr>\n",
       "      <th>2</th>\n",
       "      <td>1.576212e+09</td>\n",
       "      <td>-43055</td>\n",
       "      <td>718</td>\n",
       "      <td>292</td>\n",
       "      <td>2406128</td>\n",
       "    </tr>\n",
       "    <tr>\n",
       "      <th>3</th>\n",
       "      <td>1.576212e+09</td>\n",
       "      <td>-43055</td>\n",
       "      <td>718</td>\n",
       "      <td>0</td>\n",
       "      <td>2406128</td>\n",
       "    </tr>\n",
       "    <tr>\n",
       "      <th>4</th>\n",
       "      <td>1.576212e+09</td>\n",
       "      <td>-43055</td>\n",
       "      <td>718</td>\n",
       "      <td>126</td>\n",
       "      <td>2406089</td>\n",
       "    </tr>\n",
       "    <tr>\n",
       "      <th>5</th>\n",
       "      <td>1.576212e+09</td>\n",
       "      <td>-43055</td>\n",
       "      <td>718</td>\n",
       "      <td>233</td>\n",
       "      <td>2406139</td>\n",
       "    </tr>\n",
       "    <tr>\n",
       "      <th>6</th>\n",
       "      <td>1.576212e+09</td>\n",
       "      <td>-43055</td>\n",
       "      <td>718</td>\n",
       "      <td>234</td>\n",
       "      <td>2406139</td>\n",
       "    </tr>\n",
       "    <tr>\n",
       "      <th>7</th>\n",
       "      <td>1.576212e+09</td>\n",
       "      <td>-43055</td>\n",
       "      <td>718</td>\n",
       "      <td>0</td>\n",
       "      <td>2406089</td>\n",
       "    </tr>\n",
       "    <tr>\n",
       "      <th>8</th>\n",
       "      <td>1.576212e+09</td>\n",
       "      <td>-43055</td>\n",
       "      <td>718</td>\n",
       "      <td>236</td>\n",
       "      <td>2406089</td>\n",
       "    </tr>\n",
       "    <tr>\n",
       "      <th>9</th>\n",
       "      <td>1.576212e+09</td>\n",
       "      <td>-43055</td>\n",
       "      <td>718</td>\n",
       "      <td>1602u0</td>\n",
       "      <td>2406089</td>\n",
       "    </tr>\n",
       "  </tbody>\n",
       "</table>\n",
       "</div>"
      ],
      "text/plain": [
       "              t      x    y object_id   avatar\n",
       "0  1.576212e+09 -43077  710      30u4  2406070\n",
       "1  1.576212e+09 -43077  710      30u3  2406114\n",
       "2  1.576212e+09 -43055  718       292  2406128\n",
       "3  1.576212e+09 -43055  718         0  2406128\n",
       "4  1.576212e+09 -43055  718       126  2406089\n",
       "5  1.576212e+09 -43055  718       233  2406139\n",
       "6  1.576212e+09 -43055  718       234  2406139\n",
       "7  1.576212e+09 -43055  718         0  2406089\n",
       "8  1.576212e+09 -43055  718       236  2406089\n",
       "9  1.576212e+09 -43055  718    1602u0  2406089"
      ]
     },
     "execution_count": 7,
     "metadata": {},
     "output_type": "execute_result"
    }
   ],
   "source": [
    "map_df = [pd.DataFrame.from_dict(v, orient='index') for k,v in map_dict.items()]\n",
    "map_df = pd.concat(map_df).reset_index().rename(columns={'index':'t'})\n",
    "\n",
    "print(map_df.shape)\n",
    "map_df.head(10)"
   ]
  },
  {
   "cell_type": "markdown",
   "metadata": {},
   "source": [
    "## Build graph"
   ]
  },
  {
   "cell_type": "markdown",
   "metadata": {},
   "source": [
    "Main loop: This loop builds a directed graph. In order to draw an edge between players, two conditions must be met:\n",
    "\n",
    "* Both avatars must have interacted with the same spot consecutively.\n",
    "* Both avatars must be different from another, and they must be actual avatars. (This excludes decay transitions, where avatar = -1)\n",
    "* The spot must be occupied before the second avatar interacts with it. (This excludes transitions where a spot was previously empty, and is then filled by a new avatar.)\n",
    "\n",
    "Each edge contains two attributes:\n",
    "\n",
    "* `weight`: Number of directed interactions from previous avatar to current avatar. Increments by 1 with each interaction.\n",
    "* `shared`: List of object IDs shared between players"
   ]
  },
  {
   "cell_type": "code",
   "execution_count": 8,
   "metadata": {},
   "outputs": [],
   "source": [
    "invalid_items = ['0', '87', '752', '1920', '3053'] # exclude fresh bones and empty squares\n",
    "G = nx.DiGraph()\n",
    "\n",
    "for loc,loc_data in map_df.groupby(['x','y']):\n",
    "    # Initial values\n",
    "    prev_avatar = -1\n",
    "    prev_obj = 0\n",
    "    \n",
    "    # Iterate over rows\n",
    "    for idx,row in loc_data.iterrows():\n",
    "        \n",
    "        # Get current item and avatar\n",
    "        curr_avatar = row.avatar\n",
    "        curr_obj = row.object_id\n",
    "        \n",
    "        # Check if it's a valid transition\n",
    "        different_avatars = prev_avatar != curr_avatar\n",
    "        non_decay = -1 not in (prev_avatar, curr_avatar)\n",
    "        valid_avatars = different_avatars & non_decay\n",
    "        occupied_spot = prev_obj not in invalid_items\n",
    "        \n",
    "        # Add transition\n",
    "        if  valid_avatars & occupied_spot:\n",
    "            # Update the weight of existing connections\n",
    "            if G.has_edge(prev_avatar, curr_avatar): \n",
    "                G[prev_avatar][curr_avatar]['weight'] += 1\n",
    "                G[prev_avatar][curr_avatar]['shared'].append(prev_obj)\n",
    "                G[prev_avatar][curr_avatar]['t'].append(row.t)\n",
    "                \n",
    "            # Initialize new ones\n",
    "            else:\n",
    "                G.add_edge(prev_avatar, curr_avatar, weight=1, shared=[prev_obj], t=[row.t])\n",
    "                \n",
    "        # Set up next iteration\n",
    "        prev_avatar = curr_avatar\n",
    "        prev_obj = curr_obj"
   ]
  },
  {
   "cell_type": "code",
   "execution_count": 9,
   "metadata": {},
   "outputs": [
    {
     "data": {
      "text/plain": [
       "AtlasView({2406085: {'weight': 3, 'shared': ['484', '463u1', '2172'], 't': [1576211959.6, 1576211694.14, 1576211840.26]}, 2406112: {'weight': 1, 'shared': ['391u5'], 't': [1576211861.2800002]}, 2406032: {'weight': 3, 'shared': ['2742u2', '560', '470'], 't': [1576211622.77, 1576212077.5600002, 1576211594.26]}, 2406041: {'weight': 1, 'shared': ['467u1'], 't': [1576212016.5300002]}, 2406099: {'weight': 1, 'shared': ['484'], 't': [1576211921.99]}})"
      ]
     },
     "execution_count": 9,
     "metadata": {},
     "output_type": "execute_result"
    }
   ],
   "source": [
    "G[prev_avatar]"
   ]
  },
  {
   "cell_type": "code",
   "execution_count": 10,
   "metadata": {},
   "outputs": [],
   "source": [
    "# last_known = loc_data.drop_duplicates(subset=['x','y'], keep='last')\n",
    "# last_known.head()"
   ]
  },
  {
   "cell_type": "markdown",
   "metadata": {},
   "source": [
    "Save graph to file:"
   ]
  },
  {
   "cell_type": "code",
   "execution_count": 11,
   "metadata": {},
   "outputs": [],
   "source": [
    "G_data = nx.readwrite.json_graph.node_link_data(G)\n",
    "with open('outputs/item_sharing_graph_demo.json', 'w') as outfile:\n",
    "    json.dump(G_data, outfile)"
   ]
  },
  {
   "cell_type": "markdown",
   "metadata": {},
   "source": [
    "Upload linkage information to database:"
   ]
  },
  {
   "cell_type": "code",
   "execution_count": 12,
   "metadata": {},
   "outputs": [
    {
     "data": {
      "text/plain": [
       "<pymongo.results.InsertManyResult at 0x2b09f210e808>"
      ]
     },
     "execution_count": 12,
     "metadata": {},
     "output_type": "execute_result"
    }
   ],
   "source": [
    "link_col = db.item_interactions_demo\n",
    "link_col.insert_many(G_data['links'])"
   ]
  },
  {
   "cell_type": "markdown",
   "metadata": {
    "collapsed": true
   },
   "source": [
    "Plot graph (TODO: add weights)"
   ]
  },
  {
   "cell_type": "code",
   "execution_count": 13,
   "metadata": {},
   "outputs": [
    {
     "data": {
      "image/png": "[encoded data removed]",
      "text/plain": [
       "<Figure size 1440x1440 with 1 Axes>"
      ]
     },
     "metadata": {},
     "output_type": "display_data"
    }
   ],
   "source": [
    "figure = plt.subplots(figsize = (20,20))\n",
    "pos = nx.spring_layout(G)\n",
    "nx.draw_networkx(G, pos=pos,with_labels=False)"
   ]
  },
  {
   "cell_type": "markdown",
   "metadata": {},
   "source": [
    "## Summary statistics"
   ]
  },
  {
   "cell_type": "markdown",
   "metadata": {},
   "source": [
    "### Avatars"
   ]
  },
  {
   "cell_type": "markdown",
   "metadata": {},
   "source": [
    "Relationship between indegree and outdegree"
   ]
  },
  {
   "cell_type": "code",
   "execution_count": 14,
   "metadata": {},
   "outputs": [
    {
     "data": {
      "text/plain": [
       "[<matplotlib.lines.Line2D at 0x2b09f2eb6e48>]"
      ]
     },
     "execution_count": 14,
     "metadata": {},
     "output_type": "execute_result"
    },
    {
     "data": {
      "image/png": "[encoded data removed]",
      "text/plain": [
       "<Figure size 432x432 with 3 Axes>"
      ]
     },
     "metadata": {
      "needs_background": "light"
     },
     "output_type": "display_data"
    }
   ],
   "source": [
    "# get in- and out-degree of each avatar\n",
    "in_df = pd.DataFrame(list(G.in_degree()), columns=['avatar', 'in'])\n",
    "out_df = pd.DataFrame(list(G.out_degree()), columns=['avatar', 'out'])\n",
    "connect_df = in_df.merge(out_df, on='avatar')\n",
    "connect_df['influence'] = np.where(connect_df['out'] == connect_df['in'], 'equal',\n",
    "                                  np.where(connect_df['out'] > connect_df['in'], 'greater', 'less'))\n",
    "\n",
    "# color palette\n",
    "# influence_colors = {'equal': \"#a1a1a1\", 'less': \"#db3721\", 'greater': \"#5eb9ff\"}\n",
    "g = sns.jointplot(data=connect_df, x='in', y='out')\n",
    "g.set_axis_labels(xlabel='In-degree', ylabel='Out-degree')\n",
    "\n",
    "# diagonal line\n",
    "x0, x1 = g.ax_joint.get_xlim()\n",
    "y0, y1 = g.ax_joint.get_ylim()\n",
    "lims = [max(x0, y0), min(x1, y1)]\n",
    "g.ax_joint.plot(lims, lims, '--k', alpha=0.25)\n",
    "#g.ax_joint.set(xticks = np.linspace(0, 10, 6).astype(int))"
   ]
  },
  {
   "cell_type": "markdown",
   "metadata": {},
   "source": [
    "### Objects"
   ]
  },
  {
   "cell_type": "markdown",
   "metadata": {},
   "source": [
    "Load object data"
   ]
  },
  {
   "cell_type": "code",
   "execution_count": 15,
   "metadata": {},
   "outputs": [
    {
     "name": "stdout",
     "output_type": "stream",
     "text": [
      "Stone\n"
     ]
    }
   ],
   "source": [
    "from ohol_objects import obj_name\n",
    "print(obj_name(33))"
   ]
  },
  {
   "cell_type": "markdown",
   "metadata": {},
   "source": [
    "Which items are most commonly shared?"
   ]
  },
  {
   "cell_type": "code",
   "execution_count": 16,
   "metadata": {},
   "outputs": [
    {
     "name": "stderr",
     "output_type": "stream",
     "text": [
      "/n/home15/nvelezalicea/.conda/envs/ohol_py3/lib/python3.6/site-packages/ipykernel_launcher.py:16: SettingWithCopyWarning: \n",
      "A value is trying to be set on a copy of a slice from a DataFrame.\n",
      "Try using .loc[row_indexer,col_indexer] = value instead\n",
      "\n",
      "See the caveats in the documentation: https://pandas.pydata.org/pandas-docs/stable/user_guide/indexing.html#returning-a-view-versus-a-copy\n",
      "  app.launch_new_instance()\n"
     ]
    },
    {
     "data": {
      "text/html": [
       "<div>\n",
       "<style scoped>\n",
       "    .dataframe tbody tr th:only-of-type {\n",
       "        vertical-align: middle;\n",
       "    }\n",
       "\n",
       "    .dataframe tbody tr th {\n",
       "        vertical-align: top;\n",
       "    }\n",
       "\n",
       "    .dataframe thead th {\n",
       "        text-align: right;\n",
       "    }\n",
       "</style>\n",
       "<table border=\"1\" class=\"dataframe\">\n",
       "  <thead>\n",
       "    <tr style=\"text-align: right;\">\n",
       "      <th></th>\n",
       "      <th>object_id</th>\n",
       "      <th>count</th>\n",
       "      <th>frequency</th>\n",
       "      <th>name</th>\n",
       "    </tr>\n",
       "  </thead>\n",
       "  <tbody>\n",
       "    <tr>\n",
       "      <th>0</th>\n",
       "      <td>391</td>\n",
       "      <td>33</td>\n",
       "      <td>0.063218</td>\n",
       "      <td>Domestic Gooseberry Bush</td>\n",
       "    </tr>\n",
       "    <tr>\n",
       "      <th>1</th>\n",
       "      <td>235</td>\n",
       "      <td>29</td>\n",
       "      <td>0.055556</td>\n",
       "      <td>Clay Bowl - empty</td>\n",
       "    </tr>\n",
       "    <tr>\n",
       "      <th>2</th>\n",
       "      <td>292</td>\n",
       "      <td>23</td>\n",
       "      <td>0.044061</td>\n",
       "      <td>Basket</td>\n",
       "    </tr>\n",
       "    <tr>\n",
       "      <th>3</th>\n",
       "      <td>1101</td>\n",
       "      <td>18</td>\n",
       "      <td>0.034483</td>\n",
       "      <td>Fertile Soil Pile</td>\n",
       "    </tr>\n",
       "    <tr>\n",
       "      <th>4</th>\n",
       "      <td>1316</td>\n",
       "      <td>17</td>\n",
       "      <td>0.032567</td>\n",
       "      <td>Stack of Firewood</td>\n",
       "    </tr>\n",
       "    <tr>\n",
       "      <th>5</th>\n",
       "      <td>1135</td>\n",
       "      <td>17</td>\n",
       "      <td>0.032567</td>\n",
       "      <td>Empty Domestic Gooseberry Bush</td>\n",
       "    </tr>\n",
       "    <tr>\n",
       "      <th>6</th>\n",
       "      <td>1099</td>\n",
       "      <td>13</td>\n",
       "      <td>0.024904</td>\n",
       "      <td>Partial Bucket of Water</td>\n",
       "    </tr>\n",
       "    <tr>\n",
       "      <th>7</th>\n",
       "      <td>346</td>\n",
       "      <td>12</td>\n",
       "      <td>0.022989</td>\n",
       "      <td>Large Slow Fire</td>\n",
       "    </tr>\n",
       "    <tr>\n",
       "      <th>8</th>\n",
       "      <td>34</td>\n",
       "      <td>10</td>\n",
       "      <td>0.019157</td>\n",
       "      <td>Sharp Stone</td>\n",
       "    </tr>\n",
       "    <tr>\n",
       "      <th>9</th>\n",
       "      <td>33</td>\n",
       "      <td>9</td>\n",
       "      <td>0.017241</td>\n",
       "      <td>Stone</td>\n",
       "    </tr>\n",
       "    <tr>\n",
       "      <th>10</th>\n",
       "      <td>393</td>\n",
       "      <td>8</td>\n",
       "      <td>0.015326</td>\n",
       "      <td>Dry Domestic Gooseberry Bush</td>\n",
       "    </tr>\n",
       "    <tr>\n",
       "      <th>11</th>\n",
       "      <td>1471</td>\n",
       "      <td>8</td>\n",
       "      <td>0.015326</td>\n",
       "      <td>Sliced Bread - +contFoodDish</td>\n",
       "    </tr>\n",
       "    <tr>\n",
       "      <th>12</th>\n",
       "      <td>484</td>\n",
       "      <td>7</td>\n",
       "      <td>0.013410</td>\n",
       "      <td>Hand Cart</td>\n",
       "    </tr>\n",
       "    <tr>\n",
       "      <th>13</th>\n",
       "      <td>213</td>\n",
       "      <td>7</td>\n",
       "      <td>0.013410</td>\n",
       "      <td>Deep Tilled Row - groundOnly</td>\n",
       "    </tr>\n",
       "    <tr>\n",
       "      <th>14</th>\n",
       "      <td>236</td>\n",
       "      <td>7</td>\n",
       "      <td>0.013410</td>\n",
       "      <td>Clay Plate</td>\n",
       "    </tr>\n",
       "    <tr>\n",
       "      <th>15</th>\n",
       "      <td>2742</td>\n",
       "      <td>7</td>\n",
       "      <td>0.013410</td>\n",
       "      <td>Carrot Pile</td>\n",
       "    </tr>\n",
       "    <tr>\n",
       "      <th>16</th>\n",
       "      <td>180</td>\n",
       "      <td>6</td>\n",
       "      <td>0.011494</td>\n",
       "      <td>Dead Rabbit</td>\n",
       "    </tr>\n",
       "    <tr>\n",
       "      <th>17</th>\n",
       "      <td>1138</td>\n",
       "      <td>6</td>\n",
       "      <td>0.011494</td>\n",
       "      <td>Fertile Soil</td>\n",
       "    </tr>\n",
       "    <tr>\n",
       "      <th>18</th>\n",
       "      <td>30</td>\n",
       "      <td>6</td>\n",
       "      <td>0.011494</td>\n",
       "      <td>Wild Gooseberry Bush</td>\n",
       "    </tr>\n",
       "    <tr>\n",
       "      <th>19</th>\n",
       "      <td>3051</td>\n",
       "      <td>6</td>\n",
       "      <td>0.011494</td>\n",
       "      <td>Baby Bone Pile - origGrave</td>\n",
       "    </tr>\n",
       "    <tr>\n",
       "      <th>20</th>\n",
       "      <td>1603</td>\n",
       "      <td>6</td>\n",
       "      <td>0.011494</td>\n",
       "      <td>Stack of Clay Bowls</td>\n",
       "    </tr>\n",
       "    <tr>\n",
       "      <th>21</th>\n",
       "      <td>1175</td>\n",
       "      <td>5</td>\n",
       "      <td>0.009579</td>\n",
       "      <td>Bowl of Green Beans</td>\n",
       "    </tr>\n",
       "    <tr>\n",
       "      <th>22</th>\n",
       "      <td>198</td>\n",
       "      <td>5</td>\n",
       "      <td>0.009579</td>\n",
       "      <td>Backpack</td>\n",
       "    </tr>\n",
       "    <tr>\n",
       "      <th>23</th>\n",
       "      <td>59</td>\n",
       "      <td>5</td>\n",
       "      <td>0.009579</td>\n",
       "      <td>Rope</td>\n",
       "    </tr>\n",
       "    <tr>\n",
       "      <th>24</th>\n",
       "      <td>1605</td>\n",
       "      <td>5</td>\n",
       "      <td>0.009579</td>\n",
       "      <td>Stack of Baskets</td>\n",
       "    </tr>\n",
       "  </tbody>\n",
       "</table>\n",
       "</div>"
      ],
      "text/plain": [
       "    object_id  count  frequency                            name\n",
       "0         391     33   0.063218        Domestic Gooseberry Bush\n",
       "1         235     29   0.055556               Clay Bowl - empty\n",
       "2         292     23   0.044061                          Basket\n",
       "3        1101     18   0.034483               Fertile Soil Pile\n",
       "4        1316     17   0.032567               Stack of Firewood\n",
       "5        1135     17   0.032567  Empty Domestic Gooseberry Bush\n",
       "6        1099     13   0.024904         Partial Bucket of Water\n",
       "7         346     12   0.022989                 Large Slow Fire\n",
       "8          34     10   0.019157                     Sharp Stone\n",
       "9          33      9   0.017241                           Stone\n",
       "10        393      8   0.015326    Dry Domestic Gooseberry Bush\n",
       "11       1471      8   0.015326    Sliced Bread - +contFoodDish\n",
       "12        484      7   0.013410                       Hand Cart\n",
       "13        213      7   0.013410    Deep Tilled Row - groundOnly\n",
       "14        236      7   0.013410                      Clay Plate\n",
       "15       2742      7   0.013410                     Carrot Pile\n",
       "16        180      6   0.011494                     Dead Rabbit\n",
       "17       1138      6   0.011494                    Fertile Soil\n",
       "18         30      6   0.011494            Wild Gooseberry Bush\n",
       "19       3051      6   0.011494      Baby Bone Pile - origGrave\n",
       "20       1603      6   0.011494             Stack of Clay Bowls\n",
       "21       1175      5   0.009579             Bowl of Green Beans\n",
       "22        198      5   0.009579                        Backpack\n",
       "23         59      5   0.009579                            Rope\n",
       "24       1605      5   0.009579                Stack of Baskets"
      ]
     },
     "execution_count": 16,
     "metadata": {},
     "output_type": "execute_result"
    }
   ],
   "source": [
    "# Retrieve object IDs from edge list\n",
    "shared_objs = [G[e[0]][e[1]]['shared'] for e in G.edges()]\n",
    "shared_objs = [obj for sublist in shared_objs for obj in sublist]\n",
    "shared_objs = pd.DataFrame([int_extract('^[0-9]+|(?<=^f)[0-9]+', obj) for obj in shared_objs], columns=['object_id'])\n",
    "\n",
    "# Count instances of each object\n",
    "shared_objs['count'] = 1\n",
    "shared_objs = shared_objs.groupby('object_id').agg({'count': 'sum'}).reset_index()\n",
    "\n",
    "# Sort by frequency\n",
    "shared_objs['frequency'] = shared_objs['count']/np.sum(shared_objs['count'])\n",
    "shared_objs = shared_objs.sort_values(by='frequency', ascending=False).reset_index(drop=True)\n",
    "\n",
    "# Pretty-print names\n",
    "top_objs = shared_objs.head(25)\n",
    "top_objs['name'] = top_objs['object_id'].apply(obj_name)\n",
    "top_objs"
   ]
  },
  {
   "cell_type": "markdown",
   "metadata": {
    "collapsed": true
   },
   "source": [
    "## Families"
   ]
  },
  {
   "cell_type": "markdown",
   "metadata": {},
   "source": [
    "Load family labels:"
   ]
  },
  {
   "cell_type": "code",
   "execution_count": 17,
   "metadata": {},
   "outputs": [
    {
     "data": {
      "text/html": [
       "<div>\n",
       "<style scoped>\n",
       "    .dataframe tbody tr th:only-of-type {\n",
       "        vertical-align: middle;\n",
       "    }\n",
       "\n",
       "    .dataframe tbody tr th {\n",
       "        vertical-align: top;\n",
       "    }\n",
       "\n",
       "    .dataframe thead th {\n",
       "        text-align: right;\n",
       "    }\n",
       "</style>\n",
       "<table border=\"1\" class=\"dataframe\">\n",
       "  <thead>\n",
       "    <tr style=\"text-align: right;\">\n",
       "      <th></th>\n",
       "      <th>avatar</th>\n",
       "      <th>family</th>\n",
       "    </tr>\n",
       "  </thead>\n",
       "  <tbody>\n",
       "    <tr>\n",
       "      <th>0</th>\n",
       "      <td>4109234</td>\n",
       "      <td>time-1617694919_eve-4109214_name-(missing)</td>\n",
       "    </tr>\n",
       "    <tr>\n",
       "      <th>1</th>\n",
       "      <td>4109230</td>\n",
       "      <td>time-1617694919_eve-4109214_name-(missing)</td>\n",
       "    </tr>\n",
       "    <tr>\n",
       "      <th>2</th>\n",
       "      <td>4109225</td>\n",
       "      <td>time-1617694919_eve-4109214_name-(missing)</td>\n",
       "    </tr>\n",
       "    <tr>\n",
       "      <th>3</th>\n",
       "      <td>4109222</td>\n",
       "      <td>time-1617694919_eve-4109214_name-(missing)</td>\n",
       "    </tr>\n",
       "    <tr>\n",
       "      <th>4</th>\n",
       "      <td>4109217</td>\n",
       "      <td>time-1617694919_eve-4109214_name-(missing)</td>\n",
       "    </tr>\n",
       "  </tbody>\n",
       "</table>\n",
       "</div>"
      ],
      "text/plain": [
       "    avatar                                      family\n",
       "0  4109234  time-1617694919_eve-4109214_name-(missing)\n",
       "1  4109230  time-1617694919_eve-4109214_name-(missing)\n",
       "2  4109225  time-1617694919_eve-4109214_name-(missing)\n",
       "3  4109222  time-1617694919_eve-4109214_name-(missing)\n",
       "4  4109217  time-1617694919_eve-4109214_name-(missing)"
      ]
     },
     "execution_count": 17,
     "metadata": {},
     "output_type": "execute_result"
    }
   ],
   "source": [
    "family_df = pd.read_csv('../2_demographics/outputs/family_playerID.csv')\n",
    "family_df.head()"
   ]
  },
  {
   "cell_type": "markdown",
   "metadata": {},
   "source": [
    "Get family for each player in the current subset:"
   ]
  },
  {
   "cell_type": "code",
   "execution_count": 18,
   "metadata": {},
   "outputs": [],
   "source": [
    "node_families = pd.DataFrame({'avatar': list(G.nodes())})\n",
    "node_families = node_families.merge(family_df, on='avatar')\n",
    "node_families.head()\n",
    "\n",
    "# Helper: Get family label\n",
    "def get_family(avatar):\n",
    "        return node_families[node_families.avatar == avatar].iloc[0]['family']"
   ]
  },
  {
   "cell_type": "markdown",
   "metadata": {},
   "source": [
    "Get pairwise distances between nodes:"
   ]
  },
  {
   "cell_type": "code",
   "execution_count": 19,
   "metadata": {},
   "outputs": [
    {
     "name": "stdout",
     "output_type": "stream",
     "text": [
      "(2406070, {2406070: 0, 2406128: 1, 2406089: 1, 2406044: 1, 2406023: 1, 2406030: 1, 2406114: 2, 2406119: 2, 2406137: 2, 2406157: 2, 2406100: 2, 2406139: 3})\n"
     ]
    }
   ],
   "source": [
    "distances = nx.all_pairs_dijkstra_path_length(G)\n",
    "distances = list(distances)\n",
    "print(distances[0])"
   ]
  },
  {
   "cell_type": "markdown",
   "metadata": {},
   "source": [
    "Assemble into dataframe:"
   ]
  },
  {
   "cell_type": "code",
   "execution_count": 20,
   "metadata": {},
   "outputs": [
    {
     "data": {
      "text/html": [
       "<div>\n",
       "<style scoped>\n",
       "    .dataframe tbody tr th:only-of-type {\n",
       "        vertical-align: middle;\n",
       "    }\n",
       "\n",
       "    .dataframe tbody tr th {\n",
       "        vertical-align: top;\n",
       "    }\n",
       "\n",
       "    .dataframe thead th {\n",
       "        text-align: right;\n",
       "    }\n",
       "</style>\n",
       "<table border=\"1\" class=\"dataframe\">\n",
       "  <thead>\n",
       "    <tr style=\"text-align: right;\">\n",
       "      <th></th>\n",
       "      <th>avatar_i</th>\n",
       "      <th>avatar_j</th>\n",
       "      <th>distance</th>\n",
       "      <th>avatar_x</th>\n",
       "      <th>family_i</th>\n",
       "      <th>avatar_y</th>\n",
       "      <th>family_j</th>\n",
       "      <th>kin</th>\n",
       "    </tr>\n",
       "  </thead>\n",
       "  <tbody>\n",
       "    <tr>\n",
       "      <th>1</th>\n",
       "      <td>2406114</td>\n",
       "      <td>2406070</td>\n",
       "      <td>2</td>\n",
       "      <td>2406114</td>\n",
       "      <td>time-1576186242_eve-2404779_name-CHICOSKY</td>\n",
       "      <td>2406070</td>\n",
       "      <td>time-1576186242_eve-2404779_name-CHICOSKY</td>\n",
       "      <td>Kin</td>\n",
       "    </tr>\n",
       "    <tr>\n",
       "      <th>2</th>\n",
       "      <td>2406089</td>\n",
       "      <td>2406070</td>\n",
       "      <td>5</td>\n",
       "      <td>2406089</td>\n",
       "      <td>time-1576186242_eve-2404779_name-CHICOSKY</td>\n",
       "      <td>2406070</td>\n",
       "      <td>time-1576186242_eve-2404779_name-CHICOSKY</td>\n",
       "      <td>Kin</td>\n",
       "    </tr>\n",
       "    <tr>\n",
       "      <th>3</th>\n",
       "      <td>2406139</td>\n",
       "      <td>2406070</td>\n",
       "      <td>2</td>\n",
       "      <td>2406139</td>\n",
       "      <td>time-1576186242_eve-2404779_name-CHICOSKY</td>\n",
       "      <td>2406070</td>\n",
       "      <td>time-1576186242_eve-2404779_name-CHICOSKY</td>\n",
       "      <td>Kin</td>\n",
       "    </tr>\n",
       "    <tr>\n",
       "      <th>4</th>\n",
       "      <td>2406044</td>\n",
       "      <td>2406070</td>\n",
       "      <td>1</td>\n",
       "      <td>2406044</td>\n",
       "      <td>time-1576186242_eve-2404779_name-CHICOSKY</td>\n",
       "      <td>2406070</td>\n",
       "      <td>time-1576186242_eve-2404779_name-CHICOSKY</td>\n",
       "      <td>Kin</td>\n",
       "    </tr>\n",
       "    <tr>\n",
       "      <th>5</th>\n",
       "      <td>2406128</td>\n",
       "      <td>2406070</td>\n",
       "      <td>1</td>\n",
       "      <td>2406128</td>\n",
       "      <td>time-1576186242_eve-2404779_name-CHICOSKY</td>\n",
       "      <td>2406070</td>\n",
       "      <td>time-1576186242_eve-2404779_name-CHICOSKY</td>\n",
       "      <td>Kin</td>\n",
       "    </tr>\n",
       "  </tbody>\n",
       "</table>\n",
       "</div>"
      ],
      "text/plain": [
       "   avatar_i  avatar_j  distance  avatar_x  \\\n",
       "1   2406114   2406070         2   2406114   \n",
       "2   2406089   2406070         5   2406089   \n",
       "3   2406139   2406070         2   2406139   \n",
       "4   2406044   2406070         1   2406044   \n",
       "5   2406128   2406070         1   2406128   \n",
       "\n",
       "                                    family_i  avatar_y  \\\n",
       "1  time-1576186242_eve-2404779_name-CHICOSKY   2406070   \n",
       "2  time-1576186242_eve-2404779_name-CHICOSKY   2406070   \n",
       "3  time-1576186242_eve-2404779_name-CHICOSKY   2406070   \n",
       "4  time-1576186242_eve-2404779_name-CHICOSKY   2406070   \n",
       "5  time-1576186242_eve-2404779_name-CHICOSKY   2406070   \n",
       "\n",
       "                                    family_j  kin  \n",
       "1  time-1576186242_eve-2404779_name-CHICOSKY  Kin  \n",
       "2  time-1576186242_eve-2404779_name-CHICOSKY  Kin  \n",
       "3  time-1576186242_eve-2404779_name-CHICOSKY  Kin  \n",
       "4  time-1576186242_eve-2404779_name-CHICOSKY  Kin  \n",
       "5  time-1576186242_eve-2404779_name-CHICOSKY  Kin  "
      ]
     },
     "execution_count": 20,
     "metadata": {},
     "output_type": "execute_result"
    }
   ],
   "source": [
    "distances_list = []\n",
    "for a_i, dict_i in distances:\n",
    "    for a_j, w in dict_i.items():\n",
    "        distances_list.append((a_i, a_j, w))\n",
    "distance_df = pd.DataFrame(distances_list, columns=['avatar_i', 'avatar_j', 'distance'])\n",
    "\n",
    "# add family labels\n",
    "distance_df = (\n",
    "    distance_df.merge(node_families, left_on='avatar_i', right_on='avatar')\n",
    "    .rename(columns={'family': 'family_i'})\n",
    "    .merge(node_families, left_on='avatar_j', right_on='avatar')\n",
    "    .rename(columns={'family': 'family_j'})\n",
    ")\n",
    "distance_df['kin'] = np.where(distance_df.family_i == distance_df.family_j, 'Kin', 'Non-kin')\n",
    "distance_df = distance_df[distance_df.avatar_i != distance_df.avatar_j]\n",
    "distance_df.head()"
   ]
  },
  {
   "cell_type": "markdown",
   "metadata": {},
   "source": [
    "Mean graph distance to kin and non-kin:"
   ]
  },
  {
   "cell_type": "code",
   "execution_count": 21,
   "metadata": {},
   "outputs": [
    {
     "data": {
      "text/html": [
       "<div>\n",
       "<style scoped>\n",
       "    .dataframe tbody tr th:only-of-type {\n",
       "        vertical-align: middle;\n",
       "    }\n",
       "\n",
       "    .dataframe tbody tr th {\n",
       "        vertical-align: top;\n",
       "    }\n",
       "\n",
       "    .dataframe thead th {\n",
       "        text-align: right;\n",
       "    }\n",
       "</style>\n",
       "<table border=\"1\" class=\"dataframe\">\n",
       "  <thead>\n",
       "    <tr style=\"text-align: right;\">\n",
       "      <th></th>\n",
       "      <th>avatar_i</th>\n",
       "      <th>kin</th>\n",
       "      <th>distance</th>\n",
       "    </tr>\n",
       "  </thead>\n",
       "  <tbody>\n",
       "    <tr>\n",
       "      <th>0</th>\n",
       "      <td>2405987</td>\n",
       "      <td>Kin</td>\n",
       "      <td>2.384615</td>\n",
       "    </tr>\n",
       "    <tr>\n",
       "      <th>1</th>\n",
       "      <td>2405990</td>\n",
       "      <td>Kin</td>\n",
       "      <td>4.333333</td>\n",
       "    </tr>\n",
       "    <tr>\n",
       "      <th>2</th>\n",
       "      <td>2405990</td>\n",
       "      <td>Non-kin</td>\n",
       "      <td>6.333333</td>\n",
       "    </tr>\n",
       "    <tr>\n",
       "      <th>3</th>\n",
       "      <td>2405992</td>\n",
       "      <td>Kin</td>\n",
       "      <td>2.900000</td>\n",
       "    </tr>\n",
       "    <tr>\n",
       "      <th>4</th>\n",
       "      <td>2405992</td>\n",
       "      <td>Non-kin</td>\n",
       "      <td>1.750000</td>\n",
       "    </tr>\n",
       "  </tbody>\n",
       "</table>\n",
       "</div>"
      ],
      "text/plain": [
       "   avatar_i      kin  distance\n",
       "0   2405987      Kin  2.384615\n",
       "1   2405990      Kin  4.333333\n",
       "2   2405990  Non-kin  6.333333\n",
       "3   2405992      Kin  2.900000\n",
       "4   2405992  Non-kin  1.750000"
      ]
     },
     "execution_count": 21,
     "metadata": {},
     "output_type": "execute_result"
    }
   ],
   "source": [
    "distance_summ = distance_df.groupby(['avatar_i', 'kin'])['distance'].agg('mean').reset_index()\n",
    "distance_summ.head()"
   ]
  },
  {
   "cell_type": "code",
   "execution_count": 22,
   "metadata": {},
   "outputs": [
    {
     "data": {
      "text/plain": [
       "<AxesSubplot:xlabel='kin', ylabel='distance'>"
      ]
     },
     "execution_count": 22,
     "metadata": {},
     "output_type": "execute_result"
    },
    {
     "data": {
      "image/png": "[encoded data removed]",
      "text/plain": [
       "<Figure size 432x288 with 1 Axes>"
      ]
     },
     "metadata": {
      "needs_background": "light"
     },
     "output_type": "display_data"
    }
   ],
   "source": [
    "sns.boxplot(data=distance_summ, x='kin', y='distance')"
   ]
  }
 ],
 "metadata": {
  "kernelspec": {
   "display_name": "ohol",
   "language": "python",
   "name": "ohol"
  },
  "language_info": {
   "codemirror_mode": {
    "name": "ipython",
    "version": 3
   },
   "file_extension": ".py",
   "mimetype": "text/x-python",
   "name": "python",
   "nbconvert_exporter": "python",
   "pygments_lexer": "ipython3",
   "version": "3.6.10"
  }
 },
 "nbformat": 4,
 "nbformat_minor": 2
}
