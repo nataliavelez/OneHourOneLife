{
 "cells": [
  {
   "cell_type": "markdown",
   "metadata": {},
   "source": [
    "# Average proximity to kin vs. non-kin\n",
    "Natalia Vélez, May 2021"
   ]
  },
  {
   "cell_type": "code",
   "execution_count": 1,
   "metadata": {},
   "outputs": [],
   "source": [
    "%matplotlib inline\n",
    "\n",
    "import numpy as np\n",
    "import pandas as pd\n",
    "import pymongo\n",
    "import matplotlib.pyplot as plt\n",
    "import seaborn as sns\n",
    "from os.path import join as opj\n",
    "from scipy.spatial import distance\n",
    "from tqdm import notebook\n",
    "\n",
    "sns.set_style('white')\n",
    "sns.set_context('talk')"
   ]
  },
  {
   "cell_type": "markdown",
   "metadata": {},
   "source": [
    "Connect to database:"
   ]
  },
  {
   "cell_type": "code",
   "execution_count": 2,
   "metadata": {},
   "outputs": [
    {
     "name": "stdout",
     "output_type": "stream",
     "text": [
      "Database(MongoClient(host=['134.76.24.75:27017'], document_class=dict, tz_aware=False, connect=True, authsource='ohol'), 'ohol')\n",
      "['tfidf_matrix.files', 'maplogs', 'item_embeddings', 'tech_tree', 'lifelogs', 'objects', 'expanded_transitions', 'transitions', 'tfidf_matrix.chunks', 'avatar_embeddings', 'activity_matrix.files', 'activity_matrix.chunks', 'cleaned_job_matrix.chunks', 'cleaned_job_matrix.files', 'activity_labels', 'categories']\n"
     ]
    }
   ],
   "source": [
    "keyfile = '../6_database/credentials.key'\n",
    "creds = open(keyfile, \"r\").read().splitlines()\n",
    "myclient = pymongo.MongoClient('134.76.24.75', username=creds[0], password=creds[1], authSource='ohol') \n",
    "db = myclient.ohol\n",
    "\n",
    "print(db)\n",
    "print(db.list_collection_names())"
   ]
  },
  {
   "cell_type": "markdown",
   "metadata": {},
   "source": [
    "Load lifelogs:"
   ]
  },
  {
   "cell_type": "code",
   "execution_count": 3,
   "metadata": {},
   "outputs": [
    {
     "data": {
      "text/html": [
       "<div>\n",
       "<style scoped>\n",
       "    .dataframe tbody tr th:only-of-type {\n",
       "        vertical-align: middle;\n",
       "    }\n",
       "\n",
       "    .dataframe tbody tr th {\n",
       "        vertical-align: top;\n",
       "    }\n",
       "\n",
       "    .dataframe thead th {\n",
       "        text-align: right;\n",
       "    }\n",
       "</style>\n",
       "<table border=\"1\" class=\"dataframe\">\n",
       "  <thead>\n",
       "    <tr style=\"text-align: right;\">\n",
       "      <th></th>\n",
       "      <th>cause_of_death</th>\n",
       "      <th>last</th>\n",
       "      <th>birthY</th>\n",
       "      <th>parent</th>\n",
       "      <th>birthX</th>\n",
       "      <th>gametime</th>\n",
       "      <th>age</th>\n",
       "      <th>deathX</th>\n",
       "      <th>deathY</th>\n",
       "      <th>tBirth</th>\n",
       "      <th>avatar</th>\n",
       "      <th>family</th>\n",
       "      <th>first</th>\n",
       "      <th>n_lives</th>\n",
       "      <th>tDeath</th>\n",
       "      <th>player</th>\n",
       "    </tr>\n",
       "  </thead>\n",
       "  <tbody>\n",
       "    <tr>\n",
       "      <th>0</th>\n",
       "      <td>hunger</td>\n",
       "      <td>PEPPLER</td>\n",
       "      <td>-436</td>\n",
       "      <td>-1</td>\n",
       "      <td>1453</td>\n",
       "      <td>0.0</td>\n",
       "      <td>21.21</td>\n",
       "      <td>1442.0</td>\n",
       "      <td>-419.0</td>\n",
       "      <td>1548814222</td>\n",
       "      <td>3</td>\n",
       "      <td>time-1548814222_eve-3_name-PEPPLER</td>\n",
       "      <td>EVE</td>\n",
       "      <td>0</td>\n",
       "      <td>1.548815e+09</td>\n",
       "      <td>ba474919bfbe67b14ec6e6fd05c19f383152b1b2</td>\n",
       "    </tr>\n",
       "    <tr>\n",
       "      <th>1</th>\n",
       "      <td>murdered</td>\n",
       "      <td>NaN</td>\n",
       "      <td>-436</td>\n",
       "      <td>3</td>\n",
       "      <td>1453</td>\n",
       "      <td>0.0</td>\n",
       "      <td>26.40</td>\n",
       "      <td>1390.0</td>\n",
       "      <td>-436.0</td>\n",
       "      <td>1548814226</td>\n",
       "      <td>4</td>\n",
       "      <td>time-1548814222_eve-3_name-PEPPLER</td>\n",
       "      <td>SLY</td>\n",
       "      <td>0</td>\n",
       "      <td>1.548816e+09</td>\n",
       "      <td>0c1781b6944db9e58b5d71adfe64af09fedad796</td>\n",
       "    </tr>\n",
       "    <tr>\n",
       "      <th>2</th>\n",
       "      <td>murdered</td>\n",
       "      <td>ARK</td>\n",
       "      <td>-395</td>\n",
       "      <td>-1</td>\n",
       "      <td>1366</td>\n",
       "      <td>0.0</td>\n",
       "      <td>39.76</td>\n",
       "      <td>1388.0</td>\n",
       "      <td>-435.0</td>\n",
       "      <td>1548814227</td>\n",
       "      <td>5</td>\n",
       "      <td>time-1548814227_eve-5_name-ARK</td>\n",
       "      <td>EVE</td>\n",
       "      <td>0</td>\n",
       "      <td>1.548816e+09</td>\n",
       "      <td>77a67da50b453a570d1e3311a56cd9da89187cd2</td>\n",
       "    </tr>\n",
       "    <tr>\n",
       "      <th>3</th>\n",
       "      <td>hunger</td>\n",
       "      <td>ARK</td>\n",
       "      <td>-395</td>\n",
       "      <td>5</td>\n",
       "      <td>1366</td>\n",
       "      <td>0.0</td>\n",
       "      <td>6.46</td>\n",
       "      <td>1438.0</td>\n",
       "      <td>-435.0</td>\n",
       "      <td>1548814231</td>\n",
       "      <td>6</td>\n",
       "      <td>time-1548814227_eve-5_name-ARK</td>\n",
       "      <td>FOX</td>\n",
       "      <td>0</td>\n",
       "      <td>1.548815e+09</td>\n",
       "      <td>ae87cea72e02d701fbb807b56113e3f7a3d20b83</td>\n",
       "    </tr>\n",
       "    <tr>\n",
       "      <th>4</th>\n",
       "      <td>hunger</td>\n",
       "      <td>ISA</td>\n",
       "      <td>-393</td>\n",
       "      <td>-1</td>\n",
       "      <td>1438</td>\n",
       "      <td>0.0</td>\n",
       "      <td>31.72</td>\n",
       "      <td>1393.0</td>\n",
       "      <td>-435.0</td>\n",
       "      <td>1548814254</td>\n",
       "      <td>9</td>\n",
       "      <td>time-1548814254_eve-9_name-ISA</td>\n",
       "      <td>EVE</td>\n",
       "      <td>0</td>\n",
       "      <td>1.548815e+09</td>\n",
       "      <td>bace3e725c1df1ef26d5bacd43b0e465eed81bb5</td>\n",
       "    </tr>\n",
       "  </tbody>\n",
       "</table>\n",
       "</div>"
      ],
      "text/plain": [
       "  cause_of_death     last  birthY  parent  birthX  gametime    age  deathX  \\\n",
       "0         hunger  PEPPLER    -436      -1    1453       0.0  21.21  1442.0   \n",
       "1       murdered      NaN    -436       3    1453       0.0  26.40  1390.0   \n",
       "2       murdered      ARK    -395      -1    1366       0.0  39.76  1388.0   \n",
       "3         hunger      ARK    -395       5    1366       0.0   6.46  1438.0   \n",
       "4         hunger      ISA    -393      -1    1438       0.0  31.72  1393.0   \n",
       "\n",
       "   deathY      tBirth  avatar                              family first  \\\n",
       "0  -419.0  1548814222       3  time-1548814222_eve-3_name-PEPPLER   EVE   \n",
       "1  -436.0  1548814226       4  time-1548814222_eve-3_name-PEPPLER   SLY   \n",
       "2  -435.0  1548814227       5      time-1548814227_eve-5_name-ARK   EVE   \n",
       "3  -435.0  1548814231       6      time-1548814227_eve-5_name-ARK   FOX   \n",
       "4  -435.0  1548814254       9      time-1548814254_eve-9_name-ISA   EVE   \n",
       "\n",
       "   n_lives        tDeath                                    player  \n",
       "0        0  1.548815e+09  ba474919bfbe67b14ec6e6fd05c19f383152b1b2  \n",
       "1        0  1.548816e+09  0c1781b6944db9e58b5d71adfe64af09fedad796  \n",
       "2        0  1.548816e+09  77a67da50b453a570d1e3311a56cd9da89187cd2  \n",
       "3        0  1.548815e+09  ae87cea72e02d701fbb807b56113e3f7a3d20b83  \n",
       "4        0  1.548815e+09  bace3e725c1df1ef26d5bacd43b0e465eed81bb5  "
      ]
     },
     "execution_count": 3,
     "metadata": {},
     "output_type": "execute_result"
    }
   ],
   "source": [
    "life_query = db.lifelogs.find({},{'_id': 0, 'player_y': 0}).sort('tBirth').limit(10000) # first 10,000 births\n",
    "life_data = pd.DataFrame(list(life_query))\n",
    "life_data = life_data.rename(columns={'player_x': 'player'}) # clean up data frame\n",
    "\n",
    "life_data.head()"
   ]
  },
  {
   "cell_type": "markdown",
   "metadata": {},
   "source": [
    "## Detect contemporaries\n",
    "\n",
    "This method finds everyone that was alive at a given point and their locations of birth.\n",
    "Note: in the future, we can combine data from the maplogs to get each contemporary's last known location, rather than their birth location. (Individuals might drift substantially over a lifetime.)"
   ]
  },
  {
   "cell_type": "code",
   "execution_count": 4,
   "metadata": {},
   "outputs": [],
   "source": [
    "def living_pop(t):\n",
    "    return life_data[(life_data['tBirth'] <= t) & (life_data['tDeath'] > t)]"
   ]
  },
  {
   "cell_type": "markdown",
   "metadata": {},
   "source": [
    "Average distance to kin and non-kin:"
   ]
  },
  {
   "cell_type": "code",
   "execution_count": 5,
   "metadata": {},
   "outputs": [],
   "source": [
    "def get_avg_distance(row):\n",
    "    # get time of avatar's birth\n",
    "    avatar = row.avatar\n",
    "    avatar_birth = row.tBirth\n",
    "    avatar_fam = row.family\n",
    "\n",
    "\n",
    "    # find all of the avatar's contemporaries\n",
    "    contemporaries = living_pop(avatar_birth)\n",
    "    contemporaries = contemporaries[contemporaries.avatar != avatar] # exclude self\n",
    "\n",
    "    if contemporaries.empty:\n",
    "        # skip if there are no contemporaries\n",
    "        avg_distance = pd.DataFrame(columns=['kin', 'distance', 'avatar'])\n",
    "    else:\n",
    "        # compute distance to kin and non-kin\n",
    "        contemporaries['kin'] = np.where(contemporaries['family'] == avatar_fam, 'Kin', 'Non-kin')\n",
    "        contemporaries['distance'] = contemporaries.apply(lambda c: distance.euclidean((row.birthX, row.birthY),\n",
    "                                                                                       (c.birthX, c.birthY)), axis=1)\n",
    "\n",
    "        # average distance\n",
    "        avg_distance = contemporaries.groupby('kin')['distance'].agg('mean').reset_index()\n",
    "        avg_distance['avatar'] = avatar\n",
    "\n",
    "    return avg_distance"
   ]
  },
  {
   "cell_type": "markdown",
   "metadata": {},
   "source": [
    "Iterate over rows:"
   ]
  },
  {
   "cell_type": "code",
   "execution_count": 6,
   "metadata": {},
   "outputs": [
    {
     "data": {
      "application/vnd.jupyter.widget-view+json": {
       "model_id": "c7089c66e70a4fe4901d992bc4e6b53b",
       "version_major": 2,
       "version_minor": 0
      },
      "text/plain": [
       "  0%|          | 0/10000 [00:00<?, ?it/s]"
      ]
     },
     "metadata": {},
     "output_type": "display_data"
    }
   ],
   "source": [
    "dist_list = []\n",
    "for idx,row in notebook.tqdm(life_data.iterrows(), total = life_data.shape[0]):\n",
    "    d = get_avg_distance(row)\n",
    "    dist_list.append(d)"
   ]
  },
  {
   "cell_type": "markdown",
   "metadata": {},
   "source": [
    "Use log distance:"
   ]
  },
  {
   "cell_type": "code",
   "execution_count": 7,
   "metadata": {},
   "outputs": [
    {
     "data": {
      "text/html": [
       "<div>\n",
       "<style scoped>\n",
       "    .dataframe tbody tr th:only-of-type {\n",
       "        vertical-align: middle;\n",
       "    }\n",
       "\n",
       "    .dataframe tbody tr th {\n",
       "        vertical-align: top;\n",
       "    }\n",
       "\n",
       "    .dataframe thead th {\n",
       "        text-align: right;\n",
       "    }\n",
       "</style>\n",
       "<table border=\"1\" class=\"dataframe\">\n",
       "  <thead>\n",
       "    <tr style=\"text-align: right;\">\n",
       "      <th></th>\n",
       "      <th>kin</th>\n",
       "      <th>distance</th>\n",
       "      <th>avatar</th>\n",
       "      <th>log_distance</th>\n",
       "    </tr>\n",
       "  </thead>\n",
       "  <tbody>\n",
       "    <tr>\n",
       "      <th>0</th>\n",
       "      <td>Kin</td>\n",
       "      <td>1.000000</td>\n",
       "      <td>4</td>\n",
       "      <td>0.000000</td>\n",
       "    </tr>\n",
       "    <tr>\n",
       "      <th>0</th>\n",
       "      <td>Non-kin</td>\n",
       "      <td>97.176920</td>\n",
       "      <td>5</td>\n",
       "      <td>1.987563</td>\n",
       "    </tr>\n",
       "    <tr>\n",
       "      <th>0</th>\n",
       "      <td>Kin</td>\n",
       "      <td>1.000000</td>\n",
       "      <td>6</td>\n",
       "      <td>0.000000</td>\n",
       "    </tr>\n",
       "    <tr>\n",
       "      <th>1</th>\n",
       "      <td>Non-kin</td>\n",
       "      <td>97.176920</td>\n",
       "      <td>6</td>\n",
       "      <td>1.987563</td>\n",
       "    </tr>\n",
       "    <tr>\n",
       "      <th>0</th>\n",
       "      <td>Non-kin</td>\n",
       "      <td>59.784481</td>\n",
       "      <td>9</td>\n",
       "      <td>1.776588</td>\n",
       "    </tr>\n",
       "  </tbody>\n",
       "</table>\n",
       "</div>"
      ],
      "text/plain": [
       "       kin   distance avatar  log_distance\n",
       "0      Kin   1.000000      4      0.000000\n",
       "0  Non-kin  97.176920      5      1.987563\n",
       "0      Kin   1.000000      6      0.000000\n",
       "1  Non-kin  97.176920      6      1.987563\n",
       "0  Non-kin  59.784481      9      1.776588"
      ]
     },
     "execution_count": 7,
     "metadata": {},
     "output_type": "execute_result"
    }
   ],
   "source": [
    "dist_df = pd.concat(dist_list)\n",
    "dist_df['distance'] = dist_df['distance'] + 1\n",
    "dist_df['log_distance'] = np.log10(dist_df['distance'])\n",
    "dist_df.head()"
   ]
  },
  {
   "cell_type": "markdown",
   "metadata": {},
   "source": [
    "Compare distance to kin and non-kin:"
   ]
  },
  {
   "cell_type": "code",
   "execution_count": 8,
   "metadata": {},
   "outputs": [
    {
     "name": "stderr",
     "output_type": "stream",
     "text": [
      "/n/home15/nvelezalicea/.conda/envs/ohol_py3/lib/python3.6/site-packages/ipykernel_launcher.py:4: UserWarning: FixedFormatter should only be used together with FixedLocator\n",
      "  after removing the cwd from sys.path.\n"
     ]
    },
    {
     "data": {
      "text/plain": [
       "[Text(0.5, 0, ''),\n",
       " Text(0, 0.5, 'Avg. distance\\nto contemporaries'),\n",
       " [Text(0, -2.0, '$10^{-2}$'),\n",
       "  Text(0, 0.0, '$10^{0}$'),\n",
       "  Text(0, 2.0, '$10^{2}$'),\n",
       "  Text(0, 4.0, '$10^{4}$'),\n",
       "  Text(0, 6.0, '$10^{6}$'),\n",
       "  Text(0, 8.0, '$10^{8}$'),\n",
       "  Text(0, 10.0, '$10^{10}$')]]"
      ]
     },
     "execution_count": 8,
     "metadata": {},
     "output_type": "execute_result"
    },
    {
     "data": {
      "image/png": "[encoded data removed]",
      "text/plain": [
       "<Figure size 432x288 with 1 Axes>"
      ]
     },
     "metadata": {
      "needs_background": "light"
     },
     "output_type": "display_data"
    }
   ],
   "source": [
    "ax = sns.boxplot(x='kin', y='log_distance', data=dist_df)\n",
    "orig_y = ax.get_yticks()\n",
    "ax.set(xlabel = '', ylabel='Avg. distance\\nto contemporaries',\n",
    "       yticklabels = ['$10^{%i}$' % y_i for y_i in orig_y])"
   ]
  },
  {
   "cell_type": "markdown",
   "metadata": {},
   "source": [
    "Save to file:"
   ]
  },
  {
   "cell_type": "code",
   "execution_count": 9,
   "metadata": {},
   "outputs": [],
   "source": [
    "dist_df.to_csv('outputs/average_distance.csv', index=False)"
   ]
  }
 ],
 "metadata": {
  "kernelspec": {
   "display_name": "ohol",
   "language": "python",
   "name": "ohol"
  },
  "language_info": {
   "codemirror_mode": {
    "name": "ipython",
    "version": 3
   },
   "file_extension": ".py",
   "mimetype": "text/x-python",
   "name": "python",
   "nbconvert_exporter": "python",
   "pygments_lexer": "ipython3",
   "version": "3.6.10"
  }
 },
 "nbformat": 4,
 "nbformat_minor": 4
}
