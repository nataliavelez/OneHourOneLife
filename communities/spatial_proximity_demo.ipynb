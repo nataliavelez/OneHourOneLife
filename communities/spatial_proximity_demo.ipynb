{
 "cells": [
  {
   "cell_type": "markdown",
   "metadata": {},
   "source": [
    "# Average proximity to kin vs. non-kin\n",
    "Natalia Vélez, May 2021"
   ]
  },
  {
   "cell_type": "code",
   "execution_count": 1,
   "metadata": {},
   "outputs": [],
   "source": [
    "%matplotlib inline\n",
    "\n",
    "import numpy as np\n",
    "import pandas as pd\n",
    "import pymongo\n",
    "import matplotlib.pyplot as plt\n",
    "import seaborn as sns\n",
    "from os.path import join as opj\n",
    "from scipy.spatial import distance\n",
    "from tqdm import notebook\n",
    "\n",
    "sns.set_style('white')\n",
    "sns.set_context('talk')"
   ]
  },
  {
   "cell_type": "markdown",
   "metadata": {},
   "source": [
    "Load lifelog data:"
   ]
  },
  {
   "cell_type": "code",
   "execution_count": 2,
   "metadata": {},
   "outputs": [
    {
     "data": {
      "text/html": [
       "<div>\n",
       "<style scoped>\n",
       "    .dataframe tbody tr th:only-of-type {\n",
       "        vertical-align: middle;\n",
       "    }\n",
       "\n",
       "    .dataframe tbody tr th {\n",
       "        vertical-align: top;\n",
       "    }\n",
       "\n",
       "    .dataframe thead th {\n",
       "        text-align: right;\n",
       "    }\n",
       "</style>\n",
       "<table border=\"1\" class=\"dataframe\">\n",
       "  <thead>\n",
       "    <tr style=\"text-align: right;\">\n",
       "      <th></th>\n",
       "      <th>player</th>\n",
       "      <th>avatar</th>\n",
       "      <th>tBirth</th>\n",
       "      <th>parent</th>\n",
       "      <th>birth</th>\n",
       "      <th>sex</th>\n",
       "      <th>tDeath</th>\n",
       "      <th>death</th>\n",
       "      <th>age</th>\n",
       "      <th>cause_of_death</th>\n",
       "      <th>birthX</th>\n",
       "      <th>birthY</th>\n",
       "      <th>deathX</th>\n",
       "      <th>deathY</th>\n",
       "      <th>first</th>\n",
       "      <th>last</th>\n",
       "      <th>family</th>\n",
       "    </tr>\n",
       "  </thead>\n",
       "  <tbody>\n",
       "    <tr>\n",
       "      <th>0</th>\n",
       "      <td>79d28bc07c1f45c6602d5d84f506e36a795751dc</td>\n",
       "      <td>4109237</td>\n",
       "      <td>1617695981</td>\n",
       "      <td>4109188</td>\n",
       "      <td>[-16083    279]</td>\n",
       "      <td>F</td>\n",
       "      <td>NaN</td>\n",
       "      <td>[]</td>\n",
       "      <td>NaN</td>\n",
       "      <td>NaN</td>\n",
       "      <td>-16083</td>\n",
       "      <td>279</td>\n",
       "      <td>NaN</td>\n",
       "      <td>NaN</td>\n",
       "      <td>NaN</td>\n",
       "      <td>NaN</td>\n",
       "      <td>time-1617679935_eve-4108925_name-(missing)</td>\n",
       "    </tr>\n",
       "    <tr>\n",
       "      <th>1</th>\n",
       "      <td>3da17539b16d6fe6911aefc57388bae9d1303e22</td>\n",
       "      <td>4109236</td>\n",
       "      <td>1617695903</td>\n",
       "      <td>4109184</td>\n",
       "      <td>[-15482    374]</td>\n",
       "      <td>F</td>\n",
       "      <td>NaN</td>\n",
       "      <td>[]</td>\n",
       "      <td>NaN</td>\n",
       "      <td>NaN</td>\n",
       "      <td>-15482</td>\n",
       "      <td>374</td>\n",
       "      <td>NaN</td>\n",
       "      <td>NaN</td>\n",
       "      <td>NaN</td>\n",
       "      <td>NaN</td>\n",
       "      <td>time-1617608595_eve-4106600_name-POLLY</td>\n",
       "    </tr>\n",
       "    <tr>\n",
       "      <th>2</th>\n",
       "      <td>b14977d2ebf15c9c0d643378aacedb42e8a43757</td>\n",
       "      <td>4109235</td>\n",
       "      <td>1617695831</td>\n",
       "      <td>4109188</td>\n",
       "      <td>[-16095    276]</td>\n",
       "      <td>F</td>\n",
       "      <td>NaN</td>\n",
       "      <td>[]</td>\n",
       "      <td>NaN</td>\n",
       "      <td>NaN</td>\n",
       "      <td>-16095</td>\n",
       "      <td>276</td>\n",
       "      <td>NaN</td>\n",
       "      <td>NaN</td>\n",
       "      <td>NaN</td>\n",
       "      <td>NaN</td>\n",
       "      <td>time-1617679935_eve-4108925_name-(missing)</td>\n",
       "    </tr>\n",
       "    <tr>\n",
       "      <th>3</th>\n",
       "      <td>2da3db708a04acdf8f3e52486e4cfbd820cfb766</td>\n",
       "      <td>4109234</td>\n",
       "      <td>1617695804</td>\n",
       "      <td>4109214</td>\n",
       "      <td>[-16807     79]</td>\n",
       "      <td>M</td>\n",
       "      <td>1.617696e+09</td>\n",
       "      <td>[-16807     79]</td>\n",
       "      <td>0.03</td>\n",
       "      <td>disconnect</td>\n",
       "      <td>-16807</td>\n",
       "      <td>79</td>\n",
       "      <td>-16807.0</td>\n",
       "      <td>79.0</td>\n",
       "      <td>NaN</td>\n",
       "      <td>NaN</td>\n",
       "      <td>time-1617694919_eve-4109214_name-(missing)</td>\n",
       "    </tr>\n",
       "    <tr>\n",
       "      <th>4</th>\n",
       "      <td>3da17539b16d6fe6911aefc57388bae9d1303e22</td>\n",
       "      <td>4109233</td>\n",
       "      <td>1617695734</td>\n",
       "      <td>4109211</td>\n",
       "      <td>[-16219    -46]</td>\n",
       "      <td>M</td>\n",
       "      <td>1.617696e+09</td>\n",
       "      <td>[-16354   -121]</td>\n",
       "      <td>2.61</td>\n",
       "      <td>hunger</td>\n",
       "      <td>-16219</td>\n",
       "      <td>-46</td>\n",
       "      <td>-16354.0</td>\n",
       "      <td>-121.0</td>\n",
       "      <td>NaN</td>\n",
       "      <td>NaN</td>\n",
       "      <td>time-1617684391_eve-4109034_name-(missing)</td>\n",
       "    </tr>\n",
       "  </tbody>\n",
       "</table>\n",
       "</div>"
      ],
      "text/plain": [
       "                                     player   avatar      tBirth   parent  \\\n",
       "0  79d28bc07c1f45c6602d5d84f506e36a795751dc  4109237  1617695981  4109188   \n",
       "1  3da17539b16d6fe6911aefc57388bae9d1303e22  4109236  1617695903  4109184   \n",
       "2  b14977d2ebf15c9c0d643378aacedb42e8a43757  4109235  1617695831  4109188   \n",
       "3  2da3db708a04acdf8f3e52486e4cfbd820cfb766  4109234  1617695804  4109214   \n",
       "4  3da17539b16d6fe6911aefc57388bae9d1303e22  4109233  1617695734  4109211   \n",
       "\n",
       "             birth sex        tDeath            death   age cause_of_death  \\\n",
       "0  [-16083    279]   F           NaN               []   NaN            NaN   \n",
       "1  [-15482    374]   F           NaN               []   NaN            NaN   \n",
       "2  [-16095    276]   F           NaN               []   NaN            NaN   \n",
       "3  [-16807     79]   M  1.617696e+09  [-16807     79]  0.03     disconnect   \n",
       "4  [-16219    -46]   M  1.617696e+09  [-16354   -121]  2.61         hunger   \n",
       "\n",
       "   birthX  birthY   deathX  deathY first last  \\\n",
       "0  -16083     279      NaN     NaN   NaN  NaN   \n",
       "1  -15482     374      NaN     NaN   NaN  NaN   \n",
       "2  -16095     276      NaN     NaN   NaN  NaN   \n",
       "3  -16807      79 -16807.0    79.0   NaN  NaN   \n",
       "4  -16219     -46 -16354.0  -121.0   NaN  NaN   \n",
       "\n",
       "                                       family  \n",
       "0  time-1617679935_eve-4108925_name-(missing)  \n",
       "1      time-1617608595_eve-4106600_name-POLLY  \n",
       "2  time-1617679935_eve-4108925_name-(missing)  \n",
       "3  time-1617694919_eve-4109214_name-(missing)  \n",
       "4  time-1617684391_eve-4109034_name-(missing)  "
      ]
     },
     "execution_count": 2,
     "metadata": {},
     "output_type": "execute_result"
    }
   ],
   "source": [
    "## UNCOMMENT TO LOAD FROM DATABASE\n",
    "# keyfile = '../6_database/credentials.key'\n",
    "# creds = open(keyfile, \"r\").read().splitlines()\n",
    "# myclient = pymongo.MongoClient('134.76.24.75', username=creds[0], password=creds[1], authSource='ohol') \n",
    "# db = myclient.ohol\n",
    "\n",
    "# print(db)\n",
    "# print(db.list_collection_names())\n",
    "\n",
    "# # Load data\n",
    "# life_query = db.lifelogs.find({},{'_id': 0}).sort('tBirth').limit(10000) # first 10,000 births\n",
    "# life_data = pd.DataFrame(list(life_query))\n",
    "# life_data.head()\n",
    "\n",
    "## Loading from local copy\n",
    "fam_data = pd.read_csv('../2_demographics/outputs/family_playerID.csv')\n",
    "life_data = pd.read_csv('../2_demographics/outputs/all_lifelogs_compact.csv')\n",
    "life_data = pd.merge(life_data, fam_data, on='avatar')\n",
    "life_data = life_data.head(10000) # DEMO ONLY\n",
    "life_data.head()"
   ]
  },
  {
   "cell_type": "markdown",
   "metadata": {},
   "source": [
    "## Detect contemporaries\n",
    "\n",
    "This method finds everyone that was alive at a given point and their locations of birth.\n",
    "Note: in the future, we can combine data from the maplogs to get each contemporary's last known location, rather than their birth location. (Individuals might drift substantially over a lifetime.)"
   ]
  },
  {
   "cell_type": "code",
   "execution_count": 3,
   "metadata": {},
   "outputs": [],
   "source": [
    "def living_pop(t):\n",
    "    return life_data[(life_data['tBirth'] <= t) & (life_data['tDeath'] > t)]"
   ]
  },
  {
   "cell_type": "markdown",
   "metadata": {},
   "source": [
    "Average distance to kin and non-kin:"
   ]
  },
  {
   "cell_type": "code",
   "execution_count": 4,
   "metadata": {},
   "outputs": [],
   "source": [
    "def get_avg_distance(row):\n",
    "    # get time of avatar's birth\n",
    "    avatar = row.avatar\n",
    "    avatar_birth = row.tBirth\n",
    "    avatar_fam = row.family\n",
    "\n",
    "    # find all of the avatar's contemporaries\n",
    "    contemporaries = living_pop(avatar_birth)\n",
    "    contemporaries = contemporaries[contemporaries.avatar != avatar] # exclude self\n",
    "\n",
    "    if contemporaries.empty:\n",
    "        # skip if there are no contemporaries\n",
    "        avg_distance = pd.DataFrame(columns=['kin', 'distance', 'avatar'])\n",
    "    else:\n",
    "        # compute distance to kin and non-kin\n",
    "        contemporaries['kin'] = np.where(contemporaries['family'] == avatar_fam, 'Kin', 'Non-kin')\n",
    "        contemporaries['distance'] = contemporaries.apply(lambda c: distance.euclidean((row.birthX, row.birthY),\n",
    "                                                                                       (c.birthX, c.birthY)), axis=1)\n",
    "\n",
    "        # average distance\n",
    "        avg_distance = contemporaries.groupby('kin')['distance'].agg('mean').reset_index()\n",
    "        avg_distance['avatar'] = avatar\n",
    "\n",
    "    return avg_distance"
   ]
  },
  {
   "cell_type": "markdown",
   "metadata": {},
   "source": [
    "Iterate over groups:"
   ]
  },
  {
   "cell_type": "code",
   "execution_count": 5,
   "metadata": {},
   "outputs": [
    {
     "data": {
      "application/vnd.jupyter.widget-view+json": {
       "model_id": "364eb4741053481ba48b54c9439ca39f",
       "version_major": 2,
       "version_minor": 0
      },
      "text/plain": [
       "  0%|          | 0/10000 [00:00<?, ?it/s]"
      ]
     },
     "metadata": {},
     "output_type": "display_data"
    }
   ],
   "source": [
    "dist_list = []\n",
    "for idx,row in notebook.tqdm(life_data.iterrows(), total = life_data.shape[0]):\n",
    "    d = get_avg_distance(row)\n",
    "    dist_list.append(d)"
   ]
  },
  {
   "cell_type": "markdown",
   "metadata": {},
   "source": [
    "Use log distance:"
   ]
  },
  {
   "cell_type": "code",
   "execution_count": 6,
   "metadata": {},
   "outputs": [
    {
     "data": {
      "text/html": [
       "<div>\n",
       "<style scoped>\n",
       "    .dataframe tbody tr th:only-of-type {\n",
       "        vertical-align: middle;\n",
       "    }\n",
       "\n",
       "    .dataframe tbody tr th {\n",
       "        vertical-align: top;\n",
       "    }\n",
       "\n",
       "    .dataframe thead th {\n",
       "        text-align: right;\n",
       "    }\n",
       "</style>\n",
       "<table border=\"1\" class=\"dataframe\">\n",
       "  <thead>\n",
       "    <tr style=\"text-align: right;\">\n",
       "      <th></th>\n",
       "      <th>kin</th>\n",
       "      <th>distance</th>\n",
       "      <th>avatar</th>\n",
       "      <th>log_distance</th>\n",
       "    </tr>\n",
       "  </thead>\n",
       "  <tbody>\n",
       "    <tr>\n",
       "      <th>0</th>\n",
       "      <td>Non-kin</td>\n",
       "      <td>564.876760</td>\n",
       "      <td>4109237</td>\n",
       "      <td>2.751954</td>\n",
       "    </tr>\n",
       "    <tr>\n",
       "      <th>0</th>\n",
       "      <td>Kin</td>\n",
       "      <td>47.957428</td>\n",
       "      <td>4109236</td>\n",
       "      <td>1.680856</td>\n",
       "    </tr>\n",
       "    <tr>\n",
       "      <th>0</th>\n",
       "      <td>Non-kin</td>\n",
       "      <td>473.548778</td>\n",
       "      <td>4109235</td>\n",
       "      <td>2.675365</td>\n",
       "    </tr>\n",
       "    <tr>\n",
       "      <th>0</th>\n",
       "      <td>Non-kin</td>\n",
       "      <td>836.942099</td>\n",
       "      <td>4109234</td>\n",
       "      <td>2.922695</td>\n",
       "    </tr>\n",
       "    <tr>\n",
       "      <th>0</th>\n",
       "      <td>Kin</td>\n",
       "      <td>191.812908</td>\n",
       "      <td>4109233</td>\n",
       "      <td>2.282878</td>\n",
       "    </tr>\n",
       "  </tbody>\n",
       "</table>\n",
       "</div>"
      ],
      "text/plain": [
       "       kin    distance   avatar  log_distance\n",
       "0  Non-kin  564.876760  4109237      2.751954\n",
       "0      Kin   47.957428  4109236      1.680856\n",
       "0  Non-kin  473.548778  4109235      2.675365\n",
       "0  Non-kin  836.942099  4109234      2.922695\n",
       "0      Kin  191.812908  4109233      2.282878"
      ]
     },
     "execution_count": 6,
     "metadata": {},
     "output_type": "execute_result"
    }
   ],
   "source": [
    "dist_df = pd.concat(dist_list)\n",
    "dist_df['distance'] = dist_df['distance'] + 1\n",
    "dist_df['log_distance'] = np.log10(dist_df['distance'])\n",
    "dist_df.head()"
   ]
  },
  {
   "cell_type": "markdown",
   "metadata": {},
   "source": [
    "Compare distance to kin and non-kin:"
   ]
  },
  {
   "cell_type": "code",
   "execution_count": 7,
   "metadata": {},
   "outputs": [
    {
     "name": "stderr",
     "output_type": "stream",
     "text": [
      "/n/home15/nvelezalicea/.conda/envs/ohol_py3/lib/python3.6/site-packages/ipykernel_launcher.py:4: UserWarning: FixedFormatter should only be used together with FixedLocator\n",
      "  after removing the cwd from sys.path.\n"
     ]
    },
    {
     "data": {
      "text/plain": [
       "[Text(0.5, 0, ''),\n",
       " Text(0, 0.5, 'Avg. distance\\nto contemporaries'),\n",
       " [Text(0, -2.0, '$10^{-2}$'),\n",
       "  Text(0, 0.0, '$10^{0}$'),\n",
       "  Text(0, 2.0, '$10^{2}$'),\n",
       "  Text(0, 4.0, '$10^{4}$'),\n",
       "  Text(0, 6.0, '$10^{6}$'),\n",
       "  Text(0, 8.0, '$10^{8}$')]]"
      ]
     },
     "execution_count": 7,
     "metadata": {},
     "output_type": "execute_result"
    },
    {
     "data": {
      "image/png": "[encoded data removed]",
      "text/plain": [
       "<Figure size 432x288 with 1 Axes>"
      ]
     },
     "metadata": {
      "needs_background": "light"
     },
     "output_type": "display_data"
    }
   ],
   "source": [
    "ax = sns.boxplot(x='kin', y='log_distance', data=dist_df)\n",
    "orig_y = ax.get_yticks()\n",
    "ax.set(xlabel = '', ylabel='Avg. distance\\nto contemporaries',\n",
    "       yticklabels = ['$10^{%i}$' % y_i for y_i in orig_y])"
   ]
  },
  {
   "cell_type": "markdown",
   "metadata": {},
   "source": [
    "Save to file:"
   ]
  },
  {
   "cell_type": "code",
   "execution_count": 8,
   "metadata": {},
   "outputs": [],
   "source": [
    "dist_df.to_csv('outputs/average_distance.csv', index=False)"
   ]
  }
 ],
 "metadata": {
  "kernelspec": {
   "display_name": "ohol",
   "language": "python",
   "name": "ohol"
  },
  "language_info": {
   "codemirror_mode": {
    "name": "ipython",
    "version": 3
   },
   "file_extension": ".py",
   "mimetype": "text/x-python",
   "name": "python",
   "nbconvert_exporter": "python",
   "pygments_lexer": "ipython3",
   "version": "3.6.10"
  }
 },
 "nbformat": 4,
 "nbformat_minor": 4
}
