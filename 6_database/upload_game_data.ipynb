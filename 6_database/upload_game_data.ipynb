{
 "cells": [
  {
   "cell_type": "markdown",
   "id": "8648b0be",
   "metadata": {},
   "source": [
    "# Upload game data\n",
    "Natalia Vélez, April 2021\n",
    "\n",
    "This notebook reads object, category, and transition data contained within the [OneLifeData7](https://github.com/jasonrohrer/OneLifeData7) repository and uploads game data to the database."
   ]
  },
  {
   "cell_type": "code",
   "execution_count": 1,
   "id": "6ee5680e",
   "metadata": {},
   "outputs": [],
   "source": [
    "import pymongo\n",
    "import os\n",
    "import fnmatch\n",
    "import json\n",
    "import pprint\n",
    "import pandas as pd\n",
    "import numpy as np\n",
    "from tqdm import notebook\n",
    "\n",
    "# Project-specific modules\n",
    "import sys\n",
    "sys.path.append('..')\n",
    "from utils import gsearch, int_extract\n",
    "import ohol_objects as obj\n",
    "import ohol_categories as cat\n",
    "import ohol_transitions as trans\n",
    "\n",
    "data_dir = '../../OneLifeData7'"
   ]
  },
  {
   "cell_type": "markdown",
   "id": "3781c4ba",
   "metadata": {},
   "source": [
    "## Process game data"
   ]
  },
  {
   "cell_type": "markdown",
   "id": "5d94230a",
   "metadata": {},
   "source": [
    "### Objects"
   ]
  },
  {
   "cell_type": "markdown",
   "id": "96c044e1",
   "metadata": {},
   "source": [
    "Get all object files:"
   ]
  },
  {
   "cell_type": "code",
   "execution_count": 2,
   "id": "9f05cb0c",
   "metadata": {},
   "outputs": [
    {
     "name": "stdout",
     "output_type": "stream",
     "text": [
      "Found 4161 objects\n",
      "../../OneLifeData7/objects/100.txt\n",
      "../../OneLifeData7/objects/1000.txt\n",
      "../../OneLifeData7/objects/1001.txt\n",
      "../../OneLifeData7/objects/1002.txt\n",
      "../../OneLifeData7/objects/1003.txt\n",
      "../../OneLifeData7/objects/1006.txt\n",
      "../../OneLifeData7/objects/1007.txt\n",
      "../../OneLifeData7/objects/1008.txt\n",
      "../../OneLifeData7/objects/1009.txt\n",
      "../../OneLifeData7/objects/1010.txt\n",
      "...\n"
     ]
    }
   ],
   "source": [
    "obj_files = gsearch(data_dir, 'objects', '[0-9]*.txt')\n",
    "obj_files.sort()\n",
    "print('Found %i objects' % len(obj_files))\n",
    "print(*obj_files[:10], sep='\\n')\n",
    "print('...')"
   ]
  },
  {
   "cell_type": "markdown",
   "id": "5b6958e6",
   "metadata": {},
   "source": [
    "Helper function: Read object data"
   ]
  },
  {
   "cell_type": "code",
   "execution_count": 3,
   "id": "177d420b",
   "metadata": {},
   "outputs": [
    {
     "name": "stdout",
     "output_type": "stream",
     "text": [
      "{'id': 100, 'name': 'White Pine Tree with Needles', 'containable': 0, 'containSize': 1, 'vertSlotRot': 0.0, 'permanent': 1, 'minPickupAge': 3, 'heldInHand': 0, 'blocksWalking': 1, 'leftBlockingRadius': 0, 'rightBlockingRadius': 0, 'drawBehindPlayer': 0, 'mapChance': 1.0, 'heatValue': 0, 'rValue': 0.0, 'person': 0, 'noSpawn': 0, 'male': 0, 'deathMarker': 0, 'foodValue': 0, 'speedMult': 1.0, 'heldOffset': [0.0, 0.0], 'clothing': 'n', 'clothingOffset': [0.0, 0.0], 'deadlyDistance': 0, 'useDistance': 1, 'sounds': ['-1:0.250000', '-1:0.250000', '-1:0.250000', '-1:1.000000'], 'creationSoundInitialOnly': 0, 'numSlots': 0, 'timeStretch': 1.0, 'slotSize': 1, 'numSprites': 7, 'spriteID': 317, 'pos': [-3.0, 0.0], 'rot': 0.0, 'hFlip': 0, 'color': [1.0, 1.0, 1.0], 'ageRange': [-1.0, -1.0], 'parent': -1, 'invisHolding': 0, 'invisWorn': 0, 'behindSlots': 0, 'headIndex': -1, 'bodyIndex': -1, 'backFootIndex': -1, 'frontFootIndex': -1, 'numUses': 1, 'useVanishIndex': -1, 'useAppearIndex': -1, 'pixHeight': 386}\n"
     ]
    }
   ],
   "source": [
    "def load_obj(path):\n",
    "    obj_id = int_extract('(?<=objects/)[0-9]+(?=\\.txt)', path)\n",
    "    obj_data = obj.read_obj(obj_id)\n",
    "    return obj_data\n",
    "\n",
    "print(load_obj(obj_files[0]))"
   ]
  },
  {
   "cell_type": "markdown",
   "id": "b6c06645",
   "metadata": {},
   "source": [
    "Iterate over all objects:"
   ]
  },
  {
   "cell_type": "code",
   "execution_count": 4,
   "id": "0a70a6b2",
   "metadata": {},
   "outputs": [
    {
     "data": {
      "application/vnd.jupyter.widget-view+json": {
       "model_id": "134a178ac45947df92ee89301cc1b78f",
       "version_major": 2,
       "version_minor": 0
      },
      "text/plain": [
       "  0%|          | 0/4161 [00:00<?, ?it/s]"
      ]
     },
     "metadata": {},
     "output_type": "display_data"
    }
   ],
   "source": [
    "# Load data for all objects\n",
    "all_objects = []\n",
    "for f in notebook.tqdm(obj_files):\n",
    "    all_objects.append(load_obj(f))\n",
    "\n",
    "# Sort objects in order added to game\n",
    "all_objects.sort(key=lambda o:o['id'])"
   ]
  },
  {
   "cell_type": "markdown",
   "id": "540a06bd",
   "metadata": {},
   "source": [
    "Example object:"
   ]
  },
  {
   "cell_type": "code",
   "execution_count": 5,
   "id": "b553f07a",
   "metadata": {},
   "outputs": [
    {
     "name": "stdout",
     "output_type": "stream",
     "text": [
      "{'id': 40,\n",
      " 'name': 'Wild Carrot',\n",
      " 'containable': 1,\n",
      " 'containSize': 1,\n",
      " 'vertSlotRot': 0.0,\n",
      " 'permanent': 0,\n",
      " 'minPickupAge': 3,\n",
      " 'heldInHand': 1,\n",
      " 'blocksWalking': 0,\n",
      " 'leftBlockingRadius': 0,\n",
      " 'rightBlockingRadius': 0,\n",
      " 'drawBehindPlayer': 0,\n",
      " 'mapChance': 0.0,\n",
      " 'heatValue': 0,\n",
      " 'rValue': 0.0,\n",
      " 'person': 0,\n",
      " 'noSpawn': 0,\n",
      " 'male': 0,\n",
      " 'deathMarker': 0,\n",
      " 'foodValue': 5,\n",
      " 'speedMult': 1.0,\n",
      " 'heldOffset': [1.0, -3.0],\n",
      " 'clothing': 'n',\n",
      " 'clothingOffset': [0.0, 0.0],\n",
      " 'deadlyDistance': 0,\n",
      " 'useDistance': 1,\n",
      " 'sounds': ['-1:0.250000', '-1:0.250000', '143:0.250000', '-1:1.000000'],\n",
      " 'creationSoundInitialOnly': 0,\n",
      " 'numSlots': 0,\n",
      " 'timeStretch': 1.0,\n",
      " 'slotSize': 1,\n",
      " 'numSprites': 1,\n",
      " 'spriteID': 163,\n",
      " 'pos': [-3.0, -40.0],\n",
      " 'rot': -0.25,\n",
      " 'hFlip': 0,\n",
      " 'color': [1.0, 1.0, 1.0],\n",
      " 'ageRange': [-1.0, -1.0],\n",
      " 'parent': -1,\n",
      " 'invisHolding': 0,\n",
      " 'invisWorn': 0,\n",
      " 'behindSlots': 0,\n",
      " 'headIndex': -1,\n",
      " 'bodyIndex': -1,\n",
      " 'backFootIndex': -1,\n",
      " 'frontFootIndex': -1,\n",
      " 'numUses': 1,\n",
      " 'useVanishIndex': -1,\n",
      " 'useAppearIndex': -1,\n",
      " 'pixHeight': 0}\n"
     ]
    }
   ],
   "source": [
    "pprint.pp(all_objects[10])"
   ]
  },
  {
   "cell_type": "markdown",
   "id": "19349794",
   "metadata": {},
   "source": [
    "### Categories"
   ]
  },
  {
   "cell_type": "markdown",
   "id": "9f451423",
   "metadata": {},
   "source": [
    "Get all category files:"
   ]
  },
  {
   "cell_type": "code",
   "execution_count": 6,
   "id": "049caab4",
   "metadata": {},
   "outputs": [
    {
     "name": "stdout",
     "output_type": "stream",
     "text": [
      "269 categories found\n",
      "../../OneLifeData7/categories/1001.txt\n",
      "../../OneLifeData7/categories/1016.txt\n",
      "../../OneLifeData7/categories/1017.txt\n",
      "../../OneLifeData7/categories/1018.txt\n",
      "../../OneLifeData7/categories/1019.txt\n",
      "../../OneLifeData7/categories/1022.txt\n",
      "../../OneLifeData7/categories/1023.txt\n",
      "../../OneLifeData7/categories/1024.txt\n",
      "../../OneLifeData7/categories/1033.txt\n",
      "../../OneLifeData7/categories/1034.txt\n",
      "...\n"
     ]
    }
   ],
   "source": [
    "cat_files = gsearch(data_dir, 'categories', '*.txt')\n",
    "cat_files.sort()\n",
    "print('%i categories found' % len(cat_files))\n",
    "print(*cat_files[:10], sep='\\n')\n",
    "print('...')"
   ]
  },
  {
   "cell_type": "markdown",
   "id": "860fb03d",
   "metadata": {},
   "source": [
    "Helper function: Read category data"
   ]
  },
  {
   "cell_type": "code",
   "execution_count": 7,
   "id": "6a38adfd",
   "metadata": {},
   "outputs": [
    {
     "name": "stdout",
     "output_type": "stream",
     "text": [
      "{'parentID': 1001, 'numObjects': 2, 'probabilistic': False, 'pattern': False, 'children': [912, 1000], 'probs': None}\n"
     ]
    }
   ],
   "source": [
    "def load_cat(path):\n",
    "    cat_id = int_extract('(?<=categories/)[0-9]+(?=\\.txt)', path)\n",
    "    cat_data = cat.read_cat(cat_id)\n",
    "    return cat_data\n",
    "\n",
    "print(load_cat(cat_files[0]))"
   ]
  },
  {
   "cell_type": "markdown",
   "id": "4d030e54",
   "metadata": {},
   "source": [
    "Load category data:"
   ]
  },
  {
   "cell_type": "code",
   "execution_count": 8,
   "id": "b4c7ceb8",
   "metadata": {},
   "outputs": [
    {
     "data": {
      "application/vnd.jupyter.widget-view+json": {
       "model_id": "b1b8f15be906432fb01ecf182c6be71a",
       "version_major": 2,
       "version_minor": 0
      },
      "text/plain": [
       "  0%|          | 0/269 [00:00<?, ?it/s]"
      ]
     },
     "metadata": {},
     "output_type": "display_data"
    }
   ],
   "source": [
    "all_cats = []\n",
    "for f in notebook.tqdm(cat_files):\n",
    "    all_cats.append(load_cat(f))\n",
    "    \n",
    "# Sort categories by ID\n",
    "all_cats.sort(key=lambda c:c['parentID'])"
   ]
  },
  {
   "cell_type": "code",
   "execution_count": 9,
   "id": "2301f95a",
   "metadata": {},
   "outputs": [
    {
     "name": "stdout",
     "output_type": "stream",
     "text": [
      "{'parentID': 316,\n",
      " 'numObjects': 3,\n",
      " 'probabilistic': False,\n",
      " 'pattern': True,\n",
      " 'children': [2505, 2517, 3002],\n",
      " 'probs': None}\n"
     ]
    }
   ],
   "source": [
    "pprint.pp(all_cats[0])"
   ]
  },
  {
   "cell_type": "markdown",
   "id": "aae96533",
   "metadata": {},
   "source": [
    "### Transitions"
   ]
  },
  {
   "cell_type": "markdown",
   "id": "e8ee6331",
   "metadata": {},
   "source": [
    "Find transition files:"
   ]
  },
  {
   "cell_type": "code",
   "execution_count": 10,
   "id": "c3776d50",
   "metadata": {},
   "outputs": [
    {
     "name": "stdout",
     "output_type": "stream",
     "text": [
      "Found 4847 transitions\n",
      "../../OneLifeData7/transitions/67_2970.txt\n",
      "../../OneLifeData7/transitions/235_1890.txt\n",
      "../../OneLifeData7/transitions/441_445.txt\n",
      "../../OneLifeData7/transitions/0_2671.txt\n",
      "../../OneLifeData7/transitions/239_335.txt\n",
      "../../OneLifeData7/transitions/405_254.txt\n",
      "../../OneLifeData7/transitions/0_4302.txt\n",
      "../../OneLifeData7/transitions/0_2359.txt\n",
      "../../OneLifeData7/transitions/-1_420_LT.txt\n",
      "../../OneLifeData7/transitions/4542_-1.txt\n"
     ]
    }
   ],
   "source": [
    "trans_files = gsearch(data_dir, 'transitions', '*.txt')\n",
    "print('Found %i transitions' % len(trans_files))\n",
    "print(*trans_files[:10], sep='\\n')"
   ]
  },
  {
   "cell_type": "code",
   "execution_count": 11,
   "id": "aa1c3556",
   "metadata": {},
   "outputs": [
    {
     "data": {
      "text/plain": [
       "{'origActor': -1,\n",
       " 'origTarget': 420,\n",
       " 'newActor': 0,\n",
       " 'newTarget': 429,\n",
       " 'autoDecaySeconds': 1,\n",
       " 'actorMinUseFraction': 0.0,\n",
       " 'targetMinUseFraction': 0.0,\n",
       " 'reverseUseActor': 0,\n",
       " 'reverseUseTarget': 0,\n",
       " 'move': 2,\n",
       " 'desiredMoveDist': 1,\n",
       " 'lastUseActor': False,\n",
       " 'lastUseTarget': True,\n",
       " 'origActorName': 'Empty',\n",
       " 'origTargetName': 'Shot Wolf',\n",
       " 'newActorName': 'Empty',\n",
       " 'newTargetName': 'Dying Shot Wolf',\n",
       " 'isTool': False}"
      ]
     },
     "execution_count": 11,
     "metadata": {},
     "output_type": "execute_result"
    }
   ],
   "source": [
    "trans.read_transition('../../OneLifeData7/transitions/-1_420_LT.txt')"
   ]
  },
  {
   "cell_type": "code",
   "execution_count": 12,
   "id": "3bdd0db0",
   "metadata": {},
   "outputs": [
    {
     "data": {
      "application/vnd.jupyter.widget-view+json": {
       "model_id": "6b5a5be890b7436aad9c2999938f91df",
       "version_major": 2,
       "version_minor": 0
      },
      "text/plain": [
       "  0%|          | 0/4847 [00:00<?, ?it/s]"
      ]
     },
     "metadata": {},
     "output_type": "display_data"
    }
   ],
   "source": [
    "all_transitions = []\n",
    "for f in notebook.tqdm(trans_files):\n",
    "    all_transitions.append(trans.read_transition(f))"
   ]
  },
  {
   "cell_type": "code",
   "execution_count": 13,
   "id": "8338b2e8",
   "metadata": {},
   "outputs": [
    {
     "name": "stdout",
     "output_type": "stream",
     "text": [
      "{'origActor': 67,\n",
      " 'origTarget': 2970,\n",
      " 'newActor': 0,\n",
      " 'newTarget': 2966,\n",
      " 'autoDecaySeconds': 0,\n",
      " 'actorMinUseFraction': 0.0,\n",
      " 'targetMinUseFraction': 0.0,\n",
      " 'reverseUseActor': 0,\n",
      " 'reverseUseTarget': 0,\n",
      " 'move': 0,\n",
      " 'desiredMoveDist': 1,\n",
      " 'noUseActor': 0,\n",
      " 'noUseTarget': 0,\n",
      " 'lastUseActor': False,\n",
      " 'lastUseTarget': False,\n",
      " 'origActorName': 'Long Straight Shaft',\n",
      " 'origTargetName': 'Approved Property Fence - +horizontalB +wall',\n",
      " 'newActorName': 'Empty',\n",
      " 'newTargetName': 'Proposed Property Gate - +causeAutoOrientH +wall',\n",
      " 'isTool': True}\n"
     ]
    }
   ],
   "source": [
    "pprint.pp(all_transitions[0])"
   ]
  },
  {
   "cell_type": "markdown",
   "id": "7c3228a4",
   "metadata": {},
   "source": [
    "## Upload to database"
   ]
  },
  {
   "cell_type": "markdown",
   "id": "d7588707",
   "metadata": {},
   "source": [
    "### Connect to database"
   ]
  },
  {
   "cell_type": "code",
   "execution_count": 14,
   "id": "ce492820",
   "metadata": {},
   "outputs": [],
   "source": [
    "#find *.key containing username and password on separate lines(untracked using .gitignore)\n",
    "for file_name in os.listdir():\n",
    "    if fnmatch.fnmatch(file_name,'*.key'):\n",
    "        keyfile = file_name"
   ]
  },
  {
   "cell_type": "code",
   "execution_count": 15,
   "id": "5288ee0a",
   "metadata": {},
   "outputs": [
    {
     "name": "stdout",
     "output_type": "stream",
     "text": [
      "MongoClient(host=['134.76.24.75:27017'], document_class=dict, tz_aware=False, connect=True, authsource='ohol')\n"
     ]
    }
   ],
   "source": [
    "#Connection string\n",
    "creds = open(keyfile, \"r\").read().splitlines()\n",
    "myclient = pymongo.MongoClient('134.76.24.75', username=creds[0], password=creds[1], authSource='ohol') \n",
    "print(myclient)"
   ]
  },
  {
   "cell_type": "code",
   "execution_count": 16,
   "id": "64d190e8",
   "metadata": {},
   "outputs": [
    {
     "data": {
      "text/plain": [
       "['lifelogs', 'svd', 'families', 'test', 'fs.files', 'jobmatrix', 'fs.chunks']"
      ]
     },
     "execution_count": 16,
     "metadata": {},
     "output_type": "execute_result"
    }
   ],
   "source": [
    "ohol = myclient.ohol\n",
    "ohol.list_collection_names()"
   ]
  },
  {
   "cell_type": "markdown",
   "id": "071d3665",
   "metadata": {},
   "source": [
    "Insert objects:"
   ]
  },
  {
   "cell_type": "code",
   "execution_count": 17,
   "id": "8ff3cc71",
   "metadata": {},
   "outputs": [
    {
     "data": {
      "text/plain": [
       "<pymongo.results.InsertManyResult at 0x2b9a7520c5c0>"
      ]
     },
     "execution_count": 17,
     "metadata": {},
     "output_type": "execute_result"
    }
   ],
   "source": [
    "obj_col = ohol.objects\n",
    "obj_col.insert_many(all_objects)"
   ]
  },
  {
   "cell_type": "markdown",
   "id": "cfb1991a",
   "metadata": {},
   "source": [
    "Insert categories:"
   ]
  },
  {
   "cell_type": "code",
   "execution_count": 20,
   "id": "bbf7e6a3",
   "metadata": {},
   "outputs": [
    {
     "data": {
      "text/plain": [
       "<pymongo.results.InsertManyResult at 0x2b9a74b52840>"
      ]
     },
     "execution_count": 20,
     "metadata": {},
     "output_type": "execute_result"
    }
   ],
   "source": [
    "cat_col = ohol.categories\n",
    "cat_col.insert_many(all_cats)"
   ]
  },
  {
   "cell_type": "markdown",
   "id": "d4128820",
   "metadata": {},
   "source": [
    "Insert transitions:"
   ]
  },
  {
   "cell_type": "code",
   "execution_count": 21,
   "id": "434b6a2d",
   "metadata": {},
   "outputs": [
    {
     "data": {
      "text/plain": [
       "<pymongo.results.InsertManyResult at 0x2b9a752c1f80>"
      ]
     },
     "execution_count": 21,
     "metadata": {},
     "output_type": "execute_result"
    }
   ],
   "source": [
    "trans_col = ohol.transitions\n",
    "trans_col.insert_many(all_transitions)"
   ]
  },
  {
   "cell_type": "code",
   "execution_count": 22,
   "id": "2c9922d8",
   "metadata": {},
   "outputs": [
    {
     "data": {
      "text/plain": [
       "['lifelogs',\n",
       " 'svd',\n",
       " 'objects',\n",
       " 'transitions',\n",
       " 'families',\n",
       " 'test',\n",
       " 'fs.files',\n",
       " 'jobmatrix',\n",
       " 'fs.chunks',\n",
       " 'categories']"
      ]
     },
     "execution_count": 22,
     "metadata": {},
     "output_type": "execute_result"
    }
   ],
   "source": [
    "ohol.list_collection_names()"
   ]
  }
 ],
 "metadata": {
  "kernelspec": {
   "display_name": "Python 3",
   "language": "python",
   "name": "python3"
  },
  "language_info": {
   "codemirror_mode": {
    "name": "ipython",
    "version": 3
   },
   "file_extension": ".py",
   "mimetype": "text/x-python",
   "name": "python",
   "nbconvert_exporter": "python",
   "pygments_lexer": "ipython3",
   "version": "3.9.2"
  }
 },
 "nbformat": 4,
 "nbformat_minor": 5
}
