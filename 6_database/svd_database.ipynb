{
 "cells": [
  {
   "cell_type": "markdown",
   "metadata": {},
   "source": [
    "# Upload SVD inputs and outputs to database\n",
    "Natalia Vélez, November 2020"
   ]
  },
  {
   "cell_type": "code",
   "execution_count": 1,
   "metadata": {},
   "outputs": [],
   "source": [
    "import pymongo\n",
    "import os\n",
    "import bson\n",
    "import json\n",
    "import pickle\n",
    "import gridfs\n",
    "import pandas as pd\n",
    "import numpy as np\n",
    "from os.path import join as opj\n",
    "from tqdm import notebook"
   ]
  },
  {
   "cell_type": "markdown",
   "metadata": {},
   "source": [
    "Connect to database:"
   ]
  },
  {
   "cell_type": "code",
   "execution_count": 2,
   "metadata": {},
   "outputs": [
    {
     "name": "stdout",
     "output_type": "stream",
     "text": [
      "Database(MongoClient(host=['134.76.24.75:27017'], document_class=dict, tz_aware=False, connect=True, authsource='ohol'), 'ohol')\n",
      "['lifelogs', 'families', 'test']\n"
     ]
    }
   ],
   "source": [
    "keyfile = 'credentials.key'\n",
    "creds = open(keyfile, \"r\").read().splitlines()\n",
    "myclient = pymongo.MongoClient('134.76.24.75', username=creds[0], password=creds[1], authSource='ohol') \n",
    "db = myclient.ohol\n",
    "\n",
    "print(db)\n",
    "print(db.list_collection_names())"
   ]
  },
  {
   "cell_type": "markdown",
   "metadata": {},
   "source": [
    "Load SVD data:"
   ]
  },
  {
   "cell_type": "code",
   "execution_count": 3,
   "metadata": {},
   "outputs": [],
   "source": [
    "U = np.loadtxt('../3_technology/outputs/svd/U_hat.txt')\n",
    "s = np.loadtxt('../3_technology/outputs/svd/s_hat.txt')\n",
    "V = np.loadtxt('../3_technology/outputs/svd/Vh_hat.txt')\n",
    "avatars = np.loadtxt('../3_technology/outputs/svd/input_playerIDs.txt')\n",
    "items = np.loadtxt('../3_technology/outputs/activity_features.txt')"
   ]
  },
  {
   "cell_type": "markdown",
   "metadata": {},
   "source": [
    "Record inputs"
   ]
  },
  {
   "cell_type": "markdown",
   "metadata": {},
   "source": [
    "Assemble record:"
   ]
  },
  {
   "cell_type": "code",
   "execution_count": 6,
   "metadata": {},
   "outputs": [],
   "source": [
    "svd_record = {}\n",
    "\n",
    "# Serialize 1d entries\n",
    "svd_record['s'] = list(s)\n",
    "\n",
    "avatar_out = avatars.astype(int)\n",
    "svd_record['avatars'] = list(avatars)\n",
    "\n",
    "#item_out = items.astype(int)\n",
    "svd_record['items'] = list(items)\n",
    "\n",
    "# Pickle 2d entries\n",
    "U_bin = bson.binary.Binary(pickle.dumps(U, protocol=2), subtype=128)\n",
    "V_bin = bson.binary.Binary(pickle.dumps(U, protocol=2), subtype=128)"
   ]
  },
  {
   "cell_type": "markdown",
   "metadata": {},
   "source": [
    "Save large files using GridFS instance:"
   ]
  },
  {
   "cell_type": "code",
   "execution_count": 7,
   "metadata": {},
   "outputs": [
    {
     "name": "stdout",
     "output_type": "stream",
     "text": [
      "5fa17b3de45a79704dad77ac\n",
      "5fa17f19e45a79704dad85b3\n"
     ]
    }
   ],
   "source": [
    "fs = gridfs.GridFS(db)\n",
    "U_id = fs.put(U_bin, filename='svd_U')\n",
    "V_id = fs.put(V_bin, filename='svd_V')\n",
    "print(U_id)\n",
    "print(V_id)"
   ]
  },
  {
   "cell_type": "code",
   "execution_count": 10,
   "metadata": {},
   "outputs": [
    {
     "name": "stdout",
     "output_type": "stream",
     "text": [
      "['families', 'test', 'lifelogs', 'fs.files', 'svd', 'fs.chunks']\n"
     ]
    }
   ],
   "source": [
    "print(db.list_collection_names())"
   ]
  },
  {
   "cell_type": "code",
   "execution_count": 12,
   "metadata": {},
   "outputs": [
    {
     "data": {
      "text/plain": [
       "Collection(Database(MongoClient(host=['134.76.24.75:27017'], document_class=dict, tz_aware=False, connect=True, authsource='ohol'), 'ohol'), 'fs.chunks')"
      ]
     },
     "execution_count": 12,
     "metadata": {},
     "output_type": "execute_result"
    }
   ],
   "source": [
    "db.fs.chunks"
   ]
  },
  {
   "cell_type": "markdown",
   "metadata": {},
   "source": [
    "Save everything else to a collection:"
   ]
  },
  {
   "cell_type": "code",
   "execution_count": 8,
   "metadata": {},
   "outputs": [],
   "source": [
    "svd_col = db.svd\n",
    "svd_col.drop()"
   ]
  },
  {
   "cell_type": "code",
   "execution_count": 9,
   "metadata": {},
   "outputs": [
    {
     "data": {
      "text/plain": [
       "<pymongo.results.InsertOneResult at 0x7f9eac127140>"
      ]
     },
     "execution_count": 9,
     "metadata": {},
     "output_type": "execute_result"
    }
   ],
   "source": [
    "svd_col = db.svd\n",
    "svd_col.insert_one(svd_record)"
   ]
  }
 ],
 "metadata": {
  "kernelspec": {
   "display_name": "Python 3",
   "language": "python",
   "name": "python3"
  },
  "language_info": {
   "codemirror_mode": {
    "name": "ipython",
    "version": 3
   },
   "file_extension": ".py",
   "mimetype": "text/x-python",
   "name": "python",
   "nbconvert_exporter": "python",
   "pygments_lexer": "ipython3",
   "version": "3.7.6"
  }
 },
 "nbformat": 4,
 "nbformat_minor": 4
}
