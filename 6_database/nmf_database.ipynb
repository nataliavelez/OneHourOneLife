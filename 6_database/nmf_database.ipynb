{
 "cells": [
  {
   "cell_type": "markdown",
   "metadata": {},
   "source": [
    "# Upload NMF inputs and outputs to database\n",
    "Charley Wu, November 2020"
   ]
  },
  {
   "cell_type": "code",
   "execution_count": 173,
   "metadata": {
    "ExecuteTime": {
     "end_time": "2020-11-23T14:38:09.862558Z",
     "start_time": "2020-11-23T14:38:09.858650Z"
    }
   },
   "outputs": [],
   "source": [
    "import pymongo\n",
    "import os\n",
    "import bson\n",
    "import json\n",
    "import glob\n",
    "import pickle\n",
    "import gridfs\n",
    "import seaborn as sns\n",
    "import matplotlib.pyplot as plt\n",
    "import pandas as pd\n",
    "import numpy as np\n",
    "from os.path import join as opj\n",
    "from tqdm import notebook\n",
    "from sklearn.decomposition import NMF\n",
    "from sklearn.decomposition import PCA"
   ]
  },
  {
   "cell_type": "markdown",
   "metadata": {},
   "source": [
    "Connect to database:"
   ]
  },
  {
   "cell_type": "code",
   "execution_count": 2,
   "metadata": {
    "ExecuteTime": {
     "end_time": "2020-11-23T13:30:11.675497Z",
     "start_time": "2020-11-23T13:30:11.525311Z"
    }
   },
   "outputs": [
    {
     "name": "stdout",
     "output_type": "stream",
     "text": [
      "Database(MongoClient(host=['134.76.24.75:27017'], document_class=dict, tz_aware=False, connect=True, authsource='ohol'), 'ohol')\n",
      "['families', 'test', 'lifelogs', 'fs.files', 'jobmatrix', 'svd', 'fs.chunks']\n"
     ]
    }
   ],
   "source": [
    "keyfile = 'credentials.key'\n",
    "creds = open(keyfile, \"r\").read().splitlines()\n",
    "myclient = pymongo.MongoClient('134.76.24.75', username=creds[0], password=creds[1], authSource='ohol') \n",
    "db = myclient.ohol\n",
    "\n",
    "print(db)\n",
    "print(db.list_collection_names())"
   ]
  },
  {
   "cell_type": "markdown",
   "metadata": {},
   "source": [
    "## Jobmatrix"
   ]
  },
  {
   "cell_type": "markdown",
   "metadata": {},
   "source": [
    "List job files:"
   ]
  },
  {
   "cell_type": "code",
   "execution_count": 32,
   "metadata": {
    "ExecuteTime": {
     "end_time": "2020-11-23T13:44:55.351318Z",
     "start_time": "2020-11-23T13:44:33.410307Z"
    }
   },
   "outputs": [],
   "source": [
    "job_col = db.jobmatrix #collection\n",
    "\n",
    "n = job_col.estimated_document_count() #number of avatars\n",
    "m = len(job_col.find_one()['items']) #number of items\n",
    "jobMatrix = np.empty([n,m])\n",
    "\n",
    "i = 0 #counter\n",
    "for doc in job_col.find(): #iterate and build the job matrix\n",
    "    jobMatrix[i,] = doc['items']\n",
    "    i+=1"
   ]
  },
  {
   "cell_type": "code",
   "execution_count": 33,
   "metadata": {
    "ExecuteTime": {
     "end_time": "2020-11-23T13:44:55.357557Z",
     "start_time": "2020-11-23T13:44:55.353057Z"
    }
   },
   "outputs": [
    {
     "data": {
      "text/plain": [
       "array([[3., 1., 0., ..., 0., 0., 0.],\n",
       "       [1., 0., 0., ..., 0., 0., 0.],\n",
       "       [0., 0., 0., ..., 0., 0., 0.],\n",
       "       ...,\n",
       "       [0., 1., 0., ..., 0., 0., 0.],\n",
       "       [1., 0., 0., ..., 0., 0., 0.],\n",
       "       [0., 0., 0., ..., 0., 0., 0.]])"
      ]
     },
     "execution_count": 33,
     "metadata": {},
     "output_type": "execute_result"
    }
   ],
   "source": [
    "jobMatrix"
   ]
  },
  {
   "cell_type": "markdown",
   "metadata": {
    "ExecuteTime": {
     "end_time": "2020-11-23T13:41:35.249839Z",
     "start_time": "2020-11-23T13:41:35.236104Z"
    }
   },
   "source": [
    "## Preprocessing"
   ]
  },
  {
   "cell_type": "markdown",
   "metadata": {},
   "source": [
    "### Clean rows with too few interactions"
   ]
  },
  {
   "cell_type": "code",
   "execution_count": 122,
   "metadata": {
    "ExecuteTime": {
     "end_time": "2020-11-23T14:18:11.950792Z",
     "start_time": "2020-11-23T14:18:11.800552Z"
    }
   },
   "outputs": [
    {
     "data": {
      "text/plain": [
       "(array([2.545e+03, 4.750e+02, 3.130e+02, 2.090e+02, 1.520e+02, 1.280e+02,\n",
       "        9.000e+01, 6.400e+01, 3.600e+01, 2.400e+01, 1.600e+01, 9.000e+00,\n",
       "        5.000e+00, 2.000e+00, 1.000e+00, 2.000e+00, 0.000e+00, 0.000e+00,\n",
       "        0.000e+00, 1.000e+00]),\n",
       " array([1.0000e+00, 1.0540e+02, 2.0980e+02, 3.1420e+02, 4.1860e+02,\n",
       "        5.2300e+02, 6.2740e+02, 7.3180e+02, 8.3620e+02, 9.4060e+02,\n",
       "        1.0450e+03, 1.1494e+03, 1.2538e+03, 1.3582e+03, 1.4626e+03,\n",
       "        1.5670e+03, 1.6714e+03, 1.7758e+03, 1.8802e+03, 1.9846e+03,\n",
       "        2.0890e+03]),\n",
       " <a list of 20 Patch objects>)"
      ]
     },
     "execution_count": 122,
     "metadata": {},
     "output_type": "execute_result"
    },
    {
     "data": {
      "image/png": "[encoded data removed]",
      "text/plain": [
       "<Figure size 432x288 with 1 Axes>"
      ]
     },
     "metadata": {
      "needs_background": "light"
     },
     "output_type": "display_data"
    }
   ],
   "source": [
    "plt.hist(jobMatrix.sum(axis = 1), bins = 20) #histrogram of item iteractions"
   ]
  },
  {
   "cell_type": "code",
   "execution_count": 111,
   "metadata": {
    "ExecuteTime": {
     "end_time": "2020-11-23T14:16:20.433886Z",
     "start_time": "2020-11-23T14:16:20.407967Z"
    }
   },
   "outputs": [
    {
     "data": {
      "text/plain": [
       "-52.5"
      ]
     },
     "execution_count": 111,
     "metadata": {},
     "output_type": "execute_result"
    }
   ],
   "source": [
    "#Let's remove participants with the fewest item interactions using Tukey's outlier removal criterion\n",
    "Q1 = np.quantile(jobMatrix.sum(axis = 1),0.25) #25th percentile is only! 1 item interaction\n",
    "Q3 = np.quantile(jobMatrix.sum(axis = 1),0.75)\n",
    "IQR = Q3- Q1 \n",
    "lowerRange = Q1 - (1.5 * IQR)\n",
    "lowerRange  #Nevermind, that's a negative number"
   ]
  },
  {
   "cell_type": "code",
   "execution_count": 123,
   "metadata": {
    "ExecuteTime": {
     "end_time": "2020-11-23T14:18:21.004674Z",
     "start_time": "2020-11-23T14:18:20.993503Z"
    }
   },
   "outputs": [
    {
     "data": {
      "text/plain": [
       "39.0"
      ]
     },
     "execution_count": 123,
     "metadata": {},
     "output_type": "execute_result"
    }
   ],
   "source": [
    "medianItems = np.quantile(jobMatrix.sum(axis = 1),0.50) \n",
    "#Median number of interactions is 39, let's use this for now as the cutoff\n",
    "medianItems"
   ]
  },
  {
   "cell_type": "code",
   "execution_count": 124,
   "metadata": {
    "ExecuteTime": {
     "end_time": "2020-11-23T14:18:22.112122Z",
     "start_time": "2020-11-23T14:18:22.075269Z"
    }
   },
   "outputs": [],
   "source": [
    "jobMatrixCleaned = jobMatrix[jobMatrix.sum(axis = 1)>=medianItems ,] #trim all rows with fewer item interactions than the cutoff"
   ]
  },
  {
   "cell_type": "markdown",
   "metadata": {
    "ExecuteTime": {
     "end_time": "2020-11-23T14:14:40.207026Z",
     "start_time": "2020-11-23T14:14:40.205020Z"
    }
   },
   "source": [
    "### Clean empty columns "
   ]
  },
  {
   "cell_type": "code",
   "execution_count": 125,
   "metadata": {
    "ExecuteTime": {
     "end_time": "2020-11-23T14:18:26.691020Z",
     "start_time": "2020-11-23T14:18:26.467392Z"
    }
   },
   "outputs": [
    {
     "data": {
      "text/plain": [
       "(array([2.917e+03, 4.300e+01, 1.400e+01, 8.000e+00, 1.000e+00, 1.000e+00,\n",
       "        1.000e+00, 1.000e+00, 0.000e+00, 1.000e+00, 0.000e+00, 1.000e+00,\n",
       "        0.000e+00, 1.000e+00, 0.000e+00, 0.000e+00, 0.000e+00, 0.000e+00,\n",
       "        1.000e+00, 1.000e+00]),\n",
       " array([    0.  ,  1697.45,  3394.9 ,  5092.35,  6789.8 ,  8487.25,\n",
       "        10184.7 , 11882.15, 13579.6 , 15277.05, 16974.5 , 18671.95,\n",
       "        20369.4 , 22066.85, 23764.3 , 25461.75, 27159.2 , 28856.65,\n",
       "        30554.1 , 32251.55, 33949.  ]),\n",
       " <a list of 20 Patch objects>)"
      ]
     },
     "execution_count": 125,
     "metadata": {},
     "output_type": "execute_result"
    },
    {
     "data": {
      "image/png": "[encoded data removed]",
      "text/plain": [
       "<Figure size 432x288 with 1 Axes>"
      ]
     },
     "metadata": {
      "needs_background": "light"
     },
     "output_type": "display_data"
    }
   ],
   "source": [
    "plt.hist(jobMatrixCleaned.sum(axis = 0), bins = 20) #histrogram of items and how many different players interact with them"
   ]
  },
  {
   "cell_type": "code",
   "execution_count": 131,
   "metadata": {
    "ExecuteTime": {
     "end_time": "2020-11-23T14:19:57.339542Z",
     "start_time": "2020-11-23T14:19:57.294453Z"
    }
   },
   "outputs": [],
   "source": [
    "jobMatrixCleaned = jobMatrixCleaned[:,jobMatrixCleaned.sum(axis = 0)>0] #remove all columns that no users have interacted with"
   ]
  },
  {
   "cell_type": "code",
   "execution_count": 133,
   "metadata": {
    "ExecuteTime": {
     "end_time": "2020-11-23T14:20:14.100059Z",
     "start_time": "2020-11-23T14:20:14.096672Z"
    }
   },
   "outputs": [
    {
     "data": {
      "text/plain": [
       "(2043, 1502)"
      ]
     },
     "execution_count": 133,
     "metadata": {},
     "output_type": "execute_result"
    }
   ],
   "source": [
    "jobMatrixCleaned.shape #new cleaned job matrix dimensions\n",
    "#TODO: Build a dictionary to relate each row to each avatar id and each player id; relate each column to an item id "
   ]
  },
  {
   "cell_type": "markdown",
   "metadata": {},
   "source": [
    "### TF-IDF normalization"
   ]
  },
  {
   "cell_type": "code",
   "execution_count": 134,
   "metadata": {
    "ExecuteTime": {
     "end_time": "2020-11-23T14:20:23.762034Z",
     "start_time": "2020-11-23T14:20:23.758488Z"
    }
   },
   "outputs": [],
   "source": [
    "#Term frequency: let's use augmented frequency, which prevents a bias towards longer documents (i.e., players who have many item interactions)\n",
    "def tf(avatarVec):\n",
    "    return(0.5 + ((0.5* avatarVec) / max(avatarVec)))\n",
    "\n",
    "#inverse document frequency:\n",
    "def idf(itemVec):\n",
    "    return(np.log(sum(itemVec)/len(itemVec[itemVec>0])))"
   ]
  },
  {
   "cell_type": "code",
   "execution_count": 135,
   "metadata": {
    "ExecuteTime": {
     "end_time": "2020-11-23T14:20:24.928637Z",
     "start_time": "2020-11-23T14:20:24.147678Z"
    }
   },
   "outputs": [],
   "source": [
    "#compute tf and idf mats\n",
    "tfMat = np.ones(jobMatrixCleaned.shape)\n",
    "for row in range(jobMatrixCleaned.shape[0]):\n",
    "    tfMat[row,:] = tf(jobMatrixCleaned[row,:]) \n",
    "idfMat = np.ones(jobMatrixCleaned.shape)\n",
    "for col in range(jobMatrixCleaned.shape[1]):\n",
    "    idfMat[:,col] = idf(jobMatrixCleaned[:,col]) \n",
    "tfIdfMat = tfMat * idfMat"
   ]
  },
  {
   "cell_type": "code",
   "execution_count": 137,
   "metadata": {
    "ExecuteTime": {
     "end_time": "2020-11-23T14:20:47.573768Z",
     "start_time": "2020-11-23T14:20:47.548958Z"
    }
   },
   "outputs": [],
   "source": [
    "tfidfJobMatrix = tfIdfMat * jobMatrixCleaned #now compute tfidf"
   ]
  },
  {
   "cell_type": "code",
   "execution_count": 141,
   "metadata": {
    "ExecuteTime": {
     "end_time": "2020-11-23T14:23:05.001562Z",
     "start_time": "2020-11-23T14:23:04.980353Z"
    }
   },
   "outputs": [],
   "source": [
    "#Normalized rows\n",
    "row_sums = tfidfJobMatrix.sum(axis=1)\n",
    "tfidfJobMatrixNormalized = tfidfJobMatrix / row_sums[:, np.newaxis]"
   ]
  },
  {
   "cell_type": "markdown",
   "metadata": {},
   "source": [
    "# Non-negative matrix factorization"
   ]
  },
  {
   "cell_type": "code",
   "execution_count": 142,
   "metadata": {
    "ExecuteTime": {
     "end_time": "2020-11-23T14:23:41.393302Z",
     "start_time": "2020-11-23T14:23:40.545287Z"
    }
   },
   "outputs": [],
   "source": [
    "model = NMF(n_components=20, init='random', random_state=0)\n",
    "W = model.fit_transform(tfidfJobMatrixNormalized)\n",
    "H = model.components_\n",
    "#TODO: Save W and H matrices somewhere"
   ]
  },
  {
   "cell_type": "markdown",
   "metadata": {},
   "source": [
    "## Interpreting the components"
   ]
  },
  {
   "cell_type": "code",
   "execution_count": 147,
   "metadata": {
    "ExecuteTime": {
     "end_time": "2020-11-23T14:28:21.987867Z",
     "start_time": "2020-11-23T14:28:21.591983Z"
    }
   },
   "outputs": [
    {
     "data": {
      "image/png": "[encoded data removed]",
      "text/plain": [
       "<Figure size 432x288 with 2 Axes>"
      ]
     },
     "metadata": {
      "needs_background": "light"
     },
     "output_type": "display_data"
    }
   ],
   "source": [
    "ax = sns.heatmap(H,  cmap=\"YlGnBu\") #x-axis are unique items and y-axis are the loadings"
   ]
  },
  {
   "cell_type": "code",
   "execution_count": 183,
   "metadata": {
    "ExecuteTime": {
     "end_time": "2020-11-23T14:40:55.709542Z",
     "start_time": "2020-11-23T14:40:55.577573Z"
    }
   },
   "outputs": [
    {
     "data": {
      "text/plain": [
       "(array([8., 7., 2., 2., 0., 0., 0., 0., 0., 1.]),\n",
       " array([ 1.03032134,  5.16520429,  9.30008725, 13.4349702 , 17.56985315,\n",
       "        21.7047361 , 25.83961905, 29.97450201, 34.10938496, 38.24426791,\n",
       "        42.37915086]),\n",
       " <a list of 10 Patch objects>)"
      ]
     },
     "execution_count": 183,
     "metadata": {},
     "output_type": "execute_result"
    },
    {
     "data": {
      "image/png": "[encoded data removed]",
      "text/plain": [
       "<Figure size 432x288 with 1 Axes>"
      ]
     },
     "metadata": {
      "needs_background": "light"
     },
     "output_type": "display_data"
    }
   ],
   "source": [
    "#What is the distribution of total loadings across items?\n",
    "plt.hist(H.sum(axis = 1))"
   ]
  },
  {
   "cell_type": "code",
   "execution_count": 152,
   "metadata": {
    "ExecuteTime": {
     "end_time": "2020-11-23T14:29:38.891775Z",
     "start_time": "2020-11-23T14:29:38.888094Z"
    }
   },
   "outputs": [
    {
     "data": {
      "text/plain": [
       "array([ 161,  249,  199,  811,  303,   13,    0,  247,  145,  639,  865,\n",
       "       1287,  779,    4,  255,  998,  209,  641, 1409, 1459])"
      ]
     },
     "execution_count": 152,
     "metadata": {},
     "output_type": "execute_result"
    }
   ],
   "source": [
    "#Which items most strongly defined each component?\n",
    "np.argmax(H, 1) #TODO build dictionary method to interpret"
   ]
  },
  {
   "cell_type": "markdown",
   "metadata": {},
   "source": [
    "## Interpreting avatar embeddings"
   ]
  },
  {
   "cell_type": "code",
   "execution_count": 153,
   "metadata": {
    "ExecuteTime": {
     "end_time": "2020-11-23T14:30:44.714546Z",
     "start_time": "2020-11-23T14:30:44.423169Z"
    }
   },
   "outputs": [
    {
     "data": {
      "image/png": "[encoded data removed]",
      "text/plain": [
       "<Figure size 432x288 with 2 Axes>"
      ]
     },
     "metadata": {
      "needs_background": "light"
     },
     "output_type": "display_data"
    }
   ],
   "source": [
    "ax = sns.heatmap(W,  cmap=\"YlGnBu\") #players are loading very heavily onto dims 2 and 16. We may need better preprocessing"
   ]
  },
  {
   "cell_type": "code",
   "execution_count": 155,
   "metadata": {
    "ExecuteTime": {
     "end_time": "2020-11-23T14:31:28.654846Z",
     "start_time": "2020-11-23T14:31:28.524923Z"
    }
   },
   "outputs": [
    {
     "data": {
      "text/plain": [
       "(array([ 537., 1025.,  339.,   79.,   28.,   19.,    6.,    3.,    4.,\n",
       "           3.]),\n",
       " array([0.03914325, 0.16310313, 0.287063  , 0.41102288, 0.53498276,\n",
       "        0.65894263, 0.78290251, 0.90686238, 1.03082226, 1.15478214,\n",
       "        1.27874201]),\n",
       " <a list of 10 Patch objects>)"
      ]
     },
     "execution_count": 155,
     "metadata": {},
     "output_type": "execute_result"
    },
    {
     "data": {
      "image/png": "[encoded data removed]",
      "text/plain": [
       "<Figure size 432x288 with 1 Axes>"
      ]
     },
     "metadata": {
      "needs_background": "light"
     },
     "output_type": "display_data"
    }
   ],
   "source": [
    "#Sum of loadings \n",
    "plt.hist(W.sum(axis = 1)) #The magnitude of the embedding vector for each player tells us how confidently we are able to assign that player to the latent space. "
   ]
  },
  {
   "cell_type": "code",
   "execution_count": 156,
   "metadata": {
    "ExecuteTime": {
     "end_time": "2020-11-23T14:33:00.341076Z",
     "start_time": "2020-11-23T14:33:00.339087Z"
    }
   },
   "outputs": [],
   "source": [
    "#TODO: filter avatars with low magnitude in W"
   ]
  },
  {
   "cell_type": "code",
   "execution_count": 166,
   "metadata": {
    "ExecuteTime": {
     "end_time": "2020-11-23T14:36:06.199322Z",
     "start_time": "2020-11-23T14:36:06.192736Z"
    }
   },
   "outputs": [],
   "source": [
    "#PCA\n",
    "pca = PCA(n_components=2)\n",
    "principalComponents = pca.fit_transform(W)\n",
    "principalDf = pd.DataFrame(data = principalComponents\n",
    "             , columns = ['principal component 1', 'principal component 2'])\n"
   ]
  },
  {
   "cell_type": "code",
   "execution_count": 167,
   "metadata": {
    "ExecuteTime": {
     "end_time": "2020-11-23T14:36:08.353307Z",
     "start_time": "2020-11-23T14:36:08.350165Z"
    }
   },
   "outputs": [
    {
     "name": "stdout",
     "output_type": "stream",
     "text": [
      "[0.01733565 0.00577194]\n"
     ]
    }
   ],
   "source": [
    "print(pca.explained_variance_) #not very much"
   ]
  },
  {
   "cell_type": "code",
   "execution_count": 172,
   "metadata": {
    "ExecuteTime": {
     "end_time": "2020-11-23T14:37:29.439157Z",
     "start_time": "2020-11-23T14:37:29.262608Z"
    }
   },
   "outputs": [
    {
     "data": {
      "image/png": "[encoded data removed]",
      "text/plain": [
       "<Figure size 576x576 with 1 Axes>"
      ]
     },
     "metadata": {
      "needs_background": "light"
     },
     "output_type": "display_data"
    }
   ],
   "source": [
    "#Job space embeddings\n",
    "fig = plt.figure(figsize = (8,8))\n",
    "ax = fig.add_subplot(1,1,1) \n",
    "ax.set_xlabel('Principal Component 1', fontsize = 15)\n",
    "ax.set_ylabel('Principal Component 2', fontsize = 15)\n",
    "ax.set_title('2 component PCA', fontsize = 20)\n",
    "targets = ['Iris-setosa', 'Iris-versicolor', 'Iris-virginica']\n",
    "colors = ['r', 'g', 'b']\n",
    "ax.scatter(principalDf['principal component 1'],principalDf['principal component 2'])\n",
    "ax.grid()"
   ]
  },
  {
   "cell_type": "code",
   "execution_count": null,
   "metadata": {},
   "outputs": [],
   "source": []
  }
 ],
 "metadata": {
  "kernelspec": {
   "display_name": "Python 3",
   "language": "python",
   "name": "python3"
  },
  "language_info": {
   "codemirror_mode": {
    "name": "ipython",
    "version": 3
   },
   "file_extension": ".py",
   "mimetype": "text/x-python",
   "name": "python",
   "nbconvert_exporter": "python",
   "pygments_lexer": "ipython3",
   "version": "3.7.4"
  },
  "toc": {
   "base_numbering": 1,
   "nav_menu": {},
   "number_sections": true,
   "sideBar": true,
   "skip_h1_title": false,
   "title_cell": "Table of Contents",
   "title_sidebar": "Contents",
   "toc_cell": false,
   "toc_position": {},
   "toc_section_display": true,
   "toc_window_display": false
  }
 },
 "nbformat": 4,
 "nbformat_minor": 4
}
