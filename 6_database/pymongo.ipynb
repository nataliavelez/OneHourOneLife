{
 "cells": [
  {
   "cell_type": "code",
   "execution_count": 5,
   "metadata": {
    "ExecuteTime": {
     "end_time": "2020-11-11T10:17:27.967147Z",
     "start_time": "2020-11-11T10:17:27.964309Z"
    }
   },
   "outputs": [],
   "source": [
    "import pymongo\n",
    "import os\n",
    "import fnmatch\n",
    "import json\n",
    "import pandas as pd\n",
    "import pprint"
   ]
  },
  {
   "cell_type": "code",
   "execution_count": 6,
   "metadata": {
    "ExecuteTime": {
     "end_time": "2020-11-11T10:17:28.425838Z",
     "start_time": "2020-11-11T10:17:28.422621Z"
    }
   },
   "outputs": [],
   "source": [
    "#find *.key containing username and password on separate lines(untracked using .gitignore)\n",
    "for file_name in os.listdir():\n",
    "    if fnmatch.fnmatch(file_name,'*.key'):\n",
    "        keyfile = file_name"
   ]
  },
  {
   "cell_type": "code",
   "execution_count": 7,
   "metadata": {
    "ExecuteTime": {
     "end_time": "2020-11-11T10:17:36.277425Z",
     "start_time": "2020-11-11T10:17:36.271424Z"
    }
   },
   "outputs": [
    {
     "name": "stdout",
     "output_type": "stream",
     "text": [
      "MongoClient(host=['134.76.24.75:27017'], document_class=dict, tz_aware=False, connect=True, authsource='ohol')\n"
     ]
    }
   ],
   "source": [
    "#Connection string\n",
    "creds = open(keyfile, \"r\").read().splitlines()\n",
    "myclient = pymongo.MongoClient('134.76.24.75', username=creds[0], password=creds[1], authSource='ohol') \n",
    "print(myclient)"
   ]
  },
  {
   "cell_type": "code",
   "execution_count": 8,
   "metadata": {},
   "outputs": [
    {
     "ename": "ServerSelectionTimeoutError",
     "evalue": "134.76.24.75:27017: timed out, Timeout: 30s, Topology Description: <TopologyDescription id: 60367a6c3689ae97576750f0, topology_type: Single, servers: [<ServerDescription ('134.76.24.75', 27017) server_type: Unknown, rtt: None, error=NetworkTimeout('134.76.24.75:27017: timed out',)>]>",
     "output_type": "error",
     "traceback": [
      "\u001b[0;31m---------------------------------------------------------------------------\u001b[0m",
      "\u001b[0;31mServerSelectionTimeoutError\u001b[0m               Traceback (most recent call last)",
      "\u001b[0;32m<ipython-input-8-d5cd6e560eba>\u001b[0m in \u001b[0;36m<module>\u001b[0;34m\u001b[0m\n\u001b[1;32m      1\u001b[0m \u001b[0mohol\u001b[0m \u001b[0;34m=\u001b[0m \u001b[0mmyclient\u001b[0m\u001b[0;34m.\u001b[0m\u001b[0mohol\u001b[0m\u001b[0;34m\u001b[0m\u001b[0;34m\u001b[0m\u001b[0m\n\u001b[0;32m----> 2\u001b[0;31m \u001b[0mohol\u001b[0m\u001b[0;34m.\u001b[0m\u001b[0mlist_collection_names\u001b[0m\u001b[0;34m(\u001b[0m\u001b[0;34m)\u001b[0m\u001b[0;34m\u001b[0m\u001b[0;34m\u001b[0m\u001b[0m\n\u001b[0m",
      "\u001b[0;32m~/.conda/envs/py3/lib/python3.6/site-packages/pymongo/database.py\u001b[0m in \u001b[0;36mlist_collection_names\u001b[0;34m(self, session, filter, **kwargs)\u001b[0m\n\u001b[1;32m    861\u001b[0m \u001b[0;34m\u001b[0m\u001b[0m\n\u001b[1;32m    862\u001b[0m         return [result[\"name\"]\n\u001b[0;32m--> 863\u001b[0;31m                 for result in self.list_collections(session=session, **kwargs)]\n\u001b[0m\u001b[1;32m    864\u001b[0m \u001b[0;34m\u001b[0m\u001b[0m\n\u001b[1;32m    865\u001b[0m     def collection_names(self, include_system_collections=True,\n",
      "\u001b[0;32m~/.conda/envs/py3/lib/python3.6/site-packages/pymongo/database.py\u001b[0m in \u001b[0;36mlist_collections\u001b[0;34m(self, session, filter, **kwargs)\u001b[0m\n\u001b[1;32m    824\u001b[0m \u001b[0;34m\u001b[0m\u001b[0m\n\u001b[1;32m    825\u001b[0m         return self.__client._retryable_read(\n\u001b[0;32m--> 826\u001b[0;31m             _cmd, read_pref, session)\n\u001b[0m\u001b[1;32m    827\u001b[0m \u001b[0;34m\u001b[0m\u001b[0m\n\u001b[1;32m    828\u001b[0m     \u001b[0;32mdef\u001b[0m \u001b[0mlist_collection_names\u001b[0m\u001b[0;34m(\u001b[0m\u001b[0mself\u001b[0m\u001b[0;34m,\u001b[0m \u001b[0msession\u001b[0m\u001b[0;34m=\u001b[0m\u001b[0;32mNone\u001b[0m\u001b[0;34m,\u001b[0m \u001b[0mfilter\u001b[0m\u001b[0;34m=\u001b[0m\u001b[0;32mNone\u001b[0m\u001b[0;34m,\u001b[0m \u001b[0;34m**\u001b[0m\u001b[0mkwargs\u001b[0m\u001b[0;34m)\u001b[0m\u001b[0;34m:\u001b[0m\u001b[0;34m\u001b[0m\u001b[0;34m\u001b[0m\u001b[0m\n",
      "\u001b[0;32m~/.conda/envs/py3/lib/python3.6/site-packages/pymongo/mongo_client.py\u001b[0m in \u001b[0;36m_retryable_read\u001b[0;34m(self, func, read_pref, session, address, retryable, exhaust)\u001b[0m\n\u001b[1;32m   1459\u001b[0m             \u001b[0;32mtry\u001b[0m\u001b[0;34m:\u001b[0m\u001b[0;34m\u001b[0m\u001b[0;34m\u001b[0m\u001b[0m\n\u001b[1;32m   1460\u001b[0m                 server = self._select_server(\n\u001b[0;32m-> 1461\u001b[0;31m                     read_pref, session, address=address)\n\u001b[0m\u001b[1;32m   1462\u001b[0m                 \u001b[0;32mif\u001b[0m \u001b[0;32mnot\u001b[0m \u001b[0mserver\u001b[0m\u001b[0;34m.\u001b[0m\u001b[0mdescription\u001b[0m\u001b[0;34m.\u001b[0m\u001b[0mretryable_reads_supported\u001b[0m\u001b[0;34m:\u001b[0m\u001b[0;34m\u001b[0m\u001b[0;34m\u001b[0m\u001b[0m\n\u001b[1;32m   1463\u001b[0m                     \u001b[0mretryable\u001b[0m \u001b[0;34m=\u001b[0m \u001b[0;32mFalse\u001b[0m\u001b[0;34m\u001b[0m\u001b[0;34m\u001b[0m\u001b[0m\n",
      "\u001b[0;32m~/.conda/envs/py3/lib/python3.6/site-packages/pymongo/mongo_client.py\u001b[0m in \u001b[0;36m_select_server\u001b[0;34m(self, server_selector, session, address)\u001b[0m\n\u001b[1;32m   1276\u001b[0m                                         % address)\n\u001b[1;32m   1277\u001b[0m             \u001b[0;32melse\u001b[0m\u001b[0;34m:\u001b[0m\u001b[0;34m\u001b[0m\u001b[0;34m\u001b[0m\u001b[0m\n\u001b[0;32m-> 1278\u001b[0;31m                 \u001b[0mserver\u001b[0m \u001b[0;34m=\u001b[0m \u001b[0mtopology\u001b[0m\u001b[0;34m.\u001b[0m\u001b[0mselect_server\u001b[0m\u001b[0;34m(\u001b[0m\u001b[0mserver_selector\u001b[0m\u001b[0;34m)\u001b[0m\u001b[0;34m\u001b[0m\u001b[0;34m\u001b[0m\u001b[0m\n\u001b[0m\u001b[1;32m   1279\u001b[0m                 \u001b[0;31m# Pin this session to the selected server if it's performing a\u001b[0m\u001b[0;34m\u001b[0m\u001b[0;34m\u001b[0m\u001b[0;34m\u001b[0m\u001b[0m\n\u001b[1;32m   1280\u001b[0m                 \u001b[0;31m# sharded transaction.\u001b[0m\u001b[0;34m\u001b[0m\u001b[0;34m\u001b[0m\u001b[0;34m\u001b[0m\u001b[0m\n",
      "\u001b[0;32m~/.conda/envs/py3/lib/python3.6/site-packages/pymongo/topology.py\u001b[0m in \u001b[0;36mselect_server\u001b[0;34m(self, selector, server_selection_timeout, address)\u001b[0m\n\u001b[1;32m    241\u001b[0m         return random.choice(self.select_servers(selector,\n\u001b[1;32m    242\u001b[0m                                                  \u001b[0mserver_selection_timeout\u001b[0m\u001b[0;34m,\u001b[0m\u001b[0;34m\u001b[0m\u001b[0;34m\u001b[0m\u001b[0m\n\u001b[0;32m--> 243\u001b[0;31m                                                  address))\n\u001b[0m\u001b[1;32m    244\u001b[0m \u001b[0;34m\u001b[0m\u001b[0m\n\u001b[1;32m    245\u001b[0m     def select_server_by_address(self, address,\n",
      "\u001b[0;32m~/.conda/envs/py3/lib/python3.6/site-packages/pymongo/topology.py\u001b[0m in \u001b[0;36mselect_servers\u001b[0;34m(self, selector, server_selection_timeout, address)\u001b[0m\n\u001b[1;32m    198\u001b[0m         \u001b[0;32mwith\u001b[0m \u001b[0mself\u001b[0m\u001b[0;34m.\u001b[0m\u001b[0m_lock\u001b[0m\u001b[0;34m:\u001b[0m\u001b[0;34m\u001b[0m\u001b[0;34m\u001b[0m\u001b[0m\n\u001b[1;32m    199\u001b[0m             server_descriptions = self._select_servers_loop(\n\u001b[0;32m--> 200\u001b[0;31m                 selector, server_timeout, address)\n\u001b[0m\u001b[1;32m    201\u001b[0m \u001b[0;34m\u001b[0m\u001b[0m\n\u001b[1;32m    202\u001b[0m             return [self.get_server_by_address(sd.address)\n",
      "\u001b[0;32m~/.conda/envs/py3/lib/python3.6/site-packages/pymongo/topology.py\u001b[0m in \u001b[0;36m_select_servers_loop\u001b[0;34m(self, selector, timeout, address)\u001b[0m\n\u001b[1;32m    215\u001b[0m                 raise ServerSelectionTimeoutError(\n\u001b[1;32m    216\u001b[0m                     \u001b[0;34m\"%s, Timeout: %ss, Topology Description: %r\"\u001b[0m \u001b[0;34m%\u001b[0m\u001b[0;34m\u001b[0m\u001b[0;34m\u001b[0m\u001b[0m\n\u001b[0;32m--> 217\u001b[0;31m                     (self._error_message(selector), timeout, self.description))\n\u001b[0m\u001b[1;32m    218\u001b[0m \u001b[0;34m\u001b[0m\u001b[0m\n\u001b[1;32m    219\u001b[0m             \u001b[0mself\u001b[0m\u001b[0;34m.\u001b[0m\u001b[0m_ensure_opened\u001b[0m\u001b[0;34m(\u001b[0m\u001b[0;34m)\u001b[0m\u001b[0;34m\u001b[0m\u001b[0;34m\u001b[0m\u001b[0m\n",
      "\u001b[0;31mServerSelectionTimeoutError\u001b[0m: 134.76.24.75:27017: timed out, Timeout: 30s, Topology Description: <TopologyDescription id: 60367a6c3689ae97576750f0, topology_type: Single, servers: [<ServerDescription ('134.76.24.75', 27017) server_type: Unknown, rtt: None, error=NetworkTimeout('134.76.24.75:27017: timed out',)>]>"
     ]
    }
   ],
   "source": [
    "ohol = myclient.ohol\n",
    "ohol.list_collection_names()"
   ]
  },
  {
   "cell_type": "markdown",
   "metadata": {},
   "source": [
    "### Change password!"
   ]
  },
  {
   "cell_type": "code",
   "execution_count": null,
   "metadata": {},
   "outputs": [],
   "source": [
    "#myclient.ohol.command(\"updateUser\", \"nataliavelez\", pwd=\"foo\", connectTimeoutMS=50000) #once you've updated this, then change your keyfile and make sure that this cells is reverted"
   ]
  },
  {
   "cell_type": "markdown",
   "metadata": {},
   "source": [
    "### Some Example Queries"
   ]
  },
  {
   "cell_type": "code",
   "execution_count": null,
   "metadata": {
    "ExecuteTime": {
     "end_time": "2020-11-11T10:19:01.046340Z",
     "start_time": "2020-11-11T10:19:00.775732Z"
    }
   },
   "outputs": [],
   "source": [
    "#Write to database\n",
    "db = myclient.ohol #connect to database\n",
    "col = db.test #select/create a collection called 'test'\n",
    "\n",
    "#use pandas to read some csv data\n",
    "df = pd.read_csv('../1_download/download_log.txt', sep='\\t') \n",
    "df.reset_index(inplace=True)\n",
    "records = df.to_dict('records') #convert to list of json objects\n",
    "query = col.insert_many(records) #use insert_many() for multiple items in a list\n",
    "print(query.inserted_ids) #see ids for the inserted data"
   ]
  },
  {
   "cell_type": "markdown",
   "metadata": {},
   "source": [
    "### Some Example Queries"
   ]
  },
  {
   "cell_type": "code",
   "execution_count": null,
   "metadata": {
    "ExecuteTime": {
     "end_time": "2020-11-11T10:19:25.854584Z",
     "start_time": "2020-11-11T10:19:25.555206Z"
    }
   },
   "outputs": [],
   "source": [
    "#Basic query\n",
    "for result in col.find({\"user\": \"nvelez\"}):\n",
    "    pprint.pprint(result)"
   ]
  },
  {
   "cell_type": "markdown",
   "metadata": {},
   "source": [
    "### Some useful database admin commands for Charley"
   ]
  },
  {
   "cell_type": "code",
   "execution_count": null,
   "metadata": {
    "ExecuteTime": {
     "end_time": "2020-09-18T15:52:11.462465Z",
     "start_time": "2020-09-18T15:52:11.458924Z"
    }
   },
   "outputs": [],
   "source": [
    "#Create user\n",
    "#myclient.ohol.add_user('user', 'pass', roles=[{'role':'readWrite','db':'ohol'}, {\"role\":  \"changeOwnPasswordCustomDataRole\", \"db\":\"ohol\"}])\n",
    "\n",
    "#Change passwords\n",
    "#myclient.ohol.command(\"updateUser\", \"user\", pwd=\"newpassword\")\n",
    "\n",
    "#Update roles\n",
    "#myclient.ohol.command(\"updateUser\", \"ericschulz\", roles=[\"readWrite\", \"changeOwnPasswordCustomDataRole\"])\n",
    "\n",
    "#Create role\n",
    "#myclient.ohol.command(\"createRole\",\"changeOwnPassword\",privileges=[{\"resource\" : {\"db\" : \"\", \"collection\":\"\"}, \"actions\" : [ \"changeOwnPassword\", \"changeOwnCustomData\" ]}], roles=[])"
   ]
  },
  {
   "cell_type": "code",
   "execution_count": null,
   "metadata": {},
   "outputs": [],
   "source": []
  }
 ],
 "metadata": {
  "kernelspec": {
   "display_name": "Python [conda env:.conda-py3]",
   "language": "python",
   "name": "conda-env-.conda-py3-py"
  },
  "toc": {
   "base_numbering": 1,
   "nav_menu": {},
   "number_sections": true,
   "sideBar": true,
   "skip_h1_title": false,
   "title_cell": "Table of Contents",
   "title_sidebar": "Contents",
   "toc_cell": false,
   "toc_position": {},
   "toc_section_display": true,
   "toc_window_display": false
  }
 },
 "nbformat": 4,
 "nbformat_minor": 2
}
