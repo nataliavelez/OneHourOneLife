{
 "cells": [
  {
   "cell_type": "code",
   "execution_count": null,
   "metadata": {
    "ExecuteTime": {
     "end_time": "2020-09-18T16:19:31.321692Z",
     "start_time": "2020-09-18T16:19:31.318893Z"
    }
   },
   "outputs": [
    {
     "name": "stderr",
     "output_type": "stream",
     "text": [
      "ERROR:root:Internal Python error in the inspect module.\n",
      "Below is the traceback from this internal error.\n",
      "\n"
     ]
    },
    {
     "name": "stdout",
     "output_type": "stream",
     "text": [
      "Traceback (most recent call last):\n",
      "  File \"/users/nvelezalicea/.conda/envs/py3/lib/python3.6/site-packages/IPython/core/interactiveshell.py\", line 3343, in run_code\n",
      "    exec(code_obj, self.user_global_ns, self.user_ns)\n",
      "  File \"<ipython-input-1-f251fca0c852>\", line 5, in <module>\n",
      "    import pandas as pd\n",
      "  File \"/users/nvelezalicea/.conda/envs/py3/lib/python3.6/site-packages/pandas/__init__.py\", line 52, in <module>\n",
      "    from pandas.core.api import (\n",
      "  File \"/users/nvelezalicea/.conda/envs/py3/lib/python3.6/site-packages/pandas/core/api.py\", line 29, in <module>\n",
      "    from pandas.core.groupby import Grouper, NamedAgg\n",
      "  File \"/users/nvelezalicea/.conda/envs/py3/lib/python3.6/site-packages/pandas/core/groupby/__init__.py\", line 1, in <module>\n",
      "    from pandas.core.groupby.generic import DataFrameGroupBy, NamedAgg, SeriesGroupBy\n",
      "  File \"/users/nvelezalicea/.conda/envs/py3/lib/python3.6/site-packages/pandas/core/groupby/generic.py\", line 57, in <module>\n",
      "    from pandas.core.aggregation import (\n",
      "  File \"/users/nvelezalicea/.conda/envs/py3/lib/python3.6/site-packages/pandas/core/aggregation.py\", line 27, in <module>\n",
      "    from pandas.core.series import FrameOrSeriesUnion, Series\n",
      "  File \"/users/nvelezalicea/.conda/envs/py3/lib/python3.6/site-packages/pandas/core/series.py\", line 68, in <module>\n",
      "    from pandas.core import algorithms, base, generic, nanops, ops\n",
      "  File \"/users/nvelezalicea/.conda/envs/py3/lib/python3.6/site-packages/pandas/core/generic.py\", line 97, in <module>\n",
      "    from pandas.core.internals import BlockManager\n",
      "  File \"/users/nvelezalicea/.conda/envs/py3/lib/python3.6/site-packages/pandas/core/internals/__init__.py\", line 1, in <module>\n",
      "    from pandas.core.internals.blocks import (  # io.pytables, io.packers\n",
      "  File \"/users/nvelezalicea/.conda/envs/py3/lib/python3.6/site-packages/pandas/core/internals/blocks.py\", line 10, in <module>\n",
      "    import pandas._libs.internals as libinternals\n",
      "  File \"<frozen importlib._bootstrap>\", line 416, in parent\n",
      "KeyboardInterrupt\n",
      "\n",
      "During handling of the above exception, another exception occurred:\n",
      "\n",
      "Traceback (most recent call last):\n",
      "  File \"/users/nvelezalicea/.conda/envs/py3/lib/python3.6/site-packages/IPython/core/interactiveshell.py\", line 2044, in showtraceback\n",
      "    stb = value._render_traceback_()\n",
      "AttributeError: 'KeyboardInterrupt' object has no attribute '_render_traceback_'\n",
      "\n",
      "During handling of the above exception, another exception occurred:\n",
      "\n",
      "Traceback (most recent call last):\n",
      "  File \"/users/nvelezalicea/.conda/envs/py3/lib/python3.6/site-packages/IPython/core/ultratb.py\", line 1169, in get_records\n",
      "    return _fixed_getinnerframes(etb, number_of_lines_of_context, tb_offset)\n",
      "  File \"/users/nvelezalicea/.conda/envs/py3/lib/python3.6/site-packages/IPython/core/ultratb.py\", line 316, in wrapped\n",
      "    return f(*args, **kwargs)\n",
      "  File \"/users/nvelezalicea/.conda/envs/py3/lib/python3.6/site-packages/IPython/core/ultratb.py\", line 350, in _fixed_getinnerframes\n",
      "    records = fix_frame_records_filenames(inspect.getinnerframes(etb, context))\n",
      "  File \"/users/nvelezalicea/.conda/envs/py3/lib/python3.6/inspect.py\", line 1490, in getinnerframes\n",
      "    frameinfo = (tb.tb_frame,) + getframeinfo(tb, context)\n",
      "  File \"/users/nvelezalicea/.conda/envs/py3/lib/python3.6/inspect.py\", line 1448, in getframeinfo\n",
      "    filename = getsourcefile(frame) or getfile(frame)\n",
      "  File \"/users/nvelezalicea/.conda/envs/py3/lib/python3.6/inspect.py\", line 696, in getsourcefile\n",
      "    if getattr(getmodule(object, filename), '__loader__', None) is not None:\n",
      "  File \"/users/nvelezalicea/.conda/envs/py3/lib/python3.6/inspect.py\", line 742, in getmodule\n",
      "    os.path.realpath(f)] = module.__name__\n",
      "  File \"/users/nvelezalicea/.conda/envs/py3/lib/python3.6/posixpath.py\", line 395, in realpath\n",
      "    path, ok = _joinrealpath(filename[:0], filename, {})\n",
      "  File \"/users/nvelezalicea/.conda/envs/py3/lib/python3.6/posixpath.py\", line 429, in _joinrealpath\n",
      "    if not islink(newpath):\n",
      "  File \"/users/nvelezalicea/.conda/envs/py3/lib/python3.6/posixpath.py\", line 171, in islink\n",
      "    st = os.lstat(path)\n",
      "KeyboardInterrupt\n"
     ]
    },
    {
     "name": "stderr",
     "output_type": "stream",
     "text": [
      "ERROR:root:Internal Python error in the inspect module.\n",
      "Below is the traceback from this internal error.\n",
      "\n"
     ]
    },
    {
     "name": "stdout",
     "output_type": "stream",
     "text": [
      "Traceback (most recent call last):\n",
      "  File \"/users/nvelezalicea/.conda/envs/py3/lib/python3.6/site-packages/IPython/core/interactiveshell.py\", line 3343, in run_code\n",
      "    exec(code_obj, self.user_global_ns, self.user_ns)\n",
      "  File \"<ipython-input-1-f251fca0c852>\", line 5, in <module>\n",
      "    import pandas as pd\n",
      "  File \"/users/nvelezalicea/.conda/envs/py3/lib/python3.6/site-packages/pandas/__init__.py\", line 52, in <module>\n",
      "    from pandas.core.api import (\n",
      "  File \"/users/nvelezalicea/.conda/envs/py3/lib/python3.6/site-packages/pandas/core/api.py\", line 29, in <module>\n",
      "    from pandas.core.groupby import Grouper, NamedAgg\n",
      "  File \"/users/nvelezalicea/.conda/envs/py3/lib/python3.6/site-packages/pandas/core/groupby/__init__.py\", line 1, in <module>\n",
      "    from pandas.core.groupby.generic import DataFrameGroupBy, NamedAgg, SeriesGroupBy\n",
      "  File \"/users/nvelezalicea/.conda/envs/py3/lib/python3.6/site-packages/pandas/core/groupby/generic.py\", line 57, in <module>\n",
      "    from pandas.core.aggregation import (\n",
      "  File \"/users/nvelezalicea/.conda/envs/py3/lib/python3.6/site-packages/pandas/core/aggregation.py\", line 27, in <module>\n",
      "    from pandas.core.series import FrameOrSeriesUnion, Series\n",
      "  File \"/users/nvelezalicea/.conda/envs/py3/lib/python3.6/site-packages/pandas/core/series.py\", line 68, in <module>\n",
      "    from pandas.core import algorithms, base, generic, nanops, ops\n",
      "  File \"/users/nvelezalicea/.conda/envs/py3/lib/python3.6/site-packages/pandas/core/generic.py\", line 97, in <module>\n",
      "    from pandas.core.internals import BlockManager\n",
      "  File \"/users/nvelezalicea/.conda/envs/py3/lib/python3.6/site-packages/pandas/core/internals/__init__.py\", line 1, in <module>\n",
      "    from pandas.core.internals.blocks import (  # io.pytables, io.packers\n",
      "  File \"/users/nvelezalicea/.conda/envs/py3/lib/python3.6/site-packages/pandas/core/internals/blocks.py\", line 10, in <module>\n",
      "    import pandas._libs.internals as libinternals\n",
      "  File \"<frozen importlib._bootstrap>\", line 416, in parent\n",
      "KeyboardInterrupt\n",
      "\n",
      "During handling of the above exception, another exception occurred:\n",
      "\n",
      "Traceback (most recent call last):\n",
      "  File \"/users/nvelezalicea/.conda/envs/py3/lib/python3.6/site-packages/IPython/core/interactiveshell.py\", line 2044, in showtraceback\n",
      "    stb = value._render_traceback_()\n",
      "AttributeError: 'KeyboardInterrupt' object has no attribute '_render_traceback_'\n",
      "\n",
      "During handling of the above exception, another exception occurred:\n",
      "\n",
      "Traceback (most recent call last):\n",
      "  File \"/users/nvelezalicea/.conda/envs/py3/lib/python3.6/site-packages/IPython/core/interactiveshell.py\", line 3263, in run_ast_nodes\n",
      "    if (await self.run_code(code, result,  async_=asy)):\n",
      "  File \"/users/nvelezalicea/.conda/envs/py3/lib/python3.6/site-packages/IPython/core/interactiveshell.py\", line 3360, in run_code\n",
      "    self.showtraceback(running_compiled_code=True)\n",
      "  File \"/users/nvelezalicea/.conda/envs/py3/lib/python3.6/site-packages/IPython/core/interactiveshell.py\", line 2047, in showtraceback\n",
      "    value, tb, tb_offset=tb_offset)\n",
      "  File \"/users/nvelezalicea/.conda/envs/py3/lib/python3.6/site-packages/IPython/core/ultratb.py\", line 1436, in structured_traceback\n",
      "    self, etype, value, tb, tb_offset, number_of_lines_of_context)\n",
      "  File \"/users/nvelezalicea/.conda/envs/py3/lib/python3.6/site-packages/IPython/core/ultratb.py\", line 1336, in structured_traceback\n",
      "    self, etype, value, tb, tb_offset, number_of_lines_of_context\n",
      "  File \"/users/nvelezalicea/.conda/envs/py3/lib/python3.6/site-packages/IPython/core/ultratb.py\", line 1193, in structured_traceback\n",
      "    tb_offset)\n",
      "  File \"/users/nvelezalicea/.conda/envs/py3/lib/python3.6/site-packages/IPython/core/ultratb.py\", line 1150, in format_exception_as_a_whole\n",
      "    last_unique, recursion_repeat = find_recursion(orig_etype, evalue, records)\n",
      "  File \"/users/nvelezalicea/.conda/envs/py3/lib/python3.6/site-packages/IPython/core/ultratb.py\", line 451, in find_recursion\n",
      "    return len(records), 0\n",
      "TypeError: object of type 'NoneType' has no len()\n",
      "\n",
      "During handling of the above exception, another exception occurred:\n",
      "\n",
      "Traceback (most recent call last):\n",
      "  File \"/users/nvelezalicea/.conda/envs/py3/lib/python3.6/site-packages/IPython/core/interactiveshell.py\", line 2044, in showtraceback\n",
      "    stb = value._render_traceback_()\n",
      "AttributeError: 'TypeError' object has no attribute '_render_traceback_'\n",
      "\n",
      "During handling of the above exception, another exception occurred:\n",
      "\n",
      "Traceback (most recent call last):\n",
      "  File \"/users/nvelezalicea/.conda/envs/py3/lib/python3.6/site-packages/IPython/core/ultratb.py\", line 1169, in get_records\n",
      "    return _fixed_getinnerframes(etb, number_of_lines_of_context, tb_offset)\n",
      "  File \"/users/nvelezalicea/.conda/envs/py3/lib/python3.6/site-packages/IPython/core/ultratb.py\", line 316, in wrapped\n",
      "    return f(*args, **kwargs)\n",
      "  File \"/users/nvelezalicea/.conda/envs/py3/lib/python3.6/site-packages/IPython/core/ultratb.py\", line 350, in _fixed_getinnerframes\n",
      "    records = fix_frame_records_filenames(inspect.getinnerframes(etb, context))\n",
      "  File \"/users/nvelezalicea/.conda/envs/py3/lib/python3.6/inspect.py\", line 1490, in getinnerframes\n",
      "    frameinfo = (tb.tb_frame,) + getframeinfo(tb, context)\n",
      "  File \"/users/nvelezalicea/.conda/envs/py3/lib/python3.6/inspect.py\", line 1448, in getframeinfo\n",
      "    filename = getsourcefile(frame) or getfile(frame)\n",
      "  File \"/users/nvelezalicea/.conda/envs/py3/lib/python3.6/inspect.py\", line 696, in getsourcefile\n",
      "    if getattr(getmodule(object, filename), '__loader__', None) is not None:\n",
      "  File \"/users/nvelezalicea/.conda/envs/py3/lib/python3.6/inspect.py\", line 739, in getmodule\n",
      "    f = getabsfile(module)\n",
      "  File \"/users/nvelezalicea/.conda/envs/py3/lib/python3.6/inspect.py\", line 708, in getabsfile\n",
      "    _filename = getsourcefile(object) or getfile(object)\n",
      "  File \"/users/nvelezalicea/.conda/envs/py3/lib/python3.6/inspect.py\", line 693, in getsourcefile\n",
      "    if os.path.exists(filename):\n",
      "  File \"/users/nvelezalicea/.conda/envs/py3/lib/python3.6/genericpath.py\", line 19, in exists\n",
      "    os.stat(path)\n",
      "KeyboardInterrupt\n"
     ]
    }
   ],
   "source": [
    "import pymongo\n",
    "import os\n",
    "import fnmatch\n",
    "import json\n",
    "import pandas as pd\n",
    "import pprint"
   ]
  },
  {
   "cell_type": "code",
   "execution_count": null,
   "metadata": {
    "ExecuteTime": {
     "end_time": "2020-09-18T16:19:31.807277Z",
     "start_time": "2020-09-18T16:19:31.804367Z"
    }
   },
   "outputs": [],
   "source": [
    "#find *.key containing username and password on separate lines(untracked using .gitignore)\n",
    "for file_name in os.listdir():\n",
    "    if fnmatch.fnmatch(file_name,'*.key'):\n",
    "        keyfile = file_name"
   ]
  },
  {
   "cell_type": "code",
   "execution_count": null,
   "metadata": {
    "ExecuteTime": {
     "end_time": "2020-09-18T16:19:32.186048Z",
     "start_time": "2020-09-18T16:19:32.180044Z"
    }
   },
   "outputs": [],
   "source": [
    "#Connection string\n",
    "creds = open(keyfile, \"r\").read().splitlines()\n",
    "myclient = pymongo.MongoClient('134.76.24.75', username=creds[0], password=creds[1], authSource='ohol') \n",
    "print(myClient)"
   ]
  },
  {
   "cell_type": "markdown",
   "metadata": {},
   "source": [
    "### Change password!"
   ]
  },
  {
   "cell_type": "code",
   "execution_count": 6,
   "metadata": {},
   "outputs": [
    {
     "ename": "ServerSelectionTimeoutError",
     "evalue": "134.76.24.75:27017: timed out, Timeout: 30s, Topology Description: <TopologyDescription id: 5f8473f642689f9c2444eff1, topology_type: Single, servers: [<ServerDescription ('134.76.24.75', 27017) server_type: Unknown, rtt: None, error=NetworkTimeout('134.76.24.75:27017: timed out',)>]>",
     "output_type": "error",
     "traceback": [
      "\u001b[0;31m---------------------------------------------------------------------------\u001b[0m",
      "\u001b[0;31mServerSelectionTimeoutError\u001b[0m               Traceback (most recent call last)",
      "\u001b[0;32m<ipython-input-6-cbd5339f4201>\u001b[0m in \u001b[0;36m<module>\u001b[0;34m\u001b[0m\n\u001b[0;32m----> 1\u001b[0;31m \u001b[0mmyclient\u001b[0m\u001b[0;34m.\u001b[0m\u001b[0mohol\u001b[0m\u001b[0;34m.\u001b[0m\u001b[0mcommand\u001b[0m\u001b[0;34m(\u001b[0m\u001b[0;34m\"updateUser\"\u001b[0m\u001b[0;34m,\u001b[0m \u001b[0;34m\"nataliavelez\"\u001b[0m\u001b[0;34m,\u001b[0m \u001b[0mpwd\u001b[0m\u001b[0;34m=\u001b[0m\u001b[0;34m\"foo\"\u001b[0m\u001b[0;34m,\u001b[0m \u001b[0mconnectTimeoutMS\u001b[0m\u001b[0;34m=\u001b[0m\u001b[0;36m50000\u001b[0m\u001b[0;34m)\u001b[0m \u001b[0;31m#once you've updated this, then change your keyfile and make sure that this cells is reverted\u001b[0m\u001b[0;34m\u001b[0m\u001b[0;34m\u001b[0m\u001b[0m\n\u001b[0m",
      "\u001b[0;32m~/.conda/envs/py3/lib/python3.6/site-packages/pymongo/database.py\u001b[0m in \u001b[0;36mcommand\u001b[0;34m(self, command, value, check, allowable_errors, read_preference, codec_options, session, **kwargs)\u001b[0m\n\u001b[1;32m    735\u001b[0m                                or ReadPreference.PRIMARY)\n\u001b[1;32m    736\u001b[0m         with self.__client._socket_for_reads(\n\u001b[0;32m--> 737\u001b[0;31m                 read_preference, session) as (sock_info, slave_ok):\n\u001b[0m\u001b[1;32m    738\u001b[0m             return self._command(sock_info, command, slave_ok, value,\n\u001b[1;32m    739\u001b[0m                                  \u001b[0mcheck\u001b[0m\u001b[0;34m,\u001b[0m \u001b[0mallowable_errors\u001b[0m\u001b[0;34m,\u001b[0m \u001b[0mread_preference\u001b[0m\u001b[0;34m,\u001b[0m\u001b[0;34m\u001b[0m\u001b[0;34m\u001b[0m\u001b[0m\n",
      "\u001b[0;32m~/.conda/envs/py3/lib/python3.6/contextlib.py\u001b[0m in \u001b[0;36m__enter__\u001b[0;34m(self)\u001b[0m\n\u001b[1;32m     79\u001b[0m     \u001b[0;32mdef\u001b[0m \u001b[0m__enter__\u001b[0m\u001b[0;34m(\u001b[0m\u001b[0mself\u001b[0m\u001b[0;34m)\u001b[0m\u001b[0;34m:\u001b[0m\u001b[0;34m\u001b[0m\u001b[0;34m\u001b[0m\u001b[0m\n\u001b[1;32m     80\u001b[0m         \u001b[0;32mtry\u001b[0m\u001b[0;34m:\u001b[0m\u001b[0;34m\u001b[0m\u001b[0;34m\u001b[0m\u001b[0m\n\u001b[0;32m---> 81\u001b[0;31m             \u001b[0;32mreturn\u001b[0m \u001b[0mnext\u001b[0m\u001b[0;34m(\u001b[0m\u001b[0mself\u001b[0m\u001b[0;34m.\u001b[0m\u001b[0mgen\u001b[0m\u001b[0;34m)\u001b[0m\u001b[0;34m\u001b[0m\u001b[0;34m\u001b[0m\u001b[0m\n\u001b[0m\u001b[1;32m     82\u001b[0m         \u001b[0;32mexcept\u001b[0m \u001b[0mStopIteration\u001b[0m\u001b[0;34m:\u001b[0m\u001b[0;34m\u001b[0m\u001b[0;34m\u001b[0m\u001b[0m\n\u001b[1;32m     83\u001b[0m             \u001b[0;32mraise\u001b[0m \u001b[0mRuntimeError\u001b[0m\u001b[0;34m(\u001b[0m\u001b[0;34m\"generator didn't yield\"\u001b[0m\u001b[0;34m)\u001b[0m \u001b[0;32mfrom\u001b[0m \u001b[0;32mNone\u001b[0m\u001b[0;34m\u001b[0m\u001b[0;34m\u001b[0m\u001b[0m\n",
      "\u001b[0;32m~/.conda/envs/py3/lib/python3.6/site-packages/pymongo/mongo_client.py\u001b[0m in \u001b[0;36m_socket_for_reads\u001b[0;34m(self, read_preference, session)\u001b[0m\n\u001b[1;32m   1323\u001b[0m         \u001b[0mtopology\u001b[0m \u001b[0;34m=\u001b[0m \u001b[0mself\u001b[0m\u001b[0;34m.\u001b[0m\u001b[0m_get_topology\u001b[0m\u001b[0;34m(\u001b[0m\u001b[0;34m)\u001b[0m\u001b[0;34m\u001b[0m\u001b[0;34m\u001b[0m\u001b[0m\n\u001b[1;32m   1324\u001b[0m         \u001b[0msingle\u001b[0m \u001b[0;34m=\u001b[0m \u001b[0mtopology\u001b[0m\u001b[0;34m.\u001b[0m\u001b[0mdescription\u001b[0m\u001b[0;34m.\u001b[0m\u001b[0mtopology_type\u001b[0m \u001b[0;34m==\u001b[0m \u001b[0mTOPOLOGY_TYPE\u001b[0m\u001b[0;34m.\u001b[0m\u001b[0mSingle\u001b[0m\u001b[0;34m\u001b[0m\u001b[0;34m\u001b[0m\u001b[0m\n\u001b[0;32m-> 1325\u001b[0;31m         \u001b[0mserver\u001b[0m \u001b[0;34m=\u001b[0m \u001b[0mself\u001b[0m\u001b[0;34m.\u001b[0m\u001b[0m_select_server\u001b[0m\u001b[0;34m(\u001b[0m\u001b[0mread_preference\u001b[0m\u001b[0;34m,\u001b[0m \u001b[0msession\u001b[0m\u001b[0;34m)\u001b[0m\u001b[0;34m\u001b[0m\u001b[0;34m\u001b[0m\u001b[0m\n\u001b[0m\u001b[1;32m   1326\u001b[0m \u001b[0;34m\u001b[0m\u001b[0m\n\u001b[1;32m   1327\u001b[0m         \u001b[0;32mwith\u001b[0m \u001b[0mself\u001b[0m\u001b[0;34m.\u001b[0m\u001b[0m_get_socket\u001b[0m\u001b[0;34m(\u001b[0m\u001b[0mserver\u001b[0m\u001b[0;34m,\u001b[0m \u001b[0msession\u001b[0m\u001b[0;34m)\u001b[0m \u001b[0;32mas\u001b[0m \u001b[0msock_info\u001b[0m\u001b[0;34m:\u001b[0m\u001b[0;34m\u001b[0m\u001b[0;34m\u001b[0m\u001b[0m\n",
      "\u001b[0;32m~/.conda/envs/py3/lib/python3.6/site-packages/pymongo/mongo_client.py\u001b[0m in \u001b[0;36m_select_server\u001b[0;34m(self, server_selector, session, address)\u001b[0m\n\u001b[1;32m   1276\u001b[0m                                         % address)\n\u001b[1;32m   1277\u001b[0m             \u001b[0;32melse\u001b[0m\u001b[0;34m:\u001b[0m\u001b[0;34m\u001b[0m\u001b[0;34m\u001b[0m\u001b[0m\n\u001b[0;32m-> 1278\u001b[0;31m                 \u001b[0mserver\u001b[0m \u001b[0;34m=\u001b[0m \u001b[0mtopology\u001b[0m\u001b[0;34m.\u001b[0m\u001b[0mselect_server\u001b[0m\u001b[0;34m(\u001b[0m\u001b[0mserver_selector\u001b[0m\u001b[0;34m)\u001b[0m\u001b[0;34m\u001b[0m\u001b[0;34m\u001b[0m\u001b[0m\n\u001b[0m\u001b[1;32m   1279\u001b[0m                 \u001b[0;31m# Pin this session to the selected server if it's performing a\u001b[0m\u001b[0;34m\u001b[0m\u001b[0;34m\u001b[0m\u001b[0;34m\u001b[0m\u001b[0m\n\u001b[1;32m   1280\u001b[0m                 \u001b[0;31m# sharded transaction.\u001b[0m\u001b[0;34m\u001b[0m\u001b[0;34m\u001b[0m\u001b[0;34m\u001b[0m\u001b[0m\n",
      "\u001b[0;32m~/.conda/envs/py3/lib/python3.6/site-packages/pymongo/topology.py\u001b[0m in \u001b[0;36mselect_server\u001b[0;34m(self, selector, server_selection_timeout, address)\u001b[0m\n\u001b[1;32m    241\u001b[0m         return random.choice(self.select_servers(selector,\n\u001b[1;32m    242\u001b[0m                                                  \u001b[0mserver_selection_timeout\u001b[0m\u001b[0;34m,\u001b[0m\u001b[0;34m\u001b[0m\u001b[0;34m\u001b[0m\u001b[0m\n\u001b[0;32m--> 243\u001b[0;31m                                                  address))\n\u001b[0m\u001b[1;32m    244\u001b[0m \u001b[0;34m\u001b[0m\u001b[0m\n\u001b[1;32m    245\u001b[0m     def select_server_by_address(self, address,\n",
      "\u001b[0;32m~/.conda/envs/py3/lib/python3.6/site-packages/pymongo/topology.py\u001b[0m in \u001b[0;36mselect_servers\u001b[0;34m(self, selector, server_selection_timeout, address)\u001b[0m\n\u001b[1;32m    198\u001b[0m         \u001b[0;32mwith\u001b[0m \u001b[0mself\u001b[0m\u001b[0;34m.\u001b[0m\u001b[0m_lock\u001b[0m\u001b[0;34m:\u001b[0m\u001b[0;34m\u001b[0m\u001b[0;34m\u001b[0m\u001b[0m\n\u001b[1;32m    199\u001b[0m             server_descriptions = self._select_servers_loop(\n\u001b[0;32m--> 200\u001b[0;31m                 selector, server_timeout, address)\n\u001b[0m\u001b[1;32m    201\u001b[0m \u001b[0;34m\u001b[0m\u001b[0m\n\u001b[1;32m    202\u001b[0m             return [self.get_server_by_address(sd.address)\n",
      "\u001b[0;32m~/.conda/envs/py3/lib/python3.6/site-packages/pymongo/topology.py\u001b[0m in \u001b[0;36m_select_servers_loop\u001b[0;34m(self, selector, timeout, address)\u001b[0m\n\u001b[1;32m    215\u001b[0m                 raise ServerSelectionTimeoutError(\n\u001b[1;32m    216\u001b[0m                     \u001b[0;34m\"%s, Timeout: %ss, Topology Description: %r\"\u001b[0m \u001b[0;34m%\u001b[0m\u001b[0;34m\u001b[0m\u001b[0;34m\u001b[0m\u001b[0m\n\u001b[0;32m--> 217\u001b[0;31m                     (self._error_message(selector), timeout, self.description))\n\u001b[0m\u001b[1;32m    218\u001b[0m \u001b[0;34m\u001b[0m\u001b[0m\n\u001b[1;32m    219\u001b[0m             \u001b[0mself\u001b[0m\u001b[0;34m.\u001b[0m\u001b[0m_ensure_opened\u001b[0m\u001b[0;34m(\u001b[0m\u001b[0;34m)\u001b[0m\u001b[0;34m\u001b[0m\u001b[0;34m\u001b[0m\u001b[0m\n",
      "\u001b[0;31mServerSelectionTimeoutError\u001b[0m: 134.76.24.75:27017: timed out, Timeout: 30s, Topology Description: <TopologyDescription id: 5f8473f642689f9c2444eff1, topology_type: Single, servers: [<ServerDescription ('134.76.24.75', 27017) server_type: Unknown, rtt: None, error=NetworkTimeout('134.76.24.75:27017: timed out',)>]>"
     ]
    }
   ],
   "source": [
    "#myclient.ohol.command(\"updateUser\", \"nataliavelez\", pwd=\"foo\", connectTimeoutMS=50000) #once you've updated this, then change your keyfile and make sure that this cells is reverted"
   ]
  },
  {
   "cell_type": "markdown",
   "metadata": {},
   "source": [
    "### Some Example Queries"
   ]
  },
  {
   "cell_type": "code",
   "execution_count": null,
   "metadata": {
    "ExecuteTime": {
     "end_time": "2020-09-18T16:19:36.018302Z",
     "start_time": "2020-09-18T16:19:35.774765Z"
    }
   },
   "outputs": [],
   "source": [
    "#Write to database\n",
    "db = myclient.ohol #connect to database\n",
    "col = db.test #select/create a collection called 'test'\n",
    "\n",
    "#use pandas to read some csv data\n",
    "df = pd.read_csv('../1_download/download_log.txt', sep='\\t') \n",
    "df.reset_index(inplace=True)\n",
    "records = df.to_dict('records') #convert to list of json objects\n",
    "query = col.insert_many(records) #use insert_many() for multiple items in a list\n",
    "print(query.inserted_ids) #see ids for the inserted data"
   ]
  },
  {
   "cell_type": "markdown",
   "metadata": {},
   "source": [
    "### Some Example Queries"
   ]
  },
  {
   "cell_type": "code",
   "execution_count": null,
   "metadata": {
    "ExecuteTime": {
     "end_time": "2020-09-18T16:18:21.307194Z",
     "start_time": "2020-09-18T16:18:21.140488Z"
    }
   },
   "outputs": [],
   "source": [
    "#Basic query\n",
    "for result in col.find({\"user\": \"nvelez\"}):\n",
    "    pprint.pprint(result)"
   ]
  },
  {
   "cell_type": "markdown",
   "metadata": {},
   "source": [
    "### Some useful database admin commands for Charley"
   ]
  },
  {
   "cell_type": "code",
   "execution_count": null,
   "metadata": {
    "ExecuteTime": {
     "end_time": "2020-09-18T15:52:11.462465Z",
     "start_time": "2020-09-18T15:52:11.458924Z"
    }
   },
   "outputs": [],
   "source": [
    "#Create user\n",
    "#myclient.ohol.add_user('user', 'pass', roles=[{'role':'readWrite','db':'ohol'}, {\"role\":  \"changeOwnPasswordCustomDataRole\", \"db\":\"ohol\"}])\n",
    "\n",
    "#Change passwords\n",
    "#myclient.ohol.command(\"updateUser\", \"user\", pwd=\"newpassword\")\n",
    "\n",
    "#Update roles\n",
    "#myclient.ohol.command(\"updateUser\", \"ericschulz\", roles=[\"readWrite\", \"changeOwnPasswordCustomDataRole\"])\n",
    "\n",
    "#Create role\n",
    "#myclient.ohol.command(\"createRole\",\"changeOwnPassword\",privileges=[{\"resource\" : {\"db\" : \"\", \"collection\":\"\"}, \"actions\" : [ \"changeOwnPassword\", \"changeOwnCustomData\" ]}], roles=[])"
   ]
  },
  {
   "cell_type": "code",
   "execution_count": null,
   "metadata": {},
   "outputs": [],
   "source": []
  }
 ],
 "metadata": {
  "kernelspec": {
   "display_name": "Python [conda env:.conda-py3]",
   "language": "python",
   "name": "conda-env-.conda-py3-py"
  },
  "language_info": {
   "codemirror_mode": {
    "name": "ipython",
    "version": 3
   },
   "file_extension": ".py",
   "mimetype": "text/x-python",
   "name": "python",
   "nbconvert_exporter": "python",
   "pygments_lexer": "ipython3",
   "version": "3.6.10"
  },
  "toc": {
   "base_numbering": 1,
   "nav_menu": {},
   "number_sections": true,
   "sideBar": true,
   "skip_h1_title": false,
   "title_cell": "Table of Contents",
   "title_sidebar": "Contents",
   "toc_cell": false,
   "toc_position": {},
   "toc_section_display": true,
   "toc_window_display": false
  }
 },
 "nbformat": 4,
 "nbformat_minor": 2
}
