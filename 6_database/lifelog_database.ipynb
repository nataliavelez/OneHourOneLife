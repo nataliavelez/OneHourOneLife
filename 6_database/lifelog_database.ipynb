{
 "cells": [
  {
   "cell_type": "markdown",
   "metadata": {},
   "source": [
    "# Upload lifelogs and families to database\n",
    "Natalia Vélez, November 2020"
   ]
  },
  {
   "cell_type": "code",
   "execution_count": 38,
   "metadata": {},
   "outputs": [],
   "source": [
    "import pymongo\n",
    "import os\n",
    "import json\n",
    "import pandas as pd\n",
    "import numpy as np\n",
    "from os.path import join as opj\n",
    "from tqdm import notebook"
   ]
  },
  {
   "cell_type": "markdown",
   "metadata": {},
   "source": [
    "Connect to database:"
   ]
  },
  {
   "cell_type": "code",
   "execution_count": 2,
   "metadata": {},
   "outputs": [
    {
     "name": "stdout",
     "output_type": "stream",
     "text": [
      "Database(MongoClient(host=['134.76.24.75:27017'], document_class=dict, tz_aware=False, connect=True, authsource='ohol'), 'ohol')\n",
      "['test']\n"
     ]
    }
   ],
   "source": [
    "keyfile = 'credentials.key'\n",
    "creds = open(keyfile, \"r\").read().splitlines()\n",
    "myclient = pymongo.MongoClient('134.76.24.75', username=creds[0], password=creds[1], authSource='ohol') \n",
    "db = myclient.ohol\n",
    "\n",
    "print(db)\n",
    "print(db.list_collection_names())"
   ]
  },
  {
   "cell_type": "markdown",
   "metadata": {},
   "source": [
    "## Lifelogs"
   ]
  },
  {
   "cell_type": "markdown",
   "metadata": {},
   "source": [
    "### Prepare data"
   ]
  },
  {
   "cell_type": "markdown",
   "metadata": {},
   "source": [
    "Load lifelog data:"
   ]
  },
  {
   "cell_type": "code",
   "execution_count": 3,
   "metadata": {},
   "outputs": [
    {
     "name": "stderr",
     "output_type": "stream",
     "text": [
      "/Users/nvelez/opt/anaconda3/lib/python3.7/site-packages/numpy/lib/arraysetops.py:580: FutureWarning: elementwise comparison failed; returning scalar instead, but in the future will perform elementwise comparison\n",
      "  mask |= (ar1 == a)\n"
     ]
    },
    {
     "name": "stdout",
     "output_type": "stream",
     "text": [
      "(1826661, 15)\n"
     ]
    },
    {
     "data": {
      "text/html": [
       "<div>\n",
       "<style scoped>\n",
       "    .dataframe tbody tr th:only-of-type {\n",
       "        vertical-align: middle;\n",
       "    }\n",
       "\n",
       "    .dataframe tbody tr th {\n",
       "        vertical-align: top;\n",
       "    }\n",
       "\n",
       "    .dataframe thead th {\n",
       "        text-align: right;\n",
       "    }\n",
       "</style>\n",
       "<table border=\"1\" class=\"dataframe\">\n",
       "  <thead>\n",
       "    <tr style=\"text-align: right;\">\n",
       "      <th></th>\n",
       "      <th>player</th>\n",
       "      <th>avatar</th>\n",
       "      <th>tBirth</th>\n",
       "      <th>parent</th>\n",
       "      <th>birth</th>\n",
       "      <th>tDeath</th>\n",
       "      <th>death</th>\n",
       "      <th>age</th>\n",
       "      <th>cause_of_death</th>\n",
       "      <th>birthX</th>\n",
       "      <th>birthY</th>\n",
       "      <th>deathX</th>\n",
       "      <th>deathY</th>\n",
       "      <th>first</th>\n",
       "      <th>last</th>\n",
       "    </tr>\n",
       "  </thead>\n",
       "  <tbody>\n",
       "    <tr>\n",
       "      <th>0</th>\n",
       "      <td>06d8ab86b0daf11b13a446b87f770aa20bee1ca0</td>\n",
       "      <td>3308603</td>\n",
       "      <td>1599462917</td>\n",
       "      <td>3308581</td>\n",
       "      <td>[-63752   -504]</td>\n",
       "      <td>NaN</td>\n",
       "      <td>NaN</td>\n",
       "      <td>NaN</td>\n",
       "      <td>NaN</td>\n",
       "      <td>-63752</td>\n",
       "      <td>-504</td>\n",
       "      <td>NaN</td>\n",
       "      <td>NaN</td>\n",
       "      <td>SUPERIOR</td>\n",
       "      <td>MATSU</td>\n",
       "    </tr>\n",
       "    <tr>\n",
       "      <th>1</th>\n",
       "      <td>67bffa53500e2c626edc407409b6550996b748db</td>\n",
       "      <td>3308602</td>\n",
       "      <td>1599462864</td>\n",
       "      <td>3308575</td>\n",
       "      <td>[-63753   -507]</td>\n",
       "      <td>NaN</td>\n",
       "      <td>NaN</td>\n",
       "      <td>NaN</td>\n",
       "      <td>NaN</td>\n",
       "      <td>-63753</td>\n",
       "      <td>-507</td>\n",
       "      <td>NaN</td>\n",
       "      <td>NaN</td>\n",
       "      <td>FEATHER</td>\n",
       "      <td>MATSU</td>\n",
       "    </tr>\n",
       "    <tr>\n",
       "      <th>2</th>\n",
       "      <td>fbc0168048713cfaf6ef6a350c0171e7b2b0af4a</td>\n",
       "      <td>3308601</td>\n",
       "      <td>1599462805</td>\n",
       "      <td>3308564</td>\n",
       "      <td>[-63762   -523]</td>\n",
       "      <td>NaN</td>\n",
       "      <td>NaN</td>\n",
       "      <td>NaN</td>\n",
       "      <td>NaN</td>\n",
       "      <td>-63762</td>\n",
       "      <td>-523</td>\n",
       "      <td>NaN</td>\n",
       "      <td>NaN</td>\n",
       "      <td>SASHA</td>\n",
       "      <td>MATSU</td>\n",
       "    </tr>\n",
       "    <tr>\n",
       "      <th>3</th>\n",
       "      <td>5d5050247e485d0224df4e392118c27b8ee3a88b</td>\n",
       "      <td>3308598</td>\n",
       "      <td>1599462667</td>\n",
       "      <td>3308575</td>\n",
       "      <td>[-63747   -498]</td>\n",
       "      <td>NaN</td>\n",
       "      <td>NaN</td>\n",
       "      <td>NaN</td>\n",
       "      <td>NaN</td>\n",
       "      <td>-63747</td>\n",
       "      <td>-498</td>\n",
       "      <td>NaN</td>\n",
       "      <td>NaN</td>\n",
       "      <td>DRAGON</td>\n",
       "      <td>MATSU</td>\n",
       "    </tr>\n",
       "    <tr>\n",
       "      <th>4</th>\n",
       "      <td>310d12780dbb316a3b50f83adbf9ce76973172bb</td>\n",
       "      <td>3308597</td>\n",
       "      <td>1599462620</td>\n",
       "      <td>3308571</td>\n",
       "      <td>[-63756   -508]</td>\n",
       "      <td>1.599464e+09</td>\n",
       "      <td>[-63841   -520]</td>\n",
       "      <td>28.89</td>\n",
       "      <td>hunger</td>\n",
       "      <td>-63756</td>\n",
       "      <td>-508</td>\n",
       "      <td>-63841.0</td>\n",
       "      <td>-520.0</td>\n",
       "      <td>MODOU</td>\n",
       "      <td>MATSU</td>\n",
       "    </tr>\n",
       "  </tbody>\n",
       "</table>\n",
       "</div>"
      ],
      "text/plain": [
       "                                     player   avatar      tBirth   parent  \\\n",
       "0  06d8ab86b0daf11b13a446b87f770aa20bee1ca0  3308603  1599462917  3308581   \n",
       "1  67bffa53500e2c626edc407409b6550996b748db  3308602  1599462864  3308575   \n",
       "2  fbc0168048713cfaf6ef6a350c0171e7b2b0af4a  3308601  1599462805  3308564   \n",
       "3  5d5050247e485d0224df4e392118c27b8ee3a88b  3308598  1599462667  3308575   \n",
       "4  310d12780dbb316a3b50f83adbf9ce76973172bb  3308597  1599462620  3308571   \n",
       "\n",
       "             birth        tDeath            death    age cause_of_death  \\\n",
       "0  [-63752   -504]           NaN              NaN    NaN            NaN   \n",
       "1  [-63753   -507]           NaN              NaN    NaN            NaN   \n",
       "2  [-63762   -523]           NaN              NaN    NaN            NaN   \n",
       "3  [-63747   -498]           NaN              NaN    NaN            NaN   \n",
       "4  [-63756   -508]  1.599464e+09  [-63841   -520]  28.89         hunger   \n",
       "\n",
       "   birthX  birthY   deathX  deathY     first   last  \n",
       "0  -63752    -504      NaN     NaN  SUPERIOR  MATSU  \n",
       "1  -63753    -507      NaN     NaN   FEATHER  MATSU  \n",
       "2  -63762    -523      NaN     NaN     SASHA  MATSU  \n",
       "3  -63747    -498      NaN     NaN    DRAGON  MATSU  \n",
       "4  -63756    -508 -63841.0  -520.0     MODOU  MATSU  "
      ]
     },
     "execution_count": 3,
     "metadata": {},
     "output_type": "execute_result"
    }
   ],
   "source": [
    "log_df = pd.read_csv('../2_demographics/outputs/all_lifelogs_compact.tsv', sep='\\t', index_col=0)\n",
    "log_df['death'] = np.where(log_df['death'].str.len() <= 2, np.nan, log_df['death'])\n",
    "print(log_df.shape)\n",
    "log_df.head()"
   ]
  },
  {
   "cell_type": "markdown",
   "metadata": {},
   "source": [
    "Load expertise:"
   ]
  },
  {
   "cell_type": "code",
   "execution_count": 9,
   "metadata": {},
   "outputs": [
    {
     "name": "stdout",
     "output_type": "stream",
     "text": [
      "(3151906, 4)\n"
     ]
    },
    {
     "data": {
      "text/html": [
       "<div>\n",
       "<style scoped>\n",
       "    .dataframe tbody tr th:only-of-type {\n",
       "        vertical-align: middle;\n",
       "    }\n",
       "\n",
       "    .dataframe tbody tr th {\n",
       "        vertical-align: top;\n",
       "    }\n",
       "\n",
       "    .dataframe thead th {\n",
       "        text-align: right;\n",
       "    }\n",
       "</style>\n",
       "<table border=\"1\" class=\"dataframe\">\n",
       "  <thead>\n",
       "    <tr style=\"text-align: right;\">\n",
       "      <th></th>\n",
       "      <th>avatar</th>\n",
       "      <th>player</th>\n",
       "      <th>n_life</th>\n",
       "      <th>gametime</th>\n",
       "    </tr>\n",
       "  </thead>\n",
       "  <tbody>\n",
       "    <tr>\n",
       "      <th>0</th>\n",
       "      <td>630641</td>\n",
       "      <td>00006debdd4d630a4a5aa395135a70a69e0db01e</td>\n",
       "      <td>0</td>\n",
       "      <td>0.00</td>\n",
       "    </tr>\n",
       "    <tr>\n",
       "      <th>1</th>\n",
       "      <td>630737</td>\n",
       "      <td>00006debdd4d630a4a5aa395135a70a69e0db01e</td>\n",
       "      <td>1</td>\n",
       "      <td>13.88</td>\n",
       "    </tr>\n",
       "    <tr>\n",
       "      <th>2</th>\n",
       "      <td>630799</td>\n",
       "      <td>00006debdd4d630a4a5aa395135a70a69e0db01e</td>\n",
       "      <td>2</td>\n",
       "      <td>18.86</td>\n",
       "    </tr>\n",
       "    <tr>\n",
       "      <th>3</th>\n",
       "      <td>214206</td>\n",
       "      <td>0001394319e5e63bb74219fef647e9ff24507a21</td>\n",
       "      <td>0</td>\n",
       "      <td>0.00</td>\n",
       "    </tr>\n",
       "    <tr>\n",
       "      <th>4</th>\n",
       "      <td>214530</td>\n",
       "      <td>0001394319e5e63bb74219fef647e9ff24507a21</td>\n",
       "      <td>1</td>\n",
       "      <td>33.78</td>\n",
       "    </tr>\n",
       "  </tbody>\n",
       "</table>\n",
       "</div>"
      ],
      "text/plain": [
       "   avatar                                    player  n_life  gametime\n",
       "0  630641  00006debdd4d630a4a5aa395135a70a69e0db01e       0      0.00\n",
       "1  630737  00006debdd4d630a4a5aa395135a70a69e0db01e       1     13.88\n",
       "2  630799  00006debdd4d630a4a5aa395135a70a69e0db01e       2     18.86\n",
       "3  214206  0001394319e5e63bb74219fef647e9ff24507a21       0      0.00\n",
       "4  214530  0001394319e5e63bb74219fef647e9ff24507a21       1     33.78"
      ]
     },
     "execution_count": 9,
     "metadata": {},
     "output_type": "execute_result"
    }
   ],
   "source": [
    "expert_df = pd.read_csv('../2_demographics/outputs/player_expertise.tsv', sep='\\t')\n",
    "expert_df = expert_df[['avatar', 'player', 'n_life', 'gametime']]\n",
    "print(expert_df.shape)\n",
    "expert_df.head()"
   ]
  },
  {
   "cell_type": "markdown",
   "metadata": {},
   "source": [
    "Load families:"
   ]
  },
  {
   "cell_type": "code",
   "execution_count": 5,
   "metadata": {},
   "outputs": [
    {
     "data": {
      "text/html": [
       "<div>\n",
       "<style scoped>\n",
       "    .dataframe tbody tr th:only-of-type {\n",
       "        vertical-align: middle;\n",
       "    }\n",
       "\n",
       "    .dataframe tbody tr th {\n",
       "        vertical-align: top;\n",
       "    }\n",
       "\n",
       "    .dataframe thead th {\n",
       "        text-align: right;\n",
       "    }\n",
       "</style>\n",
       "<table border=\"1\" class=\"dataframe\">\n",
       "  <thead>\n",
       "    <tr style=\"text-align: right;\">\n",
       "      <th></th>\n",
       "      <th>family</th>\n",
       "      <th>sum</th>\n",
       "      <th>count</th>\n",
       "      <th>a</th>\n",
       "      <th>b</th>\n",
       "      <th>beta_mean</th>\n",
       "      <th>beta_var</th>\n",
       "      <th>snr</th>\n",
       "      <th>weighted_size</th>\n",
       "      <th>longest_path</th>\n",
       "    </tr>\n",
       "  </thead>\n",
       "  <tbody>\n",
       "    <tr>\n",
       "      <th>0</th>\n",
       "      <td>time-1573253679_eve-2251043_name-MCCRACKEN</td>\n",
       "      <td>2</td>\n",
       "      <td>9</td>\n",
       "      <td>5</td>\n",
       "      <td>10</td>\n",
       "      <td>0.333333</td>\n",
       "      <td>0.013889</td>\n",
       "      <td>24.000000</td>\n",
       "      <td>3.000000</td>\n",
       "      <td>3</td>\n",
       "    </tr>\n",
       "    <tr>\n",
       "      <th>1</th>\n",
       "      <td>time-1573253705_eve-2251049_name-FINCH</td>\n",
       "      <td>1</td>\n",
       "      <td>8</td>\n",
       "      <td>4</td>\n",
       "      <td>10</td>\n",
       "      <td>0.285714</td>\n",
       "      <td>0.013605</td>\n",
       "      <td>21.000000</td>\n",
       "      <td>2.285714</td>\n",
       "      <td>2</td>\n",
       "    </tr>\n",
       "    <tr>\n",
       "      <th>2</th>\n",
       "      <td>time-1573253707_eve-2251051_name-SORROWS</td>\n",
       "      <td>1</td>\n",
       "      <td>3</td>\n",
       "      <td>4</td>\n",
       "      <td>5</td>\n",
       "      <td>0.444444</td>\n",
       "      <td>0.024691</td>\n",
       "      <td>18.000000</td>\n",
       "      <td>1.333333</td>\n",
       "      <td>2</td>\n",
       "    </tr>\n",
       "    <tr>\n",
       "      <th>3</th>\n",
       "      <td>time-1573253710_eve-2251053_name-LION</td>\n",
       "      <td>9</td>\n",
       "      <td>40</td>\n",
       "      <td>12</td>\n",
       "      <td>34</td>\n",
       "      <td>0.260870</td>\n",
       "      <td>0.004102</td>\n",
       "      <td>63.588235</td>\n",
       "      <td>10.434783</td>\n",
       "      <td>4</td>\n",
       "    </tr>\n",
       "    <tr>\n",
       "      <th>4</th>\n",
       "      <td>time-1573253711_eve-2251054_name-DEADRICK</td>\n",
       "      <td>33</td>\n",
       "      <td>86</td>\n",
       "      <td>36</td>\n",
       "      <td>56</td>\n",
       "      <td>0.391304</td>\n",
       "      <td>0.002561</td>\n",
       "      <td>152.785714</td>\n",
       "      <td>33.652174</td>\n",
       "      <td>7</td>\n",
       "    </tr>\n",
       "  </tbody>\n",
       "</table>\n",
       "</div>"
      ],
      "text/plain": [
       "                                       family  sum  count   a   b  beta_mean  \\\n",
       "0  time-1573253679_eve-2251043_name-MCCRACKEN    2      9   5  10   0.333333   \n",
       "1      time-1573253705_eve-2251049_name-FINCH    1      8   4  10   0.285714   \n",
       "2    time-1573253707_eve-2251051_name-SORROWS    1      3   4   5   0.444444   \n",
       "3       time-1573253710_eve-2251053_name-LION    9     40  12  34   0.260870   \n",
       "4   time-1573253711_eve-2251054_name-DEADRICK   33     86  36  56   0.391304   \n",
       "\n",
       "   beta_var         snr  weighted_size  longest_path  \n",
       "0  0.013889   24.000000       3.000000             3  \n",
       "1  0.013605   21.000000       2.285714             2  \n",
       "2  0.024691   18.000000       1.333333             2  \n",
       "3  0.004102   63.588235      10.434783             4  \n",
       "4  0.002561  152.785714      33.652174             7  "
      ]
     },
     "execution_count": 5,
     "metadata": {},
     "output_type": "execute_result"
    }
   ],
   "source": [
    "fam_success = pd.read_csv('../2_demographics/outputs/family_fitness.tsv', sep='\\t')\n",
    "fam_members = pd.read_csv('../2_demographics/outputs/family_generations.tsv', sep='\\t')\n",
    "fam_success.head()"
   ]
  },
  {
   "cell_type": "markdown",
   "metadata": {},
   "source": [
    "Merge:"
   ]
  },
  {
   "cell_type": "code",
   "execution_count": 11,
   "metadata": {},
   "outputs": [
    {
     "name": "stdout",
     "output_type": "stream",
     "text": [
      "(1825025, 17)\n",
      "(470361, 19)\n"
     ]
    },
    {
     "data": {
      "text/html": [
       "<div>\n",
       "<style scoped>\n",
       "    .dataframe tbody tr th:only-of-type {\n",
       "        vertical-align: middle;\n",
       "    }\n",
       "\n",
       "    .dataframe tbody tr th {\n",
       "        vertical-align: top;\n",
       "    }\n",
       "\n",
       "    .dataframe thead th {\n",
       "        text-align: right;\n",
       "    }\n",
       "</style>\n",
       "<table border=\"1\" class=\"dataframe\">\n",
       "  <thead>\n",
       "    <tr style=\"text-align: right;\">\n",
       "      <th></th>\n",
       "      <th>player</th>\n",
       "      <th>avatar</th>\n",
       "      <th>tBirth</th>\n",
       "      <th>parent</th>\n",
       "      <th>birth</th>\n",
       "      <th>tDeath</th>\n",
       "      <th>death</th>\n",
       "      <th>age</th>\n",
       "      <th>cause_of_death</th>\n",
       "      <th>birthX</th>\n",
       "      <th>birthY</th>\n",
       "      <th>deathX</th>\n",
       "      <th>deathY</th>\n",
       "      <th>first</th>\n",
       "      <th>last</th>\n",
       "      <th>n_life</th>\n",
       "      <th>gametime</th>\n",
       "      <th>family</th>\n",
       "      <th>gen</th>\n",
       "    </tr>\n",
       "  </thead>\n",
       "  <tbody>\n",
       "    <tr>\n",
       "      <th>0</th>\n",
       "      <td>310d12780dbb316a3b50f83adbf9ce76973172bb</td>\n",
       "      <td>3308597</td>\n",
       "      <td>1599462620</td>\n",
       "      <td>3308571</td>\n",
       "      <td>[-63756   -508]</td>\n",
       "      <td>1.599464e+09</td>\n",
       "      <td>[-63841   -520]</td>\n",
       "      <td>28.89</td>\n",
       "      <td>hunger</td>\n",
       "      <td>-63756</td>\n",
       "      <td>-508</td>\n",
       "      <td>-63841.0</td>\n",
       "      <td>-520.0</td>\n",
       "      <td>MODOU</td>\n",
       "      <td>MATSU</td>\n",
       "      <td>0</td>\n",
       "      <td>0.00</td>\n",
       "      <td>time-1599447278_eve-3308179_name-MATSU</td>\n",
       "      <td>9</td>\n",
       "    </tr>\n",
       "    <tr>\n",
       "      <th>1</th>\n",
       "      <td>de586e48a15f97f09e71355fcc82cea88d29633a</td>\n",
       "      <td>3308595</td>\n",
       "      <td>1599462571</td>\n",
       "      <td>3308576</td>\n",
       "      <td>[-63788    148]</td>\n",
       "      <td>1.599465e+09</td>\n",
       "      <td>[-63794    187]</td>\n",
       "      <td>36.92</td>\n",
       "      <td>hunger</td>\n",
       "      <td>-63788</td>\n",
       "      <td>148</td>\n",
       "      <td>-63794.0</td>\n",
       "      <td>187.0</td>\n",
       "      <td>VIOLET</td>\n",
       "      <td>SUN</td>\n",
       "      <td>36</td>\n",
       "      <td>896.57</td>\n",
       "      <td>time-1599411200_eve-3307135_name-SUN</td>\n",
       "      <td>35</td>\n",
       "    </tr>\n",
       "    <tr>\n",
       "      <th>2</th>\n",
       "      <td>3da17539b16d6fe6911aefc57388bae9d1303e22</td>\n",
       "      <td>3308591</td>\n",
       "      <td>1599462365</td>\n",
       "      <td>3308571</td>\n",
       "      <td>[-63753   -509]</td>\n",
       "      <td>1.599465e+09</td>\n",
       "      <td>[-63761   -512]</td>\n",
       "      <td>45.82</td>\n",
       "      <td>hunger</td>\n",
       "      <td>-63753</td>\n",
       "      <td>-509</td>\n",
       "      <td>-63761.0</td>\n",
       "      <td>-512.0</td>\n",
       "      <td>RAIN</td>\n",
       "      <td>MATSU</td>\n",
       "      <td>599</td>\n",
       "      <td>8587.95</td>\n",
       "      <td>time-1599447278_eve-3308179_name-MATSU</td>\n",
       "      <td>9</td>\n",
       "    </tr>\n",
       "    <tr>\n",
       "      <th>3</th>\n",
       "      <td>043719a2996d748e294d308706447d2e6ce30181</td>\n",
       "      <td>3308583</td>\n",
       "      <td>1599462113</td>\n",
       "      <td>3308537</td>\n",
       "      <td>[-63797   -173]</td>\n",
       "      <td>1.599463e+09</td>\n",
       "      <td>[-63788   -209]</td>\n",
       "      <td>20.11</td>\n",
       "      <td>hunger</td>\n",
       "      <td>-63797</td>\n",
       "      <td>-173</td>\n",
       "      <td>-63788.0</td>\n",
       "      <td>-209.0</td>\n",
       "      <td>STAR</td>\n",
       "      <td>LUNA</td>\n",
       "      <td>0</td>\n",
       "      <td>0.00</td>\n",
       "      <td>time-1599454213_eve-3308371_name-LUNA</td>\n",
       "      <td>5</td>\n",
       "    </tr>\n",
       "    <tr>\n",
       "      <th>4</th>\n",
       "      <td>49bd234c63fac4073c98cc23dab916528f87e634</td>\n",
       "      <td>3308581</td>\n",
       "      <td>1599461853</td>\n",
       "      <td>3308545</td>\n",
       "      <td>[-63752   -512]</td>\n",
       "      <td>1.599465e+09</td>\n",
       "      <td>[-63758   -491]</td>\n",
       "      <td>45.37</td>\n",
       "      <td>hunger</td>\n",
       "      <td>-63752</td>\n",
       "      <td>-512</td>\n",
       "      <td>-63758.0</td>\n",
       "      <td>-491.0</td>\n",
       "      <td>JANE</td>\n",
       "      <td>MATSU</td>\n",
       "      <td>3541</td>\n",
       "      <td>40795.99</td>\n",
       "      <td>time-1599447278_eve-3308179_name-MATSU</td>\n",
       "      <td>9</td>\n",
       "    </tr>\n",
       "  </tbody>\n",
       "</table>\n",
       "</div>"
      ],
      "text/plain": [
       "                                     player   avatar      tBirth   parent  \\\n",
       "0  310d12780dbb316a3b50f83adbf9ce76973172bb  3308597  1599462620  3308571   \n",
       "1  de586e48a15f97f09e71355fcc82cea88d29633a  3308595  1599462571  3308576   \n",
       "2  3da17539b16d6fe6911aefc57388bae9d1303e22  3308591  1599462365  3308571   \n",
       "3  043719a2996d748e294d308706447d2e6ce30181  3308583  1599462113  3308537   \n",
       "4  49bd234c63fac4073c98cc23dab916528f87e634  3308581  1599461853  3308545   \n",
       "\n",
       "             birth        tDeath            death    age cause_of_death  \\\n",
       "0  [-63756   -508]  1.599464e+09  [-63841   -520]  28.89         hunger   \n",
       "1  [-63788    148]  1.599465e+09  [-63794    187]  36.92         hunger   \n",
       "2  [-63753   -509]  1.599465e+09  [-63761   -512]  45.82         hunger   \n",
       "3  [-63797   -173]  1.599463e+09  [-63788   -209]  20.11         hunger   \n",
       "4  [-63752   -512]  1.599465e+09  [-63758   -491]  45.37         hunger   \n",
       "\n",
       "   birthX  birthY   deathX  deathY   first   last  n_life  gametime  \\\n",
       "0  -63756    -508 -63841.0  -520.0   MODOU  MATSU       0      0.00   \n",
       "1  -63788     148 -63794.0   187.0  VIOLET    SUN      36    896.57   \n",
       "2  -63753    -509 -63761.0  -512.0    RAIN  MATSU     599   8587.95   \n",
       "3  -63797    -173 -63788.0  -209.0    STAR   LUNA       0      0.00   \n",
       "4  -63752    -512 -63758.0  -491.0    JANE  MATSU    3541  40795.99   \n",
       "\n",
       "                                   family  gen  \n",
       "0  time-1599447278_eve-3308179_name-MATSU    9  \n",
       "1    time-1599411200_eve-3307135_name-SUN   35  \n",
       "2  time-1599447278_eve-3308179_name-MATSU    9  \n",
       "3   time-1599454213_eve-3308371_name-LUNA    5  \n",
       "4  time-1599447278_eve-3308179_name-MATSU    9  "
      ]
     },
     "execution_count": 11,
     "metadata": {},
     "output_type": "execute_result"
    }
   ],
   "source": [
    "life_df = pd.merge(log_df, expert_df, on=['player', 'avatar'])\n",
    "print(life_df.shape)\n",
    "life_df = pd.merge(life_df, fam_members, on=['avatar'])\n",
    "print(life_df.shape)\n",
    "life_df.head()"
   ]
  },
  {
   "cell_type": "markdown",
   "metadata": {},
   "source": [
    "### Lifelog collection"
   ]
  },
  {
   "cell_type": "markdown",
   "metadata": {},
   "source": [
    "Convert to record:"
   ]
  },
  {
   "cell_type": "code",
   "execution_count": 12,
   "metadata": {},
   "outputs": [
    {
     "name": "stdout",
     "output_type": "stream",
     "text": [
      "Saving 470361 records\n",
      "[{'player': '310d12780dbb316a3b50f83adbf9ce76973172bb', 'avatar': 3308597, 'tBirth': 1599462620, 'parent': 3308571, 'birth': '[-63756   -508]', 'tDeath': 1599464354.0, 'death': '[-63841   -520]', 'age': 28.89, 'cause_of_death': 'hunger', 'birthX': -63756, 'birthY': -508, 'deathX': -63841.0, 'deathY': -520.0, 'first': 'MODOU', 'last': 'MATSU', 'n_life': 0, 'gametime': 0.0, 'family': 'time-1599447278_eve-3308179_name-MATSU', 'gen': 9}, {'player': 'de586e48a15f97f09e71355fcc82cea88d29633a', 'avatar': 3308595, 'tBirth': 1599462571, 'parent': 3308576, 'birth': '[-63788    148]', 'tDeath': 1599464786.0, 'death': '[-63794    187]', 'age': 36.92, 'cause_of_death': 'hunger', 'birthX': -63788, 'birthY': 148, 'deathX': -63794.0, 'deathY': 187.0, 'first': 'VIOLET', 'last': 'SUN', 'n_life': 36, 'gametime': 896.5699999999997, 'family': 'time-1599411200_eve-3307135_name-SUN', 'gen': 35}, {'player': '3da17539b16d6fe6911aefc57388bae9d1303e22', 'avatar': 3308591, 'tBirth': 1599462365, 'parent': 3308571, 'birth': '[-63753   -509]', 'tDeath': 1599465114.0, 'death': '[-63761   -512]', 'age': 45.82, 'cause_of_death': 'hunger', 'birthX': -63753, 'birthY': -509, 'deathX': -63761.0, 'deathY': -512.0, 'first': 'RAIN', 'last': 'MATSU', 'n_life': 599, 'gametime': 8587.950000000008, 'family': 'time-1599447278_eve-3308179_name-MATSU', 'gen': 9}, {'player': '043719a2996d748e294d308706447d2e6ce30181', 'avatar': 3308583, 'tBirth': 1599462113, 'parent': 3308537, 'birth': '[-63797   -173]', 'tDeath': 1599463320.0, 'death': '[-63788   -209]', 'age': 20.11, 'cause_of_death': 'hunger', 'birthX': -63797, 'birthY': -173, 'deathX': -63788.0, 'deathY': -209.0, 'first': 'STAR', 'last': 'LUNA', 'n_life': 0, 'gametime': 0.0, 'family': 'time-1599454213_eve-3308371_name-LUNA', 'gen': 5}, {'player': '49bd234c63fac4073c98cc23dab916528f87e634', 'avatar': 3308581, 'tBirth': 1599461853, 'parent': 3308545, 'birth': '[-63752   -512]', 'tDeath': 1599464575.0, 'death': '[-63758   -491]', 'age': 45.37, 'cause_of_death': 'hunger', 'birthX': -63752, 'birthY': -512, 'deathX': -63758.0, 'deathY': -491.0, 'first': 'JANE', 'last': 'MATSU', 'n_life': 3541, 'gametime': 40795.98999999921, 'family': 'time-1599447278_eve-3308179_name-MATSU', 'gen': 9}]\n"
     ]
    }
   ],
   "source": [
    "life_records = life_df.to_dict('records')\n",
    "print('Saving %i records' % len(life_records))\n",
    "print(life_records[:5])"
   ]
  },
  {
   "cell_type": "markdown",
   "metadata": {},
   "source": [
    "Create new collection and save:"
   ]
  },
  {
   "cell_type": "code",
   "execution_count": 18,
   "metadata": {},
   "outputs": [
    {
     "data": {
      "text/plain": [
       "<pymongo.results.InsertManyResult at 0x7fcadc334f00>"
      ]
     },
     "execution_count": 18,
     "metadata": {},
     "output_type": "execute_result"
    }
   ],
   "source": [
    "life_col = db.lifelogs\n",
    "life_col.insert_many(life_records)"
   ]
  },
  {
   "cell_type": "markdown",
   "metadata": {},
   "source": [
    "### Family collection"
   ]
  },
  {
   "cell_type": "code",
   "execution_count": 40,
   "metadata": {},
   "outputs": [
    {
     "data": {
      "application/vnd.jupyter.widget-view+json": {
       "model_id": "93a37fc784384caab95d0b3802f2b59a",
       "version_major": 2,
       "version_minor": 0
      },
      "text/plain": [
       "HBox(children=(FloatProgress(value=0.0, max=4146.0), HTML(value='')))"
      ]
     },
     "metadata": {},
     "output_type": "display_data"
    },
    {
     "name": "stdout",
     "output_type": "stream",
     "text": [
      "\n",
      "[{'family': 'time-1573253679_eve-2251043_name-MCCRACKEN', 'sum': 2, 'count': 9, 'a': 5, 'b': 10, 'beta_mean': 0.3333333333333333, 'beta_var': 0.013888888888888888, 'snr': 24.0, 'weighted_size': 3.0, 'longest_path': 3, 'members': [2251244, 2251239, 2251236, 2251234, 2251127, 2251125, 2251105, 2251079, 2251044, 2251043]}, {'family': 'time-1573253705_eve-2251049_name-FINCH', 'sum': 1, 'count': 8, 'a': 4, 'b': 10, 'beta_mean': 0.2857142857142857, 'beta_var': 0.013605442176870748, 'snr': 21.0, 'weighted_size': 2.2857142857142856, 'longest_path': 2, 'members': [2251267, 2251249, 2251223, 2251183, 2251161, 2251093, 2251050, 2251049]}, {'family': 'time-1573253707_eve-2251051_name-SORROWS', 'sum': 1, 'count': 3, 'a': 4, 'b': 5, 'beta_mean': 0.4444444444444444, 'beta_var': 0.02469135802469136, 'snr': 18.0, 'weighted_size': 1.3333333333333333, 'longest_path': 2, 'members': [2251139, 2251083, 2251051]}, {'family': 'time-1573253710_eve-2251053_name-LION', 'sum': 9, 'count': 40, 'a': 12, 'b': 34, 'beta_mean': 0.2608695652173913, 'beta_var': 0.004102481599163415, 'snr': 63.58823529411765, 'weighted_size': 10.434782608695652, 'longest_path': 4, 'members': [2251814, 2251797, 2251780, 2251740, 2251674, 2251645, 2251633, 2251614, 2251613, 2251609, 2251599, 2251584, 2251582, 2251576, 2251552, 2251538, 2251521, 2251519, 2251512, 2251505, 2251467, 2251439, 2251375, 2251346, 2251327, 2251306, 2251297, 2251291, 2251285, 2251284, 2251280, 2251262, 2251255, 2251245, 2251240, 2251227, 2251194, 2251181, 2251140, 2251128, 2251114, 2251068, 2251060, 2251053]}, {'family': 'time-1573253711_eve-2251054_name-DEADRICK', 'sum': 33, 'count': 86, 'a': 36, 'b': 56, 'beta_mean': 0.39130434782608703, 'beta_var': 0.002561131776327825, 'snr': 152.78571428571433, 'weighted_size': 33.65217391304348, 'longest_path': 7, 'members': [2252176, 2252172, 2252157, 2252155, 2252149, 2252147, 2252137, 2252134, 2252107, 2252102, 2252095, 2252090, 2252089, 2252088, 2252079, 2252078, 2252059, 2252051, 2252027, 2252005, 2251977, 2251895, 2251883, 2251876, 2251866, 2251807, 2251792, 2251787, 2251784, 2251781, 2251779, 2251777, 2251749, 2251745, 2251746, 2251744, 2251739, 2251738, 2251727, 2251724, 2251722, 2251711, 2251705, 2251703, 2251682, 2251680, 2251663, 2251657, 2251643, 2251632, 2251626, 2251623, 2251618, 2251612, 2251597, 2251596, 2251575, 2251561, 2251557, 2251510, 2251499, 2251496, 2251491, 2251486, 2251459, 2251440, 2251437, 2251424, 2251416, 2251396, 2251382, 2251380, 2251378, 2251356, 2251353, 2251337, 2251335, 2251331, 2251313, 2251296, 2251288, 2251274, 2251263, 2251257, 2251237, 2251197, 2251186, 2251165, 2251121, 2251111, 2251089, 2251054]}]\n"
     ]
    }
   ],
   "source": [
    "fam_in = fam_success.to_dict('records')\n",
    "fam_records = []\n",
    "for in_dict in notebook.tqdm(fam_in):\n",
    "    fam = in_dict['family']\n",
    "    members = life_df[life_df['family'] == fam]['avatar']\n",
    "    members = list(members)\n",
    "    \n",
    "    out_dict = in_dict.copy()\n",
    "    out_dict['members'] = members\n",
    "    fam_records.append(out_dict)\n",
    "    \n",
    "print(fam_records[:5])"
   ]
  },
  {
   "cell_type": "markdown",
   "metadata": {},
   "source": [
    "Create new collection and save:"
   ]
  },
  {
   "cell_type": "code",
   "execution_count": 41,
   "metadata": {},
   "outputs": [
    {
     "data": {
      "text/plain": [
       "<pymongo.results.InsertManyResult at 0x7fcad8d894b0>"
      ]
     },
     "execution_count": 41,
     "metadata": {},
     "output_type": "execute_result"
    }
   ],
   "source": [
    "fam_col = db.families\n",
    "fam_col.insert_many(fam_records)"
   ]
  },
  {
   "cell_type": "code",
   "execution_count": null,
   "metadata": {},
   "outputs": [],
   "source": []
  }
 ],
 "metadata": {
  "kernelspec": {
   "display_name": "Python 3",
   "language": "python",
   "name": "python3"
  },
  "language_info": {
   "codemirror_mode": {
    "name": "ipython",
    "version": 3
   },
   "file_extension": ".py",
   "mimetype": "text/x-python",
   "name": "python",
   "nbconvert_exporter": "python",
   "pygments_lexer": "ipython3",
   "version": "3.7.6"
  }
 },
 "nbformat": 4,
 "nbformat_minor": 4
}
