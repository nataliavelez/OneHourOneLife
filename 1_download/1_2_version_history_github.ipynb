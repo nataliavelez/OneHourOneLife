{
 "cells": [
  {
   "cell_type": "markdown",
   "metadata": {},
   "source": [
    "# Full version history\n",
    "Natalia Vélez, June 2020\n",
    "\n",
    "\n",
    "So far, we've tried different data sources to generate the version history:\n",
    " \n",
    " * OHOL Wiki (December 2019) - Out of date\n",
    " * Read the release history directly from the [OneLife repository](https://github.com/jasonrohrer/OneLife/releases)\n",
    " * Read the release history directly from the [OneLifeData7 repository](https://github.com/jasonrohrer/OneLifeData7/releases)\n",
    " \n",
    " \n",
    "The last two sources have a lot of overlap, but there are some releases that appear in the game updates, but not in the data updates, and vice versa. (This includes some very important releases, such as the boundless world update.) In this script, we're going to scrape these two sources and get the union between the two to get a more complete version history."
   ]
  },
  {
   "cell_type": "code",
   "execution_count": 1,
   "metadata": {},
   "outputs": [],
   "source": [
    "import pandas as pd\n",
    "import numpy as np\n",
    "import datetime, re, requests"
   ]
  },
  {
   "cell_type": "markdown",
   "metadata": {},
   "source": [
    "# Building release history\n",
    "\n",
    "I navigated to an up-to-date clone of the OneLifeData7 and OneLife repositories and saved the tag history to a file using the following bash command:\n",
    "\n",
    "```\n",
    "git for-each-ref --format=\"%(refname:short)$(echo -e '\\t')%(creatordate)\" refs/tags/* > onelife_tag_timestamps_20190709.txt\n",
    "```\n"
   ]
  },
  {
   "cell_type": "markdown",
   "metadata": {},
   "source": [
    "Read tag history:"
   ]
  },
  {
   "cell_type": "code",
   "execution_count": 2,
   "metadata": {},
   "outputs": [
    {
     "data": {
      "text/html": [
       "<div>\n",
       "<style scoped>\n",
       "    .dataframe tbody tr th:only-of-type {\n",
       "        vertical-align: middle;\n",
       "    }\n",
       "\n",
       "    .dataframe tbody tr th {\n",
       "        vertical-align: top;\n",
       "    }\n",
       "\n",
       "    .dataframe thead th {\n",
       "        text-align: right;\n",
       "    }\n",
       "</style>\n",
       "<table border=\"1\" class=\"dataframe\">\n",
       "  <thead>\n",
       "    <tr style=\"text-align: right;\">\n",
       "      <th></th>\n",
       "      <th>release</th>\n",
       "      <th>timestamp</th>\n",
       "    </tr>\n",
       "  </thead>\n",
       "  <tbody>\n",
       "    <tr>\n",
       "      <th>35</th>\n",
       "      <td>OneLife_v16</td>\n",
       "      <td>Fri Apr 14 14:49:48 2017 -0700</td>\n",
       "    </tr>\n",
       "    <tr>\n",
       "      <th>28</th>\n",
       "      <td>OneLife_v16</td>\n",
       "      <td>Fri Apr 14 18:31:46 2017 -0700</td>\n",
       "    </tr>\n",
       "    <tr>\n",
       "      <th>38</th>\n",
       "      <td>OneLife_v17</td>\n",
       "      <td>Fri Apr 14 20:07:00 2017 -0700</td>\n",
       "    </tr>\n",
       "    <tr>\n",
       "      <th>113</th>\n",
       "      <td>OneLife_v328</td>\n",
       "      <td>Fri Apr 17 21:55:26 2020 +0000</td>\n",
       "    </tr>\n",
       "    <tr>\n",
       "      <th>137</th>\n",
       "      <td>OneLife_v329</td>\n",
       "      <td>Fri Apr 17 22:27:56 2020 +0000</td>\n",
       "    </tr>\n",
       "  </tbody>\n",
       "</table>\n",
       "</div>"
      ],
      "text/plain": [
       "          release                       timestamp\n",
       "35    OneLife_v16  Fri Apr 14 14:49:48 2017 -0700\n",
       "28    OneLife_v16  Fri Apr 14 18:31:46 2017 -0700\n",
       "38    OneLife_v17  Fri Apr 14 20:07:00 2017 -0700\n",
       "113  OneLife_v328  Fri Apr 17 21:55:26 2020 +0000\n",
       "137  OneLife_v329  Fri Apr 17 22:27:56 2020 +0000"
      ]
     },
     "execution_count": 2,
     "metadata": {},
     "output_type": "execute_result"
    }
   ],
   "source": [
    "# Source: jasonrohrer/OneLifeData7\n",
    "tag_onelifedata = pd.read_csv('inputs/onelifedata_tag_timestamps.txt', sep='\\t', names=['release','timestamp'])\n",
    "\n",
    "# Source: jasonrohrer/OneLife\n",
    "tag_onelife = pd.read_csv('inputs/onelife_tag_timestamps.txt', sep='\\t', names=['release','timestamp'])\n",
    "\n",
    "# Merge\n",
    "tag_orig = pd.concat([tag_onelifedata, tag_onelife])\n",
    "tag_orig = tag_orig.sort_values(by = 'timestamp')\n",
    "\n",
    "tag_orig.head()"
   ]
  },
  {
   "cell_type": "markdown",
   "metadata": {},
   "source": [
    "Clean up:"
   ]
  },
  {
   "cell_type": "code",
   "execution_count": 3,
   "metadata": {},
   "outputs": [
    {
     "data": {
      "text/html": [
       "<div>\n",
       "<style scoped>\n",
       "    .dataframe tbody tr th:only-of-type {\n",
       "        vertical-align: middle;\n",
       "    }\n",
       "\n",
       "    .dataframe tbody tr th {\n",
       "        vertical-align: top;\n",
       "    }\n",
       "\n",
       "    .dataframe thead th {\n",
       "        text-align: right;\n",
       "    }\n",
       "</style>\n",
       "<table border=\"1\" class=\"dataframe\">\n",
       "  <thead>\n",
       "    <tr style=\"text-align: right;\">\n",
       "      <th></th>\n",
       "      <th>release</th>\n",
       "      <th>timestamp</th>\n",
       "    </tr>\n",
       "  </thead>\n",
       "  <tbody>\n",
       "    <tr>\n",
       "      <th>0</th>\n",
       "      <td>1</td>\n",
       "      <td>1.483052e+09</td>\n",
       "    </tr>\n",
       "    <tr>\n",
       "      <th>1</th>\n",
       "      <td>5</td>\n",
       "      <td>1.483472e+09</td>\n",
       "    </tr>\n",
       "    <tr>\n",
       "      <th>2</th>\n",
       "      <td>8</td>\n",
       "      <td>1.484065e+09</td>\n",
       "    </tr>\n",
       "    <tr>\n",
       "      <th>3</th>\n",
       "      <td>14</td>\n",
       "      <td>1.484961e+09</td>\n",
       "    </tr>\n",
       "    <tr>\n",
       "      <th>5</th>\n",
       "      <td>16</td>\n",
       "      <td>1.492207e+09</td>\n",
       "    </tr>\n",
       "    <tr>\n",
       "      <th>...</th>\n",
       "      <td>...</td>\n",
       "      <td>...</td>\n",
       "    </tr>\n",
       "    <tr>\n",
       "      <th>331</th>\n",
       "      <td>340</td>\n",
       "      <td>1.590206e+09</td>\n",
       "    </tr>\n",
       "    <tr>\n",
       "      <th>332</th>\n",
       "      <td>341</td>\n",
       "      <td>1.590869e+09</td>\n",
       "    </tr>\n",
       "    <tr>\n",
       "      <th>333</th>\n",
       "      <td>342</td>\n",
       "      <td>1.590886e+09</td>\n",
       "    </tr>\n",
       "    <tr>\n",
       "      <th>334</th>\n",
       "      <td>344</td>\n",
       "      <td>1.593238e+09</td>\n",
       "    </tr>\n",
       "    <tr>\n",
       "      <th>335</th>\n",
       "      <td>346</td>\n",
       "      <td>1.593821e+09</td>\n",
       "    </tr>\n",
       "  </tbody>\n",
       "</table>\n",
       "<p>335 rows × 2 columns</p>\n",
       "</div>"
      ],
      "text/plain": [
       "     release     timestamp\n",
       "0          1  1.483052e+09\n",
       "1          5  1.483472e+09\n",
       "2          8  1.484065e+09\n",
       "3         14  1.484961e+09\n",
       "5         16  1.492207e+09\n",
       "..       ...           ...\n",
       "331      340  1.590206e+09\n",
       "332      341  1.590869e+09\n",
       "333      342  1.590886e+09\n",
       "334      344  1.593238e+09\n",
       "335      346  1.593821e+09\n",
       "\n",
       "[335 rows x 2 columns]"
      ]
     },
     "execution_count": 3,
     "metadata": {},
     "output_type": "execute_result"
    }
   ],
   "source": [
    "# Helper: Parse Git timestamp\n",
    "def parse_tstamp(s): return datetime.datetime.strptime(s, '%a %b %d %H:%M:%S %Y %z')\n",
    "\n",
    "tag_df = tag_orig.copy()\n",
    "tag_df['release'] = tag_df.release.str.replace('vStart', 'v0')\n",
    "tag_df['release'] = tag_df.release.str.extract(r'([0-9]+)')\n",
    "tag_df['release'] = pd.to_numeric(tag_df.release)\n",
    "\n",
    "tag_df['timestamp'] = tag_df.timestamp.apply(parse_tstamp)\n",
    "tag_df['timestamp'] = tag_df.timestamp.apply(lambda t: t.timestamp())\n",
    "\n",
    "tag_df = tag_df.sort_values('timestamp', ignore_index = True)\n",
    "tag_df = tag_df[np.isfinite(tag_df['release']) & (tag_df['release'] > 0)]\n",
    "tag_df['release'] = tag_df['release'].astype(np.int)\n",
    "tag_df"
   ]
  },
  {
   "cell_type": "markdown",
   "metadata": {},
   "source": [
    "Check duplicate tags?"
   ]
  },
  {
   "cell_type": "code",
   "execution_count": 4,
   "metadata": {},
   "outputs": [
    {
     "name": "stdout",
     "output_type": "stream",
     "text": [
      "OneLifeData7 releases: 185 entries\n",
      "OneLife releases: 152 entries\n",
      "Latest update: 346\n"
     ]
    }
   ],
   "source": [
    "data_releases = tag_onelifedata.release.values\n",
    "game_releases = tag_onelife.release.values\n",
    "\n",
    "print('OneLifeData7 releases: %i entries' % len(data_releases))\n",
    "print('OneLife releases: %i entries' % len(game_releases))\n",
    "print('Latest update: %i' % np.max(tag_df.release))"
   ]
  },
  {
   "cell_type": "markdown",
   "metadata": {},
   "source": [
    "Overlaps between the two?"
   ]
  },
  {
   "cell_type": "code",
   "execution_count": 5,
   "metadata": {},
   "outputs": [
    {
     "name": "stdout",
     "output_type": "stream",
     "text": [
      "Overlaps: 2\n",
      "['OneLife_v16' 'OneLife_v20']\n"
     ]
    }
   ],
   "source": [
    "duplicate_releases = np.intersect1d(data_releases, game_releases)\n",
    "print('Overlaps: %s' % len(duplicate_releases))\n",
    "print(duplicate_releases)"
   ]
  },
  {
   "cell_type": "code",
   "execution_count": 6,
   "metadata": {},
   "outputs": [
    {
     "data": {
      "text/html": [
       "<div>\n",
       "<style scoped>\n",
       "    .dataframe tbody tr th:only-of-type {\n",
       "        vertical-align: middle;\n",
       "    }\n",
       "\n",
       "    .dataframe tbody tr th {\n",
       "        vertical-align: top;\n",
       "    }\n",
       "\n",
       "    .dataframe thead th {\n",
       "        text-align: right;\n",
       "    }\n",
       "</style>\n",
       "<table border=\"1\" class=\"dataframe\">\n",
       "  <thead>\n",
       "    <tr style=\"text-align: right;\">\n",
       "      <th></th>\n",
       "      <th>release</th>\n",
       "      <th>timestamp</th>\n",
       "    </tr>\n",
       "  </thead>\n",
       "  <tbody>\n",
       "    <tr>\n",
       "      <th>0</th>\n",
       "      <td>1</td>\n",
       "      <td>1.483052e+09</td>\n",
       "    </tr>\n",
       "    <tr>\n",
       "      <th>1</th>\n",
       "      <td>5</td>\n",
       "      <td>1.483472e+09</td>\n",
       "    </tr>\n",
       "    <tr>\n",
       "      <th>2</th>\n",
       "      <td>8</td>\n",
       "      <td>1.484065e+09</td>\n",
       "    </tr>\n",
       "    <tr>\n",
       "      <th>3</th>\n",
       "      <td>14</td>\n",
       "      <td>1.484961e+09</td>\n",
       "    </tr>\n",
       "    <tr>\n",
       "      <th>4</th>\n",
       "      <td>16</td>\n",
       "      <td>1.492207e+09</td>\n",
       "    </tr>\n",
       "    <tr>\n",
       "      <th>...</th>\n",
       "      <td>...</td>\n",
       "      <td>...</td>\n",
       "    </tr>\n",
       "    <tr>\n",
       "      <th>328</th>\n",
       "      <td>340</td>\n",
       "      <td>1.590206e+09</td>\n",
       "    </tr>\n",
       "    <tr>\n",
       "      <th>329</th>\n",
       "      <td>341</td>\n",
       "      <td>1.590869e+09</td>\n",
       "    </tr>\n",
       "    <tr>\n",
       "      <th>330</th>\n",
       "      <td>342</td>\n",
       "      <td>1.590886e+09</td>\n",
       "    </tr>\n",
       "    <tr>\n",
       "      <th>331</th>\n",
       "      <td>344</td>\n",
       "      <td>1.593238e+09</td>\n",
       "    </tr>\n",
       "    <tr>\n",
       "      <th>332</th>\n",
       "      <td>346</td>\n",
       "      <td>1.593821e+09</td>\n",
       "    </tr>\n",
       "  </tbody>\n",
       "</table>\n",
       "<p>333 rows × 2 columns</p>\n",
       "</div>"
      ],
      "text/plain": [
       "     release     timestamp\n",
       "0          1  1.483052e+09\n",
       "1          5  1.483472e+09\n",
       "2          8  1.484065e+09\n",
       "3         14  1.484961e+09\n",
       "4         16  1.492207e+09\n",
       "..       ...           ...\n",
       "328      340  1.590206e+09\n",
       "329      341  1.590869e+09\n",
       "330      342  1.590886e+09\n",
       "331      344  1.593238e+09\n",
       "332      346  1.593821e+09\n",
       "\n",
       "[333 rows x 2 columns]"
      ]
     },
     "execution_count": 6,
     "metadata": {},
     "output_type": "execute_result"
    }
   ],
   "source": [
    "tag_df_nodupe = tag_df.groupby('release')['timestamp'].min().reset_index()\n",
    "tag_df_nodup = tag_df_nodupe.sort_values(by='timestamp')\n",
    "tag_df_nodupe"
   ]
  },
  {
   "cell_type": "markdown",
   "metadata": {},
   "source": [
    "Save to file:"
   ]
  },
  {
   "cell_type": "code",
   "execution_count": 7,
   "metadata": {},
   "outputs": [],
   "source": [
    "tag_df_nodupe.to_csv('outputs/version_history.tsv', sep='\\t', index=None)"
   ]
  }
 ],
 "metadata": {
  "kernelspec": {
   "display_name": "Python [conda env:.conda-py3]",
   "language": "python",
   "name": "conda-env-.conda-py3-py"
  },
  "language_info": {
   "codemirror_mode": {
    "name": "ipython",
    "version": 3
   },
   "file_extension": ".py",
   "mimetype": "text/x-python",
   "name": "python",
   "nbconvert_exporter": "python",
   "pygments_lexer": "ipython3",
   "version": "3.6.10"
  }
 },
 "nbformat": 4,
 "nbformat_minor": 2
}
