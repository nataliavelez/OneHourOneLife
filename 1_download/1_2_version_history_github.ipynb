{
 "cells": [
  {
   "cell_type": "markdown",
   "metadata": {},
   "source": [
    "# Full version history\n",
    "Natalia Vélez, June 2020\n",
    "\n",
    "\n",
    "So far, we've tried different data sources to generate the version history:\n",
    " \n",
    " * OHOL Wiki (December 2019) - Out of date\n",
    " * Scraped from [changeLog](https://github.com/jasonrohrer/OneLife/blob/master/documentation/changeLog.txt) (January 2020) - Skips over certain versions\n",
    " \n",
    "Now, we're going to just read the release history directly from the [OneLifeData7 repository](https://github.com/jasonrohrer/OneLifeData7/releases). I navigated to an up-tod-date, local copy of the repository and saved the tag history using the following bash command:\n",
    "\n",
    "```\n",
    "git for-each-ref --format=\"%(refname:short)$(echo -e '\\t')%(creatordate)\" refs/tags/* > onelife_tag_timestamps_20190617.txt\n",
    "```\n",
    "\n",
    "Then saved the resulting .txt file to `inputs/`, here. In this script, we're just going to clean this up and parse the timestamp."
   ]
  },
  {
   "cell_type": "code",
   "execution_count": 1,
   "metadata": {},
   "outputs": [],
   "source": [
    "import pandas as pd\n",
    "import datetime, re"
   ]
  },
  {
   "cell_type": "markdown",
   "metadata": {},
   "source": [
    "Input file:"
   ]
  },
  {
   "cell_type": "code",
   "execution_count": 2,
   "metadata": {},
   "outputs": [
    {
     "data": {
      "text/html": [
       "<div>\n",
       "<style scoped>\n",
       "    .dataframe tbody tr th:only-of-type {\n",
       "        vertical-align: middle;\n",
       "    }\n",
       "\n",
       "    .dataframe tbody tr th {\n",
       "        vertical-align: top;\n",
       "    }\n",
       "\n",
       "    .dataframe thead th {\n",
       "        text-align: right;\n",
       "    }\n",
       "</style>\n",
       "<table border=\"1\" class=\"dataframe\">\n",
       "  <thead>\n",
       "    <tr style=\"text-align: right;\">\n",
       "      <th></th>\n",
       "      <th>release</th>\n",
       "      <th>timestamp</th>\n",
       "    </tr>\n",
       "  </thead>\n",
       "  <tbody>\n",
       "    <tr>\n",
       "      <th>0</th>\n",
       "      <td>OneLife_v101</td>\n",
       "      <td>Fri May 25 23:39:23 2018 +0000</td>\n",
       "    </tr>\n",
       "    <tr>\n",
       "      <th>1</th>\n",
       "      <td>OneLife_v103</td>\n",
       "      <td>Fri Jun 1 01:44:06 2018 +0000</td>\n",
       "    </tr>\n",
       "    <tr>\n",
       "      <th>2</th>\n",
       "      <td>OneLife_v104</td>\n",
       "      <td>Fri Jun 1 17:06:36 2018 +0000</td>\n",
       "    </tr>\n",
       "    <tr>\n",
       "      <th>3</th>\n",
       "      <td>OneLife_v106</td>\n",
       "      <td>Mon Jun 4 20:00:16 2018 +0000</td>\n",
       "    </tr>\n",
       "    <tr>\n",
       "      <th>4</th>\n",
       "      <td>OneLife_v108</td>\n",
       "      <td>Sat Jun 9 00:57:56 2018 +0000</td>\n",
       "    </tr>\n",
       "  </tbody>\n",
       "</table>\n",
       "</div>"
      ],
      "text/plain": [
       "        release                       timestamp\n",
       "0  OneLife_v101  Fri May 25 23:39:23 2018 +0000\n",
       "1  OneLife_v103   Fri Jun 1 01:44:06 2018 +0000\n",
       "2  OneLife_v104   Fri Jun 1 17:06:36 2018 +0000\n",
       "3  OneLife_v106   Mon Jun 4 20:00:16 2018 +0000\n",
       "4  OneLife_v108   Sat Jun 9 00:57:56 2018 +0000"
      ]
     },
     "execution_count": 2,
     "metadata": {},
     "output_type": "execute_result"
    }
   ],
   "source": [
    "log_original = pd.read_csv('inputs/onelife_tag_timestamps_20200617.txt', sep='\\t', names=['release','timestamp'])\n",
    "log_original.head()"
   ]
  },
  {
   "cell_type": "markdown",
   "metadata": {},
   "source": [
    "Clean up:"
   ]
  },
  {
   "cell_type": "code",
   "execution_count": 3,
   "metadata": {},
   "outputs": [],
   "source": [
    "?pd.DataFrame.sort_values"
   ]
  },
  {
   "cell_type": "code",
   "execution_count": 4,
   "metadata": {},
   "outputs": [
    {
     "data": {
      "text/html": [
       "<div>\n",
       "<style scoped>\n",
       "    .dataframe tbody tr th:only-of-type {\n",
       "        vertical-align: middle;\n",
       "    }\n",
       "\n",
       "    .dataframe tbody tr th {\n",
       "        vertical-align: top;\n",
       "    }\n",
       "\n",
       "    .dataframe thead th {\n",
       "        text-align: right;\n",
       "    }\n",
       "</style>\n",
       "<table border=\"1\" class=\"dataframe\">\n",
       "  <thead>\n",
       "    <tr style=\"text-align: right;\">\n",
       "      <th></th>\n",
       "      <th>release</th>\n",
       "      <th>timestamp</th>\n",
       "    </tr>\n",
       "  </thead>\n",
       "  <tbody>\n",
       "    <tr>\n",
       "      <th>0</th>\n",
       "      <td>0</td>\n",
       "      <td>1.490908e+09</td>\n",
       "    </tr>\n",
       "    <tr>\n",
       "      <th>1</th>\n",
       "      <td>16</td>\n",
       "      <td>1.492207e+09</td>\n",
       "    </tr>\n",
       "    <tr>\n",
       "      <th>2</th>\n",
       "      <td>17</td>\n",
       "      <td>1.492226e+09</td>\n",
       "    </tr>\n",
       "    <tr>\n",
       "      <th>3</th>\n",
       "      <td>19</td>\n",
       "      <td>1.492472e+09</td>\n",
       "    </tr>\n",
       "    <tr>\n",
       "      <th>4</th>\n",
       "      <td>20</td>\n",
       "      <td>1.495232e+09</td>\n",
       "    </tr>\n",
       "  </tbody>\n",
       "</table>\n",
       "</div>"
      ],
      "text/plain": [
       "   release     timestamp\n",
       "0        0  1.490908e+09\n",
       "1       16  1.492207e+09\n",
       "2       17  1.492226e+09\n",
       "3       19  1.492472e+09\n",
       "4       20  1.495232e+09"
      ]
     },
     "execution_count": 4,
     "metadata": {},
     "output_type": "execute_result"
    }
   ],
   "source": [
    "# Helper: Parse Git timestamp\n",
    "def parse_tstamp(s): return datetime.datetime.strptime(s, '%a %b %d %H:%M:%S %Y %z')\n",
    "\n",
    "log_df = log_original.copy()\n",
    "log_df['release'] = log_df.release.str.replace('vStart', 'v0')\n",
    "log_df['release'] = log_df.release.str.extract(r'([0-9]+)')\n",
    "log_df['release'] = pd.to_numeric(log_df.release)\n",
    "\n",
    "log_df['timestamp'] = log_df.timestamp.apply(parse_tstamp)\n",
    "log_df['timestamp'] = log_df.timestamp.apply(lambda t: t.timestamp())\n",
    "\n",
    "log_df = log_df.sort_values('timestamp', ignore_index = True)\n",
    "log_df.head()\n"
   ]
  },
  {
   "cell_type": "markdown",
   "metadata": {},
   "source": [
    "Save to file:"
   ]
  },
  {
   "cell_type": "code",
   "execution_count": 5,
   "metadata": {},
   "outputs": [],
   "source": [
    "log_df.to_csv('outputs/version_history.tsv', sep='\\t', index=None)"
   ]
  }
 ],
 "metadata": {
  "kernelspec": {
   "display_name": "Python 3",
   "language": "python",
   "name": "python3"
  },
  "language_info": {
   "codemirror_mode": {
    "name": "ipython",
    "version": 3
   },
   "file_extension": ".py",
   "mimetype": "text/x-python",
   "name": "python",
   "nbconvert_exporter": "python",
   "pygments_lexer": "ipython3",
   "version": "3.7.6"
  }
 },
 "nbformat": 4,
 "nbformat_minor": 2
}
